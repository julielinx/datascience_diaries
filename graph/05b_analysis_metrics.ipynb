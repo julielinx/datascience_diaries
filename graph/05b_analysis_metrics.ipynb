{
 "cells": [
  {
   "cell_type": "markdown",
   "metadata": {},
   "source": [
    "# Entry G5.5: Analysis Metrics"
   ]
  },
  {
   "cell_type": "markdown",
   "metadata": {},
   "source": [
    "I am 100% adding this entry retroactively. And yes, I dated it wrong so it would show up in the right order in the Post list. That's the nice thing about digital diaries: you can insert things in after the fact. It wasn't until I was working on entries G12 and G13 that I realized I hadn't posted all the analysis metrics I plan to address.\n",
    "\n",
    "There is no guarantee that I'll address all metrics under a single category in one post and no guarantee I'll post them in the order listed. Although, I may update the list after the entries are live to reflect how they end up grouped.\n",
    "\n",
    "I put together this list from my research into network theory, including:\n",
    "\n",
    "- [Networks](https://www.amazon.com/Networks-Mark-Newman/dp/0198805098) by Mark Newman\n",
    "- The online book [Network Science](http://networksciencebook.com/) by Albert-László Barabási as well as other books by him and his [online material](https://barabasi.com/publications)\n",
    "- [Graph Algorithms](https://neo4j.com/graph-algorithms-book/) by Mark Needham and Amy Hodler\n",
    "- [Graph Databases](https://neo4j.com/graph-databases-book/) by Ian Robinson, Jim Webber and Emil Eifrem\n",
    "- [Connected](https://neo4j.com/books/connected/) by Nicholas Christakis and James Fowler\n",
    "- [Graph People Blog](https://tbgraph.wordpress.com/)\n",
    "- Courses/videos/tutorials/blog posts through [Neo4j](https://neo4j.com/graphacademy/)\n",
    "- Others that I've obviously forgotten about by name\n",
    "\n",
    "I'm not going to go into any detail on any of these topics in this entry. I'll cover what each metric is and how it applies to data in the relevant entries.\n",
    "\n",
    "If I'm feeling ambitious, I might come back and put the links to the relevant entries once they've been posted, like I've done for Global Metrics."
   ]
  },
  {
   "cell_type": "markdown",
   "metadata": {},
   "source": [
    "### Global Metrics\n",
    "\n",
    "1. [Entry G6: Global Counts](https://julielinx.github.io/blog/g06_global_counts/) and [Entry 14: Global Counts Comparison](https://julielinx.github.io/blog/g14_global_counts_comparison/)\n",
    "  - Node count\n",
    "  - Isolates count and percent\n",
    "  - Relationship count\n",
    "2. [Entry G7: Global Density and Diameter](https://julielinx.github.io/blog/g07_global_density_diameter/), [Entry 15: Global Density Comparison](https://julielinx.github.io/blog/g15_global_density_comparison/), and [Entry 21: Diameter](https://julielinx.github.io/blog/g21_diameter/)\n",
    "  - Number of possible relationships\n",
    "  - Global density\n",
    "  - Diameter\n",
    "3. [Entry G8: Components](https://julielinx.github.io/blog/g08_components/) and [Entry 16: Components Comparison](https://julielinx.github.io/blog/g16_components_comparison/)\n",
    "  - Component count\n",
    "  - Component size\n",
    "  - Component percent"
   ]
  },
  {
   "cell_type": "markdown",
   "metadata": {},
   "source": [
    "### Local Metrics\n",
    "\n",
    "[Entry 18: Egocentric Network](https://github.com/julielinx/datascience_diaries/blob/master/graph/18_egonet.ipynb) - how to define a neighborhood or subgraph to calculate a local metric.\n",
    "\n",
    "1. [Entry 10: Local Metrics](https://julielinx.github.io/blog/g10_local_metrics/): first pass, accompanying notebooks use multiple separate graphs\n",
    "  - Degree Count\n",
    "  - Degree Descriptive Statistics\n",
    "  - Degree Distribution Charts\n",
    "  - Weighted Degree Count\n",
    "  - Weighted Degree Descriptive Statistics\n",
    "  - Weighted Degree Distribution Charts\n",
    "2. [Entry 12: Degree Comparison](https://julielinx.github.io/blog/g12_degree_comparison/): Unweighted degrees refined, accompanying notebooks use a single multi-graph database\n",
    "  - Degree Count\n",
    "  - Degree Descriptive Statistics\n",
    "  - Degree Distribution Charts\n",
    "3. [Entry 13: Weighted Degree Comparison](https://julielinx.github.io/blog/g13_weighted_degree_comparison/): Weighted degrees refined, accompanying notebook uses a single multi-graph database\n",
    "  - Weighted Degree Count\n",
    "  - Weighted Degree Descriptive Statistics\n",
    "  - Weighted Degree Distribution Charts\n",
    "4. [Entry 19: Neighborhood Node Counts](https://github.com/julielinx/datascience_diaries/blob/master/graph/19_neighborhood_node_cts.ipynb)\n",
    "  - Count all nodes within a neighborhood\n",
    "  - Count villains within a neighborhood (see [Entry 17: Add Villains](https://github.com/julielinx/datascience_diaries/blob/master/graph/17_add_villains.ipynb) for the rational to add villains and the [Entry 17 notebook](https://github.com/julielinx/datascience_diaries/blob/master/graph/17_nb_add_villains.ipynb) for the code to do it\n",
    "  - Calculate the percentage of villains within a neighborhood\n",
    "5. [Entry G22: Mean Distance Between Connected Nodes](https://julielinx.github.io/blog/g22_avg_dist_conn_nodes/)\n",
    "  - Mean Path Length\n",
    "6. [Entry 23: Egonet Density]()\n",
    "  - Local Nearest Neighbor Densities\n",
    "  - Local Next Nearest Neighbor Densities\n",
    "  - Local Nearest Villain Neighbor Densities\n",
    "  - Local Next Nearest Villain Neighbor Densities\n",
    "  - [Entry 24: Egonet Density Distributions]()"
   ]
  },
  {
   "cell_type": "markdown",
   "metadata": {},
   "source": [
    "### Shortest Path\n",
    "\n",
    "[Entry G20: Shortest Path](https://julielinx.github.io/blog/g20_shortest_path/)\n",
    "- Shortest path to villain\n",
    "- Descriptive statistics\n",
    "- Distribution"
   ]
  },
  {
   "cell_type": "markdown",
   "metadata": {},
   "source": [
    "### Triangles\n",
    "\n",
    "1. Triangles / triads\n",
    "2. Distribution of triangles\n",
    "3. Triangles descriptive statistics"
   ]
  },
  {
   "cell_type": "markdown",
   "metadata": {},
   "source": [
    "### Clustering Coefficient\n",
    "\n",
    "1. Clustering coefficient\n",
    "2. Global clustering coefficient\n",
    "3. Local clustering coefficient\n",
    "4. Distribution of clustering coefficient\n",
    "5. Clustering coefficient descriptive statistics"
   ]
  },
  {
   "cell_type": "markdown",
   "metadata": {},
   "source": [
    "### Tours / Cycles\n",
    "\n",
    "1. Tours / cycles\n",
    "2. Distribution of tours\n",
    "3. Tours descriptive statistics\n",
    "\n",
    "Do differet steps? Triangles covers \\*..2. Figure out how many steps you want to do; 6? 10? At some point it becomes arbitrary due to the large component phenomenon.\n",
    "\n",
    "`MATCH path = (h:Hero)-[r*..6]-(h)\n",
    "RETURN h.name as name, length(path)`"
   ]
  },
  {
   "cell_type": "markdown",
   "metadata": {},
   "source": [
    "### Centralities\n",
    "\n",
    "1. Degree Centrality\n",
    "2. Betweenness Centrality\n",
    "3. Closeness Centrality\n",
    "4. PageRank Centrality\n",
    "5. Eigenvector centrality"
   ]
  },
  {
   "cell_type": "markdown",
   "metadata": {},
   "source": [
    "### K-cores\n",
    "\n",
    "Not sure what I want to do with K-cores. I'll explore it more when I get to it."
   ]
  },
  {
   "cell_type": "markdown",
   "metadata": {},
   "source": [
    "### Other\n",
    "\n",
    "1. Community Detection\n",
    "2. Reciprocity\n",
    "3. Network link analysis"
   ]
  },
  {
   "cell_type": "markdown",
   "metadata": {},
   "source": [
    "### Up Next\n",
    "\n"
   ]
  },
  {
   "cell_type": "code",
   "execution_count": null,
   "metadata": {},
   "outputs": [],
   "source": []
  }
 ],
 "metadata": {
  "kernelspec": {
   "display_name": "Python 3",
   "language": "python",
   "name": "python3"
  },
  "language_info": {
   "codemirror_mode": {
    "name": "ipython",
    "version": 3
   },
   "file_extension": ".py",
   "mimetype": "text/x-python",
   "name": "python",
   "nbconvert_exporter": "python",
   "pygments_lexer": "ipython3",
   "version": "3.8.8"
  }
 },
 "nbformat": 4,
 "nbformat_minor": 4
}
