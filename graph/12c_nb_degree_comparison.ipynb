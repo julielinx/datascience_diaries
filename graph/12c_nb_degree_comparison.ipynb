{
 "cells": [
  {
   "cell_type": "markdown",
   "metadata": {},
   "source": [
    "# Entry G12c notebook: Degree Comparison"
   ]
  },
  {
   "cell_type": "code",
   "execution_count": 1,
   "metadata": {},
   "outputs": [],
   "source": [
    "import numpy as np\n",
    "import pandas as pd\n",
    "import matplotlib.pyplot as plt\n",
    "import seaborn as sns\n",
    "plt.style.use('ggplot')\n",
    "%matplotlib inline\n",
    "\n",
    "import warnings\n",
    "warnings.filterwarnings('once')\n",
    "\n",
    "from neo4j import GraphDatabase"
   ]
  },
  {
   "cell_type": "code",
   "execution_count": 2,
   "metadata": {},
   "outputs": [],
   "source": [
    "uri = \"bolt://localhost:7687\"\n",
    "\n",
    "driver = GraphDatabase.driver(uri, auth=('neo4j', 'password'))\n",
    "\n",
    "uni_session = driver.session(database=\"unimodal\")\n",
    "bi_session = driver.session(database=\"bimodal\")\n",
    "mix_session = driver.session(database=\"mixmodal\")"
   ]
  },
  {
   "cell_type": "markdown",
   "metadata": {},
   "source": [
    "## Degree Count"
   ]
  },
  {
   "cell_type": "code",
   "execution_count": 4,
   "metadata": {},
   "outputs": [
    {
     "data": {
      "text/html": [
       "<div>\n",
       "<style scoped>\n",
       "    .dataframe tbody tr th:only-of-type {\n",
       "        vertical-align: middle;\n",
       "    }\n",
       "\n",
       "    .dataframe tbody tr th {\n",
       "        vertical-align: top;\n",
       "    }\n",
       "\n",
       "    .dataframe thead th {\n",
       "        text-align: right;\n",
       "    }\n",
       "</style>\n",
       "<table border=\"1\" class=\"dataframe\">\n",
       "  <thead>\n",
       "    <tr style=\"text-align: right;\">\n",
       "      <th></th>\n",
       "      <th>rel_type</th>\n",
       "      <th>unimodal</th>\n",
       "      <th>bimodal</th>\n",
       "      <th>mixmodal</th>\n",
       "    </tr>\n",
       "  </thead>\n",
       "  <tbody>\n",
       "    <tr>\n",
       "      <th>0</th>\n",
       "      <td>KNOWS</td>\n",
       "      <td>171644.0</td>\n",
       "      <td>0.0</td>\n",
       "      <td>171644</td>\n",
       "    </tr>\n",
       "    <tr>\n",
       "      <th>1</th>\n",
       "      <td>APPEARS_IN</td>\n",
       "      <td>0.0</td>\n",
       "      <td>96104.0</td>\n",
       "      <td>96104</td>\n",
       "    </tr>\n",
       "  </tbody>\n",
       "</table>\n",
       "</div>"
      ],
      "text/plain": [
       "     rel_type  unimodal  bimodal  mixmodal\n",
       "0       KNOWS  171644.0      0.0    171644\n",
       "1  APPEARS_IN       0.0  96104.0     96104"
      ]
     },
     "execution_count": 4,
     "metadata": {},
     "output_type": "execute_result"
    }
   ],
   "source": [
    "pd.DataFrame(uni_session.run('''MATCH ()-[r]->()\n",
    "RETURN type(r) as rel_type, count(r) as unimodal''').data()).merge(\n",
    "pd.DataFrame(bi_session.run('''MATCH ()-[r]->()\n",
    "RETURN type(r) as rel_type, count(r) as bimodal''').data()), on=\"rel_type\", how='outer').merge(\n",
    "pd.DataFrame(mix_session.run('''MATCH ()-[r]->()\n",
    "RETURN type(r) as rel_type, count(r) as mixmodal''').data()), on='rel_type', how='outer').fillna(0)"
   ]
  },
  {
   "cell_type": "markdown",
   "metadata": {},
   "source": [
    "## Degree Summary Statistics"
   ]
  },
  {
   "cell_type": "markdown",
   "metadata": {},
   "source": [
    "### Hero to Hero"
   ]
  },
  {
   "cell_type": "code",
   "execution_count": 3,
   "metadata": {},
   "outputs": [
    {
     "data": {
      "text/html": [
       "<div>\n",
       "<style scoped>\n",
       "    .dataframe tbody tr th:only-of-type {\n",
       "        vertical-align: middle;\n",
       "    }\n",
       "\n",
       "    .dataframe tbody tr th {\n",
       "        vertical-align: top;\n",
       "    }\n",
       "\n",
       "    .dataframe thead th {\n",
       "        text-align: right;\n",
       "    }\n",
       "</style>\n",
       "<table border=\"1\" class=\"dataframe\">\n",
       "  <thead>\n",
       "    <tr style=\"text-align: right;\">\n",
       "      <th></th>\n",
       "      <th>unimodal</th>\n",
       "      <th>bimodal</th>\n",
       "      <th>mixmodal</th>\n",
       "    </tr>\n",
       "  </thead>\n",
       "  <tbody>\n",
       "    <tr>\n",
       "      <th>degree_min</th>\n",
       "      <td>0.00</td>\n",
       "      <td>0.00</td>\n",
       "      <td>0.00</td>\n",
       "    </tr>\n",
       "    <tr>\n",
       "      <th>degree_max</th>\n",
       "      <td>1919.00</td>\n",
       "      <td>1919.00</td>\n",
       "      <td>1919.00</td>\n",
       "    </tr>\n",
       "    <tr>\n",
       "      <th>degree_avg</th>\n",
       "      <td>53.31</td>\n",
       "      <td>53.31</td>\n",
       "      <td>53.31</td>\n",
       "    </tr>\n",
       "    <tr>\n",
       "      <th>degree_stdev</th>\n",
       "      <td>116.63</td>\n",
       "      <td>116.63</td>\n",
       "      <td>116.63</td>\n",
       "    </tr>\n",
       "  </tbody>\n",
       "</table>\n",
       "</div>"
      ],
      "text/plain": [
       "              unimodal  bimodal  mixmodal\n",
       "degree_min        0.00     0.00      0.00\n",
       "degree_max     1919.00  1919.00   1919.00\n",
       "degree_avg       53.31    53.31     53.31\n",
       "degree_stdev    116.63   116.63    116.63"
      ]
     },
     "execution_count": 3,
     "metadata": {},
     "output_type": "execute_result"
    }
   ],
   "source": [
    "pd.DataFrame(uni_session.run('''MATCH (h)\n",
    "WITH h.name as hero, size((h)--()) as degree\n",
    "RETURN min(degree) as degree_min,\n",
    "max(degree) as degree_max,\n",
    "round(avg(degree)*100)/100 as degree_avg,\n",
    "round(stdev(degree)*100)/100 as degree_stdev''').data()).transpose().rename(columns={0:'unimodal'}).merge(\n",
    "pd.DataFrame(bi_session.run('''MATCH (h1:Hero)\n",
    "OPTIONAL MATCH (h1)-[]->(c)<-[]-(h2)\n",
    "WITH h1, count(distinct h2) as degree\n",
    "RETURN min(degree) as degree_min,\n",
    "max(degree) as degree_max,\n",
    "round(avg(degree),2) as degree_avg,\n",
    "round(stDev(degree),2) as degree_stdev\n",
    "''').data()).transpose().rename(columns = {0:'bimodal'}), right_index=True, left_index=True).merge(\n",
    "pd.DataFrame(mix_session.run('''MATCH (h:Hero)\n",
    "WITH h.name as hero, size((h)--(:Hero)) as degree\n",
    "RETURN min(degree) as degree_min,\n",
    "max(degree) as degree_max,\n",
    "round(avg(degree)*100)/100 as degree_avg,\n",
    "round(stdev(degree)*100)/100 as degree_stdev\n",
    "''').data()).transpose().rename(columns = {0:'mixmodal'}), left_index=True, right_index=True)"
   ]
  },
  {
   "cell_type": "markdown",
   "metadata": {},
   "source": [
    "### Hero to Comic"
   ]
  },
  {
   "cell_type": "code",
   "execution_count": 6,
   "metadata": {},
   "outputs": [
    {
     "data": {
      "text/html": [
       "<div>\n",
       "<style scoped>\n",
       "    .dataframe tbody tr th:only-of-type {\n",
       "        vertical-align: middle;\n",
       "    }\n",
       "\n",
       "    .dataframe tbody tr th {\n",
       "        vertical-align: top;\n",
       "    }\n",
       "\n",
       "    .dataframe thead th {\n",
       "        text-align: right;\n",
       "    }\n",
       "</style>\n",
       "<table border=\"1\" class=\"dataframe\">\n",
       "  <thead>\n",
       "    <tr style=\"text-align: right;\">\n",
       "      <th></th>\n",
       "      <th>bimodal</th>\n",
       "      <th>mixmodal</th>\n",
       "    </tr>\n",
       "  </thead>\n",
       "  <tbody>\n",
       "    <tr>\n",
       "      <th>degree_min</th>\n",
       "      <td>1.00</td>\n",
       "      <td>1.00</td>\n",
       "    </tr>\n",
       "    <tr>\n",
       "      <th>degree_max</th>\n",
       "      <td>1577.00</td>\n",
       "      <td>1577.00</td>\n",
       "    </tr>\n",
       "    <tr>\n",
       "      <th>degree_avg</th>\n",
       "      <td>14.93</td>\n",
       "      <td>14.93</td>\n",
       "    </tr>\n",
       "    <tr>\n",
       "      <th>degree_stdev</th>\n",
       "      <td>59.27</td>\n",
       "      <td>59.27</td>\n",
       "    </tr>\n",
       "  </tbody>\n",
       "</table>\n",
       "</div>"
      ],
      "text/plain": [
       "              bimodal  mixmodal\n",
       "degree_min       1.00      1.00\n",
       "degree_max    1577.00   1577.00\n",
       "degree_avg      14.93     14.93\n",
       "degree_stdev    59.27     59.27"
      ]
     },
     "execution_count": 6,
     "metadata": {},
     "output_type": "execute_result"
    }
   ],
   "source": [
    "pd.DataFrame(bi_session.run('''MATCH (h:Hero)\n",
    "WITH h.name as hero, size((h)--()) as degree\n",
    "RETURN min(degree) as degree_min,\n",
    "max(degree) as degree_max,\n",
    "round(avg(degree)*100)/100 as degree_avg,\n",
    "round(stdev(degree)*100)/100 as degree_stdev\n",
    "''').data()).transpose().rename(columns = {0:'bimodal'}).merge(\n",
    "pd.DataFrame(mix_session.run('''MATCH (h:Hero)\n",
    "WITH h.name as hero, size((h)--(:Comic)) as degree\n",
    "RETURN min(degree) as degree_min,\n",
    "max(degree) as degree_max,\n",
    "round(avg(degree)*100)/100 as degree_avg,\n",
    "round(stdev(degree)*100)/100 as degree_stdev\n",
    "''').data()).transpose().rename(columns = {0:'mixmodal'}), left_index=True, right_index=True)"
   ]
  },
  {
   "cell_type": "markdown",
   "metadata": {},
   "source": [
    "### Comic to Hero"
   ]
  },
  {
   "cell_type": "code",
   "execution_count": 7,
   "metadata": {},
   "outputs": [
    {
     "data": {
      "text/html": [
       "<div>\n",
       "<style scoped>\n",
       "    .dataframe tbody tr th:only-of-type {\n",
       "        vertical-align: middle;\n",
       "    }\n",
       "\n",
       "    .dataframe tbody tr th {\n",
       "        vertical-align: top;\n",
       "    }\n",
       "\n",
       "    .dataframe thead th {\n",
       "        text-align: right;\n",
       "    }\n",
       "</style>\n",
       "<table border=\"1\" class=\"dataframe\">\n",
       "  <thead>\n",
       "    <tr style=\"text-align: right;\">\n",
       "      <th></th>\n",
       "      <th>bimodal</th>\n",
       "      <th>mixmodal</th>\n",
       "    </tr>\n",
       "  </thead>\n",
       "  <tbody>\n",
       "    <tr>\n",
       "      <th>degree_min</th>\n",
       "      <td>1.00</td>\n",
       "      <td>1.00</td>\n",
       "    </tr>\n",
       "    <tr>\n",
       "      <th>degree_max</th>\n",
       "      <td>111.00</td>\n",
       "      <td>111.00</td>\n",
       "    </tr>\n",
       "    <tr>\n",
       "      <th>degree_avg</th>\n",
       "      <td>7.60</td>\n",
       "      <td>7.60</td>\n",
       "    </tr>\n",
       "    <tr>\n",
       "      <th>degree_stdev</th>\n",
       "      <td>6.44</td>\n",
       "      <td>6.44</td>\n",
       "    </tr>\n",
       "  </tbody>\n",
       "</table>\n",
       "</div>"
      ],
      "text/plain": [
       "              bimodal  mixmodal\n",
       "degree_min       1.00      1.00\n",
       "degree_max     111.00    111.00\n",
       "degree_avg       7.60      7.60\n",
       "degree_stdev     6.44      6.44"
      ]
     },
     "execution_count": 7,
     "metadata": {},
     "output_type": "execute_result"
    }
   ],
   "source": [
    "pd.DataFrame(bi_session.run('''MATCH (c:Comic)\n",
    "WITH c.name as comic, size((c)--()) as degree\n",
    "RETURN min(degree) as degree_min,\n",
    "max(degree) as degree_max,\n",
    "round(avg(degree)*100)/100 as degree_avg,\n",
    "round(stdev(degree)*100)/100 as degree_stdev\n",
    "''').data()).transpose().rename(columns = {0:'bimodal'}).merge(\n",
    "pd.DataFrame(mix_session.run('''MATCH (c:Comic)\n",
    "WITH c.name as comic, size((c)--(:Hero)) as degree\n",
    "RETURN min(degree) as degree_min,\n",
    "max(degree) as degree_max,\n",
    "round(avg(degree)*100)/100 as degree_avg,\n",
    "round(stdev(degree)*100)/100 as degree_stdev\n",
    "''').data()).transpose().rename(columns = {0:'mixmodal'}), left_index=True, right_index=True)"
   ]
  },
  {
   "cell_type": "markdown",
   "metadata": {},
   "source": [
    "## Degree Distribution"
   ]
  },
  {
   "cell_type": "code",
   "execution_count": 5,
   "metadata": {},
   "outputs": [
    {
     "data": {
      "text/html": [
       "<div>\n",
       "<style scoped>\n",
       "    .dataframe tbody tr th:only-of-type {\n",
       "        vertical-align: middle;\n",
       "    }\n",
       "\n",
       "    .dataframe tbody tr th {\n",
       "        vertical-align: top;\n",
       "    }\n",
       "\n",
       "    .dataframe thead th {\n",
       "        text-align: right;\n",
       "    }\n",
       "</style>\n",
       "<table border=\"1\" class=\"dataframe\">\n",
       "  <thead>\n",
       "    <tr style=\"text-align: right;\">\n",
       "      <th></th>\n",
       "      <th>hero</th>\n",
       "      <th>degree</th>\n",
       "    </tr>\n",
       "  </thead>\n",
       "  <tbody>\n",
       "    <tr>\n",
       "      <th>0</th>\n",
       "      <td>24-HOUR MAN/EMMANUEL</td>\n",
       "      <td>5.0</td>\n",
       "    </tr>\n",
       "    <tr>\n",
       "      <th>1</th>\n",
       "      <td>3-D MAN/CHARLES CHAN</td>\n",
       "      <td>122.0</td>\n",
       "    </tr>\n",
       "    <tr>\n",
       "      <th>2</th>\n",
       "      <td>4-D MAN/MERCURIO</td>\n",
       "      <td>72.0</td>\n",
       "    </tr>\n",
       "    <tr>\n",
       "      <th>3</th>\n",
       "      <td>8-BALL/</td>\n",
       "      <td>14.0</td>\n",
       "    </tr>\n",
       "    <tr>\n",
       "      <th>4</th>\n",
       "      <td>ABBOTT, JACK</td>\n",
       "      <td>8.0</td>\n",
       "    </tr>\n",
       "  </tbody>\n",
       "</table>\n",
       "</div>"
      ],
      "text/plain": [
       "                   hero  degree\n",
       "0  24-HOUR MAN/EMMANUEL     5.0\n",
       "1  3-D MAN/CHARLES CHAN   122.0\n",
       "2      4-D MAN/MERCURIO    72.0\n",
       "3               8-BALL/    14.0\n",
       "4          ABBOTT, JACK     8.0"
      ]
     },
     "execution_count": 5,
     "metadata": {},
     "output_type": "execute_result"
    }
   ],
   "source": [
    "uni_degree_df = pd.DataFrame(uni_session.run('''CALL gds.degree.stream({\n",
    "  nodeProjection: 'Hero',\n",
    "  relationshipProjection: {\n",
    "  KNOWS: {\n",
    "  type: 'KNOWS',\n",
    "  orientation:'UNDIRECTED'\n",
    "  }}\n",
    "})\n",
    "YIELD nodeId, score\n",
    "RETURN gds.util.asNode(nodeId).name AS hero, score AS degree\n",
    "''').values(), columns=['hero', 'degree'])\n",
    "uni_degree_df.head()"
   ]
  },
  {
   "cell_type": "code",
   "execution_count": 6,
   "metadata": {},
   "outputs": [
    {
     "data": {
      "text/html": [
       "<div>\n",
       "<style scoped>\n",
       "    .dataframe tbody tr th:only-of-type {\n",
       "        vertical-align: middle;\n",
       "    }\n",
       "\n",
       "    .dataframe tbody tr th {\n",
       "        vertical-align: top;\n",
       "    }\n",
       "\n",
       "    .dataframe thead th {\n",
       "        text-align: right;\n",
       "    }\n",
       "</style>\n",
       "<table border=\"1\" class=\"dataframe\">\n",
       "  <thead>\n",
       "    <tr style=\"text-align: right;\">\n",
       "      <th></th>\n",
       "      <th>hero</th>\n",
       "      <th>degree</th>\n",
       "    </tr>\n",
       "  </thead>\n",
       "  <tbody>\n",
       "    <tr>\n",
       "      <th>0</th>\n",
       "      <td>24-HOUR MAN/EMMANUEL</td>\n",
       "      <td>5.0</td>\n",
       "    </tr>\n",
       "    <tr>\n",
       "      <th>1</th>\n",
       "      <td>3-D MAN/CHARLES CHAN</td>\n",
       "      <td>122.0</td>\n",
       "    </tr>\n",
       "    <tr>\n",
       "      <th>2</th>\n",
       "      <td>4-D MAN/MERCURIO</td>\n",
       "      <td>72.0</td>\n",
       "    </tr>\n",
       "    <tr>\n",
       "      <th>3</th>\n",
       "      <td>8-BALL/</td>\n",
       "      <td>14.0</td>\n",
       "    </tr>\n",
       "    <tr>\n",
       "      <th>4</th>\n",
       "      <td>ABBOTT, JACK</td>\n",
       "      <td>8.0</td>\n",
       "    </tr>\n",
       "    <tr>\n",
       "      <th>...</th>\n",
       "      <td>...</td>\n",
       "      <td>...</td>\n",
       "    </tr>\n",
       "    <tr>\n",
       "      <th>6434</th>\n",
       "      <td>ZOTA, CARLO</td>\n",
       "      <td>68.0</td>\n",
       "    </tr>\n",
       "    <tr>\n",
       "      <th>6435</th>\n",
       "      <td>ZOTA</td>\n",
       "      <td>8.0</td>\n",
       "    </tr>\n",
       "    <tr>\n",
       "      <th>6436</th>\n",
       "      <td>ZURAS</td>\n",
       "      <td>92.0</td>\n",
       "    </tr>\n",
       "    <tr>\n",
       "      <th>6437</th>\n",
       "      <td>ZURI</td>\n",
       "      <td>98.0</td>\n",
       "    </tr>\n",
       "    <tr>\n",
       "      <th>6438</th>\n",
       "      <td>ZZZAX</td>\n",
       "      <td>30.0</td>\n",
       "    </tr>\n",
       "  </tbody>\n",
       "</table>\n",
       "<p>6439 rows × 2 columns</p>\n",
       "</div>"
      ],
      "text/plain": [
       "                      hero  degree\n",
       "0     24-HOUR MAN/EMMANUEL     5.0\n",
       "1     3-D MAN/CHARLES CHAN   122.0\n",
       "2         4-D MAN/MERCURIO    72.0\n",
       "3                  8-BALL/    14.0\n",
       "4             ABBOTT, JACK     8.0\n",
       "...                    ...     ...\n",
       "6434           ZOTA, CARLO    68.0\n",
       "6435                  ZOTA     8.0\n",
       "6436                 ZURAS    92.0\n",
       "6437                  ZURI    98.0\n",
       "6438                 ZZZAX    30.0\n",
       "\n",
       "[6439 rows x 2 columns]"
      ]
     },
     "execution_count": 6,
     "metadata": {},
     "output_type": "execute_result"
    }
   ],
   "source": [
    "uni_degree_df"
   ]
  },
  {
   "cell_type": "code",
   "execution_count": 7,
   "metadata": {},
   "outputs": [
    {
     "name": "stdout",
     "output_type": "stream",
     "text": [
      "min: 0.0\n",
      "max: 1919.0\n",
      "mean: 53.31386861313869\n",
      "standard deviation: 116.62615859454611\n"
     ]
    }
   ],
   "source": [
    "print('min:', uni_degree_df['degree'].min())\n",
    "print('max:', uni_degree_df['degree'].max())\n",
    "print('mean:', uni_degree_df['degree'].mean())\n",
    "print('standard deviation:', uni_degree_df['degree'].std())"
   ]
  },
  {
   "cell_type": "code",
   "execution_count": 9,
   "metadata": {},
   "outputs": [
    {
     "data": {
      "text/html": [
       "<div>\n",
       "<style scoped>\n",
       "    .dataframe tbody tr th:only-of-type {\n",
       "        vertical-align: middle;\n",
       "    }\n",
       "\n",
       "    .dataframe tbody tr th {\n",
       "        vertical-align: top;\n",
       "    }\n",
       "\n",
       "    .dataframe thead th {\n",
       "        text-align: right;\n",
       "    }\n",
       "</style>\n",
       "<table border=\"1\" class=\"dataframe\">\n",
       "  <thead>\n",
       "    <tr style=\"text-align: right;\">\n",
       "      <th></th>\n",
       "      <th>hero</th>\n",
       "      <th>degree</th>\n",
       "      <th>type</th>\n",
       "    </tr>\n",
       "  </thead>\n",
       "  <tbody>\n",
       "    <tr>\n",
       "      <th>0</th>\n",
       "      <td>24-HOUR MAN/EMMANUEL</td>\n",
       "      <td>1.0</td>\n",
       "      <td>Hero</td>\n",
       "    </tr>\n",
       "    <tr>\n",
       "      <th>1</th>\n",
       "      <td>AA2 35</td>\n",
       "      <td>6.0</td>\n",
       "      <td>Comic</td>\n",
       "    </tr>\n",
       "    <tr>\n",
       "      <th>2</th>\n",
       "      <td>3-D MAN/CHARLES CHAN</td>\n",
       "      <td>9.0</td>\n",
       "      <td>Hero</td>\n",
       "    </tr>\n",
       "    <tr>\n",
       "      <th>3</th>\n",
       "      <td>AVF 4</td>\n",
       "      <td>11.0</td>\n",
       "      <td>Comic</td>\n",
       "    </tr>\n",
       "    <tr>\n",
       "      <th>4</th>\n",
       "      <td>AVF 5</td>\n",
       "      <td>11.0</td>\n",
       "      <td>Comic</td>\n",
       "    </tr>\n",
       "  </tbody>\n",
       "</table>\n",
       "</div>"
      ],
      "text/plain": [
       "                   hero  degree   type\n",
       "0  24-HOUR MAN/EMMANUEL     1.0   Hero\n",
       "1                AA2 35     6.0  Comic\n",
       "2  3-D MAN/CHARLES CHAN     9.0   Hero\n",
       "3                 AVF 4    11.0  Comic\n",
       "4                 AVF 5    11.0  Comic"
      ]
     },
     "execution_count": 9,
     "metadata": {},
     "output_type": "execute_result"
    }
   ],
   "source": [
    "bi_degree_df = pd.DataFrame(bi_session.run('''CALL gds.degree.stream({\n",
    "  nodeProjection: ['Hero', 'Comic'],\n",
    "  relationshipProjection: {\n",
    "  APPEARS_IN: {\n",
    "  type: 'APPEARS_IN',\n",
    "  orientation:'UNDIRECTED'\n",
    "  }}\n",
    "})\n",
    "YIELD nodeId, score\n",
    "RETURN gds.util.asNode(nodeId).name AS name, score AS degree, labels(gds.util.asNode(nodeId))[0] as type\n",
    "''').values(), columns=['hero', 'degree', 'type'])\n",
    "bi_degree_df.head()"
   ]
  },
  {
   "cell_type": "code",
   "execution_count": 10,
   "metadata": {},
   "outputs": [
    {
     "name": "stdout",
     "output_type": "stream",
     "text": [
      "min: 1.0\n",
      "max: 1577.0\n",
      "mean: 10.068517548454688\n",
      "standard deviation: 34.98865384074356\n"
     ]
    }
   ],
   "source": [
    "#Undirected\n",
    "print('min:', bi_degree_df['degree'].min())\n",
    "print('max:', bi_degree_df['degree'].max())\n",
    "print('mean:', bi_degree_df['degree'].mean())\n",
    "print('standard deviation:', bi_degree_df['degree'].std())"
   ]
  },
  {
   "cell_type": "code",
   "execution_count": 11,
   "metadata": {},
   "outputs": [
    {
     "name": "stdout",
     "output_type": "stream",
     "text": [
      "min: 1.0\n",
      "max: 1577.0\n",
      "mean: 14.925298959465756\n",
      "standard deviation: 59.26872510194186\n"
     ]
    }
   ],
   "source": [
    "#Hero to comic\n",
    "print('min:', bi_degree_df.loc[bi_degree_df['type']=='Hero', 'degree'].min())\n",
    "print('max:', bi_degree_df.loc[bi_degree_df['type']=='Hero', 'degree'].max())\n",
    "print('mean:', bi_degree_df.loc[bi_degree_df['type']=='Hero', 'degree'].mean())\n",
    "print('standard deviation:', bi_degree_df.loc[bi_degree_df['type']=='Hero', 'degree'].std())"
   ]
  },
  {
   "cell_type": "code",
   "execution_count": 12,
   "metadata": {},
   "outputs": [
    {
     "name": "stdout",
     "output_type": "stream",
     "text": [
      "min: 1.0\n",
      "max: 111.0\n",
      "mean: 7.596553632123943\n",
      "standard deviation: 6.4384394651277\n"
     ]
    }
   ],
   "source": [
    "#Comic to hero\n",
    "print('min:', bi_degree_df.loc[bi_degree_df['type']=='Comic', 'degree'].min())\n",
    "print('max:', bi_degree_df.loc[bi_degree_df['type']=='Comic', 'degree'].max())\n",
    "print('mean:', bi_degree_df.loc[bi_degree_df['type']=='Comic', 'degree'].mean())\n",
    "print('standard deviation:', bi_degree_df.loc[bi_degree_df['type']=='Comic', 'degree'].std())"
   ]
  },
  {
   "cell_type": "code",
   "execution_count": 13,
   "metadata": {},
   "outputs": [
    {
     "data": {
      "text/html": [
       "<div>\n",
       "<style scoped>\n",
       "    .dataframe tbody tr th:only-of-type {\n",
       "        vertical-align: middle;\n",
       "    }\n",
       "\n",
       "    .dataframe tbody tr th {\n",
       "        vertical-align: top;\n",
       "    }\n",
       "\n",
       "    .dataframe thead th {\n",
       "        text-align: right;\n",
       "    }\n",
       "</style>\n",
       "<table border=\"1\" class=\"dataframe\">\n",
       "  <thead>\n",
       "    <tr style=\"text-align: right;\">\n",
       "      <th></th>\n",
       "      <th>hero</th>\n",
       "      <th>degree</th>\n",
       "    </tr>\n",
       "  </thead>\n",
       "  <tbody>\n",
       "    <tr>\n",
       "      <th>0</th>\n",
       "      <td>24-HOUR MAN/EMMANUEL</td>\n",
       "      <td>5</td>\n",
       "    </tr>\n",
       "    <tr>\n",
       "      <th>1</th>\n",
       "      <td>3-D MAN/CHARLES CHAN</td>\n",
       "      <td>122</td>\n",
       "    </tr>\n",
       "    <tr>\n",
       "      <th>2</th>\n",
       "      <td>4-D MAN/MERCURIO</td>\n",
       "      <td>72</td>\n",
       "    </tr>\n",
       "    <tr>\n",
       "      <th>3</th>\n",
       "      <td>8-BALL/</td>\n",
       "      <td>14</td>\n",
       "    </tr>\n",
       "    <tr>\n",
       "      <th>4</th>\n",
       "      <td>ABBOTT, JACK</td>\n",
       "      <td>8</td>\n",
       "    </tr>\n",
       "  </tbody>\n",
       "</table>\n",
       "</div>"
      ],
      "text/plain": [
       "                   hero  degree\n",
       "0  24-HOUR MAN/EMMANUEL       5\n",
       "1  3-D MAN/CHARLES CHAN     122\n",
       "2      4-D MAN/MERCURIO      72\n",
       "3               8-BALL/      14\n",
       "4          ABBOTT, JACK       8"
      ]
     },
     "execution_count": 13,
     "metadata": {},
     "output_type": "execute_result"
    }
   ],
   "source": [
    "bi_degree_h2h = pd.DataFrame(bi_session.run('''MATCH (h1:Hero)\n",
    "OPTIONAL MATCH (h1)-[]->(c)<-[]-(h2)\n",
    "WITH h1, count(distinct h2) as degree\n",
    "RETURN h1.name, degree\n",
    "''').values(), columns=['hero', 'degree'])\n",
    "\n",
    "bi_degree_h2h.head()"
   ]
  },
  {
   "cell_type": "code",
   "execution_count": 14,
   "metadata": {},
   "outputs": [
    {
     "name": "stdout",
     "output_type": "stream",
     "text": [
      "min: 0\n",
      "max: 1919\n",
      "mean: 53.31386861313869\n",
      "standard deviation: 116.62615859454611\n"
     ]
    }
   ],
   "source": [
    "#Hero to Hero\n",
    "print('min:', bi_degree_h2h['degree'].min())\n",
    "print('max:', bi_degree_h2h['degree'].max())\n",
    "print('mean:', bi_degree_h2h['degree'].mean())\n",
    "print('standard deviation:', bi_degree_h2h['degree'].std())"
   ]
  },
  {
   "cell_type": "code",
   "execution_count": 15,
   "metadata": {},
   "outputs": [
    {
     "data": {
      "text/html": [
       "<div>\n",
       "<style scoped>\n",
       "    .dataframe tbody tr th:only-of-type {\n",
       "        vertical-align: middle;\n",
       "    }\n",
       "\n",
       "    .dataframe tbody tr th {\n",
       "        vertical-align: top;\n",
       "    }\n",
       "\n",
       "    .dataframe thead th {\n",
       "        text-align: right;\n",
       "    }\n",
       "</style>\n",
       "<table border=\"1\" class=\"dataframe\">\n",
       "  <thead>\n",
       "    <tr style=\"text-align: right;\">\n",
       "      <th></th>\n",
       "      <th>name</th>\n",
       "      <th>degree</th>\n",
       "    </tr>\n",
       "  </thead>\n",
       "  <tbody>\n",
       "    <tr>\n",
       "      <th>0</th>\n",
       "      <td>24-HOUR MAN/EMMANUEL</td>\n",
       "      <td>6</td>\n",
       "    </tr>\n",
       "    <tr>\n",
       "      <th>1</th>\n",
       "      <td>AA2 35</td>\n",
       "      <td>6</td>\n",
       "    </tr>\n",
       "    <tr>\n",
       "      <th>2</th>\n",
       "      <td>3-D MAN/CHARLES CHAN</td>\n",
       "      <td>131</td>\n",
       "    </tr>\n",
       "    <tr>\n",
       "      <th>3</th>\n",
       "      <td>AVF 4</td>\n",
       "      <td>11</td>\n",
       "    </tr>\n",
       "    <tr>\n",
       "      <th>4</th>\n",
       "      <td>AVF 5</td>\n",
       "      <td>11</td>\n",
       "    </tr>\n",
       "  </tbody>\n",
       "</table>\n",
       "</div>"
      ],
      "text/plain": [
       "                   name  degree\n",
       "0  24-HOUR MAN/EMMANUEL       6\n",
       "1                AA2 35       6\n",
       "2  3-D MAN/CHARLES CHAN     131\n",
       "3                 AVF 4      11\n",
       "4                 AVF 5      11"
      ]
     },
     "execution_count": 15,
     "metadata": {},
     "output_type": "execute_result"
    }
   ],
   "source": [
    "mixed_all = pd.DataFrame(mix_session.run('''MATCH (n)\n",
    "RETURN n.name as name, size((n)--()) as degree''').data())\n",
    "mixed_all.head()"
   ]
  },
  {
   "cell_type": "code",
   "execution_count": 16,
   "metadata": {},
   "outputs": [
    {
     "data": {
      "text/html": [
       "<div>\n",
       "<style scoped>\n",
       "    .dataframe tbody tr th:only-of-type {\n",
       "        vertical-align: middle;\n",
       "    }\n",
       "\n",
       "    .dataframe tbody tr th {\n",
       "        vertical-align: top;\n",
       "    }\n",
       "\n",
       "    .dataframe thead th {\n",
       "        text-align: right;\n",
       "    }\n",
       "</style>\n",
       "<table border=\"1\" class=\"dataframe\">\n",
       "  <thead>\n",
       "    <tr style=\"text-align: right;\">\n",
       "      <th></th>\n",
       "      <th>hero</th>\n",
       "      <th>degree</th>\n",
       "    </tr>\n",
       "  </thead>\n",
       "  <tbody>\n",
       "    <tr>\n",
       "      <th>0</th>\n",
       "      <td>24-HOUR MAN/EMMANUEL</td>\n",
       "      <td>5</td>\n",
       "    </tr>\n",
       "    <tr>\n",
       "      <th>1</th>\n",
       "      <td>3-D MAN/CHARLES CHAN</td>\n",
       "      <td>122</td>\n",
       "    </tr>\n",
       "    <tr>\n",
       "      <th>2</th>\n",
       "      <td>4-D MAN/MERCURIO</td>\n",
       "      <td>72</td>\n",
       "    </tr>\n",
       "    <tr>\n",
       "      <th>3</th>\n",
       "      <td>8-BALL/</td>\n",
       "      <td>14</td>\n",
       "    </tr>\n",
       "    <tr>\n",
       "      <th>4</th>\n",
       "      <td>ABBOTT, JACK</td>\n",
       "      <td>8</td>\n",
       "    </tr>\n",
       "  </tbody>\n",
       "</table>\n",
       "</div>"
      ],
      "text/plain": [
       "                   hero  degree\n",
       "0  24-HOUR MAN/EMMANUEL       5\n",
       "1  3-D MAN/CHARLES CHAN     122\n",
       "2      4-D MAN/MERCURIO      72\n",
       "3               8-BALL/      14\n",
       "4          ABBOTT, JACK       8"
      ]
     },
     "execution_count": 16,
     "metadata": {},
     "output_type": "execute_result"
    }
   ],
   "source": [
    "mixed_hero2hero = pd.DataFrame(mix_session.run('''MATCH (h:Hero)\n",
    "RETURN h.name as hero, size((h)--(:Hero)) as degree''').data())\n",
    "mixed_hero2hero.head()"
   ]
  },
  {
   "cell_type": "code",
   "execution_count": 17,
   "metadata": {},
   "outputs": [
    {
     "data": {
      "text/html": [
       "<div>\n",
       "<style scoped>\n",
       "    .dataframe tbody tr th:only-of-type {\n",
       "        vertical-align: middle;\n",
       "    }\n",
       "\n",
       "    .dataframe tbody tr th {\n",
       "        vertical-align: top;\n",
       "    }\n",
       "\n",
       "    .dataframe thead th {\n",
       "        text-align: right;\n",
       "    }\n",
       "</style>\n",
       "<table border=\"1\" class=\"dataframe\">\n",
       "  <thead>\n",
       "    <tr style=\"text-align: right;\">\n",
       "      <th></th>\n",
       "      <th>hero</th>\n",
       "      <th>degree</th>\n",
       "    </tr>\n",
       "  </thead>\n",
       "  <tbody>\n",
       "    <tr>\n",
       "      <th>0</th>\n",
       "      <td>24-HOUR MAN/EMMANUEL</td>\n",
       "      <td>1</td>\n",
       "    </tr>\n",
       "    <tr>\n",
       "      <th>1</th>\n",
       "      <td>3-D MAN/CHARLES CHAN</td>\n",
       "      <td>9</td>\n",
       "    </tr>\n",
       "    <tr>\n",
       "      <th>2</th>\n",
       "      <td>4-D MAN/MERCURIO</td>\n",
       "      <td>9</td>\n",
       "    </tr>\n",
       "    <tr>\n",
       "      <th>3</th>\n",
       "      <td>8-BALL/</td>\n",
       "      <td>3</td>\n",
       "    </tr>\n",
       "    <tr>\n",
       "      <th>4</th>\n",
       "      <td>ABBOTT, JACK</td>\n",
       "      <td>1</td>\n",
       "    </tr>\n",
       "  </tbody>\n",
       "</table>\n",
       "</div>"
      ],
      "text/plain": [
       "                   hero  degree\n",
       "0  24-HOUR MAN/EMMANUEL       1\n",
       "1  3-D MAN/CHARLES CHAN       9\n",
       "2      4-D MAN/MERCURIO       9\n",
       "3               8-BALL/       3\n",
       "4          ABBOTT, JACK       1"
      ]
     },
     "execution_count": 17,
     "metadata": {},
     "output_type": "execute_result"
    }
   ],
   "source": [
    "mixed_hero2comic= pd.DataFrame(mix_session.run('''MATCH (h:Hero)\n",
    "RETURN h.name as hero, size((h)--(:Comic)) as degree''').data())\n",
    "mixed_hero2comic.head()"
   ]
  },
  {
   "cell_type": "code",
   "execution_count": 18,
   "metadata": {},
   "outputs": [
    {
     "data": {
      "text/html": [
       "<div>\n",
       "<style scoped>\n",
       "    .dataframe tbody tr th:only-of-type {\n",
       "        vertical-align: middle;\n",
       "    }\n",
       "\n",
       "    .dataframe tbody tr th {\n",
       "        vertical-align: top;\n",
       "    }\n",
       "\n",
       "    .dataframe thead th {\n",
       "        text-align: right;\n",
       "    }\n",
       "</style>\n",
       "<table border=\"1\" class=\"dataframe\">\n",
       "  <thead>\n",
       "    <tr style=\"text-align: right;\">\n",
       "      <th></th>\n",
       "      <th>comic</th>\n",
       "      <th>degree</th>\n",
       "    </tr>\n",
       "  </thead>\n",
       "  <tbody>\n",
       "    <tr>\n",
       "      <th>0</th>\n",
       "      <td>AA2 35</td>\n",
       "      <td>6</td>\n",
       "    </tr>\n",
       "    <tr>\n",
       "      <th>1</th>\n",
       "      <td>AVF 4</td>\n",
       "      <td>11</td>\n",
       "    </tr>\n",
       "    <tr>\n",
       "      <th>2</th>\n",
       "      <td>AVF 5</td>\n",
       "      <td>11</td>\n",
       "    </tr>\n",
       "    <tr>\n",
       "      <th>3</th>\n",
       "      <td>COC 1</td>\n",
       "      <td>111</td>\n",
       "    </tr>\n",
       "    <tr>\n",
       "      <th>4</th>\n",
       "      <td>H2 251</td>\n",
       "      <td>8</td>\n",
       "    </tr>\n",
       "  </tbody>\n",
       "</table>\n",
       "</div>"
      ],
      "text/plain": [
       "    comic  degree\n",
       "0  AA2 35       6\n",
       "1   AVF 4      11\n",
       "2   AVF 5      11\n",
       "3   COC 1     111\n",
       "4  H2 251       8"
      ]
     },
     "execution_count": 18,
     "metadata": {},
     "output_type": "execute_result"
    }
   ],
   "source": [
    "mixed_comic2hero= pd.DataFrame(mix_session.run('''MATCH (c:Comic)\n",
    "RETURN c.name as comic, size((c)--(:Hero)) as degree''').data())\n",
    "mixed_comic2hero.head()"
   ]
  },
  {
   "cell_type": "markdown",
   "metadata": {},
   "source": [
    "## Undirected"
   ]
  },
  {
   "cell_type": "code",
   "execution_count": 19,
   "metadata": {},
   "outputs": [
    {
     "data": {
      "image/png": "[encoded data removed]",
      "text/plain": [
       "<Figure size 864x936 with 6 Axes>"
      ]
     },
     "metadata": {
      "needs_background": "light"
     },
     "output_type": "display_data"
    }
   ],
   "source": [
    "ud_fig, ud_axes = plt.subplots(3, 2, figsize=(12,13))\n",
    "ud_fig.suptitle(\"Undirected Distributions\")\n",
    "ud_axes[0,0].hist(uni_degree_df['degree'], bins=50)\n",
    "ud_axes[0,0].set_title('Unimodal, Regular Scale')\n",
    "ud_axes[0,1].hist(uni_degree_df['degree'], bins=50)\n",
    "ud_axes[0,1].set_yscale('log')\n",
    "ud_axes[0,1].set_title('Unimodal, Log Scale')\n",
    "ud_axes[1,0].hist(bi_degree_df['degree'], bins=50)\n",
    "ud_axes[1,0].set_title('Bimodal, Regular Scale')\n",
    "ud_axes[1,1].hist(bi_degree_df['degree'], bins=50)\n",
    "ud_axes[1,1].set_yscale('log')\n",
    "ud_axes[1,1].set_title('Bimodal, Log Scale')\n",
    "ud_axes[2,0].hist(mixed_all['degree'], bins=50)\n",
    "ud_axes[2,0].set_title('Mixmodal, Regular Scale')\n",
    "ud_axes[2,1].hist(mixed_all['degree'], bins=50)\n",
    "ud_axes[2,1].set_yscale('log')\n",
    "ud_axes[2,1].set_title('Mixmodal, Log Scale')\n",
    "plt.show()"
   ]
  },
  {
   "cell_type": "markdown",
   "metadata": {},
   "source": [
    "## Hero to Hero"
   ]
  },
  {
   "cell_type": "code",
   "execution_count": 20,
   "metadata": {},
   "outputs": [
    {
     "data": {
      "image/png": "[encoded data removed]",
      "text/plain": [
       "<Figure size 864x936 with 6 Axes>"
      ]
     },
     "metadata": {
      "needs_background": "light"
     },
     "output_type": "display_data"
    }
   ],
   "source": [
    "h2h_fig, h2h_axes = plt.subplots(3, 2, figsize=(12,13))\n",
    "h2h_fig.suptitle(\"Hero to Hero Distributions\")\n",
    "h2h_axes[0,0].hist(uni_degree_df['degree'], bins=50)\n",
    "h2h_axes[0,0].set_title('Unimodal, Regular Scale')\n",
    "h2h_axes[0,1].hist(uni_degree_df['degree'], bins=50)\n",
    "h2h_axes[0,1].set_yscale('log')\n",
    "h2h_axes[0,1].set_title('Unimodal, Log Scale')\n",
    "h2h_axes[1,0].hist(bi_degree_h2h['degree'], bins=50)\n",
    "h2h_axes[1,0].set_title('Bimodal, Regular Scale')\n",
    "h2h_axes[1,1].hist(bi_degree_h2h['degree'], bins=50)\n",
    "h2h_axes[1,1].set_yscale('log')\n",
    "h2h_axes[1,1].set_title('Bimodal, Log Scale')\n",
    "h2h_axes[2,0].hist(mixed_hero2hero['degree'], bins=50)\n",
    "h2h_axes[2,0].set_title('Mixmodal, Regular Scale')\n",
    "h2h_axes[2,1].hist(mixed_hero2hero['degree'], bins=50)\n",
    "h2h_axes[2,1].set_yscale('log')\n",
    "h2h_axes[2,1].set_title('Mixmodal, Log Scale')\n",
    "plt.show()"
   ]
  },
  {
   "cell_type": "markdown",
   "metadata": {},
   "source": [
    "## Hero to Comic"
   ]
  },
  {
   "cell_type": "code",
   "execution_count": 21,
   "metadata": {},
   "outputs": [
    {
     "data": {
      "image/png": "[encoded data removed]",
      "text/plain": [
       "<Figure size 864x576 with 4 Axes>"
      ]
     },
     "metadata": {
      "needs_background": "light"
     },
     "output_type": "display_data"
    }
   ],
   "source": [
    "h2c_fig, h2c_axes = plt.subplots(2, 2, figsize=(12,8))\n",
    "h2c_fig.suptitle(\"Hero to Comic Distributions\")\n",
    "h2c_axes[0,0].hist(bi_degree_df.loc[bi_degree_df['type']=='Hero', 'degree'], bins=50)\n",
    "h2c_axes[0,0].set_title('Bimodal, Regular Scale')\n",
    "h2c_axes[0,1].hist(bi_degree_df.loc[bi_degree_df['type']=='Hero', 'degree'], bins=50)\n",
    "h2c_axes[0,1].set_yscale('log')\n",
    "h2c_axes[0,1].set_title('Bimodal, Log Scale')\n",
    "h2c_axes[1,0].hist(mixed_hero2comic['degree'], bins=50)\n",
    "h2c_axes[1,0].set_title('Mixmodal, Regular Scale')\n",
    "h2c_axes[1,1].hist(mixed_hero2comic['degree'], bins=50)\n",
    "h2c_axes[1,1].set_yscale('log')\n",
    "h2c_axes[1,1].set_title('Mixmodal, Log Scale')\n",
    "plt.show()"
   ]
  },
  {
   "cell_type": "markdown",
   "metadata": {},
   "source": [
    "## Comic to Hero"
   ]
  },
  {
   "cell_type": "code",
   "execution_count": 22,
   "metadata": {},
   "outputs": [
    {
     "data": {
      "image/png": "[encoded data removed]",
      "text/plain": [
       "<Figure size 864x576 with 4 Axes>"
      ]
     },
     "metadata": {
      "needs_background": "light"
     },
     "output_type": "display_data"
    }
   ],
   "source": [
    "c2h_fig, c2h_axes = plt.subplots(2, 2, figsize=(12,8))\n",
    "c2h_fig.suptitle(\"Hero to Hero Distributions\")\n",
    "c2h_axes[0,0].hist(bi_degree_df.loc[bi_degree_df['type']=='Comic', 'degree'], bins=50)\n",
    "c2h_axes[0,0].set_title('Bimodal, Regular Scale')\n",
    "c2h_axes[0,1].hist(bi_degree_df.loc[bi_degree_df['type']=='Comic', 'degree'], bins=50)\n",
    "c2h_axes[0,1].set_yscale('log')\n",
    "c2h_axes[0,1].set_title('Bimodal, Log Scale')\n",
    "c2h_axes[1,0].hist(mixed_comic2hero['degree'], bins=50)\n",
    "c2h_axes[1,0].set_title('Mixmodal, Regular Scale')\n",
    "c2h_axes[1,1].hist(mixed_comic2hero['degree'], bins=50)\n",
    "c2h_axes[1,1].set_yscale('log')\n",
    "c2h_axes[1,1].set_title('Mixmodal, Log Scale')\n",
    "plt.show()"
   ]
  },
  {
   "cell_type": "code",
   "execution_count": null,
   "metadata": {},
   "outputs": [],
   "source": []
  }
 ],
 "metadata": {
  "kernelspec": {
   "display_name": "Python 3",
   "language": "python",
   "name": "python3"
  },
  "language_info": {
   "codemirror_mode": {
    "name": "ipython",
    "version": 3
   },
   "file_extension": ".py",
   "mimetype": "text/x-python",
   "name": "python",
   "nbconvert_exporter": "python",
   "pygments_lexer": "ipython3",
   "version": "3.8.8"
  }
 },
 "nbformat": 4,
 "nbformat_minor": 4
}
