{
 "cells": [
  {
   "cell_type": "markdown",
   "id": "8666a65e-63f1-46d4-a6a3-477d60de5fc5",
   "metadata": {},
   "source": [
    "# Entry G18: Egocentric Networks "
   ]
  },
  {
   "cell_type": "markdown",
   "id": "7a6749bb-6120-4706-9a96-4d0f51ee491c",
   "metadata": {},
   "source": [
    "Now that we've gone through the global metrics and have a feel for the structure and composition of our data, it's time to start running local metrics.\n",
    "\n",
    "There is a very handy construct to help us formulate local metrics: the egocentric network.\n",
    "\n",
    "\n",
    "## Context\n",
    "\n",
    "Up to this point we've been looking at the graph as a whole.\n",
    "\n",
    "A very cleaned up version of the Marvel graph would look like this example from Tomaz Bratanic's post [GRAPH ALGORITHMS, MARVEL, NEO4J: Neo4j Marvel Social Graph Algorithms Community Detection](https://tbgraph.wordpress.com/2017/11/17/neo4j-marvel-social-graph-algorithms-community-detection/):\n",
    "\n",
    "<img src='https://tbgraph.files.wordpress.com/2017/11/marvel_social_louvain.png?w=768'>\n",
    "\n",
    "However, there was a lot of cleaning and noise filtering that went into creating that image.\n",
    "\n",
    "To give you an idea as to why we can't always look at the whole graph, here's just the 6,439 Heroes (our unimodal graph model) and their 171,644 relationships with minimal cleaning and noise filtering:\n",
    "\n",
    "<img src='images/marvel_network.png'>\n",
    "\n",
    "Pretty, but it's quite messy and difficult to parse any data from this view. To get this image, I used the APOC library to export the nodes and relationships to Gephi. For directions on how to do this see Tomaz Bratanic's post [Neo4j to Gephi](https://tbgraph.wordpress.com/2017/04/01/neo4j-to-gephi/) on his blog [Graph People](https://tbgraph.wordpress.com/) (also a wonderful source of other graph related content).\n",
    "\n",
    "Another reason we might not want to look at the graph as a whole is if we're trying to make predictions on new information as it comes in. In this case, we'd have to run our global metrics against every new piece of information as it came in, and the changes from a single addition probably won't be informative."
   ]
  },
  {
   "cell_type": "markdown",
   "id": "0cd47c6f-a1f3-4f79-86ac-65a3d6130398",
   "metadata": {},
   "source": [
    "## Egonet\n",
    "\n",
    "To get a more granular view, we can look at a subset of nodes centered around a specific node of interest (or in my case, every node one at a time). In other words, we pull up a single node and look at the nodes around it.\n",
    "\n",
    "A small piece of a graph is called a **subgraph**. This simply means we're looking at a subset of the full graph. Subgraphs aren't limited to a local neighborhood as we'll be exploring, it can be any subset of nodes and their relationships.\n",
    "\n",
    "### Nearest Neighbors\n",
    "\n",
    "A specific node and the nodes it's directly connected to would look like this:\n",
    "\n",
    "<img src='images/egonet_simple.png'>\n",
    "\n",
    "These directly connected nodes are called nearest neighbors. Another way to reference them is to say they are one step from the node of interest or at a distance of 1.\n",
    "\n",
    "Our subset becomes more complex, but also more informative, as we include the relationships between the nearest neighbors. In the image below, there are two extra relationships: one between two of the nearest neighbors on the left and one between two other nearest neighbors at the upper right.\n",
    "\n",
    "<img src='images/egonet_simple_connected.png'>"
   ]
  },
  {
   "cell_type": "markdown",
   "id": "d7f9aeda-b18b-4a1a-903c-9d3ab348394e",
   "metadata": {},
   "source": [
    "### Next Nearest Neighbors\n",
    "\n",
    "We can expand this to include the next layer of nodes, which are called the next nearest neighbors.\n",
    "\n",
    "<img src='images/egonet_expanded_simple.png'>"
   ]
  },
  {
   "cell_type": "markdown",
   "id": "8e822bec-b240-4e1d-aa7d-e84a363b8d52",
   "metadata": {},
   "source": [
    "## Caveats\n",
    "\n",
    "As we expand outward and add more steps to the next node and more relationships there are several issues we need to watch out for.\n",
    "\n",
    "### Multiple Paths\n",
    "\n",
    "Returning to our nearest neighbor example, if we follow certain paths, we can actually turn our nearest neighbors (\"H1\" - distance of one step) into next nearest neighbors (\"H2\" - distance of two steps).\n",
    "\n",
    "<img src='images/egonet_simple_conn_caveat.png'>\n",
    "\n",
    "### Breadth First Search (BFS) Solution\n",
    "\n",
    "Using \"breadth first search\" solves this problem. Breadth first search expands to the nearest neighbors first, then to the nearest neighbors of those nodes without ever revisiting a node. It continues to do this until it runs out of neighbors to visit or hits some user specificed limit. The most important aspect of this for our uses in analysis is that breadth first search never visits the same nodes twice.\n",
    "\n",
    "We can see how useful this is when we look at a representation of a next nearest neighbor graph that shows the relationships between all nodes:\n",
    "\n",
    "<img src='images/egonet_expanded_connected.png'>\n",
    "\n",
    "As we expand outward, the complexity continues to increase. Breadth first search gives us a way to control that complexity and ensure we're returning the results we want."
   ]
  },
  {
   "cell_type": "markdown",
   "id": "f2b8ddc6-7332-47d5-b6cc-eb8ad056d882",
   "metadata": {},
   "source": [
    "## Step Distance\n",
    "\n",
    "Now that we know about egocentric networks, nearest neighbors, next nearest neighbors, step distance, and breadth first search, the question becomes: how far out do we expand?\n",
    "\n",
    "On page 305 of [Networks](https://www.amazon.com/Networks-Mark-Newman/dp/0198805098) Mark Newman provides a list of the mean distance between connected nodes pairs for most of the 27 networks he analyzed. Of the 23 networks with mean distance, the overall average was 6.5. If you remember from a previous post (or bought and read the book), Mark analyzed four sectors: Social, Infomation, Technology, and Biological. At a more grandual level it broke down as follows:\n",
    "\n",
    "<table>\n",
    "    <tr>\n",
    "        <th>Sector</th>\n",
    "        <th>Mean</th>\n",
    "        <th>Minimum</th>\n",
    "        <th>Maximum</th>\n",
    "        <th>Number of Networks</th>\n",
    "    </tr>\n",
    "    <tr>\n",
    "        <td>Social</td>\n",
    "        <td>6.62</td>\n",
    "        <td>3.48</td>\n",
    "        <td>16.01</td>\n",
    "        <td>8</td>\n",
    "    </tr>\n",
    "    <tr>\n",
    "        <td>Infomation</td>\n",
    "        <td>10.77</td>\n",
    "        <td>4.86</td>\n",
    "        <td>16.18</td>\n",
    "        <td>3</td>\n",
    "    </tr>\n",
    "    <tr>\n",
    "        <td>Technology</td>\n",
    "        <td>6.80</td>\n",
    "        <td>2.16</td>\n",
    "        <td>18.99</td>\n",
    "        <td>7</td>\n",
    "    </tr>\n",
    "    <tr>\n",
    "        <td>Biological</td>\n",
    "        <td>3.46</td>\n",
    "        <td>1.90</td>\n",
    "        <td>6.80</td>\n",
    "        <td>5</td>\n",
    "    </tr>\n",
    "</table>"
   ]
  },
  {
   "cell_type": "markdown",
   "id": "60df413f-5dc7-4604-8034-80e03bc9223e",
   "metadata": {},
   "source": [
    "When working with the data at my job, I found that going three steps or more had diminishing returns.\n",
    "\n",
    "There is a reference in one of the books I'm reading that discusses the diminishing influence within a social network at increasing distances. But I can't remember which book or at what step level they found the influence diminished significantly. I think it was at step three (the level past next nearest neighbors) or four, but I'll continue to look for the reference and update the post if I find it. It was probably in either [Networks](https://www.amazon.com/Networks-Mark-Newman/dp/0198805098), [Understanding Dark Networks](https://www.amazon.com/Understanding-Dark-Networks-Daniel-Cunningham/dp/1442249447), or [A First Course in Network Science](https://www.amazon.com/First-Course-Network-Science/dp/1108471137). \n",
    "\n",
    "In the meantime, I'll workout some fast running metrics indicative of distance usefulness, mostly using shortest path (which will be coming up in one of the next posts). I assume the ideal distance depends on the specific graph.\n",
    "\n",
    "For the most part, I'll limit the egonets to next nearest neighbors simply because of limitations around run time and memory usage.\n",
    "\n"
   ]
  },
  {
   "cell_type": "markdown",
   "id": "9b8df938-d336-4347-b4bf-87775f96f812",
   "metadata": {},
   "source": [
    "## Up Next\n",
    "\n",
    "Neighborhood Node Counts"
   ]
  },
  {
   "cell_type": "markdown",
   "id": "88a981af-5447-431f-ba6f-74c7309a326d",
   "metadata": {},
   "source": [
    "## Resources\n",
    "\n",
    "- [GRAPH ALGORITHMS, MARVEL, NEO4J: Neo4j Marvel Social Graph Algorithms Community Detection](https://tbgraph.wordpress.com/2017/11/17/neo4j-marvel-social-graph-algorithms-community-detection/)\n",
    "- [Neo4j to Gephi](https://tbgraph.wordpress.com/2017/04/01/neo4j-to-gephi/)\n",
    "- [Graph People](https://tbgraph.wordpress.com/)\n",
    "- [Networks](https://www.amazon.com/Networks-Mark-Newman/dp/0198805098)\n",
    "- [Understanding Dark Networks](https://www.amazon.com/Understanding-Dark-Networks-Daniel-Cunningham/dp/1442249447)\n",
    "- [A First Course in Network Science](https://www.amazon.com/First-Course-Network-Science/dp/1108471137)"
   ]
  }
 ],
 "metadata": {
  "kernelspec": {
   "display_name": "Python 3",
   "language": "python",
   "name": "python3"
  },
  "language_info": {
   "codemirror_mode": {
    "name": "ipython",
    "version": 3
   },
   "file_extension": ".py",
   "mimetype": "text/x-python",
   "name": "python",
   "nbconvert_exporter": "python",
   "pygments_lexer": "ipython3",
   "version": "3.8.8"
  }
 },
 "nbformat": 4,
 "nbformat_minor": 5
}
