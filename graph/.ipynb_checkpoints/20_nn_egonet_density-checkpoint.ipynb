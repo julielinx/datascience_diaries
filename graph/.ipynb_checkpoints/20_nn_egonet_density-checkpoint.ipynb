{
 "cells": [
  {
   "cell_type": "markdown",
   "id": "c89612ce-115c-4913-bb3a-f0320a224267",
   "metadata": {},
   "source": [
    "# Entry 19: Nearest Neighbor Egonet Density"
   ]
  },
  {
   "cell_type": "markdown",
   "id": "bd489ba2-9c5b-42db-a5a7-ac6b9ad06b91",
   "metadata": {},
   "source": [
    "When calculating the density, for bimodal you need the counts for both heroes and comics to calculate the number of possible relationships, just as discussed in Entries 7 and 14 for global density. This makes the query more complicated. I decided to solve this by using two queries and merging the results in the notebook."
   ]
  }
 ],
 "metadata": {
  "kernelspec": {
   "display_name": "Python 3",
   "language": "python",
   "name": "python3"
  },
  "language_info": {
   "codemirror_mode": {
    "name": "ipython",
    "version": 3
   },
   "file_extension": ".py",
   "mimetype": "text/x-python",
   "name": "python",
   "nbconvert_exporter": "python",
   "pygments_lexer": "ipython3",
   "version": "3.8.8"
  }
 },
 "nbformat": 4,
 "nbformat_minor": 5
}
