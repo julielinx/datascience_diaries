{
 "cells": [
  {
   "cell_type": "markdown",
   "id": "94b7e964-9705-40b3-bd2b-8d26d61f4025",
   "metadata": {},
   "source": [
    "# Entry G19: Neighborhood Node Counts"
   ]
  },
  {
   "cell_type": "markdown",
   "id": "3480d08e-44a7-4360-ac77-fe3125762d3d",
   "metadata": {},
   "source": [
    "Now that we've established [how to define an egocentric neighborhood]() and [differentiated our people nodes](), it's time to start calcuating metrics for the different neighborhoods."
   ]
  },
  {
   "cell_type": "markdown",
   "id": "625098f0-344e-4e67-b9cd-8bfb31c5bb24",
   "metadata": {},
   "source": [
    "## Metrics\n",
    "\n",
    "To kick off metrics, I did simple counts: number of nearest neighbors, number of next nearest neighbors, and the percent of each that are villains.\n",
    "\n",
    "My original thought was to use the shortest path algorithm, but on the advice of Neo4j's Andrew Bowman I used `apoc.path.spanningTree`. The benefits of using this algorithm are that it uses breadth first search, has node filters that allows for easily counting villains while still expanding past those villians to find the next nearest villains, and relationship filters that make translating the query to work on the mix graph a cinch.\n",
    "\n",
    "\n",
    "\n",
    "Distribution charts for counts at each step. Distrubution charts of villain %."
   ]
  },
  {
   "cell_type": "markdown",
   "id": "5d02b8f8-3834-48be-956d-a8c00a903046",
   "metadata": {},
   "source": []
  },
  {
   "cell_type": "markdown",
   "id": "dda693d5-bfe7-4c03-98e3-b5bde588080d",
   "metadata": {},
   "source": []
  },
  {
   "cell_type": "markdown",
   "id": "87856641-81aa-4e6b-9d91-f602384f4bfe",
   "metadata": {},
   "source": []
  }
 ],
 "metadata": {
  "kernelspec": {
   "display_name": "Python 3",
   "language": "python",
   "name": "python3"
  },
  "language_info": {
   "codemirror_mode": {
    "name": "ipython",
    "version": 3
   },
   "file_extension": ".py",
   "mimetype": "text/x-python",
   "name": "python",
   "nbconvert_exporter": "python",
   "pygments_lexer": "ipython3",
   "version": "3.8.8"
  }
 },
 "nbformat": 4,
 "nbformat_minor": 5
}
