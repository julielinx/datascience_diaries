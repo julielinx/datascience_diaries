{
 "cells": [
  {
   "cell_type": "markdown",
   "id": "c89612ce-115c-4913-bb3a-f0320a224267",
   "metadata": {},
   "source": [
    "# Entry 23: Egonet Density"
   ]
  },
  {
   "cell_type": "markdown",
   "id": "bd489ba2-9c5b-42db-a5a7-ac6b9ad06b91",
   "metadata": {},
   "source": [
    "When calculating the density, for bimodal you need the counts for both heroes and comics to calculate the number of possible relationships, just as discussed in Entries 7 and 14 for global density. This makes the query more complicated. I decided to solve this by using two queries and merging the results in the notebook.\n",
    "\n",
    "Only run densities out to next nearest neighbors (2 steps) as the \"average\" node is connected to all the nodes it can be connected to with 2.6 steps. So if we went out 3 steps, we may as well have run the density of the rull graph."
   ]
  },
  {
   "cell_type": "markdown",
   "id": "b4807e87-ec44-4602-b578-d6de34b06f81",
   "metadata": {},
   "source": [
    "## The Problem\n",
    "\n",
    "As discussed in [Entry G18](https://julielinx.github.io/blog/g18_egocentric_networks/) we often want to know about specific nodes, or have information that will help us differentiate between nodes to find things of interest.\n",
    "\n",
    "The best place to start is the immediate neighbors and the next nearest neighbors. If you remember from Entry "
   ]
  },
  {
   "cell_type": "markdown",
   "id": "12df96f3-09fa-40b1-8893-48f4b4fb8ef0",
   "metadata": {},
   "source": [
    "## The Options\n"
   ]
  },
  {
   "cell_type": "markdown",
   "id": "dbaf16e2-8b0c-47b5-8318-01e83a3ca17f",
   "metadata": {},
   "source": [
    "## The Proposed Solution\n"
   ]
  },
  {
   "cell_type": "markdown",
   "id": "bfe5b2f5-e42a-4362-9500-76e769875674",
   "metadata": {},
   "source": [
    "## The Fail\n"
   ]
  },
  {
   "cell_type": "markdown",
   "id": "1fc5b9be-49c6-40ed-b6b9-d8e3a08243bc",
   "metadata": {},
   "source": [
    "## Up Next\n"
   ]
  },
  {
   "cell_type": "markdown",
   "id": "24c0194d-12d9-4ead-86fc-ec6951227d14",
   "metadata": {},
   "source": [
    "## Resources\n"
   ]
  }
 ],
 "metadata": {
  "kernelspec": {
   "display_name": "Python 3",
   "language": "python",
   "name": "python3"
  },
  "language_info": {
   "codemirror_mode": {
    "name": "ipython",
    "version": 3
   },
   "file_extension": ".py",
   "mimetype": "text/x-python",
   "name": "python",
   "nbconvert_exporter": "python",
   "pygments_lexer": "ipython3",
   "version": "3.8.8"
  }
 },
 "nbformat": 4,
 "nbformat_minor": 5
}
