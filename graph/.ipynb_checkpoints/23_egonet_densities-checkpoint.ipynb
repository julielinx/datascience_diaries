{
 "cells": [
  {
   "cell_type": "markdown",
   "id": "c89612ce-115c-4913-bb3a-f0320a224267",
   "metadata": {},
   "source": [
    "# Entry 23: Egonet Density"
   ]
  },
  {
   "cell_type": "markdown",
   "id": "bd489ba2-9c5b-42db-a5a7-ac6b9ad06b91",
   "metadata": {},
   "source": [
    "The next metric on our list to translate from the global graph to a local neighborhood is density. For a high level discussion of density, see [Entry G7](https://julielinx.github.io/blog/g07_global_density_diameter/) and [Entry G15](https://julielinx.github.io/blog/g15_global_density_comparison/). G15 in particulare includes picture examples of dense vs sparse graphs.\n",
    "\n",
    "There is some variation in the information needed between unimodal and bimodal graph models. For unimodal models, all you need is a total count of nodes.\n",
    "\n",
    "When calculating density for bimodal models, you need separate counts for heroes and comics. This is due to the equation to calculate the number of possible relationships. This makes the query for the bimodal models slightly longer.\n",
    "\n",
    "I solve this challenge by using two queries, one for unimodal and one for bimodal.\n",
    "\n",
    "I only run densities out to next nearest neighbors (2 steps) because the \"average node\" is connected to all the nodes it can be connected to with 2.6 steps. So if we go out 3 steps, we may as well run the density of the full graph which defeats the purpose of a local metric."
   ]
  },
  {
   "cell_type": "markdown",
   "id": "b4807e87-ec44-4602-b578-d6de34b06f81",
   "metadata": {},
   "source": [
    "## The Problem\n",
    "\n",
    "As discussed in [Entry G18](https://julielinx.github.io/blog/g18_egocentric_networks/) we often want to know about specific nodes, or have information that will help us differentiate between nodes to find things of interest.\n",
    "\n",
    "The best place to start is the immediate neighbors and the next nearest neighbors. If you remember from [Entry G10](https://julielinx.github.io/blog/g10_local_metrics/) we need to find outliers for closer inspection. In the Panama Papers and other ICIJ investigations we can use these outliers to locate entities for closer investigation to see whether they're acting in bad good or bad faith."
   ]
  },
  {
   "cell_type": "markdown",
   "id": "12df96f3-09fa-40b1-8893-48f4b4fb8ef0",
   "metadata": {},
   "source": [
    "## The Solution\n",
    "\n",
    "We already have all the pieces we need in order to calculate local density, we just need to put them together.\n",
    "\n",
    "- Determine step level\n",
    "- Isolate a subgraph\n",
    "- Get the node and relationship counts\n",
    "- Calculate the number of possible relationships\n",
    "- Calculate density"
   ]
  },
  {
   "cell_type": "markdown",
   "id": "3a5296ad-3f42-4331-95ca-173e23bacd1d",
   "metadata": {},
   "source": [
    "### Step Level\n",
    "\n",
    "As indicated above, we want both the nearest neighbors (one step) and next nearest neighbors (two steps). For ease of reference and to keep the calculations comparable across graph models, I define one step in the bimodal models as Hero to Hero, the same as in the unimodal model.\n",
    "\n",
    "I also ran the calculations on both the graph as a whole, as well as just for villain neighbors.\n",
    "\n",
    "The logic of this is that bad actors tend to be connected to other bad actors in some way. For example, auto fraud rings in California are known to have networks: the same drivers/passengers are involved in many accidents, the same set of law firms represent those drivers/passengers, and the same clinics treat the alleged injuries of those drivers/passengers.\n",
    "\n",
    "We should be able to see these networks and densities in the graph. Using just villian neighbors will hopefully give a clearer signal that including all contacts. After all, even legitimately injured people probably attend the clinics that are involved in auto fraud.\n",
    "\n",
    "The code is in the following notebooks:\n",
    "- Nearest Neighbors: [Entry 23a notebook](https://github.com/julielinx/datascience_diaries/blob/master/graph/23a_nb_%20egonet_densities.ipynb)\n",
    "- Next Nearest Neighbors [Entry 23b notebook](https://github.com/julielinx/datascience_diaries/blob/master/graph/23b_nb_egonet_densities.ipynb)\n",
    "- Nearest Villain Neighbors: [Entry 23c notebook](https://github.com/julielinx/datascience_diaries/blob/master/graph/23c_nb_%20egonet_densities.ipynb)\n",
    "- Next Nearest Villain Neighbors: [Entry 23d notebook](https://github.com/julielinx/datascience_diaries/blob/master/graph/23d_nb_egonet_densities.ipynb)"
   ]
  },
  {
   "cell_type": "markdown",
   "id": "49581758-d408-4b9b-97b9-ef55cbbcf5e9",
   "metadata": {},
   "source": [
    "### Isolate Subgraph\n",
    "\n",
    "For the past several metrics, we've used `apoc.path.spanningTree`. As discussed in [Entry G19](https://julielinx.github.io/blog/g19_neighborhood_node_cts/#apocpathspanningtree), this is a breadth first search algorithm, which means it finds only the first/shortest path between nodes.\n",
    "\n",
    "For this problem, we need all relationships that meet certain criteria. The best candidate to accomplish this task is the `apoc.path.subgraphAll` algorithm.\n",
    "\n",
    "One of the limitations mentioned previously in [Entry G19](https://julielinx.github.io/blog/g19_neighborhood_node_cts/#apocpathsubgraphall) as the increasing time at larger step distances. Since we're only going out two steps, the distance penalty wasn't a problem.\n",
    "\n",
    "The graph query to isolate the per node subgraph looks something like this (changes are introduced to account for nearest vs next nearest and all vs villain - see the code for the specifics):\n",
    "\n",
    "```\n",
    "MATCH (h:Hero)\n",
    "call apoc.path.subgraphAll(h, {maxLevel: 2, relationshipFilter:'KNOWS'})\n",
    "YIELD nodes, relationships\n",
    "```"
   ]
  },
  {
   "cell_type": "markdown",
   "id": "afeac76b-23e0-4f0e-bc1d-e42d36021c49",
   "metadata": {},
   "source": [
    "### Get Node and Relationship Counts\n",
    "\n",
    "It was very easy to work with the lists of things when I needed straight counts of everything in the subgraph. The `size` function applied to each of the return parameters (`nodes` and `relationships`) in the `RETURN` gave me exactly what I needed.\n",
    "\n",
    "```\n",
    "RETURN h.name as hero, labels(h)[-1] as h_type, size(relationships) as rel_ct, size(nodes) as node_ct\n",
    "```"
   ]
  },
  {
   "cell_type": "markdown",
   "id": "eeb7f7fb-64b1-4b7a-9015-d9583389d8bb",
   "metadata": {},
   "source": [
    "### Calculate the Number of Possible Relationships\n",
    "\n",
    "The full query from the above two steps looks like this:\n",
    "\n",
    "```\n",
    "MATCH (h:Hero)\n",
    "call apoc.path.subgraphAll(h, {maxLevel: 2, relationshipFilter:'KNOWS'})\n",
    "YIELD nodes, relationships\n",
    "RETURN h.name as hero, labels(h)[-1] as h_type, size(relationships) as rel_ct, size(nodes) as node_ct\n",
    "```\n",
    "\n",
    "This is the resulting dataframe:\n",
    "\n",
    "<img src='images/23_query_results.png'>\n",
    "\n",
    "You may or may not recall the equation for the number of possible relationships from way back in [Entry G7](https://julielinx.github.io/blog/g07_global_density_diameter/). As discussed in that entry, the calcuation depends on the graph model (unimodal vs bimodal) and whether or not the graph is directed or undirected. As a refresher, here are the equations (for more details on the differences in the equations, please refer to Entry G7's [Number of possible relationships](https://julielinx.github.io/blog/g07_global_density_diameter/#number-of-possible-relationships) section and Entry G15's [Possible Relationships](https://julielinx.github.io/blog/g15_global_density_comparison/#possible-relationships) section):\n",
    "\n",
    "#### Unimodal\n",
    "\n",
    "Multiply the number of nodes by one less than the number of nodes.\n",
    "\n",
    "**Directed unimodal graph:**\n",
    "\n",
    "$pr = n (n - 1)$\n",
    "\n",
    "**Undirected unimodal graph:**\n",
    "\n",
    "$pr = \\frac{n (n - 1)}{2}$\n",
    "\n",
    "Where\n",
    "\n",
    "- pr = number of possible relationships\n",
    "- n = node count\n",
    "\n",
    "#### Bimodal\n",
    "\n",
    "**Directed bimodal graph:**\n",
    "\n",
    "$pr = (n1 \\times n2) \\times 2$\n",
    "\n",
    "**Undirected bimodal graph:**\n",
    "\n",
    "$pr = n1 \\times n2$\n",
    "\n",
    "Where\n",
    "\n",
    "- pr = number of possible relationships\n",
    "- n1 = node type 1\n",
    "- n2 = node type 2\n",
    "\n",
    "For the unimodal calculation we only need the `node_ct` column.\n",
    "\n",
    "For the bimodal calculation we need to separate out the count of nodes by their label: hero or comic. Because of this, the query and results for the bimodal models is slightly different from what's listed above. It looks like this:\n",
    "\n",
    "<img src='images/23_bi_query_results.png'>\n",
    "\n",
    "Notice that the `Hero` count matches the `node_ct` from the unimodal example. This is because the `Hero` nodes aren't in the unimodal graph, so these are all extra nodes."
   ]
  },
  {
   "cell_type": "markdown",
   "id": "27bed45c-7264-4886-bcab-ac3195386699",
   "metadata": {},
   "source": [
    "### Calculate Density\n",
    "\n",
    "Once we have the number of possible relationships, the density calculation is easy and standard across model types:\n",
    "\n",
    "$d =\\frac{r}{pr}$\n",
    "\n",
    "Where:\n",
    "\n",
    "- d = density\n",
    "- r = relationship count\n",
    "- pr = number of possible relationships"
   ]
  },
  {
   "cell_type": "markdown",
   "id": "54ba9640-40fa-468f-9814-db01b51fcec4",
   "metadata": {},
   "source": [
    "### Get the Answer\n",
    "\n",
    "Now that we've got all the values, the final dataframe looks like this:\n",
    "\n",
    "<img src='images/23_density_df.png'>\n",
    "\n",
    "Remember, since this is a local density, we have a value for every node. As such, our next step is to get a handle on the distrubution of the values."
   ]
  },
  {
   "cell_type": "markdown",
   "id": "543b324c-0fba-4438-98ac-752423c2ea70",
   "metadata": {},
   "source": [
    "## The Fail\n",
    "\n",
    "It wasn't until I went to visualize the distributions that I realized the `apoc.path.subgraphAll` algorithm returns all relationships for the nodes, not just the ones specified in the `relationshipFilter`. I can see how this may be helpful for visualizing the graph, but as for the actual returned results, the intuitive reational is that you only get back the relationships you specifically asked for.\n",
    "\n",
    "There are no parameters that change the behavior to the one I assumed (return only the relationships asked for in `relationshipFilter`). To get this behavior required advanced Cypher syntax. For now, I just subtracted the `KNOWS` relationship counts and recalculated the density.\n",
    "\n",
    "*Caution*, I left the incorrect values in the `.csv` files and only corrected the mixed graph model bimodal version in the actual code for the distrubution visualizations.\n",
    "\n",
    "I go into the behavior of the algorithm in more detail in the next entry."
   ]
  },
  {
   "cell_type": "markdown",
   "id": "1fc5b9be-49c6-40ed-b6b9-d8e3a08243bc",
   "metadata": {},
   "source": [
    "## Up Next\n",
    "\n",
    "Local Density Distribution"
   ]
  },
  {
   "cell_type": "markdown",
   "id": "24c0194d-12d9-4ead-86fc-ec6951227d14",
   "metadata": {},
   "source": [
    "## Resources\n",
    "\n",
    "- [Entry G7: Density and Diameter](https://julielinx.github.io/blog/g07_global_density_diameter/)\n",
    "- [Entry G10: Local Metrics](https://julielinx.github.io/blog/g10_local_metrics/)\n",
    "- [Entry G15: Global Density Comparison](https://julielinx.github.io/blog/g15_global_density_comparison/)\n",
    "- [Entry G18: Egocentric Networks](https://julielinx.github.io/blog/g18_egocentric_networks/)\n",
    "- [Entry G19: Neighborhood Node Counts](https://julielinx.github.io/blog/g19_neighborhood_node_cts/#apocpathsubgraphall)"
   ]
  }
 ],
 "metadata": {
  "kernelspec": {
   "display_name": "Python 3",
   "language": "python",
   "name": "python3"
  },
  "language_info": {
   "codemirror_mode": {
    "name": "ipython",
    "version": 3
   },
   "file_extension": ".py",
   "mimetype": "text/x-python",
   "name": "python",
   "nbconvert_exporter": "python",
   "pygments_lexer": "ipython3",
   "version": "3.8.8"
  }
 },
 "nbformat": 4,
 "nbformat_minor": 5
}
