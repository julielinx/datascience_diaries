{
 "cells": [
  {
   "cell_type": "markdown",
   "metadata": {},
   "source": [
    "# Entry G13: Weighted Degree Comparison"
   ]
  },
  {
   "cell_type": "code",
   "execution_count": 2,
   "metadata": {},
   "outputs": [],
   "source": [
    "import numpy as np\n",
    "import pandas as pd\n",
    "import matplotlib.pyplot as plt\n",
    "import seaborn as sns\n",
    "plt.style.use('ggplot')\n",
    "%matplotlib inline\n",
    "\n",
    "import warnings\n",
    "warnings.filterwarnings('once')\n",
    "\n",
    "from neo4j import GraphDatabase"
   ]
  },
  {
   "cell_type": "code",
   "execution_count": 3,
   "metadata": {},
   "outputs": [
    {
     "name": "stderr",
     "output_type": "stream",
     "text": [
      "//anaconda3/lib/python3.7/site-packages/ipykernel/ipkernel.py:287: DeprecationWarning: `should_run_async` will not call `transform_cell` automatically in the future. Please pass the result to `transformed_cell` argument and any exception that happen during thetransform in `preprocessing_exc_tuple` in IPython 7.17 and above.\n",
      "  and should_run_async(code)\n"
     ]
    }
   ],
   "source": [
    "uri = \"bolt://localhost:7687\"\n",
    "\n",
    "driver = GraphDatabase.driver(uri, auth=('neo4j', 'password'))\n",
    "\n",
    "uni_session = driver.session(database=\"unimodal\")\n",
    "bi_session = driver.session(database=\"bimodal\")\n",
    "mix_session = driver.session(database=\"mixmodal\")"
   ]
  },
  {
   "cell_type": "markdown",
   "metadata": {},
   "source": [
    "## Weighted Degree Count"
   ]
  },
  {
   "cell_type": "markdown",
   "metadata": {},
   "source": [
    "### Unimodal Model"
   ]
  },
  {
   "cell_type": "code",
   "execution_count": 4,
   "metadata": {},
   "outputs": [
    {
     "data": {
      "text/plain": [
       "[{'weighted_degree': 579171}]"
      ]
     },
     "execution_count": 4,
     "metadata": {},
     "output_type": "execute_result"
    }
   ],
   "source": [
    "uni_session.run('''MATCH ()-[r]-()\n",
    "With distinct(r)\n",
    "RETURN sum(r.weight) as weighted_degree''').data()"
   ]
  },
  {
   "cell_type": "markdown",
   "metadata": {},
   "source": [
    "### Bimodal Model"
   ]
  },
  {
   "cell_type": "code",
   "execution_count": null,
   "metadata": {},
   "outputs": [],
   "source": []
  },
  {
   "cell_type": "markdown",
   "metadata": {},
   "source": [
    "### Mixed Model"
   ]
  },
  {
   "cell_type": "code",
   "execution_count": 9,
   "metadata": {},
   "outputs": [
    {
     "data": {
      "text/plain": [
       "[{'weighted_degree': 579039}]"
      ]
     },
     "execution_count": 9,
     "metadata": {},
     "output_type": "execute_result"
    }
   ],
   "source": [
    "mix_session.run('''MATCH ()-[r]-()\n",
    "With distinct(r)\n",
    "RETURN sum(r.weight) as weighted_degree''').data()"
   ]
  },
  {
   "cell_type": "markdown",
   "metadata": {},
   "source": [
    "## Weighted Degree Summary Statistics"
   ]
  },
  {
   "cell_type": "markdown",
   "metadata": {},
   "source": [
    "### Unimodal Model"
   ]
  },
  {
   "cell_type": "code",
   "execution_count": 5,
   "metadata": {},
   "outputs": [
    {
     "data": {
      "text/plain": [
       "[{'weighted_degree_min': 1,\n",
       "  'weighted_degree_max': 16057,\n",
       "  'weighted_degree_avg': 180.4,\n",
       "  'weighted_degree_stdev': 728.32}]"
      ]
     },
     "execution_count": 5,
     "metadata": {},
     "output_type": "execute_result"
    }
   ],
   "source": [
    "uni_session.run('''MATCH (n)-[r]-(m)\n",
    "with n.name as hero, sum(r.weight) as weighted_degree\n",
    "RETURN min(weighted_degree) as weighted_degree_min,\n",
    "max(weighted_degree) as weighted_degree_max,\n",
    "round(avg(weighted_degree)*100)/100 as weighted_degree_avg,\n",
    "round(stdev(weighted_degree)*100)/100 as weighted_degree_stdev''').data()"
   ]
  },
  {
   "cell_type": "code",
   "execution_count": 6,
   "metadata": {},
   "outputs": [
    {
     "data": {
      "text/plain": [
       "[{'weighted_degree_min': 0.0,\n",
       "  'weighted_degree_max': 16057.0,\n",
       "  'weighted_degree_avg': 179.89,\n",
       "  'weighted_degree_stdev': 727.36}]"
      ]
     },
     "execution_count": 6,
     "metadata": {},
     "output_type": "execute_result"
    }
   ],
   "source": [
    "uni_session.run('''CALL gds.alpha.degree.stream({\n",
    "  nodeProjection: 'Hero',\n",
    "  relationshipProjection: {\n",
    "    KNOWS: {\n",
    "      type: 'KNOWS',\n",
    "      orientation:'UNDIRECTED',\n",
    "      properties:'weight'\n",
    "  }},\n",
    "  relationshipWeightProperty: 'weight'\n",
    "})\n",
    "YIELD nodeId, score\n",
    "WITH gds.util.asNode(nodeId).name AS hero, score AS weighted_degree\n",
    "RETURN min(weighted_degree) as weighted_degree_min,\n",
    "max(weighted_degree) as weighted_degree_max,\n",
    "round(avg(weighted_degree)*100)/100 as weighted_degree_avg,\n",
    "round(stdev(weighted_degree)*100)/100 as weighted_degree_stdev''').data()"
   ]
  },
  {
   "cell_type": "markdown",
   "metadata": {},
   "source": [
    "### Bimodal Model"
   ]
  },
  {
   "cell_type": "markdown",
   "metadata": {},
   "source": [
    "**Hero to Hero**"
   ]
  },
  {
   "cell_type": "code",
   "execution_count": 30,
   "metadata": {},
   "outputs": [
    {
     "data": {
      "text/plain": [
       "[{'weighted_degree_min': 1,\n",
       "  'weighted_degree_max': 16057,\n",
       "  'weighted_degree_avg': 180.4,\n",
       "  'weighted_degree_stdev': 728.32}]"
      ]
     },
     "execution_count": 30,
     "metadata": {},
     "output_type": "execute_result"
    }
   ],
   "source": [
    "# These seem a bit high. Are you calculating the weighted degree correctly??\n",
    "\n",
    "bi_session.run('''MATCH (h:Hero)--(c:Comic)--(h2:Hero)\n",
    "WITH h.name as hero, count(c) as weighted_degree\n",
    "RETURN min(weighted_degree) as weighted_degree_min,\n",
    "max(weighted_degree) as weighted_degree_max,\n",
    "round(avg(weighted_degree)*100)/100 as weighted_degree_avg,\n",
    "round(stdev(weighted_degree)*100)/100 as weighted_degree_stdev''').data()"
   ]
  },
  {
   "cell_type": "markdown",
   "metadata": {},
   "source": [
    "**Comic to Comic**"
   ]
  },
  {
   "cell_type": "code",
   "execution_count": 33,
   "metadata": {},
   "outputs": [
    {
     "data": {
      "text/plain": [
       "[{'weighted_degree_min': 1,\n",
       "  'weighted_degree_max': 27582,\n",
       "  'weighted_degree_avg': 1895.96,\n",
       "  'weighted_degree_stdev': 2119.59}]"
      ]
     },
     "execution_count": 33,
     "metadata": {},
     "output_type": "execute_result"
    }
   ],
   "source": [
    "bi_session.run('''MATCH (c:Comic)--(h:Hero)--(c2:Comic)\n",
    "WITH c.name as comic, count(h) as weighted_degree\n",
    "RETURN min(weighted_degree) as weighted_degree_min,\n",
    "max(weighted_degree) as weighted_degree_max,\n",
    "round(avg(weighted_degree)*100)/100 as weighted_degree_avg,\n",
    "round(stdev(weighted_degree)*100)/100 as weighted_degree_stdev''').data()"
   ]
  },
  {
   "cell_type": "markdown",
   "metadata": {},
   "source": [
    "### Mixed Model\n",
    "\n",
    "Change these. I want Hero to Hero and Comic to Comic.\n",
    "\n",
    "And why are the results different anyway??"
   ]
  },
  {
   "cell_type": "code",
   "execution_count": 14,
   "metadata": {},
   "outputs": [
    {
     "data": {
      "text/plain": [
       "[{'weighted_degree_min': 0,\n",
       "  'weighted_degree_max': 16054,\n",
       "  'weighted_degree_avg': 60.66,\n",
       "  'weighted_degree_stdev': 430.82}]"
      ]
     },
     "execution_count": 14,
     "metadata": {},
     "output_type": "execute_result"
    }
   ],
   "source": [
    "mix_session.run('''MATCH (n)-[r]-(m)\n",
    "with n.name as hero, sum(r.weight) as weighted_degree\n",
    "RETURN min(weighted_degree) as weighted_degree_min,\n",
    "max(weighted_degree) as weighted_degree_max,\n",
    "round(avg(weighted_degree)*100)/100 as weighted_degree_avg,\n",
    "round(stdev(weighted_degree)*100)/100 as weighted_degree_stdev''').data()"
   ]
  },
  {
   "cell_type": "code",
   "execution_count": 15,
   "metadata": {},
   "outputs": [
    {
     "data": {
      "text/plain": [
       "[{'weighted_degree_min': 1,\n",
       "  'weighted_degree_max': 16054,\n",
       "  'weighted_degree_avg': 180.36,\n",
       "  'weighted_degree_stdev': 728.2}]"
      ]
     },
     "execution_count": 15,
     "metadata": {},
     "output_type": "execute_result"
    }
   ],
   "source": [
    "mix_session.run('''MATCH (n)-[r:KNOWS]-(m)\n",
    "with n.name as hero, sum(r.weight) as weighted_degree\n",
    "RETURN min(weighted_degree) as weighted_degree_min,\n",
    "max(weighted_degree) as weighted_degree_max,\n",
    "round(avg(weighted_degree)*100)/100 as weighted_degree_avg,\n",
    "round(stdev(weighted_degree)*100)/100 as weighted_degree_stdev''').data()"
   ]
  },
  {
   "cell_type": "code",
   "execution_count": 16,
   "metadata": {},
   "outputs": [
    {
     "data": {
      "text/plain": [
       "[{'weighted_degree_min': 0.0,\n",
       "  'weighted_degree_max': 16054.0,\n",
       "  'weighted_degree_avg': 179.85,\n",
       "  'weighted_degree_stdev': 727.25}]"
      ]
     },
     "execution_count": 16,
     "metadata": {},
     "output_type": "execute_result"
    }
   ],
   "source": [
    "mix_session.run('''CALL gds.alpha.degree.stream({\n",
    "  nodeProjection: 'Hero',\n",
    "  relationshipProjection: {\n",
    "    KNOWS: {\n",
    "      type: 'KNOWS',\n",
    "      orientation:'UNDIRECTED',\n",
    "      properties:'weight'\n",
    "  }},\n",
    "  relationshipWeightProperty: 'weight'\n",
    "})\n",
    "YIELD nodeId, score\n",
    "WITH gds.util.asNode(nodeId).name AS hero, score AS weighted_degree\n",
    "RETURN min(weighted_degree) as weighted_degree_min,\n",
    "max(weighted_degree) as weighted_degree_max,\n",
    "round(avg(weighted_degree)*100)/100 as weighted_degree_avg,\n",
    "round(stdev(weighted_degree)*100)/100 as weighted_degree_stdev''').data()"
   ]
  },
  {
   "cell_type": "markdown",
   "metadata": {},
   "source": [
    "## Weighted Degree Distribution"
   ]
  },
  {
   "cell_type": "code",
   "execution_count": 7,
   "metadata": {},
   "outputs": [
    {
     "data": {
      "text/html": [
       "<div>\n",
       "<style scoped>\n",
       "    .dataframe tbody tr th:only-of-type {\n",
       "        vertical-align: middle;\n",
       "    }\n",
       "\n",
       "    .dataframe tbody tr th {\n",
       "        vertical-align: top;\n",
       "    }\n",
       "\n",
       "    .dataframe thead th {\n",
       "        text-align: right;\n",
       "    }\n",
       "</style>\n",
       "<table border=\"1\" class=\"dataframe\">\n",
       "  <thead>\n",
       "    <tr style=\"text-align: right;\">\n",
       "      <th></th>\n",
       "      <th>hero</th>\n",
       "      <th>weighted_degree</th>\n",
       "    </tr>\n",
       "  </thead>\n",
       "  <tbody>\n",
       "    <tr>\n",
       "      <th>0</th>\n",
       "      <td>24-HOUR MAN/EMMANUEL</td>\n",
       "      <td>5.0</td>\n",
       "    </tr>\n",
       "    <tr>\n",
       "      <th>1</th>\n",
       "      <td>3-D MAN/CHARLES CHAN</td>\n",
       "      <td>148.0</td>\n",
       "    </tr>\n",
       "    <tr>\n",
       "      <th>2</th>\n",
       "      <td>4-D MAN/MERCURIO</td>\n",
       "      <td>118.0</td>\n",
       "    </tr>\n",
       "    <tr>\n",
       "      <th>3</th>\n",
       "      <td>8-BALL/</td>\n",
       "      <td>21.0</td>\n",
       "    </tr>\n",
       "    <tr>\n",
       "      <th>4</th>\n",
       "      <td>ABBOTT, JACK</td>\n",
       "      <td>8.0</td>\n",
       "    </tr>\n",
       "  </tbody>\n",
       "</table>\n",
       "</div>"
      ],
      "text/plain": [
       "                   hero  weighted_degree\n",
       "0  24-HOUR MAN/EMMANUEL              5.0\n",
       "1  3-D MAN/CHARLES CHAN            148.0\n",
       "2      4-D MAN/MERCURIO            118.0\n",
       "3               8-BALL/             21.0\n",
       "4          ABBOTT, JACK              8.0"
      ]
     },
     "execution_count": 7,
     "metadata": {},
     "output_type": "execute_result"
    }
   ],
   "source": [
    "uni_weighted_df = pd.DataFrame(uni_session.run('''CALL gds.alpha.degree.stream({\n",
    "  nodeProjection: 'Hero',\n",
    "  relationshipProjection: {\n",
    "    KNOWS: {\n",
    "      type: 'KNOWS',\n",
    "      orientation:'UNDIRECTED',\n",
    "      properties:'weight'\n",
    "  }},\n",
    "  relationshipWeightProperty: 'weight'\n",
    "})\n",
    "YIELD nodeId, score\n",
    "RETURN gds.util.asNode(nodeId).name AS hero, score AS weighted_degree''').values(), columns=['hero', 'weighted_degree'])\n",
    "\n",
    "uni_weighted_df.head()"
   ]
  },
  {
   "cell_type": "code",
   "execution_count": 21,
   "metadata": {},
   "outputs": [
    {
     "name": "stderr",
     "output_type": "stream",
     "text": [
      "//anaconda3/lib/python3.7/site-packages/ipykernel/ipkernel.py:287: DeprecationWarning: `should_run_async` will not call `transform_cell` automatically in the future. Please pass the result to `transformed_cell` argument and any exception that happen during thetransform in `preprocessing_exc_tuple` in IPython 7.17 and above.\n",
      "  and should_run_async(code)\n"
     ]
    },
    {
     "data": {
      "text/html": [
       "<div>\n",
       "<style scoped>\n",
       "    .dataframe tbody tr th:only-of-type {\n",
       "        vertical-align: middle;\n",
       "    }\n",
       "\n",
       "    .dataframe tbody tr th {\n",
       "        vertical-align: top;\n",
       "    }\n",
       "\n",
       "    .dataframe thead th {\n",
       "        text-align: right;\n",
       "    }\n",
       "</style>\n",
       "<table border=\"1\" class=\"dataframe\">\n",
       "  <thead>\n",
       "    <tr style=\"text-align: right;\">\n",
       "      <th></th>\n",
       "      <th>hero</th>\n",
       "      <th>weighted_degree</th>\n",
       "    </tr>\n",
       "  </thead>\n",
       "  <tbody>\n",
       "    <tr>\n",
       "      <th>0</th>\n",
       "      <td>24-HOUR MAN/EMMANUEL</td>\n",
       "      <td>5</td>\n",
       "    </tr>\n",
       "    <tr>\n",
       "      <th>1</th>\n",
       "      <td>3-D MAN/CHARLES CHAN</td>\n",
       "      <td>148</td>\n",
       "    </tr>\n",
       "    <tr>\n",
       "      <th>2</th>\n",
       "      <td>4-D MAN/MERCURIO</td>\n",
       "      <td>118</td>\n",
       "    </tr>\n",
       "    <tr>\n",
       "      <th>3</th>\n",
       "      <td>8-BALL/</td>\n",
       "      <td>21</td>\n",
       "    </tr>\n",
       "    <tr>\n",
       "      <th>4</th>\n",
       "      <td>A</td>\n",
       "      <td>17</td>\n",
       "    </tr>\n",
       "  </tbody>\n",
       "</table>\n",
       "</div>"
      ],
      "text/plain": [
       "                   hero  weighted_degree\n",
       "0  24-HOUR MAN/EMMANUEL                5\n",
       "1  3-D MAN/CHARLES CHAN              148\n",
       "2      4-D MAN/MERCURIO              118\n",
       "3               8-BALL/               21\n",
       "4                     A               17"
      ]
     },
     "execution_count": 21,
     "metadata": {},
     "output_type": "execute_result"
    }
   ],
   "source": [
    "bi_weighted_hero2hero = pd.DataFrame(bi_session.run('''MATCH (h:Hero)--(c:Comic)--(h2:Hero)\n",
    "RETURN h.name as hero, count(c) as weighted_degree\n",
    "ORDER BY hero''').data())\n",
    "weighted_hero2hero.head()"
   ]
  },
  {
   "cell_type": "code",
   "execution_count": 22,
   "metadata": {},
   "outputs": [
    {
     "name": "stderr",
     "output_type": "stream",
     "text": [
      "//anaconda3/lib/python3.7/site-packages/ipykernel/ipkernel.py:287: DeprecationWarning: `should_run_async` will not call `transform_cell` automatically in the future. Please pass the result to `transformed_cell` argument and any exception that happen during thetransform in `preprocessing_exc_tuple` in IPython 7.17 and above.\n",
      "  and should_run_async(code)\n"
     ]
    },
    {
     "data": {
      "text/html": [
       "<div>\n",
       "<style scoped>\n",
       "    .dataframe tbody tr th:only-of-type {\n",
       "        vertical-align: middle;\n",
       "    }\n",
       "\n",
       "    .dataframe tbody tr th {\n",
       "        vertical-align: top;\n",
       "    }\n",
       "\n",
       "    .dataframe thead th {\n",
       "        text-align: right;\n",
       "    }\n",
       "</style>\n",
       "<table border=\"1\" class=\"dataframe\">\n",
       "  <thead>\n",
       "    <tr style=\"text-align: right;\">\n",
       "      <th></th>\n",
       "      <th>comic</th>\n",
       "      <th>weighted_degree</th>\n",
       "    </tr>\n",
       "  </thead>\n",
       "  <tbody>\n",
       "    <tr>\n",
       "      <th>0</th>\n",
       "      <td>2001 10</td>\n",
       "      <td>58</td>\n",
       "    </tr>\n",
       "    <tr>\n",
       "      <th>1</th>\n",
       "      <td>2001 8</td>\n",
       "      <td>58</td>\n",
       "    </tr>\n",
       "    <tr>\n",
       "      <th>2</th>\n",
       "      <td>2001 9</td>\n",
       "      <td>58</td>\n",
       "    </tr>\n",
       "    <tr>\n",
       "      <th>3</th>\n",
       "      <td>A '00</td>\n",
       "      <td>4053</td>\n",
       "    </tr>\n",
       "    <tr>\n",
       "      <th>4</th>\n",
       "      <td>A '01</td>\n",
       "      <td>1783</td>\n",
       "    </tr>\n",
       "  </tbody>\n",
       "</table>\n",
       "</div>"
      ],
      "text/plain": [
       "     comic  weighted_degree\n",
       "0  2001 10               58\n",
       "1   2001 8               58\n",
       "2   2001 9               58\n",
       "3    A '00             4053\n",
       "4    A '01             1783"
      ]
     },
     "execution_count": 22,
     "metadata": {},
     "output_type": "execute_result"
    }
   ],
   "source": [
    "bi_weighted_comic2comic = pd.DataFrame(bi_session.run('''MATCH (c:Comic)--(h:Hero)--(c2:Comic)\n",
    "RETURN c.name as comic, count(h) as weighted_degree\n",
    "ORDER BY comic''').data())\n",
    "bi_weighted_comic2comic.head()"
   ]
  },
  {
   "cell_type": "code",
   "execution_count": 26,
   "metadata": {},
   "outputs": [
    {
     "data": {
      "text/html": [
       "<div>\n",
       "<style scoped>\n",
       "    .dataframe tbody tr th:only-of-type {\n",
       "        vertical-align: middle;\n",
       "    }\n",
       "\n",
       "    .dataframe tbody tr th {\n",
       "        vertical-align: top;\n",
       "    }\n",
       "\n",
       "    .dataframe thead th {\n",
       "        text-align: right;\n",
       "    }\n",
       "</style>\n",
       "<table border=\"1\" class=\"dataframe\">\n",
       "  <thead>\n",
       "    <tr style=\"text-align: right;\">\n",
       "      <th></th>\n",
       "      <th>hero</th>\n",
       "      <th>weighted_degree</th>\n",
       "    </tr>\n",
       "  </thead>\n",
       "  <tbody>\n",
       "    <tr>\n",
       "      <th>0</th>\n",
       "      <td>24-HOUR MAN/EMMANUEL</td>\n",
       "      <td>5.0</td>\n",
       "    </tr>\n",
       "    <tr>\n",
       "      <th>1</th>\n",
       "      <td>3-D MAN/CHARLES CHAN</td>\n",
       "      <td>148.0</td>\n",
       "    </tr>\n",
       "    <tr>\n",
       "      <th>2</th>\n",
       "      <td>4-D MAN/MERCURIO</td>\n",
       "      <td>118.0</td>\n",
       "    </tr>\n",
       "    <tr>\n",
       "      <th>3</th>\n",
       "      <td>8-BALL/</td>\n",
       "      <td>21.0</td>\n",
       "    </tr>\n",
       "    <tr>\n",
       "      <th>4</th>\n",
       "      <td>ABBOTT, JACK</td>\n",
       "      <td>8.0</td>\n",
       "    </tr>\n",
       "  </tbody>\n",
       "</table>\n",
       "</div>"
      ],
      "text/plain": [
       "                   hero  weighted_degree\n",
       "0  24-HOUR MAN/EMMANUEL              5.0\n",
       "1  3-D MAN/CHARLES CHAN            148.0\n",
       "2      4-D MAN/MERCURIO            118.0\n",
       "3               8-BALL/             21.0\n",
       "4          ABBOTT, JACK              8.0"
      ]
     },
     "execution_count": 26,
     "metadata": {},
     "output_type": "execute_result"
    }
   ],
   "source": [
    "mixed_weighted_hero2hero = pd.DataFrame(mix_session.run('''CALL gds.alpha.degree.stream({\n",
    "  nodeProjection: 'Hero',\n",
    "  relationshipProjection: {\n",
    "    KNOWS: {\n",
    "      type: 'KNOWS',\n",
    "      orientation:'UNDIRECTED',\n",
    "      properties:'weight'\n",
    "  }},\n",
    "  relationshipWeightProperty: 'weight'\n",
    "})\n",
    "YIELD nodeId, score\n",
    "RETURN gds.util.asNode(nodeId).name AS hero, score AS weighted_degree''').values(), columns=['hero', 'weighted_degree'])\n",
    "\n",
    "mixed_weighted_hero2hero.head()"
   ]
  },
  {
   "cell_type": "code",
   "execution_count": 27,
   "metadata": {},
   "outputs": [
    {
     "name": "stderr",
     "output_type": "stream",
     "text": [
      "//anaconda3/lib/python3.7/site-packages/ipykernel/ipkernel.py:287: DeprecationWarning: `should_run_async` will not call `transform_cell` automatically in the future. Please pass the result to `transformed_cell` argument and any exception that happen during thetransform in `preprocessing_exc_tuple` in IPython 7.17 and above.\n",
      "  and should_run_async(code)\n"
     ]
    },
    {
     "data": {
      "text/html": [
       "<div>\n",
       "<style scoped>\n",
       "    .dataframe tbody tr th:only-of-type {\n",
       "        vertical-align: middle;\n",
       "    }\n",
       "\n",
       "    .dataframe tbody tr th {\n",
       "        vertical-align: top;\n",
       "    }\n",
       "\n",
       "    .dataframe thead th {\n",
       "        text-align: right;\n",
       "    }\n",
       "</style>\n",
       "<table border=\"1\" class=\"dataframe\">\n",
       "  <thead>\n",
       "    <tr style=\"text-align: right;\">\n",
       "      <th></th>\n",
       "      <th>comic</th>\n",
       "      <th>weighted_degree</th>\n",
       "    </tr>\n",
       "  </thead>\n",
       "  <tbody>\n",
       "    <tr>\n",
       "      <th>0</th>\n",
       "      <td>2001 10</td>\n",
       "      <td>58</td>\n",
       "    </tr>\n",
       "    <tr>\n",
       "      <th>1</th>\n",
       "      <td>2001 8</td>\n",
       "      <td>58</td>\n",
       "    </tr>\n",
       "    <tr>\n",
       "      <th>2</th>\n",
       "      <td>2001 9</td>\n",
       "      <td>58</td>\n",
       "    </tr>\n",
       "    <tr>\n",
       "      <th>3</th>\n",
       "      <td>A '00</td>\n",
       "      <td>4053</td>\n",
       "    </tr>\n",
       "    <tr>\n",
       "      <th>4</th>\n",
       "      <td>A '01</td>\n",
       "      <td>1783</td>\n",
       "    </tr>\n",
       "  </tbody>\n",
       "</table>\n",
       "</div>"
      ],
      "text/plain": [
       "     comic  weighted_degree\n",
       "0  2001 10               58\n",
       "1   2001 8               58\n",
       "2   2001 9               58\n",
       "3    A '00             4053\n",
       "4    A '01             1783"
      ]
     },
     "execution_count": 27,
     "metadata": {},
     "output_type": "execute_result"
    }
   ],
   "source": [
    "# Figure out how to project this using the gds algo?\n",
    "\n",
    "mixed_weighted_comic2comic = pd.DataFrame(mix_session.run('''MATCH (c:Comic)--(h:Hero)--(c2:Comic)\n",
    "RETURN c.name as comic, count(h) as weighted_degree\n",
    "ORDER BY comic''').data())\n",
    "mixed_weighted_comic2comic.head()"
   ]
  },
  {
   "cell_type": "markdown",
   "metadata": {},
   "source": [
    "### Unimodal Model"
   ]
  },
  {
   "cell_type": "code",
   "execution_count": 8,
   "metadata": {},
   "outputs": [
    {
     "name": "stderr",
     "output_type": "stream",
     "text": [
      "//anaconda3/lib/python3.7/site-packages/ipykernel/ipkernel.py:287: DeprecationWarning: `should_run_async` will not call `transform_cell` automatically in the future. Please pass the result to `transformed_cell` argument and any exception that happen during thetransform in `preprocessing_exc_tuple` in IPython 7.17 and above.\n",
      "  and should_run_async(code)\n"
     ]
    },
    {
     "data": {
      "image/png": "[encoded data removed]",
      "text/plain": [
       "<Figure size 864x288 with 2 Axes>"
      ]
     },
     "metadata": {
      "needs_background": "light"
     },
     "output_type": "display_data"
    }
   ],
   "source": [
    "uni_fig, (uni_ax1, uni_ax2) = plt.subplots(1, 2, figsize=(12,4))\n",
    "uni_fig.suptitle(\"Unimodal Distributions\")\n",
    "uni_ax1.hist(uni_weighted_df['weighted_degree'], bins=50)\n",
    "uni_ax1.set_title('Regular Scale')\n",
    "uni_ax2.hist(uni_weighted_df['weighted_degree'], bins=50)\n",
    "uni_ax2.set_yscale('log')\n",
    "uni_ax2.set_title('Y-axis Log Scale')\n",
    "plt.show()"
   ]
  },
  {
   "cell_type": "markdown",
   "metadata": {},
   "source": [
    "### Bimodal Model"
   ]
  },
  {
   "cell_type": "markdown",
   "metadata": {},
   "source": [
    "**Hero to Hero**"
   ]
  },
  {
   "cell_type": "code",
   "execution_count": 23,
   "metadata": {},
   "outputs": [
    {
     "name": "stderr",
     "output_type": "stream",
     "text": [
      "//anaconda3/lib/python3.7/site-packages/ipykernel/ipkernel.py:287: DeprecationWarning: `should_run_async` will not call `transform_cell` automatically in the future. Please pass the result to `transformed_cell` argument and any exception that happen during thetransform in `preprocessing_exc_tuple` in IPython 7.17 and above.\n",
      "  and should_run_async(code)\n"
     ]
    },
    {
     "data": {
      "image/png": "[encoded data removed]",
      "text/plain": [
       "<Figure size 864x288 with 2 Axes>"
      ]
     },
     "metadata": {
      "needs_background": "light"
     },
     "output_type": "display_data"
    }
   ],
   "source": [
    "bih_fig, (bih_ax1, bih_ax2) = plt.subplots(1, 2, figsize=(12,4))\n",
    "bih_fig.suptitle(\"Bimodal Hero Distributions\")\n",
    "bih_ax1.hist(bi_weighted_hero2hero['weighted_degree'], bins=50)\n",
    "bih_ax1.set_title('Regular Scale')\n",
    "bih_ax2.hist(bi_weighted_hero2hero['weighted_degree'], bins=50)\n",
    "bih_ax2.set_yscale('log')\n",
    "bih_ax2.set_title('Y-axis Log Scale')\n",
    "plt.show()"
   ]
  },
  {
   "cell_type": "markdown",
   "metadata": {},
   "source": [
    "**Comic to Comic**"
   ]
  },
  {
   "cell_type": "code",
   "execution_count": 24,
   "metadata": {},
   "outputs": [
    {
     "data": {
      "image/png": "[encoded data removed]",
      "text/plain": [
       "<Figure size 864x288 with 2 Axes>"
      ]
     },
     "metadata": {
      "needs_background": "light"
     },
     "output_type": "display_data"
    }
   ],
   "source": [
    "bic_fig, (bic_ax1, bic_ax2) = plt.subplots(1, 2, figsize=(12,4))\n",
    "bic_fig.suptitle(\"Bimodal Comic Distributions\")\n",
    "bic_ax1.hist(bi_weighted_comic2comic['weighted_degree'], bins=50)\n",
    "bic_ax1.set_title('Regular Scale')\n",
    "bic_ax2.hist(bi_weighted_comic2comic['weighted_degree'], bins=50)\n",
    "bic_ax2.set_yscale('log')\n",
    "bic_ax2.set_title('Y-axis Log Scale')\n",
    "plt.show()"
   ]
  },
  {
   "cell_type": "markdown",
   "metadata": {},
   "source": [
    "### Mixed Model"
   ]
  },
  {
   "cell_type": "markdown",
   "metadata": {},
   "source": [
    "**Hero to Hero**"
   ]
  },
  {
   "cell_type": "code",
   "execution_count": 29,
   "metadata": {},
   "outputs": [
    {
     "data": {
      "image/png": "[encoded data removed]",
      "text/plain": [
       "<Figure size 864x288 with 2 Axes>"
      ]
     },
     "metadata": {
      "needs_background": "light"
     },
     "output_type": "display_data"
    }
   ],
   "source": [
    "mixh_fig, (mixh_ax1, mixh_ax2) = plt.subplots(1, 2, figsize=(12,4))\n",
    "mixh_fig.suptitle(\"Mixed Model Hero Distributions\")\n",
    "mixh_ax1.hist(mixed_weighted_hero2hero['weighted_degree'], bins=50)\n",
    "mixh_ax1.set_title('Regular Scale')\n",
    "mixh_ax2.hist(mixed_weighted_hero2hero['weighted_degree'], bins=50)\n",
    "mixh_ax2.set_yscale('log')\n",
    "mixh_ax2.set_title('Y-axis Log Scale')\n",
    "plt.show()"
   ]
  },
  {
   "cell_type": "markdown",
   "metadata": {},
   "source": [
    "**Comic to Comic**"
   ]
  },
  {
   "cell_type": "code",
   "execution_count": 28,
   "metadata": {},
   "outputs": [
    {
     "name": "stderr",
     "output_type": "stream",
     "text": [
      "//anaconda3/lib/python3.7/site-packages/ipykernel/ipkernel.py:287: DeprecationWarning: `should_run_async` will not call `transform_cell` automatically in the future. Please pass the result to `transformed_cell` argument and any exception that happen during thetransform in `preprocessing_exc_tuple` in IPython 7.17 and above.\n",
      "  and should_run_async(code)\n"
     ]
    },
    {
     "data": {
      "image/png": "[encoded data removed]",
      "text/plain": [
       "<Figure size 864x288 with 2 Axes>"
      ]
     },
     "metadata": {
      "needs_background": "light"
     },
     "output_type": "display_data"
    }
   ],
   "source": [
    "mixc_fig, (mixc_ax1, mixc_ax2) = plt.subplots(1, 2, figsize=(12,4))\n",
    "mixc_fig.suptitle(\"Mixed Model Comic Distributions\")\n",
    "mixc_ax1.hist(mixed_weighted_comic2comic['weighted_degree'], bins=50)\n",
    "mixc_ax1.set_title('Regular Scale')\n",
    "mixc_ax2.hist(mixed_weighted_comic2comic['weighted_degree'], bins=50)\n",
    "mixc_ax2.set_yscale('log')\n",
    "mixc_ax2.set_title('Y-axis Log Scale')\n",
    "plt.show()"
   ]
  }
 ],
 "metadata": {
  "kernelspec": {
   "display_name": "Python 3",
   "language": "python",
   "name": "python3"
  },
  "language_info": {
   "codemirror_mode": {
    "name": "ipython",
    "version": 3
   },
   "file_extension": ".py",
   "mimetype": "text/x-python",
   "name": "python",
   "nbconvert_exporter": "python",
   "pygments_lexer": "ipython3",
   "version": "3.7.6"
  }
 },
 "nbformat": 4,
 "nbformat_minor": 4
}
