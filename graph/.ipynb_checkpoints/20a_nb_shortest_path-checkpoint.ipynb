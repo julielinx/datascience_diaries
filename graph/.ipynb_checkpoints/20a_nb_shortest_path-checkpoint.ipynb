{
 "cells": [
  {
   "cell_type": "markdown",
   "metadata": {},
   "source": [
    "# Entrry 20 notebook: Shortest Path to Villain"
   ]
  },
  {
   "cell_type": "code",
   "execution_count": 4,
   "metadata": {},
   "outputs": [],
   "source": [
    "import numpy as np\n",
    "import pandas as pd\n",
    "import matplotlib.pyplot as plt\n",
    "import seaborn as sns\n",
    "plt.style.use('ggplot')\n",
    "%matplotlib inline\n",
    "\n",
    "import warnings\n",
    "warnings.filterwarnings('once')\n",
    "\n",
    "from neo4j import GraphDatabase"
   ]
  },
  {
   "cell_type": "code",
   "execution_count": 5,
   "metadata": {},
   "outputs": [
    {
     "name": "stderr",
     "output_type": "stream",
     "text": [
      "C:\\Users\\jfish\\anaconda3\\lib\\site-packages\\ipykernel\\ipkernel.py:287: DeprecationWarning: `should_run_async` will not call `transform_cell` automatically in the future. Please pass the result to `transformed_cell` argument and any exception that happen during thetransform in `preprocessing_exc_tuple` in IPython 7.17 and above.\n",
      "  and should_run_async(code)\n"
     ]
    }
   ],
   "source": [
    "uri = \"bolt://localhost:7687\"\n",
    "\n",
    "driver = GraphDatabase.driver(uri, auth=('neo4j', 'password'))\n",
    "\n",
    "uni_session = driver.session(database=\"unimodal\")\n",
    "bi_session = driver.session(database=\"bimodal\")\n",
    "mix_session = driver.session(database=\"mixmodal\")"
   ]
  },
  {
   "cell_type": "code",
   "execution_count": 6,
   "metadata": {},
   "outputs": [
    {
     "data": {
      "text/plain": [
       "[{'count(h)': 6439}]"
      ]
     },
     "execution_count": 6,
     "metadata": {},
     "output_type": "execute_result"
    }
   ],
   "source": [
    "uni_session.run('MATCH (h:Hero) RETURN count(h)').data()"
   ]
  },
  {
   "cell_type": "markdown",
   "metadata": {},
   "source": [
    "## Shortest path to villain\n",
    "\n",
    "MATCH (h:Hero)\n",
    "CALL apoc.path.spanningTree(h, {labelFilter:'Villain', maxLevel:6}) YIELD path\n",
    "RETURN length(path) as shortestPathToAVillain"
   ]
  },
  {
   "cell_type": "code",
   "execution_count": 11,
   "metadata": {},
   "outputs": [],
   "source": [
    "test= pd.DataFrame(uni_session.run('''MATCH (h:Hero)\n",
    "call apoc.path.spanningTree(h, {minLevel: 1, maxLevel:2, labelFilter:'>Villain'})\n",
    "YIELD path\n",
    "RETURN h.name as name, length(path) as distance, count(path) as villain_ct''').data()).merge(\n",
    "pd.DataFrame(uni_session.run('''MATCH (h:Hero)\n",
    "    call apoc.path.spanningTree(h,  {minLevel: 1, maxLevel:2, labelFilter:'>Hero'})\n",
    "    YIELD path\n",
    "    RETURN h.name as name, length(path) as distance, count(path) as total_ct''').data()),\n",
    "on=['name', 'distance'], how='outer')"
   ]
  },
  {
   "cell_type": "code",
   "execution_count": 12,
   "metadata": {},
   "outputs": [
    {
     "data": {
      "text/html": [
       "<div>\n",
       "<style scoped>\n",
       "    .dataframe tbody tr th:only-of-type {\n",
       "        vertical-align: middle;\n",
       "    }\n",
       "\n",
       "    .dataframe tbody tr th {\n",
       "        vertical-align: top;\n",
       "    }\n",
       "\n",
       "    .dataframe thead th {\n",
       "        text-align: right;\n",
       "    }\n",
       "</style>\n",
       "<table border=\"1\" class=\"dataframe\">\n",
       "  <thead>\n",
       "    <tr style=\"text-align: right;\">\n",
       "      <th></th>\n",
       "      <th>name</th>\n",
       "      <th>distance</th>\n",
       "      <th>villain_ct</th>\n",
       "      <th>total_ct</th>\n",
       "    </tr>\n",
       "  </thead>\n",
       "  <tbody>\n",
       "    <tr>\n",
       "      <th>0</th>\n",
       "      <td>24-HOUR MAN/EMMANUEL</td>\n",
       "      <td>2</td>\n",
       "      <td>3.0</td>\n",
       "      <td>30</td>\n",
       "    </tr>\n",
       "    <tr>\n",
       "      <th>1</th>\n",
       "      <td>3-D MAN/CHARLES CHAN</td>\n",
       "      <td>1</td>\n",
       "      <td>11.0</td>\n",
       "      <td>122</td>\n",
       "    </tr>\n",
       "    <tr>\n",
       "      <th>2</th>\n",
       "      <td>3-D MAN/CHARLES CHAN</td>\n",
       "      <td>2</td>\n",
       "      <td>814.0</td>\n",
       "      <td>5411</td>\n",
       "    </tr>\n",
       "    <tr>\n",
       "      <th>3</th>\n",
       "      <td>4-D MAN/MERCURIO</td>\n",
       "      <td>1</td>\n",
       "      <td>11.0</td>\n",
       "      <td>72</td>\n",
       "    </tr>\n",
       "    <tr>\n",
       "      <th>4</th>\n",
       "      <td>4-D MAN/MERCURIO</td>\n",
       "      <td>2</td>\n",
       "      <td>635.0</td>\n",
       "      <td>3749</td>\n",
       "    </tr>\n",
       "    <tr>\n",
       "      <th>...</th>\n",
       "      <td>...</td>\n",
       "      <td>...</td>\n",
       "      <td>...</td>\n",
       "      <td>...</td>\n",
       "    </tr>\n",
       "    <tr>\n",
       "      <th>12822</th>\n",
       "      <td>ZEAKLAR</td>\n",
       "      <td>1</td>\n",
       "      <td>NaN</td>\n",
       "      <td>2</td>\n",
       "    </tr>\n",
       "    <tr>\n",
       "      <th>12823</th>\n",
       "      <td>ZEITGEIST, NICOLA</td>\n",
       "      <td>1</td>\n",
       "      <td>NaN</td>\n",
       "      <td>11</td>\n",
       "    </tr>\n",
       "    <tr>\n",
       "      <th>12824</th>\n",
       "      <td>ZELIG, LON</td>\n",
       "      <td>1</td>\n",
       "      <td>NaN</td>\n",
       "      <td>11</td>\n",
       "    </tr>\n",
       "    <tr>\n",
       "      <th>12825</th>\n",
       "      <td>ZET</td>\n",
       "      <td>1</td>\n",
       "      <td>NaN</td>\n",
       "      <td>5</td>\n",
       "    </tr>\n",
       "    <tr>\n",
       "      <th>12826</th>\n",
       "      <td>ZONA</td>\n",
       "      <td>1</td>\n",
       "      <td>NaN</td>\n",
       "      <td>23</td>\n",
       "    </tr>\n",
       "  </tbody>\n",
       "</table>\n",
       "<p>12827 rows × 4 columns</p>\n",
       "</div>"
      ],
      "text/plain": [
       "                       name  distance  villain_ct  total_ct\n",
       "0      24-HOUR MAN/EMMANUEL         2         3.0        30\n",
       "1      3-D MAN/CHARLES CHAN         1        11.0       122\n",
       "2      3-D MAN/CHARLES CHAN         2       814.0      5411\n",
       "3          4-D MAN/MERCURIO         1        11.0        72\n",
       "4          4-D MAN/MERCURIO         2       635.0      3749\n",
       "...                     ...       ...         ...       ...\n",
       "12822               ZEAKLAR         1         NaN         2\n",
       "12823     ZEITGEIST, NICOLA         1         NaN        11\n",
       "12824            ZELIG, LON         1         NaN        11\n",
       "12825                   ZET         1         NaN         5\n",
       "12826                  ZONA         1         NaN        23\n",
       "\n",
       "[12827 rows x 4 columns]"
      ]
     },
     "execution_count": 12,
     "metadata": {},
     "output_type": "execute_result"
    }
   ],
   "source": [
    "test"
   ]
  },
  {
   "cell_type": "code",
   "execution_count": null,
   "metadata": {},
   "outputs": [],
   "source": [
    "pd.DataFrame(uni_session.run('''MATCH (h:Hero)\n",
    "call apoc.path.spanningTree(h, {minLevel: 1, maxLevel:2, labelFilter:'>Villain'})\n",
    "YIELD path\n",
    "RETURN h.name as name, length(path) as distance, count(path) as velocity''').data())\n",
    "\n",
    "bi_villains = '''MATCH (h:Hero)\n",
    "call apoc.path.spanningTree(h, {minLevel: 1, maxLevel:4, labelFilter:'>Villain'})\n",
    "YIELD path\n",
    "RETURN h.name as name, length(path) as distance, count(path) as velocity\n",
    "'''\n",
    "\n",
    "u_mix_villains = '''MATCH (h:Hero)\n",
    "call apoc.path.spanningTree(h, {minLevel: 1, maxLevel:2, labelFilter:'>Villain', relationshipFilter:'KNOWS'})\n",
    "YIELD path\n",
    "RETURN h.name as name, length(path) as distance, count(path) as velocity\n",
    "'''\n",
    "\n",
    "b_mix_villains = '''MATCH (h:Hero)\n",
    "call apoc.path.spanningTree(h, {minLevel: 1, maxLevel:4, labelFilter:'>Villain', relationshipFilter:'APPEARS_IN'})\n",
    "YIELD path\n",
    "RETURN h.name as name, length(path) as distance, count(path) as velocity\n",
    "'''"
   ]
  },
  {
   "cell_type": "code",
   "execution_count": 1,
   "metadata": {},
   "outputs": [
    {
     "data": {
      "text/plain": [
       "\"MATCH (h:Hero)\\ncall apoc.path.spanningTree(h, {minLevel: 1, maxLevel:2, labelFilter:'>Villain'})\\nYIELD path\\nRETURN h.name as name, length(path) as distance, count(path) as velocity\""
      ]
     },
     "execution_count": 1,
     "metadata": {},
     "output_type": "execute_result"
    }
   ],
   "source": [
    "max_level = '2'\n",
    "label = 'Villain'\n",
    "\n",
    "'''MATCH (h:Hero)\n",
    "call apoc.path.spanningTree(h, {minLevel: 1, maxLevel:'''  + f\"{max_level}, labelFilter:'>{label}'\" + '''})\n",
    "YIELD path\n",
    "RETURN h.name as name, length(path) as distance, count(path) as velocity'''"
   ]
  },
  {
   "cell_type": "code",
   "execution_count": 2,
   "metadata": {},
   "outputs": [
    {
     "data": {
      "text/plain": [
       "\"MATCH (h:Hero)\\ncall apoc.path.spanningTree(h, {minLevel: 1, maxLevel:4, labelFilter:'>Hero'})\\nYIELD path\\nRETURN h.name as name, length(path) as distance, count(path) as velocity\""
      ]
     },
     "execution_count": 2,
     "metadata": {},
     "output_type": "execute_result"
    }
   ],
   "source": [
    "max_level = '4'\n",
    "label = 'Hero'\n",
    "\n",
    "'''MATCH (h:Hero)\n",
    "call apoc.path.spanningTree(h, {minLevel: 1, maxLevel:'''  + f\"{max_level}, labelFilter:'>{label}', relationshipFilter:'{rel_type}'\" + '''})\n",
    "YIELD path\n",
    "RETURN h.name as name, length(path) as distance, count(path) as velocity'''"
   ]
  },
  {
   "cell_type": "code",
   "execution_count": null,
   "metadata": {},
   "outputs": [],
   "source": [
    "def nearest_villains(con, model_type='uni'):\n",
    "    if model_type == 'uni' or model_type == 'mix':\n",
    "        max_level = 2\n",
    "        rel_type = 'KNOWS'\n",
    "    else:\n",
    "        max_level = 4\n",
    "        rel_type = 'APPEARS_IN'\n",
    "        \n",
    "    v_query = '''MATCH (h:Hero)\n",
    "    call apoc.path.spanningTree(h, {minLevel: 1, maxLevel:'''  +\n",
    "    f\"{max_level}, labelFilter:'>Villain', relationshipFilter:'{rel_type}'\" + '''})\n",
    "    YIELD path\n",
    "    RETURN h.name as name, length(path) as distance, count(path) as villain_ct'''\n",
    "    \n",
    "    h_query = '''MATCH (h:Hero)\n",
    "    call apoc.path.spanningTree(h, {minLevel: 1, maxLevel:'''  +\n",
    "    f\"{max_level}, labelFilter:'>Hero', relationshipFilter:'{rel_type}'\" + '''})\n",
    "    YIELD path\n",
    "    RETURN h.name as name, length(path) as distance, count(path) as total_ct'''\n",
    "    \n",
    "    df = pd.DataFrame(con.run(v_query).data()).merge(\n",
    "    pd.DataFrame(con.run(h_query).data()),\n",
    "    on = ['name', 'distance'], how='outer').fillna(0).reset_index()\n",
    "    df['villain_pct'] = df['villain_ct'] / df['total_ct']\n",
    "    return df"
   ]
  },
  {
   "cell_type": "code",
   "execution_count": null,
   "metadata": {},
   "outputs": [],
   "source": []
  },
  {
   "cell_type": "code",
   "execution_count": null,
   "metadata": {},
   "outputs": [],
   "source": [
    "nearest_villain_query = '''MATCH (h:Hero)\n",
    "call apoc.path.spanningTree(h, {minLevel: 1, maxLevel:6, labelFilter:'/Villain', limit 1})\n",
    "YIELD path\n",
    "RETURN h.name as name, length(path) as distance'''"
   ]
  },
  {
   "cell_type": "code",
   "execution_count": null,
   "metadata": {},
   "outputs": [],
   "source": []
  },
  {
   "cell_type": "code",
   "execution_count": null,
   "metadata": {},
   "outputs": [],
   "source": []
  },
  {
   "cell_type": "code",
   "execution_count": 48,
   "metadata": {},
   "outputs": [],
   "source": [
    "def local_densities(con, hero_query, subgraph_query, model_type='uni'):\n",
    "    df = pd.pivot_table(pd.DataFrame(con.run(hero_query).data()),\n",
    "                       index='hero', columns='nn_type', values='nn_ct').fillna(0).reset_index().merge(\n",
    "    pd.DataFrame(con.run(subgraph_query).data()),\n",
    "    on='hero', how='outer')\n",
    "    df['villain_pct']  = df['Villian'] / df['nn_ct'] * 100\n",
    "    if model_type == 'uni' or model_type == 'mix':\n",
    "        df['p_rel_ct'] = (df['nn_ct'] * (df['nn_ct'] - 1)) / 2\n",
    "    else:\n",
    "        df['p_rel_ct'] = (df['Hero'] + df['Villian']) * df['Comic']\n",
    "    df['density'] = df['rel_ct'] / df['p_rel_ct']\n",
    "    return df"
   ]
  },
  {
   "cell_type": "markdown",
   "metadata": {},
   "source": [
    "## Uni Densities Next Nearest Neighbors"
   ]
  },
  {
   "cell_type": "code",
   "execution_count": 49,
   "metadata": {},
   "outputs": [
    {
     "data": {
      "text/html": [
       "<div>\n",
       "<style scoped>\n",
       "    .dataframe tbody tr th:only-of-type {\n",
       "        vertical-align: middle;\n",
       "    }\n",
       "\n",
       "    .dataframe tbody tr th {\n",
       "        vertical-align: top;\n",
       "    }\n",
       "\n",
       "    .dataframe thead th {\n",
       "        text-align: right;\n",
       "    }\n",
       "</style>\n",
       "<table border=\"1\" class=\"dataframe\">\n",
       "  <thead>\n",
       "    <tr style=\"text-align: right;\">\n",
       "      <th></th>\n",
       "      <th>hero</th>\n",
       "      <th>Hero</th>\n",
       "      <th>Villian</th>\n",
       "      <th>h_type</th>\n",
       "      <th>nn_ct</th>\n",
       "      <th>rel_ct</th>\n",
       "      <th>villain_pct</th>\n",
       "      <th>p_rel_ct</th>\n",
       "      <th>density</th>\n",
       "    </tr>\n",
       "  </thead>\n",
       "  <tbody>\n",
       "    <tr>\n",
       "      <th>0</th>\n",
       "      <td>24-HOUR MAN/EMMANUEL</td>\n",
       "      <td>5.0</td>\n",
       "      <td>0.0</td>\n",
       "      <td>Hero</td>\n",
       "      <td>5</td>\n",
       "      <td>15</td>\n",
       "      <td>0.000000</td>\n",
       "      <td>10.0</td>\n",
       "      <td>1.500000</td>\n",
       "    </tr>\n",
       "    <tr>\n",
       "      <th>1</th>\n",
       "      <td>3-D MAN/CHARLES CHAN</td>\n",
       "      <td>111.0</td>\n",
       "      <td>11.0</td>\n",
       "      <td>Hero</td>\n",
       "      <td>122</td>\n",
       "      <td>6645</td>\n",
       "      <td>9.016393</td>\n",
       "      <td>7381.0</td>\n",
       "      <td>0.900285</td>\n",
       "    </tr>\n",
       "    <tr>\n",
       "      <th>2</th>\n",
       "      <td>4-D MAN/MERCURIO</td>\n",
       "      <td>61.0</td>\n",
       "      <td>11.0</td>\n",
       "      <td>Villian</td>\n",
       "      <td>72</td>\n",
       "      <td>1271</td>\n",
       "      <td>15.277778</td>\n",
       "      <td>2556.0</td>\n",
       "      <td>0.497261</td>\n",
       "    </tr>\n",
       "    <tr>\n",
       "      <th>3</th>\n",
       "      <td>8-BALL/</td>\n",
       "      <td>14.0</td>\n",
       "      <td>0.0</td>\n",
       "      <td>Hero</td>\n",
       "      <td>14</td>\n",
       "      <td>81</td>\n",
       "      <td>0.000000</td>\n",
       "      <td>91.0</td>\n",
       "      <td>0.890110</td>\n",
       "    </tr>\n",
       "    <tr>\n",
       "      <th>4</th>\n",
       "      <td>A</td>\n",
       "      <td>6.0</td>\n",
       "      <td>2.0</td>\n",
       "      <td>Hero</td>\n",
       "      <td>8</td>\n",
       "      <td>36</td>\n",
       "      <td>25.000000</td>\n",
       "      <td>28.0</td>\n",
       "      <td>1.285714</td>\n",
       "    </tr>\n",
       "    <tr>\n",
       "      <th>...</th>\n",
       "      <td>...</td>\n",
       "      <td>...</td>\n",
       "      <td>...</td>\n",
       "      <td>...</td>\n",
       "      <td>...</td>\n",
       "      <td>...</td>\n",
       "      <td>...</td>\n",
       "      <td>...</td>\n",
       "      <td>...</td>\n",
       "    </tr>\n",
       "    <tr>\n",
       "      <th>6434</th>\n",
       "      <td>SEA LEOPARD</td>\n",
       "      <td>NaN</td>\n",
       "      <td>NaN</td>\n",
       "      <td>Hero</td>\n",
       "      <td>0</td>\n",
       "      <td>0</td>\n",
       "      <td>NaN</td>\n",
       "      <td>0.0</td>\n",
       "      <td>NaN</td>\n",
       "    </tr>\n",
       "    <tr>\n",
       "      <th>6435</th>\n",
       "      <td>GERVASE, LADY ALYSSA</td>\n",
       "      <td>NaN</td>\n",
       "      <td>NaN</td>\n",
       "      <td>Hero</td>\n",
       "      <td>0</td>\n",
       "      <td>0</td>\n",
       "      <td>NaN</td>\n",
       "      <td>0.0</td>\n",
       "      <td>NaN</td>\n",
       "    </tr>\n",
       "    <tr>\n",
       "      <th>6436</th>\n",
       "      <td>SHARKSKIN</td>\n",
       "      <td>NaN</td>\n",
       "      <td>NaN</td>\n",
       "      <td>Hero</td>\n",
       "      <td>0</td>\n",
       "      <td>0</td>\n",
       "      <td>NaN</td>\n",
       "      <td>0.0</td>\n",
       "      <td>NaN</td>\n",
       "    </tr>\n",
       "    <tr>\n",
       "      <th>6437</th>\n",
       "      <td>GIURESCU, RADU</td>\n",
       "      <td>NaN</td>\n",
       "      <td>NaN</td>\n",
       "      <td>Hero</td>\n",
       "      <td>0</td>\n",
       "      <td>0</td>\n",
       "      <td>NaN</td>\n",
       "      <td>0.0</td>\n",
       "      <td>NaN</td>\n",
       "    </tr>\n",
       "    <tr>\n",
       "      <th>6438</th>\n",
       "      <td>ZANTOR</td>\n",
       "      <td>NaN</td>\n",
       "      <td>NaN</td>\n",
       "      <td>Hero</td>\n",
       "      <td>0</td>\n",
       "      <td>0</td>\n",
       "      <td>NaN</td>\n",
       "      <td>0.0</td>\n",
       "      <td>NaN</td>\n",
       "    </tr>\n",
       "  </tbody>\n",
       "</table>\n",
       "<p>6439 rows × 9 columns</p>\n",
       "</div>"
      ],
      "text/plain": [
       "                      hero   Hero  Villian   h_type  nn_ct  rel_ct  \\\n",
       "0     24-HOUR MAN/EMMANUEL    5.0      0.0     Hero      5      15   \n",
       "1     3-D MAN/CHARLES CHAN  111.0     11.0     Hero    122    6645   \n",
       "2         4-D MAN/MERCURIO   61.0     11.0  Villian     72    1271   \n",
       "3                  8-BALL/   14.0      0.0     Hero     14      81   \n",
       "4                        A    6.0      2.0     Hero      8      36   \n",
       "...                    ...    ...      ...      ...    ...     ...   \n",
       "6434           SEA LEOPARD    NaN      NaN     Hero      0       0   \n",
       "6435  GERVASE, LADY ALYSSA    NaN      NaN     Hero      0       0   \n",
       "6436             SHARKSKIN    NaN      NaN     Hero      0       0   \n",
       "6437        GIURESCU, RADU    NaN      NaN     Hero      0       0   \n",
       "6438                ZANTOR    NaN      NaN     Hero      0       0   \n",
       "\n",
       "      villain_pct  p_rel_ct   density  \n",
       "0        0.000000      10.0  1.500000  \n",
       "1        9.016393    7381.0  0.900285  \n",
       "2       15.277778    2556.0  0.497261  \n",
       "3        0.000000      91.0  0.890110  \n",
       "4       25.000000      28.0  1.285714  \n",
       "...           ...       ...       ...  \n",
       "6434          NaN       0.0       NaN  \n",
       "6435          NaN       0.0       NaN  \n",
       "6436          NaN       0.0       NaN  \n",
       "6437          NaN       0.0       NaN  \n",
       "6438          NaN       0.0       NaN  \n",
       "\n",
       "[6439 rows x 9 columns]"
      ]
     },
     "execution_count": 49,
     "metadata": {},
     "output_type": "execute_result"
    }
   ],
   "source": [
    "uni_heroes= '''\n",
    "MATCH (h:Hero)\n",
    "OPTIONAL MATCH (h)-[*..2]-(nn)\n",
    "RETURN h.name as hero, labels(nn)[-1] as nn_type, count(nn) as nn_ct'''\n",
    "\n",
    "uni_subgraph='''\n",
    "MATCH (h:Hero)\n",
    "call apoc.path.subgraphAll(h, {maxLevel:2})\n",
    "YIELD nodes, relationships\n",
    "RETURN h.name as hero, labels(h)[-1] as h_type, size(nodes)-1 as nn_ct, size(relationships) as rel_ct'''\n",
    "\n",
    "uni_nnn_densities = local_densities(uni_session, uni_heroes, uni_subgraph)\n",
    "uni_nnn_densities"
   ]
  },
  {
   "cell_type": "markdown",
   "metadata": {},
   "source": [
    "## Bi Densities Next Nearest Neighbors"
   ]
  },
  {
   "cell_type": "code",
   "execution_count": null,
   "metadata": {},
   "outputs": [],
   "source": [
    "bi_heroes= '''\n",
    "MATCH (h:Hero)\n",
    "OPTIONAL MATCH (h)-[*..4]-(o)\n",
    "RETURN h.name as hero, labels(o)[-1] as nn_type, count(o) as nn_ct'''\n",
    "\n",
    "bi_subgraph='''\n",
    "MATCH (h:Hero)\n",
    "call apoc.path.subgraphAll(h, {maxLevel:4})\n",
    "YIELD nodes, relationships\n",
    "RETURN h.name as hero, labels(h)[-1] as h_type, size(nodes)-1 as nn_ct, size(relationships) as rel_ct'''"
   ]
  },
  {
   "cell_type": "code",
   "execution_count": null,
   "metadata": {},
   "outputs": [],
   "source": [
    "bi_nnn_densities = local_densities(bi_session, bi_heroes, bi_subgraph)\n",
    "bi_nnn_densities"
   ]
  },
  {
   "cell_type": "markdown",
   "metadata": {},
   "source": [
    "## Mixed Uni Densities Next Nearest Neighbors"
   ]
  },
  {
   "cell_type": "code",
   "execution_count": null,
   "metadata": {},
   "outputs": [],
   "source": [
    "mix_uni_heroes= '''\n",
    "MATCH (h:Hero)\n",
    "OPTIONAL MATCH (h)-[:KNOWS*..2]-(o)\n",
    "RETURN h.name as hero, labels(o)[-1] as nn_type, count(o) as nn_ct'''\n",
    "\n",
    "mix_uni_subgraph='''\n",
    "MATCH (h:Hero)\n",
    "call apoc.path.subgraphAll(h, {maxLevel:2, relationshipFilter: \"KNOWS\"})\n",
    "YIELD nodes, relationships\n",
    "RETURN h.name as hero, labels(h)[-1] as h_type, size(nodes)-1 as nn_ct, size(relationships) as rel_ct'''"
   ]
  },
  {
   "cell_type": "code",
   "execution_count": null,
   "metadata": {},
   "outputs": [],
   "source": [
    "mix_uni_nn_densities = local_densities(mix_session, mix_uni_heroes, mix_uni_subgraph)\n",
    "mix_uni_nn_densities"
   ]
  },
  {
   "cell_type": "markdown",
   "metadata": {},
   "source": [
    "## Mixed Bi Densities Next Nearest Neighbors"
   ]
  },
  {
   "cell_type": "code",
   "execution_count": null,
   "metadata": {},
   "outputs": [],
   "source": [
    "mix_bi_heroes= '''\n",
    "MATCH (h:Hero)\n",
    "OPTIONAL MATCH (h)-[:APPEARS_IN*..4]-(o)\n",
    "RETURN h.name as hero, labels(o)[-1] as nn_type, count(o) as nn_ct'''\n",
    "\n",
    "mix_bi_subgraph='''\n",
    "MATCH (h:Hero)\n",
    "call apoc.path.subgraphAll(h, {maxLevel:4, relationshipFilter: \"APPEARS_IN\"})\n",
    "YIELD nodes, relationships\n",
    "RETURN h.name as hero, labels(h)[-1] as h_type, size(nodes)-1 as nn_ct, size(relationships) as rel_ct'''"
   ]
  },
  {
   "cell_type": "code",
   "execution_count": null,
   "metadata": {},
   "outputs": [],
   "source": [
    "mix_bi_nnn_densities = local_densities(mix_session, mix_bi_heroes, mix_bi_subgraph)\n",
    "mix_bi_nnn_densities"
   ]
  },
  {
   "cell_type": "code",
   "execution_count": null,
   "metadata": {},
   "outputs": [],
   "source": []
  },
  {
   "cell_type": "code",
   "execution_count": null,
   "metadata": {},
   "outputs": [],
   "source": []
  }
 ],
 "metadata": {
  "kernelspec": {
   "display_name": "Python 3",
   "language": "python",
   "name": "python3"
  },
  "language_info": {
   "codemirror_mode": {
    "name": "ipython",
    "version": 3
   },
   "file_extension": ".py",
   "mimetype": "text/x-python",
   "name": "python",
   "nbconvert_exporter": "python",
   "pygments_lexer": "ipython3",
   "version": "3.8.8"
  }
 },
 "nbformat": 4,
 "nbformat_minor": 4
}
