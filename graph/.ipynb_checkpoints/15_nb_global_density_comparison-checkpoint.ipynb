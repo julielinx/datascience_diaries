{
 "cells": [
  {
   "cell_type": "markdown",
   "metadata": {},
   "source": [
    "# Entry G15: Global Density Comparison"
   ]
  },
  {
   "cell_type": "code",
   "execution_count": 2,
   "metadata": {},
   "outputs": [],
   "source": [
    "import numpy as np\n",
    "import pandas as pd\n",
    "import matplotlib.pyplot as plt\n",
    "import seaborn as sns\n",
    "plt.style.use('ggplot')\n",
    "%matplotlib inline\n",
    "\n",
    "import warnings\n",
    "warnings.filterwarnings('once')\n",
    "\n",
    "from neo4j import GraphDatabase"
   ]
  },
  {
   "cell_type": "code",
   "execution_count": 3,
   "metadata": {},
   "outputs": [
    {
     "name": "stderr",
     "output_type": "stream",
     "text": [
      "//anaconda3/lib/python3.7/site-packages/ipykernel/ipkernel.py:287: DeprecationWarning: `should_run_async` will not call `transform_cell` automatically in the future. Please pass the result to `transformed_cell` argument and any exception that happen during thetransform in `preprocessing_exc_tuple` in IPython 7.17 and above.\n",
      "  and should_run_async(code)\n"
     ]
    }
   ],
   "source": [
    "uri = \"bolt://localhost:7687\"\n",
    "\n",
    "driver = GraphDatabase.driver(uri, auth=('neo4j', 'password'))\n",
    "\n",
    "uni_session = driver.session(database=\"unimodal\")\n",
    "bi_session = driver.session(database=\"bimodal\")\n",
    "mix_session = driver.session(database=\"mixmodal\")"
   ]
  },
  {
   "cell_type": "markdown",
   "metadata": {},
   "source": [
    "## Number of possible relationships"
   ]
  },
  {
   "cell_type": "code",
   "execution_count": 22,
   "metadata": {},
   "outputs": [
    {
     "data": {
      "text/html": [
       "<div>\n",
       "<style scoped>\n",
       "    .dataframe tbody tr th:only-of-type {\n",
       "        vertical-align: middle;\n",
       "    }\n",
       "\n",
       "    .dataframe tbody tr th {\n",
       "        vertical-align: top;\n",
       "    }\n",
       "\n",
       "    .dataframe thead th {\n",
       "        text-align: right;\n",
       "    }\n",
       "</style>\n",
       "<table border=\"1\" class=\"dataframe\">\n",
       "  <thead>\n",
       "    <tr style=\"text-align: right;\">\n",
       "      <th></th>\n",
       "      <th>Hero</th>\n",
       "      <th>Comic</th>\n",
       "      <th>All_nodes</th>\n",
       "      <th>possible_rels</th>\n",
       "      <th>actual_rels</th>\n",
       "    </tr>\n",
       "  </thead>\n",
       "  <tbody>\n",
       "    <tr>\n",
       "      <th>unimodal</th>\n",
       "      <td>6439</td>\n",
       "      <td>0.0</td>\n",
       "      <td>6439.0</td>\n",
       "      <td>20727141.0</td>\n",
       "      <td>171644</td>\n",
       "    </tr>\n",
       "    <tr>\n",
       "      <th>bimodal</th>\n",
       "      <td>6439</td>\n",
       "      <td>12651.0</td>\n",
       "      <td>19090.0</td>\n",
       "      <td>81459789.0</td>\n",
       "      <td>96104</td>\n",
       "    </tr>\n",
       "    <tr>\n",
       "      <th>mixmodal</th>\n",
       "      <td>6439</td>\n",
       "      <td>12651.0</td>\n",
       "      <td>19090.0</td>\n",
       "      <td>182204505.0</td>\n",
       "      <td>267748</td>\n",
       "    </tr>\n",
       "  </tbody>\n",
       "</table>\n",
       "</div>"
      ],
      "text/plain": [
       "          Hero    Comic  All_nodes  possible_rels  actual_rels\n",
       "unimodal  6439      0.0     6439.0     20727141.0       171644\n",
       "bimodal   6439  12651.0    19090.0     81459789.0        96104\n",
       "mixmodal  6439  12651.0    19090.0    182204505.0       267748"
      ]
     },
     "execution_count": 22,
     "metadata": {},
     "output_type": "execute_result"
    }
   ],
   "source": [
    "node_cts = pd.DataFrame(uni_session.run(\"call apoc.meta.stats() YIELD labels\").value()).rename({0:'unimodal'}).append(\n",
    "pd.DataFrame(bi_session.run(\"call apoc.meta.stats() YIELD labels\").value()).rename({0:'bimodal'})).append(\n",
    "pd.DataFrame(mix_session.run(\"call apoc.meta.stats() YIELD labels\").value()).rename({0:'mixmodal'})).fillna(0)\n",
    "\n",
    "node_cts['All_nodes'] = node_cts['Hero'] + node_cts['Comic']\n",
    "\n",
    "node_cts = node_cts.merge(pd.DataFrame(index=['unimodal', 'bimodal', 'mixmodal'], data={'possible_rels':\n",
    "                                                               [(node_cts.loc['unimodal', 'All_nodes'] * (node_cts.loc['unimodal', 'All_nodes']  - 1))/2,\n",
    "                                                               node_cts.loc['bimodal', 'Hero'] * node_cts.loc['bimodal', 'Comic'],\n",
    "                                                               (node_cts.loc['mixmodal', 'All_nodes'] * (node_cts.loc['mixmodal', 'All_nodes']  - 1))/2]}), \n",
    "               left_index=True, right_index=True)\n",
    "\n",
    "node_cts = node_cts.merge(\n",
    "pd.DataFrame(uni_session.run('''MATCH ()-[r]->()\n",
    "RETURN count(r) as actual_rels''').data()).rename({0:'unimodal'}).append(\n",
    "pd.DataFrame(bi_session.run('''MATCH ()-[r]->()\n",
    "RETURN count(r) as actual_rels''').data()).rename({0:'bimodal'})).append(\n",
    "pd.DataFrame(mix_session.run('''MATCH ()-[r]->()\n",
    "RETURN count(r) as actual_rels''').data()).rename({0:'mixmodal'})), left_index=True, right_index=True)\n",
    "\n",
    "node_cts"
   ]
  },
  {
   "cell_type": "markdown",
   "metadata": {},
   "source": [
    "## Global density"
   ]
  },
  {
   "cell_type": "code",
   "execution_count": 23,
   "metadata": {},
   "outputs": [
    {
     "name": "stderr",
     "output_type": "stream",
     "text": [
      "//anaconda3/lib/python3.7/site-packages/ipykernel/ipkernel.py:287: DeprecationWarning: `should_run_async` will not call `transform_cell` automatically in the future. Please pass the result to `transformed_cell` argument and any exception that happen during thetransform in `preprocessing_exc_tuple` in IPython 7.17 and above.\n",
      "  and should_run_async(code)\n"
     ]
    },
    {
     "data": {
      "text/html": [
       "<div>\n",
       "<style scoped>\n",
       "    .dataframe tbody tr th:only-of-type {\n",
       "        vertical-align: middle;\n",
       "    }\n",
       "\n",
       "    .dataframe tbody tr th {\n",
       "        vertical-align: top;\n",
       "    }\n",
       "\n",
       "    .dataframe thead th {\n",
       "        text-align: right;\n",
       "    }\n",
       "</style>\n",
       "<table border=\"1\" class=\"dataframe\">\n",
       "  <thead>\n",
       "    <tr style=\"text-align: right;\">\n",
       "      <th></th>\n",
       "      <th>Hero</th>\n",
       "      <th>Comic</th>\n",
       "      <th>All_nodes</th>\n",
       "      <th>possible_rels</th>\n",
       "      <th>actual_rels</th>\n",
       "      <th>global_density</th>\n",
       "    </tr>\n",
       "  </thead>\n",
       "  <tbody>\n",
       "    <tr>\n",
       "      <th>unimodal</th>\n",
       "      <td>6439</td>\n",
       "      <td>0.0</td>\n",
       "      <td>6439.0</td>\n",
       "      <td>20727141.0</td>\n",
       "      <td>171644</td>\n",
       "      <td>0.008281</td>\n",
       "    </tr>\n",
       "    <tr>\n",
       "      <th>bimodal</th>\n",
       "      <td>6439</td>\n",
       "      <td>12651.0</td>\n",
       "      <td>19090.0</td>\n",
       "      <td>81459789.0</td>\n",
       "      <td>96104</td>\n",
       "      <td>0.001180</td>\n",
       "    </tr>\n",
       "    <tr>\n",
       "      <th>mixmodal</th>\n",
       "      <td>6439</td>\n",
       "      <td>12651.0</td>\n",
       "      <td>19090.0</td>\n",
       "      <td>182204505.0</td>\n",
       "      <td>267748</td>\n",
       "      <td>0.001469</td>\n",
       "    </tr>\n",
       "  </tbody>\n",
       "</table>\n",
       "</div>"
      ],
      "text/plain": [
       "          Hero    Comic  All_nodes  possible_rels  actual_rels  global_density\n",
       "unimodal  6439      0.0     6439.0     20727141.0       171644        0.008281\n",
       "bimodal   6439  12651.0    19090.0     81459789.0        96104        0.001180\n",
       "mixmodal  6439  12651.0    19090.0    182204505.0       267748        0.001469"
      ]
     },
     "execution_count": 23,
     "metadata": {},
     "output_type": "execute_result"
    }
   ],
   "source": [
    "node_cts['global_density'] = node_cts['actual_rels'] / node_cts['possible_rels']\n",
    "\n",
    "node_cts"
   ]
  }
 ],
 "metadata": {
  "kernelspec": {
   "display_name": "Python 3",
   "language": "python",
   "name": "python3"
  },
  "language_info": {
   "codemirror_mode": {
    "name": "ipython",
    "version": 3
   },
   "file_extension": ".py",
   "mimetype": "text/x-python",
   "name": "python",
   "nbconvert_exporter": "python",
   "pygments_lexer": "ipython3",
   "version": "3.7.6"
  }
 },
 "nbformat": 4,
 "nbformat_minor": 4
}
