{
 "cells": [
  {
   "cell_type": "code",
   "execution_count": 1,
   "metadata": {},
   "outputs": [],
   "source": [
    "import numpy as np\n",
    "import pandas as pd\n",
    "import matplotlib.pyplot as plt\n",
    "import seaborn as sns\n",
    "plt.style.use('ggplot')\n",
    "%matplotlib inline\n",
    "\n",
    "import warnings\n",
    "warnings.filterwarnings('once')\n",
    "\n",
    "from neo4j import GraphDatabase"
   ]
  },
  {
   "cell_type": "code",
   "execution_count": 9,
   "metadata": {},
   "outputs": [],
   "source": [
    "uri = \"bolt://localhost:7687\"\n",
    "\n",
    "driver = GraphDatabase.driver(uri, auth=('neo4j', 'password'))\n",
    "\n",
    "uni_session = driver.session(database=\"unimodal\")\n",
    "bi_session = driver.session(database=\"bimodal\")\n",
    "mix_session = driver.session(database=\"mixmodal\")"
   ]
  },
  {
   "cell_type": "code",
   "execution_count": 10,
   "metadata": {},
   "outputs": [
    {
     "data": {
      "text/plain": [
       "[{'count(h)': 6439}]"
      ]
     },
     "execution_count": 10,
     "metadata": {},
     "output_type": "execute_result"
    }
   ],
   "source": [
    "uni_session.run('MATCH (h:Hero) RETURN count(h)').data()"
   ]
  },
  {
   "cell_type": "code",
   "execution_count": 48,
   "metadata": {},
   "outputs": [],
   "source": [
    "def local_densities(con, hero_query, subgraph_query, model_type='uni'):\n",
    "    df = pd.pivot_table(pd.DataFrame(con.run(hero_query).data()),\n",
    "                       index='hero', columns='nn_type', values='nn_ct').fillna(0).reset_index().merge(\n",
    "    pd.DataFrame(con.run(subgraph_query).data()),\n",
    "    on='hero', how='outer')\n",
    "    df['villain_pct']  = df['Villian'] / df['nn_ct'] * 100\n",
    "    if model_type == 'uni' or model_type == 'mix':\n",
    "        df['p_rel_ct'] = (df['nn_ct'] * (df['nn_ct'] - 1)) / 2\n",
    "    else:\n",
    "        df['p_rel_ct'] = (df['Hero'] + df['Villian']) * df['Comic']\n",
    "    df['density'] = df['rel_ct'] / df['p_rel_ct']\n",
    "    return df"
   ]
  },
  {
   "cell_type": "markdown",
   "metadata": {},
   "source": [
    "## Uni Densities Nearest Neighbors"
   ]
  },
  {
   "cell_type": "code",
   "execution_count": 49,
   "metadata": {},
   "outputs": [
    {
     "data": {
      "text/html": [
       "<div>\n",
       "<style scoped>\n",
       "    .dataframe tbody tr th:only-of-type {\n",
       "        vertical-align: middle;\n",
       "    }\n",
       "\n",
       "    .dataframe tbody tr th {\n",
       "        vertical-align: top;\n",
       "    }\n",
       "\n",
       "    .dataframe thead th {\n",
       "        text-align: right;\n",
       "    }\n",
       "</style>\n",
       "<table border=\"1\" class=\"dataframe\">\n",
       "  <thead>\n",
       "    <tr style=\"text-align: right;\">\n",
       "      <th></th>\n",
       "      <th>hero</th>\n",
       "      <th>Hero</th>\n",
       "      <th>Villian</th>\n",
       "      <th>h_type</th>\n",
       "      <th>nn_ct</th>\n",
       "      <th>rel_ct</th>\n",
       "      <th>villain_pct</th>\n",
       "      <th>p_rel_ct</th>\n",
       "      <th>density</th>\n",
       "    </tr>\n",
       "  </thead>\n",
       "  <tbody>\n",
       "    <tr>\n",
       "      <th>0</th>\n",
       "      <td>24-HOUR MAN/EMMANUEL</td>\n",
       "      <td>5.0</td>\n",
       "      <td>0.0</td>\n",
       "      <td>Hero</td>\n",
       "      <td>5</td>\n",
       "      <td>15</td>\n",
       "      <td>0.000000</td>\n",
       "      <td>10.0</td>\n",
       "      <td>1.500000</td>\n",
       "    </tr>\n",
       "    <tr>\n",
       "      <th>1</th>\n",
       "      <td>3-D MAN/CHARLES CHAN</td>\n",
       "      <td>111.0</td>\n",
       "      <td>11.0</td>\n",
       "      <td>Hero</td>\n",
       "      <td>122</td>\n",
       "      <td>6645</td>\n",
       "      <td>9.016393</td>\n",
       "      <td>7381.0</td>\n",
       "      <td>0.900285</td>\n",
       "    </tr>\n",
       "    <tr>\n",
       "      <th>2</th>\n",
       "      <td>4-D MAN/MERCURIO</td>\n",
       "      <td>61.0</td>\n",
       "      <td>11.0</td>\n",
       "      <td>Villian</td>\n",
       "      <td>72</td>\n",
       "      <td>1271</td>\n",
       "      <td>15.277778</td>\n",
       "      <td>2556.0</td>\n",
       "      <td>0.497261</td>\n",
       "    </tr>\n",
       "    <tr>\n",
       "      <th>3</th>\n",
       "      <td>8-BALL/</td>\n",
       "      <td>14.0</td>\n",
       "      <td>0.0</td>\n",
       "      <td>Hero</td>\n",
       "      <td>14</td>\n",
       "      <td>81</td>\n",
       "      <td>0.000000</td>\n",
       "      <td>91.0</td>\n",
       "      <td>0.890110</td>\n",
       "    </tr>\n",
       "    <tr>\n",
       "      <th>4</th>\n",
       "      <td>A</td>\n",
       "      <td>6.0</td>\n",
       "      <td>2.0</td>\n",
       "      <td>Hero</td>\n",
       "      <td>8</td>\n",
       "      <td>36</td>\n",
       "      <td>25.000000</td>\n",
       "      <td>28.0</td>\n",
       "      <td>1.285714</td>\n",
       "    </tr>\n",
       "    <tr>\n",
       "      <th>...</th>\n",
       "      <td>...</td>\n",
       "      <td>...</td>\n",
       "      <td>...</td>\n",
       "      <td>...</td>\n",
       "      <td>...</td>\n",
       "      <td>...</td>\n",
       "      <td>...</td>\n",
       "      <td>...</td>\n",
       "      <td>...</td>\n",
       "    </tr>\n",
       "    <tr>\n",
       "      <th>6434</th>\n",
       "      <td>SEA LEOPARD</td>\n",
       "      <td>NaN</td>\n",
       "      <td>NaN</td>\n",
       "      <td>Hero</td>\n",
       "      <td>0</td>\n",
       "      <td>0</td>\n",
       "      <td>NaN</td>\n",
       "      <td>0.0</td>\n",
       "      <td>NaN</td>\n",
       "    </tr>\n",
       "    <tr>\n",
       "      <th>6435</th>\n",
       "      <td>GERVASE, LADY ALYSSA</td>\n",
       "      <td>NaN</td>\n",
       "      <td>NaN</td>\n",
       "      <td>Hero</td>\n",
       "      <td>0</td>\n",
       "      <td>0</td>\n",
       "      <td>NaN</td>\n",
       "      <td>0.0</td>\n",
       "      <td>NaN</td>\n",
       "    </tr>\n",
       "    <tr>\n",
       "      <th>6436</th>\n",
       "      <td>SHARKSKIN</td>\n",
       "      <td>NaN</td>\n",
       "      <td>NaN</td>\n",
       "      <td>Hero</td>\n",
       "      <td>0</td>\n",
       "      <td>0</td>\n",
       "      <td>NaN</td>\n",
       "      <td>0.0</td>\n",
       "      <td>NaN</td>\n",
       "    </tr>\n",
       "    <tr>\n",
       "      <th>6437</th>\n",
       "      <td>GIURESCU, RADU</td>\n",
       "      <td>NaN</td>\n",
       "      <td>NaN</td>\n",
       "      <td>Hero</td>\n",
       "      <td>0</td>\n",
       "      <td>0</td>\n",
       "      <td>NaN</td>\n",
       "      <td>0.0</td>\n",
       "      <td>NaN</td>\n",
       "    </tr>\n",
       "    <tr>\n",
       "      <th>6438</th>\n",
       "      <td>ZANTOR</td>\n",
       "      <td>NaN</td>\n",
       "      <td>NaN</td>\n",
       "      <td>Hero</td>\n",
       "      <td>0</td>\n",
       "      <td>0</td>\n",
       "      <td>NaN</td>\n",
       "      <td>0.0</td>\n",
       "      <td>NaN</td>\n",
       "    </tr>\n",
       "  </tbody>\n",
       "</table>\n",
       "<p>6439 rows × 9 columns</p>\n",
       "</div>"
      ],
      "text/plain": [
       "                      hero   Hero  Villian   h_type  nn_ct  rel_ct  \\\n",
       "0     24-HOUR MAN/EMMANUEL    5.0      0.0     Hero      5      15   \n",
       "1     3-D MAN/CHARLES CHAN  111.0     11.0     Hero    122    6645   \n",
       "2         4-D MAN/MERCURIO   61.0     11.0  Villian     72    1271   \n",
       "3                  8-BALL/   14.0      0.0     Hero     14      81   \n",
       "4                        A    6.0      2.0     Hero      8      36   \n",
       "...                    ...    ...      ...      ...    ...     ...   \n",
       "6434           SEA LEOPARD    NaN      NaN     Hero      0       0   \n",
       "6435  GERVASE, LADY ALYSSA    NaN      NaN     Hero      0       0   \n",
       "6436             SHARKSKIN    NaN      NaN     Hero      0       0   \n",
       "6437        GIURESCU, RADU    NaN      NaN     Hero      0       0   \n",
       "6438                ZANTOR    NaN      NaN     Hero      0       0   \n",
       "\n",
       "      villain_pct  p_rel_ct   density  \n",
       "0        0.000000      10.0  1.500000  \n",
       "1        9.016393    7381.0  0.900285  \n",
       "2       15.277778    2556.0  0.497261  \n",
       "3        0.000000      91.0  0.890110  \n",
       "4       25.000000      28.0  1.285714  \n",
       "...           ...       ...       ...  \n",
       "6434          NaN       0.0       NaN  \n",
       "6435          NaN       0.0       NaN  \n",
       "6436          NaN       0.0       NaN  \n",
       "6437          NaN       0.0       NaN  \n",
       "6438          NaN       0.0       NaN  \n",
       "\n",
       "[6439 rows x 9 columns]"
      ]
     },
     "execution_count": 49,
     "metadata": {},
     "output_type": "execute_result"
    }
   ],
   "source": [
    "uni_heroes= '''\n",
    "MATCH (h:Hero)\n",
    "OPTIONAL MATCH (h)-[]-(nn)\n",
    "RETURN h.name as hero, labels(nn)[-1] as nn_type, count(nn) as nn_ct'''\n",
    "\n",
    "uni_subgraph='''\n",
    "MATCH (h:Hero)\n",
    "call apoc.path.subgraphAll(h, {maxLevel:1})\n",
    "YIELD nodes, relationships\n",
    "RETURN h.name as hero, labels(h)[-1] as h_type, size(nodes)-1 as nn_ct, size(relationships) as rel_ct'''\n",
    "\n",
    "uni_nn_densities = local_densities(uni_session, uni_heroes, uni_subgraph)\n",
    "uni_nn_densities"
   ]
  },
  {
   "cell_type": "markdown",
   "metadata": {},
   "source": [
    "## Bi Densities Nearest Neighbors"
   ]
  },
  {
   "cell_type": "code",
   "execution_count": null,
   "metadata": {},
   "outputs": [],
   "source": [
    "bi_heroes= '''\n",
    "MATCH (h:Hero)\n",
    "OPTIONAL MATCH (h)-[*..2]-(o)\n",
    "RETURN h.name as hero, labels(o)[-1] as nn_type, count(o) as nn_ct'''\n",
    "\n",
    "bi_subgraph='''\n",
    "MATCH (h:Hero)\n",
    "call apoc.path.subgraphAll(h, {maxLevel:2})\n",
    "YIELD nodes, relationships\n",
    "RETURN h.name as hero, labels(h)[-1] as h_type, size(nodes)-1 as nn_ct, size(relationships) as rel_ct'''"
   ]
  },
  {
   "cell_type": "code",
   "execution_count": null,
   "metadata": {},
   "outputs": [],
   "source": [
    "bi_nn_densities = local_densities(bi_session, bi_heroes, bi_subgraph)\n",
    "bi_nn_densities"
   ]
  },
  {
   "cell_type": "markdown",
   "metadata": {},
   "source": [
    "## Mixed Uni Densities Nearest Neighbors "
   ]
  },
  {
   "cell_type": "code",
   "execution_count": null,
   "metadata": {},
   "outputs": [],
   "source": [
    "mix_uni_heroes= '''\n",
    "MATCH (h:Hero)\n",
    "OPTIONAL MATCH (h)-[:KNOWS]-(o)\n",
    "RETURN h.name as hero, labels(o)[-1] as nn_type, count(o) as nn_ct'''\n",
    "\n",
    "mix_uni_subgraph='''\n",
    "MATCH (h:Hero)\n",
    "call apoc.path.subgraphAll(h, {maxLevel:1, relationshipFilter: \"KNOWS\"})\n",
    "YIELD nodes, relationships\n",
    "RETURN h.name as hero, labels(h)[-1] as h_type, size(nodes)-1 as nn_ct, size(relationships) as rel_ct'''"
   ]
  },
  {
   "cell_type": "code",
   "execution_count": null,
   "metadata": {},
   "outputs": [],
   "source": [
    "mix_uni_nn_densities = local_densities(mix_session, mix_uni_heroes, mix_uni_subgraph)\n",
    "mix_uni_nn_densities"
   ]
  },
  {
   "cell_type": "markdown",
   "metadata": {},
   "source": [
    "## Mixed Bi Densities Nearest Neighbors"
   ]
  },
  {
   "cell_type": "code",
   "execution_count": null,
   "metadata": {},
   "outputs": [],
   "source": [
    "mix_bi_heroes= '''\n",
    "MATCH (h:Hero)\n",
    "OPTIONAL MATCH (h)-[:APPEARS_IN*..2]-(o)\n",
    "RETURN h.name as hero, labels(o)[-1] as nn_type, count(o) as nn_ct'''\n",
    "\n",
    "mix_bi_subgraph='''\n",
    "MATCH (h:Hero)\n",
    "call apoc.path.subgraphAll(h, {maxLevel:2, relationshipFilter: \"APPEARS_IN\"})\n",
    "YIELD nodes, relationships\n",
    "RETURN h.name as hero, labels(h)[-1] as h_type, size(nodes)-1 as nn_ct, size(relationships) as rel_ct'''"
   ]
  },
  {
   "cell_type": "code",
   "execution_count": null,
   "metadata": {},
   "outputs": [],
   "source": [
    "mix_bi_nn_densities = local_densities(mix_session, mix_bi_heroes, mix_bi_subgraph)\n",
    "mix_bi_nn_densities"
   ]
  },
  {
   "cell_type": "code",
   "execution_count": null,
   "metadata": {},
   "outputs": [],
   "source": []
  },
  {
   "cell_type": "code",
   "execution_count": null,
   "metadata": {},
   "outputs": [],
   "source": []
  },
  {
   "cell_type": "markdown",
   "metadata": {},
   "source": [
    "## Local densities\n",
    "\n",
    "apoc.path.subgraphAll()\n",
    "use `size` to count the nodes and relationships\n",
    "- number of nearest nodes\n",
    "  - number of nearest non villain\n",
    "  - number of nearest villain\n",
    "  - all\n",
    "  - percent of villains\n",
    "- number of relationships within nearest neighbor subgraph\n",
    "- number of possible relationships\n",
    "- density\n",
    "\n",
    "- number of next nearest nodes\n",
    "  - number of next nearest non villain\n",
    "  - number of next nearest villain\n",
    "  - all\n",
    "  - percent of villains\n",
    "- number of relationships within next nearest neighbor subgraph\n",
    "- number of possible relationships\n",
    "- density\n",
    "\n"
   ]
  }
 ],
 "metadata": {
  "kernelspec": {
   "display_name": "Python 3",
   "language": "python",
   "name": "python3"
  },
  "language_info": {
   "codemirror_mode": {
    "name": "ipython",
    "version": 3
   },
   "file_extension": ".py",
   "mimetype": "text/x-python",
   "name": "python",
   "nbconvert_exporter": "python",
   "pygments_lexer": "ipython3",
   "version": "3.8.8"
  }
 },
 "nbformat": 4,
 "nbformat_minor": 4
}
