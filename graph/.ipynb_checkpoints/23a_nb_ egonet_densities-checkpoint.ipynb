{
 "cells": [
  {
   "cell_type": "markdown",
   "metadata": {},
   "source": [
    "# Entry 23a notebook: Nearest Neighbor Egonet Densities"
   ]
  },
  {
   "cell_type": "code",
   "execution_count": 1,
   "metadata": {},
   "outputs": [],
   "source": [
    "import numpy as np\n",
    "import pandas as pd\n",
    "import matplotlib.pyplot as plt\n",
    "import seaborn as sns\n",
    "plt.style.use('ggplot')\n",
    "%matplotlib inline\n",
    "\n",
    "import warnings\n",
    "warnings.filterwarnings('once')\n",
    "\n",
    "from neo4j import GraphDatabase"
   ]
  },
  {
   "cell_type": "code",
   "execution_count": 2,
   "metadata": {},
   "outputs": [
    {
     "name": "stderr",
     "output_type": "stream",
     "text": [
      "C:\\Users\\jfish\\anaconda3\\lib\\site-packages\\ipykernel\\ipkernel.py:287: DeprecationWarning: `should_run_async` will not call `transform_cell` automatically in the future. Please pass the result to `transformed_cell` argument and any exception that happen during thetransform in `preprocessing_exc_tuple` in IPython 7.17 and above.\n",
      "  and should_run_async(code)\n"
     ]
    }
   ],
   "source": [
    "uri = \"bolt://localhost:7687\"\n",
    "\n",
    "driver = GraphDatabase.driver(uri, auth=('neo4j', 'password'))\n",
    "\n",
    "uni_session = driver.session(database=\"unimodal\")\n",
    "bi_session = driver.session(database=\"bimodal\")\n",
    "mix_session = driver.session(database=\"mixmodal\")"
   ]
  },
  {
   "cell_type": "code",
   "execution_count": 3,
   "metadata": {},
   "outputs": [],
   "source": [
    "def local_densities(con, model_type='uni', max_level=1):\n",
    "    if model_type == 'uni' or model_type == 'mix':\n",
    "        rel_type = 'KNOWS'\n",
    "        subgraph_query = '''MATCH (h:Hero)\n",
    "        call apoc.path.subgraphAll(h, {maxLevel:'''  + f\"{max_level}, relationshipFilter:'{rel_type}'\" + '''})\n",
    "        YIELD nodes, relationships\n",
    "        RETURN h.name as hero, labels(h)[-1] as h_type, size(relationships) as rel_ct, 'na' as node_type, size(nodes) as node_ct'''\n",
    "    else:\n",
    "        max_level = max_level * 2\n",
    "        rel_type = 'APPEARS_IN'\n",
    "        subgraph_query = '''MATCH (h:Hero)\n",
    "        call apoc.path.subgraphAll(h, {maxLevel:'''  + f\"{max_level}, relationshipFilter:'{rel_type}'\" + '''})\n",
    "        YIELD nodes, relationships\n",
    "        WITH h.name as hero, labels(h)[-1] as h_type, nodes, size(relationships) as rel_ct\n",
    "        UNWIND nodes as indv_node\n",
    "        RETURN hero, h_type, rel_ct, labels(indv_node)[0] as node_type, count(indv_node) as node_ct'''\n",
    "    \n",
    "    df = pd.DataFrame(con.run(subgraph_query).data())\n",
    "    df.columns = ['hero', 'h_type', 'rel_ct', 'node_type', 'node_ct']\n",
    "    \n",
    "    if model_type == 'uni' or model_type == 'mix':\n",
    "        df['p_rel_ct'] = (df['node_ct'] * (df['node_ct'] - 1)) / 2\n",
    "    else:\n",
    "        df = pd.pivot_table(df, index=['hero', 'h_type', 'rel_ct'], columns='node_type', values='node_ct').reset_index()\n",
    "        df['p_rel_ct'] = df['Hero'] * df['Comic']\n",
    "        \n",
    "    df['density'] = df['rel_ct'] / df['p_rel_ct']\n",
    "    return df"
   ]
  },
  {
   "cell_type": "markdown",
   "metadata": {},
   "source": [
    "## Uni Densities Nearest Neighbors"
   ]
  },
  {
   "cell_type": "code",
   "execution_count": null,
   "metadata": {},
   "outputs": [],
   "source": [
    "uni_densities = local_densities(uni_session)\n",
    "uni_densities.to_csv('data/uni_nn_densities.csv')\n",
    "uni_densities"
   ]
  },
  {
   "cell_type": "code",
   "execution_count": null,
   "metadata": {},
   "outputs": [],
   "source": [
    "uni_densities.describe()"
   ]
  },
  {
   "cell_type": "markdown",
   "metadata": {},
   "source": [
    "## Bi Densities Nearest Neighbors"
   ]
  },
  {
   "cell_type": "code",
   "execution_count": null,
   "metadata": {},
   "outputs": [],
   "source": [
    "bi_densities = local_densities(bi_session, model_type='bi')\n",
    "bi_densities.to_csv('data/bi_nn_densities.csv')\n",
    "bi_densities"
   ]
  },
  {
   "cell_type": "code",
   "execution_count": null,
   "metadata": {},
   "outputs": [],
   "source": [
    "bi_densities.describe()"
   ]
  },
  {
   "cell_type": "markdown",
   "metadata": {},
   "source": [
    "## Mixed Uni Densities Nearest Neighbors "
   ]
  },
  {
   "cell_type": "code",
   "execution_count": null,
   "metadata": {},
   "outputs": [],
   "source": [
    "mix_uni_densities = local_densities(mix_session)\n",
    "mix_uni_densities.to_csv('data/mix_uni_nn_densities.csv')\n",
    "mix_uni_densities"
   ]
  },
  {
   "cell_type": "code",
   "execution_count": null,
   "metadata": {},
   "outputs": [],
   "source": [
    "mix_uni_densities.describe()"
   ]
  },
  {
   "cell_type": "markdown",
   "metadata": {},
   "source": [
    "## Mixed Bi Densities Nearest Neighbors"
   ]
  },
  {
   "cell_type": "code",
   "execution_count": null,
   "metadata": {},
   "outputs": [],
   "source": [
    "mix_bi_densities = local_densities(mix_session, model_type='bi')\n",
    "mix_bi_densities.to_csv('data/mix_bi_nn_densities.csv')\n",
    "mix_bi_densities"
   ]
  },
  {
   "cell_type": "code",
   "execution_count": null,
   "metadata": {},
   "outputs": [],
   "source": [
    "mix_bi_densities.describe()"
   ]
  },
  {
   "cell_type": "code",
   "execution_count": null,
   "metadata": {},
   "outputs": [],
   "source": []
  }
 ],
 "metadata": {
  "kernelspec": {
   "display_name": "Python 3",
   "language": "python",
   "name": "python3"
  },
  "language_info": {
   "codemirror_mode": {
    "name": "ipython",
    "version": 3
   },
   "file_extension": ".py",
   "mimetype": "text/x-python",
   "name": "python",
   "nbconvert_exporter": "python",
   "pygments_lexer": "ipython3",
   "version": "3.8.8"
  }
 },
 "nbformat": 4,
 "nbformat_minor": 4
}
