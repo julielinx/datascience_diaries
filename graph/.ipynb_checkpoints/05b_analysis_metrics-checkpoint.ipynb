{
 "cells": [
  {
   "cell_type": "markdown",
   "metadata": {},
   "source": [
    "# Entry G5.5: Analysis Metrics"
   ]
  },
  {
   "cell_type": "markdown",
   "metadata": {},
   "source": [
    "I am 100% adding this entry retroactively. And yes, I dated it wrong so it would show up in the right order in the Post list. That's the nice thing about digital diaries: you can insert things in after the fact. It wasn't until I was working on entries G12 and G13 that I realized I hadn't posted all the analysis metrics I plan to address.\n",
    "\n",
    "There is no guarantee that I'll address all metrics under a single category in one post and no guarantee I'll post them in the order listed. Although, I may update the list after the entries are live to reflect how they end up grouped.\n",
    "\n",
    "I put together this list from my research into network theory, including:\n",
    "\n",
    "- [Networks](https://www.amazon.com/Networks-Mark-Newman/dp/0198805098) by Mark Newman\n",
    "- The online book [Network Science](http://networksciencebook.com/) by Albert-László Barabási as well as other books by him and his [online material](https://barabasi.com/publications)\n",
    "- [Graph Algorithms](https://neo4j.com/graph-algorithms-book/) by Mark Needham and Amy Hodler\n",
    "- [Graph Databases](https://neo4j.com/graph-databases-book/) by Ian Robinson, Jim Webber and Emil Eifrem\n",
    "- [Connected](https://neo4j.com/books/connected/) by Nicholas Christakis and James Fowler\n",
    "- [Graph People Blog](https://tbgraph.wordpress.com/)\n",
    "- Courses/videos/tutorials/blog posts through [Neo4j](https://neo4j.com/graphacademy/)\n",
    "- Others that I've obviously forgotten about by name\n",
    "\n",
    "I'm not going to go into any detail on any of these topics in this entry. I'll cover what each metric is and how it applies to data in the relevant entries.\n",
    "\n",
    "If I'm feeling ambitious, I might come back and put the links to the relevant entries once they've been posted, like I've done for Global Metrics."
   ]
  },
  {
   "cell_type": "markdown",
   "metadata": {},
   "source": [
    "### Global Metrics\n",
    "\n",
    "1. [Counts: Entry G6](https://julielinx.github.io/blog/g06_global_counts/)\n",
    "  - Node count\n",
    "  - Isolates count and percent\n",
    "  - Relationship count\n",
    "2. [Density and Diameter: Entry G7](https://julielinx.github.io/blog/g07_global_density_diameter/)\n",
    "  - Number of possible relationships\n",
    "  - Global density\n",
    "  - Diameter\n",
    "3. [Components: Entry G8](https://julielinx.github.io/blog/g08_components/)\n",
    "  - Component count\n",
    "  - Component size\n",
    "  - Component percent"
   ]
  },
  {
   "cell_type": "markdown",
   "metadata": {},
   "source": [
    "### Local Metrics\n",
    "\n",
    "1. Degree descriptive statistics\n",
    "2. Degree distribution\n",
    "3. Weighted degree count\n",
    "4. Weighted degree descriptive statistics\n",
    "5. Weighted degree distribution"
   ]
  },
  {
   "cell_type": "markdown",
   "metadata": {},
   "source": [
    "### Density and Nearest Neighbors\n",
    "\n",
    "1. Local density at various step levels (nearest neighbors, next nearest neighbors)\n",
    "2. Number of nearest claim neighbors\n",
    "3. Number of next nearest claim neighbors\n",
    "4. Number steps to nearest fraud\n",
    "5. Count of fraud at various step levels\n",
    "6. Percent of fraud at various step levels\n",
    "7. Distribution of fraud at various step levels\n",
    "8. Descriptive statistics for fraud at various step levels"
   ]
  },
  {
   "cell_type": "markdown",
   "metadata": {},
   "source": [
    "### Shortest Path\n",
    "\n",
    "1. Shortest path\n",
    "2. Shortest path descriptive statistics\n",
    "3. Shortest path distribution\n",
    "4. Shortest path to fraud\n",
    "5. Distribution of shortest path to fraud\n",
    "6. Descriptive statistics for shortest path to fraud"
   ]
  },
  {
   "cell_type": "markdown",
   "metadata": {},
   "source": [
    "### Triangles\n",
    "\n",
    "1. Triangles / triads\n",
    "2. Distribution of triangles\n",
    "3. Triangles descriptive statistics"
   ]
  },
  {
   "cell_type": "markdown",
   "metadata": {},
   "source": [
    "### Tours / Cycles\n",
    "\n",
    "1. Tours / cycles\n",
    "2. Distribution of tours\n",
    "3. Tours descriptive statistics"
   ]
  },
  {
   "cell_type": "markdown",
   "metadata": {},
   "source": [
    "### Clustering Coefficient\n",
    "\n",
    "1. Clustering coefficient\n",
    "2. Global clustering coefficient\n",
    "3. Local clustering coefficient\n",
    "4. Distribution of clustering coefficient\n",
    "5. Clustering coefficient descriptive statistics"
   ]
  },
  {
   "cell_type": "markdown",
   "metadata": {},
   "source": [
    "### Centralities\n",
    "\n",
    "1. Degree Centrality\n",
    "2. Betweenness Centrality\n",
    "3. Closeness Centrality\n",
    "4. PageRank Centrality\n",
    "5. Eigenvector centrality"
   ]
  },
  {
   "cell_type": "markdown",
   "metadata": {},
   "source": [
    "### K-cores\n",
    "\n",
    "Not sure what I want to do with K-cores. I'll explore it more when I get to it."
   ]
  },
  {
   "cell_type": "markdown",
   "metadata": {},
   "source": [
    "### Other\n",
    "\n",
    "1. Community Detection\n",
    "2. Reciprocity\n",
    "3. Network link analysis"
   ]
  },
  {
   "cell_type": "markdown",
   "metadata": {},
   "source": [
    "### Up Next\n",
    "\n"
   ]
  },
  {
   "cell_type": "code",
   "execution_count": null,
   "metadata": {},
   "outputs": [],
   "source": []
  }
 ],
 "metadata": {
  "kernelspec": {
   "display_name": "Python 3",
   "language": "python",
   "name": "python3"
  },
  "language_info": {
   "codemirror_mode": {
    "name": "ipython",
    "version": 3
   },
   "file_extension": ".py",
   "mimetype": "text/x-python",
   "name": "python",
   "nbconvert_exporter": "python",
   "pygments_lexer": "ipython3",
   "version": "3.7.6"
  }
 },
 "nbformat": 4,
 "nbformat_minor": 4
}
