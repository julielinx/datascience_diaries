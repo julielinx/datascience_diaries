{
 "cells": [
  {
   "cell_type": "markdown",
   "id": "07c2c1c0-299d-4aa2-99db-106ea096eee1",
   "metadata": {},
   "source": [
    "# Entry 22: Mean Distance Between Connected Nodes"
   ]
  },
  {
   "cell_type": "markdown",
   "id": "d1dfea56-257e-46c3-9bd6-17321278c6d2",
   "metadata": {},
   "source": [
    "The `apoc.path.expandingTree` algorithm in [Entry G19](https://julielinx.github.io/blog/g19_neighborhood_node_cts/) revealed a gold mine of information. Once I had that table of results I knew that not only could I grab the diameter and shortest paths to villains, I could also use it to calculate the mean distance between pairs of nodes, which I haden't even considered attemepting.\n",
    "\n",
    "[Math Insight](https://mathinsight.org/definition/network_mean_path_length) has a nice, succint definition of this metric: \"The mean path length is the shortest path length, averaged over all pairs of nodes.\"\n",
    "\n",
    "## The Problem\n",
    "\n",
    "You may or may not remember in [Entry G18](https://julielinx.github.io/blog/g18_egocentric_networks/) when I [referenced](https://julielinx.github.io/blog/g18_egocentric_networks/#step-distance) the mean distance between connected node pairs from Mark Newman's book [Networks](https://www.amazon.com/Networks-Mark-Newman/dp/0198805098). This seems like a handy piece of information to have - I think by now we've all caught on to the fact that [I love summary statistics](https://julielinx.github.io/blog/g10_local_metrics/#degree-summary-statistics).\n",
    "\n",
    "We already saw the distribution of distance between connected pairs in [Entry G19](https://julielinx.github.io/blog/g19_neighborhood_node_cts/), now it's time to get our single number summary of that data.\n",
    "\n",
    "## The Solution\n",
    "\n",
    "The beautiful table created in the [Entry G19c notebook](https://github.com/julielinx/datascience_diaries/blob/master/graph/19c_nb_neighborhood_node_cts.ipynb) gives us all the information we need to calculate the mean number of steps.\n",
    "\n",
    "The equation for mean distance between node pairs is:\n",
    "\n",
    "avg_dist = $\\frac{1}{n(n-1)} \\times \\sum d(v_{i}, v_{j})$\n",
    "\n",
    "or as I calculate it (let's not over complicate things with multiplying by reciprocals instead of just dividing by the actual value):\n",
    "\n",
    "avg_dist = $\\frac{\\sum d(v_{i}, v_{j})}{n(n-1)}$\n",
    "\n",
    "Where:\n",
    "- $n$ is the number of nodes\n",
    "- $d(v_{i}, v_{j})$ is the step distance from node $v_{i}$ to node $v_{j}$\n",
    "\n",
    "This is not as complicated as it looks. It breaks down to this: to get a mean (i.e. average) we need to sum all the things ($\\sum d(v_{i}, v_{j})$), then divide by the count of all the things ($n(n-1)$).\n",
    "\n",
    "To accomplish this from the table of results we got from the [Entry G19c notebook](https://github.com/julielinx/datascience_diaries/blob/master/graph/19c_nb_neighborhood_node_cts.ipynb) we need three steps to sum all the things, then we need to figure out exactly what it is we're dividing by:\n",
    "\n",
    "- Sum all the things\n",
    "  1. Sum the number of paths at each step level\n",
    "  2. Multiply the number of paths by the distance\n",
    "  3. Sum the results to get the total number of steps\n",
    "- Divide by the count of all things\n",
    "\n",
    "### Sum All The Things\n",
    "\n",
    "First we need to know how many paths there are at each step level. Because we used a breadth first based algorithm, we have the shortest paths between all connected pairs of nodes. If we group by distance and sum the counts, we get the total number of paths at each step level:\n",
    "\n",
    "<img src='images/22_distance_sums.png'>\n",
    "\n",
    "We can't very well just add all these together because they represent different numbers of steps. To get the number of steps at each distance, we need to multiply the sum of paths by the step distance:\n",
    "\n",
    "<img src='images/22_distance_sums_mult.png'>\n",
    "\n",
    "Now we just sum the `total_nbr_steps` column and voilà, we now have the total number of steps in our graph, which is 107,821,826."
   ]
  },
  {
   "cell_type": "markdown",
   "id": "dc45070f-e445-471d-8389-cc981ead7738",
   "metadata": {},
   "source": [
    "### Divide by The Count of All Things\n",
    "\n",
    "It's tempting to think that the \"count of things\" is the number of nodes. However, we're not counting nodes, we're counting paths, so we need the combination of every node with every other node. This is the $n(n-1)$ portion of the equation. You may recognize it from the calcuation for the number of possible relationships in [Entry G7](https://julielinx.github.io/blog/g07_global_density_diameter/#number-of-possible-relationships).\n",
    "\n",
    "*Note*: Using this equation, a node can connect to every node except itself - which brings up a set of constraints: we're assuming that a node cannot connected to itself and that it connects a maximum of one time to any other node.\n",
    "\n",
    "If we want to double check this thinking, we can calculate the mean distance between connected nodes using a little algebra where every node is connected to every other node.\n",
    "\n",
    "The mathematical equivalent of \"every node being connected to every other node\" is $n(n-1)$. Using this we come up with the following equation:\n",
    "\n",
    "$\\frac{n(n-1)}{x} = 1$\n",
    "\n",
    "Using a little algebraic magic we get this:\n",
    "\n",
    "$=> \\frac{1}{n(n-1)} \\times \\frac{n(n-1)}{x} = 1 \\times \\frac{1}{n(n-1)}$\n",
    "\n",
    "$=> \\frac{1}{x} = \\frac{1}{n(n-1)}$\n",
    "\n",
    "$=> x = n(n-1)$\n",
    "\n",
    "Of course you could also just know that any number divided by itself is 1 and save yourself some time.\n",
    "\n",
    "Plugging in our numbers, we end up with 6,421 $\\times$ 6,420 = 41,222,820"
   ]
  },
  {
   "cell_type": "markdown",
   "id": "6a52d05e-a20f-4b53-9c8f-83a708fe2d5f",
   "metadata": {},
   "source": [
    "### Get the Answer\n",
    "\n",
    "Now all we have to do is plug in our numbers:\n",
    "\n",
    "$\\frac{107821826}{41222820} = 2.62$\n",
    "\n",
    "This value makes sense based on the charts from [Entry G19](https://julielinx.github.io/blog/g19_neighborhood_node_cts/) and the counts of paths at each level - distances of three and two were most popular."
   ]
  },
  {
   "cell_type": "markdown",
   "id": "60d19969-7992-4c00-b783-dd31be78f7b0",
   "metadata": {},
   "source": [
    "## Up Next\n",
    "\n",
    "Local Density"
   ]
  },
  {
   "cell_type": "markdown",
   "id": "d94b66f1-b105-4691-88a8-3d12df8860d5",
   "metadata": {},
   "source": [
    "## Resources\n",
    "\n",
    "- [Mean path length definition](https://mathinsight.org/definition/network_mean_path_length)\n",
    "- [Average path length](https://en.wikipedia.org/wiki/Average_path_length)\n",
    "- [Entry G7: Global Density and Diameter](https://julielinx.github.io/blog/g07_global_density_diameter)\n",
    "- [Entry G19: Neighborhood Node Counts](https://julielinx.github.io/blog/g19_neighborhood_node_cts/)"
   ]
  }
 ],
 "metadata": {
  "kernelspec": {
   "display_name": "Python 3",
   "language": "python",
   "name": "python3"
  },
  "language_info": {
   "codemirror_mode": {
    "name": "ipython",
    "version": 3
   },
   "file_extension": ".py",
   "mimetype": "text/x-python",
   "name": "python",
   "nbconvert_exporter": "python",
   "pygments_lexer": "ipython3",
   "version": "3.8.8"
  }
 },
 "nbformat": 4,
 "nbformat_minor": 5
}
