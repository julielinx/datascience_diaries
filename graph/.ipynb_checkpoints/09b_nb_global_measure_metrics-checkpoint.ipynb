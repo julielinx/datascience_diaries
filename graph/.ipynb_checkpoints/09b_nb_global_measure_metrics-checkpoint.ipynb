{
 "cells": [
  {
   "cell_type": "code",
   "execution_count": 1,
   "metadata": {},
   "outputs": [],
   "source": [
    "import numpy as np\n",
    "import pandas as pd\n",
    "import matplotlib.pyplot as plt\n",
    "import seaborn as sns\n",
    "plt.style.use('ggplot')\n",
    "%matplotlib inline\n",
    "\n",
    "import warnings\n",
    "warnings.filterwarnings('once')\n",
    "\n",
    "from neo4j import GraphDatabase"
   ]
  },
  {
   "cell_type": "code",
   "execution_count": 2,
   "metadata": {},
   "outputs": [
    {
     "name": "stderr",
     "output_type": "stream",
     "text": [
      "//anaconda3/lib/python3.7/site-packages/ipykernel/ipkernel.py:287: DeprecationWarning: `should_run_async` will not call `transform_cell` automatically in the future. Please pass the result to `transformed_cell` argument and any exception that happen during thetransform in `preprocessing_exc_tuple` in IPython 7.17 and above.\n",
      "  and should_run_async(code)\n"
     ]
    }
   ],
   "source": [
    "uri = \"bolt://localhost:7687\"\n",
    "\n",
    "driver = GraphDatabase.driver(uri, auth=('neo4j', 'password'))\n",
    "session = driver.session()"
   ]
  },
  {
   "cell_type": "markdown",
   "metadata": {},
   "source": [
    "## Node Count"
   ]
  },
  {
   "cell_type": "markdown",
   "metadata": {},
   "source": [
    "1. `count()` with variables"
   ]
  },
  {
   "cell_type": "code",
   "execution_count": 21,
   "metadata": {},
   "outputs": [],
   "source": [
    "count1 = session.run('''PROFILE MATCH (c)\n",
    "RETURN count(c) as node_count''')"
   ]
  },
  {
   "cell_type": "code",
   "execution_count": 29,
   "metadata": {},
   "outputs": [
    {
     "data": {
      "text/plain": [
       "{'query': 'PROFILE MATCH (c)\\nRETURN count(c) as node_count',\n",
       " 'parameters': {},\n",
       " 'server': <neo4j.api.ServerInfo at 0x1a19074fd0>,\n",
       " 't_first': 455,\n",
       " 'fields': ['node_count'],\n",
       " 'bookmark': 'FB:kcwQoOcTCwX0QjOl9b/sbMRE8ckAg5A=',\n",
       " 'profile': {'args': {'GlobalMemory': 64,\n",
       "   'planner-impl': 'IDP',\n",
       "   'runtime': 'PIPELINED',\n",
       "   'runtime-impl': 'PIPELINED',\n",
       "   'version': 'CYPHER 4.1',\n",
       "   'DbHits': 0,\n",
       "   'Details': 'node_count',\n",
       "   'PipelineInfo': 'Fused in Pipeline 0',\n",
       "   'planner-version': '4.1',\n",
       "   'runtime-version': '4.1',\n",
       "   'EstimatedRows': 1.0,\n",
       "   'planner': 'COST',\n",
       "   'Rows': 1},\n",
       "  'children': [{'args': {'Details': 'count( () ) AS node_count',\n",
       "     'Memory': 64,\n",
       "     'PipelineInfo': 'Fused in Pipeline 0',\n",
       "     'EstimatedRows': 1.0,\n",
       "     'DbHits': 1,\n",
       "     'Rows': 1},\n",
       "    'children': [],\n",
       "    'dbHits': 1,\n",
       "    'identifiers': ['node_count'],\n",
       "    'operatorType': 'NodeCountFromCountStore@neo4j',\n",
       "    'rows': 1}],\n",
       "  'dbHits': 0,\n",
       "  'identifiers': ['node_count'],\n",
       "  'operatorType': 'ProduceResults@neo4j',\n",
       "  'rows': 1},\n",
       " 'type': 'r',\n",
       " 't_last': 278,\n",
       " 'db': 'neo4j'}"
      ]
     },
     "execution_count": 29,
     "metadata": {},
     "output_type": "execute_result"
    }
   ],
   "source": [
    "metadata = count1.consume().metadata\n",
    "metadata"
   ]
  },
  {
   "cell_type": "code",
   "execution_count": 24,
   "metadata": {},
   "outputs": [
    {
     "data": {
      "text/plain": [
       "455"
      ]
     },
     "execution_count": 24,
     "metadata": {},
     "output_type": "execute_result"
    }
   ],
   "source": [
    "# The time it took for the server to have the result available. (milliseconds)\n",
    "\n",
    "count1.consume().result_available_after"
   ]
  },
  {
   "cell_type": "code",
   "execution_count": 23,
   "metadata": {},
   "outputs": [
    {
     "data": {
      "text/plain": [
       "278"
      ]
     },
     "execution_count": 23,
     "metadata": {},
     "output_type": "execute_result"
    }
   ],
   "source": [
    "# The time it took for the server to consume the result. (milliseconds)\n",
    "\n",
    "count1.consume().result_consumed_after"
   ]
  },
  {
   "cell_type": "code",
   "execution_count": 25,
   "metadata": {},
   "outputs": [
    {
     "data": {
      "text/plain": [
       "{'args': {'GlobalMemory': 64,\n",
       "  'planner-impl': 'IDP',\n",
       "  'runtime': 'PIPELINED',\n",
       "  'runtime-impl': 'PIPELINED',\n",
       "  'version': 'CYPHER 4.1',\n",
       "  'DbHits': 0,\n",
       "  'Details': 'node_count',\n",
       "  'PipelineInfo': 'Fused in Pipeline 0',\n",
       "  'planner-version': '4.1',\n",
       "  'runtime-version': '4.1',\n",
       "  'EstimatedRows': 1.0,\n",
       "  'planner': 'COST',\n",
       "  'Rows': 1},\n",
       " 'children': [{'args': {'Details': 'count( () ) AS node_count',\n",
       "    'Memory': 64,\n",
       "    'PipelineInfo': 'Fused in Pipeline 0',\n",
       "    'EstimatedRows': 1.0,\n",
       "    'DbHits': 1,\n",
       "    'Rows': 1},\n",
       "   'children': [],\n",
       "   'dbHits': 1,\n",
       "   'identifiers': ['node_count'],\n",
       "   'operatorType': 'NodeCountFromCountStore@neo4j',\n",
       "   'rows': 1}],\n",
       " 'dbHits': 0,\n",
       " 'identifiers': ['node_count'],\n",
       " 'operatorType': 'ProduceResults@neo4j',\n",
       " 'rows': 1}"
      ]
     },
     "execution_count": 25,
     "metadata": {},
     "output_type": "execute_result"
    }
   ],
   "source": [
    "# Dictionary that describes how the database executed the query.\n",
    "\n",
    "count1.consume().profile"
   ]
  },
  {
   "cell_type": "code",
   "execution_count": 64,
   "metadata": {},
   "outputs": [],
   "source": [
    "def measure_metrics(query):\n",
    "    query = 'PROFILE ' + query\n",
    "    result = session.run(query)\n",
    "    metadata = result.consume().metadata\n",
    "    profile = result.consume().profile\n",
    "    data = pd.DataFrame([('avail_time', metadata['t_first']),\n",
    "    ('consume_time', metadata['t_last']),\n",
    "    ('global_memory', metadata['profile']['args']['GlobalMemory']),\n",
    "    ('child_memory', metadata['profile']['children'][0]['args']['Memory']),\n",
    "    ('db_hits', metadata['profile']['args']['DbHits']),\n",
    "    ('child_db_hits', metadata['profile']['children'][0]['args']['DbHits']),\n",
    "    ('child2_db_hits', metadata['profile']['children'][0]['dbHits']),\n",
    "    ('child_rows', metadata['profile']['children'][0]['args']['Rows']),\n",
    "    ('child_rows2', metadata['profile']['children'][0]['rows'])], columns =['metric', 'value'])\n",
    "    return metadata, profile, data"
   ]
  },
  {
   "cell_type": "code",
   "execution_count": 65,
   "metadata": {},
   "outputs": [],
   "source": [
    "metadata, profile, data = measure_metrics('''PROFILE MATCH (c)\n",
    "RETURN count(c) as node_count''')"
   ]
  },
  {
   "cell_type": "code",
   "execution_count": 70,
   "metadata": {},
   "outputs": [
    {
     "data": {
      "text/plain": [
       "{'query': 'PROFILE PROFILE MATCH (c)\\nRETURN count(c) as node_count',\n",
       " 'parameters': {},\n",
       " 'server': <neo4j.api.ServerInfo at 0x1a19297310>,\n",
       " 't_first': 56,\n",
       " 'fields': ['node_count'],\n",
       " 'bookmark': 'FB:kcwQoOcTCwX0QjOl9b/sbMRE8ckAg5A=',\n",
       " 'profile': {'args': {'GlobalMemory': 64,\n",
       "   'planner-impl': 'IDP',\n",
       "   'runtime': 'PIPELINED',\n",
       "   'runtime-impl': 'PIPELINED',\n",
       "   'version': 'CYPHER 4.1',\n",
       "   'DbHits': 0,\n",
       "   'Details': 'node_count',\n",
       "   'PipelineInfo': 'Fused in Pipeline 0',\n",
       "   'planner-version': '4.1',\n",
       "   'runtime-version': '4.1',\n",
       "   'EstimatedRows': 1.0,\n",
       "   'planner': 'COST',\n",
       "   'Rows': 1},\n",
       "  'children': [{'args': {'Details': 'count( () ) AS node_count',\n",
       "     'Memory': 64,\n",
       "     'PipelineInfo': 'Fused in Pipeline 0',\n",
       "     'EstimatedRows': 1.0,\n",
       "     'DbHits': 1,\n",
       "     'Rows': 1},\n",
       "    'children': [],\n",
       "    'dbHits': 1,\n",
       "    'identifiers': ['node_count'],\n",
       "    'operatorType': 'NodeCountFromCountStore@neo4j',\n",
       "    'rows': 1}],\n",
       "  'dbHits': 0,\n",
       "  'identifiers': ['node_count'],\n",
       "  'operatorType': 'ProduceResults@neo4j',\n",
       "  'rows': 1},\n",
       " 'type': 'r',\n",
       " 't_last': 21,\n",
       " 'db': 'neo4j'}"
      ]
     },
     "execution_count": 70,
     "metadata": {},
     "output_type": "execute_result"
    }
   ],
   "source": [
    "metadata"
   ]
  },
  {
   "cell_type": "code",
   "execution_count": 67,
   "metadata": {},
   "outputs": [
    {
     "data": {
      "text/plain": [
       "{'args': {'GlobalMemory': 64,\n",
       "  'planner-impl': 'IDP',\n",
       "  'runtime': 'PIPELINED',\n",
       "  'runtime-impl': 'PIPELINED',\n",
       "  'version': 'CYPHER 4.1',\n",
       "  'DbHits': 0,\n",
       "  'Details': 'node_count',\n",
       "  'PipelineInfo': 'Fused in Pipeline 0',\n",
       "  'planner-version': '4.1',\n",
       "  'runtime-version': '4.1',\n",
       "  'EstimatedRows': 1.0,\n",
       "  'planner': 'COST',\n",
       "  'Rows': 1},\n",
       " 'children': [{'args': {'Details': 'count( () ) AS node_count',\n",
       "    'Memory': 64,\n",
       "    'PipelineInfo': 'Fused in Pipeline 0',\n",
       "    'EstimatedRows': 1.0,\n",
       "    'DbHits': 1,\n",
       "    'Rows': 1},\n",
       "   'children': [],\n",
       "   'dbHits': 1,\n",
       "   'identifiers': ['node_count'],\n",
       "   'operatorType': 'NodeCountFromCountStore@neo4j',\n",
       "   'rows': 1}],\n",
       " 'dbHits': 0,\n",
       " 'identifiers': ['node_count'],\n",
       " 'operatorType': 'ProduceResults@neo4j',\n",
       " 'rows': 1}"
      ]
     },
     "execution_count": 67,
     "metadata": {},
     "output_type": "execute_result"
    }
   ],
   "source": [
    "profile"
   ]
  },
  {
   "cell_type": "code",
   "execution_count": 68,
   "metadata": {},
   "outputs": [
    {
     "data": {
      "text/html": [
       "<div>\n",
       "<style scoped>\n",
       "    .dataframe tbody tr th:only-of-type {\n",
       "        vertical-align: middle;\n",
       "    }\n",
       "\n",
       "    .dataframe tbody tr th {\n",
       "        vertical-align: top;\n",
       "    }\n",
       "\n",
       "    .dataframe thead th {\n",
       "        text-align: right;\n",
       "    }\n",
       "</style>\n",
       "<table border=\"1\" class=\"dataframe\">\n",
       "  <thead>\n",
       "    <tr style=\"text-align: right;\">\n",
       "      <th></th>\n",
       "      <th>metric</th>\n",
       "      <th>value</th>\n",
       "    </tr>\n",
       "  </thead>\n",
       "  <tbody>\n",
       "    <tr>\n",
       "      <th>0</th>\n",
       "      <td>avail_time</td>\n",
       "      <td>56</td>\n",
       "    </tr>\n",
       "    <tr>\n",
       "      <th>1</th>\n",
       "      <td>consume_time</td>\n",
       "      <td>21</td>\n",
       "    </tr>\n",
       "    <tr>\n",
       "      <th>2</th>\n",
       "      <td>global_memory</td>\n",
       "      <td>64</td>\n",
       "    </tr>\n",
       "    <tr>\n",
       "      <th>3</th>\n",
       "      <td>child_memory</td>\n",
       "      <td>64</td>\n",
       "    </tr>\n",
       "    <tr>\n",
       "      <th>4</th>\n",
       "      <td>db_hits</td>\n",
       "      <td>0</td>\n",
       "    </tr>\n",
       "    <tr>\n",
       "      <th>5</th>\n",
       "      <td>child_db_hits</td>\n",
       "      <td>1</td>\n",
       "    </tr>\n",
       "    <tr>\n",
       "      <th>6</th>\n",
       "      <td>child2_db_hits</td>\n",
       "      <td>1</td>\n",
       "    </tr>\n",
       "    <tr>\n",
       "      <th>7</th>\n",
       "      <td>child_rows</td>\n",
       "      <td>1</td>\n",
       "    </tr>\n",
       "    <tr>\n",
       "      <th>8</th>\n",
       "      <td>child_rows2</td>\n",
       "      <td>1</td>\n",
       "    </tr>\n",
       "  </tbody>\n",
       "</table>\n",
       "</div>"
      ],
      "text/plain": [
       "           metric  value\n",
       "0      avail_time     56\n",
       "1    consume_time     21\n",
       "2   global_memory     64\n",
       "3    child_memory     64\n",
       "4         db_hits      0\n",
       "5   child_db_hits      1\n",
       "6  child2_db_hits      1\n",
       "7      child_rows      1\n",
       "8     child_rows2      1"
      ]
     },
     "execution_count": 68,
     "metadata": {},
     "output_type": "execute_result"
    }
   ],
   "source": [
    "data"
   ]
  },
  {
   "cell_type": "markdown",
   "metadata": {},
   "source": [
    "2. `count()` all (*)"
   ]
  },
  {
   "cell_type": "code",
   "execution_count": 71,
   "metadata": {},
   "outputs": [],
   "source": [
    "metadata, profile, data = measure_metrics('''MATCH ()\n",
    "RETURN count(*) as node_count''')"
   ]
  },
  {
   "cell_type": "code",
   "execution_count": 72,
   "metadata": {},
   "outputs": [
    {
     "data": {
      "text/plain": [
       "{'query': 'PROFILE MATCH ()\\nRETURN count(*) as node_count',\n",
       " 'parameters': {},\n",
       " 'server': <neo4j.api.ServerInfo at 0x1a17f912d0>,\n",
       " 't_first': 1311,\n",
       " 'fields': ['node_count'],\n",
       " 'bookmark': 'FB:kcwQoOcTCwX0QjOl9b/sbMRE8ckAg5A=',\n",
       " 'profile': {'args': {'GlobalMemory': 64,\n",
       "   'planner-impl': 'IDP',\n",
       "   'runtime': 'PIPELINED',\n",
       "   'runtime-impl': 'PIPELINED',\n",
       "   'version': 'CYPHER 4.1',\n",
       "   'DbHits': 0,\n",
       "   'Details': 'node_count',\n",
       "   'PipelineInfo': 'Fused in Pipeline 0',\n",
       "   'planner-version': '4.1',\n",
       "   'runtime-version': '4.1',\n",
       "   'EstimatedRows': 1.0,\n",
       "   'planner': 'COST',\n",
       "   'Rows': 1},\n",
       "  'children': [{'args': {'Details': 'count( () ) AS node_count',\n",
       "     'Memory': 64,\n",
       "     'PipelineInfo': 'Fused in Pipeline 0',\n",
       "     'EstimatedRows': 1.0,\n",
       "     'DbHits': 1,\n",
       "     'Rows': 1},\n",
       "    'children': [],\n",
       "    'dbHits': 1,\n",
       "    'identifiers': ['node_count'],\n",
       "    'operatorType': 'NodeCountFromCountStore@neo4j',\n",
       "    'rows': 1}],\n",
       "  'dbHits': 0,\n",
       "  'identifiers': ['node_count'],\n",
       "  'operatorType': 'ProduceResults@neo4j',\n",
       "  'rows': 1},\n",
       " 'type': 'r',\n",
       " 't_last': 17,\n",
       " 'db': 'neo4j'}"
      ]
     },
     "execution_count": 72,
     "metadata": {},
     "output_type": "execute_result"
    }
   ],
   "source": [
    "metadata"
   ]
  },
  {
   "cell_type": "code",
   "execution_count": 73,
   "metadata": {},
   "outputs": [
    {
     "data": {
      "text/plain": [
       "{'args': {'GlobalMemory': 64,\n",
       "  'planner-impl': 'IDP',\n",
       "  'runtime': 'PIPELINED',\n",
       "  'runtime-impl': 'PIPELINED',\n",
       "  'version': 'CYPHER 4.1',\n",
       "  'DbHits': 0,\n",
       "  'Details': 'node_count',\n",
       "  'PipelineInfo': 'Fused in Pipeline 0',\n",
       "  'planner-version': '4.1',\n",
       "  'runtime-version': '4.1',\n",
       "  'EstimatedRows': 1.0,\n",
       "  'planner': 'COST',\n",
       "  'Rows': 1},\n",
       " 'children': [{'args': {'Details': 'count( () ) AS node_count',\n",
       "    'Memory': 64,\n",
       "    'PipelineInfo': 'Fused in Pipeline 0',\n",
       "    'EstimatedRows': 1.0,\n",
       "    'DbHits': 1,\n",
       "    'Rows': 1},\n",
       "   'children': [],\n",
       "   'dbHits': 1,\n",
       "   'identifiers': ['node_count'],\n",
       "   'operatorType': 'NodeCountFromCountStore@neo4j',\n",
       "   'rows': 1}],\n",
       " 'dbHits': 0,\n",
       " 'identifiers': ['node_count'],\n",
       " 'operatorType': 'ProduceResults@neo4j',\n",
       " 'rows': 1}"
      ]
     },
     "execution_count": 73,
     "metadata": {},
     "output_type": "execute_result"
    }
   ],
   "source": [
    "profile"
   ]
  },
  {
   "cell_type": "code",
   "execution_count": 74,
   "metadata": {},
   "outputs": [
    {
     "data": {
      "text/html": [
       "<div>\n",
       "<style scoped>\n",
       "    .dataframe tbody tr th:only-of-type {\n",
       "        vertical-align: middle;\n",
       "    }\n",
       "\n",
       "    .dataframe tbody tr th {\n",
       "        vertical-align: top;\n",
       "    }\n",
       "\n",
       "    .dataframe thead th {\n",
       "        text-align: right;\n",
       "    }\n",
       "</style>\n",
       "<table border=\"1\" class=\"dataframe\">\n",
       "  <thead>\n",
       "    <tr style=\"text-align: right;\">\n",
       "      <th></th>\n",
       "      <th>metric</th>\n",
       "      <th>value</th>\n",
       "    </tr>\n",
       "  </thead>\n",
       "  <tbody>\n",
       "    <tr>\n",
       "      <th>0</th>\n",
       "      <td>avail_time</td>\n",
       "      <td>1311</td>\n",
       "    </tr>\n",
       "    <tr>\n",
       "      <th>1</th>\n",
       "      <td>consume_time</td>\n",
       "      <td>17</td>\n",
       "    </tr>\n",
       "    <tr>\n",
       "      <th>2</th>\n",
       "      <td>global_memory</td>\n",
       "      <td>64</td>\n",
       "    </tr>\n",
       "    <tr>\n",
       "      <th>3</th>\n",
       "      <td>child_memory</td>\n",
       "      <td>64</td>\n",
       "    </tr>\n",
       "    <tr>\n",
       "      <th>4</th>\n",
       "      <td>db_hits</td>\n",
       "      <td>0</td>\n",
       "    </tr>\n",
       "    <tr>\n",
       "      <th>5</th>\n",
       "      <td>child_db_hits</td>\n",
       "      <td>1</td>\n",
       "    </tr>\n",
       "    <tr>\n",
       "      <th>6</th>\n",
       "      <td>child2_db_hits</td>\n",
       "      <td>1</td>\n",
       "    </tr>\n",
       "    <tr>\n",
       "      <th>7</th>\n",
       "      <td>child_rows</td>\n",
       "      <td>1</td>\n",
       "    </tr>\n",
       "    <tr>\n",
       "      <th>8</th>\n",
       "      <td>child_rows2</td>\n",
       "      <td>1</td>\n",
       "    </tr>\n",
       "  </tbody>\n",
       "</table>\n",
       "</div>"
      ],
      "text/plain": [
       "           metric  value\n",
       "0      avail_time   1311\n",
       "1    consume_time     17\n",
       "2   global_memory     64\n",
       "3    child_memory     64\n",
       "4         db_hits      0\n",
       "5   child_db_hits      1\n",
       "6  child2_db_hits      1\n",
       "7      child_rows      1\n",
       "8     child_rows2      1"
      ]
     },
     "execution_count": 74,
     "metadata": {},
     "output_type": "execute_result"
    }
   ],
   "source": [
    "data"
   ]
  },
  {
   "cell_type": "markdown",
   "metadata": {},
   "source": [
    "3. Meta stats"
   ]
  },
  {
   "cell_type": "code",
   "execution_count": 75,
   "metadata": {},
   "outputs": [
    {
     "name": "stderr",
     "output_type": "stream",
     "text": [
      "//anaconda3/lib/python3.7/site-packages/ipykernel/ipkernel.py:287: DeprecationWarning: `should_run_async` will not call `transform_cell` automatically in the future. Please pass the result to `transformed_cell` argument and any exception that happen during thetransform in `preprocessing_exc_tuple` in IPython 7.17 and above.\n",
      "  and should_run_async(code)\n"
     ]
    },
    {
     "ename": "KeyError",
     "evalue": "'DbHits'",
     "output_type": "error",
     "traceback": [
      "\u001b[0;31m---------------------------------------------------------------------------\u001b[0m",
      "\u001b[0;31mKeyError\u001b[0m                                  Traceback (most recent call last)",
      "\u001b[0;32m<ipython-input-75-3d48b7be4b26>\u001b[0m in \u001b[0;36m<module>\u001b[0;34m\u001b[0m\n\u001b[0;32m----> 1\u001b[0;31m \u001b[0mmetadata\u001b[0m\u001b[0;34m,\u001b[0m \u001b[0mprofile\u001b[0m\u001b[0;34m,\u001b[0m \u001b[0mdata\u001b[0m \u001b[0;34m=\u001b[0m \u001b[0mmeasure_metrics\u001b[0m\u001b[0;34m(\u001b[0m\u001b[0;34m\"call apoc.meta.stats() YIELD labels\"\u001b[0m\u001b[0;34m)\u001b[0m\u001b[0;34m\u001b[0m\u001b[0;34m\u001b[0m\u001b[0m\n\u001b[0m",
      "\u001b[0;32m<ipython-input-64-e002fa1138a4>\u001b[0m in \u001b[0;36mmeasure_metrics\u001b[0;34m(query)\u001b[0m\n\u001b[1;32m      9\u001b[0m     \u001b[0;34m(\u001b[0m\u001b[0;34m'child_memory'\u001b[0m\u001b[0;34m,\u001b[0m \u001b[0mmetadata\u001b[0m\u001b[0;34m[\u001b[0m\u001b[0;34m'profile'\u001b[0m\u001b[0;34m]\u001b[0m\u001b[0;34m[\u001b[0m\u001b[0;34m'children'\u001b[0m\u001b[0;34m]\u001b[0m\u001b[0;34m[\u001b[0m\u001b[0;36m0\u001b[0m\u001b[0;34m]\u001b[0m\u001b[0;34m[\u001b[0m\u001b[0;34m'args'\u001b[0m\u001b[0;34m]\u001b[0m\u001b[0;34m[\u001b[0m\u001b[0;34m'Memory'\u001b[0m\u001b[0;34m]\u001b[0m\u001b[0;34m)\u001b[0m\u001b[0;34m,\u001b[0m\u001b[0;34m\u001b[0m\u001b[0;34m\u001b[0m\u001b[0m\n\u001b[1;32m     10\u001b[0m     \u001b[0;34m(\u001b[0m\u001b[0;34m'db_hits'\u001b[0m\u001b[0;34m,\u001b[0m \u001b[0mmetadata\u001b[0m\u001b[0;34m[\u001b[0m\u001b[0;34m'profile'\u001b[0m\u001b[0;34m]\u001b[0m\u001b[0;34m[\u001b[0m\u001b[0;34m'args'\u001b[0m\u001b[0;34m]\u001b[0m\u001b[0;34m[\u001b[0m\u001b[0;34m'DbHits'\u001b[0m\u001b[0;34m]\u001b[0m\u001b[0;34m)\u001b[0m\u001b[0;34m,\u001b[0m\u001b[0;34m\u001b[0m\u001b[0;34m\u001b[0m\u001b[0m\n\u001b[0;32m---> 11\u001b[0;31m     \u001b[0;34m(\u001b[0m\u001b[0;34m'child_db_hits'\u001b[0m\u001b[0;34m,\u001b[0m \u001b[0mmetadata\u001b[0m\u001b[0;34m[\u001b[0m\u001b[0;34m'profile'\u001b[0m\u001b[0;34m]\u001b[0m\u001b[0;34m[\u001b[0m\u001b[0;34m'children'\u001b[0m\u001b[0;34m]\u001b[0m\u001b[0;34m[\u001b[0m\u001b[0;36m0\u001b[0m\u001b[0;34m]\u001b[0m\u001b[0;34m[\u001b[0m\u001b[0;34m'args'\u001b[0m\u001b[0;34m]\u001b[0m\u001b[0;34m[\u001b[0m\u001b[0;34m'DbHits'\u001b[0m\u001b[0;34m]\u001b[0m\u001b[0;34m)\u001b[0m\u001b[0;34m,\u001b[0m\u001b[0;34m\u001b[0m\u001b[0;34m\u001b[0m\u001b[0m\n\u001b[0m\u001b[1;32m     12\u001b[0m     \u001b[0;34m(\u001b[0m\u001b[0;34m'child2_db_hits'\u001b[0m\u001b[0;34m,\u001b[0m \u001b[0mmetadata\u001b[0m\u001b[0;34m[\u001b[0m\u001b[0;34m'profile'\u001b[0m\u001b[0;34m]\u001b[0m\u001b[0;34m[\u001b[0m\u001b[0;34m'children'\u001b[0m\u001b[0;34m]\u001b[0m\u001b[0;34m[\u001b[0m\u001b[0;36m0\u001b[0m\u001b[0;34m]\u001b[0m\u001b[0;34m[\u001b[0m\u001b[0;34m'dbHits'\u001b[0m\u001b[0;34m]\u001b[0m\u001b[0;34m)\u001b[0m\u001b[0;34m,\u001b[0m\u001b[0;34m\u001b[0m\u001b[0;34m\u001b[0m\u001b[0m\n\u001b[1;32m     13\u001b[0m     \u001b[0;34m(\u001b[0m\u001b[0;34m'child_rows'\u001b[0m\u001b[0;34m,\u001b[0m \u001b[0mmetadata\u001b[0m\u001b[0;34m[\u001b[0m\u001b[0;34m'profile'\u001b[0m\u001b[0;34m]\u001b[0m\u001b[0;34m[\u001b[0m\u001b[0;34m'children'\u001b[0m\u001b[0;34m]\u001b[0m\u001b[0;34m[\u001b[0m\u001b[0;36m0\u001b[0m\u001b[0;34m]\u001b[0m\u001b[0;34m[\u001b[0m\u001b[0;34m'args'\u001b[0m\u001b[0;34m]\u001b[0m\u001b[0;34m[\u001b[0m\u001b[0;34m'Rows'\u001b[0m\u001b[0;34m]\u001b[0m\u001b[0;34m)\u001b[0m\u001b[0;34m,\u001b[0m\u001b[0;34m\u001b[0m\u001b[0;34m\u001b[0m\u001b[0m\n",
      "\u001b[0;31mKeyError\u001b[0m: 'DbHits'"
     ]
    }
   ],
   "source": [
    "metadata, profile, data = measure_metrics(\"call apoc.meta.stats() YIELD labels\")"
   ]
  },
  {
   "cell_type": "code",
   "execution_count": 94,
   "metadata": {},
   "outputs": [],
   "source": [
    "def meta_measures(query):\n",
    "    query = 'PROFILE ' + query\n",
    "    result = session.run(query)\n",
    "    metadata = result.consume().metadata\n",
    "    profile = result.consume().profile\n",
    "    return metadata, profile"
   ]
  },
  {
   "cell_type": "code",
   "execution_count": 95,
   "metadata": {},
   "outputs": [],
   "source": [
    "metadata, profile = meta_measures(\"call apoc.meta.stats() YIELD labels\")"
   ]
  },
  {
   "cell_type": "code",
   "execution_count": 96,
   "metadata": {},
   "outputs": [
    {
     "data": {
      "text/plain": [
       "{'query': 'PROFILE call apoc.meta.stats() YIELD labels',\n",
       " 'parameters': {},\n",
       " 'server': <neo4j.api.ServerInfo at 0x1a17f912d0>,\n",
       " 't_first': 69,\n",
       " 'fields': ['labels'],\n",
       " 'bookmark': 'FB:kcwQoOcTCwX0QjOl9b/sbMRE8ckAg5A=',\n",
       " 'profile': {'args': {'GlobalMemory': 64,\n",
       "   'planner-impl': 'IDP',\n",
       "   'runtime': 'PIPELINED',\n",
       "   'Time': 580690,\n",
       "   'runtime-impl': 'PIPELINED',\n",
       "   'version': 'CYPHER 4.1',\n",
       "   'DbHits': 0,\n",
       "   'Details': 'labels',\n",
       "   'PipelineInfo': 'In Pipeline 1',\n",
       "   'planner-version': '4.1',\n",
       "   'runtime-version': '4.1',\n",
       "   'EstimatedRows': 10000.0,\n",
       "   'planner': 'COST',\n",
       "   'Rows': 1},\n",
       "  'children': [{'args': {'Details': 'apoc.meta.stats() :: (labels :: MAP?)',\n",
       "     'EstimatedRows': 10000.0,\n",
       "     'Memory': 56,\n",
       "     'PipelineInfo': 'In Pipeline 1',\n",
       "     'Rows': 1},\n",
       "    'operatorType': 'ProcedureCall@neo4j',\n",
       "    'children': [],\n",
       "    'identifiers': ['labels']}],\n",
       "  'dbHits': 0,\n",
       "  'identifiers': ['labels'],\n",
       "  'operatorType': 'ProduceResults@neo4j',\n",
       "  'time': 580690,\n",
       "  'rows': 1},\n",
       " 'type': 'r',\n",
       " 't_last': 21,\n",
       " 'db': 'neo4j'}"
      ]
     },
     "execution_count": 96,
     "metadata": {},
     "output_type": "execute_result"
    }
   ],
   "source": [
    "metadata"
   ]
  },
  {
   "cell_type": "code",
   "execution_count": 97,
   "metadata": {},
   "outputs": [
    {
     "data": {
      "text/plain": [
       "{'args': {'GlobalMemory': 64,\n",
       "  'planner-impl': 'IDP',\n",
       "  'runtime': 'PIPELINED',\n",
       "  'Time': 580690,\n",
       "  'runtime-impl': 'PIPELINED',\n",
       "  'version': 'CYPHER 4.1',\n",
       "  'DbHits': 0,\n",
       "  'Details': 'labels',\n",
       "  'PipelineInfo': 'In Pipeline 1',\n",
       "  'planner-version': '4.1',\n",
       "  'runtime-version': '4.1',\n",
       "  'EstimatedRows': 10000.0,\n",
       "  'planner': 'COST',\n",
       "  'Rows': 1},\n",
       " 'children': [{'args': {'Details': 'apoc.meta.stats() :: (labels :: MAP?)',\n",
       "    'EstimatedRows': 10000.0,\n",
       "    'Memory': 56,\n",
       "    'PipelineInfo': 'In Pipeline 1',\n",
       "    'Rows': 1},\n",
       "   'operatorType': 'ProcedureCall@neo4j',\n",
       "   'children': [],\n",
       "   'identifiers': ['labels']}],\n",
       " 'dbHits': 0,\n",
       " 'identifiers': ['labels'],\n",
       " 'operatorType': 'ProduceResults@neo4j',\n",
       " 'time': 580690,\n",
       " 'rows': 1}"
      ]
     },
     "execution_count": 97,
     "metadata": {},
     "output_type": "execute_result"
    }
   ],
   "source": [
    "profile"
   ]
  },
  {
   "cell_type": "markdown",
   "metadata": {},
   "source": [
    "## Isolate Count"
   ]
  },
  {
   "cell_type": "code",
   "execution_count": 76,
   "metadata": {},
   "outputs": [
    {
     "ename": "KeyError",
     "evalue": "'Memory'",
     "output_type": "error",
     "traceback": [
      "\u001b[0;31m---------------------------------------------------------------------------\u001b[0m",
      "\u001b[0;31mKeyError\u001b[0m                                  Traceback (most recent call last)",
      "\u001b[0;32m<ipython-input-76-a06e7c654489>\u001b[0m in \u001b[0;36m<module>\u001b[0;34m\u001b[0m\n\u001b[1;32m      5\u001b[0m \u001b[0mMATCH\u001b[0m \u001b[0;34m(\u001b[0m\u001b[0mc\u001b[0m\u001b[0;34m)\u001b[0m\u001b[0;34m\u001b[0m\u001b[0;34m\u001b[0m\u001b[0m\n\u001b[1;32m      6\u001b[0m \u001b[0;32mwith\u001b[0m \u001b[0mcount\u001b[0m\u001b[0;34m(\u001b[0m\u001b[0mdistinct\u001b[0m \u001b[0mc\u001b[0m\u001b[0;34m)\u001b[0m \u001b[0;32mas\u001b[0m \u001b[0mnode_count\u001b[0m\u001b[0;34m,\u001b[0m \u001b[0misolates_count\u001b[0m\u001b[0;34m,\u001b[0m \u001b[0mrelation_ct\u001b[0m\u001b[0;34m\u001b[0m\u001b[0;34m\u001b[0m\u001b[0m\n\u001b[0;32m----> 7\u001b[0;31m return node_count, relation_ct, isolates_count, round(toFloat(isolates_count)/node_count*10000) / 100 as isolates_pct''')\n\u001b[0m",
      "\u001b[0;32m<ipython-input-64-e002fa1138a4>\u001b[0m in \u001b[0;36mmeasure_metrics\u001b[0;34m(query)\u001b[0m\n\u001b[1;32m      7\u001b[0m     \u001b[0;34m(\u001b[0m\u001b[0;34m'consume_time'\u001b[0m\u001b[0;34m,\u001b[0m \u001b[0mmetadata\u001b[0m\u001b[0;34m[\u001b[0m\u001b[0;34m't_last'\u001b[0m\u001b[0;34m]\u001b[0m\u001b[0;34m)\u001b[0m\u001b[0;34m,\u001b[0m\u001b[0;34m\u001b[0m\u001b[0;34m\u001b[0m\u001b[0m\n\u001b[1;32m      8\u001b[0m     \u001b[0;34m(\u001b[0m\u001b[0;34m'global_memory'\u001b[0m\u001b[0;34m,\u001b[0m \u001b[0mmetadata\u001b[0m\u001b[0;34m[\u001b[0m\u001b[0;34m'profile'\u001b[0m\u001b[0;34m]\u001b[0m\u001b[0;34m[\u001b[0m\u001b[0;34m'args'\u001b[0m\u001b[0;34m]\u001b[0m\u001b[0;34m[\u001b[0m\u001b[0;34m'GlobalMemory'\u001b[0m\u001b[0;34m]\u001b[0m\u001b[0;34m)\u001b[0m\u001b[0;34m,\u001b[0m\u001b[0;34m\u001b[0m\u001b[0;34m\u001b[0m\u001b[0m\n\u001b[0;32m----> 9\u001b[0;31m     \u001b[0;34m(\u001b[0m\u001b[0;34m'child_memory'\u001b[0m\u001b[0;34m,\u001b[0m \u001b[0mmetadata\u001b[0m\u001b[0;34m[\u001b[0m\u001b[0;34m'profile'\u001b[0m\u001b[0;34m]\u001b[0m\u001b[0;34m[\u001b[0m\u001b[0;34m'children'\u001b[0m\u001b[0;34m]\u001b[0m\u001b[0;34m[\u001b[0m\u001b[0;36m0\u001b[0m\u001b[0;34m]\u001b[0m\u001b[0;34m[\u001b[0m\u001b[0;34m'args'\u001b[0m\u001b[0;34m]\u001b[0m\u001b[0;34m[\u001b[0m\u001b[0;34m'Memory'\u001b[0m\u001b[0;34m]\u001b[0m\u001b[0;34m)\u001b[0m\u001b[0;34m,\u001b[0m\u001b[0;34m\u001b[0m\u001b[0;34m\u001b[0m\u001b[0m\n\u001b[0m\u001b[1;32m     10\u001b[0m     \u001b[0;34m(\u001b[0m\u001b[0;34m'db_hits'\u001b[0m\u001b[0;34m,\u001b[0m \u001b[0mmetadata\u001b[0m\u001b[0;34m[\u001b[0m\u001b[0;34m'profile'\u001b[0m\u001b[0;34m]\u001b[0m\u001b[0;34m[\u001b[0m\u001b[0;34m'args'\u001b[0m\u001b[0;34m]\u001b[0m\u001b[0;34m[\u001b[0m\u001b[0;34m'DbHits'\u001b[0m\u001b[0;34m]\u001b[0m\u001b[0;34m)\u001b[0m\u001b[0;34m,\u001b[0m\u001b[0;34m\u001b[0m\u001b[0;34m\u001b[0m\u001b[0m\n\u001b[1;32m     11\u001b[0m     \u001b[0;34m(\u001b[0m\u001b[0;34m'child_db_hits'\u001b[0m\u001b[0;34m,\u001b[0m \u001b[0mmetadata\u001b[0m\u001b[0;34m[\u001b[0m\u001b[0;34m'profile'\u001b[0m\u001b[0;34m]\u001b[0m\u001b[0;34m[\u001b[0m\u001b[0;34m'children'\u001b[0m\u001b[0;34m]\u001b[0m\u001b[0;34m[\u001b[0m\u001b[0;36m0\u001b[0m\u001b[0;34m]\u001b[0m\u001b[0;34m[\u001b[0m\u001b[0;34m'args'\u001b[0m\u001b[0;34m]\u001b[0m\u001b[0;34m[\u001b[0m\u001b[0;34m'DbHits'\u001b[0m\u001b[0;34m]\u001b[0m\u001b[0;34m)\u001b[0m\u001b[0;34m,\u001b[0m\u001b[0;34m\u001b[0m\u001b[0;34m\u001b[0m\u001b[0m\n",
      "\u001b[0;31mKeyError\u001b[0m: 'Memory'"
     ]
    }
   ],
   "source": [
    "metadata, profile, data = measure_metrics('''MATCH (n) WHERE NOT (n)--() \n",
    "WITH COUNT(distinct n) as isolates_count\n",
    "MATCH ()-[r]->()\n",
    "WITH count(r) as relation_ct, isolates_count\n",
    "MATCH (c)\n",
    "with count(distinct c) as node_count, isolates_count, relation_ct\n",
    "return node_count, relation_ct, isolates_count, round(toFloat(isolates_count)/node_count*10000) / 100 as isolates_pct''')"
   ]
  },
  {
   "cell_type": "code",
   "execution_count": 98,
   "metadata": {},
   "outputs": [],
   "source": [
    "metadata, profile = meta_measures('''MATCH (n) WHERE NOT (n)--() \n",
    "WITH COUNT(distinct n) as isolates_count\n",
    "MATCH ()-[r]->()\n",
    "WITH count(r) as relation_ct, isolates_count\n",
    "MATCH (c)\n",
    "with count(distinct c) as node_count, isolates_count, relation_ct\n",
    "return node_count, relation_ct, isolates_count, round(toFloat(isolates_count)/node_count*10000) / 100 as isolates_pct''')"
   ]
  },
  {
   "cell_type": "code",
   "execution_count": 99,
   "metadata": {},
   "outputs": [
    {
     "data": {
      "text/plain": [
       "{'query': 'PROFILE MATCH (n) WHERE NOT (n)--() \\nWITH COUNT(distinct n) as isolates_count\\nMATCH ()-[r]->()\\nWITH count(r) as relation_ct, isolates_count\\nMATCH (c)\\nwith count(distinct c) as node_count, isolates_count, relation_ct\\nreturn node_count, relation_ct, isolates_count, round(toFloat(isolates_count)/node_count*10000) / 100 as isolates_pct',\n",
       " 'parameters': {},\n",
       " 'server': <neo4j.api.ServerInfo at 0x1a17f912d0>,\n",
       " 't_first': 8,\n",
       " 'fields': ['node_count', 'relation_ct', 'isolates_count', 'isolates_pct'],\n",
       " 'bookmark': 'FB:kcwQoOcTCwX0QjOl9b/sbMRE8ckAg5A=',\n",
       " 'profile': {'args': {'GlobalMemory': 590128,\n",
       "   'planner-impl': 'IDP',\n",
       "   'runtime': 'PIPELINED',\n",
       "   'Time': 65200,\n",
       "   'runtime-impl': 'PIPELINED',\n",
       "   'version': 'CYPHER 4.1',\n",
       "   'DbHits': 0,\n",
       "   'Details': 'node_count, relation_ct, isolates_count, isolates_pct',\n",
       "   'PipelineInfo': 'In Pipeline 5',\n",
       "   'planner-version': '4.1',\n",
       "   'runtime-version': '4.1',\n",
       "   'EstimatedRows': 3142.840616967419,\n",
       "   'planner': 'COST',\n",
       "   'Rows': 1},\n",
       "  'children': [{'args': {'Details': 'round((toFloat(isolates_count) / node_count) * $autoint_1) / $autoint_2 AS isolates_pct',\n",
       "     'PipelineInfo': 'In Pipeline 5',\n",
       "     'Time': 860393,\n",
       "     'EstimatedRows': 3142.840616967419,\n",
       "     'DbHits': 0,\n",
       "     'Rows': 1},\n",
       "    'children': [{'args': {'Details': 'isolates_count, relation_ct, count(DISTINCT c) AS node_count',\n",
       "       'Memory': 589952,\n",
       "       'PipelineInfo': 'Fused in Pipeline 4',\n",
       "       'Time': 91364,\n",
       "       'EstimatedRows': 3142.840616967419,\n",
       "       'DbHits': 0,\n",
       "       'Rows': 1},\n",
       "      'children': [{'args': {'EstimatedRows': 9877447.143660147,\n",
       "         'DbHits': 0,\n",
       "         'Rows': 19090},\n",
       "        'children': [{'args': {'Details': 'isolates_count, count(r) AS relation_ct',\n",
       "           'Memory': 504,\n",
       "           'PipelineInfo': 'Fused in Pipeline 2',\n",
       "           'Time': 154045,\n",
       "           'EstimatedRows': 517.4147272739731,\n",
       "           'DbHits': 0,\n",
       "           'Rows': 1},\n",
       "          'children': [{'args': {'Details': '(anon_77)-[r]->(anon_85)',\n",
       "             'EstimatedRows': 267718.0,\n",
       "             'PipelineInfo': 'Fused in Pipeline 2',\n",
       "             'DbHits': 403434,\n",
       "             'Rows': 267718},\n",
       "            'children': [{'args': {'EstimatedRows': 267718.0,\n",
       "               'DbHits': 0,\n",
       "               'Rows': 19090},\n",
       "              'children': [{'args': {'Details': 'COUNT(DISTINCT n) AS isolates_count',\n",
       "                 'Memory': 176,\n",
       "                 'PipelineInfo': 'Fused in Pipeline 0',\n",
       "                 'Time': 90953,\n",
       "                 'EstimatedRows': 1.0,\n",
       "                 'DbHits': 0,\n",
       "                 'Rows': 1},\n",
       "                'children': [{'args': {'Details': 'GetDegree(Variable(n),None,BOTH) <= $autoint_0',\n",
       "                   'EstimatedRows': 5727.0,\n",
       "                   'PipelineInfo': 'Fused in Pipeline 0',\n",
       "                   'DbHits': 19090,\n",
       "                   'Rows': 0},\n",
       "                  'children': [{'args': {'Details': 'n',\n",
       "                     'Memory': 64,\n",
       "                     'PipelineInfo': 'Fused in Pipeline 0',\n",
       "                     'EstimatedRows': 19090.0,\n",
       "                     'DbHits': 19091,\n",
       "                     'Rows': 19090},\n",
       "                    'children': [],\n",
       "                    'dbHits': 19091,\n",
       "                    'identifiers': ['n'],\n",
       "                    'operatorType': 'AllNodesScan@neo4j',\n",
       "                    'rows': 19090}],\n",
       "                  'dbHits': 19090,\n",
       "                  'identifiers': ['n'],\n",
       "                  'operatorType': 'Filter@neo4j',\n",
       "                  'rows': 0}],\n",
       "                'dbHits': 0,\n",
       "                'identifiers': ['isolates_count'],\n",
       "                'operatorType': 'EagerAggregation@neo4j',\n",
       "                'time': 90953,\n",
       "                'rows': 1},\n",
       "               {'args': {'Details': 'anon_77',\n",
       "                 'Memory': 92,\n",
       "                 'PipelineInfo': 'Fused in Pipeline 2',\n",
       "                 'EstimatedRows': 19090.0,\n",
       "                 'DbHits': 19091,\n",
       "                 'Rows': 19090},\n",
       "                'children': [],\n",
       "                'dbHits': 19091,\n",
       "                'identifiers': ['isolates_count', 'anon_77'],\n",
       "                'operatorType': 'AllNodesScan@neo4j',\n",
       "                'rows': 19090}],\n",
       "              'dbHits': 0,\n",
       "              'identifiers': ['isolates_count', 'anon_77'],\n",
       "              'operatorType': 'Apply@neo4j',\n",
       "              'rows': 19090}],\n",
       "            'dbHits': 403434,\n",
       "            'identifiers': ['isolates_count', 'anon_77', 'r', 'anon_85'],\n",
       "            'operatorType': 'Expand(All)@neo4j',\n",
       "            'rows': 267718}],\n",
       "          'dbHits': 0,\n",
       "          'identifiers': ['isolates_count', 'relation_ct'],\n",
       "          'operatorType': 'EagerAggregation@neo4j',\n",
       "          'time': 154045,\n",
       "          'rows': 1},\n",
       "         {'args': {'Details': 'c',\n",
       "           'Memory': 120,\n",
       "           'PipelineInfo': 'Fused in Pipeline 4',\n",
       "           'EstimatedRows': 9877447.143660147,\n",
       "           'DbHits': 19091,\n",
       "           'Rows': 19090},\n",
       "          'children': [],\n",
       "          'dbHits': 19091,\n",
       "          'identifiers': ['isolates_count', 'relation_ct', 'c'],\n",
       "          'operatorType': 'AllNodesScan@neo4j',\n",
       "          'rows': 19090}],\n",
       "        'dbHits': 0,\n",
       "        'identifiers': ['isolates_count', 'relation_ct', 'c'],\n",
       "        'operatorType': 'Apply@neo4j',\n",
       "        'rows': 19090}],\n",
       "      'dbHits': 0,\n",
       "      'identifiers': ['isolates_count', 'relation_ct', 'node_count'],\n",
       "      'operatorType': 'EagerAggregation@neo4j',\n",
       "      'time': 91364,\n",
       "      'rows': 1}],\n",
       "    'dbHits': 0,\n",
       "    'identifiers': ['isolates_count',\n",
       "     'relation_ct',\n",
       "     'node_count',\n",
       "     'isolates_pct'],\n",
       "    'operatorType': 'Projection@neo4j',\n",
       "    'time': 860393,\n",
       "    'rows': 1}],\n",
       "  'dbHits': 0,\n",
       "  'identifiers': ['isolates_count',\n",
       "   'relation_ct',\n",
       "   'node_count',\n",
       "   'isolates_pct'],\n",
       "  'operatorType': 'ProduceResults@neo4j',\n",
       "  'time': 65200,\n",
       "  'rows': 1},\n",
       " 'type': 'r',\n",
       " 't_last': 309,\n",
       " 'db': 'neo4j'}"
      ]
     },
     "execution_count": 99,
     "metadata": {},
     "output_type": "execute_result"
    }
   ],
   "source": [
    "metadata"
   ]
  },
  {
   "cell_type": "code",
   "execution_count": 100,
   "metadata": {},
   "outputs": [
    {
     "data": {
      "text/plain": [
       "{'args': {'GlobalMemory': 590128,\n",
       "  'planner-impl': 'IDP',\n",
       "  'runtime': 'PIPELINED',\n",
       "  'Time': 65200,\n",
       "  'runtime-impl': 'PIPELINED',\n",
       "  'version': 'CYPHER 4.1',\n",
       "  'DbHits': 0,\n",
       "  'Details': 'node_count, relation_ct, isolates_count, isolates_pct',\n",
       "  'PipelineInfo': 'In Pipeline 5',\n",
       "  'planner-version': '4.1',\n",
       "  'runtime-version': '4.1',\n",
       "  'EstimatedRows': 3142.840616967419,\n",
       "  'planner': 'COST',\n",
       "  'Rows': 1},\n",
       " 'children': [{'args': {'Details': 'round((toFloat(isolates_count) / node_count) * $autoint_1) / $autoint_2 AS isolates_pct',\n",
       "    'PipelineInfo': 'In Pipeline 5',\n",
       "    'Time': 860393,\n",
       "    'EstimatedRows': 3142.840616967419,\n",
       "    'DbHits': 0,\n",
       "    'Rows': 1},\n",
       "   'children': [{'args': {'Details': 'isolates_count, relation_ct, count(DISTINCT c) AS node_count',\n",
       "      'Memory': 589952,\n",
       "      'PipelineInfo': 'Fused in Pipeline 4',\n",
       "      'Time': 91364,\n",
       "      'EstimatedRows': 3142.840616967419,\n",
       "      'DbHits': 0,\n",
       "      'Rows': 1},\n",
       "     'children': [{'args': {'EstimatedRows': 9877447.143660147,\n",
       "        'DbHits': 0,\n",
       "        'Rows': 19090},\n",
       "       'children': [{'args': {'Details': 'isolates_count, count(r) AS relation_ct',\n",
       "          'Memory': 504,\n",
       "          'PipelineInfo': 'Fused in Pipeline 2',\n",
       "          'Time': 154045,\n",
       "          'EstimatedRows': 517.4147272739731,\n",
       "          'DbHits': 0,\n",
       "          'Rows': 1},\n",
       "         'children': [{'args': {'Details': '(anon_77)-[r]->(anon_85)',\n",
       "            'EstimatedRows': 267718.0,\n",
       "            'PipelineInfo': 'Fused in Pipeline 2',\n",
       "            'DbHits': 403434,\n",
       "            'Rows': 267718},\n",
       "           'children': [{'args': {'EstimatedRows': 267718.0,\n",
       "              'DbHits': 0,\n",
       "              'Rows': 19090},\n",
       "             'children': [{'args': {'Details': 'COUNT(DISTINCT n) AS isolates_count',\n",
       "                'Memory': 176,\n",
       "                'PipelineInfo': 'Fused in Pipeline 0',\n",
       "                'Time': 90953,\n",
       "                'EstimatedRows': 1.0,\n",
       "                'DbHits': 0,\n",
       "                'Rows': 1},\n",
       "               'children': [{'args': {'Details': 'GetDegree(Variable(n),None,BOTH) <= $autoint_0',\n",
       "                  'EstimatedRows': 5727.0,\n",
       "                  'PipelineInfo': 'Fused in Pipeline 0',\n",
       "                  'DbHits': 19090,\n",
       "                  'Rows': 0},\n",
       "                 'children': [{'args': {'Details': 'n',\n",
       "                    'Memory': 64,\n",
       "                    'PipelineInfo': 'Fused in Pipeline 0',\n",
       "                    'EstimatedRows': 19090.0,\n",
       "                    'DbHits': 19091,\n",
       "                    'Rows': 19090},\n",
       "                   'children': [],\n",
       "                   'dbHits': 19091,\n",
       "                   'identifiers': ['n'],\n",
       "                   'operatorType': 'AllNodesScan@neo4j',\n",
       "                   'rows': 19090}],\n",
       "                 'dbHits': 19090,\n",
       "                 'identifiers': ['n'],\n",
       "                 'operatorType': 'Filter@neo4j',\n",
       "                 'rows': 0}],\n",
       "               'dbHits': 0,\n",
       "               'identifiers': ['isolates_count'],\n",
       "               'operatorType': 'EagerAggregation@neo4j',\n",
       "               'time': 90953,\n",
       "               'rows': 1},\n",
       "              {'args': {'Details': 'anon_77',\n",
       "                'Memory': 92,\n",
       "                'PipelineInfo': 'Fused in Pipeline 2',\n",
       "                'EstimatedRows': 19090.0,\n",
       "                'DbHits': 19091,\n",
       "                'Rows': 19090},\n",
       "               'children': [],\n",
       "               'dbHits': 19091,\n",
       "               'identifiers': ['isolates_count', 'anon_77'],\n",
       "               'operatorType': 'AllNodesScan@neo4j',\n",
       "               'rows': 19090}],\n",
       "             'dbHits': 0,\n",
       "             'identifiers': ['isolates_count', 'anon_77'],\n",
       "             'operatorType': 'Apply@neo4j',\n",
       "             'rows': 19090}],\n",
       "           'dbHits': 403434,\n",
       "           'identifiers': ['isolates_count', 'anon_77', 'r', 'anon_85'],\n",
       "           'operatorType': 'Expand(All)@neo4j',\n",
       "           'rows': 267718}],\n",
       "         'dbHits': 0,\n",
       "         'identifiers': ['isolates_count', 'relation_ct'],\n",
       "         'operatorType': 'EagerAggregation@neo4j',\n",
       "         'time': 154045,\n",
       "         'rows': 1},\n",
       "        {'args': {'Details': 'c',\n",
       "          'Memory': 120,\n",
       "          'PipelineInfo': 'Fused in Pipeline 4',\n",
       "          'EstimatedRows': 9877447.143660147,\n",
       "          'DbHits': 19091,\n",
       "          'Rows': 19090},\n",
       "         'children': [],\n",
       "         'dbHits': 19091,\n",
       "         'identifiers': ['isolates_count', 'relation_ct', 'c'],\n",
       "         'operatorType': 'AllNodesScan@neo4j',\n",
       "         'rows': 19090}],\n",
       "       'dbHits': 0,\n",
       "       'identifiers': ['isolates_count', 'relation_ct', 'c'],\n",
       "       'operatorType': 'Apply@neo4j',\n",
       "       'rows': 19090}],\n",
       "     'dbHits': 0,\n",
       "     'identifiers': ['isolates_count', 'relation_ct', 'node_count'],\n",
       "     'operatorType': 'EagerAggregation@neo4j',\n",
       "     'time': 91364,\n",
       "     'rows': 1}],\n",
       "   'dbHits': 0,\n",
       "   'identifiers': ['isolates_count',\n",
       "    'relation_ct',\n",
       "    'node_count',\n",
       "    'isolates_pct'],\n",
       "   'operatorType': 'Projection@neo4j',\n",
       "   'time': 860393,\n",
       "   'rows': 1}],\n",
       " 'dbHits': 0,\n",
       " 'identifiers': ['isolates_count',\n",
       "  'relation_ct',\n",
       "  'node_count',\n",
       "  'isolates_pct'],\n",
       " 'operatorType': 'ProduceResults@neo4j',\n",
       " 'time': 65200,\n",
       " 'rows': 1}"
      ]
     },
     "execution_count": 100,
     "metadata": {},
     "output_type": "execute_result"
    }
   ],
   "source": [
    "profile"
   ]
  },
  {
   "cell_type": "markdown",
   "metadata": {},
   "source": [
    "## Relationship Count"
   ]
  },
  {
   "cell_type": "markdown",
   "metadata": {},
   "source": [
    "1. `count()` all and divide by 2"
   ]
  },
  {
   "cell_type": "code",
   "execution_count": 77,
   "metadata": {},
   "outputs": [
    {
     "ename": "KeyError",
     "evalue": "'Memory'",
     "output_type": "error",
     "traceback": [
      "\u001b[0;31m---------------------------------------------------------------------------\u001b[0m",
      "\u001b[0;31mKeyError\u001b[0m                                  Traceback (most recent call last)",
      "\u001b[0;32m<ipython-input-77-a46afdfb71d1>\u001b[0m in \u001b[0;36m<module>\u001b[0;34m\u001b[0m\n\u001b[1;32m      1\u001b[0m metadata, profile, data = measure_metrics('''MATCH (c1)-[]-(c2)\n\u001b[1;32m      2\u001b[0m \u001b[0;32mwith\u001b[0m \u001b[0mcount\u001b[0m\u001b[0;34m(\u001b[0m\u001b[0mc2\u001b[0m\u001b[0;34m)\u001b[0m \u001b[0;32mas\u001b[0m \u001b[0mdegree\u001b[0m\u001b[0;34m\u001b[0m\u001b[0;34m\u001b[0m\u001b[0m\n\u001b[0;32m----> 3\u001b[0;31m RETURN degree/2 as total_degree_count''')\n\u001b[0m",
      "\u001b[0;32m<ipython-input-64-e002fa1138a4>\u001b[0m in \u001b[0;36mmeasure_metrics\u001b[0;34m(query)\u001b[0m\n\u001b[1;32m      7\u001b[0m     \u001b[0;34m(\u001b[0m\u001b[0;34m'consume_time'\u001b[0m\u001b[0;34m,\u001b[0m \u001b[0mmetadata\u001b[0m\u001b[0;34m[\u001b[0m\u001b[0;34m't_last'\u001b[0m\u001b[0;34m]\u001b[0m\u001b[0;34m)\u001b[0m\u001b[0;34m,\u001b[0m\u001b[0;34m\u001b[0m\u001b[0;34m\u001b[0m\u001b[0m\n\u001b[1;32m      8\u001b[0m     \u001b[0;34m(\u001b[0m\u001b[0;34m'global_memory'\u001b[0m\u001b[0;34m,\u001b[0m \u001b[0mmetadata\u001b[0m\u001b[0;34m[\u001b[0m\u001b[0;34m'profile'\u001b[0m\u001b[0;34m]\u001b[0m\u001b[0;34m[\u001b[0m\u001b[0;34m'args'\u001b[0m\u001b[0;34m]\u001b[0m\u001b[0;34m[\u001b[0m\u001b[0;34m'GlobalMemory'\u001b[0m\u001b[0;34m]\u001b[0m\u001b[0;34m)\u001b[0m\u001b[0;34m,\u001b[0m\u001b[0;34m\u001b[0m\u001b[0;34m\u001b[0m\u001b[0m\n\u001b[0;32m----> 9\u001b[0;31m     \u001b[0;34m(\u001b[0m\u001b[0;34m'child_memory'\u001b[0m\u001b[0;34m,\u001b[0m \u001b[0mmetadata\u001b[0m\u001b[0;34m[\u001b[0m\u001b[0;34m'profile'\u001b[0m\u001b[0;34m]\u001b[0m\u001b[0;34m[\u001b[0m\u001b[0;34m'children'\u001b[0m\u001b[0;34m]\u001b[0m\u001b[0;34m[\u001b[0m\u001b[0;36m0\u001b[0m\u001b[0;34m]\u001b[0m\u001b[0;34m[\u001b[0m\u001b[0;34m'args'\u001b[0m\u001b[0;34m]\u001b[0m\u001b[0;34m[\u001b[0m\u001b[0;34m'Memory'\u001b[0m\u001b[0;34m]\u001b[0m\u001b[0;34m)\u001b[0m\u001b[0;34m,\u001b[0m\u001b[0;34m\u001b[0m\u001b[0;34m\u001b[0m\u001b[0m\n\u001b[0m\u001b[1;32m     10\u001b[0m     \u001b[0;34m(\u001b[0m\u001b[0;34m'db_hits'\u001b[0m\u001b[0;34m,\u001b[0m \u001b[0mmetadata\u001b[0m\u001b[0;34m[\u001b[0m\u001b[0;34m'profile'\u001b[0m\u001b[0;34m]\u001b[0m\u001b[0;34m[\u001b[0m\u001b[0;34m'args'\u001b[0m\u001b[0;34m]\u001b[0m\u001b[0;34m[\u001b[0m\u001b[0;34m'DbHits'\u001b[0m\u001b[0;34m]\u001b[0m\u001b[0;34m)\u001b[0m\u001b[0;34m,\u001b[0m\u001b[0;34m\u001b[0m\u001b[0;34m\u001b[0m\u001b[0m\n\u001b[1;32m     11\u001b[0m     \u001b[0;34m(\u001b[0m\u001b[0;34m'child_db_hits'\u001b[0m\u001b[0;34m,\u001b[0m \u001b[0mmetadata\u001b[0m\u001b[0;34m[\u001b[0m\u001b[0;34m'profile'\u001b[0m\u001b[0;34m]\u001b[0m\u001b[0;34m[\u001b[0m\u001b[0;34m'children'\u001b[0m\u001b[0;34m]\u001b[0m\u001b[0;34m[\u001b[0m\u001b[0;36m0\u001b[0m\u001b[0;34m]\u001b[0m\u001b[0;34m[\u001b[0m\u001b[0;34m'args'\u001b[0m\u001b[0;34m]\u001b[0m\u001b[0;34m[\u001b[0m\u001b[0;34m'DbHits'\u001b[0m\u001b[0;34m]\u001b[0m\u001b[0;34m)\u001b[0m\u001b[0;34m,\u001b[0m\u001b[0;34m\u001b[0m\u001b[0;34m\u001b[0m\u001b[0m\n",
      "\u001b[0;31mKeyError\u001b[0m: 'Memory'"
     ]
    }
   ],
   "source": [
    "metadata, profile, data = measure_metrics('''MATCH (c1)-[]-(c2)\n",
    "with count(c2) as degree\n",
    "RETURN degree/2 as total_degree_count''')"
   ]
  },
  {
   "cell_type": "code",
   "execution_count": 101,
   "metadata": {},
   "outputs": [],
   "source": [
    "metadata, profile = meta_measures('''MATCH (c1)-[]-(c2)\n",
    "with count(c2) as degree\n",
    "RETURN degree/2 as total_degree_count''')"
   ]
  },
  {
   "cell_type": "code",
   "execution_count": 102,
   "metadata": {},
   "outputs": [
    {
     "data": {
      "text/plain": [
       "{'query': 'PROFILE MATCH (c1)-[]-(c2)\\nwith count(c2) as degree\\nRETURN degree/2 as total_degree_count',\n",
       " 'parameters': {},\n",
       " 'server': <neo4j.api.ServerInfo at 0x1a17f912d0>,\n",
       " 't_first': 3,\n",
       " 'fields': ['total_degree_count'],\n",
       " 'bookmark': 'FB:kcwQoOcTCwX0QjOl9b/sbMRE8ckAg5A=',\n",
       " 'profile': {'args': {'GlobalMemory': 64,\n",
       "   'planner-impl': 'IDP',\n",
       "   'runtime': 'PIPELINED',\n",
       "   'Time': 36607,\n",
       "   'runtime-impl': 'PIPELINED',\n",
       "   'version': 'CYPHER 4.1',\n",
       "   'DbHits': 0,\n",
       "   'Details': 'total_degree_count',\n",
       "   'PipelineInfo': 'In Pipeline 1',\n",
       "   'planner-version': '4.1',\n",
       "   'runtime-version': '4.1',\n",
       "   'EstimatedRows': 1.0,\n",
       "   'planner': 'COST',\n",
       "   'Rows': 1},\n",
       "  'children': [{'args': {'Details': 'degree / $autoint_0 AS total_degree_count',\n",
       "     'PipelineInfo': 'In Pipeline 1',\n",
       "     'Time': 87632,\n",
       "     'EstimatedRows': 1.0,\n",
       "     'DbHits': 0,\n",
       "     'Rows': 1},\n",
       "    'children': [{'args': {'Details': 'count(c2) AS degree',\n",
       "       'Memory': 0,\n",
       "       'PipelineInfo': 'Fused in Pipeline 0',\n",
       "       'Time': 61694,\n",
       "       'EstimatedRows': 1.0,\n",
       "       'DbHits': 0,\n",
       "       'Rows': 1},\n",
       "      'children': [{'args': {'Details': '(c2)-[anon_11]-(c1)',\n",
       "         'EstimatedRows': 535239.32765908,\n",
       "         'PipelineInfo': 'Fused in Pipeline 0',\n",
       "         'DbHits': 539024,\n",
       "         'Rows': 535436},\n",
       "        'children': [{'args': {'Details': 'c2',\n",
       "           'Memory': 64,\n",
       "           'PipelineInfo': 'Fused in Pipeline 0',\n",
       "           'EstimatedRows': 19090.0,\n",
       "           'DbHits': 19091,\n",
       "           'Rows': 19090},\n",
       "          'children': [],\n",
       "          'dbHits': 19091,\n",
       "          'identifiers': ['c2'],\n",
       "          'operatorType': 'AllNodesScan@neo4j',\n",
       "          'rows': 19090}],\n",
       "        'dbHits': 539024,\n",
       "        'identifiers': ['c2', 'anon_11', 'c1'],\n",
       "        'operatorType': 'Expand(All)@neo4j',\n",
       "        'rows': 535436}],\n",
       "      'dbHits': 0,\n",
       "      'identifiers': ['degree'],\n",
       "      'operatorType': 'EagerAggregation@neo4j',\n",
       "      'time': 61694,\n",
       "      'rows': 1}],\n",
       "    'dbHits': 0,\n",
       "    'identifiers': ['degree', 'total_degree_count'],\n",
       "    'operatorType': 'Projection@neo4j',\n",
       "    'time': 87632,\n",
       "    'rows': 1}],\n",
       "  'dbHits': 0,\n",
       "  'identifiers': ['degree', 'total_degree_count'],\n",
       "  'operatorType': 'ProduceResults@neo4j',\n",
       "  'time': 36607,\n",
       "  'rows': 1},\n",
       " 'type': 'r',\n",
       " 't_last': 86,\n",
       " 'db': 'neo4j'}"
      ]
     },
     "execution_count": 102,
     "metadata": {},
     "output_type": "execute_result"
    }
   ],
   "source": [
    "metadata"
   ]
  },
  {
   "cell_type": "code",
   "execution_count": 103,
   "metadata": {},
   "outputs": [
    {
     "data": {
      "text/plain": [
       "{'args': {'GlobalMemory': 64,\n",
       "  'planner-impl': 'IDP',\n",
       "  'runtime': 'PIPELINED',\n",
       "  'Time': 36607,\n",
       "  'runtime-impl': 'PIPELINED',\n",
       "  'version': 'CYPHER 4.1',\n",
       "  'DbHits': 0,\n",
       "  'Details': 'total_degree_count',\n",
       "  'PipelineInfo': 'In Pipeline 1',\n",
       "  'planner-version': '4.1',\n",
       "  'runtime-version': '4.1',\n",
       "  'EstimatedRows': 1.0,\n",
       "  'planner': 'COST',\n",
       "  'Rows': 1},\n",
       " 'children': [{'args': {'Details': 'degree / $autoint_0 AS total_degree_count',\n",
       "    'PipelineInfo': 'In Pipeline 1',\n",
       "    'Time': 87632,\n",
       "    'EstimatedRows': 1.0,\n",
       "    'DbHits': 0,\n",
       "    'Rows': 1},\n",
       "   'children': [{'args': {'Details': 'count(c2) AS degree',\n",
       "      'Memory': 0,\n",
       "      'PipelineInfo': 'Fused in Pipeline 0',\n",
       "      'Time': 61694,\n",
       "      'EstimatedRows': 1.0,\n",
       "      'DbHits': 0,\n",
       "      'Rows': 1},\n",
       "     'children': [{'args': {'Details': '(c2)-[anon_11]-(c1)',\n",
       "        'EstimatedRows': 535239.32765908,\n",
       "        'PipelineInfo': 'Fused in Pipeline 0',\n",
       "        'DbHits': 539024,\n",
       "        'Rows': 535436},\n",
       "       'children': [{'args': {'Details': 'c2',\n",
       "          'Memory': 64,\n",
       "          'PipelineInfo': 'Fused in Pipeline 0',\n",
       "          'EstimatedRows': 19090.0,\n",
       "          'DbHits': 19091,\n",
       "          'Rows': 19090},\n",
       "         'children': [],\n",
       "         'dbHits': 19091,\n",
       "         'identifiers': ['c2'],\n",
       "         'operatorType': 'AllNodesScan@neo4j',\n",
       "         'rows': 19090}],\n",
       "       'dbHits': 539024,\n",
       "       'identifiers': ['c2', 'anon_11', 'c1'],\n",
       "       'operatorType': 'Expand(All)@neo4j',\n",
       "       'rows': 535436}],\n",
       "     'dbHits': 0,\n",
       "     'identifiers': ['degree'],\n",
       "     'operatorType': 'EagerAggregation@neo4j',\n",
       "     'time': 61694,\n",
       "     'rows': 1}],\n",
       "   'dbHits': 0,\n",
       "   'identifiers': ['degree', 'total_degree_count'],\n",
       "   'operatorType': 'Projection@neo4j',\n",
       "   'time': 87632,\n",
       "   'rows': 1}],\n",
       " 'dbHits': 0,\n",
       " 'identifiers': ['degree', 'total_degree_count'],\n",
       " 'operatorType': 'ProduceResults@neo4j',\n",
       " 'time': 36607,\n",
       " 'rows': 1}"
      ]
     },
     "execution_count": 103,
     "metadata": {},
     "output_type": "execute_result"
    }
   ],
   "source": [
    "profile"
   ]
  },
  {
   "cell_type": "markdown",
   "metadata": {},
   "source": [
    "2. `count()` based on node id"
   ]
  },
  {
   "cell_type": "code",
   "execution_count": 78,
   "metadata": {},
   "outputs": [],
   "source": [
    "metadata, profile, data = measure_metrics('''MATCH (c1)-[]-(c2)\n",
    "WHERE id(c1) < id(c2)\n",
    "RETURN count(c2) as degree''')"
   ]
  },
  {
   "cell_type": "code",
   "execution_count": 79,
   "metadata": {},
   "outputs": [
    {
     "data": {
      "text/plain": [
       "{'query': 'PROFILE MATCH (c1)-[]-(c2)\\nWHERE id(c1) < id(c2)\\nRETURN count(c2) as degree',\n",
       " 'parameters': {},\n",
       " 'server': <neo4j.api.ServerInfo at 0x1a17f912d0>,\n",
       " 't_first': 108,\n",
       " 'fields': ['degree'],\n",
       " 'bookmark': 'FB:kcwQoOcTCwX0QjOl9b/sbMRE8ckAg5A=',\n",
       " 'profile': {'args': {'GlobalMemory': 64,\n",
       "   'planner-impl': 'IDP',\n",
       "   'runtime': 'PIPELINED',\n",
       "   'Time': 40656,\n",
       "   'runtime-impl': 'PIPELINED',\n",
       "   'version': 'CYPHER 4.1',\n",
       "   'DbHits': 0,\n",
       "   'Details': 'degree',\n",
       "   'PipelineInfo': 'In Pipeline 1',\n",
       "   'planner-version': '4.1',\n",
       "   'runtime-version': '4.1',\n",
       "   'EstimatedRows': 1.0,\n",
       "   'planner': 'COST',\n",
       "   'Rows': 1},\n",
       "  'children': [{'args': {'Details': 'count(c2) AS degree',\n",
       "     'Memory': 0,\n",
       "     'PipelineInfo': 'Fused in Pipeline 0',\n",
       "     'Time': 59581,\n",
       "     'EstimatedRows': 1.0,\n",
       "     'DbHits': 0,\n",
       "     'Rows': 1},\n",
       "    'children': [{'args': {'Details': 'id(c1) < id(c2)',\n",
       "       'EstimatedRows': 160571.79829772402,\n",
       "       'PipelineInfo': 'Fused in Pipeline 0',\n",
       "       'DbHits': 0,\n",
       "       'Rows': 267718},\n",
       "      'children': [{'args': {'Details': '(c2)-[anon_11]-(c1)',\n",
       "         'EstimatedRows': 535239.32765908,\n",
       "         'PipelineInfo': 'Fused in Pipeline 0',\n",
       "         'DbHits': 539024,\n",
       "         'Rows': 535436},\n",
       "        'children': [{'args': {'Details': 'c2',\n",
       "           'Memory': 64,\n",
       "           'PipelineInfo': 'Fused in Pipeline 0',\n",
       "           'EstimatedRows': 19090.0,\n",
       "           'DbHits': 19091,\n",
       "           'Rows': 19090},\n",
       "          'children': [],\n",
       "          'dbHits': 19091,\n",
       "          'identifiers': ['c2'],\n",
       "          'operatorType': 'AllNodesScan@neo4j',\n",
       "          'rows': 19090}],\n",
       "        'dbHits': 539024,\n",
       "        'identifiers': ['c2', 'anon_11', 'c1'],\n",
       "        'operatorType': 'Expand(All)@neo4j',\n",
       "        'rows': 535436}],\n",
       "      'dbHits': 0,\n",
       "      'identifiers': ['c2', 'anon_11', 'c1'],\n",
       "      'operatorType': 'Filter@neo4j',\n",
       "      'rows': 267718}],\n",
       "    'dbHits': 0,\n",
       "    'identifiers': ['degree'],\n",
       "    'operatorType': 'EagerAggregation@neo4j',\n",
       "    'time': 59581,\n",
       "    'rows': 1}],\n",
       "  'dbHits': 0,\n",
       "  'identifiers': ['degree'],\n",
       "  'operatorType': 'ProduceResults@neo4j',\n",
       "  'time': 40656,\n",
       "  'rows': 1},\n",
       " 'type': 'r',\n",
       " 't_last': 328,\n",
       " 'db': 'neo4j'}"
      ]
     },
     "execution_count": 79,
     "metadata": {},
     "output_type": "execute_result"
    }
   ],
   "source": [
    "metadata"
   ]
  },
  {
   "cell_type": "code",
   "execution_count": 80,
   "metadata": {},
   "outputs": [
    {
     "data": {
      "text/plain": [
       "{'args': {'GlobalMemory': 64,\n",
       "  'planner-impl': 'IDP',\n",
       "  'runtime': 'PIPELINED',\n",
       "  'Time': 40656,\n",
       "  'runtime-impl': 'PIPELINED',\n",
       "  'version': 'CYPHER 4.1',\n",
       "  'DbHits': 0,\n",
       "  'Details': 'degree',\n",
       "  'PipelineInfo': 'In Pipeline 1',\n",
       "  'planner-version': '4.1',\n",
       "  'runtime-version': '4.1',\n",
       "  'EstimatedRows': 1.0,\n",
       "  'planner': 'COST',\n",
       "  'Rows': 1},\n",
       " 'children': [{'args': {'Details': 'count(c2) AS degree',\n",
       "    'Memory': 0,\n",
       "    'PipelineInfo': 'Fused in Pipeline 0',\n",
       "    'Time': 59581,\n",
       "    'EstimatedRows': 1.0,\n",
       "    'DbHits': 0,\n",
       "    'Rows': 1},\n",
       "   'children': [{'args': {'Details': 'id(c1) < id(c2)',\n",
       "      'EstimatedRows': 160571.79829772402,\n",
       "      'PipelineInfo': 'Fused in Pipeline 0',\n",
       "      'DbHits': 0,\n",
       "      'Rows': 267718},\n",
       "     'children': [{'args': {'Details': '(c2)-[anon_11]-(c1)',\n",
       "        'EstimatedRows': 535239.32765908,\n",
       "        'PipelineInfo': 'Fused in Pipeline 0',\n",
       "        'DbHits': 539024,\n",
       "        'Rows': 535436},\n",
       "       'children': [{'args': {'Details': 'c2',\n",
       "          'Memory': 64,\n",
       "          'PipelineInfo': 'Fused in Pipeline 0',\n",
       "          'EstimatedRows': 19090.0,\n",
       "          'DbHits': 19091,\n",
       "          'Rows': 19090},\n",
       "         'children': [],\n",
       "         'dbHits': 19091,\n",
       "         'identifiers': ['c2'],\n",
       "         'operatorType': 'AllNodesScan@neo4j',\n",
       "         'rows': 19090}],\n",
       "       'dbHits': 539024,\n",
       "       'identifiers': ['c2', 'anon_11', 'c1'],\n",
       "       'operatorType': 'Expand(All)@neo4j',\n",
       "       'rows': 535436}],\n",
       "     'dbHits': 0,\n",
       "     'identifiers': ['c2', 'anon_11', 'c1'],\n",
       "     'operatorType': 'Filter@neo4j',\n",
       "     'rows': 267718}],\n",
       "   'dbHits': 0,\n",
       "   'identifiers': ['degree'],\n",
       "   'operatorType': 'EagerAggregation@neo4j',\n",
       "   'time': 59581,\n",
       "   'rows': 1}],\n",
       " 'dbHits': 0,\n",
       " 'identifiers': ['degree'],\n",
       " 'operatorType': 'ProduceResults@neo4j',\n",
       " 'time': 40656,\n",
       " 'rows': 1}"
      ]
     },
     "execution_count": 80,
     "metadata": {},
     "output_type": "execute_result"
    }
   ],
   "source": [
    "profile"
   ]
  },
  {
   "cell_type": "code",
   "execution_count": 81,
   "metadata": {},
   "outputs": [
    {
     "data": {
      "text/html": [
       "<div>\n",
       "<style scoped>\n",
       "    .dataframe tbody tr th:only-of-type {\n",
       "        vertical-align: middle;\n",
       "    }\n",
       "\n",
       "    .dataframe tbody tr th {\n",
       "        vertical-align: top;\n",
       "    }\n",
       "\n",
       "    .dataframe thead th {\n",
       "        text-align: right;\n",
       "    }\n",
       "</style>\n",
       "<table border=\"1\" class=\"dataframe\">\n",
       "  <thead>\n",
       "    <tr style=\"text-align: right;\">\n",
       "      <th></th>\n",
       "      <th>metric</th>\n",
       "      <th>value</th>\n",
       "    </tr>\n",
       "  </thead>\n",
       "  <tbody>\n",
       "    <tr>\n",
       "      <th>0</th>\n",
       "      <td>avail_time</td>\n",
       "      <td>108</td>\n",
       "    </tr>\n",
       "    <tr>\n",
       "      <th>1</th>\n",
       "      <td>consume_time</td>\n",
       "      <td>328</td>\n",
       "    </tr>\n",
       "    <tr>\n",
       "      <th>2</th>\n",
       "      <td>global_memory</td>\n",
       "      <td>64</td>\n",
       "    </tr>\n",
       "    <tr>\n",
       "      <th>3</th>\n",
       "      <td>child_memory</td>\n",
       "      <td>0</td>\n",
       "    </tr>\n",
       "    <tr>\n",
       "      <th>4</th>\n",
       "      <td>db_hits</td>\n",
       "      <td>0</td>\n",
       "    </tr>\n",
       "    <tr>\n",
       "      <th>5</th>\n",
       "      <td>child_db_hits</td>\n",
       "      <td>0</td>\n",
       "    </tr>\n",
       "    <tr>\n",
       "      <th>6</th>\n",
       "      <td>child2_db_hits</td>\n",
       "      <td>0</td>\n",
       "    </tr>\n",
       "    <tr>\n",
       "      <th>7</th>\n",
       "      <td>child_rows</td>\n",
       "      <td>1</td>\n",
       "    </tr>\n",
       "    <tr>\n",
       "      <th>8</th>\n",
       "      <td>child_rows2</td>\n",
       "      <td>1</td>\n",
       "    </tr>\n",
       "  </tbody>\n",
       "</table>\n",
       "</div>"
      ],
      "text/plain": [
       "           metric  value\n",
       "0      avail_time    108\n",
       "1    consume_time    328\n",
       "2   global_memory     64\n",
       "3    child_memory      0\n",
       "4         db_hits      0\n",
       "5   child_db_hits      0\n",
       "6  child2_db_hits      0\n",
       "7      child_rows      1\n",
       "8     child_rows2      1"
      ]
     },
     "execution_count": 81,
     "metadata": {},
     "output_type": "execute_result"
    }
   ],
   "source": [
    "data"
   ]
  },
  {
   "cell_type": "markdown",
   "metadata": {},
   "source": [
    "3. `count` relationships"
   ]
  },
  {
   "cell_type": "code",
   "execution_count": 82,
   "metadata": {},
   "outputs": [
    {
     "name": "stderr",
     "output_type": "stream",
     "text": [
      "//anaconda3/lib/python3.7/site-packages/ipykernel/ipkernel.py:287: DeprecationWarning: `should_run_async` will not call `transform_cell` automatically in the future. Please pass the result to `transformed_cell` argument and any exception that happen during thetransform in `preprocessing_exc_tuple` in IPython 7.17 and above.\n",
      "  and should_run_async(code)\n"
     ]
    }
   ],
   "source": [
    "metadata, profile, data = measure_metrics('''MATCH ()-[r]->()\n",
    "RETURN count(r) as count''')"
   ]
  },
  {
   "cell_type": "code",
   "execution_count": 83,
   "metadata": {},
   "outputs": [
    {
     "data": {
      "text/plain": [
       "{'query': 'PROFILE MATCH ()-[r]->()\\nRETURN count(r) as count',\n",
       " 'parameters': {},\n",
       " 'server': <neo4j.api.ServerInfo at 0x1a17f912d0>,\n",
       " 't_first': 49,\n",
       " 'fields': ['count'],\n",
       " 'bookmark': 'FB:kcwQoOcTCwX0QjOl9b/sbMRE8ckAg5A=',\n",
       " 'profile': {'args': {'GlobalMemory': 64,\n",
       "   'planner-impl': 'IDP',\n",
       "   'runtime': 'PIPELINED',\n",
       "   'runtime-impl': 'PIPELINED',\n",
       "   'version': 'CYPHER 4.1',\n",
       "   'DbHits': 0,\n",
       "   'Details': 'count',\n",
       "   'PipelineInfo': 'Fused in Pipeline 0',\n",
       "   'planner-version': '4.1',\n",
       "   'runtime-version': '4.1',\n",
       "   'EstimatedRows': 1.0,\n",
       "   'planner': 'COST',\n",
       "   'Rows': 1},\n",
       "  'children': [{'args': {'Details': 'count( ()-[:]->() ) AS count',\n",
       "     'Memory': 64,\n",
       "     'PipelineInfo': 'Fused in Pipeline 0',\n",
       "     'EstimatedRows': 1.0,\n",
       "     'DbHits': 1,\n",
       "     'Rows': 1},\n",
       "    'children': [],\n",
       "    'dbHits': 1,\n",
       "    'identifiers': ['count'],\n",
       "    'operatorType': 'RelationshipCountFromCountStore@neo4j',\n",
       "    'rows': 1}],\n",
       "  'dbHits': 0,\n",
       "  'identifiers': ['count'],\n",
       "  'operatorType': 'ProduceResults@neo4j',\n",
       "  'rows': 1},\n",
       " 'type': 'r',\n",
       " 't_last': 2,\n",
       " 'db': 'neo4j'}"
      ]
     },
     "execution_count": 83,
     "metadata": {},
     "output_type": "execute_result"
    }
   ],
   "source": [
    "metadata"
   ]
  },
  {
   "cell_type": "code",
   "execution_count": 84,
   "metadata": {},
   "outputs": [
    {
     "data": {
      "text/plain": [
       "{'args': {'GlobalMemory': 64,\n",
       "  'planner-impl': 'IDP',\n",
       "  'runtime': 'PIPELINED',\n",
       "  'runtime-impl': 'PIPELINED',\n",
       "  'version': 'CYPHER 4.1',\n",
       "  'DbHits': 0,\n",
       "  'Details': 'count',\n",
       "  'PipelineInfo': 'Fused in Pipeline 0',\n",
       "  'planner-version': '4.1',\n",
       "  'runtime-version': '4.1',\n",
       "  'EstimatedRows': 1.0,\n",
       "  'planner': 'COST',\n",
       "  'Rows': 1},\n",
       " 'children': [{'args': {'Details': 'count( ()-[:]->() ) AS count',\n",
       "    'Memory': 64,\n",
       "    'PipelineInfo': 'Fused in Pipeline 0',\n",
       "    'EstimatedRows': 1.0,\n",
       "    'DbHits': 1,\n",
       "    'Rows': 1},\n",
       "   'children': [],\n",
       "   'dbHits': 1,\n",
       "   'identifiers': ['count'],\n",
       "   'operatorType': 'RelationshipCountFromCountStore@neo4j',\n",
       "   'rows': 1}],\n",
       " 'dbHits': 0,\n",
       " 'identifiers': ['count'],\n",
       " 'operatorType': 'ProduceResults@neo4j',\n",
       " 'rows': 1}"
      ]
     },
     "execution_count": 84,
     "metadata": {},
     "output_type": "execute_result"
    }
   ],
   "source": [
    "profile"
   ]
  },
  {
   "cell_type": "code",
   "execution_count": 85,
   "metadata": {},
   "outputs": [
    {
     "data": {
      "text/html": [
       "<div>\n",
       "<style scoped>\n",
       "    .dataframe tbody tr th:only-of-type {\n",
       "        vertical-align: middle;\n",
       "    }\n",
       "\n",
       "    .dataframe tbody tr th {\n",
       "        vertical-align: top;\n",
       "    }\n",
       "\n",
       "    .dataframe thead th {\n",
       "        text-align: right;\n",
       "    }\n",
       "</style>\n",
       "<table border=\"1\" class=\"dataframe\">\n",
       "  <thead>\n",
       "    <tr style=\"text-align: right;\">\n",
       "      <th></th>\n",
       "      <th>metric</th>\n",
       "      <th>value</th>\n",
       "    </tr>\n",
       "  </thead>\n",
       "  <tbody>\n",
       "    <tr>\n",
       "      <th>0</th>\n",
       "      <td>avail_time</td>\n",
       "      <td>49</td>\n",
       "    </tr>\n",
       "    <tr>\n",
       "      <th>1</th>\n",
       "      <td>consume_time</td>\n",
       "      <td>2</td>\n",
       "    </tr>\n",
       "    <tr>\n",
       "      <th>2</th>\n",
       "      <td>global_memory</td>\n",
       "      <td>64</td>\n",
       "    </tr>\n",
       "    <tr>\n",
       "      <th>3</th>\n",
       "      <td>child_memory</td>\n",
       "      <td>64</td>\n",
       "    </tr>\n",
       "    <tr>\n",
       "      <th>4</th>\n",
       "      <td>db_hits</td>\n",
       "      <td>0</td>\n",
       "    </tr>\n",
       "    <tr>\n",
       "      <th>5</th>\n",
       "      <td>child_db_hits</td>\n",
       "      <td>1</td>\n",
       "    </tr>\n",
       "    <tr>\n",
       "      <th>6</th>\n",
       "      <td>child2_db_hits</td>\n",
       "      <td>1</td>\n",
       "    </tr>\n",
       "    <tr>\n",
       "      <th>7</th>\n",
       "      <td>child_rows</td>\n",
       "      <td>1</td>\n",
       "    </tr>\n",
       "    <tr>\n",
       "      <th>8</th>\n",
       "      <td>child_rows2</td>\n",
       "      <td>1</td>\n",
       "    </tr>\n",
       "  </tbody>\n",
       "</table>\n",
       "</div>"
      ],
      "text/plain": [
       "           metric  value\n",
       "0      avail_time     49\n",
       "1    consume_time      2\n",
       "2   global_memory     64\n",
       "3    child_memory     64\n",
       "4         db_hits      0\n",
       "5   child_db_hits      1\n",
       "6  child2_db_hits      1\n",
       "7      child_rows      1\n",
       "8     child_rows2      1"
      ]
     },
     "execution_count": 85,
     "metadata": {},
     "output_type": "execute_result"
    }
   ],
   "source": [
    "data"
   ]
  },
  {
   "cell_type": "markdown",
   "metadata": {},
   "source": [
    "4. Meta stats"
   ]
  },
  {
   "cell_type": "code",
   "execution_count": 86,
   "metadata": {},
   "outputs": [
    {
     "name": "stderr",
     "output_type": "stream",
     "text": [
      "//anaconda3/lib/python3.7/site-packages/ipykernel/ipkernel.py:287: DeprecationWarning: `should_run_async` will not call `transform_cell` automatically in the future. Please pass the result to `transformed_cell` argument and any exception that happen during thetransform in `preprocessing_exc_tuple` in IPython 7.17 and above.\n",
      "  and should_run_async(code)\n"
     ]
    },
    {
     "ename": "KeyError",
     "evalue": "'DbHits'",
     "output_type": "error",
     "traceback": [
      "\u001b[0;31m---------------------------------------------------------------------------\u001b[0m",
      "\u001b[0;31mKeyError\u001b[0m                                  Traceback (most recent call last)",
      "\u001b[0;32m<ipython-input-86-9902a071eb75>\u001b[0m in \u001b[0;36m<module>\u001b[0;34m\u001b[0m\n\u001b[0;32m----> 1\u001b[0;31m \u001b[0mmetadata\u001b[0m\u001b[0;34m,\u001b[0m \u001b[0mprofile\u001b[0m\u001b[0;34m,\u001b[0m \u001b[0mdata\u001b[0m \u001b[0;34m=\u001b[0m \u001b[0mmeasure_metrics\u001b[0m\u001b[0;34m(\u001b[0m\u001b[0;34m\"call apoc.meta.stats() YIELD relCount\"\u001b[0m\u001b[0;34m)\u001b[0m\u001b[0;34m\u001b[0m\u001b[0;34m\u001b[0m\u001b[0m\n\u001b[0m",
      "\u001b[0;32m<ipython-input-64-e002fa1138a4>\u001b[0m in \u001b[0;36mmeasure_metrics\u001b[0;34m(query)\u001b[0m\n\u001b[1;32m      9\u001b[0m     \u001b[0;34m(\u001b[0m\u001b[0;34m'child_memory'\u001b[0m\u001b[0;34m,\u001b[0m \u001b[0mmetadata\u001b[0m\u001b[0;34m[\u001b[0m\u001b[0;34m'profile'\u001b[0m\u001b[0;34m]\u001b[0m\u001b[0;34m[\u001b[0m\u001b[0;34m'children'\u001b[0m\u001b[0;34m]\u001b[0m\u001b[0;34m[\u001b[0m\u001b[0;36m0\u001b[0m\u001b[0;34m]\u001b[0m\u001b[0;34m[\u001b[0m\u001b[0;34m'args'\u001b[0m\u001b[0;34m]\u001b[0m\u001b[0;34m[\u001b[0m\u001b[0;34m'Memory'\u001b[0m\u001b[0;34m]\u001b[0m\u001b[0;34m)\u001b[0m\u001b[0;34m,\u001b[0m\u001b[0;34m\u001b[0m\u001b[0;34m\u001b[0m\u001b[0m\n\u001b[1;32m     10\u001b[0m     \u001b[0;34m(\u001b[0m\u001b[0;34m'db_hits'\u001b[0m\u001b[0;34m,\u001b[0m \u001b[0mmetadata\u001b[0m\u001b[0;34m[\u001b[0m\u001b[0;34m'profile'\u001b[0m\u001b[0;34m]\u001b[0m\u001b[0;34m[\u001b[0m\u001b[0;34m'args'\u001b[0m\u001b[0;34m]\u001b[0m\u001b[0;34m[\u001b[0m\u001b[0;34m'DbHits'\u001b[0m\u001b[0;34m]\u001b[0m\u001b[0;34m)\u001b[0m\u001b[0;34m,\u001b[0m\u001b[0;34m\u001b[0m\u001b[0;34m\u001b[0m\u001b[0m\n\u001b[0;32m---> 11\u001b[0;31m     \u001b[0;34m(\u001b[0m\u001b[0;34m'child_db_hits'\u001b[0m\u001b[0;34m,\u001b[0m \u001b[0mmetadata\u001b[0m\u001b[0;34m[\u001b[0m\u001b[0;34m'profile'\u001b[0m\u001b[0;34m]\u001b[0m\u001b[0;34m[\u001b[0m\u001b[0;34m'children'\u001b[0m\u001b[0;34m]\u001b[0m\u001b[0;34m[\u001b[0m\u001b[0;36m0\u001b[0m\u001b[0;34m]\u001b[0m\u001b[0;34m[\u001b[0m\u001b[0;34m'args'\u001b[0m\u001b[0;34m]\u001b[0m\u001b[0;34m[\u001b[0m\u001b[0;34m'DbHits'\u001b[0m\u001b[0;34m]\u001b[0m\u001b[0;34m)\u001b[0m\u001b[0;34m,\u001b[0m\u001b[0;34m\u001b[0m\u001b[0;34m\u001b[0m\u001b[0m\n\u001b[0m\u001b[1;32m     12\u001b[0m     \u001b[0;34m(\u001b[0m\u001b[0;34m'child2_db_hits'\u001b[0m\u001b[0;34m,\u001b[0m \u001b[0mmetadata\u001b[0m\u001b[0;34m[\u001b[0m\u001b[0;34m'profile'\u001b[0m\u001b[0;34m]\u001b[0m\u001b[0;34m[\u001b[0m\u001b[0;34m'children'\u001b[0m\u001b[0;34m]\u001b[0m\u001b[0;34m[\u001b[0m\u001b[0;36m0\u001b[0m\u001b[0;34m]\u001b[0m\u001b[0;34m[\u001b[0m\u001b[0;34m'dbHits'\u001b[0m\u001b[0;34m]\u001b[0m\u001b[0;34m)\u001b[0m\u001b[0;34m,\u001b[0m\u001b[0;34m\u001b[0m\u001b[0;34m\u001b[0m\u001b[0m\n\u001b[1;32m     13\u001b[0m     \u001b[0;34m(\u001b[0m\u001b[0;34m'child_rows'\u001b[0m\u001b[0;34m,\u001b[0m \u001b[0mmetadata\u001b[0m\u001b[0;34m[\u001b[0m\u001b[0;34m'profile'\u001b[0m\u001b[0;34m]\u001b[0m\u001b[0;34m[\u001b[0m\u001b[0;34m'children'\u001b[0m\u001b[0;34m]\u001b[0m\u001b[0;34m[\u001b[0m\u001b[0;36m0\u001b[0m\u001b[0;34m]\u001b[0m\u001b[0;34m[\u001b[0m\u001b[0;34m'args'\u001b[0m\u001b[0;34m]\u001b[0m\u001b[0;34m[\u001b[0m\u001b[0;34m'Rows'\u001b[0m\u001b[0;34m]\u001b[0m\u001b[0;34m)\u001b[0m\u001b[0;34m,\u001b[0m\u001b[0;34m\u001b[0m\u001b[0;34m\u001b[0m\u001b[0m\n",
      "\u001b[0;31mKeyError\u001b[0m: 'DbHits'"
     ]
    }
   ],
   "source": [
    "metadata, profile, data = measure_metrics(\"call apoc.meta.stats() YIELD relCount\")"
   ]
  },
  {
   "cell_type": "code",
   "execution_count": 106,
   "metadata": {},
   "outputs": [],
   "source": [
    "metadata, profile = meta_measures(\"call apoc.meta.stats() YIELD relCount\")"
   ]
  },
  {
   "cell_type": "code",
   "execution_count": 107,
   "metadata": {},
   "outputs": [
    {
     "data": {
      "text/plain": [
       "{'query': 'PROFILE call apoc.meta.stats() YIELD relCount',\n",
       " 'parameters': {},\n",
       " 'server': <neo4j.api.ServerInfo at 0x1a17f912d0>,\n",
       " 't_first': 2,\n",
       " 'fields': ['relCount'],\n",
       " 'bookmark': 'FB:kcwQoOcTCwX0QjOl9b/sbMRE8ckAg5A=',\n",
       " 'profile': {'args': {'GlobalMemory': 64,\n",
       "   'planner-impl': 'IDP',\n",
       "   'runtime': 'PIPELINED',\n",
       "   'Time': 60114,\n",
       "   'runtime-impl': 'PIPELINED',\n",
       "   'version': 'CYPHER 4.1',\n",
       "   'DbHits': 0,\n",
       "   'Details': 'relCount',\n",
       "   'PipelineInfo': 'In Pipeline 1',\n",
       "   'planner-version': '4.1',\n",
       "   'runtime-version': '4.1',\n",
       "   'EstimatedRows': 10000.0,\n",
       "   'planner': 'COST',\n",
       "   'Rows': 1},\n",
       "  'children': [{'args': {'Details': 'apoc.meta.stats() :: (relCount :: INTEGER?)',\n",
       "     'EstimatedRows': 10000.0,\n",
       "     'Memory': 56,\n",
       "     'PipelineInfo': 'In Pipeline 1',\n",
       "     'Rows': 1},\n",
       "    'operatorType': 'ProcedureCall@neo4j',\n",
       "    'children': [],\n",
       "    'identifiers': ['relCount']}],\n",
       "  'dbHits': 0,\n",
       "  'identifiers': ['relCount'],\n",
       "  'operatorType': 'ProduceResults@neo4j',\n",
       "  'time': 60114,\n",
       "  'rows': 1},\n",
       " 'type': 'r',\n",
       " 't_last': 2,\n",
       " 'db': 'neo4j'}"
      ]
     },
     "execution_count": 107,
     "metadata": {},
     "output_type": "execute_result"
    }
   ],
   "source": [
    "metadata"
   ]
  },
  {
   "cell_type": "code",
   "execution_count": 108,
   "metadata": {},
   "outputs": [
    {
     "data": {
      "text/plain": [
       "{'args': {'GlobalMemory': 64,\n",
       "  'planner-impl': 'IDP',\n",
       "  'runtime': 'PIPELINED',\n",
       "  'Time': 60114,\n",
       "  'runtime-impl': 'PIPELINED',\n",
       "  'version': 'CYPHER 4.1',\n",
       "  'DbHits': 0,\n",
       "  'Details': 'relCount',\n",
       "  'PipelineInfo': 'In Pipeline 1',\n",
       "  'planner-version': '4.1',\n",
       "  'runtime-version': '4.1',\n",
       "  'EstimatedRows': 10000.0,\n",
       "  'planner': 'COST',\n",
       "  'Rows': 1},\n",
       " 'children': [{'args': {'Details': 'apoc.meta.stats() :: (relCount :: INTEGER?)',\n",
       "    'EstimatedRows': 10000.0,\n",
       "    'Memory': 56,\n",
       "    'PipelineInfo': 'In Pipeline 1',\n",
       "    'Rows': 1},\n",
       "   'operatorType': 'ProcedureCall@neo4j',\n",
       "   'children': [],\n",
       "   'identifiers': ['relCount']}],\n",
       " 'dbHits': 0,\n",
       " 'identifiers': ['relCount'],\n",
       " 'operatorType': 'ProduceResults@neo4j',\n",
       " 'time': 60114,\n",
       " 'rows': 1}"
      ]
     },
     "execution_count": 108,
     "metadata": {},
     "output_type": "execute_result"
    }
   ],
   "source": [
    "profile"
   ]
  },
  {
   "cell_type": "markdown",
   "metadata": {},
   "source": [
    "#### Count by relationship type"
   ]
  },
  {
   "cell_type": "code",
   "execution_count": 87,
   "metadata": {},
   "outputs": [
    {
     "ename": "KeyError",
     "evalue": "'DbHits'",
     "output_type": "error",
     "traceback": [
      "\u001b[0;31m---------------------------------------------------------------------------\u001b[0m",
      "\u001b[0;31mKeyError\u001b[0m                                  Traceback (most recent call last)",
      "\u001b[0;32m<ipython-input-87-4fb238ae3f3a>\u001b[0m in \u001b[0;36m<module>\u001b[0;34m\u001b[0m\n\u001b[0;32m----> 1\u001b[0;31m \u001b[0mmetadata\u001b[0m\u001b[0;34m,\u001b[0m \u001b[0mprofile\u001b[0m\u001b[0;34m,\u001b[0m \u001b[0mdata\u001b[0m \u001b[0;34m=\u001b[0m \u001b[0mmeasure_metrics\u001b[0m\u001b[0;34m(\u001b[0m\u001b[0;34m\"call apoc.meta.stats() YIELD relTypes\"\u001b[0m\u001b[0;34m)\u001b[0m\u001b[0;34m\u001b[0m\u001b[0;34m\u001b[0m\u001b[0m\n\u001b[0m",
      "\u001b[0;32m<ipython-input-64-e002fa1138a4>\u001b[0m in \u001b[0;36mmeasure_metrics\u001b[0;34m(query)\u001b[0m\n\u001b[1;32m      9\u001b[0m     \u001b[0;34m(\u001b[0m\u001b[0;34m'child_memory'\u001b[0m\u001b[0;34m,\u001b[0m \u001b[0mmetadata\u001b[0m\u001b[0;34m[\u001b[0m\u001b[0;34m'profile'\u001b[0m\u001b[0;34m]\u001b[0m\u001b[0;34m[\u001b[0m\u001b[0;34m'children'\u001b[0m\u001b[0;34m]\u001b[0m\u001b[0;34m[\u001b[0m\u001b[0;36m0\u001b[0m\u001b[0;34m]\u001b[0m\u001b[0;34m[\u001b[0m\u001b[0;34m'args'\u001b[0m\u001b[0;34m]\u001b[0m\u001b[0;34m[\u001b[0m\u001b[0;34m'Memory'\u001b[0m\u001b[0;34m]\u001b[0m\u001b[0;34m)\u001b[0m\u001b[0;34m,\u001b[0m\u001b[0;34m\u001b[0m\u001b[0;34m\u001b[0m\u001b[0m\n\u001b[1;32m     10\u001b[0m     \u001b[0;34m(\u001b[0m\u001b[0;34m'db_hits'\u001b[0m\u001b[0;34m,\u001b[0m \u001b[0mmetadata\u001b[0m\u001b[0;34m[\u001b[0m\u001b[0;34m'profile'\u001b[0m\u001b[0;34m]\u001b[0m\u001b[0;34m[\u001b[0m\u001b[0;34m'args'\u001b[0m\u001b[0;34m]\u001b[0m\u001b[0;34m[\u001b[0m\u001b[0;34m'DbHits'\u001b[0m\u001b[0;34m]\u001b[0m\u001b[0;34m)\u001b[0m\u001b[0;34m,\u001b[0m\u001b[0;34m\u001b[0m\u001b[0;34m\u001b[0m\u001b[0m\n\u001b[0;32m---> 11\u001b[0;31m     \u001b[0;34m(\u001b[0m\u001b[0;34m'child_db_hits'\u001b[0m\u001b[0;34m,\u001b[0m \u001b[0mmetadata\u001b[0m\u001b[0;34m[\u001b[0m\u001b[0;34m'profile'\u001b[0m\u001b[0;34m]\u001b[0m\u001b[0;34m[\u001b[0m\u001b[0;34m'children'\u001b[0m\u001b[0;34m]\u001b[0m\u001b[0;34m[\u001b[0m\u001b[0;36m0\u001b[0m\u001b[0;34m]\u001b[0m\u001b[0;34m[\u001b[0m\u001b[0;34m'args'\u001b[0m\u001b[0;34m]\u001b[0m\u001b[0;34m[\u001b[0m\u001b[0;34m'DbHits'\u001b[0m\u001b[0;34m]\u001b[0m\u001b[0;34m)\u001b[0m\u001b[0;34m,\u001b[0m\u001b[0;34m\u001b[0m\u001b[0;34m\u001b[0m\u001b[0m\n\u001b[0m\u001b[1;32m     12\u001b[0m     \u001b[0;34m(\u001b[0m\u001b[0;34m'child2_db_hits'\u001b[0m\u001b[0;34m,\u001b[0m \u001b[0mmetadata\u001b[0m\u001b[0;34m[\u001b[0m\u001b[0;34m'profile'\u001b[0m\u001b[0;34m]\u001b[0m\u001b[0;34m[\u001b[0m\u001b[0;34m'children'\u001b[0m\u001b[0;34m]\u001b[0m\u001b[0;34m[\u001b[0m\u001b[0;36m0\u001b[0m\u001b[0;34m]\u001b[0m\u001b[0;34m[\u001b[0m\u001b[0;34m'dbHits'\u001b[0m\u001b[0;34m]\u001b[0m\u001b[0;34m)\u001b[0m\u001b[0;34m,\u001b[0m\u001b[0;34m\u001b[0m\u001b[0;34m\u001b[0m\u001b[0m\n\u001b[1;32m     13\u001b[0m     \u001b[0;34m(\u001b[0m\u001b[0;34m'child_rows'\u001b[0m\u001b[0;34m,\u001b[0m \u001b[0mmetadata\u001b[0m\u001b[0;34m[\u001b[0m\u001b[0;34m'profile'\u001b[0m\u001b[0;34m]\u001b[0m\u001b[0;34m[\u001b[0m\u001b[0;34m'children'\u001b[0m\u001b[0;34m]\u001b[0m\u001b[0;34m[\u001b[0m\u001b[0;36m0\u001b[0m\u001b[0;34m]\u001b[0m\u001b[0;34m[\u001b[0m\u001b[0;34m'args'\u001b[0m\u001b[0;34m]\u001b[0m\u001b[0;34m[\u001b[0m\u001b[0;34m'Rows'\u001b[0m\u001b[0;34m]\u001b[0m\u001b[0;34m)\u001b[0m\u001b[0;34m,\u001b[0m\u001b[0;34m\u001b[0m\u001b[0;34m\u001b[0m\u001b[0m\n",
      "\u001b[0;31mKeyError\u001b[0m: 'DbHits'"
     ]
    }
   ],
   "source": [
    "metadata, profile, data = measure_metrics(\"call apoc.meta.stats() YIELD relTypes\")"
   ]
  },
  {
   "cell_type": "code",
   "execution_count": 109,
   "metadata": {},
   "outputs": [],
   "source": [
    "metadata, profile = meta_measures(\"call apoc.meta.stats() YIELD relTypes\")"
   ]
  },
  {
   "cell_type": "code",
   "execution_count": 110,
   "metadata": {},
   "outputs": [
    {
     "data": {
      "text/plain": [
       "{'query': 'PROFILE call apoc.meta.stats() YIELD relTypes',\n",
       " 'parameters': {},\n",
       " 'server': <neo4j.api.ServerInfo at 0x1a17f912d0>,\n",
       " 't_first': 3,\n",
       " 'fields': ['relTypes'],\n",
       " 'bookmark': 'FB:kcwQoOcTCwX0QjOl9b/sbMRE8ckAg5A=',\n",
       " 'profile': {'args': {'GlobalMemory': 64,\n",
       "   'planner-impl': 'IDP',\n",
       "   'runtime': 'PIPELINED',\n",
       "   'Time': 71162,\n",
       "   'runtime-impl': 'PIPELINED',\n",
       "   'version': 'CYPHER 4.1',\n",
       "   'DbHits': 0,\n",
       "   'Details': 'relTypes',\n",
       "   'PipelineInfo': 'In Pipeline 1',\n",
       "   'planner-version': '4.1',\n",
       "   'runtime-version': '4.1',\n",
       "   'EstimatedRows': 10000.0,\n",
       "   'planner': 'COST',\n",
       "   'Rows': 1},\n",
       "  'children': [{'args': {'Details': 'apoc.meta.stats() :: (relTypes :: MAP?)',\n",
       "     'EstimatedRows': 10000.0,\n",
       "     'Memory': 56,\n",
       "     'PipelineInfo': 'In Pipeline 1',\n",
       "     'Rows': 1},\n",
       "    'operatorType': 'ProcedureCall@neo4j',\n",
       "    'children': [],\n",
       "    'identifiers': ['relTypes']}],\n",
       "  'dbHits': 0,\n",
       "  'identifiers': ['relTypes'],\n",
       "  'operatorType': 'ProduceResults@neo4j',\n",
       "  'time': 71162,\n",
       "  'rows': 1},\n",
       " 'type': 'r',\n",
       " 't_last': 3,\n",
       " 'db': 'neo4j'}"
      ]
     },
     "execution_count": 110,
     "metadata": {},
     "output_type": "execute_result"
    }
   ],
   "source": [
    "metadata"
   ]
  },
  {
   "cell_type": "code",
   "execution_count": 111,
   "metadata": {},
   "outputs": [
    {
     "data": {
      "text/plain": [
       "{'args': {'GlobalMemory': 64,\n",
       "  'planner-impl': 'IDP',\n",
       "  'runtime': 'PIPELINED',\n",
       "  'Time': 71162,\n",
       "  'runtime-impl': 'PIPELINED',\n",
       "  'version': 'CYPHER 4.1',\n",
       "  'DbHits': 0,\n",
       "  'Details': 'relTypes',\n",
       "  'PipelineInfo': 'In Pipeline 1',\n",
       "  'planner-version': '4.1',\n",
       "  'runtime-version': '4.1',\n",
       "  'EstimatedRows': 10000.0,\n",
       "  'planner': 'COST',\n",
       "  'Rows': 1},\n",
       " 'children': [{'args': {'Details': 'apoc.meta.stats() :: (relTypes :: MAP?)',\n",
       "    'EstimatedRows': 10000.0,\n",
       "    'Memory': 56,\n",
       "    'PipelineInfo': 'In Pipeline 1',\n",
       "    'Rows': 1},\n",
       "   'operatorType': 'ProcedureCall@neo4j',\n",
       "   'children': [],\n",
       "   'identifiers': ['relTypes']}],\n",
       " 'dbHits': 0,\n",
       " 'identifiers': ['relTypes'],\n",
       " 'operatorType': 'ProduceResults@neo4j',\n",
       " 'time': 71162,\n",
       " 'rows': 1}"
      ]
     },
     "execution_count": 111,
     "metadata": {},
     "output_type": "execute_result"
    }
   ],
   "source": [
    "profile"
   ]
  },
  {
   "cell_type": "markdown",
   "metadata": {},
   "source": [
    "## Component count"
   ]
  },
  {
   "cell_type": "code",
   "execution_count": 89,
   "metadata": {},
   "outputs": [],
   "source": [
    "metadata, profile, data = measure_metrics('''CALL gds.wcc.stream({\n",
    "  nodeProjection: ['*'],\n",
    "  relationshipProjection: '*'})\n",
    "YIELD componentId\n",
    "RETURN componentId, count(*) as component_size\n",
    "Order by component_size DESC''')"
   ]
  },
  {
   "cell_type": "code",
   "execution_count": 90,
   "metadata": {},
   "outputs": [
    {
     "data": {
      "text/plain": [
       "{'query': \"PROFILE CALL gds.wcc.stream({\\n  nodeProjection: ['*'],\\n  relationshipProjection: '*'})\\nYIELD componentId\\nRETURN componentId, count(*) as component_size\\nOrder by component_size DESC\",\n",
       " 'parameters': {},\n",
       " 'server': <neo4j.api.ServerInfo at 0x1a17f912d0>,\n",
       " 't_first': 218,\n",
       " 'fields': ['componentId', 'component_size'],\n",
       " 'bookmark': 'FB:kcwQoOcTCwX0QjOl9b/sbMRE8ckAg5A=',\n",
       " 'profile': {'args': {'Order': 'component_size DESC',\n",
       "   'PageCacheHitRatio': 0.0,\n",
       "   'GlobalMemory': 5304,\n",
       "   'planner-impl': 'IDP',\n",
       "   'runtime': 'SLOTTED',\n",
       "   'runtime-impl': 'SLOTTED',\n",
       "   'version': 'CYPHER 4.1',\n",
       "   'DbHits': 0,\n",
       "   'Details': 'componentId, component_size',\n",
       "   'planner-version': '4.1',\n",
       "   'runtime-version': '4.1',\n",
       "   'PageCacheMisses': 0,\n",
       "   'EstimatedRows': 100.0,\n",
       "   'planner': 'COST',\n",
       "   'Rows': 22,\n",
       "   'PageCacheHits': 0},\n",
       "  'pageCacheMisses': 0,\n",
       "  'children': [{'args': {'Order': 'component_size DESC',\n",
       "     'PageCacheHitRatio': 0.0,\n",
       "     'Details': 'component_size DESC',\n",
       "     'Memory': 3720,\n",
       "     'PageCacheMisses': 0,\n",
       "     'EstimatedRows': 100.0,\n",
       "     'DbHits': 0,\n",
       "     'Rows': 22,\n",
       "     'PageCacheHits': 0},\n",
       "    'pageCacheMisses': 0,\n",
       "    'children': [{'args': {'PageCacheHitRatio': 0.0,\n",
       "       'Details': 'componentId, count(*) AS component_size',\n",
       "       'Memory': 1896,\n",
       "       'PageCacheMisses': 0,\n",
       "       'EstimatedRows': 100.0,\n",
       "       'DbHits': 0,\n",
       "       'Rows': 22,\n",
       "       'PageCacheHits': 0},\n",
       "      'pageCacheMisses': 0,\n",
       "      'children': [{'args': {'PageCacheHitRatio': 0.0,\n",
       "         'Details': 'gds.wcc.stream({nodeProjection: $autolist_0, relationshipProjection: $autostring_1}) :: (componentId :: INTEGER?)',\n",
       "         'PageCacheMisses': 0,\n",
       "         'EstimatedRows': 10000.0,\n",
       "         'Rows': 19090,\n",
       "         'PageCacheHits': 0},\n",
       "        'operatorType': 'ProcedureCall@neo4j',\n",
       "        'children': [],\n",
       "        'identifiers': ['componentId']}],\n",
       "      'dbHits': 0,\n",
       "      'identifiers': ['componentId', 'component_size'],\n",
       "      'operatorType': 'EagerAggregation@neo4j',\n",
       "      'rows': 22,\n",
       "      'pageCacheHitRatio': 0.0,\n",
       "      'pageCacheHits': 0}],\n",
       "    'dbHits': 0,\n",
       "    'identifiers': ['componentId', 'component_size'],\n",
       "    'operatorType': 'Sort@neo4j',\n",
       "    'rows': 22,\n",
       "    'pageCacheHitRatio': 0.0,\n",
       "    'pageCacheHits': 0}],\n",
       "  'dbHits': 0,\n",
       "  'identifiers': ['componentId', 'component_size'],\n",
       "  'operatorType': 'ProduceResults@neo4j',\n",
       "  'rows': 22,\n",
       "  'pageCacheHitRatio': 0.0,\n",
       "  'pageCacheHits': 0},\n",
       " 'type': 'rw',\n",
       " 't_last': 9289,\n",
       " 'db': 'neo4j'}"
      ]
     },
     "execution_count": 90,
     "metadata": {},
     "output_type": "execute_result"
    }
   ],
   "source": [
    "metadata"
   ]
  },
  {
   "cell_type": "code",
   "execution_count": 91,
   "metadata": {},
   "outputs": [
    {
     "data": {
      "text/plain": [
       "{'args': {'Order': 'component_size DESC',\n",
       "  'PageCacheHitRatio': 0.0,\n",
       "  'GlobalMemory': 5304,\n",
       "  'planner-impl': 'IDP',\n",
       "  'runtime': 'SLOTTED',\n",
       "  'runtime-impl': 'SLOTTED',\n",
       "  'version': 'CYPHER 4.1',\n",
       "  'DbHits': 0,\n",
       "  'Details': 'componentId, component_size',\n",
       "  'planner-version': '4.1',\n",
       "  'runtime-version': '4.1',\n",
       "  'PageCacheMisses': 0,\n",
       "  'EstimatedRows': 100.0,\n",
       "  'planner': 'COST',\n",
       "  'Rows': 22,\n",
       "  'PageCacheHits': 0},\n",
       " 'pageCacheMisses': 0,\n",
       " 'children': [{'args': {'Order': 'component_size DESC',\n",
       "    'PageCacheHitRatio': 0.0,\n",
       "    'Details': 'component_size DESC',\n",
       "    'Memory': 3720,\n",
       "    'PageCacheMisses': 0,\n",
       "    'EstimatedRows': 100.0,\n",
       "    'DbHits': 0,\n",
       "    'Rows': 22,\n",
       "    'PageCacheHits': 0},\n",
       "   'pageCacheMisses': 0,\n",
       "   'children': [{'args': {'PageCacheHitRatio': 0.0,\n",
       "      'Details': 'componentId, count(*) AS component_size',\n",
       "      'Memory': 1896,\n",
       "      'PageCacheMisses': 0,\n",
       "      'EstimatedRows': 100.0,\n",
       "      'DbHits': 0,\n",
       "      'Rows': 22,\n",
       "      'PageCacheHits': 0},\n",
       "     'pageCacheMisses': 0,\n",
       "     'children': [{'args': {'PageCacheHitRatio': 0.0,\n",
       "        'Details': 'gds.wcc.stream({nodeProjection: $autolist_0, relationshipProjection: $autostring_1}) :: (componentId :: INTEGER?)',\n",
       "        'PageCacheMisses': 0,\n",
       "        'EstimatedRows': 10000.0,\n",
       "        'Rows': 19090,\n",
       "        'PageCacheHits': 0},\n",
       "       'operatorType': 'ProcedureCall@neo4j',\n",
       "       'children': [],\n",
       "       'identifiers': ['componentId']}],\n",
       "     'dbHits': 0,\n",
       "     'identifiers': ['componentId', 'component_size'],\n",
       "     'operatorType': 'EagerAggregation@neo4j',\n",
       "     'rows': 22,\n",
       "     'pageCacheHitRatio': 0.0,\n",
       "     'pageCacheHits': 0}],\n",
       "   'dbHits': 0,\n",
       "   'identifiers': ['componentId', 'component_size'],\n",
       "   'operatorType': 'Sort@neo4j',\n",
       "   'rows': 22,\n",
       "   'pageCacheHitRatio': 0.0,\n",
       "   'pageCacheHits': 0}],\n",
       " 'dbHits': 0,\n",
       " 'identifiers': ['componentId', 'component_size'],\n",
       " 'operatorType': 'ProduceResults@neo4j',\n",
       " 'rows': 22,\n",
       " 'pageCacheHitRatio': 0.0,\n",
       " 'pageCacheHits': 0}"
      ]
     },
     "execution_count": 91,
     "metadata": {},
     "output_type": "execute_result"
    }
   ],
   "source": [
    "profile"
   ]
  },
  {
   "cell_type": "code",
   "execution_count": 92,
   "metadata": {},
   "outputs": [
    {
     "data": {
      "text/html": [
       "<div>\n",
       "<style scoped>\n",
       "    .dataframe tbody tr th:only-of-type {\n",
       "        vertical-align: middle;\n",
       "    }\n",
       "\n",
       "    .dataframe tbody tr th {\n",
       "        vertical-align: top;\n",
       "    }\n",
       "\n",
       "    .dataframe thead th {\n",
       "        text-align: right;\n",
       "    }\n",
       "</style>\n",
       "<table border=\"1\" class=\"dataframe\">\n",
       "  <thead>\n",
       "    <tr style=\"text-align: right;\">\n",
       "      <th></th>\n",
       "      <th>metric</th>\n",
       "      <th>value</th>\n",
       "    </tr>\n",
       "  </thead>\n",
       "  <tbody>\n",
       "    <tr>\n",
       "      <th>0</th>\n",
       "      <td>avail_time</td>\n",
       "      <td>218</td>\n",
       "    </tr>\n",
       "    <tr>\n",
       "      <th>1</th>\n",
       "      <td>consume_time</td>\n",
       "      <td>9289</td>\n",
       "    </tr>\n",
       "    <tr>\n",
       "      <th>2</th>\n",
       "      <td>global_memory</td>\n",
       "      <td>5304</td>\n",
       "    </tr>\n",
       "    <tr>\n",
       "      <th>3</th>\n",
       "      <td>child_memory</td>\n",
       "      <td>3720</td>\n",
       "    </tr>\n",
       "    <tr>\n",
       "      <th>4</th>\n",
       "      <td>db_hits</td>\n",
       "      <td>0</td>\n",
       "    </tr>\n",
       "    <tr>\n",
       "      <th>5</th>\n",
       "      <td>child_db_hits</td>\n",
       "      <td>0</td>\n",
       "    </tr>\n",
       "    <tr>\n",
       "      <th>6</th>\n",
       "      <td>child2_db_hits</td>\n",
       "      <td>0</td>\n",
       "    </tr>\n",
       "    <tr>\n",
       "      <th>7</th>\n",
       "      <td>child_rows</td>\n",
       "      <td>22</td>\n",
       "    </tr>\n",
       "    <tr>\n",
       "      <th>8</th>\n",
       "      <td>child_rows2</td>\n",
       "      <td>22</td>\n",
       "    </tr>\n",
       "  </tbody>\n",
       "</table>\n",
       "</div>"
      ],
      "text/plain": [
       "           metric  value\n",
       "0      avail_time    218\n",
       "1    consume_time   9289\n",
       "2   global_memory   5304\n",
       "3    child_memory   3720\n",
       "4         db_hits      0\n",
       "5   child_db_hits      0\n",
       "6  child2_db_hits      0\n",
       "7      child_rows     22\n",
       "8     child_rows2     22"
      ]
     },
     "execution_count": 92,
     "metadata": {},
     "output_type": "execute_result"
    }
   ],
   "source": [
    "data"
   ]
  },
  {
   "cell_type": "code",
   "execution_count": null,
   "metadata": {},
   "outputs": [],
   "source": []
  }
 ],
 "metadata": {
  "kernelspec": {
   "display_name": "Python 3",
   "language": "python",
   "name": "python3"
  },
  "language_info": {
   "codemirror_mode": {
    "name": "ipython",
    "version": 3
   },
   "file_extension": ".py",
   "mimetype": "text/x-python",
   "name": "python",
   "nbconvert_exporter": "python",
   "pygments_lexer": "ipython3",
   "version": "3.7.6"
  }
 },
 "nbformat": 4,
 "nbformat_minor": 4
}
