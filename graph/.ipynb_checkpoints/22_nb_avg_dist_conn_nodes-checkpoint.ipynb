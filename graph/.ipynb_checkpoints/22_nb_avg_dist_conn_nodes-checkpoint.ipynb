{
 "cells": [
  {
   "cell_type": "markdown",
   "id": "02e2b92d-a66f-461b-b204-cc6f5c032b9f",
   "metadata": {},
   "source": [
    "# Entry G22 notebook: Mean Distance Between Connected Nodes"
   ]
  },
  {
   "cell_type": "code",
   "execution_count": 3,
   "id": "ea0b1652-3c8b-4eff-86b4-096d5d49ad9b",
   "metadata": {},
   "outputs": [],
   "source": [
    "import numpy as np\n",
    "import pandas as pd\n",
    "import matplotlib.pyplot as plt\n",
    "import seaborn as sns\n",
    "plt.style.use('ggplot')\n",
    "%matplotlib inline\n",
    "\n",
    "import warnings\n",
    "warnings.filterwarnings('once')\n",
    "\n",
    "from neo4j import GraphDatabase"
   ]
  },
  {
   "cell_type": "code",
   "execution_count": 4,
   "id": "d15cfc8f-d488-4a32-906a-244552bf7f98",
   "metadata": {},
   "outputs": [
    {
     "name": "stderr",
     "output_type": "stream",
     "text": [
      "C:\\Users\\jfish\\anaconda3\\lib\\site-packages\\ipykernel\\ipkernel.py:287: DeprecationWarning: `should_run_async` will not call `transform_cell` automatically in the future. Please pass the result to `transformed_cell` argument and any exception that happen during thetransform in `preprocessing_exc_tuple` in IPython 7.17 and above.\n",
      "  and should_run_async(code)\n"
     ]
    }
   ],
   "source": [
    "def nearest_villains(con, model_type='uni', max_level=2):\n",
    "    if model_type == 'uni' or model_type == 'mix':\n",
    "        rel_type = 'KNOWS'\n",
    "    else:\n",
    "        max_level = max_level * 2\n",
    "        rel_type = 'APPEARS_IN'\n",
    "        \n",
    "    v_query = '''MATCH (h:Hero)\n",
    "    call apoc.path.spanningTree(h, {minLevel: 1, maxLevel:'''  + f\"{max_level}, labelFilter:'>Villain', relationshipFilter:'{rel_type}'\" + '''})\n",
    "    YIELD path\n",
    "    RETURN h.name as name, labels(h)[-1] as type, length(path) as distance, count(path) as villain_ct'''\n",
    "    \n",
    "    h_query = '''MATCH (h:Hero)\n",
    "    call apoc.path.spanningTree(h, {minLevel: 1, maxLevel:'''  + f\"{max_level}, labelFilter:'>Hero', relationshipFilter:'{rel_type}'\" + '''})\n",
    "    YIELD path\n",
    "    RETURN h.name as name, labels(h)[-1] as type, length(path) as distance, count(path) as total_ct'''\n",
    "    \n",
    "    df = pd.DataFrame(con.run(v_query).data()).merge(\n",
    "    pd.DataFrame(con.run(h_query).data()),\n",
    "    on = ['name', 'type', 'distance'], how='outer').fillna(0)\n",
    "    df['villain_pct'] = df['villain_ct'] / df['total_ct']\n",
    "    return df"
   ]
  },
  {
   "cell_type": "code",
   "execution_count": 5,
   "id": "e80495b6-1dd9-4b94-a1dc-142400bef22c",
   "metadata": {},
   "outputs": [],
   "source": [
    "uri = \"bolt://localhost:7687\"\n",
    "\n",
    "driver = GraphDatabase.driver(uri, auth=('neo4j', 'password'))\n",
    "\n",
    "uni_session = driver.session(database=\"unimodal\")"
   ]
  },
  {
   "cell_type": "markdown",
   "id": "e18061ef-ecc4-4a61-947b-a910362e72c6",
   "metadata": {},
   "source": [
    "### Neighbor Counts and Villain Percent"
   ]
  },
  {
   "cell_type": "code",
   "execution_count": 24,
   "id": "9641bee3-1845-4b92-8154-aeda259e6cba",
   "metadata": {},
   "outputs": [
    {
     "data": {
      "text/html": [
       "<div>\n",
       "<style scoped>\n",
       "    .dataframe tbody tr th:only-of-type {\n",
       "        vertical-align: middle;\n",
       "    }\n",
       "\n",
       "    .dataframe tbody tr th {\n",
       "        vertical-align: top;\n",
       "    }\n",
       "\n",
       "    .dataframe thead th {\n",
       "        text-align: right;\n",
       "    }\n",
       "</style>\n",
       "<table border=\"1\" class=\"dataframe\">\n",
       "  <thead>\n",
       "    <tr style=\"text-align: right;\">\n",
       "      <th></th>\n",
       "      <th>name</th>\n",
       "      <th>type</th>\n",
       "      <th>distance</th>\n",
       "      <th>total_ct</th>\n",
       "    </tr>\n",
       "  </thead>\n",
       "  <tbody>\n",
       "    <tr>\n",
       "      <th>0</th>\n",
       "      <td>24-HOUR MAN/EMMANUEL</td>\n",
       "      <td>Hero</td>\n",
       "      <td>1</td>\n",
       "      <td>5</td>\n",
       "    </tr>\n",
       "    <tr>\n",
       "      <th>1</th>\n",
       "      <td>24-HOUR MAN/EMMANUEL</td>\n",
       "      <td>Hero</td>\n",
       "      <td>2</td>\n",
       "      <td>30</td>\n",
       "    </tr>\n",
       "    <tr>\n",
       "      <th>2</th>\n",
       "      <td>24-HOUR MAN/EMMANUEL</td>\n",
       "      <td>Hero</td>\n",
       "      <td>3</td>\n",
       "      <td>1281</td>\n",
       "    </tr>\n",
       "    <tr>\n",
       "      <th>3</th>\n",
       "      <td>24-HOUR MAN/EMMANUEL</td>\n",
       "      <td>Hero</td>\n",
       "      <td>4</td>\n",
       "      <td>5008</td>\n",
       "    </tr>\n",
       "    <tr>\n",
       "      <th>4</th>\n",
       "      <td>24-HOUR MAN/EMMANUEL</td>\n",
       "      <td>Hero</td>\n",
       "      <td>5</td>\n",
       "      <td>78</td>\n",
       "    </tr>\n",
       "    <tr>\n",
       "      <th>...</th>\n",
       "      <td>...</td>\n",
       "      <td>...</td>\n",
       "      <td>...</td>\n",
       "      <td>...</td>\n",
       "    </tr>\n",
       "    <tr>\n",
       "      <th>25537</th>\n",
       "      <td>ZURI</td>\n",
       "      <td>Hero</td>\n",
       "      <td>4</td>\n",
       "      <td>10</td>\n",
       "    </tr>\n",
       "    <tr>\n",
       "      <th>25538</th>\n",
       "      <td>ZZZAX</td>\n",
       "      <td>Villain</td>\n",
       "      <td>1</td>\n",
       "      <td>30</td>\n",
       "    </tr>\n",
       "    <tr>\n",
       "      <th>25539</th>\n",
       "      <td>ZZZAX</td>\n",
       "      <td>Villain</td>\n",
       "      <td>2</td>\n",
       "      <td>3150</td>\n",
       "    </tr>\n",
       "    <tr>\n",
       "      <th>25540</th>\n",
       "      <td>ZZZAX</td>\n",
       "      <td>Villain</td>\n",
       "      <td>3</td>\n",
       "      <td>3207</td>\n",
       "    </tr>\n",
       "    <tr>\n",
       "      <th>25541</th>\n",
       "      <td>ZZZAX</td>\n",
       "      <td>Villain</td>\n",
       "      <td>4</td>\n",
       "      <td>15</td>\n",
       "    </tr>\n",
       "  </tbody>\n",
       "</table>\n",
       "<p>25542 rows × 4 columns</p>\n",
       "</div>"
      ],
      "text/plain": [
       "                       name     type  distance  total_ct\n",
       "0      24-HOUR MAN/EMMANUEL     Hero         1         5\n",
       "1      24-HOUR MAN/EMMANUEL     Hero         2        30\n",
       "2      24-HOUR MAN/EMMANUEL     Hero         3      1281\n",
       "3      24-HOUR MAN/EMMANUEL     Hero         4      5008\n",
       "4      24-HOUR MAN/EMMANUEL     Hero         5        78\n",
       "...                     ...      ...       ...       ...\n",
       "25537                  ZURI     Hero         4        10\n",
       "25538                 ZZZAX  Villain         1        30\n",
       "25539                 ZZZAX  Villain         2      3150\n",
       "25540                 ZZZAX  Villain         3      3207\n",
       "25541                 ZZZAX  Villain         4        15\n",
       "\n",
       "[25542 rows x 4 columns]"
      ]
     },
     "execution_count": 24,
     "metadata": {},
     "output_type": "execute_result"
    }
   ],
   "source": [
    "uni_neighbors = pd.DataFrame(uni_session.run('''MATCH (h:Hero)\n",
    "    call apoc.path.spanningTree(h, {minLevel: 1, labelFilter:'>Hero'})\n",
    "    YIELD path\n",
    "    RETURN h.name as name, labels(h)[-1] as type, length(path) as distance, count(path) as total_ct''').data())\n",
    "uni_neighbors"
   ]
  },
  {
   "cell_type": "code",
   "execution_count": 25,
   "id": "24c79a2f-acbd-449e-860b-a5d017025d73",
   "metadata": {},
   "outputs": [
    {
     "name": "stderr",
     "output_type": "stream",
     "text": [
      "C:\\Users\\jfish\\anaconda3\\lib\\site-packages\\ipykernel\\ipkernel.py:287: DeprecationWarning: `should_run_async` will not call `transform_cell` automatically in the future. Please pass the result to `transformed_cell` argument and any exception that happen during thetransform in `preprocessing_exc_tuple` in IPython 7.17 and above.\n",
      "  and should_run_async(code)\n"
     ]
    }
   ],
   "source": [
    "total_peeps = uni_neighbors['name'].nunique()"
   ]
  },
  {
   "cell_type": "code",
   "execution_count": 31,
   "id": "c0c9d475-7926-43a7-9a1e-6bf7458a2812",
   "metadata": {},
   "outputs": [
    {
     "data": {
      "text/plain": [
       "6421"
      ]
     },
     "execution_count": 31,
     "metadata": {},
     "output_type": "execute_result"
    }
   ],
   "source": [
    "total_peeps"
   ]
  },
  {
   "cell_type": "code",
   "execution_count": 26,
   "id": "80e590e3-9053-47e4-8d3f-36a3279cc631",
   "metadata": {},
   "outputs": [
    {
     "data": {
      "text/html": [
       "<div>\n",
       "<style scoped>\n",
       "    .dataframe tbody tr th:only-of-type {\n",
       "        vertical-align: middle;\n",
       "    }\n",
       "\n",
       "    .dataframe tbody tr th {\n",
       "        vertical-align: top;\n",
       "    }\n",
       "\n",
       "    .dataframe thead th {\n",
       "        text-align: right;\n",
       "    }\n",
       "</style>\n",
       "<table border=\"1\" class=\"dataframe\">\n",
       "  <thead>\n",
       "    <tr style=\"text-align: right;\">\n",
       "      <th></th>\n",
       "      <th>distance</th>\n",
       "      <th>total_ct</th>\n",
       "    </tr>\n",
       "  </thead>\n",
       "  <tbody>\n",
       "    <tr>\n",
       "      <th>0</th>\n",
       "      <td>1</td>\n",
       "      <td>343288</td>\n",
       "    </tr>\n",
       "    <tr>\n",
       "      <th>1</th>\n",
       "      <td>2</td>\n",
       "      <td>15350712</td>\n",
       "    </tr>\n",
       "    <tr>\n",
       "      <th>2</th>\n",
       "      <td>3</td>\n",
       "      <td>24418328</td>\n",
       "    </tr>\n",
       "    <tr>\n",
       "      <th>3</th>\n",
       "      <td>4</td>\n",
       "      <td>876840</td>\n",
       "    </tr>\n",
       "    <tr>\n",
       "      <th>4</th>\n",
       "      <td>5</td>\n",
       "      <td>2954</td>\n",
       "    </tr>\n",
       "  </tbody>\n",
       "</table>\n",
       "</div>"
      ],
      "text/plain": [
       "   distance  total_ct\n",
       "0         1    343288\n",
       "1         2  15350712\n",
       "2         3  24418328\n",
       "3         4    876840\n",
       "4         5      2954"
      ]
     },
     "execution_count": 26,
     "metadata": {},
     "output_type": "execute_result"
    }
   ],
   "source": [
    "mean_dist_df = uni_neighbors[['distance', 'total_ct']].groupby('distance').agg('sum')\n",
    "mean_dist_df = mean_dist_df.reset_index()\n",
    "mean_dist_df"
   ]
  },
  {
   "cell_type": "code",
   "execution_count": 27,
   "id": "24849bb7-8ae0-40bf-bebd-f8d564c23ff0",
   "metadata": {},
   "outputs": [
    {
     "name": "stderr",
     "output_type": "stream",
     "text": [
      "C:\\Users\\jfish\\anaconda3\\lib\\site-packages\\ipykernel\\ipkernel.py:287: DeprecationWarning: `should_run_async` will not call `transform_cell` automatically in the future. Please pass the result to `transformed_cell` argument and any exception that happen during thetransform in `preprocessing_exc_tuple` in IPython 7.17 and above.\n",
      "  and should_run_async(code)\n"
     ]
    },
    {
     "data": {
      "text/html": [
       "<div>\n",
       "<style scoped>\n",
       "    .dataframe tbody tr th:only-of-type {\n",
       "        vertical-align: middle;\n",
       "    }\n",
       "\n",
       "    .dataframe tbody tr th {\n",
       "        vertical-align: top;\n",
       "    }\n",
       "\n",
       "    .dataframe thead th {\n",
       "        text-align: right;\n",
       "    }\n",
       "</style>\n",
       "<table border=\"1\" class=\"dataframe\">\n",
       "  <thead>\n",
       "    <tr style=\"text-align: right;\">\n",
       "      <th></th>\n",
       "      <th>distance</th>\n",
       "      <th>total_ct</th>\n",
       "      <th>total_nbr_steps</th>\n",
       "    </tr>\n",
       "  </thead>\n",
       "  <tbody>\n",
       "    <tr>\n",
       "      <th>0</th>\n",
       "      <td>1</td>\n",
       "      <td>343288</td>\n",
       "      <td>343288</td>\n",
       "    </tr>\n",
       "    <tr>\n",
       "      <th>1</th>\n",
       "      <td>2</td>\n",
       "      <td>15350712</td>\n",
       "      <td>30701424</td>\n",
       "    </tr>\n",
       "    <tr>\n",
       "      <th>2</th>\n",
       "      <td>3</td>\n",
       "      <td>24418328</td>\n",
       "      <td>73254984</td>\n",
       "    </tr>\n",
       "    <tr>\n",
       "      <th>3</th>\n",
       "      <td>4</td>\n",
       "      <td>876840</td>\n",
       "      <td>3507360</td>\n",
       "    </tr>\n",
       "    <tr>\n",
       "      <th>4</th>\n",
       "      <td>5</td>\n",
       "      <td>2954</td>\n",
       "      <td>14770</td>\n",
       "    </tr>\n",
       "  </tbody>\n",
       "</table>\n",
       "</div>"
      ],
      "text/plain": [
       "   distance  total_ct  total_nbr_steps\n",
       "0         1    343288           343288\n",
       "1         2  15350712         30701424\n",
       "2         3  24418328         73254984\n",
       "3         4    876840          3507360\n",
       "4         5      2954            14770"
      ]
     },
     "execution_count": 27,
     "metadata": {},
     "output_type": "execute_result"
    }
   ],
   "source": [
    "mean_dist_df['total_nbr_steps'] = mean_dist_df['total_ct'] * mean_dist_df['distance']\n",
    "mean_dist_df"
   ]
  },
  {
   "cell_type": "code",
   "execution_count": 29,
   "id": "e8150882-1cdd-46d6-8faa-0d872b428eaf",
   "metadata": {},
   "outputs": [
    {
     "data": {
      "text/plain": [
       "107821826"
      ]
     },
     "execution_count": 29,
     "metadata": {},
     "output_type": "execute_result"
    }
   ],
   "source": [
    "mean_dist_df['total_nbr_steps'].agg('sum')"
   ]
  },
  {
   "cell_type": "code",
   "execution_count": 30,
   "id": "69cc8684-e93c-4862-84fc-e26c670e18ad",
   "metadata": {},
   "outputs": [
    {
     "data": {
      "text/plain": [
       "41222820"
      ]
     },
     "execution_count": 30,
     "metadata": {},
     "output_type": "execute_result"
    }
   ],
   "source": [
    "(total_peeps * (total_peeps-1))"
   ]
  },
  {
   "cell_type": "code",
   "execution_count": 28,
   "id": "0eb6cc25-d9f6-4ae9-9e4e-732c5d372c9a",
   "metadata": {},
   "outputs": [
    {
     "name": "stderr",
     "output_type": "stream",
     "text": [
      "C:\\Users\\jfish\\anaconda3\\lib\\site-packages\\ipykernel\\ipkernel.py:287: DeprecationWarning: `should_run_async` will not call `transform_cell` automatically in the future. Please pass the result to `transformed_cell` argument and any exception that happen during thetransform in `preprocessing_exc_tuple` in IPython 7.17 and above.\n",
      "  and should_run_async(code)\n"
     ]
    },
    {
     "data": {
      "text/plain": [
       "2.61558588180042"
      ]
     },
     "execution_count": 28,
     "metadata": {},
     "output_type": "execute_result"
    }
   ],
   "source": [
    "mean_dist_df['total_nbr_steps'].agg('sum')/(total_peeps * (total_peeps-1))"
   ]
  },
  {
   "cell_type": "code",
   "execution_count": null,
   "id": "35f28fd8-c66d-4206-b950-cb196d4d69b8",
   "metadata": {},
   "outputs": [],
   "source": []
  }
 ],
 "metadata": {
  "kernelspec": {
   "display_name": "Python 3",
   "language": "python",
   "name": "python3"
  },
  "language_info": {
   "codemirror_mode": {
    "name": "ipython",
    "version": 3
   },
   "file_extension": ".py",
   "mimetype": "text/x-python",
   "name": "python",
   "nbconvert_exporter": "python",
   "pygments_lexer": "ipython3",
   "version": "3.8.8"
  }
 },
 "nbformat": 4,
 "nbformat_minor": 5
}
