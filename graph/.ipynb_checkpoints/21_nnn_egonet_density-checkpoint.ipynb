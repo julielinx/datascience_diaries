{
 "cells": [
  {
   "cell_type": "markdown",
   "id": "c89612ce-115c-4913-bb3a-f0320a224267",
   "metadata": {},
   "source": [
    "# Entry 21: Next Nearest Neighbor Egonet Density"
   ]
  },
  {
   "cell_type": "code",
   "execution_count": null,
   "id": "2d489ebc-99a4-400e-a74e-25b52c05084b",
   "metadata": {},
   "outputs": [],
   "source": []
  }
 ],
 "metadata": {
  "kernelspec": {
   "display_name": "Python 3",
   "language": "python",
   "name": "python3"
  },
  "language_info": {
   "codemirror_mode": {
    "name": "ipython",
    "version": 3
   },
   "file_extension": ".py",
   "mimetype": "text/x-python",
   "name": "python",
   "nbconvert_exporter": "python",
   "pygments_lexer": "ipython3",
   "version": "3.8.8"
  }
 },
 "nbformat": 4,
 "nbformat_minor": 5
}
