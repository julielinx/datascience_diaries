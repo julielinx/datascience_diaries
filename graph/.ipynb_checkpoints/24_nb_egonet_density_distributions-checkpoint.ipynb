{
 "cells": [
  {
   "cell_type": "markdown",
   "id": "e0e275e1-545f-4dce-bf4b-8628d5d8ee76",
   "metadata": {},
   "source": [
    "# Entry 24 notebook: Egonet Density Distributions"
   ]
  },
  {
   "cell_type": "code",
   "execution_count": null,
   "id": "1a507bab-44fc-4f04-947e-80baa573e2ec",
   "metadata": {},
   "outputs": [],
   "source": [
    "def stacked_hist_w_log1(df, plot_title = None, col_names=['total_ct', 'villain_ct', 'villain_pct']):\n",
    "    distances = df.sort_values('distance')['distance'].unique()\n",
    "    col_plots = 2\n",
    "    row_plots = len(distances) * len(col_names)\n",
    "    x_size = col_plots *6\n",
    "    y_size = row_plots *4\n",
    "    row_nbr = 0\n",
    "    fig, axes = plt.subplots(row_plots, col_plots, figsize=(x_size,y_size))\n",
    "    fig.suptitle(plot_title)\n",
    "    for dist in distances:\n",
    "        for col_name in col_names:\n",
    "            for col in range(col_plots):\n",
    "                dframe = df.loc[df['distance'] == dist, ['name', 'type', col_name]]\n",
    "                sns.histplot(dframe, ax = axes[row_nbr, col], x=col_name, hue='type', stat='count', multiple='stack')\n",
    "                if col == 0:\n",
    "                    axes[row_nbr, col].set_title(col_name + ', Distance: '+ str(dist))\n",
    "                else:\n",
    "                    axes[row_nbr, col].set_yscale('log')\n",
    "                    axes[row_nbr, col].set_title(col_name + ', Distance: ' + str(dist) + ' log')\n",
    "            row_nbr += 1\n",
    "    plt.tight_layout()\n",
    "    plt.show()\n",
    "    \n",
    "def stacked_hist_w_log2(df, plot_title = None, col_names=['total_ct', 'villain_ct', 'villain_pct']):\n",
    "    distances = df.sort_values('distance')['distance'].unique()\n",
    "    col_plots = 2\n",
    "    row_plots = len(distances) * len(col_names)\n",
    "    x_size = col_plots *6\n",
    "    y_size = row_plots *4\n",
    "    row_nbr = 0\n",
    "    fig, axes = plt.subplots(row_plots, col_plots, figsize=(x_size,y_size))\n",
    "    fig.suptitle(plot_title)\n",
    "    for col_name in col_names:\n",
    "        for dist in distances:\n",
    "            for col in range(col_plots):\n",
    "                dframe = df.loc[df['distance'] == dist, ['name', 'type', col_name]]\n",
    "                sns.histplot(dframe, ax = axes[row_nbr, col], x=col_name, hue='type', stat='count', multiple='stack')\n",
    "                if col == 0:\n",
    "                    axes[row_nbr, col].set_title(col_name + ', Distance: '+ str(dist))\n",
    "                else:\n",
    "                    axes[row_nbr, col].set_yscale('log')\n",
    "                    axes[row_nbr, col].set_title(col_name + ', Distance: ' + str(dist) + ' log')\n",
    "            row_nbr += 1\n",
    "    plt.tight_layout()\n",
    "    plt.show()"
   ]
  }
 ],
 "metadata": {
  "kernelspec": {
   "display_name": "Python 3",
   "language": "python",
   "name": "python3"
  },
  "language_info": {
   "codemirror_mode": {
    "name": "ipython",
    "version": 3
   },
   "file_extension": ".py",
   "mimetype": "text/x-python",
   "name": "python",
   "nbconvert_exporter": "python",
   "pygments_lexer": "ipython3",
   "version": "3.8.8"
  }
 },
 "nbformat": 4,
 "nbformat_minor": 5
}
