{
 "cells": [
  {
   "cell_type": "markdown",
   "metadata": {},
   "source": [
    "# Entry ?? - Query Tuning and Optimization"
   ]
  },
  {
   "cell_type": "markdown",
   "metadata": {},
   "source": [
    "# Resources\n",
    "\n",
    "## Tuning/optimization\n",
    "\n",
    "- [Cypher Query Optimisations](https://medium.com/neo4j/cypher-query-optimisations-fe0539ce2e5c)\n",
    "- [Query Tuning](https://neo4j.com/docs/cypher-manual/current/query-tuning/)\n",
    "- [Cypher Query Tuning with Graph Academy](https://neo4j.com/graphacademy/training-cqt-40/enrollment/)\n",
    "- [Performance](https://neo4j.com/docs/operations-manual/current/performance/)\n",
    "- [Monitoring Neo4j Servers and Clusters](https://neo4j.com/blog/monitoring-neo4j-servers-clusters/)\n",
    "- [Neo4j GraphAcademy](https://neo4j.com/graphacademy/online-training/)\n",
    "- [Graph Analytics for Big Data](https://www.coursera.org/learn/big-data-graph-analytics)\n",
    "- [Graph Database Chronicles Episode I](https://vimeo.com/412062101/f779f65d71)\n",
    "- [Tuning Cypher queries by understanding cardinality](https://neo4j.com/developer/kb/understanding-cypher-cardinality/)\n",
    "\n",
    "## Execution time/memory\n",
    "\n",
    "- [Is this Neo4j comparison to RDBMS execution time correct?](https://datascience.stackexchange.com/questions/77/is-this-neo4j-comparison-to-rdbms-execution-time-correct)\n",
    "- [Execution time of cypher query](https://community.neo4j.com/t/execution-time-of-cypher-query/10674)\n",
    "- [How to estimate initial memory configuration](https://neo4j.com/developer/kb/how-to-estimate-initial-memory-configuration/)\n",
    "- [Understanding the Query Plan Cache](https://neo4j.com/developer/kb/understanding-the-query-plan-cache/)\n",
    "- [Understanding Neo4j Query Plan Caching](https://neo4j.com/developer/kb/understanding-neo4j-query-plan-caching/)\n",
    "- [Understanding memory consumption](https://neo4j.com/developer/kb/understanding-memory-consumption/)\n"
   ]
  }
 ],
 "metadata": {
  "kernelspec": {
   "display_name": "Python 3",
   "language": "python",
   "name": "python3"
  },
  "language_info": {
   "codemirror_mode": {
    "name": "ipython",
    "version": 3
   },
   "file_extension": ".py",
   "mimetype": "text/x-python",
   "name": "python",
   "nbconvert_exporter": "python",
   "pygments_lexer": "ipython3",
   "version": "3.7.6"
  }
 },
 "nbformat": 4,
 "nbformat_minor": 4
}
