{
 "cells": [
  {
   "cell_type": "markdown",
   "metadata": {},
   "source": [
    "# Entry 23b notebook: Next Nearest Neighbor Egonet Densities"
   ]
  },
  {
   "cell_type": "code",
   "execution_count": 1,
   "metadata": {},
   "outputs": [],
   "source": [
    "import numpy as np\n",
    "import pandas as pd\n",
    "import matplotlib.pyplot as plt\n",
    "import seaborn as sns\n",
    "plt.style.use('ggplot')\n",
    "%matplotlib inline\n",
    "\n",
    "import warnings\n",
    "warnings.filterwarnings('once')\n",
    "\n",
    "from neo4j import GraphDatabase"
   ]
  },
  {
   "cell_type": "code",
   "execution_count": 2,
   "metadata": {},
   "outputs": [
    {
     "name": "stderr",
     "output_type": "stream",
     "text": [
      "C:\\Users\\jfish\\anaconda3\\lib\\site-packages\\ipykernel\\ipkernel.py:287: DeprecationWarning: `should_run_async` will not call `transform_cell` automatically in the future. Please pass the result to `transformed_cell` argument and any exception that happen during thetransform in `preprocessing_exc_tuple` in IPython 7.17 and above.\n",
      "  and should_run_async(code)\n"
     ]
    }
   ],
   "source": [
    "uri = \"bolt://localhost:7687\"\n",
    "\n",
    "driver = GraphDatabase.driver(uri, auth=('neo4j', 'password'))\n",
    "\n",
    "uni_session = driver.session(database=\"unimodal\")\n",
    "bi_session = driver.session(database=\"bimodal\")\n",
    "mix_session = driver.session(database=\"mixmodal\")"
   ]
  },
  {
   "cell_type": "code",
   "execution_count": 3,
   "metadata": {},
   "outputs": [],
   "source": [
    "def local_densities(con, model_type='uni', max_level=2):\n",
    "    if model_type == 'uni' or model_type == 'mix':\n",
    "        rel_type = 'KNOWS'\n",
    "        subgraph_query = '''MATCH (h:Hero)\n",
    "        call apoc.path.subgraphAll(h, {maxLevel:'''  + f\"{max_level}, relationshipFilter:'{rel_type}'\" + '''})\n",
    "        YIELD nodes, relationships\n",
    "        RETURN h.name as hero, labels(h)[-1] as h_type, size(relationships) as rel_ct, 'na' as node_type, size(nodes) as node_ct'''\n",
    "    else:\n",
    "        max_level = max_level * 2\n",
    "        rel_type = 'APPEARS_IN'\n",
    "        subgraph_query = '''MATCH (h:Hero)\n",
    "        call apoc.path.subgraphAll(h, {maxLevel:'''  + f\"{max_level}, relationshipFilter:'{rel_type}'\" + '''})\n",
    "        YIELD nodes, relationships\n",
    "        WITH h.name as hero, labels(h)[-1] as h_type, nodes, size(relationships) as rel_ct\n",
    "        UNWIND nodes as indv_node\n",
    "        RETURN hero, h_type, rel_ct, labels(indv_node)[0] as node_type, count(indv_node) as node_ct'''\n",
    "    \n",
    "    df = pd.DataFrame(con.run(subgraph_query).data())\n",
    "    df.columns = ['hero', 'h_type', 'rel_ct', 'node_type', 'node_ct']\n",
    "    \n",
    "    if model_type == 'uni' or model_type == 'mix':\n",
    "        df['p_rel_ct'] = (df['node_ct'] * (df['node_ct'] - 1)) / 2\n",
    "    else:\n",
    "        df = pd.pivot_table(df, index=['hero', 'h_type', 'rel_ct'], columns='node_type', values='node_ct').reset_index()\n",
    "        df['p_rel_ct'] = df['Hero'] * df['Comic']\n",
    "        \n",
    "    df['density'] = df['rel_ct'] / df['p_rel_ct']\n",
    "    return df"
   ]
  },
  {
   "cell_type": "markdown",
   "metadata": {},
   "source": [
    "## Uni Densities Nearest Neighbors"
   ]
  },
  {
   "cell_type": "code",
   "execution_count": 4,
   "metadata": {},
   "outputs": [
    {
     "data": {
      "text/html": [
       "<div>\n",
       "<style scoped>\n",
       "    .dataframe tbody tr th:only-of-type {\n",
       "        vertical-align: middle;\n",
       "    }\n",
       "\n",
       "    .dataframe tbody tr th {\n",
       "        vertical-align: top;\n",
       "    }\n",
       "\n",
       "    .dataframe thead th {\n",
       "        text-align: right;\n",
       "    }\n",
       "</style>\n",
       "<table border=\"1\" class=\"dataframe\">\n",
       "  <thead>\n",
       "    <tr style=\"text-align: right;\">\n",
       "      <th></th>\n",
       "      <th>hero</th>\n",
       "      <th>h_type</th>\n",
       "      <th>rel_ct</th>\n",
       "      <th>node_type</th>\n",
       "      <th>node_ct</th>\n",
       "      <th>p_rel_ct</th>\n",
       "      <th>density</th>\n",
       "    </tr>\n",
       "  </thead>\n",
       "  <tbody>\n",
       "    <tr>\n",
       "      <th>0</th>\n",
       "      <td>24-HOUR MAN/EMMANUEL</td>\n",
       "      <td>Hero</td>\n",
       "      <td>229</td>\n",
       "      <td>na</td>\n",
       "      <td>36</td>\n",
       "      <td>630.0</td>\n",
       "      <td>0.363492</td>\n",
       "    </tr>\n",
       "    <tr>\n",
       "      <th>1</th>\n",
       "      <td>3-D MAN/CHARLES CHAN</td>\n",
       "      <td>Hero</td>\n",
       "      <td>163160</td>\n",
       "      <td>na</td>\n",
       "      <td>5534</td>\n",
       "      <td>15309811.0</td>\n",
       "      <td>0.010657</td>\n",
       "    </tr>\n",
       "    <tr>\n",
       "      <th>2</th>\n",
       "      <td>4-D MAN/MERCURIO</td>\n",
       "      <td>Villain</td>\n",
       "      <td>140971</td>\n",
       "      <td>na</td>\n",
       "      <td>3822</td>\n",
       "      <td>7301931.0</td>\n",
       "      <td>0.019306</td>\n",
       "    </tr>\n",
       "    <tr>\n",
       "      <th>3</th>\n",
       "      <td>8-BALL/</td>\n",
       "      <td>Hero</td>\n",
       "      <td>3770</td>\n",
       "      <td>na</td>\n",
       "      <td>139</td>\n",
       "      <td>9591.0</td>\n",
       "      <td>0.393077</td>\n",
       "    </tr>\n",
       "    <tr>\n",
       "      <th>4</th>\n",
       "      <td>ABBOTT, JACK</td>\n",
       "      <td>Hero</td>\n",
       "      <td>88796</td>\n",
       "      <td>na</td>\n",
       "      <td>2108</td>\n",
       "      <td>2220778.0</td>\n",
       "      <td>0.039984</td>\n",
       "    </tr>\n",
       "    <tr>\n",
       "      <th>...</th>\n",
       "      <td>...</td>\n",
       "      <td>...</td>\n",
       "      <td>...</td>\n",
       "      <td>...</td>\n",
       "      <td>...</td>\n",
       "      <td>...</td>\n",
       "      <td>...</td>\n",
       "    </tr>\n",
       "    <tr>\n",
       "      <th>6434</th>\n",
       "      <td>ZOTA, CARLO</td>\n",
       "      <td>Hero</td>\n",
       "      <td>152142</td>\n",
       "      <td>na</td>\n",
       "      <td>4668</td>\n",
       "      <td>10892778.0</td>\n",
       "      <td>0.013967</td>\n",
       "    </tr>\n",
       "    <tr>\n",
       "      <th>6435</th>\n",
       "      <td>ZOTA</td>\n",
       "      <td>Hero</td>\n",
       "      <td>64116</td>\n",
       "      <td>na</td>\n",
       "      <td>1303</td>\n",
       "      <td>848253.0</td>\n",
       "      <td>0.075586</td>\n",
       "    </tr>\n",
       "    <tr>\n",
       "      <th>6436</th>\n",
       "      <td>ZURAS</td>\n",
       "      <td>Hero</td>\n",
       "      <td>110841</td>\n",
       "      <td>na</td>\n",
       "      <td>2565</td>\n",
       "      <td>3288330.0</td>\n",
       "      <td>0.033707</td>\n",
       "    </tr>\n",
       "    <tr>\n",
       "      <th>6437</th>\n",
       "      <td>ZURI</td>\n",
       "      <td>Hero</td>\n",
       "      <td>153453</td>\n",
       "      <td>na</td>\n",
       "      <td>4711</td>\n",
       "      <td>11094405.0</td>\n",
       "      <td>0.013832</td>\n",
       "    </tr>\n",
       "    <tr>\n",
       "      <th>6438</th>\n",
       "      <td>ZZZAX</td>\n",
       "      <td>Villain</td>\n",
       "      <td>124207</td>\n",
       "      <td>na</td>\n",
       "      <td>3181</td>\n",
       "      <td>5057790.0</td>\n",
       "      <td>0.024558</td>\n",
       "    </tr>\n",
       "  </tbody>\n",
       "</table>\n",
       "<p>6439 rows × 7 columns</p>\n",
       "</div>"
      ],
      "text/plain": [
       "                      hero   h_type  rel_ct node_type  node_ct    p_rel_ct  \\\n",
       "0     24-HOUR MAN/EMMANUEL     Hero     229        na       36       630.0   \n",
       "1     3-D MAN/CHARLES CHAN     Hero  163160        na     5534  15309811.0   \n",
       "2         4-D MAN/MERCURIO  Villain  140971        na     3822   7301931.0   \n",
       "3                  8-BALL/     Hero    3770        na      139      9591.0   \n",
       "4             ABBOTT, JACK     Hero   88796        na     2108   2220778.0   \n",
       "...                    ...      ...     ...       ...      ...         ...   \n",
       "6434           ZOTA, CARLO     Hero  152142        na     4668  10892778.0   \n",
       "6435                  ZOTA     Hero   64116        na     1303    848253.0   \n",
       "6436                 ZURAS     Hero  110841        na     2565   3288330.0   \n",
       "6437                  ZURI     Hero  153453        na     4711  11094405.0   \n",
       "6438                 ZZZAX  Villain  124207        na     3181   5057790.0   \n",
       "\n",
       "       density  \n",
       "0     0.363492  \n",
       "1     0.010657  \n",
       "2     0.019306  \n",
       "3     0.393077  \n",
       "4     0.039984  \n",
       "...        ...  \n",
       "6434  0.013967  \n",
       "6435  0.075586  \n",
       "6436  0.033707  \n",
       "6437  0.013832  \n",
       "6438  0.024558  \n",
       "\n",
       "[6439 rows x 7 columns]"
      ]
     },
     "execution_count": 4,
     "metadata": {},
     "output_type": "execute_result"
    }
   ],
   "source": [
    "uni_densities = local_densities(uni_session)\n",
    "uni_densities.to_csv('data/uni_nnn_densities.csv')\n",
    "uni_densities"
   ]
  },
  {
   "cell_type": "code",
   "execution_count": null,
   "metadata": {},
   "outputs": [],
   "source": [
    "uni_densities.describe()"
   ]
  },
  {
   "cell_type": "markdown",
   "metadata": {},
   "source": [
    "## Bi Densities Nearest Neighbors"
   ]
  },
  {
   "cell_type": "code",
   "execution_count": null,
   "metadata": {},
   "outputs": [
    {
     "name": "stderr",
     "output_type": "stream",
     "text": [
      "C:\\Users\\jfish\\anaconda3\\lib\\site-packages\\ipykernel\\ipkernel.py:287: DeprecationWarning: `should_run_async` will not call `transform_cell` automatically in the future. Please pass the result to `transformed_cell` argument and any exception that happen during thetransform in `preprocessing_exc_tuple` in IPython 7.17 and above.\n",
      "  and should_run_async(code)\n"
     ]
    }
   ],
   "source": [
    "bi_densities = local_densities(bi_session, model_type='bi')\n",
    "bi_densities.to_csv('data/bi_nnn_densities.csv')\n",
    "bi_densities"
   ]
  },
  {
   "cell_type": "code",
   "execution_count": null,
   "metadata": {},
   "outputs": [],
   "source": [
    "bi_densities.describe()"
   ]
  },
  {
   "cell_type": "markdown",
   "metadata": {},
   "source": [
    "## Mixed Uni Densities Nearest Neighbors "
   ]
  },
  {
   "cell_type": "code",
   "execution_count": null,
   "metadata": {},
   "outputs": [],
   "source": [
    "mix_uni_densities = local_densities(mix_session)\n",
    "mix_uni_densities.to_csv('data/mix_uni_nnn_densities.csv')\n",
    "mix_uni_densities"
   ]
  },
  {
   "cell_type": "code",
   "execution_count": null,
   "metadata": {},
   "outputs": [],
   "source": [
    "mix_uni_densities.describe()"
   ]
  },
  {
   "cell_type": "markdown",
   "metadata": {},
   "source": [
    "## Mixed Bi Densities Nearest Neighbors"
   ]
  },
  {
   "cell_type": "code",
   "execution_count": null,
   "metadata": {},
   "outputs": [],
   "source": [
    "mix_bi_densities = local_densities(mix_session, model_type='bi')\n",
    "mix_bi_densities.to_csv('data/mix_bi_nnn_densities.csv')\n",
    "mix_bi_densities"
   ]
  },
  {
   "cell_type": "code",
   "execution_count": null,
   "metadata": {},
   "outputs": [],
   "source": [
    "mix_bi_densities.describe()"
   ]
  },
  {
   "cell_type": "code",
   "execution_count": null,
   "metadata": {},
   "outputs": [],
   "source": []
  }
 ],
 "metadata": {
  "kernelspec": {
   "display_name": "Python 3",
   "language": "python",
   "name": "python3"
  },
  "language_info": {
   "codemirror_mode": {
    "name": "ipython",
    "version": 3
   },
   "file_extension": ".py",
   "mimetype": "text/x-python",
   "name": "python",
   "nbconvert_exporter": "python",
   "pygments_lexer": "ipython3",
   "version": "3.8.8"
  }
 },
 "nbformat": 4,
 "nbformat_minor": 4
}
