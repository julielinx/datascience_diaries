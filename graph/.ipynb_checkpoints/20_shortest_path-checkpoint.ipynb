{
 "cells": [
  {
   "cell_type": "markdown",
   "id": "f6cf5f86-521d-47fc-9da0-1c9899de3661",
   "metadata": {},
   "source": [
    "# Entry 20: Shortest Path to Villain"
   ]
  },
  {
   "cell_type": "markdown",
   "id": "f7722d9c-2d7c-4b29-a01a-f8730ed195bb",
   "metadata": {},
   "source": [
    "Based on the results from the [Entry G19c notebook](), most nodes will have a villain connection within one or two steps. But I wanted to see how far you *have* to travel before encountering a villain node - are there any more than two steps away? Also, I want to have this metric for future reference because other graphs may have longer distances to other nodes of interest.\n",
    "\n",
    "The quirk to the Marvel Universe Social Network is that there is almost always a villain in a given comic. With the way the bimodal network is projected to a unimodal network this means that pretty much every person node will be connected to a villain, as discussed in [Entry G5: Projecting Bimodal to Unimodal](https://julielinx.github.io/blog/g05_project_bimodal/).\n",
    "\n",
    "The only exceptions are villains (unless there is more than one villain in a comic, in which case they'll be connected to each other) or comics that have no villain.\n",
    "\n",
    "\n",
    "\n",
    "Last entry went over ego net and pulled composition at 1 and 2 steps. Now let's see how close the nearest villain is. As we saw in the last post, most heroes have a villain at 1 or 2 steps.\n",
    "\n",
    "Other shortest path use cases?"
   ]
  }
 ],
 "metadata": {
  "kernelspec": {
   "display_name": "Python 3",
   "language": "python",
   "name": "python3"
  },
  "language_info": {
   "codemirror_mode": {
    "name": "ipython",
    "version": 3
   },
   "file_extension": ".py",
   "mimetype": "text/x-python",
   "name": "python",
   "nbconvert_exporter": "python",
   "pygments_lexer": "ipython3",
   "version": "3.8.8"
  }
 },
 "nbformat": 4,
 "nbformat_minor": 5
}
