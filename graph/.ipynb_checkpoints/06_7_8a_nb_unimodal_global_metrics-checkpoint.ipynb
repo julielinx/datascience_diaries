{
 "cells": [
  {
   "cell_type": "markdown",
   "metadata": {},
   "source": [
    "# Entries G6, 7, 8 a notebook: Unimodal Graph Global Metrics"
   ]
  },
  {
   "cell_type": "code",
   "execution_count": 2,
   "metadata": {},
   "outputs": [],
   "source": [
    "import numpy as np\n",
    "import pandas as pd\n",
    "import matplotlib.pyplot as plt\n",
    "import seaborn as sns\n",
    "plt.style.use('ggplot')\n",
    "%matplotlib inline\n",
    "\n",
    "import warnings\n",
    "warnings.filterwarnings('once')\n",
    "\n",
    "from neo4j import GraphDatabase"
   ]
  },
  {
   "cell_type": "markdown",
   "metadata": {},
   "source": [
    "## Connect to the database\n",
    "\n",
    "The title of the post should give away which version of the database we're using: the unimodal version.\n",
    "\n",
    "#### 1. Open Neo4j and start the unimodal graph:\n",
    "\n",
    "Click `Start` to start the database\n",
    "\n",
    "<img src='https://github.com/julielinx/datascience_diaries/blob/master/graph/images/import_data1.png?raw=true'>\n",
    "\n",
    "<img src='https://github.com/julielinx/datascience_diaries/blob/master/graph/images/import_data2.png?raw=true'>\n",
    "\n",
    "#### 2. Connect the Jupyter notebook to the database\n",
    "\n",
    "For this I use the official driver. The `py2neo` package is nice, but the official driver stays up to date with Neo4j releases better. In particular, at the time of this writing, `py2neo` couldn't handle the changes in version 4.X which allow multiple graphs on the same cluster. This is one of the major benefits at my work and I need to be able to accomodate it."
   ]
  },
  {
   "cell_type": "code",
   "execution_count": 3,
   "metadata": {},
   "outputs": [
    {
     "name": "stderr",
     "output_type": "stream",
     "text": [
      "//anaconda3/lib/python3.7/site-packages/ipykernel/ipkernel.py:287: DeprecationWarning: `should_run_async` will not call `transform_cell` automatically in the future. Please pass the result to `transformed_cell` argument and any exception that happen during thetransform in `preprocessing_exc_tuple` in IPython 7.17 and above.\n",
      "  and should_run_async(code)\n"
     ]
    }
   ],
   "source": [
    "uri = \"bolt://localhost:7687\"\n",
    "\n",
    "driver = GraphDatabase.driver(uri, auth=('neo4j', 'password'))\n",
    "session = driver.session()"
   ]
  },
  {
   "cell_type": "markdown",
   "metadata": {},
   "source": [
    "#### 3. Look at the output\n",
    "\n",
    "I used `py2neo` right up to the version 4.X breaking changes, so I'm not terribly familar with what I get back from the different methods. Let's explore."
   ]
  },
  {
   "cell_type": "code",
   "execution_count": 4,
   "metadata": {},
   "outputs": [
    {
     "data": {
      "text/plain": [
       "[{'label': 'Hero'}, {'label': 'Comic'}]"
      ]
     },
     "execution_count": 4,
     "metadata": {},
     "output_type": "execute_result"
    }
   ],
   "source": [
    "session.run(\"CALL db.labels\").data()"
   ]
  },
  {
   "cell_type": "code",
   "execution_count": 12,
   "metadata": {},
   "outputs": [
    {
     "data": {
      "text/plain": [
       "['Hero', 'Comic']"
      ]
     },
     "execution_count": 12,
     "metadata": {},
     "output_type": "execute_result"
    }
   ],
   "source": [
    "session.run(\"CALL db.labels\").value()"
   ]
  },
  {
   "cell_type": "code",
   "execution_count": 13,
   "metadata": {},
   "outputs": [
    {
     "data": {
      "text/plain": [
       "[['Hero'], ['Comic']]"
      ]
     },
     "execution_count": 13,
     "metadata": {},
     "output_type": "execute_result"
    }
   ],
   "source": [
    "session.run(\"CALL db.labels\").values()"
   ]
  },
  {
   "cell_type": "code",
   "execution_count": 15,
   "metadata": {},
   "outputs": [
    {
     "data": {
      "text/plain": [
       "['label']"
      ]
     },
     "execution_count": 15,
     "metadata": {},
     "output_type": "execute_result"
    }
   ],
   "source": [
    "session.run(\"CALL db.labels\").keys()"
   ]
  },
  {
   "cell_type": "code",
   "execution_count": 16,
   "metadata": {},
   "outputs": [
    {
     "data": {
      "text/html": [
       "<div>\n",
       "<style scoped>\n",
       "    .dataframe tbody tr th:only-of-type {\n",
       "        vertical-align: middle;\n",
       "    }\n",
       "\n",
       "    .dataframe tbody tr th {\n",
       "        vertical-align: top;\n",
       "    }\n",
       "\n",
       "    .dataframe thead th {\n",
       "        text-align: right;\n",
       "    }\n",
       "</style>\n",
       "<table border=\"1\" class=\"dataframe\">\n",
       "  <thead>\n",
       "    <tr style=\"text-align: right;\">\n",
       "      <th></th>\n",
       "      <th>label</th>\n",
       "    </tr>\n",
       "  </thead>\n",
       "  <tbody>\n",
       "    <tr>\n",
       "      <th>0</th>\n",
       "      <td>Hero</td>\n",
       "    </tr>\n",
       "    <tr>\n",
       "      <th>1</th>\n",
       "      <td>Comic</td>\n",
       "    </tr>\n",
       "  </tbody>\n",
       "</table>\n",
       "</div>"
      ],
      "text/plain": [
       "   label\n",
       "0   Hero\n",
       "1  Comic"
      ]
     },
     "execution_count": 16,
     "metadata": {},
     "output_type": "execute_result"
    }
   ],
   "source": [
    "pd.DataFrame(session.run(\"CALL db.labels\").data())"
   ]
  },
  {
   "cell_type": "code",
   "execution_count": 26,
   "metadata": {},
   "outputs": [
    {
     "data": {
      "text/html": [
       "<div>\n",
       "<style scoped>\n",
       "    .dataframe tbody tr th:only-of-type {\n",
       "        vertical-align: middle;\n",
       "    }\n",
       "\n",
       "    .dataframe tbody tr th {\n",
       "        vertical-align: top;\n",
       "    }\n",
       "\n",
       "    .dataframe thead th {\n",
       "        text-align: right;\n",
       "    }\n",
       "</style>\n",
       "<table border=\"1\" class=\"dataframe\">\n",
       "  <thead>\n",
       "    <tr style=\"text-align: right;\">\n",
       "      <th></th>\n",
       "      <th>relationshipType</th>\n",
       "    </tr>\n",
       "  </thead>\n",
       "  <tbody>\n",
       "    <tr>\n",
       "      <th>0</th>\n",
       "      <td>KNOWS</td>\n",
       "    </tr>\n",
       "  </tbody>\n",
       "</table>\n",
       "</div>"
      ],
      "text/plain": [
       "  relationshipType\n",
       "0            KNOWS"
      ]
     },
     "execution_count": 26,
     "metadata": {},
     "output_type": "execute_result"
    }
   ],
   "source": [
    "pd.DataFrame(session.run('CALL db.relationshipTypes').data())"
   ]
  },
  {
   "cell_type": "code",
   "execution_count": 48,
   "metadata": {},
   "outputs": [
    {
     "data": {
      "text/plain": [
       "[{'nodeCount': 6439,\n",
       "  'relCount': 171613,\n",
       "  'labels': {'Hero': 6439},\n",
       "  'relTypesCount': {'KNOWS': 171613}}]"
      ]
     },
     "execution_count": 48,
     "metadata": {},
     "output_type": "execute_result"
    }
   ],
   "source": [
    "session.run(\"call apoc.meta.stats() YIELD nodeCount, relCount, labels, relTypesCount\").data()"
   ]
  },
  {
   "cell_type": "code",
   "execution_count": 49,
   "metadata": {},
   "outputs": [
    {
     "data": {
      "text/plain": [
       "[{'stats': {'relTypeCount': 2,\n",
       "   'propertyKeyCount': 2,\n",
       "   'labelCount': 2,\n",
       "   'nodeCount': 6439,\n",
       "   'relCount': 171613,\n",
       "   'labels': {'Hero': 6439},\n",
       "   'relTypes': {'()-[:KNOWS]->(:Hero)': 171613,\n",
       "    '()-[:KNOWS]->()': 171613,\n",
       "    '(:Hero)-[:KNOWS]->()': 171613}}}]"
      ]
     },
     "execution_count": 49,
     "metadata": {},
     "output_type": "execute_result"
    }
   ],
   "source": [
    "session.run(\"call apoc.meta.stats() YIELD stats\").data()"
   ]
  },
  {
   "cell_type": "code",
   "execution_count": 40,
   "metadata": {},
   "outputs": [
    {
     "data": {
      "text/plain": [
       "[{'Hero': 6439}]"
      ]
     },
     "execution_count": 40,
     "metadata": {},
     "output_type": "execute_result"
    }
   ],
   "source": [
    "session.run(\"call apoc.meta.stats() YIELD labels\").value()"
   ]
  },
  {
   "cell_type": "code",
   "execution_count": 41,
   "metadata": {},
   "outputs": [
    {
     "data": {
      "text/html": [
       "<div>\n",
       "<style scoped>\n",
       "    .dataframe tbody tr th:only-of-type {\n",
       "        vertical-align: middle;\n",
       "    }\n",
       "\n",
       "    .dataframe tbody tr th {\n",
       "        vertical-align: top;\n",
       "    }\n",
       "\n",
       "    .dataframe thead th {\n",
       "        text-align: right;\n",
       "    }\n",
       "</style>\n",
       "<table border=\"1\" class=\"dataframe\">\n",
       "  <thead>\n",
       "    <tr style=\"text-align: right;\">\n",
       "      <th></th>\n",
       "      <th>Hero</th>\n",
       "    </tr>\n",
       "  </thead>\n",
       "  <tbody>\n",
       "    <tr>\n",
       "      <th>0</th>\n",
       "      <td>6439</td>\n",
       "    </tr>\n",
       "  </tbody>\n",
       "</table>\n",
       "</div>"
      ],
      "text/plain": [
       "   Hero\n",
       "0  6439"
      ]
     },
     "execution_count": 41,
     "metadata": {},
     "output_type": "execute_result"
    }
   ],
   "source": [
    "pd.DataFrame(session.run(\"call apoc.meta.stats() YIELD labels\").value())"
   ]
  },
  {
   "cell_type": "markdown",
   "metadata": {},
   "source": [
    "## Node Count\n",
    "\n",
    "This is a very basic way to evaluate the size of a graph. You'll see as we go that the density of relationships says a lot more about the overall size of the graph, but a straight node count will at least tell you how many noun-things are in the graph.\n",
    "\n",
    "There are a couple of ways to get counts. I'll include several so that I have options when I get into the portion of this series where I evaluate how quickly I can gather this info."
   ]
  },
  {
   "cell_type": "markdown",
   "metadata": {},
   "source": [
    "1. Explicitly spell out what I want."
   ]
  },
  {
   "cell_type": "code",
   "execution_count": 31,
   "metadata": {},
   "outputs": [
    {
     "name": "stderr",
     "output_type": "stream",
     "text": [
      "//anaconda3/lib/python3.7/site-packages/ipykernel/ipkernel.py:287: DeprecationWarning: `should_run_async` will not call `transform_cell` automatically in the future. Please pass the result to `transformed_cell` argument and any exception that happen during thetransform in `preprocessing_exc_tuple` in IPython 7.17 and above.\n",
      "  and should_run_async(code)\n"
     ]
    },
    {
     "data": {
      "text/html": [
       "<div>\n",
       "<style scoped>\n",
       "    .dataframe tbody tr th:only-of-type {\n",
       "        vertical-align: middle;\n",
       "    }\n",
       "\n",
       "    .dataframe tbody tr th {\n",
       "        vertical-align: top;\n",
       "    }\n",
       "\n",
       "    .dataframe thead th {\n",
       "        text-align: right;\n",
       "    }\n",
       "</style>\n",
       "<table border=\"1\" class=\"dataframe\">\n",
       "  <thead>\n",
       "    <tr style=\"text-align: right;\">\n",
       "      <th></th>\n",
       "      <th>node_count</th>\n",
       "    </tr>\n",
       "  </thead>\n",
       "  <tbody>\n",
       "    <tr>\n",
       "      <th>0</th>\n",
       "      <td>6439</td>\n",
       "    </tr>\n",
       "  </tbody>\n",
       "</table>\n",
       "</div>"
      ],
      "text/plain": [
       "   node_count\n",
       "0        6439"
      ]
     },
     "execution_count": 31,
     "metadata": {},
     "output_type": "execute_result"
    }
   ],
   "source": [
    "pd.DataFrame(session.run('''MATCH (c)\n",
    "RETURN count(c) as node_count''').data())"
   ]
  },
  {
   "cell_type": "markdown",
   "metadata": {},
   "source": [
    "2. The `count()` function doesn't require variable names, so we can leave it blank and just look for all (*)"
   ]
  },
  {
   "cell_type": "code",
   "execution_count": 32,
   "metadata": {},
   "outputs": [
    {
     "name": "stderr",
     "output_type": "stream",
     "text": [
      "//anaconda3/lib/python3.7/site-packages/ipykernel/ipkernel.py:287: DeprecationWarning: `should_run_async` will not call `transform_cell` automatically in the future. Please pass the result to `transformed_cell` argument and any exception that happen during thetransform in `preprocessing_exc_tuple` in IPython 7.17 and above.\n",
      "  and should_run_async(code)\n"
     ]
    },
    {
     "data": {
      "text/html": [
       "<div>\n",
       "<style scoped>\n",
       "    .dataframe tbody tr th:only-of-type {\n",
       "        vertical-align: middle;\n",
       "    }\n",
       "\n",
       "    .dataframe tbody tr th {\n",
       "        vertical-align: top;\n",
       "    }\n",
       "\n",
       "    .dataframe thead th {\n",
       "        text-align: right;\n",
       "    }\n",
       "</style>\n",
       "<table border=\"1\" class=\"dataframe\">\n",
       "  <thead>\n",
       "    <tr style=\"text-align: right;\">\n",
       "      <th></th>\n",
       "      <th>node_count</th>\n",
       "    </tr>\n",
       "  </thead>\n",
       "  <tbody>\n",
       "    <tr>\n",
       "      <th>0</th>\n",
       "      <td>6439</td>\n",
       "    </tr>\n",
       "  </tbody>\n",
       "</table>\n",
       "</div>"
      ],
      "text/plain": [
       "   node_count\n",
       "0        6439"
      ]
     },
     "execution_count": 32,
     "metadata": {},
     "output_type": "execute_result"
    }
   ],
   "source": [
    "pd.DataFrame(session.run('''MATCH ()\n",
    "RETURN count(*) as node_count''').data())"
   ]
  },
  {
   "cell_type": "markdown",
   "metadata": {},
   "source": [
    "3. Counts by label\n",
    "\n",
    "If we only want to get counts for a specific label we can put that in the query."
   ]
  },
  {
   "cell_type": "code",
   "execution_count": 50,
   "metadata": {},
   "outputs": [
    {
     "data": {
      "text/html": [
       "<div>\n",
       "<style scoped>\n",
       "    .dataframe tbody tr th:only-of-type {\n",
       "        vertical-align: middle;\n",
       "    }\n",
       "\n",
       "    .dataframe tbody tr th {\n",
       "        vertical-align: top;\n",
       "    }\n",
       "\n",
       "    .dataframe thead th {\n",
       "        text-align: right;\n",
       "    }\n",
       "</style>\n",
       "<table border=\"1\" class=\"dataframe\">\n",
       "  <thead>\n",
       "    <tr style=\"text-align: right;\">\n",
       "      <th></th>\n",
       "      <th>node_count</th>\n",
       "    </tr>\n",
       "  </thead>\n",
       "  <tbody>\n",
       "    <tr>\n",
       "      <th>0</th>\n",
       "      <td>6439</td>\n",
       "    </tr>\n",
       "  </tbody>\n",
       "</table>\n",
       "</div>"
      ],
      "text/plain": [
       "   node_count\n",
       "0        6439"
      ]
     },
     "execution_count": 50,
     "metadata": {},
     "output_type": "execute_result"
    }
   ],
   "source": [
    "pd.DataFrame(session.run('''MATCH (:Hero)\n",
    "RETURN count(*) as node_count''').data())"
   ]
  },
  {
   "cell_type": "markdown",
   "metadata": {},
   "source": [
    "4. Use meta stats\n",
    "\n",
    "This is one of those handy things that the APOC library does for you. All you have to do is call the correct function and specify what you want.\n",
    "\n",
    "For a full list of what `apoc.meta.stats()` will yield see the [APOC Documentation: apoc.meta.stats](https://neo4j.com/labs/apoc/4.1/overview/apoc.meta/apoc.meta.stats/)"
   ]
  },
  {
   "cell_type": "code",
   "execution_count": 44,
   "metadata": {},
   "outputs": [
    {
     "name": "stderr",
     "output_type": "stream",
     "text": [
      "//anaconda3/lib/python3.7/site-packages/ipykernel/ipkernel.py:287: DeprecationWarning: `should_run_async` will not call `transform_cell` automatically in the future. Please pass the result to `transformed_cell` argument and any exception that happen during thetransform in `preprocessing_exc_tuple` in IPython 7.17 and above.\n",
      "  and should_run_async(code)\n"
     ]
    },
    {
     "data": {
      "text/html": [
       "<div>\n",
       "<style scoped>\n",
       "    .dataframe tbody tr th:only-of-type {\n",
       "        vertical-align: middle;\n",
       "    }\n",
       "\n",
       "    .dataframe tbody tr th {\n",
       "        vertical-align: top;\n",
       "    }\n",
       "\n",
       "    .dataframe thead th {\n",
       "        text-align: right;\n",
       "    }\n",
       "</style>\n",
       "<table border=\"1\" class=\"dataframe\">\n",
       "  <thead>\n",
       "    <tr style=\"text-align: right;\">\n",
       "      <th></th>\n",
       "      <th>Hero</th>\n",
       "    </tr>\n",
       "  </thead>\n",
       "  <tbody>\n",
       "    <tr>\n",
       "      <th>0</th>\n",
       "      <td>6439</td>\n",
       "    </tr>\n",
       "  </tbody>\n",
       "</table>\n",
       "</div>"
      ],
      "text/plain": [
       "   Hero\n",
       "0  6439"
      ]
     },
     "execution_count": 44,
     "metadata": {},
     "output_type": "execute_result"
    }
   ],
   "source": [
    "pd.DataFrame.from_dict(session.run(\"call apoc.meta.stats() YIELD labels\").value())"
   ]
  },
  {
   "cell_type": "markdown",
   "metadata": {},
   "source": [
    "## Isolate Count"
   ]
  },
  {
   "cell_type": "code",
   "execution_count": 34,
   "metadata": {},
   "outputs": [
    {
     "name": "stderr",
     "output_type": "stream",
     "text": [
      "//anaconda3/lib/python3.7/site-packages/ipykernel/ipkernel.py:287: DeprecationWarning: `should_run_async` will not call `transform_cell` automatically in the future. Please pass the result to `transformed_cell` argument and any exception that happen during thetransform in `preprocessing_exc_tuple` in IPython 7.17 and above.\n",
      "  and should_run_async(code)\n"
     ]
    },
    {
     "data": {
      "text/html": [
       "<div>\n",
       "<style scoped>\n",
       "    .dataframe tbody tr th:only-of-type {\n",
       "        vertical-align: middle;\n",
       "    }\n",
       "\n",
       "    .dataframe tbody tr th {\n",
       "        vertical-align: top;\n",
       "    }\n",
       "\n",
       "    .dataframe thead th {\n",
       "        text-align: right;\n",
       "    }\n",
       "</style>\n",
       "<table border=\"1\" class=\"dataframe\">\n",
       "  <thead>\n",
       "    <tr style=\"text-align: right;\">\n",
       "      <th></th>\n",
       "      <th>node_count</th>\n",
       "      <th>relation_ct</th>\n",
       "      <th>isolates_count</th>\n",
       "      <th>isolates_pct</th>\n",
       "    </tr>\n",
       "  </thead>\n",
       "  <tbody>\n",
       "    <tr>\n",
       "      <th>0</th>\n",
       "      <td>6439</td>\n",
       "      <td>171613</td>\n",
       "      <td>18</td>\n",
       "      <td>0.28</td>\n",
       "    </tr>\n",
       "  </tbody>\n",
       "</table>\n",
       "</div>"
      ],
      "text/plain": [
       "   node_count  relation_ct  isolates_count  isolates_pct\n",
       "0        6439       171613              18          0.28"
      ]
     },
     "execution_count": 34,
     "metadata": {},
     "output_type": "execute_result"
    }
   ],
   "source": [
    "pd.DataFrame(session.run('''MATCH (n) WHERE NOT (n)--() \n",
    "WITH COUNT(distinct n) as isolates_count\n",
    "MATCH ()-[r]->()\n",
    "WITH count(r) as relation_ct, isolates_count\n",
    "MATCH (c)\n",
    "with count(distinct c) as node_count, isolates_count, relation_ct\n",
    "return node_count, relation_ct, isolates_count, round(toFloat(isolates_count)/node_count*10000) / 100 as isolates_pct''').data())"
   ]
  },
  {
   "cell_type": "markdown",
   "metadata": {},
   "source": [
    "## Relationship Count\n",
    "\n",
    "Counting relationships is very similar to counting nodes. The catch when using the count store however, is that the direction of the relationship must be specified. Since it doesn't matter if the relationship is incoming or outgoing in our Marvel graph, we won't be able to use the count store.\n",
    "\n",
    "One of the nice things about using the count store with relationships is that it can look for multiple types (ex: `MATCH ()-[r:KNOWS|APPEARED_IN]`). [Neo4j's Knowledge Base: Fast counts using the count store](https://neo4j.com/developer/kb/fast-counts-using-the-count-store/) tells us it just adds the counts together for each type."
   ]
  },
  {
   "cell_type": "code",
   "execution_count": 10,
   "metadata": {},
   "outputs": [
    {
     "data": {
      "text/plain": [
       "[{'total_degree_count': 171613}]"
      ]
     },
     "execution_count": 10,
     "metadata": {},
     "output_type": "execute_result"
    }
   ],
   "source": [
    "session.run('''MATCH (c1)-[]-(c2)\n",
    "with count(c2) as degree\n",
    "RETURN degree/2 as total_degree_count''').data()"
   ]
  },
  {
   "cell_type": "code",
   "execution_count": 11,
   "metadata": {},
   "outputs": [
    {
     "data": {
      "text/plain": [
       "[{'degree': 171613}]"
      ]
     },
     "execution_count": 11,
     "metadata": {},
     "output_type": "execute_result"
    }
   ],
   "source": [
    "session.run('''MATCH (c1)-[]-(c2)\n",
    "WHERE id(c1) < id(c2)\n",
    "RETURN count(c2) as degree''').data()"
   ]
  },
  {
   "cell_type": "code",
   "execution_count": 13,
   "metadata": {},
   "outputs": [
    {
     "data": {
      "text/plain": [
       "[{'count': 171613}]"
      ]
     },
     "execution_count": 13,
     "metadata": {},
     "output_type": "execute_result"
    }
   ],
   "source": [
    "session.run('''MATCH ()-[r]->()\n",
    "RETURN count(r) as count''').data()"
   ]
  },
  {
   "cell_type": "code",
   "execution_count": 14,
   "metadata": {},
   "outputs": [
    {
     "data": {
      "text/html": [
       "<div>\n",
       "<style scoped>\n",
       "    .dataframe tbody tr th:only-of-type {\n",
       "        vertical-align: middle;\n",
       "    }\n",
       "\n",
       "    .dataframe tbody tr th {\n",
       "        vertical-align: top;\n",
       "    }\n",
       "\n",
       "    .dataframe thead th {\n",
       "        text-align: right;\n",
       "    }\n",
       "</style>\n",
       "<table border=\"1\" class=\"dataframe\">\n",
       "  <thead>\n",
       "    <tr style=\"text-align: right;\">\n",
       "      <th></th>\n",
       "      <th>0</th>\n",
       "    </tr>\n",
       "  </thead>\n",
       "  <tbody>\n",
       "    <tr>\n",
       "      <th>0</th>\n",
       "      <td>171613</td>\n",
       "    </tr>\n",
       "  </tbody>\n",
       "</table>\n",
       "</div>"
      ],
      "text/plain": [
       "        0\n",
       "0  171613"
      ]
     },
     "execution_count": 14,
     "metadata": {},
     "output_type": "execute_result"
    }
   ],
   "source": [
    "pd.DataFrame.from_dict(session.run(\"call apoc.meta.stats() YIELD relCount\").value())"
   ]
  },
  {
   "cell_type": "markdown",
   "metadata": {},
   "source": [
    "## Number of possible relationships"
   ]
  },
  {
   "cell_type": "code",
   "execution_count": 82,
   "metadata": {},
   "outputs": [
    {
     "name": "stderr",
     "output_type": "stream",
     "text": [
      "//anaconda3/lib/python3.7/site-packages/ipykernel/ipkernel.py:287: DeprecationWarning: `should_run_async` will not call `transform_cell` automatically in the future. Please pass the result to `transformed_cell` argument and any exception that happen during thetransform in `preprocessing_exc_tuple` in IPython 7.17 and above.\n",
      "  and should_run_async(code)\n"
     ]
    },
    {
     "data": {
      "text/plain": [
       "0    20727141.0\n",
       "Name: node_count, dtype: float64"
      ]
     },
     "execution_count": 82,
     "metadata": {},
     "output_type": "execute_result"
    }
   ],
   "source": [
    "rel_ct = pd.DataFrame(session.run('''MATCH ()-[r]->()\n",
    "RETURN count(r) as count''').data())\n",
    "\n",
    "node_ct = pd.DataFrame(session.run('''MATCH ()\n",
    "RETURN count(*) as node_count''').data())\n",
    "\n",
    "possible_rels = node_ct['node_count'] * (node_ct['node_count'] - 1)/2\n",
    "\n",
    "possible_rels"
   ]
  },
  {
   "cell_type": "markdown",
   "metadata": {},
   "source": [
    "## Global density"
   ]
  },
  {
   "cell_type": "code",
   "execution_count": 83,
   "metadata": {},
   "outputs": [
    {
     "data": {
      "text/plain": [
       "0    0.00828\n",
       "dtype: float64"
      ]
     },
     "execution_count": 83,
     "metadata": {},
     "output_type": "execute_result"
    }
   ],
   "source": [
    "global_density = rel_ct['count'] / possible_rels\n",
    "\n",
    "global_density"
   ]
  },
  {
   "cell_type": "markdown",
   "metadata": {},
   "source": [
    "## Component count"
   ]
  },
  {
   "cell_type": "code",
   "execution_count": 62,
   "metadata": {},
   "outputs": [
    {
     "name": "stderr",
     "output_type": "stream",
     "text": [
      "//anaconda3/lib/python3.7/site-packages/ipykernel/ipkernel.py:287: DeprecationWarning: `should_run_async` will not call `transform_cell` automatically in the future. Please pass the result to `transformed_cell` argument and any exception that happen during thetransform in `preprocessing_exc_tuple` in IPython 7.17 and above.\n",
      "  and should_run_async(code)\n"
     ]
    },
    {
     "data": {
      "text/html": [
       "<div>\n",
       "<style scoped>\n",
       "    .dataframe tbody tr th:only-of-type {\n",
       "        vertical-align: middle;\n",
       "    }\n",
       "\n",
       "    .dataframe tbody tr th {\n",
       "        vertical-align: top;\n",
       "    }\n",
       "\n",
       "    .dataframe thead th {\n",
       "        text-align: right;\n",
       "    }\n",
       "</style>\n",
       "<table border=\"1\" class=\"dataframe\">\n",
       "  <thead>\n",
       "    <tr style=\"text-align: right;\">\n",
       "      <th></th>\n",
       "      <th>componentId</th>\n",
       "      <th>component_size</th>\n",
       "    </tr>\n",
       "  </thead>\n",
       "  <tbody>\n",
       "    <tr>\n",
       "      <th>0</th>\n",
       "      <td>0</td>\n",
       "      <td>6403</td>\n",
       "    </tr>\n",
       "    <tr>\n",
       "      <th>1</th>\n",
       "      <td>239</td>\n",
       "      <td>9</td>\n",
       "    </tr>\n",
       "    <tr>\n",
       "      <th>2</th>\n",
       "      <td>92</td>\n",
       "      <td>7</td>\n",
       "    </tr>\n",
       "    <tr>\n",
       "      <th>3</th>\n",
       "      <td>3504</td>\n",
       "      <td>2</td>\n",
       "    </tr>\n",
       "    <tr>\n",
       "      <th>4</th>\n",
       "      <td>465</td>\n",
       "      <td>1</td>\n",
       "    </tr>\n",
       "  </tbody>\n",
       "</table>\n",
       "</div>"
      ],
      "text/plain": [
       "   componentId  component_size\n",
       "0            0            6403\n",
       "1          239               9\n",
       "2           92               7\n",
       "3         3504               2\n",
       "4          465               1"
      ]
     },
     "execution_count": 62,
     "metadata": {},
     "output_type": "execute_result"
    }
   ],
   "source": [
    "component_df = pd.DataFrame(session.run('''CALL gds.wcc.stream({\n",
    "  nodeProjection: 'Hero',\n",
    "  relationshipProjection: {\n",
    "  KNOWS: {\n",
    "  type: 'KNOWS',\n",
    "  orientation:'UNDIRECTED'\n",
    "  }}\n",
    "})\n",
    "YIELD componentId\n",
    "RETURN componentId, count(*) as component_size\n",
    "Order by component_size DESC''').data())\n",
    "\n",
    "component_df.head()"
   ]
  },
  {
   "cell_type": "code",
   "execution_count": 73,
   "metadata": {},
   "outputs": [
    {
     "data": {
      "text/plain": [
       "22"
      ]
     },
     "execution_count": 73,
     "metadata": {},
     "output_type": "execute_result"
    }
   ],
   "source": [
    "len(component_df)"
   ]
  },
  {
   "cell_type": "markdown",
   "metadata": {},
   "source": [
    "## Component size"
   ]
  },
  {
   "cell_type": "code",
   "execution_count": 74,
   "metadata": {},
   "outputs": [
    {
     "data": {
      "text/html": [
       "<div>\n",
       "<style scoped>\n",
       "    .dataframe tbody tr th:only-of-type {\n",
       "        vertical-align: middle;\n",
       "    }\n",
       "\n",
       "    .dataframe tbody tr th {\n",
       "        vertical-align: top;\n",
       "    }\n",
       "\n",
       "    .dataframe thead th {\n",
       "        text-align: right;\n",
       "    }\n",
       "</style>\n",
       "<table border=\"1\" class=\"dataframe\">\n",
       "  <thead>\n",
       "    <tr style=\"text-align: right;\">\n",
       "      <th></th>\n",
       "      <th>componentId</th>\n",
       "      <th>component_size</th>\n",
       "    </tr>\n",
       "  </thead>\n",
       "  <tbody>\n",
       "    <tr>\n",
       "      <th>0</th>\n",
       "      <td>0</td>\n",
       "      <td>6403</td>\n",
       "    </tr>\n",
       "    <tr>\n",
       "      <th>1</th>\n",
       "      <td>239</td>\n",
       "      <td>9</td>\n",
       "    </tr>\n",
       "    <tr>\n",
       "      <th>2</th>\n",
       "      <td>92</td>\n",
       "      <td>7</td>\n",
       "    </tr>\n",
       "    <tr>\n",
       "      <th>3</th>\n",
       "      <td>3504</td>\n",
       "      <td>2</td>\n",
       "    </tr>\n",
       "    <tr>\n",
       "      <th>4</th>\n",
       "      <td>465</td>\n",
       "      <td>1</td>\n",
       "    </tr>\n",
       "    <tr>\n",
       "      <th>5</th>\n",
       "      <td>576</td>\n",
       "      <td>1</td>\n",
       "    </tr>\n",
       "    <tr>\n",
       "      <th>6</th>\n",
       "      <td>832</td>\n",
       "      <td>1</td>\n",
       "    </tr>\n",
       "    <tr>\n",
       "      <th>7</th>\n",
       "      <td>1084</td>\n",
       "      <td>1</td>\n",
       "    </tr>\n",
       "    <tr>\n",
       "      <th>8</th>\n",
       "      <td>1381</td>\n",
       "      <td>1</td>\n",
       "    </tr>\n",
       "    <tr>\n",
       "      <th>9</th>\n",
       "      <td>1829</td>\n",
       "      <td>1</td>\n",
       "    </tr>\n",
       "    <tr>\n",
       "      <th>10</th>\n",
       "      <td>2105</td>\n",
       "      <td>1</td>\n",
       "    </tr>\n",
       "    <tr>\n",
       "      <th>11</th>\n",
       "      <td>2127</td>\n",
       "      <td>1</td>\n",
       "    </tr>\n",
       "    <tr>\n",
       "      <th>12</th>\n",
       "      <td>2759</td>\n",
       "      <td>1</td>\n",
       "    </tr>\n",
       "    <tr>\n",
       "      <th>13</th>\n",
       "      <td>3045</td>\n",
       "      <td>1</td>\n",
       "    </tr>\n",
       "    <tr>\n",
       "      <th>14</th>\n",
       "      <td>3284</td>\n",
       "      <td>1</td>\n",
       "    </tr>\n",
       "    <tr>\n",
       "      <th>15</th>\n",
       "      <td>3470</td>\n",
       "      <td>1</td>\n",
       "    </tr>\n",
       "    <tr>\n",
       "      <th>16</th>\n",
       "      <td>4505</td>\n",
       "      <td>1</td>\n",
       "    </tr>\n",
       "    <tr>\n",
       "      <th>17</th>\n",
       "      <td>4596</td>\n",
       "      <td>1</td>\n",
       "    </tr>\n",
       "    <tr>\n",
       "      <th>18</th>\n",
       "      <td>4772</td>\n",
       "      <td>1</td>\n",
       "    </tr>\n",
       "    <tr>\n",
       "      <th>19</th>\n",
       "      <td>4933</td>\n",
       "      <td>1</td>\n",
       "    </tr>\n",
       "    <tr>\n",
       "      <th>20</th>\n",
       "      <td>5016</td>\n",
       "      <td>1</td>\n",
       "    </tr>\n",
       "    <tr>\n",
       "      <th>21</th>\n",
       "      <td>6395</td>\n",
       "      <td>1</td>\n",
       "    </tr>\n",
       "  </tbody>\n",
       "</table>\n",
       "</div>"
      ],
      "text/plain": [
       "    componentId  component_size\n",
       "0             0            6403\n",
       "1           239               9\n",
       "2            92               7\n",
       "3          3504               2\n",
       "4           465               1\n",
       "5           576               1\n",
       "6           832               1\n",
       "7          1084               1\n",
       "8          1381               1\n",
       "9          1829               1\n",
       "10         2105               1\n",
       "11         2127               1\n",
       "12         2759               1\n",
       "13         3045               1\n",
       "14         3284               1\n",
       "15         3470               1\n",
       "16         4505               1\n",
       "17         4596               1\n",
       "18         4772               1\n",
       "19         4933               1\n",
       "20         5016               1\n",
       "21         6395               1"
      ]
     },
     "execution_count": 74,
     "metadata": {},
     "output_type": "execute_result"
    }
   ],
   "source": [
    "component_df"
   ]
  },
  {
   "cell_type": "markdown",
   "metadata": {},
   "source": [
    "## Component percent"
   ]
  },
  {
   "cell_type": "code",
   "execution_count": 81,
   "metadata": {},
   "outputs": [
    {
     "name": "stderr",
     "output_type": "stream",
     "text": [
      "//anaconda3/lib/python3.7/site-packages/ipykernel/ipkernel.py:287: DeprecationWarning: `should_run_async` will not call `transform_cell` automatically in the future. Please pass the result to `transformed_cell` argument and any exception that happen during thetransform in `preprocessing_exc_tuple` in IPython 7.17 and above.\n",
      "  and should_run_async(code)\n"
     ]
    },
    {
     "data": {
      "text/html": [
       "<div>\n",
       "<style scoped>\n",
       "    .dataframe tbody tr th:only-of-type {\n",
       "        vertical-align: middle;\n",
       "    }\n",
       "\n",
       "    .dataframe tbody tr th {\n",
       "        vertical-align: top;\n",
       "    }\n",
       "\n",
       "    .dataframe thead th {\n",
       "        text-align: right;\n",
       "    }\n",
       "</style>\n",
       "<table border=\"1\" class=\"dataframe\">\n",
       "  <thead>\n",
       "    <tr style=\"text-align: right;\">\n",
       "      <th></th>\n",
       "      <th>componentId</th>\n",
       "      <th>component_size</th>\n",
       "      <th>component_pct</th>\n",
       "    </tr>\n",
       "  </thead>\n",
       "  <tbody>\n",
       "    <tr>\n",
       "      <th>0</th>\n",
       "      <td>0</td>\n",
       "      <td>6403</td>\n",
       "      <td>99.44</td>\n",
       "    </tr>\n",
       "    <tr>\n",
       "      <th>1</th>\n",
       "      <td>239</td>\n",
       "      <td>9</td>\n",
       "      <td>0.14</td>\n",
       "    </tr>\n",
       "    <tr>\n",
       "      <th>2</th>\n",
       "      <td>92</td>\n",
       "      <td>7</td>\n",
       "      <td>0.11</td>\n",
       "    </tr>\n",
       "    <tr>\n",
       "      <th>3</th>\n",
       "      <td>3504</td>\n",
       "      <td>2</td>\n",
       "      <td>0.03</td>\n",
       "    </tr>\n",
       "    <tr>\n",
       "      <th>4</th>\n",
       "      <td>465</td>\n",
       "      <td>1</td>\n",
       "      <td>0.02</td>\n",
       "    </tr>\n",
       "    <tr>\n",
       "      <th>5</th>\n",
       "      <td>576</td>\n",
       "      <td>1</td>\n",
       "      <td>0.02</td>\n",
       "    </tr>\n",
       "    <tr>\n",
       "      <th>6</th>\n",
       "      <td>832</td>\n",
       "      <td>1</td>\n",
       "      <td>0.02</td>\n",
       "    </tr>\n",
       "    <tr>\n",
       "      <th>7</th>\n",
       "      <td>1084</td>\n",
       "      <td>1</td>\n",
       "      <td>0.02</td>\n",
       "    </tr>\n",
       "    <tr>\n",
       "      <th>8</th>\n",
       "      <td>1381</td>\n",
       "      <td>1</td>\n",
       "      <td>0.02</td>\n",
       "    </tr>\n",
       "    <tr>\n",
       "      <th>9</th>\n",
       "      <td>1829</td>\n",
       "      <td>1</td>\n",
       "      <td>0.02</td>\n",
       "    </tr>\n",
       "    <tr>\n",
       "      <th>10</th>\n",
       "      <td>2105</td>\n",
       "      <td>1</td>\n",
       "      <td>0.02</td>\n",
       "    </tr>\n",
       "    <tr>\n",
       "      <th>11</th>\n",
       "      <td>2127</td>\n",
       "      <td>1</td>\n",
       "      <td>0.02</td>\n",
       "    </tr>\n",
       "    <tr>\n",
       "      <th>12</th>\n",
       "      <td>2759</td>\n",
       "      <td>1</td>\n",
       "      <td>0.02</td>\n",
       "    </tr>\n",
       "    <tr>\n",
       "      <th>13</th>\n",
       "      <td>3045</td>\n",
       "      <td>1</td>\n",
       "      <td>0.02</td>\n",
       "    </tr>\n",
       "    <tr>\n",
       "      <th>14</th>\n",
       "      <td>3284</td>\n",
       "      <td>1</td>\n",
       "      <td>0.02</td>\n",
       "    </tr>\n",
       "    <tr>\n",
       "      <th>15</th>\n",
       "      <td>3470</td>\n",
       "      <td>1</td>\n",
       "      <td>0.02</td>\n",
       "    </tr>\n",
       "    <tr>\n",
       "      <th>16</th>\n",
       "      <td>4505</td>\n",
       "      <td>1</td>\n",
       "      <td>0.02</td>\n",
       "    </tr>\n",
       "    <tr>\n",
       "      <th>17</th>\n",
       "      <td>4596</td>\n",
       "      <td>1</td>\n",
       "      <td>0.02</td>\n",
       "    </tr>\n",
       "    <tr>\n",
       "      <th>18</th>\n",
       "      <td>4772</td>\n",
       "      <td>1</td>\n",
       "      <td>0.02</td>\n",
       "    </tr>\n",
       "    <tr>\n",
       "      <th>19</th>\n",
       "      <td>4933</td>\n",
       "      <td>1</td>\n",
       "      <td>0.02</td>\n",
       "    </tr>\n",
       "    <tr>\n",
       "      <th>20</th>\n",
       "      <td>5016</td>\n",
       "      <td>1</td>\n",
       "      <td>0.02</td>\n",
       "    </tr>\n",
       "    <tr>\n",
       "      <th>21</th>\n",
       "      <td>6395</td>\n",
       "      <td>1</td>\n",
       "      <td>0.02</td>\n",
       "    </tr>\n",
       "  </tbody>\n",
       "</table>\n",
       "</div>"
      ],
      "text/plain": [
       "    componentId  component_size  component_pct\n",
       "0             0            6403          99.44\n",
       "1           239               9           0.14\n",
       "2            92               7           0.11\n",
       "3          3504               2           0.03\n",
       "4           465               1           0.02\n",
       "5           576               1           0.02\n",
       "6           832               1           0.02\n",
       "7          1084               1           0.02\n",
       "8          1381               1           0.02\n",
       "9          1829               1           0.02\n",
       "10         2105               1           0.02\n",
       "11         2127               1           0.02\n",
       "12         2759               1           0.02\n",
       "13         3045               1           0.02\n",
       "14         3284               1           0.02\n",
       "15         3470               1           0.02\n",
       "16         4505               1           0.02\n",
       "17         4596               1           0.02\n",
       "18         4772               1           0.02\n",
       "19         4933               1           0.02\n",
       "20         5016               1           0.02\n",
       "21         6395               1           0.02"
      ]
     },
     "execution_count": 81,
     "metadata": {},
     "output_type": "execute_result"
    }
   ],
   "source": [
    "component_df['component_pct'] = round(component_df['component_size'] / component_df['component_size'].sum() *100, 2)\n",
    "\n",
    "component_df"
   ]
  },
  {
   "cell_type": "markdown",
   "metadata": {},
   "source": [
    "## Diameter"
   ]
  },
  {
   "cell_type": "markdown",
   "metadata": {},
   "source": [
    "While I'd really like to see the diameter, there isn't an optimized way to do it in Neo4j. This is a problem because diameter is the longest shortest path from one node to another.\n",
    "\n",
    "Shortest path is the fastest way to get from one node to another. We're looking for the longest one of these in the graph.\n",
    "\n",
    "The way to calculate that is to look at the shortest path from each node to every other node. Mathematically, this is the factorial of the node count (reminder: factorial is a number multiplied by every number smaller than itself, so 6! is 6 * 5 * 4 * 3 * 2 * 1 = 720).\n",
    "\n",
    "Remember our node count for this relatively small graph is 6,439. The factorial of this is big, which means the query will take a long time to run.\n",
    "\n",
    "For curiosity sake, I included the factorial of 6,439 below:"
   ]
  },
  {
   "cell_type": "code",
   "execution_count": 57,
   "metadata": {
    "scrolled": true
   },
   "outputs": [
    {
     "data": {
      "text/plain": [
       "72975143975926905582490299784036068584209736865196428890829049289065245177963097656541197060925188480366183086461255894167478299617855157092686294779317073365696720394133926294488572968769338081639751918794948934149395410691455735696908330317426491485378370959201367371298849169780268774781562288032608679093567685153189073407446069687755689210789025338121986528837264991966647309820048188605950290799551498473534817915729662643081973549445251718607388170836854824958566161729560381398725491584314255484870985166658879314252491183311713393518827819834680062872475898399394690930505579045718790167861794649702301784111793054547676306183364088748982906543752792590210441326050493863612452638030393925928722539706641458665475253924929885790559858565716744835867122910161736135711070402937387295101757647943508505074624311145101101567793971012962428703548565791510488712065396227636192620163890589590833414093830736753066629813027329106443606312220632375404059175051197435785003739372636758255546822311949354619632584751275731710241243205577862936881213482552512794014489814120834020500620769791239252488854164372494175819532160859296982456220487531492950362048279410501789833636083658294660089302842361146138135898645194560781168970871103840451713037901464461018614792189409037704610098296065648417544928194254107310576426028857546302576839388823718595140546046117185821262469918043990980361899020656229683849093889708208246242045168924982526441715197890868912571456215725120879624264181535161692523530761701657209425999277789071333409054725341049313509870106048685991080929999198403185151267255241042249081125293032289430371641749675519443537651886076794899344071780110852928151178858818420287591852165854571978062605579416657771911370176100322142013169007528597693979910362499449528060687446446258250483298263166428356662586597991202830916856368055511199760655256807442885616127779165926596525335174285220178520640934881603238804437579179637847629191598441656161213804863073243388437361250212976625055342847104960340257706437064357373207246339500542080107357995668391993137474897636629418875618331838287149595433112654596596771455461475676270127486197326877279667802048678691858211333610327124298693721135474359218927655869352388130076951385692786851694644047037575777708141811191195690935364966824164006195321501425539371883321113710786702609215299840412717738740122331317451996520791844628343283008486223934579917492160645542069157804186613724324585447538868739447329685656830200224805927783612718353731320672478551384440998849598596795562183353303150224176206289169083114002933200616528747799335792665497303391680348890474099936433312029912321437490433709538408595833341133568078140188764969985626423618312026169998703582322815075273951095418797067692378713780012252571315742103698602709517517952789660354737117421021111033120699870041611117779361110852291586251052907852964263257426868369856315713206384456912031174649373653931660635609488466229012502349671140526063076984814940080396082489656734932999903885118245017531504296730487572349473573316432019064644286905343081733410407379257167124843918139526606453201887633243697229317403082268268250513997127458545248750865027256021393221936694534291309884315297684700469993033682258798702724434145780524659966420723678061291545899448349817138323549945265730577024152445899517359092608885254203766110503280700161352381479411606662298687884408760303464738679648629007513228461513184169587053484174898113904533352236588089748935428580116741715010993174915506900149395510378657894285207722688096182711409459783340082606214774448227520311667504743311731139970204950497830796063288985460169685413648248971155578822975849689547219542818506643028061042874791197715698846672640439473243657311922618129107653234585747615798555804033873309782226455072297117649200131694465092336051244749948922230908611370790237797114061791391467927383564113626067763080007690456001393757786725905430384911369072402664496213182380176974470909562803260446318037940452122622643255448574565271667286635880938912226941100601298300280056048841166457635793644143566034465177001323322165559159203580511640145974094449576845962313374735470341571208479441305933073281538400246397320490342174157304070959847402382072071293187607944250502226038969636309606134237795764091093593099837689752482854701526710856012024123505345411602801861872783689367919773717270779392903896594822266804836442517453939638421643980276706640057704875530925848423078390956469962361586231861605444463798771658933121134390701250548907022550083848156017711410513879602566637377953590236397833761620608588856857895097324400049974948096971007467621010928980746032237734331449877923495487092422324340748281616207995237548613852578168427327978719959926719384808965473680982387832309166491380075050536697538331088304544820713417101855956971484665592539844816230175798736720842450889333470678114743135909260941470566168209808690106240787836437916759759820261484908907749376944131443883193950059605417939643903012168515787676376629471309432485020453466426506062688853571443053818956252545866109856492372297823495422278906058592698899700484980987497880079065181032456413735079538253661561570703733121392652660792915091550754225361436863081285424027638455795881708420247082467179816401477398002881857611159916158120411954735717434343192927429861705244308886197141129168157843145740577629900904848606011073006471893072019496124556564116719144970990224804542540284475650287216715217457368933317856557995096347535677596610775020760421081799363552213664611269612012016686807259829808891247002943725542450099734117429156400135193949117529124273144341420434913526109318904906127295882721329562098396459677289129958767537361857176092997793577714083244173377269726218340395721074005853145275600382328896699743443071939870178113397297669541377428076512040307299324743098683856511942410764463012288702996245094498742493887575239359640265965179463017653313922513456584199457755077359697813564289686168995454470067633642789084825907691789318692724674695730856933078193276950044910916396811926984470618845294499729322253955491779030126794390572192385402191169587358035514957296790644181143802890945418699841186518698815840792579428278770851573308982642170115986170454714854888516170208508559981183656096068935330180972580881843265771255865687435170821302049201247078352079859962856419701081611113452778052449621208729800065313540612442310853827948120667618069685316808045623343554206910199529969937060820538758029973667991604021421265891629372150167149406572554036325151199481394158797360359579514027057335954914787965690622851050546426074313051808127425509072544556405666720715783086887522177074801338993905425098989127787677591033250549865764753828039276999305152606623051882563967593864507225604334060971929595909305699613225277131708938680445754749583553923381722590742345131305624121321985035335431104445210046572780113137646279261355049047861517115174268268850475175844423094624072113934968456049093425869561918695128652587544491968254634486495292361431764309542073575378329745756719141106274295768666238497043808850921386167573850981964316983628545685169289124762822692531926034002795690105350482238803734175784277902941620852368344072309245508157996423885700183629072638271912893512184875550226034968059194241157881526180339515396149695490590196994521120049457818263843913715924621261813712870091151588722244582504805263494028745956161289933730880331752060108981582479411074888433782509341629821961998397302620220051842091874504744262739380308267149977303869893783989725620442334210006966698649946381609923530384778684397181163184941032483698075966756078986327419370265913478658653931209987394019952697439871341180166104610203162518886348558215761897863178411047159864301413813764500710177388455831240860977827567237036056326924547632277851257823530374845815373779828019009583594352709713241106926103461498427895160363466918360523188836686472553925837200219318211947741420064365806863372455648767891755616785323338183475096972452111214957049031406205064934826156356983415304403073826527113087128775138380502653892159161442889843157707828523419358050739341844718478188819346908234567192011660849294714966015583778163470937663334478373345261997109837274529300883241337862456260683706500689974021312115005506683001933381841381194765271233152296762909818987692028488942886233587890301997014929175251777289221144689225350574988979083891809390455398367801781690485864074946867507159321367433120026325965160361212231599319209818901211090614965860103500828442421006998344762095752661606660925491559298563722190370744762378570929760172856953595545582257153659140297081383667970535663118587935313909957738380301976938127291433364201486743099186899094235725049226408188658506833148088668050334703336370695151843381953270430512202592989205979473225071199347770723737112366673593623408038512876882444164680043394896961459497438022539688033249842478302672266326219975682916721296864699492550031753228935216219261328870044763100289952415939090674997097543258014028214974311201088798823481830594185315980924900840436005541059476518639337855007953925760677190129016047800621713936200031633298860028363176612618038864143036629844745941785616347516591221222921362944705804221585838378873939045552444856804967032930053185172144068532763629298121100827681074023893775236827366092073735641041074973318648444866711333164428936823405901213812384671753609506272131951601171064140836007558358851209922515358712433496604094734068015955769316554644788540133159069879494673646425886303036606073620090916350153455001901071711653742100137213611547691413287944478066759829510789916264494712670723375145075209246464973961925178198416721790074165571829064076436781717420446428504457599959416038186014661232539759397166275979193767485322163845487383659790139258459956648435474969632206999983886630427953584774351080460745234553450482270518590289913607817277222981676103313481880172462385138648951064205894652548426995155731015295610174911219209802515033120188852508815210745450181937165222740946627958420604726304456667698845575267300232097800852231091153454403385875087316301029459335841675915651320972892492831444700608709482556662928316034821012562757610843037734720097009534414889700131403881383139083016680014051159769264990248345313051364753585463249666546221445376686597650963647139544108576242688268706389355847212960367299337101064603726275004513857424849638516893562524480485684183986722629531420088158486858599310703021931170280970694732233500825343737815562503277837294638091031429520414064392979381542546060316603445720911705068042219819736010339882734469593356080672139992817836696221897615210438307197025398965927968796299941545990188956858233439120954741045136265581574746194588663078961363646366134289736758584029395863670937901538373954850650175129078823440697057072727025324674660243352984561500073891586312293539556516818181134407693921513185723375841252173520958984679564459475887965287816807274429134617412963206665337885416158194999616161747001984112573679054734749503548430353325350913861271802977118689789078856636498021189643706020119006066068398959934997485442825787998408808833250905353848452942249577145612440753697662926538962167044406619701380405440982007344464643560465120236122245922925534980515089584290136878284793539558893450807370008136129507168267795578497209118630840584968279037395999865419603726782830739943032480404661444267049169768126036986552068564052522286009140967845131482319702718369592195746610686566057708744526171246382410649506980018378312700566488548860784552029417915156589250664478111182171621079568893400433445336744552083164866433402569163720314026172132713459983150621073313930309290829639081011915399444206439353784087154210318672183312414384821029699932934366882128419955920932506198443418783933885753153782188105767149280975866180203789506114820981486531846967567078678159901284387024329573012008789989462028855087324904754021693732854421072982142249466506385738826179421790078474724353735469452250396202214527942566106675296293946552162580502418915332934793817706015322004208116370771820401033738290604686445337622781101951152310171213251857047451184188571521162025866494778917741652435528678977507517139234354756364333744101764918546118389903556027595089137640871094576352275996392585347081223762382714382230192689334958343981454583904622516766928570796775924073402938699414664451246864053782156310675225402689381861373124758476412346478198680760308885547047106676653394058063186798967266393193625912876118771459115333418029796022089859938748344692296245364328990150005699474761778428299626900742667281874076812744046194499766272127401216015090349727763409052945527509373694064986808518116301256158106414325531207953542336839178697040888277666666021652393803843213240791526119043056195598114676641500146799221148680376270212646713253058390883695332403249999154910012963420691414926248617321879311714272719919942920279865732284677234989371220143219720968264288091214346057618072996753050889258660578114885718626496638912358239362052082962578276876769776218148851865545376025360581816505826547741731872769213193844638180188667785080824729498920153424713137022542931272499253665347380310388187974914512789789471626137792890746363716406507063884073995791151519835049245309830960480502293243669966182963639349871719442666291728280945563169006282861443473352536740505477114486525761727350455129741465270886374440890427804665395734366788713495310594353849456742593823336043305815111343668344866735139121132769405068431842244673835923983095181607591228464952424046023217739421622553740303590845479180398892591794553808145016328058841350239952247191110693160779041669019658791224229927060925071466284371498095151339029018318897751076559508668474100057783836866960577669276171261408288096341763848601081412788424512547359076052141814902578219586601152839614145198728944571139297393599997826354765400781706231534017757795901207092449433320600968782633513151211974521813263379118087778459590929604969513389281669050015013734486404572523436916624328643454846106950926954437234885260551429945509203434362579162840192387593750309310639851330872969530479088136034562866732921830172553850492255465575059440148751600971333593566983809588030556565169120513703196995339912357620657178943397648133684477956536387698261840198355916102137776002142862818020662084553453108004889842696365921836386208363813031077805097171510798539200780527959505666201616678354352711198634886629002072132384806187163757695193904678354938216101110747358608974933804715136053930228151738695235798750061759991275966182342778036584005001841542106159957402938513300744628658576629073934348033725459764524382223736890520712910117146204064160174789215388414824829496037937640367726353098707684822585251020329468749169776663872200626588705697061128572715689666284851079723798271747325609511072061457147816168725961225428045218325410163039315390088583046247778275754093124429759105955425382812203200287001174765938845774854786855257560040761153336454112704427550528464235712756730435776684245396271854502622536140659007872236023485914108805812800492989283632882189228209938040951792428259117696191313396815024538102053754255321756655276068646888027780491956550720984508733200375912186973794110151315168542673507615905836273304365083796233469237673324578604552289147107793154594410816350034326723335631731446606790182857368956292734259001459112047597860307771664313678095469748732579174316599071166461617603044991415341577587199853984100977887687749025210699886980264493954036059446565585262870827679375022958993803584470041223327538964739435849084529688991592066584581512716962245983057371428057751887269850627630196924123726963867707912234244735320866725966490713908073167581642998723658401166436813716550083808209049484823870697871225708151197649034925843437123037034949455937676991009643457026262549327137984560868445536877333156481709811149271219847298434192058569155699516746712913823964603810247589166077097852655043391726926881672470641160776957034737018980155276817249954785261991952983899589101262276625060620826231035986557318037831596136673745575940966851997344046714557688580612513650537753219885696121144927244144034533724815458690537722448130082790751600719637660151184570255135298571835579837207284807418952065565486475554658164921680767303195930207316193391804176984362079790532598198417336233610687089397504040591250916340494468640574307720624238406838392389753429256590546732134204990091608305915390492004410035832902988885763129909781662727349855790003177097884978581225016480231733225232472594180416730877351016619222039735760876577538033533415000236799239823706160151486796307096562278496248819897103960718175478625309418359420407989363550490890811206302675724502977739276175578112396673083668680890342104745587626377824847272483812761950554187186546359951098855291654579795610601514745350869162083797816709734832666452205215503133956349065664491736329467691846532306945759317983261067326999464719504269336190298660065576055041009866458814885188962133156271545267572947302808127275817735855190974355786590898615143090635519314151184837752969226392391009865612365342717235541748289576014205346892146360273532592853658520638923855520163480111409590049604869628743766088418240008820265270907791464232052056892167104251540597450654354172095198718141983713084582013885853137462864552312101704564628789953366611282270513145788882641549381198935582798723145543252198956380645191620587422587745953252601536989268702970499151561030104519971073841972810262090653363665639493931644925973424756808702822796941979205120895897830319708735945670989276362629274278266943707436443226945048530098052365565278478648792154316246051113081540473018946586311026460592001838074612588488550065136964934688190535069657534322684082212562587719336070574266562061759163998466189533800921946010501003160955562866035849612578191858409282219489748476038520015635880973429306252032336324465409648840345295516201150389420889119357656016384828797164942010377947859912032642248203081617411024822358885639575866229831599569009710008507682349957368182284272973326248714434454840804484376321694163171397872914157785307566836066372791242985153960554019390717339416112504783149701139577272722600764975982445520701279177105032845912907200654785434554789106466290100237915332891111251347561890096821629354642556971872585749769792472356072857431348625422109718149804888384034798565921050677593305501420946583339806585428719749751839566200521980499466984706662325289469952646712416172932679510246475759451889910069579607679592407022223245366144882327223054105926495236892746425818833577341911642139872182011549467336062773027454303196380128860084726642094054823288144667637130223526558976070356832059761844811430108159576412577052980851883719615019645353950050587819037552225440138943955649769736448983452100554792970805335613251480665203784045170553805524150165623955556855572141293928513561641484147946884781875617895900230336103575234884393301068140362229330633276136278273293893247805980773426694814910036443933553145781820741833262267291923054457277917558114473378444089275724599416112360291911406923989476882128737231855121249084203280600625658109605344732539352983532658389845857331750297810139108691767345497549260200937352999556764291477997118024194860181621427085645769332978563614957911119669880158113827292020029549699302190156514709924413679124769135207018058215711653834261652667891719686157805209661340846103950235119686421361467338073564964581959382328419017054451082084293519784511774884766427356550050520263109435552011323717690366993053591701256639144845768572011192371571452906401128797839912606181014170990775243089741034426189352633494525161153438977942679812510726978051706614657537199528205574319455873720592248202344616315050263962113132317181962426432176774858430393773585551592676506755122516210769383790212025545780751278635525136985100455496094722243041199139873111512819339189502193223736641664435988289020550615272052038184699950584469970370785294189778022975845690357009555734404320261389911441518368451661165409769905788838102476291855786839879985396446159196232089600000000000000000000000000000000000000000000000000000000000000000000000000000000000000000000000000000000000000000000000000000000000000000000000000000000000000000000000000000000000000000000000000000000000000000000000000000000000000000000000000000000000000000000000000000000000000000000000000000000000000000000000000000000000000000000000000000000000000000000000000000000000000000000000000000000000000000000000000000000000000000000000000000000000000000000000000000000000000000000000000000000000000000000000000000000000000000000000000000000000000000000000000000000000000000000000000000000000000000000000000000000000000000000000000000000000000000000000000000000000000000000000000000000000000000000000000000000000000000000000000000000000000000000000000000000000000000000000000000000000000000000000000000000000000000000000000000000000000000000000000000000000000000000000000000000000000000000000000000000000000000000000000000000000000000000000000000000000000000000000000000000000000000000000000000000000000000000000000000000000000000000000000000000000000000000000000000000000000000000000000000000000000000000000000000000000000000000000000000000000000000000000000000000000000000000000000000000000000000000000000000000000000000000000000000000000000000000000000000000000000000000000000000000000000000000000000000000000000000000000000000000000000000000000000000000000000000000000000000000000000000000000000000000000000000000000000000000000000000000000000000000000000000000000000000000000000000000000000000000000000000000000000000000000000000000000000000000000000000000000000000000000000000000000000000000000000000000000"
      ]
     },
     "execution_count": 57,
     "metadata": {},
     "output_type": "execute_result"
    }
   ],
   "source": [
    "import math\n",
    "\n",
    "math.factorial(node_ct['node_count'])"
   ]
  },
  {
   "cell_type": "markdown",
   "metadata": {},
   "source": [
    "The code to do this is below, but it takes so long it just isn't practical outside toy datasets that are even smaller than the projected unimodal Marvel Universe Social Network graph."
   ]
  },
  {
   "cell_type": "code",
   "execution_count": 47,
   "metadata": {},
   "outputs": [
    {
     "data": {
      "text/html": [
       "<div>\n",
       "<style scoped>\n",
       "    .dataframe tbody tr th:only-of-type {\n",
       "        vertical-align: middle;\n",
       "    }\n",
       "\n",
       "    .dataframe tbody tr th {\n",
       "        vertical-align: top;\n",
       "    }\n",
       "\n",
       "    .dataframe thead th {\n",
       "        text-align: right;\n",
       "    }\n",
       "</style>\n",
       "<table border=\"1\" class=\"dataframe\">\n",
       "  <thead>\n",
       "    <tr style=\"text-align: right;\">\n",
       "      <th></th>\n",
       "      <th>node_count</th>\n",
       "    </tr>\n",
       "  </thead>\n",
       "  <tbody>\n",
       "    <tr>\n",
       "      <th>0</th>\n",
       "      <td>6439</td>\n",
       "    </tr>\n",
       "  </tbody>\n",
       "</table>\n",
       "</div>"
      ],
      "text/plain": [
       "   node_count\n",
       "0        6439"
      ]
     },
     "execution_count": 47,
     "metadata": {},
     "output_type": "execute_result"
    }
   ],
   "source": [
    "session.run('''MATCH (n), (m)\n",
    "WHERE id(n) < id(m)\n",
    "WITH n, m\n",
    "MATCH p=shortestPath( (n)-[*]->(m) )\n",
    "RETURN n.name, m.name, length(p)\n",
    "ORDER BY length(p) desc LIMIT 1''').data()"
   ]
  }
 ],
 "metadata": {
  "kernelspec": {
   "display_name": "Python 3",
   "language": "python",
   "name": "python3"
  },
  "language_info": {
   "codemirror_mode": {
    "name": "ipython",
    "version": 3
   },
   "file_extension": ".py",
   "mimetype": "text/x-python",
   "name": "python",
   "nbconvert_exporter": "python",
   "pygments_lexer": "ipython3",
   "version": "3.7.6"
  }
 },
 "nbformat": 4,
 "nbformat_minor": 4
}
