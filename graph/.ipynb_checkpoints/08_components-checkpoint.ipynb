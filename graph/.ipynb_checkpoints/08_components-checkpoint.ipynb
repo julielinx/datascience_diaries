{
 "cells": [
  {
   "cell_type": "markdown",
   "metadata": {},
   "source": [
    "# Entry G8: Components"
   ]
  },
  {
   "cell_type": "markdown",
   "metadata": {},
   "source": [
    "Now that I have a general feel for the graph database with counts and density, I want to look at components. A component is just a set of connected nodes. I'll be looking at three measures:\n",
    "\n",
    " - Component count\n",
    " - Component size\n",
    " - Component percent \n",
    " \n",
    "Some quick facts about components:\n",
    "\n",
    "- A single graph can have many components, although there is usually a largest component containing over 90% of the graph (page 305 of [Networks](https://www.amazon.com/Networks-Mark-Newman/dp/0198805098) has a great chart showing basic metrics for 27 different graphs from 4 different industries)\n",
    "- There is by definition no path between any pair of nodes in different components\n",
    "- There are strongly connected components (i.e, cliques, which I talked about in [Entry G5](https://julielinx.github.io/blog/g05_project_bimodal/)) and weakly connected components (any single path between nodes)"
   ]
  },
  {
   "cell_type": "markdown",
   "metadata": {},
   "source": [
    "Here's an example of a graph with two components from the simple bimodal example from [Entry G3](https://julielinx.github.io/blog/g03_graph_model/):\n",
    "\n",
    "<img src='images/bimodal_components.png'>\n",
    "\n",
    "There is also something called k-components. This is the same concept as a regular component, but per page 180 of *Networks* \"a set of nodes such that each is reachable from each of the others by at least k node-independent paths.\"\n",
    "\n",
    "Here's an example from a subset of the Marvel Universe Social Network:\n",
    "\n",
    "- Blue = 1-component\n",
    "- Purple = 5-component\n",
    "- Green = 2-component\n",
    "- Red = 3-component\n",
    "\n",
    "<img src='images/k-components.png'>"
   ]
  },
  {
   "cell_type": "markdown",
   "metadata": {},
   "source": [
    "### Component count\n",
    "\n",
    "For this measure, all I want to know is how many components are in the graph.\n",
    "\n",
    "The Marvel Universe Social Network has 22 components. However, 18 of those are isolated nodes. The question then becomes, do I want to count isolates as their own component?\n",
    "\n",
    "My first thought was that the isolates are already accounted for *as* isolates in one of the eariler metrics. And this is 100% true for the unimodal model of the Marvel Universe Social Network. However, when looking at the metrics for the bimodal model of the graph, the 18 isolates are no longer isolated because those heroes are connected to the comic they appear in. As such, I'd need to include them in the components.\n",
    "\n",
    "**Decision**: Isolates show nodes that aren't connected to any other nodes. As such, I can safely remove components with a size of 1 from the results without losing information."
   ]
  },
  {
   "cell_type": "markdown",
   "metadata": {},
   "source": [
    "### Component size\n",
    "\n",
    "This is just the number of nodes in each component. For the unimodal model of the Universe Universe Social Network, there were four components (leaving out the 18 isolates as decided above).\n",
    "\n",
    "As you can see in the table, this graph has the common giant component as referenced in the beginning of the entry.\n",
    "\n",
    "<table align=left>\n",
    "    <tr>\n",
    "        <td>Component ID</td>\n",
    "        <td>Node Count</td>\n",
    "    </tr>\n",
    "    <tr>\n",
    "        <td>0</td>\n",
    "        <td>6403</td>\n",
    "    </tr>\n",
    "    <tr>\n",
    "        <td>239</td>\n",
    "        <td>9</td>\n",
    "    </tr>\n",
    "    <tr>\n",
    "        <td>92</td>\n",
    "        <td>7</td>\n",
    "    </tr>\n",
    "    <tr>\n",
    "        <td>3504</td>\n",
    "        <td>2</td>\n",
    "    </tr>\n",
    "</table>"
   ]
  },
  {
   "cell_type": "markdown",
   "metadata": {},
   "source": [
    "### Component percent\n",
    "\n",
    "This measure takes the component size one step further. We take the number of nodes in each component and divide by the the number of nodes in the graph. This gives us the size of each component within the full graph.\n",
    "\n",
    "For the four components of the Marvel Universe Social Network unimodal model, we end up with this:\n",
    "\n",
    "<table align=left>\n",
    "    <tr>\n",
    "        <td>Component ID</td>\n",
    "        <td>Node Count</td>\n",
    "        <td>Node Percent</td>\n",
    "    </tr>\n",
    "    <tr>\n",
    "        <td>0</td>\n",
    "        <td>6,403</td>\n",
    "        <td>99.44%</td>\n",
    "    </tr>\n",
    "    <tr>\n",
    "        <td>239</td>\n",
    "        <td>9</td>\n",
    "        <td>0.14%</td>\n",
    "    </tr>\n",
    "    <tr>\n",
    "        <td>92</td>\n",
    "        <td>7</td>\n",
    "        <td>0.11%</td>\n",
    "    </tr>\n",
    "    <tr>\n",
    "        <td>3504</td>\n",
    "        <td>2</td>\n",
    "        <td>0.03%</td>\n",
    "    </tr>\n",
    "</table>"
   ]
  },
  {
   "cell_type": "markdown",
   "metadata": {},
   "source": [
    "## Next Up\n",
    "\n",
    "Local Metrics"
   ]
  },
  {
   "cell_type": "markdown",
   "metadata": {},
   "source": [
    "## Resources\n",
    "\n",
    "- [Neo4j Python Driver 4.2](https://neo4j.com/docs/api/python-driver/current/)\n",
    "- [Fast counts using the count store](https://neo4j.com/developer/kb/fast-counts-using-the-count-store/)\n",
    "- [Degree Centrality](https://neo4j.com/docs/graph-data-science/current/algorithms/degree-centrality/)\n",
    "- [Relationship Orientation](https://neo4j.com/docs/graph-data-science/current/management-ops/cypher-projection/#cypher-projection-relationship-orientation)\n",
    "- [Networks](https://www.amazon.com/Networks-Mark-Newman/dp/0198805098) by Mark Newman\n",
    "- [Fraud Detection slideshare](https://www.slideshare.net/maxdemarzi/fraud-detection-and-neo4j) by Max De Marzi"
   ]
  }
 ],
 "metadata": {
  "kernelspec": {
   "display_name": "Python 3",
   "language": "python",
   "name": "python3"
  },
  "language_info": {
   "codemirror_mode": {
    "name": "ipython",
    "version": 3
   },
   "file_extension": ".py",
   "mimetype": "text/x-python",
   "name": "python",
   "nbconvert_exporter": "python",
   "pygments_lexer": "ipython3",
   "version": "3.7.6"
  }
 },
 "nbformat": 4,
 "nbformat_minor": 4
}
