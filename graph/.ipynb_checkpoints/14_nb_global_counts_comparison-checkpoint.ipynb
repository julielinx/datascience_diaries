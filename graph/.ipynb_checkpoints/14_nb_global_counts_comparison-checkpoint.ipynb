{
 "cells": [
  {
   "cell_type": "markdown",
   "metadata": {},
   "source": [
    "# Entry G14: Global Counts Comparison"
   ]
  },
  {
   "cell_type": "code",
   "execution_count": 2,
   "metadata": {},
   "outputs": [],
   "source": [
    "import numpy as np\n",
    "import pandas as pd\n",
    "import matplotlib.pyplot as plt\n",
    "import seaborn as sns\n",
    "plt.style.use('ggplot')\n",
    "%matplotlib inline\n",
    "\n",
    "import warnings\n",
    "warnings.filterwarnings('once')\n",
    "\n",
    "from neo4j import GraphDatabase"
   ]
  },
  {
   "cell_type": "code",
   "execution_count": 3,
   "metadata": {},
   "outputs": [
    {
     "name": "stderr",
     "output_type": "stream",
     "text": [
      "//anaconda3/lib/python3.7/site-packages/ipykernel/ipkernel.py:287: DeprecationWarning: `should_run_async` will not call `transform_cell` automatically in the future. Please pass the result to `transformed_cell` argument and any exception that happen during thetransform in `preprocessing_exc_tuple` in IPython 7.17 and above.\n",
      "  and should_run_async(code)\n"
     ]
    }
   ],
   "source": [
    "uri = \"bolt://localhost:7687\"\n",
    "\n",
    "driver = GraphDatabase.driver(uri, auth=('neo4j', 'password'))\n",
    "\n",
    "uni_session = driver.session(database=\"unimodal\")\n",
    "bi_session = driver.session(database=\"bimodal\")\n",
    "mix_session = driver.session(database=\"mixmodal\")"
   ]
  },
  {
   "cell_type": "markdown",
   "metadata": {},
   "source": [
    "### Node Counts"
   ]
  },
  {
   "cell_type": "code",
   "execution_count": 12,
   "metadata": {},
   "outputs": [
    {
     "name": "stderr",
     "output_type": "stream",
     "text": [
      "//anaconda3/lib/python3.7/site-packages/ipykernel/ipkernel.py:287: DeprecationWarning: `should_run_async` will not call `transform_cell` automatically in the future. Please pass the result to `transformed_cell` argument and any exception that happen during thetransform in `preprocessing_exc_tuple` in IPython 7.17 and above.\n",
      "  and should_run_async(code)\n"
     ]
    },
    {
     "data": {
      "text/html": [
       "<div>\n",
       "<style scoped>\n",
       "    .dataframe tbody tr th:only-of-type {\n",
       "        vertical-align: middle;\n",
       "    }\n",
       "\n",
       "    .dataframe tbody tr th {\n",
       "        vertical-align: top;\n",
       "    }\n",
       "\n",
       "    .dataframe thead th {\n",
       "        text-align: right;\n",
       "    }\n",
       "</style>\n",
       "<table border=\"1\" class=\"dataframe\">\n",
       "  <thead>\n",
       "    <tr style=\"text-align: right;\">\n",
       "      <th></th>\n",
       "      <th>node_count</th>\n",
       "    </tr>\n",
       "  </thead>\n",
       "  <tbody>\n",
       "    <tr>\n",
       "      <th>unimodal</th>\n",
       "      <td>6439</td>\n",
       "    </tr>\n",
       "    <tr>\n",
       "      <th>bimodal</th>\n",
       "      <td>19090</td>\n",
       "    </tr>\n",
       "    <tr>\n",
       "      <th>mixmodal</th>\n",
       "      <td>19090</td>\n",
       "    </tr>\n",
       "  </tbody>\n",
       "</table>\n",
       "</div>"
      ],
      "text/plain": [
       "          node_count\n",
       "unimodal        6439\n",
       "bimodal        19090\n",
       "mixmodal       19090"
      ]
     },
     "execution_count": 12,
     "metadata": {},
     "output_type": "execute_result"
    }
   ],
   "source": [
    "pd.DataFrame(uni_session.run('''MATCH (c)\n",
    "RETURN count(c) as unimodal''').data()).transpose().rename(columns={0: 'node_count'}).append(\n",
    "pd.DataFrame(bi_session.run('''MATCH (c)\n",
    "RETURN count(c) as bimodal''').data()).transpose().rename(columns={0: 'node_count'})).append(\n",
    "pd.DataFrame(mix_session.run('''MATCH (c)\n",
    "RETURN count(c) as mixmodal''').data()).transpose().rename(columns={0: 'node_count'}))"
   ]
  },
  {
   "cell_type": "code",
   "execution_count": 22,
   "metadata": {},
   "outputs": [
    {
     "name": "stderr",
     "output_type": "stream",
     "text": [
      "//anaconda3/lib/python3.7/site-packages/ipykernel/ipkernel.py:287: DeprecationWarning: `should_run_async` will not call `transform_cell` automatically in the future. Please pass the result to `transformed_cell` argument and any exception that happen during thetransform in `preprocessing_exc_tuple` in IPython 7.17 and above.\n",
      "  and should_run_async(code)\n"
     ]
    },
    {
     "data": {
      "text/html": [
       "<div>\n",
       "<style scoped>\n",
       "    .dataframe tbody tr th:only-of-type {\n",
       "        vertical-align: middle;\n",
       "    }\n",
       "\n",
       "    .dataframe tbody tr th {\n",
       "        vertical-align: top;\n",
       "    }\n",
       "\n",
       "    .dataframe thead th {\n",
       "        text-align: right;\n",
       "    }\n",
       "</style>\n",
       "<table border=\"1\" class=\"dataframe\">\n",
       "  <thead>\n",
       "    <tr style=\"text-align: right;\">\n",
       "      <th></th>\n",
       "      <th>Hero</th>\n",
       "      <th>Comic</th>\n",
       "    </tr>\n",
       "  </thead>\n",
       "  <tbody>\n",
       "    <tr>\n",
       "      <th>uimodal</th>\n",
       "      <td>6439</td>\n",
       "      <td>NaN</td>\n",
       "    </tr>\n",
       "    <tr>\n",
       "      <th>bimodal</th>\n",
       "      <td>6439</td>\n",
       "      <td>12651.0</td>\n",
       "    </tr>\n",
       "    <tr>\n",
       "      <th>mixmodal</th>\n",
       "      <td>6439</td>\n",
       "      <td>12651.0</td>\n",
       "    </tr>\n",
       "  </tbody>\n",
       "</table>\n",
       "</div>"
      ],
      "text/plain": [
       "          Hero    Comic\n",
       "uimodal   6439      NaN\n",
       "bimodal   6439  12651.0\n",
       "mixmodal  6439  12651.0"
      ]
     },
     "execution_count": 22,
     "metadata": {},
     "output_type": "execute_result"
    }
   ],
   "source": [
    "pd.DataFrame(uni_session.run(\"call apoc.meta.stats() YIELD labels\").value()).rename({0:'uimodal'}).append(\n",
    "pd.DataFrame(bi_session.run(\"call apoc.meta.stats() YIELD labels\").value()).rename({0:'bimodal'})).append(\n",
    "pd.DataFrame(mix_session.run(\"call apoc.meta.stats() YIELD labels\").value()).rename({0:'mixmodal'}))"
   ]
  },
  {
   "cell_type": "markdown",
   "metadata": {},
   "source": [
    "## Isolate Count"
   ]
  },
  {
   "cell_type": "code",
   "execution_count": 34,
   "metadata": {},
   "outputs": [
    {
     "name": "stderr",
     "output_type": "stream",
     "text": [
      "//anaconda3/lib/python3.7/site-packages/ipykernel/ipkernel.py:287: DeprecationWarning: `should_run_async` will not call `transform_cell` automatically in the future. Please pass the result to `transformed_cell` argument and any exception that happen during thetransform in `preprocessing_exc_tuple` in IPython 7.17 and above.\n",
      "  and should_run_async(code)\n"
     ]
    },
    {
     "data": {
      "text/html": [
       "<div>\n",
       "<style scoped>\n",
       "    .dataframe tbody tr th:only-of-type {\n",
       "        vertical-align: middle;\n",
       "    }\n",
       "\n",
       "    .dataframe tbody tr th {\n",
       "        vertical-align: top;\n",
       "    }\n",
       "\n",
       "    .dataframe thead th {\n",
       "        text-align: right;\n",
       "    }\n",
       "</style>\n",
       "<table border=\"1\" class=\"dataframe\">\n",
       "  <thead>\n",
       "    <tr style=\"text-align: right;\">\n",
       "      <th></th>\n",
       "      <th>node_count</th>\n",
       "      <th>relation_ct</th>\n",
       "      <th>isolates_count</th>\n",
       "      <th>isolates_pct</th>\n",
       "    </tr>\n",
       "  </thead>\n",
       "  <tbody>\n",
       "    <tr>\n",
       "      <th>unimodal</th>\n",
       "      <td>6439</td>\n",
       "      <td>171644</td>\n",
       "      <td>18</td>\n",
       "      <td>0.28</td>\n",
       "    </tr>\n",
       "    <tr>\n",
       "      <th>bimodal</th>\n",
       "      <td>19090</td>\n",
       "      <td>96104</td>\n",
       "      <td>0</td>\n",
       "      <td>0.00</td>\n",
       "    </tr>\n",
       "    <tr>\n",
       "      <th>mixmodal</th>\n",
       "      <td>19090</td>\n",
       "      <td>267748</td>\n",
       "      <td>0</td>\n",
       "      <td>0.00</td>\n",
       "    </tr>\n",
       "  </tbody>\n",
       "</table>\n",
       "</div>"
      ],
      "text/plain": [
       "          node_count  relation_ct  isolates_count  isolates_pct\n",
       "unimodal        6439       171644              18          0.28\n",
       "bimodal        19090        96104               0          0.00\n",
       "mixmodal       19090       267748               0          0.00"
      ]
     },
     "execution_count": 34,
     "metadata": {},
     "output_type": "execute_result"
    }
   ],
   "source": [
    "pd.DataFrame(uni_session.run('''MATCH (n) WHERE NOT (n)--() \n",
    "WITH COUNT(distinct n) as isolates_count\n",
    "MATCH ()-[r]->()\n",
    "WITH count(r) as relation_ct, isolates_count\n",
    "MATCH (c)\n",
    "with count(distinct c) as node_count, isolates_count, relation_ct\n",
    "return node_count, relation_ct, isolates_count,\n",
    "round(toFloat(isolates_count)/node_count*10000) / 100 as isolates_pct''').data()).rename({0:'unimodal'}).append(\n",
    "pd.DataFrame(bi_session.run('''MATCH (n) WHERE NOT (n)--() \n",
    "WITH COUNT(distinct n) as isolates_count\n",
    "MATCH ()-[r]->()\n",
    "WITH count(r) as relation_ct, isolates_count\n",
    "MATCH (c)\n",
    "with count(distinct c) as node_count, isolates_count, relation_ct\n",
    "return node_count, relation_ct, isolates_count,\n",
    "round(toFloat(isolates_count)/node_count*10000) / 100 as isolates_pct''').data())).rename({0:'bimodal'}).append(\n",
    "pd.DataFrame(mix_session.run('''MATCH (n) WHERE NOT (n)--() \n",
    "WITH COUNT(distinct n) as isolates_count\n",
    "MATCH ()-[r]->()\n",
    "WITH count(r) as relation_ct, isolates_count\n",
    "MATCH (c)\n",
    "with count(distinct c) as node_count, isolates_count, relation_ct\n",
    "return node_count, relation_ct, isolates_count,\n",
    "round(toFloat(isolates_count)/node_count*10000) / 100 as isolates_pct''').data()).rename({0:'mixmodal'}))"
   ]
  },
  {
   "cell_type": "markdown",
   "metadata": {},
   "source": [
    "## Relationship Count"
   ]
  },
  {
   "cell_type": "code",
   "execution_count": 39,
   "metadata": {},
   "outputs": [
    {
     "name": "stderr",
     "output_type": "stream",
     "text": [
      "//anaconda3/lib/python3.7/site-packages/ipykernel/ipkernel.py:287: DeprecationWarning: `should_run_async` will not call `transform_cell` automatically in the future. Please pass the result to `transformed_cell` argument and any exception that happen during thetransform in `preprocessing_exc_tuple` in IPython 7.17 and above.\n",
      "  and should_run_async(code)\n"
     ]
    },
    {
     "data": {
      "text/html": [
       "<div>\n",
       "<style scoped>\n",
       "    .dataframe tbody tr th:only-of-type {\n",
       "        vertical-align: middle;\n",
       "    }\n",
       "\n",
       "    .dataframe tbody tr th {\n",
       "        vertical-align: top;\n",
       "    }\n",
       "\n",
       "    .dataframe thead th {\n",
       "        text-align: right;\n",
       "    }\n",
       "</style>\n",
       "<table border=\"1\" class=\"dataframe\">\n",
       "  <thead>\n",
       "    <tr style=\"text-align: right;\">\n",
       "      <th></th>\n",
       "      <th>count</th>\n",
       "    </tr>\n",
       "  </thead>\n",
       "  <tbody>\n",
       "    <tr>\n",
       "      <th>unimodal</th>\n",
       "      <td>171644</td>\n",
       "    </tr>\n",
       "    <tr>\n",
       "      <th>bimodal</th>\n",
       "      <td>96104</td>\n",
       "    </tr>\n",
       "    <tr>\n",
       "      <th>mixmodal</th>\n",
       "      <td>267748</td>\n",
       "    </tr>\n",
       "  </tbody>\n",
       "</table>\n",
       "</div>"
      ],
      "text/plain": [
       "           count\n",
       "unimodal  171644\n",
       "bimodal    96104\n",
       "mixmodal  267748"
      ]
     },
     "execution_count": 39,
     "metadata": {},
     "output_type": "execute_result"
    }
   ],
   "source": [
    "pd.DataFrame(uni_session.run('''MATCH ()-[r]->()\n",
    "RETURN count(r) as count''').data()).rename({0:'unimodal'}).append(\n",
    "pd.DataFrame(bi_session.run('''MATCH ()-[r]->()\n",
    "RETURN count(r) as count''').data()).rename({0:'bimodal'})).append(\n",
    "pd.DataFrame(mix_session.run('''MATCH ()-[r]->()\n",
    "RETURN count(r) as count''').data()).rename({0:'mixmodal'}))"
   ]
  },
  {
   "cell_type": "code",
   "execution_count": 83,
   "metadata": {},
   "outputs": [
    {
     "name": "stderr",
     "output_type": "stream",
     "text": [
      "//anaconda3/lib/python3.7/site-packages/ipykernel/ipkernel.py:287: DeprecationWarning: `should_run_async` will not call `transform_cell` automatically in the future. Please pass the result to `transformed_cell` argument and any exception that happen during thetransform in `preprocessing_exc_tuple` in IPython 7.17 and above.\n",
      "  and should_run_async(code)\n"
     ]
    },
    {
     "data": {
      "text/html": [
       "<div>\n",
       "<style scoped>\n",
       "    .dataframe tbody tr th:only-of-type {\n",
       "        vertical-align: middle;\n",
       "    }\n",
       "\n",
       "    .dataframe tbody tr th {\n",
       "        vertical-align: top;\n",
       "    }\n",
       "\n",
       "    .dataframe thead th {\n",
       "        text-align: right;\n",
       "    }\n",
       "</style>\n",
       "<table border=\"1\" class=\"dataframe\">\n",
       "  <thead>\n",
       "    <tr style=\"text-align: right;\">\n",
       "      <th></th>\n",
       "      <th>KNOWS</th>\n",
       "      <th>APPEARS_IN</th>\n",
       "    </tr>\n",
       "  </thead>\n",
       "  <tbody>\n",
       "    <tr>\n",
       "      <th>unimodal</th>\n",
       "      <td>171644.0</td>\n",
       "      <td>NaN</td>\n",
       "    </tr>\n",
       "    <tr>\n",
       "      <th>bimodal</th>\n",
       "      <td>NaN</td>\n",
       "      <td>96104.0</td>\n",
       "    </tr>\n",
       "    <tr>\n",
       "      <th>mixmodal</th>\n",
       "      <td>171644.0</td>\n",
       "      <td>96104.0</td>\n",
       "    </tr>\n",
       "  </tbody>\n",
       "</table>\n",
       "</div>"
      ],
      "text/plain": [
       "             KNOWS  APPEARS_IN\n",
       "unimodal  171644.0         NaN\n",
       "bimodal        NaN     96104.0\n",
       "mixmodal  171644.0     96104.0"
      ]
     },
     "execution_count": 83,
     "metadata": {},
     "output_type": "execute_result"
    }
   ],
   "source": [
    "pd.DataFrame(uni_session.run('''MATCH ()-[r]->()\n",
    "RETURN type(r) as rel_type, count(r) as count''').data(\n",
    ")).rename({0:'unimodal'}).pivot(columns='rel_type', values='count').append(\n",
    "pd.DataFrame(bi_session.run('''MATCH ()-[r]->()\n",
    "RETURN type(r) as rel_type, count(r) as count''').data(\n",
    ")).rename({0:'bimodal'}).pivot(columns='rel_type', values='count')).append(\n",
    "pd.DataFrame(mix_session.run('''MATCH ()-[r]->()\n",
    "RETURN type(r) as rel_type, count(r) as count''').data(\n",
    ")).rename({0:'mixmodal', 1:'mixmodal'}).pivot(columns='rel_type', values='count'))"
   ]
  }
 ],
 "metadata": {
  "kernelspec": {
   "display_name": "Python 3",
   "language": "python",
   "name": "python3"
  },
  "language_info": {
   "codemirror_mode": {
    "name": "ipython",
    "version": 3
   },
   "file_extension": ".py",
   "mimetype": "text/x-python",
   "name": "python",
   "nbconvert_exporter": "python",
   "pygments_lexer": "ipython3",
   "version": "3.7.6"
  }
 },
 "nbformat": 4,
 "nbformat_minor": 4
}
