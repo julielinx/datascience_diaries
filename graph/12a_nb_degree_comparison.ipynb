{
 "cells": [
  {
   "cell_type": "markdown",
   "metadata": {},
   "source": [
    "# Entry G12a notebook: Degree Comparison"
   ]
  },
  {
   "cell_type": "code",
   "execution_count": 3,
   "metadata": {},
   "outputs": [],
   "source": [
    "import numpy as np\n",
    "import pandas as pd\n",
    "import matplotlib.pyplot as plt\n",
    "import seaborn as sns\n",
    "plt.style.use('ggplot')\n",
    "%matplotlib inline\n",
    "\n",
    "import warnings\n",
    "warnings.filterwarnings('once')\n",
    "\n",
    "from neo4j import GraphDatabase"
   ]
  },
  {
   "cell_type": "code",
   "execution_count": 110,
   "metadata": {},
   "outputs": [],
   "source": [
    "uri = \"bolt://localhost:7687\"\n",
    "\n",
    "driver = GraphDatabase.driver(uri, auth=('neo4j', 'password'))\n",
    "\n",
    "uni_session = driver.session(database=\"unimodal\")\n",
    "bi_session = driver.session(database=\"bimodal\")\n",
    "mix_session = driver.session(database=\"mixmodal\")"
   ]
  },
  {
   "cell_type": "markdown",
   "metadata": {},
   "source": [
    "## Degree Count"
   ]
  },
  {
   "cell_type": "markdown",
   "metadata": {},
   "source": [
    "### Unimodal Model"
   ]
  },
  {
   "cell_type": "code",
   "execution_count": 143,
   "metadata": {},
   "outputs": [
    {
     "data": {
      "text/plain": [
       "[{'rel_type': 'KNOWS', 'count': 171644}]"
      ]
     },
     "execution_count": 143,
     "metadata": {},
     "output_type": "execute_result"
    }
   ],
   "source": [
    "uni_session.run('''MATCH ()-[r]->()\n",
    "RETURN type(r) as rel_type, count(r) as count''').data()"
   ]
  },
  {
   "cell_type": "markdown",
   "metadata": {},
   "source": [
    "### Bimodal Model"
   ]
  },
  {
   "cell_type": "code",
   "execution_count": 91,
   "metadata": {},
   "outputs": [
    {
     "data": {
      "text/plain": [
       "[{'rel_type': 'APPEARS_IN', 'count': 96104}]"
      ]
     },
     "execution_count": 91,
     "metadata": {},
     "output_type": "execute_result"
    }
   ],
   "source": [
    "bi_session.run('''MATCH ()-[r]->()\n",
    "RETURN type(r) as rel_type, count(r) as count''').data()"
   ]
  },
  {
   "cell_type": "markdown",
   "metadata": {},
   "source": [
    "### Mixed Model"
   ]
  },
  {
   "cell_type": "code",
   "execution_count": 142,
   "metadata": {},
   "outputs": [
    {
     "name": "stderr",
     "output_type": "stream",
     "text": [
      "//anaconda3/lib/python3.7/site-packages/ipykernel/ipkernel.py:287: DeprecationWarning: `should_run_async` will not call `transform_cell` automatically in the future. Please pass the result to `transformed_cell` argument and any exception that happen during thetransform in `preprocessing_exc_tuple` in IPython 7.17 and above.\n",
      "  and should_run_async(code)\n"
     ]
    },
    {
     "data": {
      "text/plain": [
       "[{'rel_type': 'APPEARS_IN', 'count': 96104},\n",
       " {'rel_type': 'KNOWS', 'count': 171613}]"
      ]
     },
     "execution_count": 142,
     "metadata": {},
     "output_type": "execute_result"
    }
   ],
   "source": [
    "mix_session.run('''MATCH ()-[r]->()\n",
    "RETURN type(r) as rel_type, count(r) as count''').data()"
   ]
  },
  {
   "cell_type": "markdown",
   "metadata": {},
   "source": [
    "## Degree Summary Statistics"
   ]
  },
  {
   "cell_type": "markdown",
   "metadata": {},
   "source": [
    "### Unimodal Model"
   ]
  },
  {
   "cell_type": "markdown",
   "metadata": {},
   "source": [
    "#### Pattern match"
   ]
  },
  {
   "cell_type": "code",
   "execution_count": 111,
   "metadata": {},
   "outputs": [
    {
     "data": {
      "text/plain": [
       "[{'degree_min': 0,\n",
       "  'degree_max': 1919,\n",
       "  'degree_avg': 53.31,\n",
       "  'degree_stdev': 116.63}]"
      ]
     },
     "execution_count": 111,
     "metadata": {},
     "output_type": "execute_result"
    }
   ],
   "source": [
    "uni_session.run('''MATCH (c1)\n",
    "OPTIONAL MATCH (c1)-[]-(c2)\n",
    "WITH c1, count(distinct c2) as degree\n",
    "RETURN min(degree) as degree_min,\n",
    "max(degree) as degree_max,\n",
    "round(avg(degree), 2) as degree_avg,\n",
    "round(stDev(degree), 2) as degree_stdev\n",
    "''').data()"
   ]
  },
  {
   "cell_type": "markdown",
   "metadata": {},
   "source": [
    "#### `apoc` function."
   ]
  },
  {
   "cell_type": "code",
   "execution_count": 9,
   "metadata": {},
   "outputs": [
    {
     "data": {
      "text/plain": [
       "[{'degree_min': 0,\n",
       "  'degree_max': 1919,\n",
       "  'degree_avg': 53.31,\n",
       "  'degree_stdev': 116.63}]"
      ]
     },
     "execution_count": 9,
     "metadata": {},
     "output_type": "execute_result"
    }
   ],
   "source": [
    "uni_session.run('''MATCH (n)\n",
    "RETURN min(apoc.node.degree(n)) as degree_min,\n",
    "max(apoc.node.degree(n)) as degree_max,\n",
    "round(avg(apoc.node.degree(n))*100)/100 as degree_avg,\n",
    "round(stdev(apoc.node.degree(n))*100)/100 as degree_stdev''').data()"
   ]
  },
  {
   "cell_type": "markdown",
   "metadata": {},
   "source": [
    "#### `gds` function"
   ]
  },
  {
   "cell_type": "code",
   "execution_count": 11,
   "metadata": {},
   "outputs": [
    {
     "data": {
      "text/plain": [
       "[{'degree_min': 0.0,\n",
       "  'degree_max': 1919.0,\n",
       "  'degree_avg': 53.31,\n",
       "  'degree_stdev': 116.63}]"
      ]
     },
     "execution_count": 11,
     "metadata": {},
     "output_type": "execute_result"
    }
   ],
   "source": [
    "uni_session.run('''CALL gds.alpha.degree.stream({\n",
    "  nodeProjection: 'Hero',\n",
    "  relationshipProjection: {\n",
    "  KNOWS: {\n",
    "  type: 'KNOWS',\n",
    "  orientation:'UNDIRECTED'\n",
    "  }}\n",
    "})\n",
    "YIELD nodeId, score\n",
    "WITH gds.util.asNode(nodeId).name AS hero, score AS degree\n",
    "RETURN min(degree) as degree_min,\n",
    "max(degree) as degree_max,\n",
    "round(avg(degree)*100)/100 as degree_avg,\n",
    "round(stdev(degree)*100)/100 as degree_stdev''').data()"
   ]
  },
  {
   "cell_type": "markdown",
   "metadata": {},
   "source": [
    "#### `size` function"
   ]
  },
  {
   "cell_type": "code",
   "execution_count": 97,
   "metadata": {
    "scrolled": true
   },
   "outputs": [
    {
     "data": {
      "text/plain": [
       "[{'degree_min': 0,\n",
       "  'degree_max': 1919,\n",
       "  'degree_avg': 53.31,\n",
       "  'degree_stdev': 116.63}]"
      ]
     },
     "execution_count": 97,
     "metadata": {},
     "output_type": "execute_result"
    }
   ],
   "source": [
    "uni_session.run('''MATCH (h)\n",
    "WITH h.name as hero, size((h)--()) as degree\n",
    "RETURN min(degree) as degree_min,\n",
    "max(degree) as degree_max,\n",
    "round(avg(degree)*100)/100 as degree_avg,\n",
    "round(stdev(degree)*100)/100 as degree_stdev''').data()"
   ]
  },
  {
   "cell_type": "markdown",
   "metadata": {},
   "source": [
    "### Bimodal Model"
   ]
  },
  {
   "cell_type": "markdown",
   "metadata": {},
   "source": [
    "#### Pattern match\n",
    "\n",
    "To provide consistency between the pattern match option and the `gds` function, I'm including three ways to pull the degree by including (or excluding) information about the direction of the relationship.\n",
    "\n",
    "- Outgoing relationship\n",
    "  - Due to the relationship direction in our data, the query only returns c2 results when the start node is a Hero node\n",
    "  - (:Hero)-[]->(:Comic)\n",
    "- Incoming relationship\n",
    "  - Due to the relationship direction in our data, the query only returns c2 results when the start node is a Comic node\n",
    "  - (:Comic)<-[]-(:Hero)\n",
    "- Undirected relationship\n",
    "  - Because there is no constraint regarding the direction of the relationship, the query returns results for c2 regardless of node label\n",
    "  - (:Hero)-[]-(:Comic)\n",
    "  - (:Comic)-[]-(:Hero)\n",
    "  \n",
    "*Note*, if we fail to include the label in the first `MATCH` statement of the outgoing and incoming relationship queries, all nodes of the other label will return a degree of 0, which effects our average and standard deviation."
   ]
  },
  {
   "cell_type": "markdown",
   "metadata": {},
   "source": [
    "**Outgoing relationship**"
   ]
  },
  {
   "cell_type": "code",
   "execution_count": 137,
   "metadata": {},
   "outputs": [
    {
     "data": {
      "text/html": [
       "<div>\n",
       "<style scoped>\n",
       "    .dataframe tbody tr th:only-of-type {\n",
       "        vertical-align: middle;\n",
       "    }\n",
       "\n",
       "    .dataframe tbody tr th {\n",
       "        vertical-align: top;\n",
       "    }\n",
       "\n",
       "    .dataframe thead th {\n",
       "        text-align: right;\n",
       "    }\n",
       "</style>\n",
       "<table border=\"1\" class=\"dataframe\">\n",
       "  <thead>\n",
       "    <tr style=\"text-align: right;\">\n",
       "      <th></th>\n",
       "      <th>incorrect</th>\n",
       "      <th>correct</th>\n",
       "    </tr>\n",
       "  </thead>\n",
       "  <tbody>\n",
       "    <tr>\n",
       "      <th>degree_min</th>\n",
       "      <td>0.00</td>\n",
       "      <td>1.00</td>\n",
       "    </tr>\n",
       "    <tr>\n",
       "      <th>degree_max</th>\n",
       "      <td>1577.00</td>\n",
       "      <td>1577.00</td>\n",
       "    </tr>\n",
       "    <tr>\n",
       "      <th>degree_avg</th>\n",
       "      <td>5.03</td>\n",
       "      <td>14.93</td>\n",
       "    </tr>\n",
       "    <tr>\n",
       "      <th>degree_stdev</th>\n",
       "      <td>35.14</td>\n",
       "      <td>59.27</td>\n",
       "    </tr>\n",
       "  </tbody>\n",
       "</table>\n",
       "</div>"
      ],
      "text/plain": [
       "              incorrect  correct\n",
       "degree_min         0.00     1.00\n",
       "degree_max      1577.00  1577.00\n",
       "degree_avg         5.03    14.93\n",
       "degree_stdev      35.14    59.27"
      ]
     },
     "execution_count": 137,
     "metadata": {},
     "output_type": "execute_result"
    }
   ],
   "source": [
    "pd.DataFrame(bi_session.run('''MATCH (c1)\n",
    "OPTIONAL MATCH (c1)-[]->(c2)\n",
    "WITH c1, count(distinct c2) as degree\n",
    "RETURN min(degree) as degree_min,\n",
    "max(degree) as degree_max,\n",
    "round(avg(degree), 2) as degree_avg,\n",
    "round(stDev(degree), 2) as degree_stdev\n",
    "''').data()).transpose().rename(columns={0:'incorrect'}).merge(\n",
    "pd.DataFrame(bi_session.run('''MATCH (c1:Hero)\n",
    "OPTIONAL MATCH (c1)-[]->(c2)\n",
    "WITH c1, count(distinct c2) as degree\n",
    "RETURN min(degree) as degree_min,\n",
    "max(degree) as degree_max,\n",
    "round(avg(degree), 2) as degree_avg,\n",
    "round(stDev(degree), 2) as degree_stdev\n",
    "''').data()).transpose().rename(columns={0:'correct'}), left_index=True, right_index=True)"
   ]
  },
  {
   "cell_type": "markdown",
   "metadata": {},
   "source": [
    "**Incoming relationship**"
   ]
  },
  {
   "cell_type": "code",
   "execution_count": 141,
   "metadata": {},
   "outputs": [
    {
     "data": {
      "text/html": [
       "<div>\n",
       "<style scoped>\n",
       "    .dataframe tbody tr th:only-of-type {\n",
       "        vertical-align: middle;\n",
       "    }\n",
       "\n",
       "    .dataframe tbody tr th {\n",
       "        vertical-align: top;\n",
       "    }\n",
       "\n",
       "    .dataframe thead th {\n",
       "        text-align: right;\n",
       "    }\n",
       "</style>\n",
       "<table border=\"1\" class=\"dataframe\">\n",
       "  <thead>\n",
       "    <tr style=\"text-align: right;\">\n",
       "      <th></th>\n",
       "      <th>incorrect</th>\n",
       "      <th>correct</th>\n",
       "    </tr>\n",
       "  </thead>\n",
       "  <tbody>\n",
       "    <tr>\n",
       "      <th>degree_min</th>\n",
       "      <td>0.00</td>\n",
       "      <td>1.00</td>\n",
       "    </tr>\n",
       "    <tr>\n",
       "      <th>degree_max</th>\n",
       "      <td>111.00</td>\n",
       "      <td>111.00</td>\n",
       "    </tr>\n",
       "    <tr>\n",
       "      <th>degree_avg</th>\n",
       "      <td>5.03</td>\n",
       "      <td>7.60</td>\n",
       "    </tr>\n",
       "    <tr>\n",
       "      <th>degree_stdev</th>\n",
       "      <td>6.35</td>\n",
       "      <td>6.44</td>\n",
       "    </tr>\n",
       "  </tbody>\n",
       "</table>\n",
       "</div>"
      ],
      "text/plain": [
       "              incorrect  correct\n",
       "degree_min         0.00     1.00\n",
       "degree_max       111.00   111.00\n",
       "degree_avg         5.03     7.60\n",
       "degree_stdev       6.35     6.44"
      ]
     },
     "execution_count": 141,
     "metadata": {},
     "output_type": "execute_result"
    }
   ],
   "source": [
    "pd.DataFrame(bi_session.run('''MATCH (c1)\n",
    "OPTIONAL MATCH (c1)<-[]-(c2)\n",
    "WITH c1, count(distinct c2) as degree\n",
    "RETURN min(degree) as degree_min,\n",
    "max(degree) as degree_max,\n",
    "round(avg(degree), 2) as degree_avg,\n",
    "round(stDev(degree), 2) as degree_stdev\n",
    "''').data()).transpose().rename(columns={0:'incorrect'}).merge(\n",
    "pd.DataFrame(bi_session.run('''MATCH (c1:Comic)\n",
    "OPTIONAL MATCH (c1)<-[]-(c2)\n",
    "WITH c1, count(distinct c2) as degree\n",
    "RETURN min(degree) as degree_min,\n",
    "max(degree) as degree_max,\n",
    "round(avg(degree), 2) as degree_avg,\n",
    "round(stDev(degree), 2) as degree_stdev\n",
    "''').data()).transpose().rename(columns={0:'correct'}), left_index=True, right_index=True)"
   ]
  },
  {
   "cell_type": "markdown",
   "metadata": {},
   "source": [
    "**Undirected relationship**"
   ]
  },
  {
   "cell_type": "code",
   "execution_count": 116,
   "metadata": {},
   "outputs": [
    {
     "data": {
      "text/plain": [
       "[{'degree_min': 1,\n",
       "  'degree_max': 1577,\n",
       "  'degree_avg': 10.07,\n",
       "  'degree_stdev': 34.99}]"
      ]
     },
     "execution_count": 116,
     "metadata": {},
     "output_type": "execute_result"
    }
   ],
   "source": [
    "bi_session.run('''MATCH (c1)\n",
    "OPTIONAL MATCH (c1)-[]-(c2)\n",
    "WITH c1, count(distinct c2) as degree\n",
    "RETURN min(degree) as degree_min,\n",
    "max(degree) as degree_max,\n",
    "round(avg(degree),2) as degree_avg,\n",
    "round(stDev(degree),2) as degree_stdev\n",
    "''').data()"
   ]
  },
  {
   "cell_type": "markdown",
   "metadata": {},
   "source": [
    "**Outgoing, incoming, and undirected relationship combined**"
   ]
  },
  {
   "cell_type": "code",
   "execution_count": 117,
   "metadata": {},
   "outputs": [
    {
     "data": {
      "text/html": [
       "<div>\n",
       "<style scoped>\n",
       "    .dataframe tbody tr th:only-of-type {\n",
       "        vertical-align: middle;\n",
       "    }\n",
       "\n",
       "    .dataframe tbody tr th {\n",
       "        vertical-align: top;\n",
       "    }\n",
       "\n",
       "    .dataframe thead th {\n",
       "        text-align: right;\n",
       "    }\n",
       "</style>\n",
       "<table border=\"1\" class=\"dataframe\">\n",
       "  <thead>\n",
       "    <tr style=\"text-align: right;\">\n",
       "      <th></th>\n",
       "      <th>outgoing (hero to comic)</th>\n",
       "      <th>incoming (comic from hero)</th>\n",
       "      <th>undirected (all)</th>\n",
       "    </tr>\n",
       "  </thead>\n",
       "  <tbody>\n",
       "    <tr>\n",
       "      <th>degree_min</th>\n",
       "      <td>1.00</td>\n",
       "      <td>1.00</td>\n",
       "      <td>1.00</td>\n",
       "    </tr>\n",
       "    <tr>\n",
       "      <th>degree_max</th>\n",
       "      <td>1577.00</td>\n",
       "      <td>111.00</td>\n",
       "      <td>1577.00</td>\n",
       "    </tr>\n",
       "    <tr>\n",
       "      <th>degree_avg</th>\n",
       "      <td>14.93</td>\n",
       "      <td>7.60</td>\n",
       "      <td>10.07</td>\n",
       "    </tr>\n",
       "    <tr>\n",
       "      <th>degree_stdev</th>\n",
       "      <td>59.27</td>\n",
       "      <td>6.44</td>\n",
       "      <td>34.99</td>\n",
       "    </tr>\n",
       "  </tbody>\n",
       "</table>\n",
       "</div>"
      ],
      "text/plain": [
       "              outgoing (hero to comic)  incoming (comic from hero)  \\\n",
       "degree_min                        1.00                        1.00   \n",
       "degree_max                     1577.00                      111.00   \n",
       "degree_avg                       14.93                        7.60   \n",
       "degree_stdev                     59.27                        6.44   \n",
       "\n",
       "              undirected (all)  \n",
       "degree_min                1.00  \n",
       "degree_max             1577.00  \n",
       "degree_avg               10.07  \n",
       "degree_stdev             34.99  "
      ]
     },
     "execution_count": 117,
     "metadata": {},
     "output_type": "execute_result"
    }
   ],
   "source": [
    "pd.DataFrame(bi_session.run('''MATCH (c1:Hero)\n",
    "OPTIONAL MATCH (c1)-[]->(c2)\n",
    "WITH c1, count(distinct c2) as degree\n",
    "RETURN min(degree) as degree_min,\n",
    "max(degree) as degree_max,\n",
    "round(avg(degree),2) as degree_avg,\n",
    "round(stDev(degree),2) as degree_stdev\n",
    "''').data()).transpose().rename(columns = {0:'outgoing (hero to comic)'}).merge(\n",
    "pd.DataFrame(bi_session.run('''MATCH (c1:Comic)\n",
    "OPTIONAL MATCH (c1)<-[]-(c2)\n",
    "WITH c1, count(distinct c2) as degree\n",
    "RETURN min(degree) as degree_min,\n",
    "max(degree) as degree_max,\n",
    "round(avg(degree),2) as degree_avg,\n",
    "round(stDev(degree),2) as degree_stdev\n",
    "''').data()).transpose().rename(columns = {0:'incoming (comic from hero)'}), left_index=True, right_index=True).merge(\n",
    "pd.DataFrame(bi_session.run('''MATCH (c1)\n",
    "OPTIONAL MATCH (c1)-[]-(c2)\n",
    "WITH c1, count(distinct c2) as degree\n",
    "RETURN min(degree) as degree_min,\n",
    "max(degree) as degree_max,\n",
    "round(avg(degree),2) as degree_avg,\n",
    "round(stDev(degree),2) as degree_stdev\n",
    "''').data()).transpose().rename(columns = {0:'undirected (all)'}), left_index=True, right_index=True)"
   ]
  },
  {
   "cell_type": "markdown",
   "metadata": {},
   "source": [
    "#### `apoc` function."
   ]
  },
  {
   "cell_type": "code",
   "execution_count": 10,
   "metadata": {},
   "outputs": [
    {
     "data": {
      "text/plain": [
       "[{'degree_min': 1,\n",
       "  'degree_max': 1577,\n",
       "  'degree_avg': 10.07,\n",
       "  'degree_stdev': 34.99}]"
      ]
     },
     "execution_count": 10,
     "metadata": {},
     "output_type": "execute_result"
    }
   ],
   "source": [
    "bi_session.run('''MATCH (n)\n",
    "RETURN min(apoc.node.degree(n)) as degree_min,\n",
    "max(apoc.node.degree(n)) as degree_max,\n",
    "round(avg(apoc.node.degree(n))*100)/100 as degree_avg,\n",
    "round(stdev(apoc.node.degree(n))*100)/100 as degree_stdev''').data()"
   ]
  },
  {
   "cell_type": "markdown",
   "metadata": {},
   "source": [
    "#### `gds` function\n",
    "\n",
    "Relationship orientation options:\n",
    "\n",
    "- `NATURAL`\n",
    "  - Follows the indicated relationship direction\n",
    "  - Ex: (:Hero)-[:APPEARS_IN]->(:Comic)\n",
    "  - For the bimodal model, this will tell us the number of comics that a hero appears in\n",
    "- `REVERSE` \n",
    "  - Reverses the indicated relationship direction\n",
    "  - Ex: (:Hero)<-[:APPEARS_IN]-(:Comic)\n",
    "  - For the bimodal model, this will tell us the number of heros in any given comic\n",
    "- `UNDIRECTED`\n",
    "  - Uses relationship regardless of direction\n",
    "  - Ex: (:Hero)-[:APPEARS_IN]-(:Comic)\n",
    "  - This will include both the number of comics that a hero appears in and the number of heros in any given comic"
   ]
  },
  {
   "cell_type": "code",
   "execution_count": 122,
   "metadata": {},
   "outputs": [
    {
     "name": "stderr",
     "output_type": "stream",
     "text": [
      "//anaconda3/lib/python3.7/site-packages/ipykernel/ipkernel.py:287: DeprecationWarning: `should_run_async` will not call `transform_cell` automatically in the future. Please pass the result to `transformed_cell` argument and any exception that happen during thetransform in `preprocessing_exc_tuple` in IPython 7.17 and above.\n",
      "  and should_run_async(code)\n"
     ]
    },
    {
     "data": {
      "text/html": [
       "<div>\n",
       "<style scoped>\n",
       "    .dataframe tbody tr th:only-of-type {\n",
       "        vertical-align: middle;\n",
       "    }\n",
       "\n",
       "    .dataframe tbody tr th {\n",
       "        vertical-align: top;\n",
       "    }\n",
       "\n",
       "    .dataframe thead th {\n",
       "        text-align: right;\n",
       "    }\n",
       "</style>\n",
       "<table border=\"1\" class=\"dataframe\">\n",
       "  <thead>\n",
       "    <tr style=\"text-align: right;\">\n",
       "      <th></th>\n",
       "      <th>NATURAL</th>\n",
       "      <th>REVERSE</th>\n",
       "      <th>UNDIRECTED</th>\n",
       "    </tr>\n",
       "  </thead>\n",
       "  <tbody>\n",
       "    <tr>\n",
       "      <th>degree_min</th>\n",
       "      <td>0.00</td>\n",
       "      <td>0.00</td>\n",
       "      <td>1.00</td>\n",
       "    </tr>\n",
       "    <tr>\n",
       "      <th>degree_max</th>\n",
       "      <td>1577.00</td>\n",
       "      <td>111.00</td>\n",
       "      <td>1577.00</td>\n",
       "    </tr>\n",
       "    <tr>\n",
       "      <th>degree_avg</th>\n",
       "      <td>5.03</td>\n",
       "      <td>5.03</td>\n",
       "      <td>10.07</td>\n",
       "    </tr>\n",
       "    <tr>\n",
       "      <th>degree_stdev</th>\n",
       "      <td>35.14</td>\n",
       "      <td>6.35</td>\n",
       "      <td>34.99</td>\n",
       "    </tr>\n",
       "  </tbody>\n",
       "</table>\n",
       "</div>"
      ],
      "text/plain": [
       "              NATURAL  REVERSE  UNDIRECTED\n",
       "degree_min       0.00     0.00        1.00\n",
       "degree_max    1577.00   111.00     1577.00\n",
       "degree_avg       5.03     5.03       10.07\n",
       "degree_stdev    35.14     6.35       34.99"
      ]
     },
     "execution_count": 122,
     "metadata": {},
     "output_type": "execute_result"
    }
   ],
   "source": [
    "pd.DataFrame(bi_session.run('''CALL gds.alpha.degree.stream({\n",
    "  nodeProjection: ['Hero', 'Comic'],\n",
    "  relationshipProjection: {\n",
    "  APPEARS_IN: {\n",
    "  type: 'APPEARS_IN',\n",
    "  orientation:'NATURAL'\n",
    "  }}\n",
    "})\n",
    "YIELD nodeId, score\n",
    "WITH gds.util.asNode(nodeId).name AS hero, score AS degree\n",
    "RETURN min(degree) as degree_min,\n",
    "max(degree) as degree_max,\n",
    "round(avg(degree)*100)/100 as degree_avg,\n",
    "round(stdev(degree)*100)/100 as degree_stdev''').data()).transpose().rename(columns = {0:'NATURAL'}).merge(\n",
    "    pd.DataFrame(bi_session.run('''CALL gds.alpha.degree.stream({\n",
    "  nodeProjection: ['Hero', 'Comic'],\n",
    "  relationshipProjection: {\n",
    "  APPEARS_IN: {\n",
    "  type: 'APPEARS_IN',\n",
    "  orientation:'REVERSE'\n",
    "  }}\n",
    "})\n",
    "YIELD nodeId, score\n",
    "WITH gds.util.asNode(nodeId).name AS hero, score AS degree\n",
    "RETURN min(degree) as degree_min,\n",
    "max(degree) as degree_max,\n",
    "round(avg(degree)*100)/100 as degree_avg,\n",
    "round(stdev(degree)*100)/100 as degree_stdev''').data()).transpose().rename(columns = {0:'REVERSE'}), left_index=True, right_index=True).merge(\n",
    "    pd.DataFrame(bi_session.run('''CALL gds.alpha.degree.stream({\n",
    "  nodeProjection: ['Hero', 'Comic'],\n",
    "  relationshipProjection: {\n",
    "  APPEARS_IN: {\n",
    "  type: 'APPEARS_IN',\n",
    "  orientation:'UNDIRECTED'\n",
    "  }}\n",
    "})\n",
    "YIELD nodeId, score\n",
    "WITH gds.util.asNode(nodeId).name AS hero, score AS degree\n",
    "RETURN min(degree) as degree_min,\n",
    "max(degree) as degree_max,\n",
    "round(avg(degree)*100)/100 as degree_avg,\n",
    "round(stdev(degree)*100)/100 as degree_stdev''').data()).transpose().rename(columns = {0:'UNDIRECTED'}), left_index=True, right_index=True)"
   ]
  },
  {
   "cell_type": "markdown",
   "metadata": {},
   "source": [
    "#### `size` function"
   ]
  },
  {
   "cell_type": "code",
   "execution_count": 123,
   "metadata": {},
   "outputs": [
    {
     "name": "stderr",
     "output_type": "stream",
     "text": [
      "//anaconda3/lib/python3.7/site-packages/ipykernel/ipkernel.py:287: DeprecationWarning: `should_run_async` will not call `transform_cell` automatically in the future. Please pass the result to `transformed_cell` argument and any exception that happen during thetransform in `preprocessing_exc_tuple` in IPython 7.17 and above.\n",
      "  and should_run_async(code)\n"
     ]
    },
    {
     "data": {
      "text/html": [
       "<div>\n",
       "<style scoped>\n",
       "    .dataframe tbody tr th:only-of-type {\n",
       "        vertical-align: middle;\n",
       "    }\n",
       "\n",
       "    .dataframe tbody tr th {\n",
       "        vertical-align: top;\n",
       "    }\n",
       "\n",
       "    .dataframe thead th {\n",
       "        text-align: right;\n",
       "    }\n",
       "</style>\n",
       "<table border=\"1\" class=\"dataframe\">\n",
       "  <thead>\n",
       "    <tr style=\"text-align: right;\">\n",
       "      <th></th>\n",
       "      <th>outgoing (hero to comic)</th>\n",
       "      <th>incoming (comic from hero)</th>\n",
       "      <th>undirected (all)</th>\n",
       "    </tr>\n",
       "  </thead>\n",
       "  <tbody>\n",
       "    <tr>\n",
       "      <th>degree_min</th>\n",
       "      <td>1.00</td>\n",
       "      <td>1.00</td>\n",
       "      <td>1.00</td>\n",
       "    </tr>\n",
       "    <tr>\n",
       "      <th>degree_max</th>\n",
       "      <td>1577.00</td>\n",
       "      <td>111.00</td>\n",
       "      <td>1577.00</td>\n",
       "    </tr>\n",
       "    <tr>\n",
       "      <th>degree_avg</th>\n",
       "      <td>14.93</td>\n",
       "      <td>7.60</td>\n",
       "      <td>10.07</td>\n",
       "    </tr>\n",
       "    <tr>\n",
       "      <th>degree_stdev</th>\n",
       "      <td>59.27</td>\n",
       "      <td>6.44</td>\n",
       "      <td>34.99</td>\n",
       "    </tr>\n",
       "  </tbody>\n",
       "</table>\n",
       "</div>"
      ],
      "text/plain": [
       "              outgoing (hero to comic)  incoming (comic from hero)  \\\n",
       "degree_min                        1.00                        1.00   \n",
       "degree_max                     1577.00                      111.00   \n",
       "degree_avg                       14.93                        7.60   \n",
       "degree_stdev                     59.27                        6.44   \n",
       "\n",
       "              undirected (all)  \n",
       "degree_min                1.00  \n",
       "degree_max             1577.00  \n",
       "degree_avg               10.07  \n",
       "degree_stdev             34.99  "
      ]
     },
     "execution_count": 123,
     "metadata": {},
     "output_type": "execute_result"
    }
   ],
   "source": [
    "pd.DataFrame(bi_session.run('''MATCH (h:Hero)\n",
    "WITH h.name as hero, size((h)--()) as degree\n",
    "RETURN min(degree) as degree_min,\n",
    "max(degree) as degree_max,\n",
    "round(avg(degree)*100)/100 as degree_avg,\n",
    "round(stdev(degree)*100)/100 as degree_stdev\n",
    "''').data()).transpose().rename(columns = {0:'outgoing (hero to comic)'}).merge(\n",
    "pd.DataFrame(bi_session.run('''MATCH (c:Comic)\n",
    "WITH c.name as comic, size((c)--()) as degree\n",
    "RETURN min(degree) as degree_min,\n",
    "max(degree) as degree_max,\n",
    "round(avg(degree)*100)/100 as degree_avg,\n",
    "round(stdev(degree)*100)/100 as degree_stdev\n",
    "''').data()).transpose().rename(columns = {0:'incoming (comic from hero)'}), left_index=True, right_index=True).merge(\n",
    "pd.DataFrame(bi_session.run('''MATCH (n)\n",
    "WITH n.name as name, size((n)--()) as degree\n",
    "RETURN min(degree) as degree_min,\n",
    "max(degree) as degree_max,\n",
    "round(avg(degree)*100)/100 as degree_avg,\n",
    "round(stdev(degree)*100)/100 as degree_stdev\n",
    "''').data()).transpose().rename(columns = {0:'undirected (all)'}), left_index=True, right_index=True)"
   ]
  },
  {
   "cell_type": "markdown",
   "metadata": {},
   "source": [
    "### Mixed Model"
   ]
  },
  {
   "cell_type": "markdown",
   "metadata": {},
   "source": [
    "#### Pattern match"
   ]
  },
  {
   "cell_type": "code",
   "execution_count": 128,
   "metadata": {},
   "outputs": [
    {
     "data": {
      "text/html": [
       "<div>\n",
       "<style scoped>\n",
       "    .dataframe tbody tr th:only-of-type {\n",
       "        vertical-align: middle;\n",
       "    }\n",
       "\n",
       "    .dataframe tbody tr th {\n",
       "        vertical-align: top;\n",
       "    }\n",
       "\n",
       "    .dataframe thead th {\n",
       "        text-align: right;\n",
       "    }\n",
       "</style>\n",
       "<table border=\"1\" class=\"dataframe\">\n",
       "  <thead>\n",
       "    <tr style=\"text-align: right;\">\n",
       "      <th></th>\n",
       "      <th>APPEARS_IN undirected</th>\n",
       "      <th>hero to comic</th>\n",
       "      <th>comic to hero</th>\n",
       "      <th>KNOWS undirected (hero to hero)</th>\n",
       "      <th>all undirected</th>\n",
       "    </tr>\n",
       "  </thead>\n",
       "  <tbody>\n",
       "    <tr>\n",
       "      <th>degree_min</th>\n",
       "      <td>1.00</td>\n",
       "      <td>1.00</td>\n",
       "      <td>1.00</td>\n",
       "      <td>1.00</td>\n",
       "      <td>1.00</td>\n",
       "    </tr>\n",
       "    <tr>\n",
       "      <th>degree_max</th>\n",
       "      <td>1577.00</td>\n",
       "      <td>1577.00</td>\n",
       "      <td>111.00</td>\n",
       "      <td>1919.00</td>\n",
       "      <td>3331.00</td>\n",
       "    </tr>\n",
       "    <tr>\n",
       "      <th>degree_avg</th>\n",
       "      <td>10.07</td>\n",
       "      <td>14.93</td>\n",
       "      <td>7.60</td>\n",
       "      <td>53.45</td>\n",
       "      <td>28.05</td>\n",
       "    </tr>\n",
       "    <tr>\n",
       "      <th>degree_stdev</th>\n",
       "      <td>34.99</td>\n",
       "      <td>59.27</td>\n",
       "      <td>6.44</td>\n",
       "      <td>116.75</td>\n",
       "      <td>104.41</td>\n",
       "    </tr>\n",
       "  </tbody>\n",
       "</table>\n",
       "</div>"
      ],
      "text/plain": [
       "              APPEARS_IN undirected  hero to comic  comic to hero  \\\n",
       "degree_min                     1.00           1.00           1.00   \n",
       "degree_max                  1577.00        1577.00         111.00   \n",
       "degree_avg                    10.07          14.93           7.60   \n",
       "degree_stdev                  34.99          59.27           6.44   \n",
       "\n",
       "              KNOWS undirected (hero to hero)  all undirected  \n",
       "degree_min                               1.00            1.00  \n",
       "degree_max                            1919.00         3331.00  \n",
       "degree_avg                              53.45           28.05  \n",
       "degree_stdev                           116.75          104.41  "
      ]
     },
     "execution_count": 128,
     "metadata": {},
     "output_type": "execute_result"
    }
   ],
   "source": [
    "pd.DataFrame(mix_session.run('''MATCH (c1)-[:APPEARS_IN]-(c2)\n",
    "WITH c1, count(distinct c2) as degree\n",
    "RETURN min(degree) as degree_min,\n",
    "max(degree) as degree_max,\n",
    "round(avg(degree),2) as degree_avg,\n",
    "round(stDev(degree),2) as degree_stdev\n",
    "''').data()).transpose().rename(columns = {0:'APPEARS_IN undirected'}).merge(\n",
    "pd.DataFrame(mix_session.run('''MATCH (c1:Hero)-[:APPEARS_IN]->(c2:Comic)\n",
    "WITH c1, count(distinct c2) as degree\n",
    "RETURN min(degree) as degree_min,\n",
    "max(degree) as degree_max,\n",
    "round(avg(degree),2) as degree_avg,\n",
    "round(stDev(degree),2) as degree_stdev\n",
    "''').data()).transpose().rename(columns = {0:'hero to comic'}), left_index=True, right_index=True).merge(\n",
    "pd.DataFrame(mix_session.run('''MATCH (c1:Comic)<-[:APPEARS_IN]-(c2:Hero)\n",
    "WITH c1, count(distinct c2) as degree\n",
    "RETURN min(degree) as degree_min,\n",
    "max(degree) as degree_max,\n",
    "round(avg(degree),2) as degree_avg,\n",
    "round(stDev(degree),2) as degree_stdev\n",
    "''').data()).transpose().rename(columns = {0:'comic to hero'}), left_index=True, right_index=True).merge(\n",
    "pd.DataFrame(mix_session.run('''MATCH (c1)-[:KNOWS]-(c2)\n",
    "WITH c1, count(distinct c2) as degree\n",
    "RETURN min(degree) as degree_min,\n",
    "max(degree) as degree_max,\n",
    "round(avg(degree),2) as degree_avg,\n",
    "round(stDev(degree),2) as degree_stdev\n",
    "''').data()).transpose().rename(columns = {0:'KNOWS undirected (hero to hero)'}), left_index=True, right_index=True).merge(\n",
    "pd.DataFrame(mix_session.run('''MATCH (c1)-[]-(c2)\n",
    "WITH c1, count(distinct c2) as degree\n",
    "RETURN min(degree) as degree_min,\n",
    "max(degree) as degree_max,\n",
    "round(avg(degree),2) as degree_avg,\n",
    "round(stDev(degree),2) as degree_stdev\n",
    "''').data()).transpose().rename(columns = {0:'all undirected'}), left_index=True, right_index=True)"
   ]
  },
  {
   "cell_type": "markdown",
   "metadata": {},
   "source": [
    "### `apoc.node.degree` function"
   ]
  },
  {
   "cell_type": "code",
   "execution_count": 147,
   "metadata": {},
   "outputs": [
    {
     "data": {
      "text/html": [
       "<div>\n",
       "<style scoped>\n",
       "    .dataframe tbody tr th:only-of-type {\n",
       "        vertical-align: middle;\n",
       "    }\n",
       "\n",
       "    .dataframe tbody tr th {\n",
       "        vertical-align: top;\n",
       "    }\n",
       "\n",
       "    .dataframe thead th {\n",
       "        text-align: right;\n",
       "    }\n",
       "</style>\n",
       "<table border=\"1\" class=\"dataframe\">\n",
       "  <thead>\n",
       "    <tr style=\"text-align: right;\">\n",
       "      <th></th>\n",
       "      <th>hero to any</th>\n",
       "      <th>hero to comic</th>\n",
       "      <th>hero to hero</th>\n",
       "      <th>comic to any</th>\n",
       "      <th>all undirected</th>\n",
       "    </tr>\n",
       "  </thead>\n",
       "  <tbody>\n",
       "    <tr>\n",
       "      <th>degree_min</th>\n",
       "      <td>1.00</td>\n",
       "      <td>1.00</td>\n",
       "      <td>1.00</td>\n",
       "      <td>1.00</td>\n",
       "      <td>1.00</td>\n",
       "    </tr>\n",
       "    <tr>\n",
       "      <th>degree_max</th>\n",
       "      <td>3331.00</td>\n",
       "      <td>1577.00</td>\n",
       "      <td>1919.00</td>\n",
       "      <td>111.00</td>\n",
       "      <td>3331.00</td>\n",
       "    </tr>\n",
       "    <tr>\n",
       "      <th>degree_avg</th>\n",
       "      <td>68.23</td>\n",
       "      <td>14.93</td>\n",
       "      <td>308.41</td>\n",
       "      <td>7.60</td>\n",
       "      <td>28.05</td>\n",
       "    </tr>\n",
       "    <tr>\n",
       "      <th>degree_stdev</th>\n",
       "      <td>172.65</td>\n",
       "      <td>59.27</td>\n",
       "      <td>393.13</td>\n",
       "      <td>6.44</td>\n",
       "      <td>104.41</td>\n",
       "    </tr>\n",
       "  </tbody>\n",
       "</table>\n",
       "</div>"
      ],
      "text/plain": [
       "              hero to any  hero to comic  hero to hero  comic to any  \\\n",
       "degree_min           1.00           1.00          1.00          1.00   \n",
       "degree_max        3331.00        1577.00       1919.00        111.00   \n",
       "degree_avg          68.23          14.93        308.41          7.60   \n",
       "degree_stdev       172.65          59.27        393.13          6.44   \n",
       "\n",
       "              all undirected  \n",
       "degree_min              1.00  \n",
       "degree_max           3331.00  \n",
       "degree_avg             28.05  \n",
       "degree_stdev          104.41  "
      ]
     },
     "execution_count": 147,
     "metadata": {},
     "output_type": "execute_result"
    }
   ],
   "source": [
    "pd.DataFrame(mix_session.run('''MATCH (n:Hero)\n",
    "RETURN min(apoc.node.degree(n)) as degree_min,\n",
    "max(apoc.node.degree(n)) as degree_max,\n",
    "round(avg(apoc.node.degree(n))*100)/100 as degree_avg,\n",
    "round(stdev(apoc.node.degree(n))*100)/100 as degree_stdev\n",
    "''').data()).transpose().rename(columns = {0:'hero to any'}).merge(\n",
    "pd.DataFrame(mix_session.run('''MATCH (n:Hero)\n",
    "RETURN min(apoc.node.degree(n, \"APPEARS_IN\")) as degree_min,\n",
    "max(apoc.node.degree(n, \"APPEARS_IN\")) as degree_max,\n",
    "round(avg(apoc.node.degree(n, \"APPEARS_IN\"))*100)/100 as degree_avg,\n",
    "round(stdev(apoc.node.degree(n, \"APPEARS_IN\"))*100)/100 as degree_stdev\n",
    "''').data()).transpose().rename(columns = {0:'hero to comic'}), left_index=True, right_index=True).merge(\n",
    "pd.DataFrame(mix_session.run('''MATCH (n:Hero)-[:KNOWS]-(:Hero)\n",
    "RETURN min(apoc.node.degree(n, \"KNOWS\")) as degree_min,\n",
    "max(apoc.node.degree(n, \"KNOWS\")) as degree_max,\n",
    "round(avg(apoc.node.degree(n, \"KNOWS\"))*100)/100 as degree_avg,\n",
    "round(stdev(apoc.node.degree(n, \"KNOWS\"))*100)/100 as degree_stdev\n",
    "''').data()).transpose().rename(columns = {0:'hero to hero'}), left_index=True, right_index=True).merge(\n",
    "pd.DataFrame(mix_session.run('''MATCH (n:Comic)\n",
    "RETURN min(apoc.node.degree(n)) as degree_min,\n",
    "max(apoc.node.degree(n)) as degree_max,\n",
    "round(avg(apoc.node.degree(n))*100)/100 as degree_avg,\n",
    "round(stdev(apoc.node.degree(n))*100)/100 as degree_stdev\n",
    "''').data()).transpose().rename(columns = {0:'comic to any'}), left_index=True, right_index=True).merge(\n",
    "pd.DataFrame(mix_session.run('''MATCH (n)\n",
    "RETURN min(apoc.node.degree(n)) as degree_min,\n",
    "max(apoc.node.degree(n)) as degree_max,\n",
    "round(avg(apoc.node.degree(n))*100)/100 as degree_avg,\n",
    "round(stdev(apoc.node.degree(n))*100)/100 as degree_stdev\n",
    "''').data()).transpose().rename(columns = {0:'all undirected'}), left_index=True, right_index=True)"
   ]
  },
  {
   "cell_type": "markdown",
   "metadata": {},
   "source": [
    "### `gds.alpha.degree.stream` function"
   ]
  },
  {
   "cell_type": "code",
   "execution_count": 133,
   "metadata": {},
   "outputs": [
    {
     "data": {
      "text/html": [
       "<div>\n",
       "<style scoped>\n",
       "    .dataframe tbody tr th:only-of-type {\n",
       "        vertical-align: middle;\n",
       "    }\n",
       "\n",
       "    .dataframe tbody tr th {\n",
       "        vertical-align: top;\n",
       "    }\n",
       "\n",
       "    .dataframe thead th {\n",
       "        text-align: right;\n",
       "    }\n",
       "</style>\n",
       "<table border=\"1\" class=\"dataframe\">\n",
       "  <thead>\n",
       "    <tr style=\"text-align: right;\">\n",
       "      <th></th>\n",
       "      <th>APPEARS_IN undirected</th>\n",
       "      <th>hero to comic</th>\n",
       "      <th>comic to hero</th>\n",
       "      <th>KNOWS undirected (hero to hero)</th>\n",
       "      <th>all undirected</th>\n",
       "    </tr>\n",
       "  </thead>\n",
       "  <tbody>\n",
       "    <tr>\n",
       "      <th>degree_min</th>\n",
       "      <td>1.00</td>\n",
       "      <td>0.00</td>\n",
       "      <td>0.00</td>\n",
       "      <td>0.00</td>\n",
       "      <td>0.00</td>\n",
       "    </tr>\n",
       "    <tr>\n",
       "      <th>degree_max</th>\n",
       "      <td>1577.00</td>\n",
       "      <td>1577.00</td>\n",
       "      <td>111.00</td>\n",
       "      <td>1919.00</td>\n",
       "      <td>3004.00</td>\n",
       "    </tr>\n",
       "    <tr>\n",
       "      <th>degree_avg</th>\n",
       "      <td>10.07</td>\n",
       "      <td>5.03</td>\n",
       "      <td>5.03</td>\n",
       "      <td>17.98</td>\n",
       "      <td>14.02</td>\n",
       "    </tr>\n",
       "    <tr>\n",
       "      <th>degree_stdev</th>\n",
       "      <td>34.99</td>\n",
       "      <td>35.14</td>\n",
       "      <td>6.35</td>\n",
       "      <td>72.26</td>\n",
       "      <td>71.98</td>\n",
       "    </tr>\n",
       "  </tbody>\n",
       "</table>\n",
       "</div>"
      ],
      "text/plain": [
       "              APPEARS_IN undirected  hero to comic  comic to hero  \\\n",
       "degree_min                     1.00           0.00           0.00   \n",
       "degree_max                  1577.00        1577.00         111.00   \n",
       "degree_avg                    10.07           5.03           5.03   \n",
       "degree_stdev                  34.99          35.14           6.35   \n",
       "\n",
       "              KNOWS undirected (hero to hero)  all undirected  \n",
       "degree_min                               0.00            0.00  \n",
       "degree_max                            1919.00         3004.00  \n",
       "degree_avg                              17.98           14.02  \n",
       "degree_stdev                            72.26           71.98  "
      ]
     },
     "execution_count": 133,
     "metadata": {},
     "output_type": "execute_result"
    }
   ],
   "source": [
    "pd.DataFrame(mix_session.run('''CALL gds.alpha.degree.stream({\n",
    "  nodeProjection: ['Hero', 'Comic'],\n",
    "  relationshipProjection: {\n",
    "  APPEARS_IN: {\n",
    "  type: 'APPEARS_IN',\n",
    "  orientation:'UNDIRECTED'\n",
    "  }}\n",
    "})\n",
    "YIELD nodeId, score\n",
    "WITH gds.util.asNode(nodeId).name AS hero, score AS degree\n",
    "RETURN min(degree) as degree_min,\n",
    "max(degree) as degree_max,\n",
    "round(avg(degree)*100)/100 as degree_avg,\n",
    "round(stdev(degree)*100)/100 as degree_stdev\n",
    "''').data()).transpose().rename(columns = {0:'APPEARS_IN undirected'}).merge(\n",
    "pd.DataFrame(mix_session.run('''CALL gds.alpha.degree.stream({\n",
    "  nodeProjection: ['Hero', 'Comic'],\n",
    "  relationshipProjection: {\n",
    "  APPEARS_IN: {\n",
    "  type: 'APPEARS_IN',\n",
    "  orientation:'NATURAL'\n",
    "  }}\n",
    "})\n",
    "YIELD nodeId, score\n",
    "WITH gds.util.asNode(nodeId).name AS hero, score AS degree\n",
    "RETURN min(degree) as degree_min,\n",
    "max(degree) as degree_max,\n",
    "round(avg(degree)*100)/100 as degree_avg,\n",
    "round(stdev(degree)*100)/100 as degree_stdev\n",
    "''').data()).transpose().rename(columns = {0:'hero to comic'}), left_index=True, right_index=True).merge(\n",
    "pd.DataFrame(mix_session.run('''CALL gds.alpha.degree.stream({\n",
    "  nodeProjection: ['Hero', 'Comic'],\n",
    "  relationshipProjection: {\n",
    "  APPEARS_IN: {\n",
    "  type: 'APPEARS_IN',\n",
    "  orientation:'REVERSE'\n",
    "  }}\n",
    "})\n",
    "YIELD nodeId, score\n",
    "WITH gds.util.asNode(nodeId).name AS hero, score AS degree\n",
    "RETURN min(degree) as degree_min,\n",
    "max(degree) as degree_max,\n",
    "round(avg(degree)*100)/100 as degree_avg,\n",
    "round(stdev(degree)*100)/100 as degree_stdev\n",
    "''').data()).transpose().rename(columns = {0:'comic to hero'}), left_index=True, right_index=True).merge(\n",
    "pd.DataFrame(mix_session.run('''CALL gds.alpha.degree.stream({\n",
    "  nodeProjection: ['Hero', 'Comic'],\n",
    "  relationshipProjection: {\n",
    "  APPEARS_IN: {\n",
    "  type: 'KNOWS',\n",
    "  orientation:'UNDIRECTED'\n",
    "  }}\n",
    "})\n",
    "YIELD nodeId, score\n",
    "WITH gds.util.asNode(nodeId).name AS hero, score AS degree\n",
    "RETURN min(degree) as degree_min,\n",
    "max(degree) as degree_max,\n",
    "round(avg(degree)*100)/100 as degree_avg,\n",
    "round(stdev(degree)*100)/100 as degree_stdev\n",
    "''').data()).transpose().rename(columns = {0:'KNOWS undirected (hero to hero)'}), left_index=True, right_index=True).merge(\n",
    "pd.DataFrame(mix_session.run('''CALL gds.alpha.degree.stream({\n",
    "  nodeProjection: ['Hero', 'Comic'],\n",
    "  relationshipProjection: ['KNOWS', 'APPEARS_IN']\n",
    "})\n",
    "YIELD nodeId, score\n",
    "WITH gds.util.asNode(nodeId).name AS name, score AS degree\n",
    "RETURN min(degree) as degree_min,\n",
    "max(degree) as degree_max,\n",
    "round(avg(degree)*100)/100 as degree_avg,\n",
    "round(stdev(degree)*100)/100 as degree_stdev\n",
    "''').data()).transpose().rename(columns = {0:'all undirected'}), left_index=True, right_index=True)"
   ]
  },
  {
   "cell_type": "markdown",
   "metadata": {},
   "source": [
    "### `size` function"
   ]
  },
  {
   "cell_type": "code",
   "execution_count": 134,
   "metadata": {},
   "outputs": [
    {
     "name": "stderr",
     "output_type": "stream",
     "text": [
      "//anaconda3/lib/python3.7/site-packages/ipykernel/ipkernel.py:287: DeprecationWarning: `should_run_async` will not call `transform_cell` automatically in the future. Please pass the result to `transformed_cell` argument and any exception that happen during thetransform in `preprocessing_exc_tuple` in IPython 7.17 and above.\n",
      "  and should_run_async(code)\n"
     ]
    },
    {
     "data": {
      "text/html": [
       "<div>\n",
       "<style scoped>\n",
       "    .dataframe tbody tr th:only-of-type {\n",
       "        vertical-align: middle;\n",
       "    }\n",
       "\n",
       "    .dataframe tbody tr th {\n",
       "        vertical-align: top;\n",
       "    }\n",
       "\n",
       "    .dataframe thead th {\n",
       "        text-align: right;\n",
       "    }\n",
       "</style>\n",
       "<table border=\"1\" class=\"dataframe\">\n",
       "  <thead>\n",
       "    <tr style=\"text-align: right;\">\n",
       "      <th></th>\n",
       "      <th>hero to comic</th>\n",
       "      <th>hero to hero</th>\n",
       "      <th>comic to hero</th>\n",
       "      <th>all undirected</th>\n",
       "    </tr>\n",
       "  </thead>\n",
       "  <tbody>\n",
       "    <tr>\n",
       "      <th>degree_min</th>\n",
       "      <td>1.00</td>\n",
       "      <td>0.00</td>\n",
       "      <td>1.00</td>\n",
       "      <td>1.00</td>\n",
       "    </tr>\n",
       "    <tr>\n",
       "      <th>degree_max</th>\n",
       "      <td>1577.00</td>\n",
       "      <td>1919.00</td>\n",
       "      <td>111.00</td>\n",
       "      <td>3331.00</td>\n",
       "    </tr>\n",
       "    <tr>\n",
       "      <th>degree_avg</th>\n",
       "      <td>14.93</td>\n",
       "      <td>53.30</td>\n",
       "      <td>7.60</td>\n",
       "      <td>28.05</td>\n",
       "    </tr>\n",
       "    <tr>\n",
       "      <th>degree_stdev</th>\n",
       "      <td>59.27</td>\n",
       "      <td>116.62</td>\n",
       "      <td>6.44</td>\n",
       "      <td>104.41</td>\n",
       "    </tr>\n",
       "  </tbody>\n",
       "</table>\n",
       "</div>"
      ],
      "text/plain": [
       "              hero to comic  hero to hero  comic to hero  all undirected\n",
       "degree_min             1.00          0.00           1.00            1.00\n",
       "degree_max          1577.00       1919.00         111.00         3331.00\n",
       "degree_avg            14.93         53.30           7.60           28.05\n",
       "degree_stdev          59.27        116.62           6.44          104.41"
      ]
     },
     "execution_count": 134,
     "metadata": {},
     "output_type": "execute_result"
    }
   ],
   "source": [
    "pd.DataFrame(mix_session.run('''MATCH (h:Hero)\n",
    "WITH h.name as hero, size((h)--(:Comic)) as degree\n",
    "RETURN min(degree) as degree_min,\n",
    "max(degree) as degree_max,\n",
    "round(avg(degree)*100)/100 as degree_avg,\n",
    "round(stdev(degree)*100)/100 as degree_stdev\n",
    "''').data()).transpose().rename(columns = {0:'hero to comic'}).merge(\n",
    "pd.DataFrame(mix_session.run('''MATCH (h:Hero)\n",
    "WITH h.name as hero, size((h)--(:Hero)) as degree\n",
    "RETURN min(degree) as degree_min,\n",
    "max(degree) as degree_max,\n",
    "round(avg(degree)*100)/100 as degree_avg,\n",
    "round(stdev(degree)*100)/100 as degree_stdev\n",
    "''').data()).transpose().rename(columns = {0:'hero to hero'}), left_index=True, right_index=True).merge(\n",
    "pd.DataFrame(mix_session.run('''MATCH (c:Comic)\n",
    "WITH c.name as comic, size((c)--(:Hero)) as degree\n",
    "RETURN min(degree) as degree_min,\n",
    "max(degree) as degree_max,\n",
    "round(avg(degree)*100)/100 as degree_avg,\n",
    "round(stdev(degree)*100)/100 as degree_stdev\n",
    "''').data()).transpose().rename(columns = {0:'comic to hero'}), left_index=True, right_index=True).merge(\n",
    "pd.DataFrame(mix_session.run('''MATCH (n)\n",
    "WITH n.name as name, size((n)--()) as degree\n",
    "RETURN min(degree) as degree_min,\n",
    "max(degree) as degree_max,\n",
    "round(avg(degree)*100)/100 as degree_avg,\n",
    "round(stdev(degree)*100)/100 as degree_stdev\n",
    "''').data()).transpose().rename(columns = {0:'all undirected'}), left_index=True, right_index=True)"
   ]
  },
  {
   "cell_type": "markdown",
   "metadata": {},
   "source": [
    "## Degree Distribution"
   ]
  },
  {
   "cell_type": "code",
   "execution_count": 19,
   "metadata": {},
   "outputs": [
    {
     "data": {
      "text/html": [
       "<div>\n",
       "<style scoped>\n",
       "    .dataframe tbody tr th:only-of-type {\n",
       "        vertical-align: middle;\n",
       "    }\n",
       "\n",
       "    .dataframe tbody tr th {\n",
       "        vertical-align: top;\n",
       "    }\n",
       "\n",
       "    .dataframe thead th {\n",
       "        text-align: right;\n",
       "    }\n",
       "</style>\n",
       "<table border=\"1\" class=\"dataframe\">\n",
       "  <thead>\n",
       "    <tr style=\"text-align: right;\">\n",
       "      <th></th>\n",
       "      <th>hero</th>\n",
       "      <th>degree</th>\n",
       "    </tr>\n",
       "  </thead>\n",
       "  <tbody>\n",
       "    <tr>\n",
       "      <th>0</th>\n",
       "      <td>24-HOUR MAN/EMMANUEL</td>\n",
       "      <td>5.0</td>\n",
       "    </tr>\n",
       "    <tr>\n",
       "      <th>1</th>\n",
       "      <td>3-D MAN/CHARLES CHAN</td>\n",
       "      <td>122.0</td>\n",
       "    </tr>\n",
       "    <tr>\n",
       "      <th>2</th>\n",
       "      <td>4-D MAN/MERCURIO</td>\n",
       "      <td>72.0</td>\n",
       "    </tr>\n",
       "    <tr>\n",
       "      <th>3</th>\n",
       "      <td>8-BALL/</td>\n",
       "      <td>14.0</td>\n",
       "    </tr>\n",
       "    <tr>\n",
       "      <th>4</th>\n",
       "      <td>ABBOTT, JACK</td>\n",
       "      <td>8.0</td>\n",
       "    </tr>\n",
       "  </tbody>\n",
       "</table>\n",
       "</div>"
      ],
      "text/plain": [
       "                   hero  degree\n",
       "0  24-HOUR MAN/EMMANUEL     5.0\n",
       "1  3-D MAN/CHARLES CHAN   122.0\n",
       "2      4-D MAN/MERCURIO    72.0\n",
       "3               8-BALL/    14.0\n",
       "4          ABBOTT, JACK     8.0"
      ]
     },
     "execution_count": 19,
     "metadata": {},
     "output_type": "execute_result"
    }
   ],
   "source": [
    "uni_degree_df = pd.DataFrame(uni_session.run('''CALL gds.alpha.degree.stream({\n",
    "  nodeProjection: 'Hero',\n",
    "  relationshipProjection: {\n",
    "  KNOWS: {\n",
    "  type: 'KNOWS',\n",
    "  orientation:'UNDIRECTED'\n",
    "  }}\n",
    "})\n",
    "YIELD nodeId, score\n",
    "RETURN gds.util.asNode(nodeId).name AS hero, score AS degree\n",
    "''').values(), columns=['hero', 'degree'])\n",
    "uni_degree_df.head()"
   ]
  },
  {
   "cell_type": "code",
   "execution_count": 20,
   "metadata": {},
   "outputs": [
    {
     "name": "stderr",
     "output_type": "stream",
     "text": [
      "//anaconda3/lib/python3.7/site-packages/ipykernel/ipkernel.py:287: DeprecationWarning: `should_run_async` will not call `transform_cell` automatically in the future. Please pass the result to `transformed_cell` argument and any exception that happen during thetransform in `preprocessing_exc_tuple` in IPython 7.17 and above.\n",
      "  and should_run_async(code)\n"
     ]
    },
    {
     "data": {
      "text/html": [
       "<div>\n",
       "<style scoped>\n",
       "    .dataframe tbody tr th:only-of-type {\n",
       "        vertical-align: middle;\n",
       "    }\n",
       "\n",
       "    .dataframe tbody tr th {\n",
       "        vertical-align: top;\n",
       "    }\n",
       "\n",
       "    .dataframe thead th {\n",
       "        text-align: right;\n",
       "    }\n",
       "</style>\n",
       "<table border=\"1\" class=\"dataframe\">\n",
       "  <thead>\n",
       "    <tr style=\"text-align: right;\">\n",
       "      <th></th>\n",
       "      <th>hero</th>\n",
       "      <th>degree</th>\n",
       "      <th>type</th>\n",
       "    </tr>\n",
       "  </thead>\n",
       "  <tbody>\n",
       "    <tr>\n",
       "      <th>0</th>\n",
       "      <td>24-HOUR MAN/EMMANUEL</td>\n",
       "      <td>1.0</td>\n",
       "      <td>Hero</td>\n",
       "    </tr>\n",
       "    <tr>\n",
       "      <th>1</th>\n",
       "      <td>AA2 35</td>\n",
       "      <td>6.0</td>\n",
       "      <td>Comic</td>\n",
       "    </tr>\n",
       "    <tr>\n",
       "      <th>2</th>\n",
       "      <td>3-D MAN/CHARLES CHAN</td>\n",
       "      <td>9.0</td>\n",
       "      <td>Hero</td>\n",
       "    </tr>\n",
       "    <tr>\n",
       "      <th>3</th>\n",
       "      <td>AVF 4</td>\n",
       "      <td>11.0</td>\n",
       "      <td>Comic</td>\n",
       "    </tr>\n",
       "    <tr>\n",
       "      <th>4</th>\n",
       "      <td>AVF 5</td>\n",
       "      <td>11.0</td>\n",
       "      <td>Comic</td>\n",
       "    </tr>\n",
       "  </tbody>\n",
       "</table>\n",
       "</div>"
      ],
      "text/plain": [
       "                   hero  degree   type\n",
       "0  24-HOUR MAN/EMMANUEL     1.0   Hero\n",
       "1                AA2 35     6.0  Comic\n",
       "2  3-D MAN/CHARLES CHAN     9.0   Hero\n",
       "3                 AVF 4    11.0  Comic\n",
       "4                 AVF 5    11.0  Comic"
      ]
     },
     "execution_count": 20,
     "metadata": {},
     "output_type": "execute_result"
    }
   ],
   "source": [
    "bi_degree_df = pd.DataFrame(bi_session.run('''CALL gds.alpha.degree.stream({\n",
    "  nodeProjection: ['Hero', 'Comic'],\n",
    "  relationshipProjection: {\n",
    "  APPEARS_IN: {\n",
    "  type: 'APPEARS_IN',\n",
    "  orientation:'UNDIRECTED'\n",
    "  }}\n",
    "})\n",
    "YIELD nodeId, score\n",
    "RETURN gds.util.asNode(nodeId).name AS name, score AS degree, labels(gds.util.asNode(nodeId))[0] as type\n",
    "''').values(), columns=['hero', 'degree', 'type'])\n",
    "bi_degree_df.head()"
   ]
  },
  {
   "cell_type": "code",
   "execution_count": 102,
   "metadata": {},
   "outputs": [
    {
     "data": {
      "text/html": [
       "<div>\n",
       "<style scoped>\n",
       "    .dataframe tbody tr th:only-of-type {\n",
       "        vertical-align: middle;\n",
       "    }\n",
       "\n",
       "    .dataframe tbody tr th {\n",
       "        vertical-align: top;\n",
       "    }\n",
       "\n",
       "    .dataframe thead th {\n",
       "        text-align: right;\n",
       "    }\n",
       "</style>\n",
       "<table border=\"1\" class=\"dataframe\">\n",
       "  <thead>\n",
       "    <tr style=\"text-align: right;\">\n",
       "      <th></th>\n",
       "      <th>name</th>\n",
       "      <th>degree</th>\n",
       "    </tr>\n",
       "  </thead>\n",
       "  <tbody>\n",
       "    <tr>\n",
       "      <th>0</th>\n",
       "      <td>24-HOUR MAN/EMMANUEL</td>\n",
       "      <td>6</td>\n",
       "    </tr>\n",
       "    <tr>\n",
       "      <th>1</th>\n",
       "      <td>AA2 35</td>\n",
       "      <td>6</td>\n",
       "    </tr>\n",
       "    <tr>\n",
       "      <th>2</th>\n",
       "      <td>3-D MAN/CHARLES CHAN</td>\n",
       "      <td>131</td>\n",
       "    </tr>\n",
       "    <tr>\n",
       "      <th>3</th>\n",
       "      <td>AVF 4</td>\n",
       "      <td>11</td>\n",
       "    </tr>\n",
       "    <tr>\n",
       "      <th>4</th>\n",
       "      <td>AVF 5</td>\n",
       "      <td>11</td>\n",
       "    </tr>\n",
       "  </tbody>\n",
       "</table>\n",
       "</div>"
      ],
      "text/plain": [
       "                   name  degree\n",
       "0  24-HOUR MAN/EMMANUEL       6\n",
       "1                AA2 35       6\n",
       "2  3-D MAN/CHARLES CHAN     131\n",
       "3                 AVF 4      11\n",
       "4                 AVF 5      11"
      ]
     },
     "execution_count": 102,
     "metadata": {},
     "output_type": "execute_result"
    }
   ],
   "source": [
    "mixed_all = pd.DataFrame(mix_session.run('''MATCH (n)\n",
    "RETURN n.name as name, size((n)--()) as degree''').data())\n",
    "mixed_all.head()"
   ]
  },
  {
   "cell_type": "code",
   "execution_count": 104,
   "metadata": {},
   "outputs": [
    {
     "name": "stderr",
     "output_type": "stream",
     "text": [
      "//anaconda3/lib/python3.7/site-packages/ipykernel/ipkernel.py:287: DeprecationWarning: `should_run_async` will not call `transform_cell` automatically in the future. Please pass the result to `transformed_cell` argument and any exception that happen during thetransform in `preprocessing_exc_tuple` in IPython 7.17 and above.\n",
      "  and should_run_async(code)\n"
     ]
    },
    {
     "data": {
      "text/html": [
       "<div>\n",
       "<style scoped>\n",
       "    .dataframe tbody tr th:only-of-type {\n",
       "        vertical-align: middle;\n",
       "    }\n",
       "\n",
       "    .dataframe tbody tr th {\n",
       "        vertical-align: top;\n",
       "    }\n",
       "\n",
       "    .dataframe thead th {\n",
       "        text-align: right;\n",
       "    }\n",
       "</style>\n",
       "<table border=\"1\" class=\"dataframe\">\n",
       "  <thead>\n",
       "    <tr style=\"text-align: right;\">\n",
       "      <th></th>\n",
       "      <th>hero</th>\n",
       "      <th>degree</th>\n",
       "    </tr>\n",
       "  </thead>\n",
       "  <tbody>\n",
       "    <tr>\n",
       "      <th>0</th>\n",
       "      <td>24-HOUR MAN/EMMANUEL</td>\n",
       "      <td>5</td>\n",
       "    </tr>\n",
       "    <tr>\n",
       "      <th>1</th>\n",
       "      <td>3-D MAN/CHARLES CHAN</td>\n",
       "      <td>122</td>\n",
       "    </tr>\n",
       "    <tr>\n",
       "      <th>2</th>\n",
       "      <td>4-D MAN/MERCURIO</td>\n",
       "      <td>72</td>\n",
       "    </tr>\n",
       "    <tr>\n",
       "      <th>3</th>\n",
       "      <td>8-BALL/</td>\n",
       "      <td>14</td>\n",
       "    </tr>\n",
       "    <tr>\n",
       "      <th>4</th>\n",
       "      <td>ABBOTT, JACK</td>\n",
       "      <td>8</td>\n",
       "    </tr>\n",
       "  </tbody>\n",
       "</table>\n",
       "</div>"
      ],
      "text/plain": [
       "                   hero  degree\n",
       "0  24-HOUR MAN/EMMANUEL       5\n",
       "1  3-D MAN/CHARLES CHAN     122\n",
       "2      4-D MAN/MERCURIO      72\n",
       "3               8-BALL/      14\n",
       "4          ABBOTT, JACK       8"
      ]
     },
     "execution_count": 104,
     "metadata": {},
     "output_type": "execute_result"
    }
   ],
   "source": [
    "mixed_hero2hero = pd.DataFrame(mix_session.run('''MATCH (h:Hero)\n",
    "RETURN h.name as hero, size((h)--(:Hero)) as degree''').data())\n",
    "mixed_hero2hero.head()"
   ]
  },
  {
   "cell_type": "code",
   "execution_count": 103,
   "metadata": {},
   "outputs": [
    {
     "name": "stderr",
     "output_type": "stream",
     "text": [
      "//anaconda3/lib/python3.7/site-packages/ipykernel/ipkernel.py:287: DeprecationWarning: `should_run_async` will not call `transform_cell` automatically in the future. Please pass the result to `transformed_cell` argument and any exception that happen during thetransform in `preprocessing_exc_tuple` in IPython 7.17 and above.\n",
      "  and should_run_async(code)\n"
     ]
    },
    {
     "data": {
      "text/html": [
       "<div>\n",
       "<style scoped>\n",
       "    .dataframe tbody tr th:only-of-type {\n",
       "        vertical-align: middle;\n",
       "    }\n",
       "\n",
       "    .dataframe tbody tr th {\n",
       "        vertical-align: top;\n",
       "    }\n",
       "\n",
       "    .dataframe thead th {\n",
       "        text-align: right;\n",
       "    }\n",
       "</style>\n",
       "<table border=\"1\" class=\"dataframe\">\n",
       "  <thead>\n",
       "    <tr style=\"text-align: right;\">\n",
       "      <th></th>\n",
       "      <th>hero</th>\n",
       "      <th>degree</th>\n",
       "    </tr>\n",
       "  </thead>\n",
       "  <tbody>\n",
       "    <tr>\n",
       "      <th>0</th>\n",
       "      <td>24-HOUR MAN/EMMANUEL</td>\n",
       "      <td>1</td>\n",
       "    </tr>\n",
       "    <tr>\n",
       "      <th>1</th>\n",
       "      <td>3-D MAN/CHARLES CHAN</td>\n",
       "      <td>9</td>\n",
       "    </tr>\n",
       "    <tr>\n",
       "      <th>2</th>\n",
       "      <td>4-D MAN/MERCURIO</td>\n",
       "      <td>9</td>\n",
       "    </tr>\n",
       "    <tr>\n",
       "      <th>3</th>\n",
       "      <td>8-BALL/</td>\n",
       "      <td>3</td>\n",
       "    </tr>\n",
       "    <tr>\n",
       "      <th>4</th>\n",
       "      <td>ABBOTT, JACK</td>\n",
       "      <td>1</td>\n",
       "    </tr>\n",
       "  </tbody>\n",
       "</table>\n",
       "</div>"
      ],
      "text/plain": [
       "                   hero  degree\n",
       "0  24-HOUR MAN/EMMANUEL       1\n",
       "1  3-D MAN/CHARLES CHAN       9\n",
       "2      4-D MAN/MERCURIO       9\n",
       "3               8-BALL/       3\n",
       "4          ABBOTT, JACK       1"
      ]
     },
     "execution_count": 103,
     "metadata": {},
     "output_type": "execute_result"
    }
   ],
   "source": [
    "mixed_hero2comic= pd.DataFrame(mix_session.run('''MATCH (h:Hero)\n",
    "RETURN h.name as hero, size((h)--(:Comic)) as degree''').data())\n",
    "mixed_hero2comic.head()"
   ]
  },
  {
   "cell_type": "code",
   "execution_count": 105,
   "metadata": {},
   "outputs": [
    {
     "name": "stderr",
     "output_type": "stream",
     "text": [
      "//anaconda3/lib/python3.7/site-packages/ipykernel/ipkernel.py:287: DeprecationWarning: `should_run_async` will not call `transform_cell` automatically in the future. Please pass the result to `transformed_cell` argument and any exception that happen during thetransform in `preprocessing_exc_tuple` in IPython 7.17 and above.\n",
      "  and should_run_async(code)\n"
     ]
    },
    {
     "data": {
      "text/html": [
       "<div>\n",
       "<style scoped>\n",
       "    .dataframe tbody tr th:only-of-type {\n",
       "        vertical-align: middle;\n",
       "    }\n",
       "\n",
       "    .dataframe tbody tr th {\n",
       "        vertical-align: top;\n",
       "    }\n",
       "\n",
       "    .dataframe thead th {\n",
       "        text-align: right;\n",
       "    }\n",
       "</style>\n",
       "<table border=\"1\" class=\"dataframe\">\n",
       "  <thead>\n",
       "    <tr style=\"text-align: right;\">\n",
       "      <th></th>\n",
       "      <th>comic</th>\n",
       "      <th>degree</th>\n",
       "    </tr>\n",
       "  </thead>\n",
       "  <tbody>\n",
       "    <tr>\n",
       "      <th>0</th>\n",
       "      <td>AA2 35</td>\n",
       "      <td>6</td>\n",
       "    </tr>\n",
       "    <tr>\n",
       "      <th>1</th>\n",
       "      <td>AVF 4</td>\n",
       "      <td>11</td>\n",
       "    </tr>\n",
       "    <tr>\n",
       "      <th>2</th>\n",
       "      <td>AVF 5</td>\n",
       "      <td>11</td>\n",
       "    </tr>\n",
       "    <tr>\n",
       "      <th>3</th>\n",
       "      <td>COC 1</td>\n",
       "      <td>111</td>\n",
       "    </tr>\n",
       "    <tr>\n",
       "      <th>4</th>\n",
       "      <td>H2 251</td>\n",
       "      <td>8</td>\n",
       "    </tr>\n",
       "  </tbody>\n",
       "</table>\n",
       "</div>"
      ],
      "text/plain": [
       "    comic  degree\n",
       "0  AA2 35       6\n",
       "1   AVF 4      11\n",
       "2   AVF 5      11\n",
       "3   COC 1     111\n",
       "4  H2 251       8"
      ]
     },
     "execution_count": 105,
     "metadata": {},
     "output_type": "execute_result"
    }
   ],
   "source": [
    "mixed_comic2hero= pd.DataFrame(mix_session.run('''MATCH (c:Comic)\n",
    "RETURN c.name as comic, size((c)--(:Hero)) as degree''').data())\n",
    "mixed_comic2hero.head()"
   ]
  },
  {
   "cell_type": "markdown",
   "metadata": {},
   "source": [
    "### Unimodal Model"
   ]
  },
  {
   "cell_type": "code",
   "execution_count": 46,
   "metadata": {},
   "outputs": [
    {
     "data": {
      "image/png": "[encoded data removed]",
      "text/plain": [
       "<Figure size 864x288 with 2 Axes>"
      ]
     },
     "metadata": {
      "needs_background": "light"
     },
     "output_type": "display_data"
    }
   ],
   "source": [
    "uni_fig, (uni_ax1, uni_ax2) = plt.subplots(1, 2, figsize=(12,4))\n",
    "uni_fig.suptitle(\"Unimodal Distributions\")\n",
    "uni_ax1.hist(uni_degree_df['degree'], bins=50)\n",
    "uni_ax1.set_title('Regular Scale')\n",
    "uni_ax2.hist(uni_degree_df['degree'], bins=50)\n",
    "uni_ax2.set_yscale('log')\n",
    "uni_ax2.set_title('Y-axis Log Scale')\n",
    "plt.show()"
   ]
  },
  {
   "cell_type": "markdown",
   "metadata": {},
   "source": [
    "### Bimodal Model"
   ]
  },
  {
   "cell_type": "code",
   "execution_count": 146,
   "metadata": {},
   "outputs": [
    {
     "data": {
      "image/png": "[encoded data removed]",
      "text/plain": [
       "<Figure size 864x288 with 2 Axes>"
      ]
     },
     "metadata": {
      "needs_background": "light"
     },
     "output_type": "display_data"
    }
   ],
   "source": [
    "bi_fig, (bi_ax1, bi_ax2) = plt.subplots(1, 2, figsize=(12,4))\n",
    "bi_fig.suptitle(\"Bimodal Distributions\")\n",
    "bi_ax1.hist(bi_degree_df['degree'], bins=50)\n",
    "bi_ax1.set_title('Regular Scale')\n",
    "bi_ax2.hist(bi_degree_df['degree'], bins=50)\n",
    "bi_ax2.set_yscale('log')\n",
    "bi_ax2.set_title('Y-axis Log Scale')\n",
    "plt.show()"
   ]
  },
  {
   "cell_type": "code",
   "execution_count": 51,
   "metadata": {},
   "outputs": [
    {
     "data": {
      "image/png": "[encoded data removed]",
      "text/plain": [
       "<Figure size 864x576 with 4 Axes>"
      ]
     },
     "metadata": {
      "needs_background": "light"
     },
     "output_type": "display_data"
    }
   ],
   "source": [
    "bi_fig2, bi_axes = plt.subplots(2, 2, figsize=(12,8))\n",
    "bi_fig2.suptitle(\"Bimodal Distributions by Node type\")\n",
    "bi_axes[0,0].hist(bi_degree_df.loc[bi_degree_df['type']=='Hero', 'degree'], bins=50)\n",
    "bi_axes[0,0].set_title('Hero: Regular Scale')\n",
    "bi_axes[0,1].hist(bi_degree_df.loc[bi_degree_df['type']=='Hero', 'degree'], bins=50)\n",
    "bi_axes[0,1].set_yscale('log')\n",
    "bi_axes[0,1].set_title('Hero: Y-axis Log Scale')\n",
    "bi_axes[1,0].hist(bi_degree_df.loc[bi_degree_df['type']=='Comic', 'degree'], bins=50)\n",
    "bi_axes[1,0].set_title('Comic: Regular Scale')\n",
    "bi_axes[1,1].hist(bi_degree_df.loc[bi_degree_df['type']=='Comic', 'degree'], bins=50)\n",
    "bi_axes[1,1].set_yscale('log')\n",
    "bi_axes[1,1].set_title('Comic: Y-axis Log Scale')\n",
    "plt.show()"
   ]
  },
  {
   "cell_type": "markdown",
   "metadata": {},
   "source": [
    "### Mixed Model"
   ]
  },
  {
   "cell_type": "code",
   "execution_count": 106,
   "metadata": {},
   "outputs": [
    {
     "name": "stderr",
     "output_type": "stream",
     "text": [
      "//anaconda3/lib/python3.7/site-packages/ipykernel/ipkernel.py:287: DeprecationWarning: `should_run_async` will not call `transform_cell` automatically in the future. Please pass the result to `transformed_cell` argument and any exception that happen during thetransform in `preprocessing_exc_tuple` in IPython 7.17 and above.\n",
      "  and should_run_async(code)\n"
     ]
    },
    {
     "data": {
      "image/png": "[encoded data removed]",
      "text/plain": [
       "<Figure size 864x288 with 2 Axes>"
      ]
     },
     "metadata": {
      "needs_background": "light"
     },
     "output_type": "display_data"
    }
   ],
   "source": [
    "mix_fig, (mix_ax1, mix_ax2) = plt.subplots(1, 2, figsize=(12,4))\n",
    "mix_fig.suptitle(\"Mixed Model Distributions\")\n",
    "mix_ax1.hist(mixed_all['degree'], bins=50)\n",
    "mix_ax1.set_title('Regular Scale')\n",
    "mix_ax2.hist(mixed_all['degree'], bins=50)\n",
    "mix_ax2.set_yscale('log')\n",
    "mix_ax2.set_title('Y-axis Log Scale')\n",
    "plt.show()"
   ]
  },
  {
   "cell_type": "code",
   "execution_count": 108,
   "metadata": {},
   "outputs": [
    {
     "data": {
      "image/png": "[encoded data removed]",
      "text/plain": [
       "<Figure size 864x864 with 6 Axes>"
      ]
     },
     "metadata": {
      "needs_background": "light"
     },
     "output_type": "display_data"
    }
   ],
   "source": [
    "mix_fig2, mix_axes = plt.subplots(3, 2, figsize=(12,12))\n",
    "mix_fig2.suptitle(\"Mixed Model Distributions\")\n",
    "mix_axes[0,0].hist(mixed_hero2hero['degree'], bins=50)\n",
    "mix_axes[0,0].set_title('Hero to Hero: Regular Scale')\n",
    "mix_axes[0,1].hist(mixed_hero2hero['degree'], bins=50)\n",
    "mix_axes[0,1].set_yscale('log')\n",
    "mix_axes[0,1].set_title('Hero to Hero: Y-axis Log Scale')\n",
    "mix_axes[1,0].hist(mixed_hero2comic['degree'], bins=50)\n",
    "mix_axes[1,0].set_title('Hero to Comic: Regular Scale')\n",
    "mix_axes[1,1].hist(mixed_hero2comic['degree'], bins=50)\n",
    "mix_axes[1,1].set_yscale('log')\n",
    "mix_axes[1,1].set_title('Hero to Comic: Y-axis Log Scale')\n",
    "mix_axes[2,0].hist(mixed_comic2hero['degree'], bins=50)\n",
    "mix_axes[2,0].set_title('Comic to Hero: Regular Scale')\n",
    "mix_axes[2,1].hist(mixed_comic2hero['degree'], bins=50)\n",
    "mix_axes[2,1].set_yscale('log')\n",
    "mix_axes[2,1].set_title('Comic to Hero: Y-axis Log Scale')\n",
    "plt.show()"
   ]
  }
 ],
 "metadata": {
  "kernelspec": {
   "display_name": "Python 3",
   "language": "python",
   "name": "python3"
  },
  "language_info": {
   "codemirror_mode": {
    "name": "ipython",
    "version": 3
   },
   "file_extension": ".py",
   "mimetype": "text/x-python",
   "name": "python",
   "nbconvert_exporter": "python",
   "pygments_lexer": "ipython3",
   "version": "3.7.6"
  }
 },
 "nbformat": 4,
 "nbformat_minor": 4
}
