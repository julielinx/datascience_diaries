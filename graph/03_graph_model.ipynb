{
 "cells": [
  {
   "cell_type": "markdown",
   "metadata": {},
   "source": [
    "# Entry G3: Choosing a Graph Model (schema)"
   ]
  },
  {
   "cell_type": "markdown",
   "metadata": {},
   "source": [
    "To harness the power of graph, data first has to be organized to fit the node/relationship format."
   ]
  },
  {
   "cell_type": "markdown",
   "metadata": {},
   "source": [
    "## Graph Model Types\n",
    "\n",
    "Just like with a relational database, when you decide to put information in a graph database you have to have some kind of schema. In the graph world this is called *graph modeling* or *the graph model*. There are three general graph models:\n",
    "\n",
    "- Unimodal\n",
    "- Bimodal\n",
    "- Multimodal"
   ]
  },
  {
   "cell_type": "markdown",
   "metadata": {},
   "source": [
    "### Unimodal\n",
    "\n",
    "In a unimodal graph, there is only one kind of node. For the first database I'll be working with, the [Marvel Universe Social Network](https://www.kaggle.com/csanhueza/the-marvel-universe-social-network), this means we'd only have hero nodes. We wouldn't include the comics that the heroes were featured in.\n",
    "\n",
    "#### Simplified View\n",
    "\n",
    "Here's a simplified view of what a unimodal graph would look like:\n",
    "\n",
    "<img src='images/unimodal_heroes.png'>\n",
    "\n",
    "#### More Realistic View\n",
    "\n",
    "Of course, data isn't that simple and easy to read. For a more realistic view of what this would look like, I created a small subset of the Marvel Universe Social Network centering around heroes and comics connected to Dark Crawler. I pulled these into Gephi and after a little finagling got this:\n",
    "\n",
    "<img src='images/model_unimodal.png' width=650>\n",
    "\n",
    "There is a reason some of the lines are thicker than others. We'll cover that in the next entry, [Modeling Relationships](https://julielinx.github.io/blog/g04_graph_model_rels/).\n",
    "\n",
    "#### Benefits\n",
    "\n",
    "There are a couple of benefits to a unimodal setup like this:\n",
    "\n",
    "1. Queries from one hero to another are easier\n",
    "  - Instead of `(hero1)-[:APPEARS_IN]-(comic)-[:APPEARS_IN)-(hero2)` we can just write `(hero1)-[:KNOWS]-(hero2)`\n",
    "2. We can put a weight on the relationship, which will tell us how many comics the heroes are in together\n",
    "3. To reduce data loss, we can also create a list on the relationship that will tell us the names of the comics they appear in together"
   ]
  },
  {
   "cell_type": "markdown",
   "metadata": {},
   "source": [
    "### Bimodal\n",
    "\n",
    "In a bimodal graph, there are exactly two kinds of nodes. These nodes usually don't connect to their own node type, only the other node type.\n",
    "\n",
    "The Marvel Universe Social Network example naturally lends itself to a bimodal structure because there are 'hero' nodes and 'comic' nodes. Heroes are in comics and we can tell what heroes appear together by connecting them through the comics they're in together. Heroes aren't connected to other heroes, they're only connected to the comics they appear in. Comics also aren't connected to each other, only to the heroes that appear in their pages.\n",
    "\n",
    "#### Simplified View\n",
    "\n",
    "The image below shows two ways to visualize the same bimodal graph.\n",
    "- The left hand version clearly shows that Hero nodes only connect to Comic nodes and vice versa.\n",
    "- The right hand version more clearly shows which nodes are connected to each other and how they relate as a group.\n",
    "\n",
    "<img src='images/bimodal.png' width=650>\n",
    "\n",
    "#### More Realistic View\n",
    "\n",
    "Using the same subset of data from the unimodal example above (Dark Crawler and his compatriots now also including the comic information), we get a graph that looks like this:\n",
    "\n",
    "<img src='images/model_bimodal.png' width=650>\n",
    "\n",
    "Here are some of the benefits of this structure:\n",
    "\n",
    "1. It is intuitive for many use cases\n",
    "2. It appears visually less cluttered because there are fewer relationship lines\n",
    "3. There is no data loss from cutting out the \"middle man\" comic nodes"
   ]
  },
  {
   "cell_type": "markdown",
   "metadata": {},
   "source": [
    "### Multimodal\n",
    "\n",
    "In a multimodal graph, there are more than two kinds of nodes. Like with bimodal models, in the multimodal model nodes generally don't connect directly to the same kind of node.\n",
    "\n",
    "#### Simplified View\n",
    "\n",
    "Retail data naturally fits the multimodal graph model. We have things like 'customers', 'orders', and 'shipping addresses'. In the simplified visualization below, we can think of the nodes as follows:\n",
    "\n",
    "- Green: customers\n",
    "- Teal: orders\n",
    "- Pink: credit card tokens\n",
    "- Orange: shipping addresses\n",
    "- Brown: phone numbers\n",
    "- Blue: IP address\n",
    "\n",
    "<img src='images/multimodal.png' width=650>\n",
    "\n",
    "#### More Realistic View\n",
    "\n",
    "The Mavel Universe Social Network doesn't lend itself to the multimodal model because there are only two kinds of nodes. But for consistency sake, I wanted to use it as the example. To do this we have to add more information, like planets the characters have visited. In this case we now have 'hero' nodes, 'comic' nodes, and 'planet' nodes.\n",
    "\n",
    "*Note*, don't look too close at the planets the heroes have visited. I'm not that deep in the Marvel Universe fandom to know off the cuff what planets each of the characters have been to and only wanted to spend so much time looking up such things. Mostly, I guessed.\n",
    "\n",
    "<img src='images/model_multimodal.png' width=650>\n",
    "\n",
    "#### Benefits\n",
    "\n",
    "The main benefit of the multimodal structure is preservation of data."
   ]
  },
  {
   "cell_type": "markdown",
   "metadata": {},
   "source": [
    "### Projected Unimodal\n",
    "\n",
    "Some data, like the Marvel Universe Social Network naturally lends itself to a bimodal or multimodal graph model. When this is the case, but instead it's represented as a unimodal graph, it's called a projected unimodal graph. This is because the more complex graph model is projected onto the more simplified unimodal representation.\n",
    "\n",
    "When this is done there is inevitably data loss. However, the loss of information is not always a bad thing. For some use cases the data that is lost is extraneous and its absence goes unnoticed.\n",
    "\n",
    "I'll go into more detail on projected unimodal graphs in [Entry G5](https://julielinx.github.io/blog/g05_project_bimodal/)."
   ]
  },
  {
   "cell_type": "markdown",
   "metadata": {},
   "source": [
    "## Up Next\n",
    "\n",
    "Modeling Relationships"
   ]
  },
  {
   "cell_type": "markdown",
   "metadata": {},
   "source": [
    "## Resources\n",
    "\n",
    "For a more interactive introduction to graphs, graph visualization, and graph modeling, watch my [Not All Visualizations are Created Equal](https://neo4j.com/videos/24-not-all-visualizations-are-created-equal/) talk at NODES2020.\n",
    "\n",
    "- [Networks](https://www.amazon.com/Networks-Mark-Newman/dp/0198805098) by Mark Newman\n",
    "- [Marvel Universe Social Network](https://www.kaggle.com/csanhueza/the-marvel-universe-social-network)\n",
    "- [Gephi](https://gephi.org/)\n",
    "- [Not All Visualizations are Created Equal](https://neo4j.com/videos/24-not-all-visualizations-are-created-equal/)\n",
    "- [Entry G4: Modeling Relationships](https://julielinx.github.io/blog/g04_graph_model_rels/)\n",
    "- [Entry G5: Projecting Bimodal to Unimodal](https://julielinx.github.io/blog/g05_project_bimodal/)"
   ]
  }
 ],
 "metadata": {
  "kernelspec": {
   "display_name": "Python 3",
   "language": "python",
   "name": "python3"
  },
  "language_info": {
   "codemirror_mode": {
    "name": "ipython",
    "version": 3
   },
   "file_extension": ".py",
   "mimetype": "text/x-python",
   "name": "python",
   "nbconvert_exporter": "python",
   "pygments_lexer": "ipython3",
   "version": "3.7.6"
  }
 },
 "nbformat": 4,
 "nbformat_minor": 4
}
