{
 "cells": [
  {
   "cell_type": "markdown",
   "id": "18030ac2-c7ff-4f73-9601-3df20bfe5744",
   "metadata": {},
   "source": [
    "# Entry 22 notebook: Next Nearest Neighbor Egonet Density"
   ]
  },
  {
   "cell_type": "code",
   "execution_count": null,
   "id": "500a5aad-e5b6-4946-a1bb-e0a9e6602ca2",
   "metadata": {},
   "outputs": [],
   "source": []
  }
 ],
 "metadata": {
  "kernelspec": {
   "display_name": "Python 3",
   "language": "python",
   "name": "python3"
  },
  "language_info": {
   "codemirror_mode": {
    "name": "ipython",
    "version": 3
   },
   "file_extension": ".py",
   "mimetype": "text/x-python",
   "name": "python",
   "nbconvert_exporter": "python",
   "pygments_lexer": "ipython3",
   "version": "3.8.8"
  }
 },
 "nbformat": 4,
 "nbformat_minor": 5
}
