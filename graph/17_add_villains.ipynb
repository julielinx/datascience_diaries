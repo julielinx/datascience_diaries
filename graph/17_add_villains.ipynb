{
 "cells": [
  {
   "cell_type": "markdown",
   "id": "3a2ea09f-8d28-40d3-aa9f-580f5876e0ee",
   "metadata": {},
   "source": [
    "# Entry 17: Add Villains"
   ]
  },
  {
   "cell_type": "markdown",
   "id": "3c8a18c9-e325-4f01-88d8-a345a9cfa31e",
   "metadata": {},
   "source": [
    "The use case I'm interested in is locating fraud within a graph. This is difficult to do when all the people nodes in your data are undifferentiated.\n",
    "\n",
    "In perusing the names in our Marvel Universe Social Network, it occurred to me that there are villains in the dataset despite the fact that they all have the label \"Hero.\" Now, we could debate whether characters like Deadpool, who are sometimes heroes and sometimes villains, are heroes, but for the sake of argument, if I could track a character back as some type of villain, they got a \"Villain\" label.\n",
    "\n",
    "I spent a day or two comparing characters on [Villians Wiki](https://villains.fandom.com/wiki/Category:Marvel_Villains) to the characters in the Marvel Universe Social Network and making a list of everything that overlapped. I was able to automate a large portion of that comparision, but some of the entries need manual review and use of \"CONTAINS\" instead of exact matches.\n",
    "\n",
    "The accompanying [Entry 17 notebook](https://github.com/julielinx/datascience_diaries/blob/master/graph/17_nb_add_villains.ipynb) has the results of that work. All you need to do is verify the connection, login, and database name information and run the notebook. It will automatically update the labels to include \"Villain\" in all 3 of the graphs of our Marvel Multigraph.\n",
    "\n",
    "If you're still using the separate graphs and haven't moved to the multigraph solution, go back to [Entry 11](https://julielinx.github.io/blog/g11_create_multigraphdb_desktop/) (and more importantly the [Entry 11 notebook](https://github.com/julielinx/datascience_diaries/blob/master/graph/11_nb_create_multigraphdb.ipynb)) and create the multigraph. All entries will be using the convenience afforded by the multigraph from here on out.\n",
    "\n",
    "I've had some computer problems the last couple weeks and have used the [Entry 11 notebook](https://github.com/julielinx/datascience_diaries/blob/master/graph/11_nb_create_multigraphdb.ipynb) to recreate the multigraph at least thrice (once on my temporary work laptop replacement, once on my reformatted permanent work laptop, once on my new personal laptop) and it's really simple - I promise."
   ]
  },
  {
   "cell_type": "markdown",
   "id": "aa9da896-44be-4b77-be69-daa780176809",
   "metadata": {},
   "source": [
    "## Up Next\n",
    "\n",
    "Egocentric Networks"
   ]
  },
  {
   "cell_type": "markdown",
   "id": "4da244ed-3124-4d1d-bd59-98a777d29c1a",
   "metadata": {},
   "source": [
    "# Resources\n",
    "\n",
    "- [Villians Wiki](https://villains.fandom.com/wiki/Category:Marvel_Villains)\n",
    "- [Entry 11](https://julielinx.github.io/blog/g11_create_multigraphdb_desktop/)\n",
    "- [Entry 11 notebook](https://github.com/julielinx/datascience_diaries/blob/master/graph/11_nb_create_multigraphdb.ipynb)\n",
    "- [Entry 17 notebook](https://github.com/julielinx/datascience_diaries/blob/master/graph/17_nb_add_villains.ipynb)"
   ]
  }
 ],
 "metadata": {
  "kernelspec": {
   "display_name": "Python 3",
   "language": "python",
   "name": "python3"
  },
  "language_info": {
   "codemirror_mode": {
    "name": "ipython",
    "version": 3
   },
   "file_extension": ".py",
   "mimetype": "text/x-python",
   "name": "python",
   "nbconvert_exporter": "python",
   "pygments_lexer": "ipython3",
   "version": "3.8.8"
  }
 },
 "nbformat": 4,
 "nbformat_minor": 5
}
