{
 "cells": [
  {
   "cell_type": "code",
   "execution_count": 1,
   "id": "4364b610-d0c5-4875-97ff-ff5ad33d6383",
   "metadata": {},
   "outputs": [],
   "source": [
    "import numpy as np\n",
    "import pandas as pd"
   ]
  },
  {
   "cell_type": "code",
   "execution_count": 2,
   "id": "b4f9031b-6967-4b0d-9cf3-23e87d0be480",
   "metadata": {},
   "outputs": [],
   "source": [
    "social_dist = [3.48, 4.60, 7.57, 6.19, 4.92, 4.95,5.22, 16.01]\n",
    "info_dist = [11.27, 16.18, 4.87]\n",
    "tech_dist = [3.31, 18.99, 2.16, 2.42, 5.40, 11.05, 4.28]\n",
    "bio_dist = [2.56, 6.80, 2.05, 1.90, 3.97]"
   ]
  },
  {
   "cell_type": "code",
   "execution_count": 8,
   "id": "17de446b-539f-4e51-b1f8-466210d187f5",
   "metadata": {},
   "outputs": [],
   "source": [
    "def mean(lst):\n",
    "    output = sum(lst) / len(lst)\n",
    "    return output"
   ]
  },
  {
   "cell_type": "code",
   "execution_count": 12,
   "id": "c01c3930-11e1-46b3-8731-2e76167e5933",
   "metadata": {},
   "outputs": [
    {
     "name": "stdout",
     "output_type": "stream",
     "text": [
      "6.6175\n",
      "10.773333333333333\n",
      "6.801428571428572\n",
      "3.4560000000000004\n"
     ]
    }
   ],
   "source": [
    "for x in [social_dist,info_dist, tech_dist, bio_dist]:\n",
    "    print(mean(x))"
   ]
  },
  {
   "cell_type": "code",
   "execution_count": 13,
   "id": "b3b486af-fcf3-4304-bba2-e348e1bc3568",
   "metadata": {},
   "outputs": [
    {
     "data": {
      "text/plain": [
       "6.5282608695652184"
      ]
     },
     "execution_count": 13,
     "metadata": {},
     "output_type": "execute_result"
    }
   ],
   "source": [
    "mean(social_dist + info_dist + tech_dist + bio_dist)"
   ]
  }
 ],
 "metadata": {
  "kernelspec": {
   "display_name": "Python 3",
   "language": "python",
   "name": "python3"
  },
  "language_info": {
   "codemirror_mode": {
    "name": "ipython",
    "version": 3
   },
   "file_extension": ".py",
   "mimetype": "text/x-python",
   "name": "python",
   "nbconvert_exporter": "python",
   "pygments_lexer": "ipython3",
   "version": "3.8.8"
  }
 },
 "nbformat": 4,
 "nbformat_minor": 5
}
