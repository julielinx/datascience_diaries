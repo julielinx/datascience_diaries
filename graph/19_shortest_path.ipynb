{
 "cells": [
  {
   "cell_type": "markdown",
   "id": "f6cf5f86-521d-47fc-9da0-1c9899de3661",
   "metadata": {},
   "source": [
    "# Entry 19: Shortest Path to Villain"
   ]
  },
  {
   "cell_type": "markdown",
   "id": "f7722d9c-2d7c-4b29-a01a-f8730ed195bb",
   "metadata": {},
   "source": [
    "Last entry went over ego net and pulled composition at 1 and 2 steps. Now let's see how close the nearest villain is. As we saw in the last post, most heroes have a villain at 1 or 2 steps.\n",
    "\n",
    "Other shortest path use cases?"
   ]
  }
 ],
 "metadata": {
  "kernelspec": {
   "display_name": "Python 3",
   "language": "python",
   "name": "python3"
  },
  "language_info": {
   "codemirror_mode": {
    "name": "ipython",
    "version": 3
   },
   "file_extension": ".py",
   "mimetype": "text/x-python",
   "name": "python",
   "nbconvert_exporter": "python",
   "pygments_lexer": "ipython3",
   "version": "3.8.8"
  }
 },
 "nbformat": 4,
 "nbformat_minor": 5
}
