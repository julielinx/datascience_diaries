{
 "cells": [
  {
   "cell_type": "markdown",
   "id": "f6cf5f86-521d-47fc-9da0-1c9899de3661",
   "metadata": {},
   "source": [
    "# Entry 20: Shortest Path"
   ]
  },
  {
   "cell_type": "markdown",
   "id": "f7722d9c-2d7c-4b29-a01a-f8730ed195bb",
   "metadata": {},
   "source": [
    "In an unweighted graph, the fewest steps between any node (A) to another node (B) is called the shorest path.\n",
    "\n",
    "## The Problem\n",
    "\n",
    "Let's look at an example. Let's say you want to drive from Cheyenne, WY to Fishlake National Park in Utah. There are three main routes:\n",
    "\n",
    "- Northern route on I-80, passing through southern Wyoming and down into Salt Lake City, UT (blue)\n",
    "- Middle route on US-40, passing through Medicine Bow-Routt National Forest and Vernal, UT (pink)\n",
    "- Southern route on I-70, passing through Denver, CO and Grand Junction, CO (green)\n",
    "\n",
    "<img src='images/20_cheyenne_denver_fishlake_routes.png'>"
   ]
  },
  {
   "cell_type": "markdown",
   "id": "aeece0dc-b235-410a-8a14-65dfdaf2abed",
   "metadata": {},
   "source": [
    "If we represent this as a graph, we'll have cities as the nodes and roads as the connections.\n",
    "\n",
    "In our Cheyenne to Fishlake example we'd have:\n",
    "\n",
    "- Northern route: (Cheyenne) -[]-> (Laramie) -[]-> (Rawlins) -[]-> (Rock Springs) -[]-> (Evanston) -[]-> (Salt Lake) -[]-> (Provo) -[]-> (Fishlake)\n",
    "- Middle route: (Cheyenne) -[]-> (Laramie) -[]-> (Vernal) -[]-> (Price) -[]-> (Fishlake)\n",
    "- Southern route: (Cheyenne) -[]-> (Fort Collins) -[]-> (Denver) -[]-> (Breckenridge) -[]-> (Grand Junction) -[]-> (Green River) -[]-> (Fishlake)\n",
    "\n",
    "Based on this representation we have the following number of steps:\n",
    "\n",
    "- Northern route: 7 steps\n",
    "  - (Cheyenne) -[1]-> (Laramie) -[2]-> (Rawlins) -[3]-> (Rock Springs) -[4]-> (Evanston) -[5]-> (Salt Lake) -[6]-> (Provo) -[7]-> (Fishlake)\n",
    "- Middle route: 4 steps\n",
    "  - (Cheyenne) -[1]-> (Laramie) -[2]-> (Vernal) -[3]-> (Price) -[4]-> (Fishlake)\n",
    "- Southern route: 6 steps\n",
    "  - (Cheyenne) -[1]-> (Fort Collins) -[2]-> (Denver) -[3]-> (Breckenridge) -[4]-> (Grand Junction) -[5]-> (Green River) -[6]-> (Fishlake)\n",
    "\n",
    "From the above, we can clearly see that the middle route is by far the shortest as far as the simplified representation of the number of cities we'd pass through.\n",
    "\n",
    "### Weighted Relationships\n",
    "\n",
    "Now, if we ask Google Maps to find us the shortest path, we can see two additional considerations: time and distance;\n",
    "\n",
    "<img src='images/20_cheyenne_fishlake_distances.png'>"
   ]
  },
  {
   "cell_type": "markdown",
   "id": "57cd51ae-bc01-489c-ae18-6617fbecda76",
   "metadata": {},
   "source": [
    "As you can see, Google has routed our southern route through Medicine Bow-Routt National Forest, probably due to the three accidents on I-70 west of Breckenridge. But let's go with it.\n",
    "\n",
    "If we use distance in miles as our \"shortest\" criteria, the middle route is still our clear winner with 561 miles (50 miles shorter than the northern route and 21 miles shorter than the southern route). However, if we use time as our \"shortest\" criteria then the northern route wins, even though it is the fartherest in miles and had the most steps in our original representation.\n",
    "\n",
    "To add time or distance into the graph you include a \"weight\" on the relationship. So the relationship between Cheyenne and Laramie would look something like this:\n",
    "\n",
    "(Cheyenne) -[**distance**: 51.3, **time**: 50]-> (Laramie)\n",
    "\n",
    "Where \"distance\" and \"time\" are two different types of weights."
   ]
  },
  {
   "cell_type": "markdown",
   "id": "0f50c47a-5a35-4be1-8d74-32f4a87f109b",
   "metadata": {},
   "source": [
    "## The Options\n",
    "\n",
    "Most of what I'm looking at in this series of posts are graph wide type of metrics, not specifc information on one node to another. So, however we do shortest path, I'm going to want to apply it to every person node in the graph.\n",
    "\n",
    "Now, looking at a person connected to another person (or comic in the Bimodal Model) won't really tell us anything, either a person is connected (shortest distance = 1) or it's not (shortest distance = 0). So, for my purposes, I'm going to use shortest path to a villain.\n",
    "\n",
    "Based on the results from the [Entry G19c notebook](https://github.com/julielinx/datascience_diaries/blob/master/graph/19c_nb_neighborhood_cts.ipynb), most nodes will have a villain connection within one or two steps. But let's see just how far you *have* to travel before encountering a villain. Are there even any that are more than two steps away? I also want to have this metric for future reference because other graphs may have longer distances to nodes of interest.\n",
    "\n",
    "I considered two solutions for this:\n",
    "\n",
    "- `gds.shortestPath.dijkstra`\n",
    "- `apoc.path.spanningTree`\n",
    "\n",
    "### `gds.shortestPath.dijkstra`\n",
    "\n",
    "This [algorithm function](https://neo4j.com/docs/graph-data-science/current/algorithms/dijkstra-source-target/) is designed to find the shortest path between nodes. However, it also requires the specification of a projected graph, which I haven't taught myself how to do in Neo4j yet. I'll be covering this in a future post, as many algorithm functions in the Graph Data Science Library use it, but for now, it'd just be another thing I'd have to spend time on before I could wrap up this post.\n",
    "\n",
    "If you remember from waaaay back in [Entry 2](https://julielinx.github.io/blog/02_define_process/), I decided to follow the advice of Jason Brownlee to spend as close to [no more than 5-15 hours from inception to presentation of the results on small projects](https://machinelearningmastery.com/self-study-machine-learning-projects/) (i.e. each blog post - and yes, I still regularly blow right past that 15 hour mark).\n",
    "\n",
    "As such, the Dijkstra Shortest Path algorithm isn't really a contender for this post's solution.\n",
    "\n",
    "### `apoc.path.spanningTree`\n",
    "\n",
    "As I [said before](https://julielinx.github.io/blog/g19_neighborhood_node_cts/#apocpathspanningtree), this [algorithm function](https://neo4j.com/labs/apoc/4.1/graph-querying/expand-spanning-tree/) is really handy. All we have to do to make it work with this use case from the last one is to make two changes:\n",
    "\n",
    "- Use the termination filter (`/`) in the `labelFilter` parameter\n",
    "- Include `limit: 1` in the configuration map\n",
    "\n",
    "If you're paying attention, you realize that the termination filter, which tells the query to stop once it's encountered a specific label, is superflous once we add the `limit: 1` condition. But this is a good time to practice using different label filters."
   ]
  },
  {
   "cell_type": "markdown",
   "id": "24905226-e095-44bc-98f5-c430aa9eb3d1",
   "metadata": {},
   "source": [
    "## The Solution\n",
    "\n",
    "Running it on the Unimodal Model, the query changed from this:\n",
    "\n",
    "```\n",
    "MATCH (h:Hero)\n",
    "call apoc.path.spanningTree(h, {labelFilter:'>Villain', minLevel: 1, maxLevel:6})\n",
    "YIELD path\n",
    "RETURN h.name as name, labels(h)[-1] as type, length(path) as distance, count(path) as villain_ct\n",
    "```\n",
    "\n",
    "to this:\n",
    "\n",
    "```\n",
    "MATCH (h:Hero)\n",
    "call apoc.path.spanningTree(h, {labelFilter:'/Villain', minLevel: 1, limit: 1})\n",
    "YIELD path\n",
    "RETURN h.name as name, labels(h)[-1] as type, length(path) as min_distance\n",
    "```\n",
    "\n",
    "Then I looked for the maximum value. There were 9 people with a maximum distance of 3:\n",
    "\n",
    "<img src='images/20_villain_shortest_path.png'>"
   ]
  },
  {
   "cell_type": "markdown",
   "id": "fb7dddcb-136a-4610-aa43-44ec9c49e152",
   "metadata": {},
   "source": [
    "## Next Up\n",
    "\n",
    "Diameter"
   ]
  },
  {
   "cell_type": "markdown",
   "id": "6633e3ec-7347-455e-988c-5a4fd8dd3c54",
   "metadata": {},
   "source": [
    "## Resources\n",
    "\n",
    "- [Dijkstra Shortest Path algorithm](https://neo4j.com/docs/graph-data-science/current/algorithms/dijkstra-source-target/)\n",
    "- [Expand Spanning Tree](https://neo4j.com/labs/apoc/4.1/graph-querying/expand-spanning-tree/)\n",
    "- [Entry G19c notebook](https://github.com/julielinx/datascience_diaries/blob/master/graph/19c_nb_neighborhood_cts.ipynb)\n",
    "- [Expanding Spanning Tree: Label Filters](https://neo4j.com/labs/apoc/4.1/graph-querying/expand-spanning-tree/#expand-spanning-tree-label-filters)\n",
    "- [Entry 2: Define the Process](https://julielinx.github.io/blog/02_define_process/)\n",
    "- [4 Self-Study Machine Learning Projects](https://machinelearningmastery.com/self-study-machine-learning-projects/)\n",
    "- [entry G19: Neighborhood Node Counts](https://julielinx.github.io/blog/g19_neighborhood_node_cts/#apocpathspanningtree)"
   ]
  }
 ],
 "metadata": {
  "kernelspec": {
   "display_name": "Python 3",
   "language": "python",
   "name": "python3"
  },
  "language_info": {
   "codemirror_mode": {
    "name": "ipython",
    "version": 3
   },
   "file_extension": ".py",
   "mimetype": "text/x-python",
   "name": "python",
   "nbconvert_exporter": "python",
   "pygments_lexer": "ipython3",
   "version": "3.8.8"
  }
 },
 "nbformat": 4,
 "nbformat_minor": 5
}
