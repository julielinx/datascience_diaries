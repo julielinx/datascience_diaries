{
 "cells": [
  {
   "cell_type": "markdown",
   "metadata": {},
   "source": [
    "# Entry G14: Global Counts Comparison\n",
    "\n",
    "The notebook that accompanies this entry is the cleaned up, concise version of the three notebooks that accompanied [Entry G6](https://julielinx.github.io/blog/g06_global_counts/), but limited to just the global counts for the three different graph models. \n",
    "\n",
    "And as long as I'm cleaning things up, I decided to provide some additional pictures and commentarion on global counts. However, this entry is a supplement to [Entry G6](https://julielinx.github.io/blog/g06_global_counts/), not a replacement, so be sure to read that entry first.\n",
    "\n",
    "## Overview\n",
    "\n",
    "Now that the info for all three graph models are pulled into the same notebook, we can really start to see how the graph model effects the nodes and relationships in the graph.\n",
    "\n",
    "The global count metrics I used can be summed up by counting relationships and nodes in the picture below:"
   ]
  },
  {
   "cell_type": "markdown",
   "metadata": {},
   "source": [
    "<img src='images/global_counts.png'>"
   ]
  },
  {
   "cell_type": "markdown",
   "metadata": {},
   "source": [
    "The picture has:\n",
    "\n",
    "- 16 nodes, of which 12 are Hero nodes and 4 are Comic nodes\n",
    "- 13 relationships (all of which are between a Hero and a Comic, never between two of the same node type)\n",
    "- 1 isolated Hero node (outlined in orange)"
   ]
  },
  {
   "cell_type": "markdown",
   "metadata": {},
   "source": [
    "## Node Counts\n",
    "\n",
    "With the node counts for all three graph models in the same DataFrame it's easy to see how the graph model effects the nodes in each graph.\n",
    "\n",
    "The Hero nodes are the same for all three models and the Comic nodes are the same for the Bimodal Model and Mixed Model. As far as the nodes are concerned, the only model that is different is that the Comic nodes were removed from the Unimodal Model."
   ]
  },
  {
   "cell_type": "code",
   "execution_count": 1,
   "metadata": {},
   "outputs": [],
   "source": [
    "import pandas as pd\n",
    "from neo4j import GraphDatabase"
   ]
  },
  {
   "cell_type": "code",
   "execution_count": 2,
   "metadata": {},
   "outputs": [],
   "source": [
    "uri = \"bolt://localhost:7687\"\n",
    "\n",
    "driver = GraphDatabase.driver(uri, auth=('neo4j', 'password'))\n",
    "\n",
    "uni_session = driver.session(database=\"unimodal\")\n",
    "bi_session = driver.session(database=\"bimodal\")\n",
    "mix_session = driver.session(database=\"mixmodal\")"
   ]
  },
  {
   "cell_type": "code",
   "execution_count": 3,
   "metadata": {},
   "outputs": [
    {
     "data": {
      "text/html": [
       "<div>\n",
       "<style scoped>\n",
       "    .dataframe tbody tr th:only-of-type {\n",
       "        vertical-align: middle;\n",
       "    }\n",
       "\n",
       "    .dataframe tbody tr th {\n",
       "        vertical-align: top;\n",
       "    }\n",
       "\n",
       "    .dataframe thead th {\n",
       "        text-align: right;\n",
       "    }\n",
       "</style>\n",
       "<table border=\"1\" class=\"dataframe\">\n",
       "  <thead>\n",
       "    <tr style=\"text-align: right;\">\n",
       "      <th></th>\n",
       "      <th>Hero</th>\n",
       "      <th>Comic</th>\n",
       "      <th>total</th>\n",
       "    </tr>\n",
       "  </thead>\n",
       "  <tbody>\n",
       "    <tr>\n",
       "      <th>uimodal</th>\n",
       "      <td>6439</td>\n",
       "      <td>0.0</td>\n",
       "      <td>6439.0</td>\n",
       "    </tr>\n",
       "    <tr>\n",
       "      <th>bimodal</th>\n",
       "      <td>6439</td>\n",
       "      <td>12651.0</td>\n",
       "      <td>19090.0</td>\n",
       "    </tr>\n",
       "    <tr>\n",
       "      <th>mixmodal</th>\n",
       "      <td>6439</td>\n",
       "      <td>12651.0</td>\n",
       "      <td>19090.0</td>\n",
       "    </tr>\n",
       "  </tbody>\n",
       "</table>\n",
       "</div>"
      ],
      "text/plain": [
       "          Hero    Comic    total\n",
       "uimodal   6439      0.0   6439.0\n",
       "bimodal   6439  12651.0  19090.0\n",
       "mixmodal  6439  12651.0  19090.0"
      ]
     },
     "execution_count": 3,
     "metadata": {},
     "output_type": "execute_result"
    }
   ],
   "source": [
    "node_cts = pd.DataFrame(uni_session.run(\"call apoc.meta.stats() YIELD labels\").value()).rename({0:'uimodal'}).append(\n",
    "pd.DataFrame(bi_session.run(\"call apoc.meta.stats() YIELD labels\").value()).rename({0:'bimodal'})).append(\n",
    "pd.DataFrame(mix_session.run(\"call apoc.meta.stats() YIELD labels\").value()).rename({0:'mixmodal'})).fillna(0)\n",
    "node_cts['total'] = node_cts['Hero'] + node_cts['Comic']\n",
    "\n",
    "node_cts"
   ]
  },
  {
   "cell_type": "markdown",
   "metadata": {},
   "source": [
    "## Relationship Count\n",
    "\n",
    "The relationships are where the main differences are between the three graph models.\n",
    "\n",
    "When looking at the total relationship counts, each model has a different count:\n",
    "\n",
    "- Bimodal is smallest with 96,104\n",
    "- Unimodal is in the middle with 171,644\n",
    "- Mixed is largest with 267,748\n",
    "\n",
    "Keep in mind that the Unimodal Model has weighted relationships (for information on weighted relationships see [Entry G4](https://julielinx.github.io/blog/g04_graph_model_rels/)). While we are projecting relationships based on the original Bimodal Model, we end up with a lot more connections in the projected version. If we include the weights we get a total relationship count of 579,191 for Hero to Hero relationships (which we know from the [Entry G13 notebook](https://github.com/julielinx/datascience_diaries/blob/master/graph/13a_nb_weighted_degree_comparison.ipynb)). That's around 6 times the number of connections from the original representation."
   ]
  },
  {
   "cell_type": "code",
   "execution_count": 6,
   "metadata": {},
   "outputs": [
    {
     "data": {
      "text/html": [
       "<div>\n",
       "<style scoped>\n",
       "    .dataframe tbody tr th:only-of-type {\n",
       "        vertical-align: middle;\n",
       "    }\n",
       "\n",
       "    .dataframe tbody tr th {\n",
       "        vertical-align: top;\n",
       "    }\n",
       "\n",
       "    .dataframe thead th {\n",
       "        text-align: right;\n",
       "    }\n",
       "</style>\n",
       "<table border=\"1\" class=\"dataframe\">\n",
       "  <thead>\n",
       "    <tr style=\"text-align: right;\">\n",
       "      <th></th>\n",
       "      <th>KNOWS</th>\n",
       "      <th>APPEARS_IN</th>\n",
       "      <th>Total</th>\n",
       "    </tr>\n",
       "  </thead>\n",
       "  <tbody>\n",
       "    <tr>\n",
       "      <th>unimodal</th>\n",
       "      <td>171644.0</td>\n",
       "      <td>0.0</td>\n",
       "      <td>171644.0</td>\n",
       "    </tr>\n",
       "    <tr>\n",
       "      <th>bimodal</th>\n",
       "      <td>0.0</td>\n",
       "      <td>96104.0</td>\n",
       "      <td>96104.0</td>\n",
       "    </tr>\n",
       "    <tr>\n",
       "      <th>mixmodal</th>\n",
       "      <td>171644.0</td>\n",
       "      <td>96104.0</td>\n",
       "      <td>267748.0</td>\n",
       "    </tr>\n",
       "  </tbody>\n",
       "</table>\n",
       "</div>"
      ],
      "text/plain": [
       "             KNOWS  APPEARS_IN     Total\n",
       "unimodal  171644.0         0.0  171644.0\n",
       "bimodal        0.0     96104.0   96104.0\n",
       "mixmodal  171644.0     96104.0  267748.0"
      ]
     },
     "execution_count": 6,
     "metadata": {},
     "output_type": "execute_result"
    }
   ],
   "source": [
    "rel_cts = pd.DataFrame(uni_session.run('''MATCH ()-[r]->()\n",
    "RETURN type(r) as rel_type, count(r) as count''').data(\n",
    ")).rename({0:'unimodal'}).pivot(columns='rel_type', values='count').append(\n",
    "pd.DataFrame(bi_session.run('''MATCH ()-[r]->()\n",
    "RETURN type(r) as rel_type, count(r) as count''').data(\n",
    ")).rename({0:'bimodal'}).pivot(columns='rel_type', values='count')).append(\n",
    "pd.DataFrame(mix_session.run('''MATCH ()-[r]->()\n",
    "RETURN type(r) as rel_type, count(r) as count''').data(\n",
    ")).rename({0:'mixmodal', 1:'mixmodal'}).pivot(columns='rel_type', values='count')).fillna(0)\n",
    "rel_cts['Total'] = rel_cts['KNOWS'] + rel_cts['APPEARS_IN']\n",
    "rel_cts"
   ]
  },
  {
   "cell_type": "markdown",
   "metadata": {},
   "source": [
    "When we break these down by relationship type, it becomes obvious that the Unimodal and Mixed Models have the same count for `KNOWS` relationships, while the Bimodal and Mixed Models have the same count for `APPEARS_IN`. The total count for the Mixed Model is just the addition of the relationships in the Unimodal and Bimodal Models.\n",
    "\n",
    "This reflects how we created the models:\n",
    "\n",
    "- Started with Bimodal:\n",
    "  - Hero nodes\n",
    "  - Comic nodes\n",
    "  - `APPEARS_IN` relationships\n",
    "- Created the Mixed model: added the `KNOWS` relationship between Hero nodes\n",
    "  - Hero nodes\n",
    "  - Comic nodes\n",
    "  - `APPEARS_IN` relationships\n",
    "  - `KNOWS` relationships\n",
    "- Reduced to the Unimodal model: removed the Comic nodes and all the `APPEARS_IN` relationships\n",
    "  - Hero nodes\n",
    "  - `KNOWS` relationships"
   ]
  },
  {
   "cell_type": "markdown",
   "metadata": {},
   "source": [
    "## Isolate Count and Percent\n",
    "\n",
    "The isolate count and percent just give us more information about the connectedness of the graph. When we look at the isolate count and percent for the Bimodal Model below, we can see that the diagram I used at the beginning of the entry to illustrate the three global counts is actually impossible.\n",
    "\n",
    "That graph has two nodes types (must be the Bimodal or Mixed Models) and relationships only between Hero to Comic (rules out the Mixed Model). However, the actual metrics tell us that there are no isolated nodes in the Bimodal Model. Good thing that diagram was for illustration purposes only."
   ]
  },
  {
   "cell_type": "code",
   "execution_count": 7,
   "metadata": {},
   "outputs": [
    {
     "data": {
      "text/html": [
       "<div>\n",
       "<style scoped>\n",
       "    .dataframe tbody tr th:only-of-type {\n",
       "        vertical-align: middle;\n",
       "    }\n",
       "\n",
       "    .dataframe tbody tr th {\n",
       "        vertical-align: top;\n",
       "    }\n",
       "\n",
       "    .dataframe thead th {\n",
       "        text-align: right;\n",
       "    }\n",
       "</style>\n",
       "<table border=\"1\" class=\"dataframe\">\n",
       "  <thead>\n",
       "    <tr style=\"text-align: right;\">\n",
       "      <th></th>\n",
       "      <th>node_count</th>\n",
       "      <th>relation_ct</th>\n",
       "      <th>isolates_count</th>\n",
       "      <th>isolates_pct</th>\n",
       "    </tr>\n",
       "  </thead>\n",
       "  <tbody>\n",
       "    <tr>\n",
       "      <th>unimodal</th>\n",
       "      <td>6439</td>\n",
       "      <td>171644</td>\n",
       "      <td>18</td>\n",
       "      <td>0.28</td>\n",
       "    </tr>\n",
       "    <tr>\n",
       "      <th>bimodal</th>\n",
       "      <td>19090</td>\n",
       "      <td>96104</td>\n",
       "      <td>0</td>\n",
       "      <td>0.00</td>\n",
       "    </tr>\n",
       "    <tr>\n",
       "      <th>mixmodal</th>\n",
       "      <td>19090</td>\n",
       "      <td>267748</td>\n",
       "      <td>0</td>\n",
       "      <td>0.00</td>\n",
       "    </tr>\n",
       "  </tbody>\n",
       "</table>\n",
       "</div>"
      ],
      "text/plain": [
       "          node_count  relation_ct  isolates_count  isolates_pct\n",
       "unimodal        6439       171644              18          0.28\n",
       "bimodal        19090        96104               0          0.00\n",
       "mixmodal       19090       267748               0          0.00"
      ]
     },
     "execution_count": 7,
     "metadata": {},
     "output_type": "execute_result"
    }
   ],
   "source": [
    "pd.DataFrame(uni_session.run('''MATCH (n) WHERE NOT (n)--() \n",
    "WITH COUNT(distinct n) as isolates_count\n",
    "MATCH ()-[r]->()\n",
    "WITH count(r) as relation_ct, isolates_count\n",
    "MATCH (c)\n",
    "with count(distinct c) as node_count, isolates_count, relation_ct\n",
    "return node_count, relation_ct, isolates_count,\n",
    "round(toFloat(isolates_count)/node_count*10000) / 100 as isolates_pct''').data()).rename({0:'unimodal'}).append(\n",
    "pd.DataFrame(bi_session.run('''MATCH (n) WHERE NOT (n)--() \n",
    "WITH COUNT(distinct n) as isolates_count\n",
    "MATCH ()-[r]->()\n",
    "WITH count(r) as relation_ct, isolates_count\n",
    "MATCH (c)\n",
    "with count(distinct c) as node_count, isolates_count, relation_ct\n",
    "return node_count, relation_ct, isolates_count,\n",
    "round(toFloat(isolates_count)/node_count*10000) / 100 as isolates_pct''').data())).rename({0:'bimodal'}).append(\n",
    "pd.DataFrame(mix_session.run('''MATCH (n) WHERE NOT (n)--() \n",
    "WITH COUNT(distinct n) as isolates_count\n",
    "MATCH ()-[r]->()\n",
    "WITH count(r) as relation_ct, isolates_count\n",
    "MATCH (c)\n",
    "with count(distinct c) as node_count, isolates_count, relation_ct\n",
    "return node_count, relation_ct, isolates_count,\n",
    "round(toFloat(isolates_count)/node_count*10000) / 100 as isolates_pct''').data()).rename({0:'mixmodal'}))"
   ]
  },
  {
   "cell_type": "markdown",
   "metadata": {},
   "source": [
    "# Up Next\n",
    "\n",
    "Global Density Comparison"
   ]
  },
  {
   "cell_type": "markdown",
   "metadata": {},
   "source": [
    "# Resources\n",
    "\n",
    "- [Entry G4: Modeling Relationships](https://julielinx.github.io/blog/g04_graph_model_rels/)\n",
    "- [Entry G6: Blobal Graph Counts](https://julielinx.github.io/blog/g06_global_counts/)\n",
    "- [Entry G13: Weighted Degree Comparison](https://julielinx.github.io/blog/g13_weighted_degree_comparison/)\n",
    "- [Entry G13 notebook](https://github.com/julielinx/datascience_diaries/blob/master/graph/13a_nb_weighted_degree_comparison.ipynb)"
   ]
  }
 ],
 "metadata": {
  "kernelspec": {
   "display_name": "Python 3",
   "language": "python",
   "name": "python3"
  },
  "language_info": {
   "codemirror_mode": {
    "name": "ipython",
    "version": 3
   },
   "file_extension": ".py",
   "mimetype": "text/x-python",
   "name": "python",
   "nbconvert_exporter": "python",
   "pygments_lexer": "ipython3",
   "version": "3.7.6"
  }
 },
 "nbformat": 4,
 "nbformat_minor": 4
}
