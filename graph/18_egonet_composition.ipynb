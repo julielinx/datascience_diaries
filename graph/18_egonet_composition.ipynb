{
 "cells": [
  {
   "cell_type": "markdown",
   "id": "8666a65e-63f1-46d4-a6a3-477d60de5fc5",
   "metadata": {},
   "source": [
    "# Entry G18: Egonet Composition "
   ]
  },
  {
   "cell_type": "markdown",
   "id": "7a6749bb-6120-4706-9a96-4d0f51ee491c",
   "metadata": {},
   "source": [
    "Now that we've gone through the global metrics and have a feel for the structure and composition of our data, it's time to start running local metrics.\n",
    "\n",
    "\n",
    "\n",
    "Mark Newman provides a list of the mean distance between connected nodes pairs for most of the 27 networks he analyzed. Of the 23 networks with mean distance, the overall average was 6.5. If you remember from a previous post (or bought and read the book), Mark analyzed four sectors: Social, Infomation, Technology, and Biological. At a more grandual level it broke down as follows:\n",
    "\n",
    "<table>\n",
    "    <tr>\n",
    "        <th>Sector</th>\n",
    "        <th>Mean</th>\n",
    "        <th>Minimum</th>\n",
    "        <th>Maximum</th>\n",
    "        <th>Number of Networks</th>\n",
    "    </tr>\n",
    "    <tr>\n",
    "        <td>Social</td>\n",
    "        <td>6.62</td>\n",
    "        <td>3.48</td>\n",
    "        <td>16.01</td>\n",
    "        <td>8</td>\n",
    "    </tr>\n",
    "    <tr>\n",
    "        <td>Infomation</td>\n",
    "        <td>10.77</td>\n",
    "        <td>4.86</td>\n",
    "        <td>16.18</td>\n",
    "        <td>3</td>\n",
    "    </tr>\n",
    "    <tr>\n",
    "        <td>Technology</td>\n",
    "        <td>6.80</td>\n",
    "        <td>2.16</td>\n",
    "        <td>18.99</td>\n",
    "        <td>7</td>\n",
    "    </tr>\n",
    "    <tr>\n",
    "        <td>Biological</td>\n",
    "        <td>3.46</td>\n",
    "        <td>1.90</td>\n",
    "        <td>6.80</td>\n",
    "        <td>5</td>\n",
    "    </tr>\n",
    "</table>"
   ]
  },
  {
   "cell_type": "markdown",
   "id": "60df413f-5dc7-4604-8034-80e03bc9223e",
   "metadata": {},
   "source": [
    "\n",
    "\n",
    "To calculate local metrics, I'll be using an egonet view of the claims. An egonet centers around a single node.\n",
    "\n",
    "Illustration of egonet vs non-egonet. Entries 5 and 14 have pictures that might be useful.\n",
    "\n",
    "Egonet of contact points, minus original relationships could be very fruitful. Look for tours/cycles.\n",
    "\n",
    "Total count at 1 step and 2 steps, % villains at 1 step and 2 steps.\n",
    "\n",
    "Distribution charts for counts at each step. Distrubution charts of villain %."
   ]
  },
  {
   "cell_type": "code",
   "execution_count": null,
   "id": "d6aaf009-0893-453a-a487-fe75ea452b00",
   "metadata": {},
   "outputs": [],
   "source": []
  },
  {
   "cell_type": "code",
   "execution_count": null,
   "id": "fa3c7989-5d80-4681-8d80-5b7811b24daf",
   "metadata": {},
   "outputs": [],
   "source": []
  }
 ],
 "metadata": {
  "kernelspec": {
   "display_name": "Python 3",
   "language": "python",
   "name": "python3"
  },
  "language_info": {
   "codemirror_mode": {
    "name": "ipython",
    "version": 3
   },
   "file_extension": ".py",
   "mimetype": "text/x-python",
   "name": "python",
   "nbconvert_exporter": "python",
   "pygments_lexer": "ipython3",
   "version": "3.8.8"
  }
 },
 "nbformat": 4,
 "nbformat_minor": 5
}
