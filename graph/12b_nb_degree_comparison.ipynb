{
 "cells": [
  {
   "cell_type": "markdown",
   "metadata": {},
   "source": [
    "# Entry G12b notebook: Degree Comparison"
   ]
  },
  {
   "cell_type": "code",
   "execution_count": 1,
   "metadata": {},
   "outputs": [],
   "source": [
    "import numpy as np\n",
    "import pandas as pd\n",
    "import matplotlib.pyplot as plt\n",
    "import seaborn as sns\n",
    "plt.style.use('ggplot')\n",
    "%matplotlib inline\n",
    "\n",
    "import warnings\n",
    "warnings.filterwarnings('once')\n",
    "\n",
    "from neo4j import GraphDatabase"
   ]
  },
  {
   "cell_type": "code",
   "execution_count": 3,
   "metadata": {},
   "outputs": [],
   "source": [
    "uri = \"bolt://localhost:7687\"\n",
    "\n",
    "driver = GraphDatabase.driver(uri, auth=('neo4j', 'password'))\n",
    "\n",
    "uni_session = driver.session(database=\"unimodal\")\n",
    "bi_session = driver.session(database=\"bimodal\")\n",
    "mix_session = driver.session(database=\"mixmodal\")"
   ]
  },
  {
   "cell_type": "markdown",
   "metadata": {},
   "source": [
    "## Degree Count"
   ]
  },
  {
   "cell_type": "code",
   "execution_count": 4,
   "metadata": {},
   "outputs": [
    {
     "data": {
      "text/html": [
       "<div>\n",
       "<style scoped>\n",
       "    .dataframe tbody tr th:only-of-type {\n",
       "        vertical-align: middle;\n",
       "    }\n",
       "\n",
       "    .dataframe tbody tr th {\n",
       "        vertical-align: top;\n",
       "    }\n",
       "\n",
       "    .dataframe thead th {\n",
       "        text-align: right;\n",
       "    }\n",
       "</style>\n",
       "<table border=\"1\" class=\"dataframe\">\n",
       "  <thead>\n",
       "    <tr style=\"text-align: right;\">\n",
       "      <th></th>\n",
       "      <th>rel_type</th>\n",
       "      <th>unimodal</th>\n",
       "      <th>bimodal</th>\n",
       "      <th>mixmodal</th>\n",
       "    </tr>\n",
       "  </thead>\n",
       "  <tbody>\n",
       "    <tr>\n",
       "      <th>0</th>\n",
       "      <td>KNOWS</td>\n",
       "      <td>171644.0</td>\n",
       "      <td>0.0</td>\n",
       "      <td>171644</td>\n",
       "    </tr>\n",
       "    <tr>\n",
       "      <th>1</th>\n",
       "      <td>APPEARS_IN</td>\n",
       "      <td>0.0</td>\n",
       "      <td>96104.0</td>\n",
       "      <td>96104</td>\n",
       "    </tr>\n",
       "  </tbody>\n",
       "</table>\n",
       "</div>"
      ],
      "text/plain": [
       "     rel_type  unimodal  bimodal  mixmodal\n",
       "0       KNOWS  171644.0      0.0    171644\n",
       "1  APPEARS_IN       0.0  96104.0     96104"
      ]
     },
     "execution_count": 4,
     "metadata": {},
     "output_type": "execute_result"
    }
   ],
   "source": [
    "pd.DataFrame(uni_session.run('''MATCH ()-[r]->()\n",
    "RETURN type(r) as rel_type, count(r) as unimodal''').data()).merge(\n",
    "pd.DataFrame(bi_session.run('''MATCH ()-[r]->()\n",
    "RETURN type(r) as rel_type, count(r) as bimodal''').data()), on=\"rel_type\", how='outer').merge(\n",
    "pd.DataFrame(mix_session.run('''MATCH ()-[r]->()\n",
    "RETURN type(r) as rel_type, count(r) as mixmodal''').data()), on='rel_type', how='outer').fillna(0)"
   ]
  },
  {
   "cell_type": "markdown",
   "metadata": {},
   "source": [
    "## Degree Summary Statistics"
   ]
  },
  {
   "cell_type": "markdown",
   "metadata": {},
   "source": [
    "### Unimodal Model"
   ]
  },
  {
   "cell_type": "code",
   "execution_count": 21,
   "metadata": {},
   "outputs": [
    {
     "name": "stderr",
     "output_type": "stream",
     "text": [
      "//anaconda3/lib/python3.7/site-packages/ipykernel/ipkernel.py:287: DeprecationWarning: `should_run_async` will not call `transform_cell` automatically in the future. Please pass the result to `transformed_cell` argument and any exception that happen during thetransform in `preprocessing_exc_tuple` in IPython 7.17 and above.\n",
      "  and should_run_async(code)\n"
     ]
    },
    {
     "data": {
      "text/html": [
       "<div>\n",
       "<style scoped>\n",
       "    .dataframe tbody tr th:only-of-type {\n",
       "        vertical-align: middle;\n",
       "    }\n",
       "\n",
       "    .dataframe tbody tr th {\n",
       "        vertical-align: top;\n",
       "    }\n",
       "\n",
       "    .dataframe thead th {\n",
       "        text-align: right;\n",
       "    }\n",
       "</style>\n",
       "<table border=\"1\" class=\"dataframe\">\n",
       "  <thead>\n",
       "    <tr style=\"text-align: right;\">\n",
       "      <th></th>\n",
       "      <th>pattern_match</th>\n",
       "      <th>apoc_function</th>\n",
       "      <th>gds_function</th>\n",
       "      <th>size_function</th>\n",
       "    </tr>\n",
       "  </thead>\n",
       "  <tbody>\n",
       "    <tr>\n",
       "      <th>degree_min</th>\n",
       "      <td>0.00</td>\n",
       "      <td>0.00</td>\n",
       "      <td>0.00</td>\n",
       "      <td>0.00</td>\n",
       "    </tr>\n",
       "    <tr>\n",
       "      <th>degree_max</th>\n",
       "      <td>1919.00</td>\n",
       "      <td>1919.00</td>\n",
       "      <td>1919.00</td>\n",
       "      <td>1919.00</td>\n",
       "    </tr>\n",
       "    <tr>\n",
       "      <th>degree_avg</th>\n",
       "      <td>53.31</td>\n",
       "      <td>53.31</td>\n",
       "      <td>53.31</td>\n",
       "      <td>53.31</td>\n",
       "    </tr>\n",
       "    <tr>\n",
       "      <th>degree_stdev</th>\n",
       "      <td>116.63</td>\n",
       "      <td>116.63</td>\n",
       "      <td>116.63</td>\n",
       "      <td>116.63</td>\n",
       "    </tr>\n",
       "  </tbody>\n",
       "</table>\n",
       "</div>"
      ],
      "text/plain": [
       "              pattern_match  apoc_function  gds_function  size_function\n",
       "degree_min             0.00           0.00          0.00           0.00\n",
       "degree_max          1919.00        1919.00       1919.00        1919.00\n",
       "degree_avg            53.31          53.31         53.31          53.31\n",
       "degree_stdev         116.63         116.63        116.63         116.63"
      ]
     },
     "execution_count": 21,
     "metadata": {},
     "output_type": "execute_result"
    }
   ],
   "source": [
    "pd.DataFrame(uni_session.run('''MATCH (c1)\n",
    "OPTIONAL MATCH (c1)-[]-(c2)\n",
    "WITH c1, count(distinct c2) as degree\n",
    "RETURN min(degree) as degree_min,\n",
    "max(degree) as degree_max,\n",
    "round(avg(degree), 2) as degree_avg,\n",
    "round(stDev(degree), 2) as degree_stdev\n",
    "''').data()).transpose().rename(columns={0:'pattern_match'}).merge(\n",
    "pd.DataFrame(uni_session.run('''MATCH (n)\n",
    "RETURN min(apoc.node.degree(n)) as degree_min,\n",
    "max(apoc.node.degree(n)) as degree_max,\n",
    "round(avg(apoc.node.degree(n))*100)/100 as degree_avg,\n",
    "round(stdev(apoc.node.degree(n))*100)/100 as degree_stdev''').data()).transpose().rename(columns={0:'apoc_function'}), right_index=True, left_index=True).merge(\n",
    "pd.DataFrame(uni_session.run('''CALL gds.degree.stream({\n",
    "  nodeProjection: 'Hero',\n",
    "  relationshipProjection: {\n",
    "  KNOWS: {\n",
    "  type: 'KNOWS',\n",
    "  orientation:'UNDIRECTED'\n",
    "  }}\n",
    "})\n",
    "YIELD nodeId, score\n",
    "WITH gds.util.asNode(nodeId).name AS hero, score AS degree\n",
    "RETURN min(degree) as degree_min,\n",
    "max(degree) as degree_max,\n",
    "round(avg(degree)*100)/100 as degree_avg,\n",
    "round(stdev(degree)*100)/100 as degree_stdev''').data()).transpose().rename(columns={0:'gds_function'}), right_index=True, left_index=True).merge(\n",
    "pd.DataFrame(uni_session.run('''MATCH (h)\n",
    "WITH h.name as hero, size((h)--()) as degree\n",
    "RETURN min(degree) as degree_min,\n",
    "max(degree) as degree_max,\n",
    "round(avg(degree)*100)/100 as degree_avg,\n",
    "round(stdev(degree)*100)/100 as degree_stdev''').data()).transpose().rename(columns={0:'size_function'}), right_index=True, left_index=True)"
   ]
  },
  {
   "cell_type": "markdown",
   "metadata": {},
   "source": [
    "### Bimodal Model"
   ]
  },
  {
   "cell_type": "markdown",
   "metadata": {},
   "source": [
    "#### Direction\n",
    "\n",
    "To provide consistency between the pattern match option and the `gds` function, I'm including three ways to pull the degree by including (or excluding) information about the direction of the relationship.\n",
    "\n",
    "- Outgoing relationship\n",
    "  - Due to the relationship direction in our data, the query only returns c2 results when the start node is a Hero node\n",
    "  - (:Hero)-[]->(:Comic)\n",
    "- Incoming relationship\n",
    "  - Due to the relationship direction in our data, the query only returns c2 results when the start node is a Comic node\n",
    "  - (:Comic)<-[]-(:Hero)\n",
    "- Undirected relationship\n",
    "  - Because there is no constraint regarding the direction of the relationship, the query returns results for c2 regardless of node label\n",
    "  - (:Hero)-[]-(:Comic)\n",
    "  - (:Comic)-[]-(:Hero)\n",
    "  \n",
    "*Note*, if we fail to include the label in the first `MATCH` statement of the outgoing and incoming relationship queries, all nodes of the other label will return a degree of 0, which effects our average and standard deviation.\n",
    "\n",
    "This is easiest to see using the pattern match. As such, I have included the correct and incorrect results for incoming and outgoing relationships. This doesn't apply to undirected metrics as all relationships and nodes are counted regardless of direction."
   ]
  },
  {
   "cell_type": "markdown",
   "metadata": {},
   "source": [
    "**Outgoing relationship**"
   ]
  },
  {
   "cell_type": "code",
   "execution_count": 137,
   "metadata": {},
   "outputs": [
    {
     "data": {
      "text/html": [
       "<div>\n",
       "<style scoped>\n",
       "    .dataframe tbody tr th:only-of-type {\n",
       "        vertical-align: middle;\n",
       "    }\n",
       "\n",
       "    .dataframe tbody tr th {\n",
       "        vertical-align: top;\n",
       "    }\n",
       "\n",
       "    .dataframe thead th {\n",
       "        text-align: right;\n",
       "    }\n",
       "</style>\n",
       "<table border=\"1\" class=\"dataframe\">\n",
       "  <thead>\n",
       "    <tr style=\"text-align: right;\">\n",
       "      <th></th>\n",
       "      <th>incorrect</th>\n",
       "      <th>correct</th>\n",
       "    </tr>\n",
       "  </thead>\n",
       "  <tbody>\n",
       "    <tr>\n",
       "      <th>degree_min</th>\n",
       "      <td>0.00</td>\n",
       "      <td>1.00</td>\n",
       "    </tr>\n",
       "    <tr>\n",
       "      <th>degree_max</th>\n",
       "      <td>1577.00</td>\n",
       "      <td>1577.00</td>\n",
       "    </tr>\n",
       "    <tr>\n",
       "      <th>degree_avg</th>\n",
       "      <td>5.03</td>\n",
       "      <td>14.93</td>\n",
       "    </tr>\n",
       "    <tr>\n",
       "      <th>degree_stdev</th>\n",
       "      <td>35.14</td>\n",
       "      <td>59.27</td>\n",
       "    </tr>\n",
       "  </tbody>\n",
       "</table>\n",
       "</div>"
      ],
      "text/plain": [
       "              incorrect  correct\n",
       "degree_min         0.00     1.00\n",
       "degree_max      1577.00  1577.00\n",
       "degree_avg         5.03    14.93\n",
       "degree_stdev      35.14    59.27"
      ]
     },
     "execution_count": 137,
     "metadata": {},
     "output_type": "execute_result"
    }
   ],
   "source": [
    "pd.DataFrame(bi_session.run('''MATCH (c1)\n",
    "OPTIONAL MATCH (c1)-[]->(c2)\n",
    "WITH c1, count(distinct c2) as degree\n",
    "RETURN min(degree) as degree_min,\n",
    "max(degree) as degree_max,\n",
    "round(avg(degree), 2) as degree_avg,\n",
    "round(stDev(degree), 2) as degree_stdev\n",
    "''').data()).transpose().rename(columns={0:'incorrect'}).merge(\n",
    "pd.DataFrame(bi_session.run('''MATCH (c1:Hero)\n",
    "OPTIONAL MATCH (c1)-[]->(c2)\n",
    "WITH c1, count(distinct c2) as degree\n",
    "RETURN min(degree) as degree_min,\n",
    "max(degree) as degree_max,\n",
    "round(avg(degree), 2) as degree_avg,\n",
    "round(stDev(degree), 2) as degree_stdev\n",
    "''').data()).transpose().rename(columns={0:'correct'}), left_index=True, right_index=True)"
   ]
  },
  {
   "cell_type": "markdown",
   "metadata": {},
   "source": [
    "**Incoming relationship**"
   ]
  },
  {
   "cell_type": "code",
   "execution_count": 141,
   "metadata": {},
   "outputs": [
    {
     "data": {
      "text/html": [
       "<div>\n",
       "<style scoped>\n",
       "    .dataframe tbody tr th:only-of-type {\n",
       "        vertical-align: middle;\n",
       "    }\n",
       "\n",
       "    .dataframe tbody tr th {\n",
       "        vertical-align: top;\n",
       "    }\n",
       "\n",
       "    .dataframe thead th {\n",
       "        text-align: right;\n",
       "    }\n",
       "</style>\n",
       "<table border=\"1\" class=\"dataframe\">\n",
       "  <thead>\n",
       "    <tr style=\"text-align: right;\">\n",
       "      <th></th>\n",
       "      <th>incorrect</th>\n",
       "      <th>correct</th>\n",
       "    </tr>\n",
       "  </thead>\n",
       "  <tbody>\n",
       "    <tr>\n",
       "      <th>degree_min</th>\n",
       "      <td>0.00</td>\n",
       "      <td>1.00</td>\n",
       "    </tr>\n",
       "    <tr>\n",
       "      <th>degree_max</th>\n",
       "      <td>111.00</td>\n",
       "      <td>111.00</td>\n",
       "    </tr>\n",
       "    <tr>\n",
       "      <th>degree_avg</th>\n",
       "      <td>5.03</td>\n",
       "      <td>7.60</td>\n",
       "    </tr>\n",
       "    <tr>\n",
       "      <th>degree_stdev</th>\n",
       "      <td>6.35</td>\n",
       "      <td>6.44</td>\n",
       "    </tr>\n",
       "  </tbody>\n",
       "</table>\n",
       "</div>"
      ],
      "text/plain": [
       "              incorrect  correct\n",
       "degree_min         0.00     1.00\n",
       "degree_max       111.00   111.00\n",
       "degree_avg         5.03     7.60\n",
       "degree_stdev       6.35     6.44"
      ]
     },
     "execution_count": 141,
     "metadata": {},
     "output_type": "execute_result"
    }
   ],
   "source": [
    "pd.DataFrame(bi_session.run('''MATCH (c1)\n",
    "OPTIONAL MATCH (c1)<-[]-(c2)\n",
    "WITH c1, count(distinct c2) as degree\n",
    "RETURN min(degree) as degree_min,\n",
    "max(degree) as degree_max,\n",
    "round(avg(degree), 2) as degree_avg,\n",
    "round(stDev(degree), 2) as degree_stdev\n",
    "''').data()).transpose().rename(columns={0:'incorrect'}).merge(\n",
    "pd.DataFrame(bi_session.run('''MATCH (c1:Comic)\n",
    "OPTIONAL MATCH (c1)<-[]-(c2)\n",
    "WITH c1, count(distinct c2) as degree\n",
    "RETURN min(degree) as degree_min,\n",
    "max(degree) as degree_max,\n",
    "round(avg(degree), 2) as degree_avg,\n",
    "round(stDev(degree), 2) as degree_stdev\n",
    "''').data()).transpose().rename(columns={0:'correct'}), left_index=True, right_index=True)"
   ]
  },
  {
   "cell_type": "markdown",
   "metadata": {},
   "source": [
    "### Undirected"
   ]
  },
  {
   "cell_type": "code",
   "execution_count": 31,
   "metadata": {},
   "outputs": [
    {
     "name": "stderr",
     "output_type": "stream",
     "text": [
      "//anaconda3/lib/python3.7/site-packages/ipykernel/ipkernel.py:287: DeprecationWarning: `should_run_async` will not call `transform_cell` automatically in the future. Please pass the result to `transformed_cell` argument and any exception that happen during thetransform in `preprocessing_exc_tuple` in IPython 7.17 and above.\n",
      "  and should_run_async(code)\n"
     ]
    },
    {
     "data": {
      "text/html": [
       "<div>\n",
       "<style scoped>\n",
       "    .dataframe tbody tr th:only-of-type {\n",
       "        vertical-align: middle;\n",
       "    }\n",
       "\n",
       "    .dataframe tbody tr th {\n",
       "        vertical-align: top;\n",
       "    }\n",
       "\n",
       "    .dataframe thead th {\n",
       "        text-align: right;\n",
       "    }\n",
       "</style>\n",
       "<table border=\"1\" class=\"dataframe\">\n",
       "  <thead>\n",
       "    <tr style=\"text-align: right;\">\n",
       "      <th></th>\n",
       "      <th>pattern_match</th>\n",
       "      <th>apoc_function</th>\n",
       "      <th>gds_function</th>\n",
       "      <th>size_function</th>\n",
       "    </tr>\n",
       "  </thead>\n",
       "  <tbody>\n",
       "    <tr>\n",
       "      <th>degree_min</th>\n",
       "      <td>1.00</td>\n",
       "      <td>1.00</td>\n",
       "      <td>1.00</td>\n",
       "      <td>1.00</td>\n",
       "    </tr>\n",
       "    <tr>\n",
       "      <th>degree_max</th>\n",
       "      <td>1577.00</td>\n",
       "      <td>1577.00</td>\n",
       "      <td>1577.00</td>\n",
       "      <td>1577.00</td>\n",
       "    </tr>\n",
       "    <tr>\n",
       "      <th>degree_avg</th>\n",
       "      <td>10.07</td>\n",
       "      <td>10.07</td>\n",
       "      <td>10.07</td>\n",
       "      <td>10.07</td>\n",
       "    </tr>\n",
       "    <tr>\n",
       "      <th>degree_stdev</th>\n",
       "      <td>34.99</td>\n",
       "      <td>34.99</td>\n",
       "      <td>34.99</td>\n",
       "      <td>34.99</td>\n",
       "    </tr>\n",
       "  </tbody>\n",
       "</table>\n",
       "</div>"
      ],
      "text/plain": [
       "              pattern_match  apoc_function  gds_function  size_function\n",
       "degree_min             1.00           1.00          1.00           1.00\n",
       "degree_max          1577.00        1577.00       1577.00        1577.00\n",
       "degree_avg            10.07          10.07         10.07          10.07\n",
       "degree_stdev          34.99          34.99         34.99          34.99"
      ]
     },
     "execution_count": 31,
     "metadata": {},
     "output_type": "execute_result"
    }
   ],
   "source": [
    "pd.DataFrame(bi_session.run('''MATCH (c1)\n",
    "OPTIONAL MATCH (c1)-[]-(c2)\n",
    "WITH c1, count(distinct c2) as degree\n",
    "RETURN min(degree) as degree_min,\n",
    "max(degree) as degree_max,\n",
    "round(avg(degree),2) as degree_avg,\n",
    "round(stDev(degree),2) as degree_stdev\n",
    "''').data()).transpose().rename(columns = {0:'pattern_match'}).merge(\n",
    "    pd.DataFrame(bi_session.run('''MATCH (n)\n",
    "RETURN min(apoc.node.degree(n)) as degree_min,\n",
    "max(apoc.node.degree(n)) as degree_max,\n",
    "round(avg(apoc.node.degree(n))*100)/100 as degree_avg,\n",
    "round(stdev(apoc.node.degree(n))*100)/100 as degree_stdev''').data()).transpose().rename(columns={0:'apoc_function'}), left_index=True, right_index=True).merge(\n",
    "    pd.DataFrame(bi_session.run('''CALL gds.degree.stream({\n",
    "  nodeProjection: ['Hero', 'Comic'],\n",
    "  relationshipProjection: {\n",
    "  APPEARS_IN: {\n",
    "  type: 'APPEARS_IN',\n",
    "  orientation:'UNDIRECTED'\n",
    "  }}\n",
    "})\n",
    "YIELD nodeId, score\n",
    "WITH gds.util.asNode(nodeId).name AS hero, score AS degree\n",
    "RETURN min(degree) as degree_min,\n",
    "max(degree) as degree_max,\n",
    "round(avg(degree)*100)/100 as degree_avg,\n",
    "round(stdev(degree)*100)/100 as degree_stdev''').data()).transpose().rename(columns = {0:'gds_function'}), left_index=True, right_index=True).merge(\n",
    "pd.DataFrame(bi_session.run('''MATCH (n)\n",
    "WITH n.name as name, size((n)--()) as degree\n",
    "RETURN min(degree) as degree_min,\n",
    "max(degree) as degree_max,\n",
    "round(avg(degree)*100)/100 as degree_avg,\n",
    "round(stdev(degree)*100)/100 as degree_stdev\n",
    "''').data()).transpose().rename(columns = {0:'size_function'}), left_index=True, right_index=True)"
   ]
  },
  {
   "cell_type": "markdown",
   "metadata": {},
   "source": [
    "### Hero to Comic"
   ]
  },
  {
   "cell_type": "code",
   "execution_count": 92,
   "metadata": {},
   "outputs": [
    {
     "name": "stderr",
     "output_type": "stream",
     "text": [
      "//anaconda3/lib/python3.7/site-packages/ipykernel/ipkernel.py:287: DeprecationWarning: `should_run_async` will not call `transform_cell` automatically in the future. Please pass the result to `transformed_cell` argument and any exception that happen during thetransform in `preprocessing_exc_tuple` in IPython 7.17 and above.\n",
      "  and should_run_async(code)\n"
     ]
    },
    {
     "data": {
      "text/html": [
       "<div>\n",
       "<style scoped>\n",
       "    .dataframe tbody tr th:only-of-type {\n",
       "        vertical-align: middle;\n",
       "    }\n",
       "\n",
       "    .dataframe tbody tr th {\n",
       "        vertical-align: top;\n",
       "    }\n",
       "\n",
       "    .dataframe thead th {\n",
       "        text-align: right;\n",
       "    }\n",
       "</style>\n",
       "<table border=\"1\" class=\"dataframe\">\n",
       "  <thead>\n",
       "    <tr style=\"text-align: right;\">\n",
       "      <th></th>\n",
       "      <th>pattern_match</th>\n",
       "      <th>apoc_function</th>\n",
       "      <th>size_function</th>\n",
       "      <th>gds_function</th>\n",
       "      <th>incorrect_pm</th>\n",
       "    </tr>\n",
       "  </thead>\n",
       "  <tbody>\n",
       "    <tr>\n",
       "      <th>degree_min</th>\n",
       "      <td>1.00</td>\n",
       "      <td>1.00</td>\n",
       "      <td>1.00</td>\n",
       "      <td>0.00</td>\n",
       "      <td>0.00</td>\n",
       "    </tr>\n",
       "    <tr>\n",
       "      <th>degree_max</th>\n",
       "      <td>1577.00</td>\n",
       "      <td>1577.00</td>\n",
       "      <td>1577.00</td>\n",
       "      <td>1577.00</td>\n",
       "      <td>1577.00</td>\n",
       "    </tr>\n",
       "    <tr>\n",
       "      <th>degree_avg</th>\n",
       "      <td>14.93</td>\n",
       "      <td>14.93</td>\n",
       "      <td>14.93</td>\n",
       "      <td>5.03</td>\n",
       "      <td>5.03</td>\n",
       "    </tr>\n",
       "    <tr>\n",
       "      <th>degree_stdev</th>\n",
       "      <td>59.27</td>\n",
       "      <td>59.27</td>\n",
       "      <td>59.27</td>\n",
       "      <td>35.14</td>\n",
       "      <td>35.14</td>\n",
       "    </tr>\n",
       "  </tbody>\n",
       "</table>\n",
       "</div>"
      ],
      "text/plain": [
       "              pattern_match  apoc_function  size_function  gds_function  \\\n",
       "degree_min             1.00           1.00           1.00          0.00   \n",
       "degree_max          1577.00        1577.00        1577.00       1577.00   \n",
       "degree_avg            14.93          14.93          14.93          5.03   \n",
       "degree_stdev          59.27          59.27          59.27         35.14   \n",
       "\n",
       "              incorrect_pm  \n",
       "degree_min            0.00  \n",
       "degree_max         1577.00  \n",
       "degree_avg            5.03  \n",
       "degree_stdev         35.14  "
      ]
     },
     "execution_count": 92,
     "metadata": {},
     "output_type": "execute_result"
    }
   ],
   "source": [
    "pd.DataFrame(bi_session.run('''MATCH (c1:Hero)\n",
    "OPTIONAL MATCH (c1)-[]->(c2)\n",
    "WITH c1, count(distinct c2) as degree\n",
    "RETURN min(degree) as degree_min,\n",
    "max(degree) as degree_max,\n",
    "round(avg(degree),2) as degree_avg,\n",
    "round(stDev(degree),2) as degree_stdev\n",
    "''').data(\n",
    ")).transpose().rename(columns = {0:'pattern_match'}).merge(\n",
    "pd.DataFrame(bi_session.run('''MATCH (n:Hero)\n",
    "RETURN min(apoc.node.degree(n, \"APPEARS_IN>\")) as degree_min,\n",
    "max(apoc.node.degree(n, \"APPEARS_IN>\")) as degree_max,\n",
    "round(avg(apoc.node.degree(n, \"APPEARS_IN>\"))*100)/100 as degree_avg,\n",
    "round(stdev(apoc.node.degree(n, \"APPEARS_IN>\"))*100)/100 as degree_stdev''').data(\n",
    ")).transpose().rename(columns = {0:'apoc_function'}), right_index=True, left_index=True).merge(\n",
    "pd.DataFrame(bi_session.run('''MATCH (h:Hero)\n",
    "WITH h.name as hero, size((h)--()) as degree\n",
    "RETURN min(degree) as degree_min,\n",
    "max(degree) as degree_max,\n",
    "round(avg(degree)*100)/100 as degree_avg,\n",
    "round(stdev(degree)*100)/100 as degree_stdev\n",
    "''').data()).transpose().rename(columns = {0:'size_function'}), right_index=True, left_index=True).merge(\n",
    "pd.DataFrame(bi_session.run('''CALL gds.degree.stream({\n",
    "  nodeProjection: ['Hero', 'Comic'],\n",
    "  relationshipProjection: {\n",
    "  APPEARS_IN: {\n",
    "  type: 'APPEARS_IN',\n",
    "  orientation:'NATURAL'\n",
    "  }}\n",
    "})\n",
    "YIELD nodeId, score\n",
    "WITH gds.util.asNode(nodeId).name AS hero, score AS degree\n",
    "RETURN min(degree) as degree_min,\n",
    "max(degree) as degree_max,\n",
    "round(avg(degree)*100)/100 as degree_avg,\n",
    "round(stdev(degree)*100)/100 as degree_stdev''').data(\n",
    ")).transpose().rename(columns = {0:'gds_function'}), right_index=True, left_index=True).merge(\n",
    "pd.DataFrame(bi_session.run('''MATCH (c1)\n",
    "OPTIONAL MATCH (c1)-[]->(c2)\n",
    "WITH c1, count(distinct c2) as degree\n",
    "RETURN min(degree) as degree_min,\n",
    "max(degree) as degree_max,\n",
    "round(avg(degree), 2) as degree_avg,\n",
    "round(stDev(degree), 2) as degree_stdev\n",
    "''').data()).transpose().rename(columns={0:'incorrect_pm'}), left_index=True, right_index=True)"
   ]
  },
  {
   "cell_type": "markdown",
   "metadata": {},
   "source": [
    "### Comic to Hero"
   ]
  },
  {
   "cell_type": "code",
   "execution_count": 91,
   "metadata": {},
   "outputs": [
    {
     "name": "stderr",
     "output_type": "stream",
     "text": [
      "//anaconda3/lib/python3.7/site-packages/ipykernel/ipkernel.py:287: DeprecationWarning: `should_run_async` will not call `transform_cell` automatically in the future. Please pass the result to `transformed_cell` argument and any exception that happen during thetransform in `preprocessing_exc_tuple` in IPython 7.17 and above.\n",
      "  and should_run_async(code)\n"
     ]
    },
    {
     "data": {
      "text/html": [
       "<div>\n",
       "<style scoped>\n",
       "    .dataframe tbody tr th:only-of-type {\n",
       "        vertical-align: middle;\n",
       "    }\n",
       "\n",
       "    .dataframe tbody tr th {\n",
       "        vertical-align: top;\n",
       "    }\n",
       "\n",
       "    .dataframe thead th {\n",
       "        text-align: right;\n",
       "    }\n",
       "</style>\n",
       "<table border=\"1\" class=\"dataframe\">\n",
       "  <thead>\n",
       "    <tr style=\"text-align: right;\">\n",
       "      <th></th>\n",
       "      <th>pattern_match</th>\n",
       "      <th>apoc_function</th>\n",
       "      <th>size_function</th>\n",
       "      <th>gds_function</th>\n",
       "      <th>incorrect_pm</th>\n",
       "    </tr>\n",
       "  </thead>\n",
       "  <tbody>\n",
       "    <tr>\n",
       "      <th>degree_min</th>\n",
       "      <td>1.00</td>\n",
       "      <td>1.00</td>\n",
       "      <td>1.00</td>\n",
       "      <td>0.00</td>\n",
       "      <td>0.00</td>\n",
       "    </tr>\n",
       "    <tr>\n",
       "      <th>degree_max</th>\n",
       "      <td>111.00</td>\n",
       "      <td>111.00</td>\n",
       "      <td>111.00</td>\n",
       "      <td>111.00</td>\n",
       "      <td>111.00</td>\n",
       "    </tr>\n",
       "    <tr>\n",
       "      <th>degree_avg</th>\n",
       "      <td>7.60</td>\n",
       "      <td>7.60</td>\n",
       "      <td>7.60</td>\n",
       "      <td>5.03</td>\n",
       "      <td>5.03</td>\n",
       "    </tr>\n",
       "    <tr>\n",
       "      <th>degree_stdev</th>\n",
       "      <td>6.44</td>\n",
       "      <td>6.44</td>\n",
       "      <td>6.44</td>\n",
       "      <td>6.35</td>\n",
       "      <td>6.35</td>\n",
       "    </tr>\n",
       "  </tbody>\n",
       "</table>\n",
       "</div>"
      ],
      "text/plain": [
       "              pattern_match  apoc_function  size_function  gds_function  \\\n",
       "degree_min             1.00           1.00           1.00          0.00   \n",
       "degree_max           111.00         111.00         111.00        111.00   \n",
       "degree_avg             7.60           7.60           7.60          5.03   \n",
       "degree_stdev           6.44           6.44           6.44          6.35   \n",
       "\n",
       "              incorrect_pm  \n",
       "degree_min            0.00  \n",
       "degree_max          111.00  \n",
       "degree_avg            5.03  \n",
       "degree_stdev          6.35  "
      ]
     },
     "execution_count": 91,
     "metadata": {},
     "output_type": "execute_result"
    }
   ],
   "source": [
    "pd.DataFrame(bi_session.run('''MATCH (c1:Comic)\n",
    "OPTIONAL MATCH (c1)<-[]-(c2)\n",
    "WITH c1, count(distinct c2) as degree\n",
    "RETURN min(degree) as degree_min,\n",
    "max(degree) as degree_max,\n",
    "round(avg(degree),2) as degree_avg,\n",
    "round(stDev(degree),2) as degree_stdev\n",
    "''').data()).transpose().rename(columns = {0:'pattern_match'}).merge(\n",
    "    pd.DataFrame(bi_session.run('''MATCH (n:Comic)\n",
    "RETURN min(apoc.node.degree(n, \"<APPEARS_IN\")) as degree_min,\n",
    "max(apoc.node.degree(n, \"<APPEARS_IN\")) as degree_max,\n",
    "round(avg(apoc.node.degree(n, \"<APPEARS_IN\"))*100)/100 as degree_avg,\n",
    "round(stdev(apoc.node.degree(n, \"<APPEARS_IN\"))*100)/100 as degree_stdev''').data(\n",
    ")).transpose().rename(columns={0:'apoc_function'}), right_index=True, left_index=True).merge(\n",
    "pd.DataFrame(bi_session.run('''MATCH (c:Comic)\n",
    "WITH c.name as comic, size((c)--()) as degree\n",
    "RETURN min(degree) as degree_min,\n",
    "max(degree) as degree_max,\n",
    "round(avg(degree)*100)/100 as degree_avg,\n",
    "round(stdev(degree)*100)/100 as degree_stdev\n",
    "''').data()).transpose().rename(columns = {0:'size_function'}), left_index=True, right_index=True).merge(\n",
    "    pd.DataFrame(bi_session.run('''CALL gds.degree.stream({\n",
    "  nodeProjection: ['Hero', 'Comic'],\n",
    "  relationshipProjection: {\n",
    "  APPEARS_IN: {\n",
    "  type: 'APPEARS_IN',\n",
    "  orientation:'REVERSE'\n",
    "  }}\n",
    "})\n",
    "YIELD nodeId, score\n",
    "WITH gds.util.asNode(nodeId).name AS hero, score AS degree\n",
    "RETURN min(degree) as degree_min,\n",
    "max(degree) as degree_max,\n",
    "round(avg(degree)*100)/100 as degree_avg,\n",
    "round(stdev(degree)*100)/100 as degree_stdev''').data(\n",
    "    )).transpose().rename(columns = {0:'gds_function'}), left_index=True, right_index=True).merge(\n",
    "pd.DataFrame(bi_session.run('''MATCH (c1)\n",
    "OPTIONAL MATCH (c1)<-[]-(c2)\n",
    "WITH c1, count(distinct c2) as degree\n",
    "RETURN min(degree) as degree_min,\n",
    "max(degree) as degree_max,\n",
    "round(avg(degree), 2) as degree_avg,\n",
    "round(stDev(degree), 2) as degree_stdev\n",
    "''').data()).transpose().rename(columns={0:'incorrect_pm'}), left_index=True, right_index=True)"
   ]
  },
  {
   "cell_type": "markdown",
   "metadata": {},
   "source": [
    "### Hero to Hero"
   ]
  },
  {
   "cell_type": "code",
   "execution_count": 136,
   "metadata": {},
   "outputs": [
    {
     "data": {
      "text/html": [
       "<div>\n",
       "<style scoped>\n",
       "    .dataframe tbody tr th:only-of-type {\n",
       "        vertical-align: middle;\n",
       "    }\n",
       "\n",
       "    .dataframe tbody tr th {\n",
       "        vertical-align: top;\n",
       "    }\n",
       "\n",
       "    .dataframe thead th {\n",
       "        text-align: right;\n",
       "    }\n",
       "</style>\n",
       "<table border=\"1\" class=\"dataframe\">\n",
       "  <thead>\n",
       "    <tr style=\"text-align: right;\">\n",
       "      <th></th>\n",
       "      <th>pattern_match</th>\n",
       "      <th>size_function</th>\n",
       "    </tr>\n",
       "  </thead>\n",
       "  <tbody>\n",
       "    <tr>\n",
       "      <th>degree_min</th>\n",
       "      <td>0.00</td>\n",
       "      <td>0.00</td>\n",
       "    </tr>\n",
       "    <tr>\n",
       "      <th>degree_max</th>\n",
       "      <td>1919.00</td>\n",
       "      <td>16057.00</td>\n",
       "    </tr>\n",
       "    <tr>\n",
       "      <th>degree_avg</th>\n",
       "      <td>53.31</td>\n",
       "      <td>179.89</td>\n",
       "    </tr>\n",
       "    <tr>\n",
       "      <th>degree_stdev</th>\n",
       "      <td>116.63</td>\n",
       "      <td>727.36</td>\n",
       "    </tr>\n",
       "  </tbody>\n",
       "</table>\n",
       "</div>"
      ],
      "text/plain": [
       "              pattern_match  size_function\n",
       "degree_min             0.00           0.00\n",
       "degree_max          1919.00       16057.00\n",
       "degree_avg            53.31         179.89\n",
       "degree_stdev         116.63         727.36"
      ]
     },
     "execution_count": 136,
     "metadata": {},
     "output_type": "execute_result"
    }
   ],
   "source": [
    "pd.DataFrame(bi_session.run('''MATCH (h1:Hero)\n",
    "OPTIONAL MATCH (h1)-[]->(c)<-[]-(h2)\n",
    "WITH h1, count(distinct h2) as degree\n",
    "RETURN min(degree) as degree_min,\n",
    "max(degree) as degree_max,\n",
    "round(avg(degree),2) as degree_avg,\n",
    "round(stDev(degree),2) as degree_stdev\n",
    "''').data()).transpose().rename(columns = {0:'pattern_match'}).merge(\n",
    "pd.DataFrame(bi_session.run('''MATCH (h:Hero)\n",
    "WITH h.name as hero, size((h)-->(:Comic)<--(:Hero)) as degree\n",
    "RETURN min(degree) as degree_min,\n",
    "max(degree) as degree_max,\n",
    "round(avg(degree)*100)/100 as degree_avg,\n",
    "round(stdev(degree)*100)/100 as degree_stdev\n",
    "''').data()).transpose().rename(columns = {0:'size_function'}), left_index=True, right_index=True)"
   ]
  },
  {
   "cell_type": "markdown",
   "metadata": {},
   "source": [
    "## Mixed Model"
   ]
  },
  {
   "cell_type": "markdown",
   "metadata": {},
   "source": [
    "### All Undirected"
   ]
  },
  {
   "cell_type": "code",
   "execution_count": 4,
   "metadata": {},
   "outputs": [
    {
     "name": "stderr",
     "output_type": "stream",
     "text": [
      "//anaconda3/lib/python3.7/site-packages/ipykernel/ipkernel.py:287: DeprecationWarning: `should_run_async` will not call `transform_cell` automatically in the future. Please pass the result to `transformed_cell` argument and any exception that happen during thetransform in `preprocessing_exc_tuple` in IPython 7.17 and above.\n",
      "  and should_run_async(code)\n"
     ]
    },
    {
     "data": {
      "text/html": [
       "<div>\n",
       "<style scoped>\n",
       "    .dataframe tbody tr th:only-of-type {\n",
       "        vertical-align: middle;\n",
       "    }\n",
       "\n",
       "    .dataframe tbody tr th {\n",
       "        vertical-align: top;\n",
       "    }\n",
       "\n",
       "    .dataframe thead th {\n",
       "        text-align: right;\n",
       "    }\n",
       "</style>\n",
       "<table border=\"1\" class=\"dataframe\">\n",
       "  <thead>\n",
       "    <tr style=\"text-align: right;\">\n",
       "      <th></th>\n",
       "      <th>pattern_match</th>\n",
       "      <th>apoc_function</th>\n",
       "      <th>gds_function</th>\n",
       "      <th>size_function</th>\n",
       "    </tr>\n",
       "  </thead>\n",
       "  <tbody>\n",
       "    <tr>\n",
       "      <th>degree_min</th>\n",
       "      <td>1.00</td>\n",
       "      <td>1.00</td>\n",
       "      <td>0.00</td>\n",
       "      <td>1.00</td>\n",
       "    </tr>\n",
       "    <tr>\n",
       "      <th>degree_max</th>\n",
       "      <td>3331.00</td>\n",
       "      <td>3331.00</td>\n",
       "      <td>3004.00</td>\n",
       "      <td>3331.00</td>\n",
       "    </tr>\n",
       "    <tr>\n",
       "      <th>degree_avg</th>\n",
       "      <td>28.05</td>\n",
       "      <td>28.05</td>\n",
       "      <td>14.03</td>\n",
       "      <td>28.05</td>\n",
       "    </tr>\n",
       "    <tr>\n",
       "      <th>degree_stdev</th>\n",
       "      <td>104.42</td>\n",
       "      <td>104.42</td>\n",
       "      <td>71.98</td>\n",
       "      <td>104.42</td>\n",
       "    </tr>\n",
       "  </tbody>\n",
       "</table>\n",
       "</div>"
      ],
      "text/plain": [
       "              pattern_match  apoc_function  gds_function  size_function\n",
       "degree_min             1.00           1.00          0.00           1.00\n",
       "degree_max          3331.00        3331.00       3004.00        3331.00\n",
       "degree_avg            28.05          28.05         14.03          28.05\n",
       "degree_stdev         104.42         104.42         71.98         104.42"
      ]
     },
     "execution_count": 4,
     "metadata": {},
     "output_type": "execute_result"
    }
   ],
   "source": [
    "pd.DataFrame(mix_session.run('''MATCH (c1)-[]-(c2)\n",
    "WITH c1, count(distinct c2) as degree\n",
    "RETURN min(degree) as degree_min,\n",
    "max(degree) as degree_max,\n",
    "round(avg(degree),2) as degree_avg,\n",
    "round(stDev(degree),2) as degree_stdev\n",
    "''').data()).transpose().rename(columns = {0:'pattern_match'}).merge(\n",
    "pd.DataFrame(mix_session.run('''MATCH (n)\n",
    "RETURN min(apoc.node.degree(n)) as degree_min,\n",
    "max(apoc.node.degree(n)) as degree_max,\n",
    "round(avg(apoc.node.degree(n))*100)/100 as degree_avg,\n",
    "round(stdev(apoc.node.degree(n))*100)/100 as degree_stdev\n",
    "''').data()).transpose().rename(columns = {0:'apoc_function'}), left_index=True, right_index=True).merge(\n",
    "pd.DataFrame(mix_session.run('''CALL gds.degree.stream({\n",
    "  nodeProjection: ['Hero', 'Comic'],\n",
    "  relationshipProjection: ['KNOWS', 'APPEARS_IN']\n",
    "})\n",
    "YIELD nodeId, score\n",
    "WITH gds.util.asNode(nodeId).name AS name, score AS degree\n",
    "RETURN min(degree) as degree_min,\n",
    "max(degree) as degree_max,\n",
    "round(avg(degree)*100)/100 as degree_avg,\n",
    "round(stdev(degree)*100)/100 as degree_stdev\n",
    "''').data()).transpose().rename(columns = {0:'gds_function'}), left_index=True, right_index=True).merge(\n",
    "pd.DataFrame(mix_session.run('''MATCH (n)\n",
    "WITH n.name as name, size((n)--()) as degree\n",
    "RETURN min(degree) as degree_min,\n",
    "max(degree) as degree_max,\n",
    "round(avg(degree)*100)/100 as degree_avg,\n",
    "round(stdev(degree)*100)/100 as degree_stdev\n",
    "''').data()).transpose().rename(columns = {0:'size_function'}), left_index=True, right_index=True)"
   ]
  },
  {
   "cell_type": "markdown",
   "metadata": {},
   "source": [
    "### Hero to Comic and Comic to Hero (`APPEARS_IN` undirected)"
   ]
  },
  {
   "cell_type": "code",
   "execution_count": 5,
   "metadata": {},
   "outputs": [
    {
     "name": "stderr",
     "output_type": "stream",
     "text": [
      "//anaconda3/lib/python3.7/site-packages/ipykernel/ipkernel.py:287: DeprecationWarning: `should_run_async` will not call `transform_cell` automatically in the future. Please pass the result to `transformed_cell` argument and any exception that happen during thetransform in `preprocessing_exc_tuple` in IPython 7.17 and above.\n",
      "  and should_run_async(code)\n"
     ]
    },
    {
     "data": {
      "text/html": [
       "<div>\n",
       "<style scoped>\n",
       "    .dataframe tbody tr th:only-of-type {\n",
       "        vertical-align: middle;\n",
       "    }\n",
       "\n",
       "    .dataframe tbody tr th {\n",
       "        vertical-align: top;\n",
       "    }\n",
       "\n",
       "    .dataframe thead th {\n",
       "        text-align: right;\n",
       "    }\n",
       "</style>\n",
       "<table border=\"1\" class=\"dataframe\">\n",
       "  <thead>\n",
       "    <tr style=\"text-align: right;\">\n",
       "      <th></th>\n",
       "      <th>pattern_match</th>\n",
       "      <th>apoc_function</th>\n",
       "      <th>gds_function</th>\n",
       "      <th>size_function</th>\n",
       "    </tr>\n",
       "  </thead>\n",
       "  <tbody>\n",
       "    <tr>\n",
       "      <th>degree_min</th>\n",
       "      <td>1.00</td>\n",
       "      <td>1.00</td>\n",
       "      <td>1.00</td>\n",
       "      <td>1.00</td>\n",
       "    </tr>\n",
       "    <tr>\n",
       "      <th>degree_max</th>\n",
       "      <td>1577.00</td>\n",
       "      <td>1577.00</td>\n",
       "      <td>1577.00</td>\n",
       "      <td>1577.00</td>\n",
       "    </tr>\n",
       "    <tr>\n",
       "      <th>degree_avg</th>\n",
       "      <td>10.07</td>\n",
       "      <td>10.07</td>\n",
       "      <td>10.07</td>\n",
       "      <td>10.07</td>\n",
       "    </tr>\n",
       "    <tr>\n",
       "      <th>degree_stdev</th>\n",
       "      <td>34.99</td>\n",
       "      <td>34.99</td>\n",
       "      <td>34.99</td>\n",
       "      <td>34.99</td>\n",
       "    </tr>\n",
       "  </tbody>\n",
       "</table>\n",
       "</div>"
      ],
      "text/plain": [
       "              pattern_match  apoc_function  gds_function  size_function\n",
       "degree_min             1.00           1.00          1.00           1.00\n",
       "degree_max          1577.00        1577.00       1577.00        1577.00\n",
       "degree_avg            10.07          10.07         10.07          10.07\n",
       "degree_stdev          34.99          34.99         34.99          34.99"
      ]
     },
     "execution_count": 5,
     "metadata": {},
     "output_type": "execute_result"
    }
   ],
   "source": [
    "pd.DataFrame(mix_session.run('''MATCH (c1)-[:APPEARS_IN]-(c2)\n",
    "WITH c1, count(distinct c2) as degree\n",
    "RETURN min(degree) as degree_min,\n",
    "max(degree) as degree_max,\n",
    "round(avg(degree),2) as degree_avg,\n",
    "round(stDev(degree),2) as degree_stdev\n",
    "''').data()).transpose().rename(columns = {0:'pattern_match'}).merge(\n",
    "pd.DataFrame(mix_session.run('''MATCH (n)\n",
    "RETURN min(apoc.node.degree(n, \"APPEARS_IN\")) as degree_min,\n",
    "max(apoc.node.degree(n, \"APPEARS_IN\")) as degree_max,\n",
    "round(avg(apoc.node.degree(n, \"APPEARS_IN\"))*100)/100 as degree_avg,\n",
    "round(stdev(apoc.node.degree(n, \"APPEARS_IN\"))*100)/100 as degree_stdev\n",
    "''').data()).transpose().rename(columns = {0:'apoc_function'}), left_index=True, right_index=True).merge(\n",
    "pd.DataFrame(mix_session.run('''CALL gds.degree.stream({\n",
    "  nodeProjection: ['Hero', 'Comic'],\n",
    "  relationshipProjection: {\n",
    "  APPEARS_IN: {\n",
    "  type: 'APPEARS_IN',\n",
    "  orientation:'UNDIRECTED'\n",
    "  }}\n",
    "})\n",
    "YIELD nodeId, score\n",
    "WITH gds.util.asNode(nodeId).name AS hero, score AS degree\n",
    "RETURN min(degree) as degree_min,\n",
    "max(degree) as degree_max,\n",
    "round(avg(degree)*100)/100 as degree_avg,\n",
    "round(stdev(degree)*100)/100 as degree_stdev\n",
    "''').data()).transpose().rename(columns = {0:'gds_function'}), left_index=True, right_index=True).merge(\n",
    "pd.DataFrame(mix_session.run('''MATCH (h)\n",
    "WITH h.name as hero, size((h)-[:APPEARS_IN]-()) as degree\n",
    "RETURN min(degree) as degree_min,\n",
    "max(degree) as degree_max,\n",
    "round(avg(degree)*100)/100 as degree_avg,\n",
    "round(stdev(degree)*100)/100 as degree_stdev\n",
    "''').data()).transpose().rename(columns = {0:'size_function'}), left_index=True, right_index=True)"
   ]
  },
  {
   "cell_type": "markdown",
   "metadata": {},
   "source": [
    "### Hero to Hero (`KNOWS` undirected)"
   ]
  },
  {
   "cell_type": "code",
   "execution_count": 6,
   "metadata": {},
   "outputs": [
    {
     "name": "stderr",
     "output_type": "stream",
     "text": [
      "//anaconda3/lib/python3.7/site-packages/ipykernel/ipkernel.py:287: DeprecationWarning: `should_run_async` will not call `transform_cell` automatically in the future. Please pass the result to `transformed_cell` argument and any exception that happen during thetransform in `preprocessing_exc_tuple` in IPython 7.17 and above.\n",
      "  and should_run_async(code)\n"
     ]
    },
    {
     "data": {
      "text/html": [
       "<div>\n",
       "<style scoped>\n",
       "    .dataframe tbody tr th:only-of-type {\n",
       "        vertical-align: middle;\n",
       "    }\n",
       "\n",
       "    .dataframe tbody tr th {\n",
       "        vertical-align: top;\n",
       "    }\n",
       "\n",
       "    .dataframe thead th {\n",
       "        text-align: right;\n",
       "    }\n",
       "</style>\n",
       "<table border=\"1\" class=\"dataframe\">\n",
       "  <thead>\n",
       "    <tr style=\"text-align: right;\">\n",
       "      <th></th>\n",
       "      <th>pattern_match</th>\n",
       "      <th>apoc_function</th>\n",
       "      <th>gds_function</th>\n",
       "      <th>size_function</th>\n",
       "    </tr>\n",
       "  </thead>\n",
       "  <tbody>\n",
       "    <tr>\n",
       "      <th>degree_min</th>\n",
       "      <td>1.00</td>\n",
       "      <td>0.00</td>\n",
       "      <td>0.00</td>\n",
       "      <td>0.00</td>\n",
       "    </tr>\n",
       "    <tr>\n",
       "      <th>degree_max</th>\n",
       "      <td>1919.00</td>\n",
       "      <td>1919.00</td>\n",
       "      <td>1919.00</td>\n",
       "      <td>1919.00</td>\n",
       "    </tr>\n",
       "    <tr>\n",
       "      <th>degree_avg</th>\n",
       "      <td>53.46</td>\n",
       "      <td>53.31</td>\n",
       "      <td>53.31</td>\n",
       "      <td>53.31</td>\n",
       "    </tr>\n",
       "    <tr>\n",
       "      <th>degree_stdev</th>\n",
       "      <td>116.76</td>\n",
       "      <td>116.63</td>\n",
       "      <td>116.63</td>\n",
       "      <td>116.63</td>\n",
       "    </tr>\n",
       "  </tbody>\n",
       "</table>\n",
       "</div>"
      ],
      "text/plain": [
       "              pattern_match  apoc_function  gds_function  size_function\n",
       "degree_min             1.00           0.00          0.00           0.00\n",
       "degree_max          1919.00        1919.00       1919.00        1919.00\n",
       "degree_avg            53.46          53.31         53.31          53.31\n",
       "degree_stdev         116.76         116.63        116.63         116.63"
      ]
     },
     "execution_count": 6,
     "metadata": {},
     "output_type": "execute_result"
    }
   ],
   "source": [
    "pd.DataFrame(mix_session.run('''MATCH (c1)-[:KNOWS]-(c2)\n",
    "WITH c1, count(distinct c2) as degree\n",
    "RETURN min(degree) as degree_min,\n",
    "max(degree) as degree_max,\n",
    "round(avg(degree),2) as degree_avg,\n",
    "round(stDev(degree),2) as degree_stdev\n",
    "''').data()).transpose().rename(columns = {0:'pattern_match'}).merge(\n",
    "pd.DataFrame(mix_session.run('''MATCH (n:Hero)\n",
    "RETURN min(apoc.node.degree(n, \"KNOWS\")) as degree_min,\n",
    "max(apoc.node.degree(n, \"KNOWS\")) as degree_max,\n",
    "round(avg(apoc.node.degree(n, \"KNOWS\"))*100)/100 as degree_avg,\n",
    "round(stdev(apoc.node.degree(n, \"KNOWS\"))*100)/100 as degree_stdev\n",
    "''').data()).transpose().rename(columns = {0:'apoc_function'}), left_index=True, right_index=True).merge(\n",
    "pd.DataFrame(mix_session.run('''CALL gds.degree.stream({\n",
    "  nodeProjection: 'Hero',\n",
    "  relationshipProjection: {\n",
    "  APPEARS_IN: {\n",
    "  type: 'KNOWS',\n",
    "  orientation:'UNDIRECTED'\n",
    "  }}\n",
    "})\n",
    "YIELD nodeId, score\n",
    "WITH gds.util.asNode(nodeId).name AS hero, score AS degree\n",
    "RETURN min(degree) as degree_min,\n",
    "max(degree) as degree_max,\n",
    "round(avg(degree)*100)/100 as degree_avg,\n",
    "round(stdev(degree)*100)/100 as degree_stdev\n",
    "''').data()).transpose().rename(columns = {0:'gds_function'}), left_index=True, right_index=True).merge(\n",
    "pd.DataFrame(mix_session.run('''MATCH (h:Hero)\n",
    "WITH h.name as hero, size((h)--(:Hero)) as degree\n",
    "RETURN min(degree) as degree_min,\n",
    "max(degree) as degree_max,\n",
    "round(avg(degree)*100)/100 as degree_avg,\n",
    "round(stdev(degree)*100)/100 as degree_stdev\n",
    "''').data()).transpose().rename(columns = {0:'size_function'}), left_index=True, right_index=True)"
   ]
  },
  {
   "cell_type": "markdown",
   "metadata": {},
   "source": [
    "### Hero to Comic"
   ]
  },
  {
   "cell_type": "code",
   "execution_count": 7,
   "metadata": {},
   "outputs": [
    {
     "name": "stderr",
     "output_type": "stream",
     "text": [
      "//anaconda3/lib/python3.7/site-packages/ipykernel/ipkernel.py:287: DeprecationWarning: `should_run_async` will not call `transform_cell` automatically in the future. Please pass the result to `transformed_cell` argument and any exception that happen during thetransform in `preprocessing_exc_tuple` in IPython 7.17 and above.\n",
      "  and should_run_async(code)\n"
     ]
    },
    {
     "data": {
      "text/html": [
       "<div>\n",
       "<style scoped>\n",
       "    .dataframe tbody tr th:only-of-type {\n",
       "        vertical-align: middle;\n",
       "    }\n",
       "\n",
       "    .dataframe tbody tr th {\n",
       "        vertical-align: top;\n",
       "    }\n",
       "\n",
       "    .dataframe thead th {\n",
       "        text-align: right;\n",
       "    }\n",
       "</style>\n",
       "<table border=\"1\" class=\"dataframe\">\n",
       "  <thead>\n",
       "    <tr style=\"text-align: right;\">\n",
       "      <th></th>\n",
       "      <th>pattern_match</th>\n",
       "      <th>apoc_function</th>\n",
       "      <th>gds_function</th>\n",
       "      <th>size_function</th>\n",
       "    </tr>\n",
       "  </thead>\n",
       "  <tbody>\n",
       "    <tr>\n",
       "      <th>degree_min</th>\n",
       "      <td>1.00</td>\n",
       "      <td>1.00</td>\n",
       "      <td>0.00</td>\n",
       "      <td>1.00</td>\n",
       "    </tr>\n",
       "    <tr>\n",
       "      <th>degree_max</th>\n",
       "      <td>1577.00</td>\n",
       "      <td>1577.00</td>\n",
       "      <td>1577.00</td>\n",
       "      <td>1577.00</td>\n",
       "    </tr>\n",
       "    <tr>\n",
       "      <th>degree_avg</th>\n",
       "      <td>14.93</td>\n",
       "      <td>14.93</td>\n",
       "      <td>5.03</td>\n",
       "      <td>14.93</td>\n",
       "    </tr>\n",
       "    <tr>\n",
       "      <th>degree_stdev</th>\n",
       "      <td>59.27</td>\n",
       "      <td>59.27</td>\n",
       "      <td>35.14</td>\n",
       "      <td>59.27</td>\n",
       "    </tr>\n",
       "  </tbody>\n",
       "</table>\n",
       "</div>"
      ],
      "text/plain": [
       "              pattern_match  apoc_function  gds_function  size_function\n",
       "degree_min             1.00           1.00          0.00           1.00\n",
       "degree_max          1577.00        1577.00       1577.00        1577.00\n",
       "degree_avg            14.93          14.93          5.03          14.93\n",
       "degree_stdev          59.27          59.27         35.14          59.27"
      ]
     },
     "execution_count": 7,
     "metadata": {},
     "output_type": "execute_result"
    }
   ],
   "source": [
    "pd.DataFrame(mix_session.run('''MATCH (c1:Hero)-[:APPEARS_IN]->(c2:Comic)\n",
    "WITH c1, count(distinct c2) as degree\n",
    "RETURN min(degree) as degree_min,\n",
    "max(degree) as degree_max,\n",
    "round(avg(degree),2) as degree_avg,\n",
    "round(stDev(degree),2) as degree_stdev\n",
    "''').data()).transpose().rename(columns = {0:'pattern_match'}).merge(\n",
    "pd.DataFrame(mix_session.run('''MATCH (n:Hero)\n",
    "RETURN min(apoc.node.degree(n, \"APPEARS_IN>\")) as degree_min,\n",
    "max(apoc.node.degree(n, \"APPEARS_IN>\")) as degree_max,\n",
    "round(avg(apoc.node.degree(n, \"APPEARS_IN>\"))*100)/100 as degree_avg,\n",
    "round(stdev(apoc.node.degree(n, \"APPEARS_IN>\"))*100)/100 as degree_stdev\n",
    "''').data()).transpose().rename(columns = {0:'apoc_function'}), left_index=True, right_index=True).merge(\n",
    "pd.DataFrame(mix_session.run('''CALL gds.degree.stream({\n",
    "  nodeProjection: ['Hero', 'Comic'],\n",
    "  relationshipProjection: {\n",
    "  APPEARS_IN: {\n",
    "  type: 'APPEARS_IN',\n",
    "  orientation:'NATURAL'\n",
    "  }}\n",
    "})\n",
    "YIELD nodeId, score\n",
    "WITH gds.util.asNode(nodeId).name AS hero, score AS degree\n",
    "RETURN min(degree) as degree_min,\n",
    "max(degree) as degree_max,\n",
    "round(avg(degree)*100)/100 as degree_avg,\n",
    "round(stdev(degree)*100)/100 as degree_stdev\n",
    "''').data()).transpose().rename(columns = {0:'gds_function'}), left_index=True, right_index=True).merge(\n",
    "pd.DataFrame(mix_session.run('''MATCH (h:Hero)\n",
    "WITH h.name as hero, size((h)--(:Comic)) as degree\n",
    "RETURN min(degree) as degree_min,\n",
    "max(degree) as degree_max,\n",
    "round(avg(degree)*100)/100 as degree_avg,\n",
    "round(stdev(degree)*100)/100 as degree_stdev\n",
    "''').data()).transpose().rename(columns = {0:'size_function'}), left_index=True, right_index=True)"
   ]
  },
  {
   "cell_type": "markdown",
   "metadata": {},
   "source": [
    "### Comic to Hero"
   ]
  },
  {
   "cell_type": "code",
   "execution_count": 8,
   "metadata": {},
   "outputs": [
    {
     "name": "stderr",
     "output_type": "stream",
     "text": [
      "//anaconda3/lib/python3.7/site-packages/ipykernel/ipkernel.py:287: DeprecationWarning: `should_run_async` will not call `transform_cell` automatically in the future. Please pass the result to `transformed_cell` argument and any exception that happen during thetransform in `preprocessing_exc_tuple` in IPython 7.17 and above.\n",
      "  and should_run_async(code)\n"
     ]
    },
    {
     "data": {
      "text/html": [
       "<div>\n",
       "<style scoped>\n",
       "    .dataframe tbody tr th:only-of-type {\n",
       "        vertical-align: middle;\n",
       "    }\n",
       "\n",
       "    .dataframe tbody tr th {\n",
       "        vertical-align: top;\n",
       "    }\n",
       "\n",
       "    .dataframe thead th {\n",
       "        text-align: right;\n",
       "    }\n",
       "</style>\n",
       "<table border=\"1\" class=\"dataframe\">\n",
       "  <thead>\n",
       "    <tr style=\"text-align: right;\">\n",
       "      <th></th>\n",
       "      <th>comic to hero</th>\n",
       "      <th>comic to any</th>\n",
       "      <th>gds_function</th>\n",
       "      <th>size_function</th>\n",
       "    </tr>\n",
       "  </thead>\n",
       "  <tbody>\n",
       "    <tr>\n",
       "      <th>degree_min</th>\n",
       "      <td>1.00</td>\n",
       "      <td>1.00</td>\n",
       "      <td>0.00</td>\n",
       "      <td>1.00</td>\n",
       "    </tr>\n",
       "    <tr>\n",
       "      <th>degree_max</th>\n",
       "      <td>111.00</td>\n",
       "      <td>111.00</td>\n",
       "      <td>111.00</td>\n",
       "      <td>111.00</td>\n",
       "    </tr>\n",
       "    <tr>\n",
       "      <th>degree_avg</th>\n",
       "      <td>7.60</td>\n",
       "      <td>7.60</td>\n",
       "      <td>5.03</td>\n",
       "      <td>7.60</td>\n",
       "    </tr>\n",
       "    <tr>\n",
       "      <th>degree_stdev</th>\n",
       "      <td>6.44</td>\n",
       "      <td>6.44</td>\n",
       "      <td>6.35</td>\n",
       "      <td>6.44</td>\n",
       "    </tr>\n",
       "  </tbody>\n",
       "</table>\n",
       "</div>"
      ],
      "text/plain": [
       "              comic to hero  comic to any  gds_function  size_function\n",
       "degree_min             1.00          1.00          0.00           1.00\n",
       "degree_max           111.00        111.00        111.00         111.00\n",
       "degree_avg             7.60          7.60          5.03           7.60\n",
       "degree_stdev           6.44          6.44          6.35           6.44"
      ]
     },
     "execution_count": 8,
     "metadata": {},
     "output_type": "execute_result"
    }
   ],
   "source": [
    "pd.DataFrame(mix_session.run('''MATCH (c1:Comic)<-[:APPEARS_IN]-(c2:Hero)\n",
    "WITH c1, count(distinct c2) as degree\n",
    "RETURN min(degree) as degree_min,\n",
    "max(degree) as degree_max,\n",
    "round(avg(degree),2) as degree_avg,\n",
    "round(stDev(degree),2) as degree_stdev\n",
    "''').data()).transpose().rename(columns = {0:'comic to hero'}).merge(\n",
    "pd.DataFrame(mix_session.run('''MATCH (n:Comic)\n",
    "RETURN min(apoc.node.degree(n, \"<APPEARS_IN\")) as degree_min,\n",
    "max(apoc.node.degree(n, \"<APPEARS_IN\")) as degree_max,\n",
    "round(avg(apoc.node.degree(n, \"<APPEARS_IN\"))*100)/100 as degree_avg,\n",
    "round(stdev(apoc.node.degree(n, \"<APPEARS_IN\"))*100)/100 as degree_stdev\n",
    "''').data()).transpose().rename(columns = {0:'comic to any'}), left_index=True, right_index=True).merge(\n",
    "pd.DataFrame(mix_session.run('''CALL gds.degree.stream({\n",
    "  nodeProjection: ['Hero', 'Comic'],\n",
    "  relationshipProjection: {\n",
    "  APPEARS_IN: {\n",
    "  type: 'APPEARS_IN',\n",
    "  orientation:'REVERSE'\n",
    "  }}\n",
    "})\n",
    "YIELD nodeId, score\n",
    "WITH gds.util.asNode(nodeId).name AS hero, score AS degree\n",
    "RETURN min(degree) as degree_min,\n",
    "max(degree) as degree_max,\n",
    "round(avg(degree)*100)/100 as degree_avg,\n",
    "round(stdev(degree)*100)/100 as degree_stdev\n",
    "''').data()).transpose().rename(columns = {0:'gds_function'}), left_index=True, right_index=True).merge(\n",
    "pd.DataFrame(mix_session.run('''MATCH (c:Comic)\n",
    "WITH c.name as comic, size((c)--(:Hero)) as degree\n",
    "RETURN min(degree) as degree_min,\n",
    "max(degree) as degree_max,\n",
    "round(avg(degree)*100)/100 as degree_avg,\n",
    "round(stdev(degree)*100)/100 as degree_stdev\n",
    "''').data()).transpose().rename(columns = {0:'size_function'}), left_index=True, right_index=True)"
   ]
  },
  {
   "cell_type": "markdown",
   "metadata": {},
   "source": [
    "## Degree Distribution"
   ]
  },
  {
   "cell_type": "code",
   "execution_count": 125,
   "metadata": {},
   "outputs": [
    {
     "data": {
      "text/html": [
       "<div>\n",
       "<style scoped>\n",
       "    .dataframe tbody tr th:only-of-type {\n",
       "        vertical-align: middle;\n",
       "    }\n",
       "\n",
       "    .dataframe tbody tr th {\n",
       "        vertical-align: top;\n",
       "    }\n",
       "\n",
       "    .dataframe thead th {\n",
       "        text-align: right;\n",
       "    }\n",
       "</style>\n",
       "<table border=\"1\" class=\"dataframe\">\n",
       "  <thead>\n",
       "    <tr style=\"text-align: right;\">\n",
       "      <th></th>\n",
       "      <th>hero</th>\n",
       "      <th>degree</th>\n",
       "    </tr>\n",
       "  </thead>\n",
       "  <tbody>\n",
       "    <tr>\n",
       "      <th>0</th>\n",
       "      <td>24-HOUR MAN/EMMANUEL</td>\n",
       "      <td>5.0</td>\n",
       "    </tr>\n",
       "    <tr>\n",
       "      <th>1</th>\n",
       "      <td>3-D MAN/CHARLES CHAN</td>\n",
       "      <td>122.0</td>\n",
       "    </tr>\n",
       "    <tr>\n",
       "      <th>2</th>\n",
       "      <td>4-D MAN/MERCURIO</td>\n",
       "      <td>72.0</td>\n",
       "    </tr>\n",
       "    <tr>\n",
       "      <th>3</th>\n",
       "      <td>8-BALL/</td>\n",
       "      <td>14.0</td>\n",
       "    </tr>\n",
       "    <tr>\n",
       "      <th>4</th>\n",
       "      <td>ABBOTT, JACK</td>\n",
       "      <td>8.0</td>\n",
       "    </tr>\n",
       "  </tbody>\n",
       "</table>\n",
       "</div>"
      ],
      "text/plain": [
       "                   hero  degree\n",
       "0  24-HOUR MAN/EMMANUEL     5.0\n",
       "1  3-D MAN/CHARLES CHAN   122.0\n",
       "2      4-D MAN/MERCURIO    72.0\n",
       "3               8-BALL/    14.0\n",
       "4          ABBOTT, JACK     8.0"
      ]
     },
     "execution_count": 125,
     "metadata": {},
     "output_type": "execute_result"
    }
   ],
   "source": [
    "uni_degree_df = pd.DataFrame(uni_session.run('''CALL gds.degree.stream({\n",
    "  nodeProjection: 'Hero',\n",
    "  relationshipProjection: {\n",
    "  KNOWS: {\n",
    "  type: 'KNOWS',\n",
    "  orientation:'UNDIRECTED'\n",
    "  }}\n",
    "})\n",
    "YIELD nodeId, score\n",
    "RETURN gds.util.asNode(nodeId).name AS hero, score AS degree\n",
    "''').values(), columns=['hero', 'degree'])\n",
    "uni_degree_df.head()"
   ]
  },
  {
   "cell_type": "code",
   "execution_count": 143,
   "metadata": {},
   "outputs": [
    {
     "name": "stdout",
     "output_type": "stream",
     "text": [
      "min: 0.0\n",
      "max: 1919.0\n",
      "mean: 53.31386861313869\n",
      "standard deviation: 116.62615859454611\n"
     ]
    }
   ],
   "source": [
    "print('min:', uni_degree_df['degree'].min())\n",
    "print('max:', uni_degree_df['degree'].max())\n",
    "print('mean:', uni_degree_df['degree'].mean())\n",
    "print('standard deviation:', uni_degree_df['degree'].std())"
   ]
  },
  {
   "cell_type": "code",
   "execution_count": 126,
   "metadata": {},
   "outputs": [
    {
     "name": "stderr",
     "output_type": "stream",
     "text": [
      "//anaconda3/lib/python3.7/site-packages/ipykernel/ipkernel.py:287: DeprecationWarning: `should_run_async` will not call `transform_cell` automatically in the future. Please pass the result to `transformed_cell` argument and any exception that happen during thetransform in `preprocessing_exc_tuple` in IPython 7.17 and above.\n",
      "  and should_run_async(code)\n"
     ]
    },
    {
     "data": {
      "text/html": [
       "<div>\n",
       "<style scoped>\n",
       "    .dataframe tbody tr th:only-of-type {\n",
       "        vertical-align: middle;\n",
       "    }\n",
       "\n",
       "    .dataframe tbody tr th {\n",
       "        vertical-align: top;\n",
       "    }\n",
       "\n",
       "    .dataframe thead th {\n",
       "        text-align: right;\n",
       "    }\n",
       "</style>\n",
       "<table border=\"1\" class=\"dataframe\">\n",
       "  <thead>\n",
       "    <tr style=\"text-align: right;\">\n",
       "      <th></th>\n",
       "      <th>hero</th>\n",
       "      <th>degree</th>\n",
       "      <th>type</th>\n",
       "    </tr>\n",
       "  </thead>\n",
       "  <tbody>\n",
       "    <tr>\n",
       "      <th>0</th>\n",
       "      <td>24-HOUR MAN/EMMANUEL</td>\n",
       "      <td>1.0</td>\n",
       "      <td>Hero</td>\n",
       "    </tr>\n",
       "    <tr>\n",
       "      <th>1</th>\n",
       "      <td>AA2 35</td>\n",
       "      <td>6.0</td>\n",
       "      <td>Comic</td>\n",
       "    </tr>\n",
       "    <tr>\n",
       "      <th>2</th>\n",
       "      <td>3-D MAN/CHARLES CHAN</td>\n",
       "      <td>9.0</td>\n",
       "      <td>Hero</td>\n",
       "    </tr>\n",
       "    <tr>\n",
       "      <th>3</th>\n",
       "      <td>AVF 4</td>\n",
       "      <td>11.0</td>\n",
       "      <td>Comic</td>\n",
       "    </tr>\n",
       "    <tr>\n",
       "      <th>4</th>\n",
       "      <td>AVF 5</td>\n",
       "      <td>11.0</td>\n",
       "      <td>Comic</td>\n",
       "    </tr>\n",
       "  </tbody>\n",
       "</table>\n",
       "</div>"
      ],
      "text/plain": [
       "                   hero  degree   type\n",
       "0  24-HOUR MAN/EMMANUEL     1.0   Hero\n",
       "1                AA2 35     6.0  Comic\n",
       "2  3-D MAN/CHARLES CHAN     9.0   Hero\n",
       "3                 AVF 4    11.0  Comic\n",
       "4                 AVF 5    11.0  Comic"
      ]
     },
     "execution_count": 126,
     "metadata": {},
     "output_type": "execute_result"
    }
   ],
   "source": [
    "bi_degree_df = pd.DataFrame(bi_session.run('''CALL gds.degree.stream({\n",
    "  nodeProjection: ['Hero', 'Comic'],\n",
    "  relationshipProjection: {\n",
    "  APPEARS_IN: {\n",
    "  type: 'APPEARS_IN',\n",
    "  orientation:'UNDIRECTED'\n",
    "  }}\n",
    "})\n",
    "YIELD nodeId, score\n",
    "RETURN gds.util.asNode(nodeId).name AS name, score AS degree, labels(gds.util.asNode(nodeId))[0] as type\n",
    "''').values(), columns=['hero', 'degree', 'type'])\n",
    "bi_degree_df.head()"
   ]
  },
  {
   "cell_type": "code",
   "execution_count": 144,
   "metadata": {},
   "outputs": [
    {
     "name": "stdout",
     "output_type": "stream",
     "text": [
      "min: 1.0\n",
      "max: 1577.0\n",
      "mean: 10.068517548454688\n",
      "standard deviation: 34.98865384074356\n"
     ]
    }
   ],
   "source": [
    "#Undirected\n",
    "print('min:', bi_degree_df['degree'].min())\n",
    "print('max:', bi_degree_df['degree'].max())\n",
    "print('mean:', bi_degree_df['degree'].mean())\n",
    "print('standard deviation:', bi_degree_df['degree'].std())"
   ]
  },
  {
   "cell_type": "code",
   "execution_count": 152,
   "metadata": {},
   "outputs": [
    {
     "name": "stdout",
     "output_type": "stream",
     "text": [
      "min: 1.0\n",
      "max: 1577.0\n",
      "mean: 14.925298959465756\n",
      "standard deviation: 59.26872510194186\n"
     ]
    }
   ],
   "source": [
    "#Hero to comic\n",
    "print('min:', bi_degree_df.loc[bi_degree_df['type']=='Hero', 'degree'].min())\n",
    "print('max:', bi_degree_df.loc[bi_degree_df['type']=='Hero', 'degree'].max())\n",
    "print('mean:', bi_degree_df.loc[bi_degree_df['type']=='Hero', 'degree'].mean())\n",
    "print('standard deviation:', bi_degree_df.loc[bi_degree_df['type']=='Hero', 'degree'].std())"
   ]
  },
  {
   "cell_type": "code",
   "execution_count": 153,
   "metadata": {},
   "outputs": [
    {
     "name": "stdout",
     "output_type": "stream",
     "text": [
      "min: 1.0\n",
      "max: 111.0\n",
      "mean: 7.596553632123943\n",
      "standard deviation: 6.4384394651277\n"
     ]
    }
   ],
   "source": [
    "#Comic to hero\n",
    "print('min:', bi_degree_df.loc[bi_degree_df['type']=='Comic', 'degree'].min())\n",
    "print('max:', bi_degree_df.loc[bi_degree_df['type']=='Comic', 'degree'].max())\n",
    "print('mean:', bi_degree_df.loc[bi_degree_df['type']=='Comic', 'degree'].mean())\n",
    "print('standard deviation:', bi_degree_df.loc[bi_degree_df['type']=='Comic', 'degree'].std())"
   ]
  },
  {
   "cell_type": "code",
   "execution_count": 160,
   "metadata": {},
   "outputs": [
    {
     "name": "stderr",
     "output_type": "stream",
     "text": [
      "//anaconda3/lib/python3.7/site-packages/ipykernel/ipkernel.py:287: DeprecationWarning: `should_run_async` will not call `transform_cell` automatically in the future. Please pass the result to `transformed_cell` argument and any exception that happen during thetransform in `preprocessing_exc_tuple` in IPython 7.17 and above.\n",
      "  and should_run_async(code)\n"
     ]
    },
    {
     "data": {
      "text/html": [
       "<div>\n",
       "<style scoped>\n",
       "    .dataframe tbody tr th:only-of-type {\n",
       "        vertical-align: middle;\n",
       "    }\n",
       "\n",
       "    .dataframe tbody tr th {\n",
       "        vertical-align: top;\n",
       "    }\n",
       "\n",
       "    .dataframe thead th {\n",
       "        text-align: right;\n",
       "    }\n",
       "</style>\n",
       "<table border=\"1\" class=\"dataframe\">\n",
       "  <thead>\n",
       "    <tr style=\"text-align: right;\">\n",
       "      <th></th>\n",
       "      <th>hero</th>\n",
       "      <th>degree</th>\n",
       "    </tr>\n",
       "  </thead>\n",
       "  <tbody>\n",
       "    <tr>\n",
       "      <th>0</th>\n",
       "      <td>24-HOUR MAN/EMMANUEL</td>\n",
       "      <td>5</td>\n",
       "    </tr>\n",
       "    <tr>\n",
       "      <th>1</th>\n",
       "      <td>3-D MAN/CHARLES CHAN</td>\n",
       "      <td>122</td>\n",
       "    </tr>\n",
       "    <tr>\n",
       "      <th>2</th>\n",
       "      <td>4-D MAN/MERCURIO</td>\n",
       "      <td>72</td>\n",
       "    </tr>\n",
       "    <tr>\n",
       "      <th>3</th>\n",
       "      <td>8-BALL/</td>\n",
       "      <td>14</td>\n",
       "    </tr>\n",
       "    <tr>\n",
       "      <th>4</th>\n",
       "      <td>ABBOTT, JACK</td>\n",
       "      <td>8</td>\n",
       "    </tr>\n",
       "  </tbody>\n",
       "</table>\n",
       "</div>"
      ],
      "text/plain": [
       "                   hero  degree\n",
       "0  24-HOUR MAN/EMMANUEL       5\n",
       "1  3-D MAN/CHARLES CHAN     122\n",
       "2      4-D MAN/MERCURIO      72\n",
       "3               8-BALL/      14\n",
       "4          ABBOTT, JACK       8"
      ]
     },
     "execution_count": 160,
     "metadata": {},
     "output_type": "execute_result"
    }
   ],
   "source": [
    "bi_degree_h2h = pd.DataFrame(bi_session.run('''MATCH (h1:Hero)\n",
    "OPTIONAL MATCH (h1)-[]->(c)<-[]-(h2)\n",
    "WITH h1, count(distinct h2) as degree\n",
    "RETURN h1.name, degree\n",
    "''').values(), columns=['hero', 'degree'])\n",
    "\n",
    "bi_degree_h2h.head()"
   ]
  },
  {
   "cell_type": "code",
   "execution_count": 162,
   "metadata": {},
   "outputs": [
    {
     "name": "stdout",
     "output_type": "stream",
     "text": [
      "min: 0\n",
      "max: 1919\n",
      "mean: 53.31386861313869\n",
      "standard deviation: 116.62615859454611\n"
     ]
    }
   ],
   "source": [
    "#Hero to Hero\n",
    "print('min:', bi_degree_h2h['degree'].min())\n",
    "print('max:', bi_degree_h2h['degree'].max())\n",
    "print('mean:', bi_degree_h2h['degree'].mean())\n",
    "print('standard deviation:', bi_degree_h2h['degree'].std())"
   ]
  },
  {
   "cell_type": "code",
   "execution_count": 127,
   "metadata": {},
   "outputs": [
    {
     "name": "stderr",
     "output_type": "stream",
     "text": [
      "//anaconda3/lib/python3.7/site-packages/ipykernel/ipkernel.py:287: DeprecationWarning: `should_run_async` will not call `transform_cell` automatically in the future. Please pass the result to `transformed_cell` argument and any exception that happen during thetransform in `preprocessing_exc_tuple` in IPython 7.17 and above.\n",
      "  and should_run_async(code)\n"
     ]
    },
    {
     "data": {
      "text/html": [
       "<div>\n",
       "<style scoped>\n",
       "    .dataframe tbody tr th:only-of-type {\n",
       "        vertical-align: middle;\n",
       "    }\n",
       "\n",
       "    .dataframe tbody tr th {\n",
       "        vertical-align: top;\n",
       "    }\n",
       "\n",
       "    .dataframe thead th {\n",
       "        text-align: right;\n",
       "    }\n",
       "</style>\n",
       "<table border=\"1\" class=\"dataframe\">\n",
       "  <thead>\n",
       "    <tr style=\"text-align: right;\">\n",
       "      <th></th>\n",
       "      <th>name</th>\n",
       "      <th>degree</th>\n",
       "    </tr>\n",
       "  </thead>\n",
       "  <tbody>\n",
       "    <tr>\n",
       "      <th>0</th>\n",
       "      <td>24-HOUR MAN/EMMANUEL</td>\n",
       "      <td>6</td>\n",
       "    </tr>\n",
       "    <tr>\n",
       "      <th>1</th>\n",
       "      <td>AA2 35</td>\n",
       "      <td>6</td>\n",
       "    </tr>\n",
       "    <tr>\n",
       "      <th>2</th>\n",
       "      <td>3-D MAN/CHARLES CHAN</td>\n",
       "      <td>131</td>\n",
       "    </tr>\n",
       "    <tr>\n",
       "      <th>3</th>\n",
       "      <td>AVF 4</td>\n",
       "      <td>11</td>\n",
       "    </tr>\n",
       "    <tr>\n",
       "      <th>4</th>\n",
       "      <td>AVF 5</td>\n",
       "      <td>11</td>\n",
       "    </tr>\n",
       "  </tbody>\n",
       "</table>\n",
       "</div>"
      ],
      "text/plain": [
       "                   name  degree\n",
       "0  24-HOUR MAN/EMMANUEL       6\n",
       "1                AA2 35       6\n",
       "2  3-D MAN/CHARLES CHAN     131\n",
       "3                 AVF 4      11\n",
       "4                 AVF 5      11"
      ]
     },
     "execution_count": 127,
     "metadata": {},
     "output_type": "execute_result"
    }
   ],
   "source": [
    "mixed_all = pd.DataFrame(mix_session.run('''MATCH (n)\n",
    "RETURN n.name as name, size((n)--()) as degree''').data())\n",
    "mixed_all.head()"
   ]
  },
  {
   "cell_type": "code",
   "execution_count": 128,
   "metadata": {},
   "outputs": [
    {
     "name": "stderr",
     "output_type": "stream",
     "text": [
      "//anaconda3/lib/python3.7/site-packages/ipykernel/ipkernel.py:287: DeprecationWarning: `should_run_async` will not call `transform_cell` automatically in the future. Please pass the result to `transformed_cell` argument and any exception that happen during thetransform in `preprocessing_exc_tuple` in IPython 7.17 and above.\n",
      "  and should_run_async(code)\n"
     ]
    },
    {
     "data": {
      "text/html": [
       "<div>\n",
       "<style scoped>\n",
       "    .dataframe tbody tr th:only-of-type {\n",
       "        vertical-align: middle;\n",
       "    }\n",
       "\n",
       "    .dataframe tbody tr th {\n",
       "        vertical-align: top;\n",
       "    }\n",
       "\n",
       "    .dataframe thead th {\n",
       "        text-align: right;\n",
       "    }\n",
       "</style>\n",
       "<table border=\"1\" class=\"dataframe\">\n",
       "  <thead>\n",
       "    <tr style=\"text-align: right;\">\n",
       "      <th></th>\n",
       "      <th>hero</th>\n",
       "      <th>degree</th>\n",
       "    </tr>\n",
       "  </thead>\n",
       "  <tbody>\n",
       "    <tr>\n",
       "      <th>0</th>\n",
       "      <td>24-HOUR MAN/EMMANUEL</td>\n",
       "      <td>5</td>\n",
       "    </tr>\n",
       "    <tr>\n",
       "      <th>1</th>\n",
       "      <td>3-D MAN/CHARLES CHAN</td>\n",
       "      <td>122</td>\n",
       "    </tr>\n",
       "    <tr>\n",
       "      <th>2</th>\n",
       "      <td>4-D MAN/MERCURIO</td>\n",
       "      <td>72</td>\n",
       "    </tr>\n",
       "    <tr>\n",
       "      <th>3</th>\n",
       "      <td>8-BALL/</td>\n",
       "      <td>14</td>\n",
       "    </tr>\n",
       "    <tr>\n",
       "      <th>4</th>\n",
       "      <td>ABBOTT, JACK</td>\n",
       "      <td>8</td>\n",
       "    </tr>\n",
       "  </tbody>\n",
       "</table>\n",
       "</div>"
      ],
      "text/plain": [
       "                   hero  degree\n",
       "0  24-HOUR MAN/EMMANUEL       5\n",
       "1  3-D MAN/CHARLES CHAN     122\n",
       "2      4-D MAN/MERCURIO      72\n",
       "3               8-BALL/      14\n",
       "4          ABBOTT, JACK       8"
      ]
     },
     "execution_count": 128,
     "metadata": {},
     "output_type": "execute_result"
    }
   ],
   "source": [
    "mixed_hero2hero = pd.DataFrame(mix_session.run('''MATCH (h:Hero)\n",
    "RETURN h.name as hero, size((h)--(:Hero)) as degree''').data())\n",
    "mixed_hero2hero.head()"
   ]
  },
  {
   "cell_type": "code",
   "execution_count": 129,
   "metadata": {},
   "outputs": [
    {
     "name": "stderr",
     "output_type": "stream",
     "text": [
      "//anaconda3/lib/python3.7/site-packages/ipykernel/ipkernel.py:287: DeprecationWarning: `should_run_async` will not call `transform_cell` automatically in the future. Please pass the result to `transformed_cell` argument and any exception that happen during thetransform in `preprocessing_exc_tuple` in IPython 7.17 and above.\n",
      "  and should_run_async(code)\n"
     ]
    },
    {
     "data": {
      "text/html": [
       "<div>\n",
       "<style scoped>\n",
       "    .dataframe tbody tr th:only-of-type {\n",
       "        vertical-align: middle;\n",
       "    }\n",
       "\n",
       "    .dataframe tbody tr th {\n",
       "        vertical-align: top;\n",
       "    }\n",
       "\n",
       "    .dataframe thead th {\n",
       "        text-align: right;\n",
       "    }\n",
       "</style>\n",
       "<table border=\"1\" class=\"dataframe\">\n",
       "  <thead>\n",
       "    <tr style=\"text-align: right;\">\n",
       "      <th></th>\n",
       "      <th>hero</th>\n",
       "      <th>degree</th>\n",
       "    </tr>\n",
       "  </thead>\n",
       "  <tbody>\n",
       "    <tr>\n",
       "      <th>0</th>\n",
       "      <td>24-HOUR MAN/EMMANUEL</td>\n",
       "      <td>1</td>\n",
       "    </tr>\n",
       "    <tr>\n",
       "      <th>1</th>\n",
       "      <td>3-D MAN/CHARLES CHAN</td>\n",
       "      <td>9</td>\n",
       "    </tr>\n",
       "    <tr>\n",
       "      <th>2</th>\n",
       "      <td>4-D MAN/MERCURIO</td>\n",
       "      <td>9</td>\n",
       "    </tr>\n",
       "    <tr>\n",
       "      <th>3</th>\n",
       "      <td>8-BALL/</td>\n",
       "      <td>3</td>\n",
       "    </tr>\n",
       "    <tr>\n",
       "      <th>4</th>\n",
       "      <td>ABBOTT, JACK</td>\n",
       "      <td>1</td>\n",
       "    </tr>\n",
       "  </tbody>\n",
       "</table>\n",
       "</div>"
      ],
      "text/plain": [
       "                   hero  degree\n",
       "0  24-HOUR MAN/EMMANUEL       1\n",
       "1  3-D MAN/CHARLES CHAN       9\n",
       "2      4-D MAN/MERCURIO       9\n",
       "3               8-BALL/       3\n",
       "4          ABBOTT, JACK       1"
      ]
     },
     "execution_count": 129,
     "metadata": {},
     "output_type": "execute_result"
    }
   ],
   "source": [
    "mixed_hero2comic= pd.DataFrame(mix_session.run('''MATCH (h:Hero)\n",
    "RETURN h.name as hero, size((h)--(:Comic)) as degree''').data())\n",
    "mixed_hero2comic.head()"
   ]
  },
  {
   "cell_type": "code",
   "execution_count": 130,
   "metadata": {},
   "outputs": [
    {
     "name": "stderr",
     "output_type": "stream",
     "text": [
      "//anaconda3/lib/python3.7/site-packages/ipykernel/ipkernel.py:287: DeprecationWarning: `should_run_async` will not call `transform_cell` automatically in the future. Please pass the result to `transformed_cell` argument and any exception that happen during thetransform in `preprocessing_exc_tuple` in IPython 7.17 and above.\n",
      "  and should_run_async(code)\n"
     ]
    },
    {
     "data": {
      "text/html": [
       "<div>\n",
       "<style scoped>\n",
       "    .dataframe tbody tr th:only-of-type {\n",
       "        vertical-align: middle;\n",
       "    }\n",
       "\n",
       "    .dataframe tbody tr th {\n",
       "        vertical-align: top;\n",
       "    }\n",
       "\n",
       "    .dataframe thead th {\n",
       "        text-align: right;\n",
       "    }\n",
       "</style>\n",
       "<table border=\"1\" class=\"dataframe\">\n",
       "  <thead>\n",
       "    <tr style=\"text-align: right;\">\n",
       "      <th></th>\n",
       "      <th>comic</th>\n",
       "      <th>degree</th>\n",
       "    </tr>\n",
       "  </thead>\n",
       "  <tbody>\n",
       "    <tr>\n",
       "      <th>0</th>\n",
       "      <td>AA2 35</td>\n",
       "      <td>6</td>\n",
       "    </tr>\n",
       "    <tr>\n",
       "      <th>1</th>\n",
       "      <td>AVF 4</td>\n",
       "      <td>11</td>\n",
       "    </tr>\n",
       "    <tr>\n",
       "      <th>2</th>\n",
       "      <td>AVF 5</td>\n",
       "      <td>11</td>\n",
       "    </tr>\n",
       "    <tr>\n",
       "      <th>3</th>\n",
       "      <td>COC 1</td>\n",
       "      <td>111</td>\n",
       "    </tr>\n",
       "    <tr>\n",
       "      <th>4</th>\n",
       "      <td>H2 251</td>\n",
       "      <td>8</td>\n",
       "    </tr>\n",
       "  </tbody>\n",
       "</table>\n",
       "</div>"
      ],
      "text/plain": [
       "    comic  degree\n",
       "0  AA2 35       6\n",
       "1   AVF 4      11\n",
       "2   AVF 5      11\n",
       "3   COC 1     111\n",
       "4  H2 251       8"
      ]
     },
     "execution_count": 130,
     "metadata": {},
     "output_type": "execute_result"
    }
   ],
   "source": [
    "mixed_comic2hero= pd.DataFrame(mix_session.run('''MATCH (c:Comic)\n",
    "RETURN c.name as comic, size((c)--(:Hero)) as degree''').data())\n",
    "mixed_comic2hero.head()"
   ]
  },
  {
   "cell_type": "markdown",
   "metadata": {},
   "source": [
    "## Undirected"
   ]
  },
  {
   "cell_type": "code",
   "execution_count": 170,
   "metadata": {},
   "outputs": [
    {
     "data": {
      "image/png": "[encoded data removed]",
      "text/plain": [
       "<Figure size 864x936 with 6 Axes>"
      ]
     },
     "metadata": {
      "needs_background": "light"
     },
     "output_type": "display_data"
    }
   ],
   "source": [
    "ud_fig, ud_axes = plt.subplots(3, 2, figsize=(12,13))\n",
    "ud_fig.suptitle(\"Undirected Distributions\")\n",
    "ud_axes[0,0].hist(uni_degree_df['degree'], bins=50)\n",
    "ud_axes[0,0].set_title('Unimodal, Regular Scale')\n",
    "ud_axes[0,1].hist(uni_degree_df['degree'], bins=50)\n",
    "ud_axes[0,1].set_yscale('log')\n",
    "ud_axes[0,1].set_title('Unimodal, Log Scale')\n",
    "ud_axes[1,0].hist(bi_degree_df['degree'], bins=50)\n",
    "ud_axes[1,0].set_title('Bimodal, Regular Scale')\n",
    "ud_axes[1,1].hist(bi_degree_df['degree'], bins=50)\n",
    "ud_axes[1,1].set_yscale('log')\n",
    "ud_axes[1,1].set_title('Bimodal, Log Scale')\n",
    "ud_axes[2,0].hist(mixed_all['degree'], bins=50)\n",
    "ud_axes[2,0].set_title('Mixmodal, Regular Scale')\n",
    "ud_axes[2,1].hist(mixed_all['degree'], bins=50)\n",
    "ud_axes[2,1].set_yscale('log')\n",
    "ud_axes[2,1].set_title('Mixmodal, Log Scale')\n",
    "plt.show()"
   ]
  },
  {
   "cell_type": "markdown",
   "metadata": {},
   "source": [
    "## Hero to Hero"
   ]
  },
  {
   "cell_type": "code",
   "execution_count": 171,
   "metadata": {},
   "outputs": [
    {
     "data": {
      "image/png": "[encoded data removed]",
      "text/plain": [
       "<Figure size 864x936 with 6 Axes>"
      ]
     },
     "metadata": {
      "needs_background": "light"
     },
     "output_type": "display_data"
    }
   ],
   "source": [
    "h2h_fig, h2h_axes = plt.subplots(3, 2, figsize=(12,13))\n",
    "h2h_fig.suptitle(\"Hero to Hero Distributions\")\n",
    "h2h_axes[0,0].hist(uni_degree_df['degree'], bins=50)\n",
    "h2h_axes[0,0].set_title('Unimodal, Regular Scale')\n",
    "h2h_axes[0,1].hist(uni_degree_df['degree'], bins=50)\n",
    "h2h_axes[0,1].set_yscale('log')\n",
    "h2h_axes[0,1].set_title('Unimodal, Log Scale')\n",
    "h2h_axes[1,0].hist(bi_degree_h2h['degree'], bins=50)\n",
    "h2h_axes[1,0].set_title('Bimodal, Regular Scale')\n",
    "h2h_axes[1,1].hist(bi_degree_h2h['degree'], bins=50)\n",
    "h2h_axes[1,1].set_yscale('log')\n",
    "h2h_axes[1,1].set_title('Bimodal, Log Scale')\n",
    "h2h_axes[2,0].hist(mixed_hero2hero['degree'], bins=50)\n",
    "h2h_axes[2,0].set_title('Mixmodal, Regular Scale')\n",
    "h2h_axes[2,1].hist(mixed_hero2hero['degree'], bins=50)\n",
    "h2h_axes[2,1].set_yscale('log')\n",
    "h2h_axes[2,1].set_title('Mixmodal, Log Scale')\n",
    "plt.show()"
   ]
  },
  {
   "cell_type": "markdown",
   "metadata": {},
   "source": [
    "## Hero to Comic"
   ]
  },
  {
   "cell_type": "code",
   "execution_count": 174,
   "metadata": {},
   "outputs": [
    {
     "data": {
      "image/png": "[encoded data removed]",
      "text/plain": [
       "<Figure size 864x576 with 4 Axes>"
      ]
     },
     "metadata": {
      "needs_background": "light"
     },
     "output_type": "display_data"
    }
   ],
   "source": [
    "h2c_fig, h2c_axes = plt.subplots(2, 2, figsize=(12,8))\n",
    "h2c_fig.suptitle(\"Hero to Comic Distributions\")\n",
    "h2c_axes[0,0].hist(bi_degree_df.loc[bi_degree_df['type']=='Hero', 'degree'], bins=50)\n",
    "h2c_axes[0,0].set_title('Bimodal, Regular Scale')\n",
    "h2c_axes[0,1].hist(bi_degree_df.loc[bi_degree_df['type']=='Hero', 'degree'], bins=50)\n",
    "h2c_axes[0,1].set_yscale('log')\n",
    "h2c_axes[0,1].set_title('Bimodal, Log Scale')\n",
    "h2c_axes[1,0].hist(mixed_hero2comic['degree'], bins=50)\n",
    "h2c_axes[1,0].set_title('Mixmodal, Regular Scale')\n",
    "h2c_axes[1,1].hist(mixed_hero2comic['degree'], bins=50)\n",
    "h2c_axes[1,1].set_yscale('log')\n",
    "h2c_axes[1,1].set_title('Mixmodal, Log Scale')\n",
    "plt.show()"
   ]
  },
  {
   "cell_type": "markdown",
   "metadata": {},
   "source": [
    "## Comic to Hero"
   ]
  },
  {
   "cell_type": "code",
   "execution_count": 175,
   "metadata": {},
   "outputs": [
    {
     "data": {
      "image/png": "[encoded data removed]",
      "text/plain": [
       "<Figure size 864x576 with 4 Axes>"
      ]
     },
     "metadata": {
      "needs_background": "light"
     },
     "output_type": "display_data"
    }
   ],
   "source": [
    "c2h_fig, c2h_axes = plt.subplots(2, 2, figsize=(12,8))\n",
    "c2h_fig.suptitle(\"Hero to Hero Distributions\")\n",
    "c2h_axes[0,0].hist(bi_degree_df.loc[bi_degree_df['type']=='Comic', 'degree'], bins=50)\n",
    "c2h_axes[0,0].set_title('Bimodal, Regular Scale')\n",
    "c2h_axes[0,1].hist(bi_degree_df.loc[bi_degree_df['type']=='Comic', 'degree'], bins=50)\n",
    "c2h_axes[0,1].set_yscale('log')\n",
    "c2h_axes[0,1].set_title('Bimodal, Log Scale')\n",
    "c2h_axes[1,0].hist(mixed_comic2hero['degree'], bins=50)\n",
    "c2h_axes[1,0].set_title('Mixmodal, Regular Scale')\n",
    "c2h_axes[1,1].hist(mixed_comic2hero['degree'], bins=50)\n",
    "c2h_axes[1,1].set_yscale('log')\n",
    "c2h_axes[1,1].set_title('Mixmodal, Log Scale')\n",
    "plt.show()"
   ]
  }
 ],
 "metadata": {
  "kernelspec": {
   "display_name": "Python 3",
   "language": "python",
   "name": "python3"
  },
  "language_info": {
   "codemirror_mode": {
    "name": "ipython",
    "version": 3
   },
   "file_extension": ".py",
   "mimetype": "text/x-python",
   "name": "python",
   "nbconvert_exporter": "python",
   "pygments_lexer": "ipython3",
   "version": "3.8.8"
  }
 },
 "nbformat": 4,
 "nbformat_minor": 4
}
