{
 "cells": [
  {
   "cell_type": "markdown",
   "metadata": {},
   "source": [
    "# Entry G13: Weighted Degree Comparison"
   ]
  },
  {
   "cell_type": "code",
   "execution_count": 2,
   "metadata": {},
   "outputs": [],
   "source": [
    "import numpy as np\n",
    "import pandas as pd\n",
    "import matplotlib.pyplot as plt\n",
    "import seaborn as sns\n",
    "plt.style.use('ggplot')\n",
    "%matplotlib inline\n",
    "\n",
    "import warnings\n",
    "warnings.filterwarnings('once')\n",
    "\n",
    "from neo4j import GraphDatabase"
   ]
  },
  {
   "cell_type": "code",
   "execution_count": 4,
   "metadata": {},
   "outputs": [],
   "source": [
    "uri = \"bolt://localhost:7687\"\n",
    "\n",
    "driver = GraphDatabase.driver(uri, auth=('neo4j', 'password'))\n",
    "\n",
    "uni_session = driver.session(database=\"unimodal\")\n",
    "bi_session = driver.session(database=\"bimodal\")\n",
    "mix_session = driver.session(database=\"mixmodal\")"
   ]
  },
  {
   "cell_type": "markdown",
   "metadata": {},
   "source": [
    "## Weighted Degree Count"
   ]
  },
  {
   "cell_type": "markdown",
   "metadata": {},
   "source": [
    "### Hero to Hero"
   ]
  },
  {
   "cell_type": "code",
   "execution_count": 5,
   "metadata": {},
   "outputs": [
    {
     "data": {
      "text/html": [
       "<div>\n",
       "<style scoped>\n",
       "    .dataframe tbody tr th:only-of-type {\n",
       "        vertical-align: middle;\n",
       "    }\n",
       "\n",
       "    .dataframe tbody tr th {\n",
       "        vertical-align: top;\n",
       "    }\n",
       "\n",
       "    .dataframe thead th {\n",
       "        text-align: right;\n",
       "    }\n",
       "</style>\n",
       "<table border=\"1\" class=\"dataframe\">\n",
       "  <thead>\n",
       "    <tr style=\"text-align: right;\">\n",
       "      <th></th>\n",
       "      <th>unimodal_pm_weight</th>\n",
       "      <th>bimodal_pattern_match</th>\n",
       "      <th>mixmodal_pm_weight</th>\n",
       "      <th>mixmodal_pattern_match</th>\n",
       "    </tr>\n",
       "  </thead>\n",
       "  <tbody>\n",
       "    <tr>\n",
       "      <th>weighted_degree</th>\n",
       "      <td>579171</td>\n",
       "      <td>579171</td>\n",
       "      <td>579171</td>\n",
       "      <td>579171</td>\n",
       "    </tr>\n",
       "  </tbody>\n",
       "</table>\n",
       "</div>"
      ],
      "text/plain": [
       "                 unimodal_pm_weight  bimodal_pattern_match  \\\n",
       "weighted_degree              579171                 579171   \n",
       "\n",
       "                 mixmodal_pm_weight  mixmodal_pattern_match  \n",
       "weighted_degree              579171                  579171  "
      ]
     },
     "execution_count": 5,
     "metadata": {},
     "output_type": "execute_result"
    }
   ],
   "source": [
    "pd.DataFrame(uni_session.run('''MATCH ()-[r]-()\n",
    "With distinct(r)\n",
    "RETURN sum(r.weight) as weighted_degree''').data(\n",
    ")).transpose().rename(columns={0:'unimodal_pm_weight'}).merge(\n",
    "pd.DataFrame(bi_session.run('''MATCH (h1:Hero)-[]-(c:Comic)-[]-(h2:Hero)\n",
    "WHERE id(h1) > id(h2)\n",
    "RETURN count(c) as weighted_degree''').data(\n",
    ")).transpose().rename(columns={0:'bimodal_pattern_match'}), right_index=True, left_index=True).merge(\n",
    "pd.DataFrame(mix_session.run('''MATCH ()-[r]-()\n",
    "With distinct(r)\n",
    "RETURN sum(r.weight) as weighted_degree''').data(\n",
    ")).transpose().rename(columns={0:'mixmodal_pm_weight'}), right_index=True, left_index=True).merge(\n",
    "pd.DataFrame(mix_session.run('''MATCH (h1:Hero)-[]-(c:Comic)-[]-(h2:Hero)\n",
    "WHERE id(h1) > id(h2)\n",
    "RETURN count(c) as weighted_degree''').data(\n",
    ")).transpose().rename(columns={0:'mixmodal_pattern_match'}), right_index=True, left_index=True)"
   ]
  },
  {
   "cell_type": "markdown",
   "metadata": {},
   "source": [
    "### Comic to Comic"
   ]
  },
  {
   "cell_type": "code",
   "execution_count": 4,
   "metadata": {},
   "outputs": [
    {
     "name": "stderr",
     "output_type": "stream",
     "text": [
      "//anaconda3/lib/python3.7/site-packages/ipykernel/ipkernel.py:287: DeprecationWarning: `should_run_async` will not call `transform_cell` automatically in the future. Please pass the result to `transformed_cell` argument and any exception that happen during thetransform in `preprocessing_exc_tuple` in IPython 7.17 and above.\n",
      "  and should_run_async(code)\n"
     ]
    },
    {
     "data": {
      "text/html": [
       "<div>\n",
       "<style scoped>\n",
       "    .dataframe tbody tr th:only-of-type {\n",
       "        vertical-align: middle;\n",
       "    }\n",
       "\n",
       "    .dataframe tbody tr th {\n",
       "        vertical-align: top;\n",
       "    }\n",
       "\n",
       "    .dataframe thead th {\n",
       "        text-align: right;\n",
       "    }\n",
       "</style>\n",
       "<table border=\"1\" class=\"dataframe\">\n",
       "  <thead>\n",
       "    <tr style=\"text-align: right;\">\n",
       "      <th></th>\n",
       "      <th>bimodal_pattern_match</th>\n",
       "      <th>mixmodal_pattern_match</th>\n",
       "    </tr>\n",
       "  </thead>\n",
       "  <tbody>\n",
       "    <tr>\n",
       "      <th>weighted_degree</th>\n",
       "      <td>11976783</td>\n",
       "      <td>11976783</td>\n",
       "    </tr>\n",
       "  </tbody>\n",
       "</table>\n",
       "</div>"
      ],
      "text/plain": [
       "                 bimodal_pattern_match  mixmodal_pattern_match\n",
       "weighted_degree               11976783                11976783"
      ]
     },
     "execution_count": 4,
     "metadata": {},
     "output_type": "execute_result"
    }
   ],
   "source": [
    "pd.DataFrame(bi_session.run('''MATCH (c1:Comic)-[]-(h:Hero)-[]-(c2:Comic)\n",
    "WHERE id(c1) > id(c2)\n",
    "RETURN count(h) as weighted_degree''').data(\n",
    ")).transpose().rename(columns={0:'bimodal_pattern_match'}).merge(\n",
    "pd.DataFrame(mix_session.run('''MATCH (c1:Comic)-[]-(h:Hero)-[]-(c2:Comic)\n",
    "WHERE id(c1) > id(c2)\n",
    "RETURN count(h) as weighted_degree''').data(\n",
    ")).transpose().rename(columns={0:'mixmodal_pattern_match'}), right_index=True, left_index=True)"
   ]
  },
  {
   "cell_type": "markdown",
   "metadata": {},
   "source": [
    "### Bimodal double checks"
   ]
  },
  {
   "cell_type": "markdown",
   "metadata": {},
   "source": [
    "#### Hero to Hero"
   ]
  },
  {
   "cell_type": "code",
   "execution_count": 5,
   "metadata": {},
   "outputs": [
    {
     "name": "stderr",
     "output_type": "stream",
     "text": [
      "//anaconda3/lib/python3.7/site-packages/ipykernel/ipkernel.py:287: DeprecationWarning: `should_run_async` will not call `transform_cell` automatically in the future. Please pass the result to `transformed_cell` argument and any exception that happen during thetransform in `preprocessing_exc_tuple` in IPython 7.17 and above.\n",
      "  and should_run_async(code)\n"
     ]
    },
    {
     "data": {
      "text/html": [
       "<div>\n",
       "<style scoped>\n",
       "    .dataframe tbody tr th:only-of-type {\n",
       "        vertical-align: middle;\n",
       "    }\n",
       "\n",
       "    .dataframe tbody tr th {\n",
       "        vertical-align: top;\n",
       "    }\n",
       "\n",
       "    .dataframe thead th {\n",
       "        text-align: right;\n",
       "    }\n",
       "</style>\n",
       "<table border=\"1\" class=\"dataframe\">\n",
       "  <thead>\n",
       "    <tr style=\"text-align: right;\">\n",
       "      <th></th>\n",
       "      <th>h1.name</th>\n",
       "      <th>node_degree</th>\n",
       "    </tr>\n",
       "  </thead>\n",
       "  <tbody>\n",
       "    <tr>\n",
       "      <th>0</th>\n",
       "      <td>FROST, CARMILLA</td>\n",
       "      <td>138</td>\n",
       "    </tr>\n",
       "    <tr>\n",
       "      <th>1</th>\n",
       "      <td>G'RATH</td>\n",
       "      <td>5</td>\n",
       "    </tr>\n",
       "    <tr>\n",
       "      <th>2</th>\n",
       "      <td>KILLRAVEN/JONATHAN R</td>\n",
       "      <td>152</td>\n",
       "    </tr>\n",
       "  </tbody>\n",
       "</table>\n",
       "</div>"
      ],
      "text/plain": [
       "                h1.name  node_degree\n",
       "0       FROST, CARMILLA          138\n",
       "1                G'RATH            5\n",
       "2  KILLRAVEN/JONATHAN R          152"
      ]
     },
     "execution_count": 5,
     "metadata": {},
     "output_type": "execute_result"
    }
   ],
   "source": [
    "double_check = pd.DataFrame(bi_session.run('''MATCH (h1:Hero)-[]-(c:Comic)-[]-(h2:Hero)\n",
    "RETURN h1.name, count(c) as node_degree\n",
    "''').data())\n",
    "double_check.head(3)"
   ]
  },
  {
   "cell_type": "code",
   "execution_count": 6,
   "metadata": {},
   "outputs": [
    {
     "name": "stderr",
     "output_type": "stream",
     "text": [
      "//anaconda3/lib/python3.7/site-packages/ipykernel/ipkernel.py:287: DeprecationWarning: `should_run_async` will not call `transform_cell` automatically in the future. Please pass the result to `transformed_cell` argument and any exception that happen during thetransform in `preprocessing_exc_tuple` in IPython 7.17 and above.\n",
      "  and should_run_async(code)\n"
     ]
    },
    {
     "data": {
      "text/plain": [
       "579171.0"
      ]
     },
     "execution_count": 6,
     "metadata": {},
     "output_type": "execute_result"
    }
   ],
   "source": [
    "sum(double_check['node_degree'])/2"
   ]
  },
  {
   "cell_type": "markdown",
   "metadata": {},
   "source": [
    "#### Comic to Comic"
   ]
  },
  {
   "cell_type": "code",
   "execution_count": 8,
   "metadata": {},
   "outputs": [
    {
     "data": {
      "text/html": [
       "<div>\n",
       "<style scoped>\n",
       "    .dataframe tbody tr th:only-of-type {\n",
       "        vertical-align: middle;\n",
       "    }\n",
       "\n",
       "    .dataframe tbody tr th {\n",
       "        vertical-align: top;\n",
       "    }\n",
       "\n",
       "    .dataframe thead th {\n",
       "        text-align: right;\n",
       "    }\n",
       "</style>\n",
       "<table border=\"1\" class=\"dataframe\">\n",
       "  <thead>\n",
       "    <tr style=\"text-align: right;\">\n",
       "      <th></th>\n",
       "      <th>c1.name</th>\n",
       "      <th>node_degree</th>\n",
       "    </tr>\n",
       "  </thead>\n",
       "  <tbody>\n",
       "    <tr>\n",
       "      <th>0</th>\n",
       "      <td>M/PRM 37</td>\n",
       "      <td>8</td>\n",
       "    </tr>\n",
       "    <tr>\n",
       "      <th>1</th>\n",
       "      <td>M/PRM 36</td>\n",
       "      <td>8</td>\n",
       "    </tr>\n",
       "    <tr>\n",
       "      <th>2</th>\n",
       "      <td>M/PRM 35</td>\n",
       "      <td>8</td>\n",
       "    </tr>\n",
       "  </tbody>\n",
       "</table>\n",
       "</div>"
      ],
      "text/plain": [
       "    c1.name  node_degree\n",
       "0  M/PRM 37            8\n",
       "1  M/PRM 36            8\n",
       "2  M/PRM 35            8"
      ]
     },
     "execution_count": 8,
     "metadata": {},
     "output_type": "execute_result"
    }
   ],
   "source": [
    "double_check2 = pd.DataFrame(bi_session.run('''MATCH (c1:Comic)-[]-(h:Hero)-[]-(c2:Comic)\n",
    "RETURN c1.name, count(h) as node_degree\n",
    "''').data())\n",
    "double_check2.head(3)"
   ]
  },
  {
   "cell_type": "code",
   "execution_count": 9,
   "metadata": {},
   "outputs": [
    {
     "name": "stderr",
     "output_type": "stream",
     "text": [
      "//anaconda3/lib/python3.7/site-packages/ipykernel/ipkernel.py:287: DeprecationWarning: `should_run_async` will not call `transform_cell` automatically in the future. Please pass the result to `transformed_cell` argument and any exception that happen during thetransform in `preprocessing_exc_tuple` in IPython 7.17 and above.\n",
      "  and should_run_async(code)\n"
     ]
    },
    {
     "data": {
      "text/plain": [
       "11976783.0"
      ]
     },
     "execution_count": 9,
     "metadata": {},
     "output_type": "execute_result"
    }
   ],
   "source": [
    "sum(double_check2['node_degree'])/2"
   ]
  },
  {
   "cell_type": "markdown",
   "metadata": {},
   "source": [
    "## Summary Statistics"
   ]
  },
  {
   "cell_type": "markdown",
   "metadata": {},
   "source": [
    "### Hero to Hero"
   ]
  },
  {
   "cell_type": "code",
   "execution_count": 10,
   "metadata": {},
   "outputs": [
    {
     "data": {
      "text/html": [
       "<div>\n",
       "<style scoped>\n",
       "    .dataframe tbody tr th:only-of-type {\n",
       "        vertical-align: middle;\n",
       "    }\n",
       "\n",
       "    .dataframe tbody tr th {\n",
       "        vertical-align: top;\n",
       "    }\n",
       "\n",
       "    .dataframe thead th {\n",
       "        text-align: right;\n",
       "    }\n",
       "</style>\n",
       "<table border=\"1\" class=\"dataframe\">\n",
       "  <thead>\n",
       "    <tr style=\"text-align: right;\">\n",
       "      <th></th>\n",
       "      <th>unimodal_pattern_match</th>\n",
       "      <th>unimodal_gds_function</th>\n",
       "      <th>bimodal_pattern_match</th>\n",
       "      <th>mixmodal_KNOWS_match</th>\n",
       "      <th>mixmodal_pattern_match</th>\n",
       "      <th>mixmodal_gds_function</th>\n",
       "    </tr>\n",
       "  </thead>\n",
       "  <tbody>\n",
       "    <tr>\n",
       "      <th>weighted_degree_min</th>\n",
       "      <td>0.00</td>\n",
       "      <td>0.00</td>\n",
       "      <td>0.00</td>\n",
       "      <td>0.00</td>\n",
       "      <td>0.00</td>\n",
       "      <td>0.00</td>\n",
       "    </tr>\n",
       "    <tr>\n",
       "      <th>weighted_degree_max</th>\n",
       "      <td>16057.00</td>\n",
       "      <td>16057.00</td>\n",
       "      <td>16057.00</td>\n",
       "      <td>16057.00</td>\n",
       "      <td>16057.00</td>\n",
       "      <td>16057.00</td>\n",
       "    </tr>\n",
       "    <tr>\n",
       "      <th>weighted_degree_avg</th>\n",
       "      <td>179.89</td>\n",
       "      <td>179.89</td>\n",
       "      <td>179.89</td>\n",
       "      <td>179.89</td>\n",
       "      <td>179.89</td>\n",
       "      <td>179.89</td>\n",
       "    </tr>\n",
       "    <tr>\n",
       "      <th>weighted_degree_stdev</th>\n",
       "      <td>727.36</td>\n",
       "      <td>727.36</td>\n",
       "      <td>727.36</td>\n",
       "      <td>727.36</td>\n",
       "      <td>727.36</td>\n",
       "      <td>727.36</td>\n",
       "    </tr>\n",
       "  </tbody>\n",
       "</table>\n",
       "</div>"
      ],
      "text/plain": [
       "                       unimodal_pattern_match  unimodal_gds_function  \\\n",
       "weighted_degree_min                      0.00                   0.00   \n",
       "weighted_degree_max                  16057.00               16057.00   \n",
       "weighted_degree_avg                    179.89                 179.89   \n",
       "weighted_degree_stdev                  727.36                 727.36   \n",
       "\n",
       "                       bimodal_pattern_match  mixmodal_KNOWS_match  \\\n",
       "weighted_degree_min                     0.00                  0.00   \n",
       "weighted_degree_max                 16057.00              16057.00   \n",
       "weighted_degree_avg                   179.89                179.89   \n",
       "weighted_degree_stdev                 727.36                727.36   \n",
       "\n",
       "                       mixmodal_pattern_match  mixmodal_gds_function  \n",
       "weighted_degree_min                      0.00                   0.00  \n",
       "weighted_degree_max                  16057.00               16057.00  \n",
       "weighted_degree_avg                    179.89                 179.89  \n",
       "weighted_degree_stdev                  727.36                 727.36  "
      ]
     },
     "execution_count": 10,
     "metadata": {},
     "output_type": "execute_result"
    }
   ],
   "source": [
    "pd.DataFrame(uni_session.run('''MATCH (n)\n",
    "OPTIONAL MATCH (n)-[r]-(m)\n",
    "with n.name as hero, sum(r.weight) as weighted_degree\n",
    "RETURN min(weighted_degree) as weighted_degree_min,\n",
    "max(weighted_degree) as weighted_degree_max,\n",
    "round(avg(weighted_degree)*100)/100 as weighted_degree_avg,\n",
    "round(stdev(weighted_degree)*100)/100 as weighted_degree_stdev''').data(\n",
    ")).transpose().rename(columns={0:'unimodal_pattern_match'}).merge(\n",
    "pd.DataFrame(uni_session.run('''CALL gds.alpha.degree.stream({\n",
    "  nodeProjection: 'Hero',\n",
    "  relationshipProjection: {\n",
    "    KNOWS: {\n",
    "      type: 'KNOWS',\n",
    "      orientation:'UNDIRECTED',\n",
    "      properties:'weight'\n",
    "  }},\n",
    "  relationshipWeightProperty: 'weight'\n",
    "})\n",
    "YIELD nodeId, score\n",
    "WITH gds.util.asNode(nodeId).name AS hero, score AS weighted_degree\n",
    "RETURN min(weighted_degree) as weighted_degree_min,\n",
    "max(weighted_degree) as weighted_degree_max,\n",
    "round(avg(weighted_degree)*100)/100 as weighted_degree_avg,\n",
    "round(stdev(weighted_degree)*100)/100 as weighted_degree_stdev''').data(\n",
    ")).transpose().rename(columns={0:'unimodal_gds_function'}), left_index=True, right_index=True).merge(\n",
    "pd.DataFrame(bi_session.run('''MATCH (h:Hero)\n",
    "OPTIONAL MATCH (h)-[]-(c:Comic)-[]-(h2:Hero)\n",
    "WITH h.name as hero, count(c) as weighted_degree\n",
    "RETURN min(weighted_degree) as weighted_degree_min,\n",
    "max(weighted_degree) as weighted_degree_max,\n",
    "round(avg(weighted_degree)*100)/100 as weighted_degree_avg,\n",
    "round(stdev(weighted_degree)*100)/100 as weighted_degree_stdev''').data(\n",
    ")).transpose().rename(columns={0:'bimodal_pattern_match'}), left_index=True, right_index=True).merge(\n",
    "pd.DataFrame(mix_session.run('''MATCH (n:Hero)\n",
    "OPTIONAL MATCH (n)-[r:KNOWS]-(m)\n",
    "with n.name as hero, sum(r.weight) as weighted_degree\n",
    "RETURN min(weighted_degree) as weighted_degree_min,\n",
    "max(weighted_degree) as weighted_degree_max,\n",
    "round(avg(weighted_degree)*100)/100 as weighted_degree_avg,\n",
    "round(stdev(weighted_degree)*100)/100 as weighted_degree_stdev''').data(\n",
    ")).transpose().rename(columns={0:'mixmodal_KNOWS_match'}), left_index=True, right_index=True).merge(\n",
    "pd.DataFrame(mix_session.run('''MATCH (n:Hero)\n",
    "OPTIONAL MATCH (n)-[r]-(m)\n",
    "with n.name as hero, sum(r.weight) as weighted_degree\n",
    "RETURN min(weighted_degree) as weighted_degree_min,\n",
    "max(weighted_degree) as weighted_degree_max,\n",
    "round(avg(weighted_degree)*100)/100 as weighted_degree_avg,\n",
    "round(stdev(weighted_degree)*100)/100 as weighted_degree_stdev''').data(\n",
    ")).transpose().rename(columns={0:'mixmodal_pattern_match'}), left_index=True, right_index=True).merge(\n",
    "pd.DataFrame(mix_session.run('''CALL gds.alpha.degree.stream({\n",
    "  nodeProjection: 'Hero',\n",
    "  relationshipProjection: {\n",
    "    KNOWS: {\n",
    "      type: 'KNOWS',\n",
    "      orientation:'UNDIRECTED',\n",
    "      properties:'weight'\n",
    "  }},\n",
    "  relationshipWeightProperty: 'weight'\n",
    "})\n",
    "YIELD nodeId, score\n",
    "WITH gds.util.asNode(nodeId).name AS hero, score AS weighted_degree\n",
    "RETURN min(weighted_degree) as weighted_degree_min,\n",
    "max(weighted_degree) as weighted_degree_max,\n",
    "round(avg(weighted_degree)*100)/100 as weighted_degree_avg,\n",
    "round(stdev(weighted_degree)*100)/100 as weighted_degree_stdev''').data(\n",
    ")).transpose().rename(columns={0:'mixmodal_gds_function'}), left_index=True, right_index=True)"
   ]
  },
  {
   "cell_type": "markdown",
   "metadata": {},
   "source": [
    "### Comic to Comic"
   ]
  },
  {
   "cell_type": "code",
   "execution_count": 11,
   "metadata": {},
   "outputs": [
    {
     "name": "stderr",
     "output_type": "stream",
     "text": [
      "//anaconda3/lib/python3.7/site-packages/ipykernel/ipkernel.py:287: DeprecationWarning: `should_run_async` will not call `transform_cell` automatically in the future. Please pass the result to `transformed_cell` argument and any exception that happen during thetransform in `preprocessing_exc_tuple` in IPython 7.17 and above.\n",
      "  and should_run_async(code)\n"
     ]
    },
    {
     "data": {
      "text/html": [
       "<div>\n",
       "<style scoped>\n",
       "    .dataframe tbody tr th:only-of-type {\n",
       "        vertical-align: middle;\n",
       "    }\n",
       "\n",
       "    .dataframe tbody tr th {\n",
       "        vertical-align: top;\n",
       "    }\n",
       "\n",
       "    .dataframe thead th {\n",
       "        text-align: right;\n",
       "    }\n",
       "</style>\n",
       "<table border=\"1\" class=\"dataframe\">\n",
       "  <thead>\n",
       "    <tr style=\"text-align: right;\">\n",
       "      <th></th>\n",
       "      <th>bimodal_pattern_match</th>\n",
       "      <th>mixmodal_pattern_match</th>\n",
       "    </tr>\n",
       "  </thead>\n",
       "  <tbody>\n",
       "    <tr>\n",
       "      <th>weighted_degree_min</th>\n",
       "      <td>0.00</td>\n",
       "      <td>0.00</td>\n",
       "    </tr>\n",
       "    <tr>\n",
       "      <th>weighted_degree_max</th>\n",
       "      <td>27582.00</td>\n",
       "      <td>27582.00</td>\n",
       "    </tr>\n",
       "    <tr>\n",
       "      <th>weighted_degree_avg</th>\n",
       "      <td>1893.41</td>\n",
       "      <td>1893.41</td>\n",
       "    </tr>\n",
       "    <tr>\n",
       "      <th>weighted_degree_stdev</th>\n",
       "      <td>2119.31</td>\n",
       "      <td>2119.31</td>\n",
       "    </tr>\n",
       "  </tbody>\n",
       "</table>\n",
       "</div>"
      ],
      "text/plain": [
       "                       bimodal_pattern_match  mixmodal_pattern_match\n",
       "weighted_degree_min                     0.00                    0.00\n",
       "weighted_degree_max                 27582.00                27582.00\n",
       "weighted_degree_avg                  1893.41                 1893.41\n",
       "weighted_degree_stdev                2119.31                 2119.31"
      ]
     },
     "execution_count": 11,
     "metadata": {},
     "output_type": "execute_result"
    }
   ],
   "source": [
    "pd.DataFrame(bi_session.run('''MATCH (c:Comic)\n",
    "OPTIONAL MATCH (c)--(h:Hero)--(c2:Comic)\n",
    "WITH c.name as comic, count(h) as weighted_degree\n",
    "RETURN min(weighted_degree) as weighted_degree_min,\n",
    "max(weighted_degree) as weighted_degree_max,\n",
    "round(avg(weighted_degree)*100)/100 as weighted_degree_avg,\n",
    "round(stdev(weighted_degree)*100)/100 as weighted_degree_stdev''').data(\n",
    ")).transpose().rename(columns={0:'bimodal_pattern_match'}).merge(\n",
    "pd.DataFrame(mix_session.run('''MATCH (n:Comic)\n",
    "OPTIONAL MATCH (n)--(h:Hero)--(n2:Comic)\n",
    "with n.name as comic, count(h) as weighted_degree\n",
    "RETURN min(weighted_degree) as weighted_degree_min,\n",
    "max(weighted_degree) as weighted_degree_max,\n",
    "round(avg(weighted_degree)*100)/100 as weighted_degree_avg,\n",
    "round(stdev(weighted_degree)*100)/100 as weighted_degree_stdev''').data(\n",
    ")).transpose().rename(columns={0:'mixmodal_pattern_match'}), left_index=True, right_index=True)"
   ]
  },
  {
   "cell_type": "markdown",
   "metadata": {},
   "source": [
    "## Degree Distribution"
   ]
  },
  {
   "cell_type": "markdown",
   "metadata": {},
   "source": [
    "#### Weighted Degree DataFrames"
   ]
  },
  {
   "cell_type": "code",
   "execution_count": 14,
   "metadata": {},
   "outputs": [],
   "source": [
    "uni_hero2hero = pd.DataFrame(uni_session.run('''MATCH (n)\n",
    "OPTIONAL MATCH (n)-[r]-(m)\n",
    "RETURN n.name as hero, sum(r.weight) as weighted_degree''').data())\n",
    "\n",
    "bi_hero2hero = pd.DataFrame(bi_session.run('''MATCH (h:Hero)\n",
    "OPTIONAL MATCH (h)-[]-(c:Comic)-[]-(h2:Hero)\n",
    "RETURN h.name as hero, count(c) as weighted_degree''').data())\n",
    "\n",
    "mix_hero2hero = pd.DataFrame(mix_session.run('''MATCH (n:Hero)\n",
    "OPTIONAL MATCH (n)-[r]-(m)\n",
    "RETURN n.name as hero, sum(r.weight) as weighted_degree''').data())"
   ]
  },
  {
   "cell_type": "code",
   "execution_count": 15,
   "metadata": {},
   "outputs": [],
   "source": [
    "bi_comic2comic = pd.DataFrame(bi_session.run('''MATCH (c:Comic)\n",
    "OPTIONAL MATCH (c)--(h:Hero)--(c2:Comic)\n",
    "RETURN c.name as comic, count(h) as weighted_degree\n",
    "ORDER BY comic''').data())\n",
    "\n",
    "mix_comic2comic = pd.DataFrame(mix_session.run('''MATCH (c:Comic)\n",
    "OPTIONAL MATCH (c)--(h:Hero)--(c2:Comic)\n",
    "RETURN c.name as comic, count(h) as weighted_degree\n",
    "ORDER BY comic''').data())"
   ]
  },
  {
   "cell_type": "markdown",
   "metadata": {},
   "source": [
    "#### Unweighted Degree DataFrames"
   ]
  },
  {
   "cell_type": "code",
   "execution_count": 22,
   "metadata": {},
   "outputs": [],
   "source": [
    "h2h_degree = pd.DataFrame(uni_session.run('''MATCH (h)\n",
    "RETURN h.name as hero, size((h)--()) as degree''').data())\n",
    "\n",
    "c2c_degree = pd.DataFrame(bi_session.run('''MATCH (c1:Comic)\n",
    "OPTIONAL MATCH (c1)<-[]-(h)-[]->(c2)\n",
    "RETURN c1.name as comic, count(distinct c2) as degree''').data())"
   ]
  },
  {
   "cell_type": "markdown",
   "metadata": {},
   "source": [
    "## Hero to Hero"
   ]
  },
  {
   "cell_type": "code",
   "execution_count": 21,
   "metadata": {},
   "outputs": [
    {
     "data": {
      "image/png": "[encoded data removed]",
      "text/plain": [
       "<Figure size 864x936 with 6 Axes>"
      ]
     },
     "metadata": {
      "needs_background": "light"
     },
     "output_type": "display_data"
    }
   ],
   "source": [
    "h2h_fig, h2h_axes = plt.subplots(3, 2, figsize=(12,13))\n",
    "h2h_fig.suptitle(\"Hero to Hero Weighted Distributions\")\n",
    "h2h_axes[0,0].hist(uni_hero2hero['weighted_degree'], bins=50)\n",
    "h2h_axes[0,0].set_title('Unimodal, Regular Scale')\n",
    "h2h_axes[0,1].hist(uni_hero2hero['weighted_degree'], bins=50)\n",
    "h2h_axes[0,1].set_yscale('log')\n",
    "h2h_axes[0,1].set_title('Unimodal, Log Scale')\n",
    "h2h_axes[1,0].hist(bi_hero2hero['weighted_degree'], bins=50)\n",
    "h2h_axes[1,0].set_title('Bimodal, Regular Scale')\n",
    "h2h_axes[1,1].hist(bi_hero2hero['weighted_degree'], bins=50)\n",
    "h2h_axes[1,1].set_yscale('log')\n",
    "h2h_axes[1,1].set_title('Bimodal, Log Scale')\n",
    "h2h_axes[2,0].hist(mix_hero2hero['weighted_degree'], bins=50)\n",
    "h2h_axes[2,0].set_title('Mixmodal, Regular Scale')\n",
    "h2h_axes[2,1].hist(mix_hero2hero['weighted_degree'], bins=50)\n",
    "h2h_axes[2,1].set_yscale('log')\n",
    "h2h_axes[2,1].set_title('Mixmodal, Log Scale')\n",
    "plt.show()"
   ]
  },
  {
   "cell_type": "markdown",
   "metadata": {},
   "source": [
    "## Comic to Comic"
   ]
  },
  {
   "cell_type": "code",
   "execution_count": 20,
   "metadata": {},
   "outputs": [
    {
     "data": {
      "image/png": "[encoded data removed]",
      "text/plain": [
       "<Figure size 864x504 with 4 Axes>"
      ]
     },
     "metadata": {
      "needs_background": "light"
     },
     "output_type": "display_data"
    }
   ],
   "source": [
    "c2c_fig, c2c_axes = plt.subplots(2, 2, figsize=(12,7))\n",
    "c2c_fig.suptitle(\"Hero to Hero Distributions\")\n",
    "c2c_axes[0,0].hist(bi_comic2comic['weighted_degree'], bins=50)\n",
    "c2c_axes[0,0].set_title('Bimodal, Regular Scale')\n",
    "c2c_axes[0,1].hist(bi_comic2comic['weighted_degree'], bins=50)\n",
    "c2c_axes[0,1].set_yscale('log')\n",
    "c2c_axes[0,1].set_title('Bimodal, Log Scale')\n",
    "c2c_axes[1,0].hist(mix_comic2comic['weighted_degree'], bins=50)\n",
    "c2c_axes[1,0].set_title('Mixmodal, Regular Scale')\n",
    "c2c_axes[1,1].hist(mix_comic2comic['weighted_degree'], bins=50)\n",
    "c2c_axes[1,1].set_yscale('log')\n",
    "c2c_axes[1,1].set_title('Mixmodal, Log Scale')\n",
    "plt.show()"
   ]
  },
  {
   "cell_type": "markdown",
   "metadata": {},
   "source": [
    "## Unweighted vs Weighted Distributions - Log Scale"
   ]
  },
  {
   "cell_type": "code",
   "execution_count": 31,
   "metadata": {},
   "outputs": [
    {
     "data": {
      "image/png": "[encoded data removed]",
      "text/plain": [
       "<Figure size 864x576 with 4 Axes>"
      ]
     },
     "metadata": {
      "needs_background": "light"
     },
     "output_type": "display_data"
    }
   ],
   "source": [
    "h2h_fig, h2h_axes = plt.subplots(2, 2, figsize=(12,8))\n",
    "h2h_fig.suptitle(\"Hero Unweighted vs Weighted Distributions\")\n",
    "h2h_axes[0,0].hist(h2h_degree['degree'], bins=50)\n",
    "h2h_axes[0,0].set_title('Hero Unweighted, Regular Scale')\n",
    "h2h_axes[0,1].hist(h2h_degree['degree'], bins=50)\n",
    "h2h_axes[0,1].set_yscale('log')\n",
    "h2h_axes[0,1].set_title('Hero Unweighted, Log Scale')\n",
    "h2h_axes[1,0].hist(uni_hero2hero['weighted_degree'], bins=50)\n",
    "h2h_axes[1,0].set_title('Hero Weighted, Regular Scale')\n",
    "h2h_axes[1,1].hist(uni_hero2hero['weighted_degree'], bins=50)\n",
    "h2h_axes[1,1].set_yscale('log')\n",
    "h2h_axes[1,1].set_title('Hero Weighted, Log Scale')\n",
    "plt.show()"
   ]
  },
  {
   "cell_type": "code",
   "execution_count": 30,
   "metadata": {},
   "outputs": [
    {
     "data": {
      "image/png": "[encoded data removed]",
      "text/plain": [
       "<Figure size 864x576 with 4 Axes>"
      ]
     },
     "metadata": {
      "needs_background": "light"
     },
     "output_type": "display_data"
    }
   ],
   "source": [
    "c2c_fig, c2c_axes = plt.subplots(2, 2, figsize=(12,8))\n",
    "c2c_fig.suptitle(\"Comic Unweighted vs Weighted Distributions\")\n",
    "c2c_axes[0,0].hist(c2c_degree['degree'], bins=50)\n",
    "c2c_axes[0,0].set_title('Comic Unweighted, Regular Scale')\n",
    "c2c_axes[0,1].hist(c2c_degree['degree'], bins=50)\n",
    "c2c_axes[0,1].set_yscale('log')\n",
    "c2c_axes[0,1].set_title('Comic Unweighted, Log Scale')\n",
    "c2c_axes[1,0].hist(bi_comic2comic['weighted_degree'], bins=50)\n",
    "c2c_axes[1,0].set_title('Comic Weighted, Regular Scale')\n",
    "c2c_axes[1,1].hist(bi_comic2comic['weighted_degree'], bins=50)\n",
    "c2c_axes[1,1].set_yscale('log')\n",
    "c2c_axes[1,1].set_title('Comic Weighted, Log Scale')\n",
    "plt.show()"
   ]
  }
 ],
 "metadata": {
  "kernelspec": {
   "display_name": "Python 3",
   "language": "python",
   "name": "python3"
  },
  "language_info": {
   "codemirror_mode": {
    "name": "ipython",
    "version": 3
   },
   "file_extension": ".py",
   "mimetype": "text/x-python",
   "name": "python",
   "nbconvert_exporter": "python",
   "pygments_lexer": "ipython3",
   "version": "3.8.8"
  }
 },
 "nbformat": 4,
 "nbformat_minor": 4
}
