{
 "cells": [
  {
   "cell_type": "markdown",
   "metadata": {},
   "source": [
    "# Entry G9: Global Measures Metrics"
   ]
  },
  {
   "cell_type": "code",
   "execution_count": 1,
   "metadata": {},
   "outputs": [],
   "source": [
    "import numpy as np\n",
    "import pandas as pd\n",
    "import matplotlib.pyplot as plt\n",
    "import seaborn as sns\n",
    "plt.style.use('ggplot')\n",
    "%matplotlib inline\n",
    "\n",
    "import warnings\n",
    "warnings.filterwarnings('once')\n",
    "\n",
    "from neo4j import GraphDatabase"
   ]
  },
  {
   "cell_type": "code",
   "execution_count": 2,
   "metadata": {},
   "outputs": [
    {
     "name": "stderr",
     "output_type": "stream",
     "text": [
      "//anaconda3/lib/python3.7/site-packages/ipykernel/ipkernel.py:287: DeprecationWarning: `should_run_async` will not call `transform_cell` automatically in the future. Please pass the result to `transformed_cell` argument and any exception that happen during thetransform in `preprocessing_exc_tuple` in IPython 7.17 and above.\n",
      "  and should_run_async(code)\n"
     ]
    }
   ],
   "source": [
    "uri = \"bolt://localhost:7687\"\n",
    "\n",
    "driver = GraphDatabase.driver(uri, auth=('neo4j', 'password'))\n",
    "session = driver.session()"
   ]
  },
  {
   "cell_type": "code",
   "execution_count": 3,
   "metadata": {},
   "outputs": [
    {
     "data": {
      "text/plain": [
       "[{'label': 'Hero'}, {'label': 'Comic'}]"
      ]
     },
     "execution_count": 3,
     "metadata": {},
     "output_type": "execute_result"
    }
   ],
   "source": [
    "session.run(\"CALL db.labels\").data()"
   ]
  },
  {
   "cell_type": "code",
   "execution_count": 8,
   "metadata": {},
   "outputs": [
    {
     "name": "stderr",
     "output_type": "stream",
     "text": [
      "//anaconda3/lib/python3.7/site-packages/ipykernel/ipkernel.py:287: DeprecationWarning: `should_run_async` will not call `transform_cell` automatically in the future. Please pass the result to `transformed_cell` argument and any exception that happen during thetransform in `preprocessing_exc_tuple` in IPython 7.17 and above.\n",
      "  and should_run_async(code)\n"
     ]
    },
    {
     "data": {
      "text/plain": [
       "<neo4j.work.summary.ResultSummary at 0x1a1d369cd0>"
      ]
     },
     "execution_count": 8,
     "metadata": {},
     "output_type": "execute_result"
    }
   ],
   "source": [
    "session.run(\"PROFILE CALL db.labels\").consume()"
   ]
  },
  {
   "cell_type": "code",
   "execution_count": 11,
   "metadata": {},
   "outputs": [
    {
     "name": "stderr",
     "output_type": "stream",
     "text": [
      "//anaconda3/lib/python3.7/site-packages/ipykernel/ipkernel.py:287: DeprecationWarning: `should_run_async` will not call `transform_cell` automatically in the future. Please pass the result to `transformed_cell` argument and any exception that happen during thetransform in `preprocessing_exc_tuple` in IPython 7.17 and above.\n",
      "  and should_run_async(code)\n"
     ]
    },
    {
     "data": {
      "text/plain": [
       "<neo4j.graph.Graph at 0x1a1f5078d0>"
      ]
     },
     "execution_count": 11,
     "metadata": {},
     "output_type": "execute_result"
    }
   ],
   "source": [
    "session.run(\"PROFILE CALL db.labels\").graph()"
   ]
  },
  {
   "cell_type": "code",
   "execution_count": 14,
   "metadata": {},
   "outputs": [
    {
     "name": "stderr",
     "output_type": "stream",
     "text": [
      "//anaconda3/lib/python3.7/site-packages/ipykernel/ipkernel.py:287: DeprecationWarning: `should_run_async` will not call `transform_cell` automatically in the future. Please pass the result to `transformed_cell` argument and any exception that happen during thetransform in `preprocessing_exc_tuple` in IPython 7.17 and above.\n",
      "  and should_run_async(code)\n",
      "//anaconda3/lib/python3.7/site-packages/neo4j/work/result.py:289: UserWarning: Expected a result with a single record, but this result contains 2\n",
      "  warn(\"Expected a result with a single record, but this result contains %d\" % size)\n"
     ]
    },
    {
     "data": {
      "text/plain": [
       "<Record label='Hero'>"
      ]
     },
     "execution_count": 14,
     "metadata": {},
     "output_type": "execute_result"
    }
   ],
   "source": [
    "session.run(\"PROFILE CALL db.labels\").single()"
   ]
  },
  {
   "cell_type": "code",
   "execution_count": 26,
   "metadata": {},
   "outputs": [
    {
     "ename": "AttributeError",
     "evalue": "'Result' object has no attribute 'list'",
     "output_type": "error",
     "traceback": [
      "\u001b[0;31m---------------------------------------------------------------------------\u001b[0m",
      "\u001b[0;31mAttributeError\u001b[0m                            Traceback (most recent call last)",
      "\u001b[0;32m<ipython-input-26-9ca422a15e3a>\u001b[0m in \u001b[0;36m<module>\u001b[0;34m\u001b[0m\n\u001b[0;32m----> 1\u001b[0;31m \u001b[0msession\u001b[0m\u001b[0;34m.\u001b[0m\u001b[0mrun\u001b[0m\u001b[0;34m(\u001b[0m\u001b[0;34m\"PROFILE CALL db.labels\"\u001b[0m\u001b[0;34m)\u001b[0m\u001b[0;34m.\u001b[0m\u001b[0mlist\u001b[0m\u001b[0;34m(\u001b[0m\u001b[0;34m)\u001b[0m\u001b[0;34m\u001b[0m\u001b[0;34m\u001b[0m\u001b[0m\n\u001b[0m",
      "\u001b[0;31mAttributeError\u001b[0m: 'Result' object has no attribute 'list'"
     ]
    }
   ],
   "source": [
    "session.run(\"PROFILE CALL db.labels\").list()"
   ]
  },
  {
   "cell_type": "code",
   "execution_count": 39,
   "metadata": {},
   "outputs": [
    {
     "data": {
      "text/plain": [
       "[]"
      ]
     },
     "execution_count": 39,
     "metadata": {},
     "output_type": "execute_result"
    }
   ],
   "source": [
    "session.run(\"Explain MATCH (h:Hero) RETURN h LIMIT 5\").data()"
   ]
  },
  {
   "cell_type": "code",
   "execution_count": 78,
   "metadata": {},
   "outputs": [],
   "source": [
    "result = session.run(\"MATCH (h:Hero) RETURN h.name LIMIT 5\")"
   ]
  },
  {
   "cell_type": "code",
   "execution_count": 79,
   "metadata": {},
   "outputs": [
    {
     "data": {
      "text/plain": [
       "['24-HOUR MAN/EMMANUEL',\n",
       " '3-D MAN/CHARLES CHAN',\n",
       " '4-D MAN/MERCURIO',\n",
       " '8-BALL/',\n",
       " 'ABBOTT, JACK']"
      ]
     },
     "execution_count": 79,
     "metadata": {},
     "output_type": "execute_result"
    }
   ],
   "source": [
    "[record[\"h.name\"] for record in result]"
   ]
  },
  {
   "cell_type": "code",
   "execution_count": 71,
   "metadata": {},
   "outputs": [],
   "source": [
    "def record_list(tx):\n",
    "    result = tx.run(\"MATCH (h:Hero) RETURN h.name LIMIT 5\")\n",
    "    return [record[\"h.name\"] for record in result]\n",
    "\n",
    "people = session.read_transaction(record_list)"
   ]
  },
  {
   "cell_type": "code",
   "execution_count": 72,
   "metadata": {},
   "outputs": [
    {
     "data": {
      "text/plain": [
       "['24-HOUR MAN/EMMANUEL',\n",
       " '3-D MAN/CHARLES CHAN',\n",
       " '4-D MAN/MERCURIO',\n",
       " '8-BALL/',\n",
       " 'ABBOTT, JACK']"
      ]
     },
     "execution_count": 72,
     "metadata": {},
     "output_type": "execute_result"
    }
   ],
   "source": [
    "people"
   ]
  },
  {
   "cell_type": "code",
   "execution_count": 69,
   "metadata": {},
   "outputs": [],
   "source": [
    "def record_list(tx):\n",
    "    result = tx.run(\"MATCH (h:Hero) RETURN h.name LIMIT 5\")\n",
    "    return result.data()\n",
    "\n",
    "people = session.read_transaction(record_list)"
   ]
  },
  {
   "cell_type": "code",
   "execution_count": 70,
   "metadata": {},
   "outputs": [
    {
     "data": {
      "text/plain": [
       "[{'h.name': '24-HOUR MAN/EMMANUEL'},\n",
       " {'h.name': '3-D MAN/CHARLES CHAN'},\n",
       " {'h.name': '4-D MAN/MERCURIO'},\n",
       " {'h.name': '8-BALL/'},\n",
       " {'h.name': 'ABBOTT, JACK'}]"
      ]
     },
     "execution_count": 70,
     "metadata": {},
     "output_type": "execute_result"
    }
   ],
   "source": [
    "people"
   ]
  },
  {
   "cell_type": "code",
   "execution_count": 80,
   "metadata": {},
   "outputs": [
    {
     "name": "stderr",
     "output_type": "stream",
     "text": [
      "//anaconda3/lib/python3.7/site-packages/ipykernel/ipkernel.py:287: DeprecationWarning: `should_run_async` will not call `transform_cell` automatically in the future. Please pass the result to `transformed_cell` argument and any exception that happen during thetransform in `preprocessing_exc_tuple` in IPython 7.17 and above.\n",
      "  and should_run_async(code)\n"
     ]
    }
   ],
   "source": [
    "import neo4j"
   ]
  },
  {
   "cell_type": "code",
   "execution_count": 82,
   "metadata": {},
   "outputs": [
    {
     "name": "stderr",
     "output_type": "stream",
     "text": [
      "//anaconda3/lib/python3.7/site-packages/ipykernel/ipkernel.py:287: DeprecationWarning: `should_run_async` will not call `transform_cell` automatically in the future. Please pass the result to `transformed_cell` argument and any exception that happen during thetransform in `preprocessing_exc_tuple` in IPython 7.17 and above.\n",
      "  and should_run_async(code)\n"
     ]
    },
    {
     "data": {
      "text/plain": [
       "\u001b[0;31mInit signature:\u001b[0m \u001b[0mneo4j\u001b[0m\u001b[0;34m.\u001b[0m\u001b[0mResultSummary\u001b[0m\u001b[0;34m(\u001b[0m\u001b[0;34m**\u001b[0m\u001b[0mmetadata\u001b[0m\u001b[0;34m)\u001b[0m\u001b[0;34m\u001b[0m\u001b[0;34m\u001b[0m\u001b[0m\n",
       "\u001b[0;31mDocstring:\u001b[0m     \n",
       "A summary of execution returned with a :class:`.Result` object.\n",
       "    \n",
       "\u001b[0;31mFile:\u001b[0m           //anaconda3/lib/python3.7/site-packages/neo4j/work/summary.py\n",
       "\u001b[0;31mType:\u001b[0m           type\n",
       "\u001b[0;31mSubclasses:\u001b[0m     \n"
      ]
     },
     "metadata": {},
     "output_type": "display_data"
    }
   ],
   "source": [
    "neo4j.ResultSummary?"
   ]
  },
  {
   "cell_type": "code",
   "execution_count": 90,
   "metadata": {},
   "outputs": [
    {
     "data": {
      "text/plain": [
       "<neo4j.work.result.Result at 0x1a1fab3b10>"
      ]
     },
     "execution_count": 90,
     "metadata": {},
     "output_type": "execute_result"
    }
   ],
   "source": [
    "session.run(\"PROFILE MATCH (h:Hero) RETURN h.name LIMIT 5\")"
   ]
  },
  {
   "cell_type": "code",
   "execution_count": 94,
   "metadata": {},
   "outputs": [],
   "source": [
    "result = session.run(\"PROFILE MATCH (h:Hero) RETURN h.name LIMIT 5\")"
   ]
  },
  {
   "cell_type": "code",
   "execution_count": 97,
   "metadata": {},
   "outputs": [
    {
     "ename": "TypeError",
     "evalue": "__init__() takes 1 positional argument but 2 were given",
     "output_type": "error",
     "traceback": [
      "\u001b[0;31m---------------------------------------------------------------------------\u001b[0m",
      "\u001b[0;31mTypeError\u001b[0m                                 Traceback (most recent call last)",
      "\u001b[0;32m<ipython-input-97-8cc160a5d4a1>\u001b[0m in \u001b[0;36m<module>\u001b[0;34m\u001b[0m\n\u001b[0;32m----> 1\u001b[0;31m \u001b[0mneo4j\u001b[0m\u001b[0;34m.\u001b[0m\u001b[0mResultSummary\u001b[0m\u001b[0;34m(\u001b[0m\u001b[0mresult\u001b[0m\u001b[0;34m)\u001b[0m\u001b[0;34m.\u001b[0m\u001b[0mprofile\u001b[0m\u001b[0;34m(\u001b[0m\u001b[0;34m)\u001b[0m\u001b[0;34m\u001b[0m\u001b[0;34m\u001b[0m\u001b[0m\n\u001b[0m",
      "\u001b[0;31mTypeError\u001b[0m: __init__() takes 1 positional argument but 2 were given"
     ]
    }
   ],
   "source": [
    "neo4j.ResultSummary(result).profile()"
   ]
  },
  {
   "cell_type": "code",
   "execution_count": 101,
   "metadata": {},
   "outputs": [
    {
     "name": "stderr",
     "output_type": "stream",
     "text": [
      "//anaconda3/lib/python3.7/site-packages/ipykernel/ipkernel.py:287: DeprecationWarning: `should_run_async` will not call `transform_cell` automatically in the future. Please pass the result to `transformed_cell` argument and any exception that happen during thetransform in `preprocessing_exc_tuple` in IPython 7.17 and above.\n",
      "  and should_run_async(code)\n"
     ]
    },
    {
     "data": {
      "text/plain": [
       "{'query': 'PROFILE MATCH (h:Hero) RETURN h.name LIMIT 5',\n",
       " 'parameters': {},\n",
       " 'server': <neo4j.api.ServerInfo at 0x1a1d994110>,\n",
       " 't_first': 1,\n",
       " 'fields': ['h.name'],\n",
       " 'bookmark': 'FB:kcwQoOcTCwX0QjOl9b/sbMRE8ckAg5A=',\n",
       " 'profile': {'args': {'GlobalMemory': 64,\n",
       "   'planner-impl': 'IDP',\n",
       "   'runtime': 'PIPELINED',\n",
       "   'runtime-impl': 'PIPELINED',\n",
       "   'version': 'CYPHER 4.1',\n",
       "   'DbHits': 0,\n",
       "   'Details': '`h.name`',\n",
       "   'PipelineInfo': 'Fused in Pipeline 0',\n",
       "   'planner-version': '4.1',\n",
       "   'runtime-version': '4.1',\n",
       "   'EstimatedRows': 5.0,\n",
       "   'planner': 'COST',\n",
       "   'Rows': 5},\n",
       "  'children': [{'args': {'Details': 'h.name AS `h.name`',\n",
       "     'EstimatedRows': 5.0,\n",
       "     'PipelineInfo': 'Fused in Pipeline 0',\n",
       "     'DbHits': 10,\n",
       "     'Rows': 5},\n",
       "    'children': [{'args': {'Details': '5',\n",
       "       'EstimatedRows': 5.0,\n",
       "       'PipelineInfo': 'Fused in Pipeline 0',\n",
       "       'DbHits': 0,\n",
       "       'Rows': 5},\n",
       "      'children': [{'args': {'Details': 'h:Hero',\n",
       "         'Memory': 64,\n",
       "         'PipelineInfo': 'Fused in Pipeline 0',\n",
       "         'EstimatedRows': 6439.0,\n",
       "         'DbHits': 7,\n",
       "         'Rows': 6},\n",
       "        'children': [],\n",
       "        'dbHits': 7,\n",
       "        'identifiers': ['h'],\n",
       "        'operatorType': 'NodeByLabelScan@neo4j',\n",
       "        'rows': 6}],\n",
       "      'dbHits': 0,\n",
       "      'identifiers': ['h'],\n",
       "      'operatorType': 'Limit@neo4j',\n",
       "      'rows': 5}],\n",
       "    'dbHits': 10,\n",
       "    'identifiers': ['h', '`h.name`'],\n",
       "    'operatorType': 'Projection@neo4j',\n",
       "    'rows': 5}],\n",
       "  'dbHits': 0,\n",
       "  'identifiers': ['h', '`h.name`'],\n",
       "  'operatorType': 'ProduceResults@neo4j',\n",
       "  'rows': 5},\n",
       " 'type': 'r',\n",
       " 't_last': 0,\n",
       " 'db': 'neo4j'}"
      ]
     },
     "execution_count": 101,
     "metadata": {},
     "output_type": "execute_result"
    }
   ],
   "source": [
    "result.consume().metadata"
   ]
  },
  {
   "cell_type": "code",
   "execution_count": null,
   "metadata": {},
   "outputs": [],
   "source": []
  },
  {
   "cell_type": "code",
   "execution_count": 121,
   "metadata": {},
   "outputs": [],
   "source": [
    "result2 = session.run(\"EXPLAIN MATCH (h:Hero) RETURN h.name LIMIT 5\")"
   ]
  },
  {
   "cell_type": "code",
   "execution_count": 122,
   "metadata": {},
   "outputs": [
    {
     "data": {
      "text/plain": [
       "{'args': {'planner-impl': 'IDP',\n",
       "  'Details': '`h.name`',\n",
       "  'PipelineInfo': 'Fused in Pipeline 0',\n",
       "  'planner-version': '4.1',\n",
       "  'runtime-version': '4.1',\n",
       "  'runtime': 'PIPELINED',\n",
       "  'runtime-impl': 'PIPELINED',\n",
       "  'version': 'CYPHER 4.1',\n",
       "  'EstimatedRows': 5.0,\n",
       "  'planner': 'COST'},\n",
       " 'operatorType': 'ProduceResults@neo4j',\n",
       " 'children': [{'args': {'Details': 'h.name AS `h.name`',\n",
       "    'EstimatedRows': 5.0,\n",
       "    'PipelineInfo': 'Fused in Pipeline 0'},\n",
       "   'operatorType': 'Projection@neo4j',\n",
       "   'children': [{'args': {'Details': '5',\n",
       "      'EstimatedRows': 5.0,\n",
       "      'PipelineInfo': 'Fused in Pipeline 0'},\n",
       "     'operatorType': 'Limit@neo4j',\n",
       "     'children': [{'args': {'Details': 'h:Hero',\n",
       "        'EstimatedRows': 6439.0,\n",
       "        'PipelineInfo': 'Fused in Pipeline 0'},\n",
       "       'operatorType': 'NodeByLabelScan@neo4j',\n",
       "       'children': [],\n",
       "       'identifiers': ['h']}],\n",
       "     'identifiers': ['h']}],\n",
       "   'identifiers': ['h', '`h.name`']}],\n",
       " 'identifiers': ['h', '`h.name`']}"
      ]
     },
     "execution_count": 122,
     "metadata": {},
     "output_type": "execute_result"
    }
   ],
   "source": [
    "result2.consume().plan"
   ]
  },
  {
   "cell_type": "code",
   "execution_count": 123,
   "metadata": {},
   "outputs": [
    {
     "data": {
      "text/plain": [
       "0"
      ]
     },
     "execution_count": 123,
     "metadata": {},
     "output_type": "execute_result"
    }
   ],
   "source": [
    "result2.consume().result_consumed_after"
   ]
  },
  {
   "cell_type": "code",
   "execution_count": 124,
   "metadata": {},
   "outputs": [
    {
     "data": {
      "text/plain": [
       "2"
      ]
     },
     "execution_count": 124,
     "metadata": {},
     "output_type": "execute_result"
    }
   ],
   "source": [
    "result2.consume().result_available_after"
   ]
  },
  {
   "cell_type": "code",
   "execution_count": 119,
   "metadata": {},
   "outputs": [],
   "source": [
    "result3 = session.run(\"MATCH (h:Hero) RETURN h.name LIMIT 5\")"
   ]
  },
  {
   "cell_type": "code",
   "execution_count": 120,
   "metadata": {},
   "outputs": [
    {
     "data": {
      "text/plain": [
       "2"
      ]
     },
     "execution_count": 120,
     "metadata": {},
     "output_type": "execute_result"
    }
   ],
   "source": [
    "result3.consume().result_consumed_after"
   ]
  },
  {
   "cell_type": "code",
   "execution_count": 59,
   "metadata": {},
   "outputs": [
    {
     "ename": "AttributeError",
     "evalue": "'Result' object has no attribute 'type'",
     "output_type": "error",
     "traceback": [
      "\u001b[0;31m---------------------------------------------------------------------------\u001b[0m",
      "\u001b[0;31mAttributeError\u001b[0m                            Traceback (most recent call last)",
      "\u001b[0;32m<ipython-input-59-07d0c056579a>\u001b[0m in \u001b[0;36m<module>\u001b[0;34m\u001b[0m\n\u001b[0;32m----> 1\u001b[0;31m \u001b[0mresult\u001b[0m\u001b[0;34m.\u001b[0m\u001b[0mtype\u001b[0m\u001b[0;34m\u001b[0m\u001b[0;34m\u001b[0m\u001b[0m\n\u001b[0m",
      "\u001b[0;31mAttributeError\u001b[0m: 'Result' object has no attribute 'type'"
     ]
    }
   ],
   "source": [
    "result.type"
   ]
  },
  {
   "cell_type": "code",
   "execution_count": 45,
   "metadata": {},
   "outputs": [
    {
     "ename": "TypeError",
     "evalue": "Unit of work is not callable",
     "output_type": "error",
     "traceback": [
      "\u001b[0;31m---------------------------------------------------------------------------\u001b[0m",
      "\u001b[0;31mTypeError\u001b[0m                                 Traceback (most recent call last)",
      "\u001b[0;32m<ipython-input-45-5e65e2c13267>\u001b[0m in \u001b[0;36m<module>\u001b[0;34m\u001b[0m\n\u001b[0;32m----> 1\u001b[0;31m \u001b[0msession\u001b[0m\u001b[0;34m.\u001b[0m\u001b[0mread_transaction\u001b[0m\u001b[0;34m(\u001b[0m\u001b[0msession\u001b[0m\u001b[0;34m.\u001b[0m\u001b[0mrun\u001b[0m\u001b[0;34m(\u001b[0m\u001b[0;34m\"MATCH (h:Hero) RETURN h LIMIT 5\"\u001b[0m\u001b[0;34m)\u001b[0m\u001b[0;34m.\u001b[0m\u001b[0mdata\u001b[0m\u001b[0;34m(\u001b[0m\u001b[0;34m)\u001b[0m\u001b[0;34m)\u001b[0m\u001b[0;34m\u001b[0m\u001b[0;34m\u001b[0m\u001b[0m\n\u001b[0m",
      "\u001b[0;32m//anaconda3/lib/python3.7/site-packages/neo4j/work/simple.py\u001b[0m in \u001b[0;36mread_transaction\u001b[0;34m(self, transaction_function, *args, **kwargs)\u001b[0m\n\u001b[1;32m    376\u001b[0m         \u001b[0;34m:\u001b[0m\u001b[0;32mreturn\u001b[0m\u001b[0;34m:\u001b[0m \u001b[0ma\u001b[0m \u001b[0mresult\u001b[0m \u001b[0;32mas\u001b[0m \u001b[0mreturned\u001b[0m \u001b[0mby\u001b[0m \u001b[0mthe\u001b[0m \u001b[0mgiven\u001b[0m \u001b[0munit\u001b[0m \u001b[0mof\u001b[0m \u001b[0mwork\u001b[0m\u001b[0;34m\u001b[0m\u001b[0;34m\u001b[0m\u001b[0m\n\u001b[1;32m    377\u001b[0m         \"\"\"\n\u001b[0;32m--> 378\u001b[0;31m         \u001b[0;32mreturn\u001b[0m \u001b[0mself\u001b[0m\u001b[0;34m.\u001b[0m\u001b[0m_run_transaction\u001b[0m\u001b[0;34m(\u001b[0m\u001b[0mREAD_ACCESS\u001b[0m\u001b[0;34m,\u001b[0m \u001b[0mtransaction_function\u001b[0m\u001b[0;34m,\u001b[0m \u001b[0;34m*\u001b[0m\u001b[0margs\u001b[0m\u001b[0;34m,\u001b[0m \u001b[0;34m**\u001b[0m\u001b[0mkwargs\u001b[0m\u001b[0;34m)\u001b[0m\u001b[0;34m\u001b[0m\u001b[0;34m\u001b[0m\u001b[0m\n\u001b[0m\u001b[1;32m    379\u001b[0m \u001b[0;34m\u001b[0m\u001b[0m\n\u001b[1;32m    380\u001b[0m     \u001b[0;32mdef\u001b[0m \u001b[0mwrite_transaction\u001b[0m\u001b[0;34m(\u001b[0m\u001b[0mself\u001b[0m\u001b[0;34m,\u001b[0m \u001b[0mtransaction_function\u001b[0m\u001b[0;34m,\u001b[0m \u001b[0;34m*\u001b[0m\u001b[0margs\u001b[0m\u001b[0;34m,\u001b[0m \u001b[0;34m**\u001b[0m\u001b[0mkwargs\u001b[0m\u001b[0;34m)\u001b[0m\u001b[0;34m:\u001b[0m\u001b[0;34m\u001b[0m\u001b[0;34m\u001b[0m\u001b[0m\n",
      "\u001b[0;32m//anaconda3/lib/python3.7/site-packages/neo4j/work/simple.py\u001b[0m in \u001b[0;36m_run_transaction\u001b[0;34m(self, access_mode, transaction_function, *args, **kwargs)\u001b[0m\n\u001b[1;32m    291\u001b[0m \u001b[0;34m\u001b[0m\u001b[0m\n\u001b[1;32m    292\u001b[0m         \u001b[0;32mif\u001b[0m \u001b[0;32mnot\u001b[0m \u001b[0mcallable\u001b[0m\u001b[0;34m(\u001b[0m\u001b[0mtransaction_function\u001b[0m\u001b[0;34m)\u001b[0m\u001b[0;34m:\u001b[0m\u001b[0;34m\u001b[0m\u001b[0;34m\u001b[0m\u001b[0m\n\u001b[0;32m--> 293\u001b[0;31m             \u001b[0;32mraise\u001b[0m \u001b[0mTypeError\u001b[0m\u001b[0;34m(\u001b[0m\u001b[0;34m\"Unit of work is not callable\"\u001b[0m\u001b[0;34m)\u001b[0m\u001b[0;34m\u001b[0m\u001b[0;34m\u001b[0m\u001b[0m\n\u001b[0m\u001b[1;32m    294\u001b[0m \u001b[0;34m\u001b[0m\u001b[0m\n\u001b[1;32m    295\u001b[0m         \u001b[0mmetadata\u001b[0m \u001b[0;34m=\u001b[0m \u001b[0mgetattr\u001b[0m\u001b[0;34m(\u001b[0m\u001b[0mtransaction_function\u001b[0m\u001b[0;34m,\u001b[0m \u001b[0;34m\"metadata\"\u001b[0m\u001b[0;34m,\u001b[0m \u001b[0;32mNone\u001b[0m\u001b[0;34m)\u001b[0m\u001b[0;34m\u001b[0m\u001b[0;34m\u001b[0m\u001b[0m\n",
      "\u001b[0;31mTypeError\u001b[0m: Unit of work is not callable"
     ]
    }
   ],
   "source": [
    "session.read_transaction(session.run(\"MATCH (h:Hero) RETURN h LIMIT 5\").data())"
   ]
  },
  {
   "cell_type": "code",
   "execution_count": 29,
   "metadata": {},
   "outputs": [
    {
     "data": {
      "text/plain": [
       "[{'queryId': 'query-1529',\n",
       "  'username': 'neo4j',\n",
       "  'metaData': None,\n",
       "  'query': 'CALL dbms.listQueries',\n",
       "  'parameters': {},\n",
       "  'planner': 'idp',\n",
       "  'runtime': 'pipelined',\n",
       "  'indexes': [],\n",
       "  'startTime': '2021-03-03T20:27:17.521Z',\n",
       "  'protocol': 'bolt',\n",
       "  'clientAddress': '127.0.0.1:61864',\n",
       "  'requestUri': '127.0.0.1:7687',\n",
       "  'status': 'running',\n",
       "  'resourceInformation': {},\n",
       "  'activeLockCount': 0,\n",
       "  'elapsedTimeMillis': 1,\n",
       "  'cpuTimeMillis': None,\n",
       "  'waitTimeMillis': 0,\n",
       "  'idleTimeMillis': None,\n",
       "  'allocatedBytes': 64,\n",
       "  'pageHits': 0,\n",
       "  'pageFaults': 0,\n",
       "  'connectionId': 'bolt-749',\n",
       "  'database': 'neo4j'}]"
      ]
     },
     "execution_count": 29,
     "metadata": {},
     "output_type": "execute_result"
    }
   ],
   "source": [
    "session.run(\"CALL dbms.listQueries\").data()"
   ]
  },
  {
   "cell_type": "code",
   "execution_count": 25,
   "metadata": {},
   "outputs": [
    {
     "data": {
      "text/plain": [
       "[{'transactionId': 'neo4j-transaction-110',\n",
       "  'username': 'neo4j',\n",
       "  'metaData': {},\n",
       "  'startTime': '2021-03-03T18:49:25.734Z',\n",
       "  'protocol': 'bolt',\n",
       "  'clientAddress': '127.0.0.1:53980',\n",
       "  'requestUri': '127.0.0.1:7687',\n",
       "  'currentQueryId': 'query-349',\n",
       "  'currentQuery': 'CALL dbms.listTransactions',\n",
       "  'activeLockCount': 0,\n",
       "  'status': 'Running',\n",
       "  'resourceInformation': {},\n",
       "  'elapsedTimeMillis': 10,\n",
       "  'cpuTimeMillis': 0,\n",
       "  'waitTimeMillis': 0,\n",
       "  'idleTimeMillis': 10,\n",
       "  'allocatedBytes': 0,\n",
       "  'allocatedDirectBytes': 0,\n",
       "  'pageHits': 0,\n",
       "  'pageFaults': 0,\n",
       "  'connectionId': 'bolt-5',\n",
       "  'initializationStackTrace': '',\n",
       "  'database': 'neo4j',\n",
       "  'estimatedUsedHeapMemory': 0}]"
      ]
     },
     "execution_count": 25,
     "metadata": {},
     "output_type": "execute_result"
    }
   ],
   "source": [
    "session.run(\"CALL dbms.listTransactions\").data()"
   ]
  },
  {
   "cell_type": "code",
   "execution_count": null,
   "metadata": {},
   "outputs": [],
   "source": []
  },
  {
   "cell_type": "code",
   "execution_count": null,
   "metadata": {},
   "outputs": [],
   "source": []
  }
 ],
 "metadata": {
  "kernelspec": {
   "display_name": "Python 3",
   "language": "python",
   "name": "python3"
  },
  "language_info": {
   "codemirror_mode": {
    "name": "ipython",
    "version": 3
   },
   "file_extension": ".py",
   "mimetype": "text/x-python",
   "name": "python",
   "nbconvert_exporter": "python",
   "pygments_lexer": "ipython3",
   "version": "3.7.6"
  }
 },
 "nbformat": 4,
 "nbformat_minor": 4
}
