{
 "cells": [
  {
   "cell_type": "markdown",
   "id": "c89612ce-115c-4913-bb3a-f0320a224267",
   "metadata": {},
   "source": [
    "# Entry 24: Egonet Density Distributions"
   ]
  },
  {
   "cell_type": "code",
   "execution_count": null,
   "id": "2d489ebc-99a4-400e-a74e-25b52c05084b",
   "metadata": {},
   "outputs": [],
   "source": []
  },
  {
   "cell_type": "markdown",
   "id": "12e125f0-19a6-4b19-b24b-62bd9e11adec",
   "metadata": {},
   "source": [
    "## The Problem\n"
   ]
  },
  {
   "cell_type": "markdown",
   "id": "3f7b781c-4752-427b-90c2-4bb6ba2bb764",
   "metadata": {},
   "source": [
    "## The Options\n"
   ]
  },
  {
   "cell_type": "markdown",
   "id": "104af6ed-f19c-4108-9206-295c7d22f421",
   "metadata": {},
   "source": [
    "## The Proposed Solution\n"
   ]
  },
  {
   "cell_type": "markdown",
   "id": "6470617e-e093-4394-bed5-a73438a531f9",
   "metadata": {},
   "source": [
    "## The Fail\n"
   ]
  },
  {
   "cell_type": "markdown",
   "id": "ef604845-dc51-4e9a-8c9c-21dc0059bfb8",
   "metadata": {},
   "source": [
    "## Up Next\n"
   ]
  },
  {
   "cell_type": "markdown",
   "id": "aa557e0c-0b28-4149-94d2-c0eafb763bf1",
   "metadata": {},
   "source": [
    "## Resources\n"
   ]
  }
 ],
 "metadata": {
  "kernelspec": {
   "display_name": "Python 3",
   "language": "python",
   "name": "python3"
  },
  "language_info": {
   "codemirror_mode": {
    "name": "ipython",
    "version": 3
   },
   "file_extension": ".py",
   "mimetype": "text/x-python",
   "name": "python",
   "nbconvert_exporter": "python",
   "pygments_lexer": "ipython3",
   "version": "3.8.8"
  }
 },
 "nbformat": 4,
 "nbformat_minor": 5
}
