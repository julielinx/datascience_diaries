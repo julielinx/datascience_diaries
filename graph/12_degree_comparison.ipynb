{
 "cells": [
  {
   "cell_type": "markdown",
   "metadata": {},
   "source": [
    "# Entry G12: Degree Comparison"
   ]
  },
  {
   "cell_type": "markdown",
   "metadata": {},
   "source": [
    "This is essentially a redo of the unweighted degree metrics from [Entry G10](https://julielinx.github.io/blog/g10_local_metrics/). I ran the same metrics and queries from that entry, except I used the multigraph as created in [Entry G11](https://julielinx.github.io/blog/g11_create_multigraphdb_desktop/). The switch to the multigraph allowed me to compare metrics across graph models. This will be a crucial aspect once I start comparing runtimes of the different queries.\n",
    "\n",
    "I did still end up creating three notebooks. However, the results of these notebooks were much more enlightening than the previous set of three notebooks.\n",
    "\n",
    "- [G12a notebook](https://github.com/julielinx/datascience_diaries/blob/master/graph/12a_nb_degree_comparison.ipynb) has the results grouped by function and Graph Model, the same way I did in the G10 notebooks\n",
    "  - Example: there is a dataframe from Hero to Comic, Comic to Hero, and Undirected (all) for the size function for just the Bimodal Graph Model\n",
    "  - Purpose: Shows different degree counts within the same Graph Model by function\n",
    "- [G12b notebook](https://github.com/julielinx/datascience_diaries/blob/master/graph/12b_nb_degree_comparison.ipynb) has the results grouped by relationship type and Graph Model\n",
    "  - Example: there is a dataframe for all the functions that pull Hero to Comic information for just the Bimodal Graph Model\n",
    "  - Purpose: Compares different ways to pull the relationship type within the same Graph Model\n",
    "- [G12c notebook](https://github.com/julielinx/datascience_diaries/blob/master/graph/12c_nb_degree_comparison.ipynb) has the results grouped by relationship type\n",
    "  - Example: there is a dataframe for the Hero to Comic relationships in both the Bimodal Graph Model and Mixed Graph Model\n",
    "  - Purpose: Compares the results for a relationship type across Graph Models\n",
    "  - Note: For this notebook, I only included one method of pulling the information; the size function or a straight pattern match\n",
    "  \n",
    "In addition to switching to the multigraph, I made several other changes. These changes allowed me to discover some inconsistencies as well as hone what I was looking at. These changes include:\n",
    "\n",
    "- Using an `OPTIONAL MATCH` instead of a full pattern match\n",
    "- Including the `size` function\n",
    "- Putting most of the results into DataFrames\n",
    "- `gsd` function alterations"
   ]
  },
  {
   "cell_type": "markdown",
   "metadata": {},
   "source": [
    "## Including `OPTIONAL MATCH`\n",
    "\n",
    "As discussed in [Entry 10](https://julielinx.github.io/blog/g10_local_metrics/) one of the first changes I made was to include an `OPTIONAL MATCH` in the pattern match query instead of a simple full `MATCH` pattern (`MATCH (c1) OPTIONAL MATCH (c1)-[]-(c2)` instead of `MATCH (c1)-[]-(c2)`).\n",
    "\n",
    "While running the `OPTIONAL MATCH` queries I decided to double check the bimodal model's pattern match of outgoing and incoming relationships. To do this I played with leaving the label off vs including it.\n",
    "\n",
    "`MATCH (c1)\n",
    "OPTIONAL MATCH (c1)-[]->(c2)`\n",
    "\n",
    "vs\n",
    "\n",
    "`MATCH (c1:Hero)\n",
    "OPTIONAL MATCH (c1)-[]->(c2)`\n",
    "\n",
    "While the minimum and maximum results were the same, the average and standard deviation were quite different. If we think through the cause, it becomes apparent why this is true. In using a directed relationship we can only traverse from `Hero` nodes to `Comic` nodes and not the reverse. This means that all `Comic` nodes return a degree of zero.\n",
    "\n",
    "So, while the pattern I specified would only return results for Hero nodes connecting to Comic nodes (`(c1)-[]->(c2)`) the query still counts the Comic nodes, they just don't have any connections.\n",
    "\n",
    "<img src='images/directed_rel.png'>"
   ]
  },
  {
   "cell_type": "code",
   "execution_count": null,
   "metadata": {},
   "outputs": [],
   "source": [
    "pd.DataFrame(bi_session.run('''MATCH (c1)\n",
    "OPTIONAL MATCH (c1)-[]->(c2)\n",
    "WITH c1, count(distinct c2) as degree\n",
    "RETURN min(degree) as degree_min,\n",
    "max(degree) as degree_max,\n",
    "round(avg(degree), 2) as degree_avg,\n",
    "round(stDev(degree), 2) as degree_stdev\n",
    "''').data()).transpose().rename(columns={0:'incorrect'}).merge(\n",
    "pd.DataFrame(bi_session.run('''MATCH (c1:Hero)\n",
    "OPTIONAL MATCH (c1)-[]->(c2)\n",
    "WITH c1, count(distinct c2) as degree\n",
    "RETURN min(degree) as degree_min,\n",
    "max(degree) as degree_max,\n",
    "round(avg(degree), 2) as degree_avg,\n",
    "round(stDev(degree), 2) as degree_stdev\n",
    "''').data()).transpose().rename(columns={0:'correct'}), left_index=True, right_index=True)"
   ]
  },
  {
   "cell_type": "markdown",
   "metadata": {},
   "source": [
    "<img src='images/pattern_match_discrepancy.png'>"
   ]
  },
  {
   "cell_type": "markdown",
   "metadata": {},
   "source": [
    "## Using the `size` Function\n",
    "\n",
    "The second change I made, including the `size` function as a way to pull the degree, was also discussed in [Entry 10](https://julielinx.github.io/blog/g10_local_metrics/). This function is actually really easy to use. Once I incorporated what I learned from the `OPTIONAL MATCH` (use the appropriate label), it came together flawlessly and without surprises."
   ]
  },
  {
   "cell_type": "markdown",
   "metadata": {},
   "source": [
    "## Put Results in DataFrames\n",
    "\n",
    "Putting the results into DataFrames was really helpful. In the [G12a notebook](https://github.com/julielinx/datascience_diaries/blob/master/graph/12a_nb_degree_comparison.ipynb) it was easy to see how the summary statistics changed based on what type of relationship I was looking at.\n",
    "\n",
    "In the [G12b notebook](https://github.com/julielinx/datascience_diaries/blob/master/graph/12b_nb_degree_comparison.ipynb) I was able to see discrepancies across functions and/or Graph Models. For example, there are a different number of `KNOWS` relationships in the unimodal model and the mixed model, which shouldn't be the case; these models should have the exact same number of `KNOWS` relationships.\n",
    "\n",
    "<img src='images/model_degree_discrepancy.png'>\n",
    "\n",
    "It also forced me to hone exactly what I was looking at. For example, in the [G12a notebook](https://github.com/julielinx/datascience_diaries/blob/master/graph/12a_nb_degree_comparison.ipynb) I could call the results of the `gds` functions things like \"NATURAL\", \"REVERSE\", and \"UNDIRECTED\", but it wasn't clear how that lined up against the other functions. Lining up the results of the `gds` function allowed me to identify a problem with the results in the Bimodal Graph Model."
   ]
  },
  {
   "cell_type": "markdown",
   "metadata": {},
   "source": [
    "## `gds` function\n",
    "\n",
    "The `gds` function is different than the other methods to get the degree. The major difference is that it requires multiple parameters to get the same results as the other methods. These parameters include:\n",
    "\n",
    "- Node projection\n",
    "- Relationship projection\n",
    "  - Relationship type\n",
    "  - Relationship orientation\n",
    "\n",
    "These parameters allow the specification of what nodes and relationships (or projections thereof) to use.\n",
    "\n",
    "- `nodeProjection` accepts node labels and other value clause that would work in the pattern match\n",
    "  - Examples:\n",
    "    - label:Hero\n",
    "    - value: {name: 'Steve Rogers'}\n",
    "- `relationshipProjection` accepts relationship types and orientation\n",
    "  - Examples:\n",
    "    - type: 'KNOWS'\n",
    "    - orientation: UNDIRECTED\n",
    "\n",
    "I'm going to stop for a second on relationship orientation. Understanding these options will help you understand the problem I ran into. Orientation options:\n",
    "\n",
    "- `NATURAL`\n",
    "  - Follows the indicated relationship direction\n",
    "  - Example: (:Hero)-[:APPEARS_IN]->(:Comic)\n",
    "  - For the bimodal model, this will tell us the number of comics that a hero appears in\n",
    "- `REVERSE` \n",
    "  - Reverses the indicated relationship direction\n",
    "  - Example: (:Hero)<-[:APPEARS_IN]-(:Comic)\n",
    "  - For the bimodal model, this will tell us the number of heroes in any given comic\n",
    "- `UNDIRECTED`\n",
    "  - Uses relationship regardless of direction\n",
    "  - Example: (:Hero)-[:APPEARS_IN]-(:Comic)\n",
    "  - This will include both the number of comics that a hero appears in and the number of heroes in any given comic\n",
    "\n",
    "In looking at the examples, they should look suspiciously familiar from the `OPTIONAL MATCH` section above where I got inconsistent results. What we're dealing with is the same phenomenon: we're excluding the relationships we're not interested in, but not the start nodes.\n",
    "\n",
    "<img src='images/directed_rel.png'>\n",
    "\n",
    "I thought for sure I could exclude the nodes I wasn't interested in using the `nodeProjection` parameter. However, this parameter only includes labels. So if I leave the `Comic` label out of the Bimodal Graph Model's `nodeProjection` then none of the nodes have any relationships. This is because the `Hero` nodes are only connected to the `Comic` nodes. By excluding them, we essentially isolate all of our `Hero` nodes.\n",
    "\n",
    "<img src='images/gds_nodeProjection.png'>\n",
    "\n",
    "Thus we are required to include both labels, which gives us the incorrect mean and standard deviation for the same reason the `OPTIONAL MATCH` did when we didn't include the starting node label.\n",
    "\n",
    "If there is a way to do it, the documentaiton needs to be updated to be more human readable."
   ]
  },
  {
   "cell_type": "markdown",
   "metadata": {},
   "source": [
    "## Up Next\n",
    "\n",
    "Cross Graph Model Weighted Degree Comparison"
   ]
  },
  {
   "cell_type": "markdown",
   "metadata": {},
   "source": [
    "## Resources\n",
    "\n",
    "- [Degree Centrality](https://neo4j.com/docs/graph-data-science/current/algorithms/degree-centrality/)\n",
    "- [Analysis of commonly used together ingredients](https://guides.neo4j.com/4.0-intro-graph-algos-exercises/PracticalApplication.html?_gl=1*9if49j*_ga*MTQ0Mjk1MzQ0LjE2MTY1MTc2MDg.*_ga_DL38Q8KGQC*MTYxNzAzNDYzOC4zLjEuMTYxNzAzNDg1My4w&_ga=2.196961967.2064669514.1617034639-144295344.1616517608&_gac=1.175427094.1616517610.EAIaIQobChMI6qHOq-3G7wIVj7t3Ch0pWgOXEAAYASAAEgLfX_D_BwE)\n",
    "- [Native projection](https://neo4j.com/docs/graph-data-science/current/management-ops/native-projection/#native-projection-syntax-relationship-projections)"
   ]
  }
 ],
 "metadata": {
  "kernelspec": {
   "display_name": "Python 3",
   "language": "python",
   "name": "python3"
  },
  "language_info": {
   "codemirror_mode": {
    "name": "ipython",
    "version": 3
   },
   "file_extension": ".py",
   "mimetype": "text/x-python",
   "name": "python",
   "nbconvert_exporter": "python",
   "pygments_lexer": "ipython3",
   "version": "3.7.6"
  }
 },
 "nbformat": 4,
 "nbformat_minor": 4
}
