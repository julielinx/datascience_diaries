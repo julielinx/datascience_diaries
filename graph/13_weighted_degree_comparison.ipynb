{
 "cells": [
  {
   "cell_type": "markdown",
   "metadata": {},
   "source": [
    "# Entry G13: Weighted Degree Comparison"
   ]
  },
  {
   "cell_type": "markdown",
   "metadata": {},
   "source": [
    "Like [Entry G12](https://julielinx.github.io/blog/g12_degree_comparison/) this is a redo of part of [Entry G10](https://julielinx.github.io/blog/g10_local_metrics/), but this one addresses the weighted degrees. If you need a reminder as to what weighted relationships are see [Entry G4: Modeling Relationships](https://julielinx.github.io/blog/g04_graph_model_rels/).\n",
    "\n",
    "Unlike Entry G12, I only needed one notebook to examine the weighted degrees. It can be found in the [G13 notebook](https://github.com/julielinx/datascience_diaries/blob/master/graph/13a_nb_weighted_degree_comparison.ipynb).\n",
    "\n",
    "The changes from the Entry 10 notebook to this one include:\n",
    "\n",
    "- Used a multigraph instead of three separate graph instances\n",
    "- Included OPTIONAL MATCH in the summary statistic pattern match queries\n",
    "- Put results into DataFrames for easier comparison\n",
    "- Added Comic to Comic summary statistics and distribution charts"
   ]
  },
  {
   "cell_type": "markdown",
   "metadata": {},
   "source": [
    "## Used a Multigraph\n",
    "\n",
    "Just like with [Entry G12](https://julielinx.github.io/blog/g12_degree_comparison/), using the multigraph allowed me to query the same information against each of my graph models and easily compare the results. This allowed me to discover that my Mixed Model loaded incorrectly.\n",
    "\n",
    "There were over 100 relationships that were unaccounted for in the Mixed Model once I summed the weighted relationships. Since the Mixed Model is a stepping stone to the Unimodal Model, I knew that some of the relationships must have errored out. I cleared out the Mixed Modal graph with `MATCH (n) DETACH DELETE n` and reloaded the graph. This fixed the discrepancy. It also fixed the discrepancy noted in [Entry G12](https://julielinx.github.io/blog/g12_degree_comparison/) for the number of `KNOWS` relationships in the Unimodal and Mixed Models.\n",
    "\n",
    "Now, just because I can run a query against all three models doesn't mean I should. If you look in the G13 notebook, you'll notice that I ran Hero to Hero relationships for all three models, but only ran Comic to Comic relationships for the Bimodal and Mixed Models. This is because all Comic informaiton was removed from the Unimodal Model when we projected it.\n",
    "\n",
    "<img src='images/projection.png'>"
   ]
  },
  {
   "cell_type": "markdown",
   "metadata": {},
   "source": [
    "## Included OPTIONAL MATCH\n",
    "\n",
    "Just as explained in [Entry G12](https://julielinx.github.io/blog/g12_degree_comparison/) and earlier in [Entry G10](https://julielinx.github.io/blog/g10_local_metrics/), using `OPTIONAL MATCH` instead of the more restrictive `MATCH` allows the query to find isolate nodes (nodes that have no relationships to other nodes). This gives a more complete picture when examining the summary statistics and distrubution charts."
   ]
  },
  {
   "cell_type": "markdown",
   "metadata": {},
   "source": [
    "## Put Results in DataFrames\n",
    "\n",
    "I can't stress enough how helpful it is to have the results in a DataFrame instead of spread out across multiple cells. And to have the formatting the same every time instead of sometimes putting results on the same line and sometimes putting each result on its own line. Also, the font is easier to read.\n",
    "\n",
    "**Same line:**\n",
    "\n",
    "```\n",
    "[{'degree_min': 1, 'degree_max': 111, 'degree_avg': 8.0, 'degree_stdev': 6.0}]\n",
    "```\n",
    "\n",
    "**Multiple lines:**\n",
    "\n",
    "```\n",
    "[{'degree_min': 1,\n",
    "'degree_max': 111,\n",
    "'degree_avg': 8.0,\n",
    "'degree_stdev': 6.0}]\n",
    "```\n",
    "\n",
    "**DataFrame:**\n",
    "\n",
    "<img src='images/comic2hero_df.png'>"
   ]
  },
  {
   "cell_type": "markdown",
   "metadata": {},
   "source": [
    "## Added Comic to Comic\n",
    "\n",
    "I threw in the Comic to Comic weighted relationships mostly because I could. It does give me a second sample to examine without having to create another multigraph of graph models with a new dataset."
   ]
  },
  {
   "cell_type": "markdown",
   "metadata": {},
   "source": [
    "# Up Next\n",
    "\n",
    "Global Counts - Multigraph Version"
   ]
  },
  {
   "cell_type": "markdown",
   "metadata": {},
   "source": [
    "# Resources\n",
    "\n",
    "- [Entry G4: Modeling Relationships](https://julielinx.github.io/blog/g04_graph_model_rels/)\n",
    "- [Entry G10: Local Metrics](https://julielinx.github.io/blog/g10_local_metrics/)\n",
    "- [Entry G12: Degree Comparison](https://julielinx.github.io/blog/g12_degree_comparison/)"
   ]
  }
 ],
 "metadata": {
  "kernelspec": {
   "display_name": "Python 3",
   "language": "python",
   "name": "python3"
  },
  "language_info": {
   "codemirror_mode": {
    "name": "ipython",
    "version": 3
   },
   "file_extension": ".py",
   "mimetype": "text/x-python",
   "name": "python",
   "nbconvert_exporter": "python",
   "pygments_lexer": "ipython3",
   "version": "3.7.6"
  }
 },
 "nbformat": 4,
 "nbformat_minor": 4
}
