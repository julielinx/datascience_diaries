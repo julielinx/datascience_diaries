{
 "cells": [
  {
   "cell_type": "markdown",
   "metadata": {},
   "source": [
    "# Entry 14 - Encoding Categoricals"
   ]
  },
  {
   "cell_type": "markdown",
   "metadata": {},
   "source": [
    "## The Problem\n",
    "\n",
    "Most machine learning algorithms require features to be numeric. Per usual, decision trees/random forests are the exception (the algorithm is just more forgiving in general). Last time I played with R, categorical variables were allowed to remain categorical for decision trees/random forests.\n",
    "\n",
    "My tool of choice, scikit-learn, [doesn't allow for categoricals](https://scikit-learn.org/stable/faq.html#why-do-categorical-variables-need-preprocessing-in-scikit-learn-compared-to-other-tools). All features must be encoded as numeric values. The reasons for this have to do with the [extensive amount of work](https://scikit-learn.org/stable/faq.html#why-does-scikit-learn-not-directly-work-with-for-example-pandas-dataframe) needed to support categorical types."
   ]
  },
  {
   "cell_type": "markdown",
   "metadata": {},
   "source": [
    "## The Options\n",
    "\n",
    "- Scikit-learn's preprocessing module\n",
    "  - Binarizer\n",
    "  - LabelBinarizer\n",
    "  - LabelEncoder\n",
    "  - OneHotEncoder\n",
    "  - OrdinalEncoder\n",
    "  - label_binarize\n",
    "- Scikit-learn's feature_extractor module\n",
    "  - DictVectorizer\n",
    "  - FeatureHasher\n",
    "- category-encoders\n",
    "  - Backward Difference Contrast\n",
    "  - BaseN\n",
    "  - Binary\n",
    "  - Count\n",
    "  - Hashing\n",
    "  - Helmert Contrast\n",
    "  - James-Stein Estimator\n",
    "  - LeaveOneOut\n",
    "  - M-estimator\n",
    "  - Ordinal\n",
    "  - One-Hot\n",
    "  - Polynomial Contrast\n",
    "  - Sum Contrast\n",
    "  - Target Encoding\n",
    "  - Weight of Evidence\n",
    "- pandas\n",
    "  - .astype('category') method + .cat.codes method\n",
    "  - .get_dummies()\n",
    "  - .replace() method + dictionary mapper"
   ]
  },
  {
   "cell_type": "markdown",
   "metadata": {},
   "source": [
    "## The Proposed Solution\n",
    "\n",
    "The **category-encoders** module appeals to me. Benefits include:\n",
    "- Fully compatible with scikit-learn's transformers (it can be included in pipelines).\n",
    "- First-class support for pandas dataframes as an input (and optionally as output).\n",
    "- Can explicitly configure which columns in the data are encoded by name or index, or infer non-numeric columns regardless of input type.\n",
    "- Portability: train a transformer on data, pickle it, reuse it later and get the same thing out.\n",
    "- All methods are imported in one library.\n",
    "- Largest number of encoding options from the three module choices.\n",
    "- The BaseN option allows for multiple encoding methods to allow encoding to become a tunable hyperparameter.\n",
    "- Syntax very similar to almost exact between different methods. This allows for quickly iterating through different encoding methods to determine what works best for the specific dataset.\n",
    "\n",
    "Compared with **Scikit-learn** where:\n",
    "- Each encoding method has to be imported by name from the preprocessing module.\n",
    "- No explicit configuration of which columns to encode (it assumes all columns passed to it are categorical).\n",
    "\n",
    "The **pandas** options are rather limited - only three methods. I used the .astype() method way back in <font color='red'>Entry 5</font>. From that experience these methods of transformation seem to require more code than the other options."
   ]
  },
  {
   "cell_type": "markdown",
   "metadata": {},
   "source": [
    "## The Fail\n",
    "\n",
    "#### Pandas\n",
    "\n",
    "I had to resort to for loops to apply the pandas methods to multiple columns. For loops tend to be slow and performance would suffer if I had to use these on a large dataset.\n",
    "\n",
    "#### Scikit Learn\n",
    "\n",
    "I couldn't figure out how to return the LabelBinarize results as a dataframe. I finally gave up because there's an easier way to do it using the category-encoders package. Scikit Learn tends to return things as arrays and the categorical encoding is no exception.\n",
    "\n",
    "These methods also tend to assume you'll be doing one column or all of them. In my experience, most datasets are a combination of numerical and categorical features. It seems like Scikit Learn would have solved for this issue in a more intuitive fashion.\n",
    "\n",
    "#### Category Encoders\n",
    "\n",
    "This option was surprisingly intuitive. It returns a dataframe as the result so I can continue doing transformations and easily see what I'm doing. The syntax is almost exactly the same from one method to another, so it would be easy to write a function to swap out the different methods and see what performs best on what kinds of datasets. It also has the most encoding options of the three packages.\n",
    "\n",
    "I suppose my only fail with this package is that I didn't write a function to just swap out the different encoders. I could also count the last entry's fail in that I don't know what at least half of these encoders actually do. But that's a problem for another series of entries.\n",
    "\n",
    "**Side note**, this package imputes missing values by default. My example dataset didn't include any missing values, but this is something to keep in mind for the future."
   ]
  },
  {
   "cell_type": "markdown",
   "metadata": {},
   "source": [
    "## Resources\n",
    "- [Category Encoders](http://contrib.scikit-learn.org/categorical-encoding/index.html)\n",
    "- [category-encoders on pypi](https://pypi.org/project/category-encoders/)\n",
    "- [Beyond One Hot: an exploration of categorical variables](http://www.willmcginnis.com/2015/11/29/beyond-one-hot-an-exploration-of-categorical-variables/)\n",
    "- [Guide to Encoding Categorical Values in Python](https://pbpython.com/categorical-encoding.html)\n",
    "- [One-Hot Encoding in Scikit-learn](https://www.ritchieng.com/machinelearning-one-hot-encoding/)\n",
    "- [Smarter Ways to Encode Categorical Data for Machine Learning](https://towardsdatascience.com/smarter-ways-to-encode-categorical-data-for-machine-learning-part-1-of-3-6dca2f71b159)"
   ]
  }
 ],
 "metadata": {
  "kernelspec": {
   "display_name": "Python 3",
   "language": "python",
   "name": "python3"
  },
  "language_info": {
   "codemirror_mode": {
    "name": "ipython",
    "version": 3
   },
   "file_extension": ".py",
   "mimetype": "text/x-python",
   "name": "python",
   "nbconvert_exporter": "python",
   "pygments_lexer": "ipython3",
   "version": "3.7.6"
  }
 },
 "nbformat": 4,
 "nbformat_minor": 4
}
