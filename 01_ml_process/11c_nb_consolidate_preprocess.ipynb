{
 "cells": [
  {
   "cell_type": "markdown",
   "metadata": {},
   "source": [
    "# Entry 11 notebook - Consolidate Pre-processing - QSAR Aquatic Toxicity"
   ]
  },
  {
   "cell_type": "code",
   "execution_count": 4,
   "metadata": {},
   "outputs": [],
   "source": [
    "import numpy as np\n",
    "import pandas as pd\n",
    "import matplotlib.pyplot as plt\n",
    "import seaborn as sns\n",
    "%matplotlib inline\n",
    "plt.style.use('seaborn')\n",
    "\n",
    "from sklearn.model_selection import train_test_split\n",
    "from sklearn.preprocessing import StandardScaler\n",
    "from sklearn.linear_model import LinearRegression\n",
    "import category_encoders as ce"
   ]
  },
  {
   "cell_type": "markdown",
   "metadata": {},
   "source": [
    "### Custom functions"
   ]
  },
  {
   "cell_type": "code",
   "execution_count": 5,
   "metadata": {},
   "outputs": [],
   "source": [
    "def split_data(df, target, train_size):\n",
    "    y = df[[target]]\n",
    "    X = df.drop(target, axis=1)\n",
    "    X_train, X_test, y_train, y_test = train_test_split(X, y, test_size=train_size, random_state=12)\n",
    "    return X_train, X_test, y_train, y_test\n",
    "\n",
    "def define_reserve(X_test, y_test):\n",
    "    X_test, X_reserve, y_test, y_reserve = train_test_split(X_test, y_test, test_size = 0.5, random_state=12)\n",
    "    return X_test, X_reserve, y_test, y_reserve"
   ]
  },
  {
   "cell_type": "code",
   "execution_count": 6,
   "metadata": {},
   "outputs": [],
   "source": [
    "def feature_corr_coll(train_df, target, test_df, corr_type='spearman'):\n",
    "    target_corr = pd.DataFrame(train_df.corrwith(target, axis=0, method=corr_type).reset_index()).rename(columns={0:corr_type})\n",
    "    target_corr['abs'] = target_corr[corr_type].abs()\n",
    "    top_features = target_corr[target_corr['abs'] >= 0.5].sort_values('abs', ascending=False)['index'].tolist()\n",
    "    df_top = train_df[top_features]\n",
    "    feature_corr = df_top.corr(method=corr_type)\n",
    "    \n",
    "    collinear_features = set()\n",
    "    for i in range(len(feature_corr.columns)):\n",
    "        sliced_matrix = feature_corr.iloc[i, :i]\n",
    "        if sum(sliced_matrix[abs(sliced_matrix) > 0.9]):\n",
    "            colname = feature_corr.columns[i]\n",
    "            collinear_features.add(colname)\n",
    "    collinear_features = list(collinear_features)\n",
    "    df_train = df_top.drop(collinear_features, axis=1)\n",
    "    \n",
    "    select_features = df_train.columns.tolist()\n",
    "    df_test = test_df[select_features]\n",
    "    \n",
    "    return df_train, df_test"
   ]
  },
  {
   "cell_type": "code",
   "execution_count": 7,
   "metadata": {},
   "outputs": [],
   "source": [
    "def preprocess_data(train_df, test_df, scaler=StandardScaler(), encoder=ce.OrdinalEncoder):\n",
    "    index = train_df.index.tolist()\n",
    "    test_index = test_df.index.tolist()\n",
    "    \n",
    "    num_features = train_df.select_dtypes('number').columns.tolist()    \n",
    "    num_scale = scaler.fit_transform(train_df[num_features])\n",
    "    train_num_df = pd.DataFrame(num_scale, columns=num_features, index=index)\n",
    "    \n",
    "    test_num_scale = scaler.transform(test_df[num_features])\n",
    "    test_num_df = pd.DataFrame(test_num_scale, columns=num_features, index=test_index)\n",
    "    \n",
    "    cat_features = train_df.select_dtypes('object').columns.tolist()\n",
    "    cat_encoder = encoder(cols=cat_features)\n",
    "    cat_encode = cat_encoder.fit_transform(train_df[cat_features])\n",
    "    train_cat_df = pd.DataFrame(cat_encode, columns=cat_features, index=index)\n",
    "    \n",
    "    test_cat_encode = cat_encoder.transform(test_df[cat_features])\n",
    "    test_cat_df = pd.DataFrame(test_cat_encode, columns=cat_features, index=test_index)\n",
    "    \n",
    "    train_df = pd.concat([train_num_df, train_cat_df], axis=1).fillna(-1)\n",
    "    test_df = pd.concat([test_num_df, test_cat_df], axis=1).fillna(-1)\n",
    "    \n",
    "    return train_df, test_df"
   ]
  },
  {
   "cell_type": "code",
   "execution_count": 8,
   "metadata": {},
   "outputs": [],
   "source": [
    "def train_and_predict(X_train, y_train, X_test, model=LinearRegression()):\n",
    "    model.fit(X_train, y_train)\n",
    "    preds = model.predict(X_test)\n",
    "    return model, preds"
   ]
  },
  {
   "cell_type": "markdown",
   "metadata": {},
   "source": [
    "# Get the Data\n",
    "\n",
    "## Data\n",
    "\n",
    "[QSAR aquatic toxicity Data Set](http://archive.ics.uci.edu/ml/datasets/QSAR+aquatic+toxicity) from UCI Machine Learning Repository.\n",
    "\n",
    "Number of observations: 546\n",
    "\n",
    "Number of Attributes (all integers): 9\n",
    "\n",
    "6 molecular descriptors and 1 quantitative experimental response: \n",
    "\n",
    "8 molecular descriptors and 1 quantitative experimental response:\n",
    "\n",
    "1. TPSA(Tot) \n",
    "2. SAacc \n",
    "3. H-050 \n",
    "4. MLOGP \n",
    "5. RDCHI \n",
    "6. GATS1p \n",
    "7. nN \n",
    "8. C-040 \n",
    "9. quantitative response, LC50 [-LOG(mol/L)]"
   ]
  },
  {
   "cell_type": "code",
   "execution_count": 9,
   "metadata": {},
   "outputs": [
    {
     "data": {
      "text/html": [
       "<div>\n",
       "<style scoped>\n",
       "    .dataframe tbody tr th:only-of-type {\n",
       "        vertical-align: middle;\n",
       "    }\n",
       "\n",
       "    .dataframe tbody tr th {\n",
       "        vertical-align: top;\n",
       "    }\n",
       "\n",
       "    .dataframe thead th {\n",
       "        text-align: right;\n",
       "    }\n",
       "</style>\n",
       "<table border=\"1\" class=\"dataframe\">\n",
       "  <thead>\n",
       "    <tr style=\"text-align: right;\">\n",
       "      <th></th>\n",
       "      <th>tpsa</th>\n",
       "      <th>saacc</th>\n",
       "      <th>h050</th>\n",
       "      <th>mlogp</th>\n",
       "      <th>rdchi</th>\n",
       "      <th>gats1p</th>\n",
       "      <th>nn</th>\n",
       "      <th>c040</th>\n",
       "      <th>response</th>\n",
       "    </tr>\n",
       "  </thead>\n",
       "  <tbody>\n",
       "    <tr>\n",
       "      <th>0</th>\n",
       "      <td>0.00</td>\n",
       "      <td>0.0</td>\n",
       "      <td>0</td>\n",
       "      <td>2.419</td>\n",
       "      <td>1.225</td>\n",
       "      <td>0.667</td>\n",
       "      <td>0</td>\n",
       "      <td>0</td>\n",
       "      <td>3.740</td>\n",
       "    </tr>\n",
       "    <tr>\n",
       "      <th>1</th>\n",
       "      <td>0.00</td>\n",
       "      <td>0.0</td>\n",
       "      <td>0</td>\n",
       "      <td>2.638</td>\n",
       "      <td>1.401</td>\n",
       "      <td>0.632</td>\n",
       "      <td>0</td>\n",
       "      <td>0</td>\n",
       "      <td>4.330</td>\n",
       "    </tr>\n",
       "    <tr>\n",
       "      <th>2</th>\n",
       "      <td>9.23</td>\n",
       "      <td>11.0</td>\n",
       "      <td>0</td>\n",
       "      <td>5.799</td>\n",
       "      <td>2.930</td>\n",
       "      <td>0.486</td>\n",
       "      <td>0</td>\n",
       "      <td>0</td>\n",
       "      <td>7.019</td>\n",
       "    </tr>\n",
       "    <tr>\n",
       "      <th>3</th>\n",
       "      <td>9.23</td>\n",
       "      <td>11.0</td>\n",
       "      <td>0</td>\n",
       "      <td>5.453</td>\n",
       "      <td>2.887</td>\n",
       "      <td>0.495</td>\n",
       "      <td>0</td>\n",
       "      <td>0</td>\n",
       "      <td>6.723</td>\n",
       "    </tr>\n",
       "    <tr>\n",
       "      <th>4</th>\n",
       "      <td>9.23</td>\n",
       "      <td>11.0</td>\n",
       "      <td>0</td>\n",
       "      <td>4.068</td>\n",
       "      <td>2.758</td>\n",
       "      <td>0.695</td>\n",
       "      <td>0</td>\n",
       "      <td>0</td>\n",
       "      <td>5.979</td>\n",
       "    </tr>\n",
       "  </tbody>\n",
       "</table>\n",
       "</div>"
      ],
      "text/plain": [
       "   tpsa  saacc  h050  mlogp  rdchi  gats1p  nn  c040  response\n",
       "0  0.00    0.0     0  2.419  1.225   0.667   0     0     3.740\n",
       "1  0.00    0.0     0  2.638  1.401   0.632   0     0     4.330\n",
       "2  9.23   11.0     0  5.799  2.930   0.486   0     0     7.019\n",
       "3  9.23   11.0     0  5.453  2.887   0.495   0     0     6.723\n",
       "4  9.23   11.0     0  4.068  2.758   0.695   0     0     5.979"
      ]
     },
     "execution_count": 9,
     "metadata": {},
     "output_type": "execute_result"
    }
   ],
   "source": [
    "columns = ['tpsa', 'saacc', 'h050', 'mlogp', 'rdchi', 'gats1p', 'nn', 'c040', 'response']\n",
    "raw_df = pd.read_csv('http://archive.ics.uci.edu/ml/machine-learning-databases/00505/qsar_aquatic_toxicity.csv', sep=';', header=None, names=columns)\n",
    "raw_df.head()"
   ]
  },
  {
   "cell_type": "code",
   "execution_count": 10,
   "metadata": {},
   "outputs": [
    {
     "data": {
      "text/plain": [
       "array([[3.72541537],\n",
       "       [4.39116437],\n",
       "       [6.09011062],\n",
       "       [5.90546361],\n",
       "       [5.33519898]])"
      ]
     },
     "execution_count": 10,
     "metadata": {},
     "output_type": "execute_result"
    }
   ],
   "source": [
    "X_train, X_test, y_train, y_test = split_data(raw_df, 'response', 0.6)\n",
    "X_train, X_test = preprocess_data(X_train, X_test)\n",
    "X_test, X_reserve, y_test, y_reserve = define_reserve(X_test, y_test)\n",
    "model, preds = train_and_predict(X_train, y_train, X_test)\n",
    "preds[:5]"
   ]
  },
  {
   "cell_type": "code",
   "execution_count": null,
   "metadata": {},
   "outputs": [],
   "source": []
  },
  {
   "cell_type": "code",
   "execution_count": null,
   "metadata": {},
   "outputs": [],
   "source": []
  },
  {
   "cell_type": "code",
   "execution_count": null,
   "metadata": {},
   "outputs": [],
   "source": []
  },
  {
   "cell_type": "code",
   "execution_count": null,
   "metadata": {},
   "outputs": [],
   "source": []
  },
  {
   "cell_type": "code",
   "execution_count": null,
   "metadata": {},
   "outputs": [],
   "source": []
  }
 ],
 "metadata": {
  "kernelspec": {
   "display_name": "Python 3",
   "language": "python",
   "name": "python3"
  },
  "language_info": {
   "codemirror_mode": {
    "name": "ipython",
    "version": 3
   },
   "file_extension": ".py",
   "mimetype": "text/x-python",
   "name": "python",
   "nbconvert_exporter": "python",
   "pygments_lexer": "ipython3",
   "version": "3.7.6"
  }
 },
 "nbformat": 4,
 "nbformat_minor": 4
}
