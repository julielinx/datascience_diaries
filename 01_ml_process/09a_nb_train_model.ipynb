{
 "cells": [
  {
   "cell_type": "markdown",
   "metadata": {},
   "source": [
    "# Entry 9 notebook - Train a Model"
   ]
  },
  {
   "cell_type": "code",
   "execution_count": 1,
   "metadata": {},
   "outputs": [],
   "source": [
    "import numpy as np\n",
    "import pandas as pd\n",
    "import seaborn as sns\n",
    "import matplotlib.pyplot as plt\n",
    "%matplotlib inline\n",
    "plt.style.use('seaborn')\n",
    "\n",
    "from sklearn.preprocessing import StandardScaler\n",
    "from sklearn.linear_model import LinearRegression"
   ]
  },
  {
   "cell_type": "markdown",
   "metadata": {},
   "source": [
    "### Custom functions"
   ]
  },
  {
   "cell_type": "code",
   "execution_count": 2,
   "metadata": {},
   "outputs": [],
   "source": [
    "def convert_categoricals(df):\n",
    "    cat_vars = df.select_dtypes('object').columns.tolist()\n",
    "    converted = df.copy()\n",
    "    converted[cat_vars] = df[cat_vars].astype('category')\n",
    "    for cat in cat_vars:\n",
    "        converted[cat] = converted[cat].cat.codes\n",
    "    return converted"
   ]
  },
  {
   "cell_type": "code",
   "execution_count": 3,
   "metadata": {},
   "outputs": [],
   "source": [
    "def feature_corr(df, target, corr_type='spearman'):\n",
    "    target_corr = pd.DataFrame(df.corrwith(df[target], axis=0, method=corr_type).reset_index()).rename(columns={0:corr_type})\n",
    "    target_corr['abs'] = target_corr[corr_type].abs()\n",
    "    top_features = target_corr[target_corr['abs'] >= 0.5].sort_values('abs', ascending=False)['index'].tolist()\n",
    "    df_top = df[top_features]\n",
    "    feature_corr = df_top.corr(method=corr_type)\n",
    "    return df_top, feature_corr"
   ]
  },
  {
   "cell_type": "code",
   "execution_count": 4,
   "metadata": {},
   "outputs": [],
   "source": [
    "def feature_stdz(df, scaler = StandardScaler()):\n",
    "    columns = df.columns.tolist()\n",
    "    index = df.index.tolist()\n",
    "    stdz_df = scaler.fit_transform(df)\n",
    "    stdz_df = pd.DataFrame(stdz_df, columns=columns, index=index)\n",
    "    return stdz_df"
   ]
  },
  {
   "cell_type": "markdown",
   "metadata": {},
   "source": [
    "### Get data and preprocess"
   ]
  },
  {
   "cell_type": "code",
   "execution_count": 5,
   "metadata": {},
   "outputs": [
    {
     "data": {
      "text/html": [
       "<div>\n",
       "<style scoped>\n",
       "    .dataframe tbody tr th:only-of-type {\n",
       "        vertical-align: middle;\n",
       "    }\n",
       "\n",
       "    .dataframe tbody tr th {\n",
       "        vertical-align: top;\n",
       "    }\n",
       "\n",
       "    .dataframe thead th {\n",
       "        text-align: right;\n",
       "    }\n",
       "</style>\n",
       "<table border=\"1\" class=\"dataframe\">\n",
       "  <thead>\n",
       "    <tr style=\"text-align: right;\">\n",
       "      <th></th>\n",
       "      <th>atmospheric_mass_kg</th>\n",
       "      <th>diameter_km</th>\n",
       "      <th>mass_1024kg</th>\n",
       "      <th>V(1,0) (mag)</th>\n",
       "      <th>day_len_hr</th>\n",
       "      <th>surface_pressure_bars</th>\n",
       "      <th>rings</th>\n",
       "      <th>geometric_albedo</th>\n",
       "      <th>density_kg_m3</th>\n",
       "      <th>magnetic_field</th>\n",
       "      <th>orbital_inclination_degrees</th>\n",
       "      <th>type</th>\n",
       "      <th>rotation_period_hr</th>\n",
       "    </tr>\n",
       "  </thead>\n",
       "  <tbody>\n",
       "    <tr>\n",
       "      <th>Mercury</th>\n",
       "      <td>-0.436378</td>\n",
       "      <td>-0.681977</td>\n",
       "      <td>-0.442264</td>\n",
       "      <td>1.224812</td>\n",
       "      <td>2.568170</td>\n",
       "      <td>-0.638729</td>\n",
       "      <td>-0.755929</td>\n",
       "      <td>-1.374401</td>\n",
       "      <td>1.429504</td>\n",
       "      <td>0.912871</td>\n",
       "      <td>0.690697</td>\n",
       "      <td>0.565685</td>\n",
       "      <td>0.959204</td>\n",
       "    </tr>\n",
       "    <tr>\n",
       "      <th>Venus</th>\n",
       "      <td>-0.436377</td>\n",
       "      <td>-0.530590</td>\n",
       "      <td>-0.433970</td>\n",
       "      <td>0.075589</td>\n",
       "      <td>1.514217</td>\n",
       "      <td>-0.429988</td>\n",
       "      <td>-0.755929</td>\n",
       "      <td>1.732669</td>\n",
       "      <td>1.323681</td>\n",
       "      <td>-1.095445</td>\n",
       "      <td>-0.075454</td>\n",
       "      <td>0.565685</td>\n",
       "      <td>-3.070742</td>\n",
       "    </tr>\n",
       "    <tr>\n",
       "      <th>Earth</th>\n",
       "      <td>-0.436375</td>\n",
       "      <td>-0.516928</td>\n",
       "      <td>-0.431961</td>\n",
       "      <td>0.256733</td>\n",
       "      <td>-0.546799</td>\n",
       "      <td>-0.636428</td>\n",
       "      <td>-0.755929</td>\n",
       "      <td>0.116307</td>\n",
       "      <td>1.479540</td>\n",
       "      <td>0.912871</td>\n",
       "      <td>-0.799041</td>\n",
       "      <td>0.565685</td>\n",
       "      <td>0.189016</td>\n",
       "    </tr>\n",
       "    <tr>\n",
       "      <th>Moon</th>\n",
       "      <td>-0.436378</td>\n",
       "      <td>-0.711396</td>\n",
       "      <td>-0.442733</td>\n",
       "      <td>1.379230</td>\n",
       "      <td>-0.038815</td>\n",
       "      <td>-0.638729</td>\n",
       "      <td>-0.755929</td>\n",
       "      <td>-1.294440</td>\n",
       "      <td>0.229214</td>\n",
       "      <td>-1.095445</td>\n",
       "      <td>0.286339</td>\n",
       "      <td>-0.989949</td>\n",
       "      <td>0.540685</td>\n",
       "    </tr>\n",
       "    <tr>\n",
       "      <th>Mars</th>\n",
       "      <td>-0.436378</td>\n",
       "      <td>-0.641894</td>\n",
       "      <td>-0.441694</td>\n",
       "      <td>0.951612</td>\n",
       "      <td>-0.546279</td>\n",
       "      <td>-0.638706</td>\n",
       "      <td>-0.755929</td>\n",
       "      <td>-1.123094</td>\n",
       "      <td>0.570264</td>\n",
       "      <td>-1.095445</td>\n",
       "      <td>-0.394684</td>\n",
       "      <td>0.565685</td>\n",
       "      <td>0.189406</td>\n",
       "    </tr>\n",
       "    <tr>\n",
       "      <th>Jupiter</th>\n",
       "      <td>3.036693</td>\n",
       "      <td>2.211778</td>\n",
       "      <td>3.024239</td>\n",
       "      <td>-1.388408</td>\n",
       "      <td>-0.557259</td>\n",
       "      <td>-0.634191</td>\n",
       "      <td>1.322876</td>\n",
       "      <td>0.990171</td>\n",
       "      <td>-0.929091</td>\n",
       "      <td>0.912871</td>\n",
       "      <td>-0.522376</td>\n",
       "      <td>0.565685</td>\n",
       "      <td>0.181224</td>\n",
       "    </tr>\n",
       "    <tr>\n",
       "      <th>Saturn</th>\n",
       "      <td>0.550706</td>\n",
       "      <td>1.741418</td>\n",
       "      <td>0.594708</td>\n",
       "      <td>-1.233991</td>\n",
       "      <td>-0.556666</td>\n",
       "      <td>1.630200</td>\n",
       "      <td>1.322876</td>\n",
       "      <td>0.704595</td>\n",
       "      <td>-1.296597</td>\n",
       "      <td>0.912871</td>\n",
       "      <td>-0.266992</td>\n",
       "      <td>0.565685</td>\n",
       "      <td>0.181669</td>\n",
       "    </tr>\n",
       "    <tr>\n",
       "      <th>Titan</th>\n",
       "      <td>-0.436377</td>\n",
       "      <td>-0.676311</td>\n",
       "      <td>-0.442636</td>\n",
       "      <td>-1.002364</td>\n",
       "      <td>-0.281196</td>\n",
       "      <td>-0.635099</td>\n",
       "      <td>-0.755929</td>\n",
       "      <td>-0.780402</td>\n",
       "      <td>-0.609321</td>\n",
       "      <td>-1.095445</td>\n",
       "      <td>-0.735195</td>\n",
       "      <td>-0.989949</td>\n",
       "      <td>0.388340</td>\n",
       "    </tr>\n",
       "    <tr>\n",
       "      <th>Uranus</th>\n",
       "      <td>-0.279175</td>\n",
       "      <td>0.286882</td>\n",
       "      <td>-0.284308</td>\n",
       "      <td>-0.732134</td>\n",
       "      <td>-0.551843</td>\n",
       "      <td>1.630200</td>\n",
       "      <td>1.322876</td>\n",
       "      <td>0.933056</td>\n",
       "      <td>-0.960723</td>\n",
       "      <td>0.912871</td>\n",
       "      <td>-0.628786</td>\n",
       "      <td>0.565685</td>\n",
       "      <td>0.166139</td>\n",
       "    </tr>\n",
       "    <tr>\n",
       "      <th>Neptune</th>\n",
       "      <td>-0.253584</td>\n",
       "      <td>0.253567</td>\n",
       "      <td>-0.256541</td>\n",
       "      <td>-0.637107</td>\n",
       "      <td>-0.552660</td>\n",
       "      <td>1.630200</td>\n",
       "      <td>1.322876</td>\n",
       "      <td>0.361903</td>\n",
       "      <td>-0.749652</td>\n",
       "      <td>0.912871</td>\n",
       "      <td>-0.415966</td>\n",
       "      <td>0.565685</td>\n",
       "      <td>0.184675</td>\n",
       "    </tr>\n",
       "    <tr>\n",
       "      <th>Pluto</th>\n",
       "      <td>-0.436378</td>\n",
       "      <td>-0.734549</td>\n",
       "      <td>-0.442840</td>\n",
       "      <td>1.106029</td>\n",
       "      <td>-0.450870</td>\n",
       "      <td>-0.638729</td>\n",
       "      <td>-0.755929</td>\n",
       "      <td>-0.266365</td>\n",
       "      <td>-0.486819</td>\n",
       "      <td>-1.095445</td>\n",
       "      <td>2.861458</td>\n",
       "      <td>-2.545584</td>\n",
       "      <td>0.090384</td>\n",
       "    </tr>\n",
       "  </tbody>\n",
       "</table>\n",
       "</div>"
      ],
      "text/plain": [
       "         atmospheric_mass_kg  diameter_km  mass_1024kg  V(1,0) (mag)  \\\n",
       "Mercury            -0.436378    -0.681977    -0.442264      1.224812   \n",
       "Venus              -0.436377    -0.530590    -0.433970      0.075589   \n",
       "Earth              -0.436375    -0.516928    -0.431961      0.256733   \n",
       "Moon               -0.436378    -0.711396    -0.442733      1.379230   \n",
       "Mars               -0.436378    -0.641894    -0.441694      0.951612   \n",
       "Jupiter             3.036693     2.211778     3.024239     -1.388408   \n",
       "Saturn              0.550706     1.741418     0.594708     -1.233991   \n",
       "Titan              -0.436377    -0.676311    -0.442636     -1.002364   \n",
       "Uranus             -0.279175     0.286882    -0.284308     -0.732134   \n",
       "Neptune            -0.253584     0.253567    -0.256541     -0.637107   \n",
       "Pluto              -0.436378    -0.734549    -0.442840      1.106029   \n",
       "\n",
       "         day_len_hr  surface_pressure_bars     rings  geometric_albedo  \\\n",
       "Mercury    2.568170              -0.638729 -0.755929         -1.374401   \n",
       "Venus      1.514217              -0.429988 -0.755929          1.732669   \n",
       "Earth     -0.546799              -0.636428 -0.755929          0.116307   \n",
       "Moon      -0.038815              -0.638729 -0.755929         -1.294440   \n",
       "Mars      -0.546279              -0.638706 -0.755929         -1.123094   \n",
       "Jupiter   -0.557259              -0.634191  1.322876          0.990171   \n",
       "Saturn    -0.556666               1.630200  1.322876          0.704595   \n",
       "Titan     -0.281196              -0.635099 -0.755929         -0.780402   \n",
       "Uranus    -0.551843               1.630200  1.322876          0.933056   \n",
       "Neptune   -0.552660               1.630200  1.322876          0.361903   \n",
       "Pluto     -0.450870              -0.638729 -0.755929         -0.266365   \n",
       "\n",
       "         density_kg_m3  magnetic_field  orbital_inclination_degrees      type  \\\n",
       "Mercury       1.429504        0.912871                     0.690697  0.565685   \n",
       "Venus         1.323681       -1.095445                    -0.075454  0.565685   \n",
       "Earth         1.479540        0.912871                    -0.799041  0.565685   \n",
       "Moon          0.229214       -1.095445                     0.286339 -0.989949   \n",
       "Mars          0.570264       -1.095445                    -0.394684  0.565685   \n",
       "Jupiter      -0.929091        0.912871                    -0.522376  0.565685   \n",
       "Saturn       -1.296597        0.912871                    -0.266992  0.565685   \n",
       "Titan        -0.609321       -1.095445                    -0.735195 -0.989949   \n",
       "Uranus       -0.960723        0.912871                    -0.628786  0.565685   \n",
       "Neptune      -0.749652        0.912871                    -0.415966  0.565685   \n",
       "Pluto        -0.486819       -1.095445                     2.861458 -2.545584   \n",
       "\n",
       "         rotation_period_hr  \n",
       "Mercury            0.959204  \n",
       "Venus             -3.070742  \n",
       "Earth              0.189016  \n",
       "Moon               0.540685  \n",
       "Mars               0.189406  \n",
       "Jupiter            0.181224  \n",
       "Saturn             0.181669  \n",
       "Titan              0.388340  \n",
       "Uranus             0.166139  \n",
       "Neptune            0.184675  \n",
       "Pluto              0.090384  "
      ]
     },
     "execution_count": 5,
     "metadata": {},
     "output_type": "execute_result"
    }
   ],
   "source": [
    "planets = pd.read_excel('../data/planets_moons.xlsx', index_col=0)\n",
    "planets_num = convert_categoricals(planets)\n",
    "df_top, feature_corr = feature_corr(planets_num, 'atmospheric_mass_kg')\n",
    "\n",
    "select_features = ['atmospheric_mass_kg', 'diameter_km', 'mass_1024kg', 'V(1,0) (mag)', 'day_len_hr', 'surface_pressure_bars', 'rings', 'geometric_albedo', 'density_kg_m3', 'magnetic_field', 'orbital_inclination_degrees', 'type', 'rotation_period_hr']\n",
    "select_df = df_top[select_features]\n",
    "\n",
    "planets_stdz = feature_stdz(select_df)\n",
    "planets_stdz"
   ]
  },
  {
   "cell_type": "markdown",
   "metadata": {},
   "source": [
    "### Missing values\n",
    "\n",
    "Look for missing values. As seen below, there are none in this dataset (hand curated, I got rid of them all). Will need to address in the future."
   ]
  },
  {
   "cell_type": "code",
   "execution_count": 6,
   "metadata": {},
   "outputs": [
    {
     "name": "stdout",
     "output_type": "stream",
     "text": [
      "<class 'pandas.core.frame.DataFrame'>\n",
      "Index: 11 entries, Mercury to Pluto\n",
      "Data columns (total 13 columns):\n",
      "atmospheric_mass_kg            11 non-null float64\n",
      "diameter_km                    11 non-null float64\n",
      "mass_1024kg                    11 non-null float64\n",
      "V(1,0) (mag)                   11 non-null float64\n",
      "day_len_hr                     11 non-null float64\n",
      "surface_pressure_bars          11 non-null float64\n",
      "rings                          11 non-null float64\n",
      "geometric_albedo               11 non-null float64\n",
      "density_kg_m3                  11 non-null float64\n",
      "magnetic_field                 11 non-null float64\n",
      "orbital_inclination_degrees    11 non-null float64\n",
      "type                           11 non-null float64\n",
      "rotation_period_hr             11 non-null float64\n",
      "dtypes: float64(13)\n",
      "memory usage: 1.2+ KB\n"
     ]
    }
   ],
   "source": [
    "planets_stdz.info()"
   ]
  },
  {
   "cell_type": "markdown",
   "metadata": {},
   "source": [
    "## Train model"
   ]
  },
  {
   "cell_type": "code",
   "execution_count": 7,
   "metadata": {},
   "outputs": [
    {
     "data": {
      "text/plain": [
       "LinearRegression(copy_X=True, fit_intercept=True, n_jobs=None, normalize=False)"
      ]
     },
     "execution_count": 7,
     "metadata": {},
     "output_type": "execute_result"
    }
   ],
   "source": [
    "X = planets_stdz.drop('mass_1024kg', axis=1)\n",
    "y = planets_stdz['mass_1024kg']\n",
    "model = LinearRegression()\n",
    "\n",
    "model.fit(X, y)"
   ]
  },
  {
   "cell_type": "code",
   "execution_count": 8,
   "metadata": {},
   "outputs": [
    {
     "data": {
      "text/plain": [
       "array([ 0.14238478,  0.69706561,  0.0096957 ,  0.00509335, -0.32938854,\n",
       "        0.31222586, -0.03180231, -0.0297368 ,  0.0237083 , -0.00429627,\n",
       "       -0.00544434, -0.04911224])"
      ]
     },
     "execution_count": 8,
     "metadata": {},
     "output_type": "execute_result"
    }
   ],
   "source": [
    "model.coef_"
   ]
  },
  {
   "cell_type": "code",
   "execution_count": 9,
   "metadata": {},
   "outputs": [
    {
     "data": {
      "text/plain": [
       "1.0"
      ]
     },
     "execution_count": 9,
     "metadata": {},
     "output_type": "execute_result"
    }
   ],
   "source": [
    "model.score(X, y)"
   ]
  },
  {
   "cell_type": "markdown",
   "metadata": {},
   "source": [
    "## Make Predictions"
   ]
  },
  {
   "cell_type": "markdown",
   "metadata": {},
   "source": [
    "### Create test set"
   ]
  },
  {
   "cell_type": "code",
   "execution_count": 13,
   "metadata": {},
   "outputs": [
    {
     "data": {
      "text/html": [
       "<div>\n",
       "<style scoped>\n",
       "    .dataframe tbody tr th:only-of-type {\n",
       "        vertical-align: middle;\n",
       "    }\n",
       "\n",
       "    .dataframe tbody tr th {\n",
       "        vertical-align: top;\n",
       "    }\n",
       "\n",
       "    .dataframe thead th {\n",
       "        text-align: right;\n",
       "    }\n",
       "</style>\n",
       "<table border=\"1\" class=\"dataframe\">\n",
       "  <thead>\n",
       "    <tr style=\"text-align: right;\">\n",
       "      <th></th>\n",
       "      <th>atmospheric_mass_kg</th>\n",
       "      <th>diameter_km</th>\n",
       "      <th>mass_1024kg</th>\n",
       "      <th>V(1,0) (mag)</th>\n",
       "      <th>day_len_hr</th>\n",
       "      <th>surface_pressure_bars</th>\n",
       "      <th>rings</th>\n",
       "      <th>geometric_albedo</th>\n",
       "      <th>density_kg_m3</th>\n",
       "      <th>magnetic_field</th>\n",
       "      <th>orbital_inclination_degrees</th>\n",
       "      <th>type</th>\n",
       "      <th>rotation_period_hr</th>\n",
       "    </tr>\n",
       "  </thead>\n",
       "  <tbody>\n",
       "    <tr>\n",
       "      <th>Mars_low</th>\n",
       "      <td>2.500000e+16</td>\n",
       "      <td>6792.0</td>\n",
       "      <td>0.642</td>\n",
       "      <td>-1.52</td>\n",
       "      <td>24.7</td>\n",
       "      <td>0.47</td>\n",
       "      <td>0</td>\n",
       "      <td>0.15</td>\n",
       "      <td>3933</td>\n",
       "      <td>0</td>\n",
       "      <td>1.9</td>\n",
       "      <td>2</td>\n",
       "      <td>24.6</td>\n",
       "    </tr>\n",
       "    <tr>\n",
       "      <th>Mars_high</th>\n",
       "      <td>2.500000e+16</td>\n",
       "      <td>6792.0</td>\n",
       "      <td>0.642</td>\n",
       "      <td>-1.52</td>\n",
       "      <td>24.7</td>\n",
       "      <td>4.00</td>\n",
       "      <td>0</td>\n",
       "      <td>0.15</td>\n",
       "      <td>3933</td>\n",
       "      <td>0</td>\n",
       "      <td>1.9</td>\n",
       "      <td>2</td>\n",
       "      <td>24.6</td>\n",
       "    </tr>\n",
       "  </tbody>\n",
       "</table>\n",
       "</div>"
      ],
      "text/plain": [
       "           atmospheric_mass_kg  diameter_km  mass_1024kg  V(1,0) (mag)  \\\n",
       "Mars_low          2.500000e+16       6792.0        0.642         -1.52   \n",
       "Mars_high         2.500000e+16       6792.0        0.642         -1.52   \n",
       "\n",
       "           day_len_hr  surface_pressure_bars  rings  geometric_albedo  \\\n",
       "Mars_low         24.7                   0.47      0              0.15   \n",
       "Mars_high        24.7                   4.00      0              0.15   \n",
       "\n",
       "           density_kg_m3  magnetic_field  orbital_inclination_degrees  type  \\\n",
       "Mars_low            3933               0                          1.9     2   \n",
       "Mars_high           3933               0                          1.9     2   \n",
       "\n",
       "           rotation_period_hr  \n",
       "Mars_low                 24.6  \n",
       "Mars_high                24.6  "
      ]
     },
     "execution_count": 13,
     "metadata": {},
     "output_type": "execute_result"
    }
   ],
   "source": [
    "predict_on = select_df.loc[['Mars'], :]\n",
    "predict_on = pd.concat([predict_on]*2)\n",
    "# predict_on = predict_on.loc[np.repeat(predict_on.index, 2)]\n",
    "predict_on.index = ['Mars_low', 'Mars_high']\n",
    "predict_on.loc['Mars_low', 'surface_pressure_bars'] = 0.47\n",
    "# Based on pressure on Mt Everest\n",
    "predict_on.loc['Mars_high', 'surface_pressure_bars'] = 4\n",
    "# Based on nigrogen narcosis experienced by divers\n",
    "predict_on"
   ]
  },
  {
   "cell_type": "markdown",
   "metadata": {},
   "source": [
    "#### Stymied\n",
    "\n",
    "No way to apply same scaling - the standard deviation of these two values would be different than that of the full dataset."
   ]
  },
  {
   "cell_type": "code",
   "execution_count": null,
   "metadata": {},
   "outputs": [],
   "source": []
  }
 ],
 "metadata": {
  "kernelspec": {
   "display_name": "Python 3",
   "language": "python",
   "name": "python3"
  },
  "language_info": {
   "codemirror_mode": {
    "name": "ipython",
    "version": 3
   },
   "file_extension": ".py",
   "mimetype": "text/x-python",
   "name": "python",
   "nbconvert_exporter": "python",
   "pygments_lexer": "ipython3",
   "version": "3.7.6"
  }
 },
 "nbformat": 4,
 "nbformat_minor": 4
}
