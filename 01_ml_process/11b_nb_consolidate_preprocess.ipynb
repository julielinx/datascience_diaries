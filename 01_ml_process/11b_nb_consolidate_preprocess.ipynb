{
 "cells": [
  {
   "cell_type": "markdown",
   "metadata": {},
   "source": [
    "# Entry 11 notebook - Consolidate Pre-processing - QSAR Fish Toxicity"
   ]
  },
  {
   "cell_type": "code",
   "execution_count": 1,
   "metadata": {},
   "outputs": [],
   "source": [
    "import numpy as np\n",
    "import pandas as pd\n",
    "import matplotlib.pyplot as plt\n",
    "import seaborn as sns\n",
    "%matplotlib inline\n",
    "plt.style.use('seaborn')\n",
    "\n",
    "from sklearn.model_selection import train_test_split\n",
    "from sklearn.preprocessing import StandardScaler\n",
    "from sklearn.linear_model import LinearRegression\n",
    "import category_encoders as ce"
   ]
  },
  {
   "cell_type": "markdown",
   "metadata": {},
   "source": [
    "### Custom functions"
   ]
  },
  {
   "cell_type": "code",
   "execution_count": 2,
   "metadata": {},
   "outputs": [],
   "source": [
    "def split_data(df, target, train_size):\n",
    "    y = df[[target]]\n",
    "    X = df.drop(target, axis=1)\n",
    "    X_train, X_test, y_train, y_test = train_test_split(X, y, test_size=train_size, random_state=12)\n",
    "    return X_train, X_test, y_train, y_test\n",
    "\n",
    "def define_reserve(X_test, y_test):\n",
    "    X_test, X_reserve, y_test, y_reserve = train_test_split(X_test, y_test, test_size = 0.5, random_state=12)\n",
    "    return X_test, X_reserve, y_test, y_reserve"
   ]
  },
  {
   "cell_type": "code",
   "execution_count": 3,
   "metadata": {},
   "outputs": [],
   "source": [
    "def feature_corr_coll(train_df, target, test_df, corr_type='spearman'):\n",
    "    target_corr = pd.DataFrame(train_df.corrwith(target, axis=0, method=corr_type).reset_index()).rename(columns={0:corr_type})\n",
    "    target_corr['abs'] = target_corr[corr_type].abs()\n",
    "    top_features = target_corr[target_corr['abs'] >= 0.5].sort_values('abs', ascending=False)['index'].tolist()\n",
    "    df_top = train_df[top_features]\n",
    "    feature_corr = df_top.corr(method=corr_type)\n",
    "    \n",
    "    collinear_features = set()\n",
    "    for i in range(len(feature_corr.columns)):\n",
    "        sliced_matrix = feature_corr.iloc[i, :i]\n",
    "        if sum(sliced_matrix[abs(sliced_matrix) > 0.9]):\n",
    "            colname = feature_corr.columns[i]\n",
    "            collinear_features.add(colname)\n",
    "    collinear_features = list(collinear_features)\n",
    "    df_train = df_top.drop(collinear_features, axis=1)\n",
    "    \n",
    "    select_features = df_train.columns.tolist()\n",
    "    df_test = test_df[select_features]\n",
    "    \n",
    "    return df_train, df_test"
   ]
  },
  {
   "cell_type": "code",
   "execution_count": 4,
   "metadata": {},
   "outputs": [],
   "source": [
    "def preprocess_data(train_df, test_df, scaler=StandardScaler(), encoder=ce.OrdinalEncoder):\n",
    "    index = train_df.index.tolist()\n",
    "    test_index = test_df.index.tolist()\n",
    "    \n",
    "    num_features = train_df.select_dtypes('number').columns.tolist()    \n",
    "    num_scale = scaler.fit_transform(train_df[num_features])\n",
    "    train_num_df = pd.DataFrame(num_scale, columns=num_features, index=index)\n",
    "    \n",
    "    test_num_scale = scaler.transform(test_df[num_features])\n",
    "    test_num_df = pd.DataFrame(test_num_scale, columns=num_features, index=test_index)\n",
    "    \n",
    "    cat_features = train_df.select_dtypes('object').columns.tolist()\n",
    "    cat_encoder = encoder(cols=cat_features)\n",
    "    cat_encode = cat_encoder.fit_transform(train_df[cat_features])\n",
    "    train_cat_df = pd.DataFrame(cat_encode, columns=cat_features, index=index)\n",
    "    \n",
    "    test_cat_encode = cat_encoder.transform(test_df[cat_features])\n",
    "    test_cat_df = pd.DataFrame(test_cat_encode, columns=cat_features, index=test_index)\n",
    "    \n",
    "    train_df = pd.concat([train_num_df, train_cat_df], axis=1).fillna(-1)\n",
    "    test_df = pd.concat([test_num_df, test_cat_df], axis=1).fillna(-1)\n",
    "    \n",
    "    return train_df, test_df"
   ]
  },
  {
   "cell_type": "code",
   "execution_count": 5,
   "metadata": {},
   "outputs": [],
   "source": [
    "def train_and_predict(X_train, y_train, X_test, model=LinearRegression()):\n",
    "    model.fit(X_train, y_train)\n",
    "    preds = model.predict(X_test)\n",
    "    return model, preds"
   ]
  },
  {
   "cell_type": "markdown",
   "metadata": {},
   "source": [
    "# Get the Data\n",
    "\n",
    "## Data\n",
    "\n",
    "[QSAR fish toxicity Data Set](http://archive.ics.uci.edu/ml/datasets/QSAR+fish+toxicity) from UCI Machine Learning Repository.\n",
    "\n",
    "Number of observations: 908\n",
    "\n",
    "Number of Attributes (all integers): 7\n",
    "\n",
    "6 molecular descriptors and 1 quantitative experimental response: \n",
    "\n",
    "1. CIC0 \n",
    "2. SM1_Dz(Z) \n",
    "3. GATS1i \n",
    "4. NdsCH \n",
    "5. NdssC \n",
    "6. MLOGP \n",
    "7. quantitative response, LC50 [-LOG(mol/L)]"
   ]
  },
  {
   "cell_type": "code",
   "execution_count": 6,
   "metadata": {},
   "outputs": [
    {
     "data": {
      "text/html": [
       "<div>\n",
       "<style scoped>\n",
       "    .dataframe tbody tr th:only-of-type {\n",
       "        vertical-align: middle;\n",
       "    }\n",
       "\n",
       "    .dataframe tbody tr th {\n",
       "        vertical-align: top;\n",
       "    }\n",
       "\n",
       "    .dataframe thead th {\n",
       "        text-align: right;\n",
       "    }\n",
       "</style>\n",
       "<table border=\"1\" class=\"dataframe\">\n",
       "  <thead>\n",
       "    <tr style=\"text-align: right;\">\n",
       "      <th></th>\n",
       "      <th>cico</th>\n",
       "      <th>sm1_dz</th>\n",
       "      <th>gats1i</th>\n",
       "      <th>ndsch</th>\n",
       "      <th>ndssc</th>\n",
       "      <th>mlogp</th>\n",
       "      <th>response</th>\n",
       "    </tr>\n",
       "  </thead>\n",
       "  <tbody>\n",
       "    <tr>\n",
       "      <th>0</th>\n",
       "      <td>3.260</td>\n",
       "      <td>0.829</td>\n",
       "      <td>1.676</td>\n",
       "      <td>0</td>\n",
       "      <td>1</td>\n",
       "      <td>1.453</td>\n",
       "      <td>3.770</td>\n",
       "    </tr>\n",
       "    <tr>\n",
       "      <th>1</th>\n",
       "      <td>2.189</td>\n",
       "      <td>0.580</td>\n",
       "      <td>0.863</td>\n",
       "      <td>0</td>\n",
       "      <td>0</td>\n",
       "      <td>1.348</td>\n",
       "      <td>3.115</td>\n",
       "    </tr>\n",
       "    <tr>\n",
       "      <th>2</th>\n",
       "      <td>2.125</td>\n",
       "      <td>0.638</td>\n",
       "      <td>0.831</td>\n",
       "      <td>0</td>\n",
       "      <td>0</td>\n",
       "      <td>1.348</td>\n",
       "      <td>3.531</td>\n",
       "    </tr>\n",
       "    <tr>\n",
       "      <th>3</th>\n",
       "      <td>3.027</td>\n",
       "      <td>0.331</td>\n",
       "      <td>1.472</td>\n",
       "      <td>1</td>\n",
       "      <td>0</td>\n",
       "      <td>1.807</td>\n",
       "      <td>3.510</td>\n",
       "    </tr>\n",
       "    <tr>\n",
       "      <th>4</th>\n",
       "      <td>2.094</td>\n",
       "      <td>0.827</td>\n",
       "      <td>0.860</td>\n",
       "      <td>0</td>\n",
       "      <td>0</td>\n",
       "      <td>1.886</td>\n",
       "      <td>5.390</td>\n",
       "    </tr>\n",
       "  </tbody>\n",
       "</table>\n",
       "</div>"
      ],
      "text/plain": [
       "    cico  sm1_dz  gats1i  ndsch  ndssc  mlogp  response\n",
       "0  3.260   0.829   1.676      0      1  1.453     3.770\n",
       "1  2.189   0.580   0.863      0      0  1.348     3.115\n",
       "2  2.125   0.638   0.831      0      0  1.348     3.531\n",
       "3  3.027   0.331   1.472      1      0  1.807     3.510\n",
       "4  2.094   0.827   0.860      0      0  1.886     5.390"
      ]
     },
     "execution_count": 6,
     "metadata": {},
     "output_type": "execute_result"
    }
   ],
   "source": [
    "columns = ['cico', 'sm1_dz', 'gats1i', 'ndsch', 'ndssc', 'mlogp', 'response']\n",
    "raw_df = pd.read_csv('http://archive.ics.uci.edu/ml/machine-learning-databases/00504/qsar_fish_toxicity.csv', sep=';', header=None, names=columns)\n",
    "raw_df.head()"
   ]
  },
  {
   "cell_type": "code",
   "execution_count": null,
   "metadata": {},
   "outputs": [],
   "source": []
  },
  {
   "cell_type": "code",
   "execution_count": 7,
   "metadata": {},
   "outputs": [
    {
     "data": {
      "text/plain": [
       "array([[3.40293761],\n",
       "       [4.26797301],\n",
       "       [3.9204561 ],\n",
       "       [4.29247837],\n",
       "       [3.01448359]])"
      ]
     },
     "execution_count": 7,
     "metadata": {},
     "output_type": "execute_result"
    }
   ],
   "source": [
    "X_train, X_test, y_train, y_test = split_data(raw_df, 'response', 0.6)\n",
    "X_train, X_test = preprocess_data(X_train, X_test)\n",
    "X_test, X_reserve, y_test, y_reserve = define_reserve(X_test, y_test)\n",
    "model, preds = train_and_predict(X_train, y_train, X_test)\n",
    "preds[:5]"
   ]
  },
  {
   "cell_type": "code",
   "execution_count": null,
   "metadata": {},
   "outputs": [],
   "source": []
  }
 ],
 "metadata": {
  "kernelspec": {
   "display_name": "Python 3",
   "language": "python",
   "name": "python3"
  },
  "language_info": {
   "codemirror_mode": {
    "name": "ipython",
    "version": 3
   },
   "file_extension": ".py",
   "mimetype": "text/x-python",
   "name": "python",
   "nbconvert_exporter": "python",
   "pygments_lexer": "ipython3",
   "version": "3.7.6"
  }
 },
 "nbformat": 4,
 "nbformat_minor": 4
}
