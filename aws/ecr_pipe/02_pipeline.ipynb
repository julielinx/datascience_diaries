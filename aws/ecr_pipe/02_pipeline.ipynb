{
 "cells": [
  {
   "cell_type": "markdown",
   "id": "7e4708ac-03b5-4780-8438-39f08ccb5344",
   "metadata": {
    "tags": []
   },
   "source": [
    "# Define Pipeline with Sklearn Model(s)"
   ]
  },
  {
   "cell_type": "markdown",
   "id": "c6e7db80-99eb-4120-8e66-5e9aec0453b8",
   "metadata": {},
   "source": [
    "## Load libraries"
   ]
  },
  {
   "cell_type": "code",
   "execution_count": 1,
   "id": "5f76fb59-6870-4d90-8db2-85285e555cf5",
   "metadata": {
    "tags": []
   },
   "outputs": [
    {
     "name": "stdout",
     "output_type": "stream",
     "text": [
      "sagemaker.config INFO - Not applying SDK defaults from location: /etc/xdg/sagemaker/config.yaml\n",
      "sagemaker.config INFO - Not applying SDK defaults from location: /home/sagemaker-user/.config/sagemaker/config.yaml\n"
     ]
    }
   ],
   "source": [
    "import os\n",
    "import json\n",
    "import yaml\n",
    "import string\n",
    "import boto3\n",
    "\n",
    "import sagemaker\n",
    "import sagemaker.session\n",
    "from sagemaker.workflow.pipeline_context import PipelineSession\n",
    "from sagemaker.workflow.functions import Join\n",
    "from sagemaker.workflow.pipeline import Pipeline\n",
    "from sagemaker.processing import ScriptProcessor, ProcessingInput, ProcessingOutput\n",
    "from sagemaker.inputs import TrainingInput\n",
    "from sagemaker.workflow.steps import ProcessingStep, TrainingStep, TransformStep, CacheConfig\n",
    "from sagemaker.estimator import Estimator\n",
    "from sagemaker.model import Model\n",
    "from sagemaker.workflow.model_step import ModelStep\n",
    "from sagemaker.model_metrics import MetricsSource, ModelMetrics\n",
    "from sagemaker.workflow.step_collections import RegisterModel\n",
    "from sagemaker.workflow.conditions import ConditionLessThanOrEqualTo, ConditionGreaterThanOrEqualTo\n",
    "from sagemaker.workflow.condition_step import ConditionStep\n",
    "from sagemaker.workflow.functions import JsonGet\n",
    "from sagemaker.workflow.properties import PropertyFile\n",
    "\n",
    "from sagemaker.workflow.parameters import (\n",
    "    ParameterInteger,\n",
    "    ParameterString,\n",
    "    ParameterFloat\n",
    ")"
   ]
  },
  {
   "cell_type": "markdown",
   "id": "e314a34f-ec4e-410a-a20e-b71ac6985028",
   "metadata": {},
   "source": [
    "## Define session variables"
   ]
  },
  {
   "cell_type": "code",
   "execution_count": 2,
   "id": "3d538177-1adf-4437-b2fe-516386c6eb6e",
   "metadata": {},
   "outputs": [],
   "source": [
    "with open('param_config.yaml', 'r') as config_file:\n",
    "    config_params = yaml.safe_load(config_file)"
   ]
  },
  {
   "cell_type": "code",
   "execution_count": 3,
   "id": "d8405a65-b85e-4f10-8cf0-1bef9aec0b3f",
   "metadata": {
    "tags": []
   },
   "outputs": [],
   "source": [
    "model_description = config_params['model_description']\n",
    "\n",
    "bucket = config_params['bucket']\n",
    "prod_uri = f's3://{bucket}'\n",
    "\n",
    "pipeline_name = config_params['use_case']\n",
    "model_package_group_name = config_params['use_case']\n",
    "\n",
    "timestamp_suffix = config_params['timestamp_suffix']\n",
    "\n",
    "model_script = config_params['model_script']\n",
    "tune_model_script = config_params['tune_model_script']\n",
    "eval_script = config_params['eval_script']\n",
    "processor_dir = config_params['processor_dir']\n",
    "\n",
    "process_input_path = \"/opt/ml/processing/input\"\n",
    "process_output_path = \"/opt/ml/processing/output\""
   ]
  },
  {
   "cell_type": "code",
   "execution_count": 4,
   "id": "6786bb34-7f9c-4806-a623-03e70735b64f",
   "metadata": {},
   "outputs": [],
   "source": [
    "session = sagemaker.session.Session()\n",
    "pipe_session= PipelineSession()\n",
    "region = session.boto_region_name\n",
    "role = sagemaker.get_execution_role()\n",
    "account_id = session.account_id()\n",
    "\n",
    "image_uri_tag = config_params['image_uri_tag']\n",
    "image_uri = f\"{account_id}.dkr.ecr.{region}.amazonaws.com/frm-svcs:{image_uri_tag}\"\n",
    "# image_uri = f\"{account_id}.dkr.ecr.{region}.amazonaws.com/frm-svcs:\""
   ]
  },
  {
   "cell_type": "markdown",
   "id": "e9d557ee-5ae0-49ce-91aa-8d271b37fb54",
   "metadata": {},
   "source": [
    "## Define Pipeline parameters"
   ]
  },
  {
   "cell_type": "code",
   "execution_count": 5,
   "id": "ddb1db35-ee0d-45df-96ee-052248d80714",
   "metadata": {
    "tags": []
   },
   "outputs": [],
   "source": [
    "param_list = []\n",
    "step_list = []"
   ]
  },
  {
   "cell_type": "code",
   "execution_count": 6,
   "id": "963ab91d-ee16-4d05-bd19-9eb5d1193315",
   "metadata": {
    "tags": []
   },
   "outputs": [],
   "source": [
    "train_size = ParameterString(name='TrainSize', default_value=config_params['train_size'])\n",
    "param_list.append(train_size)\n",
    "\n",
    "step_cache_config = CacheConfig(enable_caching=True, expire_after=config_params['step_cache_config'])\n",
    "param_list.append(step_cache_config)\n",
    "\n",
    "folder_date = config_params['folder_date']\n",
    "target_name = config_params['target_name']\n",
    "\n",
    "sample_size = config_params['sample_size']\n",
    "predictability = config_params['predictability']\n",
    "target_rate = config_params['target_rate']\n",
    "\n",
    "processing_instance_count = config_params['processing_instance_count']\n",
    "processing_instance_type = config_params['processing_instance_type']\n",
    "training_instance_type = config_params['training_instance_type']\n",
    "training_instance_count = config_params['training_instance_count']\n",
    "inference_instance_type = config_params['inference_instance_type']\n",
    "\n",
    "max_automl_runtime = config_params['max_automl_runtime'] \n",
    "model_approval_status = config_params['model_approval_status']\n",
    "model_registration_metric_threshold = config_params['model_registration_metric_threshold']\n",
    "\n",
    "model_name = config_params['model_description']\n",
    "data_path = config_params['data_path']"
   ]
  },
  {
   "cell_type": "code",
   "execution_count": 7,
   "id": "273516ee-c71b-45c4-a990-454b7a302698",
   "metadata": {},
   "outputs": [],
   "source": [
    "tags = [\n",
    "    {\"Key\": \"PLATFORM\", \"Value\": \"FO-ML\"},\n",
    "    {\"Key\": \"BUSINESS_REGION\", \"Value\": \"GLOBAL\"},\n",
    "    {\"Key\": \"BUSINESS_UNIT\", \"Value\": \"MOBILITY\"},\n",
    "    {\"Key\": \"CLIENT\", \"Value\": \"MULTI_TENANT\"}\n",
    "   ]\n",
    "\n",
    "meta_data = {\"target\": target_name,\n",
    "             \"model-name\": config_params['model_description'],\n",
    "             \"program-name\": config_params['use_case'],\n",
    "             \"train_data\": folder_date,\n",
    "             \"train_date\": timestamp_suffix}"
   ]
  },
  {
   "cell_type": "markdown",
   "id": "795874b0-54c8-4ffb-ab5f-197a7fab2146",
   "metadata": {},
   "source": [
    "## Define Data Processor"
   ]
  },
  {
   "cell_type": "code",
   "execution_count": 8,
   "id": "aa544664-ce88-4165-a40d-cda207fef4fb",
   "metadata": {},
   "outputs": [],
   "source": [
    "data_processor = ScriptProcessor(\n",
    "    image_uri=image_uri,\n",
    "    role=role,\n",
    "    command=['python3'],\n",
    "    instance_type=processing_instance_type,\n",
    "    instance_count=processing_instance_count,\n",
    "    sagemaker_session=pipe_session,\n",
    "    base_job_name='{}-{}'.format(model_name, \"processor\"))"
   ]
  },
  {
   "cell_type": "markdown",
   "id": "89b52e76-197a-4224-9ed9-52e9de6b9de2",
   "metadata": {},
   "source": [
    "# 1a. Create Data and Split"
   ]
  },
  {
   "cell_type": "code",
   "execution_count": 9,
   "id": "e4bce828-55c5-4f8b-a84d-8154fb3979a6",
   "metadata": {
    "tags": []
   },
   "outputs": [],
   "source": [
    "step_combine_split = ProcessingStep(\n",
    "    name=\"{}-01c_creat_split\".format(model_name),\n",
    "    processor=data_processor,\n",
    "    outputs=[\n",
    "        ProcessingOutput(\n",
    "            output_name=\"train\",\n",
    "            source=Join(\n",
    "                on=\"/\",\n",
    "                values=[\n",
    "                    process_output_path,\n",
    "                    \"train\"]),\n",
    "            destination=\"{}/{}/{}\".format(bucket, model_name, 'train')),\n",
    "        ProcessingOutput(\n",
    "            output_name=\"validate\",\n",
    "            source=Join(\n",
    "                on=\"/\",\n",
    "                values=[\n",
    "                    process_output_path,\n",
    "                    \"validate\"]),\n",
    "            destination=\"{}/{}/{}\".format(bucket, model_name, 'validate')),\n",
    "        ProcessingOutput(\n",
    "            output_name=\"test\",\n",
    "            source=Join(\n",
    "                on=\"/\",\n",
    "                values=[\n",
    "                    process_output_path,\n",
    "                    \"test\"]),\n",
    "            destination=\"{}/{}/{}\".format(bucket, model_name, 'test')),\n",
    "    ],\n",
    "    job_arguments=[\"--target-name\", target_name,\n",
    "                   \"--target-rate\", target_rate,\n",
    "                   \"--sample-size\", sample_size,\n",
    "                   '--predictability', predictability,\n",
    "                   '--train-size', train_size,\n",
    "                   '--input-path', process_input_path,\n",
    "                   '--output-path', process_output_path],\n",
    "    code=\"create_data.py\",\n",
    "    cache_config=step_cache_config)\n",
    "step_list.append(step_combine_split)"
   ]
  },
  {
   "cell_type": "markdown",
   "id": "07727a53-d8fc-47ea-b0f9-f5b9cce95bc3",
   "metadata": {},
   "source": [
    "## 3a. Train Model"
   ]
  },
  {
   "cell_type": "code",
   "execution_count": 10,
   "id": "abf9cc42-bfc9-4234-88a3-e75a0ba09820",
   "metadata": {
    "tags": []
   },
   "outputs": [],
   "source": [
    "with open(os.path.join(processor_dir, \"algo_dict.json\")) as ad:\n",
    "    algo_dict = json.loads(ad.read())"
   ]
  },
  {
   "cell_type": "code",
   "execution_count": 11,
   "id": "08c2364b-63af-41ec-afeb-d11cfe02832d",
   "metadata": {
    "tags": []
   },
   "outputs": [],
   "source": [
    "train_processor = ScriptProcessor(\n",
    "    image_uri=image_uri,\n",
    "    role=role,\n",
    "    command=['python3'],\n",
    "    instance_type=training_instance_type,\n",
    "    instance_count=processing_instance_count,\n",
    "    sagemaker_session=pipe_session,\n",
    "    base_job_name=\"{}-{}\".format(model_name, 'trainer'))"
   ]
  },
  {
   "cell_type": "code",
   "execution_count": 12,
   "id": "65c6bc8e-cc83-47a8-8b57-c2743f441a6d",
   "metadata": {
    "tags": []
   },
   "outputs": [
    {
     "name": "stderr",
     "output_type": "stream",
     "text": [
      "/opt/conda/lib/python3.11/site-packages/sagemaker/workflow/pipeline_context.py:332: UserWarning: Running within a PipelineSession, there will be No Wait, No Logs, and No Job being started.\n",
      "  warnings.warn(\n"
     ]
    }
   ],
   "source": [
    "algo_list = list(algo_dict.keys())\n",
    "alphabet = list(string.ascii_lowercase)\n",
    "results_path = os.path.join(prod_uri, model_name, \"train_result_metrics\")\n",
    "basemodel_steps = []\n",
    "\n",
    "for i, algo in enumerate(algo_list):\n",
    "    counter = alphabet[i]\n",
    "    \n",
    "    train_args = train_processor.run(\n",
    "        code=model_script,\n",
    "        # source_dir=processor_dir,\n",
    "        inputs=[\n",
    "            ProcessingInput(\n",
    "                source=step_combine_split.properties.ProcessingOutputConfig.Outputs[\"train\"].S3Output.S3Uri,\n",
    "                destination=process_input_path)],\n",
    "        outputs=[\n",
    "            ProcessingOutput(\n",
    "                output_name=\"train_results\",\n",
    "                source=process_output_path,\n",
    "                destination=results_path)],\n",
    "        arguments = ['--target', target_name,\n",
    "                     \"--train-size\", train_size,\n",
    "                     \"--algo-name\", algo,\n",
    "                     '--input-path', process_input_path,\n",
    "                     '--output-path', process_output_path])\n",
    "    \n",
    "    train_base_model = ProcessingStep(\n",
    "        name=\"{}-03{}_base_model_{}\".format(model_name, counter, algo)[:64],\n",
    "        step_args=train_args,\n",
    "        cache_config=step_cache_config)\n",
    "    \n",
    "    step_list.append(train_base_model)\n",
    "    basemodel_steps.append(train_base_model)"
   ]
  },
  {
   "cell_type": "markdown",
   "id": "95d12fb0-ea2c-4156-a140-76dc9b66f160",
   "metadata": {
    "tags": []
   },
   "source": [
    "# 3b Eval Baseline Models"
   ]
  },
  {
   "cell_type": "code",
   "execution_count": 13,
   "id": "37e6b0ae-c7a1-4e51-8391-f3160406f3e3",
   "metadata": {},
   "outputs": [],
   "source": [
    "step_best_algo = ProcessingStep(\n",
    "    name=\"{}-03_best_algo\".format(model_name),\n",
    "    processor=data_processor,\n",
    "    inputs=[\n",
    "        ProcessingInput(\n",
    "            source=results_path,\n",
    "            destination=process_input_path)],\n",
    "    outputs=[\n",
    "        ProcessingOutput(\n",
    "            output_name=\"baseline_metrics\",\n",
    "            source=process_output_path,\n",
    "            destination=\"{}/{}/{}\".format(bucket, model_name, 'baseline_metrics'))\n",
    "    ],\n",
    "    code=\"eval_basemodels.py\",\n",
    "    job_arguments = ['--input-path', process_input_path,\n",
    "                 '--output-path', process_output_path],\n",
    "    cache_config=step_cache_config,\n",
    "    depends_on=basemodel_steps)\n",
    "step_list.append(step_best_algo)"
   ]
  },
  {
   "cell_type": "markdown",
   "id": "7af83708-b7b1-4041-8b60-dd8401a1f116",
   "metadata": {},
   "source": [
    "# 3c. Tune Model"
   ]
  },
  {
   "cell_type": "code",
   "execution_count": 14,
   "id": "869e62e0-384f-425c-9549-be37b9df455c",
   "metadata": {},
   "outputs": [
    {
     "name": "stderr",
     "output_type": "stream",
     "text": [
      "/opt/conda/lib/python3.11/site-packages/sagemaker/workflow/steps.py:485: UserWarning: Profiling is enabled on the provided estimator. The default profiler rule includes a timestamp which will change each time the pipeline is upserted, causing cache misses. If profiling is not needed, set disable_profiler to True on the estimator.\n",
      "  warnings.warn(msg)\n"
     ]
    }
   ],
   "source": [
    "model = Estimator(\n",
    "    entry_point=tune_model_script,\n",
    "    image_uri=image_uri,\n",
    "    role=role,\n",
    "    instance_type=training_instance_type,\n",
    "    instance_count=training_instance_count,\n",
    "    sagemaker_session=pipe_session,\n",
    "    hyperparameters = {'target':target_name,\n",
    "                       \"train-size\":train_size},\n",
    "    output_path=prod_uri,\n",
    "    max_run=259200)\n",
    "\n",
    "step_tune_model = TrainingStep(\n",
    "    name=\"{}-03_tune_model\".format(model_name),\n",
    "    estimator=model,\n",
    "    inputs={\n",
    "        'train_data':TrainingInput(\n",
    "            s3_data=step_combine_split.properties.ProcessingOutputConfig.Outputs[\"train\"].S3Output.S3Uri,\n",
    "            content_type='application/x-parquet'),\n",
    "        'validate_data':TrainingInput(\n",
    "            s3_data=step_combine_split.properties.ProcessingOutputConfig.Outputs[\"validate\"].S3Output.S3Uri,            \n",
    "            content_type='application/x-parquet'),\n",
    "        'metric_data':TrainingInput(\n",
    "            s3_data=step_best_algo.properties.ProcessingOutputConfig.Outputs[\"baseline_metrics\"].S3Output.S3Uri,\n",
    "            content_type='application/x-parquet')\n",
    "    },\n",
    "    cache_config=step_cache_config)\n",
    "step_list.append(step_tune_model)\n",
    "\n",
    "\n",
    "estimator_model = Model(\n",
    "    name=\"{}-03b_TrainedModel\".format(model_name),\n",
    "    image_uri=image_uri,\n",
    "    model_data=step_tune_model.properties.ModelArtifacts.S3ModelArtifacts,\n",
    "    role=role,\n",
    "    sagemaker_session=pipe_session,\n",
    "    entry_point=tune_model_script)\n",
    "\n",
    "step_create_model = ModelStep(\n",
    "    name=\"{}-03c\".format(model_name),\n",
    "    step_args=estimator_model.create(\n",
    "        instance_type=inference_instance_type,\n",
    "        tags=tags))\n",
    "step_list.append(step_create_model)"
   ]
  },
  {
   "cell_type": "markdown",
   "id": "5516956f-97d2-45c7-b47d-52e71888e026",
   "metadata": {},
   "source": [
    "## 4. Evaluate Model"
   ]
  },
  {
   "cell_type": "code",
   "execution_count": 15,
   "id": "4da0f2e8-b973-45e9-a16e-7d3e5f0a8e25",
   "metadata": {},
   "outputs": [
    {
     "name": "stderr",
     "output_type": "stream",
     "text": [
      "WARNING:sagemaker.workflow.utilities:Popping out 'ProcessingJobName' from the pipeline definition by default since it will be overridden at pipeline execution time. Please utilize the PipelineDefinitionConfig to persist this field in the pipeline definition if desired.\n"
     ]
    }
   ],
   "source": [
    "evaluation_report = PropertyFile(\n",
    "    name=\"{}-04a_evaluation\".format(model_name),\n",
    "    output_name=\"evaluation_metrics\",\n",
    "    path=\"evaluation.json\")\n",
    "\n",
    "eval_processor = ScriptProcessor(\n",
    "    image_uri=image_uri,\n",
    "    role=role,\n",
    "    command=['python3'],\n",
    "    instance_type=processing_instance_type,\n",
    "    instance_count=processing_instance_count,\n",
    "    sagemaker_session=pipe_session)\n",
    "\n",
    "eval_args = eval_processor.run(\n",
    "    code=\"evaluate.py\",\n",
    "    inputs=[\n",
    "        ProcessingInput(\n",
    "            source=step_tune_model.properties.ModelArtifacts.S3ModelArtifacts,\n",
    "            destination=\"/opt/ml/processing/input/model\"),\n",
    "        ProcessingInput(\n",
    "            source=step_combine_split.properties.ProcessingOutputConfig.Outputs[\"test\"].S3Output.S3Uri,\n",
    "            destination=\"/opt/ml/processing/input/test\")],\n",
    "    outputs=[\n",
    "        ProcessingOutput(\n",
    "            output_name=\"evaluation_metrics\",\n",
    "            source=\"/opt/ml/processing/evaluation\",\n",
    "            destination=\"{}/{}/{}\".format(bucket, model_name, 'evaluation'))\n",
    "    ],\n",
    "    arguments = [\"--target\", target_name,\n",
    "                 # '--input-path', process_input_path,\n",
    "                 # '--output-path', process_output_path\n",
    "                ])\n",
    "    \n",
    "step_evaluation = ProcessingStep(\n",
    "    name=\"{}-04b_evalStep\".format(model_name),\n",
    "    step_args=eval_args,\n",
    "    property_files=[evaluation_report],\n",
    "    cache_config=step_cache_config)\n",
    "step_list.append(step_evaluation)\n",
    "\n",
    "model_metrics = ModelMetrics(\n",
    "    model_statistics=MetricsSource(\n",
    "        s3_uri=Join(\n",
    "            on='/',\n",
    "            values=[\n",
    "                step_evaluation.arguments[\"ProcessingOutputConfig\"][\"Outputs\"][0]['S3Output']['S3Uri'],\n",
    "                'evaluation.json']),\n",
    "        content_type='application/json'),\n",
    "    explainability=MetricsSource(\n",
    "        s3_uri=step_tune_model.properties.ModelArtifacts.S3ModelArtifacts,\n",
    "        content_type=\"application/json\"))"
   ]
  },
  {
   "cell_type": "markdown",
   "id": "323f9152-1eab-4adc-a414-b8b4058dd8c0",
   "metadata": {},
   "source": [
    "## 5. Register Model on Conditional"
   ]
  },
  {
   "cell_type": "code",
   "execution_count": 16,
   "id": "30da9740-a122-4c08-8bd5-57592c97305b",
   "metadata": {
    "tags": []
   },
   "outputs": [],
   "source": [
    "step_register_model = RegisterModel(\n",
    "    name=model_name,\n",
    "    model=estimator_model,\n",
    "    content_types=[\"application/json\"],\n",
    "    response_types=[\"application/json\"],\n",
    "    inference_instances=[inference_instance_type],\n",
    "    transform_instances=[inference_instance_type],\n",
    "    model_package_group_name=model_package_group_name,\n",
    "    approval_status=model_approval_status,\n",
    "    customer_metadata_properties=meta_data,\n",
    "    model_metrics=model_metrics,\n",
    "    description=model_description)\n",
    "# step_list.append(step_register_model)\n",
    "\n",
    "step_conditional_registration = ConditionStep(\n",
    "    name=\"{}-05a_ConditionalRegistration\".format(model_name),\n",
    "    conditions=[\n",
    "        ConditionGreaterThanOrEqualTo(\n",
    "            left=JsonGet(\n",
    "                step_name=step_evaluation.name,\n",
    "                property_file=evaluation_report,\n",
    "                json_path=\"binary_classification_metrics.f1.value\"),\n",
    "            right=model_registration_metric_threshold)],\n",
    "    if_steps=[step_register_model],\n",
    "    else_steps=[])\n",
    "step_list.append(step_conditional_registration)"
   ]
  },
  {
   "cell_type": "markdown",
   "id": "83fa1464-6c50-44d6-8a5d-5cfc4a297c1e",
   "metadata": {},
   "source": [
    "## Define Pipeline"
   ]
  },
  {
   "cell_type": "code",
   "execution_count": 17,
   "id": "8152bbbb-5982-4852-8c0d-7e83c373b5d8",
   "metadata": {
    "tags": []
   },
   "outputs": [],
   "source": [
    "pipeline = Pipeline(\n",
    "    name=pipeline_name,\n",
    "    parameters=param_list,\n",
    "    steps=step_list,\n",
    "    sagemaker_session=pipe_session)"
   ]
  },
  {
   "cell_type": "code",
   "execution_count": 21,
   "id": "ebfea46f-cee7-4f82-b0d2-6f2e1488ba78",
   "metadata": {},
   "outputs": [
    {
     "data": {
      "text/plain": [
       "<sagemaker.workflow.pipeline.Pipeline at 0x7fec091dce50>"
      ]
     },
     "execution_count": 21,
     "metadata": {},
     "output_type": "execute_result"
    }
   ],
   "source": [
    "pipeline"
   ]
  },
  {
   "cell_type": "code",
   "execution_count": 22,
   "id": "13aec586-3cbd-4c1b-8079-2a0044bce477",
   "metadata": {},
   "outputs": [
    {
     "data": {
      "text/plain": [
       "'smpl'"
      ]
     },
     "execution_count": 22,
     "metadata": {},
     "output_type": "execute_result"
    }
   ],
   "source": [
    "pipeline_name"
   ]
  },
  {
   "cell_type": "code",
   "execution_count": 23,
   "id": "ab564da5-990c-42b7-9bad-c89ee06c0aa3",
   "metadata": {},
   "outputs": [
    {
     "data": {
      "text/plain": [
       "[ParameterString(name='TrainSize', parameter_type=<ParameterTypeEnum.STRING: 'String'>, default_value='0.8'),\n",
       " CacheConfig(enable_caching=True, expire_after='PT24H')]"
      ]
     },
     "execution_count": 23,
     "metadata": {},
     "output_type": "execute_result"
    }
   ],
   "source": [
    "param_list"
   ]
  },
  {
   "cell_type": "code",
   "execution_count": 24,
   "id": "824b8631-d578-47b4-9772-9fb3fd8c3d9e",
   "metadata": {},
   "outputs": [
    {
     "data": {
      "text/plain": [
       "[<sagemaker.workflow.steps.ProcessingStep at 0x7fec0a465a90>,\n",
       " <sagemaker.workflow.steps.ProcessingStep at 0x7fec08352cd0>,\n",
       " <sagemaker.workflow.steps.ProcessingStep at 0x7fec08a76b10>,\n",
       " <sagemaker.workflow.steps.ProcessingStep at 0x7fec08a88a10>,\n",
       " <sagemaker.workflow.steps.ProcessingStep at 0x7fec08a8a590>,\n",
       " <sagemaker.workflow.steps.ProcessingStep at 0x7fec08a9c610>,\n",
       " <sagemaker.workflow.steps.ProcessingStep at 0x7fec08a9ded0>,\n",
       " <sagemaker.workflow.steps.ProcessingStep at 0x7fec08aaccd0>,\n",
       " <sagemaker.workflow.steps.ProcessingStep at 0x7fec08aaedd0>,\n",
       " <sagemaker.workflow.steps.ProcessingStep at 0x7fec08ab8a10>,\n",
       " <sagemaker.workflow.steps.ProcessingStep at 0x7fec08aba910>,\n",
       " <sagemaker.workflow.steps.TrainingStep at 0x7fec091ed350>,\n",
       " ModelStep(name='smpl10000samples20241211-03c', steps=[<sagemaker.workflow.steps.CreateModelStep object at 0x7fec0a732e10>], depends_on=None),\n",
       " <sagemaker.workflow.steps.ProcessingStep at 0x7fec08c32850>,\n",
       " <sagemaker.workflow.condition_step.ConditionStep at 0x7fec0931a590>]"
      ]
     },
     "execution_count": 24,
     "metadata": {},
     "output_type": "execute_result"
    }
   ],
   "source": [
    "step_list"
   ]
  },
  {
   "cell_type": "code",
   "execution_count": 26,
   "id": "d4a385e8-c30d-48c6-9dce-23022ed80f66",
   "metadata": {
    "scrolled": true
   },
   "outputs": [
    {
     "name": "stderr",
     "output_type": "stream",
     "text": [
      "WARNING:sagemaker.workflow.utilities:Popping out 'ProcessingJobName' from the pipeline definition by default since it will be overridden at pipeline execution time. Please utilize the PipelineDefinitionConfig to persist this field in the pipeline definition if desired.\n",
      "WARNING:sagemaker.workflow.utilities:Popping out 'ProcessingJobName' from the pipeline definition by default since it will be overridden at pipeline execution time. Please utilize the PipelineDefinitionConfig to persist this field in the pipeline definition if desired.\n",
      "WARNING:sagemaker.workflow.utilities:Popping out 'ProcessingJobName' from the pipeline definition by default since it will be overridden at pipeline execution time. Please utilize the PipelineDefinitionConfig to persist this field in the pipeline definition if desired.\n",
      "WARNING:sagemaker.workflow.utilities:Popping out 'ProcessingJobName' from the pipeline definition by default since it will be overridden at pipeline execution time. Please utilize the PipelineDefinitionConfig to persist this field in the pipeline definition if desired.\n",
      "WARNING:sagemaker.workflow.utilities:Popping out 'ProcessingJobName' from the pipeline definition by default since it will be overridden at pipeline execution time. Please utilize the PipelineDefinitionConfig to persist this field in the pipeline definition if desired.\n",
      "WARNING:sagemaker.workflow.utilities:Popping out 'ProcessingJobName' from the pipeline definition by default since it will be overridden at pipeline execution time. Please utilize the PipelineDefinitionConfig to persist this field in the pipeline definition if desired.\n",
      "WARNING:sagemaker.workflow.utilities:Popping out 'ProcessingJobName' from the pipeline definition by default since it will be overridden at pipeline execution time. Please utilize the PipelineDefinitionConfig to persist this field in the pipeline definition if desired.\n",
      "WARNING:sagemaker.workflow.utilities:Popping out 'ProcessingJobName' from the pipeline definition by default since it will be overridden at pipeline execution time. Please utilize the PipelineDefinitionConfig to persist this field in the pipeline definition if desired.\n",
      "WARNING:sagemaker.workflow.utilities:Popping out 'ProcessingJobName' from the pipeline definition by default since it will be overridden at pipeline execution time. Please utilize the PipelineDefinitionConfig to persist this field in the pipeline definition if desired.\n",
      "WARNING:sagemaker.workflow.utilities:Popping out 'ProcessingJobName' from the pipeline definition by default since it will be overridden at pipeline execution time. Please utilize the PipelineDefinitionConfig to persist this field in the pipeline definition if desired.\n",
      "WARNING:sagemaker.workflow.utilities:Popping out 'ProcessingJobName' from the pipeline definition by default since it will be overridden at pipeline execution time. Please utilize the PipelineDefinitionConfig to persist this field in the pipeline definition if desired.\n",
      "WARNING:sagemaker.workflow.utilities:Popping out 'TrainingJobName' from the pipeline definition by default since it will be overridden at pipeline execution time. Please utilize the PipelineDefinitionConfig to persist this field in the pipeline definition if desired.\n",
      "WARNING:sagemaker.workflow.utilities:Popping out 'ModelName' from the pipeline definition by default since it will be overridden at pipeline execution time. Please utilize the PipelineDefinitionConfig to persist this field in the pipeline definition if desired.\n",
      "WARNING:sagemaker.workflow.utilities:Popping out 'ProcessingJobName' from the pipeline definition by default since it will be overridden at pipeline execution time. Please utilize the PipelineDefinitionConfig to persist this field in the pipeline definition if desired.\n",
      "WARNING:sagemaker.workflow.utilities:Popping out 'TrainingJobName' from the pipeline definition by default since it will be overridden at pipeline execution time. Please utilize the PipelineDefinitionConfig to persist this field in the pipeline definition if desired.\n",
      "WARNING:sagemaker.workflow._utils:Popping out 'CertifyForMarketplace' from the pipeline definition since it will be overridden in pipeline execution time.\n",
      "WARNING:sagemaker.workflow.utilities:Popping out 'ModelPackageName' from the pipeline definition by default since it will be overridden at pipeline execution time. Please utilize the PipelineDefinitionConfig to persist this field in the pipeline definition if desired.\n"
     ]
    },
    {
     "data": {
      "text/plain": [
       "'{\"Version\": \"2020-12-01\", \"Metadata\": {}, \"Parameters\": [{\"Name\": \"TrainSize\", \"Type\": \"String\", \"DefaultValue\": \"0.8\"}], \"PipelineExperimentConfig\": {\"ExperimentName\": {\"Get\": \"Execution.PipelineName\"}, \"TrialName\": {\"Get\": \"Execution.PipelineExecutionId\"}}, \"Steps\": [{\"Name\": \"smpl10000samples20241211-01c_creat_split\", \"Type\": \"Processing\", \"Arguments\": {\"ProcessingResources\": {\"ClusterConfig\": {\"InstanceType\": \"ml.m5.large\", \"InstanceCount\": 1, \"VolumeSizeInGB\": 30}}, \"AppSpecification\": {\"ImageUri\": \"707031497630.dkr.ecr.us-east-1.amazonaws.com/frm-svcs:fit-fraudml-sagemaker-collab-20241121174423-54-76a346d\", \"ContainerArguments\": [\"--target-name\", \"target\", \"--target-rate\", 0.5, \"--sample-size\", 10000, \"--predictability\", 0.8, \"--train-size\", {\"Get\": \"Parameters.TrainSize\"}, \"--input-path\", \"/opt/ml/processing/input\", \"--output-path\", \"/opt/ml/processing/output\"], \"ContainerEntrypoint\": [\"python3\", \"/opt/ml/processing/input/code/create_data.py\"]}, \"RoleArn\": \"arn:aws:iam::888962879387:role/service-role/AmazonSageMaker-ExecutionRole-20220812T094291\", \"ProcessingInputs\": [{\"InputName\": \"code\", \"AppManaged\": false, \"S3Input\": {\"S3Uri\": \"s3://sagemaker-us-east-1-888962879387/smpl10000samples20241211-01c_creat_split-3deee05657c1af65d70fbaf9d983e97c/input/code/create_data.py\", \"LocalPath\": \"/opt/ml/processing/input/code\", \"S3DataType\": \"S3Prefix\", \"S3InputMode\": \"File\", \"S3DataDistributionType\": \"FullyReplicated\", \"S3CompressionType\": \"None\"}}], \"ProcessingOutputConfig\": {\"Outputs\": [{\"OutputName\": \"train\", \"AppManaged\": false, \"S3Output\": {\"S3Uri\": {\"Std:Join\": {\"On\": \"/\", \"Values\": [\"s3:/\", \"sagemaker-us-east-1-888962879387\", \"smpl\", {\"Get\": \"Execution.PipelineExecutionId\"}, \"smpl10000samples20241211-01c_creat_split\", \"output\", \"train\"]}}, \"LocalPath\": {\"Std:Join\": {\"On\": \"/\", \"Values\": [\"/opt/ml/processing/output\", \"train\"]}}, \"S3UploadMode\": \"EndOfJob\"}}, {\"OutputName\": \"validate\", \"AppManaged\": false, \"S3Output\": {\"S3Uri\": {\"Std:Join\": {\"On\": \"/\", \"Values\": [\"s3:/\", \"sagemaker-us-east-1-888962879387\", \"smpl\", {\"Get\": \"Execution.PipelineExecutionId\"}, \"smpl10000samples20241211-01c_creat_split\", \"output\", \"validate\"]}}, \"LocalPath\": {\"Std:Join\": {\"On\": \"/\", \"Values\": [\"/opt/ml/processing/output\", \"validate\"]}}, \"S3UploadMode\": \"EndOfJob\"}}, {\"OutputName\": \"test\", \"AppManaged\": false, \"S3Output\": {\"S3Uri\": {\"Std:Join\": {\"On\": \"/\", \"Values\": [\"s3:/\", \"sagemaker-us-east-1-888962879387\", \"smpl\", {\"Get\": \"Execution.PipelineExecutionId\"}, \"smpl10000samples20241211-01c_creat_split\", \"output\", \"test\"]}}, \"LocalPath\": {\"Std:Join\": {\"On\": \"/\", \"Values\": [\"/opt/ml/processing/output\", \"test\"]}}, \"S3UploadMode\": \"EndOfJob\"}}]}}, \"CacheConfig\": {\"Enabled\": true, \"ExpireAfter\": \"PT24H\"}}, {\"Name\": \"smpl10000samples20241211-03a_base_model_SGDClassifier\", \"Type\": \"Processing\", \"Arguments\": {\"ProcessingResources\": {\"ClusterConfig\": {\"InstanceType\": \"ml.m5.large\", \"InstanceCount\": 1, \"VolumeSizeInGB\": 30}}, \"AppSpecification\": {\"ImageUri\": \"707031497630.dkr.ecr.us-east-1.amazonaws.com/frm-svcs:fit-fraudml-sagemaker-collab-20241121174423-54-76a346d\", \"ContainerArguments\": [\"--target\", \"target\", \"--train-size\", {\"Get\": \"Parameters.TrainSize\"}, \"--algo-name\", \"SGDClassifier\", \"--input-path\", \"/opt/ml/processing/input\", \"--output-path\", \"/opt/ml/processing/output\"], \"ContainerEntrypoint\": [\"python3\", \"/opt/ml/processing/input/code/train_model.py\"]}, \"RoleArn\": \"arn:aws:iam::888962879387:role/service-role/AmazonSageMaker-ExecutionRole-20220812T094291\", \"ProcessingInputs\": [{\"InputName\": \"input-1\", \"AppManaged\": false, \"S3Input\": {\"S3Uri\": {\"Get\": \"Steps.smpl10000samples20241211-01c_creat_split.ProcessingOutputConfig.Outputs[\\'train\\'].S3Output.S3Uri\"}, \"LocalPath\": \"/opt/ml/processing/input\", \"S3DataType\": \"S3Prefix\", \"S3InputMode\": \"File\", \"S3DataDistributionType\": \"FullyReplicated\", \"S3CompressionType\": \"None\"}}, {\"InputName\": \"code\", \"AppManaged\": false, \"S3Input\": {\"S3Uri\": \"s3://sagemaker-us-east-1-888962879387/smpl/code/67345d6fc48d1286346a22a61cc52e7e/train_model.py\", \"LocalPath\": \"/opt/ml/processing/input/code\", \"S3DataType\": \"S3Prefix\", \"S3InputMode\": \"File\", \"S3DataDistributionType\": \"FullyReplicated\", \"S3CompressionType\": \"None\"}}], \"ProcessingOutputConfig\": {\"Outputs\": [{\"OutputName\": \"train_results\", \"AppManaged\": false, \"S3Output\": {\"S3Uri\": \"s3://sagemaker-us-east-1-888962879387/smpl10000samples20241211/train_result_metrics\", \"LocalPath\": \"/opt/ml/processing/output\", \"S3UploadMode\": \"EndOfJob\"}}]}}, \"CacheConfig\": {\"Enabled\": true, \"ExpireAfter\": \"PT24H\"}}, {\"Name\": \"smpl10000samples20241211-03b_base_model_KNeighborsClassifier\", \"Type\": \"Processing\", \"Arguments\": {\"ProcessingResources\": {\"ClusterConfig\": {\"InstanceType\": \"ml.m5.large\", \"InstanceCount\": 1, \"VolumeSizeInGB\": 30}}, \"AppSpecification\": {\"ImageUri\": \"707031497630.dkr.ecr.us-east-1.amazonaws.com/frm-svcs:fit-fraudml-sagemaker-collab-20241121174423-54-76a346d\", \"ContainerArguments\": [\"--target\", \"target\", \"--train-size\", {\"Get\": \"Parameters.TrainSize\"}, \"--algo-name\", \"KNeighborsClassifier\", \"--input-path\", \"/opt/ml/processing/input\", \"--output-path\", \"/opt/ml/processing/output\"], \"ContainerEntrypoint\": [\"python3\", \"/opt/ml/processing/input/code/train_model.py\"]}, \"RoleArn\": \"arn:aws:iam::888962879387:role/service-role/AmazonSageMaker-ExecutionRole-20220812T094291\", \"ProcessingInputs\": [{\"InputName\": \"input-1\", \"AppManaged\": false, \"S3Input\": {\"S3Uri\": {\"Get\": \"Steps.smpl10000samples20241211-01c_creat_split.ProcessingOutputConfig.Outputs[\\'train\\'].S3Output.S3Uri\"}, \"LocalPath\": \"/opt/ml/processing/input\", \"S3DataType\": \"S3Prefix\", \"S3InputMode\": \"File\", \"S3DataDistributionType\": \"FullyReplicated\", \"S3CompressionType\": \"None\"}}, {\"InputName\": \"code\", \"AppManaged\": false, \"S3Input\": {\"S3Uri\": \"s3://sagemaker-us-east-1-888962879387/smpl/code/67345d6fc48d1286346a22a61cc52e7e/train_model.py\", \"LocalPath\": \"/opt/ml/processing/input/code\", \"S3DataType\": \"S3Prefix\", \"S3InputMode\": \"File\", \"S3DataDistributionType\": \"FullyReplicated\", \"S3CompressionType\": \"None\"}}], \"ProcessingOutputConfig\": {\"Outputs\": [{\"OutputName\": \"train_results\", \"AppManaged\": false, \"S3Output\": {\"S3Uri\": \"s3://sagemaker-us-east-1-888962879387/smpl10000samples20241211/train_result_metrics\", \"LocalPath\": \"/opt/ml/processing/output\", \"S3UploadMode\": \"EndOfJob\"}}]}}, \"CacheConfig\": {\"Enabled\": true, \"ExpireAfter\": \"PT24H\"}}, {\"Name\": \"smpl10000samples20241211-03c_base_model_DecisionTreeClassifier\", \"Type\": \"Processing\", \"Arguments\": {\"ProcessingResources\": {\"ClusterConfig\": {\"InstanceType\": \"ml.m5.large\", \"InstanceCount\": 1, \"VolumeSizeInGB\": 30}}, \"AppSpecification\": {\"ImageUri\": \"707031497630.dkr.ecr.us-east-1.amazonaws.com/frm-svcs:fit-fraudml-sagemaker-collab-20241121174423-54-76a346d\", \"ContainerArguments\": [\"--target\", \"target\", \"--train-size\", {\"Get\": \"Parameters.TrainSize\"}, \"--algo-name\", \"DecisionTreeClassifier\", \"--input-path\", \"/opt/ml/processing/input\", \"--output-path\", \"/opt/ml/processing/output\"], \"ContainerEntrypoint\": [\"python3\", \"/opt/ml/processing/input/code/train_model.py\"]}, \"RoleArn\": \"arn:aws:iam::888962879387:role/service-role/AmazonSageMaker-ExecutionRole-20220812T094291\", \"ProcessingInputs\": [{\"InputName\": \"input-1\", \"AppManaged\": false, \"S3Input\": {\"S3Uri\": {\"Get\": \"Steps.smpl10000samples20241211-01c_creat_split.ProcessingOutputConfig.Outputs[\\'train\\'].S3Output.S3Uri\"}, \"LocalPath\": \"/opt/ml/processing/input\", \"S3DataType\": \"S3Prefix\", \"S3InputMode\": \"File\", \"S3DataDistributionType\": \"FullyReplicated\", \"S3CompressionType\": \"None\"}}, {\"InputName\": \"code\", \"AppManaged\": false, \"S3Input\": {\"S3Uri\": \"s3://sagemaker-us-east-1-888962879387/smpl/code/67345d6fc48d1286346a22a61cc52e7e/train_model.py\", \"LocalPath\": \"/opt/ml/processing/input/code\", \"S3DataType\": \"S3Prefix\", \"S3InputMode\": \"File\", \"S3DataDistributionType\": \"FullyReplicated\", \"S3CompressionType\": \"None\"}}], \"ProcessingOutputConfig\": {\"Outputs\": [{\"OutputName\": \"train_results\", \"AppManaged\": false, \"S3Output\": {\"S3Uri\": \"s3://sagemaker-us-east-1-888962879387/smpl10000samples20241211/train_result_metrics\", \"LocalPath\": \"/opt/ml/processing/output\", \"S3UploadMode\": \"EndOfJob\"}}]}}, \"CacheConfig\": {\"Enabled\": true, \"ExpireAfter\": \"PT24H\"}}, {\"Name\": \"smpl10000samples20241211-03d_base_model_ExtraTreeClassifier\", \"Type\": \"Processing\", \"Arguments\": {\"ProcessingResources\": {\"ClusterConfig\": {\"InstanceType\": \"ml.m5.large\", \"InstanceCount\": 1, \"VolumeSizeInGB\": 30}}, \"AppSpecification\": {\"ImageUri\": \"707031497630.dkr.ecr.us-east-1.amazonaws.com/frm-svcs:fit-fraudml-sagemaker-collab-20241121174423-54-76a346d\", \"ContainerArguments\": [\"--target\", \"target\", \"--train-size\", {\"Get\": \"Parameters.TrainSize\"}, \"--algo-name\", \"ExtraTreeClassifier\", \"--input-path\", \"/opt/ml/processing/input\", \"--output-path\", \"/opt/ml/processing/output\"], \"ContainerEntrypoint\": [\"python3\", \"/opt/ml/processing/input/code/train_model.py\"]}, \"RoleArn\": \"arn:aws:iam::888962879387:role/service-role/AmazonSageMaker-ExecutionRole-20220812T094291\", \"ProcessingInputs\": [{\"InputName\": \"input-1\", \"AppManaged\": false, \"S3Input\": {\"S3Uri\": {\"Get\": \"Steps.smpl10000samples20241211-01c_creat_split.ProcessingOutputConfig.Outputs[\\'train\\'].S3Output.S3Uri\"}, \"LocalPath\": \"/opt/ml/processing/input\", \"S3DataType\": \"S3Prefix\", \"S3InputMode\": \"File\", \"S3DataDistributionType\": \"FullyReplicated\", \"S3CompressionType\": \"None\"}}, {\"InputName\": \"code\", \"AppManaged\": false, \"S3Input\": {\"S3Uri\": \"s3://sagemaker-us-east-1-888962879387/smpl/code/67345d6fc48d1286346a22a61cc52e7e/train_model.py\", \"LocalPath\": \"/opt/ml/processing/input/code\", \"S3DataType\": \"S3Prefix\", \"S3InputMode\": \"File\", \"S3DataDistributionType\": \"FullyReplicated\", \"S3CompressionType\": \"None\"}}], \"ProcessingOutputConfig\": {\"Outputs\": [{\"OutputName\": \"train_results\", \"AppManaged\": false, \"S3Output\": {\"S3Uri\": \"s3://sagemaker-us-east-1-888962879387/smpl10000samples20241211/train_result_metrics\", \"LocalPath\": \"/opt/ml/processing/output\", \"S3UploadMode\": \"EndOfJob\"}}]}}, \"CacheConfig\": {\"Enabled\": true, \"ExpireAfter\": \"PT24H\"}}, {\"Name\": \"smpl10000samples20241211-03e_base_model_AdaBoostClassifier\", \"Type\": \"Processing\", \"Arguments\": {\"ProcessingResources\": {\"ClusterConfig\": {\"InstanceType\": \"ml.m5.large\", \"InstanceCount\": 1, \"VolumeSizeInGB\": 30}}, \"AppSpecification\": {\"ImageUri\": \"707031497630.dkr.ecr.us-east-1.amazonaws.com/frm-svcs:fit-fraudml-sagemaker-collab-20241121174423-54-76a346d\", \"ContainerArguments\": [\"--target\", \"target\", \"--train-size\", {\"Get\": \"Parameters.TrainSize\"}, \"--algo-name\", \"AdaBoostClassifier\", \"--input-path\", \"/opt/ml/processing/input\", \"--output-path\", \"/opt/ml/processing/output\"], \"ContainerEntrypoint\": [\"python3\", \"/opt/ml/processing/input/code/train_model.py\"]}, \"RoleArn\": \"arn:aws:iam::888962879387:role/service-role/AmazonSageMaker-ExecutionRole-20220812T094291\", \"ProcessingInputs\": [{\"InputName\": \"input-1\", \"AppManaged\": false, \"S3Input\": {\"S3Uri\": {\"Get\": \"Steps.smpl10000samples20241211-01c_creat_split.ProcessingOutputConfig.Outputs[\\'train\\'].S3Output.S3Uri\"}, \"LocalPath\": \"/opt/ml/processing/input\", \"S3DataType\": \"S3Prefix\", \"S3InputMode\": \"File\", \"S3DataDistributionType\": \"FullyReplicated\", \"S3CompressionType\": \"None\"}}, {\"InputName\": \"code\", \"AppManaged\": false, \"S3Input\": {\"S3Uri\": \"s3://sagemaker-us-east-1-888962879387/smpl/code/67345d6fc48d1286346a22a61cc52e7e/train_model.py\", \"LocalPath\": \"/opt/ml/processing/input/code\", \"S3DataType\": \"S3Prefix\", \"S3InputMode\": \"File\", \"S3DataDistributionType\": \"FullyReplicated\", \"S3CompressionType\": \"None\"}}], \"ProcessingOutputConfig\": {\"Outputs\": [{\"OutputName\": \"train_results\", \"AppManaged\": false, \"S3Output\": {\"S3Uri\": \"s3://sagemaker-us-east-1-888962879387/smpl10000samples20241211/train_result_metrics\", \"LocalPath\": \"/opt/ml/processing/output\", \"S3UploadMode\": \"EndOfJob\"}}]}}, \"CacheConfig\": {\"Enabled\": true, \"ExpireAfter\": \"PT24H\"}}, {\"Name\": \"smpl10000samples20241211-03f_base_model_ExtraTreesClassifier\", \"Type\": \"Processing\", \"Arguments\": {\"ProcessingResources\": {\"ClusterConfig\": {\"InstanceType\": \"ml.m5.large\", \"InstanceCount\": 1, \"VolumeSizeInGB\": 30}}, \"AppSpecification\": {\"ImageUri\": \"707031497630.dkr.ecr.us-east-1.amazonaws.com/frm-svcs:fit-fraudml-sagemaker-collab-20241121174423-54-76a346d\", \"ContainerArguments\": [\"--target\", \"target\", \"--train-size\", {\"Get\": \"Parameters.TrainSize\"}, \"--algo-name\", \"ExtraTreesClassifier\", \"--input-path\", \"/opt/ml/processing/input\", \"--output-path\", \"/opt/ml/processing/output\"], \"ContainerEntrypoint\": [\"python3\", \"/opt/ml/processing/input/code/train_model.py\"]}, \"RoleArn\": \"arn:aws:iam::888962879387:role/service-role/AmazonSageMaker-ExecutionRole-20220812T094291\", \"ProcessingInputs\": [{\"InputName\": \"input-1\", \"AppManaged\": false, \"S3Input\": {\"S3Uri\": {\"Get\": \"Steps.smpl10000samples20241211-01c_creat_split.ProcessingOutputConfig.Outputs[\\'train\\'].S3Output.S3Uri\"}, \"LocalPath\": \"/opt/ml/processing/input\", \"S3DataType\": \"S3Prefix\", \"S3InputMode\": \"File\", \"S3DataDistributionType\": \"FullyReplicated\", \"S3CompressionType\": \"None\"}}, {\"InputName\": \"code\", \"AppManaged\": false, \"S3Input\": {\"S3Uri\": \"s3://sagemaker-us-east-1-888962879387/smpl/code/67345d6fc48d1286346a22a61cc52e7e/train_model.py\", \"LocalPath\": \"/opt/ml/processing/input/code\", \"S3DataType\": \"S3Prefix\", \"S3InputMode\": \"File\", \"S3DataDistributionType\": \"FullyReplicated\", \"S3CompressionType\": \"None\"}}], \"ProcessingOutputConfig\": {\"Outputs\": [{\"OutputName\": \"train_results\", \"AppManaged\": false, \"S3Output\": {\"S3Uri\": \"s3://sagemaker-us-east-1-888962879387/smpl10000samples20241211/train_result_metrics\", \"LocalPath\": \"/opt/ml/processing/output\", \"S3UploadMode\": \"EndOfJob\"}}]}}, \"CacheConfig\": {\"Enabled\": true, \"ExpireAfter\": \"PT24H\"}}, {\"Name\": \"smpl10000samples20241211-03g_base_model_RandomForestClassifier\", \"Type\": \"Processing\", \"Arguments\": {\"ProcessingResources\": {\"ClusterConfig\": {\"InstanceType\": \"ml.m5.large\", \"InstanceCount\": 1, \"VolumeSizeInGB\": 30}}, \"AppSpecification\": {\"ImageUri\": \"707031497630.dkr.ecr.us-east-1.amazonaws.com/frm-svcs:fit-fraudml-sagemaker-collab-20241121174423-54-76a346d\", \"ContainerArguments\": [\"--target\", \"target\", \"--train-size\", {\"Get\": \"Parameters.TrainSize\"}, \"--algo-name\", \"RandomForestClassifier\", \"--input-path\", \"/opt/ml/processing/input\", \"--output-path\", \"/opt/ml/processing/output\"], \"ContainerEntrypoint\": [\"python3\", \"/opt/ml/processing/input/code/train_model.py\"]}, \"RoleArn\": \"arn:aws:iam::888962879387:role/service-role/AmazonSageMaker-ExecutionRole-20220812T094291\", \"ProcessingInputs\": [{\"InputName\": \"input-1\", \"AppManaged\": false, \"S3Input\": {\"S3Uri\": {\"Get\": \"Steps.smpl10000samples20241211-01c_creat_split.ProcessingOutputConfig.Outputs[\\'train\\'].S3Output.S3Uri\"}, \"LocalPath\": \"/opt/ml/processing/input\", \"S3DataType\": \"S3Prefix\", \"S3InputMode\": \"File\", \"S3DataDistributionType\": \"FullyReplicated\", \"S3CompressionType\": \"None\"}}, {\"InputName\": \"code\", \"AppManaged\": false, \"S3Input\": {\"S3Uri\": \"s3://sagemaker-us-east-1-888962879387/smpl/code/67345d6fc48d1286346a22a61cc52e7e/train_model.py\", \"LocalPath\": \"/opt/ml/processing/input/code\", \"S3DataType\": \"S3Prefix\", \"S3InputMode\": \"File\", \"S3DataDistributionType\": \"FullyReplicated\", \"S3CompressionType\": \"None\"}}], \"ProcessingOutputConfig\": {\"Outputs\": [{\"OutputName\": \"train_results\", \"AppManaged\": false, \"S3Output\": {\"S3Uri\": \"s3://sagemaker-us-east-1-888962879387/smpl10000samples20241211/train_result_metrics\", \"LocalPath\": \"/opt/ml/processing/output\", \"S3UploadMode\": \"EndOfJob\"}}]}}, \"CacheConfig\": {\"Enabled\": true, \"ExpireAfter\": \"PT24H\"}}, {\"Name\": \"smpl10000samples20241211-03h_base_model_HistGradientBoostingClas\", \"Type\": \"Processing\", \"Arguments\": {\"ProcessingResources\": {\"ClusterConfig\": {\"InstanceType\": \"ml.m5.large\", \"InstanceCount\": 1, \"VolumeSizeInGB\": 30}}, \"AppSpecification\": {\"ImageUri\": \"707031497630.dkr.ecr.us-east-1.amazonaws.com/frm-svcs:fit-fraudml-sagemaker-collab-20241121174423-54-76a346d\", \"ContainerArguments\": [\"--target\", \"target\", \"--train-size\", {\"Get\": \"Parameters.TrainSize\"}, \"--algo-name\", \"HistGradientBoostingClassifier\", \"--input-path\", \"/opt/ml/processing/input\", \"--output-path\", \"/opt/ml/processing/output\"], \"ContainerEntrypoint\": [\"python3\", \"/opt/ml/processing/input/code/train_model.py\"]}, \"RoleArn\": \"arn:aws:iam::888962879387:role/service-role/AmazonSageMaker-ExecutionRole-20220812T094291\", \"ProcessingInputs\": [{\"InputName\": \"input-1\", \"AppManaged\": false, \"S3Input\": {\"S3Uri\": {\"Get\": \"Steps.smpl10000samples20241211-01c_creat_split.ProcessingOutputConfig.Outputs[\\'train\\'].S3Output.S3Uri\"}, \"LocalPath\": \"/opt/ml/processing/input\", \"S3DataType\": \"S3Prefix\", \"S3InputMode\": \"File\", \"S3DataDistributionType\": \"FullyReplicated\", \"S3CompressionType\": \"None\"}}, {\"InputName\": \"code\", \"AppManaged\": false, \"S3Input\": {\"S3Uri\": \"s3://sagemaker-us-east-1-888962879387/smpl/code/67345d6fc48d1286346a22a61cc52e7e/train_model.py\", \"LocalPath\": \"/opt/ml/processing/input/code\", \"S3DataType\": \"S3Prefix\", \"S3InputMode\": \"File\", \"S3DataDistributionType\": \"FullyReplicated\", \"S3CompressionType\": \"None\"}}], \"ProcessingOutputConfig\": {\"Outputs\": [{\"OutputName\": \"train_results\", \"AppManaged\": false, \"S3Output\": {\"S3Uri\": \"s3://sagemaker-us-east-1-888962879387/smpl10000samples20241211/train_result_metrics\", \"LocalPath\": \"/opt/ml/processing/output\", \"S3UploadMode\": \"EndOfJob\"}}]}}, \"CacheConfig\": {\"Enabled\": true, \"ExpireAfter\": \"PT24H\"}}, {\"Name\": \"smpl10000samples20241211-03i_base_model_XGBClassifier\", \"Type\": \"Processing\", \"Arguments\": {\"ProcessingResources\": {\"ClusterConfig\": {\"InstanceType\": \"ml.m5.large\", \"InstanceCount\": 1, \"VolumeSizeInGB\": 30}}, \"AppSpecification\": {\"ImageUri\": \"707031497630.dkr.ecr.us-east-1.amazonaws.com/frm-svcs:fit-fraudml-sagemaker-collab-20241121174423-54-76a346d\", \"ContainerArguments\": [\"--target\", \"target\", \"--train-size\", {\"Get\": \"Parameters.TrainSize\"}, \"--algo-name\", \"XGBClassifier\", \"--input-path\", \"/opt/ml/processing/input\", \"--output-path\", \"/opt/ml/processing/output\"], \"ContainerEntrypoint\": [\"python3\", \"/opt/ml/processing/input/code/train_model.py\"]}, \"RoleArn\": \"arn:aws:iam::888962879387:role/service-role/AmazonSageMaker-ExecutionRole-20220812T094291\", \"ProcessingInputs\": [{\"InputName\": \"input-1\", \"AppManaged\": false, \"S3Input\": {\"S3Uri\": {\"Get\": \"Steps.smpl10000samples20241211-01c_creat_split.ProcessingOutputConfig.Outputs[\\'train\\'].S3Output.S3Uri\"}, \"LocalPath\": \"/opt/ml/processing/input\", \"S3DataType\": \"S3Prefix\", \"S3InputMode\": \"File\", \"S3DataDistributionType\": \"FullyReplicated\", \"S3CompressionType\": \"None\"}}, {\"InputName\": \"code\", \"AppManaged\": false, \"S3Input\": {\"S3Uri\": \"s3://sagemaker-us-east-1-888962879387/smpl/code/67345d6fc48d1286346a22a61cc52e7e/train_model.py\", \"LocalPath\": \"/opt/ml/processing/input/code\", \"S3DataType\": \"S3Prefix\", \"S3InputMode\": \"File\", \"S3DataDistributionType\": \"FullyReplicated\", \"S3CompressionType\": \"None\"}}], \"ProcessingOutputConfig\": {\"Outputs\": [{\"OutputName\": \"train_results\", \"AppManaged\": false, \"S3Output\": {\"S3Uri\": \"s3://sagemaker-us-east-1-888962879387/smpl10000samples20241211/train_result_metrics\", \"LocalPath\": \"/opt/ml/processing/output\", \"S3UploadMode\": \"EndOfJob\"}}]}}, \"CacheConfig\": {\"Enabled\": true, \"ExpireAfter\": \"PT24H\"}}, {\"Name\": \"smpl10000samples20241211-03_best_algo\", \"Type\": \"Processing\", \"Arguments\": {\"ProcessingResources\": {\"ClusterConfig\": {\"InstanceType\": \"ml.m5.large\", \"InstanceCount\": 1, \"VolumeSizeInGB\": 30}}, \"AppSpecification\": {\"ImageUri\": \"707031497630.dkr.ecr.us-east-1.amazonaws.com/frm-svcs:fit-fraudml-sagemaker-collab-20241121174423-54-76a346d\", \"ContainerArguments\": [\"--input-path\", \"/opt/ml/processing/input\", \"--output-path\", \"/opt/ml/processing/output\"], \"ContainerEntrypoint\": [\"python3\", \"/opt/ml/processing/input/code/eval_basemodels.py\"]}, \"RoleArn\": \"arn:aws:iam::888962879387:role/service-role/AmazonSageMaker-ExecutionRole-20220812T094291\", \"ProcessingInputs\": [{\"InputName\": \"input-1\", \"AppManaged\": false, \"S3Input\": {\"S3Uri\": \"s3://sagemaker-us-east-1-888962879387/smpl10000samples20241211/train_result_metrics\", \"LocalPath\": \"/opt/ml/processing/input\", \"S3DataType\": \"S3Prefix\", \"S3InputMode\": \"File\", \"S3DataDistributionType\": \"FullyReplicated\", \"S3CompressionType\": \"None\"}}, {\"InputName\": \"code\", \"AppManaged\": false, \"S3Input\": {\"S3Uri\": \"s3://sagemaker-us-east-1-888962879387/smpl10000samples20241211-03_best_algo-0aae95f301350de5e0dde997e85bfe2d/input/code/eval_basemodels.py\", \"LocalPath\": \"/opt/ml/processing/input/code\", \"S3DataType\": \"S3Prefix\", \"S3InputMode\": \"File\", \"S3DataDistributionType\": \"FullyReplicated\", \"S3CompressionType\": \"None\"}}], \"ProcessingOutputConfig\": {\"Outputs\": [{\"OutputName\": \"baseline_metrics\", \"AppManaged\": false, \"S3Output\": {\"S3Uri\": {\"Std:Join\": {\"On\": \"/\", \"Values\": [\"s3:/\", \"sagemaker-us-east-1-888962879387\", \"smpl\", {\"Get\": \"Execution.PipelineExecutionId\"}, \"smpl10000samples20241211-03_best_algo\", \"output\", \"baseline_metrics\"]}}, \"LocalPath\": \"/opt/ml/processing/output\", \"S3UploadMode\": \"EndOfJob\"}}]}}, \"DependsOn\": [\"smpl10000samples20241211-03a_base_model_SGDClassifier\", \"smpl10000samples20241211-03b_base_model_KNeighborsClassifier\", \"smpl10000samples20241211-03c_base_model_DecisionTreeClassifier\", \"smpl10000samples20241211-03d_base_model_ExtraTreeClassifier\", \"smpl10000samples20241211-03e_base_model_AdaBoostClassifier\", \"smpl10000samples20241211-03f_base_model_ExtraTreesClassifier\", \"smpl10000samples20241211-03g_base_model_RandomForestClassifier\", \"smpl10000samples20241211-03h_base_model_HistGradientBoostingClas\", \"smpl10000samples20241211-03i_base_model_XGBClassifier\"], \"CacheConfig\": {\"Enabled\": true, \"ExpireAfter\": \"PT24H\"}}, {\"Name\": \"smpl10000samples20241211-03_tune_model\", \"Type\": \"Training\", \"Arguments\": {\"AlgorithmSpecification\": {\"TrainingInputMode\": \"File\", \"TrainingImage\": \"707031497630.dkr.ecr.us-east-1.amazonaws.com/frm-svcs:fit-fraudml-sagemaker-collab-20241121174423-54-76a346d\"}, \"OutputDataConfig\": {\"S3OutputPath\": \"s3://sagemaker-us-east-1-888962879387\"}, \"StoppingCondition\": {\"MaxRuntimeInSeconds\": 259200}, \"ResourceConfig\": {\"VolumeSizeInGB\": 30, \"InstanceCount\": 1, \"InstanceType\": \"ml.m5.large\"}, \"RoleArn\": \"arn:aws:iam::888962879387:role/service-role/AmazonSageMaker-ExecutionRole-20220812T094291\", \"InputDataConfig\": [{\"DataSource\": {\"S3DataSource\": {\"S3DataType\": \"S3Prefix\", \"S3Uri\": {\"Get\": \"Steps.smpl10000samples20241211-01c_creat_split.ProcessingOutputConfig.Outputs[\\'train\\'].S3Output.S3Uri\"}, \"S3DataDistributionType\": \"FullyReplicated\"}}, \"ContentType\": \"application/x-parquet\", \"ChannelName\": \"train_data\"}, {\"DataSource\": {\"S3DataSource\": {\"S3DataType\": \"S3Prefix\", \"S3Uri\": {\"Get\": \"Steps.smpl10000samples20241211-01c_creat_split.ProcessingOutputConfig.Outputs[\\'validate\\'].S3Output.S3Uri\"}, \"S3DataDistributionType\": \"FullyReplicated\"}}, \"ContentType\": \"application/x-parquet\", \"ChannelName\": \"validate_data\"}, {\"DataSource\": {\"S3DataSource\": {\"S3DataType\": \"S3Prefix\", \"S3Uri\": {\"Get\": \"Steps.smpl10000samples20241211-03_best_algo.ProcessingOutputConfig.Outputs[\\'baseline_metrics\\'].S3Output.S3Uri\"}, \"S3DataDistributionType\": \"FullyReplicated\"}}, \"ContentType\": \"application/x-parquet\", \"ChannelName\": \"metric_data\"}], \"HyperParameters\": {\"target\": \"target\", \"train-size\": {\"Get\": \"Parameters.TrainSize\"}, \"sagemaker_submit_directory\": \"\\\\\"s3://sagemaker-us-east-1-888962879387/smpl10000samples20241211-03_tune_model-d19794de540eb6a0b8e6c05df733a9d5/source/sourcedir.tar.gz\\\\\"\", \"sagemaker_program\": \"\\\\\"tune_model.py\\\\\"\", \"sagemaker_container_log_level\": \"20\", \"sagemaker_region\": \"\\\\\"us-east-1\\\\\"\"}, \"DebugHookConfig\": {\"S3OutputPath\": \"s3://sagemaker-us-east-1-888962879387\", \"CollectionConfigurations\": []}, \"ProfilerConfig\": {\"S3OutputPath\": \"s3://sagemaker-us-east-1-888962879387\", \"DisableProfiler\": false}}, \"CacheConfig\": {\"Enabled\": true, \"ExpireAfter\": \"PT24H\"}}, {\"Name\": \"smpl10000samples20241211-03c-CreateModel\", \"Type\": \"Model\", \"Arguments\": {\"ExecutionRoleArn\": \"arn:aws:iam::888962879387:role/service-role/AmazonSageMaker-ExecutionRole-20220812T094291\", \"PrimaryContainer\": {\"Image\": \"707031497630.dkr.ecr.us-east-1.amazonaws.com/frm-svcs:fit-fraudml-sagemaker-collab-20241121174423-54-76a346d\", \"Environment\": {\"SAGEMAKER_PROGRAM\": \"tune_model.py\", \"SAGEMAKER_SUBMIT_DIRECTORY\": \"s3://sagemaker-us-east-1-888962879387/smpl10000samples20241211-03b_TrainedModel/sourcedir.tar.gz\", \"SAGEMAKER_CONTAINER_LOG_LEVEL\": \"20\", \"SAGEMAKER_REGION\": \"us-east-1\"}, \"ModelDataUrl\": {\"Get\": \"Steps.smpl10000samples20241211-03_tune_model.ModelArtifacts.S3ModelArtifacts\"}}, \"Tags\": [{\"Key\": \"PLATFORM\", \"Value\": \"FO-ML\"}, {\"Key\": \"BUSINESS_REGION\", \"Value\": \"GLOBAL\"}, {\"Key\": \"BUSINESS_UNIT\", \"Value\": \"MOBILITY\"}, {\"Key\": \"CLIENT\", \"Value\": \"MULTI_TENANT\"}]}}, {\"Name\": \"smpl10000samples20241211-04b_evalStep\", \"Type\": \"Processing\", \"Arguments\": {\"ProcessingResources\": {\"ClusterConfig\": {\"InstanceType\": \"ml.m5.large\", \"InstanceCount\": 1, \"VolumeSizeInGB\": 30}}, \"AppSpecification\": {\"ImageUri\": \"707031497630.dkr.ecr.us-east-1.amazonaws.com/frm-svcs:fit-fraudml-sagemaker-collab-20241121174423-54-76a346d\", \"ContainerArguments\": [\"--target\", \"target\"], \"ContainerEntrypoint\": [\"python3\", \"/opt/ml/processing/input/code/evaluate.py\"]}, \"RoleArn\": \"arn:aws:iam::888962879387:role/service-role/AmazonSageMaker-ExecutionRole-20220812T094291\", \"ProcessingInputs\": [{\"InputName\": \"input-1\", \"AppManaged\": false, \"S3Input\": {\"S3Uri\": {\"Get\": \"Steps.smpl10000samples20241211-03_tune_model.ModelArtifacts.S3ModelArtifacts\"}, \"LocalPath\": \"/opt/ml/processing/input/model\", \"S3DataType\": \"S3Prefix\", \"S3InputMode\": \"File\", \"S3DataDistributionType\": \"FullyReplicated\", \"S3CompressionType\": \"None\"}}, {\"InputName\": \"input-2\", \"AppManaged\": false, \"S3Input\": {\"S3Uri\": {\"Get\": \"Steps.smpl10000samples20241211-01c_creat_split.ProcessingOutputConfig.Outputs[\\'test\\'].S3Output.S3Uri\"}, \"LocalPath\": \"/opt/ml/processing/input/test\", \"S3DataType\": \"S3Prefix\", \"S3InputMode\": \"File\", \"S3DataDistributionType\": \"FullyReplicated\", \"S3CompressionType\": \"None\"}}, {\"InputName\": \"code\", \"AppManaged\": false, \"S3Input\": {\"S3Uri\": \"s3://sagemaker-us-east-1-888962879387/smpl/code/f2991c34e3deaa267fc7531f07b06bb6/evaluate.py\", \"LocalPath\": \"/opt/ml/processing/input/code\", \"S3DataType\": \"S3Prefix\", \"S3InputMode\": \"File\", \"S3DataDistributionType\": \"FullyReplicated\", \"S3CompressionType\": \"None\"}}], \"ProcessingOutputConfig\": {\"Outputs\": [{\"OutputName\": \"evaluation_metrics\", \"AppManaged\": false, \"S3Output\": {\"S3Uri\": \"s3://sagemaker-us-east-1-888962879387/frm-svcs-2024-12-11-18-41-21-934/output/evaluation_metrics\", \"LocalPath\": \"/opt/ml/processing/evaluation\", \"S3UploadMode\": \"EndOfJob\"}}]}}, \"CacheConfig\": {\"Enabled\": true, \"ExpireAfter\": \"PT24H\"}, \"PropertyFiles\": [{\"PropertyFileName\": \"smpl10000samples20241211-04a_evaluation\", \"OutputName\": \"evaluation_metrics\", \"FilePath\": \"evaluation.json\"}]}, {\"Name\": \"smpl10000samples20241211-05a_ConditionalRegistration\", \"Type\": \"Condition\", \"Arguments\": {\"Conditions\": [{\"Type\": \"GreaterThanOrEqualTo\", \"LeftValue\": {\"Std:JsonGet\": {\"PropertyFile\": {\"Get\": \"Steps.smpl10000samples20241211-04b_evalStep.PropertyFiles.smpl10000samples20241211-04a_evaluation\"}, \"Path\": \"binary_classification_metrics.f1.value\"}}, \"RightValue\": 0.15}], \"IfSteps\": [{\"Name\": \"smpl10000samples20241211-03b_TrainedModel-RepackModel\", \"Type\": \"Training\", \"Arguments\": {\"AlgorithmSpecification\": {\"TrainingInputMode\": \"File\", \"TrainingImage\": \"683313688378.dkr.ecr.us-east-1.amazonaws.com/sagemaker-scikit-learn:0.23-1-cpu-py3\"}, \"OutputDataConfig\": {\"S3OutputPath\": \"s3://sagemaker-us-east-1-888962879387/\"}, \"StoppingCondition\": {\"MaxRuntimeInSeconds\": 86400}, \"ResourceConfig\": {\"VolumeSizeInGB\": 30, \"InstanceCount\": 1, \"InstanceType\": \"ml.m5.large\"}, \"RoleArn\": \"arn:aws:iam::888962879387:role/service-role/AmazonSageMaker-ExecutionRole-20220812T094291\", \"InputDataConfig\": [{\"DataSource\": {\"S3DataSource\": {\"S3DataType\": \"S3Prefix\", \"S3Uri\": {\"Get\": \"Steps.smpl10000samples20241211-03_tune_model.ModelArtifacts.S3ModelArtifacts\"}, \"S3DataDistributionType\": \"FullyReplicated\"}}, \"ChannelName\": \"training\"}], \"HyperParameters\": {\"inference_script\": \"\\\\\"tune_model.py\\\\\"\", \"model_archive\": {\"Std:Join\": {\"On\": \"\", \"Values\": [{\"Get\": \"Steps.smpl10000samples20241211-03_tune_model.ModelArtifacts.S3ModelArtifacts\"}]}}, \"dependencies\": \"null\", \"source_dir\": \"null\", \"sagemaker_submit_directory\": \"\\\\\"s3://sagemaker-us-east-1-888962879387/smpl10000samples20241211-03b_TrainedModel-RepackModel-b5ea77f701b47a8d075605497462ccc2/source/sourcedir.tar.gz\\\\\"\", \"sagemaker_program\": \"\\\\\"_repack_script_launcher.sh\\\\\"\", \"sagemaker_container_log_level\": \"20\", \"sagemaker_region\": \"\\\\\"us-east-1\\\\\"\"}, \"DebugHookConfig\": {\"S3OutputPath\": \"s3://sagemaker-us-east-1-888962879387/\", \"CollectionConfigurations\": []}, \"ProfilerConfig\": {\"DisableProfiler\": true}}, \"Description\": \"smpl10000samples20241211\"}, {\"Name\": \"smpl10000samples20241211-RegisterModel\", \"Type\": \"RegisterModel\", \"Arguments\": {\"ModelPackageGroupName\": \"smpl\", \"ModelPackageDescription\": \"smpl10000samples20241211\", \"ModelMetrics\": {\"ModelQuality\": {\"Statistics\": {\"ContentType\": \"application/json\", \"S3Uri\": {\"Std:Join\": {\"On\": \"/\", \"Values\": [\"s3://sagemaker-us-east-1-888962879387/frm-svcs-2024-12-11-18-41-21-934/output/evaluation_metrics\", \"evaluation.json\"]}}}}, \"Bias\": {}, \"Explainability\": {\"Report\": {\"ContentType\": \"application/json\", \"S3Uri\": {\"Get\": \"Steps.smpl10000samples20241211-03_tune_model.ModelArtifacts.S3ModelArtifacts\"}}}}, \"CustomerMetadataProperties\": {\"target\": \"target\", \"model-name\": \"smpl10000samples20241211\", \"program-name\": \"smpl\", \"train_data\": \"2024-12-11\", \"train_date\": \"2024-12-11-18-41\"}, \"InferenceSpecification\": {\"Containers\": [{\"Image\": \"707031497630.dkr.ecr.us-east-1.amazonaws.com/frm-svcs:fit-fraudml-sagemaker-collab-20241121174423-54-76a346d\", \"Environment\": {\"SAGEMAKER_PROGRAM\": \"tune_model.py\", \"SAGEMAKER_SUBMIT_DIRECTORY\": \"s3://sagemaker-us-east-1-888962879387/smpl10000samples20241211-03b_TrainedModel/sourcedir.tar.gz\", \"SAGEMAKER_CONTAINER_LOG_LEVEL\": \"20\", \"SAGEMAKER_REGION\": \"us-east-1\"}, \"ModelDataUrl\": {\"Get\": \"Steps.smpl10000samples20241211-03b_TrainedModel-RepackModel.ModelArtifacts.S3ModelArtifacts\"}}], \"SupportedContentTypes\": [\"application/json\"], \"SupportedResponseMIMETypes\": [\"application/json\"], \"SupportedRealtimeInferenceInstanceTypes\": [\"ml.m5.large\"], \"SupportedTransformInstanceTypes\": [\"ml.m5.large\"]}, \"ModelApprovalStatus\": \"PendingManualApproval\", \"SkipModelValidation\": \"None\"}, \"Description\": \"smpl10000samples20241211\"}], \"ElseSteps\": []}}]}'"
      ]
     },
     "execution_count": 26,
     "metadata": {},
     "output_type": "execute_result"
    }
   ],
   "source": [
    "pipeline.definition()"
   ]
  },
  {
   "cell_type": "markdown",
   "id": "3f658c41-15b0-4f0f-a754-8e25f71857ab",
   "metadata": {},
   "source": [
    "## Upload Pipeline and start execution"
   ]
  },
  {
   "cell_type": "code",
   "execution_count": 18,
   "id": "e182a21e-38e3-49ca-b16a-50e22d21cc58",
   "metadata": {
    "scrolled": true,
    "tags": []
   },
   "outputs": [
    {
     "name": "stderr",
     "output_type": "stream",
     "text": [
      "WARNING:sagemaker.workflow.utilities:Popping out 'ProcessingJobName' from the pipeline definition by default since it will be overridden at pipeline execution time. Please utilize the PipelineDefinitionConfig to persist this field in the pipeline definition if desired.\n",
      "WARNING:sagemaker.workflow.utilities:Popping out 'ProcessingJobName' from the pipeline definition by default since it will be overridden at pipeline execution time. Please utilize the PipelineDefinitionConfig to persist this field in the pipeline definition if desired.\n",
      "WARNING:sagemaker.workflow.utilities:Popping out 'ProcessingJobName' from the pipeline definition by default since it will be overridden at pipeline execution time. Please utilize the PipelineDefinitionConfig to persist this field in the pipeline definition if desired.\n",
      "WARNING:sagemaker.workflow.utilities:Popping out 'ProcessingJobName' from the pipeline definition by default since it will be overridden at pipeline execution time. Please utilize the PipelineDefinitionConfig to persist this field in the pipeline definition if desired.\n",
      "WARNING:sagemaker.workflow.utilities:Popping out 'ProcessingJobName' from the pipeline definition by default since it will be overridden at pipeline execution time. Please utilize the PipelineDefinitionConfig to persist this field in the pipeline definition if desired.\n",
      "WARNING:sagemaker.workflow.utilities:Popping out 'ProcessingJobName' from the pipeline definition by default since it will be overridden at pipeline execution time. Please utilize the PipelineDefinitionConfig to persist this field in the pipeline definition if desired.\n",
      "WARNING:sagemaker.workflow.utilities:Popping out 'ProcessingJobName' from the pipeline definition by default since it will be overridden at pipeline execution time. Please utilize the PipelineDefinitionConfig to persist this field in the pipeline definition if desired.\n",
      "WARNING:sagemaker.workflow.utilities:Popping out 'ProcessingJobName' from the pipeline definition by default since it will be overridden at pipeline execution time. Please utilize the PipelineDefinitionConfig to persist this field in the pipeline definition if desired.\n",
      "WARNING:sagemaker.workflow.utilities:Popping out 'ProcessingJobName' from the pipeline definition by default since it will be overridden at pipeline execution time. Please utilize the PipelineDefinitionConfig to persist this field in the pipeline definition if desired.\n",
      "WARNING:sagemaker.workflow.utilities:Popping out 'ProcessingJobName' from the pipeline definition by default since it will be overridden at pipeline execution time. Please utilize the PipelineDefinitionConfig to persist this field in the pipeline definition if desired.\n",
      "WARNING:sagemaker.workflow.utilities:Popping out 'ProcessingJobName' from the pipeline definition by default since it will be overridden at pipeline execution time. Please utilize the PipelineDefinitionConfig to persist this field in the pipeline definition if desired.\n",
      "WARNING:sagemaker.workflow.utilities:Popping out 'TrainingJobName' from the pipeline definition by default since it will be overridden at pipeline execution time. Please utilize the PipelineDefinitionConfig to persist this field in the pipeline definition if desired.\n",
      "WARNING:sagemaker.workflow.utilities:Popping out 'ModelName' from the pipeline definition by default since it will be overridden at pipeline execution time. Please utilize the PipelineDefinitionConfig to persist this field in the pipeline definition if desired.\n",
      "WARNING:sagemaker.workflow.utilities:Popping out 'ProcessingJobName' from the pipeline definition by default since it will be overridden at pipeline execution time. Please utilize the PipelineDefinitionConfig to persist this field in the pipeline definition if desired.\n",
      "WARNING:sagemaker.workflow.utilities:Popping out 'TrainingJobName' from the pipeline definition by default since it will be overridden at pipeline execution time. Please utilize the PipelineDefinitionConfig to persist this field in the pipeline definition if desired.\n",
      "WARNING:sagemaker.workflow._utils:Popping out 'CertifyForMarketplace' from the pipeline definition since it will be overridden in pipeline execution time.\n",
      "WARNING:sagemaker.workflow.utilities:Popping out 'ModelPackageName' from the pipeline definition by default since it will be overridden at pipeline execution time. Please utilize the PipelineDefinitionConfig to persist this field in the pipeline definition if desired.\n"
     ]
    },
    {
     "ename": "ClientError",
     "evalue": "An error occurred (ValidationException) when calling the CreatePipeline operation: Unable to parse pipeline definition. Property 'null' with value 'null' is not of expected type 'String'",
     "output_type": "error",
     "traceback": [
      "\u001b[0;31m---------------------------------------------------------------------------\u001b[0m",
      "\u001b[0;31mClientError\u001b[0m                               Traceback (most recent call last)",
      "Cell \u001b[0;32mIn[18], line 1\u001b[0m\n\u001b[0;32m----> 1\u001b[0m \u001b[43mpipeline\u001b[49m\u001b[38;5;241;43m.\u001b[39;49m\u001b[43mupsert\u001b[49m\u001b[43m(\u001b[49m\u001b[43mrole_arn\u001b[49m\u001b[38;5;241;43m=\u001b[39;49m\u001b[43mrole\u001b[49m\u001b[43m,\u001b[49m\u001b[43m \u001b[49m\u001b[43mtags\u001b[49m\u001b[38;5;241;43m=\u001b[39;49m\u001b[43mtags\u001b[49m\u001b[43m)\u001b[49m\n",
      "File \u001b[0;32m/opt/conda/lib/python3.11/site-packages/sagemaker/workflow/pipeline.py:297\u001b[0m, in \u001b[0;36mPipeline.upsert\u001b[0;34m(self, role_arn, description, tags, parallelism_config)\u001b[0m\n\u001b[1;32m    295\u001b[0m error_message \u001b[38;5;241m=\u001b[39m ce\u001b[38;5;241m.\u001b[39mresponse[\u001b[38;5;124m\"\u001b[39m\u001b[38;5;124mError\u001b[39m\u001b[38;5;124m\"\u001b[39m][\u001b[38;5;124m\"\u001b[39m\u001b[38;5;124mMessage\u001b[39m\u001b[38;5;124m\"\u001b[39m]\n\u001b[1;32m    296\u001b[0m \u001b[38;5;28;01mif\u001b[39;00m \u001b[38;5;129;01mnot\u001b[39;00m (error_code \u001b[38;5;241m==\u001b[39m \u001b[38;5;124m\"\u001b[39m\u001b[38;5;124mValidationException\u001b[39m\u001b[38;5;124m\"\u001b[39m \u001b[38;5;129;01mand\u001b[39;00m \u001b[38;5;124m\"\u001b[39m\u001b[38;5;124malready exists\u001b[39m\u001b[38;5;124m\"\u001b[39m \u001b[38;5;129;01min\u001b[39;00m error_message):\n\u001b[0;32m--> 297\u001b[0m     \u001b[38;5;28;01mraise\u001b[39;00m ce\n\u001b[1;32m    298\u001b[0m \u001b[38;5;66;03m# already exists\u001b[39;00m\n\u001b[1;32m    299\u001b[0m response \u001b[38;5;241m=\u001b[39m \u001b[38;5;28mself\u001b[39m\u001b[38;5;241m.\u001b[39mupdate(role_arn, description, parallelism_config\u001b[38;5;241m=\u001b[39mparallelism_config)\n",
      "File \u001b[0;32m/opt/conda/lib/python3.11/site-packages/sagemaker/workflow/pipeline.py:292\u001b[0m, in \u001b[0;36mPipeline.upsert\u001b[0;34m(self, role_arn, description, tags, parallelism_config)\u001b[0m\n\u001b[1;32m    290\u001b[0m     \u001b[38;5;28;01mraise\u001b[39;00m \u001b[38;5;167;01mValueError\u001b[39;00m(\u001b[38;5;124m\"\u001b[39m\u001b[38;5;124mAn AWS IAM role is required to create or update a Pipeline.\u001b[39m\u001b[38;5;124m\"\u001b[39m)\n\u001b[1;32m    291\u001b[0m \u001b[38;5;28;01mtry\u001b[39;00m:\n\u001b[0;32m--> 292\u001b[0m     response \u001b[38;5;241m=\u001b[39m \u001b[38;5;28;43mself\u001b[39;49m\u001b[38;5;241;43m.\u001b[39;49m\u001b[43mcreate\u001b[49m\u001b[43m(\u001b[49m\u001b[43mrole_arn\u001b[49m\u001b[43m,\u001b[49m\u001b[43m \u001b[49m\u001b[43mdescription\u001b[49m\u001b[43m,\u001b[49m\u001b[43m \u001b[49m\u001b[43mtags\u001b[49m\u001b[43m,\u001b[49m\u001b[43m \u001b[49m\u001b[43mparallelism_config\u001b[49m\u001b[43m)\u001b[49m\n\u001b[1;32m    293\u001b[0m \u001b[38;5;28;01mexcept\u001b[39;00m ClientError \u001b[38;5;28;01mas\u001b[39;00m ce:\n\u001b[1;32m    294\u001b[0m     error_code \u001b[38;5;241m=\u001b[39m ce\u001b[38;5;241m.\u001b[39mresponse[\u001b[38;5;124m\"\u001b[39m\u001b[38;5;124mError\u001b[39m\u001b[38;5;124m\"\u001b[39m][\u001b[38;5;124m\"\u001b[39m\u001b[38;5;124mCode\u001b[39m\u001b[38;5;124m\"\u001b[39m]\n",
      "File \u001b[0;32m/opt/conda/lib/python3.11/site-packages/sagemaker/workflow/pipeline.py:169\u001b[0m, in \u001b[0;36mPipeline.create\u001b[0;34m(self, role_arn, description, tags, parallelism_config)\u001b[0m\n\u001b[1;32m    164\u001b[0m kwargs \u001b[38;5;241m=\u001b[39m \u001b[38;5;28mself\u001b[39m\u001b[38;5;241m.\u001b[39m_create_args(role_arn, description, parallelism_config)\n\u001b[1;32m    165\u001b[0m update_args(\n\u001b[1;32m    166\u001b[0m     kwargs,\n\u001b[1;32m    167\u001b[0m     Tags\u001b[38;5;241m=\u001b[39mtags,\n\u001b[1;32m    168\u001b[0m )\n\u001b[0;32m--> 169\u001b[0m \u001b[38;5;28;01mreturn\u001b[39;00m \u001b[38;5;28;43mself\u001b[39;49m\u001b[38;5;241;43m.\u001b[39;49m\u001b[43msagemaker_session\u001b[49m\u001b[38;5;241;43m.\u001b[39;49m\u001b[43msagemaker_client\u001b[49m\u001b[38;5;241;43m.\u001b[39;49m\u001b[43mcreate_pipeline\u001b[49m\u001b[43m(\u001b[49m\u001b[38;5;241;43m*\u001b[39;49m\u001b[38;5;241;43m*\u001b[39;49m\u001b[43mkwargs\u001b[49m\u001b[43m)\u001b[49m\n",
      "File \u001b[0;32m/opt/conda/lib/python3.11/site-packages/botocore/client.py:565\u001b[0m, in \u001b[0;36mClientCreator._create_api_method.<locals>._api_call\u001b[0;34m(self, *args, **kwargs)\u001b[0m\n\u001b[1;32m    561\u001b[0m     \u001b[38;5;28;01mraise\u001b[39;00m \u001b[38;5;167;01mTypeError\u001b[39;00m(\n\u001b[1;32m    562\u001b[0m         \u001b[38;5;124mf\u001b[39m\u001b[38;5;124m\"\u001b[39m\u001b[38;5;132;01m{\u001b[39;00mpy_operation_name\u001b[38;5;132;01m}\u001b[39;00m\u001b[38;5;124m() only accepts keyword arguments.\u001b[39m\u001b[38;5;124m\"\u001b[39m\n\u001b[1;32m    563\u001b[0m     )\n\u001b[1;32m    564\u001b[0m \u001b[38;5;66;03m# The \"self\" in this scope is referring to the BaseClient.\u001b[39;00m\n\u001b[0;32m--> 565\u001b[0m \u001b[38;5;28;01mreturn\u001b[39;00m \u001b[38;5;28;43mself\u001b[39;49m\u001b[38;5;241;43m.\u001b[39;49m\u001b[43m_make_api_call\u001b[49m\u001b[43m(\u001b[49m\u001b[43moperation_name\u001b[49m\u001b[43m,\u001b[49m\u001b[43m \u001b[49m\u001b[43mkwargs\u001b[49m\u001b[43m)\u001b[49m\n",
      "File \u001b[0;32m/opt/conda/lib/python3.11/site-packages/botocore/client.py:1017\u001b[0m, in \u001b[0;36mBaseClient._make_api_call\u001b[0;34m(self, operation_name, api_params)\u001b[0m\n\u001b[1;32m   1013\u001b[0m     error_code \u001b[38;5;241m=\u001b[39m error_info\u001b[38;5;241m.\u001b[39mget(\u001b[38;5;124m\"\u001b[39m\u001b[38;5;124mQueryErrorCode\u001b[39m\u001b[38;5;124m\"\u001b[39m) \u001b[38;5;129;01mor\u001b[39;00m error_info\u001b[38;5;241m.\u001b[39mget(\n\u001b[1;32m   1014\u001b[0m         \u001b[38;5;124m\"\u001b[39m\u001b[38;5;124mCode\u001b[39m\u001b[38;5;124m\"\u001b[39m\n\u001b[1;32m   1015\u001b[0m     )\n\u001b[1;32m   1016\u001b[0m     error_class \u001b[38;5;241m=\u001b[39m \u001b[38;5;28mself\u001b[39m\u001b[38;5;241m.\u001b[39mexceptions\u001b[38;5;241m.\u001b[39mfrom_code(error_code)\n\u001b[0;32m-> 1017\u001b[0m     \u001b[38;5;28;01mraise\u001b[39;00m error_class(parsed_response, operation_name)\n\u001b[1;32m   1018\u001b[0m \u001b[38;5;28;01melse\u001b[39;00m:\n\u001b[1;32m   1019\u001b[0m     \u001b[38;5;28;01mreturn\u001b[39;00m parsed_response\n",
      "\u001b[0;31mClientError\u001b[0m: An error occurred (ValidationException) when calling the CreatePipeline operation: Unable to parse pipeline definition. Property 'null' with value 'null' is not of expected type 'String'"
     ]
    }
   ],
   "source": [
    "pipeline.upsert(role_arn=role, tags=tags)"
   ]
  },
  {
   "cell_type": "code",
   "execution_count": null,
   "id": "fafadbc8-dc07-4a27-a5fb-2aa9fcdfde91",
   "metadata": {},
   "outputs": [],
   "source": [
    "pipeline.start(\n",
    "    execution_display_name=model_description\n",
    ")"
   ]
  },
  {
   "cell_type": "code",
   "execution_count": null,
   "id": "5a194cb1-97c5-4875-baf8-21eef4f683e6",
   "metadata": {},
   "outputs": [],
   "source": [
    "print(\"Done!\")"
   ]
  },
  {
   "cell_type": "code",
   "execution_count": null,
   "id": "b668d612-9efe-4832-abbf-0943717d086a",
   "metadata": {},
   "outputs": [],
   "source": []
  }
 ],
 "metadata": {
  "availableInstances": [
   {
    "_defaultOrder": 0,
    "_isFastLaunch": true,
    "category": "General purpose",
    "gpuNum": 0,
    "hideHardwareSpecs": false,
    "memoryGiB": 4,
    "name": "ml.t3.medium",
    "vcpuNum": 2
   },
   {
    "_defaultOrder": 1,
    "_isFastLaunch": false,
    "category": "General purpose",
    "gpuNum": 0,
    "hideHardwareSpecs": false,
    "memoryGiB": 8,
    "name": "ml.t3.large",
    "vcpuNum": 2
   },
   {
    "_defaultOrder": 2,
    "_isFastLaunch": false,
    "category": "General purpose",
    "gpuNum": 0,
    "hideHardwareSpecs": false,
    "memoryGiB": 16,
    "name": "ml.t3.xlarge",
    "vcpuNum": 4
   },
   {
    "_defaultOrder": 3,
    "_isFastLaunch": false,
    "category": "General purpose",
    "gpuNum": 0,
    "hideHardwareSpecs": false,
    "memoryGiB": 32,
    "name": "ml.t3.2xlarge",
    "vcpuNum": 8
   },
   {
    "_defaultOrder": 4,
    "_isFastLaunch": true,
    "category": "General purpose",
    "gpuNum": 0,
    "hideHardwareSpecs": false,
    "memoryGiB": 8,
    "name": "ml.m5.large",
    "vcpuNum": 2
   },
   {
    "_defaultOrder": 5,
    "_isFastLaunch": false,
    "category": "General purpose",
    "gpuNum": 0,
    "hideHardwareSpecs": false,
    "memoryGiB": 16,
    "name": "ml.m5.xlarge",
    "vcpuNum": 4
   },
   {
    "_defaultOrder": 6,
    "_isFastLaunch": false,
    "category": "General purpose",
    "gpuNum": 0,
    "hideHardwareSpecs": false,
    "memoryGiB": 32,
    "name": "ml.m5.2xlarge",
    "vcpuNum": 8
   },
   {
    "_defaultOrder": 7,
    "_isFastLaunch": false,
    "category": "General purpose",
    "gpuNum": 0,
    "hideHardwareSpecs": false,
    "memoryGiB": 64,
    "name": "ml.m5.4xlarge",
    "vcpuNum": 16
   },
   {
    "_defaultOrder": 8,
    "_isFastLaunch": false,
    "category": "General purpose",
    "gpuNum": 0,
    "hideHardwareSpecs": false,
    "memoryGiB": 128,
    "name": "ml.m5.8xlarge",
    "vcpuNum": 32
   },
   {
    "_defaultOrder": 9,
    "_isFastLaunch": false,
    "category": "General purpose",
    "gpuNum": 0,
    "hideHardwareSpecs": false,
    "memoryGiB": 192,
    "name": "ml.m5.12xlarge",
    "vcpuNum": 48
   },
   {
    "_defaultOrder": 10,
    "_isFastLaunch": false,
    "category": "General purpose",
    "gpuNum": 0,
    "hideHardwareSpecs": false,
    "memoryGiB": 256,
    "name": "ml.m5.16xlarge",
    "vcpuNum": 64
   },
   {
    "_defaultOrder": 11,
    "_isFastLaunch": false,
    "category": "General purpose",
    "gpuNum": 0,
    "hideHardwareSpecs": false,
    "memoryGiB": 384,
    "name": "ml.m5.24xlarge",
    "vcpuNum": 96
   },
   {
    "_defaultOrder": 12,
    "_isFastLaunch": false,
    "category": "General purpose",
    "gpuNum": 0,
    "hideHardwareSpecs": false,
    "memoryGiB": 8,
    "name": "ml.m5d.large",
    "vcpuNum": 2
   },
   {
    "_defaultOrder": 13,
    "_isFastLaunch": false,
    "category": "General purpose",
    "gpuNum": 0,
    "hideHardwareSpecs": false,
    "memoryGiB": 16,
    "name": "ml.m5d.xlarge",
    "vcpuNum": 4
   },
   {
    "_defaultOrder": 14,
    "_isFastLaunch": false,
    "category": "General purpose",
    "gpuNum": 0,
    "hideHardwareSpecs": false,
    "memoryGiB": 32,
    "name": "ml.m5d.2xlarge",
    "vcpuNum": 8
   },
   {
    "_defaultOrder": 15,
    "_isFastLaunch": false,
    "category": "General purpose",
    "gpuNum": 0,
    "hideHardwareSpecs": false,
    "memoryGiB": 64,
    "name": "ml.m5d.4xlarge",
    "vcpuNum": 16
   },
   {
    "_defaultOrder": 16,
    "_isFastLaunch": false,
    "category": "General purpose",
    "gpuNum": 0,
    "hideHardwareSpecs": false,
    "memoryGiB": 128,
    "name": "ml.m5d.8xlarge",
    "vcpuNum": 32
   },
   {
    "_defaultOrder": 17,
    "_isFastLaunch": false,
    "category": "General purpose",
    "gpuNum": 0,
    "hideHardwareSpecs": false,
    "memoryGiB": 192,
    "name": "ml.m5d.12xlarge",
    "vcpuNum": 48
   },
   {
    "_defaultOrder": 18,
    "_isFastLaunch": false,
    "category": "General purpose",
    "gpuNum": 0,
    "hideHardwareSpecs": false,
    "memoryGiB": 256,
    "name": "ml.m5d.16xlarge",
    "vcpuNum": 64
   },
   {
    "_defaultOrder": 19,
    "_isFastLaunch": false,
    "category": "General purpose",
    "gpuNum": 0,
    "hideHardwareSpecs": false,
    "memoryGiB": 384,
    "name": "ml.m5d.24xlarge",
    "vcpuNum": 96
   },
   {
    "_defaultOrder": 20,
    "_isFastLaunch": false,
    "category": "General purpose",
    "gpuNum": 0,
    "hideHardwareSpecs": true,
    "memoryGiB": 0,
    "name": "ml.geospatial.interactive",
    "supportedImageNames": [
     "sagemaker-geospatial-v1-0"
    ],
    "vcpuNum": 0
   },
   {
    "_defaultOrder": 21,
    "_isFastLaunch": true,
    "category": "Compute optimized",
    "gpuNum": 0,
    "hideHardwareSpecs": false,
    "memoryGiB": 4,
    "name": "ml.c5.large",
    "vcpuNum": 2
   },
   {
    "_defaultOrder": 22,
    "_isFastLaunch": false,
    "category": "Compute optimized",
    "gpuNum": 0,
    "hideHardwareSpecs": false,
    "memoryGiB": 8,
    "name": "ml.c5.xlarge",
    "vcpuNum": 4
   },
   {
    "_defaultOrder": 23,
    "_isFastLaunch": false,
    "category": "Compute optimized",
    "gpuNum": 0,
    "hideHardwareSpecs": false,
    "memoryGiB": 16,
    "name": "ml.c5.2xlarge",
    "vcpuNum": 8
   },
   {
    "_defaultOrder": 24,
    "_isFastLaunch": false,
    "category": "Compute optimized",
    "gpuNum": 0,
    "hideHardwareSpecs": false,
    "memoryGiB": 32,
    "name": "ml.c5.4xlarge",
    "vcpuNum": 16
   },
   {
    "_defaultOrder": 25,
    "_isFastLaunch": false,
    "category": "Compute optimized",
    "gpuNum": 0,
    "hideHardwareSpecs": false,
    "memoryGiB": 72,
    "name": "ml.c5.9xlarge",
    "vcpuNum": 36
   },
   {
    "_defaultOrder": 26,
    "_isFastLaunch": false,
    "category": "Compute optimized",
    "gpuNum": 0,
    "hideHardwareSpecs": false,
    "memoryGiB": 96,
    "name": "ml.c5.12xlarge",
    "vcpuNum": 48
   },
   {
    "_defaultOrder": 27,
    "_isFastLaunch": false,
    "category": "Compute optimized",
    "gpuNum": 0,
    "hideHardwareSpecs": false,
    "memoryGiB": 144,
    "name": "ml.c5.18xlarge",
    "vcpuNum": 72
   },
   {
    "_defaultOrder": 28,
    "_isFastLaunch": false,
    "category": "Compute optimized",
    "gpuNum": 0,
    "hideHardwareSpecs": false,
    "memoryGiB": 192,
    "name": "ml.c5.24xlarge",
    "vcpuNum": 96
   },
   {
    "_defaultOrder": 29,
    "_isFastLaunch": true,
    "category": "Accelerated computing",
    "gpuNum": 1,
    "hideHardwareSpecs": false,
    "memoryGiB": 16,
    "name": "ml.g4dn.xlarge",
    "vcpuNum": 4
   },
   {
    "_defaultOrder": 30,
    "_isFastLaunch": false,
    "category": "Accelerated computing",
    "gpuNum": 1,
    "hideHardwareSpecs": false,
    "memoryGiB": 32,
    "name": "ml.g4dn.2xlarge",
    "vcpuNum": 8
   },
   {
    "_defaultOrder": 31,
    "_isFastLaunch": false,
    "category": "Accelerated computing",
    "gpuNum": 1,
    "hideHardwareSpecs": false,
    "memoryGiB": 64,
    "name": "ml.g4dn.4xlarge",
    "vcpuNum": 16
   },
   {
    "_defaultOrder": 32,
    "_isFastLaunch": false,
    "category": "Accelerated computing",
    "gpuNum": 1,
    "hideHardwareSpecs": false,
    "memoryGiB": 128,
    "name": "ml.g4dn.8xlarge",
    "vcpuNum": 32
   },
   {
    "_defaultOrder": 33,
    "_isFastLaunch": false,
    "category": "Accelerated computing",
    "gpuNum": 4,
    "hideHardwareSpecs": false,
    "memoryGiB": 192,
    "name": "ml.g4dn.12xlarge",
    "vcpuNum": 48
   },
   {
    "_defaultOrder": 34,
    "_isFastLaunch": false,
    "category": "Accelerated computing",
    "gpuNum": 1,
    "hideHardwareSpecs": false,
    "memoryGiB": 256,
    "name": "ml.g4dn.16xlarge",
    "vcpuNum": 64
   },
   {
    "_defaultOrder": 35,
    "_isFastLaunch": false,
    "category": "Accelerated computing",
    "gpuNum": 1,
    "hideHardwareSpecs": false,
    "memoryGiB": 61,
    "name": "ml.p3.2xlarge",
    "vcpuNum": 8
   },
   {
    "_defaultOrder": 36,
    "_isFastLaunch": false,
    "category": "Accelerated computing",
    "gpuNum": 4,
    "hideHardwareSpecs": false,
    "memoryGiB": 244,
    "name": "ml.p3.8xlarge",
    "vcpuNum": 32
   },
   {
    "_defaultOrder": 37,
    "_isFastLaunch": false,
    "category": "Accelerated computing",
    "gpuNum": 8,
    "hideHardwareSpecs": false,
    "memoryGiB": 488,
    "name": "ml.p3.16xlarge",
    "vcpuNum": 64
   },
   {
    "_defaultOrder": 38,
    "_isFastLaunch": false,
    "category": "Accelerated computing",
    "gpuNum": 8,
    "hideHardwareSpecs": false,
    "memoryGiB": 768,
    "name": "ml.p3dn.24xlarge",
    "vcpuNum": 96
   },
   {
    "_defaultOrder": 39,
    "_isFastLaunch": false,
    "category": "Memory Optimized",
    "gpuNum": 0,
    "hideHardwareSpecs": false,
    "memoryGiB": 16,
    "name": "ml.r5.large",
    "vcpuNum": 2
   },
   {
    "_defaultOrder": 40,
    "_isFastLaunch": false,
    "category": "Memory Optimized",
    "gpuNum": 0,
    "hideHardwareSpecs": false,
    "memoryGiB": 32,
    "name": "ml.r5.xlarge",
    "vcpuNum": 4
   },
   {
    "_defaultOrder": 41,
    "_isFastLaunch": false,
    "category": "Memory Optimized",
    "gpuNum": 0,
    "hideHardwareSpecs": false,
    "memoryGiB": 64,
    "name": "ml.r5.2xlarge",
    "vcpuNum": 8
   },
   {
    "_defaultOrder": 42,
    "_isFastLaunch": false,
    "category": "Memory Optimized",
    "gpuNum": 0,
    "hideHardwareSpecs": false,
    "memoryGiB": 128,
    "name": "ml.r5.4xlarge",
    "vcpuNum": 16
   },
   {
    "_defaultOrder": 43,
    "_isFastLaunch": false,
    "category": "Memory Optimized",
    "gpuNum": 0,
    "hideHardwareSpecs": false,
    "memoryGiB": 256,
    "name": "ml.r5.8xlarge",
    "vcpuNum": 32
   },
   {
    "_defaultOrder": 44,
    "_isFastLaunch": false,
    "category": "Memory Optimized",
    "gpuNum": 0,
    "hideHardwareSpecs": false,
    "memoryGiB": 384,
    "name": "ml.r5.12xlarge",
    "vcpuNum": 48
   },
   {
    "_defaultOrder": 45,
    "_isFastLaunch": false,
    "category": "Memory Optimized",
    "gpuNum": 0,
    "hideHardwareSpecs": false,
    "memoryGiB": 512,
    "name": "ml.r5.16xlarge",
    "vcpuNum": 64
   },
   {
    "_defaultOrder": 46,
    "_isFastLaunch": false,
    "category": "Memory Optimized",
    "gpuNum": 0,
    "hideHardwareSpecs": false,
    "memoryGiB": 768,
    "name": "ml.r5.24xlarge",
    "vcpuNum": 96
   },
   {
    "_defaultOrder": 47,
    "_isFastLaunch": false,
    "category": "Accelerated computing",
    "gpuNum": 1,
    "hideHardwareSpecs": false,
    "memoryGiB": 16,
    "name": "ml.g5.xlarge",
    "vcpuNum": 4
   },
   {
    "_defaultOrder": 48,
    "_isFastLaunch": false,
    "category": "Accelerated computing",
    "gpuNum": 1,
    "hideHardwareSpecs": false,
    "memoryGiB": 32,
    "name": "ml.g5.2xlarge",
    "vcpuNum": 8
   },
   {
    "_defaultOrder": 49,
    "_isFastLaunch": false,
    "category": "Accelerated computing",
    "gpuNum": 1,
    "hideHardwareSpecs": false,
    "memoryGiB": 64,
    "name": "ml.g5.4xlarge",
    "vcpuNum": 16
   },
   {
    "_defaultOrder": 50,
    "_isFastLaunch": false,
    "category": "Accelerated computing",
    "gpuNum": 1,
    "hideHardwareSpecs": false,
    "memoryGiB": 128,
    "name": "ml.g5.8xlarge",
    "vcpuNum": 32
   },
   {
    "_defaultOrder": 51,
    "_isFastLaunch": false,
    "category": "Accelerated computing",
    "gpuNum": 1,
    "hideHardwareSpecs": false,
    "memoryGiB": 256,
    "name": "ml.g5.16xlarge",
    "vcpuNum": 64
   },
   {
    "_defaultOrder": 52,
    "_isFastLaunch": false,
    "category": "Accelerated computing",
    "gpuNum": 4,
    "hideHardwareSpecs": false,
    "memoryGiB": 192,
    "name": "ml.g5.12xlarge",
    "vcpuNum": 48
   },
   {
    "_defaultOrder": 53,
    "_isFastLaunch": false,
    "category": "Accelerated computing",
    "gpuNum": 4,
    "hideHardwareSpecs": false,
    "memoryGiB": 384,
    "name": "ml.g5.24xlarge",
    "vcpuNum": 96
   },
   {
    "_defaultOrder": 54,
    "_isFastLaunch": false,
    "category": "Accelerated computing",
    "gpuNum": 8,
    "hideHardwareSpecs": false,
    "memoryGiB": 768,
    "name": "ml.g5.48xlarge",
    "vcpuNum": 192
   },
   {
    "_defaultOrder": 55,
    "_isFastLaunch": false,
    "category": "Accelerated computing",
    "gpuNum": 8,
    "hideHardwareSpecs": false,
    "memoryGiB": 1152,
    "name": "ml.p4d.24xlarge",
    "vcpuNum": 96
   },
   {
    "_defaultOrder": 56,
    "_isFastLaunch": false,
    "category": "Accelerated computing",
    "gpuNum": 8,
    "hideHardwareSpecs": false,
    "memoryGiB": 1152,
    "name": "ml.p4de.24xlarge",
    "vcpuNum": 96
   },
   {
    "_defaultOrder": 57,
    "_isFastLaunch": false,
    "category": "Accelerated computing",
    "gpuNum": 0,
    "hideHardwareSpecs": false,
    "memoryGiB": 32,
    "name": "ml.trn1.2xlarge",
    "vcpuNum": 8
   },
   {
    "_defaultOrder": 58,
    "_isFastLaunch": false,
    "category": "Accelerated computing",
    "gpuNum": 0,
    "hideHardwareSpecs": false,
    "memoryGiB": 512,
    "name": "ml.trn1.32xlarge",
    "vcpuNum": 128
   },
   {
    "_defaultOrder": 59,
    "_isFastLaunch": false,
    "category": "Accelerated computing",
    "gpuNum": 0,
    "hideHardwareSpecs": false,
    "memoryGiB": 512,
    "name": "ml.trn1n.32xlarge",
    "vcpuNum": 128
   }
  ],
  "instance_type": "ml.t3.medium",
  "kernelspec": {
   "display_name": "Python 3 (Data Science 3.0)",
   "language": "python",
   "name": "python3__SAGEMAKER_INTERNAL__arn:aws:sagemaker:us-east-1:081325390199:image/sagemaker-data-science-310-v1"
  },
  "language_info": {
   "codemirror_mode": {
    "name": "ipython",
    "version": 3
   },
   "file_extension": ".py",
   "mimetype": "text/x-python",
   "name": "python",
   "nbconvert_exporter": "python",
   "pygments_lexer": "ipython3",
   "version": "3.10.6"
  }
 },
 "nbformat": 4,
 "nbformat_minor": 5
}
