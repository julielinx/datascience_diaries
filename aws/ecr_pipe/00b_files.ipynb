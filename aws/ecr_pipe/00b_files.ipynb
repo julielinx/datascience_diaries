{
 "cells": [
  {
   "cell_type": "code",
   "execution_count": 1,
   "id": "cd3c4917-cccd-4084-8973-6bafd0e3912b",
   "metadata": {
    "tags": []
   },
   "outputs": [],
   "source": [
    "import json\n",
    "import yaml\n",
    "import os"
   ]
  },
  {
   "cell_type": "code",
   "execution_count": 2,
   "id": "09883901-dfab-49e4-a4a0-4621386b94dc",
   "metadata": {
    "tags": []
   },
   "outputs": [],
   "source": [
    "with open('param_config.yaml', 'r') as config_file:\n",
    "    config_params = yaml.safe_load(config_file)"
   ]
  },
  {
   "cell_type": "code",
   "execution_count": 3,
   "id": "ecb6b518-4ddd-4d49-86cf-93e109aeb0bb",
   "metadata": {
    "tags": []
   },
   "outputs": [],
   "source": [
    "folder_dir = config_params['processor_dir']"
   ]
  },
  {
   "cell_type": "code",
   "execution_count": 4,
   "id": "e51d5d75-6870-4f41-8b0b-588bd0bd5382",
   "metadata": {},
   "outputs": [],
   "source": [
    "os.makedirs(folder_dir, exist_ok=True)"
   ]
  },
  {
   "cell_type": "code",
   "execution_count": 5,
   "id": "2d2f92ab-fbc5-4c11-af85-d27f83f6bb39",
   "metadata": {
    "jupyter": {
     "source_hidden": true
    },
    "tags": []
   },
   "outputs": [],
   "source": [
    "algo_dict = {\n",
    "            # 'LogisticRegression': {'module': 'sklearn.linear_model',\n",
    "            #                         'class': \"LogisticRegression\",\n",
    "            #                         'defaults': {'max_iter': 10000},\n",
    "            #                         'params': {\"solver\": [\"lbfgs\", \"liblinear\", \"newton-cg\", \"newton-cholesky\",\n",
    "            #                                                \"sag\",\"saga\"],\n",
    "            #                                    \"penalty\": [\"l1\", \"l2\", None],\n",
    "            #                                    'max_iter': [10000]}},\n",
    "             'SGDClassifier': {'module': 'sklearn.linear_model',\n",
    "                               'class': \"SGDClassifier\",\n",
    "                               'defaults': {'loss': 'modified_huber'},\n",
    "                               'params': {\"loss\": [\"log_loss\", \"modified_huber\"],\n",
    "                                          \"penalty\": [\"l1\", \"l2\", None],\n",
    "                                          'alpha': [0.0001, 0.001, 0.01, 0.1, 1],\n",
    "                                          'learning_rate':['constant', 'optimal', 'invscaling', 'adaptive'],\n",
    "                                          'eta0':[10e-5]}},\n",
    "             'KNeighborsClassifier': {'module': 'sklearn.neighbors',\n",
    "                     'class': \"KNeighborsClassifier\",\n",
    "                     'params': {'n_neighbors': [5, 15, 25, 50],\n",
    "                                'weights': [\"uniform\", \"distance\"],\n",
    "                                # 'algorithm': ['ball_tree', 'kd_tree', 'brute'],\n",
    "                                'metric': [\"cityblock\", \"cosine\", \"euclidean\", \"l1\", \"l2\", \"manhattan\", \"nan_euclidean\"]}},\n",
    "             'DecisionTreeClassifier': {'module': 'sklearn.tree',\n",
    "                              'class': \"DecisionTreeClassifier\",\n",
    "                              'params': {\"criterion\":[\"gini\", \"entropy\", \"log_loss\"],\n",
    "                                         \"splitter\":[\"best\", \"random\"],\n",
    "                                         \"max_depth\": [None, 10, 100],\n",
    "                                         \"min_samples_split\": [2, 100, 1000],\n",
    "                                         \"min_samples_leaf\":[1, 10, 100],\n",
    "                                         \"max_features\": [None, \"sqrt\", \"log2\", 0.25, 0.5, 0.75],\n",
    "                                         \"max_leaf_nodes\":[None, 10, 100],\n",
    "                                         \"random_state\": [12]}},\n",
    "             'ExtraTreeClassifier': {'module': 'sklearn.tree',\n",
    "                           'class': \"ExtraTreeClassifier\",\n",
    "                           'defaults': {'splitter': 'best', \"min_samples_leaf\": 10},\n",
    "                           'params': {\"criterion\":[\"gini\", \"entropy\", \"log_loss\"],\n",
    "                                      \"splitter\":[\"best\", \"random\"],\n",
    "                                      \"max_depth\": [None, 10, 100],\n",
    "                                      \"min_samples_split\": [2, 100, 1000],\n",
    "                                      \"min_samples_leaf\":[1, 10, 100],\n",
    "                                      \"max_features\": [None, \"sqrt\", \"log2\", 0.25, 0.5, 0.75],\n",
    "                                      \"max_leaf_nodes\":[None, 10, 100],\n",
    "                                      \"random_state\": [12]}},\n",
    "             'AdaBoostClassifier': {'module': 'sklearn.ensemble',\n",
    "                          'class': \"AdaBoostClassifier\",\n",
    "                          'params': {\"n_estimators\":[5, 25, 50],\n",
    "                                     \"learning_rate\":[0.5, 1, 10],\n",
    "                                     \"algorithm\": ['SAMME', 'SAMME.R'],\n",
    "                                     \"random_state\": [12]}},\n",
    "             # 'BaggingClassifier': {'module': 'sklearn.ensemble',\n",
    "             #             'class': \"BaggingClassifier\",\n",
    "             #             'defaults': {\"n_estimators\": 50,\n",
    "             #                          \"max_samples\": 0.5,\n",
    "             #                          \"max_features\": 0.6,\n",
    "             #                          \"bootstrap_features\": True},\n",
    "             #             'params': {\"n_estimators\":[10, 25, 50, 100],\n",
    "             #                        \"max_samples\":[0.25, 0.5, 0.75, 1],\n",
    "             #                        \"max_features\": [0.25, 0.5, 0.75, 1],\n",
    "             #                        \"bootstrap\":[True, False],\n",
    "             #                        \"bootstrap_features\":[True, False],\n",
    "             #                        \"warm_start\":[True, False],\n",
    "             #                        \"random_state\": [12]}},\n",
    "            'ExtraTreesClassifier': {'module': 'sklearn.ensemble',\n",
    "                           'class': \"ExtraTreesClassifier\",\n",
    "                           'params': {\"n_estimators\":[50, 100, 150],\n",
    "                                      \"criterion\":[\"gini\", \"entropy\", \"log_loss\"],\n",
    "                                      \"max_depth\": [None, 10, 100],\n",
    "                                      \"min_samples_split\": [2, 100, 1000],\n",
    "                                      \"min_samples_leaf\":[1, 10, 100],\n",
    "                                      \"max_features\": [None, \"sqrt\", \"log2\", 0.25, 0.5, 0.75],\n",
    "                                      \"max_leaf_nodes\":[None, 10, 100],\n",
    "                                      \"bootstrap\":[True, False],\n",
    "                                      \"warm_start\":[True, False],\n",
    "                                      \"random_state\": [12]}},\n",
    "            # 'GradientBoostingClassifier': {'module': 'sklearn.ensemble',\n",
    "            #                   'class': \"GradientBoostingClassifier\",\n",
    "            #                   'params': {\"loss\":['log_loss', 'exponential'],\n",
    "            #                              \"learning_rate\":[0.5, 1, 10],\n",
    "            #                              \"n_estimators\":[50, 100, 150],\n",
    "            #                              \"subsample\": [0.5, 1],\n",
    "            #                              \"criterion\": [\"friedman_mse\", \"squared_error\"],\n",
    "            #                              \"min_samples_split\": [2, 100, 1000],\n",
    "            #                              \"min_samples_leaf\":[1, 10, 100],\n",
    "            #                              \"max_depth\": [3, 15, 25],\n",
    "            #                              \"max_features\": [None, \"sqrt\", \"log2\", 0.25, 0.5, 0.75],\n",
    "            #                              \"warm_start\":[True, False],\n",
    "            #                              \"validation_fraction\": [0.4, 0.2],\n",
    "            #                              # \"n_iter_no_change\": [5, 10],\n",
    "            #                              \"random_state\": [12]}},\n",
    "            'RandomForestClassifier': {'module': 'sklearn.ensemble',\n",
    "                             'class': \"RandomForestClassifier\",\n",
    "                             'params': {\"n_estimators\":[50, 100, 150],\n",
    "                                        \"criterion\":[\"gini\", \"entropy\", \"log_loss\"],\n",
    "                                        \"max_depth\": [None, 10, 100],\n",
    "                                        \"min_samples_split\": [2, 100, 1000],\n",
    "                                        \"min_samples_leaf\":[1, 10, 100],\n",
    "                                        \"max_features\": [None, \"sqrt\", \"log2\", 0.25, 0.5, 0.75],\n",
    "                                        \"max_leaf_nodes\":[None, 10, 100],\n",
    "                                        \"bootstrap\":[True, False],\n",
    "                                        \"warm_start\":[True, False],\n",
    "                                        \"random_state\": [12]}},\n",
    "            'HistGradientBoostingClassifier': {'module': 'sklearn.ensemble',\n",
    "                                  'class': \"HistGradientBoostingClassifier\",\n",
    "                                  'params': {\"learning_rate\":[0.25, 0.5, 0.75, 1],\n",
    "                                             \"max_iter\": [50, 100, 150],\n",
    "                                             \"max_leaf_nodes\":[10, 30, 100],\n",
    "                                             \"max_depth\": [None, 10, 25, 50],\n",
    "                                             \"min_samples_leaf\":[1, 10, 100],\n",
    "                                             \"warm_start\":[True, False],\n",
    "                                             \"validation_fraction\": [0.4, 0.2],\n",
    "                                             \"random_state\": [12]}},\n",
    "            'XGBClassifier': {'module': 'xgboost',\n",
    "                        'class': \"XGBClassifier\",\n",
    "                        'params': {\"learning_rate\":[0.25, 0.5, 0.75, 1],\n",
    "                                   \"gamma\": [0, 0.5, 1, 100],\n",
    "                                   \"max_depth\": [1, 10, 100],\n",
    "                                   \"min_child_weight\":[1, 10, 100],\n",
    "                                   \"max_delta_step\":[0, 2, 10],\n",
    "                                   \"subsample\": [0.25, 0.5, 0.75, 1],\n",
    "                                   \"lambda\": [0.25, 0.5, 0.75,],\n",
    "                                   \"alpha\": [0.25, 0.5, 0.75,],\n",
    "                                   \"tree_method\": [\"auto\", \"exact\", \"approx\"],\n",
    "                                   \"random_state\": [12]}}\n",
    "            }\n",
    "\n",
    "with open(folder_dir + \"/algo_dict.json\", \"w\") as ad:\n",
    "    ad.write(json.dumps(algo_dict))"
   ]
  },
  {
   "cell_type": "code",
   "execution_count": 6,
   "id": "4eafc7bb-445c-451f-8ac7-77818e441e90",
   "metadata": {
    "jupyter": {
     "source_hidden": true
    },
    "tags": []
   },
   "outputs": [],
   "source": [
    "col_dict = {\n",
    "        \"true_false\": {\n",
    "            'transformer': \"TrueFalseTransformer\",\n",
    "            'multiplier': 1,\n",
    "            'columns': [\n",
    "                'true_false'\n",
    "                ]},\n",
    "        \"one_hot\": {\n",
    "            'transformer': \"OneHotTransformer\",\n",
    "            'multiplier': 10,\n",
    "            'columns':[\n",
    "                'one_hot'\n",
    "                ]},\n",
    "        \"date_cols\": {\n",
    "            'transformer': \"DateTransformer\",\n",
    "            'multiplier': 1,\n",
    "            'columns':[\n",
    "                'dates'\n",
    "                ]},\n",
    "        \"float_cols\": {\n",
    "            'transformer': \"FloatTransformer\",\n",
    "            'multiplier': 1,\n",
    "            'columns':[\n",
    "                'floats'\n",
    "                ]},\n",
    "        \"max_of_list\": {\n",
    "            'transformer': \"ListMaxTransformer\",\n",
    "            'multiplier': 1,\n",
    "            'columns':[\n",
    "                'max_of_list'\n",
    "                ]},\n",
    "        \"count_unique\": {\n",
    "            'transformer': \"ListNuniqueTransformer\",\n",
    "            'multiplier': 1,\n",
    "            'columns':[\n",
    "                'nunique_of_list'\n",
    "                ]},\n",
    "        \"desc_stat_cols\":{\n",
    "            'transformer': \"DescStatTransformer\",\n",
    "            'multiplier': 5,\n",
    "            'columns':[\n",
    "                'desc_stats'\n",
    "                ]},\n",
    "        \"list_to_labels\": {\n",
    "            'transformer': \"MultilabelTransformer\",\n",
    "            'multiplier': 10,\n",
    "            'columns':[\n",
    "                'multi_label'\n",
    "                ]},\n",
    "        \"drop_cols\": {\n",
    "            'transformer': 'drop',\n",
    "            'multiplier': 0,\n",
    "            'columns':[\n",
    "                'random_col',\n",
    "                'other']}}\n",
    "\n",
    "with open(folder_dir + \"/col_dict.json\", \"w\") as cd:\n",
    "    cd.write(json.dumps(col_dict))"
   ]
  },
  {
   "cell_type": "markdown",
   "id": "6e15c5eb-17d9-48ad-9c19-be6ff0c9f388",
   "metadata": {
    "tags": []
   },
   "source": [
    "# Requirements"
   ]
  },
  {
   "cell_type": "code",
   "execution_count": 7,
   "id": "e3a4ee0e-7b2d-46ed-a275-5c4385b314b2",
   "metadata": {},
   "outputs": [
    {
     "name": "stdout",
     "output_type": "stream",
     "text": [
      "Writing requirements.txt\n"
     ]
    }
   ],
   "source": [
    "%%writefile requirements.txt\n",
    "alibi==0.9.6\n",
    "DateTime==5.5\n",
    "importlib==1.0.4\n",
    "joblib==1.4.2\n",
    "numpy==1.26.4\n",
    "pandas==2.2.3\n",
    "pathlib==1.0.1\n",
    "platformdirs==4.3.6\n",
    "pyarrow==18.0.0\n",
    "PyYAML==6.0.2\n",
    "sagemaker-training==4.8.1\n",
    "scikit-explain==0.1.4\n",
    "scikit-learn==1.5.2\n",
    "shap==0.46.0\n",
    "xgboost==2.1.2"
   ]
  },
  {
   "cell_type": "code",
   "execution_count": 8,
   "id": "9587c766-f6cf-4b2a-9beb-a144e417d1ac",
   "metadata": {
    "tags": []
   },
   "outputs": [
    {
     "name": "stdout",
     "output_type": "stream",
     "text": [
      "Writing Dockerfile\n"
     ]
    }
   ],
   "source": [
    "%%writefile Dockerfile\n",
    "FROM python:3.12-slim\n",
    "COPY requirements.txt /opt/app/requirements.txt\n",
    "COPY source_dir/* /opt/app\n",
    "WORKDIR /opt/app\n",
    "RUN apt-get -y update\n",
    "RUN apt-get -y install gcc\n",
    "RUN pip3 install -r requirements.txt\n",
    "ENV PYTHONUNBUFFERED=TRUE\n",
    "ENV PYTHONPATH=\"/opt/app:${PYTHONPATH}\"\n",
    "ENTRYPOINT [\"python3\"]"
   ]
  },
  {
   "cell_type": "code",
   "execution_count": null,
   "id": "1a0e3190-5138-4832-8a21-ff47662fad8a",
   "metadata": {},
   "outputs": [],
   "source": []
  }
 ],
 "metadata": {
  "availableInstances": [
   {
    "_defaultOrder": 0,
    "_isFastLaunch": true,
    "category": "General purpose",
    "gpuNum": 0,
    "hideHardwareSpecs": false,
    "memoryGiB": 4,
    "name": "ml.t3.medium",
    "vcpuNum": 2
   },
   {
    "_defaultOrder": 1,
    "_isFastLaunch": false,
    "category": "General purpose",
    "gpuNum": 0,
    "hideHardwareSpecs": false,
    "memoryGiB": 8,
    "name": "ml.t3.large",
    "vcpuNum": 2
   },
   {
    "_defaultOrder": 2,
    "_isFastLaunch": false,
    "category": "General purpose",
    "gpuNum": 0,
    "hideHardwareSpecs": false,
    "memoryGiB": 16,
    "name": "ml.t3.xlarge",
    "vcpuNum": 4
   },
   {
    "_defaultOrder": 3,
    "_isFastLaunch": false,
    "category": "General purpose",
    "gpuNum": 0,
    "hideHardwareSpecs": false,
    "memoryGiB": 32,
    "name": "ml.t3.2xlarge",
    "vcpuNum": 8
   },
   {
    "_defaultOrder": 4,
    "_isFastLaunch": true,
    "category": "General purpose",
    "gpuNum": 0,
    "hideHardwareSpecs": false,
    "memoryGiB": 8,
    "name": "ml.m5.large",
    "vcpuNum": 2
   },
   {
    "_defaultOrder": 5,
    "_isFastLaunch": false,
    "category": "General purpose",
    "gpuNum": 0,
    "hideHardwareSpecs": false,
    "memoryGiB": 16,
    "name": "ml.m5.xlarge",
    "vcpuNum": 4
   },
   {
    "_defaultOrder": 6,
    "_isFastLaunch": false,
    "category": "General purpose",
    "gpuNum": 0,
    "hideHardwareSpecs": false,
    "memoryGiB": 32,
    "name": "ml.m5.2xlarge",
    "vcpuNum": 8
   },
   {
    "_defaultOrder": 7,
    "_isFastLaunch": false,
    "category": "General purpose",
    "gpuNum": 0,
    "hideHardwareSpecs": false,
    "memoryGiB": 64,
    "name": "ml.m5.4xlarge",
    "vcpuNum": 16
   },
   {
    "_defaultOrder": 8,
    "_isFastLaunch": false,
    "category": "General purpose",
    "gpuNum": 0,
    "hideHardwareSpecs": false,
    "memoryGiB": 128,
    "name": "ml.m5.8xlarge",
    "vcpuNum": 32
   },
   {
    "_defaultOrder": 9,
    "_isFastLaunch": false,
    "category": "General purpose",
    "gpuNum": 0,
    "hideHardwareSpecs": false,
    "memoryGiB": 192,
    "name": "ml.m5.12xlarge",
    "vcpuNum": 48
   },
   {
    "_defaultOrder": 10,
    "_isFastLaunch": false,
    "category": "General purpose",
    "gpuNum": 0,
    "hideHardwareSpecs": false,
    "memoryGiB": 256,
    "name": "ml.m5.16xlarge",
    "vcpuNum": 64
   },
   {
    "_defaultOrder": 11,
    "_isFastLaunch": false,
    "category": "General purpose",
    "gpuNum": 0,
    "hideHardwareSpecs": false,
    "memoryGiB": 384,
    "name": "ml.m5.24xlarge",
    "vcpuNum": 96
   },
   {
    "_defaultOrder": 12,
    "_isFastLaunch": false,
    "category": "General purpose",
    "gpuNum": 0,
    "hideHardwareSpecs": false,
    "memoryGiB": 8,
    "name": "ml.m5d.large",
    "vcpuNum": 2
   },
   {
    "_defaultOrder": 13,
    "_isFastLaunch": false,
    "category": "General purpose",
    "gpuNum": 0,
    "hideHardwareSpecs": false,
    "memoryGiB": 16,
    "name": "ml.m5d.xlarge",
    "vcpuNum": 4
   },
   {
    "_defaultOrder": 14,
    "_isFastLaunch": false,
    "category": "General purpose",
    "gpuNum": 0,
    "hideHardwareSpecs": false,
    "memoryGiB": 32,
    "name": "ml.m5d.2xlarge",
    "vcpuNum": 8
   },
   {
    "_defaultOrder": 15,
    "_isFastLaunch": false,
    "category": "General purpose",
    "gpuNum": 0,
    "hideHardwareSpecs": false,
    "memoryGiB": 64,
    "name": "ml.m5d.4xlarge",
    "vcpuNum": 16
   },
   {
    "_defaultOrder": 16,
    "_isFastLaunch": false,
    "category": "General purpose",
    "gpuNum": 0,
    "hideHardwareSpecs": false,
    "memoryGiB": 128,
    "name": "ml.m5d.8xlarge",
    "vcpuNum": 32
   },
   {
    "_defaultOrder": 17,
    "_isFastLaunch": false,
    "category": "General purpose",
    "gpuNum": 0,
    "hideHardwareSpecs": false,
    "memoryGiB": 192,
    "name": "ml.m5d.12xlarge",
    "vcpuNum": 48
   },
   {
    "_defaultOrder": 18,
    "_isFastLaunch": false,
    "category": "General purpose",
    "gpuNum": 0,
    "hideHardwareSpecs": false,
    "memoryGiB": 256,
    "name": "ml.m5d.16xlarge",
    "vcpuNum": 64
   },
   {
    "_defaultOrder": 19,
    "_isFastLaunch": false,
    "category": "General purpose",
    "gpuNum": 0,
    "hideHardwareSpecs": false,
    "memoryGiB": 384,
    "name": "ml.m5d.24xlarge",
    "vcpuNum": 96
   },
   {
    "_defaultOrder": 20,
    "_isFastLaunch": false,
    "category": "General purpose",
    "gpuNum": 0,
    "hideHardwareSpecs": true,
    "memoryGiB": 0,
    "name": "ml.geospatial.interactive",
    "supportedImageNames": [
     "sagemaker-geospatial-v1-0"
    ],
    "vcpuNum": 0
   },
   {
    "_defaultOrder": 21,
    "_isFastLaunch": true,
    "category": "Compute optimized",
    "gpuNum": 0,
    "hideHardwareSpecs": false,
    "memoryGiB": 4,
    "name": "ml.c5.large",
    "vcpuNum": 2
   },
   {
    "_defaultOrder": 22,
    "_isFastLaunch": false,
    "category": "Compute optimized",
    "gpuNum": 0,
    "hideHardwareSpecs": false,
    "memoryGiB": 8,
    "name": "ml.c5.xlarge",
    "vcpuNum": 4
   },
   {
    "_defaultOrder": 23,
    "_isFastLaunch": false,
    "category": "Compute optimized",
    "gpuNum": 0,
    "hideHardwareSpecs": false,
    "memoryGiB": 16,
    "name": "ml.c5.2xlarge",
    "vcpuNum": 8
   },
   {
    "_defaultOrder": 24,
    "_isFastLaunch": false,
    "category": "Compute optimized",
    "gpuNum": 0,
    "hideHardwareSpecs": false,
    "memoryGiB": 32,
    "name": "ml.c5.4xlarge",
    "vcpuNum": 16
   },
   {
    "_defaultOrder": 25,
    "_isFastLaunch": false,
    "category": "Compute optimized",
    "gpuNum": 0,
    "hideHardwareSpecs": false,
    "memoryGiB": 72,
    "name": "ml.c5.9xlarge",
    "vcpuNum": 36
   },
   {
    "_defaultOrder": 26,
    "_isFastLaunch": false,
    "category": "Compute optimized",
    "gpuNum": 0,
    "hideHardwareSpecs": false,
    "memoryGiB": 96,
    "name": "ml.c5.12xlarge",
    "vcpuNum": 48
   },
   {
    "_defaultOrder": 27,
    "_isFastLaunch": false,
    "category": "Compute optimized",
    "gpuNum": 0,
    "hideHardwareSpecs": false,
    "memoryGiB": 144,
    "name": "ml.c5.18xlarge",
    "vcpuNum": 72
   },
   {
    "_defaultOrder": 28,
    "_isFastLaunch": false,
    "category": "Compute optimized",
    "gpuNum": 0,
    "hideHardwareSpecs": false,
    "memoryGiB": 192,
    "name": "ml.c5.24xlarge",
    "vcpuNum": 96
   },
   {
    "_defaultOrder": 29,
    "_isFastLaunch": true,
    "category": "Accelerated computing",
    "gpuNum": 1,
    "hideHardwareSpecs": false,
    "memoryGiB": 16,
    "name": "ml.g4dn.xlarge",
    "vcpuNum": 4
   },
   {
    "_defaultOrder": 30,
    "_isFastLaunch": false,
    "category": "Accelerated computing",
    "gpuNum": 1,
    "hideHardwareSpecs": false,
    "memoryGiB": 32,
    "name": "ml.g4dn.2xlarge",
    "vcpuNum": 8
   },
   {
    "_defaultOrder": 31,
    "_isFastLaunch": false,
    "category": "Accelerated computing",
    "gpuNum": 1,
    "hideHardwareSpecs": false,
    "memoryGiB": 64,
    "name": "ml.g4dn.4xlarge",
    "vcpuNum": 16
   },
   {
    "_defaultOrder": 32,
    "_isFastLaunch": false,
    "category": "Accelerated computing",
    "gpuNum": 1,
    "hideHardwareSpecs": false,
    "memoryGiB": 128,
    "name": "ml.g4dn.8xlarge",
    "vcpuNum": 32
   },
   {
    "_defaultOrder": 33,
    "_isFastLaunch": false,
    "category": "Accelerated computing",
    "gpuNum": 4,
    "hideHardwareSpecs": false,
    "memoryGiB": 192,
    "name": "ml.g4dn.12xlarge",
    "vcpuNum": 48
   },
   {
    "_defaultOrder": 34,
    "_isFastLaunch": false,
    "category": "Accelerated computing",
    "gpuNum": 1,
    "hideHardwareSpecs": false,
    "memoryGiB": 256,
    "name": "ml.g4dn.16xlarge",
    "vcpuNum": 64
   },
   {
    "_defaultOrder": 35,
    "_isFastLaunch": false,
    "category": "Accelerated computing",
    "gpuNum": 1,
    "hideHardwareSpecs": false,
    "memoryGiB": 61,
    "name": "ml.p3.2xlarge",
    "vcpuNum": 8
   },
   {
    "_defaultOrder": 36,
    "_isFastLaunch": false,
    "category": "Accelerated computing",
    "gpuNum": 4,
    "hideHardwareSpecs": false,
    "memoryGiB": 244,
    "name": "ml.p3.8xlarge",
    "vcpuNum": 32
   },
   {
    "_defaultOrder": 37,
    "_isFastLaunch": false,
    "category": "Accelerated computing",
    "gpuNum": 8,
    "hideHardwareSpecs": false,
    "memoryGiB": 488,
    "name": "ml.p3.16xlarge",
    "vcpuNum": 64
   },
   {
    "_defaultOrder": 38,
    "_isFastLaunch": false,
    "category": "Accelerated computing",
    "gpuNum": 8,
    "hideHardwareSpecs": false,
    "memoryGiB": 768,
    "name": "ml.p3dn.24xlarge",
    "vcpuNum": 96
   },
   {
    "_defaultOrder": 39,
    "_isFastLaunch": false,
    "category": "Memory Optimized",
    "gpuNum": 0,
    "hideHardwareSpecs": false,
    "memoryGiB": 16,
    "name": "ml.r5.large",
    "vcpuNum": 2
   },
   {
    "_defaultOrder": 40,
    "_isFastLaunch": false,
    "category": "Memory Optimized",
    "gpuNum": 0,
    "hideHardwareSpecs": false,
    "memoryGiB": 32,
    "name": "ml.r5.xlarge",
    "vcpuNum": 4
   },
   {
    "_defaultOrder": 41,
    "_isFastLaunch": false,
    "category": "Memory Optimized",
    "gpuNum": 0,
    "hideHardwareSpecs": false,
    "memoryGiB": 64,
    "name": "ml.r5.2xlarge",
    "vcpuNum": 8
   },
   {
    "_defaultOrder": 42,
    "_isFastLaunch": false,
    "category": "Memory Optimized",
    "gpuNum": 0,
    "hideHardwareSpecs": false,
    "memoryGiB": 128,
    "name": "ml.r5.4xlarge",
    "vcpuNum": 16
   },
   {
    "_defaultOrder": 43,
    "_isFastLaunch": false,
    "category": "Memory Optimized",
    "gpuNum": 0,
    "hideHardwareSpecs": false,
    "memoryGiB": 256,
    "name": "ml.r5.8xlarge",
    "vcpuNum": 32
   },
   {
    "_defaultOrder": 44,
    "_isFastLaunch": false,
    "category": "Memory Optimized",
    "gpuNum": 0,
    "hideHardwareSpecs": false,
    "memoryGiB": 384,
    "name": "ml.r5.12xlarge",
    "vcpuNum": 48
   },
   {
    "_defaultOrder": 45,
    "_isFastLaunch": false,
    "category": "Memory Optimized",
    "gpuNum": 0,
    "hideHardwareSpecs": false,
    "memoryGiB": 512,
    "name": "ml.r5.16xlarge",
    "vcpuNum": 64
   },
   {
    "_defaultOrder": 46,
    "_isFastLaunch": false,
    "category": "Memory Optimized",
    "gpuNum": 0,
    "hideHardwareSpecs": false,
    "memoryGiB": 768,
    "name": "ml.r5.24xlarge",
    "vcpuNum": 96
   },
   {
    "_defaultOrder": 47,
    "_isFastLaunch": false,
    "category": "Accelerated computing",
    "gpuNum": 1,
    "hideHardwareSpecs": false,
    "memoryGiB": 16,
    "name": "ml.g5.xlarge",
    "vcpuNum": 4
   },
   {
    "_defaultOrder": 48,
    "_isFastLaunch": false,
    "category": "Accelerated computing",
    "gpuNum": 1,
    "hideHardwareSpecs": false,
    "memoryGiB": 32,
    "name": "ml.g5.2xlarge",
    "vcpuNum": 8
   },
   {
    "_defaultOrder": 49,
    "_isFastLaunch": false,
    "category": "Accelerated computing",
    "gpuNum": 1,
    "hideHardwareSpecs": false,
    "memoryGiB": 64,
    "name": "ml.g5.4xlarge",
    "vcpuNum": 16
   },
   {
    "_defaultOrder": 50,
    "_isFastLaunch": false,
    "category": "Accelerated computing",
    "gpuNum": 1,
    "hideHardwareSpecs": false,
    "memoryGiB": 128,
    "name": "ml.g5.8xlarge",
    "vcpuNum": 32
   },
   {
    "_defaultOrder": 51,
    "_isFastLaunch": false,
    "category": "Accelerated computing",
    "gpuNum": 1,
    "hideHardwareSpecs": false,
    "memoryGiB": 256,
    "name": "ml.g5.16xlarge",
    "vcpuNum": 64
   },
   {
    "_defaultOrder": 52,
    "_isFastLaunch": false,
    "category": "Accelerated computing",
    "gpuNum": 4,
    "hideHardwareSpecs": false,
    "memoryGiB": 192,
    "name": "ml.g5.12xlarge",
    "vcpuNum": 48
   },
   {
    "_defaultOrder": 53,
    "_isFastLaunch": false,
    "category": "Accelerated computing",
    "gpuNum": 4,
    "hideHardwareSpecs": false,
    "memoryGiB": 384,
    "name": "ml.g5.24xlarge",
    "vcpuNum": 96
   },
   {
    "_defaultOrder": 54,
    "_isFastLaunch": false,
    "category": "Accelerated computing",
    "gpuNum": 8,
    "hideHardwareSpecs": false,
    "memoryGiB": 768,
    "name": "ml.g5.48xlarge",
    "vcpuNum": 192
   },
   {
    "_defaultOrder": 55,
    "_isFastLaunch": false,
    "category": "Accelerated computing",
    "gpuNum": 8,
    "hideHardwareSpecs": false,
    "memoryGiB": 1152,
    "name": "ml.p4d.24xlarge",
    "vcpuNum": 96
   },
   {
    "_defaultOrder": 56,
    "_isFastLaunch": false,
    "category": "Accelerated computing",
    "gpuNum": 8,
    "hideHardwareSpecs": false,
    "memoryGiB": 1152,
    "name": "ml.p4de.24xlarge",
    "vcpuNum": 96
   },
   {
    "_defaultOrder": 57,
    "_isFastLaunch": false,
    "category": "Accelerated computing",
    "gpuNum": 0,
    "hideHardwareSpecs": false,
    "memoryGiB": 32,
    "name": "ml.trn1.2xlarge",
    "vcpuNum": 8
   },
   {
    "_defaultOrder": 58,
    "_isFastLaunch": false,
    "category": "Accelerated computing",
    "gpuNum": 0,
    "hideHardwareSpecs": false,
    "memoryGiB": 512,
    "name": "ml.trn1.32xlarge",
    "vcpuNum": 128
   },
   {
    "_defaultOrder": 59,
    "_isFastLaunch": false,
    "category": "Accelerated computing",
    "gpuNum": 0,
    "hideHardwareSpecs": false,
    "memoryGiB": 512,
    "name": "ml.trn1n.32xlarge",
    "vcpuNum": 128
   }
  ],
  "instance_type": "ml.t3.medium",
  "kernelspec": {
   "display_name": "Python 3 (ipykernel)",
   "language": "python",
   "name": "python3"
  },
  "language_info": {
   "codemirror_mode": {
    "name": "ipython",
    "version": 3
   },
   "file_extension": ".py",
   "mimetype": "text/x-python",
   "name": "python",
   "nbconvert_exporter": "python",
   "pygments_lexer": "ipython3",
   "version": "3.11.10"
  }
 },
 "nbformat": 4,
 "nbformat_minor": 5
}
