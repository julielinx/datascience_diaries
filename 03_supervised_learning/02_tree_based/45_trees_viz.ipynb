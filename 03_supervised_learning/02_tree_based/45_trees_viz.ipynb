{
 "cells": [
  {
   "cell_type": "markdown",
   "metadata": {},
   "source": [
    "# Entry 45 - Visualizing Decision Trees\n",
    "\n",
    "A major benefit of tree-based models is how easy they are to visualize. This visualization aspect is also vital to discussing how trees work."
   ]
  },
  {
   "cell_type": "markdown",
   "metadata": {},
   "source": [
    "## The Problem\n",
    "\n",
    "In order to take full advantage of the benefits of tree-based models, a way to visualize them is needed."
   ]
  },
  {
   "cell_type": "markdown",
   "metadata": {},
   "source": [
    "## The Options\n",
    "\n",
    "There are three main options for visualizing a Decision Tree:\n",
    "\n",
    "- `export_graphviz`\n",
    "- `pydotplus`\n",
    "- `tree.plot_tree`\n",
    "\n",
    "The package and options you want depend on what you want to do with the visualization. If you need to save the image then both `export_graphviz` and `pydotplus` will work. To simply visualize the tree in the Jupyter Notebook three packages have options that'll work.\n",
    "\n",
    "\n",
    "### `export_graphviz`\n",
    "\n",
    "Based on the number of tutorials `export_graphviz` appears to be the more popular option. Or it could just be the option that's been around longer and thus more well known.\n",
    "\n",
    "The `out_file` parameter accepts the path/name of the file and will save the image as a `.dot` file. The file can then be converted to a `.png` file using a command line function. Fortunately, command line functions can be run in Jupyter Notebook, so you don't have to switch back and forth.\n",
    "\n",
    "`!dot -Tpng image_name.dot -o image_name.png`\n",
    "\n",
    "If the `out_file` parameter is set to `None` it can be saved to a varable and passed to `graphviz.Source` to be visualized directly to the Jupyter Notebook.\n",
    "\n",
    "### `pydotplus`\n",
    "\n",
    "Okay, so you need `export_graphviz` to create the `.dot` file of the tree, but then you can use `pydotplus` to create a variable that can be either visualized or saved. To visualize it directly to the Notebook, use the `Image` function from the `IPython.display` package. To save it the commands `graph.write_dot` and `graph.write_png` come in handy.\n",
    "\n",
    "Seeing how this can be done with fewer functions using `graphviz.Source`, `pydotplus` feels a little extraneous.\n",
    "\n",
    "### `tree.plot_tree`\n",
    "\n",
    "Using `tree.plot_tree` from the `sklearn` package is probably the easiest option of the three. It also outputs text values for each node. If you want this, that's great. However, if you don't want this, it just clutters up the Notebook. The image that's returned is also rather small, which makes it hard to read."
   ]
  },
  {
   "cell_type": "markdown",
   "metadata": {},
   "source": [
    "## The Proposed Solution\n",
    "\n",
    "The `export_graphviz` package seems to be necessary to creating a visualization that can be customized. As such, for visualizing within the Notebook, my preference would be to use `export_graphviz` and `graphviz.Source`.\n",
    "\n",
    "However, when it comes to saving the image, I'm not a big fan of switching languages within the same Notebook, i.e. using the command line to convert the `.dot` to `.png`. As such, my preference would be to use `pydotplus` to conver the image within the Notebook, then save it using `graph.write_png`."
   ]
  },
  {
   "cell_type": "markdown",
   "metadata": {},
   "source": [
    "## Up Next\n",
    "\n",
    "Overfitting"
   ]
  },
  {
   "cell_type": "markdown",
   "metadata": {},
   "source": [
    "## Resources\n",
    "\n",
    "- [Hands-On Machine Learning with Scikit-Learn, Keras, and TensorFlow](https://www.amazon.com/Hands-Machine-Learning-Scikit-Learn-TensorFlow/dp/1492032646)\n",
    "- [Machine Learning with Python Cookbook](https://www.amazon.com/Machine-Learning-Python-Cookbook-Preprocessing/dp/1491989386)\n",
    "- [sklearn.tree.export_graphviz](https://scikit-learn.org/stable/modules/generated/sklearn.tree.export_graphviz.html)\n",
    "- [Plotting decision tree, graphvizm pydotplus](https://stackoverflow.com/questions/39956430/plotting-decision-tree-graphvizm-pydotplus)"
   ]
  }
 ],
 "metadata": {
  "kernelspec": {
   "display_name": "Python 3",
   "language": "python",
   "name": "python3"
  },
  "language_info": {
   "codemirror_mode": {
    "name": "ipython",
    "version": 3
   },
   "file_extension": ".py",
   "mimetype": "text/x-python",
   "name": "python",
   "nbconvert_exporter": "python",
   "pygments_lexer": "ipython3",
   "version": "3.7.7"
  }
 },
 "nbformat": 4,
 "nbformat_minor": 4
}
