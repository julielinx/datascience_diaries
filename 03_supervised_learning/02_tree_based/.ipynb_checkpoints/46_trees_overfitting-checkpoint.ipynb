{
 "cells": [
  {
   "cell_type": "markdown",
   "metadata": {},
   "source": [
    "# Entry 46 - Overfitting, Underfitting, and Data Sensitivity\n",
    "\n",
    "I wanted to point a co-worker to information about overfitting the other day. While I've discussed it in entries [17](https://julielinx.github.io/blog/17_resampling/) and [30](https://julielinx.github.io/blog/30_learning_curves_imp_perform/), I realized I haven't covered it in its own entry. Since overfitting is such a big problem with Decision Trees, this feels like the perfect time to stop and remedy that oversight.\n",
    "\n",
    "## The Problem\n",
    "\n",
    "Overfitting, underfitting, and data sensitivity can cause huge headaches after you've gotten through all the hard work of pre-processing, training, and deploying a model because the accuracy of your results won't be anywhere near what you expect."
   ]
  },
  {
   "cell_type": "markdown",
   "metadata": {},
   "source": [
    "## Overfitting and Underfitting \n",
    "\n",
    "Decision trees are very prone to overfitting. As a reminder from [Entry 17](https://julielinx.github.io/blog/17_resampling/) here are the definitions of overfitting and underfitting from [Introduction to Machine Learning with Python](https://www.amazon.com/Introduction-Machine-Learning-Python-Scientists/dp/1449369413/ref=sr_1_15?keywords=scikit+learn&qid=1583195970&s=books&sr=1-15) by Andreas Muller and Sarah Guido.\n",
    "\n",
    "- **Overfitting**: when a model is fit too closely to the training set, but is not able to generalize to new data, it is *overfit*.\n",
    "- **Underfitting**: when a model is fit too loosely / simply, causing it to predict poorly on training and test data, it is *underfit*.\n",
    "\n",
    "Aurelien Geron has a great illustration of this on page 184 of [Hands-On Machine Learning](https://www.amazon.com/Hands-Machine-Learning-Scikit-Learn-TensorFlow/dp/1492032646) using a tree-based model on a regression dataset. The code for this chart can be found in Geron's GitHub [notebook for Chapter 6](https://github.com/ageron/handson-ml2/blob/master/06_decision_trees.ipynb).\n",
    "\n",
    "<img src='images/ml2_overfitting.png'>\n",
    "\n",
    "The tree represented on the left is clearly overfit and wouldn't generalize well to data it hasn't seen before. The tree on the right will generalize to unseen data much better."
   ]
  },
  {
   "cell_type": "markdown",
   "metadata": {},
   "source": [
    "Jake VanderPlas has a great example of the propensity of classification tree-based models to overfit in his book [Python Data Science Handbook](https://jakevdp.github.io/PythonDataScienceHandbook/) on page 424. Using a synthetic dataset created using the `make_blots()` function, he trained two models using different subsets of half the data. His full explaination and the code can be found in his accompanying [Github notebook](https://github.com/jakevdp/PythonDataScienceHandbook/blob/master/notebooks/05.08-Random-Forests.ipynb).\n",
    "\n",
    "<img src='images/DSHandbook_tree_overfit.png'>\n",
    "\n",
    "As you can see, there are areas where the models have the same results; the top and two lower regions. But the areas where the different groups overlap provide very different results.\n",
    "\n",
    "This overfitting also illustrates the sensitivity of tree-based models to small changes in the data."
   ]
  },
  {
   "cell_type": "markdown",
   "metadata": {},
   "source": [
    "## Data sensitivity\n",
    "\n",
    "Another challenge when using tree-based models is that they like decision boundaries that run up and down or side to side, not diagonal. This makes them sensitive to data rotation.\n",
    "\n",
    "*Hands-On Machine Learning* has a great illustration of this on page 185, with the accompanying code in his [Chapter 6 notebook](https://github.com/ageron/handson-ml2/blob/master/06_decision_trees.ipynb) on GitHub.\n",
    "\n",
    "<img src='images/ml2_data_sensitivity.png'>\n",
    "\n",
    "While both models split the data with the same accuracy, the one on the right will most likely have trouble generalizing to new data. Aurelien Geron recommends using Principal Component Analysis (PCA) to help overcome this challenge. He covers PCA in chapter 8, I'll get to it eventually in this blog."
   ]
  },
  {
   "cell_type": "markdown",
   "metadata": {},
   "source": [
    "## Up Next\n",
    "\n",
    "Pruning Trees"
   ]
  },
  {
   "cell_type": "markdown",
   "metadata": {},
   "source": [
    "## Resources\n",
    "\n",
    "- [Introduction to Machine Learning with Python](https://www.amazon.com/Introduction-Machine-Learning-Python-Scientists/dp/1449369413)\n",
    "- [Hands-On Machine Learning with Scikit-Learn, Keras, and TensorFlow](https://www.amazon.com/Hands-Machine-Learning-Scikit-Learn-TensorFlow/dp/1492032646)\n",
    "- [Hands-On Machine Learning notebook: Chapter 6 – Decision Trees](https://github.com/ageron/handson-ml2/blob/master/06_decision_trees.ipynb)\n",
    "- [Python Data Science Handbook](https://jakevdp.github.io/PythonDataScienceHandbook/)\n",
    "- [Python Data Science Handbook notebook, chapter 5: In-Depth: Decision Trees and Random Forests](https://github.com/jakevdp/PythonDataScienceHandbook/blob/master/notebooks/05.08-Random-Forests.ipynb)\n",
    "- [Entry 17: Resampling](https://julielinx.github.io/blog/17_resampling/)\n",
    "- [Entry 30: Improve Performance - Learning Curves](https://julielinx.github.io/blog/30_learning_curves_imp_perform/)"
   ]
  }
 ],
 "metadata": {
  "kernelspec": {
   "display_name": "Python 3",
   "language": "python",
   "name": "python3"
  },
  "language_info": {
   "codemirror_mode": {
    "name": "ipython",
    "version": 3
   },
   "file_extension": ".py",
   "mimetype": "text/x-python",
   "name": "python",
   "nbconvert_exporter": "python",
   "pygments_lexer": "ipython3",
   "version": "3.7.7"
  }
 },
 "nbformat": 4,
 "nbformat_minor": 4
}
