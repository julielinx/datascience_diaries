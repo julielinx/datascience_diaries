{
 "cells": [
  {
   "cell_type": "markdown",
   "metadata": {},
   "source": [
    "# Entry 39 notebook - Lasso Regression"
   ]
  },
  {
   "cell_type": "code",
   "execution_count": 9,
   "metadata": {},
   "outputs": [],
   "source": [
    "import numpy as np\n",
    "import pandas as pd\n",
    "import matplotlib.pyplot as plt\n",
    "import seaborn as sns\n",
    "\n",
    "import openml\n",
    "\n",
    "from sklearn.model_selection import train_test_split, cross_validate\n",
    "from sklearn.preprocessing import StandardScaler\n",
    "from sklearn.impute import SimpleImputer\n",
    "from sklearn.pipeline import make_pipeline\n",
    "from sklearn.linear_model import Lasso"
   ]
  },
  {
   "cell_type": "code",
   "execution_count": 2,
   "metadata": {},
   "outputs": [
    {
     "data": {
      "text/html": [
       "<div>\n",
       "<style scoped>\n",
       "    .dataframe tbody tr th:only-of-type {\n",
       "        vertical-align: middle;\n",
       "    }\n",
       "\n",
       "    .dataframe tbody tr th {\n",
       "        vertical-align: top;\n",
       "    }\n",
       "\n",
       "    .dataframe thead th {\n",
       "        text-align: right;\n",
       "    }\n",
       "</style>\n",
       "<table border=\"1\" class=\"dataframe\">\n",
       "  <thead>\n",
       "    <tr style=\"text-align: right;\">\n",
       "      <th></th>\n",
       "      <th>Displacement</th>\n",
       "      <th>Horse_power</th>\n",
       "      <th>Weight</th>\n",
       "      <th>Acceleration</th>\n",
       "      <th>Model_year</th>\n",
       "      <th>Mpg</th>\n",
       "    </tr>\n",
       "  </thead>\n",
       "  <tbody>\n",
       "    <tr>\n",
       "      <th>0</th>\n",
       "      <td>91.0</td>\n",
       "      <td>70.0</td>\n",
       "      <td>1955.0</td>\n",
       "      <td>20.5</td>\n",
       "      <td>71.0</td>\n",
       "      <td>26.0</td>\n",
       "    </tr>\n",
       "    <tr>\n",
       "      <th>1</th>\n",
       "      <td>232.0</td>\n",
       "      <td>100.0</td>\n",
       "      <td>2789.0</td>\n",
       "      <td>15.0</td>\n",
       "      <td>73.0</td>\n",
       "      <td>18.0</td>\n",
       "    </tr>\n",
       "    <tr>\n",
       "      <th>2</th>\n",
       "      <td>350.0</td>\n",
       "      <td>145.0</td>\n",
       "      <td>4055.0</td>\n",
       "      <td>12.0</td>\n",
       "      <td>76.0</td>\n",
       "      <td>13.0</td>\n",
       "    </tr>\n",
       "    <tr>\n",
       "      <th>3</th>\n",
       "      <td>318.0</td>\n",
       "      <td>140.0</td>\n",
       "      <td>4080.0</td>\n",
       "      <td>13.7</td>\n",
       "      <td>78.0</td>\n",
       "      <td>17.5</td>\n",
       "    </tr>\n",
       "    <tr>\n",
       "      <th>4</th>\n",
       "      <td>113.0</td>\n",
       "      <td>95.0</td>\n",
       "      <td>2372.0</td>\n",
       "      <td>15.0</td>\n",
       "      <td>70.0</td>\n",
       "      <td>24.0</td>\n",
       "    </tr>\n",
       "  </tbody>\n",
       "</table>\n",
       "</div>"
      ],
      "text/plain": [
       "   Displacement  Horse_power  Weight  Acceleration  Model_year   Mpg\n",
       "0          91.0         70.0  1955.0          20.5        71.0  26.0\n",
       "1         232.0        100.0  2789.0          15.0        73.0  18.0\n",
       "2         350.0        145.0  4055.0          12.0        76.0  13.0\n",
       "3         318.0        140.0  4080.0          13.7        78.0  17.5\n",
       "4         113.0         95.0  2372.0          15.0        70.0  24.0"
      ]
     },
     "execution_count": 2,
     "metadata": {},
     "output_type": "execute_result"
    }
   ],
   "source": [
    "auto_mpg = openml.datasets.get_dataset(42372).get_data()[0]\n",
    "auto_mpg.head()"
   ]
  },
  {
   "cell_type": "code",
   "execution_count": 5,
   "metadata": {},
   "outputs": [],
   "source": [
    "def split_data(df, target, train_size):\n",
    "    y = df[[target]]\n",
    "    X = df.drop(target, axis=1)\n",
    "    X_train, X_test, y_train, y_test = train_test_split(X, y, test_size=train_size, random_state=12)\n",
    "    return X_train, X_test, y_train, y_test"
   ]
  },
  {
   "cell_type": "code",
   "execution_count": 10,
   "metadata": {},
   "outputs": [
    {
     "data": {
      "text/plain": [
       "0.7775410799630239"
      ]
     },
     "execution_count": 10,
     "metadata": {},
     "output_type": "execute_result"
    }
   ],
   "source": [
    "X_train, X_test, y_train, y_test = split_data(auto_mpg, 'Mpg', 0.8)\n",
    "pipe = make_pipeline(SimpleImputer(strategy='median'), StandardScaler(), Lasso())\n",
    "pipe.fit(X_train, y_train)\n",
    "pipe.score(X_test, y_test)"
   ]
  },
  {
   "cell_type": "code",
   "execution_count": 11,
   "metadata": {},
   "outputs": [
    {
     "data": {
      "text/plain": [
       "{'fit_time': array([0.01100326, 0.00899291, 0.00499725, 0.0059936 , 0.00599599,\n",
       "        0.00499654, 0.00499606, 0.00599623, 0.00499678, 0.01050425]),\n",
       " 'score_time': array([0.02298546, 0.01799035, 0.01199484, 0.01200438, 0.00999308,\n",
       "        0.01199389, 0.01099157, 0.00899434, 0.01499248, 0.01250362]),\n",
       " 'test_explained_variance': array([0.74420373, 0.5099557 , 0.73099909, 0.68574597, 0.84817765,\n",
       "        0.83692851, 0.88958368, 0.64463845, 0.87797686, 0.84752695]),\n",
       " 'test_r2': array([0.73069703, 0.50983266, 0.72240683, 0.56572218, 0.83992868,\n",
       "        0.83492247, 0.88787067, 0.64277753, 0.87167303, 0.77083425]),\n",
       " 'test_max_error': array([ -6.91695053, -12.39988472, -12.52348508,  -8.29355691,\n",
       "         -5.38421628,  -5.72519369,  -2.71144837, -13.38126664,\n",
       "         -4.71849147,  -6.63658635]),\n",
       " 'test_neg_median_absolute_error': array([-2.19840094, -3.55914229, -2.32942059, -1.38221191, -1.37707867,\n",
       "        -1.86410256, -0.63494608, -2.82978494, -1.90753917, -2.71767648]),\n",
       " 'test_neg_mean_absolute_error': array([-2.8312305 , -4.03167311, -3.41270885, -1.97695449, -1.9489791 ,\n",
       "        -2.34643895, -1.06451745, -4.1050876 , -2.16550106, -3.31504463]),\n",
       " 'test_neg_mean_squared_error': array([-11.32179123, -28.00816171, -24.34695981,  -9.84589237,\n",
       "         -6.44036948,  -9.40312581,  -2.0628994 , -33.45338188,\n",
       "         -6.69625837, -15.1227882 ]),\n",
       " 'test_neg_mean_squared_log_error': array([-0.01511969, -0.03676168, -0.02510124, -0.02368984, -0.0116725 ,\n",
       "        -0.01208988, -0.00379785, -0.03541445, -0.00971813, -0.02191225]),\n",
       " 'test_neg_root_mean_squared_error': array([-3.36478695, -5.29227378, -4.93426386, -3.1378165 , -2.53778831,\n",
       "        -3.06645166, -1.43627971, -5.78388986, -2.58771296, -3.88880293]),\n",
       " 'test_neg_mean_poisson_deviance': array([-0.4164668 , -1.05630882, -0.79931546, -0.47269944, -0.27305741,\n",
       "        -0.34075017, -0.09042534, -1.10887071, -0.25739712, -0.58653974]),\n",
       " 'test_neg_mean_gamma_deviance': array([-0.0161745 , -0.0414978 , -0.02841208, -0.02303604, -0.01250883,\n",
       "        -0.01312715, -0.00408002, -0.03866434, -0.01008001, -0.02539261])}"
      ]
     },
     "execution_count": 11,
     "metadata": {},
     "output_type": "execute_result"
    }
   ],
   "source": [
    "cross_validate(pipe, X_train, y_train, cv=10, scoring=['explained_variance', 'r2', 'max_error',\n",
    "                                                      'neg_median_absolute_error', 'neg_mean_absolute_error',\n",
    "                                                      'neg_mean_squared_error', 'neg_mean_squared_log_error',\n",
    "                                                      'neg_root_mean_squared_error', 'neg_mean_poisson_deviance',\n",
    "                                                      'neg_mean_gamma_deviance'])"
   ]
  }
 ],
 "metadata": {
  "kernelspec": {
   "display_name": "Python 3",
   "language": "python",
   "name": "python3"
  },
  "language_info": {
   "codemirror_mode": {
    "name": "ipython",
    "version": 3
   },
   "file_extension": ".py",
   "mimetype": "text/x-python",
   "name": "python",
   "nbconvert_exporter": "python",
   "pygments_lexer": "ipython3",
   "version": "3.7.6"
  }
 },
 "nbformat": 4,
 "nbformat_minor": 4
}
