{
 "cells": [
  {
   "cell_type": "markdown",
   "metadata": {},
   "source": [
    "# Entry 39 - Lasso Regression"
   ]
  },
  {
   "cell_type": "markdown",
   "metadata": {},
   "source": [
    "## Learning Style\n",
    "\n",
    "<table align='left'>\n",
    "    <tr>\n",
    "        <th>Supervision</th>\n",
    "        <th>Prediction types</th>\n",
    "    </tr>\n",
    "    <tr>\n",
    "        <td>Supervised</td>\n",
    "        <td>Regression</td>\n",
    "    </tr>\n",
    "</table>\n"
   ]
  },
  {
   "cell_type": "markdown",
   "metadata": {},
   "source": [
    "## Description\n",
    "\n",
    "Least Absolute Shrinkage and Selection Operator (LASSO) Regression.\n",
    "\n",
    "This is a form of regression regularization. This method similar to Ridge Regression <font color='red'>Entry 40</font> in that it uses the same formula as OLS and minimizes the magnitude of coefficients (*w*), but instead of using L2 regularization, Lasso Regression uses L1 regularization."
   ]
  },
  {
   "cell_type": "markdown",
   "metadata": {},
   "source": [
    "## Purpose\n",
    "\n",
    "On pages 137 and 140, [Hands-On Machine Learning with Scikit-Learn](https://www.amazon.com/Hands-Machine-Learning-Scikit-Learn-TensorFlow/dp/1492032646) provides the following two updated equations from the OLS linear regression versions:\n",
    "\n",
    "- Cost function: $J(\\theta) = MSE(\\theta) + \\alpha \\displaystyle\\sum_{i=1}^n |\\theta_{i}|$\n",
    "  - Note: The bias term $\\theta_{0}$ is not regularized as indicated by the start of $i$ at 1 instead of 0\n",
    "  - Where\n",
    "    - MSE: mean squared error\n",
    "    - $\\alpha$: regularization term\n",
    "      - i.e., how much the model is regularized\n",
    "      - A value of 0 is no regularziation (i.e., regular linear regression)\n",
    "      - As the value approaches infinity, the weights approach zero (i.e., no features contribute and results in a flat line through the data's mean)\n",
    "    - $\\theta$: the theta array\n",
    "- Lasso regression subgradient vector: $g(\\theta, J) = \\nabla_{0} \\mathrm{MSE}(\\theta) + \\alpha \n",
    "  \\begin{pmatrix}\n",
    "    \\mathrm{sign}(\\theta_{1}) \\\\\n",
    "    \\mathrm{sign}(\\theta_{2}) \\\\\n",
    "    \\vdots \\\\\n",
    "    \\mathrm{sign}(\\theta_{n})\n",
    "  \\end{pmatrix}$\n",
    "  - Where\n",
    "    - $g(\\theta, J)$: subgradient vector\n",
    "    - $ \\nabla_{0}$: differential operator (the symbol is called \"nabla\")\n",
    "    - $\\mathrm{MSE}$: mean squared error\n",
    "    - $\\alpha$: the regularization term\n",
    "      - i.e., how much the model is regularized\n",
    "      - A value of 0 is no regularziation (i.e., regular linear regression)\n",
    "      - As the value approaches infinity, the weights approach zero (i.e., no features contribute and results in a flat line through the data's mean)\n",
    "    - $\\mathrm{sign}(\\theta_{i}) = \n",
    "  \\begin{cases}\n",
    "    -1   & \\mathrm{if } \\; \\theta_{i} < 0 \\\\\n",
    "    \\;\\,\\,0    & \\mathrm{if } \\; \\theta_{i} = 0 \\\\\n",
    "    +1   & \\mathrm{if } \\; \\theta_{i} > 0\n",
    "  \\end{cases}$"
   ]
  },
  {
   "cell_type": "markdown",
   "metadata": {},
   "source": [
    "## Behavior\n",
    "\n",
    "The outcome of keeping the coefficients as small as possible helps reduce the complexity of the model (i.e., makes it more generalized and reduces overfitting). The complexity of the model is controlled through the parameter `alpha`. Larger `alpha` values force the coefficients closer to 0 (reducing complexity), smaller values are less restricting (allowing for more complexity).\n",
    "\n",
    "[Introduction to Machine Learning with Python](https://www.amazon.com/Introduction-Machine-Learning-Python-Scientists/dp/1449369413) puts it succinctly on page 55:\n",
    "\n",
    "> The consequence of L1 regularization is that when using the lasso, some coefficients are *exactly zero*. This means some features are entirely ignored by the model. This can be seen as a form of automatic feature selection."
   ]
  },
  {
   "cell_type": "markdown",
   "metadata": {},
   "source": [
    "## Parameters\n",
    "\n",
    "- `alpha`\n",
    "- `max_iter`"
   ]
  },
  {
   "cell_type": "markdown",
   "metadata": {},
   "source": [
    "## Strengths\n",
    "\n",
    "Having some of the coefficients be exactly zero can make a model easier to interpret and make more important features stand out. Coefficients that are 0 can also function as an automated form of feature reduction.\n",
    "\n",
    "Minimizes variance."
   ]
  },
  {
   "cell_type": "markdown",
   "metadata": {},
   "source": [
    "## Limitations\n",
    "\n",
    "- If `alpha` is set too high, very few features will remain and the model will underfit the data\n",
    "- May behave erratically when the number of features is greater than the number of training instances\n",
    "- May behave erratically when several features are strongly correlated"
   ]
  },
  {
   "cell_type": "markdown",
   "metadata": {},
   "source": [
    "## Resources\n",
    "\n",
    "- [Introduction to Machine Learning with Python](https://www.amazon.com/Introduction-Machine-Learning-Python-Scientists/dp/1449369413)\n",
    "- [Hands-On Machine Learning with Scikit-Learn, Keras, and TensorFlow](https://www.amazon.com/Hands-Machine-Learning-Scikit-Learn-TensorFlow/dp/1492032646)\n",
    "- [Applied Predictive Modeling](https://www.amazon.com/Applied-Predictive-Modeling-Max-Kuhn-ebook/dp/B00K15TZU0)"
   ]
  }
 ],
 "metadata": {
  "kernelspec": {
   "display_name": "Python 3",
   "language": "python",
   "name": "python3"
  },
  "language_info": {
   "codemirror_mode": {
    "name": "ipython",
    "version": 3
   },
   "file_extension": ".py",
   "mimetype": "text/x-python",
   "name": "python",
   "nbconvert_exporter": "python",
   "pygments_lexer": "ipython3",
   "version": "3.8.8"
  }
 },
 "nbformat": 4,
 "nbformat_minor": 4
}
