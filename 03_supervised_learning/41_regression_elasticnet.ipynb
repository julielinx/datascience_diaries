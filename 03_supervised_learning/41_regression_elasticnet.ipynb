{
 "cells": [
  {
   "cell_type": "markdown",
   "metadata": {},
   "source": [
    "# Entry 41 - Elastic Net"
   ]
  },
  {
   "cell_type": "markdown",
   "metadata": {},
   "source": [
    "## Learning Style\n",
    "\n",
    "<table align='left'>\n",
    "    <tr>\n",
    "        <th>Supervision</th>\n",
    "        <th>Prediction types</th>\n",
    "    </tr>\n",
    "    <tr>\n",
    "        <td>Supervised</td>\n",
    "        <td>Regression</td>\n",
    "    </tr>\n",
    "</table>"
   ]
  },
  {
   "cell_type": "markdown",
   "metadata": {},
   "source": [
    "## Description\n",
    "\n",
    "This is another form of regression regularization. It combines the penalities of Ridge Regression (L2 regularization) and Lasso Regression (L1 regularization).\n",
    "\n",
    "[Introduction to Machine Learning with Python](https://www.amazon.com/Introduction-Machine-Learning-Python-Scientists/dp/1449369413) states on page 57 into 58 that this combination of L1 and L2 usually works best in practice."
   ]
  },
  {
   "cell_type": "markdown",
   "metadata": {},
   "source": [
    "## Purpose\n",
    "\n",
    "On page 140, [Hands-On Machine Learning with Scikit-Learn](https://www.amazon.com/Hands-Machine-Learning-Scikit-Learn-TensorFlow/dp/1492032646) provides the following equation for the cost function of Elastic Net:\n",
    "\n",
    "$J(\\theta) = MSE(\\theta) + r \\alpha \\displaystyle\\sum_{i=1}^n |\\theta_{i}| + \\frac{1 - r}{2} \\alpha \\displaystyle\\sum_{i=1}^n \\theta_{i}^{2}$\n",
    "\n",
    "Where\n",
    "\n",
    "- $J(\\theta)$: cost function\n",
    "- MSE: mean squared error\n",
    "- $r$: mix ratio\n",
    "  - The range of values is 0 to 1\n",
    "  - *Note*, at the extremes (0 or 1) one or the other of the terms cancels out (i.e., it's 0)\n",
    "  - When r = 0, Elastic Net is the same as Ridge Regression\n",
    "    - $r \\alpha \\displaystyle\\sum_{i=1}^n |\\theta_{i}|$ cancels to 0\n",
    "  - When r = 1, Elastic Net is the same as Lasso Regression\n",
    "    - $\\frac{1 - r}{2} \\alpha \\displaystyle\\sum_{i=1}^n \\theta_{i}^{2}$ cancels to 0\n",
    "- $\\alpha$: regularization term\n",
    "  - i.e., how much the model is regularized\n",
    "  - A value of 0 is no regularziation (i.e., regular linear regression)\n",
    "  - As the value approaches infinity, the weights approach zero (i.e., no features contribute and results in a flat line through the data's mean)\n",
    "- $\\theta$: the theta array"
   ]
  },
  {
   "cell_type": "markdown",
   "metadata": {},
   "source": [
    "## Behavior\n",
    "\n",
    "In `scikit-learn`, the ratio of how the Lasso (L1) and Ridge (L2) terms are applied is controled by the `l1_ratio` parameter. In other words, the `l1_ratio` parameter specifies how much Lasso is used. A value of 0 would mean the Elastic Net would be the same as Ridge Regression, a value of 0.5 would be half Lasso and half Ridge, and a value of 1 would be the same as Lasso Regression.\n",
    "\n",
    "The outcome of keeping the coefficients as small as possible helps reduce the complexity of the model (i.e., makes it more generalized and reduces overfitting). The complexity of the model is controlled through the parameter `alpha`. Larger `alpha` values force the coefficients closer to 0 (reducing complexity), smaller values are less restricting (allowing for more complexity)."
   ]
  },
  {
   "cell_type": "markdown",
   "metadata": {},
   "source": [
    "## Parameters\n",
    "\n",
    "- `alpha`\n",
    "- `l1_ratio`\n",
    "- `max_iter`"
   ]
  },
  {
   "cell_type": "markdown",
   "metadata": {},
   "source": [
    "## Strengths\n",
    "\n",
    "- Doesn't suffer the same problems as Lasso in regards to erratic behavior when the number of features is greater than the number of training instances or when several features are strongly correlated\n",
    "- Doesn't retain all features like Ridge Regression, which helps automatically eliminate useless features"
   ]
  },
  {
   "cell_type": "markdown",
   "metadata": {},
   "source": [
    "## Limitations\n",
    "\n",
    "- At the extreme values of $r$, Elastic Net can suffer the same problems as either Lasso Regression or Ridge Regression\n",
    "- There are multiple parameters to tune"
   ]
  },
  {
   "cell_type": "markdown",
   "metadata": {},
   "source": [
    "## Resources\n",
    "\n",
    "- [Introduction to Machine Learning with Python](https://www.amazon.com/Introduction-Machine-Learning-Python-Scientists/dp/1449369413)\n",
    "- [Hands-On Machine Learning with Scikit-Learn, Keras, and TensorFlow](https://www.amazon.com/Hands-Machine-Learning-Scikit-Learn-TensorFlow/dp/1492032646)"
   ]
  }
 ],
 "metadata": {
  "kernelspec": {
   "display_name": "Python 3",
   "language": "python",
   "name": "python3"
  },
  "language_info": {
   "codemirror_mode": {
    "name": "ipython",
    "version": 3
   },
   "file_extension": ".py",
   "mimetype": "text/x-python",
   "name": "python",
   "nbconvert_exporter": "python",
   "pygments_lexer": "ipython3",
   "version": "3.7.7"
  }
 },
 "nbformat": 4,
 "nbformat_minor": 4
}
