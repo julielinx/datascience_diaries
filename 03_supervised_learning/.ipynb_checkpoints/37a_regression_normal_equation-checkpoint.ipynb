{
 "cells": [
  {
   "cell_type": "markdown",
   "metadata": {},
   "source": [
    "# Entry 37a - Normal Equation"
   ]
  },
  {
   "cell_type": "markdown",
   "metadata": {},
   "source": [
    "## Description\n",
    "\n",
    "The Normal Equation generates the weights that are used in Linear Regression. It calculates the theta array directly without having to iterate through different solutions (the way Gradient Descent does)."
   ]
  },
  {
   "cell_type": "markdown",
   "metadata": {},
   "source": [
    "## Purpose\n",
    "\n",
    "The feature matrix, its transpose, and its inverse are used in conjunction with the target array to directly calculate the weights of the features.\n",
    "\n",
    "$\\hat{\\theta} = (X^{T} X)^{-1} X^{T} y$\n",
    "\n",
    "Where:\n",
    "\n",
    "- $\\hat{\\theta}$: theta array, the hypothesized weights\n",
    "- X: input feature matrix\n",
    "- $X^{T}$: the transpose of X\n",
    "- y: array of target values"
   ]
  },
  {
   "cell_type": "markdown",
   "metadata": {},
   "source": [
    "## Behavior\n",
    "\n",
    "An interesting paragraph in [Hands-On Machine Learning with Scikit-Learn](https://www.amazon.com/Hands-Machine-Learning-Scikit-Learn-TensorFlow/dp/1492032646) sent me into the Scikit-learn documentation to actually read the full page for `sklearn.linear_model.LinearRegression`. The documentation states:\n",
    "\n",
    "> From the implementation point of view, this is just plain Ordinary Least Squares (scipy.linalg.lstsq) wrapped as a predictor object.\n",
    "\n",
    "As a reminder from the <font color='red'>Entry 36</font>, using the Normal Equation to calculate the theta array requires the inverse of the matrix, and there isn't always a solution for the inverse.\n",
    "\n",
    "$\\hat{\\theta} = (X^{T} X)^{-1} X^{T} y$\n",
    "\n",
    "When there isn't a solution for the inverse, Gradient Descent has to be used instead.\n",
    "\n",
    "However, because of the way the Normal Equation is implemented in `scipy.linalg.lstsq` this limtation is no longer a problem. The reason is a little mathy, but it comes down to the fact that the function uses the *pseudoinverse* instead of the inverse.\n",
    "\n",
    "$\\hat{\\theta} = X^{+} y$\n",
    "\n",
    "Here's what *Hands-On Machine Learning with Scikit-Learn* has to say about it:\n",
    "\n",
    "> The pseudoinverse itself is computed using a standard matrix factorization technique called *Singular Value Decomposition* (SVD) that can decompose the training set matrix **X** into the matrix multiplication of three matricies **U** **$\\sum$** **$V^{t}$** (see `numpy.linalg.svd()`). The psudoinverse is computed as $X^{+} = V \\sum^{+} U^{T}$. To compute the matrix $\\sum^{+}$, the algorithm takes $\\sum$ and sets to zero all values smaller than a tiny threshold value, then it replaces all the nonzero values with their inverse, and finally it transposes the resulting matrix. This approach is more efficient that computing the Normal Equation, plus it handles edge cases nicely; indeed, the Normal Equation may not work if the matrix $X^{t}X$ is not invertible (i.e., singular), such as if *m < n* or if some features are redundant, but the pseudoinverse is always defined.\n",
    "\n",
    "The important takeaways I get from that are:\n",
    "\n",
    "- SVD is used to calculate the pseudoinverse\n",
    "  1. All values smaller than a threshold are set to 0\n",
    "  2. All non-zero values are placed with their inverse\n",
    "  3. Matrix is transposed\n",
    "- SVD is more efficient than the straight Normal Equation\n",
    "- The pseudoinverse can always be defined (unlike the inverse, which may not have a solution)"
   ]
  },
  {
   "cell_type": "markdown",
   "metadata": {},
   "source": [
    "## Resources\n",
    "\n",
    "Andrew Ng does a fantastic job of covering the theory and practicalities of gradient descent in weeks 1 and 2 of his [Machine Learning course](https://www.coursera.org/learn/machine-learning) on coursera. For more details, watch the videos, read the notes, and (most telling) take the quizes for those two weeks.\n",
    "\n",
    "- [Hands-On Machine Learning with Scikit-Learn](https://www.amazon.com/Hands-Machine-Learning-Scikit-Learn-TensorFlow/dp/1492032646)\n",
    "- [sklearn.linear_model.LinearRegression](https://scikit-learn.org/stable/modules/generated/sklearn.linear_model.LinearRegression.html)\n",
    "- [Machine Learning course](https://www.coursera.org/learn/machine-learning)"
   ]
  }
 ],
 "metadata": {
  "kernelspec": {
   "display_name": "Python 3",
   "language": "python",
   "name": "python3"
  },
  "language_info": {
   "codemirror_mode": {
    "name": "ipython",
    "version": 3
   },
   "file_extension": ".py",
   "mimetype": "text/x-python",
   "name": "python",
   "nbconvert_exporter": "python",
   "pygments_lexer": "ipython3",
   "version": "3.7.6"
  }
 },
 "nbformat": 4,
 "nbformat_minor": 4
}
