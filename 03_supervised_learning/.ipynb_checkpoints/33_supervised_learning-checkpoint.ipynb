{
 "cells": [
  {
   "cell_type": "markdown",
   "metadata": {},
   "source": [
    "# Entry 33 - Supervised Learning"
   ]
  },
  {
   "cell_type": "markdown",
   "metadata": {},
   "source": [
    "## Description\n",
    "\n",
    "In supervised learning, the data that the model is trained on includes a label for each observation where the label is the correct answer. For a numerical dataset like the [Boston housing prices dataset](https://www.kaggle.com/c/boston-housing), the label would be the price of the house. For a categorical dataset such as the [iris dataset](https://archive.ics.uci.edu/ml/datasets/iris), the label would be the species of the flower.\n",
    "\n",
    "[Introduction to Machine Learning with Python](https://www.amazon.com/Introduction-Machine-Learning-Python-Scientists/dp/1449369413) puts it sucintly on page 27:\n",
    "\n",
    "> supervised learning is used whenever we want to predict a certain outcome from a given input, and we have examples of input/output pairs.\n",
    "\n",
    "Supervised learning is generally broken into two categories based on the type of labels:\n",
    "\n",
    "- Regression\n",
    "- Classification\n",
    "\n",
    "### Regression\n",
    "\n",
    "For regression, the goal is to predict a continuous number. The above referenced Boston housing prices dataset is an example of a regression problem. Fitness provides a plethora of examples of regression problems. If I want to try to predict heart rate, the number of calories burned, or the age of the participant those would all be regression problems.\n",
    "\n",
    "### Classification\n",
    "\n",
    "For classification, the goal is to predict a category. An example of a classification problem is the above referenced iris dataset. The categories are the type of flower. Another example of classification is the [titanic dataset](https://www.kaggle.com/c/titanic). People either survived the sinking of the ship or they didn't.\n",
    "\n",
    "An imporant distinction within classification is *binary classification* vs *multiclass classification*.\n",
    "\n",
    "- Binary classification\n",
    "  - There are two and only two labels.\n",
    "  - Example: Titanic dataset. Survived: yes or no.\n",
    "- Multiclass classification\n",
    "  - There are more than two labels.\n",
    "  - Example: iris dataset. Species of flower:  Setosa, Versicolour, or Virginica\n",
    "\n",
    "*Side note*, if there is only one label, the problem isn't really a prediction problem - everything is the same.\n",
    "\n",
    "There is another type of classification, *multilabel classification*. An example of this would be browser used by a customer for an online retailer. There's nothing stopping the customer from using more than one browser and so the observation for that customer would have more than one label. I haven't worked with multilabel problems, and they don't seem particularly prevalent, so this will probably be as indepth as I go into this particular topic.\n",
    "\n",
    "### Regression vs multiclass classification\n",
    "\n",
    "A situation could arise wherein there are so many categories and the categories are numeric, that it becomes difficult to tell if the problem should be categorized as regression or multiclass. If the values of the label are continuous or fall along a scale (like centimeters on a ruler) then the problem is a regression problem. If the values are discrete and separate, the problem is a classification problem.\n",
    "\n",
    "For example, if the label included the ages of children between 5 and 18 years, it may be tempting to think of this as a classification problem. However, because the ages fall on a scale, it should be a regression problem. On the other hand, if we had grouped the children into child, youth, preteen, and teenager then it would be a classification problem.\n",
    "\n",
    "For more on determining numeric vs categorical, check out the Types of Variables section of [Entry 13](https://julielinx.github.io/blog/13_cat_prelims/)."
   ]
  },
  {
   "cell_type": "markdown",
   "metadata": {},
   "source": [
    "## Purpose\n",
    "\n",
    "The purpose of supervised learning is to take information that is known and generalize patterns in that information to predict values for data that has never been seen before."
   ]
  },
  {
   "cell_type": "markdown",
   "metadata": {},
   "source": [
    "## Limitations\n",
    "\n",
    "For this learning style, every observation in the training dataset must have a label. To appropriately evaluate how the model performed, every observation in the testing dataset must also have a label. However a label isn't required for the express purpose of making a prediction - just determing how good the prediction is."
   ]
  },
  {
   "cell_type": "markdown",
   "metadata": {},
   "source": [
    "## Datasets\n",
    "\n",
    "### Introduction to Machine Learning with Python\n",
    "\n",
    "The mglearn package has two small synthetic/artificial datasets:\n",
    "\n",
    "- Forge\n",
    "  - Binary classification\n",
    "  - X, y = mglearn.datasets.make_forge()\n",
    "- Wave\n",
    "  - Regression\n",
    "  - X, y = mglearn.datasets.make_wave(n_samples=40)\n",
    "\n",
    "The book also recommends two larger, real-world datasets availalbe in Scikit-Learn:\n",
    "\n",
    "- Wisconsin Breast Cancer\n",
    "  - Binary classification\n",
    "  - from sklearn.datasets import load_breast_cancer\n",
    "  - cancer = load_breast_cancer()\n",
    "- Boston Housing\n",
    "  - Regression\n",
    "  - from sklearn.datasets import load_boston\n",
    "  - boston = load_boston()\n",
    "  - Extended dataset available in mglearn with over 100 features\n",
    "  - X, y = mglearn.datasets.load_extended_boston()\n",
    "  \n",
    "### Hands-On Machine Learning\n",
    "\n",
    "- California Housing dataset\n",
    "  - Regression\n",
    "  - He stores it in a location he controls, but it's easier to get programmatically from sklearn\n",
    "  - from sklearn.datasets import fetch_california_housing\n",
    "  - housing = fetch_california_housing()\n",
    "- MNIST\n",
    "  - Classification - multiclass\n",
    "  - from sklearn.datasets import fetch_openml\n",
    "  - mnist = fetch_openml('mnist_784', version=1)"
   ]
  },
  {
   "cell_type": "markdown",
   "metadata": {},
   "source": [
    "## Resources\n",
    "\n",
    "- [Introduction to Machine Learning with Python](https://www.amazon.com/Introduction-Machine-Learning-Python-Scientists/dp/1449369413)\n",
    "- [Hands-On Machine Learning with Scikit-Learn, Keras, and TensorFlow](https://www.amazon.com/Hands-Machine-Learning-Scikit-Learn-TensorFlow/dp/1492032646)"
   ]
  }
 ],
 "metadata": {
  "kernelspec": {
   "display_name": "Python 3",
   "language": "python",
   "name": "python3"
  },
  "language_info": {
   "codemirror_mode": {
    "name": "ipython",
    "version": 3
   },
   "file_extension": ".py",
   "mimetype": "text/x-python",
   "name": "python",
   "nbconvert_exporter": "python",
   "pygments_lexer": "ipython3",
   "version": "3.7.6"
  }
 },
 "nbformat": 4,
 "nbformat_minor": 4
}
