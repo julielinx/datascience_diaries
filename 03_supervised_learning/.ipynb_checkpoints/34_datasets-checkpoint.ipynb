{
 "cells": [
  {
   "cell_type": "markdown",
   "metadata": {},
   "source": [
    "# Entry 34 - Supervised Learning Datasets\n",
    "\n",
    "My anticipated fail from [Entry 32](https://julielinx.github.io/blog/32_model_algos/) was correct, finding datasets and figuring out what kinds of patterns they have was a time suck. As such, datasets gets its own post.\n",
    "\n",
    "The biggest advantage of the below notebooks is that there are charts showing the types of patterns inherent in each. This helped me decide which datasets to use to determine if an algorithm could identify that pattern.\n",
    "\n",
    "*Note*, this entry and the linked notebooks will probably be living documents. I'll probably update them as I continue to work my way through different algorithms and different problems.\n",
    "\n",
    "## Regression Datasets\n",
    "\n",
    "Can be found in [Entry 34a notebook](https://github.com/julielinx/datascience_diaries/blob/master/03_supervised_learning/34a_nb_regression_datasets.ipynb)\n",
    "\n",
    "## Classification Datasets\n",
    "\n",
    "Can be found in [Entry 34b notebook](https://github.com/julielinx/datascience_diaries/blob/master/03_supervised_learning/34b_nb_classification_datasets.ipynb)\n",
    "\n",
    "## NLP Datasets\n",
    "\n",
    "Can be found in [Entry 34c notebook](https://github.com/julielinx/datascience_diaries/blob/master/03_supervised_learning/34c_nb_nlp_datasets.ipynb)\n",
    "\n",
    "## Computer Vision Datasets\n",
    "\n",
    "Can be found in [Entry 34d notebook](https://github.com/julielinx/datascience_diaries/blob/master/03_supervised_learning/34d_nb_cv_datasets.ipynb)\n",
    "\n",
    "## Up Next\n",
    "\n",
    "Regression"
   ]
  }
 ],
 "metadata": {
  "kernelspec": {
   "display_name": "Python 3",
   "language": "python",
   "name": "python3"
  },
  "language_info": {
   "codemirror_mode": {
    "name": "ipython",
    "version": 3
   },
   "file_extension": ".py",
   "mimetype": "text/x-python",
   "name": "python",
   "nbconvert_exporter": "python",
   "pygments_lexer": "ipython3",
   "version": "3.7.7"
  }
 },
 "nbformat": 4,
 "nbformat_minor": 4
}
