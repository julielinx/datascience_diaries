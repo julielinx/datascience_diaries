{
 "cells": [
  {
   "cell_type": "markdown",
   "metadata": {},
   "source": [
    "# Entry 39 notebook - Lasso Regression"
   ]
  },
  {
   "cell_type": "code",
   "execution_count": 1,
   "metadata": {},
   "outputs": [],
   "source": [
    "import numpy as np\n",
    "import pandas as pd\n",
    "import matplotlib.pyplot as plt\n",
    "import seaborn as sns\n",
    "\n",
    "import openml\n",
    "\n",
    "from sklearn.model_selection import train_test_split, cross_validate\n",
    "from sklearn.preprocessing import StandardScaler\n",
    "from sklearn.impute import SimpleImputer\n",
    "from sklearn.pipeline import make_pipeline\n",
    "from sklearn.linear_model import ElasticNet"
   ]
  },
  {
   "cell_type": "code",
   "execution_count": 2,
   "metadata": {},
   "outputs": [
    {
     "data": {
      "text/html": [
       "<div>\n",
       "<style scoped>\n",
       "    .dataframe tbody tr th:only-of-type {\n",
       "        vertical-align: middle;\n",
       "    }\n",
       "\n",
       "    .dataframe tbody tr th {\n",
       "        vertical-align: top;\n",
       "    }\n",
       "\n",
       "    .dataframe thead th {\n",
       "        text-align: right;\n",
       "    }\n",
       "</style>\n",
       "<table border=\"1\" class=\"dataframe\">\n",
       "  <thead>\n",
       "    <tr style=\"text-align: right;\">\n",
       "      <th></th>\n",
       "      <th>Displacement</th>\n",
       "      <th>Horse_power</th>\n",
       "      <th>Weight</th>\n",
       "      <th>Acceleration</th>\n",
       "      <th>Model_year</th>\n",
       "      <th>Mpg</th>\n",
       "    </tr>\n",
       "  </thead>\n",
       "  <tbody>\n",
       "    <tr>\n",
       "      <th>0</th>\n",
       "      <td>91.0</td>\n",
       "      <td>70.0</td>\n",
       "      <td>1955.0</td>\n",
       "      <td>20.5</td>\n",
       "      <td>71.0</td>\n",
       "      <td>26.0</td>\n",
       "    </tr>\n",
       "    <tr>\n",
       "      <th>1</th>\n",
       "      <td>232.0</td>\n",
       "      <td>100.0</td>\n",
       "      <td>2789.0</td>\n",
       "      <td>15.0</td>\n",
       "      <td>73.0</td>\n",
       "      <td>18.0</td>\n",
       "    </tr>\n",
       "    <tr>\n",
       "      <th>2</th>\n",
       "      <td>350.0</td>\n",
       "      <td>145.0</td>\n",
       "      <td>4055.0</td>\n",
       "      <td>12.0</td>\n",
       "      <td>76.0</td>\n",
       "      <td>13.0</td>\n",
       "    </tr>\n",
       "    <tr>\n",
       "      <th>3</th>\n",
       "      <td>318.0</td>\n",
       "      <td>140.0</td>\n",
       "      <td>4080.0</td>\n",
       "      <td>13.7</td>\n",
       "      <td>78.0</td>\n",
       "      <td>17.5</td>\n",
       "    </tr>\n",
       "    <tr>\n",
       "      <th>4</th>\n",
       "      <td>113.0</td>\n",
       "      <td>95.0</td>\n",
       "      <td>2372.0</td>\n",
       "      <td>15.0</td>\n",
       "      <td>70.0</td>\n",
       "      <td>24.0</td>\n",
       "    </tr>\n",
       "  </tbody>\n",
       "</table>\n",
       "</div>"
      ],
      "text/plain": [
       "   Displacement  Horse_power  Weight  Acceleration  Model_year   Mpg\n",
       "0          91.0         70.0  1955.0          20.5        71.0  26.0\n",
       "1         232.0        100.0  2789.0          15.0        73.0  18.0\n",
       "2         350.0        145.0  4055.0          12.0        76.0  13.0\n",
       "3         318.0        140.0  4080.0          13.7        78.0  17.5\n",
       "4         113.0         95.0  2372.0          15.0        70.0  24.0"
      ]
     },
     "execution_count": 2,
     "metadata": {},
     "output_type": "execute_result"
    }
   ],
   "source": [
    "auto_mpg = openml.datasets.get_dataset(42372).get_data()[0]\n",
    "auto_mpg.head()"
   ]
  },
  {
   "cell_type": "code",
   "execution_count": 3,
   "metadata": {},
   "outputs": [],
   "source": [
    "def split_data(df, target, train_size):\n",
    "    y = df[[target]]\n",
    "    X = df.drop(target, axis=1)\n",
    "    X_train, X_test, y_train, y_test = train_test_split(X, y, test_size=train_size, random_state=12)\n",
    "    return X_train, X_test, y_train, y_test"
   ]
  },
  {
   "cell_type": "code",
   "execution_count": 4,
   "metadata": {},
   "outputs": [
    {
     "data": {
      "text/plain": [
       "0.748656575045042"
      ]
     },
     "execution_count": 4,
     "metadata": {},
     "output_type": "execute_result"
    }
   ],
   "source": [
    "X_train, X_test, y_train, y_test = split_data(auto_mpg, 'Mpg', 0.8)\n",
    "pipe = make_pipeline(SimpleImputer(strategy='median'), StandardScaler(), ElasticNet())\n",
    "pipe.fit(X_train, y_train)\n",
    "pipe.score(X_test, y_test)"
   ]
  },
  {
   "cell_type": "code",
   "execution_count": 5,
   "metadata": {},
   "outputs": [
    {
     "data": {
      "text/plain": [
       "{'fit_time': array([0.01099205, 0.01199174, 0.00699544, 0.00799203, 0.00999475,\n",
       "        0.00716829, 0.00599527, 0.00899792, 0.00956964, 0.00999522]),\n",
       " 'score_time': array([0.01498961, 0.01913381, 0.01750183, 0.01699018, 0.01798701,\n",
       "        0.01898837, 0.0159905 , 0.01099086, 0.03796315, 0.01798892]),\n",
       " 'test_explained_variance': array([0.65048302, 0.47063489, 0.69618037, 0.64759492, 0.87852473,\n",
       "        0.76435978, 0.93630181, 0.63013235, 0.86372202, 0.83696177]),\n",
       " 'test_r2': array([0.63322411, 0.47042485, 0.6901664 , 0.54200774, 0.86463222,\n",
       "        0.76174482, 0.93485207, 0.62876206, 0.86125317, 0.74557887]),\n",
       " 'test_max_error': array([ -7.90780651, -13.07912594, -12.91698944,  -8.48917329,\n",
       "         -4.8456542 ,  -6.40767489,  -2.7299637 , -13.5322625 ,\n",
       "         -3.35542075,  -7.40746159]),\n",
       " 'test_neg_median_absolute_error': array([-2.71238679, -3.18974191, -2.78260305, -1.16096015, -1.31678013,\n",
       "        -2.17059464, -0.39783983, -3.28309021, -2.97856855, -2.23837921]),\n",
       " 'test_neg_mean_absolute_error': array([-3.23621571, -4.04273252, -3.75268784, -1.97782645, -1.79400999,\n",
       "        -2.74502442, -0.71809646, -4.19002839, -2.54685564, -3.47800087]),\n",
       " 'test_neg_mean_squared_error': array([-15.41965976, -30.25992389, -27.17468175, -10.38354325,\n",
       "         -5.44643822, -13.57146152,  -1.19855901, -34.76591061,\n",
       "         -7.23997974, -16.78940585]),\n",
       " 'test_neg_mean_squared_log_error': array([-0.02098518, -0.03862845, -0.03086276, -0.02483713, -0.00853248,\n",
       "        -0.01855408, -0.00269582, -0.03742932, -0.01107826, -0.02164842]),\n",
       " 'test_neg_root_mean_squared_error': array([-3.92678746, -5.5009021 , -5.21293408, -3.22235058, -2.33376053,\n",
       "        -3.68394646, -1.0947872 , -5.89626243, -2.69072104, -4.09748775]),\n",
       " 'test_neg_mean_poisson_deviance': array([-0.5733111 , -1.1355584 , -0.92495411, -0.49674809, -0.21809773,\n",
       "        -0.50594944, -0.05810112, -1.16211951, -0.28530978, -0.62383735]),\n",
       " 'test_neg_mean_gamma_deviance': array([-0.02233328, -0.04414174, -0.03454384, -0.02409487, -0.00890231,\n",
       "        -0.01996083, -0.0028602 , -0.04080687, -0.01173495, -0.02485426])}"
      ]
     },
     "execution_count": 5,
     "metadata": {},
     "output_type": "execute_result"
    }
   ],
   "source": [
    "cross_validate(pipe, X_train, y_train, cv=10, scoring=['explained_variance', 'r2', 'max_error',\n",
    "                                                      'neg_median_absolute_error', 'neg_mean_absolute_error',\n",
    "                                                      'neg_mean_squared_error', 'neg_mean_squared_log_error',\n",
    "                                                      'neg_root_mean_squared_error', 'neg_mean_poisson_deviance',\n",
    "                                                      'neg_mean_gamma_deviance'])"
   ]
  }
 ],
 "metadata": {
  "kernelspec": {
   "display_name": "Python 3",
   "language": "python",
   "name": "python3"
  },
  "language_info": {
   "codemirror_mode": {
    "name": "ipython",
    "version": 3
   },
   "file_extension": ".py",
   "mimetype": "text/x-python",
   "name": "python",
   "nbconvert_exporter": "python",
   "pygments_lexer": "ipython3",
   "version": "3.7.7"
  }
 },
 "nbformat": 4,
 "nbformat_minor": 4
}
