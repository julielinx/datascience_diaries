{
 "cells": [
  {
   "cell_type": "markdown",
   "metadata": {},
   "source": [
    "# Entry 38 - Regularization"
   ]
  },
  {
   "cell_type": "markdown",
   "metadata": {},
   "source": [
    "## Description\n",
    "\n",
    "Regularization is used to help address overfitting. There are basically two strategies:\n",
    "\n",
    "- Reduce the magnitude/values of the theta array\n",
    "  - This method retains all features\n",
    "  - It works well when there are a lot of features and each contirbutes at least marginally to the prediction ability\n",
    "- Reduce the number of features\n",
    "  - This method removes features\n",
    "  - It can be done two ways:\n",
    "    - Manually: select which features to keep by hand\n",
    "    - Automatatically: use mathematics to automate feature selection\n",
    "    \n",
    "### L1 and L2 Regularization\n",
    "\n",
    "L1 and L2 regularization are common regularization techinques. Each of the techniques covers one of the regularzation strategies. They are based on L1 and L2 norms. The thing that helped me understand why they're called L1 and L2 was in a [Towards Data Science article](https://towardsdatascience.com/intuitions-on-l1-and-l2-regularisation-235f2db4c261):\n",
    "\n",
    "- $\\text{L1 norm} = ||w||_{1} = |w_{1}| + |w_{2}| + \\dotsb + |w_{n}|$\n",
    "- $\\text{L2 norm} = ||w||_{2} = \\sqrt[2]{|w_{1}| + |w_{2}| + \\dotsb + |w_{n}|}$\n",
    "- $\\text{Lp norm} = ||w||_{p} = \\sqrt[p]{|w_{1}| + |w_{2}| + \\dotsb + |w_{n}|}$\n",
    "\n",
    "They are basically all the same equation (the third one), but to different powers: 1, 2, and n."
   ]
  },
  {
   "cell_type": "markdown",
   "metadata": {},
   "source": [
    "## Purpose\n",
    "\n",
    "A regularization term is added to the cost function, which makes it look like the feature is more incorrect than it actually is, which lowers the theta term giving the feature less weight.\n",
    "\n",
    "Cost functions from [Hands-On Machine Learning with Scikit-Learn](https://www.amazon.com/Hands-Machine-Learning-Scikit-Learn-TensorFlow/dp/1492032646) on pages 114, 137, and 135:\n",
    "\n",
    "- Base cost function:\n",
    "  - $J(\\theta) = \\frac{1}{m} \\displaystyle\\sum_{i=1}^m (\\theta^{T}x^{(i)} - y^{(i)})^{2} = MSE(\\theta)$\n",
    "- Cost function with L1 regularization:\n",
    "  - $J(\\theta) = MSE(\\theta) + \\alpha \\displaystyle\\sum_{i=1}^n |\\theta_{i}|$\n",
    "- Cost function with L2 regularization:\n",
    "  - $J(\\theta) = MSE(\\theta) + \\alpha \\frac{1}{2} \\displaystyle\\sum_{i=1}^n \\theta_{i}^{2}$"
   ]
  },
  {
   "cell_type": "markdown",
   "metadata": {},
   "source": [
    "## Behavior\n",
    "\n",
    "At first I was like \"Why are you *adding* the penalty? Won't that make the weight larger? Shouldn't you be *subtracting* the penalty and making the weight smaller?\"\n",
    "\n",
    "Here's how I think about it:\n",
    "\n",
    "- The weights (i.e., the theta array) show which features contribute most strongly to the prediction; The larger the weight, the more important that feature.\n",
    "  - This concept is exemplified in [Applied Predictive Modeling](https://www.amazon.com/Applied-Predictive-Modeling-Max-Kuhn-ebook/dp/B00K15TZU0) on page 101, during the discussion on intrepretability:\n",
    "      > [...] if the estimated coefficient of a predictor is 2.5, then a 1 unit increase in that predictor's value would, on average, increate the response by 2.5 units.\n",
    "      - Where the estimate coefficient is the same as what I've been referring to as a weight in the theta array.\n",
    "- Features are more important (i.e., higher weights) when the predicted value is closer to the observed value ($\\frac{1}{n} \\sum (y_{i} - \\hat{y_{i}})^2$ (i.e. mean squared error) is small.\n",
    "- Features that are less important (i.e., lower weights) when the predicted value is farther from the observed value ($\\frac{1}{n} \\sum (y_{i} - \\hat{y_{i}})^2$ (i.e. mean squared error)  is large).\n",
    "\n",
    "#### \"These aren't the droids you're looking for.\"\n",
    "\n",
    "The key here is that the penalty is added to the cost function, or mean squared error, not the weight. This makes the feature look like it's worse than it is and is thus is assigned a lower weight."
   ]
  },
  {
   "cell_type": "markdown",
   "metadata": {},
   "source": [
    "## Strengths and Weaknesses\n",
    "\n",
    "Information from Medium article [L1 and L2 Regularization](https://medium.com/datadriveninvestor/l1-l2-regularization-7f1b4fe948f2):\n",
    "\n",
    "<table align='left'>\n",
    "    <tr>\n",
    "        <td><b>L1 Regularization</b></td>\n",
    "        <td><b>L2 Regularization</b></td>\n",
    "    </tr>\n",
    "    <tr>\n",
    "        <td>Penalizes sum of absolute value of weights</td>\n",
    "        <td>Penalizes sum of square weights</td>\n",
    "    </tr>\n",
    "    <tr>\n",
    "        <td>Sparse solution</td>\n",
    "        <td>Non sparse solution</td>\n",
    "    </tr>\n",
    "    <tr>\n",
    "        <td>Has multiple solutions</td>\n",
    "        <td>Has one solution</td>\n",
    "    </tr>\n",
    "    <tr>\n",
    "        <td>Automatic feature selection</td>\n",
    "        <td>Retains all features</td>\n",
    "    </tr>\n",
    "    <tr>\n",
    "        <td>Robust to outliers</td>\n",
    "        <td>Not robust to outliers</td>\n",
    "    </tr>\n",
    "    <tr>\n",
    "        <td>Generates models that are simple and interpretable</td>\n",
    "        <td>Gives better predictions when output variable is a function of all input features</td>\n",
    "    </tr>\n",
    "    <tr>\n",
    "        <td>Can't learn complex patterns</td>\n",
    "        <td>Can learn complex data patterns</td>\n",
    "    </tr>\n",
    "</table>"
   ]
  },
  {
   "cell_type": "markdown",
   "metadata": {},
   "source": [
    "## Resources\n",
    "\n",
    "- [Intuitions on L1 and L2 Regularisation](https://towardsdatascience.com/intuitions-on-l1-and-l2-regularisation-235f2db4c261)\n",
    "- [Hands-On Machine Learning with Scikit-Learn, Keras, and TensorFlow](https://www.amazon.com/Hands-Machine-Learning-Scikit-Learn-TensorFlow/dp/1492032646)\n",
    "- [L1 and L2 Regularization](https://medium.com/datadriveninvestor/l1-l2-regularization-7f1b4fe948f2)\n",
    "- [Applied Predictive Modeling](https://www.amazon.com/Applied-Predictive-Modeling-Max-Kuhn-ebook/dp/B00K15TZU0)"
   ]
  }
 ],
 "metadata": {
  "kernelspec": {
   "display_name": "Python 3",
   "language": "python",
   "name": "python3"
  },
  "language_info": {
   "codemirror_mode": {
    "name": "ipython",
    "version": 3
   },
   "file_extension": ".py",
   "mimetype": "text/x-python",
   "name": "python",
   "nbconvert_exporter": "python",
   "pygments_lexer": "ipython3",
   "version": "3.7.6"
  }
 },
 "nbformat": 4,
 "nbformat_minor": 4
}
