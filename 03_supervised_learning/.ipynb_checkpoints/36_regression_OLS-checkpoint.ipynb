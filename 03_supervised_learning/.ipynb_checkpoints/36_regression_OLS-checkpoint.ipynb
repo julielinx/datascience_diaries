{
 "cells": [
  {
   "cell_type": "markdown",
   "metadata": {},
   "source": [
    "# Entry 36 - Ordinary Least Squares (OLS)"
   ]
  },
  {
   "cell_type": "markdown",
   "metadata": {},
   "source": [
    "## Learning Style\n",
    "\n",
    "<table align='left'>\n",
    "    <tr>\n",
    "        <th>Supervision</th>\n",
    "        <th>Prediction types</th>\n",
    "    </tr>\n",
    "    <tr>\n",
    "        <td>Supervised</td>\n",
    "        <td>Regression</td>\n",
    "    </tr>\n",
    "</table>"
   ]
  },
  {
   "cell_type": "markdown",
   "metadata": {},
   "source": [
    "## Description\n",
    "\n",
    "On page 49, [Introduction to Machine Learning with Python](https://www.amazon.com/Introduction-Machine-Learning-Python-Scientists/dp/1449369413) calls this \"the simplest and most classic linear method for regression.\" It is usually the default method of Linear Regression and is the method used in the `sklearn.linear_model.LinearRegression` function.\n",
    "\n",
    "This method uses mean squared error (MSE) to find the best fit line.\n",
    "\n",
    "I covered mean squared error in [Entry 21](https://julielinx.github.io/blog/21_reg_score_theory/), but here's a reminder along with how the equation would be applied over a dataset/matrix:\n",
    "\n",
    "- **error**: the difference between the predicted value and the true value\n",
    "- **squared error**: literally square the error term. This makes all values positive. Squaring is used instead of absolute value in order to make outlier terms more important\n",
    "- **mean squared error**: sum the squared error of all data points and divide by the number of data points\n",
    "\n",
    "$MSE(X, h_{\\theta}) = \\frac{1}{m} \\sum (\\theta^{T}x^{(i)} - y^{(i)})^2$\n",
    "\n",
    "Where:\n",
    "\n",
    "- $X$: matrix of features\n",
    "- $h_{\\theta}$: prediction function, also called a *hypothesis*; $h_{\\theta} = \\theta^{T}x^{(i)}$\n",
    "- $\\theta$: array of weights\n",
    "- $x^{(i)}$: array of features for a specific observation\n",
    "- $y^{(i)}$: observed output for a specific observation"
   ]
  },
  {
   "cell_type": "markdown",
   "metadata": {},
   "source": [
    "## Purpose\n",
    "\n",
    "OLS is basically the starting point for linear regression. It calculates the theta array (I.E., the list of weights) used to calculate the output (I.E., the predicted value) from an array of inputs.\n",
    "\n",
    "There are two options when calculating the theta array:\n",
    "\n",
    "- Normal equation\n",
    "- Gradient descent\n",
    "\n",
    "When the matrix has an inverse, it is calculated using the Normal Equation. When there is no inverse or the dataset is too large, then the iterative process of Gradient Descent is used.\n",
    "\n",
    "### Regularization\n",
    "\n",
    "When I think of \"regularization,\" I generally thinking of [centering, scaling, and normalization](https://julielinx.github.io/blog/08_center_scale_and_latex/). However, in this case, *Introduction to Machine Learning using Python* defines it this way on page 51:\n",
    "\n",
    "> **Regularization**: explicitly restricting a model to avoid overfitting.\n",
    "\n",
    "In his [Machine Learning course](https://www.coursera.org/learn/machine-learning) Andrew Ng notes these two benefits to regularization:\n",
    "\n",
    "- Reduces the magnitude/values of the theta array, allowing for the retention of all features (as opposed to manually or automatically removing low contributing features)\n",
    "- Works well when there are a lot of features and each contirbutes at least minimally to the prediction ability"
   ]
  },
  {
   "cell_type": "markdown",
   "metadata": {},
   "source": [
    "## Behavior\n",
    "\n",
    "### Normal Equation\n",
    "\n",
    "The Normal Equation directly calculates the theta array.\n",
    "\n",
    "The vectorized equation is:\n",
    "\n",
    "$\\hat{\\theta} = (X^{T} X)^{-1} X^{T} y$\n",
    "\n",
    "*Side note*, a vectorized form of an equation just means that the full matrix can be used instead of inputing each array of features for every observation.\n",
    "\n",
    "Where:\n",
    "\n",
    "- $\\hat{\\theta}$: theta array, the hypothesized weights\n",
    "- $X$: input feature matrix\n",
    "- $X^{T}$: the transpose of X\n",
    "- $y$: array of target values\n",
    "\n",
    "I go into more detail on the Normal Equation in the <font color='red'>next entry</font>.\n",
    "\n",
    "### Gradient Descent\n",
    "\n",
    "Gradient Descent starts with an initial theta array, then iterates through improving the fit of the theta array with each iteration.\n",
    "\n",
    "There are several different ways to write out the gradient descent equation. The main idea of the equation as written in the *Machine Learning course* is:\n",
    "\n",
    "$\\theta_{j} := \\theta_{j} - \\alpha \\frac{1}{m}\\displaystyle\\sum_{i=1}^m (h_{\\theta}(x^{(i)}) - y^{(i)})x_{j}^{(i)}$\n",
    "\n",
    "Where:\n",
    "- $\\theta_{j}$: the specific feature being updated\n",
    "- $:=$ is assignment (in Python it's like writing `==`)\n",
    "- $\\alpha$: learning rate\n",
    "- $m$: number of training examples\n",
    "- $x^{(i)}$: the feature array of the *i*th observation\n",
    "- $h_{\\theta}(x^{(i)})$: returns the predicted value for the *i*th observation\n",
    "- $y^{(i)}$: the observed value for the *i*th observation\n",
    "\n",
    "A vectorized version as written in [Hands-On Machine Learning with Scikit-Learn](https://www.amazon.com/Hands-Machine-Learning-Scikit-Learn-TensorFlow/dp/1492032646) is:\n",
    "\n",
    "$\\theta^{\\text{next step}} = \\theta - \\eta \\frac{2}{m}X^{T}(X \\theta -y)$\n",
    "\n",
    "Where\n",
    "- $\\theta$: the theta array\n",
    "- $\\eta$: the learning rate (previously notated as $\\alpha$); the symbol is eta\n",
    "- $X$: input feature matrix\n",
    "- $X^{T}$: the transpose of $X$\n",
    "- $y$: the array of target values\n",
    "\n",
    "$\\frac{1}{m}$ is used to calculate the mean. So why does this equation use $\\frac{2}{m}$ instead? I have no idea. Andrew Ng used $\\frac{1}{2m}$ (which is just $\\frac{1}{2} \\times \\frac{1}{m}$) to \"make the math easier,\" so it could be something similar. Regardless, the equation converges to the same answer, because the answers are proportional and will find the same minimum. However, I expect it does effect the step size.\n",
    "\n",
    "Why does this equation use $\\eta$ (eta) instead of $\\alpha$ (alpha)? Beats me. [Introduction to Statistical Learning](http://faculty.marshall.usc.edu/gareth-james/ISL/) and [The Elements of Statistical Learning](https://web.stanford.edu/~hastie/ElemStatLearn/) don't even write the base linear regression equation the same, replacing $\\theta$ with $\\beta$, adding an error term $\\epsilon$, and using $p$ to indicate the number of training examples:\n",
    "\n",
    "$Y = \\beta_{0} + \\beta_{1}X_{1} + \\beta_{2}X_{2} + \\dotsb + \\beta_{p}X_{p} + \\epsilon$\n",
    "\n",
    "Why do I find four different equations representing the same basic thing in four different books/courses on the same topic? As an English major I'm inclined to blame it on a propensity of mathematicians to confuse the rest of us. Of course, I'm sure mathematicians would be as quick to point out my inclination toward verbosity.\n",
    "\n",
    "I go into much more detail on Gradient Descent in the <font color='red'>next, next entry</font>."
   ]
  },
  {
   "cell_type": "markdown",
   "metadata": {},
   "source": [
    "### Normal equation vs gradient descent\n",
    "\n",
    "<table align='left'>\n",
    "    <tr>\n",
    "        <td><b>Comparison category</b></td>\n",
    "        <td><b>Normal Equation</b></td>\n",
    "        <td><b>Gradient Descent</b></td>\n",
    "    </tr>\n",
    "    <tr>\n",
    "        <td>Alpha</td>\n",
    "        <td>No need to choose alpha</td>\n",
    "        <td>Need to choose alpha</td>\n",
    "    </tr>\n",
    "    <tr>\n",
    "        <td>Interation</td>\n",
    "        <td>No need to iterate</td>\n",
    "        <td>Needs many iterations</td>\n",
    "    </tr>\n",
    "    <tr>\n",
    "        <td>Computational complexity</td>\n",
    "        <td>$O(n^{3})$ (need to calculate inverse of $X^{T}X$) *</td>\n",
    "        <td>$O(kn^{2})$</td>\n",
    "    </tr>\n",
    "    <tr>\n",
    "        <td>Speed with large feature set</td>\n",
    "        <td>Slow if <i>n</i> is very large</td>\n",
    "        <td>Works well when <i>n</i> is large</td>\n",
    "    </tr></table>"
   ]
  },
  {
   "cell_type": "markdown",
   "metadata": {},
   "source": [
    "\\* Scikit-learn implementation of OLS uses psudoinverse instead of inverse, resolving this limitation.\n",
    "\n",
    "Where:\n",
    "\n",
    "- $n$: number of features\n",
    "- $X$: feature matrix"
   ]
  },
  {
   "cell_type": "markdown",
   "metadata": {},
   "source": [
    "## Parameters\n",
    "\n",
    "There are no tuning parameters."
   ]
  },
  {
   "cell_type": "markdown",
   "metadata": {},
   "source": [
    "## Strengths\n",
    "\n",
    "- Fast to train\n",
    "- Fast to predict\n",
    "  - Computational complexity is linear\n",
    "  - Ex: it takes twice as long to predict on twice as many instances (or twice as many features)\n",
    "- Easily scales to very large datasets\n",
    "- Works well with sparse data\n",
    "- Easy to intrepret / easy to see feature importance\n",
    "- Performs well when the number of features is large compared to the number of observations (ex, 104 features but only 5 observations)\n",
    "- Minimizes bias"
   ]
  },
  {
   "cell_type": "markdown",
   "metadata": {},
   "source": [
    "## Limitations\n",
    "\n",
    "- In low dimensions, linear models appear to have very limited usefulness. However, as more dimensions are added, the model becomes more powerful and can become overfit\n",
    "- Often unclear why coefficients are the what they are, particularly if there are highly correlated features\n",
    "- Features should be scaled to improve the algorithms ability/speed to converge on the correct solution (if you've forgotten what centering and scaling are, see [Entry 8](https://julielinx.github.io/blog/08_center_scale_and_latex/))\n",
    "- Specializes in linear relationships\n",
    "  - While features can be augmented to help capture curvilinear relationships (like quadratic or cubic), Linear Regression may not adequately capture nonlinear relationships\n",
    "  - Adding additional features to augment curvilinear relationships can create or exacerbate model overfitting\n",
    "- As it uses the mean of the residuals, it is susceptible to outliers\n",
    "\n",
    "#### Computational complexity\n",
    "\n",
    "A few notes on computational complexity. The formulas in the table above are from **Reading: Normal Equation** in week 2 of the *Machine Learning course*. On that slide, he also notes that:\n",
    "\n",
    "> [...] if we have a very large number of features, the normal equation will be slow. In practice, when *n* exceeds 10,000 it might be a good time to go from a normal solution to an iterative process.\n",
    "\n",
    "*Hands-On Machine Learning with Scikit-Learn* adds the following in relation to feature size and computational complexity:\n",
    "\n",
    "> Both the Normal Equation and the SVD approach get very slow when the number of features grows large (e.g., 100,000). On the positive side, both are linear with regard to the number of instances in the training set (they are both *O(m)*), so they handle large training sets efficiently, provided they can fit in memory.\n",
    "\n",
    "It also adds that the computational complexity for the SVD implementation of the Normal Equation in `sklearn.linear_model.LinearRegression` is $O(n^{2})$. This puts it at roughly the same computational complexity as Gradient Descent. However, everything still has to fit into memory and *Hands-On Machine Learning with Scikit-Learn* purports on page 122 that Gradient Descent is much faster than Normal Equation or SVD when there are hundreds of thousands of features. Gradent Descent is still a better choice for large datasets due to these two properties."
   ]
  },
  {
   "cell_type": "markdown",
   "metadata": {},
   "source": [
    "## Resources\n",
    "\n",
    "- [Introduction to Machine Learning with Python](https://www.amazon.com/Introduction-Machine-Learning-Python-Scientists/dp/1449369413)\n",
    "- [Hands-On Machine Learning with Scikit-Learn](https://www.amazon.com/Hands-Machine-Learning-Scikit-Learn-TensorFlow/dp/1492032646)\n",
    "- [Machine Learning course](https://www.coursera.org/learn/machine-learning)\n",
    "- [Introduction to Statistical Learning](http://faculty.marshall.usc.edu/gareth-james/ISL/)\n",
    "- [The Elements of Statistical Learning](https://web.stanford.edu/~hastie/ElemStatLearn/)\n",
    "- [Applied Predictive Modeling](https://www.amazon.com/Applied-Predictive-Modeling-Max-Kuhn-ebook/dp/B00K15TZU0)\n",
    "- [sklearn.linear_model.LinearRegression](https://scikit-learn.org/stable/modules/generated/sklearn.linear_model.LinearRegression.html)"
   ]
  }
 ],
 "metadata": {
  "kernelspec": {
   "display_name": "Python 3",
   "language": "python",
   "name": "python3"
  },
  "language_info": {
   "codemirror_mode": {
    "name": "ipython",
    "version": 3
   },
   "file_extension": ".py",
   "mimetype": "text/x-python",
   "name": "python",
   "nbconvert_exporter": "python",
   "pygments_lexer": "ipython3",
   "version": "3.7.7"
  }
 },
 "nbformat": 4,
 "nbformat_minor": 4
}
