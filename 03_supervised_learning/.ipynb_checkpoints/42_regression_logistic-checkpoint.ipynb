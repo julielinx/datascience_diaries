{
 "cells": [
  {
   "cell_type": "markdown",
   "metadata": {},
   "source": [
    "# Entry 42 - Logistic Regression"
   ]
  },
  {
   "cell_type": "markdown",
   "metadata": {},
   "source": [
    "Page 143 of [Hands-On Machine Learning with Scikit-Learn, Keras, and TensorFlow](https://www.amazon.com/Hands-Machine-Learning-Scikit-Learn-TensorFlow/dp/1492032646) states that Logistic Regression is \"just like a Linear Regression model\" except that \"instead of outputting the result directly like the Linear Regression model does, it outputs the *logistic* of this result.\""
   ]
  },
  {
   "cell_type": "markdown",
   "metadata": {},
   "source": [
    "## Learning Style\n",
    "\n",
    "<table align='left'>\n",
    "    <tr>\n",
    "        <th>Supervision</th>\n",
    "        <th>Prediction types</th>\n",
    "    </tr>\n",
    "    <tr>\n",
    "        <td>Supervised</td>\n",
    "        <td>Classification</td>\n",
    "    </tr>\n",
    "</table>"
   ]
  },
  {
   "cell_type": "markdown",
   "metadata": {},
   "source": [
    "## Description\n",
    "\n",
    "Logistic Regression adds a sigmoid function to linear regression, which allow it to make classification predictions. I covered the linear regression equations in Entry 35, but as a reminder:\n",
    "\n",
    "$\\hat{y} = h_{0}(x) = \\theta_{0} + \\theta_{1}x_{1} + \\theta_{2}x_{2} + \\dotsb + \\theta_{n}x_{n} = \\theta^{T} x$\n",
    "\n",
    "Where\n",
    "\n",
    "- $h_{\\theta}$: prediction function, also called a *hypothesis*; $h_{\\theta} = \\theta^{T}x^{(i)}$\n",
    "- $\\theta$: vector (I.E., list) of weights, with the first value being the y-intercept type value (represented by *b* in *Introduction to Machine Learning*)\n",
    "- $x$: the matrix of feature values (I.E., the DataFrame) with the first column ($x_{0}$, not listed in the equation) being all 1s so that $\\theta_{0}$ is always evaluated as the same value\n",
    "\n",
    "The addition of the sigmoid function turns the output into a number between 0 and 1, where the predictions form an S-shape."
   ]
  },
  {
   "cell_type": "code",
   "execution_count": 1,
   "metadata": {},
   "outputs": [
    {
     "data": {
      "text/plain": [
       "[<matplotlib.lines.Line2D at 0x28006b263c8>]"
      ]
     },
     "execution_count": 1,
     "metadata": {},
     "output_type": "execute_result"
    },
    {
     "data": {
      "image/png": "[encoded data removed]",
      "text/plain": [
       "<Figure size 432x288 with 1 Axes>"
      ]
     },
     "metadata": {
      "needs_background": "light"
     },
     "output_type": "display_data"
    }
   ],
   "source": [
    "import numpy as np\n",
    "import math\n",
    "import matplotlib.pyplot as plt \n",
    "\n",
    "t = list(np.arange(-10, 10, 0.1))\n",
    "sig = [(1 / (1 + math.exp(-x))) for x in t]\n",
    "\n",
    "plt.plot(t, sig)\n",
    "plt.plot([-10, 10], [0.5, 0.5], \"k-\")\n",
    "plt.plot([0, 0], [0, 1], \"k:\")"
   ]
  },
  {
   "cell_type": "markdown",
   "metadata": {},
   "source": [
    "Page 143 of Hands-On Machine Learning spells out the importance of this on page 143. The output is \"the probability $\\hat{p} = h_{\\theta}(x)$ that an instance $x$ belongs to the positive class.\" From there, it's easy to turn into a classification prediction:\n",
    "\n",
    "$\\hat{y} = \n",
    "\\begin{cases}\n",
    "    0 \\text{ if } \\hat{p} < 0.5\\\\\n",
    "    1 \\text{ if } \\hat{p} \\geq 0.5\n",
    "  \\end{cases}$\n",
    "  \n",
    "The above assumes that the desired threshold is 0.5. I covered choosing thresholds in Entry 26. In Logistic Regression, the threshold is also called the \"decision boundary\" because the threshold marks the boundary between a \"yes\" or \"no\" decision."
   ]
  },
  {
   "cell_type": "markdown",
   "metadata": {},
   "source": [
    "## Purpose\n",
    "\n",
    "The purpose of Logistic Regression is to apply the same mathematical principles as Linear Regression to classification problems.\n",
    "\n",
    "To make the linear regression equation into a logistic regression equation, a sigmoid function is added:\n",
    "\n",
    "$h_{0}(x) = g(\\theta^{T}x) = g(z) = \\frac{1}{1+e^{-z}} = \\frac{1}{1+e^{-\\theta^{T}x}}$\n",
    "\n",
    "Where:\n",
    "- $z = X \\theta = \\theta^{T}x$\n",
    "  - (m x n) x (n x 1 ) = (m x 1)\n",
    "- e = Euler's number (i.e., the base of natural logarithm)\n",
    "  - The exact value is in the `math` library: `math.e`\n",
    "  - To use it in this equation, `math.exp(-z)`\n",
    "- g = sigmoid function\n",
    "\n",
    "The above equations came from week 3 of Andrew Ng's [Machine Learning course](https://www.coursera.org/learn/machine-learning)."
   ]
  },
  {
   "cell_type": "markdown",
   "metadata": {},
   "source": [
    "## Behavior\n",
    "\n",
    "Because Logistic Regression is essentially Linear Regression with a sigmoid function, it behaves very similarily to Linear Regression.\n",
    "\n",
    "These similarities include:\n",
    "- The classes are separated by a line, plane or hyperplane (The Behavior section of Entry 35 has illustrations of this concept)\n",
    "- Regularization can be applied ([Scikit' LogisticRegression function](https://scikit-learn.org/stable/modules/generated/sklearn.linear_model.LogisticRegression.html) applies L2 regularization by default. I cover L1 and L2 regularization in Entry 38)\n",
    "- Gradient Descent is used to find the global minimum (I cover Gradient Descent in Entry 37b)\n",
    "\n",
    "On page 144 of *Hands-On Machine Learning with Scikit Learn*, Aurelien points out a notable exception to the simiarities: Logistic Regression has no equivalent to the Normal Equation (I cover Normal Equation in Entry 37a). Gradient Descent is the method used to determine the cost function and find the best fit to the data.\n",
    "\n",
    "[Introduction to Machine Learning with Python](https://www.amazon.com/Introduction-Machine-Learning-Python-Scientists/dp/1449369413) also warns on page 58 that:\n",
    "\n",
    "> `LogisticRegression` is a classification algorithm and not a regression algorithm, and it should not be confused with `LinearRegression`.\n",
    "\n",
    "### Multiple Classes\n",
    "\n",
    "On page 148 of *Hands-On Machine Learning with Scikit Learn*, Aurelien discusses using Logistic Regression to predict on multiple classes (I.E. more than binary \"yes\"/\"no\" decisions) using Softmax Regression.\n",
    "\n",
    "As I don't work much with multi-class predictions, I will be skipping Softmax. "
   ]
  },
  {
   "cell_type": "markdown",
   "metadata": {},
   "source": [
    "## Parameters\n",
    "\n",
    "Scikit Learn has 15 parameters, all of which have default parameters.\n",
    "\n",
    "- penalty='l2'\n",
    "- dual=False\n",
    "- tol=0.0001\n",
    "- C=1.0\n",
    "- fit_intercept=True\n",
    "- intercept_scaling=1\n",
    "- class_weight=None\n",
    "- random_state=None\n",
    "- solver='lbfgs'\n",
    "- max_iter=100\n",
    "- multi_class='auto'\n",
    "- verbose=0\n",
    "- warm_start=False\n",
    "- n_jobs=None\n",
    "- l1_ratio=None\n",
    "\n",
    "The full descriptions of what each does is available on the Scikit Learn [LogisticRegression](https://scikit-learn.org/stable/modules/generated/sklearn.linear_model.LogisticRegression.html) page, but I want to call out two here.\n",
    "\n",
    "As mentioned above in the Behavior section, L2 regularization is applied by default. *Introduction to Machine Learning with Python* points out on page 64 that this can be changed to L1 regularization if a more interpretable model is desired, as it uses fewer features (L1 and L2 regularization are covered in Entry 38).\n",
    "\n",
    "The second parameter is `C`. Both *Hands-On Machine Learning with Scikit Learn* and *Introduction to Machine Learning with Python* spend several paragraphs talking about this parameter. It controls the amount of regularzation. The important thing to remember about `C` is that it the **inverse** of regularization strength. Higher values of `C` produce *less* regularization. As such, if the model needs *more* regularization, start using decimal values like 0.01."
   ]
  },
  {
   "cell_type": "markdown",
   "metadata": {},
   "source": [
    "## Strengths\n",
    "\n",
    "- Fast to train\n",
    "- Fast to predict\n",
    "- Easily scale to very large datasets\n",
    "  - On page 263 [Machine Learning with Python Cookbook](https://www.amazon.com/Machine-Learning-Python-Cookbook-Preprocessing/dp/1491989386) discusses using the stochastic average gradient (SAG) solver on large datasets\n",
    "  - The large dataset discussion includes a warning that SAG is very sensitive to feature scaling, so standardizing the features is extrememly important\n",
    "- Work well with sparse data\n",
    "- Easy to intrepret / easy to see feature importance\n",
    "- Performs well when the number of features is large compared to the number of observations (ex, 104 features but only 5 observations)\n",
    "- Handles imbalanced classes using the `class_weight` parameter (I discuss imbalanced classes in Entry 23)"
   ]
  },
  {
   "cell_type": "markdown",
   "metadata": {},
   "source": [
    "## Limitations\n",
    "\n",
    "- In low dimensions, linear models appear to have very limited usefulness. However, as more dimensions are added, the model becomes more powerful and can become overfit\n",
    "- Often unclear why coefficients are the what they are, particularly if there are highly correlated features\n",
    "- Specializes in linear relationships\n",
    "  - While features can be augmented to help capture curvilinear relationships (like quadratic or cubic), Linear Regression may not adequately capture nonlinear relationships\n",
    "  - Adding additional features to augment curvilinear relationships can create or exacerbate model overfitting\n",
    "- As it uses the mean of the residuals, it is susceptible to outliers\n",
    "- May become erratic when the number of predictors is higher than the number of observations (ex, 14 features but only 5 observations)"
   ]
  },
  {
   "cell_type": "markdown",
   "metadata": {},
   "source": [
    "## Up Next\n"
   ]
  },
  {
   "cell_type": "markdown",
   "metadata": {},
   "source": [
    "## Resources\n",
    "\n",
    "- [Hands-On Machine Learning with Scikit-Learn, Keras, and TensorFlow](https://www.amazon.com/Hands-Machine-Learning-Scikit-Learn-TensorFlow/dp/1492032646)\n",
    "- [Machine Learning](https://www.coursera.org/learn/machine-learning) coursera course by Andrew Ng\n",
    "- [Introduction to Machine Learning with Python](https://www.amazon.com/Introduction-Machine-Learning-Python-Scientists/dp/1449369413)\n",
    "- [Machine Learning with Python Cookbook](https://www.amazon.com/Machine-Learning-Python-Cookbook-Preprocessing/dp/1491989386)"
   ]
  }
 ],
 "metadata": {
  "kernelspec": {
   "display_name": "Python 3",
   "language": "python",
   "name": "python3"
  },
  "language_info": {
   "codemirror_mode": {
    "name": "ipython",
    "version": 3
   },
   "file_extension": ".py",
   "mimetype": "text/x-python",
   "name": "python",
   "nbconvert_exporter": "python",
   "pygments_lexer": "ipython3",
   "version": "3.7.7"
  }
 },
 "nbformat": 4,
 "nbformat_minor": 4
}
