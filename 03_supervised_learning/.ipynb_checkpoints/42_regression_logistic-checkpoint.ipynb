{
 "cells": [
  {
   "cell_type": "markdown",
   "metadata": {},
   "source": [
    "# Entry ? - Logistic Regression"
   ]
  },
  {
   "cell_type": "markdown",
   "metadata": {},
   "source": [
    "## Learning Style\n",
    "\n",
    "<table align='left'>\n",
    "    <tr>\n",
    "        <th>Supervision</th>\n",
    "        <th>Prediction types</th>\n",
    "    </tr>\n",
    "    <tr>\n",
    "        <td>Supervised</td>\n",
    "        <td>Classification</td>\n",
    "    </tr>\n",
    "</table>"
   ]
  },
  {
   "cell_type": "markdown",
   "metadata": {},
   "source": [
    "## Description\n",
    "\n"
   ]
  },
  {
   "cell_type": "markdown",
   "metadata": {},
   "source": [
    "Equations:\n",
    "\n",
    "- $\\hat{y} = h_{0}(x) = \\theta_{0} + \\theta_{1}x_{1} + \\theta_{2}x_{2} + \\dotsb + \\theta_{n}x_{n} = \\theta^{T} x$\n",
    "  - for logistic regression\n",
    "    - $h_{0}(x) = g(\\theta^{T}x) = g(z)$\n",
    "    - sigmoid function (also logistic function): $g(z) = \\frac{1}{1+e^{-z}} => h_{0}(x) = \\frac{1}{1+e^{-\\theta^{T}x}} $\n",
    "    - Where:\n",
    "      - $z = X \\theta = \\theta^{T}x$\n",
    "        - (m x n) x (n x 1 ) = (m x 1)\n",
    "      - e = Euler's number (i.e., the base of natural logarithm)\n",
    "        - Exact value in the `math` library: `math.e`\n",
    "        - To use it in this equation, `math.exp(-z)`\n",
    "- Mean square error = $MSE = \\frac{1}{n} \\sum (y_{i} - \\hat{y_{i}})^2$\n",
    "- Cost function = $J(\\theta) = \\frac{1}{2m}\\displaystyle\\sum_{i=1}^m(\\hat{y}_{i} - y_{i})^2 = \\frac{1}{2m}\\displaystyle\\sum_{i=1}^m(h_{\\theta}(x_{i}) - y_{i})^2$\n",
    "- Gradient descent algorithm = $\\theta_{j}:=\\theta_{j} - \\alpha \\frac{\\partial}{\\partial \\theta_{j}} J(\\theta)$\n",
    "- Regularized cost function = $\\frac{\\partial J(\\theta)}{\\partial \\theta_{j}} = \\frac{1}{m}\\displaystyle\\sum_{i=1}^m (h_{\\theta}(x_{(i)}) - y_{i}x_{j}^{(i)})$"
   ]
  },
  {
   "cell_type": "markdown",
   "metadata": {},
   "source": [
    "## Purpose\n",
    "\n",
    "To apply Linear Regression to classification problems."
   ]
  },
  {
   "cell_type": "markdown",
   "metadata": {},
   "source": [
    "## Behavior\n",
    "\n"
   ]
  },
  {
   "cell_type": "markdown",
   "metadata": {},
   "source": [
    "## Parameters\n",
    "\n",
    "<!-- - `alpha`\n",
    "- `max_iter` -->"
   ]
  },
  {
   "cell_type": "markdown",
   "metadata": {},
   "source": [
    "## Strengths\n",
    "\n"
   ]
  },
  {
   "cell_type": "markdown",
   "metadata": {},
   "source": [
    "## Limitations\n",
    "\n"
   ]
  },
  {
   "cell_type": "markdown",
   "metadata": {},
   "source": [
    "## Evaluation\n",
    "\n"
   ]
  },
  {
   "cell_type": "markdown",
   "metadata": {},
   "source": [
    "## Datasets"
   ]
  },
  {
   "cell_type": "markdown",
   "metadata": {},
   "source": [
    "## Resources"
   ]
  }
 ],
 "metadata": {
  "kernelspec": {
   "display_name": "Python 3",
   "language": "python",
   "name": "python3"
  },
  "language_info": {
   "codemirror_mode": {
    "name": "ipython",
    "version": 3
   },
   "file_extension": ".py",
   "mimetype": "text/x-python",
   "name": "python",
   "nbconvert_exporter": "python",
   "pygments_lexer": "ipython3",
   "version": "3.7.6"
  }
 },
 "nbformat": 4,
 "nbformat_minor": 4
}
