{
 "cells": [
  {
   "cell_type": "markdown",
   "metadata": {},
   "source": [
    "### Resources:\n",
    "\n",
    "- [Jupyter notebooks tips and tricks](https://towardsdatascience.com/jupyter-notebooks-tips-and-tricks-4e995e7b1fd0) - has stuff on the timeit magic commands.\n",
    "- [Magic commands](https://ipython.readthedocs.io/en/stable/interactive/magics.html)"
   ]
  },
  {
   "cell_type": "code",
   "execution_count": 88,
   "metadata": {},
   "outputs": [],
   "source": [
    "import numpy as np\n",
    "import pandas as pd\n",
    "import seaborn as sns\n",
    "import matplotlib.pyplot as plt\n",
    "%matplotlib inline\n",
    "plt.style.use('seaborn')\n",
    "\n",
    "from sklearn.preprocessing import StandardScaler\n",
    "from sklearn.model_selection import train_test_split, cross_val_score\n",
    "\n",
    "from sklearn.linear_model import LinearRegression\n",
    "from sklearn.tree import DecisionTreeRegressor\n",
    "from sklearn.ensemble import RandomForestRegressor\n",
    "# from sklearn.neighbors import KNeighborsClassifer\n",
    "# from sklearn.discriminant_analysis import LinearDiscriminantAnalysis\n",
    "# from sklearn.naive_bayes import GaussianNB\n",
    "# from sklearn.svm import SVC\n",
    "\n",
    "from sklearn.metrics import classification_report, confusion_matrix, accuracy_score, SCORERS"
   ]
  },
  {
   "cell_type": "markdown",
   "metadata": {},
   "source": [
    "# Frame the problem\n",
    "\n",
    "The task is to predict the number of O-rings that will experience thermal distress for a given flight when the launch temperature is below freezing."
   ]
  },
  {
   "cell_type": "markdown",
   "metadata": {},
   "source": [
    "# Get the Data\n",
    "\n",
    "### Data\n",
    "\n",
    "[Challenger USA Space Shuttle O-Ring Data Set](http://archive.ics.uci.edu/ml/datasets/Challenger+USA+Space+Shuttle+O-Ring) from UCI Machine Learning Repository.\n",
    "\n",
    "Number of observations: 23\n",
    "\n",
    "Number of Attributes (all integers): 5\n",
    "\n",
    "1. Number of O-rings at risk on a given flight\n",
    "2. Number experiencing thermal distress\n",
    "3. Launch temperature (degrees F)\n",
    "4. Leak-check pressure (psi)\n",
    "5. Temporal order of flight\n",
    "\n",
    "### Raw data processing steps\n",
    "\n",
    "Data is stored as a .data file. Pandas read_csv loads each row as a single string. To get the data into a DataFrame format the following preprocessing steps need to be run:\n",
    "\n",
    "- Split single string into individual columns\n",
    "- Rename columns\n",
    "- Set correct index from dataset\n",
    "- Convert all values to integers"
   ]
  },
  {
   "cell_type": "markdown",
   "metadata": {},
   "source": [
    "# <font color='red'>To add</font>\n",
    "\n",
    "### Split data into train, test, reserve.\n",
    "\n",
    "1. You want to split the data first so that:\n",
    "  - You don't have data leakage (ex: knowing a max that isn't included in the test data)\n",
    "  - You know what your model will do if it encounters info it (and you) haven't seen before (ex: a category that wasn't in the test data)\n",
    "2. Split the target from the features\n",
    "  - You can still run correlations using corrwith() to compare to the target"
   ]
  },
  {
   "cell_type": "code",
   "execution_count": 39,
   "metadata": {},
   "outputs": [
    {
     "data": {
      "text/html": [
       "<div>\n",
       "<style scoped>\n",
       "    .dataframe tbody tr th:only-of-type {\n",
       "        vertical-align: middle;\n",
       "    }\n",
       "\n",
       "    .dataframe tbody tr th {\n",
       "        vertical-align: top;\n",
       "    }\n",
       "\n",
       "    .dataframe thead th {\n",
       "        text-align: right;\n",
       "    }\n",
       "</style>\n",
       "<table border=\"1\" class=\"dataframe\">\n",
       "  <thead>\n",
       "    <tr style=\"text-align: right;\">\n",
       "      <th></th>\n",
       "      <th>nbr_orings</th>\n",
       "      <th>nbr_heat_distress</th>\n",
       "      <th>launch_temp</th>\n",
       "      <th>leakcheck_pressure</th>\n",
       "    </tr>\n",
       "    <tr>\n",
       "      <th>flight_order</th>\n",
       "      <th></th>\n",
       "      <th></th>\n",
       "      <th></th>\n",
       "      <th></th>\n",
       "    </tr>\n",
       "  </thead>\n",
       "  <tbody>\n",
       "    <tr>\n",
       "      <th>1</th>\n",
       "      <td>6</td>\n",
       "      <td>0</td>\n",
       "      <td>66</td>\n",
       "      <td>50</td>\n",
       "    </tr>\n",
       "    <tr>\n",
       "      <th>2</th>\n",
       "      <td>6</td>\n",
       "      <td>1</td>\n",
       "      <td>70</td>\n",
       "      <td>50</td>\n",
       "    </tr>\n",
       "    <tr>\n",
       "      <th>3</th>\n",
       "      <td>6</td>\n",
       "      <td>0</td>\n",
       "      <td>69</td>\n",
       "      <td>50</td>\n",
       "    </tr>\n",
       "    <tr>\n",
       "      <th>4</th>\n",
       "      <td>6</td>\n",
       "      <td>0</td>\n",
       "      <td>68</td>\n",
       "      <td>50</td>\n",
       "    </tr>\n",
       "    <tr>\n",
       "      <th>5</th>\n",
       "      <td>6</td>\n",
       "      <td>0</td>\n",
       "      <td>67</td>\n",
       "      <td>50</td>\n",
       "    </tr>\n",
       "  </tbody>\n",
       "</table>\n",
       "</div>"
      ],
      "text/plain": [
       "              nbr_orings  nbr_heat_distress  launch_temp  leakcheck_pressure\n",
       "flight_order                                                                \n",
       "1                      6                  0           66                  50\n",
       "2                      6                  1           70                  50\n",
       "3                      6                  0           69                  50\n",
       "4                      6                  0           68                  50\n",
       "5                      6                  0           67                  50"
      ]
     },
     "execution_count": 39,
     "metadata": {},
     "output_type": "execute_result"
    }
   ],
   "source": [
    "names={0:'nbr_orings', 1:'nbr_heat_distress', 2:'launch_temp', 3:'leakcheck_pressure', 4:'flight_order'}\n",
    "raw_df = pd.read_csv('http://archive.ics.uci.edu/ml/machine-learning-databases/space-shuttle/o-ring-erosion-or-blowby.data',\n",
    "            header=None, names=['data']).data.str.split(expand=True).rename(names, axis=1).set_index('flight_order').astype('int')\n",
    "raw_df.head()"
   ]
  },
  {
   "cell_type": "markdown",
   "metadata": {},
   "source": [
    "# Explore data\n",
    "\n",
    "- No missing values\n",
    "- The number of o-rings is the same for all observations\n",
    "- The leack check was conducted at 3 intervals 50, 100, and 200\n",
    "- The number of o-rings that experienced heat distress ranges from 0-2\n",
    "- There appears to be an outlier observation of 2 o-rings that experienced heat distress at launch temperature in the 70s"
   ]
  },
  {
   "cell_type": "code",
   "execution_count": 44,
   "metadata": {},
   "outputs": [
    {
     "data": {
      "text/html": [
       "<div>\n",
       "<style scoped>\n",
       "    .dataframe tbody tr th:only-of-type {\n",
       "        vertical-align: middle;\n",
       "    }\n",
       "\n",
       "    .dataframe tbody tr th {\n",
       "        vertical-align: top;\n",
       "    }\n",
       "\n",
       "    .dataframe thead th {\n",
       "        text-align: right;\n",
       "    }\n",
       "</style>\n",
       "<table border=\"1\" class=\"dataframe\">\n",
       "  <thead>\n",
       "    <tr style=\"text-align: right;\">\n",
       "      <th></th>\n",
       "      <th>nbr_orings</th>\n",
       "      <th>nbr_heat_distress</th>\n",
       "      <th>launch_temp</th>\n",
       "      <th>leakcheck_pressure</th>\n",
       "    </tr>\n",
       "  </thead>\n",
       "  <tbody>\n",
       "    <tr>\n",
       "      <th>count</th>\n",
       "      <td>23.0</td>\n",
       "      <td>23.000000</td>\n",
       "      <td>23.000000</td>\n",
       "      <td>23.000000</td>\n",
       "    </tr>\n",
       "    <tr>\n",
       "      <th>mean</th>\n",
       "      <td>6.0</td>\n",
       "      <td>0.391304</td>\n",
       "      <td>69.565217</td>\n",
       "      <td>152.173913</td>\n",
       "    </tr>\n",
       "    <tr>\n",
       "      <th>std</th>\n",
       "      <td>0.0</td>\n",
       "      <td>0.656376</td>\n",
       "      <td>7.057080</td>\n",
       "      <td>68.221332</td>\n",
       "    </tr>\n",
       "    <tr>\n",
       "      <th>min</th>\n",
       "      <td>6.0</td>\n",
       "      <td>0.000000</td>\n",
       "      <td>53.000000</td>\n",
       "      <td>50.000000</td>\n",
       "    </tr>\n",
       "    <tr>\n",
       "      <th>25%</th>\n",
       "      <td>6.0</td>\n",
       "      <td>0.000000</td>\n",
       "      <td>67.000000</td>\n",
       "      <td>75.000000</td>\n",
       "    </tr>\n",
       "    <tr>\n",
       "      <th>50%</th>\n",
       "      <td>6.0</td>\n",
       "      <td>0.000000</td>\n",
       "      <td>70.000000</td>\n",
       "      <td>200.000000</td>\n",
       "    </tr>\n",
       "    <tr>\n",
       "      <th>75%</th>\n",
       "      <td>6.0</td>\n",
       "      <td>1.000000</td>\n",
       "      <td>75.000000</td>\n",
       "      <td>200.000000</td>\n",
       "    </tr>\n",
       "    <tr>\n",
       "      <th>max</th>\n",
       "      <td>6.0</td>\n",
       "      <td>2.000000</td>\n",
       "      <td>81.000000</td>\n",
       "      <td>200.000000</td>\n",
       "    </tr>\n",
       "  </tbody>\n",
       "</table>\n",
       "</div>"
      ],
      "text/plain": [
       "       nbr_orings  nbr_heat_distress  launch_temp  leakcheck_pressure\n",
       "count        23.0          23.000000    23.000000           23.000000\n",
       "mean          6.0           0.391304    69.565217          152.173913\n",
       "std           0.0           0.656376     7.057080           68.221332\n",
       "min           6.0           0.000000    53.000000           50.000000\n",
       "25%           6.0           0.000000    67.000000           75.000000\n",
       "50%           6.0           0.000000    70.000000          200.000000\n",
       "75%           6.0           1.000000    75.000000          200.000000\n",
       "max           6.0           2.000000    81.000000          200.000000"
      ]
     },
     "execution_count": 44,
     "metadata": {},
     "output_type": "execute_result"
    }
   ],
   "source": [
    "raw_df.describe()"
   ]
  },
  {
   "cell_type": "code",
   "execution_count": 46,
   "metadata": {},
   "outputs": [
    {
     "name": "stdout",
     "output_type": "stream",
     "text": [
      "<class 'pandas.core.frame.DataFrame'>\n",
      "Index: 23 entries, 1 to 23\n",
      "Data columns (total 4 columns):\n",
      "nbr_orings            23 non-null int64\n",
      "nbr_heat_distress     23 non-null int64\n",
      "launch_temp           23 non-null int64\n",
      "leakcheck_pressure    23 non-null int64\n",
      "dtypes: int64(4)\n",
      "memory usage: 1.5+ KB\n"
     ]
    }
   ],
   "source": [
    "raw_df.info()"
   ]
  },
  {
   "cell_type": "code",
   "execution_count": 40,
   "metadata": {},
   "outputs": [
    {
     "data": {
      "text/plain": [
       "<matplotlib.axes._subplots.AxesSubplot at 0x1a21b97be0>"
      ]
     },
     "execution_count": 40,
     "metadata": {},
     "output_type": "execute_result"
    },
    {
     "data": {
      "image/png": "[encoded data removed]",
      "text/plain": [
       "<Figure size 432x288 with 1 Axes>"
      ]
     },
     "metadata": {
      "needs_background": "light"
     },
     "output_type": "display_data"
    }
   ],
   "source": [
    "sns.scatterplot(x=raw_df['launch_temp'],y=raw_df['nbr_heat_distress'])"
   ]
  },
  {
   "cell_type": "code",
   "execution_count": 41,
   "metadata": {},
   "outputs": [
    {
     "data": {
      "text/plain": [
       "<seaborn.axisgrid.PairGrid at 0x1a21c6f470>"
      ]
     },
     "execution_count": 41,
     "metadata": {},
     "output_type": "execute_result"
    },
    {
     "data": {
      "image/png": "[encoded data removed]",
      "text/plain": [
       "<Figure size 720x720 with 20 Axes>"
      ]
     },
     "metadata": {
      "needs_background": "light"
     },
     "output_type": "display_data"
    }
   ],
   "source": [
    "sns.pairplot(raw_df)"
   ]
  },
  {
   "cell_type": "code",
   "execution_count": 42,
   "metadata": {},
   "outputs": [
    {
     "data": {
      "text/plain": [
       "<matplotlib.axes._subplots.AxesSubplot at 0x1a224d99b0>"
      ]
     },
     "execution_count": 42,
     "metadata": {},
     "output_type": "execute_result"
    },
    {
     "data": {
      "image/png": "[encoded data removed]",
      "text/plain": [
       "<Figure size 432x288 with 1 Axes>"
      ]
     },
     "metadata": {
      "needs_background": "light"
     },
     "output_type": "display_data"
    }
   ],
   "source": [
    "sns.scatterplot(x='launch_temp',y='leakcheck_pressure', hue='nbr_heat_distress', data=raw_df)"
   ]
  },
  {
   "cell_type": "markdown",
   "metadata": {},
   "source": [
    "### Correlation\n",
    "\n",
    "#### Pearson\n",
    "\n",
    "- Number of o-rings isn't correlated with any of the other features. Which makes sence since it's the same number no mater what.\n",
    "- The number of o-rings experiencing heat distress has a negative 0.51 correlation with the launch temperature\n",
    "- Number of o-rings experiencing heat distress has a 0.28 correlation with leak check pressure. We would expect a low correlation for this since we would expect them to conduct multiple pressure checks at each temperature.\n",
    "- Launch temp and leak check pressure have almost no correlation at 0.03.\n",
    "\n",
    "#### Spearman\n",
    "- Downgrades the correlation between nbr_heat_distress and launch_temp as well as nbr_heat_distress and leakcheck_pressure.\n",
    "- Upgrades the correlation between launch_temp and leakcheck_pressure."
   ]
  },
  {
   "cell_type": "code",
   "execution_count": 47,
   "metadata": {},
   "outputs": [
    {
     "data": {
      "text/html": [
       "<div>\n",
       "<style scoped>\n",
       "    .dataframe tbody tr th:only-of-type {\n",
       "        vertical-align: middle;\n",
       "    }\n",
       "\n",
       "    .dataframe tbody tr th {\n",
       "        vertical-align: top;\n",
       "    }\n",
       "\n",
       "    .dataframe thead th {\n",
       "        text-align: right;\n",
       "    }\n",
       "</style>\n",
       "<table border=\"1\" class=\"dataframe\">\n",
       "  <thead>\n",
       "    <tr style=\"text-align: right;\">\n",
       "      <th></th>\n",
       "      <th>nbr_orings</th>\n",
       "      <th>nbr_heat_distress</th>\n",
       "      <th>launch_temp</th>\n",
       "      <th>leakcheck_pressure</th>\n",
       "    </tr>\n",
       "  </thead>\n",
       "  <tbody>\n",
       "    <tr>\n",
       "      <th>nbr_orings</th>\n",
       "      <td>NaN</td>\n",
       "      <td>NaN</td>\n",
       "      <td>NaN</td>\n",
       "      <td>NaN</td>\n",
       "    </tr>\n",
       "    <tr>\n",
       "      <th>nbr_heat_distress</th>\n",
       "      <td>NaN</td>\n",
       "      <td>1.000000</td>\n",
       "      <td>-0.511126</td>\n",
       "      <td>0.284666</td>\n",
       "    </tr>\n",
       "    <tr>\n",
       "      <th>launch_temp</th>\n",
       "      <td>NaN</td>\n",
       "      <td>-0.511126</td>\n",
       "      <td>1.000000</td>\n",
       "      <td>0.039818</td>\n",
       "    </tr>\n",
       "    <tr>\n",
       "      <th>leakcheck_pressure</th>\n",
       "      <td>NaN</td>\n",
       "      <td>0.284666</td>\n",
       "      <td>0.039818</td>\n",
       "      <td>1.000000</td>\n",
       "    </tr>\n",
       "  </tbody>\n",
       "</table>\n",
       "</div>"
      ],
      "text/plain": [
       "                    nbr_orings  nbr_heat_distress  launch_temp  \\\n",
       "nbr_orings                 NaN                NaN          NaN   \n",
       "nbr_heat_distress          NaN           1.000000    -0.511126   \n",
       "launch_temp                NaN          -0.511126     1.000000   \n",
       "leakcheck_pressure         NaN           0.284666     0.039818   \n",
       "\n",
       "                    leakcheck_pressure  \n",
       "nbr_orings                         NaN  \n",
       "nbr_heat_distress             0.284666  \n",
       "launch_temp                   0.039818  \n",
       "leakcheck_pressure            1.000000  "
      ]
     },
     "execution_count": 47,
     "metadata": {},
     "output_type": "execute_result"
    }
   ],
   "source": [
    "raw_df.corr()"
   ]
  },
  {
   "cell_type": "code",
   "execution_count": 63,
   "metadata": {},
   "outputs": [
    {
     "data": {
      "text/html": [
       "<div>\n",
       "<style scoped>\n",
       "    .dataframe tbody tr th:only-of-type {\n",
       "        vertical-align: middle;\n",
       "    }\n",
       "\n",
       "    .dataframe tbody tr th {\n",
       "        vertical-align: top;\n",
       "    }\n",
       "\n",
       "    .dataframe thead th {\n",
       "        text-align: right;\n",
       "    }\n",
       "</style>\n",
       "<table border=\"1\" class=\"dataframe\">\n",
       "  <thead>\n",
       "    <tr style=\"text-align: right;\">\n",
       "      <th></th>\n",
       "      <th>nbr_orings</th>\n",
       "      <th>nbr_heat_distress</th>\n",
       "      <th>launch_temp</th>\n",
       "      <th>leakcheck_pressure</th>\n",
       "    </tr>\n",
       "  </thead>\n",
       "  <tbody>\n",
       "    <tr>\n",
       "      <th>nbr_orings</th>\n",
       "      <td>NaN</td>\n",
       "      <td>NaN</td>\n",
       "      <td>NaN</td>\n",
       "      <td>NaN</td>\n",
       "    </tr>\n",
       "    <tr>\n",
       "      <th>nbr_heat_distress</th>\n",
       "      <td>NaN</td>\n",
       "      <td>1.000000</td>\n",
       "      <td>-0.429473</td>\n",
       "      <td>0.277556</td>\n",
       "    </tr>\n",
       "    <tr>\n",
       "      <th>launch_temp</th>\n",
       "      <td>NaN</td>\n",
       "      <td>-0.429473</td>\n",
       "      <td>1.000000</td>\n",
       "      <td>0.154133</td>\n",
       "    </tr>\n",
       "    <tr>\n",
       "      <th>leakcheck_pressure</th>\n",
       "      <td>NaN</td>\n",
       "      <td>0.277556</td>\n",
       "      <td>0.154133</td>\n",
       "      <td>1.000000</td>\n",
       "    </tr>\n",
       "  </tbody>\n",
       "</table>\n",
       "</div>"
      ],
      "text/plain": [
       "                    nbr_orings  nbr_heat_distress  launch_temp  \\\n",
       "nbr_orings                 NaN                NaN          NaN   \n",
       "nbr_heat_distress          NaN           1.000000    -0.429473   \n",
       "launch_temp                NaN          -0.429473     1.000000   \n",
       "leakcheck_pressure         NaN           0.277556     0.154133   \n",
       "\n",
       "                    leakcheck_pressure  \n",
       "nbr_orings                         NaN  \n",
       "nbr_heat_distress             0.277556  \n",
       "launch_temp                   0.154133  \n",
       "leakcheck_pressure            1.000000  "
      ]
     },
     "execution_count": 63,
     "metadata": {},
     "output_type": "execute_result"
    }
   ],
   "source": [
    "raw_df.corr(method='spearman')"
   ]
  },
  {
   "cell_type": "markdown",
   "metadata": {},
   "source": [
    "# Prepare data\n",
    "\n",
    "- No missing values\n",
    "- Dropped 'nbr_orings' as the value is the same for all observations\n",
    "- Added failure rate feature\n",
    "- Scale and normalize values"
   ]
  },
  {
   "cell_type": "code",
   "execution_count": 54,
   "metadata": {},
   "outputs": [
    {
     "data": {
      "text/plain": [
       "Index(['nbr_orings', 'nbr_heat_distress', 'launch_temp', 'leakcheck_pressure'], dtype='object')"
      ]
     },
     "execution_count": 54,
     "metadata": {},
     "output_type": "execute_result"
    }
   ],
   "source": [
    "raw_df.columns"
   ]
  },
  {
   "cell_type": "code",
   "execution_count": 49,
   "metadata": {},
   "outputs": [],
   "source": [
    "def preprocess_data(df, scaler=StandardScaler()):\n",
    "    columns = df.columns.tolist()\n",
    "    index = df.index.tolist()\n",
    "    df = scaler.fit_transform(df)\n",
    "    df = pd.DataFrame(df, columns=columns, index=index)\n",
    "    return scaler, df"
   ]
  },
  {
   "cell_type": "code",
   "execution_count": 68,
   "metadata": {},
   "outputs": [
    {
     "data": {
      "text/html": [
       "<div>\n",
       "<style scoped>\n",
       "    .dataframe tbody tr th:only-of-type {\n",
       "        vertical-align: middle;\n",
       "    }\n",
       "\n",
       "    .dataframe tbody tr th {\n",
       "        vertical-align: top;\n",
       "    }\n",
       "\n",
       "    .dataframe thead th {\n",
       "        text-align: right;\n",
       "    }\n",
       "</style>\n",
       "<table border=\"1\" class=\"dataframe\">\n",
       "  <thead>\n",
       "    <tr style=\"text-align: right;\">\n",
       "      <th></th>\n",
       "      <th>launch_temp</th>\n",
       "      <th>leakcheck_pressure</th>\n",
       "      <th>failure_rate</th>\n",
       "    </tr>\n",
       "  </thead>\n",
       "  <tbody>\n",
       "    <tr>\n",
       "      <th>1</th>\n",
       "      <td>-0.516551</td>\n",
       "      <td>-1.531343</td>\n",
       "      <td>-0.609557</td>\n",
       "    </tr>\n",
       "    <tr>\n",
       "      <th>2</th>\n",
       "      <td>0.062994</td>\n",
       "      <td>-1.531343</td>\n",
       "      <td>0.948200</td>\n",
       "    </tr>\n",
       "    <tr>\n",
       "      <th>3</th>\n",
       "      <td>-0.081892</td>\n",
       "      <td>-1.531343</td>\n",
       "      <td>-0.609557</td>\n",
       "    </tr>\n",
       "    <tr>\n",
       "      <th>4</th>\n",
       "      <td>-0.226779</td>\n",
       "      <td>-1.531343</td>\n",
       "      <td>-0.609557</td>\n",
       "    </tr>\n",
       "    <tr>\n",
       "      <th>5</th>\n",
       "      <td>-0.371665</td>\n",
       "      <td>-1.531343</td>\n",
       "      <td>-0.609557</td>\n",
       "    </tr>\n",
       "  </tbody>\n",
       "</table>\n",
       "</div>"
      ],
      "text/plain": [
       "   launch_temp  leakcheck_pressure  failure_rate\n",
       "1    -0.516551           -1.531343     -0.609557\n",
       "2     0.062994           -1.531343      0.948200\n",
       "3    -0.081892           -1.531343     -0.609557\n",
       "4    -0.226779           -1.531343     -0.609557\n",
       "5    -0.371665           -1.531343     -0.609557"
      ]
     },
     "execution_count": 68,
     "metadata": {},
     "output_type": "execute_result"
    }
   ],
   "source": [
    "processed_df = raw_df.copy()\n",
    "processed_df['failure_rate'] = processed_df['nbr_heat_distress'] / processed_df['nbr_orings']\n",
    "processed_df.drop(['nbr_orings', 'nbr_heat_distress'], axis=1, inplace=True)\n",
    "\n",
    "scaler, processed_df = preprocess_data(processed_df)\n",
    "\n",
    "target = raw_df['nbr_heat_distress'].copy()\n",
    "\n",
    "processed_df.head()"
   ]
  },
  {
   "cell_type": "markdown",
   "metadata": {},
   "source": [
    "# Explore models"
   ]
  },
  {
   "cell_type": "code",
   "execution_count": 73,
   "metadata": {},
   "outputs": [],
   "source": [
    "def display_scores(scores):\n",
    "    print(\"Scores:\", scores)\n",
    "    print(\"Mean\", scores.mean())\n",
    "    print(\"Standard deviation:\", scores.std())"
   ]
  },
  {
   "cell_type": "code",
   "execution_count": 77,
   "metadata": {},
   "outputs": [
    {
     "name": "stdout",
     "output_type": "stream",
     "text": [
      "Scores: [2.80866677e-16 2.17841488e-16 3.60608915e-16 4.28192166e-16\n",
      " 1.68830575e-16]\n",
      "Mean 2.912679643399105e-16\n",
      "Standard deviation: 9.385835373140523e-17\n"
     ]
    }
   ],
   "source": [
    "lin_reg = LinearRegression()\n",
    "lin_scores = cross_val_score(lin_reg, processed_df, target, scoring='neg_mean_squared_error', cv=5)\n",
    "lin_rsme_scores = np.sqrt(-lin_scores)\n",
    "display_scores(lin_rsme_scores)"
   ]
  },
  {
   "cell_type": "code",
   "execution_count": 78,
   "metadata": {},
   "outputs": [
    {
     "name": "stdout",
     "output_type": "stream",
     "text": [
      "Scores: [0.  0.  0.  0.  0.5]\n",
      "Mean 0.1\n",
      "Standard deviation: 0.2\n"
     ]
    }
   ],
   "source": [
    "tree_reg = DecisionTreeRegressor()\n",
    "tree_scores = cross_val_score(tree_reg, processed_df, target, scoring='neg_mean_squared_error', cv=5)\n",
    "tree_rsme_scores = np.sqrt(-tree_scores)\n",
    "display_scores(tree_rsme_scores)"
   ]
  },
  {
   "cell_type": "code",
   "execution_count": 79,
   "metadata": {},
   "outputs": [
    {
     "name": "stdout",
     "output_type": "stream",
     "text": [
      "Scores: [0.04472136 0.06324555 0.27202941 0.         0.45276926]\n",
      "Mean 0.16655311596698863\n",
      "Standard deviation: 0.17105572063420396\n"
     ]
    },
    {
     "name": "stderr",
     "output_type": "stream",
     "text": [
      "//anaconda3/lib/python3.7/site-packages/sklearn/ensemble/forest.py:245: FutureWarning: The default value of n_estimators will change from 10 in version 0.20 to 100 in 0.22.\n",
      "  \"10 in version 0.20 to 100 in 0.22.\", FutureWarning)\n",
      "//anaconda3/lib/python3.7/site-packages/sklearn/ensemble/forest.py:245: FutureWarning: The default value of n_estimators will change from 10 in version 0.20 to 100 in 0.22.\n",
      "  \"10 in version 0.20 to 100 in 0.22.\", FutureWarning)\n",
      "//anaconda3/lib/python3.7/site-packages/sklearn/ensemble/forest.py:245: FutureWarning: The default value of n_estimators will change from 10 in version 0.20 to 100 in 0.22.\n",
      "  \"10 in version 0.20 to 100 in 0.22.\", FutureWarning)\n",
      "//anaconda3/lib/python3.7/site-packages/sklearn/ensemble/forest.py:245: FutureWarning: The default value of n_estimators will change from 10 in version 0.20 to 100 in 0.22.\n",
      "  \"10 in version 0.20 to 100 in 0.22.\", FutureWarning)\n",
      "//anaconda3/lib/python3.7/site-packages/sklearn/ensemble/forest.py:245: FutureWarning: The default value of n_estimators will change from 10 in version 0.20 to 100 in 0.22.\n",
      "  \"10 in version 0.20 to 100 in 0.22.\", FutureWarning)\n"
     ]
    }
   ],
   "source": [
    "forest_reg = RandomForestRegressor()\n",
    "forest_scores = cross_val_score(forest_reg, processed_df, target, scoring='neg_mean_squared_error', cv=5)\n",
    "forest_rsme_scores = np.sqrt(-forest_scores)\n",
    "display_scores(forest_rsme_scores)"
   ]
  },
  {
   "cell_type": "code",
   "execution_count": null,
   "metadata": {},
   "outputs": [],
   "source": []
  },
  {
   "cell_type": "code",
   "execution_count": 95,
   "metadata": {},
   "outputs": [
    {
     "name": "stdout",
     "output_type": "stream",
     "text": [
      "Model: LR\n",
      "Scores: [-7.88860905e-32 -4.74549138e-32 -1.30038790e-31 -1.83348531e-31\n",
      " -2.85037632e-32]\n",
      "Mean -9.364641761588495e-32\n",
      "Standard deviation: 5.650833841926954e-32\n",
      "\n",
      "\n",
      "Model: Tree\n",
      "Scores: [-0. -0. -0. -0. -0.]\n",
      "Mean 0.0\n",
      "Standard deviation: 0.0\n",
      "\n",
      "\n",
      "Model: Forest\n",
      "Scores: [-0.008  -0.     -0.074  -0.     -0.1625]\n",
      "Mean -0.04890000000000001\n",
      "Standard deviation: 0.06323005614421043\n",
      "\n",
      "\n"
     ]
    },
    {
     "name": "stderr",
     "output_type": "stream",
     "text": [
      "//anaconda3/lib/python3.7/site-packages/sklearn/ensemble/forest.py:245: FutureWarning: The default value of n_estimators will change from 10 in version 0.20 to 100 in 0.22.\n",
      "  \"10 in version 0.20 to 100 in 0.22.\", FutureWarning)\n",
      "//anaconda3/lib/python3.7/site-packages/sklearn/ensemble/forest.py:245: FutureWarning: The default value of n_estimators will change from 10 in version 0.20 to 100 in 0.22.\n",
      "  \"10 in version 0.20 to 100 in 0.22.\", FutureWarning)\n",
      "//anaconda3/lib/python3.7/site-packages/sklearn/ensemble/forest.py:245: FutureWarning: The default value of n_estimators will change from 10 in version 0.20 to 100 in 0.22.\n",
      "  \"10 in version 0.20 to 100 in 0.22.\", FutureWarning)\n",
      "//anaconda3/lib/python3.7/site-packages/sklearn/ensemble/forest.py:245: FutureWarning: The default value of n_estimators will change from 10 in version 0.20 to 100 in 0.22.\n",
      "  \"10 in version 0.20 to 100 in 0.22.\", FutureWarning)\n",
      "//anaconda3/lib/python3.7/site-packages/sklearn/ensemble/forest.py:245: FutureWarning: The default value of n_estimators will change from 10 in version 0.20 to 100 in 0.22.\n",
      "  \"10 in version 0.20 to 100 in 0.22.\", FutureWarning)\n"
     ]
    }
   ],
   "source": [
    "models = [('LR', LinearRegression()), ('Tree', DecisionTreeRegressor()), ('Forest', RandomForestRegressor())]\n",
    "results = []\n",
    "names = []\n",
    "\n",
    "for name, model in models:\n",
    "    cv_results=cross_val_score(model, processed_df, target, cv=5, scoring='neg_mean_squared_error')\n",
    "    results.append(cv_results)\n",
    "    names.append(name)\n",
    "    print(\"Model:\", name)\n",
    "    display_scores(cv_results)\n",
    "    print('\\n')"
   ]
  },
  {
   "cell_type": "code",
   "execution_count": 89,
   "metadata": {},
   "outputs": [
    {
     "data": {
      "text/plain": [
       "['accuracy',\n",
       " 'adjusted_mutual_info_score',\n",
       " 'adjusted_rand_score',\n",
       " 'average_precision',\n",
       " 'balanced_accuracy',\n",
       " 'brier_score_loss',\n",
       " 'completeness_score',\n",
       " 'explained_variance',\n",
       " 'f1',\n",
       " 'f1_macro',\n",
       " 'f1_micro',\n",
       " 'f1_samples',\n",
       " 'f1_weighted',\n",
       " 'fowlkes_mallows_score',\n",
       " 'homogeneity_score',\n",
       " 'jaccard',\n",
       " 'jaccard_macro',\n",
       " 'jaccard_micro',\n",
       " 'jaccard_samples',\n",
       " 'jaccard_weighted',\n",
       " 'max_error',\n",
       " 'mutual_info_score',\n",
       " 'neg_log_loss',\n",
       " 'neg_mean_absolute_error',\n",
       " 'neg_mean_squared_error',\n",
       " 'neg_mean_squared_log_error',\n",
       " 'neg_median_absolute_error',\n",
       " 'normalized_mutual_info_score',\n",
       " 'precision',\n",
       " 'precision_macro',\n",
       " 'precision_micro',\n",
       " 'precision_samples',\n",
       " 'precision_weighted',\n",
       " 'r2',\n",
       " 'recall',\n",
       " 'recall_macro',\n",
       " 'recall_micro',\n",
       " 'recall_samples',\n",
       " 'recall_weighted',\n",
       " 'roc_auc',\n",
       " 'v_measure_score']"
      ]
     },
     "execution_count": 89,
     "metadata": {},
     "output_type": "execute_result"
    }
   ],
   "source": [
    "sorted(SCORERS.keys())"
   ]
  },
  {
   "cell_type": "code",
   "execution_count": null,
   "metadata": {},
   "outputs": [],
   "source": []
  },
  {
   "cell_type": "code",
   "execution_count": null,
   "metadata": {},
   "outputs": [],
   "source": []
  }
 ],
 "metadata": {
  "kernelspec": {
   "display_name": "Python 3",
   "language": "python",
   "name": "python3"
  },
  "language_info": {
   "codemirror_mode": {
    "name": "ipython",
    "version": 3
   },
   "file_extension": ".py",
   "mimetype": "text/x-python",
   "name": "python",
   "nbconvert_exporter": "python",
   "pygments_lexer": "ipython3",
   "version": "3.7.6"
  }
 },
 "nbformat": 4,
 "nbformat_minor": 4
}
