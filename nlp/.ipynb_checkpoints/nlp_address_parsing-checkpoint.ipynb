{
 "cells": [
  {
   "cell_type": "code",
   "execution_count": null,
   "id": "c5f92412-a1a4-4441-a029-93d5eef7b11d",
   "metadata": {},
   "outputs": [],
   "source": [
    "# !pip install fuzzywuzzy\n",
    "# !pip install python-Levenshtein\n",
    "# !pip install rapidfuzz\n",
    "# !pip install jaro-winkler"
   ]
  },
  {
   "cell_type": "code",
   "execution_count": 1,
   "id": "e6efc179-a08c-48ba-b388-f0158c06a1d1",
   "metadata": {},
   "outputs": [
    {
     "name": "stderr",
     "output_type": "stream",
     "text": [
      "[nltk_data] Downloading package stopwords to\n",
      "[nltk_data]     /Users/julie.fisher/nltk_data...\n",
      "[nltk_data]   Package stopwords is already up-to-date!\n"
     ]
    }
   ],
   "source": [
    "import numpy as np\n",
    "import pandas as pd\n",
    "import matplotlib.pyplot as plt\n",
    "from IPython.display import display\n",
    "from time import gmtime, strftime\n",
    "import sys\n",
    "import os\n",
    "import io\n",
    "\n",
    "import string\n",
    "import re\n",
    "import itertools\n",
    "import nltk\n",
    "nltk.download('stopwords')\n",
    "\n",
    "from fuzzywuzzy import fuzz\n",
    "from fuzzywuzzy import process\n",
    "from rapidfuzz import fuzz as rfuzz\n",
    "import jaro"
   ]
  },
  {
   "cell_type": "code",
   "execution_count": 2,
   "id": "905c4488-0c57-4d6d-aac5-7bc4a3f24878",
   "metadata": {},
   "outputs": [],
   "source": [
    "df = pd.read_csv('../../github/icij_investigation/aws/data/edited/addresses_Bahamas.csv')\n",
    "# df = pd.read_csv('../../icij_investigation/aws/data/edited/addresses_Bahamas.csv')"
   ]
  },
  {
   "cell_type": "code",
   "execution_count": 3,
   "id": "48461e94-8462-425f-9d3a-fa6ea52d6bd3",
   "metadata": {},
   "outputs": [
    {
     "data": {
      "text/html": [
       "<div>\n",
       "<style scoped>\n",
       "    .dataframe tbody tr th:only-of-type {\n",
       "        vertical-align: middle;\n",
       "    }\n",
       "\n",
       "    .dataframe tbody tr th {\n",
       "        vertical-align: top;\n",
       "    }\n",
       "\n",
       "    .dataframe thead th {\n",
       "        text-align: right;\n",
       "    }\n",
       "</style>\n",
       "<table border=\"1\" class=\"dataframe\">\n",
       "  <thead>\n",
       "    <tr style=\"text-align: right;\">\n",
       "      <th></th>\n",
       "      <th>node_id</th>\n",
       "      <th>address</th>\n",
       "      <th>name</th>\n",
       "      <th>countries</th>\n",
       "      <th>country_codes</th>\n",
       "      <th>sourceID</th>\n",
       "      <th>valid_until</th>\n",
       "      <th>note</th>\n",
       "    </tr>\n",
       "  </thead>\n",
       "  <tbody>\n",
       "    <tr>\n",
       "      <th>0</th>\n",
       "      <td>24000001</td>\n",
       "      <td>ANNEX FREDERICK &amp; SHIRLEY STS, P.O. BOX N-4805...</td>\n",
       "      <td>NaN</td>\n",
       "      <td>Bahamas</td>\n",
       "      <td>BHS</td>\n",
       "      <td>Bahamas Leaks</td>\n",
       "      <td>The Bahamas Leaks data is current through earl...</td>\n",
       "      <td>NaN</td>\n",
       "    </tr>\n",
       "    <tr>\n",
       "      <th>1</th>\n",
       "      <td>24000002</td>\n",
       "      <td>SUITE E-2,UNION COURT BUILDING, P.O. BOX N-818...</td>\n",
       "      <td>NaN</td>\n",
       "      <td>Bahamas</td>\n",
       "      <td>BHS</td>\n",
       "      <td>Bahamas Leaks</td>\n",
       "      <td>The Bahamas Leaks data is current through earl...</td>\n",
       "      <td>NaN</td>\n",
       "    </tr>\n",
       "    <tr>\n",
       "      <th>2</th>\n",
       "      <td>24000003</td>\n",
       "      <td>LYFORD CAY HOUSE, LYFORD CAY, P.O. BOX N-7785,...</td>\n",
       "      <td>NaN</td>\n",
       "      <td>Bahamas</td>\n",
       "      <td>BHS</td>\n",
       "      <td>Bahamas Leaks</td>\n",
       "      <td>The Bahamas Leaks data is current through earl...</td>\n",
       "      <td>NaN</td>\n",
       "    </tr>\n",
       "    <tr>\n",
       "      <th>3</th>\n",
       "      <td>24000004</td>\n",
       "      <td>P.O. BOX N-3708 BAHAMAS FINANCIAL CENTRE, P.O....</td>\n",
       "      <td>NaN</td>\n",
       "      <td>Bahamas</td>\n",
       "      <td>BHS</td>\n",
       "      <td>Bahamas Leaks</td>\n",
       "      <td>The Bahamas Leaks data is current through earl...</td>\n",
       "      <td>NaN</td>\n",
       "    </tr>\n",
       "    <tr>\n",
       "      <th>4</th>\n",
       "      <td>24000005</td>\n",
       "      <td>LYFORD CAY HOUSE, 3RD FLOOR, LYFORD CAY, P.O. ...</td>\n",
       "      <td>NaN</td>\n",
       "      <td>Bahamas</td>\n",
       "      <td>BHS</td>\n",
       "      <td>Bahamas Leaks</td>\n",
       "      <td>The Bahamas Leaks data is current through earl...</td>\n",
       "      <td>NaN</td>\n",
       "    </tr>\n",
       "  </tbody>\n",
       "</table>\n",
       "</div>"
      ],
      "text/plain": [
       "    node_id                                            address name countries  \\\n",
       "0  24000001  ANNEX FREDERICK & SHIRLEY STS, P.O. BOX N-4805...  NaN   Bahamas   \n",
       "1  24000002  SUITE E-2,UNION COURT BUILDING, P.O. BOX N-818...  NaN   Bahamas   \n",
       "2  24000003  LYFORD CAY HOUSE, LYFORD CAY, P.O. BOX N-7785,...  NaN   Bahamas   \n",
       "3  24000004  P.O. BOX N-3708 BAHAMAS FINANCIAL CENTRE, P.O....  NaN   Bahamas   \n",
       "4  24000005  LYFORD CAY HOUSE, 3RD FLOOR, LYFORD CAY, P.O. ...  NaN   Bahamas   \n",
       "\n",
       "  country_codes       sourceID  \\\n",
       "0           BHS  Bahamas Leaks   \n",
       "1           BHS  Bahamas Leaks   \n",
       "2           BHS  Bahamas Leaks   \n",
       "3           BHS  Bahamas Leaks   \n",
       "4           BHS  Bahamas Leaks   \n",
       "\n",
       "                                         valid_until note  \n",
       "0  The Bahamas Leaks data is current through earl...  NaN  \n",
       "1  The Bahamas Leaks data is current through earl...  NaN  \n",
       "2  The Bahamas Leaks data is current through earl...  NaN  \n",
       "3  The Bahamas Leaks data is current through earl...  NaN  \n",
       "4  The Bahamas Leaks data is current through earl...  NaN  "
      ]
     },
     "execution_count": 3,
     "metadata": {},
     "output_type": "execute_result"
    }
   ],
   "source": [
    "df.head()"
   ]
  },
  {
   "cell_type": "markdown",
   "id": "2146fe1b-9ba8-4384-a087-2a03cf2ad42b",
   "metadata": {},
   "source": [
    "## To do\n",
    "\n",
    "- [x] Standardize \"&\" to \"and\"\n",
    "- [x] Lowercase everything\n",
    "- [x] Remove puncutation\n",
    "- [x] Standardize street names/abbreviations\n",
    "- [x] Word counts\n",
    "- Fuzzy matching"
   ]
  },
  {
   "cell_type": "code",
   "execution_count": 4,
   "id": "dcdb62f0-bfbf-4465-9cf3-d3644f88d1b2",
   "metadata": {},
   "outputs": [],
   "source": [
    "pd.set_option('display.max_colwidth', 1000)"
   ]
  },
  {
   "cell_type": "markdown",
   "id": "e50acf1e-3432-4dd5-b24e-332f437a691e",
   "metadata": {},
   "source": [
    "## Create a new column for making changes\n",
    "\n",
    "It's important to keep a copy of the original values. This makes it much easier to revert changes that don't perform as expected and also to reference if data is lost or to put it back into context."
   ]
  },
  {
   "cell_type": "code",
   "execution_count": 5,
   "id": "d7cddbf4-87d1-407a-ad40-e7205ad88af2",
   "metadata": {},
   "outputs": [],
   "source": [
    "df['working_address'] = df['address']"
   ]
  },
  {
   "cell_type": "code",
   "execution_count": 6,
   "id": "ca88a16b-2708-4295-bd30-3b8a568da3f0",
   "metadata": {},
   "outputs": [
    {
     "data": {
      "text/plain": [
       "0                                                                                   ANNEX FREDERICK & SHIRLEY STS, P.O. BOX N-4805, NASSAU, BAHAMAS\n",
       "1                                                                                  SUITE E-2,UNION COURT BUILDING, P.O. BOX N-8188, NASSAU, BAHAMAS\n",
       "2                                                                                    LYFORD CAY HOUSE, LYFORD CAY, P.O. BOX N-7785, NASSAU, BAHAMAS\n",
       "3                                                P.O. BOX N-3708 BAHAMAS FINANCIAL CENTRE, P.O. BOX N-3708 SHIRLEY & CHARLOTTE STS, NASSAU, BAHAMAS\n",
       "4                                                                         LYFORD CAY HOUSE, 3RD FLOOR, LYFORD CAY, P.O. BOX N-3024, NASSAU, BAHAMAS\n",
       "                                                                           ...                                                                     \n",
       "2253                                                                        J.P.MORGAN TRUST COMPANY (BAHAMAS) LIMITED, NASSAU, N-4899, ZH, BAHAMAS\n",
       "2254                                                                    MONTAGNE STERLINE CENTRE. EAST BAV STREET, NASSAU, COUNTRY BAHAMAS, BAHAMAS\n",
       "2255                                                                                       DELTEC HOUSE, LYFORD CAY, PO BOX N-3229, NASSAU, BAHAMAS\n",
       "2256                                                    PROVIDENCE HOUSE, HAST WING, EAST HILL STREET, P.O. BOX CB-12399, NASSAU, CB-12399, BAHAMAS\n",
       "2257    C/OJ.P. MORGAN TRUST COMPANY (BAHAMAS) LIMITED, BAHAMAS FINANCIAL CENTER 2NTL FLOOR, SHIRLEY AND CHARLOTTE STREETS, NASSAU, N-4899, BAHAMAS\n",
       "Name: working_address, Length: 2258, dtype: object"
      ]
     },
     "execution_count": 6,
     "metadata": {},
     "output_type": "execute_result"
    }
   ],
   "source": [
    "df['working_address']"
   ]
  },
  {
   "cell_type": "markdown",
   "id": "992467dc-dbff-4b74-b203-fa90d360ac40",
   "metadata": {},
   "source": [
    "## Standardize values\n",
    "\n",
    "Most matching algorithms are based on exact matches. Small changes can make using these common matching functions useless. Such changes include abbreviations like \"st\" and \"blvd\" for \"street\" and \"boulevard\", capitalization differences such as \"Annex Frederick\" vs \"ANNEX FREDERICK\", and punctuation such as \"P.O. Box\" vs \"PO Box\". As a general rule, the use of multiple representations for the same thing makes it harder to match like values.\n",
    "\n",
    "Standardizing datasets makes finding patterns and trends much easier."
   ]
  },
  {
   "cell_type": "markdown",
   "id": "c9f3c727-bd82-4c70-a46d-c8e406645df5",
   "metadata": {},
   "source": [
    "### Replace \"&\"\n",
    "\n",
    "In the Bahamas addresses \"&\" and \"and\" are used interchangeably.\n",
    "\n",
    "I did a quick sanity check to ensure that \"&\" wasn't being used in another way. There are only 326 rows that use \"&\". A quick perusal shows that most, if not all, are used to connect street names."
   ]
  },
  {
   "cell_type": "code",
   "execution_count": 7,
   "id": "c59b28da-a28a-40dd-ac09-837a47169ecd",
   "metadata": {},
   "outputs": [
    {
     "data": {
      "text/plain": [
       "0                                                                                  ANNEX FREDERICK & SHIRLEY STS, P.O. BOX N-4805, NASSAU, BAHAMAS\n",
       "3                                               P.O. BOX N-3708 BAHAMAS FINANCIAL CENTRE, P.O. BOX N-3708 SHIRLEY & CHARLOTTE STS, NASSAU, BAHAMAS\n",
       "8                                                                       BAYSIDE EXECUTIVE PARK, WEST BAY & BLAKE, P.O. BOX N-4875, NASSAU, BAHAMAS\n",
       "10                                                      TK HOUSE, BAYSIDE EXECUTIVE PARK, P.O. BOX AP-59213 WEST BAY & BLAKE ROAD, NASSAU, BAHAMAS\n",
       "11                                                                         BAYSIDE HOUSE WEST BAY & BLAKE ROAD, P.O. BOX AP-59213, NASSAU, BAHAMAS\n",
       "                                                                           ...                                                                    \n",
       "2213                                                                    MARRON HOUSE, P.0. BOX N-4826, VIRGINIA & AUGUSTA STREETS, NASSAU, BAHAMAS\n",
       "2214                                                                            WINTERBOTHAM PLACE, MARLBOROUGH & QUEEN STREETS, P.O BOX CB 11.343\n",
       "2224                                                                                          BOLAM HOUSE, KINGS & GEORGES STREET, NASSAU, BAHAMAS\n",
       "2232    C/O J.P. MORGAN TRUST COMPANY (BAHAMAS) LIMITED, 2ND FLOOR, BAHAMAS FINANCIAL CENTRE, SHIRLEY & CHARLOTTE STREETS, NASSAU, N-4899, BAHAMAS\n",
       "2237       C/O JPMORGAN TRUST COMPANY (BAHAMAS) LIMITED, 2ND FLOOR, BAHAMAS FINANCIAL CENTRE, SHIRLEY & CHARLOTTE STREETS, NASSAU, N-4899, BAHAMAS\n",
       "Name: working_address, Length: 326, dtype: object"
      ]
     },
     "execution_count": 7,
     "metadata": {},
     "output_type": "execute_result"
    }
   ],
   "source": [
    "df.loc[df['working_address'].str.contains(\"&\"), 'working_address']"
   ]
  },
  {
   "cell_type": "markdown",
   "id": "05b58588-3406-407e-8ce2-81a611b9cb69",
   "metadata": {},
   "source": [
    "### Lowercase everything\n",
    "\n",
    "Different capitalization strategies quickly complicate an analysis as most value matching is based on exact matches."
   ]
  },
  {
   "cell_type": "code",
   "execution_count": 8,
   "id": "db10fb2e-e85a-41df-8221-aa2387dda008",
   "metadata": {},
   "outputs": [],
   "source": [
    "df['working_address'] = df['address'].str.replace('&', 'and').str.lower()"
   ]
  },
  {
   "cell_type": "code",
   "execution_count": 9,
   "id": "c926feee-849a-4dc5-9fe6-af7837283325",
   "metadata": {},
   "outputs": [
    {
     "data": {
      "text/plain": [
       "Series([], Name: working_address, dtype: object)"
      ]
     },
     "execution_count": 9,
     "metadata": {},
     "output_type": "execute_result"
    }
   ],
   "source": [
    "df.loc[df['working_address'].str.contains(\"&\"), 'working_address']"
   ]
  },
  {
   "cell_type": "code",
   "execution_count": 10,
   "id": "d1077f84-0656-451a-9b45-e58c6a98ac43",
   "metadata": {},
   "outputs": [
    {
     "data": {
      "text/plain": [
       "0                                                                                 annex frederick and shirley sts, p.o. box n-4805, nassau, bahamas\n",
       "1                                                                                  suite e-2,union court building, p.o. box n-8188, nassau, bahamas\n",
       "2                                                                                    lyford cay house, lyford cay, p.o. box n-7785, nassau, bahamas\n",
       "3                                              p.o. box n-3708 bahamas financial centre, p.o. box n-3708 shirley and charlotte sts, nassau, bahamas\n",
       "4                                                                         lyford cay house, 3rd floor, lyford cay, p.o. box n-3024, nassau, bahamas\n",
       "                                                                           ...                                                                     \n",
       "2253                                                                        j.p.morgan trust company (bahamas) limited, nassau, n-4899, zh, bahamas\n",
       "2254                                                                    montagne sterline centre. east bav street, nassau, country bahamas, bahamas\n",
       "2255                                                                                       deltec house, lyford cay, po box n-3229, nassau, bahamas\n",
       "2256                                                    providence house, hast wing, east hill street, p.o. box cb-12399, nassau, cb-12399, bahamas\n",
       "2257    c/oj.p. morgan trust company (bahamas) limited, bahamas financial center 2ntl floor, shirley and charlotte streets, nassau, n-4899, bahamas\n",
       "Name: working_address, Length: 2258, dtype: object"
      ]
     },
     "execution_count": 10,
     "metadata": {},
     "output_type": "execute_result"
    }
   ],
   "source": [
    "df['working_address']"
   ]
  },
  {
   "cell_type": "markdown",
   "id": "c6e6b0aa-fc5f-40cc-8217-d55ef1d9d1ff",
   "metadata": {},
   "source": [
    "### Remove punctuation\n",
    "\n",
    "Punctuation can be particularly helpful in splitting fomratted text blocks into smaller pieces. However, there is no standardized format for these addresses, thus the punctuation actually makes pulling out relevant information harder in this dataset. As such, I'm going to get rid of it."
   ]
  },
  {
   "cell_type": "code",
   "execution_count": 11,
   "id": "d9abca0e-b250-4ed5-af63-1c4e6218f426",
   "metadata": {},
   "outputs": [],
   "source": [
    "newline_list = '\\t\\r\\n'\n",
    "remove_newline = str.maketrans(' ', ' ', newline_list)\n",
    "punct_list = string.punctuation + '—¿–'\n",
    "nopunct = str.maketrans('', '', punct_list)"
   ]
  },
  {
   "cell_type": "code",
   "execution_count": 12,
   "id": "09a5f1f0-ae6e-4113-ba46-a3c200a435b7",
   "metadata": {},
   "outputs": [
    {
     "data": {
      "text/plain": [
       "0                                                                            annex frederick and shirley sts po box n4805 nassau bahamas\n",
       "1                                                                               suite e2union court building po box n8188 nassau bahamas\n",
       "2                                                                                lyford cay house lyford cay po box n7785 nassau bahamas\n",
       "3                                            po box n3708 bahamas financial centre po box n3708 shirley and charlotte sts nassau bahamas\n",
       "4                                                                      lyford cay house 3rd floor lyford cay po box n3024 nassau bahamas\n",
       "                                                                      ...                                                               \n",
       "2253                                                                      jpmorgan trust company bahamas limited nassau n4899 zh bahamas\n",
       "2254                                                             montagne sterline centre east bav street nassau country bahamas bahamas\n",
       "2255                                                                                 deltec house lyford cay po box n3229 nassau bahamas\n",
       "2256                                                   providence house hast wing east hill street po box cb12399 nassau cb12399 bahamas\n",
       "2257    cojp morgan trust company bahamas limited bahamas financial center 2ntl floor shirley and charlotte streets nassau n4899 bahamas\n",
       "Name: working_address, Length: 2258, dtype: object"
      ]
     },
     "execution_count": 12,
     "metadata": {},
     "output_type": "execute_result"
    }
   ],
   "source": [
    "df['working_address'] = df['working_address'].str.translate(remove_newline).str.translate(nopunct)\n",
    "df['working_address']"
   ]
  },
  {
   "cell_type": "markdown",
   "id": "f176aef9-d0fe-460b-8d04-d5af1644d420",
   "metadata": {},
   "source": [
    "### Standardize abbreviations\n",
    "\n",
    "I got the majority of the abbreviations the hard way, I went though the dataset by hand. I was attempting to pull out the city name for each address that had a street in it. The only way to do this for many addresses was to look at the street, resulting in a lot of `contains` searches.\n",
    "\n",
    "In the frequency count I also noticed that \"p\" and \"o\" occur rather frequently. A quick peek shows that in 84 rows \"po box\" is listed as \"p o box\". When doing replacements like these, it's important to do sanity checks as the results won't always be what you expect. One of my favorite examples was a search for \"demon\", I also got \"demonstrate\". Watch out for these kinds of things. Fortunately, in the \"po box\" example for the Bahamas addresses \"p o\" only occurs when for PO boxes.\n",
    "\n",
    "There are also occurences of \"pobox\", but in joining \"p\" and \"o\" from \"p o\" gives me one last \"pobox\" so I'll need to apply this after the main abbreviation changes."
   ]
  },
  {
   "cell_type": "code",
   "execution_count": 13,
   "id": "f0a13a94-e4fd-4f52-9700-da2b292ae542",
   "metadata": {},
   "outputs": [
    {
     "data": {
      "text/plain": [
       "650                                                                              bitco building third floor p o box n8188 nassau bahamas\n",
       "655                                                                  bolam house king and george streets p o box cb 11343 nassau bahamas\n",
       "788                                                   landl corporate and legal services east bay street p o box ss 19812 nassau bahamas\n",
       "801                                                                           malborough and queens street p o box n10429 nassau bahamas\n",
       "818     morgan trust co of bahamas ltd the bahamas financial center 2nd floor charlotte and shorley street p o box n4899  nassau bahamas\n",
       "                                                                      ...                                                               \n",
       "2140                                                     montague sterling centre 3rd floor east bay street p o box n3242 nassau bahamas\n",
       "2163                                                                      63 hollyock road p o box ap59223 slot 375 nassau 99001 bahamas\n",
       "2164                                                                              63 hollyock road p o box ap59223 slot 375 nassau 99001\n",
       "2168                                                              p o box ap59223 slot308 palatial estates lot  4 new providence ap59223\n",
       "2220                                                       p o box cr56766 ste 875 — nassau bahamas — new providence np cr56766  bahamas\n",
       "Name: working_address, Length: 84, dtype: object"
      ]
     },
     "execution_count": 13,
     "metadata": {},
     "output_type": "execute_result"
    }
   ],
   "source": [
    "df.loc[df['working_address'].str.contains('p o'), 'working_address']"
   ]
  },
  {
   "cell_type": "code",
   "execution_count": 14,
   "id": "5742fcf0-442b-4b3f-a855-6f4addd75205",
   "metadata": {
    "scrolled": true,
    "tags": []
   },
   "outputs": [
    {
     "data": {
      "text/plain": [
       "564                                                                              50 shirley streetpobox cb 13937 nassau bahamas\n",
       "702                                          citibank building thompson boulevard pobox n1576 nassau new providence the bahamas\n",
       "749                           fourth floor the bahamas financial centre shirley and charlotte streets pobox n3023 nassau bahmas\n",
       "826     mossack fonseca and co bahams limited saffrey square suite 205 bank lane pobox n8188 nassau commonwealth of the bahamas\n",
       "856                                                                                                  pobox n1491 nassau bahamas\n",
       "867                                                                 pobox n3944 providence house east hill street nassau bahams\n",
       "870                                                                                                 pobox n 4875 nassau bahamas\n",
       "1025                               suite e2 union court building elizabeth avenue and shirley street pobox n8188 nassau bahamas\n",
       "1109                                       the bahamas financial centre shirley an charlotte streets pobox n3023 nassau bahamas\n",
       "1186                                                winterbotham place marleborough and queen street pobox n7523 nassau bahamas\n",
       "1381                                                                  lyford manor west bay street pobox cb13012 nassau bahamas\n",
       "1397                                                                                               pobox cb13039 nassau bahamas\n",
       "1402                                                                  1st floor kings courtbay street pobox n3944 nassaubahamas\n",
       "1409                                                                                 pobox n7757 east bay street nassau bahamas\n",
       "1424                                                                                 east bay street pobox n7757 nassau bahamas\n",
       "1428                                                                          43 elizabeth avenue pobox cb13022 naussau bahamas\n",
       "1432                                                                                              pobox cb 13253 nassau bahamas\n",
       "1450                                                                  charlotte house charlotte street pobox n55 nassau bahamas\n",
       "1452                                         claughton house corner of shirley and charlotte streets pobox n7757 nassau bahamas\n",
       "1453                                                                                               pobox n 10061 nassau bahamas\n",
       "1476                                      the bahamas financial centre shirly and charlotte streets pobox n3023 nassau  bahamas\n",
       "1582                                                                    11 governors cay sandyport pobox n  7115 nassau bahamas\n",
       "1719                                                              2 greenway condominium lyford cay pobox n10267 nassau bahamas\n",
       "1722                                                                  charlotte house charlotte secret pobox n65 nassau bahamas\n",
       "1807                                                              bolam house king and george streets pobox n514 nassau bahamas\n",
       "2123                                                             saffrey square suite 205 bank lane pobox n 8188 nassau bahamas\n",
       "2143                                                         lennox paton corporate services limited pobox n4875 nassau bahamas\n",
       "2150                                                ocean centre montagu foreshore east bay street pobox ss19084 nassau bahamas\n",
       "2193                                                                 dominion house60montrose avenue pobox n9932 nassau bahamas\n",
       "Name: working_address, dtype: object"
      ]
     },
     "execution_count": 14,
     "metadata": {},
     "output_type": "execute_result"
    }
   ],
   "source": [
    "df.loc[df['working_address'].str.contains('pobox'), 'working_address']"
   ]
  },
  {
   "cell_type": "markdown",
   "id": "e99bbcd8-361a-44fb-b3d4-b2ccd94e5e87",
   "metadata": {},
   "source": [
    "#### The difficulties of \"street\"\n",
    "\n",
    "Speaking of tricking searches, \"st\" was particularly interesting. Simply replacing \"st\" with \"street\" will also alter the following words:\n",
    "\n",
    "- street: streetreet\n",
    "- sts: streets\n",
    "- west: westreet\n",
    "- east: eastreet\n",
    "- st: street\n",
    "\n",
    "I compromised to look for \" st \" esentially ensuring there was a space before and after \"st\"."
   ]
  },
  {
   "cell_type": "code",
   "execution_count": 15,
   "id": "4b38f25c-7094-4704-a909-7c264571100d",
   "metadata": {},
   "outputs": [
    {
     "name": "stderr",
     "output_type": "stream",
     "text": [
      "<ipython-input-15-0a12ecad03d6>:1: UserWarning: This pattern has match groups. To actually get the groups, use str.extract.\n",
      "  df.loc[df['working_address'].str.contains('(\\sst\\s)',regex=True), 'working_address']\n"
     ]
    },
    {
     "data": {
      "text/plain": [
       "7                                      providence house east wing east hill st po box cb12399 nassau bahamas\n",
       "12                                                     308 east bay st 4th floor po box n7768 nassau bahamas\n",
       "16                                    sassoon house shirley st and victoria ave po box ss5383 nassau bahamas\n",
       "21                                      3rd floor one montague place east bay st po box n3231 nassau bahamas\n",
       "34                                         31b annex building east bay st 2nd fl po box n3930 nassau bahamas\n",
       "                                                        ...                                                 \n",
       "2093                                     goodmans corporate center west bay st po box sp61567 nassau bahamas\n",
       "2096                                   providence house east wing east hill st po box cb12399 nassau bahamas\n",
       "2097                                  sassoon house shirley st and victoria ave po box ss5383 nassau bahamas\n",
       "2104                                                 caves village west bay st po box sp63801 nassau bahamas\n",
       "2127    trident corporate services bahamas limited providence house east hill st po box n3944 nassau bahamas\n",
       "Name: working_address, Length: 72, dtype: object"
      ]
     },
     "execution_count": 15,
     "metadata": {},
     "output_type": "execute_result"
    }
   ],
   "source": [
    "df.loc[df['working_address'].str.contains('(\\sst\\s)',regex=True), 'working_address']"
   ]
  },
  {
   "cell_type": "code",
   "execution_count": 16,
   "id": "f3269477-80d5-44dc-ac04-9fa58df5df8b",
   "metadata": {},
   "outputs": [],
   "source": [
    "abbrev_dict = {'\\sst\\s': 'street',\n",
    "              'str\\s': 'street',\n",
    "              'streets': 'street',\n",
    "              'sts': 'street',\n",
    "              'blvd': 'boulevard',\n",
    "              'sq\\s': 'square',\n",
    "              'dr\\s': 'drive',\n",
    "              'ave\\s': 'avenue',\n",
    "              '\\sln': 'lane',\n",
    "              'lanes': 'lane',\n",
    "              'hwy': 'highway',\n",
    "              '1st': 'first',\n",
    "              '2nd': 'second',\n",
    "              '2 nd': 'second',\n",
    "              '3rd': 'third',\n",
    "              '4th': 'fourth',\n",
    "              '5th': 'fifth',\n",
    "              '6th': 'sixth',\n",
    "              '7th': 'seventh',\n",
    "              '8th': 'eighth',\n",
    "              '9th': 'ninth',\n",
    "              'p o': 'po'}"
   ]
  },
  {
   "cell_type": "code",
   "execution_count": 17,
   "id": "57015447-d93a-4e90-bc58-a954d214e708",
   "metadata": {},
   "outputs": [],
   "source": [
    "df['working_address'] = df['working_address'].replace(abbrev_dict, regex=True)"
   ]
  },
  {
   "cell_type": "code",
   "execution_count": 18,
   "id": "1a04d713-9777-480e-9c7c-dfe3b6101b25",
   "metadata": {},
   "outputs": [],
   "source": [
    "df['working_address'] = df['working_address'].replace('pobox', 'po box')"
   ]
  },
  {
   "cell_type": "code",
   "execution_count": 30,
   "id": "61ea9aef-90f5-4b82-92f1-7e27bb2e14f5",
   "metadata": {},
   "outputs": [],
   "source": [
    "df.to_csv('data/parsed_bahamas_addresses.csv', index=False)"
   ]
  },
  {
   "cell_type": "markdown",
   "id": "bb901f75-222f-4120-810a-b865f89afea1",
   "metadata": {},
   "source": [
    "## Count words\n",
    "\n",
    "I frequently use word counts to determine any words I need to add to the stopword list (stopwords are words that occur frequently, such as 'the' or 'a' that don't add value to the analysis and should be removed).\n",
    "\n",
    "In this case, I'm hoping it will bubble up things like cities, states, islands, and other address features that occur frequently in the data. I'm filling blank lines in with an empty string to help full dataset processing (i.e. I really don't want to deal with NANs)."
   ]
  },
  {
   "cell_type": "code",
   "execution_count": 19,
   "id": "e98e066f-194a-4b6d-81d7-c6454bcf22bf",
   "metadata": {},
   "outputs": [],
   "source": [
    "df['address_wordlist'] = df['working_address'].fillna('').str.split()"
   ]
  },
  {
   "cell_type": "code",
   "execution_count": 20,
   "id": "fc4ea20f-a5d9-4afe-8e49-07fb17d7af32",
   "metadata": {},
   "outputs": [],
   "source": [
    "def frequency_ct(ngram_list):\n",
    "    freq_dict = {}\n",
    "    for ngram in ngram_list:\n",
    "        if ngram not in freq_dict:\n",
    "            freq_dict[ngram] = 0\n",
    "        freq_dict[ngram] +=1\n",
    "    return freq_dict"
   ]
  },
  {
   "cell_type": "code",
   "execution_count": 21,
   "id": "27078ce4-ab64-412a-a5e8-ea4e836a2223",
   "metadata": {
    "scrolled": true,
    "tags": []
   },
   "outputs": [],
   "source": [
    "freq_df = pd.DataFrame.from_dict(\n",
    "    frequency_ct(df['address_wordlist'].sum()\n",
    "                ), orient='index').reset_index().rename(\n",
    "    columns={'index':'word', 0:'count'}).sort_values('count', ascending=False)"
   ]
  },
  {
   "cell_type": "code",
   "execution_count": 22,
   "id": "cf1aa3d1-7269-4840-82ed-55bd0e9b6d43",
   "metadata": {},
   "outputs": [
    {
     "data": {
      "text/plain": [
       "(2091, 2)"
      ]
     },
     "execution_count": 22,
     "metadata": {},
     "output_type": "execute_result"
    }
   ],
   "source": [
    "freq_df.shape"
   ]
  },
  {
   "cell_type": "code",
   "execution_count": 23,
   "id": "db3f57a7-b91d-4362-8a5e-14e2fd5ee6c0",
   "metadata": {
    "scrolled": true,
    "tags": []
   },
   "outputs": [
    {
     "data": {
      "text/html": [
       "<div>\n",
       "<style scoped>\n",
       "    .dataframe tbody tr th:only-of-type {\n",
       "        vertical-align: middle;\n",
       "    }\n",
       "\n",
       "    .dataframe tbody tr th {\n",
       "        vertical-align: top;\n",
       "    }\n",
       "\n",
       "    .dataframe thead th {\n",
       "        text-align: right;\n",
       "    }\n",
       "</style>\n",
       "<table border=\"1\" class=\"dataframe\">\n",
       "  <thead>\n",
       "    <tr style=\"text-align: right;\">\n",
       "      <th></th>\n",
       "      <th>word</th>\n",
       "      <th>count</th>\n",
       "    </tr>\n",
       "  </thead>\n",
       "  <tbody>\n",
       "    <tr>\n",
       "      <th>9</th>\n",
       "      <td>bahamas</td>\n",
       "      <td>2311</td>\n",
       "    </tr>\n",
       "    <tr>\n",
       "      <th>8</th>\n",
       "      <td>nassau</td>\n",
       "      <td>2009</td>\n",
       "    </tr>\n",
       "    <tr>\n",
       "      <th>6</th>\n",
       "      <td>box</td>\n",
       "      <td>1451</td>\n",
       "    </tr>\n",
       "    <tr>\n",
       "      <th>5</th>\n",
       "      <td>po</td>\n",
       "      <td>1402</td>\n",
       "    </tr>\n",
       "    <tr>\n",
       "      <th>4</th>\n",
       "      <td>street</td>\n",
       "      <td>1045</td>\n",
       "    </tr>\n",
       "    <tr>\n",
       "      <th>2</th>\n",
       "      <td>and</td>\n",
       "      <td>612</td>\n",
       "    </tr>\n",
       "    <tr>\n",
       "      <th>3</th>\n",
       "      <td>shirley</td>\n",
       "      <td>477</td>\n",
       "    </tr>\n",
       "    <tr>\n",
       "      <th>10</th>\n",
       "      <td>suite</td>\n",
       "      <td>447</td>\n",
       "    </tr>\n",
       "    <tr>\n",
       "      <th>33</th>\n",
       "      <td>bay</td>\n",
       "      <td>397</td>\n",
       "    </tr>\n",
       "    <tr>\n",
       "      <th>13</th>\n",
       "      <td>building</td>\n",
       "      <td>326</td>\n",
       "    </tr>\n",
       "    <tr>\n",
       "      <th>17</th>\n",
       "      <td>house</td>\n",
       "      <td>317</td>\n",
       "    </tr>\n",
       "    <tr>\n",
       "      <th>21</th>\n",
       "      <td>centre</td>\n",
       "      <td>295</td>\n",
       "    </tr>\n",
       "    <tr>\n",
       "      <th>12</th>\n",
       "      <td>court</td>\n",
       "      <td>289</td>\n",
       "    </tr>\n",
       "    <tr>\n",
       "      <th>167</th>\n",
       "      <td>avenue</td>\n",
       "      <td>264</td>\n",
       "    </tr>\n",
       "    <tr>\n",
       "      <th>22</th>\n",
       "      <td>charlotte</td>\n",
       "      <td>247</td>\n",
       "    </tr>\n",
       "    <tr>\n",
       "      <th>1014</th>\n",
       "      <td>union</td>\n",
       "      <td>231</td>\n",
       "    </tr>\n",
       "    <tr>\n",
       "      <th>166</th>\n",
       "      <td>elizabeth</td>\n",
       "      <td>228</td>\n",
       "    </tr>\n",
       "    <tr>\n",
       "      <th>1013</th>\n",
       "      <td>e2</td>\n",
       "      <td>224</td>\n",
       "    </tr>\n",
       "    <tr>\n",
       "      <th>24</th>\n",
       "      <td>floor</td>\n",
       "      <td>218</td>\n",
       "    </tr>\n",
       "    <tr>\n",
       "      <th>113</th>\n",
       "      <td>bank</td>\n",
       "      <td>189</td>\n",
       "    </tr>\n",
       "    <tr>\n",
       "      <th>56</th>\n",
       "      <td>the</td>\n",
       "      <td>187</td>\n",
       "    </tr>\n",
       "    <tr>\n",
       "      <th>32</th>\n",
       "      <td>east</td>\n",
       "      <td>183</td>\n",
       "    </tr>\n",
       "    <tr>\n",
       "      <th>114</th>\n",
       "      <td>lane</td>\n",
       "      <td>176</td>\n",
       "    </tr>\n",
       "    <tr>\n",
       "      <th>20</th>\n",
       "      <td>financial</td>\n",
       "      <td>163</td>\n",
       "    </tr>\n",
       "    <tr>\n",
       "      <th>41</th>\n",
       "      <td>west</td>\n",
       "      <td>159</td>\n",
       "    </tr>\n",
       "    <tr>\n",
       "      <th>110</th>\n",
       "      <td>square</td>\n",
       "      <td>154</td>\n",
       "    </tr>\n",
       "    <tr>\n",
       "      <th>941</th>\n",
       "      <td>limited</td>\n",
       "      <td>145</td>\n",
       "    </tr>\n",
       "    <tr>\n",
       "      <th>14</th>\n",
       "      <td>n8188</td>\n",
       "      <td>142</td>\n",
       "    </tr>\n",
       "    <tr>\n",
       "      <th>109</th>\n",
       "      <td>saffrey</td>\n",
       "      <td>141</td>\n",
       "    </tr>\n",
       "    <tr>\n",
       "      <th>34</th>\n",
       "      <td>providence</td>\n",
       "      <td>129</td>\n",
       "    </tr>\n",
       "    <tr>\n",
       "      <th>385</th>\n",
       "      <td>new</td>\n",
       "      <td>116</td>\n",
       "    </tr>\n",
       "    <tr>\n",
       "      <th>477</th>\n",
       "      <td>205</td>\n",
       "      <td>110</td>\n",
       "    </tr>\n",
       "    <tr>\n",
       "      <th>194</th>\n",
       "      <td>freeport</td>\n",
       "      <td>107</td>\n",
       "    </tr>\n",
       "    <tr>\n",
       "      <th>15</th>\n",
       "      <td>lyford</td>\n",
       "      <td>89</td>\n",
       "    </tr>\n",
       "    <tr>\n",
       "      <th>52</th>\n",
       "      <td>road</td>\n",
       "      <td>86</td>\n",
       "    </tr>\n",
       "    <tr>\n",
       "      <th>48</th>\n",
       "      <td>n</td>\n",
       "      <td>85</td>\n",
       "    </tr>\n",
       "    <tr>\n",
       "      <th>196</th>\n",
       "      <td>bahama</td>\n",
       "      <td>84</td>\n",
       "    </tr>\n",
       "    <tr>\n",
       "      <th>16</th>\n",
       "      <td>cay</td>\n",
       "      <td>75</td>\n",
       "    </tr>\n",
       "    <tr>\n",
       "      <th>451</th>\n",
       "      <td>co</td>\n",
       "      <td>74</td>\n",
       "    </tr>\n",
       "    <tr>\n",
       "      <th>207</th>\n",
       "      <td>grand</td>\n",
       "      <td>74</td>\n",
       "    </tr>\n",
       "    <tr>\n",
       "      <th>237</th>\n",
       "      <td>of</td>\n",
       "      <td>73</td>\n",
       "    </tr>\n",
       "    <tr>\n",
       "      <th>162</th>\n",
       "      <td>second</td>\n",
       "      <td>69</td>\n",
       "    </tr>\n",
       "    <tr>\n",
       "      <th>183</th>\n",
       "      <td>trust</td>\n",
       "      <td>67</td>\n",
       "    </tr>\n",
       "    <tr>\n",
       "      <th>23</th>\n",
       "      <td>third</td>\n",
       "      <td>66</td>\n",
       "    </tr>\n",
       "    <tr>\n",
       "      <th>179</th>\n",
       "      <td>fourth</td>\n",
       "      <td>64</td>\n",
       "    </tr>\n",
       "    <tr>\n",
       "      <th>72</th>\n",
       "      <td>place</td>\n",
       "      <td>64</td>\n",
       "    </tr>\n",
       "    <tr>\n",
       "      <th>73</th>\n",
       "      <td>marlborough</td>\n",
       "      <td>61</td>\n",
       "    </tr>\n",
       "    <tr>\n",
       "      <th>457</th>\n",
       "      <td>ltd</td>\n",
       "      <td>60</td>\n",
       "    </tr>\n",
       "    <tr>\n",
       "      <th>46</th>\n",
       "      <td>corporate</td>\n",
       "      <td>57</td>\n",
       "    </tr>\n",
       "    <tr>\n",
       "      <th>140</th>\n",
       "      <td>drive</td>\n",
       "      <td>53</td>\n",
       "    </tr>\n",
       "    <tr>\n",
       "      <th>74</th>\n",
       "      <td>queen</td>\n",
       "      <td>50</td>\n",
       "    </tr>\n",
       "    <tr>\n",
       "      <th>81</th>\n",
       "      <td>cb</td>\n",
       "      <td>46</td>\n",
       "    </tr>\n",
       "    <tr>\n",
       "      <th>249</th>\n",
       "      <td>island</td>\n",
       "      <td>44</td>\n",
       "    </tr>\n",
       "    <tr>\n",
       "      <th>1003</th>\n",
       "      <td>company</td>\n",
       "      <td>44</td>\n",
       "    </tr>\n",
       "    <tr>\n",
       "      <th>71</th>\n",
       "      <td>winterbotham</td>\n",
       "      <td>44</td>\n",
       "    </tr>\n",
       "    <tr>\n",
       "      <th>86</th>\n",
       "      <td>n3023</td>\n",
       "      <td>38</td>\n",
       "    </tr>\n",
       "    <tr>\n",
       "      <th>191</th>\n",
       "      <td>hill</td>\n",
       "      <td>38</td>\n",
       "    </tr>\n",
       "    <tr>\n",
       "      <th>106</th>\n",
       "      <td>first</td>\n",
       "      <td>38</td>\n",
       "    </tr>\n",
       "    <tr>\n",
       "      <th>77</th>\n",
       "      <td>montague</td>\n",
       "      <td>38</td>\n",
       "    </tr>\n",
       "    <tr>\n",
       "      <th>45</th>\n",
       "      <td>goodmans</td>\n",
       "      <td>37</td>\n",
       "    </tr>\n",
       "  </tbody>\n",
       "</table>\n",
       "</div>"
      ],
      "text/plain": [
       "              word  count\n",
       "9          bahamas   2311\n",
       "8           nassau   2009\n",
       "6              box   1451\n",
       "5               po   1402\n",
       "4           street   1045\n",
       "2              and    612\n",
       "3          shirley    477\n",
       "10           suite    447\n",
       "33             bay    397\n",
       "13        building    326\n",
       "17           house    317\n",
       "21          centre    295\n",
       "12           court    289\n",
       "167         avenue    264\n",
       "22       charlotte    247\n",
       "1014         union    231\n",
       "166      elizabeth    228\n",
       "1013            e2    224\n",
       "24           floor    218\n",
       "113           bank    189\n",
       "56             the    187\n",
       "32            east    183\n",
       "114           lane    176\n",
       "20       financial    163\n",
       "41            west    159\n",
       "110         square    154\n",
       "941        limited    145\n",
       "14           n8188    142\n",
       "109        saffrey    141\n",
       "34      providence    129\n",
       "385            new    116\n",
       "477            205    110\n",
       "194       freeport    107\n",
       "15          lyford     89\n",
       "52            road     86\n",
       "48               n     85\n",
       "196         bahama     84\n",
       "16             cay     75\n",
       "451             co     74\n",
       "207          grand     74\n",
       "237             of     73\n",
       "162         second     69\n",
       "183          trust     67\n",
       "23           third     66\n",
       "179         fourth     64\n",
       "72           place     64\n",
       "73     marlborough     61\n",
       "457            ltd     60\n",
       "46       corporate     57\n",
       "140          drive     53\n",
       "74           queen     50\n",
       "81              cb     46\n",
       "249         island     44\n",
       "1003       company     44\n",
       "71    winterbotham     44\n",
       "86           n3023     38\n",
       "191           hill     38\n",
       "106          first     38\n",
       "77        montague     38\n",
       "45        goodmans     37"
      ]
     },
     "execution_count": 23,
     "metadata": {},
     "output_type": "execute_result"
    }
   ],
   "source": [
    "freq_df.head(60)"
   ]
  },
  {
   "cell_type": "code",
   "execution_count": 27,
   "id": "9e303997-68cf-4f14-bd1c-fbd0725346ee",
   "metadata": {},
   "outputs": [
    {
     "data": {
      "text/html": [
       "<div>\n",
       "<style scoped>\n",
       "    .dataframe tbody tr th:only-of-type {\n",
       "        vertical-align: middle;\n",
       "    }\n",
       "\n",
       "    .dataframe tbody tr th {\n",
       "        vertical-align: top;\n",
       "    }\n",
       "\n",
       "    .dataframe thead th {\n",
       "        text-align: right;\n",
       "    }\n",
       "</style>\n",
       "<table border=\"1\" class=\"dataframe\">\n",
       "  <thead>\n",
       "    <tr style=\"text-align: right;\">\n",
       "      <th></th>\n",
       "      <th>node_id</th>\n",
       "      <th>address</th>\n",
       "      <th>name</th>\n",
       "      <th>countries</th>\n",
       "      <th>country_codes</th>\n",
       "      <th>sourceID</th>\n",
       "      <th>valid_until</th>\n",
       "      <th>note</th>\n",
       "      <th>working_address</th>\n",
       "      <th>address_wordlist</th>\n",
       "    </tr>\n",
       "  </thead>\n",
       "  <tbody>\n",
       "    <tr>\n",
       "      <th>0</th>\n",
       "      <td>24000001</td>\n",
       "      <td>ANNEX FREDERICK &amp; SHIRLEY STS, P.O. BOX N-4805, NASSAU, BAHAMAS</td>\n",
       "      <td>NaN</td>\n",
       "      <td>Bahamas</td>\n",
       "      <td>BHS</td>\n",
       "      <td>Bahamas Leaks</td>\n",
       "      <td>The Bahamas Leaks data is current through early 2016.</td>\n",
       "      <td>NaN</td>\n",
       "      <td>annex frederick and shirley street po box n4805 nassau bahamas</td>\n",
       "      <td>[annex, frederick, and, shirley, street, po, box, n4805, nassau, bahamas]</td>\n",
       "    </tr>\n",
       "    <tr>\n",
       "      <th>1</th>\n",
       "      <td>24000002</td>\n",
       "      <td>SUITE E-2,UNION COURT BUILDING, P.O. BOX N-8188, NASSAU, BAHAMAS</td>\n",
       "      <td>NaN</td>\n",
       "      <td>Bahamas</td>\n",
       "      <td>BHS</td>\n",
       "      <td>Bahamas Leaks</td>\n",
       "      <td>The Bahamas Leaks data is current through early 2016.</td>\n",
       "      <td>NaN</td>\n",
       "      <td>suite e2union court building po box n8188 nassau bahamas</td>\n",
       "      <td>[suite, e2union, court, building, po, box, n8188, nassau, bahamas]</td>\n",
       "    </tr>\n",
       "    <tr>\n",
       "      <th>2</th>\n",
       "      <td>24000003</td>\n",
       "      <td>LYFORD CAY HOUSE, LYFORD CAY, P.O. BOX N-7785, NASSAU, BAHAMAS</td>\n",
       "      <td>NaN</td>\n",
       "      <td>Bahamas</td>\n",
       "      <td>BHS</td>\n",
       "      <td>Bahamas Leaks</td>\n",
       "      <td>The Bahamas Leaks data is current through early 2016.</td>\n",
       "      <td>NaN</td>\n",
       "      <td>lyford cay house lyford cay po box n7785 nassau bahamas</td>\n",
       "      <td>[lyford, cay, house, lyford, cay, po, box, n7785, nassau, bahamas]</td>\n",
       "    </tr>\n",
       "    <tr>\n",
       "      <th>3</th>\n",
       "      <td>24000004</td>\n",
       "      <td>P.O. BOX N-3708 BAHAMAS FINANCIAL CENTRE, P.O. BOX N-3708 SHIRLEY &amp; CHARLOTTE STS, NASSAU, BAHAMAS</td>\n",
       "      <td>NaN</td>\n",
       "      <td>Bahamas</td>\n",
       "      <td>BHS</td>\n",
       "      <td>Bahamas Leaks</td>\n",
       "      <td>The Bahamas Leaks data is current through early 2016.</td>\n",
       "      <td>NaN</td>\n",
       "      <td>po box n3708 bahamas financial centre po box n3708 shirley and charlotte street nassau bahamas</td>\n",
       "      <td>[po, box, n3708, bahamas, financial, centre, po, box, n3708, shirley, and, charlotte, street, nassau, bahamas]</td>\n",
       "    </tr>\n",
       "    <tr>\n",
       "      <th>4</th>\n",
       "      <td>24000005</td>\n",
       "      <td>LYFORD CAY HOUSE, 3RD FLOOR, LYFORD CAY, P.O. BOX N-3024, NASSAU, BAHAMAS</td>\n",
       "      <td>NaN</td>\n",
       "      <td>Bahamas</td>\n",
       "      <td>BHS</td>\n",
       "      <td>Bahamas Leaks</td>\n",
       "      <td>The Bahamas Leaks data is current through early 2016.</td>\n",
       "      <td>NaN</td>\n",
       "      <td>lyford cay house third floor lyford cay po box n3024 nassau bahamas</td>\n",
       "      <td>[lyford, cay, house, third, floor, lyford, cay, po, box, n3024, nassau, bahamas]</td>\n",
       "    </tr>\n",
       "  </tbody>\n",
       "</table>\n",
       "</div>"
      ],
      "text/plain": [
       "    node_id  \\\n",
       "0  24000001   \n",
       "1  24000002   \n",
       "2  24000003   \n",
       "3  24000004   \n",
       "4  24000005   \n",
       "\n",
       "                                                                                              address  \\\n",
       "0                                     ANNEX FREDERICK & SHIRLEY STS, P.O. BOX N-4805, NASSAU, BAHAMAS   \n",
       "1                                    SUITE E-2,UNION COURT BUILDING, P.O. BOX N-8188, NASSAU, BAHAMAS   \n",
       "2                                      LYFORD CAY HOUSE, LYFORD CAY, P.O. BOX N-7785, NASSAU, BAHAMAS   \n",
       "3  P.O. BOX N-3708 BAHAMAS FINANCIAL CENTRE, P.O. BOX N-3708 SHIRLEY & CHARLOTTE STS, NASSAU, BAHAMAS   \n",
       "4                           LYFORD CAY HOUSE, 3RD FLOOR, LYFORD CAY, P.O. BOX N-3024, NASSAU, BAHAMAS   \n",
       "\n",
       "  name countries country_codes       sourceID  \\\n",
       "0  NaN   Bahamas           BHS  Bahamas Leaks   \n",
       "1  NaN   Bahamas           BHS  Bahamas Leaks   \n",
       "2  NaN   Bahamas           BHS  Bahamas Leaks   \n",
       "3  NaN   Bahamas           BHS  Bahamas Leaks   \n",
       "4  NaN   Bahamas           BHS  Bahamas Leaks   \n",
       "\n",
       "                                             valid_until note  \\\n",
       "0  The Bahamas Leaks data is current through early 2016.  NaN   \n",
       "1  The Bahamas Leaks data is current through early 2016.  NaN   \n",
       "2  The Bahamas Leaks data is current through early 2016.  NaN   \n",
       "3  The Bahamas Leaks data is current through early 2016.  NaN   \n",
       "4  The Bahamas Leaks data is current through early 2016.  NaN   \n",
       "\n",
       "                                                                                  working_address  \\\n",
       "0                                  annex frederick and shirley street po box n4805 nassau bahamas   \n",
       "1                                        suite e2union court building po box n8188 nassau bahamas   \n",
       "2                                         lyford cay house lyford cay po box n7785 nassau bahamas   \n",
       "3  po box n3708 bahamas financial centre po box n3708 shirley and charlotte street nassau bahamas   \n",
       "4                             lyford cay house third floor lyford cay po box n3024 nassau bahamas   \n",
       "\n",
       "                                                                                                 address_wordlist  \n",
       "0                                       [annex, frederick, and, shirley, street, po, box, n4805, nassau, bahamas]  \n",
       "1                                              [suite, e2union, court, building, po, box, n8188, nassau, bahamas]  \n",
       "2                                              [lyford, cay, house, lyford, cay, po, box, n7785, nassau, bahamas]  \n",
       "3  [po, box, n3708, bahamas, financial, centre, po, box, n3708, shirley, and, charlotte, street, nassau, bahamas]  \n",
       "4                                [lyford, cay, house, third, floor, lyford, cay, po, box, n3024, nassau, bahamas]  "
      ]
     },
     "execution_count": 27,
     "metadata": {},
     "output_type": "execute_result"
    }
   ],
   "source": [
    "df.head()"
   ]
  },
  {
   "cell_type": "markdown",
   "id": "7652d46c-4b96-4230-9a1f-655a1d62279d",
   "metadata": {},
   "source": [
    "## Fuzzy matching"
   ]
  },
  {
   "cell_type": "code",
   "execution_count": 27,
   "id": "90fec7a9-94ea-4a03-ac7d-216564d415f5",
   "metadata": {},
   "outputs": [
    {
     "name": "stdout",
     "output_type": "stream",
     "text": [
      "Sample 1: annex frederick and shirley street po box n4805 nassau bahamas\n",
      "Sample 2: suite e2union court building po box n8188 nassau bahamas\n"
     ]
    }
   ],
   "source": [
    "print('Sample 1:', df['working_address'][0])\n",
    "print('Sample 2:', df['working_address'][1])"
   ]
  },
  {
   "cell_type": "markdown",
   "id": "4d7b0c3f-5463-433f-bc50-6e3fe3bc866f",
   "metadata": {},
   "source": [
    "### fuzzywuzzy implimentation"
   ]
  },
  {
   "cell_type": "code",
   "execution_count": 30,
   "id": "54e4a941-4b06-4e5a-987f-a60d326ddb37",
   "metadata": {},
   "outputs": [
    {
     "name": "stdout",
     "output_type": "stream",
     "text": [
      "Ratio: 54\n",
      "Partial ratio: 66\n",
      "Token sort ratio: 54\n",
      "Token set ratio: 56\n"
     ]
    }
   ],
   "source": [
    "print('Ratio:', fuzz.ratio(df['working_address'][0], df['working_address'][1]))\n",
    "print('Partial ratio:', fuzz.partial_ratio(df['working_address'][0], df['working_address'][1]))\n",
    "print('Token sort ratio:', fuzz.token_sort_ratio(df['working_address'][0], df['working_address'][1]))\n",
    "print('Token set ratio:', fuzz.token_set_ratio(df['working_address'][0], df['working_address'][1]))"
   ]
  },
  {
   "cell_type": "code",
   "execution_count": 47,
   "id": "f1afdeb6-a4da-49a1-9f22-22e4afcaa491",
   "metadata": {},
   "outputs": [
    {
     "name": "stdout",
     "output_type": "stream",
     "text": [
      "Ratio: 53\n",
      "Partial ratio: 66\n",
      "Token sort ratio: 54\n",
      "Token set ratio: 55\n"
     ]
    }
   ],
   "source": [
    "print('Ratio:', fuzz.ratio(df['working_address'][1], df['working_address'][0]))\n",
    "print('Partial ratio:', fuzz.partial_ratio(df['working_address'][1], df['working_address'][0]))\n",
    "print('Token sort ratio:', fuzz.token_sort_ratio(df['working_address'][1], df['working_address'][0]))\n",
    "print('Token set ratio:', fuzz.token_set_ratio(df['working_address'][1], df['working_address'][0]))"
   ]
  },
  {
   "cell_type": "markdown",
   "id": "b48338ef-4ecd-4b7a-8e62-2e8e5a21f561",
   "metadata": {},
   "source": [
    "### rapidfuzz implimentation"
   ]
  },
  {
   "cell_type": "code",
   "execution_count": 52,
   "id": "33ad1f7e-4a77-4f19-94e1-6612ac85f5db",
   "metadata": {},
   "outputs": [
    {
     "name": "stdout",
     "output_type": "stream",
     "text": [
      "Ratio: 55.93220338983051\n",
      "Partial ratio: 66.66666666666667\n",
      "Token sort ratio: 55.93220338983051\n",
      "Token set ratio: 61.016949152542374\n"
     ]
    }
   ],
   "source": [
    "print('Ratio:', rfuzz.ratio(df['working_address'][0], df['working_address'][1]))\n",
    "print('Partial ratio:', rfuzz.partial_ratio(df['working_address'][0], df['working_address'][1]))\n",
    "print('Token sort ratio:', rfuzz.token_sort_ratio(df['working_address'][0], df['working_address'][1]))\n",
    "print('Token set ratio:', rfuzz.token_set_ratio(df['working_address'][0], df['working_address'][1]))"
   ]
  },
  {
   "cell_type": "code",
   "execution_count": 53,
   "id": "c11a3a51-3a9e-45fd-ba1c-2a50ddef1a92",
   "metadata": {},
   "outputs": [
    {
     "name": "stdout",
     "output_type": "stream",
     "text": [
      "Ratio: 55.93220338983051\n",
      "Partial ratio: 66.66666666666667\n",
      "Token sort ratio: 55.93220338983051\n",
      "Token set ratio: 61.016949152542374\n"
     ]
    }
   ],
   "source": [
    "print('Ratio:', rfuzz.ratio(df['working_address'][1], df['working_address'][0]))\n",
    "print('Partial ratio:', rfuzz.partial_ratio(df['working_address'][1], df['working_address'][0]))\n",
    "print('Token sort ratio:', rfuzz.token_sort_ratio(df['working_address'][1], df['working_address'][0]))\n",
    "print('Token set ratio:', rfuzz.token_set_ratio(df['working_address'][1], df['working_address'][0]))"
   ]
  },
  {
   "cell_type": "markdown",
   "id": "0419817d-1df6-4eb9-872d-8ffaea0b7d48",
   "metadata": {},
   "source": [
    "### Jaro Winkler"
   ]
  },
  {
   "cell_type": "code",
   "execution_count": 54,
   "id": "20e50dbd-ef3d-485c-8ca6-ac3efec78259",
   "metadata": {},
   "outputs": [
    {
     "name": "stdout",
     "output_type": "stream",
     "text": [
      "Jaro winkler 1: 0.6821556579621095\n",
      "Jaro winkler 2: 0.6821556579621095\n"
     ]
    }
   ],
   "source": [
    "print('Jaro winkler 1:', jaro.jaro_winkler_metric(df['working_address'][0], df['working_address'][1]))\n",
    "print('Jaro winkler 2:', jaro.jaro_winkler_metric(df['working_address'][1], df['working_address'][0]))"
   ]
  },
  {
   "cell_type": "code",
   "execution_count": 34,
   "id": "7c3f81eb-93c8-45f1-a26f-2552623aa032",
   "metadata": {
    "scrolled": true,
    "tags": []
   },
   "outputs": [
    {
     "data": {
      "text/plain": [
       "9                                               ground floor goodmans bay corporate ce po box n 3933 nassau bahamas\n",
       "63                                               goodmans bay corporate centre west bay po box n3015 nassau bahamas\n",
       "100                                     goodmans bay corporate centre po box cb10976 west bay street nassau bahamas\n",
       "116                                           goodmans bay corporate centre suite 261 po box cb12762 nassau bahamas\n",
       "248                              goodmans bay corporate centre po box ss5498 suite 261 west baystreetnassau bahamas\n",
       "268                                                     goodmans bay corporate centre po box cb12407 nassau bahamas\n",
       "548                             second  floor goodmans bay corporate centre suite 261 po box cb12762 nassau bahamas\n",
       "756                                      goodman0s bay corporate centre west bay street po box n4938 nassau bahamas\n",
       "758                                       goodmans bay corporate center po box n3225 west bay street nassau bahamas\n",
       "759                             goodman s bay corporate center  west bay street and sea view drive  nassau  bahamas\n",
       "760                                                     goodman s  bay corporate center west bay street nassau  bah\n",
       "761             goodmans bay corporate centre third floor west bay street and sea view drive cb10976 nassau bahamas\n",
       "762                                        goodmans bay corporate centre third floor west bay street nassau bahamas\n",
       "763                                  goodmans bay corporate centre west bay street andsea view drive nassau bahamas\n",
       "764                                  goodmans bay corporate centre west bay street and se view drive nassau bahamas\n",
       "765                                                  goodmans bay corporate centre west bay street  nassau  bahamas\n",
       "766                                                goodmans bay corporate centre west bay street nassau the bahamas\n",
       "767                                         goodmans bay corporate centre west bay street po box3225 nassau bahamas\n",
       "768                                       goodmans bay corporate centre west bay street po box n3225 nassau bahamas\n",
       "769                                    goodmans bay corporate centre west bay street  po box n4938  nassau  bahamas\n",
       "770                                     goodmans bay corporate centre west bay street  po box n4938 nassau  bahamas\n",
       "771                                           goodmans bay corporate centre west bay street po n3225 nassau bahamas\n",
       "1197                                                                     second floor goodmans bay corporate centre\n",
       "1414                                      goodmans bay corporate centre west bay street po box n3933 nassau bahamas\n",
       "1511                                      goodmans bay corporate centre west bay street po box n3933 nassau bahamas\n",
       "1524                                      goodmans bay corporate center west bay street po box n4938 nassau bahamas\n",
       "1610                                      goodmans bay corporate centre west bay street po box n3933 nassau bahamas\n",
       "1667                                         goodmans bay corporate centre first floor west baystreetnassau bahamas\n",
       "1707                                            first floor goodmans bay corporate centre bay street nassau bahamas\n",
       "1789                                       co third fl goodmans bay corporate centre west bay street nassau bahamas\n",
       "1800          co cotswold group goodmans bay corporate centre second floor po box cb 12762 suite 261 nassau bahamas\n",
       "1975                                            ground floor goodmans bay corporate ce po box n 3933 nassau bahamas\n",
       "2052                             goodmans bay corporate centre po box ss5498 suite 261 west baystreetnassau bahamas\n",
       "2066                                    goodmans bay corporate centre po box cb10976 west bay street nassau bahamas\n",
       "2068                                                    goodmans bay corporate centre po box cb10976 nassau bahamas\n",
       "2120                                             goodmans bay corporate centre west bay po box n3015 nassau bahamas\n",
       "2133    cibc trust company bahamas limited first floor goodmans bay corporate centre west bay street nassau bahamas\n",
       "Name: working_address, dtype: object"
      ]
     },
     "execution_count": 34,
     "metadata": {},
     "output_type": "execute_result"
    }
   ],
   "source": [
    "goodmans_series = df.loc[df['working_address'].str.contains('bay corporate'), 'working_address']\n",
    "goodmans_series"
   ]
  },
  {
   "cell_type": "code",
   "execution_count": 38,
   "id": "79fc6ec9-90ae-40f1-ad5e-746fa56e1dc1",
   "metadata": {},
   "outputs": [
    {
     "data": {
      "text/plain": [
       "'ground floor goodmans bay corporate ce po box n 3933 nassau bahamas'"
      ]
     },
     "execution_count": 38,
     "metadata": {},
     "output_type": "execute_result"
    }
   ],
   "source": [
    "goodmans_series.iloc[0]"
   ]
  },
  {
   "cell_type": "markdown",
   "id": "814c17d4-b742-4c05-b6f6-ac7051594ef1",
   "metadata": {},
   "source": [
    "### process.extract"
   ]
  },
  {
   "cell_type": "code",
   "execution_count": 43,
   "id": "2e99c244-b266-4ffa-bc28-7c7d5e7109ed",
   "metadata": {
    "scrolled": true,
    "tags": []
   },
   "outputs": [
    {
     "data": {
      "text/plain": [
       "[('ground floor goodmans bay corporate ce po box n 3933 nassau bahamas',\n",
       "  100,\n",
       "  9),\n",
       " ('ground floor goodmans bay corporate ce po box n 3933 nassau bahamas',\n",
       "  100,\n",
       "  1975),\n",
       " ('second floor goodmans bay corporate centre', 86, 1197),\n",
       " ('co cotswold group goodmans bay corporate centre second floor po box cb 12762 suite 261 nassau bahamas',\n",
       "  86,\n",
       "  1800),\n",
       " ('cibc trust company bahamas limited first floor goodmans bay corporate centre west bay street nassau bahamas',\n",
       "  86,\n",
       "  2133),\n",
       " ('goodmans bay corporate centre po box cb12407 nassau bahamas', 81, 268),\n",
       " ('second  floor goodmans bay corporate centre suite 261 po box cb12762 nassau bahamas',\n",
       "  81,\n",
       "  548),\n",
       " ('goodmans bay corporate centre po box cb10976 nassau bahamas', 81, 2068),\n",
       " ('goodmans bay corporate centre west bay po box n3015 nassau bahamas',\n",
       "  79,\n",
       "  63),\n",
       " ('goodmans bay corporate centre west bay po box n3015 nassau bahamas',\n",
       "  79,\n",
       "  2120)]"
      ]
     },
     "execution_count": 43,
     "metadata": {},
     "output_type": "execute_result"
    }
   ],
   "source": [
    "process.extract(goodmans_series.iloc[0], goodmans_series, limit=10)"
   ]
  },
  {
   "cell_type": "code",
   "execution_count": 46,
   "id": "2ccc3c55-e29e-46b6-bd31-2fdcba326d46",
   "metadata": {
    "scrolled": true,
    "tags": []
   },
   "outputs": [
    {
     "name": "stdout",
     "output_type": "stream",
     "text": [
      "<function ratio at 0x00000242A60C2940>\n"
     ]
    },
    {
     "data": {
      "text/plain": [
       "[('ground floor goodmans bay corporate ce po box n 3933 nassau bahamas',\n",
       "  100,\n",
       "  9),\n",
       " ('ground floor goodmans bay corporate ce po box n 3933 nassau bahamas',\n",
       "  100,\n",
       "  1975),\n",
       " ('goodmans bay corporate centre po box cb10976 nassau bahamas', 78, 2068),\n",
       " ('second  floor goodmans bay corporate centre suite 261 po box cb12762 nassau bahamas',\n",
       "  77,\n",
       "  548),\n",
       " ('goodmans bay corporate centre po box cb12407 nassau bahamas', 76, 268)]"
      ]
     },
     "metadata": {},
     "output_type": "display_data"
    },
    {
     "name": "stdout",
     "output_type": "stream",
     "text": [
      "\n",
      "\n",
      "<function partial_ratio at 0x00000242A60C2B80>\n"
     ]
    },
    {
     "data": {
      "text/plain": [
       "[('ground floor goodmans bay corporate ce po box n 3933 nassau bahamas',\n",
       "  100,\n",
       "  9),\n",
       " ('ground floor goodmans bay corporate ce po box n 3933 nassau bahamas',\n",
       "  100,\n",
       "  1975),\n",
       " ('goodmans bay corporate centre po box cb10976 nassau bahamas', 87, 2068),\n",
       " ('goodmans bay corporate centre po box cb12407 nassau bahamas', 85, 268),\n",
       " ('goodmans bay corporate centre west bay po box n3015 nassau bahamas',\n",
       "  83,\n",
       "  63)]"
      ]
     },
     "metadata": {},
     "output_type": "display_data"
    },
    {
     "name": "stdout",
     "output_type": "stream",
     "text": [
      "\n",
      "\n",
      "<function token_sort_ratio at 0x00000242A60C2DC0>\n"
     ]
    },
    {
     "data": {
      "text/plain": [
       "[('ground floor goodmans bay corporate ce po box n 3933 nassau bahamas',\n",
       "  100,\n",
       "  9),\n",
       " ('ground floor goodmans bay corporate ce po box n 3933 nassau bahamas',\n",
       "  100,\n",
       "  1975),\n",
       " ('goodmans bay corporate centre po box cb12407 nassau bahamas', 75, 268),\n",
       " ('goodmans bay corporate centre po box cb10976 nassau bahamas', 75, 2068),\n",
       " ('goodmans bay corporate centre west bay po box n3015 nassau bahamas',\n",
       "  74,\n",
       "  63)]"
      ]
     },
     "metadata": {},
     "output_type": "display_data"
    },
    {
     "name": "stdout",
     "output_type": "stream",
     "text": [
      "\n",
      "\n",
      "<function token_set_ratio at 0x00000242A60D1040>\n"
     ]
    },
    {
     "data": {
      "text/plain": [
       "[('ground floor goodmans bay corporate ce po box n 3933 nassau bahamas',\n",
       "  100,\n",
       "  9),\n",
       " ('ground floor goodmans bay corporate ce po box n 3933 nassau bahamas',\n",
       "  100,\n",
       "  1975),\n",
       " ('goodmans bay corporate centre po box cb12407 nassau bahamas', 85, 268),\n",
       " ('second  floor goodmans bay corporate centre suite 261 po box cb12762 nassau bahamas',\n",
       "  85,\n",
       "  548),\n",
       " ('co cotswold group goodmans bay corporate centre second floor po box cb 12762 suite 261 nassau bahamas',\n",
       "  85,\n",
       "  1800)]"
      ]
     },
     "metadata": {},
     "output_type": "display_data"
    },
    {
     "name": "stdout",
     "output_type": "stream",
     "text": [
      "\n",
      "\n"
     ]
    }
   ],
   "source": [
    "for scorer in [fuzz.ratio, fuzz.partial_ratio, fuzz.token_sort_ratio, fuzz.token_set_ratio]:\n",
    "    print(str(scorer))\n",
    "    display(process.extract(goodmans_series.iloc[0], goodmans_series, scorer=scorer))\n",
    "    print('\\n')"
   ]
  },
  {
   "cell_type": "markdown",
   "id": "b9f42fe7-f757-4324-9f37-e05ba6017ecc",
   "metadata": {},
   "source": [
    "### Solutioning\n",
    "\n",
    "I'm trying to use fuzzy matching to identify and resolve duplicates."
   ]
  },
  {
   "cell_type": "code",
   "execution_count": null,
   "id": "42a354e6-658e-4346-a15d-b0bd17a20412",
   "metadata": {},
   "outputs": [],
   "source": []
  },
  {
   "cell_type": "code",
   "execution_count": null,
   "id": "0a7c1a36-a4d8-4222-afa8-349a2c46e994",
   "metadata": {},
   "outputs": [],
   "source": []
  },
  {
   "cell_type": "code",
   "execution_count": null,
   "id": "9a3f5593-0b7b-4db9-b182-0e64dc31dcb3",
   "metadata": {},
   "outputs": [],
   "source": []
  },
  {
   "cell_type": "code",
   "execution_count": null,
   "id": "1eb43617-8843-4e61-b3e1-fb1682054a3e",
   "metadata": {},
   "outputs": [],
   "source": [
    "def get_set_ratio(row, str_to_match):\n",
    "    name = row['address']\n",
    "    return fuzz.token_set_ratio(name, str_to_match)\n",
    "\n",
    "def get_sort_ratio(row, str_to_match):\n",
    "    name = row['address']\n",
    "    return fuzz.token_sort_ratio(name, str_to_match)"
   ]
  },
  {
   "cell_type": "code",
   "execution_count": null,
   "id": "2a47df16-9817-4e89-a03e-362cbe7ef8bd",
   "metadata": {},
   "outputs": [],
   "source": [
    "u_addresses = df['working_address'].unique()\n",
    "for u_address in u_addresses:\n",
    "    df['score'] = df.apply(get_sort_ratio, args=(u_address,), axis=1)\n",
    "    match_df = sm_df[sm_df['score']>80].sort_values('score', ascending=False)\n",
    "    if match_df.shape[0]>1:\n",
    "        print(u_address)\n",
    "        display(match_df)\n",
    "        print('\\n')"
   ]
  },
  {
   "cell_type": "markdown",
   "id": "7d89ecb3-b477-4a29-8cf2-cedfb5e1b439",
   "metadata": {},
   "source": [
    "# Fuzzy Resources\n",
    "\n",
    "- [Fuzzing matching in pandas with fuzzywuzzy](https://jonathansoma.com/lede/algorithms-2017/classes/fuzziness-matplotlib/fuzzing-matching-in-pandas-with-fuzzywuzzy/)\n",
    "- [Best Libraries for Fuzzy Matching In Python](https://medium.com/codex/best-libraries-for-fuzzy-matching-in-python-cbb3e0ef87dd)\n",
    "- [Fuzzy String Matching](https://towardsdatascience.com/fuzzy-string-matching-in-python-68f240d910fe)\n",
    "- [Fuzzy String Comparison](https://stackoverflow.com/a/28467760)\n",
    "- [df['working_address'][1], df['working_address'][0])](https://www.geeksforgeeks.org/how-to-do-fuzzy-matching-on-pandas-dataframe-column-using-python/)\n",
    "- []()"
   ]
  }
 ],
 "metadata": {
  "kernelspec": {
   "display_name": "Python 3",
   "language": "python",
   "name": "python3"
  },
  "language_info": {
   "codemirror_mode": {
    "name": "ipython",
    "version": 3
   },
   "file_extension": ".py",
   "mimetype": "text/x-python",
   "name": "python",
   "nbconvert_exporter": "python",
   "pygments_lexer": "ipython3",
   "version": "3.8.8"
  }
 },
 "nbformat": 4,
 "nbformat_minor": 5
}
