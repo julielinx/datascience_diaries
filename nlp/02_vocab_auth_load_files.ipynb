{
 "cells": [
  {
   "cell_type": "markdown",
   "id": "e662ce9b-467e-4699-af5e-eebe67f4a8ae",
   "metadata": {},
   "source": [
    "# Entry NLP2: Load All Files in a Directory"
   ]
  },
  {
   "cell_type": "markdown",
   "id": "c49ffadf-08b2-44d8-841d-16eebcc6c084",
   "metadata": {},
   "source": [
    "In the previous entry, I figured out how to process individual files, removing many of the items on the \"Remove lines/characters\" list specified in the homework. However, there's no way I want to individually list out each of the files. I need a way to get my code to consider all files within a directory."
   ]
  },
  {
   "cell_type": "code",
   "execution_count": 1,
   "id": "130f45a1-8f0f-45fc-bcf5-4e704eb90dd9",
   "metadata": {},
   "outputs": [
    {
     "name": "stderr",
     "output_type": "stream",
     "text": [
      "[nltk_data] Downloading package stopwords to\n",
      "[nltk_data]     /Users/julie.fisher/nltk_data...\n",
      "[nltk_data]   Package stopwords is already up-to-date!\n"
     ]
    },
    {
     "data": {
      "text/plain": [
       "True"
      ]
     },
     "execution_count": 1,
     "metadata": {},
     "output_type": "execute_result"
    }
   ],
   "source": [
    "import pandas as pd\n",
    "import os\n",
    "from IPython.display import display\n",
    "\n",
    "import string\n",
    "import re\n",
    "import itertools\n",
    "import nltk\n",
    "nltk.download('stopwords')"
   ]
  },
  {
   "cell_type": "markdown",
   "id": "100ade06-27f0-4851-8900-093f7062adea",
   "metadata": {},
   "source": [
    "The `read_script` function was the output of the last entry."
   ]
  },
  {
   "cell_type": "code",
   "execution_count": 4,
   "id": "ad0a4c3a-0b0f-435a-80be-0f66222e3854",
   "metadata": {},
   "outputs": [],
   "source": [
    "def read_script(file_path):\n",
    "    corpus = ''\n",
    "    with open(file_path, 'r', encoding='latin-1') as l:\n",
    "        for line in l:\n",
    "            if (re.match('[^\\d+]', line)\n",
    "               ) and (re.match('^(?!\\s*$).+', line)\n",
    "                      ) and not (re.match('(.*www.*)|(.*http:*)', line)\n",
    "                                ) and not (re.match('Sync and correct*', line)):\n",
    "                line = re.sub('</?i>|</?font.*>', '', line)\n",
    "                corpus = corpus + ' ' + line\n",
    "    return corpus"
   ]
  },
  {
   "cell_type": "markdown",
   "id": "29b99bc6-d838-4be1-8fd1-b037bc5603ef",
   "metadata": {},
   "source": [
    "## Load all files in a directory\n",
    "\n",
    "My original understanding of the assignment was that I was supposed to compare all scripts in the '1960s' directory with all the scripts in the '21st-century' directory. However, having re-read the later portion of the assignment, my understanding is that the purpose is to compare all scripts in the '1960s' directory against the different shows/movie in the '21st-century' directory.\n",
    "\n",
    "Listing out all files within a directory is pretty straight forward with the `os` library.\n",
    "\n",
    "- `scandir` scans the directory\n",
    "- `path.join` joins parts of the file path so that handling is operating system agnostic\n",
    "    - Mac uses '/'\n",
    "    - PC uses '\\'\n",
    "- `getcwd` gets the current working directory\n",
    "    - This allows the file structure to be independent of the upper file structure\n",
    "    - This independence allows the .py script to be transferable between computers and/or users"
   ]
  },
  {
   "cell_type": "code",
   "execution_count": 2,
   "id": "c8a5f920-07b7-4981-a6b3-ea961c29e1b8",
   "metadata": {
    "scrolled": true,
    "tags": []
   },
   "outputs": [
    {
     "name": "stdout",
     "output_type": "stream",
     "text": [
      "The Twilight Zone - 3x17 - One More Pallbearer.srt\n",
      "The Twilight Zone - 3x05 - A Game of Pool.srt\n",
      "The Twilight Zone - 2x03 - Nervous Man in a Four Dollar Room.srt\n",
      "The Twilight Zone - 4x05 - Mute.srt\n",
      "The Twilight Zone - 3x04 - The Passersby.srt\n",
      "The Twilight Zone - s05e01 - In Praise of Pip.srt\n",
      "The Twilight Zone - 4x13 - The New Exhibit.srt\n",
      "The Twilight Zone - 3x21 - Kick the Can.srt\n",
      "The Twilight Zone - 3x30 - Hocus-Pocus and Frisby.srt\n",
      "The Twilight Zone - 3x16 - Nothing in the Dark.srt\n",
      "The Twilight Zone - s05e12 - Ninety Years Without Slumbering.srt\n",
      "The Twilight Zone - 2x08 - The Lateness of the Hour.srt\n",
      "The Twilight Zone - 4x11 - The Parallel.srt\n",
      "The Twilight Zone - s05e35 - The Fear.srt\n",
      "The Twilight Zone - 2x09 - The Trouble with Templeton.srt\n",
      "The Twilight Zone - s05e09 - Probe 7, Over and Out.srt\n",
      "The Twilight Zone - s05e03 - Nightmare at 20,000 Feet.srt\n",
      "The Twilight Zone - 4x16 - On Thursday We Leave for Home.srt\n",
      "The Twilight Zone - 3x36 - Cavender Is Coming.srt\n",
      "The Twilight Zone - 4x06 - Death Ship.srt\n",
      "The Twilight Zone - 2x21 - The Prime Mover.srt\n",
      "The Twilight Zone - s05e29 - The Jeopardy Room.srt\n",
      "The Twilight Zone - 3x35 - I Sing the Body Electric.srt\n",
      "The Twilight Zone - 2x01 - King Nine Will Not Return.srt\n",
      "The Twilight Zone - 2x20 - Static.srt\n",
      "The Twilight Zone - 2x06 - Eye of the Beholder.srt\n",
      "The Twilight Zone - s05e04 - A Kind of a Stopwatch.srt\n",
      "The Twilight Zone - 4x01 - In His Image.srt\n",
      "The Twilight Zone - 3x24 - To Serve Man.srt\n",
      "The Twilight Zone - s05e14 - You Drive.srt\n",
      "The Twilight Zone - s05e32 - Mr. Garrity and the Graves.srt\n",
      "The Twilight Zone - s05e27 - Sounds and Silences.srt\n",
      "The Twilight Zone - 3x10 - The Midnight Sun.srt\n",
      "The Twilight Zone - s05e19 - Night Call.srt\n",
      "The Twilight Zone - 2x19 - Mr. Dingle, the Strong.srt\n",
      "The Twilight Zone - 4x02 - The Thirty-Fathom Grave.srt\n",
      "The Twilight Zone - s05e10 - The 7th Is Made up of Phantoms.srt\n",
      "The Twilight Zone - 2x10 - A Most Unusual Camera.srt\n",
      "The Twilight Zone - 3x34 - Young Man's Fancy.srt\n",
      "The Twilight Zone - 2x23 - A Hundred Yards over the Rim.srt\n",
      "The Twilight Zone - 3x11 - Still Valley.srt\n",
      "Dr.Strangelove.srt\n",
      "The Twilight Zone - 2x28 - Will the Real Martian Please Stand Up.srt\n",
      "The Twilight Zone - s05e06 - Living Doll.srt\n",
      "The Twilight Zone - 4x09 - Printer's Devil.srt\n",
      "The Twilight Zone - s05e15 - The Long Morrow.srt\n",
      "The Twilight Zone - 2x11 - The Night of the Meek.srt\n",
      "The Twilight Zone - s05e08 - Uncle Simon.srt\n",
      "The Twilight Zone - 2x13 - Back There.srt\n",
      "The Twilight Zone - 4x18 - The Bard.srt\n",
      "The Twilight Zone - s05e28 - Caesar and Me.srt\n",
      "The Twilight Zone - s05e16 - The Self-Improvement of Salvadore Ross.srt\n",
      "The Twilight Zone - 2x22 - Long Distance Call.srt\n",
      "The Twilight Zone - s05e20 - From Agnes - with Love.srt\n",
      "The Twilight Zone - 3x28 - The Little People.srt\n",
      "The Twilight Zone - 3x19 - The Hunt.srt\n",
      "The Twilight Zone - s05e17 - Number 12 Looks Just Like You .srt\n",
      "The Twilight Zone - 2x02 - The Man in the Bottle.srt\n",
      "The Twilight Zone - s05e18 - Black Leather Jackets.srt\n",
      "The Twilight Zone - 3x27 - Person or Persons Unknown.srt\n",
      "The Twilight Zone - s05e11 - A Short Drink from a Certain Fountain.srt\n",
      "The Twilight Zone - 4x12 - I Dream of Genie.srt\n",
      "The Twilight Zone - 3x09 - Deaths-Head Revisited.srt\n",
      "The Twilight Zone - 3x37 - The Changing of the Guard.srt\n",
      "The.Hustler.srt\n",
      "The Twilight Zone - 4x03 - Valley of the Shadow.srt\n",
      "The Twilight Zone - s05e24 - What's in the Box.srt\n",
      "The Twilight Zone - s05e31 - The Encounter.srt\n",
      "The Twilight Zone - s05e30 - Stopover in a Quiet Town.srt\n",
      "The Twilight Zone - s05e23 - Queen of the Nile.srt\n",
      "The Twilight Zone - 3x15 - A Quality of Mercy.srt\n",
      "The Twilight Zone - 3x07 - The Grave.srt\n",
      "The.Apartment.srt\n",
      "The Twilight Zone - 2x24 - The Rip Van Winkle Caper.srt\n",
      "The Twilight Zone - 3x20 - Showdown with Rance McGrew.srt\n",
      "The Twilight Zone - s05e25 - The Masks.srt\n",
      "The Twilight Zone - 4x08 - Miniature.srt\n",
      "The Twilight Zone - 3x02 - The Arrival.srt\n",
      "The Twilight Zone - 4x10 - No Time Like the Past.srt\n",
      "The Twilight Zone - 2x16 - A Penny for Your Thoughts.srt\n",
      "The Twilight Zone - 3x08 - It's a Good Life.srt\n",
      "Lover Come Back.srt\n",
      "The Twilight Zone - 2x12 - Dust.srt\n",
      "The Twilight Zone - 3x32 - The Gift.srt\n",
      "The Twilight Zone - 2x26 - Shadow Play.srt\n",
      "The Twilight Zone - 3x33 - The Dummy.srt\n",
      "The Twilight Zone - s05e26 - I am the Night - Color Me Black.srt\n",
      "The Twilight Zone - 3x31 - The Trade-Ins.srt\n",
      "The Twilight Zone - s05e02 - Steel.srt\n",
      "The Twilight Zone - 3x18 - Dead Man's Shoes.srt\n",
      "The Twilight Zone - 2x17 - Twenty Two.srt\n",
      "The Twilight Zone - 2x18 - The Odyssey of Flight 33.srt\n",
      "The Twilight Zone - 2x04 - A Thing About Machines.srt\n",
      "The Twilight Zone - 3x26 - Little Girl Lost.srt\n",
      "The Twilight Zone - 4x17 - Passage on the Lady Anne.srt\n",
      "The Twilight Zone - 3x23 - The Last Rites of Jeff Myrtlebank.srt\n",
      "Lilies.of.the.Field.srt\n",
      "The Twilight Zone - s05e34 - Come Wander with Me.srt\n",
      "The Twilight Zone - 3x12 - The Jungle.srt\n",
      "The Twilight Zone - 2x14 - The Whole Truth.srt\n",
      "The Twilight Zone - s05e05 - The Last Night of a Jockey.srt\n",
      "The Twilight Zone - 2x07 - Nick of Time.srt\n",
      "The Twilight Zone - 4x04 - He's Alive.srt\n",
      "The Twilight Zone - 3x06 - The Mirror.srt\n",
      "The Twilight Zone - 3x22 - A Piano in the House.srt\n",
      "The Twilight Zone - 3x29 - Four O'Clock.srt\n",
      "The Twilight Zone - 4x14 - Of Late I Think of Cliffordville.srt\n",
      "The Twilight Zone - 4x07 - Jess-Belle.srt\n",
      "The Twilight Zone - s05e33 - The Brain Center at Whipple's.srt\n",
      "The Twilight Zone - 2x05 - The Howling Man.srt\n",
      "The Twilight Zone - 3x25 - The Fugitive.srt\n",
      "The Twilight Zone - 2x25 - The Silence.srt\n",
      "The Twilight Zone - 2x27 - The Mind and the Matter.srt\n",
      "The Twilight Zone - 4x15 - The Incredible World of Horace Ford.srt\n",
      "The Twilight Zone - s05e07 - The Old Man in the Cave.srt\n",
      "The Twilight Zone - 3x14 - Five Characters in Search of an Exit.srt\n",
      "The Twilight Zone - s05e36 - The Bewitchin' Pool.srt\n",
      "The Twilight Zone - 3x03 - The Shelter.srt\n",
      "The Twilight Zone - s05e21 - Spur of the Moment.srt\n",
      "The Twilight Zone - 2x29 - The Obsolete Man.srt\n",
      "The Twilight Zone - s05e13 - Ring-A-Ding Girl.srt\n"
     ]
    }
   ],
   "source": [
    "# file_path = \n",
    "for thing in os.scandir(os.path.join(os.getcwd(), 'data', '1960s')):\n",
    "    print(thing.name)"
   ]
  },
  {
   "cell_type": "markdown",
   "id": "98eb8b15-332f-4ccd-996d-8dac1fc13489",
   "metadata": {},
   "source": [
    "To load the data for the 1960s scripts I can do something like this:"
   ]
  },
  {
   "cell_type": "code",
   "execution_count": 5,
   "id": "3159fb62-c8aa-4a8a-832c-8485563daba2",
   "metadata": {
    "scrolled": true,
    "tags": []
   },
   "outputs": [],
   "source": [
    "file_path = os.path.join(os.getcwd(), 'data', '1960s')\n",
    "test_dict = {}\n",
    "for thing in os.scandir(file_path):\n",
    "    test_dict[thing.name] = read_script(f'{file_path}/{thing.name}')"
   ]
  },
  {
   "cell_type": "markdown",
   "id": "5a054343-7206-4e09-bd04-e44ada24c140",
   "metadata": {},
   "source": [
    "Now I verify that the data loaded as expected: name of the script as the key, concatenated string as the value (yes, I absolutely copy and pasted the name of the first script to get its corpus)."
   ]
  },
  {
   "cell_type": "code",
   "execution_count": 6,
   "id": "2dc1336b-2e05-4513-8fa5-d28ef88b9cc3",
   "metadata": {},
   "outputs": [
    {
     "data": {
      "text/plain": [
       "['The Twilight Zone - 3x17 - One More Pallbearer.srt',\n",
       " 'The Twilight Zone - 3x05 - A Game of Pool.srt',\n",
       " 'The Twilight Zone - 2x03 - Nervous Man in a Four Dollar Room.srt',\n",
       " 'The Twilight Zone - 4x05 - Mute.srt',\n",
       " 'The Twilight Zone - 3x04 - The Passersby.srt']"
      ]
     },
     "execution_count": 6,
     "metadata": {},
     "output_type": "execute_result"
    }
   ],
   "source": [
    "list(test_dict.keys())[:5]"
   ]
  },
  {
   "cell_type": "code",
   "execution_count": 7,
   "id": "412e9308-2792-449d-9d49-596bb1efda43",
   "metadata": {},
   "outputs": [
    {
     "data": {
      "text/plain": [
       "\" You're traveling\\n through another dimension-\\n a dimension not only of sight\\n and sound, but of mind,\\n a journey into a wondrous land\\n whose boundaries\\n are that of imagination.\\n Your next stop,\\n the twilight zone.\\n She's all set,\\n mr. Radin.\\n How about the\\n sound system?\\n You check that out?\\n She's all\\n ready to go.\\n I don't know where you\\n got your sound effects\\n but you'd swear\\n a bomb was exploding.\\n I mean a big bomb.\\n That's precisely the way\\n it's supposed to sound.\\n That about do it,\\n mr\""
      ]
     },
     "execution_count": 7,
     "metadata": {},
     "output_type": "execute_result"
    }
   ],
   "source": [
    "test_dict['The Twilight Zone - 3x17 - One More Pallbearer.srt'][:500]"
   ]
  },
  {
   "cell_type": "markdown",
   "id": "867d7a2a-fb67-41cc-8c1a-f80767173ec4",
   "metadata": {},
   "source": [
    "The challenge is the '21st-century' directory: it contains four subdirectories. The homework instructions say to accept a directory and just load the files within it (so I'd have to run the script four times to analyze all the 21st century corpora), but since I'm going off script on an extended detour to improve the analysis, I want to be able to run this thing once and get the analyses for all four test corpora.\n",
    "\n",
    "What I need is a nested dictionary. The goal is something like this:\n",
    ">{</br>\n",
    ">Mad_Men:{script_1: corpus_1, script_2: corpus_2, ..., script_n: corpus_n},</br>\n",
    ">Pan_Am: {script_1: corpus_1, script_2: corpus_2, ..., script_n: corpus_n},</br>\n",
    "The_Kennedys: {script_1: corpus_1, script_2: corpus_2, ..., script_n: corpus_n},</br>\n",
    "X-Men_First_Class: {script1: corpus1}</br>\n",
    ">}"
   ]
  },
  {
   "cell_type": "markdown",
   "id": "0ba34c43-a3fb-4e9e-8215-fb05e0a2c4f5",
   "metadata": {},
   "source": [
    "In my previous solution, I used recursion to work through any subdirectories until I grabbed the file paths for all files the specified directory and its subdirectories then returned that as a list."
   ]
  },
  {
   "cell_type": "code",
   "execution_count": 27,
   "id": "13bbf3c6-311a-41d7-8947-55e41c15f9a2",
   "metadata": {},
   "outputs": [],
   "source": [
    "def list_filepaths(append_list, file_path = os.getcwd()):\n",
    "    for thing in os.scandir(file_path):\n",
    "        if thing.is_dir():\n",
    "            new_path = os.path.join(file_path, thing.name)\n",
    "            list_filepaths(append_list, new_path)\n",
    "        elif thing.is_file:\n",
    "            append_list.append(f'{file_path}/{thing.name}')\n",
    "    return append_list"
   ]
  },
  {
   "cell_type": "markdown",
   "id": "bffe546c-2ae8-43d7-8458-90cff0c9da72",
   "metadata": {},
   "source": [
    "I improved upon that concept when I added the `read_script` function to the example code:\n",
    "\n",
    "```\n",
    "file_path = os.path.join(os.getcwd(), 'data', '1960s')\n",
    "test_dict = {}\n",
    "for thing in os.scandir(file_path):\n",
    "    test_dict[thing.name] = read_script(f'{file_path}/{thing.name}')\n",
    "```\n",
    "\n",
    "A few minor edits to the original recursive function gives me what I want. [This StackOverflow answer](https://stackoverflow.com/a/48382262) gave me the key I needed to recursively create the dictionary structure: add the dictionary as a parameter, then create a new level to feed to the recursion:"
   ]
  },
  {
   "cell_type": "code",
   "execution_count": 8,
   "id": "f36b1a38-fe26-4686-b29e-814c2b266873",
   "metadata": {},
   "outputs": [],
   "source": [
    "def load_files_to_dict(file_path, return_dict):    \n",
    "    for thing in os.scandir(file_path):\n",
    "        if thing.is_dir():\n",
    "            new_path = os.path.join(file_path, thing.name)\n",
    "            new_dict = return_dict[thing.name] = {}\n",
    "            load_files_to_dict(new_path, new_dict)\n",
    "        elif thing.is_file:\n",
    "            return_dict[thing.name] = read_script(f'{file_path}/{thing.name}')\n",
    "    return return_dict"
   ]
  },
  {
   "cell_type": "code",
   "execution_count": 10,
   "id": "7841a654-b410-447f-acc0-7cf9c5067ea2",
   "metadata": {},
   "outputs": [],
   "source": [
    "file_path = os.path.join(os.getcwd(), 'data', '1960s')\n",
    "unilayer_dict = load_files_to_dict(file_path, {})"
   ]
  },
  {
   "cell_type": "code",
   "execution_count": 11,
   "id": "7e28a4c2-3a9f-42ca-9c97-6865d114bf0e",
   "metadata": {},
   "outputs": [
    {
     "name": "stdout",
     "output_type": "stream",
     "text": [
      "['The Twilight Zone - 3x17 - One More Pallbearer.srt', 'The Twilight Zone - 3x05 - A Game of Pool.srt', 'The Twilight Zone - 2x03 - Nervous Man in a Four Dollar Room.srt', 'The Twilight Zone - 4x05 - Mute.srt', 'The Twilight Zone - 3x04 - The Passersby.srt']\n",
      "\n",
      "\n",
      "The Twilight Zone - 3x17 - One More Pallbearer.srt sample text:\n",
      " You're traveling\n",
      " through another dimension-\n",
      " a dimension not only of sight\n",
      " and sound, but of mind,\n",
      " a journey into a wondrous land\n",
      " whose boundaries\n",
      " are that of imagination.\n",
      " Your next stop,\n",
      " the twilight zone.\n",
      " She's all set,\n",
      " mr. Radin.\n",
      " How about the\n",
      " sound system?\n",
      " You check that out?\n",
      " She's all\n",
      " ready to go.\n",
      " I don't know where you\n",
      " got your sound effects\n",
      " but you'd swear\n",
      " a bomb was exploding.\n",
      " I mean a big bomb.\n",
      " That's precisely the way\n",
      " it's supposed to sound.\n",
      " That about do it,\n",
      " mr\n"
     ]
    }
   ],
   "source": [
    "print(list(unilayer_dict.keys())[:5]) # First 5 scripts in the 1960s directory\n",
    "print('\\n')\n",
    "print(list(unilayer_dict.keys())[0], 'sample text:') # Name of the first script in the list\n",
    "print(unilayer_dict[list(unilayer_dict.keys())[0]][:500]) # 500 character sample of the first script"
   ]
  },
  {
   "cell_type": "code",
   "execution_count": 12,
   "id": "842b730a-bd7d-4fc1-adab-f7c1898b5595",
   "metadata": {},
   "outputs": [],
   "source": [
    "file_path = os.path.join(os.getcwd(), 'data', '21st-century')\n",
    "bilayer_dict = load_files_to_dict(file_path, {})"
   ]
  },
  {
   "cell_type": "code",
   "execution_count": 13,
   "id": "d7df9593-6e8e-427c-9745-6bc21a46917a",
   "metadata": {
    "tags": []
   },
   "outputs": [
    {
     "name": "stdout",
     "output_type": "stream",
     "text": [
      "['Pan_Am', 'Mad_Men', 'X-Men_First_Class', 'The_Kennedys']\n",
      "Pan_Am\n",
      "['Pan.Am.S01E09.srt', 'Pan.Am.S01E08.srt', 'Pan.Am.S01E05.srt', 'Pan.Am.S01E11.srt', 'Pan.Am.S01E10.srt', 'Pan.Am.S01E04.srt', 'Pan.Am.S01E12.srt', 'Pan.Am.S01E06.srt', 'Pan.Am.S01E07.srt', 'Pan.Am.S01E13.srt', 'Pan.Am.S01E03.srt', 'Pan.Am.S01E02.srt', 'Pan.Am.S01E14.srt', 'Pan.Am.S01E01.srt']\n",
      "\n",
      "\n",
      "Pan.Am.S01E09.srt sample text\n",
      " Previously on \"Pan Am\"...\n",
      " Look, I get to see the world,\n",
      " Sam.\n",
      " When was the last time\n",
      " you left the village?\n",
      " I don't need to see the world\n",
      " to change it.\n",
      " - Marry me!\n",
      " - I can't say yes now.\n",
      " Pan Am stewardess can travell all\n",
      " around the world without suspicion.\n",
      " You volunteered for this.\n",
      " They will let you out.\n",
      " Are you going my way?\n",
      " Sometimes the stars align.\n",
      " You're different\n",
      " from other girls.\n",
      " Thank you.\n",
      " And democracy is not perfect.\n",
      " You're casting a shadow,\n",
      " Kate.\n",
      " I take it you miss\n"
     ]
    }
   ],
   "source": [
    "print(list(bilayer_dict.keys())) # List of the subdirectories in the 21st-century directory\n",
    "print(list(bilayer_dict.keys())[0]) # Name of the first subdirectory in the list\n",
    "print(list(bilayer_dict[list(bilayer_dict.keys())[0]].keys())) # List of the scripts of the first subdirectory within the subdirectory list\n",
    "print('\\n')\n",
    "print(list(bilayer_dict[list(bilayer_dict.keys())[0]].keys())[0], 'sample text')\n",
    "print(bilayer_dict[list(bilayer_dict.keys())[0]][list(bilayer_dict[list(bilayer_dict.keys())[0]].keys())[0]][:500]) # 500 character sample of the script"
   ]
  },
  {
   "cell_type": "markdown",
   "id": "04c762ba-a9ec-4746-878d-a7b398867b11",
   "metadata": {},
   "source": [
    "Ta-da. I can now easily load and store all of the 1960s and 21st century corpora while only having to specify two file paths."
   ]
  }
 ],
 "metadata": {
  "kernelspec": {
   "display_name": "Python 3",
   "language": "python",
   "name": "python3"
  },
  "language_info": {
   "codemirror_mode": {
    "name": "ipython",
    "version": 3
   },
   "file_extension": ".py",
   "mimetype": "text/x-python",
   "name": "python",
   "nbconvert_exporter": "python",
   "pygments_lexer": "ipython3",
   "version": "3.8.8"
  }
 },
 "nbformat": 4,
 "nbformat_minor": 5
}
