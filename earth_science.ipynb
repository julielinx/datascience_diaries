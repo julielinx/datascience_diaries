{
 "cells": [
  {
   "cell_type": "markdown",
   "metadata": {},
   "source": [
    "# Resources\n",
    "\n",
    "- [The Best Free Resources to Learn Earth Observation Data Science](https://medium.com/spatial-data-science/the-best-free-resources-to-learn-earth-observation-data-science-710cfc1e06e8)\n",
    "- [EarthData](https://earthdata.nasa.gov/learn)\n",
    "- [Earth and Environmental Data Science online textbook](https://earth-env-data-science.github.io/intro)\n",
    "- [Free Earth Data Science Courses & Textbooks](https://www.earthdatascience.org/courses/)\n",
    "- []()\n",
    "- []()\n",
    "- []()"
   ]
  }
 ],
 "metadata": {
  "kernelspec": {
   "display_name": "Python 3",
   "language": "python",
   "name": "python3"
  },
  "language_info": {
   "codemirror_mode": {
    "name": "ipython",
    "version": 3
   },
   "file_extension": ".py",
   "mimetype": "text/x-python",
   "name": "python",
   "nbconvert_exporter": "python",
   "pygments_lexer": "ipython3",
   "version": "3.6.5"
  }
 },
 "nbformat": 4,
 "nbformat_minor": 2
}
