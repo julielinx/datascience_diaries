{
 "cells": [
  {
   "cell_type": "code",
   "execution_count": 178,
   "id": "a0500180-3fab-47cb-aea9-f1fb267a2b2f",
   "metadata": {},
   "outputs": [],
   "source": [
    "import math\n",
    "import time\n",
    "import random"
   ]
  },
  {
   "cell_type": "markdown",
   "id": "ba546358-db14-4b0b-94be-ef19a119b55c",
   "metadata": {},
   "source": [
    "Kelvin to Celcius: C = K - 273.15\n",
    "Kelvin to Fahrenheit: F = (K-273.15) (9/5) + 32\n",
    "\n",
    "Celsius to Kelvin: K = C + 273.15\n",
    "Celsius to Fahrenheit: F = C(9/5) + 32\n",
    "\n",
    "Fahrenheit to Kelvin: K = (F-32) (5/9) + 273.15\n",
    "Fahrenheit to Celcius: C = (F-32) (5/9)"
   ]
  },
  {
   "cell_type": "code",
   "execution_count": 19,
   "id": "38939d27-be67-4509-b310-9dfecc806721",
   "metadata": {},
   "outputs": [
    {
     "data": {
      "text/plain": [
       "[1, 4, 9, 16, 25]"
      ]
     },
     "execution_count": 19,
     "metadata": {},
     "output_type": "execute_result"
    }
   ],
   "source": [
    "squares = [1, 4, 9, 16, 25]\n",
    "squares"
   ]
  },
  {
   "cell_type": "code",
   "execution_count": 20,
   "id": "926aaca4-5e32-4a2d-8257-aa4cfc570006",
   "metadata": {},
   "outputs": [
    {
     "data": {
      "text/plain": [
       "[1, 4, 9, 16, 25]"
      ]
     },
     "execution_count": 20,
     "metadata": {},
     "output_type": "execute_result"
    }
   ],
   "source": [
    "squares2 = squares[:]\n",
    "squares2"
   ]
  },
  {
   "cell_type": "code",
   "execution_count": 21,
   "id": "5414a7eb-a5bd-45bb-8687-d440dec6b72f",
   "metadata": {},
   "outputs": [
    {
     "data": {
      "text/plain": [
       "[1, 4, 4, 16, 25]"
      ]
     },
     "execution_count": 21,
     "metadata": {},
     "output_type": "execute_result"
    }
   ],
   "source": [
    "squares2[2] = 4\n",
    "squares2"
   ]
  },
  {
   "cell_type": "code",
   "execution_count": 22,
   "id": "d824cf1c-9d4a-482c-809c-c5e272a4a52b",
   "metadata": {},
   "outputs": [
    {
     "data": {
      "text/plain": [
       "[1, 4, 9, 16, 25]"
      ]
     },
     "execution_count": 22,
     "metadata": {},
     "output_type": "execute_result"
    }
   ],
   "source": [
    "squares"
   ]
  },
  {
   "cell_type": "code",
   "execution_count": 11,
   "id": "9c12e3a0-8141-4dda-8352-69ba80b5a3c0",
   "metadata": {},
   "outputs": [],
   "source": [
    "def temp_conversion(start_unit, end_unit, start_val):\n",
    "    if start_unit == 'kelvin'.lower() or start_unit == 'k'.lower():\n",
    "        if end_unit == 'fahrenheit'.lower() or end_unit == 'f'.lower():\n",
    "            return (start_val-273.15)*(9/5) + 32\n",
    "        if end_unit == 'celsius'.lower() or end_unit=='c'.lower():\n",
    "            return start_val - 273.15\n",
    "    if start_unit == 'celsius'.lower() or start_unit == 'c'.lower():\n",
    "        if end_unit == 'kelvin'.lower() or end_unit == 'k'.lower():\n",
    "            return start_val + 273.15\n",
    "        if end_unit == 'fahrenheit'.lower() or end_unit == 'f'.lower():\n",
    "            return start_val(9/5) + 32\n",
    "    if start_unit == 'fahrenheit'.lower() or start_unit == 'f'.lower():\n",
    "        if end_unit == 'kelvin'.lower() or end_unit == 'k'.lower():\n",
    "            return (start_val-32)*(5/9) + 273.15\n",
    "        if end_unit == 'celsius'.lower() or end_unit=='c'.lower():\n",
    "            return (start_val-32)*(5/9)\n",
    "    else:\n",
    "        \"Please enter a start and end unit type of kelvin (k), fahrenheit (f), or celsius (c) and a start temperature\""
   ]
  },
  {
   "cell_type": "code",
   "execution_count": 14,
   "id": "f6c65835-8a7e-4483-a227-656d0a1714c5",
   "metadata": {},
   "outputs": [
    {
     "name": "stdout",
     "output_type": "stream",
     "text": [
      "-40 -40.0\n",
      "0 -17.77777777777778\n",
      "32 0.0\n",
      "68 20.0\n",
      "98.6 37.0\n",
      "212 100.0\n",
      "293 145.0\n",
      "451 232.7777777777778\n"
     ]
    }
   ],
   "source": [
    "for temp in [-40, 0, 32, 68, 98.6, 212, 293, 451]:\n",
    "    print(temp, temp_conversion('f', 'c', temp))"
   ]
  },
  {
   "cell_type": "code",
   "execution_count": 169,
   "id": "1f6bd2b1-f561-48aa-981d-29ba9cd52ef8",
   "metadata": {},
   "outputs": [
    {
     "name": "stdout",
     "output_type": "stream",
     "text": [
      "The current time is 21.0:20.0:16.0\n",
      "It has been 19047.0 days since January 1, 1970\n",
      "It has been 52.0 years and 54.0 days since January 1, 1970\n"
     ]
    }
   ],
   "source": [
    "def time_to_datetime():\n",
    "    hours = time.time() // (60 * 60) % 24\n",
    "    minutes = time.time() // 60 % 60\n",
    "    seconds = round(time.time() % 60, 0)\n",
    "    days = time.time() // (60 * 60 * 24) % 365.25\n",
    "    days_since = time.time() // (60 * 60 * 24)\n",
    "    years_since = time.time() // (60 * 60 * 24 * 365)\n",
    "    print(f'The current time is {hours}:{minutes}:{seconds}')\n",
    "    print(f'It has been {days_since} days since January 1, 1970')\n",
    "    print (f'It has been {years_since} years and {days} days since January 1, 1970')\n",
    "\n",
    "time_to_datetime()"
   ]
  },
  {
   "cell_type": "code",
   "execution_count": 17,
   "id": "41eaa893-efdd-46c9-b580-17d16a0964f2",
   "metadata": {},
   "outputs": [],
   "source": [
    "time = 42 + (42/60)\n",
    "distance = 10\n",
    "m_dist = 10 * 1.61"
   ]
  },
  {
   "cell_type": "code",
   "execution_count": 34,
   "id": "c743980a-817b-4231-83d0-351c2bd25fac",
   "metadata": {},
   "outputs": [
    {
     "name": "stdout",
     "output_type": "stream",
     "text": [
      "16.1 miles per 42.7 minutes\n",
      "1.0 mile per 2.652173913043478 minutes\n",
      "1.0 mile per 159.1304347826087 seconds\n",
      "22.62295081967213 miles per 1.0 hour\n"
     ]
    }
   ],
   "source": [
    "print(f'{m_dist} miles per {time} minutes')\n",
    "print(f'{m_dist/m_dist} mile per {time/m_dist} minutes')\n",
    "print(f'{m_dist/m_dist} mile per {time/m_dist * 60} seconds')\n",
    "print(f'{m_dist * (1/time * 60)} miles per {time * (1/time)} hour')"
   ]
  },
  {
   "cell_type": "code",
   "execution_count": 192,
   "id": "be76f133-dfc6-47ac-bf5f-f14a19f8f472",
   "metadata": {},
   "outputs": [],
   "source": [
    "def check_fermat(a, b, c, n):\n",
    "    a_n_b = a**n + b**n\n",
    "    c_n = c**n\n",
    "    if n <= 2:\n",
    "        print(\"That's boring, you're supposed to choose a number greater than 2...\")\n",
    "        if a_n_b == c_n:\n",
    "            print(\"But it does in fact work\")\n",
    "        else:\n",
    "            print(\"\\tAlso, the numbers you chose don't work\")\n",
    "    else:        \n",
    "        if a_n_b == c_n:\n",
    "            print(\"Holy smokes, Fermat was wrong!\")\n",
    "        elif a_n_b != c_n:\n",
    "            print(\"No, that doesn't work\")"
   ]
  },
  {
   "cell_type": "code",
   "execution_count": 175,
   "id": "efc23b64-ac25-4ec2-a1df-6864b45ae196",
   "metadata": {},
   "outputs": [
    {
     "name": "stdout",
     "output_type": "stream",
     "text": [
      "That's boring, you're supposed to choose a number greater than 2...\n"
     ]
    },
    {
     "data": {
      "text/plain": [
       "'But it does in fact work'"
      ]
     },
     "execution_count": 175,
     "metadata": {},
     "output_type": "execute_result"
    }
   ],
   "source": [
    "check_fermat(3, 4, 5, 2)"
   ]
  },
  {
   "cell_type": "code",
   "execution_count": 177,
   "id": "16b95588-b39a-4bc7-962b-9889d3654c07",
   "metadata": {},
   "outputs": [
    {
     "name": "stdout",
     "output_type": "stream",
     "text": [
      "That's boring, you're supposed to choose a number greater than 2...\n"
     ]
    },
    {
     "data": {
      "text/plain": [
       "'But it does in fact work'"
      ]
     },
     "execution_count": 177,
     "metadata": {},
     "output_type": "execute_result"
    }
   ],
   "source": [
    "check_fermat(5, 12, 13, 2)"
   ]
  },
  {
   "cell_type": "code",
   "execution_count": 193,
   "id": "558c330c-ae54-4c06-88bd-46689d4b4ca7",
   "metadata": {},
   "outputs": [
    {
     "name": "stdout",
     "output_type": "stream",
     "text": [
      "No, that doesn't work\n",
      "No, that doesn't work\n",
      "No, that doesn't work\n",
      "No, that doesn't work\n",
      "No, that doesn't work\n",
      "No, that doesn't work\n",
      "No, that doesn't work\n",
      "That's boring, you're supposed to choose a number greater than 2...\n",
      "\tAlso, the numbers you chose don't work\n",
      "No, that doesn't work\n",
      "No, that doesn't work\n",
      "No, that doesn't work\n",
      "No, that doesn't work\n",
      "No, that doesn't work\n",
      "No, that doesn't work\n",
      "No, that doesn't work\n",
      "No, that doesn't work\n",
      "No, that doesn't work\n",
      "No, that doesn't work\n",
      "No, that doesn't work\n",
      "No, that doesn't work\n",
      "No, that doesn't work\n",
      "No, that doesn't work\n",
      "No, that doesn't work\n",
      "No, that doesn't work\n",
      "No, that doesn't work\n"
     ]
    }
   ],
   "source": [
    "a_list = random.choices(range(0, 100), k=25)\n",
    "b_list = random.choices(range(0, 100), k=25)\n",
    "c_list = random.choices(range(0, 100), k=25)\n",
    "n_list = random.choices(range(1, 9), k=25)\n",
    "for i in range(25):\n",
    "    check_fermat(a_list[i], b_list[i], c_list[i], n_list[i])"
   ]
  },
  {
   "cell_type": "code",
   "execution_count": null,
   "id": "c02c3fbb-d86d-40e5-9172-28fce455a150",
   "metadata": {},
   "outputs": [],
   "source": []
  }
 ],
 "metadata": {
  "kernelspec": {
   "display_name": "Python 3",
   "language": "python",
   "name": "python3"
  },
  "language_info": {
   "codemirror_mode": {
    "name": "ipython",
    "version": 3
   },
   "file_extension": ".py",
   "mimetype": "text/x-python",
   "name": "python",
   "nbconvert_exporter": "python",
   "pygments_lexer": "ipython3",
   "version": "3.8.8"
  }
 },
 "nbformat": 4,
 "nbformat_minor": 5
}
