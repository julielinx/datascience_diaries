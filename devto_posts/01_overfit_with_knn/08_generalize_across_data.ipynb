{
 "cells": [
  {
   "cell_type": "markdown",
   "id": "1738219f",
   "metadata": {},
   "source": [
    "Post 8: Generalizing Across Datasets (Optional Expansion)\n",
    "Focus: Apply the same workflow to a different dataset.\n",
    "\n",
    "Choose a second dataset (e.g., Iris, Titanic, or a custom one).\n",
    "Repeat EDA, model training, and evaluation.\n",
    "Compare insights and generalizability of k-NN behavior."
   ]
  },
  {
   "cell_type": "code",
   "execution_count": null,
   "id": "e24f6e91",
   "metadata": {},
   "outputs": [],
   "source": []
  },
  {
   "cell_type": "code",
   "execution_count": null,
   "id": "917d98f7",
   "metadata": {},
   "outputs": [],
   "source": []
  },
  {
   "cell_type": "code",
   "execution_count": null,
   "id": "466f1246",
   "metadata": {},
   "outputs": [],
   "source": []
  }
 ],
 "metadata": {
  "language_info": {
   "name": "python"
  }
 },
 "nbformat": 4,
 "nbformat_minor": 5
}
