{
 "cells": [
  {
   "cell_type": "markdown",
   "id": "3a5a1a1a",
   "metadata": {},
   "source": [
    "Post 5: Bias, Variance, and Performance Trade-offs\n",
    "Focus: Dive into bias-variance trade-off using precision, recall, F1.\n",
    "\n",
    "Define bias and variance in ML.\n",
    "Analyze how k affects bias/variance.\n",
    "Use precision, recall, F1 to choose optimal k.\n",
    "Visual interpretation of trade-offs."
   ]
  },
  {
   "cell_type": "code",
   "execution_count": null,
   "id": "a94ae90c",
   "metadata": {},
   "outputs": [],
   "source": []
  },
  {
   "cell_type": "code",
   "execution_count": null,
   "id": "df7a3e61",
   "metadata": {},
   "outputs": [],
   "source": []
  },
  {
   "cell_type": "code",
   "execution_count": null,
   "id": "2f66df87",
   "metadata": {},
   "outputs": [],
   "source": []
  }
 ],
 "metadata": {
  "language_info": {
   "name": "python"
  }
 },
 "nbformat": 4,
 "nbformat_minor": 5
}
