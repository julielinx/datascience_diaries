{
 "cells": [
  {
   "cell_type": "markdown",
   "id": "ecf91a03",
   "metadata": {},
   "source": [
    "Post 5: Bias, Variance, and Performance Trade-offs\n",
    "Focus: Dive into bias-variance trade-off using precision, recall, F1.\n",
    "\n",
    "Define bias and variance in ML.\n",
    "Analyze how k affects bias/variance.\n",
    "Use precision, recall, F1 to choose optimal k.\n",
    "Visual interpretation of trade-offs."
   ]
  },
  {
   "cell_type": "code",
   "execution_count": null,
   "id": "580492ec",
   "metadata": {},
   "outputs": [],
   "source": []
  },
  {
   "cell_type": "code",
   "execution_count": null,
   "id": "c7d79c2e",
   "metadata": {},
   "outputs": [],
   "source": []
  },
  {
   "cell_type": "code",
   "execution_count": null,
   "id": "3a785c09",
   "metadata": {},
   "outputs": [],
   "source": []
  },
  {
   "cell_type": "code",
   "execution_count": null,
   "id": "6ebd56c2",
   "metadata": {},
   "outputs": [],
   "source": []
  }
 ],
 "metadata": {
  "language_info": {
   "name": "python"
  }
 },
 "nbformat": 4,
 "nbformat_minor": 5
}
