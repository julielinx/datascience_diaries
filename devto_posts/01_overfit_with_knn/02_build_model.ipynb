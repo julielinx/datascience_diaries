{
 "cells": [
  {
   "cell_type": "markdown",
   "id": "0dcdbd4f",
   "metadata": {},
   "source": [
    "Post 2: Building a k-NN Classifier and Understanding Model Accuracy\n",
    "Focus: Introduce k-NN, train/test split, and initial model performance.\n",
    "\n",
    "What is k-NN and how does it work?\n",
    "Train/test split strategy (stratified sampling).\n",
    "Initial model with k=2: confusion matrix, accuracy, precision, recall, F1.\n",
    "Interpretation of results."
   ]
  },
  {
   "cell_type": "code",
   "execution_count": null,
   "id": "bbf43191",
   "metadata": {},
   "outputs": [],
   "source": []
  },
  {
   "cell_type": "code",
   "execution_count": null,
   "id": "c7287bf1",
   "metadata": {},
   "outputs": [],
   "source": []
  },
  {
   "cell_type": "code",
   "execution_count": null,
   "id": "f8eb112c",
   "metadata": {},
   "outputs": [],
   "source": []
  },
  {
   "cell_type": "code",
   "execution_count": null,
   "id": "f94524c7",
   "metadata": {},
   "outputs": [],
   "source": []
  }
 ],
 "metadata": {
  "language_info": {
   "name": "python"
  }
 },
 "nbformat": 4,
 "nbformat_minor": 5
}
