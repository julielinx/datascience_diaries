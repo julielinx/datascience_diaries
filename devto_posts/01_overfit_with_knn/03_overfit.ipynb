{
 "cells": [
  {
   "cell_type": "markdown",
   "id": "01ecd672",
   "metadata": {},
   "source": [
    "Post 3: Overfitting vs. Underfitting in k-NN\n",
    "Focus: Explore how changing k affects model performance.\n",
    "\n",
    "Accuracy vs. number of neighbors (k=2 to 70).\n",
    "Visualizing performance metrics.\n",
    "Identifying overfitting (<10 neighbors) and underfitting (>52).\n",
    "Sweet spot around k=42–43."
   ]
  },
  {
   "cell_type": "code",
   "execution_count": null,
   "id": "7d32f9a3",
   "metadata": {},
   "outputs": [],
   "source": []
  },
  {
   "cell_type": "code",
   "execution_count": null,
   "id": "2f63c615",
   "metadata": {},
   "outputs": [],
   "source": []
  },
  {
   "cell_type": "code",
   "execution_count": null,
   "id": "bdd47cd1",
   "metadata": {},
   "outputs": [],
   "source": []
  },
  {
   "cell_type": "code",
   "execution_count": null,
   "id": "9490e936",
   "metadata": {},
   "outputs": [],
   "source": []
  }
 ],
 "metadata": {
  "language_info": {
   "name": "python"
  }
 },
 "nbformat": 4,
 "nbformat_minor": 5
}
