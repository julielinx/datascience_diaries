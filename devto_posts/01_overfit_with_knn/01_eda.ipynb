{
 "cells": [
  {
   "cell_type": "markdown",
   "id": "096acf13",
   "metadata": {},
   "source": [
    "# Understanding Modeling with K-Nearest Neighbors (K-NN)\n",
    "\n",
    "## Introduction\n",
    "\n",
    "I was introduced to the [Social_Network_Ads](https://www.kaggle.com/rakeshrau/social-network-ads) dataset in the first week of the first course of University of Washington's Professional & Continuing Education [Machine Learning Certificate](https://www.pce.uw.edu/certificates/machine-learning).\n",
    "\n",
    "In class we did cover what is social network advertising, but I'm not particularly interested in that, or even in what the data means for this particular exercise.\n",
    "\n",
    "In this series of posts I'll do a very brief exploratory data analysis (EDA) of the data and ensure that it's clean. I'll cover wrangling, cleaning, and transforming data at a later time. I considered skipping it entirely, but you really do need, at minimum, a basic understanding of any dataset you work with.\n",
    "\n",
    "The topics I will cover in detail are overfitting and underfitting, variance, bias, performance metrics, and distance metrics. If you don't know what one or more of those things are, perfect! You're in the right place."
   ]
  },
  {
   "cell_type": "markdown",
   "id": "ea29e5c4",
   "metadata": {},
   "source": [
    "## Section 1\n",
    "\n",
    "I'm not sure where the Social_Network_Ads dataset originated, but it's available from several different users on Kaggle. I went with the [dataset](https://www.kaggle.com/datasets/rakeshrau/social-network-ads/data) loaded in 2017 by user \"rakeshrau\".\n",
    "\n",
    "From the Kaggle page I can determine that this dataset has the following properties:\n",
    "\n",
    "- Five columns: `User ID`, `Gender`, `Age`, `EstimatedSalary`, and `Purchased`\n",
    "- Three of these columns are our features: `Gender`, `Age`, and `EstimatedSalary`\n",
    "- `User ID` is a unique identifier for each individual observation/row\n",
    "- `Purchased` is the target we're trying to predict\n",
    "\n",
    "Don't know how I determined those properties? At this point, don't worry about it. Those are the kinds of things I'll cover when discussing data wrangling, cleaning, and transformation. For now I want to keep moving foward to get to the good stuff.\n",
    "\n",
    "## Section 2\n",
    "\n",
    "Let's load the data and take a look at it.\n",
    "\n",
    "We can programmatically access Kaggle data using `kagglehub`. If you don't have this loaded to your environment, simply use this command in a Jupyter Notebook: `!pip install kagglehub`.\n",
    "\n",
    "\\* **Advanced Concept Introduction** \\*:\n",
    "\n",
    "In a production environment I would never recommend using Jupyter Notebooks. You'll want to take the time to convert your code and logic to a python script or collection of scripts. The finished product will look much more like a software development project than the notebooks you see in tutorials.\n",
    "\n",
    "However, in EDA, exploratory, and experimental situations like this, I much prefer Jupyter Notebooks so that I can see my results, look at charts, and have the results easy to reference at later dates. A production grade project is a whole series of posts on it's own, so it can wait. Just be aware that when I discuss production grade workflows, it will look radically different.\n",
    "\n",
    " The `Gender` feature is noise and the `User ID` column is a unique identifier that's unnecessary for my purposes, so I'll drop those and just use `Age` and `EstimatedSalary` to look at various aspects of using KNN to predict `Purchased`."
   ]
  },
  {
   "cell_type": "code",
   "execution_count": null,
   "id": "38d2b631",
   "metadata": {
    "vscode": {
     "languageId": "plaintext"
    }
   },
   "outputs": [],
   "source": [
    "!pip install kagglehub"
   ]
  },
  {
   "cell_type": "code",
   "execution_count": null,
   "id": "e932219a",
   "metadata": {
    "vscode": {
     "languageId": "plaintext"
    }
   },
   "outputs": [],
   "source": []
  },
  {
   "cell_type": "code",
   "execution_count": null,
   "id": "507a686e",
   "metadata": {
    "vscode": {
     "languageId": "plaintext"
    }
   },
   "outputs": [],
   "source": []
  }
 ],
 "metadata": {
  "language_info": {
   "name": "python"
  }
 },
 "nbformat": 4,
 "nbformat_minor": 5
}
