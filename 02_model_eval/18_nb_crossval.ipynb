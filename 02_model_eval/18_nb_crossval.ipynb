{
 "cells": [
  {
   "cell_type": "markdown",
   "metadata": {},
   "source": [
    "# Entry 18 notebook - Cross Validation"
   ]
  },
  {
   "cell_type": "code",
   "execution_count": 23,
   "metadata": {},
   "outputs": [],
   "source": [
    "import numpy as np\n",
    "import pandas as pd\n",
    "\n",
    "from sklearn.model_selection import train_test_split\n",
    "from sklearn.preprocessing import StandardScaler\n",
    "from sklearn.linear_model import LinearRegression\n",
    "import category_encoders as ce"
   ]
  },
  {
   "cell_type": "markdown",
   "metadata": {},
   "source": [
    "### Custom functions"
   ]
  },
  {
   "cell_type": "code",
   "execution_count": 32,
   "metadata": {},
   "outputs": [],
   "source": [
    "def split_data(df, target, train_size):\n",
    "    y = df[[target]]\n",
    "    X = df.drop(target, axis=1)\n",
    "    X_train, X_test, y_train, y_test = train_test_split(X, y, test_size=train_size, random_state=12)\n",
    "    return X_train, X_test, y_train, y_test\n",
    "\n",
    "def preprocess_data(train_df, test_df, scaler=StandardScaler(), encoder=ce.OrdinalEncoder):\n",
    "    index = train_df.index.tolist()\n",
    "    test_index = test_df.index.tolist()\n",
    "    \n",
    "    num_features = train_df.select_dtypes('number').columns.tolist()    \n",
    "    num_scale = scaler.fit_transform(train_df[num_features])\n",
    "    train_num_df = pd.DataFrame(num_scale, columns=num_features, index=index)\n",
    "    \n",
    "    test_num_scale = scaler.transform(test_df[num_features])\n",
    "    test_num_df = pd.DataFrame(test_num_scale, columns=num_features, index=test_index)\n",
    "    \n",
    "    cat_features = train_df.select_dtypes('object').columns.tolist()\n",
    "    cat_encoder = encoder(cols=cat_features)\n",
    "    cat_encode = cat_encoder.fit_transform(train_df[cat_features])\n",
    "    train_cat_df = pd.DataFrame(cat_encode, columns=cat_features, index=index)\n",
    "    \n",
    "    test_cat_encode = cat_encoder.transform(test_df[cat_features])\n",
    "    test_cat_df = pd.DataFrame(test_cat_encode, columns=cat_features, index=test_index)\n",
    "    \n",
    "    train_df = pd.concat([train_num_df, train_cat_df], axis=1).fillna(-1)\n",
    "    test_df = pd.concat([test_num_df, test_cat_df], axis=1).fillna(-1)\n",
    "    \n",
    "    return train_df, test_df"
   ]
  },
  {
   "cell_type": "code",
   "execution_count": null,
   "metadata": {},
   "outputs": [],
   "source": [
    "def train_and_predict(X_train, y_train, X_test, model=LinearRegression()):\n",
    "    model.fit(X_train, y_train)\n",
    "    preds = model.predict(X_test)\n",
    "    return model, preds"
   ]
  },
  {
   "cell_type": "code",
   "execution_count": 30,
   "metadata": {},
   "outputs": [],
   "source": [
    "df_raw = pd.read_csv('http://archive.ics.uci.edu/ml/machine-learning-databases/auto-mpg/auto-mpg.data-original', header=None, sep='\\t')"
   ]
  },
  {
   "cell_type": "code",
   "execution_count": 31,
   "metadata": {},
   "outputs": [
    {
     "data": {
      "text/html": [
       "<div>\n",
       "<style scoped>\n",
       "    .dataframe tbody tr th:only-of-type {\n",
       "        vertical-align: middle;\n",
       "    }\n",
       "\n",
       "    .dataframe tbody tr th {\n",
       "        vertical-align: top;\n",
       "    }\n",
       "\n",
       "    .dataframe thead th {\n",
       "        text-align: right;\n",
       "    }\n",
       "</style>\n",
       "<table border=\"1\" class=\"dataframe\">\n",
       "  <thead>\n",
       "    <tr style=\"text-align: right;\">\n",
       "      <th></th>\n",
       "      <th>mpg</th>\n",
       "      <th>cylinders</th>\n",
       "      <th>displacement</th>\n",
       "      <th>horsepower</th>\n",
       "      <th>weight</th>\n",
       "      <th>acceleration</th>\n",
       "      <th>model_yr</th>\n",
       "      <th>origin</th>\n",
       "    </tr>\n",
       "  </thead>\n",
       "  <tbody>\n",
       "    <tr>\n",
       "      <th>0</th>\n",
       "      <td>18.0</td>\n",
       "      <td>8.</td>\n",
       "      <td>307.0</td>\n",
       "      <td>130.0</td>\n",
       "      <td>3504.</td>\n",
       "      <td>12.0</td>\n",
       "      <td>70.</td>\n",
       "      <td>1.</td>\n",
       "    </tr>\n",
       "    <tr>\n",
       "      <th>1</th>\n",
       "      <td>15.0</td>\n",
       "      <td>8.</td>\n",
       "      <td>350.0</td>\n",
       "      <td>165.0</td>\n",
       "      <td>3693.</td>\n",
       "      <td>11.5</td>\n",
       "      <td>70.</td>\n",
       "      <td>1.</td>\n",
       "    </tr>\n",
       "    <tr>\n",
       "      <th>2</th>\n",
       "      <td>18.0</td>\n",
       "      <td>8.</td>\n",
       "      <td>318.0</td>\n",
       "      <td>150.0</td>\n",
       "      <td>3436.</td>\n",
       "      <td>11.0</td>\n",
       "      <td>70.</td>\n",
       "      <td>1.</td>\n",
       "    </tr>\n",
       "    <tr>\n",
       "      <th>3</th>\n",
       "      <td>16.0</td>\n",
       "      <td>8.</td>\n",
       "      <td>304.0</td>\n",
       "      <td>150.0</td>\n",
       "      <td>3433.</td>\n",
       "      <td>12.0</td>\n",
       "      <td>70.</td>\n",
       "      <td>1.</td>\n",
       "    </tr>\n",
       "    <tr>\n",
       "      <th>4</th>\n",
       "      <td>17.0</td>\n",
       "      <td>8.</td>\n",
       "      <td>302.0</td>\n",
       "      <td>140.0</td>\n",
       "      <td>3449.</td>\n",
       "      <td>10.5</td>\n",
       "      <td>70.</td>\n",
       "      <td>1.</td>\n",
       "    </tr>\n",
       "  </tbody>\n",
       "</table>\n",
       "</div>"
      ],
      "text/plain": [
       "    mpg cylinders displacement horsepower weight acceleration model_yr origin\n",
       "0  18.0        8.        307.0      130.0  3504.         12.0      70.     1.\n",
       "1  15.0        8.        350.0      165.0  3693.         11.5      70.     1.\n",
       "2  18.0        8.        318.0      150.0  3436.         11.0      70.     1.\n",
       "3  16.0        8.        304.0      150.0  3433.         12.0      70.     1.\n",
       "4  17.0        8.        302.0      140.0  3449.         10.5      70.     1."
      ]
     },
     "execution_count": 31,
     "metadata": {},
     "output_type": "execute_result"
    }
   ],
   "source": [
    "cols = ['mpg', 'cylinders', 'displacement', 'horsepower', 'weight', 'acceleration', 'model_yr', 'origin']\n",
    "df_raw = df_raw[0].str.split(expand=True)\n",
    "df_raw.columns = cols\n",
    "df_raw.head()"
   ]
  },
  {
   "cell_type": "code",
   "execution_count": null,
   "metadata": {},
   "outputs": [],
   "source": []
  },
  {
   "cell_type": "code",
   "execution_count": null,
   "metadata": {},
   "outputs": [],
   "source": []
  },
  {
   "cell_type": "code",
   "execution_count": null,
   "metadata": {},
   "outputs": [],
   "source": []
  }
 ],
 "metadata": {
  "kernelspec": {
   "display_name": "Python 3",
   "language": "python",
   "name": "python3"
  },
  "language_info": {
   "codemirror_mode": {
    "name": "ipython",
    "version": 3
   },
   "file_extension": ".py",
   "mimetype": "text/x-python",
   "name": "python",
   "nbconvert_exporter": "python",
   "pygments_lexer": "ipython3",
   "version": "3.7.6"
  }
 },
 "nbformat": 4,
 "nbformat_minor": 4
}
