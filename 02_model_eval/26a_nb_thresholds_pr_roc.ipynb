{
 "cells": [
  {
   "cell_type": "markdown",
   "metadata": {},
   "source": [
    "# Entry 26a notebook - Setting thresholds - PR and ROC - `sklearn` Breast Cancer"
   ]
  },
  {
   "cell_type": "code",
   "execution_count": 1,
   "metadata": {},
   "outputs": [],
   "source": [
    "import numpy as np\n",
    "import pandas as pd\n",
    "import matplotlib.pyplot as plt\n",
    "import seaborn as sns\n",
    "\n",
    "from sklearn.model_selection import train_test_split, StratifiedKFold, cross_validate, cross_val_predict\n",
    "from sklearn.compose import ColumnTransformer, make_column_transformer, make_column_selector\n",
    "from sklearn.pipeline import make_pipeline\n",
    "from sklearn.preprocessing import StandardScaler\n",
    "from sklearn.impute import SimpleImputer\n",
    "from sklearn.linear_model import LogisticRegression\n",
    "\n",
    "from sklearn.metrics import precision_recall_curve, auc, average_precision_score\n",
    "from sklearn.metrics import roc_curve\n",
    "from sklearn.metrics import roc_auc_score\n",
    "\n",
    "from sklearn.datasets import load_breast_cancer, fetch_openml"
   ]
  },
  {
   "cell_type": "code",
   "execution_count": 2,
   "metadata": {},
   "outputs": [],
   "source": [
    "def plot_precision_recall_vs_threshold(precisions, recalls, thresholds):\n",
    "    plt.plot(thresholds, precisions[:-1], 'b--', label='precision')\n",
    "    plt.plot(thresholds, recalls[:-1], 'g-', label='recall')\n",
    "    plt.xlabel('Threshold')\n",
    "    plt.legend(loc='center right')\n",
    "    plt.grid()\n",
    "    plt.ylim([0, 1])\n",
    "    \n",
    "def plot_precision_vs_recall(precisions, recalls, thresholds):\n",
    "    close_default = np.argmin(np.abs(thresholds - 0.5))\n",
    "    plt.plot(precisions[close_default], recalls[close_default], 'o', markersize=10,\n",
    "            label='threshold zero', fillstyle=\"none\", c='k', mew=2)\n",
    "    plt.plot(recalls, precisions, \"b-\", linewidth=2, label='precision recall curve')\n",
    "    plt.xlabel(\"Recall\", fontsize=16)\n",
    "    plt.ylabel(\"Precision\", fontsize=16)\n",
    "    plt.axis([0, 1, 0, 1])\n",
    "    plt.legend(loc='best')\n",
    "    plt.grid(True)\n",
    "    \n",
    "def plt_roc_curve(fpr, tpr, thresholds, label='ROC curve'):\n",
    "    close_default = np.argmin(np.abs(thresholds - 0.5))\n",
    "    plt.plot(fpr[close_default], tpr[close_default], 'o', markersize=10,\n",
    "            label='default threshold 0.5', fillstyle=\"none\", c='k', mew=2)\n",
    "    plt.plot(fpr, tpr, linewidth=2, label=label)\n",
    "    plt.plot([0,1], [0,1], 'k--')\n",
    "    plt.xlabel('False Positive Rate')\n",
    "    plt.ylabel('True Positive Rate')"
   ]
  },
  {
   "cell_type": "markdown",
   "metadata": {},
   "source": [
    "## Make dataset and fit model"
   ]
  },
  {
   "cell_type": "code",
   "execution_count": 3,
   "metadata": {},
   "outputs": [],
   "source": [
    "cancer = load_breast_cancer()\n",
    "df = pd.DataFrame(cancer.data, columns=cancer.feature_names)\n",
    "target = cancer.target"
   ]
  },
  {
   "cell_type": "code",
   "execution_count": 4,
   "metadata": {},
   "outputs": [
    {
     "data": {
      "text/plain": [
       "1    357\n",
       "0    212\n",
       "Name: 0, dtype: int64"
      ]
     },
     "execution_count": 4,
     "metadata": {},
     "output_type": "execute_result"
    }
   ],
   "source": [
    "pd.DataFrame(target)[0].value_counts()"
   ]
  },
  {
   "cell_type": "code",
   "execution_count": 5,
   "metadata": {},
   "outputs": [
    {
     "data": {
      "text/plain": [
       "0.9736842105263158"
      ]
     },
     "execution_count": 5,
     "metadata": {},
     "output_type": "execute_result"
    }
   ],
   "source": [
    "X_train, X_test, y_train, y_test = train_test_split(df, target, train_size=0.8, random_state=12)\n",
    "pipe = make_pipeline(SimpleImputer(strategy='median'), StandardScaler(), LogisticRegression(solver='lbfgs'))\n",
    "pipe.fit(X_train, y_train)\n",
    "pipe.score(X_test, y_test)"
   ]
  },
  {
   "cell_type": "code",
   "execution_count": 6,
   "metadata": {},
   "outputs": [
    {
     "data": {
      "text/plain": [
       "{'fit_time': array([0.01168895, 0.01006603, 0.00869799, 0.01064515, 0.00860691,\n",
       "        0.0098772 , 0.00823402, 0.00945783, 0.00811219, 0.00725985]),\n",
       " 'score_time': array([0.00708818, 0.00537705, 0.00481319, 0.00606799, 0.00550008,\n",
       "        0.00521493, 0.00490808, 0.00489426, 0.00426006, 0.00430799]),\n",
       " 'test_precision': array([0.96774194, 0.93548387, 1.        , 0.96666667, 0.93548387,\n",
       "        1.        , 1.        , 1.        , 1.        , 0.96666667]),\n",
       " 'test_average_precision': array([0.99423915, 0.99766151, 1.        , 0.99885057, 0.99164153,\n",
       "        1.        , 1.        , 1.        , 0.99885057, 0.99515285]),\n",
       " 'test_recall': array([1.        , 1.        , 1.        , 1.        , 1.        ,\n",
       "        1.        , 0.96551724, 1.        , 0.96551724, 1.        ]),\n",
       " 'test_f1': array([0.98360656, 0.96666667, 1.        , 0.98305085, 0.96666667,\n",
       "        1.        , 0.98245614, 1.        , 0.98245614, 0.98305085]),\n",
       " 'test_neg_log_loss': array([-0.10971434, -0.1140552 , -0.01653453, -0.06429722, -0.15401753,\n",
       "        -0.04476369, -0.03764872, -0.01825954, -0.05704182, -0.08801288]),\n",
       " 'test_neg_brier_score': array([-0.03045077, -0.03312676, -0.0019983 , -0.02036739, -0.04096958,\n",
       "        -0.01004555, -0.01183062, -0.0021312 , -0.01652486, -0.02598104])}"
      ]
     },
     "execution_count": 6,
     "metadata": {},
     "output_type": "execute_result"
    }
   ],
   "source": [
    "cross_validate(pipe, X_train, y_train, cv=10, scoring=['precision', 'average_precision', 'recall',\n",
    "                                                       'f1', 'neg_log_loss', 'neg_brier_score'])"
   ]
  },
  {
   "cell_type": "markdown",
   "metadata": {},
   "source": [
    "### Precision vs Recall"
   ]
  },
  {
   "cell_type": "code",
   "execution_count": 7,
   "metadata": {},
   "outputs": [],
   "source": [
    "y_scores =  cross_val_predict(pipe, X_train, y_train, cv=10, method='predict_proba')[:,1]"
   ]
  },
  {
   "cell_type": "code",
   "execution_count": 8,
   "metadata": {},
   "outputs": [
    {
     "data": {
      "image/png": "[encoded data removed]",
      "text/plain": [
       "<Figure size 432x288 with 1 Axes>"
      ]
     },
     "metadata": {
      "needs_background": "light"
     },
     "output_type": "display_data"
    }
   ],
   "source": [
    "precisions, recalls, pr_thresholds = precision_recall_curve(y_train, y_scores)\n",
    "plot_precision_recall_vs_threshold(precisions, recalls, pr_thresholds)"
   ]
  },
  {
   "cell_type": "code",
   "execution_count": 9,
   "metadata": {},
   "outputs": [
    {
     "data": {
      "image/png": "[encoded data removed]",
      "text/plain": [
       "<Figure size 432x288 with 1 Axes>"
      ]
     },
     "metadata": {
      "needs_background": "light"
     },
     "output_type": "display_data"
    }
   ],
   "source": [
    "plot_precision_vs_recall(precisions, recalls, pr_thresholds)"
   ]
  },
  {
   "cell_type": "code",
   "execution_count": 10,
   "metadata": {},
   "outputs": [
    {
     "data": {
      "text/plain": [
       "0.9976360797093311"
      ]
     },
     "execution_count": 10,
     "metadata": {},
     "output_type": "execute_result"
    }
   ],
   "source": [
    "auc(recalls, precisions)"
   ]
  },
  {
   "cell_type": "code",
   "execution_count": 11,
   "metadata": {},
   "outputs": [
    {
     "data": {
      "text/plain": [
       "0.9976403509055043"
      ]
     },
     "execution_count": 11,
     "metadata": {},
     "output_type": "execute_result"
    }
   ],
   "source": [
    "average_precision_score(y_train, y_scores)"
   ]
  },
  {
   "cell_type": "markdown",
   "metadata": {},
   "source": [
    "### ROC Curve and ROC AUC"
   ]
  },
  {
   "cell_type": "code",
   "execution_count": 12,
   "metadata": {},
   "outputs": [
    {
     "data": {
      "image/png": "[encoded data removed]",
      "text/plain": [
       "<Figure size 432x288 with 1 Axes>"
      ]
     },
     "metadata": {
      "needs_background": "light"
     },
     "output_type": "display_data"
    }
   ],
   "source": [
    "fpr, tpr, roc_thresholds = roc_curve(y_train, y_scores)\n",
    "plt_roc_curve(fpr, tpr, roc_thresholds)"
   ]
  },
  {
   "cell_type": "code",
   "execution_count": 13,
   "metadata": {},
   "outputs": [
    {
     "data": {
      "text/plain": [
       "0.9959978208029503"
      ]
     },
     "execution_count": 13,
     "metadata": {},
     "output_type": "execute_result"
    }
   ],
   "source": [
    "roc_auc_score(y_train, y_scores)"
   ]
  },
  {
   "cell_type": "code",
   "execution_count": null,
   "metadata": {},
   "outputs": [],
   "source": []
  }
 ],
 "metadata": {
  "kernelspec": {
   "display_name": "Python 3",
   "language": "python",
   "name": "python3"
  },
  "language_info": {
   "codemirror_mode": {
    "name": "ipython",
    "version": 3
   },
   "file_extension": ".py",
   "mimetype": "text/x-python",
   "name": "python",
   "nbconvert_exporter": "python",
   "pygments_lexer": "ipython3",
   "version": "3.8.8"
  }
 },
 "nbformat": 4,
 "nbformat_minor": 4
}
