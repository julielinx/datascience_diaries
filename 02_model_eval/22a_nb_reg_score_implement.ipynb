{
 "cells": [
  {
   "cell_type": "markdown",
   "metadata": {},
   "source": [
    "# Entry 22 notebook - Continuous Targets - Implementation"
   ]
  },
  {
   "cell_type": "code",
   "execution_count": 1,
   "metadata": {},
   "outputs": [],
   "source": [
    "import numpy as np\n",
    "import pandas as pd\n",
    "\n",
    "from sklearn.model_selection import train_test_split, StratifiedKFold, cross_validate\n",
    "from sklearn.preprocessing import StandardScaler\n",
    "from sklearn.impute import SimpleImputer\n",
    "from sklearn.linear_model import LinearRegression\n",
    "import category_encoders as ce\n",
    "\n",
    "from sklearn.pipeline import make_pipeline"
   ]
  },
  {
   "cell_type": "markdown",
   "metadata": {},
   "source": [
    "### Custom functions"
   ]
  },
  {
   "cell_type": "code",
   "execution_count": 2,
   "metadata": {},
   "outputs": [],
   "source": [
    "def split_data(df, target, train_size):\n",
    "    y = df[[target]]\n",
    "    X = df.drop(target, axis=1)\n",
    "    X_train, X_test, y_train, y_test = train_test_split(X, y, test_size=train_size, random_state=12)\n",
    "    return X_train, X_test, y_train, y_test"
   ]
  },
  {
   "cell_type": "code",
   "execution_count": 3,
   "metadata": {},
   "outputs": [
    {
     "data": {
      "text/html": [
       "<div>\n",
       "<style scoped>\n",
       "    .dataframe tbody tr th:only-of-type {\n",
       "        vertical-align: middle;\n",
       "    }\n",
       "\n",
       "    .dataframe tbody tr th {\n",
       "        vertical-align: top;\n",
       "    }\n",
       "\n",
       "    .dataframe thead th {\n",
       "        text-align: right;\n",
       "    }\n",
       "</style>\n",
       "<table border=\"1\" class=\"dataframe\">\n",
       "  <thead>\n",
       "    <tr style=\"text-align: right;\">\n",
       "      <th></th>\n",
       "      <th>mpg</th>\n",
       "      <th>cylinders</th>\n",
       "      <th>displacement</th>\n",
       "      <th>horsepower</th>\n",
       "      <th>weight</th>\n",
       "      <th>acceleration</th>\n",
       "      <th>model_yr</th>\n",
       "      <th>origin</th>\n",
       "    </tr>\n",
       "  </thead>\n",
       "  <tbody>\n",
       "    <tr>\n",
       "      <th>0</th>\n",
       "      <td>18.0</td>\n",
       "      <td>8.0</td>\n",
       "      <td>307.0</td>\n",
       "      <td>130.0</td>\n",
       "      <td>3504.0</td>\n",
       "      <td>12.0</td>\n",
       "      <td>70.0</td>\n",
       "      <td>1.0</td>\n",
       "    </tr>\n",
       "    <tr>\n",
       "      <th>1</th>\n",
       "      <td>15.0</td>\n",
       "      <td>8.0</td>\n",
       "      <td>350.0</td>\n",
       "      <td>165.0</td>\n",
       "      <td>3693.0</td>\n",
       "      <td>11.5</td>\n",
       "      <td>70.0</td>\n",
       "      <td>1.0</td>\n",
       "    </tr>\n",
       "    <tr>\n",
       "      <th>2</th>\n",
       "      <td>18.0</td>\n",
       "      <td>8.0</td>\n",
       "      <td>318.0</td>\n",
       "      <td>150.0</td>\n",
       "      <td>3436.0</td>\n",
       "      <td>11.0</td>\n",
       "      <td>70.0</td>\n",
       "      <td>1.0</td>\n",
       "    </tr>\n",
       "    <tr>\n",
       "      <th>3</th>\n",
       "      <td>16.0</td>\n",
       "      <td>8.0</td>\n",
       "      <td>304.0</td>\n",
       "      <td>150.0</td>\n",
       "      <td>3433.0</td>\n",
       "      <td>12.0</td>\n",
       "      <td>70.0</td>\n",
       "      <td>1.0</td>\n",
       "    </tr>\n",
       "    <tr>\n",
       "      <th>4</th>\n",
       "      <td>17.0</td>\n",
       "      <td>8.0</td>\n",
       "      <td>302.0</td>\n",
       "      <td>140.0</td>\n",
       "      <td>3449.0</td>\n",
       "      <td>10.5</td>\n",
       "      <td>70.0</td>\n",
       "      <td>1.0</td>\n",
       "    </tr>\n",
       "  </tbody>\n",
       "</table>\n",
       "</div>"
      ],
      "text/plain": [
       "    mpg  cylinders  displacement  horsepower  weight  acceleration  model_yr  \\\n",
       "0  18.0        8.0         307.0       130.0  3504.0          12.0      70.0   \n",
       "1  15.0        8.0         350.0       165.0  3693.0          11.5      70.0   \n",
       "2  18.0        8.0         318.0       150.0  3436.0          11.0      70.0   \n",
       "3  16.0        8.0         304.0       150.0  3433.0          12.0      70.0   \n",
       "4  17.0        8.0         302.0       140.0  3449.0          10.5      70.0   \n",
       "\n",
       "   origin  \n",
       "0     1.0  \n",
       "1     1.0  \n",
       "2     1.0  \n",
       "3     1.0  \n",
       "4     1.0  "
      ]
     },
     "execution_count": 3,
     "metadata": {},
     "output_type": "execute_result"
    }
   ],
   "source": [
    "df_raw = pd.read_csv('http://archive.ics.uci.edu/ml/machine-learning-databases/auto-mpg/auto-mpg.data-original', header=None, sep='\\t')\n",
    "cols = ['mpg', 'cylinders', 'displacement', 'horsepower', 'weight', 'acceleration', 'model_yr', 'origin']\n",
    "df = df_raw[0].str.split(expand=True)\n",
    "df.columns = cols\n",
    "df[df == 'NA'] = np.nan\n",
    "df = df.astype('float32')\n",
    "df.drop(df[df['mpg'].isna()].index, inplace=True)\n",
    "df.head()"
   ]
  },
  {
   "cell_type": "markdown",
   "metadata": {},
   "source": [
    "## Standard pipeline with make_pipeline"
   ]
  },
  {
   "cell_type": "code",
   "execution_count": 4,
   "metadata": {},
   "outputs": [
    {
     "data": {
      "text/plain": [
       "0.8055297594035651"
      ]
     },
     "execution_count": 4,
     "metadata": {},
     "output_type": "execute_result"
    }
   ],
   "source": [
    "X_train, X_test, y_train, y_test = split_data(df, 'mpg', 0.8)\n",
    "pipe = make_pipeline(SimpleImputer(strategy='median'), StandardScaler(), LinearRegression())\n",
    "pipe.fit(X_train, y_train)\n",
    "pipe.score(X_test, y_test)"
   ]
  },
  {
   "cell_type": "code",
   "execution_count": 6,
   "metadata": {},
   "outputs": [
    {
     "data": {
      "text/plain": [
       "{'fit_time': array([0.00582886, 0.00529385, 0.00452709, 0.00340986, 0.00476122,\n",
       "        0.00394201, 0.003304  , 0.00356293, 0.00309896, 0.00314689]),\n",
       " 'score_time': array([0.00745916, 0.0082891 , 0.01005173, 0.0075829 , 0.00711393,\n",
       "        0.00576091, 0.00775385, 0.0056231 , 0.00575399, 0.00568509]),\n",
       " 'test_explained_variance': array([0.67682898, 0.80524778, 0.62092972, 0.68306053, 0.94139659,\n",
       "        0.77826154, 0.84657204, 0.88591731, 0.62975121, 0.7808243 ]),\n",
       " 'test_r2': array([0.65232904, 0.75891477, 0.61082248, 0.56507696, 0.94096155,\n",
       "        0.77456762, 0.76509546, 0.87235651, 0.55538031, 0.57407846]),\n",
       " 'test_max_error': array([-11.5754776 ,  -5.6730423 , -11.1805687 , -10.35218048,\n",
       "         -3.73846054,  -4.83219719,  -4.25672913,  -4.0054493 ,\n",
       "         -6.67257881,  -7.6016655 ]),\n",
       " 'test_neg_median_absolute_error': array([-3.02493382, -1.63546515, -2.33081245, -3.63427258, -1.48281193,\n",
       "        -3.59795904, -2.82716656, -2.13691902, -2.70675659, -3.7892971 ]),\n",
       " 'test_neg_mean_absolute_error': array([-4.00956726, -2.2819891 , -3.56601095, -4.63650703, -1.65059686,\n",
       "        -3.02089119, -2.71737313, -2.0310688 , -3.25053811, -3.4192853 ]),\n",
       " 'test_neg_mean_squared_error': array([-28.33860779,  -8.16676235, -22.46113968, -29.30185318,\n",
       "         -4.7254281 , -11.77715111,  -8.13088989,  -6.01198864,\n",
       "        -15.30207253, -16.48316383]),\n",
       " 'test_neg_mean_squared_log_error': array([-0.03569403, -0.02091546, -0.02486805, -0.02656801, -0.01172172,\n",
       "        -0.01862159, -0.0201807 , -0.02912714, -0.02156647, -0.03527318]),\n",
       " 'test_neg_root_mean_squared_error': array([-5.32340193, -2.85775471, -4.73931837, -5.41311884, -2.173805  ,\n",
       "        -3.43178535, -2.85147142, -2.45193577, -3.91178632, -4.05994606]),\n",
       " 'test_neg_mean_poisson_deviance': array([-1.0078578 , -0.42772198, -0.75164151, -0.91575336, -0.23310304,\n",
       "        -0.46932626, -0.40558529, -0.44930029, -0.55436349, -0.75489044]),\n",
       " 'test_neg_mean_gamma_deviance': array([-0.04057765, -0.02552068, -0.02906188, -0.02962592, -0.01299047,\n",
       "        -0.0202857 , -0.02134708, -0.03838959, -0.0236142 , -0.03516803])}"
      ]
     },
     "execution_count": 6,
     "metadata": {},
     "output_type": "execute_result"
    }
   ],
   "source": [
    "cross_validate(pipe, X_train, y_train, cv=10, scoring=['explained_variance', 'r2', 'max_error',\n",
    "                                                      'neg_median_absolute_error', 'neg_mean_absolute_error',\n",
    "                                                      'neg_mean_squared_error', 'neg_mean_squared_log_error',\n",
    "                                                      'neg_root_mean_squared_error', 'neg_mean_poisson_deviance',\n",
    "                                                      'neg_mean_gamma_deviance'])"
   ]
  },
  {
   "cell_type": "code",
   "execution_count": null,
   "metadata": {},
   "outputs": [],
   "source": []
  },
  {
   "cell_type": "code",
   "execution_count": null,
   "metadata": {},
   "outputs": [],
   "source": []
  }
 ],
 "metadata": {
  "kernelspec": {
   "display_name": "Python 3",
   "language": "python",
   "name": "python3"
  },
  "language_info": {
   "codemirror_mode": {
    "name": "ipython",
    "version": 3
   },
   "file_extension": ".py",
   "mimetype": "text/x-python",
   "name": "python",
   "nbconvert_exporter": "python",
   "pygments_lexer": "ipython3",
   "version": "3.7.6"
  }
 },
 "nbformat": 4,
 "nbformat_minor": 4
}
