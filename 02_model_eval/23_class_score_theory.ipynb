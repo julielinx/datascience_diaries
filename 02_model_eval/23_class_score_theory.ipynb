{
 "cells": [
  {
   "cell_type": "code",
   "execution_count": 2,
   "metadata": {},
   "outputs": [
    {
     "name": "stderr",
     "output_type": "stream",
     "text": [
      "C:\\Users\\Julie\\Anaconda3\\lib\\site-packages\\sklearn\\externals\\six.py:31: FutureWarning: The module is deprecated in version 0.21 and will be removed in version 0.23 since we've dropped support for Python 2.7. Please rely on the official version of six (https://pypi.org/project/six/).\n",
      "  \"(https://pypi.org/project/six/).\", FutureWarning)\n",
      "C:\\Users\\Julie\\Anaconda3\\lib\\site-packages\\sklearn\\externals\\joblib\\__init__.py:15: FutureWarning: sklearn.externals.joblib is deprecated in 0.21 and will be removed in 0.23. Please import this functionality directly from joblib, which can be installed with: pip install joblib. If this warning is raised when loading pickled models, you may need to re-serialize those models with scikit-learn 0.21+.\n",
      "  warnings.warn(msg, category=FutureWarning)\n"
     ]
    }
   ],
   "source": [
    "import mglearn"
   ]
  },
  {
   "cell_type": "markdown",
   "metadata": {},
   "source": [
    "# Entry 23 - Scoring Classification Models - Theory"
   ]
  },
  {
   "cell_type": "markdown",
   "metadata": {},
   "source": [
    "## The Problem\n",
    "\n",
    "Classification models present a different challenge than regression models do. With regression, a number is returned. That number can then be compared to the observed numerical value and math do on the two. When the prediction is a class however, math can't be done on the direct results (if the classes are green, red, and purple, what's green - red?). This results in a completely different set of metrics. These metrics revolve around the confusion matrix."
   ]
  },
  {
   "cell_type": "markdown",
   "metadata": {},
   "source": [
    "## Concepts\n",
    "\n",
    "The confusion matrix counts how many predictions are correct or incorrect and lumps that information into four categories:\n",
    "\n",
    "- **True Positive**: the prediction was positive and the observation was positive\n",
    "- **True Negative**: the prediction was negative and the observation was negative\n",
    "- **False Positive**: the prediction was positive and the observation was negative\n",
    "- **False Negative**: the prediction was negative and the observation was positive\n",
    "\n",
    "*[Introduction to Machine Learning with Pythong](https://www.amazon.com/Introduction-Machine-Learning-Python-Scientists/dp/1449369413)* provides the following diagram:"
   ]
  },
  {
   "cell_type": "code",
   "execution_count": 4,
   "metadata": {},
   "outputs": [
    {
     "data": {
      "image/png": "[encoded data removed]",
      "text/plain": [
       "<Figure size 432x288 with 1 Axes>"
      ]
     },
     "metadata": {
      "needs_background": "light"
     },
     "output_type": "display_data"
    }
   ],
   "source": [
    "mglearn.plots.plot_binary_confusion_matrix()"
   ]
  },
  {
   "cell_type": "markdown",
   "metadata": {},
   "source": [
    "This can be thought of as:\n",
    "\n",
    "- The prediction was correct = True Positive and True Negative (main diagonal)\n",
    "- The prediction was incorrect = False Positive and False Negative (opposite diagonal)\n",
    "\n",
    "The incorrect predictions are labelled differently.\n",
    "\n",
    "- **Type I error**: \n",
    "- **Type II error**: \n",
    "\n",
    "The matrix and pretty much every metric that can be calculated from it can be found on the [Confusion Matrix](https://en.wikipedia.org/wiki/Confusion_matrix) Wikipedia page:\n",
    "\n",
    "![Confusion Matrix](https://raw.githubusercontent.com/julielinx/datascience_diaries/master/img/metric_explanatory_chart.PNG)"
   ]
  },
  {
   "cell_type": "markdown",
   "metadata": {},
   "source": [
    "## The Options\n",
    "\n",
    "### Accuracy\n",
    "\n",
    "$accuracy = \\frac{TP+TN}{TP+TN+FP+FN}$\n",
    "\n",
    "#### No information rate\n",
    "\n",
    "This is the accuracy that can be achieved without a model. The most straight forward calculation is the reciprocal of the number of classes (C):\n",
    "\n",
    "*no information rate* $= \\frac{1}{C}$\n",
    "\n",
    "This doesn't account for the frequency of the classes however. Let's take a six sided die as an example. The straight forward calculation would be $\\frac{1}{6}$. The result is the same regardless of whether the die is fair or weighted - say rigged to roll a 4 half the time. The simple no information would still be 16.67%. To account for these types of scenarios, an alternate calculation is available:\n",
    "\n",
    "*no information rate* $= max(\\frac{c}{count(c)})$\n",
    "\n",
    "### Precision\n",
    "\n",
    "$precision = \\frac{TP}{TP+TN}$\n",
    "\n",
    "### Recall\n",
    "\n",
    "$recall = \\frac{TP}{TP+FN}$\n",
    "\n",
    "### F1-score\n",
    "\n",
    "$F1 = 2 \\times (\\frac{precision \\times recall}{precision + recall})$\n",
    "\n",
    "### Cohen's Kappa\n",
    "\n",
    "$kappa = \\frac{O - E}{1 - E}$\n",
    "\n",
    "### Sensitivity\n",
    "\n",
    "$sensitivity = $\n",
    "\n",
    "### Specifity\n",
    "\n",
    "$specifity = $\n",
    "\n",
    "### Youden's J index\n",
    "\n"
   ]
  },
  {
   "cell_type": "markdown",
   "metadata": {},
   "source": [
    "$\\sqrt{\\frac{2GM}{R}}$\n"
   ]
  },
  {
   "cell_type": "markdown",
   "metadata": {},
   "source": [
    "## The Proposed Solution"
   ]
  },
  {
   "cell_type": "markdown",
   "metadata": {},
   "source": [
    "## The Fail"
   ]
  },
  {
   "cell_type": "markdown",
   "metadata": {},
   "source": [
    "## Up Next"
   ]
  },
  {
   "cell_type": "markdown",
   "metadata": {},
   "source": [
    "### Resources"
   ]
  },
  {
   "cell_type": "markdown",
   "metadata": {},
   "source": [
    "#### Classification\n",
    "\n",
    "- **accuracy**: \n",
    "- **balanced_accuracy**: \n",
    "- **roc_auc**: \n",
    "- **roc_auc_ovr**: \n",
    "- **roc_auc_ovo**: \n",
    "- **roc_auc_ovr_weighted**: \n",
    "- **roc_auc_ovo_weighted**: \n",
    "- **neg_log_loss**: \n",
    "- **neg_brier_score**: \n",
    "- **precision**: \n",
    "- **average_precision**: \n",
    "- **precision_macro**: \n",
    "- **precision_micro**: \n",
    "- **precision_samples**: \n",
    "- **precision_weighted**: \n",
    "- **recall**: \n",
    "- **recall_macro**: \n",
    "- **recall_micro**: \n",
    "- **recall_samples**: \n",
    "- **recall_weighted**: \n",
    "- **f1**: \n",
    "- **f1_macro**: \n",
    "- **f1_micro**: \n",
    "- **f1_samples**: \n",
    "- **f1_weighted**: \n",
    "- **jaccard**: \n",
    "- **jaccard_macro**: \n",
    "- **jaccard_micro**: \n",
    "- **jaccard_samples**: \n",
    "- **jaccard_weighted**: \n",
    " \n",
    "##### Multiclass Classification\n",
    "- **accuracy**:\n",
    "- "
   ]
  },
  {
   "cell_type": "markdown",
   "metadata": {},
   "source": [
    "#### Clustering\n",
    "\n",
    "- adjusted_rand_score\n",
    "- homogeneity_score\n",
    "- completeness_score\n",
    "- v_measure_score\n",
    "- mutual_info_score\n",
    "- adjusted_mutual_info_score\n",
    "- normalized_mutual_info_score\n",
    "- fowlkes_mallows_score"
   ]
  },
  {
   "cell_type": "code",
   "execution_count": null,
   "metadata": {},
   "outputs": [],
   "source": []
  }
 ],
 "metadata": {
  "kernelspec": {
   "display_name": "Python 3",
   "language": "python",
   "name": "python3"
  },
  "language_info": {
   "codemirror_mode": {
    "name": "ipython",
    "version": 3
   },
   "file_extension": ".py",
   "mimetype": "text/x-python",
   "name": "python",
   "nbconvert_exporter": "python",
   "pygments_lexer": "ipython3",
   "version": "3.7.6"
  }
 },
 "nbformat": 4,
 "nbformat_minor": 4
}
