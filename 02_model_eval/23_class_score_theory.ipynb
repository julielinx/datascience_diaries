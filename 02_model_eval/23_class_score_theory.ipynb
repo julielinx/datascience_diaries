{
 "cells": [
  {
   "cell_type": "markdown",
   "metadata": {},
   "source": [
    "# Entry 23 - Scoring Classification Models - Theory"
   ]
  },
  {
   "cell_type": "markdown",
   "metadata": {},
   "source": [
    "## The Problem"
   ]
  },
  {
   "cell_type": "markdown",
   "metadata": {},
   "source": [
    "## The Options"
   ]
  },
  {
   "cell_type": "markdown",
   "metadata": {},
   "source": [
    "## The Proposed Solution"
   ]
  },
  {
   "cell_type": "markdown",
   "metadata": {},
   "source": [
    "## The Fail"
   ]
  },
  {
   "cell_type": "markdown",
   "metadata": {},
   "source": [
    "## Up Next"
   ]
  },
  {
   "cell_type": "markdown",
   "metadata": {},
   "source": [
    "### Resources"
   ]
  },
  {
   "cell_type": "markdown",
   "metadata": {},
   "source": [
    "#### Classification\n",
    "\n",
    "- **accuracy**: \n",
    "- **balanced_accuracy**: \n",
    "- **roc_auc**: \n",
    "- **roc_auc_ovr**: \n",
    "- **roc_auc_ovo**: \n",
    "- **roc_auc_ovr_weighted**: \n",
    "- **roc_auc_ovo_weighted**: \n",
    "- **neg_log_loss**: \n",
    "- **neg_brier_score**: \n",
    "- **precision**: \n",
    "- **average_precision**: \n",
    "- **precision_macro**: \n",
    "- **precision_micro**: \n",
    "- **precision_samples**: \n",
    "- **precision_weighted**: \n",
    "- **recall**: \n",
    "- **recall_macro**: \n",
    "- **recall_micro**: \n",
    "- **recall_samples**: \n",
    "- **recall_weighted**: \n",
    "- **f1**: \n",
    "- **f1_macro**: \n",
    "- **f1_micro**: \n",
    "- **f1_samples**: \n",
    "- **f1_weighted**: \n",
    "- **jaccard**: \n",
    "- **jaccard_macro**: \n",
    "- **jaccard_micro**: \n",
    "- **jaccard_samples**: \n",
    "- **jaccard_weighted**: \n",
    " \n",
    "##### Multiclass Classification\n",
    "- **accuracy**:\n",
    "- "
   ]
  },
  {
   "cell_type": "markdown",
   "metadata": {},
   "source": [
    "#### Clustering\n",
    "\n",
    "- adjusted_rand_score\n",
    "- homogeneity_score\n",
    "- completeness_score\n",
    "- v_measure_score\n",
    "- mutual_info_score\n",
    "- adjusted_mutual_info_score\n",
    "- normalized_mutual_info_score\n",
    "- fowlkes_mallows_score"
   ]
  },
  {
   "cell_type": "code",
   "execution_count": null,
   "metadata": {},
   "outputs": [],
   "source": []
  }
 ],
 "metadata": {
  "kernelspec": {
   "display_name": "Python 3",
   "language": "python",
   "name": "python3"
  },
  "language_info": {
   "codemirror_mode": {
    "name": "ipython",
    "version": 3
   },
   "file_extension": ".py",
   "mimetype": "text/x-python",
   "name": "python",
   "nbconvert_exporter": "python",
   "pygments_lexer": "ipython3",
   "version": "3.7.6"
  }
 },
 "nbformat": 4,
 "nbformat_minor": 4
}
