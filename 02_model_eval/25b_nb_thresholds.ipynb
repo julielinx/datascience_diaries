{
 "cells": [
  {
   "cell_type": "markdown",
   "metadata": {},
   "source": [
    "# Entry 25 notebook - Setting thresholds - openml.org Breast Cancer"
   ]
  },
  {
   "cell_type": "code",
   "execution_count": 27,
   "metadata": {},
   "outputs": [],
   "source": [
    "import numpy as np\n",
    "import pandas as pd\n",
    "import matplotlib.pyplot as plt\n",
    "import seaborn as sns\n",
    "\n",
    "from sklearn.model_selection import train_test_split, StratifiedKFold, cross_validate, cross_val_predict\n",
    "from sklearn.compose import ColumnTransformer, make_column_transformer, make_column_selector\n",
    "from sklearn.pipeline import make_pipeline\n",
    "from sklearn.preprocessing import StandardScaler\n",
    "from sklearn.impute import SimpleImputer\n",
    "from sklearn.linear_model import SGDClassifier\n",
    "\n",
    "from sklearn.metrics import precision_recall_curve\n",
    "from sklearn.metrics import roc_curve\n",
    "from sklearn.metrics import roc_auc_score\n",
    "\n",
    "from sklearn.datasets import load_digits, fetch_openml"
   ]
  },
  {
   "cell_type": "code",
   "execution_count": 28,
   "metadata": {},
   "outputs": [],
   "source": [
    "def plot_precision_recall_vs_threshold(precisions, recalls, thresholds):\n",
    "    plt.plot(thresholds, precisions[:-1], 'b--', label='precision')\n",
    "    plt.plot(thresholds, recalls[:-1], 'g-', label='recall')\n",
    "    plt.xlabel('Threshold')\n",
    "    plt.legend(loc='center right')\n",
    "    plt.grid()\n",
    "    plt.ylim([0, 1])\n",
    "    \n",
    "def plot_precision_vs_recall(precisions, recalls, thresholds):\n",
    "    close_zero = np.argmin(np.abs(thresholds))\n",
    "    plt.plot(precisions[close_zero], recalls[close_zero], 'o', markersize=10,\n",
    "            label='threshold zero', fillstyle=\"none\", c='k', mew=2)\n",
    "    plt.plot(recalls, precisions, \"b-\", linewidth=2, label='precision recall curve')\n",
    "    plt.xlabel(\"Recall\", fontsize=16)\n",
    "    plt.ylabel(\"Precision\", fontsize=16)\n",
    "    plt.axis([0, 1, 0, 1])\n",
    "    plt.legend(loc='best')\n",
    "    plt.grid(True)\n",
    "    \n",
    "def plt_roc_curve(fpr, tpr, thresholds, label='ROC curve'):\n",
    "    close_default = np.argmin(np.abs(thresholds))\n",
    "    plt.plot(fpr[close_default], tpr[close_default], 'o', markersize=10,\n",
    "            label='default threshold 0.5', fillstyle=\"none\", c='k', mew=2)\n",
    "    plt.plot(fpr, tpr, linewidth=2, label=label)\n",
    "    plt.plot([0,1], [0,1], 'k--')\n",
    "    plt.xlabel('False Positive Rate')\n",
    "    plt.ylabel('True Positive Rate')"
   ]
  },
  {
   "cell_type": "markdown",
   "metadata": {},
   "source": [
    "## Make dataset and fit model"
   ]
  },
  {
   "cell_type": "code",
   "execution_count": 13,
   "metadata": {},
   "outputs": [],
   "source": [
    "cancer = fetch_openml('breast-w',as_frame=True)\n",
    "df = cancer.data\n",
    "target = cancer.target.astype('category').cat.codes"
   ]
  },
  {
   "cell_type": "code",
   "execution_count": 24,
   "metadata": {},
   "outputs": [
    {
     "data": {
      "text/plain": [
       "0    458\n",
       "1    241\n",
       "dtype: int64"
      ]
     },
     "execution_count": 24,
     "metadata": {},
     "output_type": "execute_result"
    }
   ],
   "source": [
    "target.value_counts()"
   ]
  },
  {
   "cell_type": "code",
   "execution_count": 15,
   "metadata": {},
   "outputs": [
    {
     "data": {
      "text/plain": [
       "0.9785714285714285"
      ]
     },
     "execution_count": 15,
     "metadata": {},
     "output_type": "execute_result"
    }
   ],
   "source": [
    "X_train, X_test, y_train, y_test = train_test_split(df, target, train_size=0.8, random_state=12)\n",
    "pipe = make_pipeline(SimpleImputer(strategy='median'), StandardScaler(), LogisticRegression(solver='lbfgs'))\n",
    "pipe.fit(X_train, y_train)\n",
    "pipe.score(X_test, y_test)"
   ]
  },
  {
   "cell_type": "code",
   "execution_count": 16,
   "metadata": {},
   "outputs": [
    {
     "data": {
      "text/plain": [
       "{'fit_time': array([0.01043391, 0.00863624, 0.00693893, 0.00644994, 0.0065043 ,\n",
       "        0.00683475, 0.00624895, 0.00613308, 0.00602412, 0.00600767]),\n",
       " 'score_time': array([0.01128197, 0.00937891, 0.00781012, 0.0067668 , 0.00733185,\n",
       "        0.00756693, 0.00948882, 0.00729394, 0.00578809, 0.00695395]),\n",
       " 'test_precision': array([0.95      , 0.95      , 0.94736842, 1.        , 0.9       ,\n",
       "        0.9375    , 0.88888889, 0.95      , 1.        , 0.95      ]),\n",
       " 'test_average_precision': array([0.99459834, 1.        , 0.98290796, 1.        , 0.96242055,\n",
       "        0.97397216, 0.98418414, 0.99459834, 1.        , 0.98528891]),\n",
       " 'test_recall': array([1.        , 1.        , 0.94736842, 0.94736842, 0.94736842,\n",
       "        0.78947368, 0.84210526, 1.        , 1.        , 1.        ]),\n",
       " 'test_f1': array([0.97435897, 0.97435897, 0.94736842, 0.97297297, 0.92307692,\n",
       "        0.85714286, 0.86486486, 0.97435897, 1.        , 0.97435897]),\n",
       " 'test_neg_log_loss': array([-0.0701872 , -0.04552579, -0.14721249, -0.04527467, -0.17089009,\n",
       "        -0.18120344, -0.13302358, -0.05612277, -0.03648022, -0.11007572]),\n",
       " 'test_neg_brier_score': array([-0.0185686 , -0.00915899, -0.03458743, -0.01146265, -0.03958751,\n",
       "        -0.05668271, -0.04926725, -0.01533136, -0.00461291, -0.03201679])}"
      ]
     },
     "execution_count": 16,
     "metadata": {},
     "output_type": "execute_result"
    }
   ],
   "source": [
    "cross_validate(pipe, X_train, y_train, cv=10, scoring=['precision', 'average_precision', 'recall',\n",
    "                                                       'f1', 'neg_log_loss', 'neg_brier_score'])"
   ]
  },
  {
   "cell_type": "markdown",
   "metadata": {},
   "source": [
    "### Precision vs Recall"
   ]
  },
  {
   "cell_type": "code",
   "execution_count": 17,
   "metadata": {},
   "outputs": [],
   "source": [
    "y_scores =  cross_val_predict(pipe, X_train, y_train, cv=10, method='decision_function')"
   ]
  },
  {
   "cell_type": "code",
   "execution_count": 31,
   "metadata": {},
   "outputs": [
    {
     "data": {
      "image/png": "[encoded data removed]",
      "text/plain": [
       "<Figure size 432x288 with 1 Axes>"
      ]
     },
     "metadata": {
      "needs_background": "light"
     },
     "output_type": "display_data"
    }
   ],
   "source": [
    "precisions, recalls, pr_thresholds = precision_recall_curve(y_train, y_scores)\n",
    "plot_precision_recall_vs_threshold(precisions, recalls, pr_thresholds)"
   ]
  },
  {
   "cell_type": "code",
   "execution_count": 29,
   "metadata": {},
   "outputs": [
    {
     "data": {
      "image/png": "[encoded data removed]",
      "text/plain": [
       "<Figure size 432x288 with 1 Axes>"
      ]
     },
     "metadata": {
      "needs_background": "light"
     },
     "output_type": "display_data"
    }
   ],
   "source": [
    "plot_precision_vs_recall(precisions, recalls, pr_thresholds)"
   ]
  },
  {
   "cell_type": "markdown",
   "metadata": {},
   "source": [
    "### ROC Curve and ROC AUC"
   ]
  },
  {
   "cell_type": "code",
   "execution_count": 30,
   "metadata": {},
   "outputs": [
    {
     "data": {
      "image/png": "[encoded data removed]",
      "text/plain": [
       "<Figure size 432x288 with 1 Axes>"
      ]
     },
     "metadata": {
      "needs_background": "light"
     },
     "output_type": "display_data"
    }
   ],
   "source": [
    "fpr, tpr, roc_thresholds = roc_curve(y_train, y_scores)\n",
    "plt_roc_curve(fpr, tpr, roc_thresholds)"
   ]
  },
  {
   "cell_type": "code",
   "execution_count": 23,
   "metadata": {},
   "outputs": [
    {
     "data": {
      "text/plain": [
       "0.9934531450577664"
      ]
     },
     "execution_count": 23,
     "metadata": {},
     "output_type": "execute_result"
    }
   ],
   "source": [
    "roc_auc_score(y_train, y_scores)"
   ]
  },
  {
   "cell_type": "code",
   "execution_count": null,
   "metadata": {},
   "outputs": [],
   "source": []
  }
 ],
 "metadata": {
  "kernelspec": {
   "display_name": "Python 3",
   "language": "python",
   "name": "python3"
  },
  "language_info": {
   "codemirror_mode": {
    "name": "ipython",
    "version": 3
   },
   "file_extension": ".py",
   "mimetype": "text/x-python",
   "name": "python",
   "nbconvert_exporter": "python",
   "pygments_lexer": "ipython3",
   "version": "3.7.6"
  }
 },
 "nbformat": 4,
 "nbformat_minor": 4
}
