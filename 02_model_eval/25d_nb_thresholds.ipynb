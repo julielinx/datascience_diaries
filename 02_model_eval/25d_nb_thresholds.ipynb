{
 "cells": [
  {
   "cell_type": "markdown",
   "metadata": {},
   "source": [
    "# Entry 25 notebook - Setting thresholds - Horse colic"
   ]
  },
  {
   "cell_type": "code",
   "execution_count": 21,
   "metadata": {},
   "outputs": [],
   "source": [
    "import numpy as np\n",
    "import pandas as pd\n",
    "import matplotlib.pyplot as plt\n",
    "import seaborn as sns\n",
    "\n",
    "from sklearn.model_selection import train_test_split, StratifiedKFold, cross_validate, cross_val_predict\n",
    "from sklearn.compose import ColumnTransformer, make_column_transformer, make_column_selector\n",
    "from sklearn.pipeline import make_pipeline\n",
    "from sklearn.preprocessing import StandardScaler\n",
    "from sklearn.impute import SimpleImputer\n",
    "from sklearn.linear_model import SGDClassifier\n",
    "\n",
    "from sklearn.metrics import precision_recall_curve\n",
    "from sklearn.metrics import roc_curve\n",
    "from sklearn.metrics import roc_auc_score\n",
    "\n",
    "from sklearn.datasets import load_digits, fetch_openml"
   ]
  },
  {
   "cell_type": "code",
   "execution_count": 22,
   "metadata": {},
   "outputs": [],
   "source": [
    "def plot_precision_recall_vs_threshold(precisions, recalls, thresholds):\n",
    "    plt.plot(thresholds, precisions[:-1], 'b--', label='precision')\n",
    "    plt.plot(thresholds, recalls[:-1], 'g-', label='recall')\n",
    "    plt.xlabel('Threshold')\n",
    "    plt.legend(loc='center right')\n",
    "    plt.grid()\n",
    "    plt.ylim([0, 1])\n",
    "    \n",
    "def plot_precision_vs_recall(precisions, recalls, thresholds):\n",
    "    close_zero = np.argmin(np.abs(thresholds))\n",
    "    plt.plot(precisions[close_zero], recalls[close_zero], 'o', markersize=10,\n",
    "            label='threshold zero', fillstyle=\"none\", c='k', mew=2)\n",
    "    plt.plot(recalls, precisions, \"b-\", linewidth=2, label='precision recall curve')\n",
    "    plt.xlabel(\"Recall\", fontsize=16)\n",
    "    plt.ylabel(\"Precision\", fontsize=16)\n",
    "    plt.axis([0, 1, 0, 1])\n",
    "    plt.legend(loc='best')\n",
    "    plt.grid(True)\n",
    "    \n",
    "def plt_roc_curve(fpr, tpr, thresholds, label='ROC curve'):\n",
    "    close_default = np.argmin(np.abs(thresholds))\n",
    "    plt.plot(fpr[close_default], tpr[close_default], 'o', markersize=10,\n",
    "            label='default threshold 0.5', fillstyle=\"none\", c='k', mew=2)\n",
    "    plt.plot(fpr, tpr, linewidth=2, label=label)\n",
    "    plt.plot([0,1], [0,1], 'k--')\n",
    "    plt.xlabel('False Positive Rate')\n",
    "    plt.ylabel('True Positive Rate')"
   ]
  },
  {
   "cell_type": "markdown",
   "metadata": {},
   "source": [
    "## Make dataset and fit model"
   ]
  },
  {
   "cell_type": "code",
   "execution_count": 3,
   "metadata": {},
   "outputs": [],
   "source": [
    "target = 'outcome'\n",
    "names = ['surgery', 'age', 'hosp_num', 'rectal_temp', 'pulse', 'respiratory_rate', 'extremity_temp',\n",
    "                  'peripheral_pulse', 'mucous_membranes', 'cap_refill_time', 'pain', 'peristalsis',\n",
    "                  'ab_distension', 'nasogastric_tube', 'nasogastric_reflux', 'nasogastric_reflux_ph',\n",
    "                  'rectal_exam', 'abdomen', 'packed_cell_vol', 'total_protein', 'abdominocentesis_app',\n",
    "                  'abdomcentesis_total_protein', 'outcome', 'surgical_lesion',\n",
    "                   'lesion_type', 'lesion2', 'lesion3', 'cp_data']\n",
    "# cat_feats = ['surgery', 'age', 'mucous_membranes', 'cap_refill_time', 'pain', 'peristalsis',\n",
    "#              'ab_distension', 'nasogastric_tube', 'nasogastric_reflux', 'rectal_exam',\n",
    "#              'abdomen', 'abdominocentesis_app', 'surgical_lesion', 'lesion_type', 'cp_data']\n",
    "num_feats = ['rectal_temp', 'pulse', 'respiratory_rate', 'extremity_temp', 'peripheral_pulse',\n",
    "             'nasogastric_reflux_ph', 'packed_cell_vol', 'total_protein', 'abdomcentesis_total_protein']\n"
   ]
  },
  {
   "cell_type": "code",
   "execution_count": 4,
   "metadata": {},
   "outputs": [],
   "source": [
    "raw_df = pd.read_csv(\"http://archive.ics.uci.edu/ml/machine-learning-databases/horse-colic/horse-colic.data\",\n",
    "            names=names, sep='\\s', engine='python', na_values='?')\n",
    "raw_df.drop(['lesion2','lesion3', 'hosp_num'], axis=1, inplace=True)"
   ]
  },
  {
   "cell_type": "code",
   "execution_count": 5,
   "metadata": {},
   "outputs": [],
   "source": [
    "test_data = pd.read_csv(\"http://archive.ics.uci.edu/ml/machine-learning-databases/horse-colic/horse-colic.test\",\n",
    "            names=names, sep='\\s', engine='python', na_values='?')\n",
    "test_data.drop(['lesion2','lesion3', 'hosp_num'], axis=1, inplace=True)"
   ]
  },
  {
   "cell_type": "code",
   "execution_count": 6,
   "metadata": {},
   "outputs": [],
   "source": [
    "raw_df.dropna(subset=['outcome'], inplace=True)\n",
    "y_train = raw_df['outcome']\n",
    "X_train = raw_df[num_feats]\n",
    "y_test = test_data['outcome']\n",
    "X_test = test_data[num_feats]"
   ]
  },
  {
   "cell_type": "code",
   "execution_count": 7,
   "metadata": {},
   "outputs": [
    {
     "data": {
      "text/plain": [
       "1.0    178\n",
       "2.0     77\n",
       "3.0     44\n",
       "Name: outcome, dtype: int64"
      ]
     },
     "execution_count": 7,
     "metadata": {},
     "output_type": "execute_result"
    }
   ],
   "source": [
    "y_train.value_counts()"
   ]
  },
  {
   "cell_type": "markdown",
   "metadata": {},
   "source": [
    "I looked at the meaning of the outcome values in the documentation:\n",
    "\n",
    "- what eventually happened to the horse?\n",
    "- possible values:\n",
    "       - 1 = lived\n",
    "       - 2 = died\n",
    "       - 3 = was euthanized\n",
    "\n",
    "Based on this, it seems there are really 2 outcomes, survived yes/no. As such, I'm going to combine categories 2 and 3."
   ]
  },
  {
   "cell_type": "code",
   "execution_count": 8,
   "metadata": {},
   "outputs": [],
   "source": [
    "y_train = np.where(y_train>2, 2, y_train)\n",
    "y_test = np.where(y_test>2, 2, y_test)"
   ]
  },
  {
   "cell_type": "code",
   "execution_count": 9,
   "metadata": {},
   "outputs": [
    {
     "data": {
      "text/plain": [
       "1.0    47\n",
       "2.0    20\n",
       "Name: 0, dtype: int64"
      ]
     },
     "execution_count": 9,
     "metadata": {},
     "output_type": "execute_result"
    }
   ],
   "source": [
    "pd.DataFrame(y_test)[0].value_counts()"
   ]
  },
  {
   "cell_type": "code",
   "execution_count": 10,
   "metadata": {},
   "outputs": [
    {
     "data": {
      "text/plain": [
       "Pipeline(memory=None,\n",
       "         steps=[('simpleimputer',\n",
       "                 SimpleImputer(add_indicator=False, copy=True, fill_value=None,\n",
       "                               missing_values=nan, strategy='median',\n",
       "                               verbose=0)),\n",
       "                ('standardscaler',\n",
       "                 StandardScaler(copy=True, with_mean=True, with_std=True)),\n",
       "                ('logisticregression',\n",
       "                 LogisticRegression(C=1.0, class_weight=None, dual=False,\n",
       "                                    fit_intercept=True, intercept_scaling=1,\n",
       "                                    l1_ratio=None, max_iter=100,\n",
       "                                    multi_class='auto', n_jobs=None,\n",
       "                                    penalty='l2', random_state=None,\n",
       "                                    solver='lbfgs', tol=0.0001, verbose=0,\n",
       "                                    warm_start=False))],\n",
       "         verbose=False)"
      ]
     },
     "execution_count": 10,
     "metadata": {},
     "output_type": "execute_result"
    }
   ],
   "source": [
    "pipe = make_pipeline(SimpleImputer(strategy='median'), StandardScaler(), LogisticRegression())\n",
    "pipe.fit(X_train, y_train)"
   ]
  },
  {
   "cell_type": "code",
   "execution_count": 11,
   "metadata": {},
   "outputs": [
    {
     "data": {
      "text/plain": [
       "{'fit_time': array([0.00762606, 0.00840592, 0.00617504, 0.00469589, 0.00412416,\n",
       "        0.00403571, 0.00474286, 0.00601315, 0.00406098, 0.00400996]),\n",
       " 'score_time': array([0.00627398, 0.00584412, 0.00669312, 0.00485897, 0.00481486,\n",
       "        0.00550318, 0.00447893, 0.00527573, 0.004807  , 0.00444007]),\n",
       " 'test_precision': array([0.73684211, 0.8125    , 0.80952381, 0.66666667, 0.76190476,\n",
       "        0.69565217, 0.72727273, 0.76470588, 0.75      , 0.76470588]),\n",
       " 'test_average_precision': array([0.42289173, 0.43756319, 0.46262245, 0.46779448, 0.49951242,\n",
       "        0.46649085, 0.44512633, 0.53770185, 0.4746786 , 0.53402921]),\n",
       " 'test_recall': array([0.82352941, 0.72222222, 0.94444444, 0.88888889, 0.88888889,\n",
       "        0.88888889, 0.88888889, 0.72222222, 0.83333333, 0.76470588]),\n",
       " 'test_f1': array([0.77777778, 0.76470588, 0.87179487, 0.76190476, 0.82051282,\n",
       "        0.7804878 , 0.8       , 0.74285714, 0.78947368, 0.76470588]),\n",
       " 'test_neg_log_loss': array([-0.51478669, -0.4851278 , -0.44563539, -0.52350587, -0.56300518,\n",
       "        -0.541768  , -0.48954572, -0.72824036, -0.55647868, -0.65151005]),\n",
       " 'test_neg_brier_score': array([-0.17361602, -0.16165675, -0.14017832, -0.17938995, -0.1900882 ,\n",
       "        -0.18244111, -0.16404729, -0.24047286, -0.18838016, -0.21527377])}"
      ]
     },
     "execution_count": 11,
     "metadata": {},
     "output_type": "execute_result"
    }
   ],
   "source": [
    "cross_validate(pipe, X_train, y_train, cv=10, scoring=['precision', 'average_precision', 'recall',\n",
    "                                                       'f1', 'neg_log_loss', 'neg_brier_score'])"
   ]
  },
  {
   "cell_type": "markdown",
   "metadata": {},
   "source": [
    "### Precision vs Recall"
   ]
  },
  {
   "cell_type": "markdown",
   "metadata": {},
   "source": [
    "So basically, this really long error message means there is a `nan` value in the test data - one of the target values is missing. Why anyone would do such a thing is beyond me."
   ]
  },
  {
   "cell_type": "code",
   "execution_count": 12,
   "metadata": {},
   "outputs": [],
   "source": [
    "y_scores = cross_val_predict(pipe, X_train, y_train, cv=10, method='decision_function')"
   ]
  },
  {
   "cell_type": "code",
   "execution_count": 23,
   "metadata": {},
   "outputs": [
    {
     "data": {
      "image/png": "[encoded data removed]",
      "text/plain": [
       "<Figure size 432x288 with 1 Axes>"
      ]
     },
     "metadata": {
      "needs_background": "light"
     },
     "output_type": "display_data"
    }
   ],
   "source": [
    "precisions, recalls, pr_thresholds = precision_recall_curve(y_train, y_scores, pos_label=2)\n",
    "plot_precision_recall_vs_threshold(precisions, recalls, pr_thresholds)"
   ]
  },
  {
   "cell_type": "code",
   "execution_count": 24,
   "metadata": {},
   "outputs": [
    {
     "data": {
      "image/png": "[encoded data removed]",
      "text/plain": [
       "<Figure size 432x288 with 1 Axes>"
      ]
     },
     "metadata": {
      "needs_background": "light"
     },
     "output_type": "display_data"
    }
   ],
   "source": [
    "plot_precision_vs_recall(precisions, recalls, pr_thresholds)"
   ]
  },
  {
   "cell_type": "markdown",
   "metadata": {},
   "source": [
    "### ROC Curve and ROC AUC"
   ]
  },
  {
   "cell_type": "code",
   "execution_count": 25,
   "metadata": {},
   "outputs": [
    {
     "data": {
      "image/png": "[encoded data removed]",
      "text/plain": [
       "<Figure size 432x288 with 1 Axes>"
      ]
     },
     "metadata": {
      "needs_background": "light"
     },
     "output_type": "display_data"
    }
   ],
   "source": [
    "fpr, tpr, roc_thresholds = roc_curve(y_train, y_scores, pos_label=2)\n",
    "plt_roc_curve(fpr, tpr, roc_thresholds)"
   ]
  },
  {
   "cell_type": "code",
   "execution_count": 20,
   "metadata": {},
   "outputs": [
    {
     "data": {
      "text/plain": [
       "0.7886526139845854"
      ]
     },
     "execution_count": 20,
     "metadata": {},
     "output_type": "execute_result"
    }
   ],
   "source": [
    "roc_auc_score(y_train, y_scores)"
   ]
  },
  {
   "cell_type": "code",
   "execution_count": null,
   "metadata": {},
   "outputs": [],
   "source": []
  }
 ],
 "metadata": {
  "kernelspec": {
   "display_name": "Python 3",
   "language": "python",
   "name": "python3"
  },
  "language_info": {
   "codemirror_mode": {
    "name": "ipython",
    "version": 3
   },
   "file_extension": ".py",
   "mimetype": "text/x-python",
   "name": "python",
   "nbconvert_exporter": "python",
   "pygments_lexer": "ipython3",
   "version": "3.7.6"
  }
 },
 "nbformat": 4,
 "nbformat_minor": 4
}
