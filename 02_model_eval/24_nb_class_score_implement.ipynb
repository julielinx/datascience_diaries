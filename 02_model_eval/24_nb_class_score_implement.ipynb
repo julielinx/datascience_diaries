{
 "cells": [
  {
   "cell_type": "markdown",
   "metadata": {},
   "source": [
    "# Entry 23 notebook - Scoring Classification Models - Theory"
   ]
  },
  {
   "cell_type": "code",
   "execution_count": 1,
   "metadata": {},
   "outputs": [],
   "source": [
    "import numpy as np\n",
    "import pandas as pd\n",
    "\n",
    "from sklearn.datasets import load_breast_cancer\n",
    "from sklearn.model_selection import train_test_split, StratifiedKFold, cross_validate\n",
    "from sklearn.preprocessing import StandardScaler\n",
    "from sklearn.impute import SimpleImputer\n",
    "from sklearn.linear_model import LogisticRegression\n",
    "import category_encoders as ce\n",
    "\n",
    "from sklearn.pipeline import make_pipeline"
   ]
  },
  {
   "cell_type": "code",
   "execution_count": 2,
   "metadata": {},
   "outputs": [],
   "source": [
    "cancer = load_breast_cancer()\n",
    "df = pd.DataFrame(cancer.data, columns=cancer.feature_names)\n",
    "target = cancer.target"
   ]
  },
  {
   "cell_type": "markdown",
   "metadata": {},
   "source": [
    "## Standard pipeline with make_pipeline"
   ]
  },
  {
   "cell_type": "code",
   "execution_count": 3,
   "metadata": {},
   "outputs": [
    {
     "data": {
      "text/plain": [
       "0.9736842105263158"
      ]
     },
     "execution_count": 3,
     "metadata": {},
     "output_type": "execute_result"
    }
   ],
   "source": [
    "X_train, X_test, y_train, y_test = train_test_split(df, target, train_size=0.8, random_state=12)\n",
    "pipe = make_pipeline(SimpleImputer(strategy='median'), StandardScaler(), LogisticRegression())\n",
    "pipe.fit(X_train, y_train)\n",
    "pipe.score(X_test, y_test)"
   ]
  },
  {
   "cell_type": "markdown",
   "metadata": {},
   "source": [
    "### Using the `scoring` parameter"
   ]
  },
  {
   "cell_type": "code",
   "execution_count": 28,
   "metadata": {},
   "outputs": [
    {
     "data": {
      "text/plain": [
       "{'fit_time': array([0.01355386, 0.01152802, 0.01034188, 0.01049304, 0.0082829 ,\n",
       "        0.00822568, 0.00793123, 0.00792408, 0.00828123, 0.0075841 ]),\n",
       " 'score_time': array([0.00488806, 0.00726295, 0.00550914, 0.00441504, 0.00532603,\n",
       "        0.00426435, 0.00426698, 0.00411487, 0.00430775, 0.00481176]),\n",
       " 'test_precision': array([0.96774194, 0.93548387, 1.        , 0.96666667, 0.93548387,\n",
       "        1.        , 1.        , 1.        , 1.        , 0.96666667]),\n",
       " 'test_average_precision': array([0.99423915, 0.99766151, 1.        , 0.99885057, 0.99164153,\n",
       "        1.        , 1.        , 1.        , 0.99885057, 0.99515285]),\n",
       " 'test_recall': array([1.        , 1.        , 1.        , 1.        , 1.        ,\n",
       "        1.        , 0.96551724, 1.        , 0.96551724, 1.        ]),\n",
       " 'test_f1': array([0.98360656, 0.96666667, 1.        , 0.98305085, 0.96666667,\n",
       "        1.        , 0.98245614, 1.        , 0.98245614, 0.98305085]),\n",
       " 'test_neg_log_loss': array([-0.10971434, -0.1140552 , -0.01653453, -0.06429722, -0.15401753,\n",
       "        -0.04476369, -0.03764872, -0.01825954, -0.05704182, -0.08801288]),\n",
       " 'test_neg_brier_score': array([-0.03045077, -0.03312676, -0.0019983 , -0.02036739, -0.04096958,\n",
       "        -0.01004555, -0.01183062, -0.0021312 , -0.01652486, -0.02598104])}"
      ]
     },
     "execution_count": 28,
     "metadata": {},
     "output_type": "execute_result"
    }
   ],
   "source": [
    "cross_validate(pipe, X_train, y_train, cv=10, scoring=['precision', 'average_precision', 'recall',\n",
    "                                                       'f1', 'neg_log_loss', 'neg_brier_score'])"
   ]
  },
  {
   "cell_type": "markdown",
   "metadata": {},
   "source": [
    "Those results look suspiciously good. And the high scores are pretty consistant across all 10 cross-validation splits."
   ]
  },
  {
   "cell_type": "code",
   "execution_count": 6,
   "metadata": {},
   "outputs": [
    {
     "data": {
      "text/plain": [
       "(array([0, 1]), array([212, 357]))"
      ]
     },
     "execution_count": 6,
     "metadata": {},
     "output_type": "execute_result"
    }
   ],
   "source": [
    "np.unique(target, return_counts=True)"
   ]
  },
  {
   "cell_type": "markdown",
   "metadata": {},
   "source": [
    "However, looking at the class distribution shows a pretty even distribution, roughly a 40/60 split. Nothing like a 90/10 split, which would give 90% accuracy just by always guessing the majority class.\n",
    "\n",
    "Time to try the dummy model method explained in *[Machine Learning with Python Cookbook](https://www.amazon.com/Machine-Learning-Python-Cookbook-Preprocessing/dp/1491989386)*."
   ]
  },
  {
   "cell_type": "markdown",
   "metadata": {},
   "source": [
    "### Baseline dummy models"
   ]
  },
  {
   "cell_type": "code",
   "execution_count": 26,
   "metadata": {},
   "outputs": [],
   "source": [
    "from sklearn.dummy import DummyClassifier\n",
    "\n",
    "def make_dummy(X_train, y_train, X_test, y_test, strategy):\n",
    "    d_pipe = make_pipeline(SimpleImputer(strategy='median'), StandardScaler(), DummyClassifier(strategy=strategy, random_state=12))\n",
    "    d_pipe.fit(X_train, y_train)\n",
    "    print(strategy, 'score:', d_pipe.score(X_test, y_test), '\\n')"
   ]
  },
  {
   "cell_type": "code",
   "execution_count": 27,
   "metadata": {},
   "outputs": [
    {
     "name": "stdout",
     "output_type": "stream",
     "text": [
      "stratified score: 0.5350877192982456 \n",
      "\n",
      "most_frequent score: 0.5789473684210527 \n",
      "\n",
      "prior score: 0.5789473684210527 \n",
      "\n",
      "uniform score: 0.45614035087719296 \n",
      "\n"
     ]
    }
   ],
   "source": [
    "for strategy in ['stratified', 'most_frequent', 'prior', 'uniform']:\n",
    "    make_dummy(X_train, y_train, X_test, y_test, strategy)"
   ]
  },
  {
   "cell_type": "markdown",
   "metadata": {},
   "source": [
    "### `make_scorer` functionality"
   ]
  },
  {
   "cell_type": "code",
   "execution_count": null,
   "metadata": {},
   "outputs": [],
   "source": [
    ">>> from sklearn.metrics import fbeta_score, make_scorer\n",
    ">>> ftwo_scorer = make_scorer(fbeta_score, beta=2)\n",
    ">>> from sklearn.model_selection import GridSearchCV\n",
    ">>> from sklearn.svm import LinearSVC\n",
    ">>> grid = GridSearchCV(LinearSVC(), param_grid={'C': [1, 10]},\n",
    "...                     scoring=ftwo_scorer, cv=5)"
   ]
  },
  {
   "cell_type": "code",
   "execution_count": 29,
   "metadata": {},
   "outputs": [],
   "source": [
    "from sklearn.metrics import make_scorer, balanced_accuracy_score, cohen_kappa_score, matthews_corrcoef, fbeta_score"
   ]
  },
  {
   "cell_type": "code",
   "execution_count": 30,
   "metadata": {},
   "outputs": [],
   "source": [
    "informedness = make_scorer(balanced_accuracy_score, adjusted=True)\n",
    "kappa = make_scorer(cohen_kappa_score)\n",
    "mcc = make_scorer(matthews_corrcoef)\n",
    "fbet = make_scorer(fbeta_score, beta=0.5)"
   ]
  },
  {
   "cell_type": "code",
   "execution_count": 35,
   "metadata": {},
   "outputs": [
    {
     "data": {
      "text/plain": [
       "{'fit_time': array([0.01373601, 0.01640511, 0.01178503, 0.01210093, 0.00984502,\n",
       "        0.01096487, 0.0100081 , 0.01053119, 0.00862694, 0.00976515]),\n",
       " 'score_time': array([0.00388598, 0.00384498, 0.00424814, 0.00297809, 0.00253677,\n",
       "        0.00244927, 0.00248384, 0.00387788, 0.0025599 , 0.00285888]),\n",
       " 'test_informedness': array([0.9375    , 0.88235294, 1.        , 0.94117647, 0.88235294,\n",
       "        1.        , 0.96551724, 1.        , 0.96551724, 0.9375    ]),\n",
       " 'test_cohen_kappa': array([0.95137421, 0.9043659 , 1.        , 0.95277207, 0.9043659 ,\n",
       "        1.        , 0.95217853, 1.        , 0.95217853, 0.95081967]),\n",
       " 'test_matthews_corr': array([0.95250095, 0.9085301 , 1.        , 0.95383642, 0.9085301 ,\n",
       "        1.        , 0.95326917, 1.        , 0.95326917, 0.95197164]),\n",
       " 'test_f_beta': array([0.97402597, 0.94771242, 1.        , 0.97315436, 0.94771242,\n",
       "        1.        , 0.9929078 , 1.        , 0.9929078 , 0.97315436])}"
      ]
     },
     "execution_count": 35,
     "metadata": {},
     "output_type": "execute_result"
    }
   ],
   "source": [
    "cross_validate(pipe, X_train, y_train, cv=10, scoring={'informedness':informedness, 'cohen_kappa':kappa,\n",
    "                                                       'matthews_corr':mcc, 'f_beta':fbet})"
   ]
  },
  {
   "cell_type": "code",
   "execution_count": null,
   "metadata": {},
   "outputs": [],
   "source": []
  }
 ],
 "metadata": {
  "kernelspec": {
   "display_name": "Python 3",
   "language": "python",
   "name": "python3"
  },
  "language_info": {
   "codemirror_mode": {
    "name": "ipython",
    "version": 3
   },
   "file_extension": ".py",
   "mimetype": "text/x-python",
   "name": "python",
   "nbconvert_exporter": "python",
   "pygments_lexer": "ipython3",
   "version": "3.7.6"
  }
 },
 "nbformat": 4,
 "nbformat_minor": 4
}
