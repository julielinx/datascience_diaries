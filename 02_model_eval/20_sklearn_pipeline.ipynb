{
 "cells": [
  {
   "cell_type": "markdown",
   "metadata": {},
   "source": [
    "# Entry 20 - SciKit Learn Pipeline"
   ]
  },
  {
   "cell_type": "markdown",
   "metadata": {},
   "source": [
    "## The Problem\n",
    "\n",
    "There are quite a few steps between pulling the data and training the model. As discussed in <font color='red'>Entry 17</font>, after introducing k-fold cross-validation, many of steps need to be performed on each subset of the k-fold.\n",
    "\n",
    "Preprocessing steps include:\n",
    "- Determining best features from collinearity with the target\n",
    "- Removing multicolinear features\n",
    "- Centering and scaling features\n",
    "\n",
    "Training steps include:\n",
    "- Stratifying categorical data\n",
    "- Splitting into k-folds\n",
    "- Training a specific type of model\n",
    "- Scoring the model\n",
    "\n",
    "To prevent data leakage, the order of these steps matters."
   ]
  },
  {
   "cell_type": "markdown",
   "metadata": {},
   "source": [
    "## The Options\n",
    "\n",
    "Scikit-Learn has a Pipeline feature."
   ]
  },
  {
   "cell_type": "markdown",
   "metadata": {},
   "source": [
    "## The Proposed Solution"
   ]
  },
  {
   "cell_type": "markdown",
   "metadata": {},
   "source": [
    "## The Fail"
   ]
  },
  {
   "cell_type": "markdown",
   "metadata": {},
   "source": [
    "## Up Next"
   ]
  },
  {
   "cell_type": "markdown",
   "metadata": {},
   "source": [
    "### Resources"
   ]
  }
 ],
 "metadata": {
  "kernelspec": {
   "display_name": "Python 3",
   "language": "python",
   "name": "python3"
  },
  "language_info": {
   "codemirror_mode": {
    "name": "ipython",
    "version": 3
   },
   "file_extension": ".py",
   "mimetype": "text/x-python",
   "name": "python",
   "nbconvert_exporter": "python",
   "pygments_lexer": "ipython3",
   "version": "3.7.6"
  }
 },
 "nbformat": 4,
 "nbformat_minor": 4
}
