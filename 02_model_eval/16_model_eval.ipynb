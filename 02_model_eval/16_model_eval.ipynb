{
 "cells": [
  {
   "cell_type": "markdown",
   "metadata": {},
   "source": [
    "# Entry 16 - Model Evaluation"
   ]
  },
  {
   "cell_type": "markdown",
   "metadata": {},
   "source": [
    "## The Problem\n",
    "\n",
    "Max Kuhn and Kjell Johnson make the case in *Applied Predictive Modeling*: models can easily overemphasize patterns that are not reproducible.\n",
    "\n",
    "This can happen for a multitude of reasons: \n",
    "- temporary localized patterns\n",
    "- spurious relationships\n",
    "- flukes in the data\n",
    "\n",
    "Regardless of the reason, without a methodological way to evaluate the model I won't know about the unreproducible patterns until the next set of predictions. In industry, the next set of predictions could easily be in a production environment - not the place to be making avoidable mistakes if I can help it.\n",
    "\n",
    "### What this problem is not\n",
    "\n",
    "I do not plan on addressing other issues can hinder model effectiveness in this series of entries. These types of issues include:\n",
    "\n",
    "1. Small number of observations\n",
    "  - If there are too few observations in the dataset, the model may not be able to find patterns. A contributing factor to this issue could be the number of features. If there are more features than observations, this can cause problems.\n",
    "2. Unreliable ground truth\n",
    "  -  **Ground truth** is the labelling of the feature to be predicted.\n",
    "  - The accuracy of this labelling can be effected by many factors. These include:\n",
    "    - **Undetected**. The medical field is a good example of undetected values. An illness or condition can go undetected leaving what should have been labelled as 'yes' instead labelled 'no.'\n",
    "    - **Mislabelled**. Marketing lead generation is a good example of misidentification. A customer response could be misinterrpreted as wanting followup when no followup was desired. Or there could be entry error where the wrong key is pressed, again mislabelling the data point.\n",
    "    - **Inconsistent reporting**. Surveys are a good example of inconsistent reporting. A different person is responding to each survey. These individuals bring different perspectives to the questions. This can cause the same true/false condition to be intrepreted and answered differently.\n",
    "3. Imbalanced classes\n",
    "  - Imbalanced classes happen when one class is more prevalent in the target feature than another.\n",
    "  - If the model predicts the majority class it will be right the majority of the time.\n",
    "  - Examples of this issue occur in many industries:\n",
    "    - Fraud: fraud in insurance makes up about [5-10%](https://www.insurancefraud.org/statistics.htm) of claims. If a model predicts 'not fraud' every time it will be correct 90-95% of the time.\n",
    "    - Medicine: [38.4% of men and women](https://www.cancer.gov/about-cancer/understanding/statistics) are estimated to be diagnosed with cancer at some point in their lifetime. This means that for any single test of cancer, a model predicting 'no cancer' will be correct the majority of the time.\n",
    "    - Advertising: the response rate advertisers expect when conducting a marketing campaign is low - [around 10%](https://www.campaignmonitor.com/resources/knowledge-base/what-is-a-good-or-average-email-response-rate-for-email-marketing/). Based on this number, a model designed to predict whether a given customer will respond to the marketing material would be correct 90% of the time if it predicted 'no response.'\n",
    "4. Changing patterns\n",
    "  - Crime is a good example of this. As police learn the types of evidence that lead to convictions, criminals learn how to hide those types of evidence. Police then have to discover new types of evidence.\n",
    "  - Adversarial neural networks are another example. A common use of adversarial networks is in computer vision. One neural network is responsible for identifying images. A second neural network is responsible for generating images that can be intrepreted by humans, but not by the first neural network.\n",
    "\n",
    "After I can see how a model is performing on the data it's given, then I can work on improving the quality of the data it gets.\n",
    "\n",
    "I also don't plan on addressing model moitoring in this series of entries. This includes issues like:\n",
    "\n",
    "- Model drift / staleness\n",
    "- Lift / performance benefits"
   ]
  },
  {
   "cell_type": "markdown",
   "metadata": {},
   "source": [
    "## The Options\n",
    "\n",
    "There are a plethora of options when it comes to evaluating model performance. There are also several best practice methods that need to be incorporated into every evaluation. These steps include:\n",
    "- k-fold cross-validation\n",
    "- Stratification\n",
    "- Preprocessing pipeline\n",
    "- Train model\n",
    "- Evaluate model\n",
    "  - Regression\n",
    "    - Mean Square Error (MSE)\n",
    "    - Root Mean Square Error (RMSE)\n",
    "    - Coefficient of Determination (R^2)\n",
    "    - Residuals\n",
    "    - Sum of Square Errors (SSE)\n",
    "  - Classification\n",
    "    - No information rate / baseline comparisons\n",
    "      - Random\n",
    "      - Majority class\n",
    "    - Effect of threshold\n",
    "      - Reciever Operating Characteristic (ROC)\n",
    "      - Area Under the Curve (AUC)\n",
    "    - Confusion matrix\n",
    "    - Accuracy and Error Rate\n",
    "    - Kappa statistic (Cohen's Kappa)\n",
    "    - Sensitivity / True Positive Rate\n",
    "    - Specificity\n",
    "    - False Positive Rate\n",
    "    - Youden's J Index\n",
    "- Effect of training size\n",
    "  - Effect of hyperparameters\n",
    "- Fine tune parameters\n",
    "- Re-evaluate model\n",
    "\n",
    "    \n",
    "**Chart of metrics derived from confusion matrix (source wikipedia)**\n",
    "[<img src=\"../img/metric_explanatory_chart.png\">](https://en.wikipedia.org/wiki/Confusion_matrix)"
   ]
  },
  {
   "cell_type": "markdown",
   "metadata": {},
   "source": [
    "## The Proposed Solution\n",
    "\n",
    "I'll tackle each of these issues one at a time like I did with the series of entries about Defining the Problem.\n",
    "\n",
    "Several of these items are processing/pipeline challenges. Once I've worked out how to do cross-validation, what kinds of stratification are available, and the best way to put them, plus preprocessing, into a pipeline those items will be complete.\n",
    "\n",
    "Other items, like all the evaluation metrics, I plan to run on multiple datasets to help develop a more intuitive understanding of the metric, when it's helpful, and exactly what it's telling me.\n",
    "\n",
    "While I plan on working on visualizing the effects of training size and hyperparameters, I don't plan on addressing changing those parameters or doing any parameter fine turning / re-evaluation of the results. Improving the effectiveness of model predictions will be it's own series of entries. I anticipate deep dives into different algorithms will be part of this process, which will be too extensive to include in this series."
   ]
  },
  {
   "cell_type": "markdown",
   "metadata": {},
   "source": [
    "## The Fail\n",
    "\n",
    "At first I tried to jump right in to the evaluation steps. However, I found myself flailing around, having to explain where each step fell in the process and why I was doing it at *this* point, then changing around the order too often. This outline entry allowed me to consolidate my thoughts, record background and context, and create a clear outline to follow for the series."
   ]
  },
  {
   "cell_type": "markdown",
   "metadata": {},
   "source": [
    "## Next Up\n",
    "\n",
    "Data splitting and resampling."
   ]
  },
  {
   "cell_type": "code",
   "execution_count": null,
   "metadata": {},
   "outputs": [],
   "source": []
  }
 ],
 "metadata": {
  "kernelspec": {
   "display_name": "Python 3",
   "language": "python",
   "name": "python3"
  },
  "language_info": {
   "codemirror_mode": {
    "name": "ipython",
    "version": 3
   },
   "file_extension": ".py",
   "mimetype": "text/x-python",
   "name": "python",
   "nbconvert_exporter": "python",
   "pygments_lexer": "ipython3",
   "version": "3.7.6"
  }
 },
 "nbformat": 4,
 "nbformat_minor": 4
}
