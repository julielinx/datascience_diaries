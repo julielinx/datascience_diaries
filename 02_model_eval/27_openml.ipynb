{
 "cells": [
  {
   "cell_type": "markdown",
   "metadata": {},
   "source": [
    "# Entry 27 - figuring out openml.org"
   ]
  },
  {
   "cell_type": "markdown",
   "metadata": {},
   "source": [
    "Figuring out how to get the data from openml.org into the <font color='red'>Entry 25e notebook</font> was surprisingly difficult. All the datasets are saved as arff files, an ASCII text file type developed for use with Weka. My tool of choice, `pandas`, doesn't have a native way to load arrf files.\n",
    "\n",
    "## The Problem\n",
    "\n",
    "When it comes to data science, data is required.\n",
    "\n",
    "I've been mostly using the [UCI Machine Learning Repository](http://archive.ics.uci.edu/ml/datasets.php), which has a lot of classic datasets. There are 497 datasets in total and the sortable list of them includes information like whether it's a classification, regression, or clustering project and what types of attributes the dataset has (categorical, integer, numerical, real).\n",
    "\n",
    "However, I've found that the information tends to be a little spotty. I have to open each dataset within a category and look for something that will meet my needs (ie when the attribute type says integer, there may infact be some categorical features. Or if I want a binary classification problem I have to download promising looking classification datasets and check how many classes there are).\n",
    "\n",
    "On top of that, there isn't any standardization. The data is stored, at least mostly, the way it was submitted. I've seen file types ranging from csvs to arffs. Some separate train and test sets, others put everything in the same file. And by everything, I mean everything, including the explanations of what the features are.\n",
    "\n",
    "Most of these challenges can be overcome using `pandas`. All issues can be addressed in one way or another in Python. However, it can get time consuming to parse the data into the shape I need."
   ]
  },
  {
   "cell_type": "markdown",
   "metadata": {},
   "source": [
    "## The Options\n",
    "\n",
    "An alternative to the UCI Machine Learning Repository is [openml.org](https://www.openml.org/search?type=data). It has around 2,500 unique datasets (both UCI and [openml.org](https://www.openml.org/search?type=data) have multiple versions of several datasets. Most of the versions have some kind of pre-processing applied to them to help facilitate quick loading of the data or training of a model).\n",
    "\n",
    "The only problem with [openml.org](https://www.openml.org/search?type=data) is that it saves all the data as arff files. I found three ways to read arff files.\n",
    "\n",
    "- The `arff` module in the `scipy` package\n",
    "- The `openml` package\n",
    "- The `fetch_openml` module in the `sklearn.datasets` package\n",
    "\n",
    "### `arff` module\n",
    "\n",
    "I only did a cursory exploration of the `arff` module in `scipy`. It isn't designed specifically to work with [openml.org](https://www.openml.org/search?type=data), just any arff file. So while I can load it into the notebook, I still have to download the dataset. As noted previously, my goal is to use datasets programmatically available online to avoid using up my storage space and to make the notebooks more easily reproducible (ie no manual steps of downloading the data, then finding and updating the file path).\n",
    "\n",
    "### `openml` package\n",
    "\n",
    "The `openml` package is designed to work directly with [openml.org](https://www.openml.org/search?type=data). There is a website for [documentation](https://openml.github.io/openml-python/master/), however I wasn't able to find a list of available functions and explanations of what they do (I finally found it [here](https://openml.github.io/OpenML/Python-API/) while completing the writeup).\n",
    "\n",
    "Jupyter to the rescue. I used the `tab` complete functionality to see a list of available methods. First I grabbed the full list of available datasets so I could get the name of the one I was interested in (first was Titanic). Once I had the name of the dataset, the naming schema of the methods was pretty intuitive, so it was realitively easy figure out how to download the dataset.\n",
    "\n",
    "The major benefit of the `openml` package is the list of datasets. This list returns all sorts of information like the class size of the majority and minority class, number of classes, number of features, number of observations, number of missing values (both by count of observations with missing values and an overall count of all missing values), number of numeric features, and number of symbolic features.\n",
    "\n",
    "This information is extrememly helpful for finding datasets that allow me to target specific machine learning topics. For example, armed with the number of classifications and the majority/minority counts, I was able to pull a list of imbalanced binary classification datasets. These datasets will allow me to test strategies that will replicate the type of imbalanced data I use at work. Another example would be when I was trying to find datasets that were just numeric for <font color='red'>Entry 8</font> on center and scaling, or just categorical features for <font color='red'>Entries 13, 14, and 15</font>.\n",
    "\n",
    "### `fetch_openml` module\n",
    "\n",
    "`fetch_openml` needs the name or id of the dataset from [openml.org](https://www.openml.org/search?type=data). Unfortnuately, I couldn't find either of those things listed on the dataset's page. I feel like I'd found the name and version on a specific dataset's [openml.org](https://www.openml.org/search?type=data) page before, but couldn't find it for the life of me this time.\n",
    "\n",
    "I ended up using the `openml` package to find the names and ids (I did finally figure out that the id is listed in the dataset's URL as explained [here](https://openml.github.io/OpenML/#dataset-id-and-versions)). Once I had the name, using `fetch_openml` is ridiculously easy. I just called  `titanic = fetch_openml('titanic', version=1, as_frame=True)` and ta-da, I had data."
   ]
  },
  {
   "cell_type": "markdown",
   "metadata": {},
   "source": [
    "## The Proposed Solution\n",
    "\n",
    "Regardless of whether I use `openml` or `fetch_openml`, the data downloaded from [openml.org](https://www.openml.org/search?type=data) always returns a dictionary. The keys of the dictionary explain where different aspects of the data are kept.\n",
    "\n",
    "The keys are:\n",
    "- `data`: returns a DataFrame of just the features\n",
    "- `target`: returns a pandas series of just the target\n",
    "- `frame`: returns the features and target together as a DataFrame\n",
    "- `feature_names`: returns a list of the feature names\n",
    "- `target_names`: returns a list the target name(s)\n",
    "- `DESCR`: returns the description of the dataset as a string\n",
    "- `details`: returns high level info (like the name, version, id, etc) as a dictionary\n",
    "- `categories`: I'm not sure what this is for, the two datasets I pulled returned empty for this key\n",
    "- `url`: returns the [openml.org](https://www.openml.org/search?type=data) webpage for the specific dataset\n",
    "\n",
    "Both `openml` and `fetch_openml` are easy and straight forward once you have the hang of the functions and methods needed. And I have to find the name or id of the dataset before I can download it with either option. Neither of the packages seems much better than the other for the basic task of loading data. I can use either."
   ]
  },
  {
   "cell_type": "markdown",
   "metadata": {},
   "source": [
    "## The Fail\n",
    "\n",
    "The `openml` package was originally throwing errors and whining about not supporting strings for the dataset name. I finally opened a separate notebook to figure out how to use the pacakge. When I copy and pasted the same code that had errored out in order to record the error, it suddenly worked. I have no idea what caused the error or what fixed it, but it resolved and didn't return."
   ]
  },
  {
   "cell_type": "markdown",
   "metadata": {},
   "source": [
    "### Resources\n",
    "\n",
    "- [openml.org](https://www.openml.org/search?type=data)\n",
    "- [Dataset ID and versions](https://openml.github.io/OpenML/#dataset-id-and-versions)\n",
    "- [OpenML Documentation APIs](https://openml.github.io/OpenML/Python-API/)\n",
    "- [OpenML Python](https://openml.github.io/openml-python/master/)\n",
    "- [OpenML Documentation](https://openml.github.io/OpenML/)\n",
    "- [UCI Machine Learning Repository](http://archive.ics.uci.edu/ml/datasets.php)"
   ]
  },
  {
   "cell_type": "code",
   "execution_count": null,
   "metadata": {},
   "outputs": [],
   "source": []
  }
 ],
 "metadata": {
  "kernelspec": {
   "display_name": "Python 3",
   "language": "python",
   "name": "python3"
  },
  "language_info": {
   "codemirror_mode": {
    "name": "ipython",
    "version": 3
   },
   "file_extension": ".py",
   "mimetype": "text/x-python",
   "name": "python",
   "nbconvert_exporter": "python",
   "pygments_lexer": "ipython3",
   "version": "3.7.7"
  }
 },
 "nbformat": 4,
 "nbformat_minor": 4
}
