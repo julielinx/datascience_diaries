{
 "cells": [
  {
   "cell_type": "markdown",
   "metadata": {},
   "source": [
    "# Entry 30 notebook - Learning Curves"
   ]
  },
  {
   "cell_type": "code",
   "execution_count": 1,
   "metadata": {},
   "outputs": [],
   "source": [
    "import numpy as np\n",
    "import pandas as pd\n",
    "import matplotlib.pyplot as plt\n",
    "import seaborn as sns\n",
    "\n",
    "import openml\n",
    "from sklearn.metrics import mean_squared_error\n",
    "from sklearn.model_selection import train_test_split\n",
    "from sklearn.linear_model import LinearRegression"
   ]
  },
  {
   "cell_type": "code",
   "execution_count": 2,
   "metadata": {},
   "outputs": [
    {
     "data": {
      "text/html": [
       "<div>\n",
       "<style scoped>\n",
       "    .dataframe tbody tr th:only-of-type {\n",
       "        vertical-align: middle;\n",
       "    }\n",
       "\n",
       "    .dataframe tbody tr th {\n",
       "        vertical-align: top;\n",
       "    }\n",
       "\n",
       "    .dataframe thead th {\n",
       "        text-align: right;\n",
       "    }\n",
       "</style>\n",
       "<table border=\"1\" class=\"dataframe\">\n",
       "  <thead>\n",
       "    <tr style=\"text-align: right;\">\n",
       "      <th></th>\n",
       "      <th>P1</th>\n",
       "      <th>P5p1</th>\n",
       "      <th>P6p2</th>\n",
       "      <th>P11p4</th>\n",
       "      <th>P14p9</th>\n",
       "      <th>P15p1</th>\n",
       "      <th>P15p3</th>\n",
       "      <th>P16p2</th>\n",
       "      <th>P18p2</th>\n",
       "      <th>P27p4</th>\n",
       "      <th>H2p2</th>\n",
       "      <th>H8p2</th>\n",
       "      <th>H10p1</th>\n",
       "      <th>H13p1</th>\n",
       "      <th>H18pA</th>\n",
       "      <th>H40p4</th>\n",
       "      <th>price</th>\n",
       "    </tr>\n",
       "  </thead>\n",
       "  <tbody>\n",
       "    <tr>\n",
       "      <th>0</th>\n",
       "      <td>15512.0</td>\n",
       "      <td>0.460869</td>\n",
       "      <td>0.049252</td>\n",
       "      <td>0.226470</td>\n",
       "      <td>0.149827</td>\n",
       "      <td>0.752837</td>\n",
       "      <td>0.010057</td>\n",
       "      <td>0.579729</td>\n",
       "      <td>0.003251</td>\n",
       "      <td>0.075912</td>\n",
       "      <td>0.625318</td>\n",
       "      <td>0.036613</td>\n",
       "      <td>0.991377</td>\n",
       "      <td>0.260116</td>\n",
       "      <td>0.052246</td>\n",
       "      <td>0.774059</td>\n",
       "      <td>130600.0</td>\n",
       "    </tr>\n",
       "    <tr>\n",
       "      <th>1</th>\n",
       "      <td>1550.0</td>\n",
       "      <td>0.470968</td>\n",
       "      <td>0.002581</td>\n",
       "      <td>0.137419</td>\n",
       "      <td>0.096341</td>\n",
       "      <td>0.862581</td>\n",
       "      <td>0.000000</td>\n",
       "      <td>0.695142</td>\n",
       "      <td>0.005025</td>\n",
       "      <td>0.043551</td>\n",
       "      <td>0.064263</td>\n",
       "      <td>0.003350</td>\n",
       "      <td>0.994975</td>\n",
       "      <td>0.285266</td>\n",
       "      <td>0.060606</td>\n",
       "      <td>0.142857</td>\n",
       "      <td>40500.0</td>\n",
       "    </tr>\n",
       "    <tr>\n",
       "      <th>2</th>\n",
       "      <td>4741.0</td>\n",
       "      <td>0.485341</td>\n",
       "      <td>0.000211</td>\n",
       "      <td>0.189412</td>\n",
       "      <td>0.135656</td>\n",
       "      <td>0.856992</td>\n",
       "      <td>0.000000</td>\n",
       "      <td>0.683584</td>\n",
       "      <td>0.004143</td>\n",
       "      <td>0.027965</td>\n",
       "      <td>0.065796</td>\n",
       "      <td>0.000000</td>\n",
       "      <td>0.997411</td>\n",
       "      <td>0.315433</td>\n",
       "      <td>0.065116</td>\n",
       "      <td>0.687500</td>\n",
       "      <td>28700.0</td>\n",
       "    </tr>\n",
       "    <tr>\n",
       "      <th>3</th>\n",
       "      <td>467.0</td>\n",
       "      <td>0.498929</td>\n",
       "      <td>0.000000</td>\n",
       "      <td>0.100642</td>\n",
       "      <td>0.085470</td>\n",
       "      <td>0.907923</td>\n",
       "      <td>0.000000</td>\n",
       "      <td>0.780488</td>\n",
       "      <td>0.006098</td>\n",
       "      <td>0.018293</td>\n",
       "      <td>0.057471</td>\n",
       "      <td>0.000000</td>\n",
       "      <td>1.000000</td>\n",
       "      <td>0.149425</td>\n",
       "      <td>0.139535</td>\n",
       "      <td>1.000000</td>\n",
       "      <td>28500.0</td>\n",
       "    </tr>\n",
       "    <tr>\n",
       "      <th>4</th>\n",
       "      <td>310.0</td>\n",
       "      <td>0.474193</td>\n",
       "      <td>0.680645</td>\n",
       "      <td>0.225806</td>\n",
       "      <td>0.128834</td>\n",
       "      <td>0.896774</td>\n",
       "      <td>0.000000</td>\n",
       "      <td>0.756302</td>\n",
       "      <td>0.008403</td>\n",
       "      <td>0.016807</td>\n",
       "      <td>0.077519</td>\n",
       "      <td>0.672269</td>\n",
       "      <td>0.991597</td>\n",
       "      <td>0.147287</td>\n",
       "      <td>0.000000</td>\n",
       "      <td>0.000000</td>\n",
       "      <td>24100.0</td>\n",
       "    </tr>\n",
       "  </tbody>\n",
       "</table>\n",
       "</div>"
      ],
      "text/plain": [
       "        P1      P5p1      P6p2     P11p4     P14p9     P15p1     P15p3  \\\n",
       "0  15512.0  0.460869  0.049252  0.226470  0.149827  0.752837  0.010057   \n",
       "1   1550.0  0.470968  0.002581  0.137419  0.096341  0.862581  0.000000   \n",
       "2   4741.0  0.485341  0.000211  0.189412  0.135656  0.856992  0.000000   \n",
       "3    467.0  0.498929  0.000000  0.100642  0.085470  0.907923  0.000000   \n",
       "4    310.0  0.474193  0.680645  0.225806  0.128834  0.896774  0.000000   \n",
       "\n",
       "      P16p2     P18p2     P27p4      H2p2      H8p2     H10p1     H13p1  \\\n",
       "0  0.579729  0.003251  0.075912  0.625318  0.036613  0.991377  0.260116   \n",
       "1  0.695142  0.005025  0.043551  0.064263  0.003350  0.994975  0.285266   \n",
       "2  0.683584  0.004143  0.027965  0.065796  0.000000  0.997411  0.315433   \n",
       "3  0.780488  0.006098  0.018293  0.057471  0.000000  1.000000  0.149425   \n",
       "4  0.756302  0.008403  0.016807  0.077519  0.672269  0.991597  0.147287   \n",
       "\n",
       "      H18pA     H40p4     price  \n",
       "0  0.052246  0.774059  130600.0  \n",
       "1  0.060606  0.142857   40500.0  \n",
       "2  0.065116  0.687500   28700.0  \n",
       "3  0.139535  1.000000   28500.0  \n",
       "4  0.000000  0.000000   24100.0  "
      ]
     },
     "execution_count": 2,
     "metadata": {},
     "output_type": "execute_result"
    }
   ],
   "source": [
    "house_16H = openml.datasets.get_dataset(574).get_data()[0]\n",
    "house_16H.head()"
   ]
  },
  {
   "cell_type": "code",
   "execution_count": 7,
   "metadata": {},
   "outputs": [],
   "source": [
    "def train_model(model, X, y):\n",
    "    train_errors, test_errors = [], []\n",
    "    X_train, X_test, y_train, y_test = train_test_split(X, y, test_size=0.2)\n",
    "    for m in range(1, len(X_train)):\n",
    "        model.fit(X_train[:m], y_train[:m])\n",
    "        y_train_predict = model.predict(X_train[:m])\n",
    "        y_test_predict = model.predict(X_test)\n",
    "        train_errors.append(mean_squared_error(y_train[:m], y_train_predict))\n",
    "        test_errors.append(mean_squared_error(y_test, y_test_predict))\n",
    "    return train_errors, test_errors"
   ]
  },
  {
   "cell_type": "code",
   "execution_count": 228,
   "metadata": {},
   "outputs": [],
   "source": [
    "def plot_learning_curves(train_errors, test_errors):\n",
    "    plt.plot(np.sqrt(train_errors), \"r-\", linewidth=2, label=\"train\")\n",
    "    plt.plot(np.sqrt(test_errors), \"b-\", linewidth=3, label=\"test\")\n",
    "    plt.axis([0, len(test_errors), np.sqrt(min(train_errors)), np.sqrt(max(test_errors))*.05])\n",
    "    plt.xlabel(\"Training set size\")\n",
    "    plt.ylabel(\"RMSE\")\n",
    "    plt.legend()"
   ]
  },
  {
   "cell_type": "code",
   "execution_count": 215,
   "metadata": {},
   "outputs": [],
   "source": [
    "lin_reg = LinearRegression()\n",
    "train_errors, test_errors = train_model(lin_reg, house_16H.drop('price', axis=1), house_16H['price'])"
   ]
  },
  {
   "cell_type": "code",
   "execution_count": 246,
   "metadata": {},
   "outputs": [],
   "source": [
    "def plot_learning_curves1(train_errors, test_errors):\n",
    "    plt.plot(np.sqrt(train_errors), \"r-\", linewidth=2, label=\"train\")\n",
    "    plt.plot(np.sqrt(test_errors), \"b-\", linewidth=3, label=\"test\")\n",
    "    plt.axis([0, len(test_errors), 40000, np.sqrt(max(test_errors))*.45])\n",
    "    plt.xlabel(\"Training set size\")\n",
    "    plt.ylabel(\"RMSE\")\n",
    "    plt.legend()"
   ]
  },
  {
   "cell_type": "code",
   "execution_count": 247,
   "metadata": {},
   "outputs": [
    {
     "data": {
      "image/png": "[encoded data removed]",
      "text/plain": [
       "<Figure size 432x288 with 1 Axes>"
      ]
     },
     "metadata": {
      "needs_background": "light"
     },
     "output_type": "display_data"
    }
   ],
   "source": [
    "plot_learning_curves1(train_errors, test_errors)"
   ]
  },
  {
   "cell_type": "code",
   "execution_count": 10,
   "metadata": {},
   "outputs": [
    {
     "data": {
      "text/html": [
       "<div>\n",
       "<style scoped>\n",
       "    .dataframe tbody tr th:only-of-type {\n",
       "        vertical-align: middle;\n",
       "    }\n",
       "\n",
       "    .dataframe tbody tr th {\n",
       "        vertical-align: top;\n",
       "    }\n",
       "\n",
       "    .dataframe thead th {\n",
       "        text-align: right;\n",
       "    }\n",
       "</style>\n",
       "<table border=\"1\" class=\"dataframe\">\n",
       "  <thead>\n",
       "    <tr style=\"text-align: right;\">\n",
       "      <th></th>\n",
       "      <th>P1</th>\n",
       "      <th>P5p1</th>\n",
       "      <th>P6p2</th>\n",
       "      <th>P11p4</th>\n",
       "      <th>P14p9</th>\n",
       "      <th>P15p1</th>\n",
       "      <th>P15p3</th>\n",
       "      <th>P16p2</th>\n",
       "      <th>P18p2</th>\n",
       "      <th>P27p4</th>\n",
       "      <th>H2p2</th>\n",
       "      <th>H8p2</th>\n",
       "      <th>H10p1</th>\n",
       "      <th>H13p1</th>\n",
       "      <th>H18pA</th>\n",
       "      <th>H40p4</th>\n",
       "      <th>price</th>\n",
       "    </tr>\n",
       "  </thead>\n",
       "  <tbody>\n",
       "    <tr>\n",
       "      <th>count</th>\n",
       "      <td>2.278400e+04</td>\n",
       "      <td>22784.000000</td>\n",
       "      <td>22784.000000</td>\n",
       "      <td>22784.000000</td>\n",
       "      <td>22784.000000</td>\n",
       "      <td>22784.000000</td>\n",
       "      <td>22784.000000</td>\n",
       "      <td>22784.000000</td>\n",
       "      <td>22784.000000</td>\n",
       "      <td>22784.000000</td>\n",
       "      <td>22784.000000</td>\n",
       "      <td>22784.000000</td>\n",
       "      <td>22784.000000</td>\n",
       "      <td>22784.000000</td>\n",
       "      <td>22784.000000</td>\n",
       "      <td>22784.000000</td>\n",
       "      <td>22784.000000</td>\n",
       "    </tr>\n",
       "    <tr>\n",
       "      <th>mean</th>\n",
       "      <td>7.808669e+03</td>\n",
       "      <td>0.482297</td>\n",
       "      <td>0.063982</td>\n",
       "      <td>0.163900</td>\n",
       "      <td>0.121538</td>\n",
       "      <td>0.851076</td>\n",
       "      <td>0.020487</td>\n",
       "      <td>0.716131</td>\n",
       "      <td>0.003589</td>\n",
       "      <td>0.033263</td>\n",
       "      <td>0.110527</td>\n",
       "      <td>0.057437</td>\n",
       "      <td>0.967045</td>\n",
       "      <td>0.304993</td>\n",
       "      <td>0.107377</td>\n",
       "      <td>0.491626</td>\n",
       "      <td>50074.439782</td>\n",
       "    </tr>\n",
       "    <tr>\n",
       "      <th>std</th>\n",
       "      <td>6.587242e+04</td>\n",
       "      <td>0.031876</td>\n",
       "      <td>0.150921</td>\n",
       "      <td>0.080461</td>\n",
       "      <td>0.056687</td>\n",
       "      <td>0.079455</td>\n",
       "      <td>0.057666</td>\n",
       "      <td>0.087264</td>\n",
       "      <td>0.005100</td>\n",
       "      <td>0.029567</td>\n",
       "      <td>0.105925</td>\n",
       "      <td>0.139811</td>\n",
       "      <td>0.099953</td>\n",
       "      <td>0.133998</td>\n",
       "      <td>0.090065</td>\n",
       "      <td>0.331655</td>\n",
       "      <td>52843.475551</td>\n",
       "    </tr>\n",
       "    <tr>\n",
       "      <th>min</th>\n",
       "      <td>2.000000e+00</td>\n",
       "      <td>0.125000</td>\n",
       "      <td>0.000000</td>\n",
       "      <td>0.000000</td>\n",
       "      <td>0.000000</td>\n",
       "      <td>0.054156</td>\n",
       "      <td>0.000000</td>\n",
       "      <td>0.233702</td>\n",
       "      <td>0.000000</td>\n",
       "      <td>0.000000</td>\n",
       "      <td>0.000000</td>\n",
       "      <td>0.000000</td>\n",
       "      <td>0.003257</td>\n",
       "      <td>0.000000</td>\n",
       "      <td>0.000000</td>\n",
       "      <td>0.000000</td>\n",
       "      <td>0.000000</td>\n",
       "    </tr>\n",
       "    <tr>\n",
       "      <th>25%</th>\n",
       "      <td>4.270000e+02</td>\n",
       "      <td>0.464647</td>\n",
       "      <td>0.000000</td>\n",
       "      <td>0.112069</td>\n",
       "      <td>0.081236</td>\n",
       "      <td>0.819686</td>\n",
       "      <td>0.000000</td>\n",
       "      <td>0.662283</td>\n",
       "      <td>0.000000</td>\n",
       "      <td>0.016260</td>\n",
       "      <td>0.049303</td>\n",
       "      <td>0.000000</td>\n",
       "      <td>0.981410</td>\n",
       "      <td>0.221673</td>\n",
       "      <td>0.052770</td>\n",
       "      <td>0.243243</td>\n",
       "      <td>21000.000000</td>\n",
       "    </tr>\n",
       "    <tr>\n",
       "      <th>50%</th>\n",
       "      <td>1.345500e+03</td>\n",
       "      <td>0.480396</td>\n",
       "      <td>0.003413</td>\n",
       "      <td>0.155485</td>\n",
       "      <td>0.117127</td>\n",
       "      <td>0.863645</td>\n",
       "      <td>0.000000</td>\n",
       "      <td>0.714286</td>\n",
       "      <td>0.002591</td>\n",
       "      <td>0.027523</td>\n",
       "      <td>0.081179</td>\n",
       "      <td>0.002538</td>\n",
       "      <td>0.994100</td>\n",
       "      <td>0.299800</td>\n",
       "      <td>0.086957</td>\n",
       "      <td>0.500000</td>\n",
       "      <td>33200.000000</td>\n",
       "    </tr>\n",
       "    <tr>\n",
       "      <th>75%</th>\n",
       "      <td>4.518250e+03</td>\n",
       "      <td>0.496040</td>\n",
       "      <td>0.033376</td>\n",
       "      <td>0.203596</td>\n",
       "      <td>0.156757</td>\n",
       "      <td>0.899657</td>\n",
       "      <td>0.019196</td>\n",
       "      <td>0.771039</td>\n",
       "      <td>0.005007</td>\n",
       "      <td>0.042827</td>\n",
       "      <td>0.131430</td>\n",
       "      <td>0.029928</td>\n",
       "      <td>1.000000</td>\n",
       "      <td>0.375000</td>\n",
       "      <td>0.137931</td>\n",
       "      <td>0.750000</td>\n",
       "      <td>56100.000000</td>\n",
       "    </tr>\n",
       "    <tr>\n",
       "      <th>max</th>\n",
       "      <td>7.322564e+06</td>\n",
       "      <td>0.923077</td>\n",
       "      <td>1.000000</td>\n",
       "      <td>0.917255</td>\n",
       "      <td>0.511872</td>\n",
       "      <td>1.000000</td>\n",
       "      <td>0.943325</td>\n",
       "      <td>1.000000</td>\n",
       "      <td>0.125000</td>\n",
       "      <td>0.705736</td>\n",
       "      <td>0.975177</td>\n",
       "      <td>1.000000</td>\n",
       "      <td>1.000000</td>\n",
       "      <td>1.000000</td>\n",
       "      <td>1.000000</td>\n",
       "      <td>1.000000</td>\n",
       "      <td>500001.000000</td>\n",
       "    </tr>\n",
       "  </tbody>\n",
       "</table>\n",
       "</div>"
      ],
      "text/plain": [
       "                 P1          P5p1          P6p2         P11p4         P14p9  \\\n",
       "count  2.278400e+04  22784.000000  22784.000000  22784.000000  22784.000000   \n",
       "mean   7.808669e+03      0.482297      0.063982      0.163900      0.121538   \n",
       "std    6.587242e+04      0.031876      0.150921      0.080461      0.056687   \n",
       "min    2.000000e+00      0.125000      0.000000      0.000000      0.000000   \n",
       "25%    4.270000e+02      0.464647      0.000000      0.112069      0.081236   \n",
       "50%    1.345500e+03      0.480396      0.003413      0.155485      0.117127   \n",
       "75%    4.518250e+03      0.496040      0.033376      0.203596      0.156757   \n",
       "max    7.322564e+06      0.923077      1.000000      0.917255      0.511872   \n",
       "\n",
       "              P15p1         P15p3         P16p2         P18p2         P27p4  \\\n",
       "count  22784.000000  22784.000000  22784.000000  22784.000000  22784.000000   \n",
       "mean       0.851076      0.020487      0.716131      0.003589      0.033263   \n",
       "std        0.079455      0.057666      0.087264      0.005100      0.029567   \n",
       "min        0.054156      0.000000      0.233702      0.000000      0.000000   \n",
       "25%        0.819686      0.000000      0.662283      0.000000      0.016260   \n",
       "50%        0.863645      0.000000      0.714286      0.002591      0.027523   \n",
       "75%        0.899657      0.019196      0.771039      0.005007      0.042827   \n",
       "max        1.000000      0.943325      1.000000      0.125000      0.705736   \n",
       "\n",
       "               H2p2          H8p2         H10p1         H13p1         H18pA  \\\n",
       "count  22784.000000  22784.000000  22784.000000  22784.000000  22784.000000   \n",
       "mean       0.110527      0.057437      0.967045      0.304993      0.107377   \n",
       "std        0.105925      0.139811      0.099953      0.133998      0.090065   \n",
       "min        0.000000      0.000000      0.003257      0.000000      0.000000   \n",
       "25%        0.049303      0.000000      0.981410      0.221673      0.052770   \n",
       "50%        0.081179      0.002538      0.994100      0.299800      0.086957   \n",
       "75%        0.131430      0.029928      1.000000      0.375000      0.137931   \n",
       "max        0.975177      1.000000      1.000000      1.000000      1.000000   \n",
       "\n",
       "              H40p4          price  \n",
       "count  22784.000000   22784.000000  \n",
       "mean       0.491626   50074.439782  \n",
       "std        0.331655   52843.475551  \n",
       "min        0.000000       0.000000  \n",
       "25%        0.243243   21000.000000  \n",
       "50%        0.500000   33200.000000  \n",
       "75%        0.750000   56100.000000  \n",
       "max        1.000000  500001.000000  "
      ]
     },
     "execution_count": 10,
     "metadata": {},
     "output_type": "execute_result"
    }
   ],
   "source": [
    "house_16H.describe()"
   ]
  },
  {
   "cell_type": "markdown",
   "metadata": {},
   "source": [
    "## Center and scale"
   ]
  },
  {
   "cell_type": "code",
   "execution_count": 11,
   "metadata": {},
   "outputs": [],
   "source": [
    "from sklearn.preprocessing import StandardScaler\n",
    "\n",
    "scaler = StandardScaler()\n",
    "scaled_X = scaler.fit_transform(house_16H.drop('price', axis=1))"
   ]
  },
  {
   "cell_type": "code",
   "execution_count": 12,
   "metadata": {},
   "outputs": [],
   "source": [
    "lin_reg2 = LinearRegression()\n",
    "scaled_train_e, scaled_test_e = train_model(lin_reg2, scaled_X, house_16H['price'])"
   ]
  },
  {
   "cell_type": "code",
   "execution_count": 217,
   "metadata": {},
   "outputs": [
    {
     "data": {
      "image/png": "[encoded data removed]",
      "text/plain": [
       "<Figure size 432x288 with 1 Axes>"
      ]
     },
     "metadata": {
      "needs_background": "light"
     },
     "output_type": "display_data"
    }
   ],
   "source": [
    "plot_learning_curves(scaled_train_e, scaled_test_e)"
   ]
  },
  {
   "cell_type": "code",
   "execution_count": null,
   "metadata": {},
   "outputs": [],
   "source": []
  },
  {
   "cell_type": "code",
   "execution_count": 15,
   "metadata": {},
   "outputs": [
    {
     "name": "stderr",
     "output_type": "stream",
     "text": [
      "//anaconda3/lib/python3.7/site-packages/sklearn/externals/six.py:31: FutureWarning: The module is deprecated in version 0.21 and will be removed in version 0.23 since we've dropped support for Python 2.7. Please rely on the official version of six (https://pypi.org/project/six/).\n",
      "  \"(https://pypi.org/project/six/).\", FutureWarning)\n",
      "//anaconda3/lib/python3.7/site-packages/sklearn/externals/joblib/__init__.py:15: FutureWarning: sklearn.externals.joblib is deprecated in 0.21 and will be removed in 0.23. Please import this functionality directly from joblib, which can be installed with: pip install joblib. If this warning is raised when loading pickled models, you may need to re-serialize those models with scikit-learn 0.21+.\n",
      "  warnings.warn(msg, category=FutureWarning)\n"
     ]
    }
   ],
   "source": [
    "import mglearn\n",
    "\n",
    "X, y = mglearn.datasets.load_extended_boston()"
   ]
  },
  {
   "cell_type": "code",
   "execution_count": 51,
   "metadata": {},
   "outputs": [],
   "source": [
    "boston_lin_reg = LinearRegression()\n",
    "b_train_errors, b_test_errors = train_model(boston_lin_reg, X, y)"
   ]
  },
  {
   "cell_type": "code",
   "execution_count": 52,
   "metadata": {},
   "outputs": [
    {
     "data": {
      "image/png": "[encoded data removed]",
      "text/plain": [
       "<Figure size 432x288 with 1 Axes>"
      ]
     },
     "metadata": {
      "needs_background": "light"
     },
     "output_type": "display_data"
    }
   ],
   "source": [
    "plot_learning_curves(b_train_errors, b_test_errors)"
   ]
  },
  {
   "cell_type": "code",
   "execution_count": 17,
   "metadata": {},
   "outputs": [
    {
     "data": {
      "text/plain": [
       "<matplotlib.collections.PathCollection at 0x1a1c5003d0>"
      ]
     },
     "execution_count": 17,
     "metadata": {},
     "output_type": "execute_result"
    },
    {
     "data": {
      "image/png": "[encoded data removed]",
      "text/plain": [
       "<Figure size 432x288 with 1 Axes>"
      ]
     },
     "metadata": {
      "needs_background": "light"
     },
     "output_type": "display_data"
    }
   ],
   "source": [
    "line_X = np.around(np.random.rand(100, 1) * 100, 0)\n",
    "line_y = np.around(2.5 * line_X + 7 + (np.random.randint(-5, 5, 100).reshape(-1, 1)), 0)\n",
    "plt.scatter(line_X, line_y)"
   ]
  },
  {
   "cell_type": "code",
   "execution_count": 65,
   "metadata": {},
   "outputs": [],
   "source": [
    "line_lin_reg = LinearRegression()\n",
    "line_train_errors, line_test_errors = train_model(line_lin_reg, line_X, line_y)"
   ]
  },
  {
   "cell_type": "code",
   "execution_count": 66,
   "metadata": {},
   "outputs": [
    {
     "data": {
      "image/png": "[encoded data removed]",
      "text/plain": [
       "<Figure size 432x288 with 1 Axes>"
      ]
     },
     "metadata": {
      "needs_background": "light"
     },
     "output_type": "display_data"
    }
   ],
   "source": [
    "plot_learning_curves(line_train_errors, line_test_errors)"
   ]
  },
  {
   "cell_type": "code",
   "execution_count": null,
   "metadata": {},
   "outputs": [],
   "source": []
  },
  {
   "cell_type": "code",
   "execution_count": null,
   "metadata": {},
   "outputs": [],
   "source": []
  }
 ],
 "metadata": {
  "kernelspec": {
   "display_name": "Python 3",
   "language": "python",
   "name": "python3"
  },
  "language_info": {
   "codemirror_mode": {
    "name": "ipython",
    "version": 3
   },
   "file_extension": ".py",
   "mimetype": "text/x-python",
   "name": "python",
   "nbconvert_exporter": "python",
   "pygments_lexer": "ipython3",
   "version": "3.7.6"
  }
 },
 "nbformat": 4,
 "nbformat_minor": 4
}
