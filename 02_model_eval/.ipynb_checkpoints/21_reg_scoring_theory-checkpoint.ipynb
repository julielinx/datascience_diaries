{
 "cells": [
  {
   "cell_type": "markdown",
   "metadata": {},
   "source": [
    "# Entry 21 - Continuous Targets - Theory"
   ]
  },
  {
   "cell_type": "markdown",
   "metadata": {},
   "source": [
    "## The Problem\n",
    "\n",
    "The target values for linear regression models are in continuous numeric scale. As such, their output is also on a continuous scale. I need a way to determine how well the model is able to predict this type of target value."
   ]
  },
  {
   "cell_type": "markdown",
   "metadata": {},
   "source": [
    "## Concepts\n",
    "\n",
    "There are quite a few terms and concepts that are relied on by the suite of solutions for this problem. And I appreciate when terms are clearly defined instead of left to the imagination.\n",
    "\n",
    "**Bias and Variance**\n",
    "\n",
    "[Hands-On Machine Learning](https://www.amazon.com/Hands-Machine-Learning-Scikit-Learn-TensorFlow/dp/1491962291) has a very succinct sidebar with information on bias, variance, irreducible error. These are the three components that make up a model's generalization error.\n",
    "\n",
    "> *Bias*</br>\n",
    "This part of the generalization error is due to wrong assumptions, such as assuming that the data is linear when it is actually quadratic. A high-bias model is most likely to underfit the training data.</br></br>\n",
    "*Variance*</br>\n",
    "This part is due to the mode's excessive sensitivity to small variations in the training data. A model with many degrees of freedom (such as a high-degree polynomial model) is likely to have high variance, and thus to overfit the training data.</br></br>\n",
    "*Irreducible error*</br>\n",
    "This part is due to the noisiness of the data itself. The only way to reduce this part of the error is to clean up the data (e.g., fix the data sources, such as broken sensors, or detect and remove outliers).\n",
    "\n",
    "**Residuals**\n",
    "\n",
    "Residuals quantify how far off a prediction was from the actual value. If the value is 0 the prediction matched the observed value. There is no minimum or maximum range. The larger the value, the further the prediction is from the actual value.\n",
    "\n",
    "The formula is the observed value minus the predicted value:\n",
    "\n",
    "$e = y_{i} - \\hat{y_{i}}$\n",
    "\n",
    "Keep in mind that the impact of how large this number is depends on the variance of the underlying data. For house prices that range from \\$100,000 to \\$10,000,000 a residual of 10,000 would be considered good. However, for a bottle of soap where the prices range from \\$0.99 to \\$20.49, a residual of 10,000 would be a really bad model.\n",
    "\n",
    "**Absolute Error**\n",
    "\n",
    "\n",
    "\n",
    "**Squared Error**"
   ]
  },
  {
   "cell_type": "markdown",
   "metadata": {},
   "source": [
    "## The Options\n",
    "\n",
    "There are multiple ways to measure a regression model's predictive power. Each method has its strengths and weaknesses. These methods include:\n",
    "\n",
    "### Mean Squared Error\n",
    "\n",
    "\n",
    "### Root Mean Squared Error\n",
    "\n",
    "\n",
    "###\n",
    "\n",
    "### $R^2$ or coefficient of determination\n",
    "\n",
    "> Proportion of the information in the data explained by the model\n",
    "<div style=\"text-align:center\">~<em><a href ='http://appliedpredictivemodeling.com/'>Applied Predictive Modeling</a></em> page 95</div>\n",
    "\n",
    "- There are multiple ways to calculate $R^2$. See [Coefficient of determination](https://en.wikipedia.org/wiki/Coefficient_of_determination) for more information\n",
    "- Range of values is generally 0 - 1, but [values outside this range can occur](https://en.wikipedia.org/wiki/Coefficient_of_determination#Interpretation)\n",
    "  - A value of 1 means the predictions fit the observed data perfectly\n",
    "  - A value of 0 means the predictions explain none of the variability of the data\n",
    "  - Negative values indicate the mean of the data provides a better fit to the outcomes than the predicted values \n",
    "- Cavets\n",
    ">[...] the practitioner must remember that $R^2$ is a measure of correlation, not accuracy</br>\n",
    "$R^2$ is dependent on the variation in the outcome\n",
    "<div style=\"text-align:center\">~<em>Applied Predictive Modeling</a></em> page 96</div>\n",
    "\n",
    "\n"
   ]
  },
  {
   "cell_type": "markdown",
   "metadata": {},
   "source": [
    "## The Proposed Solution"
   ]
  },
  {
   "cell_type": "markdown",
   "metadata": {},
   "source": [
    "## The Fail"
   ]
  },
  {
   "cell_type": "markdown",
   "metadata": {},
   "source": [
    "## Up Next"
   ]
  },
  {
   "cell_type": "markdown",
   "metadata": {},
   "source": [
    "### Resources"
   ]
  },
  {
   "cell_type": "code",
   "execution_count": null,
   "metadata": {},
   "outputs": [],
   "source": []
  }
 ],
 "metadata": {
  "kernelspec": {
   "display_name": "Python 3",
   "language": "python",
   "name": "python3"
  },
  "language_info": {
   "codemirror_mode": {
    "name": "ipython",
    "version": 3
   },
   "file_extension": ".py",
   "mimetype": "text/x-python",
   "name": "python",
   "nbconvert_exporter": "python",
   "pygments_lexer": "ipython3",
   "version": "3.7.6"
  }
 },
 "nbformat": 4,
 "nbformat_minor": 4
}
