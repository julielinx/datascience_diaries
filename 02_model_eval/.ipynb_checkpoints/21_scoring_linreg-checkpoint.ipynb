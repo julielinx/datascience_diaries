{
 "cells": [
  {
   "cell_type": "markdown",
   "metadata": {},
   "source": [
    "# Entry 21 - Scoring Models"
   ]
  },
  {
   "cell_type": "markdown",
   "metadata": {},
   "source": [
    "## The Problem"
   ]
  },
  {
   "cell_type": "markdown",
   "metadata": {},
   "source": [
    "## The Options\n",
    "\n",
    "### Scoring parameter\n",
    "\n",
    "The first option is to just list scoring methods in the scoring parameter of cross_validate. I finally found the list of options on the [3.3. Metrics and scoring: quantifying the quality of predictions](https://scikit-learn.org/stable/modules/model_evaluation.html) page under the [3.3.1. The scoring parameter: defining model evaluation rules](https://scikit-learn.org/stable/modules/model_evaluation.html#scoring-parameter) section.\n",
    "\n",
    "### Metrics module\n",
    "\n",
    "The list of options under the `scoring` parameter are limited to those that don't require extra parameters. The `make_scorer` function from the `metrics` module makes these additional metrics easily accessible. These functions follow a naming convention that makes it easy to use them with `make_scorer` and `cross-validate`:\n",
    "\n",
    "- functions ending with _score return a value to maximize, the higher the better\n",
    "- functions ending with _error or _loss return a value to minimize, the lower the better. When converting into a scorer object using make_scorer, set the greater_is_better parameter to False\n",
    "\n",
    "The `make_scorer` function also allows for the creation of custom scoring functions.\n",
    "\n",
    "### Built-in scoring options"
   ]
  },
  {
   "cell_type": "markdown",
   "metadata": {},
   "source": [
    "#### Regression\n",
    "\n",
    "- explained_variance\n",
    "- r2\n",
    "- max_error\n",
    "- neg_median_absolute_error\n",
    "- neg_mean_absolute_error\n",
    "- neg_mean_squared_error\n",
    "- neg_mean_squared_log_error\n",
    "- neg_root_mean_squared_error\n",
    "- neg_mean_poisson_deviance\n",
    "- neg_mean_gamma_deviance\n"
   ]
  },
  {
   "cell_type": "markdown",
   "metadata": {},
   "source": [
    "#### Classification\n",
    "\n",
    "- **accuracy**: \n",
    "- **balanced_accuracy**: \n",
    "- **roc_auc**: \n",
    "- **roc_auc_ovr**: \n",
    "- **roc_auc_ovo**: \n",
    "- **roc_auc_ovr_weighted**: \n",
    "- **roc_auc_ovo_weighted**: \n",
    "- **neg_log_loss**: \n",
    "- **neg_brier_score**: \n",
    "- **precision**: \n",
    "- **average_precision**: \n",
    "- **precision_macro**: \n",
    "- **precision_micro**: \n",
    "- **precision_samples**: \n",
    "- **precision_weighted**: \n",
    "- **recall**: \n",
    "- **recall_macro**: \n",
    "- **recall_micro**: \n",
    "- **recall_samples**: \n",
    "- **recall_weighted**: \n",
    "- **f1**: \n",
    "- **f1_macro**: \n",
    "- **f1_micro**: \n",
    "- **f1_samples**: \n",
    "- **f1_weighted**: \n",
    "- **jaccard**: \n",
    "- **jaccard_macro**: \n",
    "- **jaccard_micro**: \n",
    "- **jaccard_samples**: \n",
    "- **jaccard_weighted**: \n",
    " \n",
    "##### Multiclass Classification\n",
    "- **accuracy**:\n",
    "- \n"
   ]
  },
  {
   "cell_type": "markdown",
   "metadata": {},
   "source": [
    "#### Clustering\n",
    "\n",
    "- adjusted_rand_score\n",
    "- homogeneity_score\n",
    "- completeness_score\n",
    "- v_measure_score\n",
    "- mutual_info_score\n",
    "- adjusted_mutual_info_score\n",
    "- normalized_mutual_info_score\n",
    "- fowlkes_mallows_score"
   ]
  },
  {
   "cell_type": "markdown",
   "metadata": {},
   "source": [
    "### Metrics module\n",
    "\n"
   ]
  },
  {
   "cell_type": "markdown",
   "metadata": {},
   "source": [
    "## The Proposed Solution"
   ]
  },
  {
   "cell_type": "markdown",
   "metadata": {},
   "source": [
    "## The Fail"
   ]
  },
  {
   "cell_type": "markdown",
   "metadata": {},
   "source": [
    "## Up Next"
   ]
  },
  {
   "cell_type": "markdown",
   "metadata": {},
   "source": [
    "### Resources"
   ]
  }
 ],
 "metadata": {
  "kernelspec": {
   "display_name": "Python 3",
   "language": "python",
   "name": "python3"
  },
  "language_info": {
   "codemirror_mode": {
    "name": "ipython",
    "version": 3
   },
   "file_extension": ".py",
   "mimetype": "text/x-python",
   "name": "python",
   "nbconvert_exporter": "python",
   "pygments_lexer": "ipython3",
   "version": "3.7.6"
  }
 },
 "nbformat": 4,
 "nbformat_minor": 4
}
