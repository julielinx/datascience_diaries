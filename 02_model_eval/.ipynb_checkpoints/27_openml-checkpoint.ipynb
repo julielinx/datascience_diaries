{
 "cells": [
  {
   "cell_type": "markdown",
   "metadata": {},
   "source": [
    "# Entry 27 notebook - figuring out openml.org"
   ]
  },
  {
   "cell_type": "markdown",
   "metadata": {},
   "source": [
    "Figuring out how to get the data in openml.org was surprisingly difficult. All the datasets are saved as arff files, an ASCII text file type developed for use with Weka. My tool of choice, `pandas`, doesn't have a native way to load arrf files. Enter the `openml` package and `fetch_openml` module within `sklearn.datasets` package.\n",
    "\n",
    "`fetch_openml` needs the name or id of the dataset on openml.org. Unfortnuately, I couldn't find either of those things listed on the dataset's page on the site. So I moved to the `openml` package. That package was throwing errors, which resolved when I copy and pasted the same code into a different Jupyter notebook when I separated the data pull from the rest of my code to troubleshoot. So there was that.\n",
    "\n",
    "When trying to figure out exactly what was being returned and my options for working with it, I discovered the documentation was lacking in a list of available functions and explanations of what they do. Jupyter to the rescue. I used the `tab` complete functionality to see a list of available methods and managed to wind my way to the solution.\n",
    "\n",
    "By using `openml` I can get the names and ids, then I can use either package to pull the actual data. I feel like I'd found the name and version on the openml.org page for a specific dataset, but couldn't find it for the life of me this time. Oh well, using the packages is more programmatic and as an added bonus I can now look for specific types of datasets, like imbalanced binary classification problems."
   ]
  }
 ],
 "metadata": {
  "kernelspec": {
   "display_name": "Python 3",
   "language": "python",
   "name": "python3"
  },
  "language_info": {
   "codemirror_mode": {
    "name": "ipython",
    "version": 3
   },
   "file_extension": ".py",
   "mimetype": "text/x-python",
   "name": "python",
   "nbconvert_exporter": "python",
   "pygments_lexer": "ipython3",
   "version": "3.7.6"
  }
 },
 "nbformat": 4,
 "nbformat_minor": 4
}
