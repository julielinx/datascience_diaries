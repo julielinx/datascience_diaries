{
 "cells": [
  {
   "cell_type": "markdown",
   "metadata": {},
   "source": [
    "# Entry ? - Modeling Challenges"
   ]
  },
  {
   "cell_type": "markdown",
   "metadata": {},
   "source": [
    "## The Problem\n",
    "\n",
    "There are many pitfalls inherent in creating models. The three I'd like to in this entry are:\n",
    "\n",
    "- Temporary localized patterns\n",
    "- Spurious correlations\n",
    "- Flukes in the data\n",
    "\n",
    "Imbalanced data is another challenge, which I'll address it in its own entry."
   ]
  },
  {
   "cell_type": "markdown",
   "metadata": {},
   "source": [
    "### Temporary localized patterns\n",
    "\n",
    "Fraud provides a plethora of examples in this category due to its ongoing cat-and-mouse nature. For example, if a con artist is working a scam in a particular county in Florida, say targeting the eldery, there will be a temporary pattern showing an uptick in fraud in Florida. Once the con artist moves to another area, that area will show a temporary pattern.\n",
    "\n",
    "Due to its temporary, transitory nature, the location can and will change. An investigator won't be able to track the con artist to a new location until fraud is identified in that new location via other means, such as reporting by victims and those reports have accrued enough to register as a pattern.\n",
    "\n",
    "However, if a pattern of behavior can be identified that is true regardless of location, then the fraud can be tracked and identified regardless of location. For example, if the con artist is runing a pension scam they're probably targeting a specific age range (over 65) using some kind of financial scheme. These kinds of patterns are more stable that location and allow for earlier identification when a localized pattern, such as location, goes stale.\n",
    "\n",
    "Technically, using patterns from a particular fraud scheme could also be seen as being temprary, as the patterns generally won't follow the fraudster to their next scheme (they could next target college age students). But even within industries that don't have the cat-and-mouse nature of fraud, models and their features go stale.\n",
    "\n",
    "Predicting consumer behavior wouldn't have the same adversarial relationship as fraud - customers aren't trying to get around their behavior being predicted (at least not usually!). But behavior changes over time, such as in the retail industry where new fads spring up or new innovations allow for better, cheaper, or novel products. These kinds of shifts over time will make any model go out of date - ie become stale.\n",
    "\n",
    "The thing to watch out for with temporary localized patterns are trends that become useless before they can really be useful."
   ]
  },
  {
   "cell_type": "markdown",
   "metadata": {},
   "source": [
    "### Spurious correlations\n",
    "\n",
    "Spurious correlations are when two things that are completely unrelated look like they're correlated. Some great examples can be found at [tylervigen.com](https://www.tylervigen.com/spurious-correlations). Four of my favorites are:\n",
    "\n",
    "<img src='../img/spurious_corelations.png'>"
   ]
  },
  {
   "attachments": {
    "image.png": {
     "image/png": "[encoded data removed]"
    }
   },
   "cell_type": "markdown",
   "metadata": {},
   "source": [
    "### Flukes in the data\n",
    "\n",
    "The challenge of flukes in the data is similar to that of spurious correlations. There isn't really a reason for the data point to constructively contribue to the prediction, but it appears to. I love the example from Rajiv Shah's [ODSC Interpretability workshop](https://github.com/rajshah4/inter_workshop/blob/master/InterpretabilityWorkshop.pdf). Rajiv throws features created from randomly generated data into his model features to help him sort the noise (features that aren't really related to the target variable) from the signal (features that are related to the target variable).\n",
    "\n",
    "<img src='../img/random_variables.png'>\n",
    "\n",
    "I'm not sure how many features he had for this model, but three randomly generated features were in the top 30 features that contributed most to the prediction.![image.png](attachment:image.png)"
   ]
  },
  {
   "cell_type": "markdown",
   "metadata": {},
   "source": [
    "## The Options"
   ]
  },
  {
   "cell_type": "markdown",
   "metadata": {},
   "source": [
    "## The Proposed Solution"
   ]
  },
  {
   "cell_type": "markdown",
   "metadata": {},
   "source": [
    "## The Fail"
   ]
  },
  {
   "cell_type": "markdown",
   "metadata": {},
   "source": [
    "## Up Next"
   ]
  },
  {
   "cell_type": "markdown",
   "metadata": {},
   "source": [
    "### Resources"
   ]
  }
 ],
 "metadata": {
  "kernelspec": {
   "display_name": "Python 3",
   "language": "python",
   "name": "python3"
  },
  "language_info": {
   "codemirror_mode": {
    "name": "ipython",
    "version": 3
   },
   "file_extension": ".py",
   "mimetype": "text/x-python",
   "name": "python",
   "nbconvert_exporter": "python",
   "pygments_lexer": "ipython3",
   "version": "3.7.6"
  }
 },
 "nbformat": 4,
 "nbformat_minor": 4
}
