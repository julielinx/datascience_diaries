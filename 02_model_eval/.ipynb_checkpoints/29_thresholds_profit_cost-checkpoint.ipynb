{
 "cells": [
  {
   "cell_type": "markdown",
   "metadata": {},
   "source": [
    "# Entry 28 - Thresholds - Profit and cost"
   ]
  },
  {
   "cell_type": "markdown",
   "metadata": {},
   "source": [
    "## The Problem\n",
    "\n"
   ]
  },
  {
   "cell_type": "markdown",
   "metadata": {},
   "source": [
    "## The Options\n",
    "\n",
    "#### Profit\n",
    "\n",
    "This was thrown into *[Applied Predictive Modeling](https://www.amazon.com/Applied-Predictive-Modeling-Max-Kuhn-ebook/dp/B00K15TZU0)* as an example of a non-accuracy based criteria.  It allocates a gain from TP and costs for FP and FN to assign a dollar amount. The example in the book was for a direct mail campaign. `x` amount was expected to be gained by customers that responded to the mailer, `y` was spent on each mailer, and `z` was the amount lost for mailers not sent to customers that would have responded.\n",
    "\n",
    "The same basic equation can be used from a savings perspective in use cases such as fraud. `x` would be the expected savings for each case of fraud sucessfully identified and stopped, `y` would be costs like customers lost due to increased inconvenience, and `z` would be the amount lost for each fraudulent case gone undetected.\n",
    "\n",
    "$profit = xTP - yFP - zFN$\n",
    "\n",
    "An equation like this has potential for helping to set a threshold for the prediction.\n",
    "\n",
    "Variations on this concept are the probability cost function and normalized expected cost.\n",
    "\n",
    "#### Probability cost function (PCF)\n",
    "\n",
    "*Applied Predictive Modeling* page 262:\n",
    "\n",
    "> The PCF is the proportion of the total costs associated with a false-positive sample.\n",
    "\n",
    "$PCF = \\frac{P \\times C(fn)}{P \\times C(fp) + (1 - P) \\times C(fn)}$\n",
    "\n",
    "Where:\n",
    "\n",
    "- *P* is the (prior) probability of the event (all positives)\n",
    "  + IE: *P* is the proportion of positives in the data\n",
    "  + As such, 1 - *P* is the probability of a non-event, or the proportion of all negatives in the data\n",
    "- *C(fn)* is the cost of a false negative (positive observation predicted as a negative)\n",
    "- *C(fp)* is the cost of a false positive (negative observation predicted as a positive)\n",
    "\n",
    "#### Normalized expected cost (NEC)\n",
    "\n",
    "*Applied Predictive Modeling* page 262:\n",
    "\n",
    "> Essentially, the NEC takes into account the prevalence of the event, model performance, and the costs and scales the total cost to be between 0 and 1. Note that this approach only assigns costs to the two types of errors and might not be appropriate for problems where there are other costs or benefits.\n",
    "\n",
    "$NEC = PCF \\times (1-TP) + (1-PCF) \\times FP$"
   ]
  },
  {
   "cell_type": "markdown",
   "metadata": {},
   "source": [
    "## The Proposed Solution"
   ]
  },
  {
   "cell_type": "markdown",
   "metadata": {},
   "source": [
    "## The Fail"
   ]
  },
  {
   "cell_type": "markdown",
   "metadata": {},
   "source": [
    "### Resources\n",
    "\n",
    "- [Applied Predictive Modeling](https://www.amazon.com/Applied-Predictive-Modeling-Max-Kuhn-ebook/dp/B00K15TZU0)\n"
   ]
  },
  {
   "cell_type": "markdown",
   "metadata": {},
   "source": []
  }
 ],
 "metadata": {
  "kernelspec": {
   "display_name": "Python 3",
   "language": "python",
   "name": "python3"
  },
  "language_info": {
   "codemirror_mode": {
    "name": "ipython",
    "version": 3
   },
   "file_extension": ".py",
   "mimetype": "text/x-python",
   "name": "python",
   "nbconvert_exporter": "python",
   "pygments_lexer": "ipython3",
   "version": "3.7.6"
  }
 },
 "nbformat": 4,
 "nbformat_minor": 4
}
