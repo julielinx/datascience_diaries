{
 "cells": [
  {
   "cell_type": "markdown",
   "id": "e6647444-e2ea-4744-b92a-4f181885465b",
   "metadata": {},
   "source": [
    "# CSE 140: Introduction to Data Programming (now CSE 160)"
   ]
  },
  {
   "cell_type": "markdown",
   "id": "f37677da-90f3-4dbf-a825-d73a63e8ac26",
   "metadata": {},
   "source": [
    "- [CSE 140](http://courses.cs.washington.edu/courses/cse160/)\n",
    "- [Syllabus](https://courses.cs.washington.edu/courses/cse140/13wi/#resources)\n",
    "- [Lecture Calendar 140](https://courses.cs.washington.edu/courses/cse140/13wi/calendar/lecturelist.html)\n",
    "- [Homework](https://courses.cs.washington.edu/courses/cse140/13wi/calendar/hwlist.html)"
   ]
  },
  {
   "cell_type": "markdown",
   "id": "3c18f9de-e440-4922-9dbf-76349ff4aeaf",
   "metadata": {},
   "source": [
    "### Key:\n",
    "\n",
    "- [ ] L = Lecture\n",
    "- [ ] ThinkP = [Think Python ebook](https://greenteapress.com/thinkpython2/thinkpython2.pdf)\n",
    "- [ ] Ptut = [The Python Tutorial](https://docs.python.org/3/tutorial/index.html)\n",
    "- [ ] ICPUP = Introduction to Computation and Programming Using Python\n",
    "  - [Spring 2013 Edition](https://ducamp.me/images/0/00/Intro-Computation-Programming-using-Python.pdf) Uses Python 2\n",
    "  - [Revised and Expanded Edition](https://github.com/dimateos/eBook-1/blob/master/Introduction%20to%20Computation%20and%20Programming%20Using%20Python-%20Revised%20Edition%20%5BStormRG%5D/Introduction%20to%20Computation%20and%20Programming%20Using%20Python%2C%20Revised%20-%20Guttag%2C%20John%20V..pdf) posted by [Digeo Mateos](https://github.com/dimateos?tab=repositories) Uses Python 2\n",
    "  - [Second Edition](https://mitpress.mit.edu/books/introduction-computation-and-programming-using-python-second-edition) (not free) Uses Python 3. This is the version used in the course\n",
    "  - [Third Edition](https://mitpress.mit.edu/books/introduction-computation-and-programming-using-python-third-edition) (not free) Uses Python 3\n",
    "- &check; Eval = [Python Evaluation Rules](https://courses.cs.washington.edu/courses/cse140/13wi/eval_rules.pdf)"
   ]
  },
  {
   "cell_type": "markdown",
   "id": "abdf3621-f0d9-4a85-89d5-1451978e32b4",
   "metadata": {},
   "source": [
    "# Schedule"
   ]
  },
  {
   "cell_type": "markdown",
   "id": "859cfe6b-eb02-4744-8a42-f4d88a689241",
   "metadata": {},
   "source": [
    "### Week 2\n",
    "\n",
    "#### January 14\n",
    "\n",
    "- [ ] [L4: Functions](https://courses.cs.washington.edu/courses/cse140/13wi/lectures/04-functions.pdf)\n",
    "- &check; ThinkP 3\n",
    "- &check; PTut 4.6-4.8\n",
    "- [ ] ICPUP 4.0-4.2\n",
    "- &check; Eval 8\n",
    "\n",
    "#### January 16\n",
    "\n",
    "- [ ] [L5: File IO](https://courses.cs.washington.edu/courses/cse140/13wi/lectures/05-file_io.pdf)\n",
    "- [ ] ThinkP 5.3, 5.5, 14\n",
    "- [ ] PTut 7.2-7.2.1\n",
    "- [ ] ICPUP 4.6\n",
    "- [ ] [Homework 2: DNA analysis](https://courses.cs.washington.edu/courses/cse140/13wi/homework/hw2/homework2.html)\n",
    "\n",
    "#### January 18\n",
    "\n",
    "- [ ] L6: Data structures:\n",
    "  - [motivation](https://courses.cs.washington.edu/courses/cse140/13wi/lectures/06a-collections.pdf)\n",
    "  - [method syntax](https://courses.cs.washington.edu/courses/cse140/13wi/lectures/06b-method-syntax.pdf)\n",
    "  - [lists](https://courses.cs.washington.edu/courses/cse140/13wi/lectures/06c-lists.pdf)\n",
    "- [ ] ThinkP 10\n",
    "- &check; PTut 5-5.1, 5.4\n",
    "- [ ] ICPUP 5.4\n",
    "- &check; Eval 6"
   ]
  },
  {
   "cell_type": "markdown",
   "id": "06bf3e38-7c75-4b57-993a-e61e68391583",
   "metadata": {},
   "source": [
    "### Week 3\n",
    "\n",
    "#### January 23\n",
    "\n",
    "- [ ] L7: Data structures:\n",
    "  - [sets](https://courses.cs.washington.edu/courses/cse140/13wi/lectures/07a-sets.pdf)\n",
    "  - [dictionaries](https://courses.cs.washington.edu/courses/cse140/13wi/lectures/07b-dictionaries.pdf)\n",
    "- [ ] ThinkP 11, 12\n",
    "- [ ] PTut 5.4-5.8\n",
    "- [ ] ICPUP 5.1, 5.2, 5.5\n",
    "- [ ] [Dictionary practice problems](https://courses.cs.washington.edu/courses/cse140/13wi/example-problems/07-dictionaries-problems.pdf)\n",
    "\n",
    "#### January 25\n",
    "\n",
    "- [ ] [L8: Debugging](https://courses.cs.washington.edu/courses/cse140/13wi/lectures/08-debugging.pdf)\n",
    "- [ ] ThinkP Debugging sections of each chapter, Appendix A\n",
    "- [ ] ICPUP 6.2\n",
    "- [ ] [Graphs](https://courses.cs.washington.edu/courses/cse140/13wi/lectures/08b-graphs.pdf)\n",
    "- [ ] [Homework 2: Election prediction](https://courses.cs.washington.edu/courses/cse140/13wi/homework/hw3/homework3.html)"
   ]
  },
  {
   "cell_type": "markdown",
   "id": "cca24a7b-c430-4263-8701-31b7359945f9",
   "metadata": {},
   "source": [
    "### Week 4\n",
    "\n",
    "#### January 28\n",
    "\n",
    "- [ ] [L9: Sorting](https://courses.cs.washington.edu/courses/cse140/13wi/lectures/09-sorting.pdf)\n",
    "- [ ] [sorting 1,2,4,5](https://docs.python.org/2/howto/sorting.html) (don't worry about \"lambda\")\n",
    "\n",
    "#### January 30\n",
    "\n",
    "- [ ] [L10: Sharing, mutability, and immutability](https://courses.cs.washington.edu/courses/cse140/13wi/lectures/10-mutability.pdf)\n",
    "- [ ] PTut 5.3\n",
    "- [ ] [Python Language Reference: 3.1 Data Model](https://docs.python.org/3/reference/datamodel.html)\n",
    "\n",
    "#### February 1\n",
    "\n",
    "- [ ] [PEP 8 -- Style Guide for Python Code](https://www.python.org/dev/peps/pep-0008/)\n",
    "- [ ] [PEP 257 -- Docstring Conventions](https://www.python.org/dev/peps/pep-0257/)\n",
    "- [ ] [Python style and example programs](https://courses.cs.washington.edu/courses/cse140/13wi/style-guide.html)"
   ]
  },
  {
   "cell_type": "markdown",
   "id": "bf068711-5268-4d70-8da8-20e986b7cdf7",
   "metadata": {},
   "source": [
    "### Week 5\n",
    "\n",
    "#### February 4\n",
    "\n",
    "- [ ] [Homework: Social networking and recommendation systems](https://courses.cs.washington.edu/courses/cse140/13wi/homework/hw4/homework4.html)\n",
    "- [ ] [Practice midterm exam](https://courses.cs.washington.edu/courses/cse140/13wi/exams/exam0.pdf)\n",
    "- [ ] [Practice midterm exam: solutions](https://courses.cs.washington.edu/courses/cse140/13wi/exams/exam0-solutions.pdf)\n",
    "\n",
    "#### February 8\n",
    "\n",
    "- [ ] [L13: Statistics](https://courses.cs.washington.edu/courses/cse140/13wi/lectures/13-statistics.pdf)\n",
    "- [ ] [L13: Code](https://courses.cs.washington.edu/courses/cse140/13wi/lectures/13-statistics-files/lstat-13wi.py)\n",
    "- [ ] [Statistical hypothesis testing](https://en.wikipedia.org/wiki/Statistical_hypothesis_testing) Intro and examples section (only)\n",
    "- [ ] ICPUP 12-14, 16"
   ]
  },
  {
   "cell_type": "markdown",
   "id": "a305b791-bd32-4c7d-ab6d-8496ac7823f0",
   "metadata": {},
   "source": [
    "### Week 6\n",
    "\n",
    "#### February 11\n",
    "\n",
    "- [ ] [L14: Visualization](https://courses.cs.washington.edu/courses/cse140/13wi/lectures/14-visualization.pdf)\n",
    "- [ ] [L14: code 1](https://courses.cs.washington.edu/courses/cse140/13wi/lectures/14-visualization-examples/simpleplot.py)\n",
    "- [ ] [L14: code 2](https://courses.cs.washington.edu/courses/cse140/13wi/lectures/14-visualization-examples/simpleplot2.py)\n",
    "- [ ] [L14: code 3](https://courses.cs.washington.edu/courses/cse140/13wi/lectures/14-visualization-examples/simpleplot3.py)\n",
    "- [ ] [L14: code 4](https://courses.cs.washington.edu/courses/cse140/13wi/lectures/14-visualization-examples/plot_in_func.py)\n",
    "- [ ] ICPUP 11\n",
    "- [ ] [Pyplot tutorial](https://matplotlib.org/stable/tutorials/introductory/pyplot.html#sphx-glr-tutorials-introductory-pyplot-py)\n",
    "- [ ] [Hans Rosling: The best stats you've ever seen](https://www.ted.com/talks/hans_rosling_the_best_stats_you_ve_ever_seen)\n",
    "- [ ] Personal homework: Create cheat sheets from datasciencediaries entries charts\n",
    "  - 5 (viz resources)\n",
    "  - 5_nb\n",
    "  - 6\n",
    "  - 7_nb\n",
    "  - 12_nb\n",
    "  - 15a_nb\n",
    "  - 15b_nb\n",
    "  - 15c_nb\n",
    "  - 15d_nb\n",
    "  - 23\n",
    "  - 26a_nb\n",
    "  - 26b_nb\n",
    "  - 26c_nb\n",
    "  - 26d_nb\n",
    "  - 26e_nb\n",
    "  - 28a_nb\n",
    "  - 28b_nb\n",
    "  - 28c_nb\n",
    "  - 29b_nb\n",
    "  - 30\n",
    "  - 30_nb\n",
    "  - 32_nb\n",
    "  - 34a_nb\n",
    "  - 34b_nb\n",
    "  - 35\n",
    "  - 35a_nb\n",
    "  - 35b_nb\n",
    "  - 36a_nb\n",
    "  - 37b\n",
    "  - 42\n",
    "  - 44a_nb\n",
    "  - 45a_nb\n",
    "  - 49a_nb\n",
    "  - g10a_nb\n",
    "  - g10b_nb\n",
    "  - g10c_nb\n",
    "  - g12a_nb\n",
    "  - g12b_nb\n",
    "  - g12c_nb\n",
    "  - g13a_nb\n",
    "  - g19a_nb\n",
    "  - g19b_nb\n",
    "  - g19c_nb\n",
    "  - g20a_nb\n",
    "  - eval_presentation\n",
    "- [ ] Personal homework: create cheat sheets for markdown syntax from datasciencediaries entries\n",
    "  - Markdown\n",
    "    - Tables\n",
    "      - 2\n",
    "      - 5\n",
    "      - 35\n",
    "      - 36\n",
    "      - 38\n",
    "      - 50\n",
    "      - g05\n",
    "      - g18\n",
    "    - Images\n",
    "      - 2\n",
    "      - 17\n",
    "      - 23\n",
    "      - 37b\n",
    "      - 51\n",
    "      - g02\n",
    "    - LaTex / mathematical notation\n",
    "      - 8\n",
    "      - 21\n",
    "      - 22\n",
    "      - 23\n",
    "      - 24\n",
    "      - 26\n",
    "      - 29\n",
    "      - 32\n",
    "      - 35\n",
    "      - 36\n",
    "      - 37a\n",
    "      - 37b\n",
    "      - 38\n",
    "      - 39\n",
    "      - 40\n",
    "      - 41\n",
    "      - 42\n",
    "      - 48\n",
    "      - g22\n",
    "- [ ] Personal homework: create cheat sheets for data wrangling from datasciencediaries entries\n",
    "  - 14_nb\n",
    "  - 15a_nb\n",
    "  - 34a_nb\n",
    "  - 34b_nb\n",
    "  - 35\n",
    "  - 35a_nb\n",
    "  - 44a_nb\n",
    "  - 49a_nb\n",
    "  - preprocess and train model: Entries 11 and abs\n",
    "\n",
    "#### February 13\n",
    "\n",
    "- [ ] [L15: Testing](https://courses.cs.washington.edu/courses/cse140/13wi/lectures/15-testing.pdf)\n",
    "- [ ] ICPUP 6.1\n",
    "- [ ] [Homework 6: Detecting fraudulent data, from the back and from the front](https://courses.cs.washington.edu/courses/cse140/13wi/homework/hw6/assignment.html) Part I\n",
    "\n",
    "#### February 15\n",
    "\n",
    "- [ ] [L16: Development Strategies, Function Design](https://courses.cs.washington.edu/courses/cse140/13wi/lectures/16-program-development.pdf)\n",
    "- [ ] [L16: Code](https://courses.cs.washington.edu/courses/cse140/13wi/lectures/16-design-exercise/solution.py)\n",
    "- [ ] [L16: Data](https://courses.cs.washington.edu/courses/cse140/13wi/lectures/16-design-exercise/data.zip)\n",
    "- [ ] ICPUP 4.2\n",
    "- [x] ThinkP 3.12"
   ]
  },
  {
   "cell_type": "markdown",
   "id": "998ed016-bd75-4294-b310-6086bb2dc8b5",
   "metadata": {},
   "source": [
    "### Week 7\n",
    "\n",
    "#### February 22\n",
    "\n",
    "- [ ] [The Python tutorial ch 6](https://docs.python.org/3/tutorial/modules.html)\n",
    "- [ ] ThinkP 14.9\n",
    "- [ ] [Homework 6: Detecting fraudulent data, from the back and from the front](https://courses.cs.washington.edu/courses/cse140/13wi/homework/hw6/assignment.html) Part II"
   ]
  },
  {
   "cell_type": "markdown",
   "id": "a2129e50-45a7-49dc-b635-cf1d75976f38",
   "metadata": {},
   "source": [
    "### Week 8\n",
    "\n",
    "#### February 25\n",
    "\n",
    "- [ ] [L19: Design exercise](https://courses.cs.washington.edu/courses/cse140/13wi/lectures/17-design_exercise.pdf)\n",
    "- [ ] [On the Criteria To Be Used in Decomposing Systems into Modules](http://sunnyday.mit.edu/16.355/parnas-criteria.html) by DL Parnas of Carnegie-Mellon University\n",
    "\n",
    "#### February 27\n",
    "\n",
    "- [ ] ThinkP 13\n",
    "- [ ] [Homework 8: Linguistic analysis](https://courses.cs.washington.edu/courses/cse140/13wi/homework/hw8/assignment.html)\n",
    "\n",
    "#### March 1\n",
    "\n",
    "- [ ] [L21: Data abstraction](https://courses.cs.washington.edu/courses/cse140/13wi/lectures/21-data_abstraction.pdf)\n",
    "- [ ] [Abstraction](https://en.wikipedia.org/wiki/Abstraction_(computer_science))"
   ]
  },
  {
   "cell_type": "markdown",
   "id": "b94e5128-ae14-44c9-89e1-f0047b2f1a0d",
   "metadata": {},
   "source": [
    "### Week 9\n",
    "\n",
    "#### March 4\n",
    "\n",
    "- [ ] [L22: List comprehensions and slicing](https://courses.cs.washington.edu/courses/cse140/13wi/lectures/22-list-comprehensions.pdf)\n",
    "- [ ] ThinkP 14.1-14.4, 14.11\n",
    "- [ ] ICPUP 8.0, 8.1, 8.2, 8.3, and 8.4\n",
    "- [ ] [PTut 5.1.3 and 5.1.4](https://docs.python.org/3/tutorial/datastructures.html#list-comprehensions)\n",
    "\n",
    "#### March 6\n",
    "\n",
    "- [ ] [L23: Recursion](https://courses.cs.washington.edu/courses/cse140/13wi/lectures/23-recursion.pdf)\n",
    "- &check; ThinkP 5.8-5.10, 6.5\n",
    "- [ ] ICPUP 4.3\n",
    "- [ ] [Homework 9: Final project: Design your own data analysis](https://courses.cs.washington.edu/courses/cse140/13wi/homework/hw9/assignment.html) Part I\n",
    "\n",
    "#### March 8\n",
    "\n",
    "- [ ] [Practice final exam](https://courses.cs.washington.edu/courses/cse140/13wi/exams/practice-final-exam.txt)"
   ]
  },
  {
   "cell_type": "markdown",
   "id": "c8f741b4-b80b-4c98-8e89-e4c2baa21329",
   "metadata": {},
   "source": [
    "### Week 10\n",
    "\n",
    "#### March 13\n",
    "\n",
    "- [ ] [L25: Algorithmic speed](https://courses.cs.washington.edu/courses/cse140/13wi/lectures/25-algorithmic-speed.pdf)\n",
    "- [ ] [L25: code](https://courses.cs.washington.edu/courses/cse140/13wi/lectures/25-performance.py)\n",
    "- [ ] ThinkP Appendix B\n",
    "- [ ] ICPUP 9\n",
    "\n",
    "#### March 15\n",
    "\n",
    "- [ ] [L26: Wrapup](https://courses.cs.washington.edu/courses/cse140/13wi/lectures/26-wrapup.pdf)\n",
    "- [ ] PTut 12\n",
    "- [ ] [Homework 9: Final project: Design your own data analysis](https://courses.cs.washington.edu/courses/cse140/13wi/homework/hw9/assignment.html) Part II\n",
    "- [ ] [CSE 140 final projects](https://courses.cs.washington.edu/courses/cse140/13wi/projects/)"
   ]
  },
  {
   "cell_type": "markdown",
   "id": "2d4fe66d-1b47-4b94-9b5e-97055a39c861",
   "metadata": {},
   "source": [
    "### Week 1\n",
    "\n",
    "#### January 7\n",
    "\n",
    "- &check; [L0: Introduction](https://courses.cs.washington.edu/courses/cse140/13wi/lectures/00-introduction.pdf)\n",
    "- &check; Think Python ch 1\n",
    "- &check; Ptut 1\n",
    "- &check; ICPUP 1\n",
    "- &check; [What is Computational thinking?](https://edu.google.com/resources/programs/exploring-computational-thinking/) - appears to have changed since originally posted\n",
    "\n",
    "#### January 9\n",
    "\n",
    "- &check; [L1: Intro to Python](https://courses.cs.washington.edu/courses/cse140/13wi/lectures/01-intro-python.pdf)\n",
    "- &check; ThinkP 2, 7.1, 7.2\n",
    "- &check; PTut 3\n",
    "- &check; ICPUP 2.0-2.1\n",
    "- &check; Eval 1-4\n",
    "- &check; [L2: the Python interpreter](https://courses.cs.washington.edu/courses/cse140/13wi/lectures/02-interpreter.pdf)\n",
    "- &check; [Shell usage](https://courses.cs.washington.edu/courses/cse140/13wi/shell-usage.html)\n",
    "\n",
    "#### January 11\n",
    "\n",
    "- &check; [L3: Control flow](https://courses.cs.washington.edu/courses/cse140/13wi/lectures/03-control.pdf)\n",
    "- &check; ThinkP 5.1-5.7\n",
    "- &check; PTut 4-4.5, 5.7\n",
    "- &check; ICPUP 2.2-2.4\n",
    "- &check; Eval 5, 7\n",
    "- &check; [Homework 1: Welcome to Python](https://courses.cs.washington.edu/courses/cse140/13wi/homework/hw1/hw1.html)"
   ]
  },
  {
   "cell_type": "markdown",
   "id": "f32861a3-3e75-4358-8d84-8e555d9e0acf",
   "metadata": {},
   "source": [
    "# Homework"
   ]
  },
  {
   "cell_type": "markdown",
   "id": "75810931-6d85-4e82-8e6a-080548564aa4",
   "metadata": {},
   "source": [
    "## Homework 1"
   ]
  },
  {
   "cell_type": "code",
   "execution_count": 2,
   "id": "e84ca909-04f8-4783-8cff-35646a899c5e",
   "metadata": {},
   "outputs": [],
   "source": [
    "import math"
   ]
  },
  {
   "cell_type": "markdown",
   "id": "50d6e705-c752-4baf-818f-6a4159c27b56",
   "metadata": {},
   "source": [
    "### Problem 1\n",
    "\n",
    "Compute and print both roots of the quadratic equation x2-5.86 x+ 8.5408\n",
    "\n",
    "Hint: the roots of a quadratic equation $ax^2 + bx + c$ are $x = \\frac{-b \\pm \\sqrt{b^2 - 4ac}}{2a}$"
   ]
  },
  {
   "cell_type": "code",
   "execution_count": 6,
   "id": "ee7f6862-2c59-4d99-b39d-84c7d4eb3123",
   "metadata": {},
   "outputs": [
    {
     "name": "stdout",
     "output_type": "stream",
     "text": [
      "Problem 1 solution follows:\n",
      "\n",
      "Answer 1: 3.1400000000000006 \n",
      "Answer 2: 2.7199999999999998 \n",
      "\n",
      "Solution1: 0.0\n",
      "Solution2: 0.0\n"
     ]
    }
   ],
   "source": [
    "print(\"Problem 1 solution follows:\\n\")\n",
    "\n",
    "def quad_answers(a, b, c):\n",
    "    x1 = (-b + math.sqrt(b**2 - 4*a*c)) / (2*a)\n",
    "    x2 = (-b - math.sqrt(b**2 - 4*a*c)) / (2*a)\n",
    "    return x1, x2\n",
    "\n",
    "answer1, answer2 = quad_answers(1, -5.86, 8.5408)\n",
    "\n",
    "print(\"Answer 1:\", answer1,\"\\nAnswer 2:\", answer2, \"\\n\")\n",
    "\n",
    "print('Solution1:', answer1**2 - 5.86 * answer1 + 8.5408)\n",
    "print('Solution2:', answer2**2 - 5.86 * answer2 + 8.5408)"
   ]
  },
  {
   "cell_type": "markdown",
   "id": "2e8e6502-8ff0-4dc9-bc68-32c1614c5fd8",
   "metadata": {},
   "source": [
    "### Problem 2\n",
    "\n",
    "Use a for loop to print the decimal representations of 1/2, 1/3, ..., 1/10, one on each line."
   ]
  },
  {
   "cell_type": "code",
   "execution_count": 9,
   "id": "ff6412c5-af1a-40d7-b0fd-20b79c3a6749",
   "metadata": {},
   "outputs": [
    {
     "name": "stdout",
     "output_type": "stream",
     "text": [
      "Problem 2 solution follows:\n",
      "0.5\n",
      "0.3333333333333333\n",
      "0.25\n",
      "0.2\n",
      "0.16666666666666666\n",
      "0.14285714285714285\n",
      "0.125\n",
      "0.1111111111111111\n",
      "0.1\n"
     ]
    }
   ],
   "source": [
    "print(\"Problem 2 solution follows:\")\n",
    "\n",
    "for x in range(2,11):\n",
    "    print(1/x)"
   ]
  },
  {
   "cell_type": "markdown",
   "id": "fab1dbf4-5ae4-402e-9391-87d6755fdb68",
   "metadata": {},
   "source": [
    "### Problem 3\n",
    "\n",
    "Use a for loop to compute the 10th triangular number.\n",
    "\n",
    "The nth triangular number is defined as 1+2+3+...+n. (You can also compute the nth triangular number as n*(n+1)/2. Use this formula to double-check that your loop is correct.)"
   ]
  },
  {
   "cell_type": "code",
   "execution_count": 12,
   "id": "9c2cbbbc-b16f-46c0-943c-dca1a1bef946",
   "metadata": {},
   "outputs": [
    {
     "name": "stdout",
     "output_type": "stream",
     "text": [
      "Problem 3 solution follows:\n",
      "0\n",
      "1\n",
      "3\n",
      "6\n",
      "10\n",
      "15\n",
      "21\n",
      "28\n",
      "36\n",
      "45\n",
      "55\n"
     ]
    }
   ],
   "source": [
    "print(\"Problem 3 solution follows:\")\n",
    "\n",
    "x= 0\n",
    "for i in range(11):\n",
    "    x+=i\n",
    "    print(x)"
   ]
  },
  {
   "cell_type": "code",
   "execution_count": 13,
   "id": "6ace5719-eb2c-4d7c-90dd-f84ea78e8873",
   "metadata": {},
   "outputs": [
    {
     "name": "stdout",
     "output_type": "stream",
     "text": [
      "55.0\n"
     ]
    }
   ],
   "source": [
    "def triangular_calc(n):\n",
    "    x = n*(n+1)/2\n",
    "    print(x)\n",
    "\n",
    "triangular_calc(10)"
   ]
  },
  {
   "cell_type": "markdown",
   "id": "bdf59b33-8ed5-4505-bb3d-156044d26e44",
   "metadata": {},
   "source": [
    "### Problem 4\n",
    "\n",
    "Use a for loop to compute 10!, the factorial of 10. Recall that the factorial of n is 1*2*3*...*n.\n",
    "\n",
    "The first line of your solution will be n = 10. After that, your solution should not use 10 again, though your solution will use n. In other words, your code (after the n = 10 line) should work for any value of n."
   ]
  },
  {
   "cell_type": "code",
   "execution_count": 16,
   "id": "811ba4d9-5a12-471d-b4dc-5a6631ff8c27",
   "metadata": {},
   "outputs": [
    {
     "name": "stdout",
     "output_type": "stream",
     "text": [
      "Problem 4 solution follows:\n",
      "3628800\n"
     ]
    }
   ],
   "source": [
    "print(\"Problem 4 solution follows:\")\n",
    "\n",
    "n = 10\n",
    "\n",
    "def factorial_ans(n):\n",
    "    x = 1\n",
    "    for i in range(1, n+1):\n",
    "        x = x * i\n",
    "    return x\n",
    "\n",
    "print(factorial_ans(n))"
   ]
  },
  {
   "cell_type": "markdown",
   "id": "2836bc70-d19e-4361-9536-656ac1ce8bf7",
   "metadata": {},
   "source": [
    "### Problem 5\n",
    "\n",
    "Write code to print the first 10 factorials, in reverse order. In other words, write code that prints 10!, then prints 9!, then prints 8!, ..., then prints 1!."
   ]
  },
  {
   "cell_type": "code",
   "execution_count": 22,
   "id": "934b502e-57ba-44b7-8dfc-056ef7320d58",
   "metadata": {},
   "outputs": [
    {
     "name": "stdout",
     "output_type": "stream",
     "text": [
      "Problem 5 solution follows:\n",
      "3628800\n",
      "362880\n",
      "40320\n",
      "5040\n",
      "720\n",
      "120\n",
      "24\n",
      "6\n",
      "2\n",
      "1\n"
     ]
    }
   ],
   "source": [
    "print(\"Problem 5 solution follows:\")\n",
    "\n",
    "numlines = 10\n",
    "\n",
    "for x in range(n, 0, -1):\n",
    "    print(factorial_ans(x))"
   ]
  },
  {
   "cell_type": "markdown",
   "id": "839ac6f3-95d2-4f49-890f-7966287b699e",
   "metadata": {},
   "source": [
    "### Problem 6\n",
    "\n",
    "Compute the following value:  1 + 1/1! + 1/2! + 1/3! + 1/4! + ... + 1/10!\n",
    "\n",
    "The value should be close to e (≈ 2.71828), the base of the natural logarithms."
   ]
  },
  {
   "cell_type": "code",
   "execution_count": 24,
   "id": "aff6a242-df57-4ad0-bbcd-97659ec7a315",
   "metadata": {},
   "outputs": [
    {
     "name": "stdout",
     "output_type": "stream",
     "text": [
      "Problem 6 solution follows:\n",
      "2.7182818011463845\n"
     ]
    }
   ],
   "source": [
    "print(\"Problem 6 solution follows:\")\n",
    "\n",
    "def nat_log(n):\n",
    "    x = 1\n",
    "    for i in range(1, n+1):\n",
    "        x += (1/factorial_ans(i))\n",
    "    return x\n",
    "\n",
    "print(nat_log(10))"
   ]
  },
  {
   "cell_type": "markdown",
   "id": "5725163f-46a2-4d58-be75-60c2d96b513e",
   "metadata": {},
   "source": [
    "# Books\n",
    "\n",
    "- [Think Python ebook](https://greenteapress.com/thinkpython2/thinkpython2.pdf)\n",
    "  - &check; Ch 1\n",
    "  - &check; Ch 2\n",
    "  - &check; Ch 3\n",
    "  - &check; Ch 4\n",
    "  - &check; Ch 5\n",
    "  - &check; Ch 6\n",
    "  - &check; Ch 7\n",
    "  - [ ] Ch 8\n",
    "  - [ ] Ch 9\n",
    "  - [ ] Ch 10\n",
    "  - [ ] Ch 11\n",
    "  - [ ] Ch 12\n",
    "  - [ ] Ch 13\n",
    "  - [ ] Ch 14\n",
    "  - [ ] Ch 15\n",
    "  - [ ] Ch 16\n",
    "  - [ ] Ch 17\n",
    "  - [ ] Ch 18\n",
    "  - [ ] Ch 19\n",
    "  - [ ] Apendix A\n",
    "  - [ ] Apendix B \n",
    "- [The Python Tutorial](https://docs.python.org/3/tutorial/index.html)\n",
    "  - &check; Ch 1\n",
    "  - &check; Ch 2\n",
    "  - &check; Ch 3\n",
    "  - &check; Ch 4\n",
    "  - &check; Ch 5\n",
    "  - [ ] Ch 6\n",
    "  - [ ] Ch 7\n",
    "  - [ ] Ch 8\n",
    "  - [ ] Ch 9\n",
    "  - [ ] Ch 10\n",
    "  - [ ] Ch 11\n",
    "  - [ ] Ch 12\n",
    "  - [ ] Ch 13\n",
    "  - [ ] Ch 14\n",
    "  - [ ] Ch 15\n",
    "  - [ ] Ch 16\n",
    "- Introduction to Computation and Programming Using Python [Second Edition](https://mitpress.mit.edu/books/introduction-computation-and-programming-using-python-second-edition)\n",
    "    - &check; Ch 1\n",
    "    - &check; Ch 2\n",
    "    - [ ] Ch 3\n",
    "    - [ ] Ch 4\n",
    "    - [ ] Ch 5\n",
    "    - [ ] Ch 6\n",
    "    - [ ] Ch 7\n",
    "    - [ ] Ch 8\n",
    "    - [ ] Ch 9\n",
    "    - [ ] Ch 10\n",
    "    - [ ] Ch 11\n",
    "    - [ ] Ch 12\n",
    "    - [ ] Ch 13\n",
    "    - [ ] Ch 14\n",
    "    - [ ] Ch 15\n",
    "    - [ ] Ch 16\n",
    "    - [ ] Ch 17\n",
    "    - [ ] Ch 18\n",
    "    - [ ] Ch 19\n",
    "    - [ ] Ch 20\n",
    "    - [ ] Ch 21\n",
    "    - [ ] Ch 22\n",
    "    - [ ] Ch 23\n",
    "    - [ ] Ch 24"
   ]
  }
 ],
 "metadata": {
  "kernelspec": {
   "display_name": "Python 3",
   "language": "python",
   "name": "python3"
  },
  "language_info": {
   "codemirror_mode": {
    "name": "ipython",
    "version": 3
   },
   "file_extension": ".py",
   "mimetype": "text/x-python",
   "name": "python",
   "nbconvert_exporter": "python",
   "pygments_lexer": "ipython3",
   "version": "3.8.8"
  }
 },
 "nbformat": 4,
 "nbformat_minor": 5
}
