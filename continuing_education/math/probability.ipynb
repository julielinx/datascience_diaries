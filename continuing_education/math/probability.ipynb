{
 "cells": [
  {
   "cell_type": "markdown",
   "id": "5504b02d-a00a-481e-8336-9bf2fc71cd79",
   "metadata": {},
   "source": [
    "# OCW Probability"
   ]
  },
  {
   "cell_type": "markdown",
   "id": "42e70a05-302f-4402-8164-a42f2f368378",
   "metadata": {},
   "source": [
    "- 18.05: [Introduction To Probability And Statistics](https://ocw.mit.edu/courses/18-440-probability-and-random-variables-spring-2014/)\n",
    "    - Readings are online, no textbook. Might be too easy\n",
    "    - Taught with R\n",
    "    - Prereq: None\n",
    "- 18.041: [Probabilistic Systems Analysis And Applied Probability](https://ocw.mit.edu/courses/6-041-probabilistic-systems-analysis-and-applied-probability-fall-2010/)\n",
    "    - Texbook: Bertsekas, Dimitri, and John Tsitsiklis. Introduction to Probability\n",
    "    - Alternative texts:\n",
    "        - Drake, Alvin. Fundamentals of Applied Probability Theory\n",
    "        - Ross, Sheldon. A First Course in Probability\n",
    "    - Prereq: Multivariable Calc\n",
    "    - [Updated course with videos](https://ocw.mit.edu/courses/6-041sc-probabilistic-systems-analysis-and-applied-probability-fall-2013/pages/syllabus/)\n",
    "- 18.600: [Probability And Random Variables](https://ocw.mit.edu/courses/18-600-probability-and-random-variables-fall-2019/)\n",
    "    - Textbook: Ross, Sheldon. A First Course in Probability\n",
    "    - Free online book: [Introduction to Probability](https://math.dartmouth.edu/~prob/prob/prob.pdf) - Dartmouth\n",
    "    - Prereq: Multivariable Calc\n",
    "- 1.017: [Computing And Data Analysis For Environmental Applications](https://ocw.mit.edu/courses/1-017-computing-and-data-analysis-for-environmental-applications-fall-2003/pages/syllabus/)\n",
    "    - Might be an interesting practice course\n",
    "    - First semester\n",
    "- 1.010: [Uncertainty In Engineering](https://ocw.mit.edu/courses/1-010-uncertainty-in-engineering-fall-2008/)\n",
    "    - Second semester"
   ]
  },
  {
   "cell_type": "code",
   "execution_count": null,
   "id": "f2baf616-081c-4122-8018-34b2f4c6d098",
   "metadata": {},
   "outputs": [],
   "source": []
  }
 ],
 "metadata": {
  "kernelspec": {
   "display_name": "Python 3",
   "language": "python",
   "name": "python3"
  },
  "language_info": {
   "codemirror_mode": {
    "name": "ipython",
    "version": 3
   },
   "file_extension": ".py",
   "mimetype": "text/x-python",
   "name": "python",
   "nbconvert_exporter": "python",
   "pygments_lexer": "ipython3",
   "version": "3.8.8"
  }
 },
 "nbformat": 4,
 "nbformat_minor": 5
}
