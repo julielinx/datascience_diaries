{
 "cells": [
  {
   "cell_type": "markdown",
   "id": "927f0315-22fd-4613-9810-3f6f03eac1af",
   "metadata": {},
   "source": [
    "## 1. Simplify the expresions using the logarithm rules\n",
    "\n",
    "a. $e^{4 \\ln(x) + 1}$\n",
    "\n",
    "$\\quad e^{\\ln(x^4)}e^1$\n",
    "\n",
    "$\\quad ex^4$\n",
    "\n",
    "b. $\\log(5) + \\log(x) - 2 \\log(y)$\n",
    "\n",
    "$\\quad \\log(5x) - \\log(y^2)$\n",
    "\n",
    "$\\quad \\log(\\frac{5x}{y^2})$\n",
    "\n",
    "c. $5^{\\log_5(x^2) - 2 \\log_5(y)}$\n",
    "\n",
    "$\\quad 5^{\\log_5(x^2) - \\log_5(y^2)}$\n",
    "\n",
    "$\\quad 5^{\\log_5(\\frac{x^2}{y^2})}$\n",
    "\n",
    "$\\frac{x^2}{y^2}$"
   ]
  },
  {
   "cell_type": "markdown",
   "id": "c1f71cff-4498-4912-8132-9b8dc91c1cca",
   "metadata": {},
   "source": [
    "## 2. Evaluate $\\log_2(\\frac{8}{\\sqrt{16^5}})$\n",
    "\n",
    "$\\log_2(\\frac{8}{16^{\\frac{5}{2}}})$\n",
    "\n",
    "$\\log_2(8) - \\log_2({16^{\\frac{5}{2}}})$\n",
    "\n",
    "$\\log_2(8) - \\frac{5}{2}\\log_2(16)$\n",
    "\n",
    "$3 - \\frac{5}{2} \\times \\frac{4}{1} = 3 - 5 \\times 2$\n",
    "\n",
    "$3 - 10 = -7$"
   ]
  },
  {
   "cell_type": "markdown",
   "id": "8b32ab20-3ae6-4fc4-8304-980d4bbcfa9f",
   "metadata": {},
   "source": [
    "3. Solve for x\n",
    "\n",
    "$\\log_3(x) + \\log_3(x-6) = 3$\n",
    "\n",
    "$\\log_3(x(x-6)) = 3$\n",
    "\n",
    "$3^{\\log_3(x(x-6))} = 3^3$\n",
    "\n",
    "$x(x-6) = 27$\n",
    "\n",
    "$x^2 - 6x - 27 = 0$\n",
    "\n",
    "$(x + 3)(x - 9)$\n",
    "\n",
    "$x = -3 \\text{ or } x = 9$\n",
    "\n",
    "Domain of logarithms = $\\mathbb{R^+}$\n",
    "\n",
    "Solution: x = 9"
   ]
  },
  {
   "cell_type": "markdown",
   "id": "eb03a8a8-c196-4c24-856f-837c19df045d",
   "metadata": {},
   "source": [
    "4. Solve for x\n",
    "\n",
    "$\\ln(x + 1) - \\ln(x) = 1$\n",
    "\n",
    "$\\ln(\\frac{x + 1}{x}) = 1$\n",
    "\n",
    "$e^{\\ln(\\frac{x + 1}{x})} = e^1$\n",
    "\n",
    "$\\frac{x + 1}{x} = e$\n",
    "\n",
    "$x + 1 = ex$\n",
    "\n",
    "$ex - x = 1$\n",
    "\n",
    "$x(e - 1) = 1$\n",
    "\n",
    "$x = \\frac{1}{e - 1}$"
   ]
  },
  {
   "cell_type": "markdown",
   "id": "7dd224e5-213b-4148-96cd-34b470b329f5",
   "metadata": {},
   "source": [
    "$\\frac{180s - 360}{s} = \\theta$\n",
    "\n",
    "$180s - 360 = \\theta s$\n",
    "\n",
    "$180s - \\theta s = 360$\n",
    "\n",
    "$s(180 - \\theta) = 360$\n",
    "\n",
    "$s = $"
   ]
  }
 ],
 "metadata": {
  "kernelspec": {
   "display_name": "Python 3",
   "language": "python",
   "name": "python3"
  },
  "language_info": {
   "codemirror_mode": {
    "name": "ipython",
    "version": 3
   },
   "file_extension": ".py",
   "mimetype": "text/x-python",
   "name": "python",
   "nbconvert_exporter": "python",
   "pygments_lexer": "ipython3",
   "version": "3.8.8"
  }
 },
 "nbformat": 4,
 "nbformat_minor": 5
}
