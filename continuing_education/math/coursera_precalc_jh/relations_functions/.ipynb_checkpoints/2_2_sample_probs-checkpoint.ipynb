{
 "cells": [
  {
   "cell_type": "code",
   "execution_count": 1,
   "id": "758d9be7-1cfe-493d-b5a9-e2ea65b5fba7",
   "metadata": {},
   "outputs": [],
   "source": [
    "import numpy as np\n",
    "import matplotlib.pyplot as plt"
   ]
  },
  {
   "cell_type": "markdown",
   "id": "8b60fe95-7367-44fc-b869-4d6989e0205e",
   "metadata": {},
   "source": [
    "## 1. $f(x) = e^x$ and $g(x) = \\sqrt{x - 1}$\n",
    "\n",
    "a. Find $(f \\circ g)(x)$ What is the domain of $f \\circ g$?\n",
    "\n",
    "$e^{\\sqrt{x - 1}}$\n",
    "\n",
    "Domain: $[1, \\infty)$\n",
    "\n",
    "b. Find $(g \\circ f)(x)$ What is the domain of $g \\circ f$\n",
    "\n",
    "$\\sqrt{e^x - 1}$\n",
    "\n",
    "Domain: $[0, \\infty)$"
   ]
  },
  {
   "cell_type": "markdown",
   "id": "0b2641ca-bd93-48c1-a8d0-f1f62a098bab",
   "metadata": {},
   "source": [
    "## 2. Let $h(x) = \\frac{1}{\\sqrt[3]{x^2 + 2x + 1}}$\n",
    "\n",
    "Find two functions f(x) and g(x) such that $h(x) = (f \\circ g)(x)$\n",
    "\n",
    "$f(x) = \\frac{1}{\\sqrt[3]{x}}$\n",
    "\n",
    "$g(x) = x^2 + 2x + 1$"
   ]
  },
  {
   "cell_type": "markdown",
   "id": "d568e08b-87eb-4708-bc20-00c1736aa077",
   "metadata": {},
   "source": [
    "## 3. Which functions have an inverse\n",
    "\n",
    "To have an inverse, there needs to be a one-to-one relationship between x and y. I.E. the horizontal line test (as opposed to the vertical line test, which indicates whether an equation is a function or not)\n",
    "\n",
    "a. $f(x) = 3x^2$\n",
    "\n",
    "There are 2 solutions of y for each x, thus this has no inverse.\n",
    "\n",
    "b. $g(x) = 2x^3$\n",
    "\n",
    "Yes. Inverse:\n",
    "\n",
    "$\\quad y = 2x^3$\n",
    "\n",
    "$\\quad x = 2y^3$\n",
    "\n",
    "$\\quad g^{-1}(x) = \\sqrt[3]{\\frac{x}{2}}$\n",
    "\n",
    "c. $h(x) = -\\frac{4}{5}x - 7$\n",
    "\n",
    "Yes. Inverse:\n",
    "\n",
    "$\\quad y = -\\frac{4}{5}x - 7$\n",
    "\n",
    "$\\quad x = -\\frac{4}{5}y - 7$\n",
    "\n",
    "$\\quad -\\frac{4}{5}y = x + 7$\n",
    "\n",
    "$\\quad h^{-1}(x) = -\\frac{5}{4}(x + 7)$\n",
    "\n",
    "d. $k(x) = -\\sin x$\n",
    "\n",
    "There isn't a one-to-one relationship between x and y. No inverse."
   ]
  },
  {
   "cell_type": "markdown",
   "id": "c15ee572-d032-4970-b811-0b5fd6307e08",
   "metadata": {},
   "source": [
    "## 4. $f(x) = \\frac{x + 3}{x - 2}$ Find $f^{-1}(x)$\n",
    "\n",
    "$y = \\frac{x + 3}{x - 2}$\n",
    "\n",
    "$x = \\frac{y + 3}{y - 2}$\n",
    "\n",
    "$x(y - 2) = y + 3$\n",
    "\n",
    "$xy - 2x = y + 3$\n",
    "\n",
    "$xy - y = 2x + 3$\n",
    "\n",
    "$y(x - 1) = 2x + 3$\n",
    "\n",
    "$y = \\frac{2x + 3}{x - 1}$"
   ]
  },
  {
   "cell_type": "markdown",
   "id": "73e12e0c-a354-4021-9248-bb4ed66d2185",
   "metadata": {},
   "source": []
  },
  {
   "cell_type": "markdown",
   "id": "8baba766-fca5-4a5b-8577-dbce33fd2426",
   "metadata": {},
   "source": []
  }
 ],
 "metadata": {
  "kernelspec": {
   "display_name": "Python 3",
   "language": "python",
   "name": "python3"
  },
  "language_info": {
   "codemirror_mode": {
    "name": "ipython",
    "version": 3
   },
   "file_extension": ".py",
   "mimetype": "text/x-python",
   "name": "python",
   "nbconvert_exporter": "python",
   "pygments_lexer": "ipython3",
   "version": "3.8.8"
  }
 },
 "nbformat": 4,
 "nbformat_minor": 5
}
