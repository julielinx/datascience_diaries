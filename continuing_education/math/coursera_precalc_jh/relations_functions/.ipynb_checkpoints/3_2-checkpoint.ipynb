{
 "cells": [
  {
   "cell_type": "markdown",
   "id": "4d1b31fc-b9a1-4b76-b861-01ebbdc9265b",
   "metadata": {},
   "source": [
    "## 1. Let $f(x) = 2 \\log_5(x - 3) + 1$\n",
    "\n",
    "a. Find the domain\n",
    "\n",
    "Logarithmic functions are only defined for inputs greater than 0. Thus, $x - 3 > 0$, which gives $x > 3$\n",
    "\n",
    "Solution: $(3, \\infty)$\n",
    "\n",
    "b. Find some points on the graph\n",
    "\n",
    "$f(x) = 2 \\log_5(x - 3) + 1 = 5^{x - 3} + 1$"
   ]
  },
  {
   "cell_type": "code",
   "execution_count": 1,
   "id": "ae361ce3-6dea-4652-88ac-45cec0cc88ea",
   "metadata": {},
   "outputs": [],
   "source": [
    "import numpy as np\n",
    "import matplotlib.pyplot as plt"
   ]
  },
  {
   "cell_type": "code",
   "execution_count": 21,
   "id": "c90238c0-fdc6-4a11-8572-ed79de846479",
   "metadata": {},
   "outputs": [
    {
     "data": {
      "image/png": "[encoded data removed]",
      "text/plain": [
       "<Figure size 432x288 with 1 Axes>"
      ]
     },
     "metadata": {
      "needs_background": "light"
     },
     "output_type": "display_data"
    }
   ],
   "source": [
    "x = np.linspace(3.000001, 50, 100)\n",
    "y = 2 * np.emath.logn(5, (x - 3)) + 1\n",
    "\n",
    "plt.plot(x, y)\n",
    "plt.grid();"
   ]
  },
  {
   "cell_type": "markdown",
   "id": "be8b75cb-1418-4b91-a1f2-73fe8c3e194e",
   "metadata": {},
   "source": [
    "2. $f(x) = \\frac{1}{2 \\log(x) + 1}$ and $g(x) = \\frac{1}{\\log(x^2) + 1}$\n",
    "\n",
    "a. Find the domain of f(x) and g(x)\n",
    "\n",
    "f(x): x > 0 and dominator $\\ne 0$\n",
    "\n",
    "$\\quad 2 \\log(x) + 1 = 0$\n",
    "\n",
    "$\\quad 2 \\log(x) = -1$\n",
    "\n",
    "$\\quad \\log(x) = -\\frac{1}{2}$\n",
    "\n",
    "$\\quad x = 10^{-\\frac{1}{2}} \\Rightarrow \\frac{1}{\\sqrt{10}} = \\frac{\\sqrt{10}}{10}$\n",
    "\n",
    "f(x) solution: $(0, \\infty)$\n",
    "\n",
    "g(x): $x^2$ > 0 and dominator $\\ne 0$\n",
    "\n",
    "g(x) solution: "
   ]
  },
  {
   "cell_type": "code",
   "execution_count": 22,
   "id": "c7149e9c-6990-4d32-b551-b5e7b8e7ce6a",
   "metadata": {},
   "outputs": [
    {
     "data": {
      "text/plain": [
       "0"
      ]
     },
     "execution_count": 22,
     "metadata": {},
     "output_type": "execute_result"
    }
   ],
   "source": [
    "0**2"
   ]
  },
  {
   "cell_type": "code",
   "execution_count": 23,
   "id": "e83172fa-e252-487d-91cb-0a1c636b5a97",
   "metadata": {},
   "outputs": [
    {
     "name": "stderr",
     "output_type": "stream",
     "text": [
      "<ipython-input-23-05eeb777afac>:2: RuntimeWarning: invalid value encountered in log\n",
      "  y = np.log(x)\n"
     ]
    }
   ],
   "source": [
    "x = np.linspace(-5, 5, 100)\n",
    "y = np.log(x)"
   ]
  },
  {
   "cell_type": "markdown",
   "id": "b71f98ca-8d46-4a57-a25e-5f8f453243ed",
   "metadata": {},
   "source": [
    "3. Let $f(x) = \\sqrt{1 - e^{x + 1}}$\n",
    "\n",
    "a. Find the inverse\n",
    "\n",
    "$y = \\sqrt{1 - e^{x + 1}}$\n",
    "\n",
    "$x = \\sqrt{1 - e^{y + 1}}$\n",
    "\n",
    "$x^2 = 1 - e^{y + 1}$\n",
    "\n",
    "$e^{y + 1} = 1 - x^2$\n",
    "\n",
    "$\\ln e^{y + 1} = \\ln(1 - x^2)$\n",
    "\n",
    "$y + 1 = \\ln(1 - x^2)$\n",
    "\n",
    "$y = \\ln(1 - x^2) - 1$\n",
    "\n",
    "$f^{-1}(x) = \\ln(1 - x^2) - 1$"
   ]
  },
  {
   "cell_type": "markdown",
   "id": "897eaa9d-62de-40eb-9c25-f3d9dc3d41ba",
   "metadata": {},
   "source": [
    "b. Find the domain and range of f(x)\n",
    "\n",
    "Domain:\n",
    "\n",
    "$1 - e^{x + 1} \\ge 0$\n",
    "\n",
    "$1 \\ge e^{x + 1}$\n",
    "\n",
    "$\\ln(1) \\ge \\ln{e^{x + 1}}$\n",
    "\n",
    "$0 \\ge x + 1$\n",
    "\n",
    "$-1 \\ge x$\n",
    "\n",
    "Solution: $(-\\infty, -1]$\n",
    "\n",
    "Range:\n",
    "\n",
    "$\\sqrt{1 - e^{x + 1}}$\n",
    "\n",
    "$\\sqrt{1 - e^{-1 + 1}}$\n",
    "\n",
    "$\\sqrt{0} = 0$\n",
    "\n",
    "$\\sqrt{1 - e^{-10 + 1}}$\n",
    "\n",
    "$\\sqrt{1 - e^{-9}}$\n",
    "\n",
    "$\\sqrt{1 - \\frac{1}{e^9}} \\to \\sqrt{1 - 0} = 1$\n",
    "\n",
    "Solution: $[0, 1)$"
   ]
  },
  {
   "cell_type": "markdown",
   "id": "fc0a5f74-b774-4f66-a655-03b18d8fabb2",
   "metadata": {},
   "source": [
    "c. Find the domain and range of $f^{-1}(x)$\n",
    "\n",
    "$\\quad f^{-1}(x) = \\ln(1 - x^2) - 1$\n",
    "\n",
    "The domain of f(x) is the range of $f^{-1}(x)$ and the range of f(x) is the domain of $f^{-1}(x)$.\n",
    "\n",
    "Solution: domain = $[0, 1)$, range = $(-\\infty, -1]$"
   ]
  },
  {
   "cell_type": "markdown",
   "id": "b7766d2c-aad2-45e4-935c-f86b7c5c7eb6",
   "metadata": {},
   "source": [
    "d. Find the x- and y-intercepts of $f(x)$ and $f^{-1}(x)$\n",
    "\n",
    "$\\quad f(x) = \\sqrt{1 - e^{x + 1}}$\n",
    "\n",
    "x-intercept = (0, -1)\n",
    "\n",
    "y-intercept = DNE\n",
    "\n",
    "$\\quad f^{-1}(x) = \\ln(1 - x^2) - 1$\n",
    "\n",
    "x-intercept = DNE\n",
    "\n",
    "y-intercept = (0, -1)"
   ]
  },
  {
   "cell_type": "markdown",
   "id": "45be8b63-c1d2-4028-8cf9-4c88ddba91c5",
   "metadata": {},
   "source": [
    "## 4. $f(x) = \\frac{\\log_2(x) + 1}{\\log_2(x) - 1}$"
   ]
  },
  {
   "cell_type": "markdown",
   "id": "e885945f-3ca3-447f-b797-8413928219e9",
   "metadata": {},
   "source": [
    "a. Find the inverse\n",
    "\n",
    "$f(x) = \\frac{\\log_2(x) + 1}{\\log_2(x) - 1}$\n",
    "\n",
    "$y = \\frac{\\log_2(x) + 1}{\\log_2(x) - 1}$\n",
    "\n",
    "$x = \\frac{\\log_2(y) + 1}{\\log_2(y) - 1}$"
   ]
  },
  {
   "cell_type": "markdown",
   "id": "4a15872c-d09e-45d0-a16a-0aa5fa9a79e6",
   "metadata": {},
   "source": [
    "$x(\\log_2(y) - 1) = \\log_2(y) + 1$\n",
    "\n",
    "$x(\\log_2(y)) - x = \\log_2(y) + 1$\n",
    "\n",
    "$x(\\log_2(y)) - \\log_2(y) = x + 1$\n",
    "\n",
    "$\\log_2(y)(x - 1) = x + 1$\n",
    "\n",
    "$\\log_2(y) = \\frac{x + 1}{x - 1}$\n",
    "\n",
    "$2^{\\log_2(y)} = 2^{\\frac{x + 1}{x - 1}}$\n",
    "\n",
    "$y = 2^{\\frac{x + 1}{x - 1}}$\n",
    "\n",
    "$f^{-1}(x) = 2^{\\frac{x + 1}{x - 1}}$"
   ]
  },
  {
   "cell_type": "markdown",
   "id": "2689a037-6bd1-470a-aa46-92f8e9949402",
   "metadata": {},
   "source": [
    "b. Find the domain of $f$"
   ]
  },
  {
   "cell_type": "markdown",
   "id": "b3a47fae-94d4-4fc4-97f3-e2d6852a4a75",
   "metadata": {},
   "source": [
    "c. Find the domain of $f^{-1}$"
   ]
  }
 ],
 "metadata": {
  "kernelspec": {
   "display_name": "Python 3",
   "language": "python",
   "name": "python3"
  },
  "language_info": {
   "codemirror_mode": {
    "name": "ipython",
    "version": 3
   },
   "file_extension": ".py",
   "mimetype": "text/x-python",
   "name": "python",
   "nbconvert_exporter": "python",
   "pygments_lexer": "ipython3",
   "version": "3.8.8"
  }
 },
 "nbformat": 4,
 "nbformat_minor": 5
}
