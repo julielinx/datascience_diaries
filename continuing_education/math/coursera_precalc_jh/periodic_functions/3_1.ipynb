{
 "cells": [
  {
   "cell_type": "markdown",
   "id": "9d128c1c-b6f6-4df7-b50f-3c5ee51a70ba",
   "metadata": {},
   "source": [
    "## 1. Write $\\sin (2 \\pi - \\theta)$ in terms of $\\sin \\theta$ and/or $\\cos \\theta$\n",
    "\n",
    "$\\sin (2\\pi - \\theta) = \\sin(-\\theta + 2\\pi) = \\sin(-\\theta)$\n",
    "\n",
    "$\\sin(-\\theta) = -\\sin(\\theta)$"
   ]
  },
  {
   "cell_type": "markdown",
   "id": "eb59b6f6-14a9-4e89-aece-11506738c4d2",
   "metadata": {},
   "source": [
    "## 2. Find $\\sin(\\theta)$ if $\\theta$ is an angle in Quadrant IV and $\\cos(\\theta) = \\frac{12}{13}$\n",
    "\n",
    "$\\cos = \\frac{adj}{hyp} = \\frac{x}{h} = \\frac{12}{13}$\n",
    "\n",
    "$\\sin = \\frac{opp}{hyp} = \\frac{y}{h} = \\frac{opp}{13}$\n",
    "\n",
    "$x^2 + y^2 = h^2$\n",
    "\n",
    "$12^2 + y^2 = 13^2$\n",
    "\n",
    "$y = \\sqrt{13^2 - 12^2}$\n",
    "\n",
    "$y = \\sqrt{25} = \\pm5$\n",
    "\n",
    "y in Quadrant IV means $\\sin(\\theta) = \\frac{-5}{13}$"
   ]
  },
  {
   "cell_type": "markdown",
   "id": "0546aee2-172d-4924-9897-6a835e4418bb",
   "metadata": {},
   "source": [
    "## 3. Find all $x \\in [0, 2\\pi]$ such that $2 \\cos^2x = \\sin x + 1$\n",
    "\n",
    "$\\sin^2x + \\cos^2x = 1$\n",
    "\n",
    "$\\cos^2x = 1 - \\sin^2x$\n",
    "\n",
    "$2(1 - \\sin^2x) = \\sin x + 1$\n",
    "\n",
    "$2 - 2\\sin^2x = \\sin x + 1$\n",
    "\n",
    "$2\\sin^2x + \\sin x - 1 = 0$\n",
    "\n",
    "$(2\\sin x - 1)(\\sin x + 1) = 0$\n",
    "\n",
    "$\\sin x = \\frac{1}{2}$ or $\\sin x = -1$\n",
    "\n",
    "$\\sin x = \\frac{1}{2} = \\frac{\\pi}{6}$ or $\\theta = \\frac{5\\pi}{6}$\n",
    "\n",
    "$\\sin x = -1 = \\frac{3\\pi}{2}$"
   ]
  },
  {
   "cell_type": "markdown",
   "id": "8bbe4bcb-4a3c-42ad-a41b-af3e486b88e4",
   "metadata": {},
   "source": [
    "## 4. \n",
    "\n",
    "#### a. Write $\\tan x$ in terms of $\\sin x$ and $\\cos x$\n",
    "\n",
    "$\\sin x = \\frac{opp}{hyp}$ $\\quad \\cos x = \\frac{adj}{hyp}$ $\\quad \\tan x = \\frac{opp}{adj}$\n",
    "\n",
    "$\\tan x = \\frac{\\sin x}{\\cos x}$\n",
    "\n",
    "#### b. Find the domain of $\\tan x$\n",
    "\n",
    "Domain $\\sin x = [-1, 1] \\quad$ Domain $\\cos x = \\mathbb{R}\\quad$\n",
    "\n",
    "Domain $\\tan x = \\frac{[-1, 1]}{\\mathbb{R}} = (-\\infty, \\infty)$ with asympototes along x when $\\cos x = 0$\n",
    "\n",
    "Domain $\\tan x$ is $\\mathbb{R}$ \\ ${x = \\frac{\\pi}{2} + k\\pi}$ for any integer k\n",
    "\n",
    "#### c. Is $\\tan x$ an even function, an odd function, or neither\n",
    "\n",
    "$\\tan(-x) = \\frac{\\sin(-x)}{\\cos(x)} = \\frac{-\\sin(x)}{\\cos(x)} -\\tan(x)$\n",
    "\n",
    "Odd function"
   ]
  },
  {
   "cell_type": "markdown",
   "id": "0f404021-6e27-4054-bc57-059d1b70d6ef",
   "metadata": {},
   "source": [
    "## 5. Let $f(x) = a \\sin(bx + c)$, where a, b, c are all constants and $b \\neq 0$\n",
    "\n",
    "#### a. What is the domain of $f(x)$?\n",
    "\n",
    "Domain: $\\mathbb{R}$\n",
    "\n",
    "#### b. What is the range of $f(x)$?\n",
    "\n",
    "$\\sin = y$ on a unit circle and that domain is $[-1, 1]$\n",
    "\n",
    "$a$ will stretch or shrink the domain.\n",
    "\n",
    "Domain: $[-a, a]$\n",
    "\n",
    "#### c. What is the period of $f(x)$?\n",
    "\n",
    "$b$ effects the period.\n",
    "\n",
    "The regular period is $2\\pi$ and $\\sin(\\theta)$ is a ratio meaning that $\\sin(\\theta + 2\\pi) = \\sin(\\theta)$\n",
    "\n",
    "Solution: $\\frac{2\\pi}{b}$\n",
    "\n",
    "#### d. Find the y-intercept\n",
    "\n",
    "y-intercept occurs where x = 0\n",
    "\n",
    "$a \\sin(bx + c) \\Rightarrow a \\sin(0b + c) = a \\sin( c)$\n",
    "\n",
    "#### e.  Find the x-intercept\n",
    "\n",
    "$0 = a \\sin(bx + c)$\n",
    "\n",
    "$0 = \\sin(bx + c)$\n",
    "\n",
    "$\\sin(\\theta) = 0$ whenever $\\theta = k\\pi$\n",
    "\n",
    "$bx + c = k\\pi$\n",
    "\n",
    "$bx= k\\pi - c$\n",
    "\n",
    "$x = \\frac{k\\pi - c}{b}$"
   ]
  },
  {
   "cell_type": "markdown",
   "id": "34463152-3bd2-491a-b258-51210fdc0f41",
   "metadata": {},
   "source": []
  }
 ],
 "metadata": {
  "kernelspec": {
   "display_name": "Python 3",
   "language": "python",
   "name": "python3"
  },
  "language_info": {
   "codemirror_mode": {
    "name": "ipython",
    "version": 3
   },
   "file_extension": ".py",
   "mimetype": "text/x-python",
   "name": "python",
   "nbconvert_exporter": "python",
   "pygments_lexer": "ipython3",
   "version": "3.8.8"
  }
 },
 "nbformat": 4,
 "nbformat_minor": 5
}
