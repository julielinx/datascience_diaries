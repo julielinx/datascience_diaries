{
 "cells": [
  {
   "cell_type": "markdown",
   "id": "847e4ab9-d250-4aa7-8900-81fd33167f95",
   "metadata": {},
   "source": [
    "1. Convert between radians and degrees\n",
    "\n",
    "a. 135&deg;\n",
    "\n",
    "$\\quad 135 \\times \\frac{\\pi}{180} = \\frac{3\\pi}{4}$\n",
    "\n",
    "b. $\\frac{13\\pi}{5}$\n",
    "\n",
    "$\\quad \\frac{13\\pi}{5} \\times \\frac{180}{\\pi}$\n",
    "\n",
    "$\\quad \\frac{13}{1} \\times \\frac{36}{1}$\n",
    "\n",
    "$\\quad 468$"
   ]
  },
  {
   "cell_type": "markdown",
   "id": "a34c2847-cce6-4d03-a56c-f59639598175",
   "metadata": {},
   "source": [
    "## 2. A right triangle has an angle measuring $\\frac{\\pi}{8}$. Find the measure of the thrid angle\n",
    "\n",
    "$\\pi = \\frac{4\\pi}{8} + \\frac{\\pi}{8} + \\theta$\n",
    "\n",
    "$\\pi = \\frac{5\\pi}{8} + \\theta$\n",
    "\n",
    "$\\frac{8\\pi}{8} - \\frac{5\\pi}{8} = \\theta$\n",
    "\n",
    "$\\theta = \\frac{3\\pi}{8}$"
   ]
  },
  {
   "cell_type": "markdown",
   "id": "c4a57743-3456-4dfe-bb23-3cb2f5ccea00",
   "metadata": {},
   "source": [
    "## 3. $\\angle A$ and $\\angle B$ are complementary (add to 90&deg;)\n",
    "\n",
    "$\\angle A$ = 36&deg;. Find $\\angle B$ in radians.\n",
    "\n",
    "$\\angle A = 36 \\times \\frac{\\pi}{180} = \\frac{\\pi}{5}$\n",
    "\n",
    "$\\angle B = \\frac{\\pi}{2} -\\frac{\\pi}{5}$\n",
    "\n",
    "$\\angle B = \\frac{5\\pi - 2\\pi}{10} = \\frac{3/pi}{10}$"
   ]
  },
  {
   "cell_type": "markdown",
   "id": "89e0a243-de01-466e-9a28-0fde7cfa8846",
   "metadata": {},
   "source": [
    "## 4. Find the measure of the angle illustrated below in both degrees and radians\n",
    "\n",
    "The illustraion goes around the full circle 1.75 times .\n",
    "\n",
    "Degrees: 360 + 270 = 630\n",
    "\n",
    "Radians: $2\\pi + \\frac{3\\pi}{2} = \\frac{7\\pi}{2}$"
   ]
  },
  {
   "cell_type": "markdown",
   "id": "b868208e-ddf6-4e6b-9738-d12d0bba8641",
   "metadata": {},
   "source": [
    "## 5. A clock's minute-hand is 6 inches long. How far does the minute-hand travel in 25 minutes?\n",
    "\n",
    "r = 6\n",
    "\n",
    "$\\frac{part}{whole}$\n",
    "\n",
    "$\\frac{25}{60} = \\frac{5}{12}$\n",
    "\n",
    "circumference $= 2\\pi r = 2 \\pi 6 = 12 \\pi$\n",
    "\n",
    "travel = $\\frac{5}{12}12 \\pi = 5\\pi$"
   ]
  },
  {
   "cell_type": "markdown",
   "id": "e8acc554-06d1-4a3a-bf99-30a311da3514",
   "metadata": {},
   "source": [
    "## 6. A car's driver-side windshield wiper blade is 2 feet long. \n",
    "\n",
    "The blade pivots through $\\frac{2\\pi}{3}$. How much of the windshield's area does the wiper clean?\n",
    "\n",
    "r = 2\n",
    "\n",
    "$\\frac{part}{whole} = \\frac{\\frac{2\\pi}{3}}{2\\pi}$\n",
    "\n",
    "$\\quad = \\frac{2\\pi}{3} \\times \\frac{1}{2\\pi} = \\frac{2\\pi}{6\\pi} = \\frac{1}{3}$\n",
    "\n",
    "$A_t = \\pi r^2$\n",
    "\n",
    "$A_t = \\pi 2^2 = 4\\pi$\n",
    "\n",
    "$A = \\frac{1}{3}4\\pi = \\frac{4\\pi}{3}$"
   ]
  },
  {
   "cell_type": "code",
   "execution_count": 7,
   "id": "dc4e6179-8727-471f-9617-359bc59b5316",
   "metadata": {},
   "outputs": [
    {
     "data": {
      "text/plain": [
       "12.0"
      ]
     },
     "execution_count": 7,
     "metadata": {},
     "output_type": "execute_result"
    }
   ],
   "source": [
    "60/5"
   ]
  }
 ],
 "metadata": {
  "kernelspec": {
   "display_name": "Python 3",
   "language": "python",
   "name": "python3"
  },
  "language_info": {
   "codemirror_mode": {
    "name": "ipython",
    "version": 3
   },
   "file_extension": ".py",
   "mimetype": "text/x-python",
   "name": "python",
   "nbconvert_exporter": "python",
   "pygments_lexer": "ipython3",
   "version": "3.8.8"
  }
 },
 "nbformat": 4,
 "nbformat_minor": 5
}
