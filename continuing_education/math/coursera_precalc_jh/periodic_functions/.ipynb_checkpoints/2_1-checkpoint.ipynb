{
 "cells": [
  {
   "cell_type": "markdown",
   "id": "1da6c8ee-5240-4c9f-a1d8-a7ac86c49c00",
   "metadata": {},
   "source": [
    "# Sin / cos table for unit circle\n",
    "\n",
    "<table align='left' style=\"width:80%; font-size:x-large\">\n",
    "    <tr>\n",
    "        <th>$\\theta$</th>\n",
    "        <td>0</td>\n",
    "        <td>$\\frac{\\pi}{6}$</td>\n",
    "        <td>$\\frac{\\pi}{4}$</td>\n",
    "        <td>$\\frac{\\pi}{3}$</td>\n",
    "        <td>$\\frac{\\pi}{2}$</td>\n",
    "        <td>$\\pi$</td>\n",
    "    </tr>\n",
    "    <tr>\n",
    "        <th>$\\sin\\theta$</th>\n",
    "        <td>0</td>\n",
    "        <td>$\\frac{1}{2}$</td>\n",
    "        <td>$\\frac{\\sqrt{2}}{2}$</td>\n",
    "        <td>$\\frac{\\sqrt{3}}{2}$</td>\n",
    "        <td>$1$</td>\n",
    "        <td>$0$</td>\n",
    "    </tr>\n",
    "    <tr>\n",
    "        <th>$\\cos\\theta$</th>\n",
    "        <td>1</td>\n",
    "        <td>$\\frac{\\sqrt{3}}{2}$</td>\n",
    "        <td>$\\frac{\\sqrt{2}}{2}$</td>\n",
    "        <td>$\\frac{1}{2}$</td>\n",
    "        <td>$0$</td>\n",
    "        <td>$-1$</td>\n",
    "    </tr>\n",
    "    </table>"
   ]
  },
  {
   "cell_type": "markdown",
   "id": "a0a56c0a-161e-49ec-a9a5-9286426dec12",
   "metadata": {},
   "source": [
    "## 1. Suppose $\\theta$ is an acute angle\n",
    "\n",
    "If $\\sin \\theta = \\frac{80}{90} = \\frac{opp}{hyp}$ and $\\tan \\theta = \\frac{80}{39} = \\frac{opp}{adj}$ what is $\\cos \\theta$\n",
    "\n",
    "$\\cos \\theta = \\frac{adj}{hyp} = \\frac{39}{90}$"
   ]
  },
  {
   "cell_type": "markdown",
   "id": "4b4a67fc-cb46-4f77-b848-890477f8e194",
   "metadata": {},
   "source": [
    "## 2. $\\bigtriangleup ABC$ is a right triangle\n",
    "\n",
    "$\\angle B = 90$&deg;, $\\overline{AC} = 130$, and $\\tan \\angle C = \\frac{16}{63}$. What is the area of $\\bigtriangleup ABC$?\n",
    "\n",
    "$\\overline{AC}$ = hyp\n",
    "\n",
    "$\\tan \\angle C = \\frac{16}{63} = \\frac{opp}{adj}$\n",
    "\n",
    "$AC^2 = AB^2 + BC^2$\n",
    "\n",
    "$130^2 = (16x)^2 + (63x)^2$\n",
    "\n",
    "$130^2 = 256x^2 + 3969x^2$\n",
    "\n",
    "$130^2 = 4225x^2$\n",
    "\n",
    "$130 = 65x$\n",
    "\n",
    "$x = 2$\n",
    "\n",
    "$A = \\frac{1}{2} \\times \\text{base} \\times \\text{height}$\n",
    "\n",
    "$A = \\frac{1}{2} \\times 2(63) \\times 2(16) = 2016$"
   ]
  },
  {
   "cell_type": "markdown",
   "id": "7c114ff8-b92f-4b41-b6c5-847f7904c2ea",
   "metadata": {},
   "source": [
    "## 3. Find an acute and an obtuse angle such that $\\sin \\theta = \\frac{1}{2}$\n",
    "\n",
    "Acute angle = 30&deg; or $\\frac{\\pi}{6}$\n",
    "\n",
    "Obtuse angle = 150&deg; or $\\frac{5\\pi}{6}$"
   ]
  },
  {
   "cell_type": "markdown",
   "id": "1c3a6764-5bd9-4fc4-82bb-449a977c51b2",
   "metadata": {},
   "source": [
    "$\\frac{\\pi}{2} + \\frac{\\pi}{3}$"
   ]
  }
 ],
 "metadata": {
  "kernelspec": {
   "display_name": "Python 3",
   "language": "python",
   "name": "python3"
  },
  "language_info": {
   "codemirror_mode": {
    "name": "ipython",
    "version": 3
   },
   "file_extension": ".py",
   "mimetype": "text/x-python",
   "name": "python",
   "nbconvert_exporter": "python",
   "pygments_lexer": "ipython3",
   "version": "3.8.8"
  }
 },
 "nbformat": 4,
 "nbformat_minor": 5
}
