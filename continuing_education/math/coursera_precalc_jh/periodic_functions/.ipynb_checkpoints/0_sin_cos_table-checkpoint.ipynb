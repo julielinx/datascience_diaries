{
 "cells": [
  {
   "cell_type": "markdown",
   "id": "b5c841be-e623-4306-87ca-3667afe36ec6",
   "metadata": {},
   "source": [
    "# Sin / cos table for unit circle\n",
    "\n",
    "<table align='left' style=\"width:80%; font-size:x-large\">\n",
    "    <tr>\n",
    "        <th>$\\theta$</th>\n",
    "        <td>0</td>\n",
    "        <td>$\\frac{\\pi}{6}$</td>\n",
    "        <td>$\\frac{\\pi}{4}$</td>\n",
    "        <td>$\\frac{\\pi}{3}$</td>\n",
    "        <td>$\\frac{\\pi}{2}$</td>\n",
    "        <td>$\\pi$</td>\n",
    "    </tr>\n",
    "    <tr>\n",
    "        <th>$\\sin\\theta$</th>\n",
    "        <td>0</td>\n",
    "        <td>$\\frac{1}{2}$</td>\n",
    "        <td>$\\frac{\\sqrt{2}}{2}$</td>\n",
    "        <td>$\\frac{\\sqrt{3}}{2}$</td>\n",
    "        <td>$1$</td>\n",
    "        <td>$0$</td>\n",
    "    </tr>\n",
    "    <tr>\n",
    "        <th>$\\cos\\theta$</th>\n",
    "        <td>1</td>\n",
    "        <td>$\\frac{\\sqrt{3}}{2}$</td>\n",
    "        <td>$\\frac{\\sqrt{2}}{2}$</td>\n",
    "        <td>$\\frac{1}{2}$</td>\n",
    "        <td>$0$</td>\n",
    "        <td>$-1$</td>\n",
    "    </tr>\n",
    "    </table>"
   ]
  }
 ],
 "metadata": {
  "kernelspec": {
   "display_name": "Python 3",
   "language": "python",
   "name": "python3"
  },
  "language_info": {
   "codemirror_mode": {
    "name": "ipython",
    "version": 3
   },
   "file_extension": ".py",
   "mimetype": "text/x-python",
   "name": "python",
   "nbconvert_exporter": "python",
   "pygments_lexer": "ipython3",
   "version": "3.8.8"
  }
 },
 "nbformat": 4,
 "nbformat_minor": 5
}
