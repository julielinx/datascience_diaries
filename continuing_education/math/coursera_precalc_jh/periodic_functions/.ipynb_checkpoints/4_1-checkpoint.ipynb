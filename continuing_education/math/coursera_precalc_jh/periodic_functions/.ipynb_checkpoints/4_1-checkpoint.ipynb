{
 "cells": [
  {
   "cell_type": "markdown",
   "id": "41c45ee3-9b4b-45ba-b8fd-0a00becedfb9",
   "metadata": {},
   "source": [
    "## 1. Suppose that $\\theta$ is in Quadrant IV and $\\cos \\theta = \\frac{7}{9}$. Find the following:\n",
    "\n",
    "$\\text{adj}^2 + \\text{opp}^2 = \\text{hyp}^2$\n",
    "\n",
    "$= 9^2 - 7^2 = \\text{opp}^2 = \\sqrt{32} = \\sqrt{16 \\times 2} = 4\\sqrt{2}$\n",
    "\n",
    "$\\quad \\text{opp} = 4\\sqrt{2} \\quad \\text{adj} = 7 \\quad \\text{hyp} = 9$\n",
    "\n",
    "$\\sec \\theta = \\frac{1}{\\cos} = \\frac{9}{7}$\n",
    "\n",
    "$\\sin \\theta = \\frac{\\text{opp}}{\\text{hyp}} = - \\frac{4\\sqrt{2}}{9}$\n",
    "\n",
    "$\\csc \\theta = \\frac{1}{\\sin} = -\\frac{9}{4\\sqrt{2}} = - \\frac{9\\sqrt{2}}{8}$\n",
    "\n",
    "$\\tan \\theta = \\frac{sin}{cos} = - \\frac{4\\sqrt{2}}{7}$\n",
    "\n",
    "$\\cot \\theta = \\frac{cos}{sin} = - \\frac{7}{4\\sqrt{2}} = - \\frac{7\\sqrt{2}}{8}$"
   ]
  },
  {
   "cell_type": "markdown",
   "id": "68724c9a-6f55-4852-af44-ff4220603d21",
   "metadata": {},
   "source": [
    "## 2. Let $f(x) = \\sec(\\pi x)$\n",
    "\n",
    "$\\sec = \\frac{1}{\\cos}$\n",
    "\n",
    "cos is the x values in the unit circle.\n",
    "\n",
    "When a number is a constant of x it changes the period of the function. In this case the period is $\\frac{2\\pi}{\\pi} = 2$.\n",
    "\n",
    "#### a. Find the domain of f(x)\n",
    "\n",
    "The period puts the x-intercepts at 0.5, 1.5, 2.5, ... These are the points where sec will be undefined. All other numbers in $\\mathbb{R}$ are in the domain.\n",
    "\n",
    "Domain: $\\mathbb{R}$ \\ {$\\frac{1}{2}k$}\n",
    "\n",
    "#### b. Find the range of f(x)\n",
    "\n",
    "The magnitude of cos is unchanged, which puts it in the range of (-1, 1). As such, the range of sec is $(-\\infty, -1] \\cup [1, \\infty)$\n",
    "\n",
    "#### c. Find the period of f(x)\n",
    "\n",
    "2 - See above for rational"
   ]
  },
  {
   "cell_type": "markdown",
   "id": "787233a4-494a-4b0e-b656-0419e3028ff3",
   "metadata": {},
   "source": [
    "## 3. Evaluate $\\sec^2 \\theta - \\tan^2 \\theta$"
   ]
  },
  {
   "cell_type": "markdown",
   "id": "4e902353-0d61-4f5c-b18e-ada64a9bd36a",
   "metadata": {},
   "source": [
    "$\\sec = \\frac{1}{\\cos} \\Rightarrow \\sec^2 \\theta = (\\frac{1}{\\cos \\theta})^2 = \\frac{1}{\\cos^2 \\theta}$\n",
    "\n",
    "$\\tan = \\frac{\\sin}{\\cos} \\Rightarrow \\tan^2 \\theta = (\\frac{\\sin \\theta}{\\cos \\theta})^2 = \\frac{\\sin^2 \\theta}{\\cos^2 \\theta}$\n",
    "\n",
    "$\\sec^2 \\theta - \\tan^2 \\theta = \\frac{1}{\\cos^2 \\theta} - \\frac{\\sin^2 \\theta}{\\cos^2 \\theta} = \\frac{1 - \\sin^2 \\theta}{\\cos^2 \\theta}$\n",
    "\n",
    "$\\sin^2 \\theta + \\cos^2 \\theta = 1 \\Rightarrow \\cos^2 \\theta = 1 - \\sin^2 \\theta$\n",
    "\n",
    "$\\frac{\\cos^2 \\theta}{\\cos^2 \\theta} = 1$"
   ]
  },
  {
   "cell_type": "markdown",
   "id": "ea544ba8-a3d7-401b-807f-0937ebbc724f",
   "metadata": {},
   "source": [
    "## 4. $3 \\sec x = \\tan^2 x + 3$ Find all solutions $x$ such that $0 \\le x < 2\\pi$\n",
    "\n",
    "$\\frac{3}{\\cos x} =  \\frac{\\sin^2 x}{\\cos^2 x} + 3$\n",
    "\n",
    "$\\frac{\\sin^2 x}{\\cos^2 x} + 3 - \\frac{3}{\\cos x} = 0$\n",
    "\n",
    "$\\frac{\\sin^2 x}{\\cos^2 x} + 3 \\times \\frac{\\cos^2 x}{\\cos^2 x} - \\frac{3}{\\cos x} \\times \\frac{\\cos x}{\\cos x} = 0$\n",
    "\n",
    "$\\frac{\\sin^2x + 3\\cos^2 x - 3\\cos x}{\\cos^2 x} = 0$\n",
    "\n",
    "$\\quad \\sin^2x + \\cos^2 x = 1 \\Rightarrow \\sin^2x = 1 - \\cos^2x$\n",
    "\n",
    "$\\frac{1 - \\cos^2x + 3\\cos^2 x - 3\\cos x}{\\cos^2 x} = 0$\n",
    "\n",
    "$\\frac{2\\cos^2 x - 3\\cos x + 1}{\\cos^2 x} = 0$\n",
    "\n",
    "$\\quad 2x^2 - 3x + 1 \\Rightarrow (2x - 1)(x - 1)$\n",
    "\n",
    "$\\frac{(2\\cos x - 1)(\\cos x - 1)}{\\cos^2 x} = 0 \\Rightarrow$ Numerator needs to be 0\n",
    "\n",
    "$\\Rightarrow \\cos x = \\frac{1}{2}$ or $\\cos x = 1$\n",
    "\n",
    "Cos is the x values in the unit circle.\n",
    "\n",
    "$\\cos x = 1$ happens when x = 1, which only happens in Quadrant I at (1, 0)\n",
    "\n",
    "$\\cos x = \\frac{1}{2}$ happens in Quadrants I and IV which happens when x = $\\frac{\\pi}{3}$ and x = $\\frac{5\\pi}{3}$\n",
    "\n",
    "$2\\pi = \\frac{6\\pi}{3} \\Rightarrow \\frac{6\\pi}{3} - \\frac{\\pi}{3} = \\frac{5\\pi}{3}$"
   ]
  },
  {
   "cell_type": "markdown",
   "id": "d16cfb9a-9c01-4faf-81bc-51dbd30e38ff",
   "metadata": {},
   "source": [
    "## 5. Seen from a ship, the angle of elevation of the top of a lighthouse is 15&deg;. The lighthouse is 330 feet tall. Find the distance from the ship to the lighthouse.\n",
    "\n",
    "The elevation degree to the top of the lighthouse is theta. The height of the lighthouse is the opposite side. The unknown distance is the adjacent side.\n",
    "\n",
    "distance to lighthouse = $\\frac{330}{\\tan(15)} \\approx 1231.5768$ft\n",
    "\n",
    "Sidenote, 15&deg; is $\\frac{\\pi}{12}$"
   ]
  },
  {
   "cell_type": "markdown",
   "id": "05875b3f-e623-4311-b5e6-ba44d16c7ef1",
   "metadata": {},
   "source": []
  },
  {
   "cell_type": "code",
   "execution_count": 3,
   "id": "44ce2186-d1ab-4d59-8118-5c87020e4d51",
   "metadata": {},
   "outputs": [
    {
     "data": {
      "text/plain": [
       "32"
      ]
     },
     "execution_count": 3,
     "metadata": {},
     "output_type": "execute_result"
    }
   ],
   "source": [
    "import numpy as np\n",
    "9**2 - 7**2"
   ]
  }
 ],
 "metadata": {
  "kernelspec": {
   "display_name": "Python 3",
   "language": "python",
   "name": "python3"
  },
  "language_info": {
   "codemirror_mode": {
    "name": "ipython",
    "version": 3
   },
   "file_extension": ".py",
   "mimetype": "text/x-python",
   "name": "python",
   "nbconvert_exporter": "python",
   "pygments_lexer": "ipython3",
   "version": "3.8.8"
  }
 },
 "nbformat": 4,
 "nbformat_minor": 5
}
