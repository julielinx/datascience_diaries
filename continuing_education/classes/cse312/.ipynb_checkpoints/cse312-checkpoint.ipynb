{
 "cells": [
  {
   "cell_type": "markdown",
   "id": "f62636e3-285d-450b-b54a-7689ec5111e5",
   "metadata": {},
   "source": [
    "# CSE 312: Foundations of Computing II"
   ]
  },
  {
   "cell_type": "markdown",
   "id": "eebb5fe3-4a9f-45ff-b94f-ec2e779af26f",
   "metadata": {},
   "source": [
    "- [CSE 312 Main Page](http://courses.cs.washington.edu/courses/cse312/)\n",
    "- [Calendar](https://courses.cs.washington.edu/courses/cse312/22su/)\n",
    "- [Optional textbook](https://www.alextsun.com/files/Prob_Stat_for_CS_Book.pdf)\n",
    "- [Video from 2020](https://www.youtube.com/playlist?list=PLeB45KifGiuHesi4PALNZSYZFhViVGQJK)\n",
    "- Resources\n",
    "    - [Distrubutions](https://courses.cs.washington.edu/courses/cse312/22su/files/resources/distributions.pdf)\n",
    "    - [Z table](https://courses.cs.washington.edu/courses/cse312/21wi/files/resources/z_table.pdf)\n",
    "    - [LaTeX Resources](https://courses.cs.washington.edu/courses/cse312/22su/latex/index.html)\n",
    "    - [Definitions and Theorems](https://courses.cs.washington.edu/courses/cse312/22su/files/resources/defs_thms.pdf)"
   ]
  },
  {
   "cell_type": "code",
   "execution_count": null,
   "id": "087d43f2-abd9-452d-bbcf-d89fdb556c66",
   "metadata": {},
   "outputs": [],
   "source": []
  }
 ],
 "metadata": {
  "kernelspec": {
   "display_name": "Python 3",
   "language": "python",
   "name": "python3"
  },
  "language_info": {
   "codemirror_mode": {
    "name": "ipython",
    "version": 3
   },
   "file_extension": ".py",
   "mimetype": "text/x-python",
   "name": "python",
   "nbconvert_exporter": "python",
   "pygments_lexer": "ipython3",
   "version": "3.8.8"
  }
 },
 "nbformat": 4,
 "nbformat_minor": 5
}
