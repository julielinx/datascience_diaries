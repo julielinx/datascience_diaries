{
 "cells": [
  {
   "cell_type": "markdown",
   "id": "7bd41e3c-7d70-4a76-8216-aa9063a42422",
   "metadata": {},
   "source": [
    "# Homework 6, Part 1"
   ]
  },
  {
   "cell_type": "code",
   "execution_count": null,
   "id": "67ad134d-3bc7-4b42-8d90-8053219a985f",
   "metadata": {},
   "outputs": [],
   "source": [
    "import numpy as np\n",
    "import pandas as pd\n",
    "import matplotlib.pyplot as plt\n",
    "import math\n",
    "import random"
   ]
  },
  {
   "cell_type": "markdown",
   "id": "27ef4588-7964-422a-a3ba-215237f51dc8",
   "metadata": {},
   "source": [
    "Questions to answer:\n",
    "\n",
    "- 2009 Iranian election MSE: ___\n",
    "- Quantity of MSEs larger than or equal to the 2009 Iranian election MSE: ___\n",
    "- Quantity of MSEs smaller than the 2009 Iranian election MSE: ___\n",
    "- 2009 Iranian election null hypothesis rejection level p: ___\n",
    "- 2008 United States election MSE: ___\n",
    "- Quantity of MSEs larger than or equal to the 2008 United States election MSE: ___\n",
    "- Quantity of MSEs smaller than the 2008 United States election MSE: ___\n",
    "- 2008 United States election null hypothesis rejection level p: ___"
   ]
  },
  {
   "cell_type": "markdown",
   "id": "73f3c3dc-3281-4b56-99cf-49d4d9d1c3b6",
   "metadata": {},
   "source": [
    "Functionsn to write:\n",
    "\n",
    "- extract_election_vote_counts(filename, column_names)\n",
    "- ones_and_tens_digit_histogram(numbers)\n",
    "- plot_iranian_least_digits_histogram(histogram)\n",
    "- plot_distribution_by_sample_size()\n",
    "- mean_squared_error(numbers1, numbers2)\n",
    "- calculate_mse_with_uniform(histogram)\n",
    "- compare_iranian_mse_to_samples(mse)"
   ]
  },
  {
   "cell_type": "markdown",
   "id": "b1c8a0f6-749d-49b1-9731-0a0eb3a0f553",
   "metadata": {},
   "source": [
    "## Problem 1: Read and clean Iranian election data\n",
    "\n",
    "Write a function called extract_election_vote_counts that takes a filename and a list of names of columns to extract vote counts from. It should return a list of all of the vote counts from the respective rows."
   ]
  },
  {
   "cell_type": "code",
   "execution_count": 4,
   "id": "dfe67ec4-06aa-4ff8-ae6b-25c14e2ca78f",
   "metadata": {},
   "outputs": [
    {
     "data": {
      "text/html": [
       "<div>\n",
       "<style scoped>\n",
       "    .dataframe tbody tr th:only-of-type {\n",
       "        vertical-align: middle;\n",
       "    }\n",
       "\n",
       "    .dataframe tbody tr th {\n",
       "        vertical-align: top;\n",
       "    }\n",
       "\n",
       "    .dataframe thead th {\n",
       "        text-align: right;\n",
       "    }\n",
       "</style>\n",
       "<table border=\"1\" class=\"dataframe\">\n",
       "  <thead>\n",
       "    <tr style=\"text-align: right;\">\n",
       "      <th></th>\n",
       "      <th>Ahmadinejad</th>\n",
       "      <th>Rezai</th>\n",
       "      <th>Karrubi</th>\n",
       "      <th>Mousavi</th>\n",
       "    </tr>\n",
       "  </thead>\n",
       "  <tbody>\n",
       "    <tr>\n",
       "      <th>0</th>\n",
       "      <td>1,131,111</td>\n",
       "      <td>16,920</td>\n",
       "      <td>7,246</td>\n",
       "      <td>837,858</td>\n",
       "    </tr>\n",
       "    <tr>\n",
       "      <th>1</th>\n",
       "      <td>623,946</td>\n",
       "      <td>12,199</td>\n",
       "      <td>21,609</td>\n",
       "      <td>656,508</td>\n",
       "    </tr>\n",
       "    <tr>\n",
       "      <th>2</th>\n",
       "      <td>325,911</td>\n",
       "      <td>6,578</td>\n",
       "      <td>2,319</td>\n",
       "      <td>302,825</td>\n",
       "    </tr>\n",
       "    <tr>\n",
       "      <th>3</th>\n",
       "      <td>1,799,255</td>\n",
       "      <td>51,788</td>\n",
       "      <td>14,579</td>\n",
       "      <td>746,697</td>\n",
       "    </tr>\n",
       "    <tr>\n",
       "      <th>4</th>\n",
       "      <td>199,654</td>\n",
       "      <td>5,221</td>\n",
       "      <td>7,471</td>\n",
       "      <td>96,826</td>\n",
       "    </tr>\n",
       "  </tbody>\n",
       "</table>\n",
       "</div>"
      ],
      "text/plain": [
       "  Ahmadinejad   Rezai Karrubi  Mousavi\n",
       "0   1,131,111  16,920   7,246  837,858\n",
       "1     623,946  12,199  21,609  656,508\n",
       "2     325,911   6,578   2,319  302,825\n",
       "3   1,799,255  51,788  14,579  746,697\n",
       "4     199,654   5,221   7,471   96,826"
      ]
     },
     "execution_count": 4,
     "metadata": {},
     "output_type": "execute_result"
    }
   ],
   "source": [
    "test = pd.read_csv('homework6/election-iran-2009.csv', usecols=[\"Ahmadinejad\", \"Rezai\", \"Karrubi\", \"Mousavi\"])\n",
    "test.head()"
   ]
  },
  {
   "cell_type": "code",
   "execution_count": 73,
   "id": "0309e5b2-23db-4d49-a8fa-e528b6ded3cf",
   "metadata": {},
   "outputs": [
    {
     "data": {
      "text/plain": [
       "Ahmadinejad    object\n",
       "Rezai          object\n",
       "Karrubi        object\n",
       "Mousavi        object\n",
       "dtype: object"
      ]
     },
     "execution_count": 73,
     "metadata": {},
     "output_type": "execute_result"
    }
   ],
   "source": [
    "test.dtypes"
   ]
  },
  {
   "cell_type": "code",
   "execution_count": 5,
   "id": "b12e13af-f2a2-483f-9ff5-b1ab7ada3d4e",
   "metadata": {},
   "outputs": [],
   "source": [
    "for col in test.columns:\n",
    "    test[col] =  test[col].str.replace(',', '')\n",
    "    test[col] = pd.to_numeric(test[col])"
   ]
  },
  {
   "cell_type": "code",
   "execution_count": 75,
   "id": "f52f7b1f-f0f2-4ebe-ac85-43e391039659",
   "metadata": {},
   "outputs": [
    {
     "data": {
      "text/html": [
       "<div>\n",
       "<style scoped>\n",
       "    .dataframe tbody tr th:only-of-type {\n",
       "        vertical-align: middle;\n",
       "    }\n",
       "\n",
       "    .dataframe tbody tr th {\n",
       "        vertical-align: top;\n",
       "    }\n",
       "\n",
       "    .dataframe thead th {\n",
       "        text-align: right;\n",
       "    }\n",
       "</style>\n",
       "<table border=\"1\" class=\"dataframe\">\n",
       "  <thead>\n",
       "    <tr style=\"text-align: right;\">\n",
       "      <th></th>\n",
       "      <th>Ahmadinejad</th>\n",
       "      <th>Rezai</th>\n",
       "      <th>Karrubi</th>\n",
       "      <th>Mousavi</th>\n",
       "    </tr>\n",
       "  </thead>\n",
       "  <tbody>\n",
       "    <tr>\n",
       "      <th>0</th>\n",
       "      <td>1131111</td>\n",
       "      <td>16920</td>\n",
       "      <td>7246</td>\n",
       "      <td>837858</td>\n",
       "    </tr>\n",
       "    <tr>\n",
       "      <th>1</th>\n",
       "      <td>623946</td>\n",
       "      <td>12199</td>\n",
       "      <td>21609</td>\n",
       "      <td>656508</td>\n",
       "    </tr>\n",
       "    <tr>\n",
       "      <th>2</th>\n",
       "      <td>325911</td>\n",
       "      <td>6578</td>\n",
       "      <td>2319</td>\n",
       "      <td>302825</td>\n",
       "    </tr>\n",
       "    <tr>\n",
       "      <th>3</th>\n",
       "      <td>1799255</td>\n",
       "      <td>51788</td>\n",
       "      <td>14579</td>\n",
       "      <td>746697</td>\n",
       "    </tr>\n",
       "    <tr>\n",
       "      <th>4</th>\n",
       "      <td>199654</td>\n",
       "      <td>5221</td>\n",
       "      <td>7471</td>\n",
       "      <td>96826</td>\n",
       "    </tr>\n",
       "  </tbody>\n",
       "</table>\n",
       "</div>"
      ],
      "text/plain": [
       "   Ahmadinejad  Rezai  Karrubi  Mousavi\n",
       "0      1131111  16920     7246   837858\n",
       "1       623946  12199    21609   656508\n",
       "2       325911   6578     2319   302825\n",
       "3      1799255  51788    14579   746697\n",
       "4       199654   5221     7471    96826"
      ]
     },
     "execution_count": 75,
     "metadata": {},
     "output_type": "execute_result"
    }
   ],
   "source": [
    "test.head()"
   ]
  },
  {
   "cell_type": "code",
   "execution_count": 76,
   "id": "a30d1127-934a-44b0-ab38-27d558af41a6",
   "metadata": {},
   "outputs": [
    {
     "data": {
      "text/plain": [
       "Ahmadinejad    int64\n",
       "Rezai          int64\n",
       "Karrubi        int64\n",
       "Mousavi        int64\n",
       "dtype: object"
      ]
     },
     "execution_count": 76,
     "metadata": {},
     "output_type": "execute_result"
    }
   ],
   "source": [
    "test.dtypes"
   ]
  },
  {
   "cell_type": "code",
   "execution_count": 79,
   "id": "6e28a4fc-faeb-445a-b6bb-131ea4447711",
   "metadata": {},
   "outputs": [
    {
     "data": {
      "text/plain": [
       "0      837858\n",
       "1      656508\n",
       "2      302825\n",
       "3      746697\n",
       "4       96826\n",
       "5      177268\n",
       "6     3371523\n",
       "7      106099\n",
       "8       90363\n",
       "9      884570\n",
       "10     113218\n",
       "11     552636\n",
       "12     126561\n",
       "13      77754\n",
       "14     507946\n",
       "15     706764\n",
       "16     177542\n",
       "17     148467\n",
       "18     261772\n",
       "19     318250\n",
       "20     374188\n",
       "21      98937\n",
       "22     325806\n",
       "23     453806\n",
       "24     219156\n",
       "25     585373\n",
       "26     190349\n",
       "27     241988\n",
       "28     218481\n",
       "29     255799\n",
       "Name: Mousavi, dtype: int64"
      ]
     },
     "execution_count": 79,
     "metadata": {},
     "output_type": "execute_result"
    }
   ],
   "source": [
    "test[col]"
   ]
  },
  {
   "cell_type": "code",
   "execution_count": 6,
   "id": "858595f9-677b-413f-8993-4145ff900371",
   "metadata": {},
   "outputs": [
    {
     "data": {
      "text/html": [
       "<div>\n",
       "<style scoped>\n",
       "    .dataframe tbody tr th:only-of-type {\n",
       "        vertical-align: middle;\n",
       "    }\n",
       "\n",
       "    .dataframe tbody tr th {\n",
       "        vertical-align: top;\n",
       "    }\n",
       "\n",
       "    .dataframe thead th {\n",
       "        text-align: right;\n",
       "    }\n",
       "</style>\n",
       "<table border=\"1\" class=\"dataframe\">\n",
       "  <thead>\n",
       "    <tr style=\"text-align: right;\">\n",
       "      <th></th>\n",
       "      <th>counts</th>\n",
       "    </tr>\n",
       "  </thead>\n",
       "  <tbody>\n",
       "    <tr>\n",
       "      <th>0</th>\n",
       "      <td>1131111.0</td>\n",
       "    </tr>\n",
       "    <tr>\n",
       "      <th>1</th>\n",
       "      <td>623946.0</td>\n",
       "    </tr>\n",
       "    <tr>\n",
       "      <th>2</th>\n",
       "      <td>325911.0</td>\n",
       "    </tr>\n",
       "    <tr>\n",
       "      <th>3</th>\n",
       "      <td>1799255.0</td>\n",
       "    </tr>\n",
       "    <tr>\n",
       "      <th>4</th>\n",
       "      <td>199654.0</td>\n",
       "    </tr>\n",
       "  </tbody>\n",
       "</table>\n",
       "</div>"
      ],
      "text/plain": [
       "      counts\n",
       "0  1131111.0\n",
       "1   623946.0\n",
       "2   325911.0\n",
       "3  1799255.0\n",
       "4   199654.0"
      ]
     },
     "execution_count": 6,
     "metadata": {},
     "output_type": "execute_result"
    }
   ],
   "source": [
    "vote_cts = pd.DataFrame()\n",
    "for col in test.columns:\n",
    "    vote_cts = pd.concat([vote_cts, test[col]])\n",
    "vote_cts.rename({0:'counts'}, axis=1, inplace=True)\n",
    "vote_cts.head()"
   ]
  },
  {
   "cell_type": "code",
   "execution_count": 106,
   "id": "9c8ff9ff-5732-4e22-9283-1a994d7623d5",
   "metadata": {},
   "outputs": [
    {
     "data": {
      "text/plain": [
       "(120, 1)"
      ]
     },
     "execution_count": 106,
     "metadata": {},
     "output_type": "execute_result"
    }
   ],
   "source": [
    "vote_cts.shape"
   ]
  },
  {
   "cell_type": "code",
   "execution_count": 7,
   "id": "05ec4037-0ecc-428f-baae-84460db9d840",
   "metadata": {},
   "outputs": [],
   "source": [
    "def extract_election_vote_counts(filename, column_names):\n",
    "    df = pd.read_csv(filename, usecols=column_names)\n",
    "    for col in df.columns:\n",
    "        df[col] =  df[col].str.replace(',', '')\n",
    "        df[col] = pd.to_numeric(df[col])\n",
    "    vote_cts = pd.DataFrame()\n",
    "    for col in df.columns:\n",
    "        vote_cts = pd.concat([vote_cts, df[col]])\n",
    "    vote_cts.rename(columns={0:'count'}, axis=1, inplace=True)\n",
    "    return vote_cts"
   ]
  },
  {
   "cell_type": "markdown",
   "id": "b075af96-77e0-4c50-93b1-bfa537b6b75b",
   "metadata": {},
   "source": [
    "## Problem 2: Make a histogram\n",
    "\n",
    "Write a function ones_and_tens_digit_histogram that takes as input a list of numbers and produces as output a list of 10 numbers. Each element of the result indicates the frequency with which that digit appeared in the ones place or the tens place in the input."
   ]
  },
  {
   "cell_type": "code",
   "execution_count": 101,
   "id": "d44f15df-7d4b-4045-99b6-eab08d65a0c4",
   "metadata": {
    "scrolled": true,
    "tags": []
   },
   "outputs": [
    {
     "data": {
      "text/plain": [
       "[1131111.0,\n",
       " 623946.0,\n",
       " 325911.0,\n",
       " 1799255.0,\n",
       " 199654.0,\n",
       " 299357.0,\n",
       " 3819495.0,\n",
       " 359578.0,\n",
       " 285984.0,\n",
       " 2214801.0,\n",
       " 341104.0,\n",
       " 1303129.0,\n",
       " 444480.0,\n",
       " 295177.0,\n",
       " 450269.0,\n",
       " 1758026.0,\n",
       " 498061.0,\n",
       " 422457.0,\n",
       " 315689.0,\n",
       " 1160446.0,\n",
       " 573568.0,\n",
       " 253962.0,\n",
       " 515211.0,\n",
       " 998573.0,\n",
       " 677829.0,\n",
       " 1289257.0,\n",
       " 572988.0,\n",
       " 482990.0,\n",
       " 765723.0,\n",
       " 337178.0,\n",
       " 16920.0,\n",
       " 12199.0,\n",
       " 6578.0,\n",
       " 51788.0,\n",
       " 5221.0,\n",
       " 7608.0,\n",
       " 147487.0,\n",
       " 22689.0,\n",
       " 3962.0,\n",
       " 44809.0,\n",
       " 4129.0,\n",
       " 139124.0,\n",
       " 7276.0,\n",
       " 4440.0,\n",
       " 6616.0,\n",
       " 23871.0,\n",
       " 7978.0,\n",
       " 16297.0,\n",
       " 7140.0,\n",
       " 12016.0,\n",
       " 11258.0,\n",
       " 8542.0,\n",
       " 5987.0,\n",
       " 12022.0,\n",
       " 14920.0,\n",
       " 19587.0,\n",
       " 10057.0,\n",
       " 7237.0,\n",
       " 13117.0,\n",
       " 8406.0,\n",
       " 7246.0,\n",
       " 21609.0,\n",
       " 2319.0,\n",
       " 14579.0,\n",
       " 7471.0,\n",
       " 3563.0,\n",
       " 67334.0,\n",
       " 4127.0,\n",
       " 928.0,\n",
       " 13561.0,\n",
       " 2478.0,\n",
       " 15934.0,\n",
       " 2223.0,\n",
       " 2147.0,\n",
       " 12504.0,\n",
       " 16277.0,\n",
       " 2690.0,\n",
       " 2314.0,\n",
       " 13862.0,\n",
       " 4977.0,\n",
       " 10798.0,\n",
       " 4274.0,\n",
       " 10097.0,\n",
       " 7183.0,\n",
       " 44036.0,\n",
       " 10050.0,\n",
       " 4675.0,\n",
       " 5126.0,\n",
       " 12032.0,\n",
       " 2565.0,\n",
       " 837858.0,\n",
       " 656508.0,\n",
       " 302825.0,\n",
       " 746697.0,\n",
       " 96826.0,\n",
       " 177268.0,\n",
       " 3371523.0,\n",
       " 106099.0,\n",
       " 90363.0,\n",
       " 884570.0,\n",
       " 113218.0,\n",
       " 552636.0,\n",
       " 126561.0,\n",
       " 77754.0,\n",
       " 507946.0,\n",
       " 706764.0,\n",
       " 177542.0,\n",
       " 148467.0,\n",
       " 261772.0,\n",
       " 318250.0,\n",
       " 374188.0,\n",
       " 98937.0,\n",
       " 325806.0,\n",
       " 453806.0,\n",
       " 219156.0,\n",
       " 585373.0,\n",
       " 190349.0,\n",
       " 241988.0,\n",
       " 218481.0,\n",
       " 255799.0]"
      ]
     },
     "execution_count": 101,
     "metadata": {},
     "output_type": "execute_result"
    }
   ],
   "source": [
    "list(vote_cts['counts'])"
   ]
  },
  {
   "cell_type": "code",
   "execution_count": 11,
   "id": "fc9e641a-3b13-4213-8155-8b34ed43c2da",
   "metadata": {
    "scrolled": true,
    "tags": []
   },
   "outputs": [
    {
     "data": {
      "text/html": [
       "<div>\n",
       "<style scoped>\n",
       "    .dataframe tbody tr th:only-of-type {\n",
       "        vertical-align: middle;\n",
       "    }\n",
       "\n",
       "    .dataframe tbody tr th {\n",
       "        vertical-align: top;\n",
       "    }\n",
       "\n",
       "    .dataframe thead th {\n",
       "        text-align: right;\n",
       "    }\n",
       "</style>\n",
       "<table border=\"1\" class=\"dataframe\">\n",
       "  <thead>\n",
       "    <tr style=\"text-align: right;\">\n",
       "      <th></th>\n",
       "      <th>counts</th>\n",
       "    </tr>\n",
       "  </thead>\n",
       "  <tbody>\n",
       "    <tr>\n",
       "      <th>0</th>\n",
       "      <td>1</td>\n",
       "    </tr>\n",
       "    <tr>\n",
       "      <th>1</th>\n",
       "      <td>6</td>\n",
       "    </tr>\n",
       "    <tr>\n",
       "      <th>2</th>\n",
       "      <td>1</td>\n",
       "    </tr>\n",
       "    <tr>\n",
       "      <th>3</th>\n",
       "      <td>5</td>\n",
       "    </tr>\n",
       "    <tr>\n",
       "      <th>4</th>\n",
       "      <td>4</td>\n",
       "    </tr>\n",
       "    <tr>\n",
       "      <th>...</th>\n",
       "      <td>...</td>\n",
       "    </tr>\n",
       "    <tr>\n",
       "      <th>25</th>\n",
       "      <td>3</td>\n",
       "    </tr>\n",
       "    <tr>\n",
       "      <th>26</th>\n",
       "      <td>9</td>\n",
       "    </tr>\n",
       "    <tr>\n",
       "      <th>27</th>\n",
       "      <td>8</td>\n",
       "    </tr>\n",
       "    <tr>\n",
       "      <th>28</th>\n",
       "      <td>1</td>\n",
       "    </tr>\n",
       "    <tr>\n",
       "      <th>29</th>\n",
       "      <td>9</td>\n",
       "    </tr>\n",
       "  </tbody>\n",
       "</table>\n",
       "<p>120 rows × 1 columns</p>\n",
       "</div>"
      ],
      "text/plain": [
       "    counts\n",
       "0        1\n",
       "1        6\n",
       "2        1\n",
       "3        5\n",
       "4        4\n",
       "..     ...\n",
       "25       3\n",
       "26       9\n",
       "27       8\n",
       "28       1\n",
       "29       9\n",
       "\n",
       "[120 rows x 1 columns]"
      ]
     },
     "execution_count": 11,
     "metadata": {},
     "output_type": "execute_result"
    }
   ],
   "source": [
    "vote_digits = (vote_cts%10).astype(int)\n",
    "vote_digits"
   ]
  },
  {
   "cell_type": "code",
   "execution_count": 111,
   "id": "15085ead-3877-4992-aa25-ad03d4f2ee0a",
   "metadata": {
    "scrolled": true,
    "tags": []
   },
   "outputs": [
    {
     "data": {
      "text/html": [
       "<div>\n",
       "<style scoped>\n",
       "    .dataframe tbody tr th:only-of-type {\n",
       "        vertical-align: middle;\n",
       "    }\n",
       "\n",
       "    .dataframe tbody tr th {\n",
       "        vertical-align: top;\n",
       "    }\n",
       "\n",
       "    .dataframe thead th {\n",
       "        text-align: right;\n",
       "    }\n",
       "</style>\n",
       "<table border=\"1\" class=\"dataframe\">\n",
       "  <thead>\n",
       "    <tr style=\"text-align: right;\">\n",
       "      <th></th>\n",
       "      <th>counts</th>\n",
       "    </tr>\n",
       "  </thead>\n",
       "  <tbody>\n",
       "    <tr>\n",
       "      <th>0</th>\n",
       "      <td>11</td>\n",
       "    </tr>\n",
       "    <tr>\n",
       "      <th>1</th>\n",
       "      <td>46</td>\n",
       "    </tr>\n",
       "    <tr>\n",
       "      <th>2</th>\n",
       "      <td>11</td>\n",
       "    </tr>\n",
       "    <tr>\n",
       "      <th>3</th>\n",
       "      <td>55</td>\n",
       "    </tr>\n",
       "    <tr>\n",
       "      <th>4</th>\n",
       "      <td>54</td>\n",
       "    </tr>\n",
       "    <tr>\n",
       "      <th>...</th>\n",
       "      <td>...</td>\n",
       "    </tr>\n",
       "    <tr>\n",
       "      <th>25</th>\n",
       "      <td>73</td>\n",
       "    </tr>\n",
       "    <tr>\n",
       "      <th>26</th>\n",
       "      <td>49</td>\n",
       "    </tr>\n",
       "    <tr>\n",
       "      <th>27</th>\n",
       "      <td>88</td>\n",
       "    </tr>\n",
       "    <tr>\n",
       "      <th>28</th>\n",
       "      <td>81</td>\n",
       "    </tr>\n",
       "    <tr>\n",
       "      <th>29</th>\n",
       "      <td>99</td>\n",
       "    </tr>\n",
       "  </tbody>\n",
       "</table>\n",
       "<p>120 rows × 1 columns</p>\n",
       "</div>"
      ],
      "text/plain": [
       "    counts\n",
       "0       11\n",
       "1       46\n",
       "2       11\n",
       "3       55\n",
       "4       54\n",
       "..     ...\n",
       "25      73\n",
       "26      49\n",
       "27      88\n",
       "28      81\n",
       "29      99\n",
       "\n",
       "[120 rows x 1 columns]"
      ]
     },
     "execution_count": 111,
     "metadata": {},
     "output_type": "execute_result"
    }
   ],
   "source": [
    "vote_sec_digits = (vote_cts%100).astype(int)\n",
    "vote_sec_digits"
   ]
  },
  {
   "cell_type": "code",
   "execution_count": 13,
   "id": "429655c7-de3e-4bc4-8540-47aee88c729b",
   "metadata": {
    "scrolled": true,
    "tags": []
   },
   "outputs": [
    {
     "data": {
      "text/html": [
       "<div>\n",
       "<style scoped>\n",
       "    .dataframe tbody tr th:only-of-type {\n",
       "        vertical-align: middle;\n",
       "    }\n",
       "\n",
       "    .dataframe tbody tr th {\n",
       "        vertical-align: top;\n",
       "    }\n",
       "\n",
       "    .dataframe thead th {\n",
       "        text-align: right;\n",
       "    }\n",
       "</style>\n",
       "<table border=\"1\" class=\"dataframe\">\n",
       "  <thead>\n",
       "    <tr style=\"text-align: right;\">\n",
       "      <th></th>\n",
       "      <th>counts</th>\n",
       "    </tr>\n",
       "  </thead>\n",
       "  <tbody>\n",
       "    <tr>\n",
       "      <th>0</th>\n",
       "      <td>1</td>\n",
       "    </tr>\n",
       "    <tr>\n",
       "      <th>1</th>\n",
       "      <td>4</td>\n",
       "    </tr>\n",
       "    <tr>\n",
       "      <th>2</th>\n",
       "      <td>1</td>\n",
       "    </tr>\n",
       "    <tr>\n",
       "      <th>3</th>\n",
       "      <td>5</td>\n",
       "    </tr>\n",
       "    <tr>\n",
       "      <th>4</th>\n",
       "      <td>5</td>\n",
       "    </tr>\n",
       "    <tr>\n",
       "      <th>...</th>\n",
       "      <td>...</td>\n",
       "    </tr>\n",
       "    <tr>\n",
       "      <th>25</th>\n",
       "      <td>7</td>\n",
       "    </tr>\n",
       "    <tr>\n",
       "      <th>26</th>\n",
       "      <td>4</td>\n",
       "    </tr>\n",
       "    <tr>\n",
       "      <th>27</th>\n",
       "      <td>8</td>\n",
       "    </tr>\n",
       "    <tr>\n",
       "      <th>28</th>\n",
       "      <td>8</td>\n",
       "    </tr>\n",
       "    <tr>\n",
       "      <th>29</th>\n",
       "      <td>9</td>\n",
       "    </tr>\n",
       "  </tbody>\n",
       "</table>\n",
       "<p>120 rows × 1 columns</p>\n",
       "</div>"
      ],
      "text/plain": [
       "    counts\n",
       "0        1\n",
       "1        4\n",
       "2        1\n",
       "3        5\n",
       "4        5\n",
       "..     ...\n",
       "25       7\n",
       "26       4\n",
       "27       8\n",
       "28       8\n",
       "29       9\n",
       "\n",
       "[120 rows x 1 columns]"
      ]
     },
     "execution_count": 13,
     "metadata": {},
     "output_type": "execute_result"
    }
   ],
   "source": [
    "vote_sec_digits = (np.floor(vote_cts%100)/10).astype(int)\n",
    "vote_sec_digits"
   ]
  },
  {
   "cell_type": "code",
   "execution_count": 45,
   "id": "faed1af5-c47b-4024-afdd-ca8544bb059c",
   "metadata": {},
   "outputs": [
    {
     "data": {
      "text/plain": [
       "(30, 6)"
      ]
     },
     "execution_count": 45,
     "metadata": {},
     "output_type": "execute_result"
    }
   ],
   "source": [
    "test.shape"
   ]
  },
  {
   "cell_type": "code",
   "execution_count": 14,
   "id": "2baeef92-8427-4ac0-b893-2518fa1bb6ab",
   "metadata": {
    "scrolled": true,
    "tags": []
   },
   "outputs": [
    {
     "data": {
      "text/html": [
       "<div>\n",
       "<style scoped>\n",
       "    .dataframe tbody tr th:only-of-type {\n",
       "        vertical-align: middle;\n",
       "    }\n",
       "\n",
       "    .dataframe tbody tr th {\n",
       "        vertical-align: top;\n",
       "    }\n",
       "\n",
       "    .dataframe thead th {\n",
       "        text-align: right;\n",
       "    }\n",
       "</style>\n",
       "<table border=\"1\" class=\"dataframe\">\n",
       "  <thead>\n",
       "    <tr style=\"text-align: right;\">\n",
       "      <th></th>\n",
       "      <th>counts</th>\n",
       "    </tr>\n",
       "  </thead>\n",
       "  <tbody>\n",
       "    <tr>\n",
       "      <th>0</th>\n",
       "      <td>1</td>\n",
       "    </tr>\n",
       "    <tr>\n",
       "      <th>1</th>\n",
       "      <td>6</td>\n",
       "    </tr>\n",
       "    <tr>\n",
       "      <th>2</th>\n",
       "      <td>1</td>\n",
       "    </tr>\n",
       "    <tr>\n",
       "      <th>3</th>\n",
       "      <td>5</td>\n",
       "    </tr>\n",
       "    <tr>\n",
       "      <th>4</th>\n",
       "      <td>4</td>\n",
       "    </tr>\n",
       "    <tr>\n",
       "      <th>...</th>\n",
       "      <td>...</td>\n",
       "    </tr>\n",
       "    <tr>\n",
       "      <th>235</th>\n",
       "      <td>7</td>\n",
       "    </tr>\n",
       "    <tr>\n",
       "      <th>236</th>\n",
       "      <td>4</td>\n",
       "    </tr>\n",
       "    <tr>\n",
       "      <th>237</th>\n",
       "      <td>8</td>\n",
       "    </tr>\n",
       "    <tr>\n",
       "      <th>238</th>\n",
       "      <td>8</td>\n",
       "    </tr>\n",
       "    <tr>\n",
       "      <th>239</th>\n",
       "      <td>9</td>\n",
       "    </tr>\n",
       "  </tbody>\n",
       "</table>\n",
       "<p>240 rows × 1 columns</p>\n",
       "</div>"
      ],
      "text/plain": [
       "     counts\n",
       "0         1\n",
       "1         6\n",
       "2         1\n",
       "3         5\n",
       "4         4\n",
       "..      ...\n",
       "235       7\n",
       "236       4\n",
       "237       8\n",
       "238       8\n",
       "239       9\n",
       "\n",
       "[240 rows x 1 columns]"
      ]
     },
     "execution_count": 14,
     "metadata": {},
     "output_type": "execute_result"
    }
   ],
   "source": [
    "vote_test = vote_digits.append(vote_sec_digits, ignore_index=True)\n",
    "vote_test"
   ]
  },
  {
   "cell_type": "code",
   "execution_count": null,
   "id": "a158cc8a-4de5-4122-9f2b-9a2f424cc2ff",
   "metadata": {},
   "outputs": [],
   "source": []
  },
  {
   "cell_type": "code",
   "execution_count": 15,
   "id": "ea332b04-be5e-48b2-b3c2-863ae48e6cbb",
   "metadata": {},
   "outputs": [
    {
     "data": {
      "text/html": [
       "<div>\n",
       "<style scoped>\n",
       "    .dataframe tbody tr th:only-of-type {\n",
       "        vertical-align: middle;\n",
       "    }\n",
       "\n",
       "    .dataframe tbody tr th {\n",
       "        vertical-align: top;\n",
       "    }\n",
       "\n",
       "    .dataframe thead th {\n",
       "        text-align: right;\n",
       "    }\n",
       "</style>\n",
       "<table border=\"1\" class=\"dataframe\">\n",
       "  <thead>\n",
       "    <tr style=\"text-align: right;\">\n",
       "      <th>col_0</th>\n",
       "      <th>frequency</th>\n",
       "    </tr>\n",
       "    <tr>\n",
       "      <th>counts</th>\n",
       "      <th></th>\n",
       "    </tr>\n",
       "  </thead>\n",
       "  <tbody>\n",
       "    <tr>\n",
       "      <th>0</th>\n",
       "      <td>0.083333</td>\n",
       "    </tr>\n",
       "    <tr>\n",
       "      <th>1</th>\n",
       "      <td>0.083333</td>\n",
       "    </tr>\n",
       "    <tr>\n",
       "      <th>2</th>\n",
       "      <td>0.104167</td>\n",
       "    </tr>\n",
       "    <tr>\n",
       "      <th>3</th>\n",
       "      <td>0.062500</td>\n",
       "    </tr>\n",
       "    <tr>\n",
       "      <th>4</th>\n",
       "      <td>0.087500</td>\n",
       "    </tr>\n",
       "    <tr>\n",
       "      <th>5</th>\n",
       "      <td>0.070833</td>\n",
       "    </tr>\n",
       "    <tr>\n",
       "      <th>6</th>\n",
       "      <td>0.125000</td>\n",
       "    </tr>\n",
       "    <tr>\n",
       "      <th>7</th>\n",
       "      <td>0.154167</td>\n",
       "    </tr>\n",
       "    <tr>\n",
       "      <th>8</th>\n",
       "      <td>0.129167</td>\n",
       "    </tr>\n",
       "    <tr>\n",
       "      <th>9</th>\n",
       "      <td>0.100000</td>\n",
       "    </tr>\n",
       "  </tbody>\n",
       "</table>\n",
       "</div>"
      ],
      "text/plain": [
       "col_0   frequency\n",
       "counts           \n",
       "0        0.083333\n",
       "1        0.083333\n",
       "2        0.104167\n",
       "3        0.062500\n",
       "4        0.087500\n",
       "5        0.070833\n",
       "6        0.125000\n",
       "7        0.154167\n",
       "8        0.129167\n",
       "9        0.100000"
      ]
     },
     "execution_count": 15,
     "metadata": {},
     "output_type": "execute_result"
    }
   ],
   "source": [
    "freq_test = pd.crosstab(vote_digits['counts'].append(vote_sec_digits['counts'], ignore_index=True), columns=['frequency'], normalize=True)\n",
    "freq_test"
   ]
  },
  {
   "cell_type": "code",
   "execution_count": 8,
   "id": "52a74eb3-9272-4309-ae40-ff2344678cd5",
   "metadata": {},
   "outputs": [],
   "source": [
    "def ones_and_tens_digit_histogram(numbers):\n",
    "    last_digits = numbers%10\n",
    "    sec_last_digits = (np.floor(numbers%100)/10).astype(int)\n",
    "    return pd.crosstab(last_digits.append(sec_last_digits, ignore_index=True), columns=['frequency'], normalize=True)"
   ]
  },
  {
   "cell_type": "markdown",
   "id": "60bc3418-3d14-4d81-acfd-fcbf406d25e4",
   "metadata": {},
   "source": [
    "## Problem 3: Plot election data\n",
    "\n",
    "Write a function called `plot_iranian_least_digits_histogram` that takes a histogram (as created by ones_and_tens_digit_histogram) and graphs the frequencies of the ones and tens digits for the Iranian election data. Save your plot to a file named iran-digits.png using pyplot.savefig."
   ]
  },
  {
   "cell_type": "code",
   "execution_count": null,
   "id": "2886e280-a15a-4261-8020-c17fe2f4079d",
   "metadata": {},
   "outputs": [],
   "source": [
    "plot_iranian_least_digits_histogram(histogram)"
   ]
  },
  {
   "cell_type": "code",
   "execution_count": 120,
   "id": "c63dcf3c-bdea-4cd8-a139-a84c0017b5e7",
   "metadata": {},
   "outputs": [
    {
     "data": {
      "text/plain": [
       "col_0\n",
       "frequency    1.0\n",
       "dtype: float64"
      ]
     },
     "execution_count": 120,
     "metadata": {},
     "output_type": "execute_result"
    }
   ],
   "source": [
    "freq_test.sum()"
   ]
  },
  {
   "cell_type": "code",
   "execution_count": 16,
   "id": "4be84e9c-d7a7-49ff-9a31-822eeb4694b3",
   "metadata": {},
   "outputs": [
    {
     "data": {
      "text/plain": [
       "<matplotlib.legend.Legend at 0x1985b6359d0>"
      ]
     },
     "execution_count": 16,
     "metadata": {},
     "output_type": "execute_result"
    },
    {
     "data": {
      "image/png": "[encoded data removed]",
      "text/plain": [
       "<Figure size 432x288 with 1 Axes>"
      ]
     },
     "metadata": {
      "needs_background": "light"
     },
     "output_type": "display_data"
    }
   ],
   "source": [
    "plt.plot(freq_test, 'g', label='Iran')\n",
    "plt.plot([0.10, 0.10, 0.10, 0.10, 0.10, 0.10, 0.10, 0.10, 0.10, 0.10], 'b', label='Ideal')\n",
    "plt.xlabel('Digit')\n",
    "plt.ylabel('Frequency')\n",
    "plt.legend(loc='upper right')"
   ]
  },
  {
   "cell_type": "code",
   "execution_count": 17,
   "id": "59c5a107-bc6e-40e8-8d0e-4c5fa1ad8447",
   "metadata": {},
   "outputs": [],
   "source": [
    "def plot_iranian_least_digits_histogram(histogram):\n",
    "    plt.plot(histogram, 'g', label='Iran')\n",
    "    plt.plot([0.10, 0.10, 0.10, 0.10, 0.10, 0.10, 0.10, 0.10, 0.10, 0.10], 'b', label='Ideal')\n",
    "    plt.xlabel('Digit')\n",
    "    plt.ylabel('Frequency')\n",
    "    plt.legend(loc='upper right')\n",
    "    plt.savefig('homework6/iran-digits.png')\n",
    "    plt.show()"
   ]
  },
  {
   "cell_type": "code",
   "execution_count": 123,
   "id": "04672e70-2967-40dd-9fa1-43f0c09f7a37",
   "metadata": {},
   "outputs": [
    {
     "data": {
      "image/png": "[encoded data removed]",
      "text/plain": [
       "<Figure size 432x288 with 1 Axes>"
      ]
     },
     "metadata": {
      "needs_background": "light"
     },
     "output_type": "display_data"
    }
   ],
   "source": [
    "plot_iranian_least_digits_histogram(freq_test)"
   ]
  },
  {
   "cell_type": "markdown",
   "id": "965bef84-a9e3-4184-8d8c-8ee3b9fa7761",
   "metadata": {},
   "source": [
    "## Problem 4: Smaller samples have more variation\n",
    "\n",
    "Write a function called `plot_distribution_by_sample_size`. This function creates 5 different-sized collections of random numbers. Then, it plots the digit histograms for each of those collections. Your function should save your plot as `random-digits.png`."
   ]
  },
  {
   "cell_type": "code",
   "execution_count": 19,
   "id": "0b0a1d50-1ac1-40bf-92e2-56b8edaaf36f",
   "metadata": {},
   "outputs": [
    {
     "data": {
      "text/plain": [
       "[3, 66, 73, 59, 52, 58, 24, 33, 65, 90]"
      ]
     },
     "execution_count": 19,
     "metadata": {},
     "output_type": "execute_result"
    }
   ],
   "source": [
    "rand_lst = []\n",
    "for x in range(10):\n",
    "    rand_lst.append(random.randint(0, 99))\n",
    "rand_lst"
   ]
  },
  {
   "cell_type": "code",
   "execution_count": 132,
   "id": "ec38e033-e619-420d-918d-2f524ffc8933",
   "metadata": {},
   "outputs": [
    {
     "data": {
      "text/plain": [
       "0    95\n",
       "1    53\n",
       "2    94\n",
       "3    87\n",
       "4    24\n",
       "5     9\n",
       "6    46\n",
       "7    58\n",
       "8    79\n",
       "9    82\n",
       "dtype: int64"
      ]
     },
     "execution_count": 132,
     "metadata": {},
     "output_type": "execute_result"
    }
   ],
   "source": [
    "pd.Series(rand_lst)"
   ]
  },
  {
   "cell_type": "code",
   "execution_count": 20,
   "id": "29b3852e-9986-4ac2-b8c2-dff671fe7005",
   "metadata": {},
   "outputs": [
    {
     "data": {
      "text/html": [
       "<div>\n",
       "<style scoped>\n",
       "    .dataframe tbody tr th:only-of-type {\n",
       "        vertical-align: middle;\n",
       "    }\n",
       "\n",
       "    .dataframe tbody tr th {\n",
       "        vertical-align: top;\n",
       "    }\n",
       "\n",
       "    .dataframe thead th {\n",
       "        text-align: right;\n",
       "    }\n",
       "</style>\n",
       "<table border=\"1\" class=\"dataframe\">\n",
       "  <thead>\n",
       "    <tr style=\"text-align: right;\">\n",
       "      <th>col_0</th>\n",
       "      <th>frequency</th>\n",
       "    </tr>\n",
       "    <tr>\n",
       "      <th>row_0</th>\n",
       "      <th></th>\n",
       "    </tr>\n",
       "  </thead>\n",
       "  <tbody>\n",
       "    <tr>\n",
       "      <th>0</th>\n",
       "      <td>0.10</td>\n",
       "    </tr>\n",
       "    <tr>\n",
       "      <th>2</th>\n",
       "      <td>0.10</td>\n",
       "    </tr>\n",
       "    <tr>\n",
       "      <th>3</th>\n",
       "      <td>0.20</td>\n",
       "    </tr>\n",
       "    <tr>\n",
       "      <th>4</th>\n",
       "      <td>0.05</td>\n",
       "    </tr>\n",
       "    <tr>\n",
       "      <th>5</th>\n",
       "      <td>0.20</td>\n",
       "    </tr>\n",
       "    <tr>\n",
       "      <th>6</th>\n",
       "      <td>0.15</td>\n",
       "    </tr>\n",
       "    <tr>\n",
       "      <th>7</th>\n",
       "      <td>0.05</td>\n",
       "    </tr>\n",
       "    <tr>\n",
       "      <th>8</th>\n",
       "      <td>0.05</td>\n",
       "    </tr>\n",
       "    <tr>\n",
       "      <th>9</th>\n",
       "      <td>0.10</td>\n",
       "    </tr>\n",
       "  </tbody>\n",
       "</table>\n",
       "</div>"
      ],
      "text/plain": [
       "col_0  frequency\n",
       "row_0           \n",
       "0           0.10\n",
       "2           0.10\n",
       "3           0.20\n",
       "4           0.05\n",
       "5           0.20\n",
       "6           0.15\n",
       "7           0.05\n",
       "8           0.05\n",
       "9           0.10"
      ]
     },
     "execution_count": 20,
     "metadata": {},
     "output_type": "execute_result"
    }
   ],
   "source": [
    "ones_and_tens_digit_histogram(pd.Series(rand_lst))"
   ]
  },
  {
   "cell_type": "code",
   "execution_count": 21,
   "id": "a6b17f8f-6fff-4806-b5d7-e2ee26e7b980",
   "metadata": {},
   "outputs": [
    {
     "data": {
      "image/png": "[encoded data removed]",
      "text/plain": [
       "<Figure size 432x288 with 1 Axes>"
      ]
     },
     "metadata": {
      "needs_background": "light"
     },
     "output_type": "display_data"
    }
   ],
   "source": [
    "plot_iranian_least_digits_histogram(ones_and_tens_digit_histogram(pd.Series(rand_lst)))"
   ]
  },
  {
   "cell_type": "code",
   "execution_count": null,
   "id": "454fce83-00bc-40eb-b558-c9b60d8bbdcc",
   "metadata": {},
   "outputs": [],
   "source": []
  },
  {
   "cell_type": "code",
   "execution_count": 22,
   "id": "586fb0df-232d-4201-820a-6fcdb13f868e",
   "metadata": {},
   "outputs": [],
   "source": [
    "def plot_iranian_least_digits_histogram(histogram, color, size):\n",
    "    plt.axhline(y=0.10, color='b', label='Ideal')\n",
    "    plt.plot(histogram, color, label=f'{size} random numbers')\n",
    "    plt.xlabel('Digit')\n",
    "    plt.ylabel('Frequency')\n",
    "    plt.legend(loc='upper right')\n",
    "#     plt.savefig('homework6/iran-digits.png')\n",
    "    plt.title('Distrubution of last two digits')\n",
    "    plt.show()\n",
    "\n",
    "def random_nbr_lst(size):\n",
    "    rand_lst = []\n",
    "    for x in range(size):\n",
    "        rand_lst.append(random.randint(0, 99))\n",
    "    return rand_lst\n",
    "    \n",
    "def plot_distribution_by_sample_size(size, color):\n",
    "    rand_lst = random_nbr_lst(size)\n",
    "    freq = ones_and_tens_digit_histogram(pd.Series(rand_lst))\n",
    "    plot_iranian_least_digits_histogram(freq, color, size)"
   ]
  },
  {
   "cell_type": "code",
   "execution_count": 23,
   "id": "62bdbbc0-6db3-45f9-b51e-c8b6c5554bf5",
   "metadata": {},
   "outputs": [],
   "source": [
    "lst_lengths = [10, 50, 100, 1000, 10000]\n",
    "color_lst = ['g','r','c','m','y','k','w']"
   ]
  },
  {
   "cell_type": "code",
   "execution_count": 24,
   "id": "279b34cc-8da6-49a9-a349-7f630344a83d",
   "metadata": {},
   "outputs": [
    {
     "name": "stdout",
     "output_type": "stream",
     "text": [
      "0 10 g\n",
      "1 50 r\n",
      "2 100 c\n",
      "3 1000 m\n",
      "4 10000 y\n"
     ]
    }
   ],
   "source": [
    "for i, size in enumerate(lst_lengths):\n",
    "    print(i, size, color_lst[i])"
   ]
  },
  {
   "cell_type": "code",
   "execution_count": 25,
   "id": "9d198e7b-0c5c-421a-98d5-933b7a21d19f",
   "metadata": {},
   "outputs": [
    {
     "data": {
      "image/png": "[encoded data removed]",
      "text/plain": [
       "<Figure size 432x288 with 1 Axes>"
      ]
     },
     "metadata": {
      "needs_background": "light"
     },
     "output_type": "display_data"
    }
   ],
   "source": [
    "plot_distribution_by_sample_size(10, 'r')"
   ]
  },
  {
   "cell_type": "code",
   "execution_count": 26,
   "id": "08a660a6-6341-4d70-99c6-78f7e2cb9c73",
   "metadata": {},
   "outputs": [
    {
     "data": {
      "image/png": "[encoded data removed]",
      "text/plain": [
       "<Figure size 432x288 with 1 Axes>"
      ]
     },
     "metadata": {
      "needs_background": "light"
     },
     "output_type": "display_data"
    },
    {
     "data": {
      "image/png": "[encoded data removed]",
      "text/plain": [
       "<Figure size 432x288 with 1 Axes>"
      ]
     },
     "metadata": {
      "needs_background": "light"
     },
     "output_type": "display_data"
    },
    {
     "data": {
      "image/png": "[encoded data removed]",
      "text/plain": [
       "<Figure size 432x288 with 1 Axes>"
      ]
     },
     "metadata": {
      "needs_background": "light"
     },
     "output_type": "display_data"
    },
    {
     "data": {
      "image/png": "[encoded data removed]",
      "text/plain": [
       "<Figure size 432x288 with 1 Axes>"
      ]
     },
     "metadata": {
      "needs_background": "light"
     },
     "output_type": "display_data"
    },
    {
     "data": {
      "image/png": "[encoded data removed]",
      "text/plain": [
       "<Figure size 432x288 with 1 Axes>"
      ]
     },
     "metadata": {
      "needs_background": "light"
     },
     "output_type": "display_data"
    }
   ],
   "source": [
    "for i, size in enumerate(lst_lengths):\n",
    "    plot_distribution_by_sample_size(size, color_lst[i])"
   ]
  },
  {
   "cell_type": "markdown",
   "id": "fa493c45-a547-484d-a57f-f1419a48f51d",
   "metadata": {},
   "source": [
    "# Problem 5: Comparing variation of samples\n",
    "\n",
    "Write a function mean_squared_error that, given two lists of numbers, computes the mean squared error between the lists."
   ]
  },
  {
   "cell_type": "code",
   "execution_count": null,
   "id": "78c35f02-93f1-42c0-891f-26739624961f",
   "metadata": {},
   "outputs": [],
   "source": [
    "(1-2)2 + (4-3)2 + (9-4)2"
   ]
  },
  {
   "cell_type": "code",
   "execution_count": 167,
   "id": "cf5647cc-101a-4ebe-9ca0-eae847e3c67a",
   "metadata": {},
   "outputs": [],
   "source": [
    "a = [1,2,3,4]\n",
    "b = [4,3,2,1]"
   ]
  },
  {
   "cell_type": "code",
   "execution_count": 172,
   "id": "0dbc219d-18b9-4fcc-ac87-097845f2ef3c",
   "metadata": {},
   "outputs": [
    {
     "data": {
      "text/plain": [
       "array([-3, -1,  1,  3])"
      ]
     },
     "execution_count": 172,
     "metadata": {},
     "output_type": "execute_result"
    }
   ],
   "source": [
    "np.subtract(a,b)"
   ]
  },
  {
   "cell_type": "code",
   "execution_count": 176,
   "id": "82f9f008-e19f-4383-ab59-dbf704485e72",
   "metadata": {},
   "outputs": [
    {
     "data": {
      "text/plain": [
       "array([9, 1, 1, 9], dtype=int32)"
      ]
     },
     "execution_count": 176,
     "metadata": {},
     "output_type": "execute_result"
    }
   ],
   "source": [
    "np.subtract(a,b)**2"
   ]
  },
  {
   "cell_type": "code",
   "execution_count": 175,
   "id": "11414deb-bed5-4752-82f3-0eb4a9757c76",
   "metadata": {},
   "outputs": [
    {
     "data": {
      "text/plain": [
       "20"
      ]
     },
     "execution_count": 175,
     "metadata": {},
     "output_type": "execute_result"
    }
   ],
   "source": [
    "sum(np.subtract(a,b)**2)"
   ]
  },
  {
   "cell_type": "code",
   "execution_count": 27,
   "id": "9c61e9d2-d450-4bc7-a685-84b1bbb18006",
   "metadata": {},
   "outputs": [],
   "source": [
    "def mean_squared_error(lst1, lst2):\n",
    "    return sum(np.subtract(lst1,lst2)**2)"
   ]
  },
  {
   "cell_type": "code",
   "execution_count": 28,
   "id": "258dd4bf-b60a-4096-a870-42b1d943a481",
   "metadata": {},
   "outputs": [],
   "source": [
    "assert mean_squared_error([1, 4, 9], [6, 5, 4]) == 51"
   ]
  },
  {
   "cell_type": "code",
   "execution_count": 29,
   "id": "cc4fce53-46f3-4d4e-b008-d055df079b32",
   "metadata": {},
   "outputs": [
    {
     "data": {
      "text/plain": [
       "51"
      ]
     },
     "execution_count": 29,
     "metadata": {},
     "output_type": "execute_result"
    }
   ],
   "source": [
    "mean_squared_error([1, 4, 9], [6, 5, 4])"
   ]
  },
  {
   "cell_type": "markdown",
   "id": "d31f8531-eaf4-4d80-a824-b33637bf6afb",
   "metadata": {},
   "source": [
    "# Problem 6: Comparing variation of samples\n",
    "\n",
    "Augment your program with a function called `calculate_mse_with_uniform` that takes a histogram (as created by ones_and_tens_digit_histogram) and returns the mean squared error of the given histogram with the uniform distribution. Invoking `calculate_mse_with_uniform` with the the Iranian election results histogram (for the ones and tens digits) should return the result 0.00739583333333, or approximately 0.007.\n",
    "\n",
    "> `calculate_mse_with_uniform(histogram)` == 0.00739583333333\n",
    "\n",
    "This number on its own does not mean anything — we don't know whether it is unusually low, or unusually high, or about average. To find out, we need to compare it to similarly-sized sets.\n",
    "\n",
    "In a function called `compare_iranian_mse_to_samples` take the Iranian MSE (as computed by `calculate_mse_with_uniform`) and compare it to the MSE to the uniform distribution for 10000 groups of random numbers, where each group is the same size as the Iranian election data (120 numbers). You will only use the last two digits of the random numbers.\n",
    "\n",
    "Your function should determine where the passed in MSE (For our sample of the 2009 Iranian election data, this is ~0.007) appears relative to the computed MSE samples. In other words, determine how many of the random MSEs are larger than or equal to the Iran MSE, and how many of the random MSEs are smaller than the Iran MSE. Print these values. This function should return `None`. With each run of your program, you should expect a slightly different outcome from this function call.\n",
    "\n",
    "> `compare_iranian_mse_to_samples(0.00739583333333)`\n",
    "- Quantity of MSEs larger than or equal to the 2009 Iranian election MSE: ___\n",
    "- Quantity of MSEs smaller than the 2009 Iranian election MSE: ___\n",
    "- 2009 Iranian election null hypothesis rejection level p: ___"
   ]
  },
  {
   "cell_type": "code",
   "execution_count": 188,
   "id": "62e82e08-4244-40b1-87aa-18689271c95b",
   "metadata": {},
   "outputs": [
    {
     "data": {
      "text/plain": [
       "[0.08333333333333333,\n",
       " 0.08333333333333333,\n",
       " 0.10416666666666667,\n",
       " 0.0625,\n",
       " 0.0875,\n",
       " 0.07083333333333333,\n",
       " 0.125,\n",
       " 0.15416666666666667,\n",
       " 0.12916666666666668,\n",
       " 0.1]"
      ]
     },
     "execution_count": 188,
     "metadata": {},
     "output_type": "execute_result"
    }
   ],
   "source": [
    "freq_test['frequency'].tolist()"
   ]
  },
  {
   "cell_type": "code",
   "execution_count": 185,
   "id": "dea8d911-68a5-416d-9978-9dc56f74f83b",
   "metadata": {},
   "outputs": [
    {
     "data": {
      "text/plain": [
       "10"
      ]
     },
     "execution_count": 185,
     "metadata": {},
     "output_type": "execute_result"
    }
   ],
   "source": [
    "len(freq_test)"
   ]
  },
  {
   "cell_type": "code",
   "execution_count": 189,
   "id": "66cf6e55-ac29-4e8f-9031-eeece62a6ca9",
   "metadata": {},
   "outputs": [
    {
     "data": {
      "text/plain": [
       "[0.1, 0.1, 0.1, 0.1, 0.1, 0.1, 0.1, 0.1, 0.1, 0.1]"
      ]
     },
     "execution_count": 189,
     "metadata": {},
     "output_type": "execute_result"
    }
   ],
   "source": [
    "[0.1]*len(freq_test)"
   ]
  },
  {
   "cell_type": "code",
   "execution_count": 30,
   "id": "1f6582cd-c8dc-4748-bdfe-c183ed37b843",
   "metadata": {},
   "outputs": [],
   "source": [
    "def calculate_mse_with_uniform(histogram):\n",
    "    uniform_distro = [0.1]*len(histogram)\n",
    "    return mean_squared_error(histogram, uniform_distro)"
   ]
  },
  {
   "cell_type": "code",
   "execution_count": 31,
   "id": "6e9099a5-4631-4197-ab82-4a88c40aebcd",
   "metadata": {},
   "outputs": [
    {
     "data": {
      "text/plain": [
       "0.007395833333333335"
      ]
     },
     "execution_count": 31,
     "metadata": {},
     "output_type": "execute_result"
    }
   ],
   "source": [
    "calculate_mse_with_uniform(freq_test['frequency'].tolist())"
   ]
  },
  {
   "cell_type": "markdown",
   "id": "f12647db-3ec6-4b5f-918b-765de07f0a13",
   "metadata": {},
   "source": [
    "In a function called `compare_iranian_mse_to_samples` take the Iranian MSE (as computed by `calculate_mse_with_uniform`) and compare it to the MSE to the uniform distribution for 10000 groups of random numbers, where each group is the same size as the Iranian election data (120 numbers). You will only use the last two digits of the random numbers.\n",
    "\n",
    "Your function should determine where the passed in MSE (For our sample of the 2009 Iranian election data, this is ~0.007) appears relative to the computed MSE samples. In other words, determine how many of the random MSEs are larger than or equal to the Iran MSE, and how many of the random MSEs are smaller than the Iran MSE. Print these values."
   ]
  },
  {
   "cell_type": "markdown",
   "id": "cc6368d1-4057-4d29-b6d6-1194cd993282",
   "metadata": {},
   "source": [
    "Psudocode\n",
    "\n",
    "- mse of Iran with Uniform => 0.007\n",
    "- 120 random numbers x 10,000\n",
    "- count if mse is >= or < than Iran MSE\n",
    "- print counts\n",
    "- print count ratios"
   ]
  },
  {
   "cell_type": "code",
   "execution_count": 30,
   "id": "8b942d66-6455-4dca-af10-1e4dbc6a9cf3",
   "metadata": {},
   "outputs": [],
   "source": [
    "def calculate_mse_with_uniform(histogram):\n",
    "    uniform_distro = [0.1]*len(histogram)\n",
    "    return mean_squared_error(histogram, uniform_distro)"
   ]
  },
  {
   "cell_type": "code",
   "execution_count": 27,
   "id": "847ac40a-5f4a-423a-90aa-86ef152f2756",
   "metadata": {},
   "outputs": [],
   "source": [
    "def mean_squared_error(lst1, lst2):\n",
    "    return sum(np.subtract(lst1,lst2)**2)"
   ]
  },
  {
   "cell_type": "code",
   "execution_count": null,
   "id": "51e404a1-2ed9-4c13-9f0d-d7984d887d6a",
   "metadata": {},
   "outputs": [],
   "source": [
    "def random_nbr_lst(size):\n",
    "    rand_lst = []\n",
    "    for x in range(size):\n",
    "        rand_lst.append(random.randint(0, 99))\n",
    "    return rand_lst"
   ]
  },
  {
   "cell_type": "code",
   "execution_count": 53,
   "id": "bc0a9e70-3d78-41c8-b6c6-2167f5e92bfb",
   "metadata": {},
   "outputs": [
    {
     "data": {
      "text/plain": [
       "0.0021527777777777786"
      ]
     },
     "execution_count": 53,
     "metadata": {},
     "output_type": "execute_result"
    }
   ],
   "source": [
    "calculate_mse_with_uniform(ones_and_tens_digit_histogram(pd.Series(random_nbr_lst(120)))['frequency'].tolist())"
   ]
  },
  {
   "cell_type": "code",
   "execution_count": 160,
   "id": "77fd2845-90b5-4909-92a7-8ad2c8a16575",
   "metadata": {},
   "outputs": [],
   "source": [
    "def compare_iranian_mse_to_samples(samp_size):\n",
    "    i_mse = calculate_mse_with_uniform(freq_test['frequency'].tolist())\n",
    "    g_or_e = 0\n",
    "    l = 0\n",
    "    for i in range(samp_size):\n",
    "        histogram = ones_and_tens_digit_histogram(pd.Series(random_nbr_lst(120)))\n",
    "        r_mse = calculate_mse_with_uniform(histogram['frequency'].tolist())\n",
    "        if r_mse < i_mse:\n",
    "            l += 1\n",
    "        else:\n",
    "            g_or_e += 1\n",
    "    print(f'Quantity of MSEs larger than or equal to the 2009 Iranian election MSE: {g_or_e}')\n",
    "    print(f'Quantity of MSEs smaller than the 2009 Iranian election MSE: {l}')\n",
    "    print(f'2009 Iranian election null hypothesis rejection level p: {g_or_e/samp_size}')"
   ]
  },
  {
   "cell_type": "code",
   "execution_count": 161,
   "id": "c0ca6007-a157-4a60-ad1c-f71b7b6ec604",
   "metadata": {},
   "outputs": [
    {
     "ename": "KeyError",
     "evalue": "'counts'",
     "output_type": "error",
     "traceback": [
      "\u001b[1;31m---------------------------------------------------------------------------\u001b[0m",
      "\u001b[1;31mKeyError\u001b[0m                                  Traceback (most recent call last)",
      "\u001b[1;32m<ipython-input-161-0a46dd64268f>\u001b[0m in \u001b[0;36m<module>\u001b[1;34m\u001b[0m\n\u001b[1;32m----> 1\u001b[1;33m \u001b[0mcompare_iranian_mse_to_samples\u001b[0m\u001b[1;33m(\u001b[0m\u001b[1;36m10000\u001b[0m\u001b[1;33m)\u001b[0m\u001b[1;33m\u001b[0m\u001b[1;33m\u001b[0m\u001b[0m\n\u001b[0m",
      "\u001b[1;32m<ipython-input-160-242fc082e5a2>\u001b[0m in \u001b[0;36mcompare_iranian_mse_to_samples\u001b[1;34m(samp_size)\u001b[0m\n\u001b[0;32m      4\u001b[0m     \u001b[0ml\u001b[0m \u001b[1;33m=\u001b[0m \u001b[1;36m0\u001b[0m\u001b[1;33m\u001b[0m\u001b[1;33m\u001b[0m\u001b[0m\n\u001b[0;32m      5\u001b[0m     \u001b[1;32mfor\u001b[0m \u001b[0mi\u001b[0m \u001b[1;32min\u001b[0m \u001b[0mrange\u001b[0m\u001b[1;33m(\u001b[0m\u001b[0msamp_size\u001b[0m\u001b[1;33m)\u001b[0m\u001b[1;33m:\u001b[0m\u001b[1;33m\u001b[0m\u001b[1;33m\u001b[0m\u001b[0m\n\u001b[1;32m----> 6\u001b[1;33m         \u001b[0mhistogram\u001b[0m \u001b[1;33m=\u001b[0m \u001b[0mones_and_tens_digit_histogram\u001b[0m\u001b[1;33m(\u001b[0m\u001b[0mpd\u001b[0m\u001b[1;33m.\u001b[0m\u001b[0mSeries\u001b[0m\u001b[1;33m(\u001b[0m\u001b[0mrandom_nbr_lst\u001b[0m\u001b[1;33m(\u001b[0m\u001b[1;36m120\u001b[0m\u001b[1;33m)\u001b[0m\u001b[1;33m)\u001b[0m\u001b[1;33m)\u001b[0m\u001b[1;33m\u001b[0m\u001b[1;33m\u001b[0m\u001b[0m\n\u001b[0m\u001b[0;32m      7\u001b[0m         \u001b[0mr_mse\u001b[0m \u001b[1;33m=\u001b[0m \u001b[0mcalculate_mse_with_uniform\u001b[0m\u001b[1;33m(\u001b[0m\u001b[0mhistogram\u001b[0m\u001b[1;33m[\u001b[0m\u001b[1;34m'frequency'\u001b[0m\u001b[1;33m]\u001b[0m\u001b[1;33m.\u001b[0m\u001b[0mtolist\u001b[0m\u001b[1;33m(\u001b[0m\u001b[1;33m)\u001b[0m\u001b[1;33m)\u001b[0m\u001b[1;33m\u001b[0m\u001b[1;33m\u001b[0m\u001b[0m\n\u001b[0;32m      8\u001b[0m         \u001b[1;32mif\u001b[0m \u001b[0mr_mse\u001b[0m \u001b[1;33m<\u001b[0m \u001b[0mi_mse\u001b[0m\u001b[1;33m:\u001b[0m\u001b[1;33m\u001b[0m\u001b[1;33m\u001b[0m\u001b[0m\n",
      "\u001b[1;32m<ipython-input-140-fe6c2f6e2cf8>\u001b[0m in \u001b[0;36mones_and_tens_digit_histogram\u001b[1;34m(numbers)\u001b[0m\n\u001b[0;32m      2\u001b[0m     \u001b[0mlast_digits\u001b[0m \u001b[1;33m=\u001b[0m \u001b[0mnumbers\u001b[0m\u001b[1;33m%\u001b[0m\u001b[1;36m10\u001b[0m\u001b[1;33m\u001b[0m\u001b[1;33m\u001b[0m\u001b[0m\n\u001b[0;32m      3\u001b[0m     \u001b[0msec_last_digits\u001b[0m \u001b[1;33m=\u001b[0m \u001b[1;33m(\u001b[0m\u001b[0mnp\u001b[0m\u001b[1;33m.\u001b[0m\u001b[0mfloor\u001b[0m\u001b[1;33m(\u001b[0m\u001b[0mnumbers\u001b[0m\u001b[1;33m%\u001b[0m\u001b[1;36m100\u001b[0m\u001b[1;33m)\u001b[0m\u001b[1;33m/\u001b[0m\u001b[1;36m10\u001b[0m\u001b[1;33m)\u001b[0m\u001b[1;33m.\u001b[0m\u001b[0mastype\u001b[0m\u001b[1;33m(\u001b[0m\u001b[0mint\u001b[0m\u001b[1;33m)\u001b[0m\u001b[1;33m\u001b[0m\u001b[1;33m\u001b[0m\u001b[0m\n\u001b[1;32m----> 4\u001b[1;33m     \u001b[1;32mreturn\u001b[0m \u001b[0mpd\u001b[0m\u001b[1;33m.\u001b[0m\u001b[0mcrosstab\u001b[0m\u001b[1;33m(\u001b[0m\u001b[0mlast_digits\u001b[0m\u001b[1;33m[\u001b[0m\u001b[1;34m'counts'\u001b[0m\u001b[1;33m]\u001b[0m\u001b[1;33m.\u001b[0m\u001b[0mappend\u001b[0m\u001b[1;33m(\u001b[0m\u001b[0msec_last_digits\u001b[0m\u001b[1;33m[\u001b[0m\u001b[1;34m'counts'\u001b[0m\u001b[1;33m]\u001b[0m\u001b[1;33m,\u001b[0m \u001b[0mignore_index\u001b[0m\u001b[1;33m=\u001b[0m\u001b[1;32mTrue\u001b[0m\u001b[1;33m)\u001b[0m\u001b[1;33m,\u001b[0m \u001b[0mcolumns\u001b[0m\u001b[1;33m=\u001b[0m\u001b[1;33m[\u001b[0m\u001b[1;34m'frequency'\u001b[0m\u001b[1;33m]\u001b[0m\u001b[1;33m,\u001b[0m \u001b[0mnormalize\u001b[0m\u001b[1;33m=\u001b[0m\u001b[1;32mTrue\u001b[0m\u001b[1;33m)\u001b[0m\u001b[1;33m\u001b[0m\u001b[1;33m\u001b[0m\u001b[0m\n\u001b[0m",
      "\u001b[1;32m~\\anaconda3\\lib\\site-packages\\pandas\\core\\series.py\u001b[0m in \u001b[0;36m__getitem__\u001b[1;34m(self, key)\u001b[0m\n\u001b[0;32m    851\u001b[0m \u001b[1;33m\u001b[0m\u001b[0m\n\u001b[0;32m    852\u001b[0m         \u001b[1;32melif\u001b[0m \u001b[0mkey_is_scalar\u001b[0m\u001b[1;33m:\u001b[0m\u001b[1;33m\u001b[0m\u001b[1;33m\u001b[0m\u001b[0m\n\u001b[1;32m--> 853\u001b[1;33m             \u001b[1;32mreturn\u001b[0m \u001b[0mself\u001b[0m\u001b[1;33m.\u001b[0m\u001b[0m_get_value\u001b[0m\u001b[1;33m(\u001b[0m\u001b[0mkey\u001b[0m\u001b[1;33m)\u001b[0m\u001b[1;33m\u001b[0m\u001b[1;33m\u001b[0m\u001b[0m\n\u001b[0m\u001b[0;32m    854\u001b[0m \u001b[1;33m\u001b[0m\u001b[0m\n\u001b[0;32m    855\u001b[0m         \u001b[1;32mif\u001b[0m \u001b[0mis_hashable\u001b[0m\u001b[1;33m(\u001b[0m\u001b[0mkey\u001b[0m\u001b[1;33m)\u001b[0m\u001b[1;33m:\u001b[0m\u001b[1;33m\u001b[0m\u001b[1;33m\u001b[0m\u001b[0m\n",
      "\u001b[1;32m~\\anaconda3\\lib\\site-packages\\pandas\\core\\series.py\u001b[0m in \u001b[0;36m_get_value\u001b[1;34m(self, label, takeable)\u001b[0m\n\u001b[0;32m    959\u001b[0m \u001b[1;33m\u001b[0m\u001b[0m\n\u001b[0;32m    960\u001b[0m         \u001b[1;31m# Similar to Index.get_value, but we do not fall back to positional\u001b[0m\u001b[1;33m\u001b[0m\u001b[1;33m\u001b[0m\u001b[1;33m\u001b[0m\u001b[0m\n\u001b[1;32m--> 961\u001b[1;33m         \u001b[0mloc\u001b[0m \u001b[1;33m=\u001b[0m \u001b[0mself\u001b[0m\u001b[1;33m.\u001b[0m\u001b[0mindex\u001b[0m\u001b[1;33m.\u001b[0m\u001b[0mget_loc\u001b[0m\u001b[1;33m(\u001b[0m\u001b[0mlabel\u001b[0m\u001b[1;33m)\u001b[0m\u001b[1;33m\u001b[0m\u001b[1;33m\u001b[0m\u001b[0m\n\u001b[0m\u001b[0;32m    962\u001b[0m         \u001b[1;32mreturn\u001b[0m \u001b[0mself\u001b[0m\u001b[1;33m.\u001b[0m\u001b[0mindex\u001b[0m\u001b[1;33m.\u001b[0m\u001b[0m_get_values_for_loc\u001b[0m\u001b[1;33m(\u001b[0m\u001b[0mself\u001b[0m\u001b[1;33m,\u001b[0m \u001b[0mloc\u001b[0m\u001b[1;33m,\u001b[0m \u001b[0mlabel\u001b[0m\u001b[1;33m)\u001b[0m\u001b[1;33m\u001b[0m\u001b[1;33m\u001b[0m\u001b[0m\n\u001b[0;32m    963\u001b[0m \u001b[1;33m\u001b[0m\u001b[0m\n",
      "\u001b[1;32m~\\anaconda3\\lib\\site-packages\\pandas\\core\\indexes\\range.py\u001b[0m in \u001b[0;36mget_loc\u001b[1;34m(self, key, method, tolerance)\u001b[0m\n\u001b[0;32m    352\u001b[0m                 \u001b[1;32mexcept\u001b[0m \u001b[0mValueError\u001b[0m \u001b[1;32mas\u001b[0m \u001b[0merr\u001b[0m\u001b[1;33m:\u001b[0m\u001b[1;33m\u001b[0m\u001b[1;33m\u001b[0m\u001b[0m\n\u001b[0;32m    353\u001b[0m                     \u001b[1;32mraise\u001b[0m \u001b[0mKeyError\u001b[0m\u001b[1;33m(\u001b[0m\u001b[0mkey\u001b[0m\u001b[1;33m)\u001b[0m \u001b[1;32mfrom\u001b[0m \u001b[0merr\u001b[0m\u001b[1;33m\u001b[0m\u001b[1;33m\u001b[0m\u001b[0m\n\u001b[1;32m--> 354\u001b[1;33m             \u001b[1;32mraise\u001b[0m \u001b[0mKeyError\u001b[0m\u001b[1;33m(\u001b[0m\u001b[0mkey\u001b[0m\u001b[1;33m)\u001b[0m\u001b[1;33m\u001b[0m\u001b[1;33m\u001b[0m\u001b[0m\n\u001b[0m\u001b[0;32m    355\u001b[0m         \u001b[1;32mreturn\u001b[0m \u001b[0msuper\u001b[0m\u001b[1;33m(\u001b[0m\u001b[1;33m)\u001b[0m\u001b[1;33m.\u001b[0m\u001b[0mget_loc\u001b[0m\u001b[1;33m(\u001b[0m\u001b[0mkey\u001b[0m\u001b[1;33m,\u001b[0m \u001b[0mmethod\u001b[0m\u001b[1;33m=\u001b[0m\u001b[0mmethod\u001b[0m\u001b[1;33m,\u001b[0m \u001b[0mtolerance\u001b[0m\u001b[1;33m=\u001b[0m\u001b[0mtolerance\u001b[0m\u001b[1;33m)\u001b[0m\u001b[1;33m\u001b[0m\u001b[1;33m\u001b[0m\u001b[0m\n\u001b[0;32m    356\u001b[0m \u001b[1;33m\u001b[0m\u001b[0m\n",
      "\u001b[1;31mKeyError\u001b[0m: 'counts'"
     ]
    }
   ],
   "source": [
    "compare_iranian_mse_to_samples(10000)"
   ]
  },
  {
   "cell_type": "markdown",
   "id": "04c8c075-c3fe-4f16-a235-e9627ba3a2a9",
   "metadata": {},
   "source": [
    "# Problem 7: Interpret your results\n",
    "\n",
    "Interpret your results in answers.txt, using the ideas and vocabulary from the Interpreting Statistical Results section. State whether the data suggest that the Iran election results were tampered with before being reported to the press. Briefly justify your answer."
   ]
  },
  {
   "cell_type": "code",
   "execution_count": 159,
   "id": "8f5b6398-f3a8-424f-b6eb-ec9c146efc30",
   "metadata": {},
   "outputs": [
    {
     "data": {
      "text/plain": [
       "0.9605"
      ]
     },
     "execution_count": 159,
     "metadata": {},
     "output_type": "execute_result"
    }
   ],
   "source": [
    "9605/10000"
   ]
  },
  {
   "cell_type": "markdown",
   "id": "671bbe87-cc52-49fb-9955-6dcbfaf63f9f",
   "metadata": {},
   "source": [
    "Null hypothesis: the Iran election results were not fraudulent.\n",
    "\n",
    "You should pay attention to the % of MSEs that the Iranian election result is greater than -> We want the quantity of MSEs that were smaller than the Iran election MSE.\n",
    "\n",
    "We reject the null hypothesis with a p value of 0.9605. There was only 0.095% confidence that the result was fradulent."
   ]
  },
  {
   "cell_type": "code",
   "execution_count": 158,
   "id": "a194b5e2-b18f-481c-836c-a0f768ee07b6",
   "metadata": {},
   "outputs": [
    {
     "data": {
      "text/plain": [
       "0.9605"
      ]
     },
     "execution_count": 158,
     "metadata": {},
     "output_type": "execute_result"
    }
   ],
   "source": [
    "1-0.0395"
   ]
  },
  {
   "cell_type": "markdown",
   "id": "bc97bdf2-3646-412a-b30a-566d0a79e760",
   "metadata": {},
   "source": [
    "# Problem 8: Other datasets\n",
    "\n",
    "Update your program to include calculations for the United States 2008 presidential election in addition to the 2009 Iranian election. Use the following list of candidates:\n",
    "\n",
    "> us_2008_candidates  = [\"Obama\", \"McCain\", \"Nader\", \"Barr\", \"Baldwin\", \"McKinney\"]\n",
    "\n",
    "Additionally, update your program to include:\n",
    "\n",
    "- 2009 Iranian election MSE: ___\n",
    "- Quantity of MSEs larger than or equal to the 2009 Iranian election MSE: ___\n",
    "- Quantity of MSEs smaller than the 2009 Iranian election MSE: ___\n",
    "- 2009 Iranian election null hypothesis rejection level p: ___\n",
    "- 2008 United States election MSE: ___\n",
    "- Quantity of MSEs larger than or equal to the 2008 United States election MSE: ___\n",
    "- Quantity of MSEs smaller than the 2008 United States election MSE: ___\n",
    "- 2008 United States election null hypothesis rejection level p: ___\n",
    "\n",
    "You do not need to produce graphs or plots for the US election — just the textual output.\n",
    "\n",
    "In answers.txt, state whether you can reject that hypothesis, and with what confidence. Briefly justify your answer."
   ]
  },
  {
   "cell_type": "code",
   "execution_count": 139,
   "id": "74ccf4ce-0fc9-4d11-9a54-e35585298b19",
   "metadata": {},
   "outputs": [],
   "source": [
    "def extract_election_vote_counts(filename, column_names):\n",
    "    df = pd.read_csv(filename, usecols=column_names)\n",
    "    for col in df.columns:\n",
    "        df[col] =  df[col].str.replace(',', '')\n",
    "        df[col] = pd.to_numeric(df[col])\n",
    "    vote_cts = pd.DataFrame()\n",
    "    for col in df.columns:\n",
    "        vote_cts = pd.concat([vote_cts, df[col]])\n",
    "    vote_cts.rename(columns={0:'counts'}, inplace=True)\n",
    "    return vote_cts.dropna()"
   ]
  },
  {
   "cell_type": "code",
   "execution_count": 140,
   "id": "04655adf-8917-435e-b68a-d583b3d817f7",
   "metadata": {},
   "outputs": [],
   "source": [
    "def ones_and_tens_digit_histogram(numbers):\n",
    "    last_digits = numbers%10\n",
    "    sec_last_digits = (np.floor(numbers%100)/10).astype(int)\n",
    "    return pd.crosstab(last_digits['counts'].append(sec_last_digits['counts'], ignore_index=True), columns=['frequency'], normalize=True)"
   ]
  },
  {
   "cell_type": "code",
   "execution_count": 27,
   "id": "8dad7963-a80f-4925-8c95-82dc1706a458",
   "metadata": {},
   "outputs": [],
   "source": [
    "def mean_squared_error(lst1, lst2):\n",
    "    return sum(np.subtract(lst1,lst2)**2)"
   ]
  },
  {
   "cell_type": "code",
   "execution_count": 30,
   "id": "848207cf-423f-4088-be41-0bf8975f5248",
   "metadata": {},
   "outputs": [],
   "source": [
    "def calculate_mse_with_uniform(histogram):\n",
    "    uniform_distro = [0.1]*len(histogram)\n",
    "    return mean_squared_error(histogram, uniform_distro)"
   ]
  },
  {
   "cell_type": "code",
   "execution_count": null,
   "id": "a42f211e-0eba-4f3b-9d0f-7ee250b6ec69",
   "metadata": {},
   "outputs": [],
   "source": [
    "def random_nbr_lst(size):\n",
    "    rand_lst = []\n",
    "    for x in range(size):\n",
    "        rand_lst.append(random.randint(0, 99))\n",
    "    return rand_lst"
   ]
  },
  {
   "cell_type": "code",
   "execution_count": 156,
   "id": "6b443c4a-af05-4bc0-989b-319ca3594890",
   "metadata": {},
   "outputs": [],
   "source": [
    "def compare_mse_to_samples(filename, column_names, samp_size):\n",
    "    data = extract_election_vote_counts(filename, column_names)\n",
    "    s_histogram = ones_and_tens_digit_histogram(data)\n",
    "    s_mse = calculate_mse_with_uniform(s_histogram['frequency'].tolist())\n",
    "    g_or_e = 0\n",
    "    l = 0\n",
    "    for i in range(samp_size):\n",
    "        r_histogram = ones_and_tens_digit_histogram(pd.DataFrame(random_nbr_lst(120), columns=['counts']))\n",
    "        r_mse = calculate_mse_with_uniform(r_histogram['frequency'].tolist())\n",
    "        if r_mse < s_mse:\n",
    "            l += 1\n",
    "        else:\n",
    "            g_or_e += 1\n",
    "    year = re.split('-|\\.', filename)[-2]\n",
    "    country = re.split('-|\\.', filename)[-3].capitalize()\n",
    "    print(f'{year} {country} election MSE: {s_mse}')\n",
    "    print(f'Quantity of MSEs larger than or equal to the {year} {country} election MSE: {g_or_e}')\n",
    "    print(f'Quantity of MSEs smaller than the {year} {country} election MSE: {l}')\n",
    "    print(f'{year} {country} election null hypothesis rejection level p: {g_or_e/samp_size}')"
   ]
  },
  {
   "cell_type": "code",
   "execution_count": 153,
   "id": "b1d569d5-f572-4415-9435-4497399806f1",
   "metadata": {},
   "outputs": [
    {
     "name": "stdout",
     "output_type": "stream",
     "text": [
      "Quantity of MSEs larger than or equal to the 2008 Us election MSE: 9481\n",
      "Quantity of MSEs smaller than the 2008 Us election MSE: 519\n",
      "2008 Us election null hypothesis rejection level p: 0.0519\n"
     ]
    }
   ],
   "source": [
    "compare_mse_to_samples('homework6/election-us-2008.csv', [\"Obama\", \"McCain\", \"Nader\", \"Barr\", \"Baldwin\", \"McKinney\"], 10000)"
   ]
  },
  {
   "cell_type": "code",
   "execution_count": 154,
   "id": "80f91a2f-ae40-4b22-bc61-525d7f20271c",
   "metadata": {},
   "outputs": [
    {
     "name": "stdout",
     "output_type": "stream",
     "text": [
      "Quantity of MSEs larger than or equal to the 2009 Iran election MSE: 428\n",
      "Quantity of MSEs smaller than the 2009 Iran election MSE: 9572\n",
      "2009 Iran election null hypothesis rejection level p: 0.9572\n"
     ]
    }
   ],
   "source": [
    "compare_mse_to_samples('homework6/election-iran-2009.csv', [\"Ahmadinejad\", \"Rezai\", \"Karrubi\", \"Mousavi\"], 10000)"
   ]
  },
  {
   "cell_type": "code",
   "execution_count": null,
   "id": "a3e0c1c3-12c3-43e4-96ab-d2d393771217",
   "metadata": {},
   "outputs": [],
   "source": []
  },
  {
   "cell_type": "code",
   "execution_count": 157,
   "id": "20ebc9bd-46c8-4523-a727-1b114904b283",
   "metadata": {},
   "outputs": [
    {
     "name": "stdout",
     "output_type": "stream",
     "text": [
      "2009 Iran election MSE: 0.007395833333333335\n",
      "Quantity of MSEs larger than or equal to the 2009 Iran election MSE: 365\n",
      "Quantity of MSEs smaller than the 2009 Iran election MSE: 9635\n",
      "2009 Iran election null hypothesis rejection level p: 0.0365\n",
      "2008 Us election MSE: 0.001410025876058068\n",
      "Quantity of MSEs larger than or equal to the 2008 Us election MSE: 9450\n",
      "Quantity of MSEs smaller than the 2008 Us election MSE: 550\n",
      "2008 Us election null hypothesis rejection level p: 0.945\n"
     ]
    }
   ],
   "source": [
    "compare_mse_to_samples('homework6/election-iran-2009.csv', [\"Ahmadinejad\", \"Rezai\", \"Karrubi\", \"Mousavi\"], 10000)\n",
    "compare_mse_to_samples('homework6/election-us-2008.csv', [\"Obama\", \"McCain\", \"Nader\", \"Barr\", \"Baldwin\", \"McKinney\"], 10000)"
   ]
  }
 ],
 "metadata": {
  "kernelspec": {
   "display_name": "Python 3",
   "language": "python",
   "name": "python3"
  },
  "language_info": {
   "codemirror_mode": {
    "name": "ipython",
    "version": 3
   },
   "file_extension": ".py",
   "mimetype": "text/x-python",
   "name": "python",
   "nbconvert_exporter": "python",
   "pygments_lexer": "ipython3",
   "version": "3.8.8"
  }
 },
 "nbformat": 4,
 "nbformat_minor": 5
}
