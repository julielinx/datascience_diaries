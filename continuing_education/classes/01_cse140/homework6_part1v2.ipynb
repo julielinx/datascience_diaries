{
 "cells": [
  {
   "cell_type": "markdown",
   "id": "f31e0de4-b39c-47c3-bd12-c6c07cf805b9",
   "metadata": {},
   "source": [
    "# Homework 6, Part 1"
   ]
  },
  {
   "cell_type": "code",
   "execution_count": 1,
   "id": "b3d3685c-3207-4cde-a099-7f0e94c4db28",
   "metadata": {},
   "outputs": [],
   "source": [
    "import numpy as np\n",
    "import pandas as pd\n",
    "import matplotlib.pyplot as plt\n",
    "import math\n",
    "import random\n",
    "import collections"
   ]
  },
  {
   "cell_type": "markdown",
   "id": "4d95e7a5-4c52-4fd8-a041-e3e993dfbb2d",
   "metadata": {},
   "source": [
    "Questions to answer:\n",
    "\n",
    "- 2009 Iranian election MSE: ___\n",
    "- Quantity of MSEs larger than or equal to the 2009 Iranian election MSE: ___\n",
    "- Quantity of MSEs smaller than the 2009 Iranian election MSE: ___\n",
    "- 2009 Iranian election null hypothesis rejection level p: ___\n",
    "- 2008 United States election MSE: ___\n",
    "- Quantity of MSEs larger than or equal to the 2008 United States election MSE: ___\n",
    "- Quantity of MSEs smaller than the 2008 United States election MSE: ___\n",
    "- 2008 United States election null hypothesis rejection level p: ___"
   ]
  },
  {
   "cell_type": "markdown",
   "id": "44e7a4ee-dfad-4d09-bf92-fdd6bf695a40",
   "metadata": {},
   "source": [
    "Functionsn to write:\n",
    "\n",
    "- extract_election_vote_counts(filename, column_names)\n",
    "- ones_and_tens_digit_histogram(numbers)\n",
    "- plot_iranian_least_digits_histogram(histogram)\n",
    "- plot_distribution_by_sample_size()\n",
    "- mean_squared_error(numbers1, numbers2)\n",
    "- calculate_mse_with_uniform(histogram)\n",
    "- compare_iranian_mse_to_samples(mse)"
   ]
  },
  {
   "cell_type": "markdown",
   "id": "a441eeb1-cd64-4c7a-8f86-84608566195d",
   "metadata": {},
   "source": [
    "## Problem 1: Read and clean Iranian election data\n",
    "\n",
    "Write a function called `extract_election_vote_counts` that takes a filename and a list of names of columns to extract vote counts from. It should return a list of all of the vote counts from the respective rows."
   ]
  },
  {
   "cell_type": "code",
   "execution_count": 2,
   "id": "5bacdd3f-6f30-42b1-b11e-57bc1cfd6014",
   "metadata": {},
   "outputs": [],
   "source": [
    "def extract_election_vote_counts(filename, column_names):\n",
    "    df = pd.read_csv(filename, usecols=column_names)\n",
    "    vote_cts = pd.Series([])\n",
    "    for col in column_names:\n",
    "        vote_cts = pd.concat([vote_cts, df[col]], ignore_index=True)\n",
    "    vote_cts =  vote_cts.str.replace(',', '')\n",
    "    vote_cts = pd.to_numeric(vote_cts, errors='coerce')\n",
    "    vote_cts = vote_cts.dropna()\n",
    "    return vote_cts"
   ]
  },
  {
   "cell_type": "code",
   "execution_count": 3,
   "id": "73e6b78e-e8f8-4719-adf9-9861439f442d",
   "metadata": {},
   "outputs": [
    {
     "name": "stderr",
     "output_type": "stream",
     "text": [
      "<ipython-input-2-208983a22dea>:3: DeprecationWarning: The default dtype for empty Series will be 'object' instead of 'float64' in a future version. Specify a dtype explicitly to silence this warning.\n",
      "  vote_cts = pd.Series([])\n"
     ]
    },
    {
     "data": {
      "text/plain": [
       "0      1131111\n",
       "1       623946\n",
       "2       325911\n",
       "3      1799255\n",
       "4       199654\n",
       "        ...   \n",
       "115     585373\n",
       "116     190349\n",
       "117     241988\n",
       "118     218481\n",
       "119     255799\n",
       "Length: 120, dtype: int64"
      ]
     },
     "execution_count": 3,
     "metadata": {},
     "output_type": "execute_result"
    }
   ],
   "source": [
    "extract_election_vote_counts('homework6/election-iran-2009.csv', column_names=[\"Ahmadinejad\", \"Rezai\", \"Karrubi\", \"Mousavi\"])"
   ]
  },
  {
   "cell_type": "markdown",
   "id": "efa71784-12ce-4bfe-b657-30c003df360a",
   "metadata": {},
   "source": [
    "## Problem 2: Make a histogram\n",
    "\n",
    "Write a function `ones_and_tens_digit_histogram` that takes as input a list of numbers and produces as output a list of 10 numbers. Each element of the result indicates the frequency with which that digit appeared in the ones place or the tens place in the input."
   ]
  },
  {
   "cell_type": "code",
   "execution_count": 4,
   "id": "3a147f32-94f0-42a2-a3ab-8879d06b7514",
   "metadata": {},
   "outputs": [],
   "source": [
    "def ones_and_tens_digit_histogram(numbers):\n",
    "    last_digits = numbers%10\n",
    "    sec_last_digits = (np.floor(numbers%100)/10).astype(int)\n",
    "    digit_series = last_digits.append(sec_last_digits, ignore_index=True)\n",
    "    hist = collections.Counter(digit_series)\n",
    "    hist = pd.DataFrame.from_dict({key:hist[key] for key in sorted(hist)}, orient='index', columns=['frequency'])\n",
    "    hist['frequency'] = hist['frequency'] / len(digit_series)\n",
    "#     try:\n",
    "#         hist.drop(0, inplace=True)\n",
    "#     except:\n",
    "#         pass\n",
    "    return hist"
   ]
  },
  {
   "cell_type": "code",
   "execution_count": 5,
   "id": "6b79f18e-78bf-4368-99f3-14f49bb89b34",
   "metadata": {
    "tags": []
   },
   "outputs": [
    {
     "name": "stderr",
     "output_type": "stream",
     "text": [
      "<ipython-input-2-208983a22dea>:3: DeprecationWarning: The default dtype for empty Series will be 'object' instead of 'float64' in a future version. Specify a dtype explicitly to silence this warning.\n",
      "  vote_cts = pd.Series([])\n"
     ]
    },
    {
     "data": {
      "text/html": [
       "<div>\n",
       "<style scoped>\n",
       "    .dataframe tbody tr th:only-of-type {\n",
       "        vertical-align: middle;\n",
       "    }\n",
       "\n",
       "    .dataframe tbody tr th {\n",
       "        vertical-align: top;\n",
       "    }\n",
       "\n",
       "    .dataframe thead th {\n",
       "        text-align: right;\n",
       "    }\n",
       "</style>\n",
       "<table border=\"1\" class=\"dataframe\">\n",
       "  <thead>\n",
       "    <tr style=\"text-align: right;\">\n",
       "      <th></th>\n",
       "      <th>frequency</th>\n",
       "    </tr>\n",
       "  </thead>\n",
       "  <tbody>\n",
       "    <tr>\n",
       "      <th>0</th>\n",
       "      <td>0.083333</td>\n",
       "    </tr>\n",
       "    <tr>\n",
       "      <th>1</th>\n",
       "      <td>0.083333</td>\n",
       "    </tr>\n",
       "    <tr>\n",
       "      <th>2</th>\n",
       "      <td>0.104167</td>\n",
       "    </tr>\n",
       "    <tr>\n",
       "      <th>3</th>\n",
       "      <td>0.062500</td>\n",
       "    </tr>\n",
       "    <tr>\n",
       "      <th>4</th>\n",
       "      <td>0.087500</td>\n",
       "    </tr>\n",
       "    <tr>\n",
       "      <th>5</th>\n",
       "      <td>0.070833</td>\n",
       "    </tr>\n",
       "    <tr>\n",
       "      <th>6</th>\n",
       "      <td>0.125000</td>\n",
       "    </tr>\n",
       "    <tr>\n",
       "      <th>7</th>\n",
       "      <td>0.154167</td>\n",
       "    </tr>\n",
       "    <tr>\n",
       "      <th>8</th>\n",
       "      <td>0.129167</td>\n",
       "    </tr>\n",
       "    <tr>\n",
       "      <th>9</th>\n",
       "      <td>0.100000</td>\n",
       "    </tr>\n",
       "  </tbody>\n",
       "</table>\n",
       "</div>"
      ],
      "text/plain": [
       "   frequency\n",
       "0   0.083333\n",
       "1   0.083333\n",
       "2   0.104167\n",
       "3   0.062500\n",
       "4   0.087500\n",
       "5   0.070833\n",
       "6   0.125000\n",
       "7   0.154167\n",
       "8   0.129167\n",
       "9   0.100000"
      ]
     },
     "execution_count": 5,
     "metadata": {},
     "output_type": "execute_result"
    }
   ],
   "source": [
    "ones_and_tens_digit_histogram(extract_election_vote_counts('homework6/election-iran-2009.csv', column_names=[\"Ahmadinejad\", \"Rezai\", \"Karrubi\", \"Mousavi\"]))"
   ]
  },
  {
   "cell_type": "markdown",
   "id": "4166c2ff-2109-44b9-aa63-d569db47fcf2",
   "metadata": {},
   "source": [
    "## Problem 3: Plot election data\n",
    "\n",
    "Write a function called `plot_iranian_least_digits_histogram` that takes a histogram (as created by ones_and_tens_digit_histogram) and graphs the frequencies of the ones and tens digits for the Iranian election data. Save your plot to a file named iran-digits.png using pyplot.savefig."
   ]
  },
  {
   "cell_type": "code",
   "execution_count": 6,
   "id": "c8ef4c02-d7c4-4cb3-8aff-997f573d5864",
   "metadata": {},
   "outputs": [],
   "source": [
    "def plot_iranian_least_digits_histogram(plot_dict):\n",
    "    color_lst = ['g','r','c','m','y','k','w']\n",
    "    plt.axhline(y=0.10, color='b', label='Ideal')\n",
    "    \n",
    "    for i, plt_name in enumerate(plot_dict.keys()):\n",
    "        plt.plot(plot_dict[plt_name], color=color_lst[i], label=plt_name)\n",
    "    \n",
    "    plt.xlabel('Digit')\n",
    "    plt.ylabel('Frequency')\n",
    "    plt.legend(loc='upper right')\n",
    "#     plt.savefig('homework6/iran-digits.png')\n",
    "    plt.title('Distrubution of last two digits')\n",
    "    plt.show()"
   ]
  },
  {
   "cell_type": "code",
   "execution_count": 7,
   "id": "f88c57d7-0bb6-415e-ab53-aac9f2f8352d",
   "metadata": {},
   "outputs": [
    {
     "name": "stderr",
     "output_type": "stream",
     "text": [
      "<ipython-input-2-208983a22dea>:3: DeprecationWarning: The default dtype for empty Series will be 'object' instead of 'float64' in a future version. Specify a dtype explicitly to silence this warning.\n",
      "  vote_cts = pd.Series([])\n"
     ]
    },
    {
     "data": {
      "image/png": "[encoded data removed]",
      "text/plain": [
       "<Figure size 432x288 with 1 Axes>"
      ]
     },
     "metadata": {
      "needs_background": "light"
     },
     "output_type": "display_data"
    }
   ],
   "source": [
    "plot_iranian_least_digits_histogram(ones_and_tens_digit_histogram(extract_election_vote_counts('homework6/election-iran-2009.csv', column_names=[\"Ahmadinejad\", \"Rezai\", \"Karrubi\", \"Mousavi\"])))"
   ]
  },
  {
   "cell_type": "markdown",
   "id": "827fd3b9-04c6-4ccd-9136-eae832f2c4d6",
   "metadata": {},
   "source": [
    "## Problem 4: Smaller samples have more variation\n",
    "\n",
    "Write a function called `plot_distribution_by_sample_size`. This function creates 5 different-sized collections of random numbers. Then, it plots the digit histograms for each of those collections. Your function should save your plot as `random-digits.png`."
   ]
  },
  {
   "cell_type": "code",
   "execution_count": 8,
   "id": "ff4ee797-2aee-4836-af40-e5db2e5c0937",
   "metadata": {},
   "outputs": [],
   "source": [
    "def random_nbr_lst(size):\n",
    "    rand_lst = []\n",
    "    for x in range(size):\n",
    "        rand_lst.append(random.randint(0, 99))\n",
    "    return rand_lst\n",
    "    \n",
    "def plot_distribution_by_sample_size(samp_size_list):\n",
    "    color_lst = ['g','r','c','m','y','k','w']\n",
    "    for i, x in enumerate(samp_size_list):\n",
    "        plt.plot(ones_and_tens_digit_histogram(pd.Series(random_nbr_lst(x))),\n",
    "                 color=color_lst[i],\n",
    "                 label = f'{x} Samples')\n",
    "    plt.xlabel('Digit')\n",
    "    plt.ylabel('Frequency')\n",
    "    plt.legend(loc='upper right')\n",
    "#     plt.savefig('homework6/iran-digits.png')\n",
    "    plt.title('Distrubution of last two digits')\n",
    "    plt.show()"
   ]
  },
  {
   "cell_type": "code",
   "execution_count": 9,
   "id": "511d2aea-fabc-4938-a4a9-ff1268ee002e",
   "metadata": {},
   "outputs": [
    {
     "data": {
      "image/png": "[encoded data removed]",
      "text/plain": [
       "<Figure size 432x288 with 1 Axes>"
      ]
     },
     "metadata": {
      "needs_background": "light"
     },
     "output_type": "display_data"
    }
   ],
   "source": [
    "lst_lengths = [10, 50, 100, 1000, 10000]\n",
    "plot_distribution_by_sample_size(lst_lengths)"
   ]
  },
  {
   "cell_type": "markdown",
   "id": "90d7a87d-020d-49db-9dae-9928e58a9750",
   "metadata": {},
   "source": [
    "# Problem 5: Comparing variation of samples\n",
    "\n",
    "Write a function mean_squared_error that, given two lists of numbers, computes the mean squared error between the lists."
   ]
  },
  {
   "cell_type": "code",
   "execution_count": 10,
   "id": "e75b9c5d-e037-4ff7-ada3-c89803f74f8c",
   "metadata": {},
   "outputs": [],
   "source": [
    "def mean_squared_error(lst1, lst2):\n",
    "    return sum(np.subtract(lst1,lst2)**2)"
   ]
  },
  {
   "cell_type": "code",
   "execution_count": 11,
   "id": "e2293a49-2694-43af-836c-525457383da7",
   "metadata": {},
   "outputs": [],
   "source": [
    "assert mean_squared_error([1, 4, 9], [6, 5, 4]) == 51"
   ]
  },
  {
   "cell_type": "markdown",
   "id": "dde960e9-0b19-4660-93a7-1f841f883cf8",
   "metadata": {},
   "source": [
    "# Problem 6: Comparing variation of samples\n",
    "\n",
    "Augment your program with a function called `calculate_mse_with_uniform` that takes a histogram (as created by ones_and_tens_digit_histogram) and returns the mean squared error of the given histogram with the uniform distribution. Invoking `calculate_mse_with_uniform` with the the Iranian election results histogram (for the ones and tens digits) should return the result 0.00739583333333, or approximately 0.007.\n",
    "\n",
    "> `calculate_mse_with_uniform(histogram)` == 0.00739583333333\n",
    "\n",
    "This number on its own does not mean anything — we don't know whether it is unusually low, or unusually high, or about average. To find out, we need to compare it to similarly-sized sets.\n",
    "\n",
    "In a function called `compare_iranian_mse_to_samples` take the Iranian MSE (as computed by `calculate_mse_with_uniform`) and compare it to the MSE to the uniform distribution for 10000 groups of random numbers, where each group is the same size as the Iranian election data (120 numbers). You will only use the last two digits of the random numbers.\n",
    "\n",
    "Your function should determine where the passed in MSE (For our sample of the 2009 Iranian election data, this is ~0.007) appears relative to the computed MSE samples. In other words, determine how many of the random MSEs are larger than or equal to the Iran MSE, and how many of the random MSEs are smaller than the Iran MSE. Print these values. This function should return `None`. With each run of your program, you should expect a slightly different outcome from this function call.\n",
    "\n",
    "> `compare_iranian_mse_to_samples(0.00739583333333)`\n",
    "- Quantity of MSEs larger than or equal to the 2009 Iranian election MSE: ___\n",
    "- Quantity of MSEs smaller than the 2009 Iranian election MSE: ___\n",
    "- 2009 Iranian election null hypothesis rejection level p: ___"
   ]
  },
  {
   "cell_type": "code",
   "execution_count": 12,
   "id": "80139f9a-fb9c-4196-86ab-5c7f46557969",
   "metadata": {},
   "outputs": [],
   "source": [
    "def calculate_mse_with_uniform(histogram):\n",
    "    uniform_distro = [0.1]*len(histogram)\n",
    "    return mean_squared_error(histogram, uniform_distro)"
   ]
  },
  {
   "cell_type": "code",
   "execution_count": 13,
   "id": "11827d64-a0ab-48c7-bf03-509d0ef08265",
   "metadata": {},
   "outputs": [
    {
     "name": "stderr",
     "output_type": "stream",
     "text": [
      "<ipython-input-2-208983a22dea>:3: DeprecationWarning: The default dtype for empty Series will be 'object' instead of 'float64' in a future version. Specify a dtype explicitly to silence this warning.\n",
      "  vote_cts = pd.Series([])\n"
     ]
    },
    {
     "data": {
      "text/plain": [
       "0.007395833333333335"
      ]
     },
     "execution_count": 13,
     "metadata": {},
     "output_type": "execute_result"
    }
   ],
   "source": [
    "calculate_mse_with_uniform(ones_and_tens_digit_histogram(extract_election_vote_counts('homework6/election-iran-2009.csv',\n",
    "                                                                                      column_names=[\"Ahmadinejad\", \"Rezai\", \"Karrubi\", \"Mousavi\"])\n",
    "                                                        )['frequency'].tolist())"
   ]
  },
  {
   "cell_type": "code",
   "execution_count": 14,
   "id": "e8436c91-7033-4345-9ab3-4b8451c6b6af",
   "metadata": {},
   "outputs": [],
   "source": [
    "def compare_iranian_mse_to_samples(histogram, samp_size):\n",
    "    i_mse = calculate_mse_with_uniform(histogram['frequency'].tolist())\n",
    "    g_or_e = 0\n",
    "    l = 0\n",
    "    for i in range(samp_size):\n",
    "        histogram = ones_and_tens_digit_histogram(pd.Series(random_nbr_lst(len(histogram))))\n",
    "        r_mse = calculate_mse_with_uniform(histogram['frequency'].tolist())\n",
    "        if r_mse < i_mse:\n",
    "            l += 1\n",
    "        else:\n",
    "            g_or_e += 1\n",
    "    print(f'Quantity of MSEs larger than or equal to the 2009 Iranian election MSE: {g_or_e}')\n",
    "    print(f'Quantity of MSEs smaller than the 2009 Iranian election MSE: {l}')\n",
    "    print(f'2009 Iranian election null hypothesis rejection level p: {g_or_e/samp_size}')"
   ]
  },
  {
   "cell_type": "code",
   "execution_count": 15,
   "id": "6a6f476b-1872-4a52-ab3e-ca533dc7d5dd",
   "metadata": {},
   "outputs": [
    {
     "name": "stderr",
     "output_type": "stream",
     "text": [
      "<ipython-input-2-208983a22dea>:3: DeprecationWarning: The default dtype for empty Series will be 'object' instead of 'float64' in a future version. Specify a dtype explicitly to silence this warning.\n",
      "  vote_cts = pd.Series([])\n"
     ]
    },
    {
     "name": "stdout",
     "output_type": "stream",
     "text": [
      "Quantity of MSEs larger than or equal to the 2009 Iranian election MSE: 9946\n",
      "Quantity of MSEs smaller than the 2009 Iranian election MSE: 54\n",
      "2009 Iranian election null hypothesis rejection level p: 0.9946\n"
     ]
    }
   ],
   "source": [
    "compare_iranian_mse_to_samples(ones_and_tens_digit_histogram(extract_election_vote_counts('homework6/election-iran-2009.csv',\n",
    "                                                                                          column_names=[\"Ahmadinejad\", \"Rezai\", \"Karrubi\", \"Mousavi\"])\n",
    "                                                            ), 10000)"
   ]
  },
  {
   "cell_type": "markdown",
   "id": "ac213f5c-34cf-46a3-80e3-2762912b69fb",
   "metadata": {},
   "source": [
    "# Problem 7: Interpret your results\n",
    "\n",
    "Interpret your results in answers.txt, using the ideas and vocabulary from the Interpreting Statistical Results section. State whether the data suggest that the Iran election results were tampered with before being reported to the press. Briefly justify your answer."
   ]
  },
  {
   "cell_type": "markdown",
   "id": "f4eada12-a027-42e0-b770-d42915e4ca6f",
   "metadata": {},
   "source": [
    "### Results from Problem 6\n",
    "\n",
    "- Quantity of MSEs larger than or equal to the 2009 Iranian election MSE: 9946\n",
    "- Quantity of MSEs smaller than the 2009 Iranian election MSE: 54\n",
    "- 2009 Iranian election null hypothesis rejection level p: 0.9946"
   ]
  },
  {
   "cell_type": "code",
   "execution_count": 16,
   "id": "16d89c77-5191-49c3-8b0e-8ab387a351d6",
   "metadata": {},
   "outputs": [
    {
     "data": {
      "text/plain": [
       "0.00539999999999996"
      ]
     },
     "execution_count": 16,
     "metadata": {},
     "output_type": "execute_result"
    }
   ],
   "source": [
    "1-0.9946"
   ]
  },
  {
   "cell_type": "markdown",
   "id": "3b17b969-a09f-4f7e-86c5-06ac29dbe8c7",
   "metadata": {},
   "source": [
    "**Null hypothesis:** the Iran election results are genuine.\n",
    "\n",
    "Pay attention to the % of MSEs that the Iranian election result is greater than -> We want the quantity of MSEs that were smaller than the Iran election MSE.\n",
    "\n",
    "The value of 0.007 is larger than 54 of the random MSEs and is smaller than 9946. If the election results were genuine, then there would be a 99.46% chance of this result. This is highly likely are we are only 0.54% confident that the data are fraudulent.\n",
    "\n",
    "We accept the null hypothesis with a p value of 0.9946. There was only 0.54% confidence that the result was fradulent."
   ]
  }
 ],
 "metadata": {
  "kernelspec": {
   "display_name": "Python 3",
   "language": "python",
   "name": "python3"
  },
  "language_info": {
   "codemirror_mode": {
    "name": "ipython",
    "version": 3
   },
   "file_extension": ".py",
   "mimetype": "text/x-python",
   "name": "python",
   "nbconvert_exporter": "python",
   "pygments_lexer": "ipython3",
   "version": "3.8.8"
  }
 },
 "nbformat": 4,
 "nbformat_minor": 5
}
