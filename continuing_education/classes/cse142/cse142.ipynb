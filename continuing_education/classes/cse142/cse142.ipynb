{
 "cells": [
  {
   "cell_type": "markdown",
   "id": "5edc9458-b26a-43d9-aece-7dd19020fd46",
   "metadata": {},
   "source": [
    "# CSE 142: Computer Programming I"
   ]
  },
  {
   "cell_type": "markdown",
   "id": "8069c491-8b7a-4d37-bc23-6a6b8ea35de4",
   "metadata": {},
   "source": [
    "- [CSE 142 Main Page](http://courses.cs.washington.edu/courses/cse142/)\n",
    "- [CSE 142 Spring 2022](https://courses.cs.washington.edu/courses/cse142/22sp/index.shtml)\n",
    "- [Syllabus](https://courses.cs.washington.edu/courses/cse142/22sp/handouts/01.pdf)\n",
    "- [Calendar](https://courses.cs.washington.edu/courses/cse142/22sp/calendar.shtml)\n",
    "- [Homework](https://courses.cs.washington.edu/courses/cse142/22sp/homework.shtml)\n",
    "- [Handouts](https://courses.cs.washington.edu/courses/cse142/22sp/handouts.shtml)\n",
    "- [Discussion Section](https://courses.cs.washington.edu/courses/cse142/22sp/sections.shtml)\n",
    "- [Textbook](https://courses.cs.washington.edu/courses/cse142/22sp/textbook.shtml)"
   ]
  },
  {
   "cell_type": "code",
   "execution_count": null,
   "id": "fdaa7e14-48fe-453b-8f20-4a2a2aeb8f51",
   "metadata": {},
   "outputs": [],
   "source": []
  }
 ],
 "metadata": {
  "kernelspec": {
   "display_name": "Python 3 (ipykernel)",
   "language": "python",
   "name": "python3"
  },
  "language_info": {
   "codemirror_mode": {
    "name": "ipython",
    "version": 3
   },
   "file_extension": ".py",
   "mimetype": "text/x-python",
   "name": "python",
   "nbconvert_exporter": "python",
   "pygments_lexer": "ipython3",
   "version": "3.11.5"
  }
 },
 "nbformat": 4,
 "nbformat_minor": 5
}
