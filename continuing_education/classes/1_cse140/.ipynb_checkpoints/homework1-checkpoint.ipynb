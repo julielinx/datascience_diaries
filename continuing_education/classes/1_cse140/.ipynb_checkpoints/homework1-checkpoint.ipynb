{
 "cells": [
  {
   "cell_type": "markdown",
   "id": "cd957ff1-e26f-4567-9768-2113c5b0d1c8",
   "metadata": {},
   "source": [
    "## Homework 1"
   ]
  },
  {
   "cell_type": "code",
   "execution_count": 2,
   "id": "f69a8385-aedb-4289-b8fb-070aa8103e4f",
   "metadata": {},
   "outputs": [],
   "source": [
    "import math"
   ]
  },
  {
   "cell_type": "markdown",
   "id": "3a5fea3d-11d0-4fa7-ba29-69f4afd6e2f0",
   "metadata": {},
   "source": [
    "### Problem 1\n",
    "\n",
    "Compute and print both roots of the quadratic equation x2-5.86 x+ 8.5408\n",
    "\n",
    "Hint: the roots of a quadratic equation $ax^2 + bx + c$ are $x = \\frac{-b \\pm \\sqrt{b^2 - 4ac}}{2a}$"
   ]
  },
  {
   "cell_type": "code",
   "execution_count": 6,
   "id": "4f2395de-373a-49ae-8f87-af464bba8b6c",
   "metadata": {},
   "outputs": [
    {
     "name": "stdout",
     "output_type": "stream",
     "text": [
      "Problem 1 solution follows:\n",
      "\n",
      "Answer 1: 3.1400000000000006 \n",
      "Answer 2: 2.7199999999999998 \n",
      "\n",
      "Solution1: 0.0\n",
      "Solution2: 0.0\n"
     ]
    }
   ],
   "source": [
    "print(\"Problem 1 solution follows:\\n\")\n",
    "\n",
    "def quad_answers(a, b, c):\n",
    "    x1 = (-b + math.sqrt(b**2 - 4*a*c)) / (2*a)\n",
    "    x2 = (-b - math.sqrt(b**2 - 4*a*c)) / (2*a)\n",
    "    return x1, x2\n",
    "\n",
    "answer1, answer2 = quad_answers(1, -5.86, 8.5408)\n",
    "\n",
    "print(\"Answer 1:\", answer1,\"\\nAnswer 2:\", answer2, \"\\n\")\n",
    "\n",
    "print('Solution1:', answer1**2 - 5.86 * answer1 + 8.5408)\n",
    "print('Solution2:', answer2**2 - 5.86 * answer2 + 8.5408)"
   ]
  },
  {
   "cell_type": "markdown",
   "id": "bc346666-163c-4e77-8246-7342d7734462",
   "metadata": {},
   "source": [
    "### Problem 2\n",
    "\n",
    "Use a for loop to print the decimal representations of 1/2, 1/3, ..., 1/10, one on each line."
   ]
  },
  {
   "cell_type": "code",
   "execution_count": 9,
   "id": "3ea5cce6-8f7e-4505-87ef-5591b2ea5fcc",
   "metadata": {},
   "outputs": [
    {
     "name": "stdout",
     "output_type": "stream",
     "text": [
      "Problem 2 solution follows:\n",
      "0.5\n",
      "0.3333333333333333\n",
      "0.25\n",
      "0.2\n",
      "0.16666666666666666\n",
      "0.14285714285714285\n",
      "0.125\n",
      "0.1111111111111111\n",
      "0.1\n"
     ]
    }
   ],
   "source": [
    "print(\"Problem 2 solution follows:\")\n",
    "\n",
    "for x in range(2,11):\n",
    "    print(1/x)"
   ]
  },
  {
   "cell_type": "markdown",
   "id": "7e3b7184-975c-4242-94f2-9a72a7b78fa7",
   "metadata": {},
   "source": [
    "### Problem 3\n",
    "\n",
    "Use a for loop to compute the 10th triangular number.\n",
    "\n",
    "The nth triangular number is defined as 1+2+3+...+n. (You can also compute the nth triangular number as n*(n+1)/2. Use this formula to double-check that your loop is correct.)"
   ]
  },
  {
   "cell_type": "code",
   "execution_count": 12,
   "id": "8dd23250-7d40-4dbf-a96e-40acbf36ccd0",
   "metadata": {},
   "outputs": [
    {
     "name": "stdout",
     "output_type": "stream",
     "text": [
      "Problem 3 solution follows:\n",
      "0\n",
      "1\n",
      "3\n",
      "6\n",
      "10\n",
      "15\n",
      "21\n",
      "28\n",
      "36\n",
      "45\n",
      "55\n"
     ]
    }
   ],
   "source": [
    "print(\"Problem 3 solution follows:\")\n",
    "\n",
    "x= 0\n",
    "for i in range(11):\n",
    "    x+=i\n",
    "    print(x)"
   ]
  },
  {
   "cell_type": "code",
   "execution_count": 13,
   "id": "d3c69326-1ddb-446b-91d7-8b971ada114e",
   "metadata": {},
   "outputs": [
    {
     "name": "stdout",
     "output_type": "stream",
     "text": [
      "55.0\n"
     ]
    }
   ],
   "source": [
    "def triangular_calc(n):\n",
    "    x = n*(n+1)/2\n",
    "    print(x)\n",
    "\n",
    "triangular_calc(10)"
   ]
  },
  {
   "cell_type": "markdown",
   "id": "7b51b869-6717-4719-9c45-3df1aace4c4b",
   "metadata": {},
   "source": [
    "### Problem 4\n",
    "\n",
    "Use a for loop to compute 10!, the factorial of 10. Recall that the factorial of n is 1*2*3*...*n.\n",
    "\n",
    "The first line of your solution will be n = 10. After that, your solution should not use 10 again, though your solution will use n. In other words, your code (after the n = 10 line) should work for any value of n."
   ]
  },
  {
   "cell_type": "code",
   "execution_count": 16,
   "id": "e3de34cb-e97b-4292-85b6-4bfba5803e98",
   "metadata": {},
   "outputs": [
    {
     "name": "stdout",
     "output_type": "stream",
     "text": [
      "Problem 4 solution follows:\n",
      "3628800\n"
     ]
    }
   ],
   "source": [
    "print(\"Problem 4 solution follows:\")\n",
    "\n",
    "n = 10\n",
    "\n",
    "def factorial_ans(n):\n",
    "    x = 1\n",
    "    for i in range(1, n+1):\n",
    "        x = x * i\n",
    "    return x\n",
    "\n",
    "print(factorial_ans(n))"
   ]
  },
  {
   "cell_type": "markdown",
   "id": "eb759015-686e-4b18-9646-f34eaf40ab63",
   "metadata": {},
   "source": [
    "### Problem 5\n",
    "\n",
    "Write code to print the first 10 factorials, in reverse order. In other words, write code that prints 10!, then prints 9!, then prints 8!, ..., then prints 1!."
   ]
  },
  {
   "cell_type": "code",
   "execution_count": 22,
   "id": "0878013b-24e8-40bc-a5e5-efad98db3c83",
   "metadata": {},
   "outputs": [
    {
     "name": "stdout",
     "output_type": "stream",
     "text": [
      "Problem 5 solution follows:\n",
      "3628800\n",
      "362880\n",
      "40320\n",
      "5040\n",
      "720\n",
      "120\n",
      "24\n",
      "6\n",
      "2\n",
      "1\n"
     ]
    }
   ],
   "source": [
    "print(\"Problem 5 solution follows:\")\n",
    "\n",
    "numlines = 10\n",
    "\n",
    "for x in range(n, 0, -1):\n",
    "    print(factorial_ans(x))"
   ]
  },
  {
   "cell_type": "markdown",
   "id": "2b25ad48-cde9-4407-8203-2fa3d378ca43",
   "metadata": {},
   "source": [
    "### Problem 6\n",
    "\n",
    "Compute the following value:  1 + 1/1! + 1/2! + 1/3! + 1/4! + ... + 1/10!\n",
    "\n",
    "The value should be close to e (≈ 2.71828), the base of the natural logarithms."
   ]
  }
 ],
 "metadata": {
  "kernelspec": {
   "display_name": "Python 3",
   "language": "python",
   "name": "python3"
  },
  "language_info": {
   "codemirror_mode": {
    "name": "ipython",
    "version": 3
   },
   "file_extension": ".py",
   "mimetype": "text/x-python",
   "name": "python",
   "nbconvert_exporter": "python",
   "pygments_lexer": "ipython3",
   "version": "3.8.8"
  }
 },
 "nbformat": 4,
 "nbformat_minor": 5
}
