{
 "cells": [
  {
   "cell_type": "markdown",
   "id": "76f434bc-999d-4f4f-8a95-04f9a0c1fdb2",
   "metadata": {},
   "source": [
    "# CSE 143: Computer Programming II"
   ]
  },
  {
   "cell_type": "markdown",
   "id": "396889e4-fa28-4706-af05-0881f03aa5c1",
   "metadata": {},
   "source": [
    "- [CSE 143 Main Page](http://courses.cs.washington.edu/courses/cse143/)\n",
    "- [CSE 143](https://courses.cs.washington.edu/courses/cse143/22su/index.shtml)\n",
    "- [Calendar](https://courses.cs.washington.edu/courses/cse143/22su/lectures.shtml)\n",
    "- [Homework](https://courses.cs.washington.edu/courses/cse143/22su/homework.shtml)"
   ]
  },
  {
   "cell_type": "code",
   "execution_count": null,
   "id": "926f1415-3002-4f9e-a16e-16d80bdca443",
   "metadata": {},
   "outputs": [],
   "source": []
  }
 ],
 "metadata": {
  "kernelspec": {
   "display_name": "Python 3",
   "language": "python",
   "name": "python3"
  },
  "language_info": {
   "codemirror_mode": {
    "name": "ipython",
    "version": 3
   },
   "file_extension": ".py",
   "mimetype": "text/x-python",
   "name": "python",
   "nbconvert_exporter": "python",
   "pygments_lexer": "ipython3",
   "version": "3.8.8"
  }
 },
 "nbformat": 4,
 "nbformat_minor": 5
}
