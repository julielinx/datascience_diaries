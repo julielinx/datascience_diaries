{
 "cells": [
  {
   "cell_type": "markdown",
   "id": "5edc9458-b26a-43d9-aece-7dd19020fd46",
   "metadata": {},
   "source": [
    "# CSE 142: Computer Programming I"
   ]
  },
  {
   "cell_type": "markdown",
   "id": "8069c491-8b7a-4d37-bc23-6a6b8ea35de4",
   "metadata": {},
   "source": [
    "- [CSE 142 Main Page](http://courses.cs.washington.edu/courses/cse142/)\n",
    "- [CSE 142 Spring 2022](https://courses.cs.washington.edu/courses/cse142/22sp/index.shtml)\n",
    "- [Syllabus](https://courses.cs.washington.edu/courses/cse142/22sp/handouts/01.pdf)\n",
    "- [Calendar](https://courses.cs.washington.edu/courses/cse142/22sp/calendar.shtml)\n",
    "- [Homework](https://courses.cs.washington.edu/courses/cse142/22sp/homework.shtml)\n",
    "- [Handouts](https://courses.cs.washington.edu/courses/cse142/22sp/handouts.shtml)\n",
    "- [Discussion Section](https://courses.cs.washington.edu/courses/cse142/22sp/sections.shtml)\n",
    "- [Textbook](https://courses.cs.washington.edu/courses/cse142/22sp/textbook.shtml)"
   ]
  },
  {
   "cell_type": "code",
   "execution_count": 1,
   "id": "fdaa7e14-48fe-453b-8f20-4a2a2aeb8f51",
   "metadata": {},
   "outputs": [
    {
     "name": "stdout",
     "output_type": "stream",
     "text": [
      "- Class 1\n",
      "- Class 2\n",
      "- Class 3\n",
      "- Class 4\n",
      "- Class 5\n",
      "- Class 6\n",
      "- Class 7\n",
      "- Class 8\n",
      "- Class 9\n",
      "- Class 10\n",
      "- Class 11\n",
      "- Class 12\n",
      "- Class 13\n",
      "- Class 14\n",
      "- Class 15\n",
      "- Class 16\n",
      "- Class 17\n",
      "- Class 18\n",
      "- Class 19\n",
      "- Class 20\n",
      "- Class 21\n",
      "- Class 22\n",
      "- Class 23\n",
      "- Class 24\n",
      "- Class 25\n",
      "- Class 26\n",
      "- Class 27\n",
      "- Class 28\n",
      "- Class 29\n"
     ]
    }
   ],
   "source": [
    "for x in range(1, 30):\n",
    "    print(f\"- Class {x}\")"
   ]
  },
  {
   "cell_type": "markdown",
   "id": "fd376a7a-0b68-42c2-baac-ef41de1c2825",
   "metadata": {},
   "source": [
    "## Calendar\n",
    "\n",
    "- Class 1\n",
    "- Class 2\n",
    "- Class 3\n",
    "- Class 4\n",
    "- Class 5\n",
    "- Class 6\n",
    "- Class 7\n",
    "- Class 8\n",
    "- Class 9\n",
    "- Class 10\n",
    "- Class 11\n",
    "- Class 12\n",
    "- Class 13\n",
    "- Class 14\n",
    "- Class 15\n",
    "- Class 16\n",
    "- Class 17\n",
    "- Class 18\n",
    "- Class 19\n",
    "- Class 20\n",
    "- Class 21\n",
    "- Class 22\n",
    "- Class 23\n",
    "- Class 24\n",
    "- Class 25\n",
    "- Class 26\n",
    "- Class 27\n",
    "- Class 28\n",
    "- Class 29"
   ]
  }
 ],
 "metadata": {
  "kernelspec": {
   "display_name": "Python 3 (ipykernel)",
   "language": "python",
   "name": "python3"
  },
  "language_info": {
   "codemirror_mode": {
    "name": "ipython",
    "version": 3
   },
   "file_extension": ".py",
   "mimetype": "text/x-python",
   "name": "python",
   "nbconvert_exporter": "python",
   "pygments_lexer": "ipython3",
   "version": "3.11.5"
  }
 },
 "nbformat": 4,
 "nbformat_minor": 5
}
