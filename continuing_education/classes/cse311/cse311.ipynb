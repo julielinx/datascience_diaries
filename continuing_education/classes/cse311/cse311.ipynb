{
 "cells": [
  {
   "cell_type": "markdown",
   "id": "d5bdd4bd-351f-4312-a2b4-1e677aa77815",
   "metadata": {},
   "source": [
    "# CSE 311: Foundations of Computing I"
   ]
  },
  {
   "cell_type": "markdown",
   "id": "005868e5-0fb1-450d-91e6-926ca88bfe81",
   "metadata": {},
   "source": [
    "- [CSE 311 Main Page](http://courses.cs.washington.edu/courses/cse311/)\n",
    "- [CSE 311](https://courses.cs.washington.edu/courses/cse311/22sp/)\n",
    "- [Calendar](https://courses.cs.washington.edu/courses/cse311/22sp/calendar/calendar.html)\n",
    "- [Homework](https://courses.cs.washington.edu/courses/cse311/22sp/assignments/)\n",
    "- [Resources](https://courses.cs.washington.edu/courses/cse311/22sp/resources/)"
   ]
  },
  {
   "cell_type": "code",
   "execution_count": null,
   "id": "a2333552-339e-475a-aa95-d413ca427a83",
   "metadata": {},
   "outputs": [],
   "source": []
  }
 ],
 "metadata": {
  "kernelspec": {
   "display_name": "Python 3",
   "language": "python",
   "name": "python3"
  },
  "language_info": {
   "codemirror_mode": {
    "name": "ipython",
    "version": 3
   },
   "file_extension": ".py",
   "mimetype": "text/x-python",
   "name": "python",
   "nbconvert_exporter": "python",
   "pygments_lexer": "ipython3",
   "version": "3.8.8"
  }
 },
 "nbformat": 4,
 "nbformat_minor": 5
}
