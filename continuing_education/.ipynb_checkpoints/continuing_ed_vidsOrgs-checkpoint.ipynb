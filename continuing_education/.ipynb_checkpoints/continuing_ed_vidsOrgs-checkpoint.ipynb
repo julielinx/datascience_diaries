{
 "cells": [
  {
   "cell_type": "markdown",
   "id": "10f3970e-dcd4-483d-9732-6db8916329aa",
   "metadata": {},
   "source": [
    "## youtube\n",
    "\n",
    "- [PyCon US](https://www.youtube.com/playlist?list=PL2Uw4_HvXqvY2zhJ9AMUa_Z6dtMGF3gtb)\n",
    "- [PyCascades](https://www.youtube.com/@PyCascades/playlists)\n",
    "- [ODSC](https://www.youtube.com/@OpenDataScienceCon/playlists)\n",
    "- [DataCamp](https://www.youtube.com/@DataCamp/playlists)\n",
    "- [freeCodeCamp](https://www.youtube.com/@freecodecamp/playlists)\n",
    "- [Stanford Online](https://www.youtube.com/@stanfordonline/playlists)\n",
    "- [Rice Ken Kennedy Institute](https://www.youtube.com/@RiceKenKennedyInstitute/playlists)\n",
    "- [Harvard Data Science Initiative](https://www.youtube.com/@harvarddatascienceinitiati3320)\n",
    "- [Spacial Data Science Conference](https://www.youtube.com/@CARTOhq/playlists)\n",
    "- [UW Paul G Allen School](https://www.youtube.com/@uwcse/playlists)\n",
    "- [IEEE](https://www.youtube.com/@IEEEorg/playlists)\n",
    "- [IEEE Computer Society](https://www.youtube.com/@IEEEComputerSociety)"
   ]
  },
  {
   "cell_type": "markdown",
   "id": "19dd03de-37ce-4b02-a50f-d89d6d9cf4b3",
   "metadata": {},
   "source": [
    "## Professional Organizations\n",
    "\n",
    "- [sigkdd](https://kdd.org/)\n",
    "- [Association for Computing Machinery](https://www.acm.org/)\n",
    "- [American Statistical Association](https://www.amstat.org/)\n",
    "- [IEEE](https://www.ieee.org/)\n",
    "- [IEEE Computation Intelligence Society](https://cis.ieee.org/)\n",
    "- [IEEE Computer Society](https://www.computer.org/)\n",
    "- [IEEE Geoscience and Remote Sensing Society](https://www.grss-ieee.org/)\n",
    "- [IEEE Ocean Engineering Society](https://ieeeoes.org/)"
   ]
  }
 ],
 "metadata": {
  "kernelspec": {
   "display_name": "Python 3 (ipykernel)",
   "language": "python",
   "name": "python3"
  },
  "language_info": {
   "codemirror_mode": {
    "name": "ipython",
    "version": 3
   },
   "file_extension": ".py",
   "mimetype": "text/x-python",
   "name": "python",
   "nbconvert_exporter": "python",
   "pygments_lexer": "ipython3",
   "version": "3.11.5"
  }
 },
 "nbformat": 4,
 "nbformat_minor": 5
}
