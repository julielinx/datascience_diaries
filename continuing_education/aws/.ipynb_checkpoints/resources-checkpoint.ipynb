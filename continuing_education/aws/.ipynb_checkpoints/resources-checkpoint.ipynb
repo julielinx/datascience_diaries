{
 "cells": [
  {
   "cell_type": "markdown",
   "id": "e302d911-a651-4fe2-943b-790cbaf5d860",
   "metadata": {},
   "source": [
    "# AWS Resources"
   ]
  },
  {
   "cell_type": "markdown",
   "id": "e28a5b86-a105-4946-9d91-d54ca302e62f",
   "metadata": {},
   "source": [
    "- [AWS Pipeline Docs](https://docs.aws.amazon.com/datapipeline/latest/DeveloperGuide/what-is-datapipeline.html)\n",
    "- [S3 Features](https://aws.amazon.com/s3/features/#s3-select)\n",
    "- "
   ]
  },
  {
   "cell_type": "markdown",
   "id": "52bbae39-29de-4183-94a7-57ccc92462d6",
   "metadata": {},
   "source": [
    "- [Architect and build the full machine learning lifecycle with AWS: An end-to-end Amazon SageMaker demo](https://aws.amazon.com/blogs/machine-learning/architect-and-build-the-full-machine-learning-lifecycle-with-amazon-sagemaker/)\n",
    "- [AWS Well-Architected](https://aws.amazon.com/architecture/well-architected/?wa-lens-whitepapers.sort-by=item.additionalFields.sortDate&wa-lens-whitepapers.sort-order=desc)\n",
    "- [Build a Secure Enterprise Machine Learning Platform on AWS](https://docs.aws.amazon.com/whitepapers/latest/build-secure-enterprise-ml-platform/build-secure-enterprise-ml-platform.html?mld_prac6)\n",
    "- [Operationalizing the Machine Learning Pipeline](https://catalog.us-east-1.prod.workshops.aws/workshops/44d3e2a0-ec6f-44df-9397-bcfdf129cadf/en-US/)\n",
    "- [Architecture Best Practices for Machine Learning](https://aws.amazon.com/architecture/machine-learning/?trk=b96ab75c-93e7-4732-bcac-14a210fe9dce&sc_channel=el&cards-all.sort-by=item.additionalFields.sortDate&cards-all.sort-order=desc&awsf.content-type=*all&awsf.methodology=*all)\n",
    "- [MLOps: Continuous Delivery for Machine Learning on AWS PDF](https://d1.awsstatic.com/whitepapers/mlops-continuous-delivery-machine-learning-on-aws.pdf)\n",
    "- [Amazon Machine Learning Solutions Lab](https://aws.amazon.com/ml-solutions-lab/)\n",
    "- AWS Training and Ramp up guide\n",
    "    - [AWS Ramp-Up Guide: Machine Learning](https://d1.awsstatic.com/training-and-certification/ramp-up_guides/Ramp-Up_Guide_Machine_Learning.pdf?mld_rr1)\n",
    "    - [AWS Training - Math for Machine Learning](https://explore.skillbuilder.aws/learn/course/external/view/elearning/356/math-for-machine-learning?trk=b96ab75c-93e7-4732-bcac-14a210fe9dce&sc_channel=el)\n",
    "    - [AWS Training - The Machine Learning Pipeline on AWS](https://www.aws.training/SessionSearch?pageNumber=1&courseId=38910&languageId=1)\n",
    "    - [AWS Training - DevOps Engineering on AWS](https://www.aws.training/SessionSearch?pageNumber=1&courseId=10018)\n",
    "    - [AWS Training - MLOps Engineering on AWS](https://www.aws.training/SessionSearch?pageNumber=1&courseId=74343)\n",
    "- [Amazon SageMaker Workshop](https://sagemaker-workshop.com/)\n",
    "- Architecture  Examples\n",
    "    - [QnA Bot on AWS](https://aws.amazon.com/solutions/implementations/aws-qnabot/?mld_prac8)\n",
    "    - [Maintaining Personalized Experiences with Machine Learning](https://aws.amazon.com/solutions/implementations/maintaining-personalized-experiences-with-ml/?mld_prac9)\n",
    "    - [MLOps Workload Orchestrator](https://aws.amazon.com/solutions/implementations/mlops-workload-orchestrator/)\n",
    "- [AWS Machine Learning University](https://aws.amazon.com/machine-learning/mlu/?mld_gs5)\n",
    "- [CATEGORY DEEP DIVE Machine Learning](https://aws.amazon.com/getting-started/deep-dive-ml/?trk=el_a134p000006gNteAAE&trkCampaign=aiml_cross_category_ml_deep_dive&sc_channel=el&sc_campaign=MLU_Webpage_ML_Deep_Dive&sc_outcome=Product_Marketing)\n",
    "- [AWS LEARN ABOUT...Machine learning](https://aws.amazon.com/training/learn-about/machine-learning/)\n",
    "- [AWS Hands-On Tutorials](https://aws.amazon.com/getting-started/hands-on/?awsf.getting-started-category=category%23machine-learning&trk=el_a134p000006gNu8AAE&trkCampaign=aiml_cross_category_hands_on_tutorials_ml&sc_channel=el&sc_campaign=MLU_Webpage_tutorials_CTA&sc_outcome=Product_Marketing&getting-started-all.sort-by=item.additionalFields.sortOrder&getting-started-all.sort-order=asc&awsf.getting-started-level=*all&awsf.getting-started-content-type=*all)\n",
    "- [Machine Learning on AWS](https://aws.amazon.com/machine-learning/?mld_rr2)\n",
    "- [Get Started with Machine Learning](https://aws.amazon.com/machine-learning/learn/)\n"
   ]
  },
  {
   "cell_type": "markdown",
   "id": "cd9d16ea-6fc7-458f-931f-abd58a361b7e",
   "metadata": {},
   "source": [
    "- [Databricks blog - engineering](https://databricks.com/blog/category/engineering)\n",
    "- [Databricks Notebook Gallery](https://databricks.com/discover/notebook-gallery)"
   ]
  },
  {
   "cell_type": "markdown",
   "id": "4fa7ecee-20cf-4762-874a-079e123a839d",
   "metadata": {},
   "source": [
    "### PySpark\n",
    "\n",
    "- [pyspark package 3.0 Documentation](https://spark.apache.org/docs/3.0.0/api/python/pyspark.html)\n",
    "    - [Quick Start Guide](https://spark.apache.org/docs/3.0.0/quick-start.html)\n",
    "    - [pyspark.ml package](https://spark.apache.org/docs/3.0.0/api/python/pyspark.ml.html#module-pyspark.ml.feature)\n",
    "    - [pyspark.sql module](https://spark.apache.org/docs/3.0.0/api/python/pyspark.sql.html#pyspark.sql.DataFrame)\n",
    "    - [PySpark Usage Guide for Pandas with Apache Arrow](https://spark.apache.org/docs/3.0.0/sql-pyspark-pandas-with-arrow.html)\n",
    "- [Want to Build Machine Learning Pipelines? A Quick Introduction using PySpark](https://www.analyticsvidhya.com/blog/2019/11/build-machine-learning-pipelines-pyspark/#h2_6)\n",
    "- [Comprehensive Introduction to Apache Spark, RDDs & Dataframes (using PySpark)](https://www.analyticsvidhya.com/blog/2016/09/comprehensive-introduction-to-apache-spark-rdds-dataframes-using-pyspark/#h2_8)\n",
    "- [How to use a Machine Learning Model to Make Predictions on Streaming Data using PySpark](https://www.analyticsvidhya.com/blog/2019/12/streaming-data-pyspark-machine-learning-model/)\n",
    "- [Spotify Recommendation System using Pyspark and Kafka streaming](https://www.analyticsvidhya.com/blog/2021/06/spotify-recommendation-system-using-pyspark-and-kafka-streaming/)\n",
    "- [A Decent Guide to DataFrames in Spark 3.0 for Beginners](https://towardsdatascience.com/a-decent-guide-to-dataframes-in-spark-3-0-for-beginners-dcc2903345a5)\n",
    "- [David Vrba](https://medium.com/@vrba.dave)\n",
    "- [Physical Plans in Spark](https://databricks.com/session_eu19/physical-plans-in-spark-sql)"
   ]
  },
  {
   "cell_type": "markdown",
   "id": "74da3a66-7563-4a22-bdea-9956e7f22188",
   "metadata": {},
   "source": [
    "### Distrubuted Computing\n",
    "\n",
    "- [Awesome Argo](https://github.com/terrytangyuan/awesome-argo)"
   ]
  },
  {
   "cell_type": "markdown",
   "id": "61291541-5c46-4f15-a739-87a1b571a3c7",
   "metadata": {},
   "source": [
    "- [Automating Data Drift Thresholding in Machine Learning Systems](https://arthur.ai/blog/automating-data-drift-thresholding-in-machine-learning-systems)"
   ]
  }
 ],
 "metadata": {
  "kernelspec": {
   "display_name": "Python 3",
   "language": "python",
   "name": "python3"
  },
  "language_info": {
   "codemirror_mode": {
    "name": "ipython",
    "version": 3
   },
   "file_extension": ".py",
   "mimetype": "text/x-python",
   "name": "python",
   "nbconvert_exporter": "python",
   "pygments_lexer": "ipython3",
   "version": "3.8.8"
  }
 },
 "nbformat": 4,
 "nbformat_minor": 5
}
