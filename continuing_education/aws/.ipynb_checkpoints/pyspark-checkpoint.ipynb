{
 "cells": [
  {
   "cell_type": "code",
   "execution_count": 2,
   "id": "56f4336b-7055-4eac-a94d-adc0430b9648",
   "metadata": {},
   "outputs": [],
   "source": [
    "# !pip install pyspark\n",
    "\n",
    "# in terminal go to spark directory: /Users/my_name/spark-3.0.3-bin-hadoop2.7\n",
    "# sudo hostname -s 127.0.0.1\n",
    "# ./bin/pyspark"
   ]
  },
  {
   "cell_type": "code",
   "execution_count": 2,
   "id": "dff0d6a7-1481-42d4-b11d-18dbe33d1ab2",
   "metadata": {},
   "outputs": [],
   "source": [
    "from pyspark.sql import SparkSession"
   ]
  },
  {
   "cell_type": "code",
   "execution_count": 3,
   "id": "3bb26882-1790-4a23-987c-0101702369d3",
   "metadata": {},
   "outputs": [],
   "source": [
    "import pyspark\n",
    "import numpy as np\n",
    "import pandas as pd"
   ]
  },
  {
   "cell_type": "code",
   "execution_count": 4,
   "id": "4e4afd02-ee0b-4ce5-a986-3a93056f7d90",
   "metadata": {},
   "outputs": [],
   "source": [
    "spark = SparkSession.builder.getOrCreate()"
   ]
  },
  {
   "cell_type": "code",
   "execution_count": 5,
   "id": "4d958fd0-3fe6-4833-8b21-874a207f07d6",
   "metadata": {},
   "outputs": [],
   "source": [
    "df = spark.read.csv('Fish.csv', sep=',', inferSchema = True, header = True)"
   ]
  },
  {
   "cell_type": "code",
   "execution_count": null,
   "id": "7d725e08-70ad-4fb0-b2bb-f141953714bb",
   "metadata": {},
   "outputs": [],
   "source": [
    "# import pyspark.sql.types as tp\n",
    "\n",
    "# new_schema = tp.StructType([\n",
    "#     tp.StructField(name='Species', dataType=tp.StringType(), nullable=True),\n",
    "#     tp.StructField(name='Weight', dataType=tp.DoubleType(), nullable=True),\n",
    "#     tp.StructField(name='Length1', dataType=tp.DoubleType(), nullable=True),\n",
    "#     tp.StructField(name='Length2', dataType=tp.DoubleType(), nullable=True),\n",
    "#     tp.StructField(name='Length3', dataType=tp.DoubleType(), nullable=True),\n",
    "#     tp.StructField(name='Height', dataType=tp.DoubleType(), nullable=True),\n",
    "#     tp.StructField(name='Width', dataType=tp.DoubleType(), nullable=True),\n",
    "#     tp.StructField(name='weight_kg', dataType=tp.DoubleType(), nullable=True)\n",
    "# ])\n",
    "\n",
    "# df = spark.read.csv('Fish.csv', sep=',', schema = new_schema, header = True)"
   ]
  },
  {
   "cell_type": "code",
   "execution_count": 6,
   "id": "09783639-4234-449f-8f66-deb6fea5bd62",
   "metadata": {},
   "outputs": [],
   "source": [
    "pd_df = pd.read_csv('Fish.csv')"
   ]
  },
  {
   "cell_type": "markdown",
   "id": "6dba26b7-832c-441d-bff1-b6079c66f09f",
   "metadata": {},
   "source": [
    "### Display data"
   ]
  },
  {
   "cell_type": "code",
   "execution_count": 14,
   "id": "1e823dd0-6366-4818-8e22-69d5820fac9b",
   "metadata": {},
   "outputs": [
    {
     "name": "stdout",
     "output_type": "stream",
     "text": [
      "+-------+------+-------+-------+-------+-------+------+\n",
      "|Species|Weight|Length1|Length2|Length3| Height| Width|\n",
      "+-------+------+-------+-------+-------+-------+------+\n",
      "|  Bream| 242.0|   23.2|   25.4|   30.0|  11.52|  4.02|\n",
      "|  Bream| 290.0|   24.0|   26.3|   31.2|  12.48|4.3056|\n",
      "|  Bream| 340.0|   23.9|   26.5|   31.1|12.3778|4.6961|\n",
      "|  Bream| 363.0|   26.3|   29.0|   33.5|  12.73|4.4555|\n",
      "|  Bream| 430.0|   26.5|   29.0|   34.0| 12.444| 5.134|\n",
      "|  Bream| 450.0|   26.8|   29.7|   34.7|13.6024|4.9274|\n",
      "|  Bream| 500.0|   26.8|   29.7|   34.5|14.1795|5.2785|\n",
      "|  Bream| 390.0|   27.6|   30.0|   35.0|  12.67|  4.69|\n",
      "|  Bream| 450.0|   27.6|   30.0|   35.1|14.0049|4.8438|\n",
      "|  Bream| 500.0|   28.5|   30.7|   36.2|14.2266|4.9594|\n",
      "|  Bream| 475.0|   28.4|   31.0|   36.2|14.2628|5.1042|\n",
      "|  Bream| 500.0|   28.7|   31.0|   36.2|14.3714|4.8146|\n",
      "|  Bream| 500.0|   29.1|   31.5|   36.4|13.7592| 4.368|\n",
      "|  Bream| 340.0|   29.5|   32.0|   37.3|13.9129|5.0728|\n",
      "|  Bream| 600.0|   29.4|   32.0|   37.2|14.9544|5.1708|\n",
      "|  Bream| 600.0|   29.4|   32.0|   37.2| 15.438|  5.58|\n",
      "|  Bream| 700.0|   30.4|   33.0|   38.3|14.8604|5.2854|\n",
      "|  Bream| 700.0|   30.4|   33.0|   38.5| 14.938|5.1975|\n",
      "|  Bream| 610.0|   30.9|   33.5|   38.6| 15.633|5.1338|\n",
      "|  Bream| 650.0|   31.0|   33.5|   38.7|14.4738|5.7276|\n",
      "+-------+------+-------+-------+-------+-------+------+\n",
      "only showing top 20 rows\n",
      "\n"
     ]
    }
   ],
   "source": [
    "# Display sample of data\n",
    "df.show()\n",
    "# df.show(truncate=False)"
   ]
  },
  {
   "cell_type": "code",
   "execution_count": 27,
   "id": "987955af-b50e-4722-bb79-4f65a9f07287",
   "metadata": {},
   "outputs": [
    {
     "data": {
      "text/html": [
       "<div>\n",
       "<style scoped>\n",
       "    .dataframe tbody tr th:only-of-type {\n",
       "        vertical-align: middle;\n",
       "    }\n",
       "\n",
       "    .dataframe tbody tr th {\n",
       "        vertical-align: top;\n",
       "    }\n",
       "\n",
       "    .dataframe thead th {\n",
       "        text-align: right;\n",
       "    }\n",
       "</style>\n",
       "<table border=\"1\" class=\"dataframe\">\n",
       "  <thead>\n",
       "    <tr style=\"text-align: right;\">\n",
       "      <th></th>\n",
       "      <th>Species</th>\n",
       "      <th>Weight</th>\n",
       "      <th>Length1</th>\n",
       "      <th>Length2</th>\n",
       "      <th>Length3</th>\n",
       "      <th>Height</th>\n",
       "      <th>Width</th>\n",
       "    </tr>\n",
       "  </thead>\n",
       "  <tbody>\n",
       "    <tr>\n",
       "      <th>0</th>\n",
       "      <td>Bream</td>\n",
       "      <td>242.0</td>\n",
       "      <td>23.2</td>\n",
       "      <td>25.4</td>\n",
       "      <td>30.0</td>\n",
       "      <td>11.5200</td>\n",
       "      <td>4.0200</td>\n",
       "    </tr>\n",
       "    <tr>\n",
       "      <th>1</th>\n",
       "      <td>Bream</td>\n",
       "      <td>290.0</td>\n",
       "      <td>24.0</td>\n",
       "      <td>26.3</td>\n",
       "      <td>31.2</td>\n",
       "      <td>12.4800</td>\n",
       "      <td>4.3056</td>\n",
       "    </tr>\n",
       "    <tr>\n",
       "      <th>2</th>\n",
       "      <td>Bream</td>\n",
       "      <td>340.0</td>\n",
       "      <td>23.9</td>\n",
       "      <td>26.5</td>\n",
       "      <td>31.1</td>\n",
       "      <td>12.3778</td>\n",
       "      <td>4.6961</td>\n",
       "    </tr>\n",
       "    <tr>\n",
       "      <th>3</th>\n",
       "      <td>Bream</td>\n",
       "      <td>363.0</td>\n",
       "      <td>26.3</td>\n",
       "      <td>29.0</td>\n",
       "      <td>33.5</td>\n",
       "      <td>12.7300</td>\n",
       "      <td>4.4555</td>\n",
       "    </tr>\n",
       "    <tr>\n",
       "      <th>4</th>\n",
       "      <td>Bream</td>\n",
       "      <td>430.0</td>\n",
       "      <td>26.5</td>\n",
       "      <td>29.0</td>\n",
       "      <td>34.0</td>\n",
       "      <td>12.4440</td>\n",
       "      <td>5.1340</td>\n",
       "    </tr>\n",
       "  </tbody>\n",
       "</table>\n",
       "</div>"
      ],
      "text/plain": [
       "  Species  Weight  Length1  Length2  Length3   Height   Width\n",
       "0   Bream   242.0     23.2     25.4     30.0  11.5200  4.0200\n",
       "1   Bream   290.0     24.0     26.3     31.2  12.4800  4.3056\n",
       "2   Bream   340.0     23.9     26.5     31.1  12.3778  4.6961\n",
       "3   Bream   363.0     26.3     29.0     33.5  12.7300  4.4555\n",
       "4   Bream   430.0     26.5     29.0     34.0  12.4440  5.1340"
      ]
     },
     "execution_count": 27,
     "metadata": {},
     "output_type": "execute_result"
    }
   ],
   "source": [
    "pd_df.head()"
   ]
  },
  {
   "cell_type": "code",
   "execution_count": 15,
   "id": "9d69c5f3-5eb3-4573-bba7-b3d98392ab7d",
   "metadata": {},
   "outputs": [
    {
     "name": "stdout",
     "output_type": "stream",
     "text": [
      "+-------+------+-------+-------+-------+-------+------+\n",
      "|Species|Weight|Length1|Length2|Length3| Height| Width|\n",
      "+-------+------+-------+-------+-------+-------+------+\n",
      "|  Bream| 242.0|   23.2|   25.4|   30.0|  11.52|  4.02|\n",
      "|  Bream| 290.0|   24.0|   26.3|   31.2|  12.48|4.3056|\n",
      "|  Bream| 340.0|   23.9|   26.5|   31.1|12.3778|4.6961|\n",
      "|  Bream| 363.0|   26.3|   29.0|   33.5|  12.73|4.4555|\n",
      "|  Bream| 430.0|   26.5|   29.0|   34.0| 12.444| 5.134|\n",
      "+-------+------+-------+-------+-------+-------+------+\n",
      "only showing top 5 rows\n",
      "\n"
     ]
    }
   ],
   "source": [
    "# show() prints to screen\n",
    "df.show(5)"
   ]
  },
  {
   "cell_type": "code",
   "execution_count": 39,
   "id": "177d1b65-730d-4bff-94fd-cb49874578db",
   "metadata": {},
   "outputs": [
    {
     "data": {
      "text/plain": [
       "[Row(Species='Bream', Weight=242.0, Length1=23.2, Length2=25.4, Length3=30.0, Height=11.52, Width=4.02, weight_kg=0.242),\n",
       " Row(Species='Bream', Weight=290.0, Length1=24.0, Length2=26.3, Length3=31.2, Height=12.48, Width=4.3056, weight_kg=0.29),\n",
       " Row(Species='Bream', Weight=340.0, Length1=23.9, Length2=26.5, Length3=31.1, Height=12.3778, Width=4.6961, weight_kg=0.34),\n",
       " Row(Species='Bream', Weight=363.0, Length1=26.3, Length2=29.0, Length3=33.5, Height=12.73, Width=4.4555, weight_kg=0.363),\n",
       " Row(Species='Bream', Weight=430.0, Length1=26.5, Length2=29.0, Length3=34.0, Height=12.444, Width=5.134, weight_kg=0.43)]"
      ]
     },
     "execution_count": 39,
     "metadata": {},
     "output_type": "execute_result"
    }
   ],
   "source": [
    "# take() returns a list of rows, which can be used to create a new dataframe\n",
    "df.take(5)"
   ]
  },
  {
   "cell_type": "code",
   "execution_count": 146,
   "id": "40124fa2-6f3d-423f-b62b-acd54e03489b",
   "metadata": {},
   "outputs": [
    {
     "data": {
      "text/plain": [
       "[Row(Species='Bream', Weight=242.0, Length1=23.2, Length2=25.4, Length3=30.0, Height=11.52, Width=4.02, weight_kg=0.242),\n",
       " Row(Species='Bream', Weight=290.0, Length1=24.0, Length2=26.3, Length3=31.2, Height=12.48, Width=4.3056, weight_kg=0.29),\n",
       " Row(Species='Bream', Weight=340.0, Length1=23.9, Length2=26.5, Length3=31.1, Height=12.3778, Width=4.6961, weight_kg=0.34),\n",
       " Row(Species='Bream', Weight=363.0, Length1=26.3, Length2=29.0, Length3=33.5, Height=12.73, Width=4.4555, weight_kg=0.363),\n",
       " Row(Species='Bream', Weight=430.0, Length1=26.5, Length2=29.0, Length3=34.0, Height=12.444, Width=5.134, weight_kg=0.43)]"
      ]
     },
     "execution_count": 146,
     "metadata": {},
     "output_type": "execute_result"
    }
   ],
   "source": [
    "df.head(5)"
   ]
  },
  {
   "cell_type": "code",
   "execution_count": 34,
   "id": "a0bdac1b-0412-47b9-9c4b-bf1e6e6a421c",
   "metadata": {},
   "outputs": [
    {
     "data": {
      "text/html": [
       "<div>\n",
       "<style scoped>\n",
       "    .dataframe tbody tr th:only-of-type {\n",
       "        vertical-align: middle;\n",
       "    }\n",
       "\n",
       "    .dataframe tbody tr th {\n",
       "        vertical-align: top;\n",
       "    }\n",
       "\n",
       "    .dataframe thead th {\n",
       "        text-align: right;\n",
       "    }\n",
       "</style>\n",
       "<table border=\"1\" class=\"dataframe\">\n",
       "  <thead>\n",
       "    <tr style=\"text-align: right;\">\n",
       "      <th></th>\n",
       "      <th>Species</th>\n",
       "      <th>Weight</th>\n",
       "      <th>Length1</th>\n",
       "      <th>Length2</th>\n",
       "      <th>Length3</th>\n",
       "      <th>Height</th>\n",
       "      <th>Width</th>\n",
       "      <th>weight_kg</th>\n",
       "    </tr>\n",
       "  </thead>\n",
       "  <tbody>\n",
       "    <tr>\n",
       "      <th>0</th>\n",
       "      <td>Bream</td>\n",
       "      <td>242.0</td>\n",
       "      <td>23.2</td>\n",
       "      <td>25.4</td>\n",
       "      <td>30.0</td>\n",
       "      <td>11.5200</td>\n",
       "      <td>4.0200</td>\n",
       "      <td>0.2420</td>\n",
       "    </tr>\n",
       "    <tr>\n",
       "      <th>1</th>\n",
       "      <td>Bream</td>\n",
       "      <td>290.0</td>\n",
       "      <td>24.0</td>\n",
       "      <td>26.3</td>\n",
       "      <td>31.2</td>\n",
       "      <td>12.4800</td>\n",
       "      <td>4.3056</td>\n",
       "      <td>0.2900</td>\n",
       "    </tr>\n",
       "    <tr>\n",
       "      <th>2</th>\n",
       "      <td>Bream</td>\n",
       "      <td>340.0</td>\n",
       "      <td>23.9</td>\n",
       "      <td>26.5</td>\n",
       "      <td>31.1</td>\n",
       "      <td>12.3778</td>\n",
       "      <td>4.6961</td>\n",
       "      <td>0.3400</td>\n",
       "    </tr>\n",
       "    <tr>\n",
       "      <th>3</th>\n",
       "      <td>Bream</td>\n",
       "      <td>363.0</td>\n",
       "      <td>26.3</td>\n",
       "      <td>29.0</td>\n",
       "      <td>33.5</td>\n",
       "      <td>12.7300</td>\n",
       "      <td>4.4555</td>\n",
       "      <td>0.3630</td>\n",
       "    </tr>\n",
       "    <tr>\n",
       "      <th>4</th>\n",
       "      <td>Bream</td>\n",
       "      <td>430.0</td>\n",
       "      <td>26.5</td>\n",
       "      <td>29.0</td>\n",
       "      <td>34.0</td>\n",
       "      <td>12.4440</td>\n",
       "      <td>5.1340</td>\n",
       "      <td>0.4300</td>\n",
       "    </tr>\n",
       "    <tr>\n",
       "      <th>...</th>\n",
       "      <td>...</td>\n",
       "      <td>...</td>\n",
       "      <td>...</td>\n",
       "      <td>...</td>\n",
       "      <td>...</td>\n",
       "      <td>...</td>\n",
       "      <td>...</td>\n",
       "      <td>...</td>\n",
       "    </tr>\n",
       "    <tr>\n",
       "      <th>154</th>\n",
       "      <td>Smelt</td>\n",
       "      <td>12.2</td>\n",
       "      <td>11.5</td>\n",
       "      <td>12.2</td>\n",
       "      <td>13.4</td>\n",
       "      <td>2.0904</td>\n",
       "      <td>1.3936</td>\n",
       "      <td>0.0122</td>\n",
       "    </tr>\n",
       "    <tr>\n",
       "      <th>155</th>\n",
       "      <td>Smelt</td>\n",
       "      <td>13.4</td>\n",
       "      <td>11.7</td>\n",
       "      <td>12.4</td>\n",
       "      <td>13.5</td>\n",
       "      <td>2.4300</td>\n",
       "      <td>1.2690</td>\n",
       "      <td>0.0134</td>\n",
       "    </tr>\n",
       "    <tr>\n",
       "      <th>156</th>\n",
       "      <td>Smelt</td>\n",
       "      <td>12.2</td>\n",
       "      <td>12.1</td>\n",
       "      <td>13.0</td>\n",
       "      <td>13.8</td>\n",
       "      <td>2.2770</td>\n",
       "      <td>1.2558</td>\n",
       "      <td>0.0122</td>\n",
       "    </tr>\n",
       "    <tr>\n",
       "      <th>157</th>\n",
       "      <td>Smelt</td>\n",
       "      <td>19.7</td>\n",
       "      <td>13.2</td>\n",
       "      <td>14.3</td>\n",
       "      <td>15.2</td>\n",
       "      <td>2.8728</td>\n",
       "      <td>2.0672</td>\n",
       "      <td>0.0197</td>\n",
       "    </tr>\n",
       "    <tr>\n",
       "      <th>158</th>\n",
       "      <td>Smelt</td>\n",
       "      <td>19.9</td>\n",
       "      <td>13.8</td>\n",
       "      <td>15.0</td>\n",
       "      <td>16.2</td>\n",
       "      <td>2.9322</td>\n",
       "      <td>1.8792</td>\n",
       "      <td>0.0199</td>\n",
       "    </tr>\n",
       "  </tbody>\n",
       "</table>\n",
       "<p>159 rows × 8 columns</p>\n",
       "</div>"
      ],
      "text/plain": [
       "    Species  Weight  Length1  Length2  Length3   Height   Width  weight_kg\n",
       "0     Bream   242.0     23.2     25.4     30.0  11.5200  4.0200     0.2420\n",
       "1     Bream   290.0     24.0     26.3     31.2  12.4800  4.3056     0.2900\n",
       "2     Bream   340.0     23.9     26.5     31.1  12.3778  4.6961     0.3400\n",
       "3     Bream   363.0     26.3     29.0     33.5  12.7300  4.4555     0.3630\n",
       "4     Bream   430.0     26.5     29.0     34.0  12.4440  5.1340     0.4300\n",
       "..      ...     ...      ...      ...      ...      ...     ...        ...\n",
       "154   Smelt    12.2     11.5     12.2     13.4   2.0904  1.3936     0.0122\n",
       "155   Smelt    13.4     11.7     12.4     13.5   2.4300  1.2690     0.0134\n",
       "156   Smelt    12.2     12.1     13.0     13.8   2.2770  1.2558     0.0122\n",
       "157   Smelt    19.7     13.2     14.3     15.2   2.8728  2.0672     0.0197\n",
       "158   Smelt    19.9     13.8     15.0     16.2   2.9322  1.8792     0.0199\n",
       "\n",
       "[159 rows x 8 columns]"
      ]
     },
     "execution_count": 34,
     "metadata": {},
     "output_type": "execute_result"
    }
   ],
   "source": [
    "pd_df"
   ]
  },
  {
   "cell_type": "code",
   "execution_count": 22,
   "id": "b6cda5d9-d599-4114-a060-25b25737f8cc",
   "metadata": {
    "scrolled": true,
    "tags": []
   },
   "outputs": [
    {
     "data": {
      "text/plain": [
       "[Row(Species='Bream', Weight=242.0, Length1=23.2, Length2=25.4, Length3=30.0, Height=11.52, Width=4.02, weight_kg=0.242),\n",
       " Row(Species='Bream', Weight=290.0, Length1=24.0, Length2=26.3, Length3=31.2, Height=12.48, Width=4.3056, weight_kg=0.29),\n",
       " Row(Species='Bream', Weight=340.0, Length1=23.9, Length2=26.5, Length3=31.1, Height=12.3778, Width=4.6961, weight_kg=0.34),\n",
       " Row(Species='Bream', Weight=363.0, Length1=26.3, Length2=29.0, Length3=33.5, Height=12.73, Width=4.4555, weight_kg=0.363),\n",
       " Row(Species='Bream', Weight=430.0, Length1=26.5, Length2=29.0, Length3=34.0, Height=12.444, Width=5.134, weight_kg=0.43),\n",
       " Row(Species='Bream', Weight=450.0, Length1=26.8, Length2=29.7, Length3=34.7, Height=13.6024, Width=4.9274, weight_kg=0.45),\n",
       " Row(Species='Bream', Weight=500.0, Length1=26.8, Length2=29.7, Length3=34.5, Height=14.1795, Width=5.2785, weight_kg=0.5),\n",
       " Row(Species='Bream', Weight=390.0, Length1=27.6, Length2=30.0, Length3=35.0, Height=12.67, Width=4.69, weight_kg=0.39),\n",
       " Row(Species='Bream', Weight=450.0, Length1=27.6, Length2=30.0, Length3=35.1, Height=14.0049, Width=4.8438, weight_kg=0.45),\n",
       " Row(Species='Bream', Weight=500.0, Length1=28.5, Length2=30.7, Length3=36.2, Height=14.2266, Width=4.9594, weight_kg=0.5),\n",
       " Row(Species='Bream', Weight=475.0, Length1=28.4, Length2=31.0, Length3=36.2, Height=14.2628, Width=5.1042, weight_kg=0.475),\n",
       " Row(Species='Bream', Weight=500.0, Length1=28.7, Length2=31.0, Length3=36.2, Height=14.3714, Width=4.8146, weight_kg=0.5),\n",
       " Row(Species='Bream', Weight=500.0, Length1=29.1, Length2=31.5, Length3=36.4, Height=13.7592, Width=4.368, weight_kg=0.5),\n",
       " Row(Species='Bream', Weight=340.0, Length1=29.5, Length2=32.0, Length3=37.3, Height=13.9129, Width=5.0728, weight_kg=0.34),\n",
       " Row(Species='Bream', Weight=600.0, Length1=29.4, Length2=32.0, Length3=37.2, Height=14.9544, Width=5.1708, weight_kg=0.6),\n",
       " Row(Species='Bream', Weight=600.0, Length1=29.4, Length2=32.0, Length3=37.2, Height=15.438, Width=5.58, weight_kg=0.6),\n",
       " Row(Species='Bream', Weight=700.0, Length1=30.4, Length2=33.0, Length3=38.3, Height=14.8604, Width=5.2854, weight_kg=0.7),\n",
       " Row(Species='Bream', Weight=700.0, Length1=30.4, Length2=33.0, Length3=38.5, Height=14.938, Width=5.1975, weight_kg=0.7),\n",
       " Row(Species='Bream', Weight=610.0, Length1=30.9, Length2=33.5, Length3=38.6, Height=15.633, Width=5.1338, weight_kg=0.61),\n",
       " Row(Species='Bream', Weight=650.0, Length1=31.0, Length2=33.5, Length3=38.7, Height=14.4738, Width=5.7276, weight_kg=0.65),\n",
       " Row(Species='Bream', Weight=575.0, Length1=31.3, Length2=34.0, Length3=39.5, Height=15.1285, Width=5.5695, weight_kg=0.575),\n",
       " Row(Species='Bream', Weight=685.0, Length1=31.4, Length2=34.0, Length3=39.2, Height=15.9936, Width=5.3704, weight_kg=0.685),\n",
       " Row(Species='Bream', Weight=620.0, Length1=31.5, Length2=34.5, Length3=39.7, Height=15.5227, Width=5.2801, weight_kg=0.62),\n",
       " Row(Species='Bream', Weight=680.0, Length1=31.8, Length2=35.0, Length3=40.6, Height=15.4686, Width=6.1306, weight_kg=0.68),\n",
       " Row(Species='Bream', Weight=700.0, Length1=31.9, Length2=35.0, Length3=40.5, Height=16.2405, Width=5.589, weight_kg=0.7),\n",
       " Row(Species='Bream', Weight=725.0, Length1=31.8, Length2=35.0, Length3=40.9, Height=16.36, Width=6.0532, weight_kg=0.725),\n",
       " Row(Species='Bream', Weight=720.0, Length1=32.0, Length2=35.0, Length3=40.6, Height=16.3618, Width=6.09, weight_kg=0.72),\n",
       " Row(Species='Bream', Weight=714.0, Length1=32.7, Length2=36.0, Length3=41.5, Height=16.517, Width=5.8515, weight_kg=0.714),\n",
       " Row(Species='Bream', Weight=850.0, Length1=32.8, Length2=36.0, Length3=41.6, Height=16.8896, Width=6.1984, weight_kg=0.85),\n",
       " Row(Species='Bream', Weight=1000.0, Length1=33.5, Length2=37.0, Length3=42.6, Height=18.957, Width=6.603, weight_kg=1.0),\n",
       " Row(Species='Bream', Weight=920.0, Length1=35.0, Length2=38.5, Length3=44.1, Height=18.0369, Width=6.3063, weight_kg=0.92),\n",
       " Row(Species='Bream', Weight=955.0, Length1=35.0, Length2=38.5, Length3=44.0, Height=18.084, Width=6.292, weight_kg=0.955),\n",
       " Row(Species='Bream', Weight=925.0, Length1=36.2, Length2=39.5, Length3=45.3, Height=18.7542, Width=6.7497, weight_kg=0.925),\n",
       " Row(Species='Bream', Weight=975.0, Length1=37.4, Length2=41.0, Length3=45.9, Height=18.6354, Width=6.7473, weight_kg=0.975),\n",
       " Row(Species='Bream', Weight=950.0, Length1=38.0, Length2=41.0, Length3=46.5, Height=17.6235, Width=6.3705, weight_kg=0.95),\n",
       " Row(Species='Roach', Weight=40.0, Length1=12.9, Length2=14.1, Length3=16.2, Height=4.1472, Width=2.268, weight_kg=0.04),\n",
       " Row(Species='Roach', Weight=69.0, Length1=16.5, Length2=18.2, Length3=20.3, Height=5.2983, Width=2.8217, weight_kg=0.069),\n",
       " Row(Species='Roach', Weight=78.0, Length1=17.5, Length2=18.8, Length3=21.2, Height=5.5756, Width=2.9044, weight_kg=0.078),\n",
       " Row(Species='Roach', Weight=87.0, Length1=18.2, Length2=19.8, Length3=22.2, Height=5.6166, Width=3.1746, weight_kg=0.087),\n",
       " Row(Species='Roach', Weight=120.0, Length1=18.6, Length2=20.0, Length3=22.2, Height=6.216, Width=3.5742, weight_kg=0.12),\n",
       " Row(Species='Roach', Weight=0.0, Length1=19.0, Length2=20.5, Length3=22.8, Height=6.4752, Width=3.3516, weight_kg=0.0),\n",
       " Row(Species='Roach', Weight=110.0, Length1=19.1, Length2=20.8, Length3=23.1, Height=6.1677, Width=3.3957, weight_kg=0.11),\n",
       " Row(Species='Roach', Weight=120.0, Length1=19.4, Length2=21.0, Length3=23.7, Height=6.1146, Width=3.2943, weight_kg=0.12),\n",
       " Row(Species='Roach', Weight=150.0, Length1=20.4, Length2=22.0, Length3=24.7, Height=5.8045, Width=3.7544, weight_kg=0.15),\n",
       " Row(Species='Roach', Weight=145.0, Length1=20.5, Length2=22.0, Length3=24.3, Height=6.6339, Width=3.5478, weight_kg=0.145),\n",
       " Row(Species='Roach', Weight=160.0, Length1=20.5, Length2=22.5, Length3=25.3, Height=7.0334, Width=3.8203, weight_kg=0.16),\n",
       " Row(Species='Roach', Weight=140.0, Length1=21.0, Length2=22.5, Length3=25.0, Height=6.55, Width=3.325, weight_kg=0.14),\n",
       " Row(Species='Roach', Weight=160.0, Length1=21.1, Length2=22.5, Length3=25.0, Height=6.4, Width=3.8, weight_kg=0.16),\n",
       " Row(Species='Roach', Weight=169.0, Length1=22.0, Length2=24.0, Length3=27.2, Height=7.5344, Width=3.8352, weight_kg=0.169),\n",
       " Row(Species='Roach', Weight=161.0, Length1=22.0, Length2=23.4, Length3=26.7, Height=6.9153, Width=3.6312, weight_kg=0.161),\n",
       " Row(Species='Roach', Weight=200.0, Length1=22.1, Length2=23.5, Length3=26.8, Height=7.3968, Width=4.1272, weight_kg=0.2),\n",
       " Row(Species='Roach', Weight=180.0, Length1=23.6, Length2=25.2, Length3=27.9, Height=7.0866, Width=3.906, weight_kg=0.18),\n",
       " Row(Species='Roach', Weight=290.0, Length1=24.0, Length2=26.0, Length3=29.2, Height=8.8768, Width=4.4968, weight_kg=0.29),\n",
       " Row(Species='Roach', Weight=272.0, Length1=25.0, Length2=27.0, Length3=30.6, Height=8.568, Width=4.7736, weight_kg=0.272),\n",
       " Row(Species='Roach', Weight=390.0, Length1=29.5, Length2=31.7, Length3=35.0, Height=9.485, Width=5.355, weight_kg=0.39),\n",
       " Row(Species='Whitefish', Weight=270.0, Length1=23.6, Length2=26.0, Length3=28.7, Height=8.3804, Width=4.2476, weight_kg=0.27),\n",
       " Row(Species='Whitefish', Weight=270.0, Length1=24.1, Length2=26.5, Length3=29.3, Height=8.1454, Width=4.2485, weight_kg=0.27),\n",
       " Row(Species='Whitefish', Weight=306.0, Length1=25.6, Length2=28.0, Length3=30.8, Height=8.778, Width=4.6816, weight_kg=0.306),\n",
       " Row(Species='Whitefish', Weight=540.0, Length1=28.5, Length2=31.0, Length3=34.0, Height=10.744, Width=6.562, weight_kg=0.54),\n",
       " Row(Species='Whitefish', Weight=800.0, Length1=33.7, Length2=36.4, Length3=39.6, Height=11.7612, Width=6.5736, weight_kg=0.8),\n",
       " Row(Species='Whitefish', Weight=1000.0, Length1=37.3, Length2=40.0, Length3=43.5, Height=12.354, Width=6.525, weight_kg=1.0),\n",
       " Row(Species='Parkki', Weight=55.0, Length1=13.5, Length2=14.7, Length3=16.5, Height=6.8475, Width=2.3265, weight_kg=0.055),\n",
       " Row(Species='Parkki', Weight=60.0, Length1=14.3, Length2=15.5, Length3=17.4, Height=6.5772, Width=2.3142, weight_kg=0.06),\n",
       " Row(Species='Parkki', Weight=90.0, Length1=16.3, Length2=17.7, Length3=19.8, Height=7.4052, Width=2.673, weight_kg=0.09),\n",
       " Row(Species='Parkki', Weight=120.0, Length1=17.5, Length2=19.0, Length3=21.3, Height=8.3922, Width=2.9181, weight_kg=0.12),\n",
       " Row(Species='Parkki', Weight=150.0, Length1=18.4, Length2=20.0, Length3=22.4, Height=8.8928, Width=3.2928, weight_kg=0.15),\n",
       " Row(Species='Parkki', Weight=140.0, Length1=19.0, Length2=20.7, Length3=23.2, Height=8.5376, Width=3.2944, weight_kg=0.14),\n",
       " Row(Species='Parkki', Weight=170.0, Length1=19.0, Length2=20.7, Length3=23.2, Height=9.396, Width=3.4104, weight_kg=0.17),\n",
       " Row(Species='Parkki', Weight=145.0, Length1=19.8, Length2=21.5, Length3=24.1, Height=9.7364, Width=3.1571, weight_kg=0.145),\n",
       " Row(Species='Parkki', Weight=200.0, Length1=21.2, Length2=23.0, Length3=25.8, Height=10.3458, Width=3.6636, weight_kg=0.2),\n",
       " Row(Species='Parkki', Weight=273.0, Length1=23.0, Length2=25.0, Length3=28.0, Height=11.088, Width=4.144, weight_kg=0.273),\n",
       " Row(Species='Parkki', Weight=300.0, Length1=24.0, Length2=26.0, Length3=29.0, Height=11.368, Width=4.234, weight_kg=0.3),\n",
       " Row(Species='Perch', Weight=5.9, Length1=7.5, Length2=8.4, Length3=8.8, Height=2.112, Width=1.408, weight_kg=0.005900000000000001),\n",
       " Row(Species='Perch', Weight=32.0, Length1=12.5, Length2=13.7, Length3=14.7, Height=3.528, Width=1.9992, weight_kg=0.032),\n",
       " Row(Species='Perch', Weight=40.0, Length1=13.8, Length2=15.0, Length3=16.0, Height=3.824, Width=2.432, weight_kg=0.04),\n",
       " Row(Species='Perch', Weight=51.5, Length1=15.0, Length2=16.2, Length3=17.2, Height=4.5924, Width=2.6316, weight_kg=0.0515),\n",
       " Row(Species='Perch', Weight=70.0, Length1=15.7, Length2=17.4, Length3=18.5, Height=4.588, Width=2.9415, weight_kg=0.07),\n",
       " Row(Species='Perch', Weight=100.0, Length1=16.2, Length2=18.0, Length3=19.2, Height=5.2224, Width=3.3216, weight_kg=0.1),\n",
       " Row(Species='Perch', Weight=78.0, Length1=16.8, Length2=18.7, Length3=19.4, Height=5.1992, Width=3.1234, weight_kg=0.078),\n",
       " Row(Species='Perch', Weight=80.0, Length1=17.2, Length2=19.0, Length3=20.2, Height=5.6358, Width=3.0502, weight_kg=0.08),\n",
       " Row(Species='Perch', Weight=85.0, Length1=17.8, Length2=19.6, Length3=20.8, Height=5.1376, Width=3.0368, weight_kg=0.085),\n",
       " Row(Species='Perch', Weight=85.0, Length1=18.2, Length2=20.0, Length3=21.0, Height=5.082, Width=2.772, weight_kg=0.085),\n",
       " Row(Species='Perch', Weight=110.0, Length1=19.0, Length2=21.0, Length3=22.5, Height=5.6925, Width=3.555, weight_kg=0.11),\n",
       " Row(Species='Perch', Weight=115.0, Length1=19.0, Length2=21.0, Length3=22.5, Height=5.9175, Width=3.3075, weight_kg=0.115),\n",
       " Row(Species='Perch', Weight=125.0, Length1=19.0, Length2=21.0, Length3=22.5, Height=5.6925, Width=3.6675, weight_kg=0.125),\n",
       " Row(Species='Perch', Weight=130.0, Length1=19.3, Length2=21.3, Length3=22.8, Height=6.384, Width=3.534, weight_kg=0.13),\n",
       " Row(Species='Perch', Weight=120.0, Length1=20.0, Length2=22.0, Length3=23.5, Height=6.11, Width=3.4075, weight_kg=0.12),\n",
       " Row(Species='Perch', Weight=120.0, Length1=20.0, Length2=22.0, Length3=23.5, Height=5.64, Width=3.525, weight_kg=0.12),\n",
       " Row(Species='Perch', Weight=130.0, Length1=20.0, Length2=22.0, Length3=23.5, Height=6.11, Width=3.525, weight_kg=0.13),\n",
       " Row(Species='Perch', Weight=135.0, Length1=20.0, Length2=22.0, Length3=23.5, Height=5.875, Width=3.525, weight_kg=0.135),\n",
       " Row(Species='Perch', Weight=110.0, Length1=20.0, Length2=22.0, Length3=23.5, Height=5.5225, Width=3.995, weight_kg=0.11),\n",
       " Row(Species='Perch', Weight=130.0, Length1=20.5, Length2=22.5, Length3=24.0, Height=5.856, Width=3.624, weight_kg=0.13),\n",
       " Row(Species='Perch', Weight=150.0, Length1=20.5, Length2=22.5, Length3=24.0, Height=6.792, Width=3.624, weight_kg=0.15),\n",
       " Row(Species='Perch', Weight=145.0, Length1=20.7, Length2=22.7, Length3=24.2, Height=5.9532, Width=3.63, weight_kg=0.145),\n",
       " Row(Species='Perch', Weight=150.0, Length1=21.0, Length2=23.0, Length3=24.5, Height=5.2185, Width=3.626, weight_kg=0.15),\n",
       " Row(Species='Perch', Weight=170.0, Length1=21.5, Length2=23.5, Length3=25.0, Height=6.275, Width=3.725, weight_kg=0.17),\n",
       " Row(Species='Perch', Weight=225.0, Length1=22.0, Length2=24.0, Length3=25.5, Height=7.293, Width=3.723, weight_kg=0.225),\n",
       " Row(Species='Perch', Weight=145.0, Length1=22.0, Length2=24.0, Length3=25.5, Height=6.375, Width=3.825, weight_kg=0.145),\n",
       " Row(Species='Perch', Weight=188.0, Length1=22.6, Length2=24.6, Length3=26.2, Height=6.7334, Width=4.1658, weight_kg=0.188),\n",
       " Row(Species='Perch', Weight=180.0, Length1=23.0, Length2=25.0, Length3=26.5, Height=6.4395, Width=3.6835, weight_kg=0.18),\n",
       " Row(Species='Perch', Weight=197.0, Length1=23.5, Length2=25.6, Length3=27.0, Height=6.561, Width=4.239, weight_kg=0.197),\n",
       " Row(Species='Perch', Weight=218.0, Length1=25.0, Length2=26.5, Length3=28.0, Height=7.168, Width=4.144, weight_kg=0.218),\n",
       " Row(Species='Perch', Weight=300.0, Length1=25.2, Length2=27.3, Length3=28.7, Height=8.323, Width=5.1373, weight_kg=0.3),\n",
       " Row(Species='Perch', Weight=260.0, Length1=25.4, Length2=27.5, Length3=28.9, Height=7.1672, Width=4.335, weight_kg=0.26),\n",
       " Row(Species='Perch', Weight=265.0, Length1=25.4, Length2=27.5, Length3=28.9, Height=7.0516, Width=4.335, weight_kg=0.265),\n",
       " Row(Species='Perch', Weight=250.0, Length1=25.4, Length2=27.5, Length3=28.9, Height=7.2828, Width=4.5662, weight_kg=0.25),\n",
       " Row(Species='Perch', Weight=250.0, Length1=25.9, Length2=28.0, Length3=29.4, Height=7.8204, Width=4.2042, weight_kg=0.25),\n",
       " Row(Species='Perch', Weight=300.0, Length1=26.9, Length2=28.7, Length3=30.1, Height=7.5852, Width=4.6354, weight_kg=0.3),\n",
       " Row(Species='Perch', Weight=320.0, Length1=27.8, Length2=30.0, Length3=31.6, Height=7.6156, Width=4.7716, weight_kg=0.32),\n",
       " Row(Species='Perch', Weight=514.0, Length1=30.5, Length2=32.8, Length3=34.0, Height=10.03, Width=6.018, weight_kg=0.514),\n",
       " Row(Species='Perch', Weight=556.0, Length1=32.0, Length2=34.5, Length3=36.5, Height=10.2565, Width=6.3875, weight_kg=0.556),\n",
       " Row(Species='Perch', Weight=840.0, Length1=32.5, Length2=35.0, Length3=37.3, Height=11.4884, Width=7.7957, weight_kg=0.84),\n",
       " Row(Species='Perch', Weight=685.0, Length1=34.0, Length2=36.5, Length3=39.0, Height=10.881, Width=6.864, weight_kg=0.685),\n",
       " Row(Species='Perch', Weight=700.0, Length1=34.0, Length2=36.0, Length3=38.3, Height=10.6091, Width=6.7408, weight_kg=0.7),\n",
       " Row(Species='Perch', Weight=700.0, Length1=34.5, Length2=37.0, Length3=39.4, Height=10.835, Width=6.2646, weight_kg=0.7),\n",
       " Row(Species='Perch', Weight=690.0, Length1=34.6, Length2=37.0, Length3=39.3, Height=10.5717, Width=6.3666, weight_kg=0.69),\n",
       " Row(Species='Perch', Weight=900.0, Length1=36.5, Length2=39.0, Length3=41.4, Height=11.1366, Width=7.4934, weight_kg=0.9),\n",
       " Row(Species='Perch', Weight=650.0, Length1=36.5, Length2=39.0, Length3=41.4, Height=11.1366, Width=6.003, weight_kg=0.65),\n",
       " Row(Species='Perch', Weight=820.0, Length1=36.6, Length2=39.0, Length3=41.3, Height=12.4313, Width=7.3514, weight_kg=0.82),\n",
       " Row(Species='Perch', Weight=850.0, Length1=36.9, Length2=40.0, Length3=42.3, Height=11.9286, Width=7.1064, weight_kg=0.85),\n",
       " Row(Species='Perch', Weight=900.0, Length1=37.0, Length2=40.0, Length3=42.5, Height=11.73, Width=7.225, weight_kg=0.9),\n",
       " Row(Species='Perch', Weight=1015.0, Length1=37.0, Length2=40.0, Length3=42.4, Height=12.3808, Width=7.4624, weight_kg=1.015),\n",
       " Row(Species='Perch', Weight=820.0, Length1=37.1, Length2=40.0, Length3=42.5, Height=11.135, Width=6.63, weight_kg=0.82),\n",
       " Row(Species='Perch', Weight=1100.0, Length1=39.0, Length2=42.0, Length3=44.6, Height=12.8002, Width=6.8684, weight_kg=1.1),\n",
       " Row(Species='Perch', Weight=1000.0, Length1=39.8, Length2=43.0, Length3=45.2, Height=11.9328, Width=7.2772, weight_kg=1.0),\n",
       " Row(Species='Perch', Weight=1100.0, Length1=40.1, Length2=43.0, Length3=45.5, Height=12.5125, Width=7.4165, weight_kg=1.1),\n",
       " Row(Species='Perch', Weight=1000.0, Length1=40.2, Length2=43.5, Length3=46.0, Height=12.604, Width=8.142, weight_kg=1.0),\n",
       " Row(Species='Perch', Weight=1000.0, Length1=41.1, Length2=44.0, Length3=46.6, Height=12.4888, Width=7.5958, weight_kg=1.0),\n",
       " Row(Species='Pike', Weight=200.0, Length1=30.0, Length2=32.3, Length3=34.8, Height=5.568, Width=3.3756, weight_kg=0.2),\n",
       " Row(Species='Pike', Weight=300.0, Length1=31.7, Length2=34.0, Length3=37.8, Height=5.7078, Width=4.158, weight_kg=0.3),\n",
       " Row(Species='Pike', Weight=300.0, Length1=32.7, Length2=35.0, Length3=38.8, Height=5.9364, Width=4.3844, weight_kg=0.3),\n",
       " Row(Species='Pike', Weight=300.0, Length1=34.8, Length2=37.3, Length3=39.8, Height=6.2884, Width=4.0198, weight_kg=0.3),\n",
       " Row(Species='Pike', Weight=430.0, Length1=35.5, Length2=38.0, Length3=40.5, Height=7.29, Width=4.5765, weight_kg=0.43),\n",
       " Row(Species='Pike', Weight=345.0, Length1=36.0, Length2=38.5, Length3=41.0, Height=6.396, Width=3.977, weight_kg=0.345),\n",
       " Row(Species='Pike', Weight=456.0, Length1=40.0, Length2=42.5, Length3=45.5, Height=7.28, Width=4.3225, weight_kg=0.456),\n",
       " Row(Species='Pike', Weight=510.0, Length1=40.0, Length2=42.5, Length3=45.5, Height=6.825, Width=4.459, weight_kg=0.51),\n",
       " Row(Species='Pike', Weight=540.0, Length1=40.1, Length2=43.0, Length3=45.8, Height=7.786, Width=5.1296, weight_kg=0.54),\n",
       " Row(Species='Pike', Weight=500.0, Length1=42.0, Length2=45.0, Length3=48.0, Height=6.96, Width=4.896, weight_kg=0.5),\n",
       " Row(Species='Pike', Weight=567.0, Length1=43.2, Length2=46.0, Length3=48.7, Height=7.792, Width=4.87, weight_kg=0.567),\n",
       " Row(Species='Pike', Weight=770.0, Length1=44.8, Length2=48.0, Length3=51.2, Height=7.68, Width=5.376, weight_kg=0.77),\n",
       " Row(Species='Pike', Weight=950.0, Length1=48.3, Length2=51.7, Length3=55.1, Height=8.9262, Width=6.1712, weight_kg=0.95),\n",
       " Row(Species='Pike', Weight=1250.0, Length1=52.0, Length2=56.0, Length3=59.7, Height=10.6863, Width=6.9849, weight_kg=1.25),\n",
       " Row(Species='Pike', Weight=1600.0, Length1=56.0, Length2=60.0, Length3=64.0, Height=9.6, Width=6.144, weight_kg=1.6),\n",
       " Row(Species='Pike', Weight=1550.0, Length1=56.0, Length2=60.0, Length3=64.0, Height=9.6, Width=6.144, weight_kg=1.55),\n",
       " Row(Species='Pike', Weight=1650.0, Length1=59.0, Length2=63.4, Length3=68.0, Height=10.812, Width=7.48, weight_kg=1.65),\n",
       " Row(Species='Smelt', Weight=6.7, Length1=9.3, Length2=9.8, Length3=10.8, Height=1.7388, Width=1.0476, weight_kg=0.0067),\n",
       " Row(Species='Smelt', Weight=7.5, Length1=10.0, Length2=10.5, Length3=11.6, Height=1.972, Width=1.16, weight_kg=0.0075),\n",
       " Row(Species='Smelt', Weight=7.0, Length1=10.1, Length2=10.6, Length3=11.6, Height=1.7284, Width=1.1484, weight_kg=0.007),\n",
       " Row(Species='Smelt', Weight=9.7, Length1=10.4, Length2=11.0, Length3=12.0, Height=2.196, Width=1.38, weight_kg=0.009699999999999999),\n",
       " Row(Species='Smelt', Weight=9.8, Length1=10.7, Length2=11.2, Length3=12.4, Height=2.0832, Width=1.2772, weight_kg=0.009800000000000001),\n",
       " Row(Species='Smelt', Weight=8.7, Length1=10.8, Length2=11.3, Length3=12.6, Height=1.9782, Width=1.2852, weight_kg=0.0087),\n",
       " Row(Species='Smelt', Weight=10.0, Length1=11.3, Length2=11.8, Length3=13.1, Height=2.2139, Width=1.2838, weight_kg=0.01),\n",
       " Row(Species='Smelt', Weight=9.9, Length1=11.3, Length2=11.8, Length3=13.1, Height=2.2139, Width=1.1659, weight_kg=0.0099),\n",
       " Row(Species='Smelt', Weight=9.8, Length1=11.4, Length2=12.0, Length3=13.2, Height=2.2044, Width=1.1484, weight_kg=0.009800000000000001),\n",
       " Row(Species='Smelt', Weight=12.2, Length1=11.5, Length2=12.2, Length3=13.4, Height=2.0904, Width=1.3936, weight_kg=0.012199999999999999),\n",
       " Row(Species='Smelt', Weight=13.4, Length1=11.7, Length2=12.4, Length3=13.5, Height=2.43, Width=1.269, weight_kg=0.0134),\n",
       " Row(Species='Smelt', Weight=12.2, Length1=12.1, Length2=13.0, Length3=13.8, Height=2.277, Width=1.2558, weight_kg=0.012199999999999999),\n",
       " Row(Species='Smelt', Weight=19.7, Length1=13.2, Length2=14.3, Length3=15.2, Height=2.8728, Width=2.0672, weight_kg=0.0197),\n",
       " Row(Species='Smelt', Weight=19.9, Length1=13.8, Length2=15.0, Length3=16.2, Height=2.9322, Width=1.8792, weight_kg=0.019899999999999998)]"
      ]
     },
     "execution_count": 22,
     "metadata": {},
     "output_type": "execute_result"
    }
   ],
   "source": [
    "df.collect()"
   ]
  },
  {
   "cell_type": "markdown",
   "id": "e517253c-7b9c-488a-a877-5408067d3971",
   "metadata": {},
   "source": [
    "### Dataframe info"
   ]
  },
  {
   "cell_type": "code",
   "execution_count": 47,
   "id": "28e0869b-79a0-41d5-904b-aa6454070839",
   "metadata": {},
   "outputs": [
    {
     "name": "stdout",
     "output_type": "stream",
     "text": [
      "<class 'pandas.core.frame.DataFrame'>\n",
      "RangeIndex: 159 entries, 0 to 158\n",
      "Data columns (total 8 columns):\n",
      " #   Column     Non-Null Count  Dtype  \n",
      "---  ------     --------------  -----  \n",
      " 0   Species    159 non-null    object \n",
      " 1   Weight     159 non-null    float64\n",
      " 2   Length1    159 non-null    float64\n",
      " 3   Length2    159 non-null    float64\n",
      " 4   Length3    159 non-null    float64\n",
      " 5   Height     159 non-null    float64\n",
      " 6   Width      159 non-null    float64\n",
      " 7   weight_kg  159 non-null    float64\n",
      "dtypes: float64(7), object(1)\n",
      "memory usage: 10.1+ KB\n"
     ]
    }
   ],
   "source": [
    "pd_df.info()"
   ]
  },
  {
   "cell_type": "code",
   "execution_count": 46,
   "id": "5219aab4-8f31-4265-a522-4bd5fa7fd816",
   "metadata": {},
   "outputs": [
    {
     "name": "stdout",
     "output_type": "stream",
     "text": [
      "root\n",
      " |-- Species: string (nullable = true)\n",
      " |-- Weight: double (nullable = true)\n",
      " |-- Length1: double (nullable = true)\n",
      " |-- Length2: double (nullable = true)\n",
      " |-- Length3: double (nullable = true)\n",
      " |-- Height: double (nullable = true)\n",
      " |-- Width: double (nullable = true)\n",
      " |-- weight_kg: double (nullable = true)\n",
      "\n"
     ]
    }
   ],
   "source": [
    "df.printSchema()"
   ]
  },
  {
   "cell_type": "code",
   "execution_count": 147,
   "id": "60863789-54d0-401d-a453-93ede5ee1d60",
   "metadata": {},
   "outputs": [
    {
     "data": {
      "text/plain": [
       "Species      object\n",
       "Weight        int64\n",
       "Length1     float64\n",
       "Length2     float64\n",
       "Length3     float64\n",
       "Height      float64\n",
       "Width       float64\n",
       "wt_in_kg    float64\n",
       "dtype: object"
      ]
     },
     "execution_count": 147,
     "metadata": {},
     "output_type": "execute_result"
    }
   ],
   "source": [
    "pd_df.dtypes"
   ]
  },
  {
   "cell_type": "code",
   "execution_count": 148,
   "id": "497dbb8e-1e92-4d61-a50a-e662481bcfb9",
   "metadata": {},
   "outputs": [
    {
     "data": {
      "text/plain": [
       "[('Species', 'string'),\n",
       " ('Weight', 'double'),\n",
       " ('Length1', 'double'),\n",
       " ('Length2', 'double'),\n",
       " ('Length3', 'double'),\n",
       " ('Height', 'double'),\n",
       " ('Width', 'double'),\n",
       " ('weight_kg', 'double')]"
      ]
     },
     "execution_count": 148,
     "metadata": {},
     "output_type": "execute_result"
    }
   ],
   "source": [
    "df.dtypes"
   ]
  },
  {
   "cell_type": "code",
   "execution_count": 36,
   "id": "41a5b0e8-9ed0-49d5-b95d-dcf2c3898a38",
   "metadata": {},
   "outputs": [
    {
     "data": {
      "text/plain": [
       "(159, 8)"
      ]
     },
     "execution_count": 36,
     "metadata": {},
     "output_type": "execute_result"
    }
   ],
   "source": [
    "pd_df.shape"
   ]
  },
  {
   "cell_type": "code",
   "execution_count": 132,
   "id": "951aeb9b-1c86-4ee2-9d8d-ce9fbf5b9bbf",
   "metadata": {},
   "outputs": [
    {
     "data": {
      "text/plain": [
       "(159, 8)"
      ]
     },
     "execution_count": 132,
     "metadata": {},
     "output_type": "execute_result"
    }
   ],
   "source": [
    "(df.count(), len(df.columns))"
   ]
  },
  {
   "cell_type": "code",
   "execution_count": 133,
   "id": "941b2c45-4911-4d25-8090-324686861dd0",
   "metadata": {},
   "outputs": [
    {
     "data": {
      "text/html": [
       "<div>\n",
       "<style scoped>\n",
       "    .dataframe tbody tr th:only-of-type {\n",
       "        vertical-align: middle;\n",
       "    }\n",
       "\n",
       "    .dataframe tbody tr th {\n",
       "        vertical-align: top;\n",
       "    }\n",
       "\n",
       "    .dataframe thead th {\n",
       "        text-align: right;\n",
       "    }\n",
       "</style>\n",
       "<table border=\"1\" class=\"dataframe\">\n",
       "  <thead>\n",
       "    <tr style=\"text-align: right;\">\n",
       "      <th></th>\n",
       "      <th>Weight</th>\n",
       "      <th>Length1</th>\n",
       "      <th>Length2</th>\n",
       "      <th>Length3</th>\n",
       "      <th>Height</th>\n",
       "      <th>Width</th>\n",
       "      <th>wt_in_kg</th>\n",
       "    </tr>\n",
       "  </thead>\n",
       "  <tbody>\n",
       "    <tr>\n",
       "      <th>count</th>\n",
       "      <td>159.000000</td>\n",
       "      <td>159.000000</td>\n",
       "      <td>159.000000</td>\n",
       "      <td>159.000000</td>\n",
       "      <td>159.000000</td>\n",
       "      <td>159.000000</td>\n",
       "      <td>159.000000</td>\n",
       "    </tr>\n",
       "    <tr>\n",
       "      <th>mean</th>\n",
       "      <td>398.270440</td>\n",
       "      <td>26.247170</td>\n",
       "      <td>28.415723</td>\n",
       "      <td>31.227044</td>\n",
       "      <td>8.970994</td>\n",
       "      <td>4.417486</td>\n",
       "      <td>0.398326</td>\n",
       "    </tr>\n",
       "    <tr>\n",
       "      <th>std</th>\n",
       "      <td>358.038939</td>\n",
       "      <td>9.996441</td>\n",
       "      <td>10.716328</td>\n",
       "      <td>11.610246</td>\n",
       "      <td>4.286208</td>\n",
       "      <td>1.685804</td>\n",
       "      <td>0.357978</td>\n",
       "    </tr>\n",
       "    <tr>\n",
       "      <th>min</th>\n",
       "      <td>0.000000</td>\n",
       "      <td>7.500000</td>\n",
       "      <td>8.400000</td>\n",
       "      <td>8.800000</td>\n",
       "      <td>1.728400</td>\n",
       "      <td>1.047600</td>\n",
       "      <td>0.000000</td>\n",
       "    </tr>\n",
       "    <tr>\n",
       "      <th>25%</th>\n",
       "      <td>120.000000</td>\n",
       "      <td>19.050000</td>\n",
       "      <td>21.000000</td>\n",
       "      <td>23.150000</td>\n",
       "      <td>5.944800</td>\n",
       "      <td>3.385650</td>\n",
       "      <td>0.120000</td>\n",
       "    </tr>\n",
       "    <tr>\n",
       "      <th>50%</th>\n",
       "      <td>273.000000</td>\n",
       "      <td>25.200000</td>\n",
       "      <td>27.300000</td>\n",
       "      <td>29.400000</td>\n",
       "      <td>7.786000</td>\n",
       "      <td>4.248500</td>\n",
       "      <td>0.273000</td>\n",
       "    </tr>\n",
       "    <tr>\n",
       "      <th>75%</th>\n",
       "      <td>650.000000</td>\n",
       "      <td>32.700000</td>\n",
       "      <td>35.500000</td>\n",
       "      <td>39.650000</td>\n",
       "      <td>12.365900</td>\n",
       "      <td>5.584500</td>\n",
       "      <td>0.650000</td>\n",
       "    </tr>\n",
       "    <tr>\n",
       "      <th>max</th>\n",
       "      <td>1650.000000</td>\n",
       "      <td>59.000000</td>\n",
       "      <td>63.400000</td>\n",
       "      <td>68.000000</td>\n",
       "      <td>18.957000</td>\n",
       "      <td>8.142000</td>\n",
       "      <td>1.650000</td>\n",
       "    </tr>\n",
       "  </tbody>\n",
       "</table>\n",
       "</div>"
      ],
      "text/plain": [
       "            Weight     Length1     Length2     Length3      Height  \\\n",
       "count   159.000000  159.000000  159.000000  159.000000  159.000000   \n",
       "mean    398.270440   26.247170   28.415723   31.227044    8.970994   \n",
       "std     358.038939    9.996441   10.716328   11.610246    4.286208   \n",
       "min       0.000000    7.500000    8.400000    8.800000    1.728400   \n",
       "25%     120.000000   19.050000   21.000000   23.150000    5.944800   \n",
       "50%     273.000000   25.200000   27.300000   29.400000    7.786000   \n",
       "75%     650.000000   32.700000   35.500000   39.650000   12.365900   \n",
       "max    1650.000000   59.000000   63.400000   68.000000   18.957000   \n",
       "\n",
       "            Width    wt_in_kg  \n",
       "count  159.000000  159.000000  \n",
       "mean     4.417486    0.398326  \n",
       "std      1.685804    0.357978  \n",
       "min      1.047600    0.000000  \n",
       "25%      3.385650    0.120000  \n",
       "50%      4.248500    0.273000  \n",
       "75%      5.584500    0.650000  \n",
       "max      8.142000    1.650000  "
      ]
     },
     "execution_count": 133,
     "metadata": {},
     "output_type": "execute_result"
    }
   ],
   "source": [
    "pd_df.describe()"
   ]
  },
  {
   "cell_type": "code",
   "execution_count": 134,
   "id": "dba2c52b-b12f-4dc0-a4a9-a061f0e1700e",
   "metadata": {},
   "outputs": [
    {
     "name": "stdout",
     "output_type": "stream",
     "text": [
      "+-------+---------+------------------+-----------------+------------------+------------------+-----------------+------------------+-------------------+\n",
      "|summary|  Species|            Weight|          Length1|           Length2|           Length3|           Height|             Width|          weight_kg|\n",
      "+-------+---------+------------------+-----------------+------------------+------------------+-----------------+------------------+-------------------+\n",
      "|  count|      159|               159|              159|               159|               159|              159|               159|                159|\n",
      "|   mean|     null| 398.3264150943396|26.24716981132075|28.415723270440253|31.227044025157248|8.970993710691822| 4.417485534591194|0.39832641509433964|\n",
      "| stddev|     null|357.97831655089306|9.996441210553128|10.716328098884247| 11.61024583269096|4.286207619968869|1.6858038699921665| 0.3579783165508931|\n",
      "|    min|    Bream|               0.0|              7.5|               8.4|               8.8|           1.7284|            1.0476|                0.0|\n",
      "|    max|Whitefish|            1650.0|             59.0|              63.4|              68.0|           18.957|             8.142|               1.65|\n",
      "+-------+---------+------------------+-----------------+------------------+------------------+-----------------+------------------+-------------------+\n",
      "\n"
     ]
    }
   ],
   "source": [
    "df.describe().show()"
   ]
  },
  {
   "cell_type": "code",
   "execution_count": 135,
   "id": "fce6e7c8-bf27-473f-b2c3-28fdbd1a92da",
   "metadata": {},
   "outputs": [
    {
     "name": "stdout",
     "output_type": "stream",
     "text": [
      "+-------+---------+------------------+-----------------+------------------+------------------+-----------------+------------------+-------------------+\n",
      "|summary|  Species|            Weight|          Length1|           Length2|           Length3|           Height|             Width|          weight_kg|\n",
      "+-------+---------+------------------+-----------------+------------------+------------------+-----------------+------------------+-------------------+\n",
      "|  count|      159|               159|              159|               159|               159|              159|               159|                159|\n",
      "|   mean|     null| 398.3264150943396|26.24716981132075|28.415723270440253|31.227044025157248|8.970993710691822| 4.417485534591194|0.39832641509433964|\n",
      "| stddev|     null|357.97831655089306|9.996441210553128|10.716328098884247| 11.61024583269096|4.286207619968869|1.6858038699921665| 0.3579783165508931|\n",
      "|    min|    Bream|               0.0|              7.5|               8.4|               8.8|           1.7284|            1.0476|                0.0|\n",
      "|    25%|     null|             120.0|             19.0|              21.0|              23.1|           5.9364|            3.3756|               0.12|\n",
      "|    50%|     null|             273.0|             25.2|              27.3|              29.4|            7.786|            4.2485|              0.273|\n",
      "|    75%|     null|             650.0|             32.7|              36.0|              39.7|          12.3778|             5.589|               0.65|\n",
      "|    max|Whitefish|            1650.0|             59.0|              63.4|              68.0|           18.957|             8.142|               1.65|\n",
      "+-------+---------+------------------+-----------------+------------------+------------------+-----------------+------------------+-------------------+\n",
      "\n"
     ]
    }
   ],
   "source": [
    "df.summary().show()"
   ]
  },
  {
   "cell_type": "markdown",
   "id": "bf840e4f-dc53-43f5-bc92-4ac7f2c24de1",
   "metadata": {},
   "source": [
    "### Add a new column"
   ]
  },
  {
   "cell_type": "code",
   "execution_count": 7,
   "id": "fced17fc-03e9-4163-a21d-f371ab514861",
   "metadata": {},
   "outputs": [
    {
     "data": {
      "text/html": [
       "<div>\n",
       "<style scoped>\n",
       "    .dataframe tbody tr th:only-of-type {\n",
       "        vertical-align: middle;\n",
       "    }\n",
       "\n",
       "    .dataframe tbody tr th {\n",
       "        vertical-align: top;\n",
       "    }\n",
       "\n",
       "    .dataframe thead th {\n",
       "        text-align: right;\n",
       "    }\n",
       "</style>\n",
       "<table border=\"1\" class=\"dataframe\">\n",
       "  <thead>\n",
       "    <tr style=\"text-align: right;\">\n",
       "      <th></th>\n",
       "      <th>Species</th>\n",
       "      <th>Weight</th>\n",
       "      <th>Length1</th>\n",
       "      <th>Length2</th>\n",
       "      <th>Length3</th>\n",
       "      <th>Height</th>\n",
       "      <th>Width</th>\n",
       "      <th>wt_in_kg</th>\n",
       "    </tr>\n",
       "  </thead>\n",
       "  <tbody>\n",
       "    <tr>\n",
       "      <th>0</th>\n",
       "      <td>Bream</td>\n",
       "      <td>242.0</td>\n",
       "      <td>23.2</td>\n",
       "      <td>25.4</td>\n",
       "      <td>30.0</td>\n",
       "      <td>11.5200</td>\n",
       "      <td>4.0200</td>\n",
       "      <td>0.242</td>\n",
       "    </tr>\n",
       "    <tr>\n",
       "      <th>1</th>\n",
       "      <td>Bream</td>\n",
       "      <td>290.0</td>\n",
       "      <td>24.0</td>\n",
       "      <td>26.3</td>\n",
       "      <td>31.2</td>\n",
       "      <td>12.4800</td>\n",
       "      <td>4.3056</td>\n",
       "      <td>0.290</td>\n",
       "    </tr>\n",
       "    <tr>\n",
       "      <th>2</th>\n",
       "      <td>Bream</td>\n",
       "      <td>340.0</td>\n",
       "      <td>23.9</td>\n",
       "      <td>26.5</td>\n",
       "      <td>31.1</td>\n",
       "      <td>12.3778</td>\n",
       "      <td>4.6961</td>\n",
       "      <td>0.340</td>\n",
       "    </tr>\n",
       "    <tr>\n",
       "      <th>3</th>\n",
       "      <td>Bream</td>\n",
       "      <td>363.0</td>\n",
       "      <td>26.3</td>\n",
       "      <td>29.0</td>\n",
       "      <td>33.5</td>\n",
       "      <td>12.7300</td>\n",
       "      <td>4.4555</td>\n",
       "      <td>0.363</td>\n",
       "    </tr>\n",
       "    <tr>\n",
       "      <th>4</th>\n",
       "      <td>Bream</td>\n",
       "      <td>430.0</td>\n",
       "      <td>26.5</td>\n",
       "      <td>29.0</td>\n",
       "      <td>34.0</td>\n",
       "      <td>12.4440</td>\n",
       "      <td>5.1340</td>\n",
       "      <td>0.430</td>\n",
       "    </tr>\n",
       "  </tbody>\n",
       "</table>\n",
       "</div>"
      ],
      "text/plain": [
       "  Species  Weight  Length1  Length2  Length3   Height   Width  wt_in_kg\n",
       "0   Bream   242.0     23.2     25.4     30.0  11.5200  4.0200     0.242\n",
       "1   Bream   290.0     24.0     26.3     31.2  12.4800  4.3056     0.290\n",
       "2   Bream   340.0     23.9     26.5     31.1  12.3778  4.6961     0.340\n",
       "3   Bream   363.0     26.3     29.0     33.5  12.7300  4.4555     0.363\n",
       "4   Bream   430.0     26.5     29.0     34.0  12.4440  5.1340     0.430"
      ]
     },
     "execution_count": 7,
     "metadata": {},
     "output_type": "execute_result"
    }
   ],
   "source": [
    "pd_df['wt_in_kg'] = pd_df['Weight']/1000\n",
    "pd_df.head()"
   ]
  },
  {
   "cell_type": "code",
   "execution_count": 8,
   "id": "cb549be9-ae09-47a7-b2c1-0db00f28a729",
   "metadata": {},
   "outputs": [
    {
     "name": "stdout",
     "output_type": "stream",
     "text": [
      "+-------+------+-------+-------+-------+-------+------+--------+\n",
      "|Species|Weight|Length1|Length2|Length3| Height| Width|wt_in_kg|\n",
      "+-------+------+-------+-------+-------+-------+------+--------+\n",
      "|  Bream| 242.0|   23.2|   25.4|   30.0|  11.52|  4.02|   0.242|\n",
      "|  Bream| 290.0|   24.0|   26.3|   31.2|  12.48|4.3056|    0.29|\n",
      "|  Bream| 340.0|   23.9|   26.5|   31.1|12.3778|4.6961|    0.34|\n",
      "|  Bream| 363.0|   26.3|   29.0|   33.5|  12.73|4.4555|   0.363|\n",
      "|  Bream| 430.0|   26.5|   29.0|   34.0| 12.444| 5.134|    0.43|\n",
      "+-------+------+-------+-------+-------+-------+------+--------+\n",
      "only showing top 5 rows\n",
      "\n"
     ]
    }
   ],
   "source": [
    "df = df.withColumn('wt_in_kg', df.Weight/1000)\n",
    "df.show(5)"
   ]
  },
  {
   "cell_type": "markdown",
   "id": "4a731fca-881c-49b8-96ed-cda17a9942cf",
   "metadata": {},
   "source": [
    "### Alter column data type"
   ]
  },
  {
   "cell_type": "code",
   "execution_count": 65,
   "id": "a0f42c90-1956-44d8-8550-f5b8b9c053ea",
   "metadata": {},
   "outputs": [
    {
     "data": {
      "text/plain": [
       "Species       object\n",
       "Weight       float64\n",
       "Length1      float64\n",
       "Length2      float64\n",
       "Length3      float64\n",
       "Height       float64\n",
       "Width        float64\n",
       "weight_kg    float64\n",
       "dtype: object"
      ]
     },
     "execution_count": 65,
     "metadata": {},
     "output_type": "execute_result"
    }
   ],
   "source": [
    "pd_df.dtypes"
   ]
  },
  {
   "cell_type": "code",
   "execution_count": 78,
   "id": "fc78a468-de1c-4d10-8967-337e890dcdfd",
   "metadata": {},
   "outputs": [],
   "source": [
    "pd_df = pd_df.astype({'Weight':'int64'})"
   ]
  },
  {
   "cell_type": "code",
   "execution_count": 79,
   "id": "02832071-8188-47cb-8898-0ac3deea604c",
   "metadata": {},
   "outputs": [
    {
     "data": {
      "text/html": [
       "<div>\n",
       "<style scoped>\n",
       "    .dataframe tbody tr th:only-of-type {\n",
       "        vertical-align: middle;\n",
       "    }\n",
       "\n",
       "    .dataframe tbody tr th {\n",
       "        vertical-align: top;\n",
       "    }\n",
       "\n",
       "    .dataframe thead th {\n",
       "        text-align: right;\n",
       "    }\n",
       "</style>\n",
       "<table border=\"1\" class=\"dataframe\">\n",
       "  <thead>\n",
       "    <tr style=\"text-align: right;\">\n",
       "      <th></th>\n",
       "      <th>Species</th>\n",
       "      <th>Weight</th>\n",
       "      <th>Length1</th>\n",
       "      <th>Length2</th>\n",
       "      <th>Length3</th>\n",
       "      <th>Height</th>\n",
       "      <th>Width</th>\n",
       "      <th>wt_in_kg</th>\n",
       "    </tr>\n",
       "  </thead>\n",
       "  <tbody>\n",
       "    <tr>\n",
       "      <th>0</th>\n",
       "      <td>Bream</td>\n",
       "      <td>242</td>\n",
       "      <td>23.2</td>\n",
       "      <td>25.4</td>\n",
       "      <td>30.0</td>\n",
       "      <td>11.5200</td>\n",
       "      <td>4.0200</td>\n",
       "      <td>0.242</td>\n",
       "    </tr>\n",
       "    <tr>\n",
       "      <th>1</th>\n",
       "      <td>Bream</td>\n",
       "      <td>290</td>\n",
       "      <td>24.0</td>\n",
       "      <td>26.3</td>\n",
       "      <td>31.2</td>\n",
       "      <td>12.4800</td>\n",
       "      <td>4.3056</td>\n",
       "      <td>0.290</td>\n",
       "    </tr>\n",
       "    <tr>\n",
       "      <th>2</th>\n",
       "      <td>Bream</td>\n",
       "      <td>340</td>\n",
       "      <td>23.9</td>\n",
       "      <td>26.5</td>\n",
       "      <td>31.1</td>\n",
       "      <td>12.3778</td>\n",
       "      <td>4.6961</td>\n",
       "      <td>0.340</td>\n",
       "    </tr>\n",
       "    <tr>\n",
       "      <th>3</th>\n",
       "      <td>Bream</td>\n",
       "      <td>363</td>\n",
       "      <td>26.3</td>\n",
       "      <td>29.0</td>\n",
       "      <td>33.5</td>\n",
       "      <td>12.7300</td>\n",
       "      <td>4.4555</td>\n",
       "      <td>0.363</td>\n",
       "    </tr>\n",
       "    <tr>\n",
       "      <th>4</th>\n",
       "      <td>Bream</td>\n",
       "      <td>430</td>\n",
       "      <td>26.5</td>\n",
       "      <td>29.0</td>\n",
       "      <td>34.0</td>\n",
       "      <td>12.4440</td>\n",
       "      <td>5.1340</td>\n",
       "      <td>0.430</td>\n",
       "    </tr>\n",
       "  </tbody>\n",
       "</table>\n",
       "</div>"
      ],
      "text/plain": [
       "  Species  Weight  Length1  Length2  Length3   Height   Width  wt_in_kg\n",
       "0   Bream     242     23.2     25.4     30.0  11.5200  4.0200     0.242\n",
       "1   Bream     290     24.0     26.3     31.2  12.4800  4.3056     0.290\n",
       "2   Bream     340     23.9     26.5     31.1  12.3778  4.6961     0.340\n",
       "3   Bream     363     26.3     29.0     33.5  12.7300  4.4555     0.363\n",
       "4   Bream     430     26.5     29.0     34.0  12.4440  5.1340     0.430"
      ]
     },
     "execution_count": 79,
     "metadata": {},
     "output_type": "execute_result"
    }
   ],
   "source": [
    "pd_df.head()"
   ]
  },
  {
   "cell_type": "code",
   "execution_count": 80,
   "id": "d2b02502-1f5f-405c-b852-77d21f0f0f65",
   "metadata": {},
   "outputs": [
    {
     "data": {
      "text/plain": [
       "Species      object\n",
       "Weight        int64\n",
       "Length1     float64\n",
       "Length2     float64\n",
       "Length3     float64\n",
       "Height      float64\n",
       "Width       float64\n",
       "wt_in_kg    float64\n",
       "dtype: object"
      ]
     },
     "execution_count": 80,
     "metadata": {},
     "output_type": "execute_result"
    }
   ],
   "source": [
    "pd_df.dtypes"
   ]
  },
  {
   "cell_type": "code",
   "execution_count": 63,
   "id": "c2006d52-de9b-48fb-a2c2-f421ff01baf5",
   "metadata": {},
   "outputs": [
    {
     "name": "stdout",
     "output_type": "stream",
     "text": [
      "root\n",
      " |-- Species: string (nullable = true)\n",
      " |-- Weight: double (nullable = true)\n",
      " |-- Length1: double (nullable = true)\n",
      " |-- Length2: double (nullable = true)\n",
      " |-- Length3: double (nullable = true)\n",
      " |-- Height: double (nullable = true)\n",
      " |-- Width: double (nullable = true)\n",
      " |-- weight_kg: double (nullable = true)\n",
      "\n"
     ]
    }
   ],
   "source": [
    "df.printSchema()"
   ]
  },
  {
   "cell_type": "code",
   "execution_count": 64,
   "id": "f83c1c44-6f02-4540-ad55-eb648ce0e4ea",
   "metadata": {},
   "outputs": [
    {
     "name": "stdout",
     "output_type": "stream",
     "text": [
      "root\n",
      " |-- Species: string (nullable = true)\n",
      " |-- weight: integer (nullable = true)\n",
      " |-- Length1: double (nullable = true)\n",
      " |-- Length2: double (nullable = true)\n",
      " |-- Length3: double (nullable = true)\n",
      " |-- Height: double (nullable = true)\n",
      " |-- Width: double (nullable = true)\n",
      " |-- weight_kg: double (nullable = true)\n",
      "\n"
     ]
    }
   ],
   "source": [
    "df.withColumn('weight', df['Weight'].cast('Integer')).printSchema()"
   ]
  },
  {
   "cell_type": "markdown",
   "id": "a63df035-1800-498b-bb0e-9f62e35f65a1",
   "metadata": {},
   "source": [
    "### Rename column"
   ]
  },
  {
   "cell_type": "code",
   "execution_count": 9,
   "id": "aaa3a5d9-1ce0-45eb-85ac-5e8d58b368dd",
   "metadata": {},
   "outputs": [
    {
     "data": {
      "text/html": [
       "<div>\n",
       "<style scoped>\n",
       "    .dataframe tbody tr th:only-of-type {\n",
       "        vertical-align: middle;\n",
       "    }\n",
       "\n",
       "    .dataframe tbody tr th {\n",
       "        vertical-align: top;\n",
       "    }\n",
       "\n",
       "    .dataframe thead th {\n",
       "        text-align: right;\n",
       "    }\n",
       "</style>\n",
       "<table border=\"1\" class=\"dataframe\">\n",
       "  <thead>\n",
       "    <tr style=\"text-align: right;\">\n",
       "      <th></th>\n",
       "      <th>Species</th>\n",
       "      <th>Weight</th>\n",
       "      <th>Length1</th>\n",
       "      <th>Length2</th>\n",
       "      <th>Length3</th>\n",
       "      <th>Height</th>\n",
       "      <th>Width</th>\n",
       "      <th>weight_kg</th>\n",
       "    </tr>\n",
       "  </thead>\n",
       "  <tbody>\n",
       "    <tr>\n",
       "      <th>0</th>\n",
       "      <td>Bream</td>\n",
       "      <td>242.0</td>\n",
       "      <td>23.2</td>\n",
       "      <td>25.4</td>\n",
       "      <td>30.0</td>\n",
       "      <td>11.5200</td>\n",
       "      <td>4.0200</td>\n",
       "      <td>0.242</td>\n",
       "    </tr>\n",
       "    <tr>\n",
       "      <th>1</th>\n",
       "      <td>Bream</td>\n",
       "      <td>290.0</td>\n",
       "      <td>24.0</td>\n",
       "      <td>26.3</td>\n",
       "      <td>31.2</td>\n",
       "      <td>12.4800</td>\n",
       "      <td>4.3056</td>\n",
       "      <td>0.290</td>\n",
       "    </tr>\n",
       "    <tr>\n",
       "      <th>2</th>\n",
       "      <td>Bream</td>\n",
       "      <td>340.0</td>\n",
       "      <td>23.9</td>\n",
       "      <td>26.5</td>\n",
       "      <td>31.1</td>\n",
       "      <td>12.3778</td>\n",
       "      <td>4.6961</td>\n",
       "      <td>0.340</td>\n",
       "    </tr>\n",
       "    <tr>\n",
       "      <th>3</th>\n",
       "      <td>Bream</td>\n",
       "      <td>363.0</td>\n",
       "      <td>26.3</td>\n",
       "      <td>29.0</td>\n",
       "      <td>33.5</td>\n",
       "      <td>12.7300</td>\n",
       "      <td>4.4555</td>\n",
       "      <td>0.363</td>\n",
       "    </tr>\n",
       "    <tr>\n",
       "      <th>4</th>\n",
       "      <td>Bream</td>\n",
       "      <td>430.0</td>\n",
       "      <td>26.5</td>\n",
       "      <td>29.0</td>\n",
       "      <td>34.0</td>\n",
       "      <td>12.4440</td>\n",
       "      <td>5.1340</td>\n",
       "      <td>0.430</td>\n",
       "    </tr>\n",
       "  </tbody>\n",
       "</table>\n",
       "</div>"
      ],
      "text/plain": [
       "  Species  Weight  Length1  Length2  Length3   Height   Width  weight_kg\n",
       "0   Bream   242.0     23.2     25.4     30.0  11.5200  4.0200      0.242\n",
       "1   Bream   290.0     24.0     26.3     31.2  12.4800  4.3056      0.290\n",
       "2   Bream   340.0     23.9     26.5     31.1  12.3778  4.6961      0.340\n",
       "3   Bream   363.0     26.3     29.0     33.5  12.7300  4.4555      0.363\n",
       "4   Bream   430.0     26.5     29.0     34.0  12.4440  5.1340      0.430"
      ]
     },
     "execution_count": 9,
     "metadata": {},
     "output_type": "execute_result"
    }
   ],
   "source": [
    "pd_df.rename(columns={\"wt_in_kg\":\"weight_kg\"}, inplace=True)\n",
    "pd_df.head()"
   ]
  },
  {
   "cell_type": "markdown",
   "id": "c43c0ddf-f461-4dfa-823e-aaf05654fed4",
   "metadata": {},
   "source": [
    "**withColumn()**: The withColumn function is used to manipulate a column or to create a new column with the existing column. It is a transformation function, we can also change the datatype of any existing column"
   ]
  },
  {
   "cell_type": "code",
   "execution_count": 10,
   "id": "9492fb90-4f89-4b56-9970-002518a71aa8",
   "metadata": {},
   "outputs": [
    {
     "name": "stdout",
     "output_type": "stream",
     "text": [
      "+-------+------+-------+-------+-------+-------+------+---------+\n",
      "|Species|Weight|Length1|Length2|Length3| Height| Width|weight_kg|\n",
      "+-------+------+-------+-------+-------+-------+------+---------+\n",
      "|  Bream| 242.0|   23.2|   25.4|   30.0|  11.52|  4.02|    0.242|\n",
      "|  Bream| 290.0|   24.0|   26.3|   31.2|  12.48|4.3056|     0.29|\n",
      "|  Bream| 340.0|   23.9|   26.5|   31.1|12.3778|4.6961|     0.34|\n",
      "|  Bream| 363.0|   26.3|   29.0|   33.5|  12.73|4.4555|    0.363|\n",
      "|  Bream| 430.0|   26.5|   29.0|   34.0| 12.444| 5.134|     0.43|\n",
      "+-------+------+-------+-------+-------+-------+------+---------+\n",
      "only showing top 5 rows\n",
      "\n"
     ]
    }
   ],
   "source": [
    "df = df.withColumnRenamed(\"wt_in_kg\", \"weight_kg\")\n",
    "df.show(5)"
   ]
  },
  {
   "cell_type": "code",
   "execution_count": 119,
   "id": "adf8ab73-59ec-49aa-9362-2a578eebe512",
   "metadata": {},
   "outputs": [
    {
     "data": {
      "text/plain": [
       "Index(['species', 'weight', 'length1', 'length2', 'length3', 'height', 'width',\n",
       "       'wt_in_kg'],\n",
       "      dtype='object')"
      ]
     },
     "execution_count": 119,
     "metadata": {},
     "output_type": "execute_result"
    }
   ],
   "source": [
    "# pd_df.columns = pd_df.columns.str.lower()"
   ]
  },
  {
   "cell_type": "code",
   "execution_count": 122,
   "id": "ade260b2-1674-4ca4-9646-3a13139142c4",
   "metadata": {},
   "outputs": [
    {
     "data": {
      "text/plain": [
       "DataFrame[species: string, weight: double, length1: double, length2: double, length3: double, height: double, width: double, weight_kg: double]"
      ]
     },
     "execution_count": 122,
     "metadata": {},
     "output_type": "execute_result"
    }
   ],
   "source": [
    "df.toDF(*[c.lower() for c in df.columns])"
   ]
  },
  {
   "cell_type": "code",
   "execution_count": 131,
   "id": "04e1aed2-78c5-4304-b3d6-7a5bbc607491",
   "metadata": {},
   "outputs": [
    {
     "data": {
      "text/plain": [
       "['Species',\n",
       " 'Weight',\n",
       " 'Length1',\n",
       " 'Length2',\n",
       " 'Length3',\n",
       " 'Height',\n",
       " 'Width',\n",
       " 'weight_kg']"
      ]
     },
     "execution_count": 131,
     "metadata": {},
     "output_type": "execute_result"
    }
   ],
   "source": [
    "df.columns"
   ]
  },
  {
   "cell_type": "code",
   "execution_count": 125,
   "id": "28f86a95-ee8a-4821-b52a-7b23f2ba6193",
   "metadata": {},
   "outputs": [],
   "source": [
    "df = df.toDF(*[c.lower() for c in df.columns])"
   ]
  },
  {
   "cell_type": "code",
   "execution_count": 126,
   "id": "ba7361ee-8a2a-4a2d-b67d-329e5490e34b",
   "metadata": {},
   "outputs": [
    {
     "data": {
      "text/plain": [
       "['species',\n",
       " 'weight',\n",
       " 'length1',\n",
       " 'length2',\n",
       " 'length3',\n",
       " 'height',\n",
       " 'width',\n",
       " 'weight_kg']"
      ]
     },
     "execution_count": 126,
     "metadata": {},
     "output_type": "execute_result"
    }
   ],
   "source": [
    "df.columns"
   ]
  },
  {
   "cell_type": "markdown",
   "id": "d2bb2563-ea28-4ebb-883b-03abf6898600",
   "metadata": {},
   "source": [
    "### Select Columns"
   ]
  },
  {
   "cell_type": "code",
   "execution_count": 33,
   "id": "b6e0de5f-6f22-44cf-983d-f625350fd95e",
   "metadata": {},
   "outputs": [
    {
     "data": {
      "text/html": [
       "<div>\n",
       "<style scoped>\n",
       "    .dataframe tbody tr th:only-of-type {\n",
       "        vertical-align: middle;\n",
       "    }\n",
       "\n",
       "    .dataframe tbody tr th {\n",
       "        vertical-align: top;\n",
       "    }\n",
       "\n",
       "    .dataframe thead th {\n",
       "        text-align: right;\n",
       "    }\n",
       "</style>\n",
       "<table border=\"1\" class=\"dataframe\">\n",
       "  <thead>\n",
       "    <tr style=\"text-align: right;\">\n",
       "      <th></th>\n",
       "      <th>Weight</th>\n",
       "      <th>weight_kg</th>\n",
       "    </tr>\n",
       "  </thead>\n",
       "  <tbody>\n",
       "    <tr>\n",
       "      <th>0</th>\n",
       "      <td>242.0</td>\n",
       "      <td>0.2420</td>\n",
       "    </tr>\n",
       "    <tr>\n",
       "      <th>1</th>\n",
       "      <td>290.0</td>\n",
       "      <td>0.2900</td>\n",
       "    </tr>\n",
       "    <tr>\n",
       "      <th>2</th>\n",
       "      <td>340.0</td>\n",
       "      <td>0.3400</td>\n",
       "    </tr>\n",
       "    <tr>\n",
       "      <th>3</th>\n",
       "      <td>363.0</td>\n",
       "      <td>0.3630</td>\n",
       "    </tr>\n",
       "    <tr>\n",
       "      <th>4</th>\n",
       "      <td>430.0</td>\n",
       "      <td>0.4300</td>\n",
       "    </tr>\n",
       "    <tr>\n",
       "      <th>...</th>\n",
       "      <td>...</td>\n",
       "      <td>...</td>\n",
       "    </tr>\n",
       "    <tr>\n",
       "      <th>154</th>\n",
       "      <td>12.2</td>\n",
       "      <td>0.0122</td>\n",
       "    </tr>\n",
       "    <tr>\n",
       "      <th>155</th>\n",
       "      <td>13.4</td>\n",
       "      <td>0.0134</td>\n",
       "    </tr>\n",
       "    <tr>\n",
       "      <th>156</th>\n",
       "      <td>12.2</td>\n",
       "      <td>0.0122</td>\n",
       "    </tr>\n",
       "    <tr>\n",
       "      <th>157</th>\n",
       "      <td>19.7</td>\n",
       "      <td>0.0197</td>\n",
       "    </tr>\n",
       "    <tr>\n",
       "      <th>158</th>\n",
       "      <td>19.9</td>\n",
       "      <td>0.0199</td>\n",
       "    </tr>\n",
       "  </tbody>\n",
       "</table>\n",
       "<p>159 rows × 2 columns</p>\n",
       "</div>"
      ],
      "text/plain": [
       "     Weight  weight_kg\n",
       "0     242.0     0.2420\n",
       "1     290.0     0.2900\n",
       "2     340.0     0.3400\n",
       "3     363.0     0.3630\n",
       "4     430.0     0.4300\n",
       "..      ...        ...\n",
       "154    12.2     0.0122\n",
       "155    13.4     0.0134\n",
       "156    12.2     0.0122\n",
       "157    19.7     0.0197\n",
       "158    19.9     0.0199\n",
       "\n",
       "[159 rows x 2 columns]"
      ]
     },
     "execution_count": 33,
     "metadata": {},
     "output_type": "execute_result"
    }
   ],
   "source": [
    "pd_df[['Weight', 'weight_kg']]"
   ]
  },
  {
   "cell_type": "code",
   "execution_count": 21,
   "id": "64b2e9d1-0644-4ef6-9310-6e6a10065e80",
   "metadata": {},
   "outputs": [
    {
     "name": "stdout",
     "output_type": "stream",
     "text": [
      "+------+---------+\n",
      "|Weight|weight_kg|\n",
      "+------+---------+\n",
      "| 242.0|    0.242|\n",
      "| 290.0|     0.29|\n",
      "| 340.0|     0.34|\n",
      "| 363.0|    0.363|\n",
      "| 430.0|     0.43|\n",
      "| 450.0|     0.45|\n",
      "| 500.0|      0.5|\n",
      "| 390.0|     0.39|\n",
      "| 450.0|     0.45|\n",
      "| 500.0|      0.5|\n",
      "| 475.0|    0.475|\n",
      "| 500.0|      0.5|\n",
      "| 500.0|      0.5|\n",
      "| 340.0|     0.34|\n",
      "| 600.0|      0.6|\n",
      "| 600.0|      0.6|\n",
      "| 700.0|      0.7|\n",
      "| 700.0|      0.7|\n",
      "| 610.0|     0.61|\n",
      "| 650.0|     0.65|\n",
      "+------+---------+\n",
      "only showing top 20 rows\n",
      "\n"
     ]
    }
   ],
   "source": [
    "df.select(df.Weight, df['weight_kg']).show()"
   ]
  },
  {
   "cell_type": "code",
   "execution_count": 59,
   "id": "d989262b-a020-4aa3-af41-61f49fd023fd",
   "metadata": {},
   "outputs": [
    {
     "name": "stdout",
     "output_type": "stream",
     "text": [
      "+------+---------+\n",
      "|Weight|weight_kg|\n",
      "+------+---------+\n",
      "| 242.0|    0.242|\n",
      "| 290.0|     0.29|\n",
      "| 340.0|     0.34|\n",
      "| 363.0|    0.363|\n",
      "| 430.0|     0.43|\n",
      "| 450.0|     0.45|\n",
      "| 500.0|      0.5|\n",
      "| 390.0|     0.39|\n",
      "| 450.0|     0.45|\n",
      "| 500.0|      0.5|\n",
      "| 475.0|    0.475|\n",
      "| 500.0|      0.5|\n",
      "| 500.0|      0.5|\n",
      "| 340.0|     0.34|\n",
      "| 600.0|      0.6|\n",
      "| 600.0|      0.6|\n",
      "| 700.0|      0.7|\n",
      "| 700.0|      0.7|\n",
      "| 610.0|     0.61|\n",
      "| 650.0|     0.65|\n",
      "+------+---------+\n",
      "only showing top 20 rows\n",
      "\n"
     ]
    }
   ],
   "source": [
    "df.select('Weight', 'weight_kg').show()"
   ]
  },
  {
   "cell_type": "code",
   "execution_count": 20,
   "id": "3fa5c798-2429-430a-a3f9-12dc5320d61d",
   "metadata": {},
   "outputs": [
    {
     "name": "stdout",
     "output_type": "stream",
     "text": [
      "+---------+\n",
      "|kilograms|\n",
      "+---------+\n",
      "|    0.242|\n",
      "|     0.29|\n",
      "|     0.34|\n",
      "|    0.363|\n",
      "|     0.43|\n",
      "|     0.45|\n",
      "|      0.5|\n",
      "|     0.39|\n",
      "|     0.45|\n",
      "|      0.5|\n",
      "|    0.475|\n",
      "|      0.5|\n",
      "|      0.5|\n",
      "|     0.34|\n",
      "|      0.6|\n",
      "|      0.6|\n",
      "|      0.7|\n",
      "|      0.7|\n",
      "|     0.61|\n",
      "|     0.65|\n",
      "+---------+\n",
      "only showing top 20 rows\n",
      "\n"
     ]
    }
   ],
   "source": [
    "# alias a column\n",
    "df.select(df.weight_kg.alias(\"kilograms\")).show()"
   ]
  },
  {
   "cell_type": "markdown",
   "id": "206ef736-fe57-4e47-bc22-9afd7e4821e6",
   "metadata": {},
   "source": [
    "### Operations"
   ]
  },
  {
   "cell_type": "code",
   "execution_count": 55,
   "id": "ffab78a3-6119-475e-a5bf-0f6beef4b4a6",
   "metadata": {},
   "outputs": [
    {
     "data": {
      "text/html": [
       "<div>\n",
       "<style scoped>\n",
       "    .dataframe tbody tr th:only-of-type {\n",
       "        vertical-align: middle;\n",
       "    }\n",
       "\n",
       "    .dataframe tbody tr th {\n",
       "        vertical-align: top;\n",
       "    }\n",
       "\n",
       "    .dataframe thead th {\n",
       "        text-align: right;\n",
       "    }\n",
       "</style>\n",
       "<table border=\"1\" class=\"dataframe\">\n",
       "  <thead>\n",
       "    <tr style=\"text-align: right;\">\n",
       "      <th></th>\n",
       "      <th>Species</th>\n",
       "      <th>Weight</th>\n",
       "      <th>Length1</th>\n",
       "      <th>Length2</th>\n",
       "      <th>Length3</th>\n",
       "      <th>Height</th>\n",
       "      <th>Width</th>\n",
       "      <th>weight_kg</th>\n",
       "    </tr>\n",
       "  </thead>\n",
       "  <tbody>\n",
       "    <tr>\n",
       "      <th>55</th>\n",
       "      <td>Whitefish</td>\n",
       "      <td>270.0</td>\n",
       "      <td>23.6</td>\n",
       "      <td>26.0</td>\n",
       "      <td>28.7</td>\n",
       "      <td>8.3804</td>\n",
       "      <td>4.2476</td>\n",
       "      <td>0.270</td>\n",
       "    </tr>\n",
       "    <tr>\n",
       "      <th>56</th>\n",
       "      <td>Whitefish</td>\n",
       "      <td>270.0</td>\n",
       "      <td>24.1</td>\n",
       "      <td>26.5</td>\n",
       "      <td>29.3</td>\n",
       "      <td>8.1454</td>\n",
       "      <td>4.2485</td>\n",
       "      <td>0.270</td>\n",
       "    </tr>\n",
       "    <tr>\n",
       "      <th>57</th>\n",
       "      <td>Whitefish</td>\n",
       "      <td>306.0</td>\n",
       "      <td>25.6</td>\n",
       "      <td>28.0</td>\n",
       "      <td>30.8</td>\n",
       "      <td>8.7780</td>\n",
       "      <td>4.6816</td>\n",
       "      <td>0.306</td>\n",
       "    </tr>\n",
       "    <tr>\n",
       "      <th>58</th>\n",
       "      <td>Whitefish</td>\n",
       "      <td>540.0</td>\n",
       "      <td>28.5</td>\n",
       "      <td>31.0</td>\n",
       "      <td>34.0</td>\n",
       "      <td>10.7440</td>\n",
       "      <td>6.5620</td>\n",
       "      <td>0.540</td>\n",
       "    </tr>\n",
       "    <tr>\n",
       "      <th>59</th>\n",
       "      <td>Whitefish</td>\n",
       "      <td>800.0</td>\n",
       "      <td>33.7</td>\n",
       "      <td>36.4</td>\n",
       "      <td>39.6</td>\n",
       "      <td>11.7612</td>\n",
       "      <td>6.5736</td>\n",
       "      <td>0.800</td>\n",
       "    </tr>\n",
       "    <tr>\n",
       "      <th>60</th>\n",
       "      <td>Whitefish</td>\n",
       "      <td>1000.0</td>\n",
       "      <td>37.3</td>\n",
       "      <td>40.0</td>\n",
       "      <td>43.5</td>\n",
       "      <td>12.3540</td>\n",
       "      <td>6.5250</td>\n",
       "      <td>1.000</td>\n",
       "    </tr>\n",
       "  </tbody>\n",
       "</table>\n",
       "</div>"
      ],
      "text/plain": [
       "      Species  Weight  Length1  Length2  Length3   Height   Width  weight_kg\n",
       "55  Whitefish   270.0     23.6     26.0     28.7   8.3804  4.2476      0.270\n",
       "56  Whitefish   270.0     24.1     26.5     29.3   8.1454  4.2485      0.270\n",
       "57  Whitefish   306.0     25.6     28.0     30.8   8.7780  4.6816      0.306\n",
       "58  Whitefish   540.0     28.5     31.0     34.0  10.7440  6.5620      0.540\n",
       "59  Whitefish   800.0     33.7     36.4     39.6  11.7612  6.5736      0.800\n",
       "60  Whitefish  1000.0     37.3     40.0     43.5  12.3540  6.5250      1.000"
      ]
     },
     "execution_count": 55,
     "metadata": {},
     "output_type": "execute_result"
    }
   ],
   "source": [
    "pd_df[pd_df['Species'] == 'Whitefish']"
   ]
  },
  {
   "cell_type": "code",
   "execution_count": 57,
   "id": "36370ea5-5191-4901-9e10-59ae27f1f7e1",
   "metadata": {},
   "outputs": [
    {
     "name": "stdout",
     "output_type": "stream",
     "text": [
      "+---------+------+-------+-------+-------+-------+------+---------+\n",
      "|  Species|Weight|Length1|Length2|Length3| Height| Width|weight_kg|\n",
      "+---------+------+-------+-------+-------+-------+------+---------+\n",
      "|Whitefish| 270.0|   23.6|   26.0|   28.7| 8.3804|4.2476|     0.27|\n",
      "|Whitefish| 270.0|   24.1|   26.5|   29.3| 8.1454|4.2485|     0.27|\n",
      "|Whitefish| 306.0|   25.6|   28.0|   30.8|  8.778|4.6816|    0.306|\n",
      "|Whitefish| 540.0|   28.5|   31.0|   34.0| 10.744| 6.562|     0.54|\n",
      "|Whitefish| 800.0|   33.7|   36.4|   39.6|11.7612|6.5736|      0.8|\n",
      "|Whitefish|1000.0|   37.3|   40.0|   43.5| 12.354| 6.525|      1.0|\n",
      "+---------+------+-------+-------+-------+-------+------+---------+\n",
      "\n"
     ]
    }
   ],
   "source": [
    "df.filter(df['Species'] == 'Whitefish').show()"
   ]
  },
  {
   "cell_type": "code",
   "execution_count": 149,
   "id": "6e399aca-17bd-47e4-a896-8895841411b9",
   "metadata": {},
   "outputs": [
    {
     "name": "stdout",
     "output_type": "stream",
     "text": [
      "+---------+------+-------+-------+-------+-------+------+---------+\n",
      "|  Species|Weight|Length1|Length2|Length3| Height| Width|weight_kg|\n",
      "+---------+------+-------+-------+-------+-------+------+---------+\n",
      "|Whitefish| 270.0|   23.6|   26.0|   28.7| 8.3804|4.2476|     0.27|\n",
      "|Whitefish| 270.0|   24.1|   26.5|   29.3| 8.1454|4.2485|     0.27|\n",
      "|Whitefish| 306.0|   25.6|   28.0|   30.8|  8.778|4.6816|    0.306|\n",
      "|Whitefish| 540.0|   28.5|   31.0|   34.0| 10.744| 6.562|     0.54|\n",
      "|Whitefish| 800.0|   33.7|   36.4|   39.6|11.7612|6.5736|      0.8|\n",
      "|Whitefish|1000.0|   37.3|   40.0|   43.5| 12.354| 6.525|      1.0|\n",
      "+---------+------+-------+-------+-------+-------+------+---------+\n",
      "\n"
     ]
    }
   ],
   "source": [
    "df[df.Species == 'Whitefish'].show()"
   ]
  },
  {
   "cell_type": "code",
   "execution_count": 137,
   "id": "87fccc92-6a3a-4610-894a-e6f4a295f86e",
   "metadata": {},
   "outputs": [
    {
     "name": "stdout",
     "output_type": "stream",
     "text": [
      "+-------+------+-------+-------+-------+------+-----+---------+\n",
      "|Species|Weight|Length1|Length2|Length3|Height|Width|weight_kg|\n",
      "+-------+------+-------+-------+-------+------+-----+---------+\n",
      "+-------+------+-------+-------+-------+------+-----+---------+\n",
      "\n"
     ]
    }
   ],
   "source": [
    "df.filter(df.Length1.isNull()).show()"
   ]
  },
  {
   "cell_type": "code",
   "execution_count": 114,
   "id": "d08fa2c2-5639-40bd-af79-ff93fc6f0b4c",
   "metadata": {},
   "outputs": [
    {
     "data": {
      "text/html": [
       "<div>\n",
       "<style scoped>\n",
       "    .dataframe tbody tr th:only-of-type {\n",
       "        vertical-align: middle;\n",
       "    }\n",
       "\n",
       "    .dataframe tbody tr th {\n",
       "        vertical-align: top;\n",
       "    }\n",
       "\n",
       "    .dataframe thead th {\n",
       "        text-align: right;\n",
       "    }\n",
       "</style>\n",
       "<table border=\"1\" class=\"dataframe\">\n",
       "  <thead>\n",
       "    <tr style=\"text-align: right;\">\n",
       "      <th></th>\n",
       "      <th>Species</th>\n",
       "      <th>Weight</th>\n",
       "      <th>Length2</th>\n",
       "      <th>Length3</th>\n",
       "      <th>Height</th>\n",
       "      <th>Width</th>\n",
       "      <th>wt_in_kg</th>\n",
       "    </tr>\n",
       "  </thead>\n",
       "  <tbody>\n",
       "    <tr>\n",
       "      <th>0</th>\n",
       "      <td>Bream</td>\n",
       "      <td>242</td>\n",
       "      <td>25.4</td>\n",
       "      <td>30.0</td>\n",
       "      <td>11.5200</td>\n",
       "      <td>4.0200</td>\n",
       "      <td>0.242</td>\n",
       "    </tr>\n",
       "    <tr>\n",
       "      <th>1</th>\n",
       "      <td>Bream</td>\n",
       "      <td>290</td>\n",
       "      <td>26.3</td>\n",
       "      <td>31.2</td>\n",
       "      <td>12.4800</td>\n",
       "      <td>4.3056</td>\n",
       "      <td>0.290</td>\n",
       "    </tr>\n",
       "    <tr>\n",
       "      <th>2</th>\n",
       "      <td>Bream</td>\n",
       "      <td>340</td>\n",
       "      <td>26.5</td>\n",
       "      <td>31.1</td>\n",
       "      <td>12.3778</td>\n",
       "      <td>4.6961</td>\n",
       "      <td>0.340</td>\n",
       "    </tr>\n",
       "    <tr>\n",
       "      <th>3</th>\n",
       "      <td>Bream</td>\n",
       "      <td>363</td>\n",
       "      <td>29.0</td>\n",
       "      <td>33.5</td>\n",
       "      <td>12.7300</td>\n",
       "      <td>4.4555</td>\n",
       "      <td>0.363</td>\n",
       "    </tr>\n",
       "    <tr>\n",
       "      <th>4</th>\n",
       "      <td>Bream</td>\n",
       "      <td>430</td>\n",
       "      <td>29.0</td>\n",
       "      <td>34.0</td>\n",
       "      <td>12.4440</td>\n",
       "      <td>5.1340</td>\n",
       "      <td>0.430</td>\n",
       "    </tr>\n",
       "  </tbody>\n",
       "</table>\n",
       "</div>"
      ],
      "text/plain": [
       "  Species  Weight  Length2  Length3   Height   Width  wt_in_kg\n",
       "0   Bream     242     25.4     30.0  11.5200  4.0200     0.242\n",
       "1   Bream     290     26.3     31.2  12.4800  4.3056     0.290\n",
       "2   Bream     340     26.5     31.1  12.3778  4.6961     0.340\n",
       "3   Bream     363     29.0     33.5  12.7300  4.4555     0.363\n",
       "4   Bream     430     29.0     34.0  12.4440  5.1340     0.430"
      ]
     },
     "execution_count": 114,
     "metadata": {},
     "output_type": "execute_result"
    }
   ],
   "source": [
    "pd_df.drop(['Length1'], axis=1).head()"
   ]
  },
  {
   "cell_type": "code",
   "execution_count": 116,
   "id": "e3e5a275-1fe4-49c0-8476-e6551a9543b8",
   "metadata": {},
   "outputs": [
    {
     "data": {
      "text/plain": [
       "DataFrame[Species: string, Weight: double, Length2: double, Length3: double, Height: double, Width: double, weight_kg: double]"
      ]
     },
     "execution_count": 116,
     "metadata": {},
     "output_type": "execute_result"
    }
   ],
   "source": [
    "df.drop('Length1')"
   ]
  },
  {
   "cell_type": "code",
   "execution_count": 117,
   "id": "6f2b0560-c663-4ebf-8aad-9606cc4419ff",
   "metadata": {},
   "outputs": [
    {
     "name": "stdout",
     "output_type": "stream",
     "text": [
      "+-------+------+-------+-------+-------+-------+------+---------+\n",
      "|Species|Weight|Length1|Length2|Length3| Height| Width|weight_kg|\n",
      "+-------+------+-------+-------+-------+-------+------+---------+\n",
      "|  Bream| 242.0|   23.2|   25.4|   30.0|  11.52|  4.02|    0.242|\n",
      "|  Bream| 290.0|   24.0|   26.3|   31.2|  12.48|4.3056|     0.29|\n",
      "|  Bream| 340.0|   23.9|   26.5|   31.1|12.3778|4.6961|     0.34|\n",
      "|  Bream| 363.0|   26.3|   29.0|   33.5|  12.73|4.4555|    0.363|\n",
      "|  Bream| 430.0|   26.5|   29.0|   34.0| 12.444| 5.134|     0.43|\n",
      "+-------+------+-------+-------+-------+-------+------+---------+\n",
      "only showing top 5 rows\n",
      "\n"
     ]
    }
   ],
   "source": [
    "df.show(5)"
   ]
  },
  {
   "cell_type": "code",
   "execution_count": 118,
   "id": "4670dda3-4a50-4968-8663-e8e3b50f1ef7",
   "metadata": {},
   "outputs": [
    {
     "data": {
      "text/plain": [
       "DataFrame[Species: string, Weight: double, Height: double, Width: double, weight_kg: double]"
      ]
     },
     "execution_count": 118,
     "metadata": {},
     "output_type": "execute_result"
    }
   ],
   "source": [
    "# Use asterisk (*) before the list to apply drop() to multiple columns\n",
    "df.drop(*['Length1', 'Length2', 'Length3'])"
   ]
  },
  {
   "cell_type": "code",
   "execution_count": 143,
   "id": "c9dd48d3-5221-476f-8294-9a17a7eebd3e",
   "metadata": {},
   "outputs": [
    {
     "data": {
      "text/plain": [
       "Species     0\n",
       "Weight      0\n",
       "Length1     0\n",
       "Length2     0\n",
       "Length3     0\n",
       "Height      0\n",
       "Width       0\n",
       "wt_in_kg    0\n",
       "dtype: int64"
      ]
     },
     "execution_count": 143,
     "metadata": {},
     "output_type": "execute_result"
    }
   ],
   "source": [
    "pd_df.isnull().sum()"
   ]
  },
  {
   "cell_type": "code",
   "execution_count": 144,
   "id": "1726932d-b3d9-406a-9436-5689e516c34e",
   "metadata": {},
   "outputs": [
    {
     "name": "stdout",
     "output_type": "stream",
     "text": [
      "+-------+------+-------+-------+-------+------+-----+---------+\n",
      "|Species|Weight|Length1|Length2|Length3|Height|Width|weight_kg|\n",
      "+-------+------+-------+-------+-------+------+-----+---------+\n",
      "|      0|     0|      0|      0|      0|     0|    0|        0|\n",
      "+-------+------+-------+-------+-------+------+-----+---------+\n",
      "\n"
     ]
    }
   ],
   "source": [
    "import pyspark.sql.functions as f\n",
    "\n",
    "df.agg(*[f.count(f.when(f.isnull(c), c)).alias(c) for c in df.columns]).show()"
   ]
  },
  {
   "cell_type": "code",
   "execution_count": null,
   "id": "20023e83-619f-43b9-929f-b05609848e0e",
   "metadata": {},
   "outputs": [],
   "source": []
  },
  {
   "cell_type": "code",
   "execution_count": null,
   "id": "0bb00d38-662f-4c03-9d90-fc62db4d8b51",
   "metadata": {},
   "outputs": [],
   "source": []
  },
  {
   "cell_type": "markdown",
   "id": "ce6a73c2-9fb5-4675-8d29-7ae132c85266",
   "metadata": {},
   "source": [
    "### Groupby"
   ]
  },
  {
   "cell_type": "code",
   "execution_count": 54,
   "id": "bfc60b67-d71b-4426-983a-d7e0b21e16ef",
   "metadata": {},
   "outputs": [
    {
     "data": {
      "text/plain": [
       "Perch        56\n",
       "Bream        35\n",
       "Roach        20\n",
       "Pike         17\n",
       "Smelt        14\n",
       "Parkki       11\n",
       "Whitefish     6\n",
       "Name: Species, dtype: int64"
      ]
     },
     "execution_count": 54,
     "metadata": {},
     "output_type": "execute_result"
    }
   ],
   "source": [
    "pd_df['Species'].value_counts()"
   ]
  },
  {
   "cell_type": "code",
   "execution_count": 81,
   "id": "d0a9ce1f-7b43-42a7-a702-e12d41fbc6ca",
   "metadata": {},
   "outputs": [
    {
     "name": "stdout",
     "output_type": "stream",
     "text": [
      "+---------+-----+\n",
      "|  Species|count|\n",
      "+---------+-----+\n",
      "|    Roach|   20|\n",
      "|    Smelt|   14|\n",
      "|   Parkki|   11|\n",
      "|Whitefish|    6|\n",
      "|     Pike|   17|\n",
      "|    Bream|   35|\n",
      "|    Perch|   56|\n",
      "+---------+-----+\n",
      "\n"
     ]
    }
   ],
   "source": [
    "df.groupBy('Species').count().show()"
   ]
  },
  {
   "cell_type": "code",
   "execution_count": 86,
   "id": "2e73823f-61ad-478b-afac-7e23d99c4f8c",
   "metadata": {},
   "outputs": [
    {
     "name": "stdout",
     "output_type": "stream",
     "text": [
      "+---------+------------------+------------------+------------------+------------------+------------------+------------------+------------------+\n",
      "|  Species|       sum(Weight)|      sum(Length1)|      sum(Length2)|      sum(Length3)|       sum(Height)|        sum(Width)|    sum(weight_kg)|\n",
      "+---------+------------------+------------------+------------------+------------------+------------------+------------------+------------------+\n",
      "|    Roach|            3041.0|412.90000000000003|445.49999999999994|             499.4|          133.8959| 73.15700000000001|             3.041|\n",
      "|    Smelt|156.50000000000003|             157.6|             166.9|             182.5|30.931199999999997|18.761300000000002|            0.1565|\n",
      "|   Parkki|            1703.0|             206.0|             223.8|250.70000000000002|           98.5867|           35.4281|             1.703|\n",
      "|Whitefish|            3186.0|             172.8|             187.9|             205.9|60.163000000000004|32.838300000000004|             3.186|\n",
      "|     Pike|           12218.0|             722.1|             773.2|             828.2|          131.1341|           86.4685|12.218000000000002|\n",
      "|    Bream|           21624.0|1060.6999999999998|            1158.8|1342.3999999999999| 531.4123999999999|189.96649999999997|            21.624|\n",
      "|    Perch|           21405.4|1441.1999999999996|            1562.0|            1656.0| 440.2647000000001|265.76050000000004|           21.4054|\n",
      "+---------+------------------+------------------+------------------+------------------+------------------+------------------+------------------+\n",
      "\n"
     ]
    }
   ],
   "source": [
    "df.groupBy('Species').sum().show()"
   ]
  },
  {
   "cell_type": "code",
   "execution_count": 89,
   "id": "2095be7c-068d-4cf4-9c36-62807a4318c9",
   "metadata": {},
   "outputs": [
    {
     "name": "stdout",
     "output_type": "stream",
     "text": [
      "+---------+------------------+------------------+------------------+------------------+------------------+------------------+--------------------+\n",
      "|  Species|       avg(Weight)|      avg(Length1)|      avg(Length2)|      avg(Length3)|       avg(Height)|        avg(Width)|      avg(weight_kg)|\n",
      "+---------+------------------+------------------+------------------+------------------+------------------+------------------+--------------------+\n",
      "|    Roach|            152.05|20.645000000000003|            22.275|             24.97| 6.694795000000001|3.6578500000000007|             0.15205|\n",
      "|    Smelt| 11.17857142857143|11.257142857142856|11.921428571428573|13.035714285714286|2.2093714285714285|1.3400928571428572|0.011178571428571428|\n",
      "|   Parkki| 154.8181818181818|18.727272727272727|20.345454545454547|22.790909090909093| 8.962427272727272|3.2207363636363637| 0.15481818181818183|\n",
      "|Whitefish|             531.0|              28.8|31.316666666666666| 34.31666666666667|10.027166666666668| 5.473050000000001|               0.531|\n",
      "|     Pike| 718.7058823529412|42.476470588235294| 45.48235294117647| 48.71764705882353| 7.713770588235294| 5.086382352941177|  0.7187058823529413|\n",
      "|    Bream| 617.8285714285714| 30.30571428571428| 33.10857142857143| 38.35428571428571|15.183211428571427| 5.427614285714284|  0.6178285714285714|\n",
      "|    Perch|382.23928571428576|25.735714285714277|27.892857142857142|29.571428571428573| 7.861869642857145| 4.745723214285715|  0.3822392857142857|\n",
      "+---------+------------------+------------------+------------------+------------------+------------------+------------------+--------------------+\n",
      "\n"
     ]
    }
   ],
   "source": [
    "df.groupBy('Species').mean().show()"
   ]
  },
  {
   "cell_type": "code",
   "execution_count": 150,
   "id": "a38a3546-9d3c-487c-9550-6bc1727134a9",
   "metadata": {},
   "outputs": [
    {
     "name": "stdout",
     "output_type": "stream",
     "text": [
      "+---------+------------------+------------------+------------------+\n",
      "|  Species|       avg(Weight)|       avg(Height)|        avg(Width)|\n",
      "+---------+------------------+------------------+------------------+\n",
      "|    Roach|            152.05| 6.694795000000001|3.6578500000000007|\n",
      "|    Smelt| 11.17857142857143|2.2093714285714285|1.3400928571428572|\n",
      "|   Parkki| 154.8181818181818| 8.962427272727272|3.2207363636363637|\n",
      "|Whitefish|             531.0|10.027166666666668| 5.473050000000001|\n",
      "|     Pike| 718.7058823529412| 7.713770588235294| 5.086382352941177|\n",
      "|    Bream| 617.8285714285714|15.183211428571427| 5.427614285714284|\n",
      "|    Perch|382.23928571428576| 7.861869642857145| 4.745723214285715|\n",
      "+---------+------------------+------------------+------------------+\n",
      "\n"
     ]
    }
   ],
   "source": [
    "df.groupBy('Species').mean('Weight', 'Height', 'Width').show()"
   ]
  },
  {
   "cell_type": "code",
   "execution_count": 90,
   "id": "ba4746e1-ab33-4eaa-8a57-89b9fe3b3022",
   "metadata": {},
   "outputs": [
    {
     "name": "stdout",
     "output_type": "stream",
     "text": [
      "+---------+-----------+------------+------------+------------+-----------+----------+--------------------+\n",
      "|  Species|min(Weight)|min(Length1)|min(Length2)|min(Length3)|min(Height)|min(Width)|      min(weight_kg)|\n",
      "+---------+-----------+------------+------------+------------+-----------+----------+--------------------+\n",
      "|    Roach|        0.0|        12.9|        14.1|        16.2|     4.1472|     2.268|                 0.0|\n",
      "|    Smelt|        6.7|         9.3|         9.8|        10.8|     1.7284|    1.0476|              0.0067|\n",
      "|   Parkki|       55.0|        13.5|        14.7|        16.5|     6.5772|    2.3142|               0.055|\n",
      "|Whitefish|      270.0|        23.6|        26.0|        28.7|     8.1454|    4.2476|                0.27|\n",
      "|     Pike|      200.0|        30.0|        32.3|        34.8|      5.568|    3.3756|                 0.2|\n",
      "|    Bream|      242.0|        23.2|        25.4|        30.0|      11.52|      4.02|               0.242|\n",
      "|    Perch|        5.9|         7.5|         8.4|         8.8|      2.112|     1.408|0.005900000000000001|\n",
      "+---------+-----------+------------+------------+------------+-----------+----------+--------------------+\n",
      "\n"
     ]
    }
   ],
   "source": [
    "df.groupBy('Species').min().show()"
   ]
  },
  {
   "cell_type": "code",
   "execution_count": 91,
   "id": "6e73e061-1045-4a90-8491-eb6cea6e9d8a",
   "metadata": {},
   "outputs": [
    {
     "name": "stdout",
     "output_type": "stream",
     "text": [
      "+---------+-----------+------------+------------+------------+-----------+----------+--------------------+\n",
      "|  Species|max(Weight)|max(Length1)|max(Length2)|max(Length3)|max(Height)|max(Width)|      max(weight_kg)|\n",
      "+---------+-----------+------------+------------+------------+-----------+----------+--------------------+\n",
      "|    Roach|      390.0|        29.5|        31.7|        35.0|      9.485|     5.355|                0.39|\n",
      "|    Smelt|       19.9|        13.8|        15.0|        16.2|     2.9322|    2.0672|0.019899999999999998|\n",
      "|   Parkki|      300.0|        24.0|        26.0|        29.0|     11.368|     4.234|                 0.3|\n",
      "|Whitefish|     1000.0|        37.3|        40.0|        43.5|     12.354|    6.5736|                 1.0|\n",
      "|     Pike|     1650.0|        59.0|        63.4|        68.0|     10.812|      7.48|                1.65|\n",
      "|    Bream|     1000.0|        38.0|        41.0|        46.5|     18.957|    6.7497|                 1.0|\n",
      "|    Perch|     1100.0|        41.1|        44.0|        46.6|    12.8002|     8.142|                 1.1|\n",
      "+---------+-----------+------------+------------+------------+-----------+----------+--------------------+\n",
      "\n"
     ]
    }
   ],
   "source": [
    "df.groupBy('Species').max().show()"
   ]
  },
  {
   "cell_type": "markdown",
   "id": "d9569c51-9762-487c-9296-a6b041e3f67f",
   "metadata": {},
   "source": [
    "### orderBy"
   ]
  },
  {
   "cell_type": "code",
   "execution_count": 92,
   "id": "dc798255-4217-40ae-b7c3-af51d3658c4c",
   "metadata": {},
   "outputs": [
    {
     "name": "stdout",
     "output_type": "stream",
     "text": [
      "+-------+------+-------+-------+-------+-------+------+---------+\n",
      "|Species|Weight|Length1|Length2|Length3| Height| Width|weight_kg|\n",
      "+-------+------+-------+-------+-------+-------+------+---------+\n",
      "|  Bream| 242.0|   23.2|   25.4|   30.0|  11.52|  4.02|    0.242|\n",
      "|  Bream| 290.0|   24.0|   26.3|   31.2|  12.48|4.3056|     0.29|\n",
      "|  Bream| 340.0|   23.9|   26.5|   31.1|12.3778|4.6961|     0.34|\n",
      "|  Bream| 363.0|   26.3|   29.0|   33.5|  12.73|4.4555|    0.363|\n",
      "|  Bream| 430.0|   26.5|   29.0|   34.0| 12.444| 5.134|     0.43|\n",
      "|  Bream| 450.0|   26.8|   29.7|   34.7|13.6024|4.9274|     0.45|\n",
      "|  Bream| 500.0|   26.8|   29.7|   34.5|14.1795|5.2785|      0.5|\n",
      "|  Bream| 390.0|   27.6|   30.0|   35.0|  12.67|  4.69|     0.39|\n",
      "|  Bream| 450.0|   27.6|   30.0|   35.1|14.0049|4.8438|     0.45|\n",
      "|  Bream| 500.0|   28.5|   30.7|   36.2|14.2266|4.9594|      0.5|\n",
      "|  Bream| 475.0|   28.4|   31.0|   36.2|14.2628|5.1042|    0.475|\n",
      "|  Bream| 500.0|   28.7|   31.0|   36.2|14.3714|4.8146|      0.5|\n",
      "|  Bream| 500.0|   29.1|   31.5|   36.4|13.7592| 4.368|      0.5|\n",
      "|  Bream| 340.0|   29.5|   32.0|   37.3|13.9129|5.0728|     0.34|\n",
      "|  Bream| 600.0|   29.4|   32.0|   37.2|14.9544|5.1708|      0.6|\n",
      "|  Bream| 600.0|   29.4|   32.0|   37.2| 15.438|  5.58|      0.6|\n",
      "|  Bream| 700.0|   30.4|   33.0|   38.3|14.8604|5.2854|      0.7|\n",
      "|  Bream| 700.0|   30.4|   33.0|   38.5| 14.938|5.1975|      0.7|\n",
      "|  Bream| 610.0|   30.9|   33.5|   38.6| 15.633|5.1338|     0.61|\n",
      "|  Bream| 650.0|   31.0|   33.5|   38.7|14.4738|5.7276|     0.65|\n",
      "+-------+------+-------+-------+-------+-------+------+---------+\n",
      "only showing top 20 rows\n",
      "\n"
     ]
    }
   ],
   "source": [
    "df.orderBy('Species').show()"
   ]
  },
  {
   "cell_type": "code",
   "execution_count": 93,
   "id": "81906e66-b53f-4862-b509-3e1fc79e0576",
   "metadata": {},
   "outputs": [
    {
     "name": "stdout",
     "output_type": "stream",
     "text": [
      "+---------+-----+\n",
      "|  Species|count|\n",
      "+---------+-----+\n",
      "|    Bream|   35|\n",
      "|   Parkki|   11|\n",
      "|    Perch|   56|\n",
      "|     Pike|   17|\n",
      "|    Roach|   20|\n",
      "|    Smelt|   14|\n",
      "|Whitefish|    6|\n",
      "+---------+-----+\n",
      "\n"
     ]
    }
   ],
   "source": [
    "df.groupBy('Species').count().orderBy('Species').show()"
   ]
  },
  {
   "cell_type": "code",
   "execution_count": 95,
   "id": "654d5409-0c8a-4404-9fc7-ef1faf3e0ec6",
   "metadata": {},
   "outputs": [
    {
     "name": "stdout",
     "output_type": "stream",
     "text": [
      "+---------+-----+\n",
      "|  Species|count|\n",
      "+---------+-----+\n",
      "|    Perch|   56|\n",
      "|    Bream|   35|\n",
      "|    Roach|   20|\n",
      "|     Pike|   17|\n",
      "|    Smelt|   14|\n",
      "|   Parkki|   11|\n",
      "|Whitefish|    6|\n",
      "+---------+-----+\n",
      "\n"
     ]
    }
   ],
   "source": [
    "df.groupBy('Species').count().orderBy('count', ascending=False).show()"
   ]
  },
  {
   "cell_type": "markdown",
   "id": "0ca986f8-74fe-48c5-b455-0c25242da1c8",
   "metadata": {},
   "source": [
    "### Text processing"
   ]
  },
  {
   "cell_type": "code",
   "execution_count": 97,
   "id": "e9e7ed2a-444b-4cba-b784-32b96f9a35b4",
   "metadata": {},
   "outputs": [],
   "source": [
    "from pyspark.sql.functions import split"
   ]
  },
  {
   "cell_type": "code",
   "execution_count": 100,
   "id": "b1be8523-b8e4-4d4b-8852-173f08f1d5ff",
   "metadata": {},
   "outputs": [
    {
     "name": "stdout",
     "output_type": "stream",
     "text": [
      "+------------+-----+\n",
      "|        text|count|\n",
      "+------------+-----+\n",
      "|    [P, rch]|   56|\n",
      "|   [Br, , m]|   35|\n",
      "|    [Ro, ch]|   20|\n",
      "|     [Pik, ]|   17|\n",
      "|    [Sm, lt]|   14|\n",
      "|   [P, rkki]|   11|\n",
      "|[Whit, fish]|    6|\n",
      "+------------+-----+\n",
      "\n"
     ]
    }
   ],
   "source": [
    "df.withColumn('text', split(df['Species'], \"e|a\")).groupby('text').count().orderBy('count', ascending=False).show()"
   ]
  },
  {
   "cell_type": "markdown",
   "id": "28d6e4cf-a145-4818-ae18-240acd36e02e",
   "metadata": {},
   "source": [
    "### If-Then Conditionals / When"
   ]
  },
  {
   "cell_type": "code",
   "execution_count": 101,
   "id": "63847bc1-e5d1-413d-b7da-651a68dfec68",
   "metadata": {},
   "outputs": [],
   "source": [
    "from pyspark.sql.functions import when"
   ]
  },
  {
   "cell_type": "code",
   "execution_count": 103,
   "id": "f937e538-c133-4c92-818c-1f5940334cef",
   "metadata": {},
   "outputs": [
    {
     "name": "stdout",
     "output_type": "stream",
     "text": [
      "+-------+------+-------+-------+-------+-------+------+---------+\n",
      "|Species|Weight|Length1|Length2|Length3| Height| Width|weight_kg|\n",
      "+-------+------+-------+-------+-------+-------+------+---------+\n",
      "|  Bream| 242.0|   23.2|   25.4|   30.0|  11.52|  4.02|    0.242|\n",
      "|  Bream| 290.0|   24.0|   26.3|   31.2|  12.48|4.3056|     0.29|\n",
      "|  Bream| 340.0|   23.9|   26.5|   31.1|12.3778|4.6961|     0.34|\n",
      "|  Bream| 363.0|   26.3|   29.0|   33.5|  12.73|4.4555|    0.363|\n",
      "|  Bream| 430.0|   26.5|   29.0|   34.0| 12.444| 5.134|     0.43|\n",
      "+-------+------+-------+-------+-------+-------+------+---------+\n",
      "only showing top 5 rows\n",
      "\n"
     ]
    }
   ],
   "source": [
    "df.show(5)"
   ]
  },
  {
   "cell_type": "code",
   "execution_count": 107,
   "id": "1dbce276-474a-4ec0-aaf8-9a722a7a7ef5",
   "metadata": {},
   "outputs": [
    {
     "name": "stdout",
     "output_type": "stream",
     "text": [
      "+------+---------------------------------------+\n",
      "| Width|CASE WHEN (Weight > 500) THEN Heavy END|\n",
      "+------+---------------------------------------+\n",
      "|  4.02|                                   null|\n",
      "|4.3056|                                   null|\n",
      "|4.6961|                                   null|\n",
      "|4.4555|                                   null|\n",
      "| 5.134|                                   null|\n",
      "|4.9274|                                   null|\n",
      "|5.2785|                                   null|\n",
      "|  4.69|                                   null|\n",
      "|4.8438|                                   null|\n",
      "|4.9594|                                   null|\n",
      "|5.1042|                                   null|\n",
      "|4.8146|                                   null|\n",
      "| 4.368|                                   null|\n",
      "|5.0728|                                   null|\n",
      "|5.1708|                                  Heavy|\n",
      "|  5.58|                                  Heavy|\n",
      "|5.2854|                                  Heavy|\n",
      "|5.1975|                                  Heavy|\n",
      "|5.1338|                                  Heavy|\n",
      "|5.7276|                                  Heavy|\n",
      "+------+---------------------------------------+\n",
      "only showing top 20 rows\n",
      "\n"
     ]
    }
   ],
   "source": [
    "df.select('Width', when(df.Weight > 500, \"Heavy\")).show()"
   ]
  },
  {
   "cell_type": "code",
   "execution_count": 104,
   "id": "8eb7e80b-df28-4f2a-8e51-00f8e7d0e021",
   "metadata": {},
   "outputs": [
    {
     "name": "stdout",
     "output_type": "stream",
     "text": [
      "+------+-----+\n",
      "|Weight|count|\n",
      "+------+-----+\n",
      "| 300.0|    6|\n",
      "| 700.0|    5|\n",
      "| 120.0|    5|\n",
      "|1000.0|    5|\n",
      "| 500.0|    5|\n",
      "| 150.0|    4|\n",
      "| 145.0|    4|\n",
      "| 130.0|    3|\n",
      "| 110.0|    3|\n",
      "| 200.0|    3|\n",
      "| 270.0|    2|\n",
      "| 685.0|    2|\n",
      "| 650.0|    2|\n",
      "|  78.0|    2|\n",
      "| 250.0|    2|\n",
      "|  85.0|    2|\n",
      "|1100.0|    2|\n",
      "| 430.0|    2|\n",
      "| 600.0|    2|\n",
      "| 140.0|    2|\n",
      "+------+-----+\n",
      "only showing top 20 rows\n",
      "\n"
     ]
    }
   ],
   "source": [
    "df.groupBy('Weight').count().orderBy('count', ascending=False).show()"
   ]
  },
  {
   "cell_type": "markdown",
   "id": "cd45612a-3f20-4630-a19f-e106c12926c8",
   "metadata": {},
   "source": [
    "### Window and multiple aggregations"
   ]
  },
  {
   "cell_type": "code",
   "execution_count": 159,
   "id": "d71b21a7-f92b-4c2a-818c-fefdda25baba",
   "metadata": {},
   "outputs": [
    {
     "name": "stdout",
     "output_type": "stream",
     "text": [
      "+---------+-----+-----+-----+-----+\n",
      "|  species|  avg|  sum|  min|  max|\n",
      "+---------+-----+-----+-----+-----+\n",
      "|    Bream|242.0|242.0|242.0|242.0|\n",
      "|   Parkki| 55.0| 55.0| 55.0| 55.0|\n",
      "|    Perch|  5.9|  5.9|  5.9|  5.9|\n",
      "|     Pike|200.0|200.0|200.0|200.0|\n",
      "|    Roach|  0.0|  0.0|  0.0|  0.0|\n",
      "|    Smelt|  6.7|  6.7|  6.7|  6.7|\n",
      "|Whitefish|270.0|540.0|270.0|270.0|\n",
      "+---------+-----+-----+-----+-----+\n",
      "\n"
     ]
    }
   ],
   "source": [
    "from pyspark.sql.functions import col,avg,sum,min,max,row_number\n",
    "from pyspark.sql import Window\n",
    "\n",
    "windowSpecAgg = Window.partitionBy(\"Species\").orderBy('Weight')\n",
    "\n",
    "df.withColumn(\"row\",row_number().over(windowSpecAgg)\n",
    "             ).withColumn(\"avg\", avg(col(\"Weight\")).over(windowSpecAgg)\n",
    "                         ).withColumn(\"sum\", sum(col(\"Weight\")).over(windowSpecAgg)\n",
    "                                     ).withColumn(\"min\", min(col(\"Weight\")).over(windowSpecAgg)\n",
    "                                                 ).withColumn(\"max\", max(col(\"Weight\")).over(windowSpecAgg)\n",
    "                                                             ).where(col(\"row\")==1).select(\"species\",\"avg\",\"sum\",\"min\",\"max\").show()"
   ]
  },
  {
   "cell_type": "markdown",
   "id": "24934a10-507c-4854-a92a-673cce31b7f8",
   "metadata": {},
   "source": [
    "### Distinct counts"
   ]
  },
  {
   "cell_type": "code",
   "execution_count": 11,
   "id": "c255cb99-0f90-46c5-b710-43c3b105580f",
   "metadata": {},
   "outputs": [
    {
     "data": {
      "text/plain": [
       "7"
      ]
     },
     "execution_count": 11,
     "metadata": {},
     "output_type": "execute_result"
    }
   ],
   "source": [
    "pd_df['Species'].nunique()"
   ]
  },
  {
   "cell_type": "code",
   "execution_count": 12,
   "id": "8f11ec0a-132d-4dfa-b223-b17a5efb2abd",
   "metadata": {},
   "outputs": [
    {
     "ename": "TypeError",
     "evalue": "'Column' object is not callable",
     "output_type": "error",
     "traceback": [
      "\u001b[0;31m---------------------------------------------------------------------------\u001b[0m",
      "\u001b[0;31mTypeError\u001b[0m                                 Traceback (most recent call last)",
      "\u001b[0;32m<ipython-input-12-0fcf97a176e9>\u001b[0m in \u001b[0;36m<module>\u001b[0;34m\u001b[0m\n\u001b[0;32m----> 1\u001b[0;31m \u001b[0mdf\u001b[0m\u001b[0;34m[\u001b[0m\u001b[0;34m'Species'\u001b[0m\u001b[0;34m]\u001b[0m\u001b[0;34m.\u001b[0m\u001b[0mdistinct\u001b[0m\u001b[0;34m(\u001b[0m\u001b[0;34m)\u001b[0m\u001b[0;34m.\u001b[0m\u001b[0mcount\u001b[0m\u001b[0;34m(\u001b[0m\u001b[0;34m)\u001b[0m\u001b[0;34m\u001b[0m\u001b[0;34m\u001b[0m\u001b[0m\n\u001b[0m",
      "\u001b[0;31mTypeError\u001b[0m: 'Column' object is not callable"
     ]
    }
   ],
   "source": [
    "df['Species'].distinct().count()"
   ]
  },
  {
   "cell_type": "code",
   "execution_count": 13,
   "id": "77e33887-dd99-48de-b43f-0ccbedc9e431",
   "metadata": {},
   "outputs": [
    {
     "data": {
      "text/plain": [
       "7"
      ]
     },
     "execution_count": 13,
     "metadata": {},
     "output_type": "execute_result"
    }
   ],
   "source": [
    "df.select('Species').distinct().count()"
   ]
  },
  {
   "cell_type": "code",
   "execution_count": null,
   "id": "3784488a-05f6-4dc1-9301-765afdc4b24e",
   "metadata": {},
   "outputs": [],
   "source": []
  },
  {
   "cell_type": "markdown",
   "id": "adbbf255-fcfd-4df3-9e60-bd472d233269",
   "metadata": {},
   "source": [
    "### Save file"
   ]
  },
  {
   "cell_type": "code",
   "execution_count": 49,
   "id": "ec44b4e0-8b4c-4b9f-961d-d3bd6599e194",
   "metadata": {},
   "outputs": [],
   "source": [
    "pd_df.to_parquet('pandas_to_parquet.parquet')"
   ]
  },
  {
   "cell_type": "code",
   "execution_count": 50,
   "id": "da5ed1fd-adf6-46f0-87c7-087ea70b3fc2",
   "metadata": {},
   "outputs": [],
   "source": [
    "df.write.save('spark_to_parquet', format='parquet')"
   ]
  },
  {
   "cell_type": "code",
   "execution_count": 51,
   "id": "d136538e-175e-4a76-926c-e99b502693fd",
   "metadata": {},
   "outputs": [],
   "source": [
    "pd_df.to_csv('pandas_to_csv.cvs', index=False)"
   ]
  },
  {
   "cell_type": "code",
   "execution_count": 52,
   "id": "55731ccd-8e36-4fbe-996f-7dd3f71d33d0",
   "metadata": {},
   "outputs": [],
   "source": [
    "df.write.option(\"header\", True).csv(\"spark_to_csv\")"
   ]
  },
  {
   "cell_type": "markdown",
   "id": "ac1b358b-b891-4897-b93e-4f5a6955de84",
   "metadata": {},
   "source": [
    "# Resources\n",
    "\n",
    "- [Fish market](https://www.kaggle.com/datasets/aungpyaeap/fish-market)\n",
    "- [Essential PySpark DataFrame Column Operations that Data Engineers Should Know](https://www.analyticsvidhya.com/blog/2021/09/essential-pyspark-dataframe-column-operations-that-data-engineers-should-know/)\n",
    "- [Know About Apache Spark Using PySpark for Data Engineering](https://www.analyticsvidhya.com/blog/2021/07/know-about-apache-spark-using-pyspark-for-data-engineering/)\n",
    "- [9 most useful functions for PySpark DataFrame](https://www.analyticsvidhya.com/blog/2021/05/9-most-useful-functions-for-pyspark-dataframe/)\n",
    "- [Hands-On Tutorial to Analyze Data using Spark SQL](https://www.analyticsvidhya.com/blog/2020/02/hands-on-tutorial-spark-sql-analyze-data/)\n",
    "- [A Comprehensive Guide to PySpark RDD Operations](https://www.analyticsvidhya.com/blog/2021/10/a-comprehensive-guide-to-pyspark-rdd-operations/)\n",
    "- [A Comprehensive Guide to Apache Spark RDD and PySpark](https://www.analyticsvidhya.com/blog/2021/10/a-comprehensive-guide-to-apache-spark-rdd-and-pyspark/#h2_15)\n",
    "- [Want to Build Machine Learning Pipelines? A Quick Introduction using PySpark](https://www.analyticsvidhya.com/blog/2019/11/build-machine-learning-pipelines-pyspark/)"
   ]
  }
 ],
 "metadata": {
  "kernelspec": {
   "display_name": "Python 3",
   "language": "python",
   "name": "python3"
  },
  "language_info": {
   "codemirror_mode": {
    "name": "ipython",
    "version": 3
   },
   "file_extension": ".py",
   "mimetype": "text/x-python",
   "name": "python",
   "nbconvert_exporter": "python",
   "pygments_lexer": "ipython3",
   "version": "3.8.8"
  }
 },
 "nbformat": 4,
 "nbformat_minor": 5
}
