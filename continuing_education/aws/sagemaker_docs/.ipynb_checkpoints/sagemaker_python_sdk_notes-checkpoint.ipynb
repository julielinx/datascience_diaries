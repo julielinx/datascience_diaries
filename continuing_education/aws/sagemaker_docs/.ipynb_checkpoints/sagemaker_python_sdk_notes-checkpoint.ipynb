{
 "cells": [
  {
   "cell_type": "markdown",
   "id": "80ddd62c-3aa4-42e6-992d-075a1ab57345",
   "metadata": {},
   "source": [
    "Your training script must be a Python 2.7 or 3.6 compatible source file."
   ]
  },
  {
   "cell_type": "markdown",
   "id": "ce1768fb-8963-4434-83c1-e3d594a8ed0c",
   "metadata": {},
   "source": [
    "- **Estimators**: Encapsulate training on SageMaker.\n",
    "- **Models**: Encapsulate built ML models.\n",
    "- **Predictors**: Provide real-time inference and transformation using Python data-types against a SageMaker endpoint.\n",
    "- **Session**: Provides a collection of methods for working with SageMaker resources.\n",
    "- **Transformers**: Encapsulate batch transform jobs for inference on SageMaker\n",
    "- **Processors**: Encapsulate running processing jobs for data processing on SageMaker"
   ]
  },
  {
   "cell_type": "markdown",
   "id": "84e639fc-04a1-4bec-b780-a960b77de292",
   "metadata": {},
   "source": [
    "## Train a Model\n",
    "\n",
    "1. Prepare a training script\n",
    "2. Create an estimator\n",
    "3. Call the fit method of the estimator\n",
    "\n",
    "#### Prepare a training script\n",
    "\n",
    "Environment variables include the following:\n",
    "\n",
    "- `SM_MODEL_DIR`: A string that represents the path where the training job writes the model artifacts to. After training, artifacts in this directory are uploaded to S3 for model hosting.\n",
    "- `SM_NUM_GPUS`: An integer representing the number of GPUs available to the host.\n",
    "- `SM_CHANNEL_XXXX`: A string that represents the path to the directory that contains the input data for the specified channel. For example, if you specify two input channels in the MXNet estimator’s fit call, named ‘train’ and ‘test’, the environment variables SM_CHANNEL_TRAIN and SM_CHANNEL_TEST are set.\n",
    "- `SM_HPS`: A json dump of the hyperparameters preserving json types (boolean, integer, etc.)\n",
    "- Full list of env variables at [SageMaker Training Toolkit](https://github.com/aws/sagemaker-training-toolkit/blob/master/ENVIRONMENT_VARIABLES.md)\n",
    "\n",
    "Hyperparameters are passed to your script as arguments and can be retrieved with an argparse.ArgumentParser instance.\n",
    "\n",
    "Because the SageMaker imports your training script, you should put your training code in a main guard (if __name__=='__main__':) if you are using the same script to host your model, so that SageMaker does not inadvertently run your training code at the wrong point in execution."
   ]
  }
 ],
 "metadata": {
  "kernelspec": {
   "display_name": "Python 3",
   "language": "python",
   "name": "python3"
  },
  "language_info": {
   "codemirror_mode": {
    "name": "ipython",
    "version": 3
   },
   "file_extension": ".py",
   "mimetype": "text/x-python",
   "name": "python",
   "nbconvert_exporter": "python",
   "pygments_lexer": "ipython3",
   "version": "3.8.8"
  }
 },
 "nbformat": 4,
 "nbformat_minor": 5
}
