{
 "cells": [
  {
   "cell_type": "code",
   "execution_count": 3,
   "id": "a0500180-3fab-47cb-aea9-f1fb267a2b2f",
   "metadata": {},
   "outputs": [],
   "source": [
    "import math\n",
    "import time\n",
    "import random\n",
    "import os"
   ]
  },
  {
   "cell_type": "markdown",
   "id": "ba546358-db14-4b0b-94be-ef19a119b55c",
   "metadata": {},
   "source": [
    "Kelvin to Celcius: C = K - 273.15\n",
    "Kelvin to Fahrenheit: F = (K-273.15) (9/5) + 32\n",
    "\n",
    "Celsius to Kelvin: K = C + 273.15\n",
    "Celsius to Fahrenheit: F = C(9/5) + 32\n",
    "\n",
    "Fahrenheit to Kelvin: K = (F-32) (5/9) + 273.15\n",
    "Fahrenheit to Celcius: C = (F-32) (5/9)"
   ]
  },
  {
   "cell_type": "code",
   "execution_count": 5,
   "id": "093d1513-74f6-48b2-936d-20068bdc4e96",
   "metadata": {},
   "outputs": [
    {
     "data": {
      "text/plain": [
       "'/Users/julie.fisher/Documents/datascience_diaries/continuing_education'"
      ]
     },
     "execution_count": 5,
     "metadata": {},
     "output_type": "execute_result"
    }
   ],
   "source": [
    "os.getcwd()"
   ]
  },
  {
   "cell_type": "code",
   "execution_count": 1,
   "id": "892e8a62-bef6-451f-8a33-957b55b4716a",
   "metadata": {},
   "outputs": [
    {
     "data": {
      "text/plain": [
       "{0: 0, 1: 1, 2: 4, 3: 9, 4: 16, 5: 25, 6: 36, 7: 49, 8: 64, 9: 81}"
      ]
     },
     "execution_count": 1,
     "metadata": {},
     "output_type": "execute_result"
    }
   ],
   "source": [
    "squares_dict = {x: x**2 for x in range(10)}\n",
    "squares_dict"
   ]
  },
  {
   "cell_type": "code",
   "execution_count": 7,
   "id": "0e6d3c4c-ad9a-49ae-824c-cb993dddf9fc",
   "metadata": {},
   "outputs": [
    {
     "data": {
      "text/plain": [
       "{'__name__': '__main__',\n",
       " '__doc__': 'Automatically created module for IPython interactive environment',\n",
       " '__package__': None,\n",
       " '__loader__': None,\n",
       " '__spec__': None,\n",
       " '__builtin__': <module 'builtins' (built-in)>,\n",
       " '__builtins__': <module 'builtins' (built-in)>,\n",
       " '_ih': ['',\n",
       "  'squares = { 1:1, 2:4, 3:9, 4:16 }',\n",
       "  'squares[3] + squares[3]',\n",
       "  'squares[3 + 3]',\n",
       "  'squares[2] + squares[2]',\n",
       "  'squares[2 + 2]',\n",
       "  'vars',\n",
       "  'vars()'],\n",
       " '_oh': {2: 18, 4: 8, 5: 16, 6: <function vars>},\n",
       " '_dh': ['C:\\\\Users\\\\jfish\\\\Documents\\\\datascience_diaries\\\\continuing_education'],\n",
       " 'In': ['',\n",
       "  'squares = { 1:1, 2:4, 3:9, 4:16 }',\n",
       "  'squares[3] + squares[3]',\n",
       "  'squares[3 + 3]',\n",
       "  'squares[2] + squares[2]',\n",
       "  'squares[2 + 2]',\n",
       "  'vars',\n",
       "  'vars()'],\n",
       " 'Out': {2: 18, 4: 8, 5: 16, 6: <function vars>},\n",
       " 'get_ipython': <bound method InteractiveShell.get_ipython of <ipykernel.zmqshell.ZMQInteractiveShell object at 0x000002854DA4D580>>,\n",
       " 'exit': <IPython.core.autocall.ZMQExitAutocall at 0x2854dac8ee0>,\n",
       " 'quit': <IPython.core.autocall.ZMQExitAutocall at 0x2854dac8ee0>,\n",
       " '_': <function vars>,\n",
       " '__': 16,\n",
       " '___': 8,\n",
       " '_i': 'vars',\n",
       " '_ii': 'squares[2 + 2]',\n",
       " '_iii': 'squares[2] + squares[2]',\n",
       " '_i1': 'squares = { 1:1, 2:4, 3:9, 4:16 }',\n",
       " 'squares': {1: 1, 2: 4, 3: 9, 4: 16},\n",
       " '_i2': 'squares[3] + squares[3]',\n",
       " '_2': 18,\n",
       " '_i3': 'squares[3 + 3]',\n",
       " '_i4': 'squares[2] + squares[2]',\n",
       " '_4': 8,\n",
       " '_i5': 'squares[2 + 2]',\n",
       " '_5': 16,\n",
       " '_i6': 'vars',\n",
       " '_6': <function vars>,\n",
       " '_i7': 'vars()'}"
      ]
     },
     "execution_count": 7,
     "metadata": {},
     "output_type": "execute_result"
    }
   ],
   "source": [
    "vars()"
   ]
  },
  {
   "cell_type": "code",
   "execution_count": 2,
   "id": "73759ebb-e962-4aaf-9f71-6571cfd366b9",
   "metadata": {},
   "outputs": [
    {
     "data": {
      "text/plain": [
       "dict_keys([0, 1, 2, 3, 4, 5, 6, 7, 8, 9])"
      ]
     },
     "execution_count": 2,
     "metadata": {},
     "output_type": "execute_result"
    }
   ],
   "source": [
    "squares_dict.keys()"
   ]
  },
  {
   "cell_type": "code",
   "execution_count": 19,
   "id": "38939d27-be67-4509-b310-9dfecc806721",
   "metadata": {},
   "outputs": [
    {
     "data": {
      "text/plain": [
       "[1, 4, 9, 16, 25]"
      ]
     },
     "execution_count": 19,
     "metadata": {},
     "output_type": "execute_result"
    }
   ],
   "source": [
    "squares = [1, 4, 9, 16, 25]\n",
    "squares"
   ]
  },
  {
   "cell_type": "code",
   "execution_count": 20,
   "id": "926aaca4-5e32-4a2d-8257-aa4cfc570006",
   "metadata": {},
   "outputs": [
    {
     "data": {
      "text/plain": [
       "[1, 4, 9, 16, 25]"
      ]
     },
     "execution_count": 20,
     "metadata": {},
     "output_type": "execute_result"
    }
   ],
   "source": [
    "squares2 = squares[:]\n",
    "squares2"
   ]
  },
  {
   "cell_type": "code",
   "execution_count": 21,
   "id": "5414a7eb-a5bd-45bb-8687-d440dec6b72f",
   "metadata": {},
   "outputs": [
    {
     "data": {
      "text/plain": [
       "[1, 4, 4, 16, 25]"
      ]
     },
     "execution_count": 21,
     "metadata": {},
     "output_type": "execute_result"
    }
   ],
   "source": [
    "squares2[2] = 4\n",
    "squares2"
   ]
  },
  {
   "cell_type": "code",
   "execution_count": 22,
   "id": "d824cf1c-9d4a-482c-809c-c5e272a4a52b",
   "metadata": {},
   "outputs": [
    {
     "data": {
      "text/plain": [
       "[1, 4, 9, 16, 25]"
      ]
     },
     "execution_count": 22,
     "metadata": {},
     "output_type": "execute_result"
    }
   ],
   "source": [
    "squares"
   ]
  },
  {
   "cell_type": "code",
   "execution_count": 11,
   "id": "9c12e3a0-8141-4dda-8352-69ba80b5a3c0",
   "metadata": {},
   "outputs": [],
   "source": [
    "def temp_conversion(start_unit, end_unit, start_val):\n",
    "    if start_unit == 'kelvin'.lower() or start_unit == 'k'.lower():\n",
    "        if end_unit == 'fahrenheit'.lower() or end_unit == 'f'.lower():\n",
    "            return (start_val-273.15)*(9/5) + 32\n",
    "        if end_unit == 'celsius'.lower() or end_unit=='c'.lower():\n",
    "            return start_val - 273.15\n",
    "    if start_unit == 'celsius'.lower() or start_unit == 'c'.lower():\n",
    "        if end_unit == 'kelvin'.lower() or end_unit == 'k'.lower():\n",
    "            return start_val + 273.15\n",
    "        if end_unit == 'fahrenheit'.lower() or end_unit == 'f'.lower():\n",
    "            return start_val(9/5) + 32\n",
    "    if start_unit == 'fahrenheit'.lower() or start_unit == 'f'.lower():\n",
    "        if end_unit == 'kelvin'.lower() or end_unit == 'k'.lower():\n",
    "            return (start_val-32)*(5/9) + 273.15\n",
    "        if end_unit == 'celsius'.lower() or end_unit=='c'.lower():\n",
    "            return (start_val-32)*(5/9)\n",
    "    else:\n",
    "        \"Please enter a start and end unit type of kelvin (k), fahrenheit (f), or celsius (c) and a start temperature\""
   ]
  },
  {
   "cell_type": "code",
   "execution_count": 14,
   "id": "f6c65835-8a7e-4483-a227-656d0a1714c5",
   "metadata": {},
   "outputs": [
    {
     "name": "stdout",
     "output_type": "stream",
     "text": [
      "-40 -40.0\n",
      "0 -17.77777777777778\n",
      "32 0.0\n",
      "68 20.0\n",
      "98.6 37.0\n",
      "212 100.0\n",
      "293 145.0\n",
      "451 232.7777777777778\n"
     ]
    }
   ],
   "source": [
    "for temp in [-40, 0, 32, 68, 98.6, 212, 293, 451]:\n",
    "    print(temp, temp_conversion('f', 'c', temp))"
   ]
  },
  {
   "cell_type": "code",
   "execution_count": 2,
   "id": "d08d0047-b7a2-44c4-9d77-cce73e7c5183",
   "metadata": {},
   "outputs": [],
   "source": [
    "def b(z):\n",
    "    prod = a(z, z)\n",
    "    print(z, prod)\n",
    "    return prod\n",
    "def a(x, y):\n",
    "    x = x + 1\n",
    "    return x * y\n",
    "def c(x, y, z):\n",
    "    total = x + y + z\n",
    "    square = b(total)**2\n",
    "    return square"
   ]
  },
  {
   "cell_type": "code",
   "execution_count": 3,
   "id": "cf4ccc70-5c24-439c-a9c9-3f50f4cef89a",
   "metadata": {},
   "outputs": [
    {
     "name": "stdout",
     "output_type": "stream",
     "text": [
      "9 90\n",
      "8100\n"
     ]
    }
   ],
   "source": [
    "x = 1\n",
    "y = x + 1\n",
    "print(c(x, y+3, x+y))"
   ]
  },
  {
   "cell_type": "code",
   "execution_count": 4,
   "id": "827ac5c4-eed6-426c-9f83-b0a7071f34ff",
   "metadata": {},
   "outputs": [],
   "source": [
    "def ackermann(m, n):\n",
    "    if m==0:\n",
    "        return n+1\n",
    "    if n==0:\n",
    "        return ackermann(m-1, 1)\n",
    "    return ackermann(m-1, ackermann(m, n-1))"
   ]
  },
  {
   "cell_type": "code",
   "execution_count": 8,
   "id": "7f65f28c-1ec4-492b-b919-6473f46aeb4f",
   "metadata": {},
   "outputs": [
    {
     "data": {
      "text/plain": [
       "125"
      ]
     },
     "execution_count": 8,
     "metadata": {},
     "output_type": "execute_result"
    }
   ],
   "source": [
    "ackermann(3, 4)"
   ]
  },
  {
   "cell_type": "code",
   "execution_count": 10,
   "id": "a5d06cb3-3620-4c17-a257-ddc9daf2d483",
   "metadata": {},
   "outputs": [],
   "source": [
    "def first(word):\n",
    "    return word[0]\n",
    "def last(word):\n",
    "    return word[-1]\n",
    "def middle(word):\n",
    "    return word[1:-1]"
   ]
  },
  {
   "cell_type": "code",
   "execution_count": 11,
   "id": "a973bffb-b6b6-4aa2-a314-3ed4e4c7ef39",
   "metadata": {},
   "outputs": [
    {
     "name": "stdout",
     "output_type": "stream",
     "text": [
      "oo\n",
      "\n",
      "a\n",
      "\n"
     ]
    }
   ],
   "source": [
    "print(middle('noon'))\n",
    "print(middle('at'))\n",
    "print('a')\n",
    "print('')"
   ]
  },
  {
   "cell_type": "code",
   "execution_count": 18,
   "id": "53934ceb-1373-4259-a78d-e2d00c92e110",
   "metadata": {},
   "outputs": [],
   "source": [
    "def is_pallindrome(word):\n",
    "    if len(word) <= 0:\n",
    "        return True\n",
    "    if first(word) != last(word):\n",
    "        return False\n",
    "    return is_pallindrome(middle(word))"
   ]
  },
  {
   "cell_type": "code",
   "execution_count": 19,
   "id": "e81ff0d7-8951-4206-a49e-2394cedc0b85",
   "metadata": {},
   "outputs": [
    {
     "name": "stdout",
     "output_type": "stream",
     "text": [
      "True\n",
      "False\n",
      "False\n",
      "True\n"
     ]
    }
   ],
   "source": [
    "print(is_pallindrome('noon'))\n",
    "print(is_pallindrome('ocean'))\n",
    "print(is_pallindrome('recursive'))\n",
    "print(is_pallindrome('redivider'))"
   ]
  },
  {
   "cell_type": "code",
   "execution_count": 29,
   "id": "6979d035-7541-4872-abb5-1d72f7182d28",
   "metadata": {},
   "outputs": [
    {
     "data": {
      "text/plain": [
       "0"
      ]
     },
     "execution_count": 29,
     "metadata": {},
     "output_type": "execute_result"
    }
   ],
   "source": [
    "4%2"
   ]
  },
  {
   "cell_type": "code",
   "execution_count": 30,
   "id": "9af3386e-3442-47bd-8a22-5ce78f5393b8",
   "metadata": {},
   "outputs": [],
   "source": [
    "def is_power(a, b):\n",
    "    if a%b != 0:\n",
    "        return False\n",
    "    if a/b==1:\n",
    "        return True\n",
    "    return is_power(a/b, b)"
   ]
  },
  {
   "cell_type": "code",
   "execution_count": 31,
   "id": "2416c0e1-54d0-4d7e-9528-7063fb982e7d",
   "metadata": {},
   "outputs": [
    {
     "data": {
      "text/plain": [
       "True"
      ]
     },
     "execution_count": 31,
     "metadata": {},
     "output_type": "execute_result"
    }
   ],
   "source": [
    "is_power(9, 9)"
   ]
  },
  {
   "cell_type": "code",
   "execution_count": 32,
   "id": "00320263-f9f2-4bfe-9292-ae940af8dc78",
   "metadata": {},
   "outputs": [
    {
     "data": {
      "text/plain": [
       "True"
      ]
     },
     "execution_count": 32,
     "metadata": {},
     "output_type": "execute_result"
    }
   ],
   "source": [
    "is_power(9,3)"
   ]
  },
  {
   "cell_type": "code",
   "execution_count": 33,
   "id": "55743fce-9f3d-454f-903b-1880a60e670b",
   "metadata": {},
   "outputs": [
    {
     "data": {
      "text/plain": [
       "False"
      ]
     },
     "execution_count": 33,
     "metadata": {},
     "output_type": "execute_result"
    }
   ],
   "source": [
    "is_power(5,4)"
   ]
  },
  {
   "cell_type": "code",
   "execution_count": 169,
   "id": "1f6bd2b1-f561-48aa-981d-29ba9cd52ef8",
   "metadata": {},
   "outputs": [
    {
     "name": "stdout",
     "output_type": "stream",
     "text": [
      "The current time is 21.0:20.0:16.0\n",
      "It has been 19047.0 days since January 1, 1970\n",
      "It has been 52.0 years and 54.0 days since January 1, 1970\n"
     ]
    }
   ],
   "source": [
    "def time_to_datetime():\n",
    "    hours = time.time() // (60 * 60) % 24\n",
    "    minutes = time.time() // 60 % 60\n",
    "    seconds = round(time.time() % 60, 0)\n",
    "    days = time.time() // (60 * 60 * 24) % 365.25\n",
    "    days_since = time.time() // (60 * 60 * 24)\n",
    "    years_since = time.time() // (60 * 60 * 24 * 365)\n",
    "    print(f'The current time is {hours}:{minutes}:{seconds}')\n",
    "    print(f'It has been {days_since} days since January 1, 1970')\n",
    "    print (f'It has been {years_since} years and {days} days since January 1, 1970')\n",
    "\n",
    "time_to_datetime()"
   ]
  },
  {
   "cell_type": "code",
   "execution_count": 17,
   "id": "41eaa893-efdd-46c9-b580-17d16a0964f2",
   "metadata": {},
   "outputs": [],
   "source": [
    "time = 42 + (42/60)\n",
    "distance = 10\n",
    "m_dist = 10 * 1.61"
   ]
  },
  {
   "cell_type": "code",
   "execution_count": 34,
   "id": "c743980a-817b-4231-83d0-351c2bd25fac",
   "metadata": {},
   "outputs": [
    {
     "name": "stdout",
     "output_type": "stream",
     "text": [
      "16.1 miles per 42.7 minutes\n",
      "1.0 mile per 2.652173913043478 minutes\n",
      "1.0 mile per 159.1304347826087 seconds\n",
      "22.62295081967213 miles per 1.0 hour\n"
     ]
    }
   ],
   "source": [
    "print(f'{m_dist} miles per {time} minutes')\n",
    "print(f'{m_dist/m_dist} mile per {time/m_dist} minutes')\n",
    "print(f'{m_dist/m_dist} mile per {time/m_dist * 60} seconds')\n",
    "print(f'{m_dist * (1/time * 60)} miles per {time * (1/time)} hour')"
   ]
  },
  {
   "cell_type": "code",
   "execution_count": 192,
   "id": "be76f133-dfc6-47ac-bf5f-f14a19f8f472",
   "metadata": {},
   "outputs": [],
   "source": [
    "def check_fermat(a, b, c, n):\n",
    "    a_n_b = a**n + b**n\n",
    "    c_n = c**n\n",
    "    if n <= 2:\n",
    "        print(\"That's boring, you're supposed to choose a number greater than 2...\")\n",
    "        if a_n_b == c_n:\n",
    "            print(\"But it does in fact work\")\n",
    "        else:\n",
    "            print(\"\\tAlso, the numbers you chose don't work\")\n",
    "    else:        \n",
    "        if a_n_b == c_n:\n",
    "            print(\"Holy smokes, Fermat was wrong!\")\n",
    "        elif a_n_b != c_n:\n",
    "            print(\"No, that doesn't work\")"
   ]
  },
  {
   "cell_type": "code",
   "execution_count": 175,
   "id": "efc23b64-ac25-4ec2-a1df-6864b45ae196",
   "metadata": {},
   "outputs": [
    {
     "name": "stdout",
     "output_type": "stream",
     "text": [
      "That's boring, you're supposed to choose a number greater than 2...\n"
     ]
    },
    {
     "data": {
      "text/plain": [
       "'But it does in fact work'"
      ]
     },
     "execution_count": 175,
     "metadata": {},
     "output_type": "execute_result"
    }
   ],
   "source": [
    "check_fermat(3, 4, 5, 2)"
   ]
  },
  {
   "cell_type": "code",
   "execution_count": 177,
   "id": "16b95588-b39a-4bc7-962b-9889d3654c07",
   "metadata": {},
   "outputs": [
    {
     "name": "stdout",
     "output_type": "stream",
     "text": [
      "That's boring, you're supposed to choose a number greater than 2...\n"
     ]
    },
    {
     "data": {
      "text/plain": [
       "'But it does in fact work'"
      ]
     },
     "execution_count": 177,
     "metadata": {},
     "output_type": "execute_result"
    }
   ],
   "source": [
    "check_fermat(5, 12, 13, 2)"
   ]
  },
  {
   "cell_type": "code",
   "execution_count": 193,
   "id": "558c330c-ae54-4c06-88bd-46689d4b4ca7",
   "metadata": {},
   "outputs": [
    {
     "name": "stdout",
     "output_type": "stream",
     "text": [
      "No, that doesn't work\n",
      "No, that doesn't work\n",
      "No, that doesn't work\n",
      "No, that doesn't work\n",
      "No, that doesn't work\n",
      "No, that doesn't work\n",
      "No, that doesn't work\n",
      "That's boring, you're supposed to choose a number greater than 2...\n",
      "\tAlso, the numbers you chose don't work\n",
      "No, that doesn't work\n",
      "No, that doesn't work\n",
      "No, that doesn't work\n",
      "No, that doesn't work\n",
      "No, that doesn't work\n",
      "No, that doesn't work\n",
      "No, that doesn't work\n",
      "No, that doesn't work\n",
      "No, that doesn't work\n",
      "No, that doesn't work\n",
      "No, that doesn't work\n",
      "No, that doesn't work\n",
      "No, that doesn't work\n",
      "No, that doesn't work\n",
      "No, that doesn't work\n",
      "No, that doesn't work\n",
      "No, that doesn't work\n"
     ]
    }
   ],
   "source": [
    "a_list = random.choices(range(0, 100), k=25)\n",
    "b_list = random.choices(range(0, 100), k=25)\n",
    "c_list = random.choices(range(0, 100), k=25)\n",
    "n_list = random.choices(range(1, 9), k=25)\n",
    "for i in range(25):\n",
    "    check_fermat(a_list[i], b_list[i], c_list[i], n_list[i])"
   ]
  },
  {
   "cell_type": "code",
   "execution_count": null,
   "id": "c02c3fbb-d86d-40e5-9172-28fce455a150",
   "metadata": {},
   "outputs": [],
   "source": []
  }
 ],
 "metadata": {
  "kernelspec": {
   "display_name": "Python 3",
   "language": "python",
   "name": "python3"
  },
  "language_info": {
   "codemirror_mode": {
    "name": "ipython",
    "version": 3
   },
   "file_extension": ".py",
   "mimetype": "text/x-python",
   "name": "python",
   "nbconvert_exporter": "python",
   "pygments_lexer": "ipython3",
   "version": "3.8.8"
  }
 },
 "nbformat": 4,
 "nbformat_minor": 5
}
