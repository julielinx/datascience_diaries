{
 "cells": [
  {
   "cell_type": "markdown",
   "id": "6c41205b-9436-4c0d-b0a6-f98f1a8bb3a3",
   "metadata": {},
   "source": [
    "# Power rule\n",
    "\n",
    "power functions = $f(x) = x^n$\n",
    "\n",
    "$\\frac{d}{dx}(x^n) = nx^{n-1}$\n",
    "\n",
    "Example: $\\frac{d}{dx}x^5 = 5x^{5-4} = 5x^4$\n",
    "\n",
    "Special case example: $\\frac{d}{dx}(x) = 1x^0 = 1$"
   ]
  },
  {
   "cell_type": "markdown",
   "id": "94b4f520-3119-4bae-b6ed-0b1e3fc0d18e",
   "metadata": {},
   "source": [
    "# Constant\n",
    "\n",
    "$\\frac{d}{dx}(c) = 0$\n",
    "\n",
    "This basically says that a constant (which is a horizontal line when graphed) has a slope of 0.\n",
    "\n",
    "# Constant multiple\n",
    "\n",
    "Where $c$ is a constant: $\\frac{d}{dx}(c f(x) = c f'(x)$\n",
    "\n",
    "Example: $\\frac{d}{dx}(5 x^2) = 5 \\times 2x^1 = 10x$"
   ]
  },
  {
   "cell_type": "markdown",
   "id": "3ccf558c-75fd-42c1-b77f-23738d868cf1",
   "metadata": {},
   "source": [
    "# Combining rules - polynomials\n",
    "\n",
    "Rules can be combined.\n",
    "\n",
    "Example: $\\frac{d}{dx}(5x^2 + 3x - 10) = 5(2x^1) + 3x^0 - 0 = 10x + 3$"
   ]
  },
  {
   "cell_type": "markdown",
   "id": "39821be1-ad40-4b9a-b4a0-151b42a37912",
   "metadata": {},
   "source": [
    "# Sum rule\n",
    "\n",
    "$\\frac{d}{dx}(f(x) + g(x)) = f'(x) + g'(x)$\n",
    "\n",
    "# Subtraction (difference) rule\n",
    "\n",
    "$\\frac{d}{dx}(f(x) - f(x)) = f'(x) - g'(x)$"
   ]
  },
  {
   "cell_type": "markdown",
   "id": "3205f04e-db2e-4149-b53d-6a3211b744e9",
   "metadata": {},
   "source": [
    "# Exponential rule\n",
    "\n",
    "Exponent = $f(x) = b^x$\n",
    "\n",
    "$\\frac{d}{dx}(b^x) = \\ln b \\times b^x$\n",
    "\n",
    "Special case: $\\frac{d}{dx}(e^x) = e^x$"
   ]
  },
  {
   "cell_type": "markdown",
   "id": "ba76c716-ee22-42c6-ad5a-bce70fd9b2fb",
   "metadata": {},
   "source": [
    "# Chain rule\n",
    "\n",
    "$y = f(g(x)) = (f \\circ g)(x)$\n",
    "\n",
    "$y' = f'(u) \\times g'(x)$\n",
    "\n",
    "Example:\n",
    "\n",
    "$y = \\sqrt{1 + x^2}$\n",
    "\n",
    "$f(u) = \\sqrt{u} \\text{,} \\quad g(x) = 1 + x^2$\n",
    "\n",
    "Breaking the functions into pieces gives:\n",
    "\n",
    "$f(u) = \\sqrt{u} = u^{\\frac{1}{2}}$ \\\n",
    "$f'(u) = \\frac{dy}{du} = \\frac{1}{2}u^{- \\frac{1}{2}} = \\frac{1}{2\\sqrt{u}}$\n",
    "\n",
    "$g(x) = 1 + x^2$\\\n",
    "$g'(x) = \\frac{du}{dx}(1 + x^2) = 0 + 2x^1 = 2x$\n",
    "\n",
    "Putting those back together through multiplication gives:\n",
    "\n",
    "$\\frac{dy}{dx} = \\frac{dy}{du} \\times \\frac{du}{dx}$\n",
    "\n",
    "$\\frac{1}{2\\sqrt{u}} \\times \\frac{2x}{1}$\\\n",
    "$\\frac{x}{\\sqrt{u}} \\to \\frac{x}{\\sqrt{1 + x^2}}$\n",
    "\n",
    "But $\\frac{dy}{dx}$ isn't really a ratio and you can't always treat it as a ratio."
   ]
  },
  {
   "cell_type": "markdown",
   "id": "f8a59ceb-5e23-429b-973a-a21b8b9dea14",
   "metadata": {},
   "source": [
    "## Chain rule exercises\n",
    "\n",
    "### 1. \n",
    "\n",
    "$y = (1 + x^2)^{20}$\n",
    "\n",
    "Find $y'$\n",
    "\n",
    "$f(u) = u^{20}$\\\n",
    "$g(x) = 1 + x^2$\n",
    "\n",
    "$f'(u) = 20u^{19}$\n",
    "\n",
    "$g'(x) = 0 + 2x$\n",
    "\n",
    "$\\frac{dy}{dy} \\times \\frac{du}{dx} = 20u^{19}(2x) = 40x(u^{19})$\n",
    "\n",
    "$\\quad = 40x(1+x^2)^{19}$"
   ]
  },
  {
   "cell_type": "markdown",
   "id": "54f6e966-0519-4fde-b94c-d0fbdb37fd93",
   "metadata": {},
   "source": [
    "### 2. Gaussian\n",
    "\n",
    "$y = e^{-x^2}$\n",
    "\n",
    "$f(u) = e^u$\n",
    "\n",
    "$g(x) = -x^2$\n",
    "\n",
    "$f'(u) = e^u$\n",
    "\n",
    "$g'(x) = -2x$\n",
    "\n",
    "$\\frac{dy}{du} \\times \\frac{du}{dx} = e^u(-2x)$\n",
    "\n",
    "$= -2xe^{-x^2}$"
   ]
  },
  {
   "cell_type": "markdown",
   "id": "ccc80785-f0c9-4794-bf60-4aae2a2e4c13",
   "metadata": {},
   "source": [
    "### 3. Sigmoid\n",
    "\n",
    "$y = \\frac{1}{1 + e^{-x}} = (1 + e^{-x})^{-1}$\n",
    "\n",
    "$f(u) = u^{-1}$\n",
    "\n",
    "$g(x) = 1 + e^{-x}$\n",
    "\n",
    "$f'(u) = -u^{-2}$\n",
    "\n",
    "$g'(x) = 0 + e^{-x} = -e^{-x}$\n",
    "\n",
    "$\\frac{dy}{du} \\times \\frac{du}{dx} = -u^{-2}(-e^{-x}) = e^{-x}u^{-2}$\n",
    "\n",
    "$\\frac{e^{-x}}{u^2} = \\frac{e^{-x}}{(1 + e^{-x})^2}$\n",
    "\n",
    "$= \\frac{1}{1 + e^{-x}}(1 - \\frac{1}{1 + e^{-x}})$\n",
    "\n",
    "$\\Rightarrow y' = y(1 - y)$"
   ]
  },
  {
   "cell_type": "markdown",
   "id": "b9720bbb-8dff-4c1a-b490-a40782da2c9f",
   "metadata": {},
   "source": [
    "# Product Rule\n",
    "\n",
    "$\\frac{d}{dx}(f(x)g(x)) = f(x)g'(x) + f'(x)g(x)$\n",
    "\n",
    "$(uv)' = uv' + vu'$"
   ]
  },
  {
   "cell_type": "markdown",
   "id": "e61b64e9-1c82-4fdb-8ba9-0dcf72d31234",
   "metadata": {},
   "source": [
    "# Quotient Rule\n",
    "\n",
    "$\\frac{d}{dx}(\\frac{f(x)}{g(x)}) = \\frac{f(x)g'(x) - f'(x)g(x)}{f(x)^2}?$\n",
    "\n",
    "$\\frac{u}{v}' = \\frac{vu' - uv'}{v^2}$\n",
    "\n",
    "$\\frac{u}{v} = uv^{-1}$"
   ]
  },
  {
   "cell_type": "code",
   "execution_count": null,
   "id": "91fda0fd-4ba8-4921-9ad8-09840ff34390",
   "metadata": {},
   "outputs": [],
   "source": []
  }
 ],
 "metadata": {
  "kernelspec": {
   "display_name": "Python 3",
   "language": "python",
   "name": "python3"
  },
  "language_info": {
   "codemirror_mode": {
    "name": "ipython",
    "version": 3
   },
   "file_extension": ".py",
   "mimetype": "text/x-python",
   "name": "python",
   "nbconvert_exporter": "python",
   "pygments_lexer": "ipython3",
   "version": "3.8.8"
  }
 },
 "nbformat": 4,
 "nbformat_minor": 5
}
