{
 "cells": [
  {
   "cell_type": "markdown",
   "id": "06064419-90b8-49c8-a06c-cce059b2756e",
   "metadata": {},
   "source": [
    "# [Math 0-1: Calculus for Data Science & Machine Learning](https://www.udemy.com/course/calculus-data-science/)\n",
    "\n",
    "Hosted on Udemy and created by The Lazy Programmer"
   ]
  },
  {
   "cell_type": "code",
   "execution_count": null,
   "id": "f46c77be-4e3d-4b3d-bdb2-6367d7d92f7d",
   "metadata": {},
   "outputs": [],
   "source": []
  }
 ],
 "metadata": {
  "kernelspec": {
   "display_name": "Python 3",
   "language": "python",
   "name": "python3"
  },
  "language_info": {
   "codemirror_mode": {
    "name": "ipython",
    "version": 3
   },
   "file_extension": ".py",
   "mimetype": "text/x-python",
   "name": "python",
   "nbconvert_exporter": "python",
   "pygments_lexer": "ipython3",
   "version": "3.8.8"
  }
 },
 "nbformat": 4,
 "nbformat_minor": 5
}
