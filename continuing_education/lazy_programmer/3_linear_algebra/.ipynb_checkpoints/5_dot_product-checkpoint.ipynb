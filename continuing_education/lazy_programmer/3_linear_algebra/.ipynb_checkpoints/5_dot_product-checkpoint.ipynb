{
 "cells": [
  {
   "cell_type": "markdown",
   "id": "b4b4c1f5-e877-45db-9e17-fe0aa24c87d9",
   "metadata": {},
   "source": [
    "# Dot Product\n",
    "\n",
    "Vectors:\n",
    "\n",
    "- $\\vec{u} = [u_1, u_2,\\, ...,\\, u_n]$\n",
    "- $\\vec{v} = v_1, v_2,\\, ...,\\, v_n$\n",
    "\n",
    "Dot product:\n",
    "\n",
    "$\\vec{u} \\cdot \\vec{v} = u_1v_1 + u_2v_2, \\, ...,\\, u_nv_n$\\\n",
    "$ \\quad = \\displaystyle\\sum_{i=1}^n u_iv_i$\\\n",
    "$\\quad = ||\\vec{u}||\\, ||\\vec{v}|| \\cos(\\theta)$\n",
    "\n",
    "Where:\n",
    "\n",
    "- $||\\vec{x}|| = \\sqrt{x_1^2 + x_2^2 + \\, ...\\, + x_n^2} = \\sqrt{\\displaystyle\\sum_{i=1}^n x_i^2}$\n",
    "- $\\theta$ is the angle between the vectors\n",
    "\n",
    "To find $\\theta$:\n",
    "\n",
    "- $\\displaystyle\\sum_{i=1}^n u_iv_i = ||\\vec{u}||\\, ||\\vec{v}|| \\cos(\\theta)$\n",
    "- $\\cos(\\theta) = \\frac{\\sum u_iv_i}{||\\vec{u}||\\, ||\\vec{v}||}$\n",
    "- $\\theta = \\cos^{-1} \\frac{\\sum u_iv_i}{||\\vec{u}||\\, ||\\vec{v}||} = \\arccos \\frac{\\sum u_iv_i}{||\\vec{u}||\\, ||\\vec{v}||}$"
   ]
  },
  {
   "cell_type": "markdown",
   "id": "8b1ffa93-1093-4d56-afe3-eebba31fbf41",
   "metadata": {},
   "source": [
    "## Length of a vector\n",
    "\n",
    "$\\vec{x} = [x_1, x_2, \\, ..., \\, x_n]$\n",
    "\n",
    "$||\\vec{x}|| = \\sqrt{x_1^2 + x_2^2 + \\, ...\\, + x_n^2} = \\sqrt{\\displaystyle\\sum_{i=1}^n x_i^2} = \\sqrt{\\vec{x} \\cdot \\vec{x}}$\\\n",
    "$\\quad \\Rightarrow x^2 = x x$\n",
    "\n",
    "$||\\vec{x}||^2 = \\vec{x} \\cdot \\vec{x}$\n",
    "\n",
    "## Distance between vectors\n",
    "\n",
    "### Cosine law\n",
    "\n",
    "For all triangles:\n",
    "\n",
    "$c^2 = a^2 + b^2 - 2ab \\cos\\theta$\n",
    "\n",
    "We can use this to calculate distance between vectors:\n",
    "\n",
    "$||\\vec{x}||^2 + ||\\vec{y}||^2 - 2\\vec{x}\\vec{y} \\cos\\theta$"
   ]
  },
  {
   "cell_type": "code",
   "execution_count": 1,
   "id": "53c045f7-6bfd-4066-bf24-78242229fdbf",
   "metadata": {},
   "outputs": [],
   "source": [
    "import numpy as np"
   ]
  },
  {
   "cell_type": "markdown",
   "id": "10c6507d-d928-41c4-88f7-3ab90b4388e0",
   "metadata": {},
   "source": [
    "## Portfolio Returns\n",
    "\n",
    "Last year, you invested 40% of your portfolio into Apple and 60% into Google. Apple's price increased 20%, Google's price increased 15%. By what percentage did your portfolio increase?"
   ]
  },
  {
   "cell_type": "code",
   "execution_count": 2,
   "id": "7b155895-ec65-4dcb-90f8-b18893176db0",
   "metadata": {},
   "outputs": [
    {
     "data": {
      "text/plain": [
       "0.17"
      ]
     },
     "execution_count": 2,
     "metadata": {},
     "output_type": "execute_result"
    }
   ],
   "source": [
    "w = np.array([0.4, 0.6])\n",
    "r = np.array([0.2, 0.15])\n",
    "w.dot(r)"
   ]
  },
  {
   "cell_type": "markdown",
   "id": "81313f52-45e5-4026-92f6-cd9281570dad",
   "metadata": {},
   "source": [
    "Alternate:\n",
    "\n",
    "You start with \\\\$100. You put $40 into Apple and \\\\$60 into Google. Apple's price increased 20%, Google's price increased 15%. How much money did you make? How much money in total do you you have now?"
   ]
  },
  {
   "cell_type": "code",
   "execution_count": 4,
   "id": "63d0db6e-d8fc-432e-867c-3863d65919ef",
   "metadata": {},
   "outputs": [
    {
     "name": "stdout",
     "output_type": "stream",
     "text": [
      "Money made: 17.0\n",
      "Total amount: 117.0\n"
     ]
    }
   ],
   "source": [
    "s = 100\n",
    "m = np.array([40, 60])\n",
    "r = np.array([0.2, 0.15])\n",
    "print('Money made:', m.dot(r))\n",
    "print('Total amount:', s + m.dot(r))"
   ]
  },
  {
   "cell_type": "markdown",
   "id": "77785805-4243-47f3-95b3-0ff9ccbb287a",
   "metadata": {},
   "source": [
    "## Computing the magnitude of a vector"
   ]
  },
  {
   "cell_type": "code",
   "execution_count": 8,
   "id": "9bb8adfc-c379-446e-9762-7b252f239ad7",
   "metadata": {},
   "outputs": [
    {
     "name": "stdout",
     "output_type": "stream",
     "text": [
      "2.23606797749979\n",
      "2.23606797749979\n",
      "2.23606797749979\n",
      "2.23606797749979\n",
      "2.23606797749979\n"
     ]
    }
   ],
   "source": [
    "# length of a vector\n",
    "x = np.array([2, 1])\n",
    "print(np.sqrt(x[0]**2 + x[1]**2))\n",
    "print(np.sqrt((x*x).sum()))\n",
    "print(np.sqrt(x.dot(x)))\n",
    "print(np.sqrt(x @ x))\n",
    "print(np.linalg.norm(x))"
   ]
  },
  {
   "cell_type": "markdown",
   "id": "617d7314-2c60-4e24-8ea6-ce01721e7eaa",
   "metadata": {},
   "source": [
    "## Finding the angle between vectors\n",
    "\n",
    "Find the angle between the vectors (2, 1) and (-1, 2)"
   ]
  },
  {
   "cell_type": "code",
   "execution_count": 10,
   "id": "12d55954-57ad-4c13-bcb3-95b202be3cc6",
   "metadata": {},
   "outputs": [
    {
     "name": "stdout",
     "output_type": "stream",
     "text": [
      "-1.1071487177940906 0.46364760900080615\n",
      "-1.5707963267948968\n",
      "1.5707963267948966\n"
     ]
    }
   ],
   "source": [
    "x = np.array([2, 1])\n",
    "y = np.array([-1, 2])\n",
    "\n",
    "a1 = np.arctan(x[1] / x[0])\n",
    "a2 = np.arctan(y[1] / y[0])\n",
    "print(a2, a1)\n",
    "print(a2 - a1)\n",
    "print(np.pi/2)"
   ]
  },
  {
   "cell_type": "markdown",
   "id": "a5d7e05d-082c-4840-a8e5-e22d3b43e4d3",
   "metadata": {},
   "source": [
    "### Need to adjust for the quadrant\n",
    "\n",
    "- Quadrant, x-axis, y-axis:\n",
    "    - note, vectors are named x and y but are both made up of (x, y) coordinates\n",
    "- Quadrant I (x+, y+): arctan(y / x)\n",
    "- Quadrant II (x-, y+): arctan(y / x) + pi\n",
    "- Quadrant III (x-, y-): arctan(y / x) + pi\n",
    "- Quadrant IV (x+, y-): arctan(y / x) + 2pi"
   ]
  },
  {
   "cell_type": "code",
   "execution_count": 12,
   "id": "15585581-3f04-4de7-bf47-460db1d9652a",
   "metadata": {},
   "outputs": [
    {
     "name": "stdout",
     "output_type": "stream",
     "text": [
      "2.0344439357957027 0.46364760900080615\n",
      "1.5707963267948966\n",
      "1.5707963267948966\n"
     ]
    }
   ],
   "source": [
    "a1 = np.arctan(x[1] / x[0])\n",
    "a2 = np.arctan(y[1] / y[0]) + np.pi\n",
    "print(a2, a1)\n",
    "print(a2 - a1)\n",
    "print(np.pi/2)"
   ]
  },
  {
   "cell_type": "code",
   "execution_count": 13,
   "id": "44d48fba-d29c-415f-bd83-22052a4bcf13",
   "metadata": {},
   "outputs": [
    {
     "name": "stdout",
     "output_type": "stream",
     "text": [
      "1.5707963267948966\n"
     ]
    }
   ],
   "source": [
    "lenxleny = np.linalg.norm(x) * np.linalg.norm(y)\n",
    "print(np.arccos(x.dot(y) / lenxleny))"
   ]
  },
  {
   "cell_type": "markdown",
   "id": "65945ff1-539f-40c9-9fa9-01f19e15afca",
   "metadata": {},
   "source": [
    "Find the angle between (1, 2, 1) and (-2, -1, 3)"
   ]
  },
  {
   "cell_type": "code",
   "execution_count": 14,
   "id": "29663077-48e0-4861-a4fe-7b4207db5555",
   "metadata": {},
   "outputs": [
    {
     "name": "stdout",
     "output_type": "stream",
     "text": [
      "1.6801229259468808\n"
     ]
    }
   ],
   "source": [
    "x = np.array([1, 2, 1])\n",
    "y = np.array([-2, -1, 3])\n",
    "lenxleny = np.linalg.norm(x) * np.linalg.norm(y)\n",
    "print(np.arccos(x.dot(y)/lenxleny))"
   ]
  },
  {
   "cell_type": "markdown",
   "id": "b9a0776f-2a96-4cc2-aae1-bc23df4819d8",
   "metadata": {},
   "source": []
  },
  {
   "cell_type": "code",
   "execution_count": null,
   "id": "21fccf8b-6617-4925-9198-beea2e8ea5ee",
   "metadata": {},
   "outputs": [],
   "source": []
  }
 ],
 "metadata": {
  "kernelspec": {
   "display_name": "Python 3",
   "language": "python",
   "name": "python3"
  },
  "language_info": {
   "codemirror_mode": {
    "name": "ipython",
    "version": 3
   },
   "file_extension": ".py",
   "mimetype": "text/x-python",
   "name": "python",
   "nbconvert_exporter": "python",
   "pygments_lexer": "ipython3",
   "version": "3.8.8"
  }
 },
 "nbformat": 4,
 "nbformat_minor": 5
}
