{
 "cells": [
  {
   "cell_type": "code",
   "execution_count": 1,
   "id": "70af22e7-7cbc-4f67-a4b5-dfc48977eb10",
   "metadata": {},
   "outputs": [],
   "source": [
    "import numpy as np\n",
    "import pandas as pd\n",
    "import random"
   ]
  },
  {
   "cell_type": "code",
   "execution_count": 3,
   "id": "530378e0-431c-4a36-9a00-f3eb77abbe09",
   "metadata": {},
   "outputs": [
    {
     "data": {
      "text/plain": [
       "array([[ 1,  2, -1],\n",
       "       [ 1,  0,  1],\n",
       "       [ 0,  1,  0]])"
      ]
     },
     "execution_count": 3,
     "metadata": {},
     "output_type": "execute_result"
    }
   ],
   "source": [
    "W = np.array([[1,2,-1], [1,0,1], [0,1,0]])\n",
    "W"
   ]
  },
  {
   "cell_type": "code",
   "execution_count": 4,
   "id": "4b39dc54-124b-43d5-b1df-ee5b22b8fba2",
   "metadata": {},
   "outputs": [
    {
     "data": {
      "text/plain": [
       "array([[ 0.5,  0.5, -1. ],\n",
       "       [-0. , -0. ,  1. ],\n",
       "       [-0.5,  0.5,  1. ]])"
      ]
     },
     "execution_count": 4,
     "metadata": {},
     "output_type": "execute_result"
    }
   ],
   "source": [
    "np.linalg.inv(W)"
   ]
  },
  {
   "cell_type": "code",
   "execution_count": 5,
   "id": "90d5f726-d9d0-4c47-a5bd-95297cc6c4b4",
   "metadata": {},
   "outputs": [
    {
     "data": {
      "text/plain": [
       "1.0"
      ]
     },
     "execution_count": 5,
     "metadata": {},
     "output_type": "execute_result"
    }
   ],
   "source": [
    "ID = np.array([[1,0,0], [0,1,0], [0,0,1]])\n",
    "np.linalg.det(ID)"
   ]
  },
  {
   "cell_type": "code",
   "execution_count": 6,
   "id": "3c13a6b0-4444-41ff-9104-6bbb7f296573",
   "metadata": {},
   "outputs": [
    {
     "data": {
      "text/plain": [
       "array([[ 5,  2,  3],\n",
       "       [-1, -3,  2],\n",
       "       [ 0,  1, -1]])"
      ]
     },
     "execution_count": 6,
     "metadata": {},
     "output_type": "execute_result"
    }
   ],
   "source": [
    "A = np.array([[5,2,3], [-1,-3,2], [0,1,-1]])\n",
    "B = np.array([[1,0,-4], [2,1,0], [8,-1,0]])\n",
    "A"
   ]
  },
  {
   "cell_type": "code",
   "execution_count": 8,
   "id": "fa44da64-a3d1-4d1a-85ef-464a166b35ff",
   "metadata": {},
   "outputs": [
    {
     "data": {
      "text/plain": [
       "array([[ 33,  -1, -20],\n",
       "       [  9,  -5,   4],\n",
       "       [ -6,   2,   0]])"
      ]
     },
     "execution_count": 8,
     "metadata": {},
     "output_type": "execute_result"
    }
   ],
   "source": [
    "AB = A.dot(B)\n",
    "AB"
   ]
  },
  {
   "cell_type": "code",
   "execution_count": 13,
   "id": "3e987206-a199-414b-b28e-e29ed590ad82",
   "metadata": {},
   "outputs": [
    {
     "data": {
      "text/plain": [
       "1.782816318816259e-13"
      ]
     },
     "execution_count": 13,
     "metadata": {},
     "output_type": "execute_result"
    }
   ],
   "source": [
    "np.linalg.det(AB)"
   ]
  },
  {
   "cell_type": "code",
   "execution_count": 12,
   "id": "0b300f8e-cb84-4f45-9672-3408a1727a5b",
   "metadata": {},
   "outputs": [
    {
     "data": {
      "text/plain": [
       "5609102796770.295"
      ]
     },
     "execution_count": 12,
     "metadata": {},
     "output_type": "execute_result"
    }
   ],
   "source": [
    "1/np.linalg.det(AB)"
   ]
  },
  {
   "cell_type": "code",
   "execution_count": null,
   "id": "680ee157-60b8-409f-866f-fb68675ea09c",
   "metadata": {},
   "outputs": [],
   "source": []
  },
  {
   "cell_type": "code",
   "execution_count": 3,
   "id": "23712fd1-65e1-4363-9492-12690db4c011",
   "metadata": {},
   "outputs": [
    {
     "data": {
      "text/plain": [
       "63"
      ]
     },
     "execution_count": 3,
     "metadata": {},
     "output_type": "execute_result"
    }
   ],
   "source": [
    "random.randint(0, 100)"
   ]
  },
  {
   "cell_type": "code",
   "execution_count": 7,
   "id": "a1e45902-56d0-4b5c-a0a8-45d9a8721a2a",
   "metadata": {},
   "outputs": [],
   "source": [
    "X = np.array([random.randint(0, 100) for x in range(30)])\n",
    "Y = np.array([random.randint(0, 100) for x in range(30)])"
   ]
  },
  {
   "cell_type": "code",
   "execution_count": 8,
   "id": "a207d73d-8191-45d2-bc90-173ccb3ab162",
   "metadata": {},
   "outputs": [
    {
     "data": {
      "text/plain": [
       "72086"
      ]
     },
     "execution_count": 8,
     "metadata": {},
     "output_type": "execute_result"
    }
   ],
   "source": [
    "X.dot(Y)"
   ]
  },
  {
   "cell_type": "code",
   "execution_count": 9,
   "id": "c5c77ce3-86ef-4428-a7cd-4bfd005be124",
   "metadata": {},
   "outputs": [
    {
     "data": {
      "text/plain": [
       "72086"
      ]
     },
     "execution_count": 9,
     "metadata": {},
     "output_type": "execute_result"
    }
   ],
   "source": [
    "Y.dot(X)"
   ]
  },
  {
   "cell_type": "code",
   "execution_count": null,
   "id": "e2261e2a-04a3-4241-ac5a-a294481859ca",
   "metadata": {},
   "outputs": [],
   "source": []
  }
 ],
 "metadata": {
  "kernelspec": {
   "display_name": "Python 3",
   "language": "python",
   "name": "python3"
  },
  "language_info": {
   "codemirror_mode": {
    "name": "ipython",
    "version": 3
   },
   "file_extension": ".py",
   "mimetype": "text/x-python",
   "name": "python",
   "nbconvert_exporter": "python",
   "pygments_lexer": "ipython3",
   "version": "3.8.8"
  }
 },
 "nbformat": 4,
 "nbformat_minor": 5
}
