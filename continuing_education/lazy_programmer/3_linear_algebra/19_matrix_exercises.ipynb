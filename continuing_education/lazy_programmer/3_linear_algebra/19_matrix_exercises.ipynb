{
 "cells": [
  {
   "cell_type": "markdown",
   "id": "2ec4dff8-7a72-490f-9de5-7082e82e565b",
   "metadata": {},
   "source": [
    "# Matrix Exercises"
   ]
  },
  {
   "cell_type": "code",
   "execution_count": 1,
   "id": "e9f66493-8e82-4665-90b7-abe3609a3505",
   "metadata": {},
   "outputs": [],
   "source": [
    "import numpy as np"
   ]
  },
  {
   "cell_type": "markdown",
   "id": "8c83999a-9768-42c4-8012-6256b9d2caac",
   "metadata": {},
   "source": [
    "## Arrays vs Matrices"
   ]
  },
  {
   "cell_type": "code",
   "execution_count": 3,
   "id": "d6f5c80c-d86c-4870-9842-7c251c92795c",
   "metadata": {},
   "outputs": [
    {
     "data": {
      "text/plain": [
       "array([[1, 2],\n",
       "       [3, 4]])"
      ]
     },
     "execution_count": 3,
     "metadata": {},
     "output_type": "execute_result"
    }
   ],
   "source": [
    "A = np.array([[1, 2], [3, 4]])\n",
    "A"
   ]
  },
  {
   "cell_type": "code",
   "execution_count": 4,
   "id": "be3a4cac-b024-428c-bed9-61eb2013ec5a",
   "metadata": {},
   "outputs": [
    {
     "data": {
      "text/plain": [
       "matrix([[1, 2],\n",
       "        [3, 4]])"
      ]
     },
     "execution_count": 4,
     "metadata": {},
     "output_type": "execute_result"
    }
   ],
   "source": [
    "M = np.matrix([[1, 2], [3, 4]])\n",
    "M"
   ]
  },
  {
   "cell_type": "markdown",
   "id": "e0d8400d-69ae-4f79-ad19-0d7a5bc56208",
   "metadata": {},
   "source": [
    "$A \\cdot A = \\begin{bmatrix}\n",
    "1*1 + 2*3 & 1*2 + 2*4\\\\\n",
    "3*1 + 4*3 & 3*2 + 4*4\\\\\n",
    "\\end{bmatrix}$ = $\\begin{bmatrix}\n",
    "7 & 10\\\\\n",
    "15 & 22\\\\\n",
    "\\end{bmatrix}$"
   ]
  },
  {
   "cell_type": "code",
   "execution_count": 5,
   "id": "e5dcfba1-cd1c-4d5c-b5b7-f9fc8cc50f22",
   "metadata": {},
   "outputs": [
    {
     "data": {
      "text/plain": [
       "array([[ 7, 10],\n",
       "       [15, 22]])"
      ]
     },
     "execution_count": 5,
     "metadata": {},
     "output_type": "execute_result"
    }
   ],
   "source": [
    "A.dot(A)"
   ]
  },
  {
   "cell_type": "code",
   "execution_count": 6,
   "id": "6337453a-aa8a-4374-a8fa-868e102d0c00",
   "metadata": {},
   "outputs": [
    {
     "data": {
      "text/plain": [
       "matrix([[ 7, 10],\n",
       "        [15, 22]])"
      ]
     },
     "execution_count": 6,
     "metadata": {},
     "output_type": "execute_result"
    }
   ],
   "source": [
    "M.dot(M)"
   ]
  },
  {
   "cell_type": "code",
   "execution_count": 7,
   "id": "4a322789-25be-4eb1-b1be-32d3cedd1778",
   "metadata": {},
   "outputs": [
    {
     "data": {
      "text/plain": [
       "matrix([[ 7, 10],\n",
       "        [15, 22]])"
      ]
     },
     "execution_count": 7,
     "metadata": {},
     "output_type": "execute_result"
    }
   ],
   "source": [
    "A.dot(M)"
   ]
  },
  {
   "cell_type": "code",
   "execution_count": 8,
   "id": "f1c3a51f-9ff4-4703-a88f-a6163b8df437",
   "metadata": {},
   "outputs": [
    {
     "data": {
      "text/plain": [
       "matrix([[ 7, 10],\n",
       "        [15, 22]])"
      ]
     },
     "execution_count": 8,
     "metadata": {},
     "output_type": "execute_result"
    }
   ],
   "source": [
    "M.dot(A)"
   ]
  }
 ],
 "metadata": {
  "kernelspec": {
   "display_name": "Python 3",
   "language": "python",
   "name": "python3"
  },
  "language_info": {
   "codemirror_mode": {
    "name": "ipython",
    "version": 3
   },
   "file_extension": ".py",
   "mimetype": "text/x-python",
   "name": "python",
   "nbconvert_exporter": "python",
   "pygments_lexer": "ipython3",
   "version": "3.8.8"
  }
 },
 "nbformat": 4,
 "nbformat_minor": 5
}
