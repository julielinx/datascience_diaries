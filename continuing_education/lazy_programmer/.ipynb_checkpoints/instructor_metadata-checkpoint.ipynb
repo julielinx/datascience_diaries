{
 "cells": [
  {
   "cell_type": "markdown",
   "id": "e590d1d9-e64f-4e10-ae94-c5305b5a43d8",
   "metadata": {},
   "source": [
    "# The Lazy Programmer\n",
    "\n",
    "Where to find him:\n",
    "\n",
    "- [Udemy](https://www.udemy.com/user/lazy-programmer/)\n",
    "- [Website](https://lazyprogrammer.me/)\n",
    "- [deeplearningcourses.com](https://deeplearningcourses.com/dashboard#page-top)\n",
    "- [Blog](https://lazyprogrammer.me/blog/)\n",
    "\n",
    "Relevant content:\n",
    "\n",
    "- [Order to take his courses in](https://deeplearningcourses.com/course_order)\n",
    "- [Freebie tutorials](https://lazyprogrammer.me/free-programming-tutorials/)\n",
    "- [Machine Learning Compendium online book](https://lazyprogrammer.me/mlcompendium/intro.html)\n",
    "- [How to Build Your Own Computer Science Degree](https://lazyprogrammer.me/cs-degree/): i.e. textbook recommendations\n",
    "- [What Level of Probability for Machine Learning?](https://lazyprogrammer.me/what-level-of-probability-for-machine-learning/)\n",
    "- [More free stuff](https://deeplearningcourses.com/free-stuff)"
   ]
  },
  {
   "cell_type": "code",
   "execution_count": null,
   "id": "26494a6e-4007-4b43-b51c-9622cae51984",
   "metadata": {},
   "outputs": [],
   "source": []
  }
 ],
 "metadata": {
  "kernelspec": {
   "display_name": "Python 3",
   "language": "python",
   "name": "python3"
  },
  "language_info": {
   "codemirror_mode": {
    "name": "ipython",
    "version": 3
   },
   "file_extension": ".py",
   "mimetype": "text/x-python",
   "name": "python",
   "nbconvert_exporter": "python",
   "pygments_lexer": "ipython3",
   "version": "3.8.8"
  }
 },
 "nbformat": 4,
 "nbformat_minor": 5
}
