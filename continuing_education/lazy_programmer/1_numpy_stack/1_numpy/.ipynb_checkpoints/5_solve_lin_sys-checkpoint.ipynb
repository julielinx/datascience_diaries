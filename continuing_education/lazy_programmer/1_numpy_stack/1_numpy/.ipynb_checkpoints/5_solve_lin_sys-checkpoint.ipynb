{
 "cells": [
  {
   "cell_type": "code",
   "execution_count": 9,
   "id": "d3028941-b4e9-4882-a4d9-5376b596bf8e",
   "metadata": {},
   "outputs": [],
   "source": [
    "import numpy as np"
   ]
  },
  {
   "cell_type": "markdown",
   "id": "2f0c3c4e-d5d9-4baf-a62a-dc4f4b53cf9e",
   "metadata": {},
   "source": [
    "The admission fee at a small fair is $1.50 for children and $4.00 for adults. On a certain day, 220 people enter the fair and $5050 was collected. How many children and how many adults attended?"
   ]
  },
  {
   "cell_type": "markdown",
   "id": "a802d394-72bd-432c-bb7c-50a1307cfa99",
   "metadata": {},
   "source": [
    "By hand:\n",
    "\n",
    "1.5x + 4y = 5050\n",
    "x + y = 2200\n",
    "\n",
    "1.5x + 4y = 5050\n",
    "1.5x + 1.5y = 3300\n",
    "yields: 2.5y = 1750\n",
    "y = 700\n",
    "\n",
    "x + 700 = 2200\n",
    "x = 1500"
   ]
  },
  {
   "cell_type": "code",
   "execution_count": 6,
   "id": "2e7e74b6-c467-4cc2-8f12-9a4e849999bc",
   "metadata": {},
   "outputs": [
    {
     "data": {
      "text/plain": [
       "2200"
      ]
     },
     "execution_count": 6,
     "metadata": {},
     "output_type": "execute_result"
    }
   ],
   "source": [
    "1500 + 700"
   ]
  },
  {
   "cell_type": "code",
   "execution_count": 7,
   "id": "12d5ea7d-7717-4a9d-878e-3cf64fb064a1",
   "metadata": {},
   "outputs": [
    {
     "data": {
      "text/plain": [
       "5050.0"
      ]
     },
     "execution_count": 7,
     "metadata": {},
     "output_type": "execute_result"
    }
   ],
   "source": [
    "1.5*1500 + 4*700"
   ]
  },
  {
   "cell_type": "markdown",
   "id": "04a54139-1c08-48a1-8b38-d6b680adb355",
   "metadata": {},
   "source": [
    "Using matrices"
   ]
  },
  {
   "cell_type": "code",
   "execution_count": 11,
   "id": "cd5970a9-3090-400c-ae4b-799da4bfe6e6",
   "metadata": {},
   "outputs": [],
   "source": [
    "# a = np.array([x, y])\n",
    "A = np.array([[1,1],[1.5,4]])\n",
    "b = np.array([2200,5050])"
   ]
  },
  {
   "cell_type": "code",
   "execution_count": 16,
   "id": "f46f3295-f98b-4c84-b1ff-4937b0f165e5",
   "metadata": {},
   "outputs": [
    {
     "data": {
      "text/plain": [
       "array([1500.,  700.])"
      ]
     },
     "execution_count": 16,
     "metadata": {},
     "output_type": "execute_result"
    }
   ],
   "source": [
    "np.linalg.solve(A,b)"
   ]
  }
 ],
 "metadata": {
  "kernelspec": {
   "display_name": "Python 3",
   "language": "python",
   "name": "python3"
  },
  "language_info": {
   "codemirror_mode": {
    "name": "ipython",
    "version": 3
   },
   "file_extension": ".py",
   "mimetype": "text/x-python",
   "name": "python",
   "nbconvert_exporter": "python",
   "pygments_lexer": "ipython3",
   "version": "3.8.8"
  }
 },
 "nbformat": 4,
 "nbformat_minor": 5
}
