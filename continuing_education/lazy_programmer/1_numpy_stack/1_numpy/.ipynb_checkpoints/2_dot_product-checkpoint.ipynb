{
 "cells": [
  {
   "cell_type": "code",
   "execution_count": 1,
   "id": "7a4a2f72-616e-45d2-b3bc-c7cc73f7ff0c",
   "metadata": {},
   "outputs": [],
   "source": [
    "import numpy as np"
   ]
  },
  {
   "cell_type": "code",
   "execution_count": 5,
   "id": "610ccd75-24ca-4258-9c32-cbbb1ffa2058",
   "metadata": {},
   "outputs": [
    {
     "data": {
      "text/plain": [
       "array([ 1.,  2.,  3.,  4.,  5.,  6.,  7.,  8.,  9., 10., 11., 12., 13.,\n",
       "       14., 15., 16., 17., 18., 19., 20., 21., 22., 23., 24., 25., 26.,\n",
       "       27., 28., 29., 30., 31., 32., 33., 34., 35., 36., 37., 38., 39.,\n",
       "       40., 41., 42., 43., 44., 45., 46., 47., 48., 49., 50.])"
      ]
     },
     "execution_count": 5,
     "metadata": {},
     "output_type": "execute_result"
    }
   ],
   "source": [
    "a = np.linspace(1, 50, 50)\n",
    "a"
   ]
  },
  {
   "cell_type": "code",
   "execution_count": 6,
   "id": "551a8e0f-d8f2-45f7-bb90-8207e212df7e",
   "metadata": {},
   "outputs": [
    {
     "data": {
      "text/plain": [
       "array([ 51.,  52.,  53.,  54.,  55.,  56.,  57.,  58.,  59.,  60.,  61.,\n",
       "        62.,  63.,  64.,  65.,  66.,  67.,  68.,  69.,  70.,  71.,  72.,\n",
       "        73.,  74.,  75.,  76.,  77.,  78.,  79.,  80.,  81.,  82.,  83.,\n",
       "        84.,  85.,  86.,  87.,  88.,  89.,  90.,  91.,  92.,  93.,  94.,\n",
       "        95.,  96.,  97.,  98.,  99., 100.])"
      ]
     },
     "execution_count": 6,
     "metadata": {},
     "output_type": "execute_result"
    }
   ],
   "source": [
    "b = np.linspace(51, 100, 50)\n",
    "b"
   ]
  },
  {
   "cell_type": "code",
   "execution_count": 7,
   "id": "2d58cc0c-5e58-4ee5-832e-afcfb5035b75",
   "metadata": {},
   "outputs": [],
   "source": [
    "a = np.array([1,2])\n",
    "b = np.array([3,4])"
   ]
  },
  {
   "cell_type": "markdown",
   "id": "378fdc56-a785-4f79-9712-a1718440a52d",
   "metadata": {},
   "source": [
    "Dot product is:\n",
    "\n",
    "- a*b\n",
    "- 1*3 + 2*4\n",
    "- 4"
   ]
  },
  {
   "cell_type": "code",
   "execution_count": 8,
   "id": "085040c4-cd3e-4b64-bc4d-32d534ad94d4",
   "metadata": {},
   "outputs": [
    {
     "data": {
      "text/plain": [
       "11"
      ]
     },
     "execution_count": 8,
     "metadata": {},
     "output_type": "execute_result"
    }
   ],
   "source": [
    "dot = 0\n",
    "for n, m in zip(a, b):\n",
    "    dot += n*m\n",
    "dot"
   ]
  },
  {
   "cell_type": "code",
   "execution_count": 9,
   "id": "17e46f81-27b8-4a67-8f62-618fa4220160",
   "metadata": {},
   "outputs": [
    {
     "data": {
      "text/plain": [
       "11"
      ]
     },
     "execution_count": 9,
     "metadata": {},
     "output_type": "execute_result"
    }
   ],
   "source": [
    "dot = 0\n",
    "for i in range(len(a)):\n",
    "    dot += a[i]*b[i]\n",
    "dot"
   ]
  },
  {
   "cell_type": "code",
   "execution_count": 11,
   "id": "bfaf410d-0cda-4e3e-b6c3-9bcbc93c1948",
   "metadata": {},
   "outputs": [
    {
     "data": {
      "text/plain": [
       "11"
      ]
     },
     "execution_count": 11,
     "metadata": {},
     "output_type": "execute_result"
    }
   ],
   "source": [
    "sum(a * b)"
   ]
  },
  {
   "cell_type": "code",
   "execution_count": 19,
   "id": "f0661f1e-51f5-49eb-b819-64f34e38c0c6",
   "metadata": {},
   "outputs": [
    {
     "data": {
      "text/plain": [
       "array([3, 8])"
      ]
     },
     "execution_count": 19,
     "metadata": {},
     "output_type": "execute_result"
    }
   ],
   "source": [
    "a * b"
   ]
  },
  {
   "cell_type": "code",
   "execution_count": 18,
   "id": "3c8a742d-62ed-4656-b168-d44f7926bd63",
   "metadata": {},
   "outputs": [
    {
     "data": {
      "text/plain": [
       "array([3, 8])"
      ]
     },
     "execution_count": 18,
     "metadata": {},
     "output_type": "execute_result"
    }
   ],
   "source": [
    "a.T * b"
   ]
  },
  {
   "cell_type": "code",
   "execution_count": 14,
   "id": "4f4a108e-3eb0-401d-84fa-00250a83d839",
   "metadata": {},
   "outputs": [
    {
     "data": {
      "text/plain": [
       "11"
      ]
     },
     "execution_count": 14,
     "metadata": {},
     "output_type": "execute_result"
    }
   ],
   "source": [
    "(a*b).sum()"
   ]
  },
  {
   "cell_type": "code",
   "execution_count": 20,
   "id": "8089e3e4-4089-4541-a6e3-adf71c7dd137",
   "metadata": {},
   "outputs": [
    {
     "data": {
      "text/plain": [
       "11"
      ]
     },
     "execution_count": 20,
     "metadata": {},
     "output_type": "execute_result"
    }
   ],
   "source": [
    "(b.T*a).sum()"
   ]
  },
  {
   "cell_type": "code",
   "execution_count": 15,
   "id": "f246f471-0092-4891-bfc1-e9b101521538",
   "metadata": {},
   "outputs": [
    {
     "data": {
      "text/plain": [
       "11"
      ]
     },
     "execution_count": 15,
     "metadata": {},
     "output_type": "execute_result"
    }
   ],
   "source": [
    "np.dot(a,b)"
   ]
  },
  {
   "cell_type": "code",
   "execution_count": 16,
   "id": "f82385f9-1b70-4824-9db1-5f91b558d381",
   "metadata": {},
   "outputs": [
    {
     "data": {
      "text/plain": [
       "11"
      ]
     },
     "execution_count": 16,
     "metadata": {},
     "output_type": "execute_result"
    }
   ],
   "source": [
    "a.dot(b)"
   ]
  },
  {
   "cell_type": "code",
   "execution_count": 17,
   "id": "2f07f939-c88c-45ab-8141-b5090db3996a",
   "metadata": {},
   "outputs": [
    {
     "data": {
      "text/plain": [
       "11"
      ]
     },
     "execution_count": 17,
     "metadata": {},
     "output_type": "execute_result"
    }
   ],
   "source": [
    "a @ b"
   ]
  },
  {
   "cell_type": "markdown",
   "id": "16182264-4ec1-461f-9cfe-a933ed46388d",
   "metadata": {},
   "source": [
    "## Magnitude of a vector\n",
    "\n",
    "- (sum of xi**2)**(1/2)\n",
    "- sqrt(sum of xi**2)\n",
    "\n",
    "For [1, 2]:\n",
    "\n",
    "- sqrt(1**2 + 2**2)\n",
    "- sqrt(1 + 4)\n",
    "- sqrt(5)\n",
    "\n",
    "For [3, 4]:\n",
    "- sqrt(3**2 + 4**2)\n",
    "- sqrt(9 + 16)\n",
    "- sqrt(25)\n",
    "- 5"
   ]
  },
  {
   "cell_type": "code",
   "execution_count": 21,
   "id": "83b1d0fb-0cba-444d-b604-3cb014dcdaaf",
   "metadata": {},
   "outputs": [
    {
     "data": {
      "text/plain": [
       "2.23606797749979"
      ]
     },
     "execution_count": 21,
     "metadata": {},
     "output_type": "execute_result"
    }
   ],
   "source": [
    "np.sqrt((a**2).sum())"
   ]
  },
  {
   "cell_type": "code",
   "execution_count": 22,
   "id": "6ccb348a-c9b3-4f86-8418-0f3626b64a67",
   "metadata": {},
   "outputs": [
    {
     "data": {
      "text/plain": [
       "5.0"
      ]
     },
     "execution_count": 22,
     "metadata": {},
     "output_type": "execute_result"
    }
   ],
   "source": [
    "np.sqrt((b**2).sum())"
   ]
  },
  {
   "cell_type": "code",
   "execution_count": 23,
   "id": "6fe90bab-a4b2-400b-9099-aeac3dade756",
   "metadata": {},
   "outputs": [
    {
     "data": {
      "text/plain": [
       "2.23606797749979"
      ]
     },
     "execution_count": 23,
     "metadata": {},
     "output_type": "execute_result"
    }
   ],
   "source": [
    "np.linalg.norm(a)"
   ]
  },
  {
   "cell_type": "code",
   "execution_count": 24,
   "id": "464acf0f-706d-4b60-a52e-bd7df04ca2b3",
   "metadata": {},
   "outputs": [
    {
     "data": {
      "text/plain": [
       "5.0"
      ]
     },
     "execution_count": 24,
     "metadata": {},
     "output_type": "execute_result"
    }
   ],
   "source": [
    "np.linalg.norm(b)"
   ]
  },
  {
   "cell_type": "markdown",
   "id": "a09f2c2a-900a-449f-a30b-64284ae4240d",
   "metadata": {},
   "source": [
    "## Find the cos"
   ]
  },
  {
   "cell_type": "code",
   "execution_count": 26,
   "id": "6a11c12f-327f-4a5f-bf1c-1a5cb85cd0c8",
   "metadata": {},
   "outputs": [
    {
     "data": {
      "text/plain": [
       "0.9838699100999074"
      ]
     },
     "execution_count": 26,
     "metadata": {},
     "output_type": "execute_result"
    }
   ],
   "source": [
    "cosangle = a.dot(b) / (np.linalg.norm(a) * np.linalg.norm(b))\n",
    "cosangle"
   ]
  },
  {
   "cell_type": "code",
   "execution_count": 27,
   "id": "856a247e-661b-4fa3-8ef9-1da560c8bd9a",
   "metadata": {},
   "outputs": [
    {
     "data": {
      "text/plain": [
       "0.17985349979247847"
      ]
     },
     "execution_count": 27,
     "metadata": {},
     "output_type": "execute_result"
    }
   ],
   "source": [
    "angle = np.arccos(cosangle)\n",
    "angle"
   ]
  }
 ],
 "metadata": {
  "kernelspec": {
   "display_name": "Python 3",
   "language": "python",
   "name": "python3"
  },
  "language_info": {
   "codemirror_mode": {
    "name": "ipython",
    "version": 3
   },
   "file_extension": ".py",
   "mimetype": "text/x-python",
   "name": "python",
   "nbconvert_exporter": "python",
   "pygments_lexer": "ipython3",
   "version": "3.8.8"
  }
 },
 "nbformat": 4,
 "nbformat_minor": 5
}
