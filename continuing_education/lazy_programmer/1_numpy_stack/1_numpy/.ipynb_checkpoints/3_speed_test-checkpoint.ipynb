{
 "cells": [
  {
   "cell_type": "code",
   "execution_count": 4,
   "id": "ccb4c69e-e185-4fcc-9971-03815548bd26",
   "metadata": {},
   "outputs": [],
   "source": [
    "import numpy as np\n",
    "from datetime import datetime"
   ]
  },
  {
   "cell_type": "code",
   "execution_count": 5,
   "id": "65379ad7-c907-46f0-89a2-c6a8df4589c8",
   "metadata": {},
   "outputs": [],
   "source": [
    "a = np.random.randn(100)\n",
    "b = np.random.randn(100)\n",
    "T = 100000"
   ]
  },
  {
   "cell_type": "code",
   "execution_count": 12,
   "id": "8c181e05-77f2-4728-ab18-b5c6bdcf5e82",
   "metadata": {},
   "outputs": [],
   "source": [
    "def slow_dot_product(a, b):\n",
    "    result = 0\n",
    "    for e, f in zip(a,b):\n",
    "        result += e*f\n",
    "    return result"
   ]
  },
  {
   "cell_type": "code",
   "execution_count": 23,
   "id": "d7bb0bd2-034f-401b-86a5-48f86b076938",
   "metadata": {},
   "outputs": [],
   "source": [
    "def med_dot_product(a, b):\n",
    "    dot = sum([a[i]*b[i] for i in range(len(a))])\n",
    "    return dot"
   ]
  },
  {
   "cell_type": "code",
   "execution_count": 14,
   "id": "21a8bea4-a580-4f57-b8af-d619c3c9637c",
   "metadata": {},
   "outputs": [],
   "source": [
    "def fast_dot_product(a, b):\n",
    "    return a.dot(b)"
   ]
  },
  {
   "cell_type": "code",
   "execution_count": 20,
   "id": "71405aba-4c21-4164-b884-3b2a09e38549",
   "metadata": {},
   "outputs": [
    {
     "name": "stdout",
     "output_type": "stream",
     "text": [
      "1.61 s ± 35.9 ms per loop (mean ± std. dev. of 7 runs, 1 loop each)\n"
     ]
    }
   ],
   "source": [
    "%%timeit\n",
    "\n",
    "for t in range(T):\n",
    "    slow_dot_product(a,b)"
   ]
  },
  {
   "cell_type": "code",
   "execution_count": null,
   "id": "46ff8876-6473-404e-b0f5-3a59048c3db7",
   "metadata": {},
   "outputs": [],
   "source": [
    "%%timeit\n",
    "\n",
    "for t in range(T):\n",
    "    med_dot_product(a,b)"
   ]
  },
  {
   "cell_type": "code",
   "execution_count": 18,
   "id": "a825c3a8-13a8-490d-ab1d-c30e74b2100d",
   "metadata": {},
   "outputs": [
    {
     "name": "stdout",
     "output_type": "stream",
     "text": [
      "58.8 ms ± 2.35 ms per loop (mean ± std. dev. of 7 runs, 10 loops each)\n"
     ]
    }
   ],
   "source": [
    "%%timeit\n",
    "\n",
    "for t in range(T):\n",
    "    fast_dot_product(a,b)"
   ]
  },
  {
   "cell_type": "code",
   "execution_count": null,
   "id": "06a2213c-9d2e-4360-b3da-0b6a48a19da4",
   "metadata": {},
   "outputs": [],
   "source": []
  },
  {
   "cell_type": "code",
   "execution_count": null,
   "id": "266fe6d6-e2d0-40a5-9e0d-b2b32b181462",
   "metadata": {},
   "outputs": [],
   "source": []
  }
 ],
 "metadata": {
  "kernelspec": {
   "display_name": "Python 3",
   "language": "python",
   "name": "python3"
  },
  "language_info": {
   "codemirror_mode": {
    "name": "ipython",
    "version": 3
   },
   "file_extension": ".py",
   "mimetype": "text/x-python",
   "name": "python",
   "nbconvert_exporter": "python",
   "pygments_lexer": "ipython3",
   "version": "3.8.8"
  }
 },
 "nbformat": 4,
 "nbformat_minor": 5
}
