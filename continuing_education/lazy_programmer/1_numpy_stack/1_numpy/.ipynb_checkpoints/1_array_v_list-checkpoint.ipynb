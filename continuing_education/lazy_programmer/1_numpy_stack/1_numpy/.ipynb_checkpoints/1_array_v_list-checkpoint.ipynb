{
 "cells": [
  {
   "cell_type": "markdown",
   "id": "1f2e9787-1fa9-49aa-90ba-0a3c3368ad2b",
   "metadata": {},
   "source": [
    "# Arrays vs Lists"
   ]
  },
  {
   "cell_type": "code",
   "execution_count": 1,
   "id": "789a7a4c-35ff-4f12-937d-484551ae7d50",
   "metadata": {},
   "outputs": [],
   "source": [
    "import numpy as np"
   ]
  },
  {
   "cell_type": "markdown",
   "id": "bb370b3d-1dd1-4aa8-9f60-ada9584fe6b8",
   "metadata": {},
   "source": [
    "## Create data structures"
   ]
  },
  {
   "cell_type": "code",
   "execution_count": 2,
   "id": "fa17c8ea-1dd2-480e-8b28-d161493ea9d3",
   "metadata": {},
   "outputs": [],
   "source": [
    "L = [1, 2, 3]"
   ]
  },
  {
   "cell_type": "code",
   "execution_count": 14,
   "id": "f1919fb5-9438-4feb-9a75-d71454244fb5",
   "metadata": {},
   "outputs": [],
   "source": [
    "A = np.array([1,2,3])"
   ]
  },
  {
   "cell_type": "markdown",
   "id": "5a3f3924-2ef7-4821-a511-1fcca969589c",
   "metadata": {},
   "source": [
    "## Loop through elements"
   ]
  },
  {
   "cell_type": "code",
   "execution_count": 4,
   "id": "fb408b04-e719-4562-a963-5f19c35cf2db",
   "metadata": {},
   "outputs": [
    {
     "name": "stdout",
     "output_type": "stream",
     "text": [
      "1\n",
      "2\n",
      "3\n"
     ]
    }
   ],
   "source": [
    "for item in L:\n",
    "    print(item)"
   ]
  },
  {
   "cell_type": "code",
   "execution_count": 5,
   "id": "1888bee8-b612-4b7c-bfe8-24c591df5404",
   "metadata": {},
   "outputs": [
    {
     "name": "stdout",
     "output_type": "stream",
     "text": [
      "1\n",
      "2\n",
      "3\n"
     ]
    }
   ],
   "source": [
    "for item in A:\n",
    "    print(item)"
   ]
  },
  {
   "cell_type": "markdown",
   "id": "163ff8c4-b80f-41c0-9bb5-6e8c6aaf4829",
   "metadata": {},
   "source": [
    "## Add new element"
   ]
  },
  {
   "cell_type": "code",
   "execution_count": 6,
   "id": "ce96fe99-ce2a-48dd-a7c5-14e924dd55b4",
   "metadata": {},
   "outputs": [
    {
     "data": {
      "text/plain": [
       "[1, 2, 3, 4]"
      ]
     },
     "execution_count": 6,
     "metadata": {},
     "output_type": "execute_result"
    }
   ],
   "source": [
    "L.append(4)\n",
    "L"
   ]
  },
  {
   "cell_type": "code",
   "execution_count": 10,
   "id": "20281106-4a2e-4b19-9b99-2bfe152c2352",
   "metadata": {},
   "outputs": [
    {
     "ename": "AttributeError",
     "evalue": "'numpy.ndarray' object has no attribute 'append'",
     "output_type": "error",
     "traceback": [
      "\u001b[0;31m---------------------------------------------------------------------------\u001b[0m",
      "\u001b[0;31mAttributeError\u001b[0m                            Traceback (most recent call last)",
      "\u001b[0;32m<ipython-input-10-a17c4d6940c3>\u001b[0m in \u001b[0;36m<module>\u001b[0;34m\u001b[0m\n\u001b[0;32m----> 1\u001b[0;31m \u001b[0mA\u001b[0m\u001b[0;34m.\u001b[0m\u001b[0mappend\u001b[0m\u001b[0;34m(\u001b[0m\u001b[0;36m4\u001b[0m\u001b[0;34m)\u001b[0m\u001b[0;34m\u001b[0m\u001b[0;34m\u001b[0m\u001b[0m\n\u001b[0m",
      "\u001b[0;31mAttributeError\u001b[0m: 'numpy.ndarray' object has no attribute 'append'"
     ]
    }
   ],
   "source": [
    "A.append(4)"
   ]
  },
  {
   "cell_type": "code",
   "execution_count": 11,
   "id": "04d3d94b-c2e1-445e-bb1b-749a52e37006",
   "metadata": {},
   "outputs": [
    {
     "ename": "IndexError",
     "evalue": "list assignment index out of range",
     "output_type": "error",
     "traceback": [
      "\u001b[0;31m---------------------------------------------------------------------------\u001b[0m",
      "\u001b[0;31mIndexError\u001b[0m                                Traceback (most recent call last)",
      "\u001b[0;32m<ipython-input-11-7c66f53c9ccd>\u001b[0m in \u001b[0;36m<module>\u001b[0;34m\u001b[0m\n\u001b[0;32m----> 1\u001b[0;31m \u001b[0mL\u001b[0m\u001b[0;34m[\u001b[0m\u001b[0;36m4\u001b[0m\u001b[0;34m]\u001b[0m \u001b[0;34m=\u001b[0m \u001b[0;36m5\u001b[0m\u001b[0;34m\u001b[0m\u001b[0;34m\u001b[0m\u001b[0m\n\u001b[0m",
      "\u001b[0;31mIndexError\u001b[0m: list assignment index out of range"
     ]
    }
   ],
   "source": [
    "L[4] = 5"
   ]
  },
  {
   "cell_type": "code",
   "execution_count": 9,
   "id": "ac936581-5fd7-4b25-a111-98036f3ce7e2",
   "metadata": {},
   "outputs": [
    {
     "ename": "IndexError",
     "evalue": "index 3 is out of bounds for axis 0 with size 3",
     "output_type": "error",
     "traceback": [
      "\u001b[0;31m---------------------------------------------------------------------------\u001b[0m",
      "\u001b[0;31mIndexError\u001b[0m                                Traceback (most recent call last)",
      "\u001b[0;32m<ipython-input-9-cf4bda11c192>\u001b[0m in \u001b[0;36m<module>\u001b[0;34m\u001b[0m\n\u001b[0;32m----> 1\u001b[0;31m \u001b[0mA\u001b[0m\u001b[0;34m[\u001b[0m\u001b[0;36m3\u001b[0m\u001b[0;34m]\u001b[0m \u001b[0;34m=\u001b[0m \u001b[0;36m4\u001b[0m\u001b[0;34m\u001b[0m\u001b[0;34m\u001b[0m\u001b[0m\n\u001b[0m\u001b[1;32m      2\u001b[0m \u001b[0mA\u001b[0m\u001b[0;34m\u001b[0m\u001b[0;34m\u001b[0m\u001b[0m\n",
      "\u001b[0;31mIndexError\u001b[0m: index 3 is out of bounds for axis 0 with size 3"
     ]
    }
   ],
   "source": [
    "A[3] = 4"
   ]
  },
  {
   "cell_type": "code",
   "execution_count": 12,
   "id": "29167a4d-420a-4690-8978-425122ebd512",
   "metadata": {},
   "outputs": [
    {
     "data": {
      "text/plain": [
       "[1, 2, 3, 4, 5]"
      ]
     },
     "execution_count": 12,
     "metadata": {},
     "output_type": "execute_result"
    }
   ],
   "source": [
    "L = L + [5]\n",
    "L"
   ]
  },
  {
   "cell_type": "code",
   "execution_count": 15,
   "id": "e5de98a0-9106-4ac5-93bb-210bfbf98691",
   "metadata": {},
   "outputs": [
    {
     "data": {
      "text/plain": [
       "array([5, 6, 7])"
      ]
     },
     "execution_count": 15,
     "metadata": {},
     "output_type": "execute_result"
    }
   ],
   "source": [
    "A + np.array(4)"
   ]
  },
  {
   "cell_type": "markdown",
   "id": "64dae9b0-a4aa-4034-ad9e-09615509fe18",
   "metadata": {},
   "source": [
    "Arrays are immutable. If you try to add, it will do element-wise addition, not concatenate the values to the end of the array."
   ]
  },
  {
   "cell_type": "code",
   "execution_count": 17,
   "id": "612fcd1a-a70e-486d-93a2-7484161a1901",
   "metadata": {},
   "outputs": [
    {
     "data": {
      "text/plain": [
       "array([5, 7, 9])"
      ]
     },
     "execution_count": 17,
     "metadata": {},
     "output_type": "execute_result"
    }
   ],
   "source": [
    "A + np.array([4,5,6])"
   ]
  },
  {
   "cell_type": "markdown",
   "id": "5625e9b9-195e-4dc2-bc4c-5d1d2d372b5f",
   "metadata": {},
   "source": [
    "## Mathematical operators (addition, multiplication, etc)"
   ]
  },
  {
   "cell_type": "code",
   "execution_count": 18,
   "id": "292f7f83-65aa-42e8-bcaa-1f68c075393a",
   "metadata": {},
   "outputs": [
    {
     "data": {
      "text/plain": [
       "[1, 2, 3, 4, 5, 1, 2, 3, 4, 5]"
      ]
     },
     "execution_count": 18,
     "metadata": {},
     "output_type": "execute_result"
    }
   ],
   "source": [
    "L * 2"
   ]
  },
  {
   "cell_type": "code",
   "execution_count": 19,
   "id": "419c426d-5913-4f64-b3c1-b5ec11294b44",
   "metadata": {},
   "outputs": [
    {
     "data": {
      "text/plain": [
       "array([2, 4, 6])"
      ]
     },
     "execution_count": 19,
     "metadata": {},
     "output_type": "execute_result"
    }
   ],
   "source": [
    "A * 2"
   ]
  },
  {
   "cell_type": "code",
   "execution_count": 20,
   "id": "23285b8e-6587-419c-af36-427ef5c52d76",
   "metadata": {},
   "outputs": [
    {
     "data": {
      "text/plain": [
       "[1, 2, 3, 4, 5, 1, 2, 3, 4, 5]"
      ]
     },
     "execution_count": 20,
     "metadata": {},
     "output_type": "execute_result"
    }
   ],
   "source": [
    "L + L"
   ]
  },
  {
   "cell_type": "code",
   "execution_count": 21,
   "id": "ce50cb6e-301e-4349-af9a-5ec4170f6bc1",
   "metadata": {},
   "outputs": [
    {
     "data": {
      "text/plain": [
       "array([2, 4, 6])"
      ]
     },
     "execution_count": 21,
     "metadata": {},
     "output_type": "execute_result"
    }
   ],
   "source": [
    "A + A"
   ]
  },
  {
   "cell_type": "code",
   "execution_count": 22,
   "id": "149dd000-4843-4af8-b53a-88326186bfc5",
   "metadata": {},
   "outputs": [
    {
     "ename": "TypeError",
     "evalue": "can't multiply sequence by non-int of type 'list'",
     "output_type": "error",
     "traceback": [
      "\u001b[0;31m---------------------------------------------------------------------------\u001b[0m",
      "\u001b[0;31mTypeError\u001b[0m                                 Traceback (most recent call last)",
      "\u001b[0;32m<ipython-input-22-1504eaf467f8>\u001b[0m in \u001b[0;36m<module>\u001b[0;34m\u001b[0m\n\u001b[0;32m----> 1\u001b[0;31m \u001b[0mL\u001b[0m \u001b[0;34m*\u001b[0m \u001b[0mL\u001b[0m\u001b[0;34m\u001b[0m\u001b[0;34m\u001b[0m\u001b[0m\n\u001b[0m",
      "\u001b[0;31mTypeError\u001b[0m: can't multiply sequence by non-int of type 'list'"
     ]
    }
   ],
   "source": [
    "L * L"
   ]
  },
  {
   "cell_type": "code",
   "execution_count": 23,
   "id": "e6059481-c3b6-43fc-adaa-46ab412e30cd",
   "metadata": {},
   "outputs": [
    {
     "data": {
      "text/plain": [
       "array([1, 4, 9])"
      ]
     },
     "execution_count": 23,
     "metadata": {},
     "output_type": "execute_result"
    }
   ],
   "source": [
    "A * A"
   ]
  },
  {
   "cell_type": "code",
   "execution_count": 24,
   "id": "a7e4cbf6-3fcf-4765-960a-edadedf22567",
   "metadata": {},
   "outputs": [
    {
     "ename": "TypeError",
     "evalue": "unsupported operand type(s) for ** or pow(): 'list' and 'int'",
     "output_type": "error",
     "traceback": [
      "\u001b[0;31m---------------------------------------------------------------------------\u001b[0m",
      "\u001b[0;31mTypeError\u001b[0m                                 Traceback (most recent call last)",
      "\u001b[0;32m<ipython-input-24-99008242ace2>\u001b[0m in \u001b[0;36m<module>\u001b[0;34m\u001b[0m\n\u001b[0;32m----> 1\u001b[0;31m \u001b[0mL\u001b[0m\u001b[0;34m**\u001b[0m\u001b[0;36m2\u001b[0m\u001b[0;34m\u001b[0m\u001b[0;34m\u001b[0m\u001b[0m\n\u001b[0m",
      "\u001b[0;31mTypeError\u001b[0m: unsupported operand type(s) for ** or pow(): 'list' and 'int'"
     ]
    }
   ],
   "source": [
    "L**2"
   ]
  },
  {
   "cell_type": "code",
   "execution_count": 25,
   "id": "1fd4d8d3-4c0f-4621-82f2-5e888ba25b34",
   "metadata": {},
   "outputs": [
    {
     "data": {
      "text/plain": [
       "[1, 4, 9, 16, 25]"
      ]
     },
     "execution_count": 25,
     "metadata": {},
     "output_type": "execute_result"
    }
   ],
   "source": [
    "[e**2 for e in L]"
   ]
  },
  {
   "cell_type": "code",
   "execution_count": 26,
   "id": "45111282-f501-4bb8-ac64-389c7e85dbfd",
   "metadata": {},
   "outputs": [
    {
     "data": {
      "text/plain": [
       "array([1, 4, 9])"
      ]
     },
     "execution_count": 26,
     "metadata": {},
     "output_type": "execute_result"
    }
   ],
   "source": [
    "A**2"
   ]
  },
  {
   "cell_type": "code",
   "execution_count": 28,
   "id": "1791fb8f-0ec2-444d-a533-7a863e6a1ae8",
   "metadata": {},
   "outputs": [
    {
     "data": {
      "text/plain": [
       "[1.0, 1.4142135623730951, 1.7320508075688772, 2.0, 2.23606797749979]"
      ]
     },
     "execution_count": 28,
     "metadata": {},
     "output_type": "execute_result"
    }
   ],
   "source": [
    "[e**(1/2) for e in L]"
   ]
  },
  {
   "cell_type": "code",
   "execution_count": 27,
   "id": "e787535e-cf54-49b1-892f-92b49928b916",
   "metadata": {},
   "outputs": [
    {
     "data": {
      "text/plain": [
       "array([1.        , 1.41421356, 1.73205081])"
      ]
     },
     "execution_count": 27,
     "metadata": {},
     "output_type": "execute_result"
    }
   ],
   "source": [
    "np.sqrt(A)"
   ]
  },
  {
   "cell_type": "code",
   "execution_count": 29,
   "id": "41c046b0-2e9a-43f7-9c03-c9ea735d925b",
   "metadata": {},
   "outputs": [
    {
     "data": {
      "text/plain": [
       "[0.0,\n",
       " 0.6931471805599453,\n",
       " 1.0986122886681098,\n",
       " 1.3862943611198906,\n",
       " 1.6094379124341003]"
      ]
     },
     "execution_count": 29,
     "metadata": {},
     "output_type": "execute_result"
    }
   ],
   "source": [
    "[np.log(e) for e in L]"
   ]
  },
  {
   "cell_type": "code",
   "execution_count": 30,
   "id": "486b4c15-c5e8-4fc9-9474-5f67a448e11c",
   "metadata": {},
   "outputs": [
    {
     "data": {
      "text/plain": [
       "array([0.        , 0.69314718, 1.09861229])"
      ]
     },
     "execution_count": 30,
     "metadata": {},
     "output_type": "execute_result"
    }
   ],
   "source": [
    "np.log(A)"
   ]
  },
  {
   "cell_type": "code",
   "execution_count": 31,
   "id": "907d9774-6ad8-45e5-965b-31a5dbe86c26",
   "metadata": {},
   "outputs": [
    {
     "data": {
      "text/plain": [
       "array([ 2.71828183,  7.3890561 , 20.08553692])"
      ]
     },
     "execution_count": 31,
     "metadata": {},
     "output_type": "execute_result"
    }
   ],
   "source": [
    "np.exp(A)"
   ]
  },
  {
   "cell_type": "code",
   "execution_count": null,
   "id": "05e03f1e-efb4-4f79-93a9-6d7c13ad6ad7",
   "metadata": {},
   "outputs": [],
   "source": []
  }
 ],
 "metadata": {
  "kernelspec": {
   "display_name": "Python 3",
   "language": "python",
   "name": "python3"
  },
  "language_info": {
   "codemirror_mode": {
    "name": "ipython",
    "version": 3
   },
   "file_extension": ".py",
   "mimetype": "text/x-python",
   "name": "python",
   "nbconvert_exporter": "python",
   "pygments_lexer": "ipython3",
   "version": "3.8.8"
  }
 },
 "nbformat": 4,
 "nbformat_minor": 5
}
