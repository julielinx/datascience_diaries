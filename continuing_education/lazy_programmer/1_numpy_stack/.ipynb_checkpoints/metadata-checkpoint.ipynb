{
 "cells": [
  {
   "cell_type": "markdown",
   "id": "1cddacd3-f279-4bc4-9b78-7279588d0ac0",
   "metadata": {},
   "source": [
    "# [Deep Learning Prerequisites: The Numpy Stack in Python (V2+)](https://www.udemy.com/course/deep-learning-prerequisites-the-numpy-stack-in-python/)\n",
    "\n",
    "This course is hosted on Udemy and was created by The Lazy Programmer."
   ]
  },
  {
   "cell_type": "markdown",
   "id": "fb6159aa-35ab-424d-b741-1fb9a89ebe12",
   "metadata": {},
   "source": [
    "![Course Completed](https://udemy-certificate.s3.amazonaws.com/image/UC-MSC16MX9.jpg)"
   ]
  },
  {
   "cell_type": "code",
   "execution_count": null,
   "id": "ad0863ad-04e6-4609-8bae-30520434ed27",
   "metadata": {},
   "outputs": [],
   "source": []
  }
 ],
 "metadata": {
  "kernelspec": {
   "display_name": "Python 3",
   "language": "python",
   "name": "python3"
  },
  "language_info": {
   "codemirror_mode": {
    "name": "ipython",
    "version": 3
   },
   "file_extension": ".py",
   "mimetype": "text/x-python",
   "name": "python",
   "nbconvert_exporter": "python",
   "pygments_lexer": "ipython3",
   "version": "3.8.8"
  }
 },
 "nbformat": 4,
 "nbformat_minor": 5
}
