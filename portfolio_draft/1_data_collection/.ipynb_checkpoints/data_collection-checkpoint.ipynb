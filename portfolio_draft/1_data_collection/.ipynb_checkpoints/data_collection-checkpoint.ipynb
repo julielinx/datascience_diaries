{
 "cells": [
  {
   "cell_type": "markdown",
   "id": "426c7551-e434-4a71-8e34-b094dd24a05c",
   "metadata": {},
   "source": [
    "# Data Collection"
   ]
  },
  {
   "cell_type": "markdown",
   "id": "111f9d39-6235-4a19-b99a-0550c96c0aa1",
   "metadata": {},
   "source": [
    "There are two aspects of data collection that are the most important:\n",
    "\n",
    "- Collecting the *right* information\n",
    "- Collecting *correct* information\n",
    "\n",
    "To illustrate these concepts, let's use an example: what used to be called balancing the checkbook and now that few people use checkbooks is probably more appropriately called reconsiling the finances.\n",
    "\n",
    "Regardless of what you call it, the general premise is to record how much money you spend and compare that against what your bank account says you've been charged."
   ]
  },
  {
   "cell_type": "markdown",
   "id": "96fbfe92-b1a0-459f-a690-b08cce0c14ad",
   "metadata": {},
   "source": [
    "## Getting the Right Information\n",
    "\n",
    "Getting the right information is harder than it sounds. Without the right data you can't answer questions, analyze trends, make predictions, or recommend future action. In my experience, there are two major common mistakes: collecting the wrong data and getting too much or too little data.\n",
    "\n",
    "Using the balance-the-finances example, in order to compare what I spent with what my bank account reflects, I need to record actual expenditures. Here are some examples of how I could go wrong when collecting data to balance my finances:\n",
    "\n",
    "#### Wrong data\n",
    "\n",
    "- Recording the base price of every item in the store. This won't do me any good because I have no indication of which items I actually purchased\n",
    "- Recording the base price of the items I purchase when they're on sale. This also won't do me any good because I didn't pay the base price, I paid the sale price. Also, if I just record the base price, I haven't taken into account the taxes I paid on the item\n",
    "\n",
    "#### Too much or too little information\n",
    "\n",
    "- Recording the base price, sale price, and tax amount will (eventually) get me the information I need, but there is a lot of info there that I don't need. This adds a layer of complexity before I can get my answer\n",
    "- Recording purchases I make on the weekends. This will allow me to account from only a small portion of my expenses and will probably exclude all deposits since paychecks are usually deposited during business hours on weekdays\n",
    "\n",
    "The right information to collect in this particular instance is the amount I paid or deposited no matter the payment method or time/date of the interaction."
   ]
  },
  {
   "cell_type": "markdown",
   "id": "89515b90-0702-4ccd-bfa6-3cdcce54fe26",
   "metadata": {},
   "source": [
    "## Population Sampling\n",
    "\n",
    "In an era when all digital interactions have the potential to be recorded, it's easy to fall into the trap of thinking all information can be obtained about the area of interest. However, it's important to keep in mind whether you're actually seeing *all* data of interest.\n",
    "\n",
    "For example, let's say I only record the purchases I make with my credit card. If I make all my purchases with a credit card then this is fine. But if I use check, cash, money order or bitcoin, even if it's only rarely, then I'll be missing data and my finances won't balance.\n",
    "\n",
    "Perhaps a more subtle distinction would be what I balance my expenses and deposits against. If I only look at the charges and deposits in my checking account, but have set up a single payor to send funds directly to my savings account, my finances also won't balance.\n",
    "\n",
    "We can see the same concepts in large real world data collection. Political polling is a great example. Any poll that occurs soley online only polls a narrow subset of the population: the people that go online, that frequent whatever site the poll was posted to, and that are inclined to answer polling questions. The same is true of polls that call citizens; this subset includes people that: have a landline or haven't put their cell number on the do-not-call list, are willing to answer a call from an unknown number, and are inclined to answer polling questions.\n",
    "\n",
    "Retail and customer service industries encounter the same challenges. Are all interactions recorded digitally, or do some interactions happen in person or over the phone which are harder to capture? Are you seeing all your customers, or only the ones having problems or that are satisfied?\n",
    "\n",
    "When setting up data collection, it's important to be aware of any limitations, considerations, or caveats to the population sampled and datat that's available for collection."
   ]
  },
  {
   "cell_type": "markdown",
   "id": "f2a03496-31b6-4d55-a790-fb6fb513846c",
   "metadata": {},
   "source": [
    "## Data Quality\n",
    "\n",
    "### Reliability\n",
    "\n",
    "### Validity"
   ]
  },
  {
   "cell_type": "markdown",
   "id": "724d9619-2dec-4edd-b241-47cc4f6e38ea",
   "metadata": {},
   "source": [
    "## Data Type\n",
    "\n",
    "## Quantative: Numbers\n",
    "\n",
    "## Qualitative: categorizations"
   ]
  },
  {
   "cell_type": "markdown",
   "id": "0645c784-2b3f-49de-ac79-295f6a69dc25",
   "metadata": {},
   "source": [
    "## Sources\n",
    "\n",
    "In today's world, where the price of data storage continues to decline and our ability to track and record actions and information continues to increase, data can come from many sources.\n",
    "\n",
    "[Scribber](https://www.scribbr.com/) has a nice table of [data collection methods](https://www.scribbr.com/methodology/data-collection/#step-2-choose-your-data-collection-method). Some of the more common business data sources include:\n",
    "\n",
    "- Observation: measuring events, actions, etc without attempting to affect them\n",
    "  - Examples:\n",
    "    - Internet of Things (IOT): just about any device that records and sends digital information falls into this category. It can include cell phones, smart TVs, internet browsers, smart appliances, and many more\n",
    "    - Remote sensors: as technology spreads into diverse sectors, digital sensors and meters that send information back for collection and use are becoming more prevalent. This can be anythingn from the electricity and water use at a residence to meters to a nuclear power plant to satellites recording daily temperature by geolocation\n",
    "    - Busineses often record information about their interactions with their customers, vendors, suppliers, etc. All of the information that is collected about events that occur during regular business practices are observations\n",
    "- Survey: predetermined questions that are asked in either verbally (in person, on the phone, video conference, etc) or written (email, letter, ect). Caution: survey questions must be crafted carefully because the way they're worded can influence the answer respondents provide, thus biasing the results\n",
    "  - Examples:\n",
    "    - Customer service is often gaged using customer satisfaction survyes. These can be done via interactive phone surveys (customer pushes a number key to indicate their answer), by a post-card shaped written survey, a follow up email, or the representative that provided the survice to name a few\n",
    "    - The arboretum society keeps sending me a mailed survey asking about information on the trees in my area\n",
    "    - Medical research frequently uses surveys to get background information on patients and to gage patient satisfaction with the service provided\n",
    "- Interview/focus group: Open ended questions asked by an interviewer in either a one-one or group setting\n",
    "  - Examples:\n",
    "    - Market research uses focus groups extensively to test how a product will be received by consuers\n",
    "    - The entertainment industry uses focus groups to test audience reaction to movies, sometimes showing different groups alternate endings, beginnings, etc to see what works best\n",
    "- Archival research: historical information such as manuscripts, documents, records, repositories, photographs, or other historic records\n",
    "  - Example:\n",
    "    - Climate research often uses archival data. This can include such data as satellite data over the last 20 years, pictures of glaciers from 50 years ago, and written descriptions/records of major events such as floods or earthquakes\n",
    "- Secondary data: data that has already been collected, usually collected by sources such as governments or research organizations\n",
    "  - Example:\n",
    "    - Businesses frequently supplement the information they gather with secondary sources. Such secondary data could be thrid party records of the physical location of an IP address or the number of people in a household"
   ]
  },
  {
   "cell_type": "markdown",
   "id": "7781cf2d-4ded-4fab-ba65-19c9f6a57e35",
   "metadata": {},
   "source": [
    "# Resources\n",
    "\n",
    "- [Wikipedia - Data collection](https://en.wikipedia.org/wiki/Data_collection)\n",
    "- [Resoponsible Conduct in Data Management - Data Collection](https://ori.hhs.gov/education/products/n_illinois_u/datamanagement/dctopic.html)\n",
    "- [Data Collection | A Step-by-Step Guide with Methods and Examples](https://www.scribbr.com/methodology/data-collection/)\n",
    "- [data collection](https://www.techtarget.com/searchcio/definition/data-collection)\n",
    "- [Data Collection: How to Get Started](https://www.dimagi.com/data-collection/)\n",
    "- [What Is Data Collection: Methods, Types, Tools, and Techniques](https://www.simplilearn.com/what-is-data-collection-article)\n",
    "- [Data Collection: Best Methods + Practical Examples](https://www.iteratorshq.com/blog/data-collection-best-methods-practical-examples/)\n",
    "- [What are the Methods of Data Collection?](https://www.lotame.com/what-are-the-methods-of-data-collection/)"
   ]
  },
  {
   "cell_type": "code",
   "execution_count": null,
   "id": "fbf28042-5116-499c-9a4b-1586b13150ae",
   "metadata": {},
   "outputs": [],
   "source": []
  }
 ],
 "metadata": {
  "kernelspec": {
   "display_name": "Python 3",
   "language": "python",
   "name": "python3"
  },
  "language_info": {
   "codemirror_mode": {
    "name": "ipython",
    "version": 3
   },
   "file_extension": ".py",
   "mimetype": "text/x-python",
   "name": "python",
   "nbconvert_exporter": "python",
   "pygments_lexer": "ipython3",
   "version": "3.8.8"
  }
 },
 "nbformat": 4,
 "nbformat_minor": 5
}
