{
 "cells": [
  {
   "cell_type": "markdown",
   "id": "eddd79b6-e262-4e85-bea4-85d3cd458362",
   "metadata": {},
   "source": [
    "# Calculus Differentiation Rules"
   ]
  },
  {
   "cell_type": "markdown",
   "id": "1529430f-b9dd-43a9-910e-ea2e43e5cdc6",
   "metadata": {},
   "source": [
    "# Power rule\n",
    "\n",
    "power functions: $f(x) = x^n$\n",
    "\n",
    "$\\frac{d}{dx}(x^n) = f'(x^n) = nx^{n-1}$\n",
    "\n",
    "Example: $\\frac{d}{dx}x^5 = 5x^{5-4} = 5x^4$\n",
    "\n",
    "Special case example: $\\frac{d}{dx}(x) = 1x^0 = 1$"
   ]
  },
  {
   "cell_type": "markdown",
   "id": "0471371d-88fd-426b-b455-03584fd0f9e5",
   "metadata": {},
   "source": [
    "# Constant\n",
    "\n",
    "constant function: $f(x) = 5$\n",
    "\n",
    "$\\frac{d}{dx}(x) = f'(x) = 0$\n",
    "\n",
    "Example: $\\frac{d}{dx}(5) = 0$\n",
    "\n",
    "This basically says that a constant (which is a horizontal line when graphed) has a slope of 0."
   ]
  },
  {
   "cell_type": "code",
   "execution_count": 6,
   "id": "b17a441b-4ed8-45fd-8022-53e07f7027fe",
   "metadata": {},
   "outputs": [
    {
     "data": {
      "image/png": "[encoded data removed]",
      "text/plain": [
       "<Figure size 432x288 with 1 Axes>"
      ]
     },
     "metadata": {
      "needs_background": "light"
     },
     "output_type": "display_data"
    }
   ],
   "source": [
    "import numpy as np\n",
    "import matplotlib.pyplot as plt\n",
    "\n",
    "plt.axhline(y=5)\n",
    "plt.axhline(y=0, c='k')\n",
    "plt.axvline(x=0, c='k')\n",
    "plt.grid()\n",
    "plt.xlim(-3, 10)\n",
    "plt.ylim(-3, 10);"
   ]
  },
  {
   "cell_type": "markdown",
   "id": "d151530b-293a-4b6f-9d75-8549b18a846c",
   "metadata": {},
   "source": [
    "# Constant multiple\n",
    "\n",
    "constant multiple function: $f(x) = cx$\n",
    "\n",
    "Where $c$ is a constant\n",
    "\n",
    "$\\frac{d}{dx}(c f(x)) = c f'(x)$\n",
    "\n",
    "Example: $\\frac{d}{dx}(5 x^2) = 5 \\times 2x^1 = 10x$"
   ]
  },
  {
   "cell_type": "markdown",
   "id": "6649b2ab-3495-4640-aaba-5dabb72a31b1",
   "metadata": {},
   "source": [
    "# Sum & Difference rules\n",
    "\n",
    "$\\frac{d}{dx}(f(x) \\pm g(x)) = \\frac{d}{dx}f(x) \\pm \\frac{d}{dx}g(x)$\n",
    "\n",
    "## Stated separately:\n",
    "\n",
    "### Sum\n",
    "\n",
    "$\\frac{d}{dx}(f(x) + g(x)) = f'(x) + g'(x)$\n",
    "\n",
    "### Difference (Subtraction)\n",
    "\n",
    "$\\frac{d}{dx}(f(x) - g(x)) = f'(x) - g'(x)$"
   ]
  },
  {
   "cell_type": "markdown",
   "id": "03f13e4c-47d2-4357-9035-b0e52339f6d8",
   "metadata": {},
   "source": [
    "# Combining rules - polynomials\n",
    "\n",
    "Rules can be combined.\n",
    "\n",
    "Example combining power rule, constant multiple rule, constant rule, sum and difference rules:\n",
    "\n",
    "$\\frac{d}{dx}(5x^2 + 3x - 10) = 5(2x^1) + 3x^0 - 0 = 10x + 3$"
   ]
  },
  {
   "cell_type": "markdown",
   "id": "ecc132df-cda1-4007-9e21-4181c2dd7c4d",
   "metadata": {},
   "source": [
    "# Exponential rule\n",
    "\n",
    "Exponent = $f(x) = b^x$\n",
    "\n",
    "$\\frac{d}{dx}(b^x) = \\ln b \\times b^x$\n",
    "\n",
    "Special case:\n",
    "\n",
    "- $\\frac{d}{dx}(e^x) = e^x$\n",
    "\n",
    "- $\\frac{d}{dx}(e^{-x}) = -e^{-x}$"
   ]
  },
  {
   "cell_type": "markdown",
   "id": "d4fa0cb5-5973-4c2e-9390-5448194d25a3",
   "metadata": {},
   "source": [
    "# Logarithmic Rule\n",
    "\n",
    "logarithmic function = $\\log_b x = y$\n",
    "\n",
    "$\\frac{d}{dx} (\\log_b x) = \\frac{1}{x \\ln b}$\n",
    "\n",
    "The most commonly used base for logarithmic functions is e.\n",
    "\n",
    "$\\frac{d}{dx}(\\ln x) = \\frac{1}{x}$\n",
    "\n",
    "*Note*, the domain of log is $\\mathbb{R^+}$, x can only accept values greater than 0, $x > 0$"
   ]
  },
  {
   "cell_type": "markdown",
   "id": "1b367cb4-05f5-4cb5-911f-65dface60af7",
   "metadata": {},
   "source": [
    "# Product Rule\n",
    "\n",
    "$\\frac{d}{dx}(f(x)g(x)) = f(x)g'(x) + f'(x)g(x)$\n",
    "\n",
    "$(f(x)g(x))' = f'g + g'f = f'g + fg'$\n",
    "\n",
    "Due to the commutative property it doesn't really matter what order these opperations are preformed in as long as the prime and non-prime are paired together.\n",
    "\n",
    "However, to make the quotient rule easier to remember (because subtraction and division are not commutative), it's best to think of it as:\n",
    "\n",
    "$(f(x)g(x))' = f'g + g'f$\n",
    "\n",
    "$\\Rightarrow$ first prime (denoted here as $f'$, but could be any dummy variable) times second, second prime (here denoted as $g'$, but could be any dummy variable) times first.\n",
    "\n",
    "Example: $\\frac{d}{dx}(x^4 \\times 3x) = 4x^3(3x) + 3(x^4) = 12x^4 + 3x^4 = 15x^4$"
   ]
  },
  {
   "cell_type": "markdown",
   "id": "9bfe5494-9195-4967-afd5-982b64d7e1a1",
   "metadata": {},
   "source": [
    "# Quotient Rule\n",
    "\n",
    "$\\frac{d}{dx}(\\frac{f(x)}{g(x)}) = \\frac{f'g - g'f}{(g)^2}$\n",
    "\n",
    "This is generally taught as top prime times bottom minus bottom prime times top all over bottom squared.\n",
    "\n",
    "Example: $\\frac{d}{dx}\\frac{x^4}{3x} = \\frac{4x^3(3x) - 3(x^4)}{(3x)^2} = \\frac{12x^4 - 3x^4}{9x^2} = \\frac{9x^4}{9x^2} = x^2$\n",
    "\n",
    "### However\n",
    "\n",
    "The quotient rule can be turned into the product rule with the following change\n",
    "\n",
    "$\\frac{d}{dx}\\frac{f(x)}{g(x)} = \\frac{d}{dx}(f(x) \\times g(x)^{-1}) = \\frac{d}{dx}(f \\times g^{-1})$"
   ]
  },
  {
   "cell_type": "markdown",
   "id": "af1db964-0dd2-4dea-8568-f32008bf3c5d",
   "metadata": {},
   "source": [
    "# Chain rule\n",
    "\n",
    "$f(g(x)) = (f \\circ g)(x)$\n",
    "\n",
    "$(f \\circ g)'(x) = f'(g(x)) \\times g'(x)$\n",
    "\n",
    "This can also be thought of as splitting them into different functions.\n",
    "\n",
    "Example:\n",
    "\n",
    "$y = \\sqrt{1 + x^2}$\n",
    "\n",
    "$f(u) = \\sqrt{u} \\text{,} \\quad g(x) = 1 + x^2$\n",
    "\n",
    "Breaking the functions into pieces gives:\n",
    "\n",
    "$f(u) = \\sqrt{u} = u^{\\frac{1}{2}}$ \\\n",
    "$f'(u) = \\frac{dy}{du} = \\frac{1}{2}u^{- \\frac{1}{2}} = \\frac{1}{2\\sqrt{u}}$\n",
    "\n",
    "$g(x) = 1 + x^2$\\\n",
    "$g'(x) = \\frac{du}{dx}(1 + x^2) = 0 + 2x^1 = 2x$\n",
    "\n",
    "Putting those back together through multiplication gives:\n",
    "\n",
    "$\\frac{dy}{dx} = \\frac{dy}{du} \\times \\frac{du}{dx}$\n",
    "\n",
    "$\\frac{1}{2\\sqrt{u}} \\times \\frac{2x}{1}$\\\n",
    "$\\frac{x}{\\sqrt{u}} \\to \\frac{x}{\\sqrt{1 + x^2}}$\n",
    "\n",
    "But $\\frac{dy}{dx}$ isn't really a ratio and you can't always treat it as a ratio."
   ]
  },
  {
   "cell_type": "markdown",
   "id": "d87c2d92-9a43-41d0-8806-fac2b455c727",
   "metadata": {},
   "source": [
    "## Chain rule exercises\n",
    "\n",
    "### 1. \n",
    "\n",
    "$y = (1 + x^2)^{20}$\n",
    "\n",
    "Find $y'$\n",
    "\n",
    "$f(u) = u^{20}$\\\n",
    "$g(x) = 1 + x^2$\n",
    "\n",
    "$f'(u) = 20u^{19}$\n",
    "\n",
    "$g'(x) = 0 + 2x$\n",
    "\n",
    "$\\frac{dy}{dy} \\times \\frac{du}{dx} = 20u^{19}(2x) = 40x(u^{19})$\n",
    "\n",
    "$\\quad = 40x(1+x^2)^{19}$"
   ]
  },
  {
   "cell_type": "markdown",
   "id": "b7f050bb-72d0-4cfd-b18c-24aecbc50475",
   "metadata": {},
   "source": [
    "### 2. Gaussian\n",
    "\n",
    "$y = e^{-x^2}$\n",
    "\n",
    "$f(u) = e^u$\n",
    "\n",
    "$g(x) = -x^2$\n",
    "\n",
    "$f'(u) = e^u$\n",
    "\n",
    "$g'(x) = -2x$\n",
    "\n",
    "$\\frac{dy}{du} \\times \\frac{du}{dx} = e^u(-2x)$\n",
    "\n",
    "$= -2xe^{-x^2}$"
   ]
  },
  {
   "cell_type": "markdown",
   "id": "4a355bd0-cbed-428c-a939-ba0f3b9066a3",
   "metadata": {},
   "source": [
    "### 3. Sigmoid\n",
    "\n",
    "$y = \\frac{1}{1 + e^{-x}} = (1 + e^{-x})^{-1}$\n",
    "\n",
    "$f(u) = u^{-1}$\n",
    "\n",
    "$g(x) = 1 + e^{-x}$\n",
    "\n",
    "$f'(u) = -u^{-2}$\n",
    "\n",
    "$g'(x) = 0 + e^{-x} = -e^{-x}$\n",
    "\n",
    "$\\frac{dy}{du} \\times \\frac{du}{dx} = -u^{-2}(-e^{-x}) = e^{-x}u^{-2}$\n",
    "\n",
    "$\\frac{e^{-x}}{u^2} = \\frac{e^{-x}}{(1 + e^{-x})^2}$\n",
    "\n",
    "$= \\frac{1}{1 + e^{-x}}(1 - \\frac{1}{1 + e^{-x}})$\n",
    "\n",
    "$\\Rightarrow y' = y(1 - y)$"
   ]
  },
  {
   "cell_type": "markdown",
   "id": "1e89a55a-fd81-46c0-ba55-b5fbcdd1276f",
   "metadata": {},
   "source": [
    "# Trigonometric rules\n",
    "\n",
    "$\\frac{d}{dx}\\sin(x) = \\cos(x)$\n",
    "\n",
    "$\\frac{d}{dx}\\cos(x) = -\\sin(x)$\n",
    "\n",
    "$\\frac{d}{dx}\\tan(x) = \\sec^2(x)$\n",
    "\n",
    "# Inverse trigonometric rules\n",
    "\n",
    "$\\frac{d}{dx}\\sin^{-1}(x) = \\frac{1}{\\sqrt{1 - x^2}}$\n",
    "\n",
    "$\\frac{d}{dx}\\cos^{-1}(x) = -\\frac{1}{\\sqrt{1 - x^2}}$\n",
    "\n",
    "$\\frac{d}{dx}\\tan^{-1}(x) = \\frac{1}{1 + x^2}$"
   ]
  }
 ],
 "metadata": {
  "kernelspec": {
   "display_name": "Python 3 (ipykernel)",
   "language": "python",
   "name": "python3"
  },
  "language_info": {
   "codemirror_mode": {
    "name": "ipython",
    "version": 3
   },
   "file_extension": ".py",
   "mimetype": "text/x-python",
   "name": "python",
   "nbconvert_exporter": "python",
   "pygments_lexer": "ipython3",
   "version": "3.11.5"
  }
 },
 "nbformat": 4,
 "nbformat_minor": 5
}
