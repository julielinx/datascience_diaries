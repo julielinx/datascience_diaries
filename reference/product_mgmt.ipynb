{
 "cells": [
  {
   "cell_type": "markdown",
   "metadata": {},
   "source": [
    "# Product Management"
   ]
  },
  {
   "cell_type": "markdown",
   "metadata": {},
   "source": [
    "## Generic Resources\n",
    "\n",
    "- [The Ultimate Guide to Product Management](https://www.productplan.com/learn/what-is-product-management/)\n",
    "- [What is a Product Manager’s Job?](https://www.productplan.com/learn/product-manager-job-description/)\n",
    "- [Mastering Communication: Why Product Managers Should Understand Personality Types](https://www.productplan.com/blog/product-managers-should-understand-personality-types/)\n",
    "- [The Ultimate Guide to Resources for Product Managers](https://www.productplan.com/learn/resources-for-product-managers/)\n",
    "- [12 Traits of High-Performing Product Teams](https://www.productplan.com/learn/high-performing-product-team-traits/)\n",
    "- [The True Cost of Multi-Tasking](https://www.psychologytoday.com/us/blog/brain-wise/201209/the-true-cost-multi-tasking)\n",
    "- [Acceptance Criteria](https://www.productplan.com/glossary/acceptance-criteria/)\n",
    "- [6 Crucial Conversations to Have Before You Start Your Roadmap](https://www.productplan.com/learn/conversations-to-have-before-making-your-roadmap/)\n",
    "- [The Ultimate Guide to Product Strategy](https://www.productplan.com/learn/guide-to-product-strategy/)\n",
    "- [4 Product Management Certifications that are Worth Your Time](https://www.productplan.com/learn/product-management-certifications/)"
   ]
  },
  {
   "cell_type": "markdown",
   "metadata": {},
   "source": [
    "## Prioritization\n",
    "- [The Ultimate Guide to Product Management Prioritization Frameworks](https://www.productplan.com/learn/product-management-frameworks/)\n",
    "- [Prioritize your test ideas with the PIE Framework](https://www.widerfunnel.com/pie-framework/)\n",
    "- [Focus Priority(ies)](https://www.productplan.com/learn/product-roadmap-priorities-doesnt-mean-what-you-think-it-does/)\n",
    "- [7 Strategies to Choose the Best Features for Your Product](https://www.productplan.com/learn/strategies-prioritize-product-features/)\n",
    "- [28 Collaborative Prioritization Activities for Your Next Workshop](https://productcoalition.com/28-collaborative-prioritization-activities-for-your-next-workshop-1cd23db1057c)\n",
    "- [How to Use Google’s OKR Framework to Prioritize Your Product Roadmap](https://www.productplan.com/learn/prioritize-product-roadmap-with-okrs/)"
   ]
  },
  {
   "cell_type": "markdown",
   "metadata": {},
   "source": [
    "## Roadmaping\n",
    "- [The Ultimate Guide to Product Roadmaps](https://www.productplan.com/learn/what-is-a-product-roadmap/)\n",
    "- [Building Your First Product Roadmap from Scratch in 4 Steps](https://www.productplan.com/learn/building-your-first-product-roadmap/)\n",
    "- [Four Steps to Creating a Strategy-Based Team Roadmap: Why Starting with Vision Matters](https://www.productplan.com/blog/strategy-based-roadmap/)\n",
    "- [Popular Roadmap Styles](https://www.productplan.com/books/product-roadmap-styles/)\n",
    "- [What Does the Agile Roadmapping Process Look Like in Practice?](https://www.productplan.com/learn/agile-roadmapping-process/)\n",
    "- [37 Roadmap Tips to Align Stakeholders](https://www.productplan.com/learn/roadmap-tips-align-stakeholders/)\n",
    "- [7 Secrets for Successful Product Roadmaps](https://www.productplan.com/learn/successful-product-roadmaps/)\n",
    "- [How Should You Set Your Product Roadmap Timeframes?](https://www.productplan.com/learn/product-roadmap-timeframes/)\n",
    "- [Why a Top-Down Product Strategy is the Best Way to Plan Your Roadmap](https://www.productplan.com/learn/why-a-top-down-product-strategy-is-the-best-way-to-plan-your-roadmap/)\n",
    "- [Why the Best Roadmaps are Organized in Themes](https://www.productplan.com/learn/roadmaps-themes/)\n",
    "- [5 Reasons to Organize Your Roadmap by Themes](https://www.productplan.com/learn/organize-your-roadmap-by-themes/)\n",
    "- [Why Product Roadmaps Look Different for Startups and Enterprises](https://www.productplan.com/learn/product-roadmaps-startups-versus-enterprises/)\n",
    "- [Agile Roadmap Planning: How to Balance Long Term Uncertainty](https://www.productplan.com/blog/balance-agile-uncertainty-with-roadmap-planning/)\n",
    "- [Product Roadmap Contents: What Should You Include?](https://www.productplan.com/learn/product-roadmap-contents/)"
   ]
  },
  {
   "cell_type": "markdown",
   "metadata": {},
   "source": [
    "## Metrics / OKRs and KPIs\n",
    "\n",
    "- [A Guide to Product Manager KPIs](https://www.productplan.com/learn/product-manager-kpis/)\n",
    "- [Your Product Outcomes Need to Impact Company KPIs (Otherwise You’re Doing it Wrong)](https://www.productplan.com/learn/product-okrs-company-kpis/)\n",
    "- [Data-Driven Product Roadmaps: Choosing the Right Metrics](https://www.productplan.com/blog/data-driven-product-roadmaps-metrics/)\n",
    "- [A Guide to Product Manager KPIs](https://www.productplan.com/learn/product-manager-kpis/)\n",
    "- [Your Product Outcomes Need to Impact Company KPIs (Otherwise You’re Doing it Wrong)](https://www.productplan.com/learn/product-okrs-company-kpis/)\n",
    "- [Data-Driven Product Roadmaps: Choosing the Right Metrics](https://www.productplan.com/blog/data-driven-product-roadmaps-metrics/)"
   ]
  },
  {
   "cell_type": "markdown",
   "metadata": {},
   "source": [
    "## Agile Framework\n",
    "- [Dual-Track Agile](https://www.productplan.com/glossary/dual-track-agile/)\n",
    "- [GIST Planning](https://www.productplan.com/glossary/gist-planning/)"
   ]
  },
  {
   "cell_type": "markdown",
   "metadata": {},
   "source": [
    "## Ideation\n",
    "\n",
    "- [What Is Ideation in Design Thinking? An Ideation Techniques Guide](https://careerfoundry.com/en/blog/ux-design/what-is-ideation-in-design-thinking/)\n",
    "- [Gamestorming](https://gamestorming.com/)\n",
    "- [5 Design Thinking Exercises Every UX Designer Should Know](https://careerfoundry.com/en/blog/ux-design/design-thinking-exercises/)\n",
    "- [8 UX ideation techniques to try out](https://uxplanet.org/8-ux-ideation-techniques-to-try-out-3894ca301a07)\n",
    "- [Introduction to the Essential Ideation Techniques which are the Heart of Design Thinking](https://www.interaction-design.org/literature/article/introduction-to-the-essential-ideation-techniques-which-are-the-heart-of-design-thinking)\n",
    "- [Our favorite ideation tools](https://www.boardofinnovation.com/staff_picks/our-favorite-ideation-tools/)"
   ]
  },
  {
   "cell_type": "markdown",
   "metadata": {},
   "source": [
    "## Work Sessions\n",
    "\n",
    "- [Effective Collaboration: How to Design Work Sessions that Work](https://www.uxbooth.com/articles/effective-collaboration/)\n",
    "- [4 Meetings to Master as a Product Manager](https://www.departmentofproduct.com/blog/meetings-master-product-manager/)\n",
    "- [Stop gathering requirements](https://www.goodproductmanager.com/2008/05/06/stop-gathering-requirements/)\n",
    "- [How Product Managers Can Use Wireframes](https://www.productplan.com/learn/how-product-managers-can-use-wireframes/)"
   ]
  }
 ],
 "metadata": {
  "kernelspec": {
   "display_name": "Python 3",
   "language": "python",
   "name": "python3"
  },
  "language_info": {
   "codemirror_mode": {
    "name": "ipython",
    "version": 3
   },
   "file_extension": ".py",
   "mimetype": "text/x-python",
   "name": "python",
   "nbconvert_exporter": "python",
   "pygments_lexer": "ipython3",
   "version": "3.6.5"
  }
 },
 "nbformat": 4,
 "nbformat_minor": 2
}
