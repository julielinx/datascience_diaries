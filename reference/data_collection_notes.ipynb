{
 "cells": [
  {
   "cell_type": "markdown",
   "id": "d1ef4e5d-dd33-4ca7-ae6d-f347496ad76a",
   "metadata": {},
   "source": [
    "- [Data collection](https://en.wikipedia.org/wiki/Data_collection)\n",
    "- [Responsible Conduct in Data Management](https://ori.hhs.gov/education/products/n_illinois_u/datamanagement/dctopic.html)\n",
    "- [Data Collection](https://www.scribbr.com/methodology/data-collection/)\n",
    "- [data collection](https://www.techtarget.com/searchcio/definition/data-collection)\n",
    "- [What is Data Collection](https://www.simplilearn.com/what-is-data-collection-article)\n",
    "- [Data Collection: How to Get Started](https://www.dimagi.com/data-collection/)\n",
    "- [Data Collection: Best Methods + Practical Examples](https://www.iteratorshq.com/blog/data-collection-best-methods-practical-examples/)\n",
    "- [What Are the Methods of DAta Collection?](https://www.lotame.com/what-are-the-methods-of-data-collection/)\n",
    "- [YouTube: The Antartic Peninsula](https://www.youtube.com/watch?v=IZzHwQ9F3UA)\n",
    "- [YouTube: Explorers Festival 2019](https://www.youtube.com/watch?v=IZzHwQ9F3UA)\n",
    "- [YouTube: National Geographic Society Playlists](https://www.youtube.com/c/InsideNatGeo/playlists)\n",
    "- [Youtube: Explorers Festival Part 1](https://www.youtube.com/watch?v=-EIMXR_r9GE)"
   ]
  }
 ],
 "metadata": {
  "kernelspec": {
   "display_name": "Python 3",
   "language": "python",
   "name": "python3"
  },
  "language_info": {
   "codemirror_mode": {
    "name": "ipython",
    "version": 3
   },
   "file_extension": ".py",
   "mimetype": "text/x-python",
   "name": "python",
   "nbconvert_exporter": "python",
   "pygments_lexer": "ipython3",
   "version": "3.8.8"
  }
 },
 "nbformat": 4,
 "nbformat_minor": 5
}
