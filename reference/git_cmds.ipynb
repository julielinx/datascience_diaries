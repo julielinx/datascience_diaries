{
 "cells": [
  {
   "cell_type": "markdown",
   "id": "cfeec5c5-aa8b-4b44-9089-c871a5c00d4d",
   "metadata": {},
   "source": [
    "# Handy `git` commands"
   ]
  },
  {
   "cell_type": "markdown",
   "id": "8222b7de-3ad1-4f9f-93cc-b022c96916b1",
   "metadata": {},
   "source": [
    "## Create a new branch locally and sync with remote"
   ]
  },
  {
   "cell_type": "code",
   "execution_count": null,
   "id": "70b2a99e-5535-4028-a003-937db1ccb65e",
   "metadata": {},
   "outputs": [],
   "source": [
    "git checkout -b <new_local>\n",
    "git push -u origin <new_local>"
   ]
  },
  {
   "cell_type": "markdown",
   "id": "6365c5c5-d246-46a5-a956-0225fa397e51",
   "metadata": {},
   "source": [
    "## Sync a branch with master\n",
    "\n",
    "I.E. pull changes from master into branch"
   ]
  },
  {
   "cell_type": "code",
   "execution_count": null,
   "id": "49021438-0fce-414c-8073-59b8cd205f86",
   "metadata": {},
   "outputs": [],
   "source": [
    "git checkout master\n",
    "git pull\n",
    "git checkout <branch>\n",
    "git merge master"
   ]
  },
  {
   "cell_type": "markdown",
   "id": "0ac28b31-24d2-42ae-91c9-b8b369549603",
   "metadata": {},
   "source": [
    "## Reset commits to HEAD"
   ]
  },
  {
   "cell_type": "code",
   "execution_count": null,
   "id": "c4c30a34-b51b-406a-864c-1e066dccf370",
   "metadata": {},
   "outputs": [],
   "source": [
    "git pull --rebase"
   ]
  },
  {
   "cell_type": "markdown",
   "id": "70fe720e-7d33-446b-8deb-80f2147409fb",
   "metadata": {},
   "source": [
    "## Retrieve all branches and updates to local"
   ]
  },
  {
   "cell_type": "code",
   "execution_count": null,
   "id": "a807b78d-f25a-48ed-8574-a23e93bb0667",
   "metadata": {},
   "outputs": [],
   "source": [
    "git fetch"
   ]
  },
  {
   "cell_type": "markdown",
   "id": "59125955-63c2-4a1a-8d34-1c787c400389",
   "metadata": {},
   "source": [
    "## Remove files from commit"
   ]
  },
  {
   "cell_type": "code",
   "execution_count": null,
   "id": "294469c4-975f-4c9b-9105-64e3e5cff221",
   "metadata": {},
   "outputs": [],
   "source": [
    "git reset --soft HEAD^   or  git reset --soft HEAD~1\n",
    "git reset HEAD <filename>"
   ]
  },
  {
   "cell_type": "markdown",
   "id": "073b6992-d93d-411f-845f-a5ac693e6b9d",
   "metadata": {},
   "source": [
    "## Uncommit/unstage everything"
   ]
  },
  {
   "cell_type": "code",
   "execution_count": null,
   "id": "7f85fe68-9f4a-45c3-b300-9375a0352d0a",
   "metadata": {},
   "outputs": [],
   "source": [
    "git reset HEAD^"
   ]
  }
 ],
 "metadata": {
  "kernelspec": {
   "display_name": "Python 3",
   "language": "python",
   "name": "python3"
  },
  "language_info": {
   "codemirror_mode": {
    "name": "ipython",
    "version": 3
   },
   "file_extension": ".py",
   "mimetype": "text/x-python",
   "name": "python",
   "nbconvert_exporter": "python",
   "pygments_lexer": "ipython3",
   "version": "3.8.8"
  }
 },
 "nbformat": 4,
 "nbformat_minor": 5
}
