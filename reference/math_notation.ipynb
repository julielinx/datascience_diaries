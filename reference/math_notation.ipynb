{
 "cells": [
  {
   "cell_type": "markdown",
   "id": "9fa20777-103c-49bb-b1ab-b5e907f5d68f",
   "metadata": {},
   "source": [
    "# Mathematical Notation"
   ]
  },
  {
   "cell_type": "markdown",
   "id": "2363b818-7c29-4e47-8b02-ba38be9cab4f",
   "metadata": {},
   "source": [
    "### Greek Letters\n",
    "\n",
    "- Alpha: $\\alpha$, $\\Alpha$\n",
    "- Beta: $\\beta$, $\\Beta$\n",
    "- Chi: $\\chi$, $X$\n",
    "- Delta: $\\delta$, $\\Delta$\n",
    "- Epsilon: $\\epsilon$, $E$, $\\varepsilon$\n",
    "- Eta: $\\eta$, $H$\n",
    "- Gamma: $\\gamma$, $\\Gamma$\n",
    "- Iota: $\\iota$, $I$\n",
    "- Kappa: $\\kappa$, $K$, $\\varkappa$\n",
    "- Lambda: $\\lambda$, $\\Lambda$\n",
    "- Mu: $\\mu$\n",
    "- Nu: $\\nu$, $N$\n",
    "- Omicron: $o$, $O$\n",
    "- Omega: $\\omega$, $\\Omega$\n",
    "- Pi: $\\pi$, $\\Pi$, $\\varpi$\n",
    "- Phi: $\\phi$, $\\Phi$, $\\varphi$\n",
    "- Psi: $\\psi$, $\\Psi$\n",
    "- Rho: $\\rho$, $R$, $\\varrho$\n",
    "- Sigma: $\\sigma$, $\\Sigma$, $\\varsigma$\n",
    "- Theta: $\\theta$, $\\Theta$, $\\vartheta$\n",
    "- Tau: $\\tau$, $T$\n",
    "- Upsilon: $\\upsilon$, $\\Upsilon$\n",
    "- Xi: $\\xi$, $\\Xi$\n",
    "- Zeta: $\\zeta$, $Z$"
   ]
  },
  {
   "cell_type": "markdown",
   "id": "fa29879a-48ee-4536-877b-43365ba25776",
   "metadata": {},
   "source": [
    "### General\n",
    "\n",
    "- Symbols\n",
    "    - sum: $\\sum$\n",
    "    - integral: $\\int$\n",
    "    - product: $\\prod$\n",
    "    - total derivative with respect to x: $\\frac{d}{dx}$\n",
    "    - partial derivative with respect to x: $\\frac{\\partial}{\\partial x}$\n",
    "    - for all: $\\forall$\n",
    "    - exits: $\\exists$\n",
    "    - not exists: $\\nexists$"
   ]
  },
  {
   "cell_type": "markdown",
   "id": "018af298-0888-4fe8-ab36-0fa09fd8afcc",
   "metadata": {},
   "source": [
    "### Logic\n",
    "\n",
    "- Symbols\n",
    "  - logical **not**: $\\neg$\n",
    "  - logical **and**: $\\land$\n",
    "  - logical **or**: $\\lor$\n",
    "  - imply/ if-then: $\\implies$, $\\Rightarrow$, $\\rightarrow$, $\\to$\n",
    "  - if and only if: $\\Leftrightarrow$, $\\leftrightarrow$\n",
    "  - equivalent to or Defined as: $\\equiv$\n",
    "  - therefore: $\\therefore$ - placed before the conclusion in a proof"
   ]
  },
  {
   "cell_type": "markdown",
   "id": "04b2d1d5-313a-4e2b-9ee1-c3ec5fb18cef",
   "metadata": {},
   "source": [
    "### Sets\n",
    "\n",
    "- Set definitions\n",
    "  - $\\mathbb{N}$: naturals - positive integers\n",
    "  - $\\mathbb{Z}$: integers - all integers; positive, negative and 0\n",
    "  - $\\mathbb{Q}$: rationals - numbers produced from the raio or division of any two integers $n/m$, assuming $m \\neq 0$\n",
    "  - $\\mathbb{R}$: real numbers - all integer and decimal numbers\n",
    "  - $\\mathbb{C}$: complex numbers - all real numbers plus imaginary numbers. This is the superset of all numbers\n",
    "  \n",
    "- Symbols\n",
    "  - union: $\\cup$\n",
    "  - intersection: $\\cap$\n",
    "  - empty set: $\\emptyset$\n",
    "  - set membership: $\\in$\n",
    "  - not member of set: $\\notin$\n",
    "  - such that: $\\mid$ , : , $\\ni$\n",
    "  - proper subset: $\\subset$\n",
    "    - proper subset has fewer elements that the superset\n",
    "  - not proper subset: $\\not\\subset$\n",
    "  - subset: $\\subseteq$\n",
    "    - subset may have the same number of elements as superset; subset X and Y are the same {1, 2, 3}\n",
    "  - not a subset: $\\nsubseteq$"
   ]
  },
  {
   "cell_type": "markdown",
   "id": "16aca77c-61b8-4c1d-a032-86ca85748409",
   "metadata": {},
   "source": [
    "Intersection of two sets $\\bigcap$. Graphic from the Wikipedia page:\n",
    "\n",
    "<img src=\"https://upload.wikimedia.org/wikipedia/commons/1/1f/Intersection_of_sets_A_and_B.svg\" width=200>\n",
    "\n",
    "Union of two sets $\\bigcup$. Graphic explanation commplimentary of Wikipedia:\n",
    "\n",
    "<img src=\"https://upload.wikimedia.org/wikipedia/commons/e/ee/Union_of_sets_A_and_B.svg\"  width=200>"
   ]
  },
  {
   "cell_type": "markdown",
   "id": "a6c44b57-c903-4bc6-96dd-a4e2dedb177d",
   "metadata": {},
   "source": [
    "## Resources\n",
    "\n",
    "- [Wikibooks: LaTeX/Mathematics](https://en.wikibooks.org/wiki/LaTeX/Mathematics#List_of_mathematical_symbols)\n",
    "- [CS381 Introduction to Discrete Structures: Legend](https://www.cs.odu.edu/~toida/nerzic/content/legend.html)\n",
    "- [A Mathematics Course for Political & Social Research](https://people.duke.edu/~das76/MooSieBook.html)\n",
    "- [The Greek Alphabet in LaTeX](https://jblevins.org/log/greek)\n",
    "- [Set (mathematics)](https://en.wikipedia.org/wiki/Set_(mathematics))\n",
    "- [Entry 8 - Centering and Scaling](https://github.com/julielinx/datascience_diaries/blob/master/01_ml_process/08_center_scale_and_latex.ipynb)"
   ]
  }
 ],
 "metadata": {
  "kernelspec": {
   "display_name": "Python 3",
   "language": "python",
   "name": "python3"
  },
  "language_info": {
   "codemirror_mode": {
    "name": "ipython",
    "version": 3
   },
   "file_extension": ".py",
   "mimetype": "text/x-python",
   "name": "python",
   "nbconvert_exporter": "python",
   "pygments_lexer": "ipython3",
   "version": "3.8.8"
  }
 },
 "nbformat": 4,
 "nbformat_minor": 5
}
