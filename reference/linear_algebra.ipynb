{
 "cells": [
  {
   "cell_type": "markdown",
   "id": "67c69cca-4a5c-400e-b04a-a28c6523f6c4",
   "metadata": {},
   "source": [
    "# Linear Algebra Refernce Sheet"
   ]
  },
  {
   "cell_type": "markdown",
   "id": "ab3ad75f-02cc-4094-bd0d-e3a5f8984ecd",
   "metadata": {},
   "source": [
    "## Dot Product\n",
    "\n",
    "Vectors:\n",
    "\n",
    "- $\\vec{u} = [u_1, u_2,\\, ...,\\, u_n]$\n",
    "- $\\vec{v} = v_1, v_2,\\, ...,\\, v_n$\n",
    "\n",
    "Dot product:\n",
    "\n",
    "$\\vec{u} \\cdot \\vec{v} = u_1v_1 + u_2v_2, \\, ...,\\, u_nv_n$\\\n",
    "$ \\quad = \\displaystyle\\sum_{i=1}^n u_iv_i$\\\n",
    "$\\quad = ||\\vec{u}||\\, ||\\vec{v}|| \\cos(\\theta)$\n",
    "\n",
    "Where:\n",
    "\n",
    "- $||\\vec{x}|| = \\sqrt{x_1^2 + x_2^2 + \\, ...\\, + x_n^2} = \\sqrt{\\displaystyle\\sum_{i=1}^n x_i^2}$\n",
    "- $\\theta$ is the angle between the vectors\n",
    "\n",
    "To find $\\theta$:\n",
    "\n",
    "- $\\displaystyle\\sum_{i=1}^n u_iv_i = ||\\vec{u}||\\, ||\\vec{v}|| \\cos(\\theta)$\n",
    "- $\\cos(\\theta) = \\frac{\\sum u_iv_i}{||\\vec{u}||\\, ||\\vec{v}||}$\n",
    "- $\\theta = \\cos^{-1} \\frac{\\sum u_iv_i}{||\\vec{u}||\\, ||\\vec{v}||} = \\arccos \\frac{\\sum u_iv_i}{||\\vec{u}||\\, ||\\vec{v}||}$"
   ]
  },
  {
   "cell_type": "markdown",
   "id": "a5b46239-3594-40c6-a7fc-eee4ef899de6",
   "metadata": {},
   "source": [
    "## Length of a vector\n",
    "\n",
    "$\\vec{x} = [x_1, x_2, \\, ..., \\, x_n]$\n",
    "\n",
    "$||\\vec{x}|| = \\sqrt{x_1^2 + x_2^2 + \\, ...\\, + x_n^2} = \\sqrt{\\displaystyle\\sum_{i=1}^n x_i^2} = \\sqrt{\\vec{x} \\cdot \\vec{x}}$\\\n",
    "$\\quad \\Rightarrow x^2 = x x$\n",
    "\n",
    "$||\\vec{x}||^2 = \\vec{x} \\cdot \\vec{x}$\n",
    "\n",
    "## Distance between vectors\n",
    "\n",
    "### Cosine law\n",
    "\n",
    "For all triangles:\n",
    "\n",
    "$c^2 = a^2 + b^2 - 2ab \\cos\\theta$\n",
    "\n",
    "We can use this to calculate distance between vectors:\n",
    "\n",
    "$||\\vec{x}||^2 + ||\\vec{y}||^2 - 2\\vec{x}\\vec{y} \\cos\\theta$"
   ]
  },
  {
   "cell_type": "markdown",
   "id": "c45dc636-0cc2-48d5-a020-e6b851aa9ec9",
   "metadata": {},
   "source": [
    "## Unit vector\n",
    "\n",
    "Given a vector $\\vec{x}$, the unit vector $\\hat{x}$ is $\\frac{\\vec{x}}{||\\vec{x}||}$\n",
    "\n"
   ]
  },
  {
   "cell_type": "markdown",
   "id": "68c4491c-2156-4757-acec-20e9c2e5c514",
   "metadata": {},
   "source": [
    "## Matrix multiplication\n",
    "\n",
    "Matrices:\n",
    "\n",
    "$A_{in} = \\begin{bmatrix}\n",
    "a_{11} & a_{12} & a_{13} & \\dotsb & a_{1n}\\\\\n",
    "a_{21} & a_{22} & a_{23} & \\dotsb & a_{2n}\\\\\n",
    "\\dotsb & \\dotsb & \\dotsb & \\dotsb & \\dotsb \\\\\n",
    "a_{i1} & a_{i2} & a_{i3} & \\dotsb & a_{in}\n",
    "\\end{bmatrix}$\n",
    "    \n",
    "$B_{nj} = \\begin{bmatrix}\n",
    "b_{11} & b_{12} & b_{13} & \\dotsb & b_{1j}\\\\\n",
    "b_{21} & b_{22} & b_{23} & \\dotsb & b_{2j}\\\\\n",
    "\\dotsb & \\dotsb & \\dotsb & \\dotsb & \\dotsb \\\\\n",
    "b_{n1} & b_{n2} & b_{n3} & \\dotsb & b_{nj}\n",
    "\\end{bmatrix}$\n",
    "\n",
    "- In A: $i$ is the number of rows, $n$ is the number of columns\n",
    "- In B: $n$ is the number of rows, $j$ is the number of columns\n",
    "\n",
    "Matrix multiplication is not commutative. I.E. $A\\cdot B \\neq B\\cdot A$\n",
    "\n",
    "- $A \\cdot B$ can be completed because the inside dimensions of the matrices match: A shape = (i, n), B shape = (n, j).\n",
    "- $B \\cdot A$ cannot be completed because the inside dimensions of the matrices do not match: B shape = (n, j), A shape = (i, n).\n",
    "\n",
    "If $C_{ij} = A \\cdot B \\Rightarrow \\displaystyle\\sum_{n'=1}^n a_{in'}b_{n'j}$\n",
    "\n",
    "Essentially this breaks down to being the dot product of the $i$th row and the $j$th column: $C_{ij} = a_{(\\text{row } i)} \\cdot b_{(\\text{column } j)}$\n",
    "\n",
    "Example:\n",
    "\n",
    "$\\begin{bmatrix}\n",
    "a_{11} & a_{12} & a_{13} & \\dotsb & a_{1n}\\end{bmatrix} \\cdot \\begin{bmatrix}\n",
    "b_{11}\\\\\n",
    "b_{21}\\\\\n",
    "b_{31}\\\\\n",
    "\\dotsb\\\\\n",
    "b_{n1}\\end{bmatrix} = \\begin{bmatrix}\n",
    "a_{11}b_{11} + a_{12}b_{21} + a_{13}b_{31} + \\dotsb + a_{1n}b_{n1}\\end{bmatrix} \\Rightarrow$ a single number that occupies $C_{11}$\n",
    "\n",
    "*Caution*, this is **not** the element-wise product (multiplying element by element between matrices, i.e. $a_{11}b_{11}$ occupies $C_{11}$). The element-wise product is used in machine learning, but is not common in linear algebra."
   ]
  },
  {
   "cell_type": "markdown",
   "id": "3aff52b9-a137-4a20-a4ae-de21703ba9e4",
   "metadata": {},
   "source": [
    "### Matrix Multiplication Properties\n",
    "\n",
    "- Not commutative: $A \\cdot B \\neq B \\cdot A$\n",
    "- Yes distributive: $A(B + C) = AB + AC$\n",
    "- Yes associative: $A(BC) = (AB)C$"
   ]
  }
 ],
 "metadata": {
  "kernelspec": {
   "display_name": "Python 3 (ipykernel)",
   "language": "python",
   "name": "python3"
  },
  "language_info": {
   "codemirror_mode": {
    "name": "ipython",
    "version": 3
   },
   "file_extension": ".py",
   "mimetype": "text/x-python",
   "name": "python",
   "nbconvert_exporter": "python",
   "pygments_lexer": "ipython3",
   "version": "3.11.5"
  }
 },
 "nbformat": 4,
 "nbformat_minor": 5
}
