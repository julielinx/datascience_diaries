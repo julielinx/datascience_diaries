{
 "cells": [
  {
   "cell_type": "markdown",
   "id": "e5b3adb3-5a55-46b6-8125-68acd81bcda0",
   "metadata": {},
   "source": [
    "# Integral Calculus\n",
    "\n",
    "## Definite integral\n",
    "\n",
    "This goes from a to b and returns a number\n",
    "\n",
    "$\\frac{d}{dx} \\big( \\int_a^b f(x)\\, dx \\big) = \\int_a^b F'(x) dx = F(b) - F(a)$\n",
    "\n",
    "Example:\n",
    "\n",
    "- $\\int_1^3 1 + 2x - 4x^3 dx = \\left.x + x^2 - x^4 \\right|_1^3 = (3 + 9 - 81) - (1 + 1 - 1) = -69 - 1 = -70$\n",
    "- $\\int_1^8 \\sqrt[3]{x}\\, dx = \\int_1^8 x^{\\frac{1}{3}}\\, dx = \\left.\\frac{3x^{\\frac{4}{3}}}{4} \\right|_1^8 = \\frac{3}{4}(8^{\\frac{4}{3}} - 1^{\\frac{4}{3}}) = \\frac{3}{4}(16 - 1) = \\frac{45}{4}$\n",
    "- $\\int_1^2 \\frac{y + 5y^7}{y^3}\\, dy = \\int_1^2 \\frac{y}{y^3} + \\frac{5y^7}{y^3}\\, dy =  \\int_1^2 y^{-2} + 5y^4\\, dy = \\left.-y^{-1} + y^5 \\right|_1^2 = (-\\frac{1}{2} + 2^5) - (-1 + 1) = 31.5$\n",
    "\n",
    "### Accumulator Function\n",
    "\n",
    "This function returns the net change. I.E. it subtracts area under the curve that's negative from area under the curve that's positive.\n",
    "\n",
    "$\\frac{d}{dx} \\big( \\int_a^x f(t)\\, dt \\big) = f(x)$\n"
   ]
  },
  {
   "cell_type": "markdown",
   "id": "cafd7de9-2a66-4280-bfb5-6841a3f6918e",
   "metadata": {},
   "source": [
    "## Indefinite integral\n",
    "\n",
    "This returns the family of functions that are the antiderivative of the integral.\n",
    "\n",
    "$\\int (1 - t)(2 + t^2)\\, dt = \\int 2 + t^2 - 2t - t^3 \\, dt = 2t + \\frac{t^3}{3} - t^2 - \\frac{t^4}{4} + c$"
   ]
  },
  {
   "cell_type": "markdown",
   "id": "0cf3b844-5d04-4474-96de-81f0ca59ef42",
   "metadata": {},
   "source": [
    "# Calculus Integral Rules\n",
    "\n",
    "Some rules to help find the antiderivative.\n",
    "\n",
    "*Reminder*, for the family of functions ($\\int$), technically you need to add \"c\" to the equation. However, in practice, when you do F(b) - F(a) these two c terms cancel out."
   ]
  },
  {
   "cell_type": "markdown",
   "id": "f322e659-320b-4c58-843b-01dc130edc15",
   "metadata": {},
   "source": [
    "# Constant Rule\n",
    "\n",
    "$\\int k\\, \\mathrm{d}x = kx + c$\n",
    "\n",
    "Example:\n",
    "\n",
    "- $\\mathrm{f}(x) = 5$\n",
    "- $\\mathrm{F}(x) = 5x$"
   ]
  },
  {
   "cell_type": "markdown",
   "id": "b55422d1-ee76-4fa7-8c4c-351b4e1e0325",
   "metadata": {},
   "source": [
    "# Power Rule\n",
    "\n",
    "$\\int x^n\\, \\mathrm{d}x = \\frac{x^{n+1}}{n+1} + c, \\quad n\\neq 1$\n",
    "\n",
    "Example:\n",
    "\n",
    "- $\\mathrm{f}(x) = x^2$\n",
    "- $\\mathrm{F}(x) = \\frac{x^3}{3}$\n",
    "\n",
    "$\\int \\frac{1}{x} \\, dx = \\ln |x| + c, \\quad n = -1$"
   ]
  },
  {
   "cell_type": "markdown",
   "id": "6f90b951-3591-41ca-b70e-dffcc663413a",
   "metadata": {},
   "source": [
    "# Log Rule\n",
    "\n",
    "$\\int x^{-1}\\, \\mathrm{d}x = \\int \\frac{1}{x}\\, \\mathrm{d}x = \\ln |x| + c$\n",
    "\n",
    "Example:\n",
    "\n",
    "- $\\mathrm{f}(x) = \\frac{1}{x}$\n",
    "- $\\mathrm{F}(x) = \\ln|x|$"
   ]
  },
  {
   "cell_type": "markdown",
   "id": "4ea1f339-6756-4f59-bcd1-ec90d4910727",
   "metadata": {},
   "source": [
    "# Exponentials\n",
    "\n",
    "$\\int a^x\\, \\mathrm{d}x = \\frac{a^x}{\\ln a} + c$\n",
    "\n",
    "$\\int e^x dx = e^x + c$\n",
    "\n",
    "$\\int \\, e^{mx + b}\\, \\mathrm{d}x = \\frac{1}{m}\\, e^{mx + b} + c$"
   ]
  },
  {
   "cell_type": "markdown",
   "id": "caf56dfa-a1e7-4981-8fb1-3b6e3cb0b567",
   "metadata": {},
   "source": [
    "## Trigonometry\n",
    "\n",
    "$\\int \\sin x\\, \\mathrm{d}x = -\\cos x + c$\n",
    "\n",
    "$\\int \\sin(kx)\\, \\mathrm{d}x = \\frac{1}{k} \\cos(kx) + c$\n",
    "\n",
    "$\\int \\cos x\\, \\mathrm{d}x = \\sin x + c$\n",
    "\n",
    "$\\int \\cos(kx)\\, \\mathrm{d}x = \\frac{1}{k} \\sin(kx) + c$\n",
    "\n",
    "$\\int \\sec^2 x\\, \\mathrm{d}x = \\tan x + c$\n",
    "\n",
    "$\\int \\sec x \\tan x = \\sec x + c$\n",
    "\n",
    "$\\int \\csc^2 x\\, \\mathrm{d}x = -\\cot x + c$\n",
    "\n",
    "$\\int \\csc x \\cot x = -\\csc x + c$\n",
    "\n",
    "$\\int \\frac{1}{x^2 + 1}\\, \\mathrm{d}x = \\tan^{-1} + c$\n",
    "\n",
    "$\\int \\frac{1}{\\sqrt{1 - x^2}}\\, \\mathrm{d}x = \\sin^{-1}x + c$\n",
    "\n",
    "*Reminder*, $-1$ on a trig function means inverse, not a -1 power. I.E. $\\tan^{-1}$ is $\\arctan x$ not $\\frac{1}{\\tan x}$"
   ]
  },
  {
   "cell_type": "markdown",
   "id": "0cab901f-8ffe-497d-bd6e-d3dea883a865",
   "metadata": {},
   "source": [
    "# Substitution Rule\n",
    "\n",
    "This basically helps you reverse the chain rule.\n",
    "\n",
    "$\\int f(u) du = \\int f(g(x)) \\times g'(x)\\, dx$\n",
    "\n",
    "Example:\n",
    "\n",
    "$\\int e^{2x}\\, dx = \\int e^u \\frac{1}{2} du = \\frac{1}{2} \\int e^u du = \\frac{1}{2} e^u + c = \\frac{1}{2} e^{2x} + c$\n",
    "\n",
    "Where:\n",
    "\n",
    "- $u = 2x$\n",
    "- $du = 2\\, dx \\Rightarrow \\frac{1}{2}du = dx$"
   ]
  }
 ],
 "metadata": {
  "kernelspec": {
   "display_name": "Python 3",
   "language": "python",
   "name": "python3"
  },
  "language_info": {
   "codemirror_mode": {
    "name": "ipython",
    "version": 3
   },
   "file_extension": ".py",
   "mimetype": "text/x-python",
   "name": "python",
   "nbconvert_exporter": "python",
   "pygments_lexer": "ipython3",
   "version": "3.8.8"
  }
 },
 "nbformat": 4,
 "nbformat_minor": 5
}
