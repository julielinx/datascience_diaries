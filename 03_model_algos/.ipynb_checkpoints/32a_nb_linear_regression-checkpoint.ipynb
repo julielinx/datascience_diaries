{
 "cells": [
  {
   "cell_type": "markdown",
   "metadata": {},
   "source": [
    "# Entry 32a notebook - Linear Regression\n",
    "\n",
    "## Modeling 2D linear functions"
   ]
  },
  {
   "cell_type": "code",
   "execution_count": 1,
   "metadata": {},
   "outputs": [],
   "source": [
    "import numpy as np\n",
    "import pandas as pd\n",
    "import matplotlib.pyplot as plt\n",
    "import seaborn as sns\n",
    "from math import pi"
   ]
  },
  {
   "cell_type": "code",
   "execution_count": 2,
   "metadata": {},
   "outputs": [
    {
     "data": {
      "text/html": [
       "<div>\n",
       "<style scoped>\n",
       "    .dataframe tbody tr th:only-of-type {\n",
       "        vertical-align: middle;\n",
       "    }\n",
       "\n",
       "    .dataframe tbody tr th {\n",
       "        vertical-align: top;\n",
       "    }\n",
       "\n",
       "    .dataframe thead th {\n",
       "        text-align: right;\n",
       "    }\n",
       "</style>\n",
       "<table border=\"1\" class=\"dataframe\">\n",
       "  <thead>\n",
       "    <tr style=\"text-align: right;\">\n",
       "      <th></th>\n",
       "      <th>name</th>\n",
       "      <th>type</th>\n",
       "      <th>mass_1024kg</th>\n",
       "      <th>diameter_km</th>\n",
       "      <th>density_kg_m3</th>\n",
       "      <th>gravity_m_s2</th>\n",
       "      <th>escape_vel_km_s</th>\n",
       "      <th>rotation_period_hr</th>\n",
       "      <th>day_len_hr</th>\n",
       "      <th>distance_from_sun_106_km</th>\n",
       "      <th>...</th>\n",
       "      <th>mean_temp_c</th>\n",
       "      <th>surface_pressure_bars</th>\n",
       "      <th>nbr_moons</th>\n",
       "      <th>rings</th>\n",
       "      <th>magnetic_field</th>\n",
       "      <th>equatorial_radius_km</th>\n",
       "      <th>mean_radius_km</th>\n",
       "      <th>V(1,0) (mag)</th>\n",
       "      <th>geometric_albedo</th>\n",
       "      <th>atmospheric_mass_kg</th>\n",
       "    </tr>\n",
       "  </thead>\n",
       "  <tbody>\n",
       "    <tr>\n",
       "      <th>0</th>\n",
       "      <td>Mercury</td>\n",
       "      <td>planet</td>\n",
       "      <td>0.3300</td>\n",
       "      <td>4879.0</td>\n",
       "      <td>5427</td>\n",
       "      <td>3.7</td>\n",
       "      <td>4.3</td>\n",
       "      <td>1407.6</td>\n",
       "      <td>4222.6</td>\n",
       "      <td>57.9</td>\n",
       "      <td>...</td>\n",
       "      <td>167</td>\n",
       "      <td>1.000000e-14</td>\n",
       "      <td>0</td>\n",
       "      <td>No</td>\n",
       "      <td>Yes</td>\n",
       "      <td>2440.5300</td>\n",
       "      <td>2439.4000</td>\n",
       "      <td>-0.60</td>\n",
       "      <td>0.106</td>\n",
       "      <td>1.000000e+03</td>\n",
       "    </tr>\n",
       "    <tr>\n",
       "      <th>1</th>\n",
       "      <td>Venus</td>\n",
       "      <td>planet</td>\n",
       "      <td>4.8700</td>\n",
       "      <td>12104.0</td>\n",
       "      <td>5243</td>\n",
       "      <td>8.9</td>\n",
       "      <td>10.4</td>\n",
       "      <td>-5832.5</td>\n",
       "      <td>2802.0</td>\n",
       "      <td>108.2</td>\n",
       "      <td>...</td>\n",
       "      <td>464</td>\n",
       "      <td>9.200000e+01</td>\n",
       "      <td>0</td>\n",
       "      <td>No</td>\n",
       "      <td>No</td>\n",
       "      <td>6051.8000</td>\n",
       "      <td>6051.8000</td>\n",
       "      <td>-4.47</td>\n",
       "      <td>0.650</td>\n",
       "      <td>4.800000e+20</td>\n",
       "    </tr>\n",
       "    <tr>\n",
       "      <th>2</th>\n",
       "      <td>Earth</td>\n",
       "      <td>planet</td>\n",
       "      <td>5.9700</td>\n",
       "      <td>12756.0</td>\n",
       "      <td>5514</td>\n",
       "      <td>9.8</td>\n",
       "      <td>11.2</td>\n",
       "      <td>23.9</td>\n",
       "      <td>24.0</td>\n",
       "      <td>149.6</td>\n",
       "      <td>...</td>\n",
       "      <td>15</td>\n",
       "      <td>1.014000e+00</td>\n",
       "      <td>1</td>\n",
       "      <td>No</td>\n",
       "      <td>Yes</td>\n",
       "      <td>6378.1366</td>\n",
       "      <td>6371.0084</td>\n",
       "      <td>-3.86</td>\n",
       "      <td>0.367</td>\n",
       "      <td>1.400000e+21</td>\n",
       "    </tr>\n",
       "    <tr>\n",
       "      <th>3</th>\n",
       "      <td>Moon</td>\n",
       "      <td>moon</td>\n",
       "      <td>0.0730</td>\n",
       "      <td>3475.0</td>\n",
       "      <td>3340</td>\n",
       "      <td>1.6</td>\n",
       "      <td>2.4</td>\n",
       "      <td>655.7</td>\n",
       "      <td>708.7</td>\n",
       "      <td>149.6</td>\n",
       "      <td>...</td>\n",
       "      <td>-20</td>\n",
       "      <td>3.000000e-15</td>\n",
       "      <td>0</td>\n",
       "      <td>No</td>\n",
       "      <td>No</td>\n",
       "      <td>1737.5000</td>\n",
       "      <td>1737.4000</td>\n",
       "      <td>-0.08</td>\n",
       "      <td>0.120</td>\n",
       "      <td>1.000000e+05</td>\n",
       "    </tr>\n",
       "    <tr>\n",
       "      <th>4</th>\n",
       "      <td>Mars</td>\n",
       "      <td>planet</td>\n",
       "      <td>0.6420</td>\n",
       "      <td>6792.0</td>\n",
       "      <td>3933</td>\n",
       "      <td>3.7</td>\n",
       "      <td>5.0</td>\n",
       "      <td>24.6</td>\n",
       "      <td>24.7</td>\n",
       "      <td>227.9</td>\n",
       "      <td>...</td>\n",
       "      <td>-65</td>\n",
       "      <td>1.000000e-02</td>\n",
       "      <td>2</td>\n",
       "      <td>No</td>\n",
       "      <td>No</td>\n",
       "      <td>3396.1900</td>\n",
       "      <td>3389.5000</td>\n",
       "      <td>-1.52</td>\n",
       "      <td>0.150</td>\n",
       "      <td>2.500000e+16</td>\n",
       "    </tr>\n",
       "    <tr>\n",
       "      <th>5</th>\n",
       "      <td>Jupiter</td>\n",
       "      <td>planet</td>\n",
       "      <td>1898.0000</td>\n",
       "      <td>142984.0</td>\n",
       "      <td>1326</td>\n",
       "      <td>23.1</td>\n",
       "      <td>59.5</td>\n",
       "      <td>9.9</td>\n",
       "      <td>9.9</td>\n",
       "      <td>778.6</td>\n",
       "      <td>...</td>\n",
       "      <td>-110</td>\n",
       "      <td>2.000000e+00</td>\n",
       "      <td>79</td>\n",
       "      <td>Yes</td>\n",
       "      <td>Yes</td>\n",
       "      <td>71492.0000</td>\n",
       "      <td>69911.0000</td>\n",
       "      <td>-9.40</td>\n",
       "      <td>0.520</td>\n",
       "      <td>1.900000e+27</td>\n",
       "    </tr>\n",
       "    <tr>\n",
       "      <th>6</th>\n",
       "      <td>Saturn</td>\n",
       "      <td>planet</td>\n",
       "      <td>568.0000</td>\n",
       "      <td>120536.0</td>\n",
       "      <td>687</td>\n",
       "      <td>9.0</td>\n",
       "      <td>35.5</td>\n",
       "      <td>10.7</td>\n",
       "      <td>10.7</td>\n",
       "      <td>1433.5</td>\n",
       "      <td>...</td>\n",
       "      <td>-140</td>\n",
       "      <td>1.000000e+03</td>\n",
       "      <td>82</td>\n",
       "      <td>Yes</td>\n",
       "      <td>Yes</td>\n",
       "      <td>60268.0000</td>\n",
       "      <td>58232.0000</td>\n",
       "      <td>-8.88</td>\n",
       "      <td>0.470</td>\n",
       "      <td>5.400000e+26</td>\n",
       "    </tr>\n",
       "    <tr>\n",
       "      <th>7</th>\n",
       "      <td>Titan</td>\n",
       "      <td>moon</td>\n",
       "      <td>0.1260</td>\n",
       "      <td>5149.4</td>\n",
       "      <td>1882</td>\n",
       "      <td>1.4</td>\n",
       "      <td>2.6</td>\n",
       "      <td>382.0</td>\n",
       "      <td>382.0</td>\n",
       "      <td>1433.5</td>\n",
       "      <td>...</td>\n",
       "      <td>-179</td>\n",
       "      <td>1.600000e+00</td>\n",
       "      <td>0</td>\n",
       "      <td>No</td>\n",
       "      <td>No</td>\n",
       "      <td>2574.7000</td>\n",
       "      <td>2574.7000</td>\n",
       "      <td>-8.10</td>\n",
       "      <td>0.210</td>\n",
       "      <td>9.100000e+18</td>\n",
       "    </tr>\n",
       "    <tr>\n",
       "      <th>8</th>\n",
       "      <td>Uranus</td>\n",
       "      <td>planet</td>\n",
       "      <td>86.8000</td>\n",
       "      <td>51118.0</td>\n",
       "      <td>1271</td>\n",
       "      <td>8.7</td>\n",
       "      <td>21.3</td>\n",
       "      <td>-17.2</td>\n",
       "      <td>17.2</td>\n",
       "      <td>2872.5</td>\n",
       "      <td>...</td>\n",
       "      <td>-195</td>\n",
       "      <td>1.000000e+03</td>\n",
       "      <td>27</td>\n",
       "      <td>Yes</td>\n",
       "      <td>Yes</td>\n",
       "      <td>25559.0000</td>\n",
       "      <td>25362.0000</td>\n",
       "      <td>-7.19</td>\n",
       "      <td>0.510</td>\n",
       "      <td>8.600000e+25</td>\n",
       "    </tr>\n",
       "    <tr>\n",
       "      <th>9</th>\n",
       "      <td>Neptune</td>\n",
       "      <td>planet</td>\n",
       "      <td>102.0000</td>\n",
       "      <td>49528.0</td>\n",
       "      <td>1638</td>\n",
       "      <td>11.0</td>\n",
       "      <td>23.5</td>\n",
       "      <td>16.1</td>\n",
       "      <td>16.1</td>\n",
       "      <td>4495.1</td>\n",
       "      <td>...</td>\n",
       "      <td>-200</td>\n",
       "      <td>1.000000e+03</td>\n",
       "      <td>14</td>\n",
       "      <td>Yes</td>\n",
       "      <td>Yes</td>\n",
       "      <td>24764.0000</td>\n",
       "      <td>24622.0000</td>\n",
       "      <td>-6.87</td>\n",
       "      <td>0.410</td>\n",
       "      <td>1.000000e+26</td>\n",
       "    </tr>\n",
       "    <tr>\n",
       "      <th>10</th>\n",
       "      <td>Pluto</td>\n",
       "      <td>dwarf</td>\n",
       "      <td>0.0146</td>\n",
       "      <td>2370.0</td>\n",
       "      <td>2095</td>\n",
       "      <td>0.7</td>\n",
       "      <td>1.3</td>\n",
       "      <td>-153.3</td>\n",
       "      <td>153.3</td>\n",
       "      <td>5906.4</td>\n",
       "      <td>...</td>\n",
       "      <td>-225</td>\n",
       "      <td>1.000000e-05</td>\n",
       "      <td>5</td>\n",
       "      <td>No</td>\n",
       "      <td>No</td>\n",
       "      <td>1188.3000</td>\n",
       "      <td>1188.3000</td>\n",
       "      <td>-1.00</td>\n",
       "      <td>0.300</td>\n",
       "      <td>1.300000e+14</td>\n",
       "    </tr>\n",
       "  </tbody>\n",
       "</table>\n",
       "<p>11 rows × 27 columns</p>\n",
       "</div>"
      ],
      "text/plain": [
       "       name    type  mass_1024kg  diameter_km  density_kg_m3  gravity_m_s2  \\\n",
       "0   Mercury  planet       0.3300       4879.0           5427           3.7   \n",
       "1     Venus  planet       4.8700      12104.0           5243           8.9   \n",
       "2     Earth  planet       5.9700      12756.0           5514           9.8   \n",
       "3      Moon    moon       0.0730       3475.0           3340           1.6   \n",
       "4      Mars  planet       0.6420       6792.0           3933           3.7   \n",
       "5   Jupiter  planet    1898.0000     142984.0           1326          23.1   \n",
       "6    Saturn  planet     568.0000     120536.0            687           9.0   \n",
       "7     Titan    moon       0.1260       5149.4           1882           1.4   \n",
       "8    Uranus  planet      86.8000      51118.0           1271           8.7   \n",
       "9   Neptune  planet     102.0000      49528.0           1638          11.0   \n",
       "10    Pluto   dwarf       0.0146       2370.0           2095           0.7   \n",
       "\n",
       "    escape_vel_km_s  rotation_period_hr  day_len_hr  distance_from_sun_106_km  \\\n",
       "0               4.3              1407.6      4222.6                      57.9   \n",
       "1              10.4             -5832.5      2802.0                     108.2   \n",
       "2              11.2                23.9        24.0                     149.6   \n",
       "3               2.4               655.7       708.7                     149.6   \n",
       "4               5.0                24.6        24.7                     227.9   \n",
       "5              59.5                 9.9         9.9                     778.6   \n",
       "6              35.5                10.7        10.7                    1433.5   \n",
       "7               2.6               382.0       382.0                    1433.5   \n",
       "8              21.3               -17.2        17.2                    2872.5   \n",
       "9              23.5                16.1        16.1                    4495.1   \n",
       "10              1.3              -153.3       153.3                    5906.4   \n",
       "\n",
       "    ...  mean_temp_c  surface_pressure_bars  nbr_moons  rings  magnetic_field  \\\n",
       "0   ...          167           1.000000e-14          0     No             Yes   \n",
       "1   ...          464           9.200000e+01          0     No              No   \n",
       "2   ...           15           1.014000e+00          1     No             Yes   \n",
       "3   ...          -20           3.000000e-15          0     No              No   \n",
       "4   ...          -65           1.000000e-02          2     No              No   \n",
       "5   ...         -110           2.000000e+00         79    Yes             Yes   \n",
       "6   ...         -140           1.000000e+03         82    Yes             Yes   \n",
       "7   ...         -179           1.600000e+00          0     No              No   \n",
       "8   ...         -195           1.000000e+03         27    Yes             Yes   \n",
       "9   ...         -200           1.000000e+03         14    Yes             Yes   \n",
       "10  ...         -225           1.000000e-05          5     No              No   \n",
       "\n",
       "    equatorial_radius_km  mean_radius_km  V(1,0) (mag)  geometric_albedo  \\\n",
       "0              2440.5300       2439.4000         -0.60             0.106   \n",
       "1              6051.8000       6051.8000         -4.47             0.650   \n",
       "2              6378.1366       6371.0084         -3.86             0.367   \n",
       "3              1737.5000       1737.4000         -0.08             0.120   \n",
       "4              3396.1900       3389.5000         -1.52             0.150   \n",
       "5             71492.0000      69911.0000         -9.40             0.520   \n",
       "6             60268.0000      58232.0000         -8.88             0.470   \n",
       "7              2574.7000       2574.7000         -8.10             0.210   \n",
       "8             25559.0000      25362.0000         -7.19             0.510   \n",
       "9             24764.0000      24622.0000         -6.87             0.410   \n",
       "10             1188.3000       1188.3000         -1.00             0.300   \n",
       "\n",
       "    atmospheric_mass_kg  \n",
       "0          1.000000e+03  \n",
       "1          4.800000e+20  \n",
       "2          1.400000e+21  \n",
       "3          1.000000e+05  \n",
       "4          2.500000e+16  \n",
       "5          1.900000e+27  \n",
       "6          5.400000e+26  \n",
       "7          9.100000e+18  \n",
       "8          8.600000e+25  \n",
       "9          1.000000e+26  \n",
       "10         1.300000e+14  \n",
       "\n",
       "[11 rows x 27 columns]"
      ]
     },
     "execution_count": 2,
     "metadata": {},
     "output_type": "execute_result"
    }
   ],
   "source": [
    "planets = pd.read_excel('../data/planets_moons.xlsx')\n",
    "planets"
   ]
  },
  {
   "cell_type": "code",
   "execution_count": 3,
   "metadata": {},
   "outputs": [],
   "source": [
    "p_cols = ['name', 'mass_1024kg', 'diameter_km','mean_radius_km', 'density_kg_m3', 'gravity_m_s2', 'escape_vel_km_s']\n",
    "planet_df = planets[p_cols]\n",
    "# planet_df"
   ]
  },
  {
   "cell_type": "markdown",
   "metadata": {},
   "source": [
    "- direct measures\n",
    "  - mass (M)\n",
    "  - diameter (D) - 2r\n",
    "  - radius (r) - $\\frac{1}{2} D$\n",
    "  - gravatational constant (G)\n",
    "- density = mass / volume\n",
    "- volume = $\\frac{4}{3} \\pi r^3$\n",
    "- gravity = $\\frac{GM}{r^2}$\n",
    "- escape velocity = $\\sqrt{\\frac{2GM}{r}}$"
   ]
  },
  {
   "cell_type": "code",
   "execution_count": 43,
   "metadata": {},
   "outputs": [
    {
     "name": "stderr",
     "output_type": "stream",
     "text": [
      "//anaconda3/lib/python3.7/site-packages/ipykernel_launcher.py:1: SettingWithCopyWarning: \n",
      "A value is trying to be set on a copy of a slice from a DataFrame.\n",
      "Try using .loc[row_indexer,col_indexer] = value instead\n",
      "\n",
      "See the caveats in the documentation: http://pandas.pydata.org/pandas-docs/stable/user_guide/indexing.html#returning-a-view-versus-a-copy\n",
      "  \"\"\"Entry point for launching an IPython kernel.\n"
     ]
    }
   ],
   "source": [
    "planet_df['volume'] = round((planet_df['mean_radius_km'] / 1000) ** 3 * (4/3) * pi, 4)"
   ]
  },
  {
   "cell_type": "code",
   "execution_count": 44,
   "metadata": {},
   "outputs": [
    {
     "data": {
      "text/html": [
       "<div>\n",
       "<style scoped>\n",
       "    .dataframe tbody tr th:only-of-type {\n",
       "        vertical-align: middle;\n",
       "    }\n",
       "\n",
       "    .dataframe tbody tr th {\n",
       "        vertical-align: top;\n",
       "    }\n",
       "\n",
       "    .dataframe thead th {\n",
       "        text-align: right;\n",
       "    }\n",
       "</style>\n",
       "<table border=\"1\" class=\"dataframe\">\n",
       "  <thead>\n",
       "    <tr style=\"text-align: right;\">\n",
       "      <th></th>\n",
       "      <th>name</th>\n",
       "      <th>mass_1024kg</th>\n",
       "      <th>diameter_km</th>\n",
       "      <th>mean_radius_km</th>\n",
       "      <th>density_kg_m3</th>\n",
       "      <th>gravity_m_s2</th>\n",
       "      <th>escape_vel_km_s</th>\n",
       "      <th>volume</th>\n",
       "    </tr>\n",
       "  </thead>\n",
       "  <tbody>\n",
       "    <tr>\n",
       "      <th>0</th>\n",
       "      <td>Mercury</td>\n",
       "      <td>0.3300</td>\n",
       "      <td>4879.0</td>\n",
       "      <td>2439.4000</td>\n",
       "      <td>5427</td>\n",
       "      <td>3.7</td>\n",
       "      <td>4.3</td>\n",
       "      <td>6.080480e+01</td>\n",
       "    </tr>\n",
       "    <tr>\n",
       "      <th>1</th>\n",
       "      <td>Venus</td>\n",
       "      <td>4.8700</td>\n",
       "      <td>12104.0</td>\n",
       "      <td>6051.8000</td>\n",
       "      <td>5243</td>\n",
       "      <td>8.9</td>\n",
       "      <td>10.4</td>\n",
       "      <td>9.284153e+02</td>\n",
       "    </tr>\n",
       "    <tr>\n",
       "      <th>2</th>\n",
       "      <td>Earth</td>\n",
       "      <td>5.9700</td>\n",
       "      <td>12756.0</td>\n",
       "      <td>6371.0084</td>\n",
       "      <td>5514</td>\n",
       "      <td>9.8</td>\n",
       "      <td>11.2</td>\n",
       "      <td>1.083211e+03</td>\n",
       "    </tr>\n",
       "    <tr>\n",
       "      <th>3</th>\n",
       "      <td>Moon</td>\n",
       "      <td>0.0730</td>\n",
       "      <td>3475.0</td>\n",
       "      <td>1737.4000</td>\n",
       "      <td>3340</td>\n",
       "      <td>1.6</td>\n",
       "      <td>2.4</td>\n",
       "      <td>2.196790e+01</td>\n",
       "    </tr>\n",
       "    <tr>\n",
       "      <th>4</th>\n",
       "      <td>Mars</td>\n",
       "      <td>0.6420</td>\n",
       "      <td>6792.0</td>\n",
       "      <td>3389.5000</td>\n",
       "      <td>3933</td>\n",
       "      <td>3.7</td>\n",
       "      <td>5.0</td>\n",
       "      <td>1.631156e+02</td>\n",
       "    </tr>\n",
       "    <tr>\n",
       "      <th>5</th>\n",
       "      <td>Jupiter</td>\n",
       "      <td>1898.0000</td>\n",
       "      <td>142984.0</td>\n",
       "      <td>69911.0000</td>\n",
       "      <td>1326</td>\n",
       "      <td>23.1</td>\n",
       "      <td>59.5</td>\n",
       "      <td>1.431282e+06</td>\n",
       "    </tr>\n",
       "    <tr>\n",
       "      <th>6</th>\n",
       "      <td>Saturn</td>\n",
       "      <td>568.0000</td>\n",
       "      <td>120536.0</td>\n",
       "      <td>58232.0000</td>\n",
       "      <td>687</td>\n",
       "      <td>9.0</td>\n",
       "      <td>35.5</td>\n",
       "      <td>8.271299e+05</td>\n",
       "    </tr>\n",
       "    <tr>\n",
       "      <th>7</th>\n",
       "      <td>Titan</td>\n",
       "      <td>0.1260</td>\n",
       "      <td>5149.4</td>\n",
       "      <td>2574.7000</td>\n",
       "      <td>1882</td>\n",
       "      <td>1.4</td>\n",
       "      <td>2.6</td>\n",
       "      <td>7.149380e+01</td>\n",
       "    </tr>\n",
       "    <tr>\n",
       "      <th>8</th>\n",
       "      <td>Uranus</td>\n",
       "      <td>86.8000</td>\n",
       "      <td>51118.0</td>\n",
       "      <td>25362.0000</td>\n",
       "      <td>1271</td>\n",
       "      <td>8.7</td>\n",
       "      <td>21.3</td>\n",
       "      <td>6.833436e+04</td>\n",
       "    </tr>\n",
       "    <tr>\n",
       "      <th>9</th>\n",
       "      <td>Neptune</td>\n",
       "      <td>102.0000</td>\n",
       "      <td>49528.0</td>\n",
       "      <td>24622.0000</td>\n",
       "      <td>1638</td>\n",
       "      <td>11.0</td>\n",
       "      <td>23.5</td>\n",
       "      <td>6.252570e+04</td>\n",
       "    </tr>\n",
       "    <tr>\n",
       "      <th>10</th>\n",
       "      <td>Pluto</td>\n",
       "      <td>0.0146</td>\n",
       "      <td>2370.0</td>\n",
       "      <td>1188.3000</td>\n",
       "      <td>2095</td>\n",
       "      <td>0.7</td>\n",
       "      <td>1.3</td>\n",
       "      <td>7.028600e+00</td>\n",
       "    </tr>\n",
       "  </tbody>\n",
       "</table>\n",
       "</div>"
      ],
      "text/plain": [
       "       name  mass_1024kg  diameter_km  mean_radius_km  density_kg_m3  \\\n",
       "0   Mercury       0.3300       4879.0       2439.4000           5427   \n",
       "1     Venus       4.8700      12104.0       6051.8000           5243   \n",
       "2     Earth       5.9700      12756.0       6371.0084           5514   \n",
       "3      Moon       0.0730       3475.0       1737.4000           3340   \n",
       "4      Mars       0.6420       6792.0       3389.5000           3933   \n",
       "5   Jupiter    1898.0000     142984.0      69911.0000           1326   \n",
       "6    Saturn     568.0000     120536.0      58232.0000            687   \n",
       "7     Titan       0.1260       5149.4       2574.7000           1882   \n",
       "8    Uranus      86.8000      51118.0      25362.0000           1271   \n",
       "9   Neptune     102.0000      49528.0      24622.0000           1638   \n",
       "10    Pluto       0.0146       2370.0       1188.3000           2095   \n",
       "\n",
       "    gravity_m_s2  escape_vel_km_s        volume  \n",
       "0            3.7              4.3  6.080480e+01  \n",
       "1            8.9             10.4  9.284153e+02  \n",
       "2            9.8             11.2  1.083211e+03  \n",
       "3            1.6              2.4  2.196790e+01  \n",
       "4            3.7              5.0  1.631156e+02  \n",
       "5           23.1             59.5  1.431282e+06  \n",
       "6            9.0             35.5  8.271299e+05  \n",
       "7            1.4              2.6  7.149380e+01  \n",
       "8            8.7             21.3  6.833436e+04  \n",
       "9           11.0             23.5  6.252570e+04  \n",
       "10           0.7              1.3  7.028600e+00  "
      ]
     },
     "execution_count": 44,
     "metadata": {},
     "output_type": "execute_result"
    }
   ],
   "source": [
    "planet_df"
   ]
  },
  {
   "cell_type": "markdown",
   "metadata": {},
   "source": [
    "## Diameter and radius\n",
    "\n",
    "- diameter = 2r\n",
    "- radius = $\\frac{1}{2}D$\n",
    "\n",
    "Exploring the relationship between radius and diameter"
   ]
  },
  {
   "cell_type": "code",
   "execution_count": 28,
   "metadata": {},
   "outputs": [
    {
     "name": "stderr",
     "output_type": "stream",
     "text": [
      "//anaconda3/lib/python3.7/site-packages/ipykernel_launcher.py:2: SettingWithCopyWarning: \n",
      "A value is trying to be set on a copy of a slice from a DataFrame.\n",
      "Try using .loc[row_indexer,col_indexer] = value instead\n",
      "\n",
      "See the caveats in the documentation: http://pandas.pydata.org/pandas-docs/stable/user_guide/indexing.html#returning-a-view-versus-a-copy\n",
      "  \n",
      "//anaconda3/lib/python3.7/site-packages/ipykernel_launcher.py:3: SettingWithCopyWarning: \n",
      "A value is trying to be set on a copy of a slice from a DataFrame.\n",
      "Try using .loc[row_indexer,col_indexer] = value instead\n",
      "\n",
      "See the caveats in the documentation: http://pandas.pydata.org/pandas-docs/stable/user_guide/indexing.html#returning-a-view-versus-a-copy\n",
      "  This is separate from the ipykernel package so we can avoid doing imports until\n",
      "//anaconda3/lib/python3.7/site-packages/ipykernel_launcher.py:4: SettingWithCopyWarning: \n",
      "A value is trying to be set on a copy of a slice from a DataFrame.\n",
      "Try using .loc[row_indexer,col_indexer] = value instead\n",
      "\n",
      "See the caveats in the documentation: http://pandas.pydata.org/pandas-docs/stable/user_guide/indexing.html#returning-a-view-versus-a-copy\n",
      "  after removing the cwd from sys.path.\n",
      "//anaconda3/lib/python3.7/site-packages/ipykernel_launcher.py:5: SettingWithCopyWarning: \n",
      "A value is trying to be set on a copy of a slice from a DataFrame.\n",
      "Try using .loc[row_indexer,col_indexer] = value instead\n",
      "\n",
      "See the caveats in the documentation: http://pandas.pydata.org/pandas-docs/stable/user_guide/indexing.html#returning-a-view-versus-a-copy\n",
      "  \"\"\"\n"
     ]
    },
    {
     "data": {
      "text/html": [
       "<div>\n",
       "<style scoped>\n",
       "    .dataframe tbody tr th:only-of-type {\n",
       "        vertical-align: middle;\n",
       "    }\n",
       "\n",
       "    .dataframe tbody tr th {\n",
       "        vertical-align: top;\n",
       "    }\n",
       "\n",
       "    .dataframe thead th {\n",
       "        text-align: right;\n",
       "    }\n",
       "</style>\n",
       "<table border=\"1\" class=\"dataframe\">\n",
       "  <thead>\n",
       "    <tr style=\"text-align: right;\">\n",
       "      <th></th>\n",
       "      <th>name</th>\n",
       "      <th>diameter_km</th>\n",
       "      <th>calc_diameter</th>\n",
       "      <th>diameter_diff</th>\n",
       "      <th>mean_radius_km</th>\n",
       "      <th>calc_radius</th>\n",
       "      <th>radius_diff</th>\n",
       "    </tr>\n",
       "  </thead>\n",
       "  <tbody>\n",
       "    <tr>\n",
       "      <th>0</th>\n",
       "      <td>Mercury</td>\n",
       "      <td>4879.0</td>\n",
       "      <td>4878.8000</td>\n",
       "      <td>0.2000</td>\n",
       "      <td>2439.4000</td>\n",
       "      <td>2439.5</td>\n",
       "      <td>-0.1000</td>\n",
       "    </tr>\n",
       "    <tr>\n",
       "      <th>1</th>\n",
       "      <td>Venus</td>\n",
       "      <td>12104.0</td>\n",
       "      <td>12103.6000</td>\n",
       "      <td>0.4000</td>\n",
       "      <td>6051.8000</td>\n",
       "      <td>6052.0</td>\n",
       "      <td>-0.2000</td>\n",
       "    </tr>\n",
       "    <tr>\n",
       "      <th>2</th>\n",
       "      <td>Earth</td>\n",
       "      <td>12756.0</td>\n",
       "      <td>12742.0168</td>\n",
       "      <td>13.9832</td>\n",
       "      <td>6371.0084</td>\n",
       "      <td>6378.0</td>\n",
       "      <td>-6.9916</td>\n",
       "    </tr>\n",
       "    <tr>\n",
       "      <th>3</th>\n",
       "      <td>Moon</td>\n",
       "      <td>3475.0</td>\n",
       "      <td>3474.8000</td>\n",
       "      <td>0.2000</td>\n",
       "      <td>1737.4000</td>\n",
       "      <td>1737.5</td>\n",
       "      <td>-0.1000</td>\n",
       "    </tr>\n",
       "    <tr>\n",
       "      <th>4</th>\n",
       "      <td>Mars</td>\n",
       "      <td>6792.0</td>\n",
       "      <td>6779.0000</td>\n",
       "      <td>13.0000</td>\n",
       "      <td>3389.5000</td>\n",
       "      <td>3396.0</td>\n",
       "      <td>-6.5000</td>\n",
       "    </tr>\n",
       "    <tr>\n",
       "      <th>5</th>\n",
       "      <td>Jupiter</td>\n",
       "      <td>142984.0</td>\n",
       "      <td>139822.0000</td>\n",
       "      <td>3162.0000</td>\n",
       "      <td>69911.0000</td>\n",
       "      <td>71492.0</td>\n",
       "      <td>-1581.0000</td>\n",
       "    </tr>\n",
       "    <tr>\n",
       "      <th>6</th>\n",
       "      <td>Saturn</td>\n",
       "      <td>120536.0</td>\n",
       "      <td>116464.0000</td>\n",
       "      <td>4072.0000</td>\n",
       "      <td>58232.0000</td>\n",
       "      <td>60268.0</td>\n",
       "      <td>-2036.0000</td>\n",
       "    </tr>\n",
       "    <tr>\n",
       "      <th>7</th>\n",
       "      <td>Titan</td>\n",
       "      <td>5149.4</td>\n",
       "      <td>5149.4000</td>\n",
       "      <td>0.0000</td>\n",
       "      <td>2574.7000</td>\n",
       "      <td>2574.7</td>\n",
       "      <td>0.0000</td>\n",
       "    </tr>\n",
       "    <tr>\n",
       "      <th>8</th>\n",
       "      <td>Uranus</td>\n",
       "      <td>51118.0</td>\n",
       "      <td>50724.0000</td>\n",
       "      <td>394.0000</td>\n",
       "      <td>25362.0000</td>\n",
       "      <td>25559.0</td>\n",
       "      <td>-197.0000</td>\n",
       "    </tr>\n",
       "    <tr>\n",
       "      <th>9</th>\n",
       "      <td>Neptune</td>\n",
       "      <td>49528.0</td>\n",
       "      <td>49244.0000</td>\n",
       "      <td>284.0000</td>\n",
       "      <td>24622.0000</td>\n",
       "      <td>24764.0</td>\n",
       "      <td>-142.0000</td>\n",
       "    </tr>\n",
       "    <tr>\n",
       "      <th>10</th>\n",
       "      <td>Pluto</td>\n",
       "      <td>2370.0</td>\n",
       "      <td>2376.6000</td>\n",
       "      <td>-6.6000</td>\n",
       "      <td>1188.3000</td>\n",
       "      <td>1185.0</td>\n",
       "      <td>3.3000</td>\n",
       "    </tr>\n",
       "  </tbody>\n",
       "</table>\n",
       "</div>"
      ],
      "text/plain": [
       "       name  diameter_km  calc_diameter  diameter_diff  mean_radius_km  \\\n",
       "0   Mercury       4879.0      4878.8000         0.2000       2439.4000   \n",
       "1     Venus      12104.0     12103.6000         0.4000       6051.8000   \n",
       "2     Earth      12756.0     12742.0168        13.9832       6371.0084   \n",
       "3      Moon       3475.0      3474.8000         0.2000       1737.4000   \n",
       "4      Mars       6792.0      6779.0000        13.0000       3389.5000   \n",
       "5   Jupiter     142984.0    139822.0000      3162.0000      69911.0000   \n",
       "6    Saturn     120536.0    116464.0000      4072.0000      58232.0000   \n",
       "7     Titan       5149.4      5149.4000         0.0000       2574.7000   \n",
       "8    Uranus      51118.0     50724.0000       394.0000      25362.0000   \n",
       "9   Neptune      49528.0     49244.0000       284.0000      24622.0000   \n",
       "10    Pluto       2370.0      2376.6000        -6.6000       1188.3000   \n",
       "\n",
       "    calc_radius  radius_diff  \n",
       "0        2439.5      -0.1000  \n",
       "1        6052.0      -0.2000  \n",
       "2        6378.0      -6.9916  \n",
       "3        1737.5      -0.1000  \n",
       "4        3396.0      -6.5000  \n",
       "5       71492.0   -1581.0000  \n",
       "6       60268.0   -2036.0000  \n",
       "7        2574.7       0.0000  \n",
       "8       25559.0    -197.0000  \n",
       "9       24764.0    -142.0000  \n",
       "10       1185.0       3.3000  "
      ]
     },
     "execution_count": 28,
     "metadata": {},
     "output_type": "execute_result"
    }
   ],
   "source": [
    "d_r = planet_df[['name', 'diameter_km', 'mean_radius_km']]\n",
    "d_r['calc_diameter'] = d_r['mean_radius_km'] * 2\n",
    "d_r['calc_radius'] = d_r['diameter_km'] / 2\n",
    "d_r['diameter_diff'] = d_r['diameter_km'] - d_r['calc_diameter']\n",
    "d_r['radius_diff'] = d_r['mean_radius_km'] - d_r['calc_radius']\n",
    "d_r[['name', 'diameter_km', 'calc_diameter', 'diameter_diff', 'mean_radius_km', 'calc_radius', 'radius_diff']]"
   ]
  },
  {
   "cell_type": "code",
   "execution_count": 6,
   "metadata": {},
   "outputs": [
    {
     "data": {
      "text/plain": [
       "<matplotlib.axes._subplots.AxesSubplot at 0x1a16e117d0>"
      ]
     },
     "execution_count": 6,
     "metadata": {},
     "output_type": "execute_result"
    },
    {
     "data": {
      "image/png": "[encoded data removed]",
      "text/plain": [
       "<Figure size 432x288 with 1 Axes>"
      ]
     },
     "metadata": {
      "needs_background": "light"
     },
     "output_type": "display_data"
    }
   ],
   "source": [
    "sns.scatterplot(x=\"diameter_km\", y=\"mean_radius_km\", data=planet_df)"
   ]
  },
  {
   "cell_type": "code",
   "execution_count": 7,
   "metadata": {},
   "outputs": [
    {
     "data": {
      "text/plain": [
       "<matplotlib.axes._subplots.AxesSubplot at 0x1a17642590>"
      ]
     },
     "execution_count": 7,
     "metadata": {},
     "output_type": "execute_result"
    },
    {
     "data": {
      "image/png": "[encoded data removed]",
      "text/plain": [
       "<Figure size 432x288 with 1 Axes>"
      ]
     },
     "metadata": {
      "needs_background": "light"
     },
     "output_type": "display_data"
    }
   ],
   "source": [
    "sns.regplot(x=\"diameter_km\", y=\"mean_radius_km\", data=planet_df)"
   ]
  },
  {
   "cell_type": "markdown",
   "metadata": {},
   "source": [
    "## Density\n",
    "\n",
    "density = mass / volume\n",
    "\n",
    "Exploring the relationships between density, mass, and volume"
   ]
  },
  {
   "cell_type": "code",
   "execution_count": 29,
   "metadata": {},
   "outputs": [
    {
     "data": {
      "text/plain": [
       "Index(['name', 'mass_1024kg', 'diameter_km', 'mean_radius_km', 'density_kg_m3',\n",
       "       'gravity_m_s2', 'escape_vel_km_s', 'volume'],\n",
       "      dtype='object')"
      ]
     },
     "execution_count": 29,
     "metadata": {},
     "output_type": "execute_result"
    }
   ],
   "source": [
    "planet_df.columns"
   ]
  },
  {
   "cell_type": "code",
   "execution_count": 48,
   "metadata": {},
   "outputs": [
    {
     "name": "stderr",
     "output_type": "stream",
     "text": [
      "//anaconda3/lib/python3.7/site-packages/ipykernel_launcher.py:2: SettingWithCopyWarning: \n",
      "A value is trying to be set on a copy of a slice from a DataFrame.\n",
      "Try using .loc[row_indexer,col_indexer] = value instead\n",
      "\n",
      "See the caveats in the documentation: http://pandas.pydata.org/pandas-docs/stable/user_guide/indexing.html#returning-a-view-versus-a-copy\n",
      "  \n",
      "//anaconda3/lib/python3.7/site-packages/ipykernel_launcher.py:3: SettingWithCopyWarning: \n",
      "A value is trying to be set on a copy of a slice from a DataFrame.\n",
      "Try using .loc[row_indexer,col_indexer] = value instead\n",
      "\n",
      "See the caveats in the documentation: http://pandas.pydata.org/pandas-docs/stable/user_guide/indexing.html#returning-a-view-versus-a-copy\n",
      "  This is separate from the ipykernel package so we can avoid doing imports until\n"
     ]
    },
    {
     "data": {
      "text/html": [
       "<div>\n",
       "<style scoped>\n",
       "    .dataframe tbody tr th:only-of-type {\n",
       "        vertical-align: middle;\n",
       "    }\n",
       "\n",
       "    .dataframe tbody tr th {\n",
       "        vertical-align: top;\n",
       "    }\n",
       "\n",
       "    .dataframe thead th {\n",
       "        text-align: right;\n",
       "    }\n",
       "</style>\n",
       "<table border=\"1\" class=\"dataframe\">\n",
       "  <thead>\n",
       "    <tr style=\"text-align: right;\">\n",
       "      <th></th>\n",
       "      <th>name</th>\n",
       "      <th>mass_1024kg</th>\n",
       "      <th>volume</th>\n",
       "      <th>density_kg_m3</th>\n",
       "      <th>calc_density</th>\n",
       "      <th>density_diff</th>\n",
       "    </tr>\n",
       "  </thead>\n",
       "  <tbody>\n",
       "    <tr>\n",
       "      <th>0</th>\n",
       "      <td>Mercury</td>\n",
       "      <td>0.3300</td>\n",
       "      <td>6.080480e+01</td>\n",
       "      <td>5427</td>\n",
       "      <td>5427.203116</td>\n",
       "      <td>-0.203116</td>\n",
       "    </tr>\n",
       "    <tr>\n",
       "      <th>1</th>\n",
       "      <td>Venus</td>\n",
       "      <td>4.8700</td>\n",
       "      <td>9.284153e+02</td>\n",
       "      <td>5243</td>\n",
       "      <td>5245.497354</td>\n",
       "      <td>-2.497354</td>\n",
       "    </tr>\n",
       "    <tr>\n",
       "      <th>2</th>\n",
       "      <td>Earth</td>\n",
       "      <td>5.9700</td>\n",
       "      <td>1.083211e+03</td>\n",
       "      <td>5514</td>\n",
       "      <td>5511.390576</td>\n",
       "      <td>2.609424</td>\n",
       "    </tr>\n",
       "    <tr>\n",
       "      <th>3</th>\n",
       "      <td>Moon</td>\n",
       "      <td>0.0730</td>\n",
       "      <td>2.196790e+01</td>\n",
       "      <td>3340</td>\n",
       "      <td>3323.030422</td>\n",
       "      <td>16.969578</td>\n",
       "    </tr>\n",
       "    <tr>\n",
       "      <th>4</th>\n",
       "      <td>Mars</td>\n",
       "      <td>0.6420</td>\n",
       "      <td>1.631156e+02</td>\n",
       "      <td>3933</td>\n",
       "      <td>3935.858986</td>\n",
       "      <td>-2.858986</td>\n",
       "    </tr>\n",
       "    <tr>\n",
       "      <th>5</th>\n",
       "      <td>Jupiter</td>\n",
       "      <td>1898.0000</td>\n",
       "      <td>1.431282e+06</td>\n",
       "      <td>1326</td>\n",
       "      <td>1326.084064</td>\n",
       "      <td>-0.084064</td>\n",
       "    </tr>\n",
       "    <tr>\n",
       "      <th>6</th>\n",
       "      <td>Saturn</td>\n",
       "      <td>568.0000</td>\n",
       "      <td>8.271299e+05</td>\n",
       "      <td>687</td>\n",
       "      <td>686.711954</td>\n",
       "      <td>0.288046</td>\n",
       "    </tr>\n",
       "    <tr>\n",
       "      <th>7</th>\n",
       "      <td>Titan</td>\n",
       "      <td>0.1260</td>\n",
       "      <td>7.149380e+01</td>\n",
       "      <td>1882</td>\n",
       "      <td>1762.390585</td>\n",
       "      <td>119.609415</td>\n",
       "    </tr>\n",
       "    <tr>\n",
       "      <th>8</th>\n",
       "      <td>Uranus</td>\n",
       "      <td>86.8000</td>\n",
       "      <td>6.833436e+04</td>\n",
       "      <td>1271</td>\n",
       "      <td>1270.224898</td>\n",
       "      <td>0.775102</td>\n",
       "    </tr>\n",
       "    <tr>\n",
       "      <th>9</th>\n",
       "      <td>Neptune</td>\n",
       "      <td>102.0000</td>\n",
       "      <td>6.252570e+04</td>\n",
       "      <td>1638</td>\n",
       "      <td>1631.329093</td>\n",
       "      <td>6.670907</td>\n",
       "    </tr>\n",
       "    <tr>\n",
       "      <th>10</th>\n",
       "      <td>Pluto</td>\n",
       "      <td>0.0146</td>\n",
       "      <td>7.028600e+00</td>\n",
       "      <td>2095</td>\n",
       "      <td>2077.227328</td>\n",
       "      <td>17.772672</td>\n",
       "    </tr>\n",
       "  </tbody>\n",
       "</table>\n",
       "</div>"
      ],
      "text/plain": [
       "       name  mass_1024kg        volume  density_kg_m3  calc_density  \\\n",
       "0   Mercury       0.3300  6.080480e+01           5427   5427.203116   \n",
       "1     Venus       4.8700  9.284153e+02           5243   5245.497354   \n",
       "2     Earth       5.9700  1.083211e+03           5514   5511.390576   \n",
       "3      Moon       0.0730  2.196790e+01           3340   3323.030422   \n",
       "4      Mars       0.6420  1.631156e+02           3933   3935.858986   \n",
       "5   Jupiter    1898.0000  1.431282e+06           1326   1326.084064   \n",
       "6    Saturn     568.0000  8.271299e+05            687    686.711954   \n",
       "7     Titan       0.1260  7.149380e+01           1882   1762.390585   \n",
       "8    Uranus      86.8000  6.833436e+04           1271   1270.224898   \n",
       "9   Neptune     102.0000  6.252570e+04           1638   1631.329093   \n",
       "10    Pluto       0.0146  7.028600e+00           2095   2077.227328   \n",
       "\n",
       "    density_diff  \n",
       "0      -0.203116  \n",
       "1      -2.497354  \n",
       "2       2.609424  \n",
       "3      16.969578  \n",
       "4      -2.858986  \n",
       "5      -0.084064  \n",
       "6       0.288046  \n",
       "7     119.609415  \n",
       "8       0.775102  \n",
       "9       6.670907  \n",
       "10     17.772672  "
      ]
     },
     "execution_count": 48,
     "metadata": {},
     "output_type": "execute_result"
    }
   ],
   "source": [
    "density_df = planet_df[['name', 'density_kg_m3', 'mass_1024kg', 'volume']]\n",
    "density_df['calc_density'] = density_df['mass_1024kg'] / density_df['volume'] * 1000000\n",
    "density_df['density_diff'] = density_df['density_kg_m3'] - density_df['calc_density']\n",
    "density_df[['name', 'mass_1024kg', 'volume', 'density_kg_m3', 'calc_density', 'density_diff']]"
   ]
  },
  {
   "cell_type": "code",
   "execution_count": 49,
   "metadata": {},
   "outputs": [
    {
     "data": {
      "text/plain": [
       "<matplotlib.axes._subplots.AxesSubplot at 0x1a17c4ff50>"
      ]
     },
     "execution_count": 49,
     "metadata": {},
     "output_type": "execute_result"
    },
    {
     "data": {
      "image/png": "[encoded data removed]",
      "text/plain": [
       "<Figure size 432x288 with 1 Axes>"
      ]
     },
     "metadata": {
      "needs_background": "light"
     },
     "output_type": "display_data"
    }
   ],
   "source": [
    "sns.scatterplot(x=\"mass_1024kg\", y=\"volume\", data=planet_df)"
   ]
  },
  {
   "cell_type": "code",
   "execution_count": 50,
   "metadata": {},
   "outputs": [
    {
     "data": {
      "text/plain": [
       "<matplotlib.axes._subplots.AxesSubplot at 0x1a188d8850>"
      ]
     },
     "execution_count": 50,
     "metadata": {},
     "output_type": "execute_result"
    },
    {
     "data": {
      "image/png": "[encoded data removed]",
      "text/plain": [
       "<Figure size 432x288 with 1 Axes>"
      ]
     },
     "metadata": {
      "needs_background": "light"
     },
     "output_type": "display_data"
    }
   ],
   "source": [
    "sns.regplot(x=\"mass_1024kg\", y=\"volume\", data=planet_df, ci=False)"
   ]
  },
  {
   "cell_type": "code",
   "execution_count": 51,
   "metadata": {},
   "outputs": [
    {
     "data": {
      "text/plain": [
       "[None, None]"
      ]
     },
     "execution_count": 51,
     "metadata": {},
     "output_type": "execute_result"
    },
    {
     "data": {
      "image/png": "[encoded data removed]",
      "text/plain": [
       "<Figure size 432x288 with 1 Axes>"
      ]
     },
     "metadata": {
      "needs_background": "light"
     },
     "output_type": "display_data"
    }
   ],
   "source": [
    "vol_mas = sns.regplot(x=\"mass_1024kg\", y=\"volume\", data=planet_df, ci=False)\n",
    "vol_mas.set(xscale='log', yscale='log')"
   ]
  },
  {
   "cell_type": "code",
   "execution_count": 52,
   "metadata": {},
   "outputs": [
    {
     "data": {
      "text/plain": [
       "<matplotlib.axes._subplots.AxesSubplot at 0x1a18c3dcd0>"
      ]
     },
     "execution_count": 52,
     "metadata": {},
     "output_type": "execute_result"
    },
    {
     "data": {
      "image/png": "[encoded data removed]",
      "text/plain": [
       "<Figure size 432x288 with 1 Axes>"
      ]
     },
     "metadata": {
      "needs_background": "light"
     },
     "output_type": "display_data"
    }
   ],
   "source": [
    "sns.scatterplot(x=\"volume\", y=\"density_kg_m3\", data=planet_df)"
   ]
  },
  {
   "cell_type": "code",
   "execution_count": 53,
   "metadata": {},
   "outputs": [
    {
     "data": {
      "text/plain": [
       "<matplotlib.axes._subplots.AxesSubplot at 0x1a18bf3a10>"
      ]
     },
     "execution_count": 53,
     "metadata": {},
     "output_type": "execute_result"
    },
    {
     "data": {
      "image/png": "[encoded data removed]",
      "text/plain": [
       "<Figure size 432x288 with 1 Axes>"
      ]
     },
     "metadata": {
      "needs_background": "light"
     },
     "output_type": "display_data"
    }
   ],
   "source": [
    "sns.regplot(x=\"volume\", y=\"density_kg_m3\", data=planet_df, ci=False, order=2)"
   ]
  },
  {
   "cell_type": "code",
   "execution_count": 54,
   "metadata": {},
   "outputs": [
    {
     "data": {
      "text/plain": [
       "<matplotlib.axes._subplots.AxesSubplot at 0x1a18d36bd0>"
      ]
     },
     "execution_count": 54,
     "metadata": {},
     "output_type": "execute_result"
    },
    {
     "data": {
      "image/png": "[encoded data removed]",
      "text/plain": [
       "<Figure size 432x288 with 1 Axes>"
      ]
     },
     "metadata": {
      "needs_background": "light"
     },
     "output_type": "display_data"
    }
   ],
   "source": [
    "sns.scatterplot(x=\"mass_1024kg\", y=\"density_kg_m3\", data=planet_df)"
   ]
  },
  {
   "cell_type": "code",
   "execution_count": 14,
   "metadata": {},
   "outputs": [
    {
     "data": {
      "text/plain": [
       "<matplotlib.axes._subplots.AxesSubplot at 0x1a180598d0>"
      ]
     },
     "execution_count": 14,
     "metadata": {},
     "output_type": "execute_result"
    },
    {
     "data": {
      "image/png": "[encoded data removed]",
      "text/plain": [
       "<Figure size 432x288 with 1 Axes>"
      ]
     },
     "metadata": {
      "needs_background": "light"
     },
     "output_type": "display_data"
    }
   ],
   "source": [
    "sns.regplot(x=\"mass_1024kg\", y=\"density_kg_m3\", data=planet_df, ci=False, order = 2)"
   ]
  },
  {
   "cell_type": "code",
   "execution_count": 55,
   "metadata": {},
   "outputs": [
    {
     "data": {
      "text/plain": [
       "<matplotlib.axes._subplots.AxesSubplot at 0x1a18fa2bd0>"
      ]
     },
     "execution_count": 55,
     "metadata": {},
     "output_type": "execute_result"
    },
    {
     "data": {
      "image/png": "[encoded data removed]",
      "text/plain": [
       "<Figure size 432x288 with 1 Axes>"
      ]
     },
     "metadata": {
      "needs_background": "light"
     },
     "output_type": "display_data"
    }
   ],
   "source": [
    "sns.scatterplot(x=\"mass_1024kg\", y=\"volume\", data=planet_df)"
   ]
  },
  {
   "cell_type": "markdown",
   "metadata": {},
   "source": [
    "## Volume\n",
    "\n",
    "volume = $\\frac{4}{3} \\pi r^3$\n",
    "\n",
    "Exploring the relationship between volume and radius"
   ]
  },
  {
   "cell_type": "code",
   "execution_count": 56,
   "metadata": {},
   "outputs": [
    {
     "data": {
      "text/plain": [
       "<matplotlib.axes._subplots.AxesSubplot at 0x1a19099610>"
      ]
     },
     "execution_count": 56,
     "metadata": {},
     "output_type": "execute_result"
    },
    {
     "data": {
      "image/png": "[encoded data removed]",
      "text/plain": [
       "<Figure size 432x288 with 1 Axes>"
      ]
     },
     "metadata": {
      "needs_background": "light"
     },
     "output_type": "display_data"
    }
   ],
   "source": [
    "sns.scatterplot(x=\"mean_radius_km\", y=\"volume\", data=planet_df)"
   ]
  },
  {
   "cell_type": "code",
   "execution_count": 57,
   "metadata": {},
   "outputs": [
    {
     "data": {
      "text/plain": [
       "<matplotlib.axes._subplots.AxesSubplot at 0x1a19182150>"
      ]
     },
     "execution_count": 57,
     "metadata": {},
     "output_type": "execute_result"
    },
    {
     "data": {
      "image/png": "[encoded data removed]",
      "text/plain": [
       "<Figure size 432x288 with 1 Axes>"
      ]
     },
     "metadata": {
      "needs_background": "light"
     },
     "output_type": "display_data"
    }
   ],
   "source": [
    "sns.regplot(x=\"mean_radius_km\", y=\"volume\", data=planet_df, order=3)"
   ]
  },
  {
   "cell_type": "markdown",
   "metadata": {},
   "source": [
    "## Gravity\n",
    "\n",
    "gravity = $\\frac{GM}{r^2}$\n",
    "\n",
    "Exploring the relationship between gravity, mass, radius."
   ]
  },
  {
   "cell_type": "code",
   "execution_count": 61,
   "metadata": {},
   "outputs": [
    {
     "name": "stderr",
     "output_type": "stream",
     "text": [
      "//anaconda3/lib/python3.7/site-packages/ipykernel_launcher.py:2: SettingWithCopyWarning: \n",
      "A value is trying to be set on a copy of a slice from a DataFrame.\n",
      "Try using .loc[row_indexer,col_indexer] = value instead\n",
      "\n",
      "See the caveats in the documentation: http://pandas.pydata.org/pandas-docs/stable/user_guide/indexing.html#returning-a-view-versus-a-copy\n",
      "  \n",
      "//anaconda3/lib/python3.7/site-packages/ipykernel_launcher.py:3: SettingWithCopyWarning: \n",
      "A value is trying to be set on a copy of a slice from a DataFrame.\n",
      "Try using .loc[row_indexer,col_indexer] = value instead\n",
      "\n",
      "See the caveats in the documentation: http://pandas.pydata.org/pandas-docs/stable/user_guide/indexing.html#returning-a-view-versus-a-copy\n",
      "  This is separate from the ipykernel package so we can avoid doing imports until\n"
     ]
    },
    {
     "data": {
      "text/html": [
       "<div>\n",
       "<style scoped>\n",
       "    .dataframe tbody tr th:only-of-type {\n",
       "        vertical-align: middle;\n",
       "    }\n",
       "\n",
       "    .dataframe tbody tr th {\n",
       "        vertical-align: top;\n",
       "    }\n",
       "\n",
       "    .dataframe thead th {\n",
       "        text-align: right;\n",
       "    }\n",
       "</style>\n",
       "<table border=\"1\" class=\"dataframe\">\n",
       "  <thead>\n",
       "    <tr style=\"text-align: right;\">\n",
       "      <th></th>\n",
       "      <th>name</th>\n",
       "      <th>mass_1024kg</th>\n",
       "      <th>mean_radius_km</th>\n",
       "      <th>gravity_m_s2</th>\n",
       "      <th>calc_gravity</th>\n",
       "      <th>gravity_diff</th>\n",
       "    </tr>\n",
       "  </thead>\n",
       "  <tbody>\n",
       "    <tr>\n",
       "      <th>0</th>\n",
       "      <td>Mercury</td>\n",
       "      <td>0.3300</td>\n",
       "      <td>2439.4000</td>\n",
       "      <td>3.7</td>\n",
       "      <td>3.700573</td>\n",
       "      <td>-0.000573</td>\n",
       "    </tr>\n",
       "    <tr>\n",
       "      <th>1</th>\n",
       "      <td>Venus</td>\n",
       "      <td>4.8700</td>\n",
       "      <td>6051.8000</td>\n",
       "      <td>8.9</td>\n",
       "      <td>8.873214</td>\n",
       "      <td>0.026786</td>\n",
       "    </tr>\n",
       "    <tr>\n",
       "      <th>2</th>\n",
       "      <td>Earth</td>\n",
       "      <td>5.9700</td>\n",
       "      <td>6371.0084</td>\n",
       "      <td>9.8</td>\n",
       "      <td>9.814747</td>\n",
       "      <td>-0.014747</td>\n",
       "    </tr>\n",
       "    <tr>\n",
       "      <th>3</th>\n",
       "      <td>Moon</td>\n",
       "      <td>0.0730</td>\n",
       "      <td>1737.4000</td>\n",
       "      <td>1.6</td>\n",
       "      <td>1.613780</td>\n",
       "      <td>-0.013780</td>\n",
       "    </tr>\n",
       "    <tr>\n",
       "      <th>4</th>\n",
       "      <td>Mars</td>\n",
       "      <td>0.6420</td>\n",
       "      <td>3389.5000</td>\n",
       "      <td>3.7</td>\n",
       "      <td>3.728936</td>\n",
       "      <td>-0.028936</td>\n",
       "    </tr>\n",
       "    <tr>\n",
       "      <th>5</th>\n",
       "      <td>Jupiter</td>\n",
       "      <td>1898.0000</td>\n",
       "      <td>69911.0000</td>\n",
       "      <td>23.1</td>\n",
       "      <td>25.913514</td>\n",
       "      <td>-2.813514</td>\n",
       "    </tr>\n",
       "    <tr>\n",
       "      <th>6</th>\n",
       "      <td>Saturn</td>\n",
       "      <td>568.0000</td>\n",
       "      <td>58232.0000</td>\n",
       "      <td>9.0</td>\n",
       "      <td>11.177535</td>\n",
       "      <td>-2.177535</td>\n",
       "    </tr>\n",
       "    <tr>\n",
       "      <th>7</th>\n",
       "      <td>Titan</td>\n",
       "      <td>0.1260</td>\n",
       "      <td>2574.7000</td>\n",
       "      <td>1.4</td>\n",
       "      <td>1.268348</td>\n",
       "      <td>0.131652</td>\n",
       "    </tr>\n",
       "    <tr>\n",
       "      <th>8</th>\n",
       "      <td>Uranus</td>\n",
       "      <td>86.8000</td>\n",
       "      <td>25362.0000</td>\n",
       "      <td>8.7</td>\n",
       "      <td>9.004795</td>\n",
       "      <td>-0.304795</td>\n",
       "    </tr>\n",
       "    <tr>\n",
       "      <th>9</th>\n",
       "      <td>Neptune</td>\n",
       "      <td>102.0000</td>\n",
       "      <td>24622.0000</td>\n",
       "      <td>11.0</td>\n",
       "      <td>11.227282</td>\n",
       "      <td>-0.227282</td>\n",
       "    </tr>\n",
       "    <tr>\n",
       "      <th>10</th>\n",
       "      <td>Pluto</td>\n",
       "      <td>0.0146</td>\n",
       "      <td>1188.3000</td>\n",
       "      <td>0.7</td>\n",
       "      <td>0.689957</td>\n",
       "      <td>0.010043</td>\n",
       "    </tr>\n",
       "  </tbody>\n",
       "</table>\n",
       "</div>"
      ],
      "text/plain": [
       "       name  mass_1024kg  mean_radius_km  gravity_m_s2  calc_gravity  \\\n",
       "0   Mercury       0.3300       2439.4000           3.7      3.700573   \n",
       "1     Venus       4.8700       6051.8000           8.9      8.873214   \n",
       "2     Earth       5.9700       6371.0084           9.8      9.814747   \n",
       "3      Moon       0.0730       1737.4000           1.6      1.613780   \n",
       "4      Mars       0.6420       3389.5000           3.7      3.728936   \n",
       "5   Jupiter    1898.0000      69911.0000          23.1     25.913514   \n",
       "6    Saturn     568.0000      58232.0000           9.0     11.177535   \n",
       "7     Titan       0.1260       2574.7000           1.4      1.268348   \n",
       "8    Uranus      86.8000      25362.0000           8.7      9.004795   \n",
       "9   Neptune     102.0000      24622.0000          11.0     11.227282   \n",
       "10    Pluto       0.0146       1188.3000           0.7      0.689957   \n",
       "\n",
       "    gravity_diff  \n",
       "0      -0.000573  \n",
       "1       0.026786  \n",
       "2      -0.014747  \n",
       "3      -0.013780  \n",
       "4      -0.028936  \n",
       "5      -2.813514  \n",
       "6      -2.177535  \n",
       "7       0.131652  \n",
       "8      -0.304795  \n",
       "9      -0.227282  \n",
       "10      0.010043  "
      ]
     },
     "execution_count": 61,
     "metadata": {},
     "output_type": "execute_result"
    }
   ],
   "source": [
    "gravity_df = planet_df[['name', 'mass_1024kg', 'mean_radius_km', 'gravity_m_s2']]\n",
    "gravity_df['calc_gravity'] = ((6.673 * 10**11) * gravity_df['mass_1024kg']) / (gravity_df['mean_radius_km'] * 100) **2 \n",
    "gravity_df['gravity_diff'] = gravity_df['gravity_m_s2'] - gravity_df['calc_gravity']\n",
    "gravity_df[['name', 'mass_1024kg', 'mean_radius_km', 'gravity_m_s2', 'calc_gravity', 'gravity_diff']]"
   ]
  },
  {
   "cell_type": "code",
   "execution_count": 18,
   "metadata": {},
   "outputs": [
    {
     "data": {
      "text/plain": [
       "<matplotlib.axes._subplots.AxesSubplot at 0x1a1841c190>"
      ]
     },
     "execution_count": 18,
     "metadata": {},
     "output_type": "execute_result"
    },
    {
     "data": {
      "image/png": "[encoded data removed]",
      "text/plain": [
       "<Figure size 432x288 with 1 Axes>"
      ]
     },
     "metadata": {
      "needs_background": "light"
     },
     "output_type": "display_data"
    }
   ],
   "source": [
    "sns.scatterplot(x=\"mass_1024kg\", y=\"mean_radius_km\", data=planet_df)"
   ]
  },
  {
   "cell_type": "code",
   "execution_count": 19,
   "metadata": {},
   "outputs": [
    {
     "data": {
      "text/plain": [
       "<matplotlib.axes._subplots.AxesSubplot at 0x1a1850e790>"
      ]
     },
     "execution_count": 19,
     "metadata": {},
     "output_type": "execute_result"
    },
    {
     "data": {
      "image/png": "[encoded data removed]",
      "text/plain": [
       "<Figure size 432x288 with 1 Axes>"
      ]
     },
     "metadata": {
      "needs_background": "light"
     },
     "output_type": "display_data"
    }
   ],
   "source": [
    "sns.scatterplot(x=\"mass_1024kg\", y=\"gravity_m_s2\", data=planet_df)"
   ]
  },
  {
   "cell_type": "code",
   "execution_count": 20,
   "metadata": {},
   "outputs": [
    {
     "data": {
      "text/plain": [
       "<matplotlib.axes._subplots.AxesSubplot at 0x1a185fb590>"
      ]
     },
     "execution_count": 20,
     "metadata": {},
     "output_type": "execute_result"
    },
    {
     "data": {
      "image/png": "[encoded data removed]",
      "text/plain": [
       "<Figure size 432x288 with 1 Axes>"
      ]
     },
     "metadata": {
      "needs_background": "light"
     },
     "output_type": "display_data"
    }
   ],
   "source": [
    "sns.scatterplot(x=\"mean_radius_km\", y=\"gravity_m_s2\", data=planet_df)"
   ]
  },
  {
   "cell_type": "markdown",
   "metadata": {},
   "source": [
    "## Escape velocity\n",
    "\n",
    "escape velocity = $\\sqrt{\\frac{2GM}{r}}$\n",
    "\n",
    "Exploring the relationships between escape velocity, mass, and radius"
   ]
  },
  {
   "cell_type": "code",
   "execution_count": 61,
   "metadata": {},
   "outputs": [
    {
     "name": "stderr",
     "output_type": "stream",
     "text": [
      "//anaconda3/lib/python3.7/site-packages/ipykernel_launcher.py:2: SettingWithCopyWarning: \n",
      "A value is trying to be set on a copy of a slice from a DataFrame.\n",
      "Try using .loc[row_indexer,col_indexer] = value instead\n",
      "\n",
      "See the caveats in the documentation: http://pandas.pydata.org/pandas-docs/stable/user_guide/indexing.html#returning-a-view-versus-a-copy\n",
      "  \n",
      "//anaconda3/lib/python3.7/site-packages/ipykernel_launcher.py:3: SettingWithCopyWarning: \n",
      "A value is trying to be set on a copy of a slice from a DataFrame.\n",
      "Try using .loc[row_indexer,col_indexer] = value instead\n",
      "\n",
      "See the caveats in the documentation: http://pandas.pydata.org/pandas-docs/stable/user_guide/indexing.html#returning-a-view-versus-a-copy\n",
      "  This is separate from the ipykernel package so we can avoid doing imports until\n"
     ]
    },
    {
     "data": {
      "text/html": [
       "<div>\n",
       "<style scoped>\n",
       "    .dataframe tbody tr th:only-of-type {\n",
       "        vertical-align: middle;\n",
       "    }\n",
       "\n",
       "    .dataframe tbody tr th {\n",
       "        vertical-align: top;\n",
       "    }\n",
       "\n",
       "    .dataframe thead th {\n",
       "        text-align: right;\n",
       "    }\n",
       "</style>\n",
       "<table border=\"1\" class=\"dataframe\">\n",
       "  <thead>\n",
       "    <tr style=\"text-align: right;\">\n",
       "      <th></th>\n",
       "      <th>name</th>\n",
       "      <th>mass_1024kg</th>\n",
       "      <th>mean_radius_km</th>\n",
       "      <th>gravity_m_s2</th>\n",
       "      <th>calc_gravity</th>\n",
       "      <th>gravity_diff</th>\n",
       "    </tr>\n",
       "  </thead>\n",
       "  <tbody>\n",
       "    <tr>\n",
       "      <th>0</th>\n",
       "      <td>Mercury</td>\n",
       "      <td>0.3300</td>\n",
       "      <td>2439.4000</td>\n",
       "      <td>3.7</td>\n",
       "      <td>3.700573</td>\n",
       "      <td>-0.000573</td>\n",
       "    </tr>\n",
       "    <tr>\n",
       "      <th>1</th>\n",
       "      <td>Venus</td>\n",
       "      <td>4.8700</td>\n",
       "      <td>6051.8000</td>\n",
       "      <td>8.9</td>\n",
       "      <td>8.873214</td>\n",
       "      <td>0.026786</td>\n",
       "    </tr>\n",
       "    <tr>\n",
       "      <th>2</th>\n",
       "      <td>Earth</td>\n",
       "      <td>5.9700</td>\n",
       "      <td>6371.0084</td>\n",
       "      <td>9.8</td>\n",
       "      <td>9.814747</td>\n",
       "      <td>-0.014747</td>\n",
       "    </tr>\n",
       "    <tr>\n",
       "      <th>3</th>\n",
       "      <td>Moon</td>\n",
       "      <td>0.0730</td>\n",
       "      <td>1737.4000</td>\n",
       "      <td>1.6</td>\n",
       "      <td>1.613780</td>\n",
       "      <td>-0.013780</td>\n",
       "    </tr>\n",
       "    <tr>\n",
       "      <th>4</th>\n",
       "      <td>Mars</td>\n",
       "      <td>0.6420</td>\n",
       "      <td>3389.5000</td>\n",
       "      <td>3.7</td>\n",
       "      <td>3.728936</td>\n",
       "      <td>-0.028936</td>\n",
       "    </tr>\n",
       "    <tr>\n",
       "      <th>5</th>\n",
       "      <td>Jupiter</td>\n",
       "      <td>1898.0000</td>\n",
       "      <td>69911.0000</td>\n",
       "      <td>23.1</td>\n",
       "      <td>25.913514</td>\n",
       "      <td>-2.813514</td>\n",
       "    </tr>\n",
       "    <tr>\n",
       "      <th>6</th>\n",
       "      <td>Saturn</td>\n",
       "      <td>568.0000</td>\n",
       "      <td>58232.0000</td>\n",
       "      <td>9.0</td>\n",
       "      <td>11.177535</td>\n",
       "      <td>-2.177535</td>\n",
       "    </tr>\n",
       "    <tr>\n",
       "      <th>7</th>\n",
       "      <td>Titan</td>\n",
       "      <td>0.1260</td>\n",
       "      <td>2574.7000</td>\n",
       "      <td>1.4</td>\n",
       "      <td>1.268348</td>\n",
       "      <td>0.131652</td>\n",
       "    </tr>\n",
       "    <tr>\n",
       "      <th>8</th>\n",
       "      <td>Uranus</td>\n",
       "      <td>86.8000</td>\n",
       "      <td>25362.0000</td>\n",
       "      <td>8.7</td>\n",
       "      <td>9.004795</td>\n",
       "      <td>-0.304795</td>\n",
       "    </tr>\n",
       "    <tr>\n",
       "      <th>9</th>\n",
       "      <td>Neptune</td>\n",
       "      <td>102.0000</td>\n",
       "      <td>24622.0000</td>\n",
       "      <td>11.0</td>\n",
       "      <td>11.227282</td>\n",
       "      <td>-0.227282</td>\n",
       "    </tr>\n",
       "    <tr>\n",
       "      <th>10</th>\n",
       "      <td>Pluto</td>\n",
       "      <td>0.0146</td>\n",
       "      <td>1188.3000</td>\n",
       "      <td>0.7</td>\n",
       "      <td>0.689957</td>\n",
       "      <td>0.010043</td>\n",
       "    </tr>\n",
       "  </tbody>\n",
       "</table>\n",
       "</div>"
      ],
      "text/plain": [
       "       name  mass_1024kg  mean_radius_km  gravity_m_s2  calc_gravity  \\\n",
       "0   Mercury       0.3300       2439.4000           3.7      3.700573   \n",
       "1     Venus       4.8700       6051.8000           8.9      8.873214   \n",
       "2     Earth       5.9700       6371.0084           9.8      9.814747   \n",
       "3      Moon       0.0730       1737.4000           1.6      1.613780   \n",
       "4      Mars       0.6420       3389.5000           3.7      3.728936   \n",
       "5   Jupiter    1898.0000      69911.0000          23.1     25.913514   \n",
       "6    Saturn     568.0000      58232.0000           9.0     11.177535   \n",
       "7     Titan       0.1260       2574.7000           1.4      1.268348   \n",
       "8    Uranus      86.8000      25362.0000           8.7      9.004795   \n",
       "9   Neptune     102.0000      24622.0000          11.0     11.227282   \n",
       "10    Pluto       0.0146       1188.3000           0.7      0.689957   \n",
       "\n",
       "    gravity_diff  \n",
       "0      -0.000573  \n",
       "1       0.026786  \n",
       "2      -0.014747  \n",
       "3      -0.013780  \n",
       "4      -0.028936  \n",
       "5      -2.813514  \n",
       "6      -2.177535  \n",
       "7       0.131652  \n",
       "8      -0.304795  \n",
       "9      -0.227282  \n",
       "10      0.010043  "
      ]
     },
     "execution_count": 61,
     "metadata": {},
     "output_type": "execute_result"
    }
   ],
   "source": [
    "gravity_df = planet_df[['name', 'mass_1024kg', 'mean_radius_km', 'gravity_m_s2']]\n",
    "gravity_df['calc_gravity'] = ((6.673 * 10**11) * gravity_df['mass_1024kg']) / (gravity_df['mean_radius_km'] * 100) **2 \n",
    "gravity_df['gravity_diff'] = gravity_df['gravity_m_s2'] - gravity_df['calc_gravity']\n",
    "gravity_df[['name', 'mass_1024kg', 'mean_radius_km', 'gravity_m_s2', 'calc_gravity', 'gravity_diff']]"
   ]
  },
  {
   "cell_type": "code",
   "execution_count": 21,
   "metadata": {},
   "outputs": [
    {
     "data": {
      "text/plain": [
       "<matplotlib.axes._subplots.AxesSubplot at 0x1a186d9d10>"
      ]
     },
     "execution_count": 21,
     "metadata": {},
     "output_type": "execute_result"
    },
    {
     "data": {
      "image/png": "[encoded data removed]",
      "text/plain": [
       "<Figure size 432x288 with 1 Axes>"
      ]
     },
     "metadata": {
      "needs_background": "light"
     },
     "output_type": "display_data"
    }
   ],
   "source": [
    "sns.scatterplot(x=\"mass_1024kg\", y=\"escape_vel_km_s\", data=planet_df)"
   ]
  },
  {
   "cell_type": "code",
   "execution_count": 22,
   "metadata": {},
   "outputs": [
    {
     "data": {
      "text/plain": [
       "<matplotlib.axes._subplots.AxesSubplot at 0x1a187a2910>"
      ]
     },
     "execution_count": 22,
     "metadata": {},
     "output_type": "execute_result"
    },
    {
     "data": {
      "image/png": "[encoded data removed]",
      "text/plain": [
       "<Figure size 432x288 with 1 Axes>"
      ]
     },
     "metadata": {
      "needs_background": "light"
     },
     "output_type": "display_data"
    }
   ],
   "source": [
    "sns.scatterplot(x=\"mean_radius_km\", y=\"escape_vel_km_s\", data=planet_df)"
   ]
  }
 ],
 "metadata": {
  "kernelspec": {
   "display_name": "Python 3",
   "language": "python",
   "name": "python3"
  },
  "language_info": {
   "codemirror_mode": {
    "name": "ipython",
    "version": 3
   },
   "file_extension": ".py",
   "mimetype": "text/x-python",
   "name": "python",
   "nbconvert_exporter": "python",
   "pygments_lexer": "ipython3",
   "version": "3.7.6"
  }
 },
 "nbformat": 4,
 "nbformat_minor": 4
}
