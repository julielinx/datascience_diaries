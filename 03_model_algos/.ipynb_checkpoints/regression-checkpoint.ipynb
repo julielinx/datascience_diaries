{
 "cells": [
  {
   "cell_type": "markdown",
   "metadata": {},
   "source": [
    "# Entry 32 - Regression"
   ]
  },
  {
   "cell_type": "markdown",
   "metadata": {},
   "source": [
    "## Learning Style\n",
    "\n",
    "<table align='left'>\n",
    "    <tr>\n",
    "        <th>Supervision</th>\n",
    "        <th>Prediction types</th>\n",
    "    </tr>\n",
    "    <tr>\n",
    "        <td>Supervised</td>\n",
    "        <td>Regression</td>\n",
    "    </tr>\n",
    "    <tr>\n",
    "        <td></td>\n",
    "        <td>Classification</td>\n",
    "    </tr>\n",
    "</table>"
   ]
  },
  {
   "cell_type": "markdown",
   "metadata": {},
   "source": [
    "*Note*, most subcategories of regression cannot be used for classification. Logistic Regression (only classification) and Ridge Regression (which can do regression and classification depending on variations) are two exceptions."
   ]
  },
  {
   "cell_type": "markdown",
   "metadata": {},
   "source": [
    "## Description\n",
    "\n",
    "The gist of regression is that it uses a linear function to fit the data. For the simplist cases, it's just like the equation for a line:\n",
    "\n",
    "y = mx + b\n",
    "\n",
    "Where:\n",
    "\n",
    "- y = y\n",
    "- m = slope of the line\n",
    "- x = x\n",
    "- b = y-intercept"
   ]
  },
  {
   "cell_type": "code",
   "execution_count": 2,
   "metadata": {},
   "outputs": [
    {
     "name": "stdout",
     "output_type": "stream",
     "text": [
      "w[0]: 0.393906  b: -0.031804\n"
     ]
    },
    {
     "data": {
      "image/png": "[encoded data removed]",
      "text/plain": [
       "<Figure size 576x576 with 1 Axes>"
      ]
     },
     "metadata": {
      "needs_background": "light"
     },
     "output_type": "display_data"
    }
   ],
   "source": [
    "import mglearn\n",
    "\n",
    "mglearn.plots.plot_linear_regression_wave()"
   ]
  },
  {
   "cell_type": "markdown",
   "metadata": {},
   "source": [
    "To account for more than one input, the full equation for linear regression is a little more complicated.\n",
    "\n",
    "The equation as listed on page 47 of [Introduction to Machine Learning with Python](https://www.amazon.com/Introduction-Machine-Learning-Python-Scientists/dp/1449369413) is:\n",
    "\n",
    "$\\hat{y} = w_{0} x_{0} + w_{1} x_{1} + \\dotsb + w_{p} x_{p} + b$\n",
    "\n",
    "Where each *x* represents a feature (just like in the single variable version where x is the input and y is the output) and *w* is a learned weight for each feature. The text continues, and points out that the equation for a single feature is:\n",
    "\n",
    "$\\hat{y} = w_{0} x_{0} + b$\n",
    "\n",
    "This equation is exactly the same as the one for a line above, except $w_{0}$ has been substituted for *m*. A simplified way of thinking about this would be that the slope (*m*) is calculated for each feature and used as the weight (*w*). *Introduction to Machine Learning with Python* puts it like this:\n",
    "\n",
    "> For more features, *w* contains the slopes along each feature axis. Alternatively, you can think of the predicted response as being a weighted sum of the input features, with weights (which can be negative) given by the entries of *w*.\n",
    "\n",
    "It expounds further on page 48:\n",
    "\n",
    "> Linear models for regression can be characterized as regression models for which the prediction is a line for a single feature, a plane when using two features, or a hyperplane in higher dimensions.\n",
    "\n",
    "### Subcategories\n",
    "\n",
    "So, all of that is well and good, but how are the weights/theta values calculated? According to *Introduction to Machine Learning with Python* on page 49, the way the model learns the weights and how it controls complexity are the differentiating factors between the various subcategories of regression. These subcategories are:\n",
    "\n",
    "- Ordinary Least Squares (OLS)\n",
    "  - Normal Equation\n",
    "  - Gradient Descent\n",
    "- Ridge Regression\n",
    "- Lasso Regression\n",
    "- Elastic Net\n",
    "- Logistic Regression\n",
    "\n",
    "Each subcategory will have its own entry explaining how it differs from the others."
   ]
  },
  {
   "cell_type": "markdown",
   "metadata": {},
   "source": [
    "## Purpose\n",
    "\n",
    "The purpose of regression is to find the best fit \"line\" for the feature space and then apply that to data points that haven't been seen before to predict the output of the new data. The way this is implemented is via linear algebra using a vectorized version of the equation."
   ]
  },
  {
   "cell_type": "markdown",
   "metadata": {},
   "source": [
    "### Vectorized equation\n",
    "\n",
    "The equation for linear regression as listed on page 112 of [Hands-On Machine Learning with Scikit-Learn](https://www.amazon.com/Hands-Machine-Learning-Scikit-Learn-TensorFlow/dp/1492032646) looks a little different than the one in *Introduction to Machine Learning with Python*:\n",
    "\n",
    "$\\hat{y} = \\theta_{0} + \\theta_{1} x_{1} + \\theta_{2} x_{2} + \\dotsb + \\theta_{n} x_{n}$\n",
    "\n",
    "However, all the changes are superficial:\n",
    "- *b* is moved to the front of the equation and written as $\\theta_{0}$\n",
    "- The *w*s are written as $\\theta$s\n",
    "- The unknown number of elements is written as *n* instead of *p*\n",
    "- The subscripts for the *x*s starts at 1 instead of 0\n",
    "\n",
    "The nice thing about the slight alterations to the equation is that it makes it easier to understand the vectorized representation of the equation (from page 113 of *Hands on Machine Learning with Scikit-Learn*):\n",
    "\n",
    "$\\hat{y} = h_{0}(x) = \\theta x$\n",
    "\n",
    "Where\n",
    "\n",
    "- $\\theta$ is a vector (ie list) of weights, with the first value being the y-intercept type value (represented by *b* in *Introduction to Machine Learning*)\n",
    "- *x* is the matrix of feature values (ie the DataFrame) with the first column ($x_{0}$, not listed in the equation) being all 1s so that $\\theta_{0}$ is always evaluated as the same value\n",
    "\n",
    "As an example, I created a fake theta array for a subset of the planet data. The first value in the theta array (6.5) is *b* in *Introduction to Machine Learning with Python* and $\\theta_{0}$ in *Hands-On Machine Learning with Scikit-Learn*. The rest of the values are the weights for each feature (the *w*s in *Introduction to Machine Learning with Python* and $\\theta_{1}$ through $\\theta_{n}$ in *Hands-On Machine Learning with Scikit-Learn*."
   ]
  },
  {
   "cell_type": "code",
   "execution_count": 2,
   "metadata": {},
   "outputs": [
    {
     "data": {
      "text/plain": [
       "0    6.5\n",
       "1    2.5\n",
       "2    8.1\n",
       "3    0.3\n",
       "4    1.7\n",
       "5    3.8\n",
       "6    5.9\n",
       "dtype: float64"
      ]
     },
     "execution_count": 2,
     "metadata": {},
     "output_type": "execute_result"
    }
   ],
   "source": [
    "theta = pd.Series([6.5, 2.5, 8.1, 0.3, 1.7, 3.8, 5.9])\n",
    "theta"
   ]
  },
  {
   "cell_type": "markdown",
   "metadata": {},
   "source": [
    "The subset of planet data, along with the initial column of 1s (remember the first column needs to be all 1s so that $\\theta_{0}$ remains the same value) looks like this:"
   ]
  },
  {
   "cell_type": "code",
   "execution_count": 44,
   "metadata": {},
   "outputs": [
    {
     "name": "stderr",
     "output_type": "stream",
     "text": [
      "//anaconda3/lib/python3.7/site-packages/ipykernel_launcher.py:4: SettingWithCopyWarning: \n",
      "A value is trying to be set on a copy of a slice from a DataFrame.\n",
      "Try using .loc[row_indexer,col_indexer] = value instead\n",
      "\n",
      "See the caveats in the documentation: http://pandas.pydata.org/pandas-docs/stable/user_guide/indexing.html#returning-a-view-versus-a-copy\n",
      "  after removing the cwd from sys.path.\n"
     ]
    },
    {
     "data": {
      "text/html": [
       "<div>\n",
       "<style scoped>\n",
       "    .dataframe tbody tr th:only-of-type {\n",
       "        vertical-align: middle;\n",
       "    }\n",
       "\n",
       "    .dataframe tbody tr th {\n",
       "        vertical-align: top;\n",
       "    }\n",
       "\n",
       "    .dataframe thead th {\n",
       "        text-align: right;\n",
       "    }\n",
       "</style>\n",
       "<table border=\"1\" class=\"dataframe\">\n",
       "  <thead>\n",
       "    <tr style=\"text-align: right;\">\n",
       "      <th></th>\n",
       "      <th>theta0</th>\n",
       "      <th>mass_1024kg</th>\n",
       "      <th>diameter_km</th>\n",
       "      <th>mean_radius_km</th>\n",
       "      <th>density_kg_m3</th>\n",
       "      <th>gravity_m_s2</th>\n",
       "      <th>escape_vel_km_s</th>\n",
       "    </tr>\n",
       "  </thead>\n",
       "  <tbody>\n",
       "    <tr>\n",
       "      <th>0</th>\n",
       "      <td>1</td>\n",
       "      <td>0.3300</td>\n",
       "      <td>4879.0</td>\n",
       "      <td>2439.4000</td>\n",
       "      <td>5427</td>\n",
       "      <td>3.7</td>\n",
       "      <td>4.3</td>\n",
       "    </tr>\n",
       "    <tr>\n",
       "      <th>1</th>\n",
       "      <td>1</td>\n",
       "      <td>4.8700</td>\n",
       "      <td>12104.0</td>\n",
       "      <td>6051.8000</td>\n",
       "      <td>5243</td>\n",
       "      <td>8.9</td>\n",
       "      <td>10.4</td>\n",
       "    </tr>\n",
       "    <tr>\n",
       "      <th>2</th>\n",
       "      <td>1</td>\n",
       "      <td>5.9700</td>\n",
       "      <td>12756.0</td>\n",
       "      <td>6371.0084</td>\n",
       "      <td>5514</td>\n",
       "      <td>9.8</td>\n",
       "      <td>11.2</td>\n",
       "    </tr>\n",
       "    <tr>\n",
       "      <th>3</th>\n",
       "      <td>1</td>\n",
       "      <td>0.0730</td>\n",
       "      <td>3475.0</td>\n",
       "      <td>1737.4000</td>\n",
       "      <td>3340</td>\n",
       "      <td>1.6</td>\n",
       "      <td>2.4</td>\n",
       "    </tr>\n",
       "    <tr>\n",
       "      <th>4</th>\n",
       "      <td>1</td>\n",
       "      <td>0.6420</td>\n",
       "      <td>6792.0</td>\n",
       "      <td>3389.5000</td>\n",
       "      <td>3933</td>\n",
       "      <td>3.7</td>\n",
       "      <td>5.0</td>\n",
       "    </tr>\n",
       "    <tr>\n",
       "      <th>5</th>\n",
       "      <td>1</td>\n",
       "      <td>1898.0000</td>\n",
       "      <td>142984.0</td>\n",
       "      <td>69911.0000</td>\n",
       "      <td>1326</td>\n",
       "      <td>23.1</td>\n",
       "      <td>59.5</td>\n",
       "    </tr>\n",
       "    <tr>\n",
       "      <th>6</th>\n",
       "      <td>1</td>\n",
       "      <td>568.0000</td>\n",
       "      <td>120536.0</td>\n",
       "      <td>58232.0000</td>\n",
       "      <td>687</td>\n",
       "      <td>9.0</td>\n",
       "      <td>35.5</td>\n",
       "    </tr>\n",
       "    <tr>\n",
       "      <th>7</th>\n",
       "      <td>1</td>\n",
       "      <td>0.1260</td>\n",
       "      <td>5149.4</td>\n",
       "      <td>2574.7000</td>\n",
       "      <td>1882</td>\n",
       "      <td>1.4</td>\n",
       "      <td>2.6</td>\n",
       "    </tr>\n",
       "    <tr>\n",
       "      <th>8</th>\n",
       "      <td>1</td>\n",
       "      <td>86.8000</td>\n",
       "      <td>51118.0</td>\n",
       "      <td>25362.0000</td>\n",
       "      <td>1271</td>\n",
       "      <td>8.7</td>\n",
       "      <td>21.3</td>\n",
       "    </tr>\n",
       "    <tr>\n",
       "      <th>9</th>\n",
       "      <td>1</td>\n",
       "      <td>102.0000</td>\n",
       "      <td>49528.0</td>\n",
       "      <td>24622.0000</td>\n",
       "      <td>1638</td>\n",
       "      <td>11.0</td>\n",
       "      <td>23.5</td>\n",
       "    </tr>\n",
       "    <tr>\n",
       "      <th>10</th>\n",
       "      <td>1</td>\n",
       "      <td>0.0146</td>\n",
       "      <td>2370.0</td>\n",
       "      <td>1188.3000</td>\n",
       "      <td>2095</td>\n",
       "      <td>0.7</td>\n",
       "      <td>1.3</td>\n",
       "    </tr>\n",
       "  </tbody>\n",
       "</table>\n",
       "</div>"
      ],
      "text/plain": [
       "    theta0  mass_1024kg  diameter_km  mean_radius_km  density_kg_m3  \\\n",
       "0        1       0.3300       4879.0       2439.4000           5427   \n",
       "1        1       4.8700      12104.0       6051.8000           5243   \n",
       "2        1       5.9700      12756.0       6371.0084           5514   \n",
       "3        1       0.0730       3475.0       1737.4000           3340   \n",
       "4        1       0.6420       6792.0       3389.5000           3933   \n",
       "5        1    1898.0000     142984.0      69911.0000           1326   \n",
       "6        1     568.0000     120536.0      58232.0000            687   \n",
       "7        1       0.1260       5149.4       2574.7000           1882   \n",
       "8        1      86.8000      51118.0      25362.0000           1271   \n",
       "9        1     102.0000      49528.0      24622.0000           1638   \n",
       "10       1       0.0146       2370.0       1188.3000           2095   \n",
       "\n",
       "    gravity_m_s2  escape_vel_km_s  \n",
       "0            3.7              4.3  \n",
       "1            8.9             10.4  \n",
       "2            9.8             11.2  \n",
       "3            1.6              2.4  \n",
       "4            3.7              5.0  \n",
       "5           23.1             59.5  \n",
       "6            9.0             35.5  \n",
       "7            1.4              2.6  \n",
       "8            8.7             21.3  \n",
       "9           11.0             23.5  \n",
       "10           0.7              1.3  "
      ]
     },
     "execution_count": 44,
     "metadata": {},
     "output_type": "execute_result"
    }
   ],
   "source": [
    "planets = pd.read_excel('../data/planets_moons.xlsx')\n",
    "p_cols = ['name', 'mass_1024kg', 'diameter_km','mean_radius_km', 'density_kg_m3', 'gravity_m_s2', 'escape_vel_km_s']\n",
    "planet_df = planets[p_cols]\n",
    "planet_df['name'] = 1\n",
    "planet_df.rename(columns={'name':'theta0'}, inplace=True)\n",
    "planet_df"
   ]
  },
  {
   "cell_type": "markdown",
   "metadata": {},
   "source": [
    "The dot product is then calculated for the theta array and the planet feature values to give the linear regression output."
   ]
  },
  {
   "cell_type": "code",
   "execution_count": 42,
   "metadata": {},
   "outputs": [
    {
     "data": {
      "text/plain": [
       "array([  49524.37497204,  108884.89493742,  114733.44748931,\n",
       "         34373.64250797,   62769.81500023, 1186588.23000145,\n",
       "        996649.25      ,   45709.42419369,  424207.3300024 ,\n",
       "        411789.95      ,   23131.85651432])"
      ]
     },
     "execution_count": 42,
     "metadata": {},
     "output_type": "execute_result"
    }
   ],
   "source": [
    "planet_df.values.dot(theta)"
   ]
  },
  {
   "cell_type": "markdown",
   "metadata": {},
   "source": [
    "For more information on linear algebra/matrix multiplication and linear regression, see weeks 1 and 2 of Andrew Ng's [Machine Learning](https://www.coursera.org/learn/machine-learning) course on [coursera.org](https://www.coursera.org/). For information on how to implement it in a machine learning context, see the note in *Hands-On Machine Learning with Scikit-Learn* on page 113 (mainly when and why $\\theta$ needs to be transposed)."
   ]
  },
  {
   "cell_type": "markdown",
   "metadata": {},
   "source": [
    "## Behavior\n",
    "\n",
    "### Single feature\n",
    "\n",
    "The line for a single feature is easily visualized, just as in the first chart at the beginning of the entry, which uses the synthetic Wave dataset created for the book. Another example can be seen using the `car_crashes` sample dataset in Seaborn:"
   ]
  },
  {
   "cell_type": "code",
   "execution_count": 1,
   "metadata": {},
   "outputs": [
    {
     "data": {
      "text/plain": [
       "<seaborn.axisgrid.FacetGrid at 0x10649fed0>"
      ]
     },
     "execution_count": 1,
     "metadata": {},
     "output_type": "execute_result"
    },
    {
     "data": {
      "image/png": "[encoded data removed]",
      "text/plain": [
       "<Figure size 360x360 with 1 Axes>"
      ]
     },
     "metadata": {
      "needs_background": "light"
     },
     "output_type": "display_data"
    }
   ],
   "source": [
    "import seaborn as sns\n",
    "import pandas as pd\n",
    "crash = sns.load_dataset(\"car_crashes\")\n",
    "sns.lmplot(x=\"total\", y=\"alcohol\", data=crash, ci=False)"
   ]
  },
  {
   "cell_type": "markdown",
   "metadata": {},
   "source": [
    "### Two Features\n",
    "\n",
    "The plane for two features is also easily visualized in a 3D visualization.\n",
    "\n",
    "The concept of a plane is easily seen in this chart from the blog [Machine Learning in Action](https://appliedmachinelearning.blog/2017/03/09/understanding-support-vector-machines-a-primer/) during a discussion of SVMs.\n",
    "\n",
    "<img src='../img/hyperplane2.png'>"
   ]
  },
  {
   "cell_type": "markdown",
   "metadata": {},
   "source": [
    "Taking this concept and applying it to data in a plane (instead of separated by a plane like the SVM based example above), I created a visualization based on the planet dataset I originally started this data science journaling journey with. Remember how the data didn't meet the criterial of independently and indentically distributed? Well, now that works in my favor because I know exactly which features *should* be correlated and the mathematical way in which they're related.\n",
    "\n",
    "For data that should show on a plane, I needed a feature that depended on two other variables. My options were:\n",
    "\n",
    "- density = $\\frac{M}{v}$\n",
    "- gravity = $\\frac{GM}{r^2}$\n",
    "- escape velocity = $\\sqrt{\\frac{2GM}{r}}$\n",
    "\n",
    "Where:\n",
    "\n",
    "- M = mass\n",
    "- v = volume\n",
    "- G = gravational constant\n",
    "- r = radius\n",
    "\n",
    "Of the three, density had the most obvious example:\n",
    "\n",
    "<img src='../img/density_3d.png'>\n",
    "\n",
    "The color saturation of the dot indicates how close it is to the viewer (darker is closer, lighter is farther away). In this particular configuration, the data points almost seem to form a line (except one data point, which stands above the line). However, the darkess of the dots reveals that they vary along the near/far axis. As such, it appears they all (except one) fall along the same plane.\n",
    "\n",
    "### More than Three Features\n",
    "\n",
    "As the number of dimensions goes up, it becomes more and more difficult to visualize and conceptualize."
   ]
  },
  {
   "cell_type": "markdown",
   "metadata": {},
   "source": [
    "## Parameters\n",
    "\n",
    "Depend on which subcategory of regression is being used. This will be populated for in the entry for each specific subcategory."
   ]
  },
  {
   "cell_type": "markdown",
   "metadata": {},
   "source": [
    "## Strengths\n",
    "\n",
    "- Fast to train\n",
    "- Fast to predict\n",
    "- Easily scale to very large datasets\n",
    "- Work well with sparse data\n",
    "- Easy to intrepret / easy to see feature importance\n",
    "- Performs well when the number of features is large compared to the number of observations (ex, 104 features but only 5 observations)"
   ]
  },
  {
   "cell_type": "markdown",
   "metadata": {},
   "source": [
    "## Limitations\n",
    "\n",
    "- In low dimensions, linear models appear to have very limited usefulness. However, as more dimensions are added, the model becomes more powerful and can become overfit\n",
    "- Often unclear why coefficients are the what they are, particularly if there are highly correlated features\n",
    "- Specializes in linear relationships\n",
    "  - While features can be augmented to help capture curvilinear relationships (like quadratic or cubic), Linear Regression may not adequately capture nonlinear relationships\n",
    "  - Adding additional features to augment curvilinear relationships can create or exacerbate model overfitting\n",
    "- As it uses the mean of the residuals, it is susceptible to outliers\n",
    "- May become erratic when the number of predictors is higher than the number of observations"
   ]
  },
  {
   "cell_type": "markdown",
   "metadata": {},
   "source": [
    "## Evaluation\n",
    "\n",
    "Depend on whether the model is being used for regression or classification. This section will be populated for in the entry for each specific subcategory."
   ]
  },
  {
   "cell_type": "markdown",
   "metadata": {},
   "source": [
    "## Datasets\n",
    "\n",
    "Depend on whether the model is being used for regression or classification. This section will be populated for in the entry for each specific subcategory. For a general list of available datasets, see <font color='red'>Entry 31</font>."
   ]
  },
  {
   "cell_type": "markdown",
   "metadata": {},
   "source": [
    "## Resources\n",
    "\n",
    "- [Introduction to Machine Learning with Python](https://www.amazon.com/Introduction-Machine-Learning-Python-Scientists/dp/1449369413)\n",
    "- [Hands-On Machine Learning with Scikit-Learn](https://www.amazon.com/Hands-Machine-Learning-Scikit-Learn-TensorFlow/dp/1492032646)\n",
    "- [Machine Learning in Action](https://appliedmachinelearning.blog/2017/03/09/understanding-support-vector-machines-a-primer/)\n",
    "- [Three-Dimensional Plotting in Matplotlib](https://jakevdp.github.io/PythonDataScienceHandbook/04.12-three-dimensional-plotting.html)\n",
    "- [mplot3d tutorial](https://matplotlib.org/mpl_toolkits/mplot3d/tutorial.html)\n",
    "- [Machine Learning](https://www.coursera.org/learn/machine-learning) coursera course by Andrew Ng\n",
    "- [pandas matrix dot product failed for the two matrix having the same dimension - pandas](https://html.developreference.com/article/12561922/pandas+matrix+dot+product+failed+for+the+two+matrix+having+the+same+dimension)"
   ]
  },
  {
   "cell_type": "markdown",
   "metadata": {},
   "source": []
  }
 ],
 "metadata": {
  "kernelspec": {
   "display_name": "Python 3",
   "language": "python",
   "name": "python3"
  },
  "language_info": {
   "codemirror_mode": {
    "name": "ipython",
    "version": 3
   },
   "file_extension": ".py",
   "mimetype": "text/x-python",
   "name": "python",
   "nbconvert_exporter": "python",
   "pygments_lexer": "ipython3",
   "version": "3.7.6"
  }
 },
 "nbformat": 4,
 "nbformat_minor": 4
}
