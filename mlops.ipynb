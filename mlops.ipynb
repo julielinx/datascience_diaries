{
 "cells": [
  {
   "cell_type": "markdown",
   "metadata": {},
   "source": [
    "# MLOps\n",
    "\n",
    "\"MLOps helps drive business value by fast-tracking the experimentation process and development pipeline, improving the quality of model production—and makes it easier to monitor and maintain production models and manage regulatory requirements.\" - [Deloitte](https://www2.deloitte.com/us/en/insights/focus/tech-trends/2021/mlops-industrialized-ai.html)\n",
    "\n",
    "\"Relying on a few experts has limits, chiefly related to scalability and repeatability. Every data Jedi typically prefers their own set of model development and deployment workflows, based on education, experience, and personal preferences. They then often build models with bespoke data extracts that can require significant effort to recreate when later brought into a production setting using real-world, large-scale data. As machine learning permeates the enterprise, a more scalable, efficient, and faster approach is needed to improve development resilience, reduce production bottlenecks, and increase the reach of ML projects.\" - [Deloitte](https://www2.deloitte.com/us/en/insights/focus/tech-trends/2021/mlops-industrialized-ai.html)"
   ]
  },
  {
   "cell_type": "markdown",
   "metadata": {},
   "source": [
    "## Purpose / Goals\n",
    "\n",
    "### Reproducibility / Version control\n",
    "\n",
    "Trivial to view the individual components (code + dependencies) of a release from a year ago and re-deploy that exact version into production\n",
    "\n",
    "Re-construct a machine learning model (within a few percentage points of accuracy) from a year ago. This requires having traceability covering all of the inputs:\n",
    "\n",
    "- the dataset that was used\n",
    "- the version of the machine learning framework\n",
    "- the code commit\n",
    "- the dependencies/packages\n",
    "- the driver version and low level libraries like CUDA and cuDNN\n",
    "- the container or runtime\n",
    "- the parameters used to train the model\n",
    "- the device it was trained on\n",
    "- some specific machine learning inputs such as the initialization of layer weights\n",
    "\n",
    "### Collaboration\n",
    "\n",
    "Begins with having a unified hub where all activity, lineage, and model performance is tracked.  This includes training runs, Jupyter notebooks, hyperparameter searches, visualizations, statistical metrics, datasets, code references, and a repository of model artifacts (often referred to as a model repository).  Layering in things like granular permissions for team members, audit logs, and tags is also essential. \n",
    "\n",
    "Span each phase of the model lifecycle, from concept and R+D through testing and QA, all the way to production\n",
    "\n",
    "### Scalability\n",
    "\n",
    "machine learning in practice requires a large (and sometimes massive) amount of computational power (and storage), and often requires esoteric infrastructure like purpose-built silicon (e.g. GPUs, TPUs, and the myriad of other chips entering the market).  Machine learning engineers need an infrastructure abstraction layer which makes it easy to schedule and scale workloads without needing years of experience in networking, Kubernetes, Docker, storage systems, etc.\n",
    "\n",
    "On-demand compute and storage resources so they can iterate faster in the training, tuning, and inference phase.\n",
    "\n",
    "Some examples of infrastructure automation:\n",
    "\n",
    "- Multi-cloud: A machine learning platform should make it trivial to train a model on-premise and seamlessly deploy that model to the public cloud (or vice versa).\n",
    "- Scaling workloads: As computational demands increase, training or tuning models that span multiple compute instances becomes essential. Plumbing shared storage volumes into a distributed fleet of containers running on heterogenous hardware and connected via a MPI or gRPC message bus is not something you want your machine learning engineers spending cycles on. \n",
    "\n",
    "### Process Automation / Speed\n",
    "\n",
    "The software equivalent of an application that is automatically compiled, tested, and deployed. Once deployed, it is standard to rely on automated health and performance monitoring of deployed applications.\n",
    "\n",
    "Enable automated testing of machine learning artifacts (e.g. data validation, ML model testing, and ML model integration testing)\n",
    "\n",
    "### Reliability / Transparency\n",
    "\n",
    "- Interpretability\n",
    "  - Patterns / trends the model uses\n",
    "  - Reasons for a specific prediction\n",
    "- Ongoing model performance efficacy / model drift\n",
    "- Identify / reduce / remove bias issues"
   ]
  },
  {
   "cell_type": "markdown",
   "metadata": {},
   "source": [
    "## Data\n",
    "\n",
    "- Pipeline\n",
    "  - Features\n",
    "    - Maintain existing\n",
    "    - Test / prototype feature engineering\n",
    "    - Add new\n",
    "    - Deprecate old\n",
    "  - Ground Truth\n",
    "  - Flexibility in source\n",
    "    - Ex: MSSQL vs Postgres\n",
    "    - Reduce rows (ex: reduce to not NA for sparse rows)\n",
    "  - Ingestion format flexibility\n",
    "    - Tabular\n",
    "    - json\n",
    "    - Graph\n",
    "  - Scalability\n",
    "- Data Versioning\n",
    "  - Save training data\n",
    "- EDA\n",
    "  - Visualization\n",
    "  - Metrics\n",
    "    - Corrleation with target\n",
    "    - Missingness"
   ]
  },
  {
   "cell_type": "markdown",
   "metadata": {},
   "source": [
    "## Modeling\n",
    "\n",
    "- Process\n",
    "  - Pull in data\n",
    "  - Preprocess features\n",
    "  - Train models and evaluate\n",
    "  - Hyperparameter tuning\n",
    "  - Versioning\n",
    "    - Compare current model with new/refreshed version\n",
    "  \n",
    "- Experimentation"
   ]
  },
  {
   "cell_type": "markdown",
   "metadata": {},
   "source": [
    "## Deployment\n",
    "\n",
    "- Choose model(s) to deploy\n",
    "- Package chosen model(s)\n",
    "- Prediction feature data\n",
    "  - Only use selected features for individual model (model will need to inform deployment pipeline what raw features it uses)\n",
    "- Output predictions\n",
    "  - Flexibility in consumer of predictions/output (ex: accounting dept, client services, etc)"
   ]
  },
  {
   "cell_type": "markdown",
   "metadata": {},
   "source": [
    "## Monitoring\n",
    "\n",
    "- Staleness/drift\n",
    "  - Alerting\n",
    "  - Kick off AutoRefresh\n",
    "- Transparency\n",
    "  - Trends/patterns the model finds/targets\n",
    "  - Predictions\n",
    "    - Value\n",
    "    - Reason for prediction\n",
    "  - Feature usefulness\n",
    "- Prediction missingness\n",
    "  - Claims without predictions\n",
    "  - Prediction lag / Outages\n",
    "  - Alerting"
   ]
  },
  {
   "cell_type": "markdown",
   "metadata": {},
   "source": [
    "## Resources\n",
    "\n",
    "- [Machine Learning Engineering for Production (MLOps) Specialization on Coursera](https://www.coursera.org/specializations/machine-learning-engineering-for-production-mlops#courses)\n",
    "- [MLOps (Machine Learning Operations) Fundamentals](https://www.coursera.org/learn/mlops-fundamentals)\n",
    "- [MLOps: How to choose the best ML model tools](https://www.ambiata.com/blog/2020-12-07-mlops-tools/)\n",
    "- [What is MLOps?](https://blog.paperspace.com/what-is-mlops/)\n",
    "- [CI/CD for Machine Learning & AI](https://blog.paperspace.com/ci-cd-for-machine-learning-ai/)\n",
    "- [MLOps: Industrialized AI](https://www2.deloitte.com/us/en/insights/focus/tech-trends/2021/mlops-industrialized-ai.html)\n",
    "- [MLOps Tooling Landscape v2](https://huyenchip.com/2020/12/30/mlops-v2.html)\n",
    "- [MLOps Roadmap 2020](https://github.com/cdfoundation/sig-mlops/blob/master/roadmap/2020/MLOpsRoadmap2020.md)\n",
    "- [mlops.org](https://ml-ops.org/#gettingstarted)\n",
    "- [mlops.org github pg](https://github.com/visenger/awesome-mlops)\n",
    "- [MLOps examples from Microsoft Open Source](https://github.com/microsoft/MLOps)\n",
    "- [Machine Learning Opeations at run.ai](https://www.run.ai/guides/machine-learning-engineering/machine-learning-operations/)\n",
    "- [What Is MLOps? Machine Learning Operations Explained from bmc blog](https://www.bmc.com/blogs/mlops-machine-learning-ops/)\n",
    "- [The MLOps Toolkit](https://testdriven.io/blog/mlops/)\n",
    "- [What is MLOps? Machine Learning Operations Explained from freeCodeCamp](https://www.freecodecamp.org/news/what-is-mlops-machine-learning-operations-explained/)\n",
    "- [MLOps Explained by Arrikto](https://www.arrikto.com/mlops-explained/)\n",
    "- [Google Cloud Architecture Center: MLOps: Continuous delivery and automation pipelines in machine learning](https://cloud.google.com/architecture/mlops-continuous-delivery-and-automation-pipelines-in-machine-learning)\n",
    "- [BLOps tag on the neptune blog](https://neptune.ai/blog/category/mlops)\n",
    "- [AWS MLOps Framework](https://aws.amazon.com/solutions/implementations/aws-mlops-framework/)"
   ]
  },
  {
   "cell_type": "code",
   "execution_count": null,
   "metadata": {},
   "outputs": [],
   "source": []
  }
 ],
 "metadata": {
  "kernelspec": {
   "display_name": "Python 3",
   "language": "python",
   "name": "python3"
  },
  "language_info": {
   "codemirror_mode": {
    "name": "ipython",
    "version": 3
   },
   "file_extension": ".py",
   "mimetype": "text/x-python",
   "name": "python",
   "nbconvert_exporter": "python",
   "pygments_lexer": "ipython3",
   "version": "3.7.6"
  }
 },
 "nbformat": 4,
 "nbformat_minor": 4
}
