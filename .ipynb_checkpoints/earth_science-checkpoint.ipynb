{
 "cells": [
  {
   "cell_type": "markdown",
   "metadata": {},
   "source": [
    "# Resources\n",
    "\n",
    "- [The Best Free Resources to Learn Earth Observation Data Science](https://medium.com/spatial-data-science/the-best-free-resources-to-learn-earth-observation-data-science-710cfc1e06e8)\n",
    "- [EarthData](https://earthdata.nasa.gov/learn)\n",
    "   - [Cloud Primer for Amazon Web Services](https://earthdata.nasa.gov/learn/user-resources/webinars-and-tutorials/cloud-primer)\n",
    "- [Earth and Environmental Data Science online textbook](https://earth-env-data-science.github.io/intro)\n",
    "    - [Accompanyig GitHub pg](https://github.com/earth-env-data-science/earth-env-data-science-book)\n",
    "    - [Final Projects and data set recommendations](https://earth-env-data-science.github.io/projects.html)\n",
    "    - [Python Environments and Conda](https://earth-env-data-science.github.io/lectures/environment/python_environments.html)\n",
    "      - [Getting Started with Conda](https://conda.io/projects/conda/en/latest/user-guide/getting-started.html)\n",
    "      - [Conda Environments](https://conda.io/projects/conda/en/latest/user-guide/concepts/environments.html)\n",
    "      - [Python packages, modules, and tests](https://earth-env-data-science.github.io/lectures/core_python/organization_and_packaging.html)\n",
    "      - [Modules: Packages](https://docs.python.org/3/tutorial/modules.html#packages)\n",
    "      - [Continuous testing integration](https://docs.travis-ci.com/user/tutorial/)\n",
    "      - [Matplot pointers](https://earth-env-data-science.github.io/lectures/basic_scipy/more_matplotlib.html)\n",
    "      - Examples:\n",
    "        - [Upper Ocean Seasonality](https://github.com/cesar-rocha/UpperOceanSeasonality)\n",
    "- [Free Earth Data Science Courses & Textbooks](https://www.earthdatascience.org/courses/)\n",
    "- [Columbia Climate School: The Earth Institute](https://www.earth.columbia.edu/)\n",
    "- [Software Carpentry](https://software-carpentry.org/lessons/)\n",
    "    - [Lessons](https://software-carpentry.org/lessons)\n",
    "    - [Library Carpentry](https://librarycarpentry.org/lessons/)\n",
    "    - [The Unix Shell](https://swcarpentry.github.io/shell-novice/)\n",
    "    - [Accompanying Github pg](https://github.com/swcarpentry)\n",
    "- [JupyterHub](https://jupyter.org/hub)\n",
    "- [Binder](https://mybinder.org/)\n",
    "- [INTERACTIVE SEA LEVEL RISE DATA VISUALIZATIONS](https://cig.uw.edu/projects/interactive-sea-level-rise-data-visualizations/)"
   ]
  },
  {
   "cell_type": "markdown",
   "metadata": {},
   "source": [
    "## Climate Modeling\n",
    "\n",
    "- [Clima](https://clima.caltech.edu/category/blog/)\n",
    "- [Allen Institute for Artifician Intelligence](https://allenai.org/)\n",
    "- [NASA'sEarth System Digital System](https://esto.nasa.gov/earth-system-digital-twin/)"
   ]
  },
  {
   "cell_type": "markdown",
   "metadata": {},
   "source": [
    "## Coursera\n",
    "\n",
    "- John Hopkins - [Sustainable Cities Specialization](https://www.coursera.org/specializations/sustainablecities)\n",
    "- U of Co - [Leading Sustainable Community Transformation Specialization](https://www.coursera.org/specializations/sustainable-transformation)\n",
    "- U of Co - [Arctic Meltdown Specialization](https://www.coursera.org/specializations/arctic-climate-environment-geographies)\n",
    "- U of Co - [Biology Everywhere Specialization](https://www.coursera.org/specializations/biology-everywhere)\n",
    "- U of Co - [Exploring Our Responses to Climate Change Specialization](https://www.coursera.org/specializations/our-responses-climate-change)\n",
    "- U of Co - [Renewable Energy Specialization](https://www.coursera.org/specializations/renewable-energy)\n",
    "- U of Co - [Spacecraft Dynamics and Control Specialization](https://www.coursera.org/specializations/spacecraft-dynamics-control)\n",
    "- UC Davis- [Geographic Information Systems (GIS) Specialization](https://www.coursera.org/specializations/gis)\n",
    "- University of Toronto - [GIS, Mapping, and Spatial Analysis Specialization](https://www.coursera.org/specializations/gis-mapping-spatial-analysis)\n",
    "- Coursera Topic - [Physical Science and Engineering](https://www.coursera.org/browse/physical-science-and-engineering)"
   ]
  },
  {
   "cell_type": "markdown",
   "metadata": {},
   "source": [
    "# Data sets\n",
    "\n",
    "- [National Centers for Environmental Information](https://www.ncei.noaa.gov/)\n",
    "- [NASA Earth Data](https://earthdata.nasa.gov/eosdis/daacs)\n",
    "  - [Earth Science Missions - Infographic](https://smd-prod.s3.amazonaws.com/science-pink/s3fs-public/thumbnails/image/Earth_Fleet_ColorKey%20webupdate%20070717.jpeg)\n",
    "  - [LAADS DAAC - Level 1 Atmosphere Archive](https://ladsweb.modaps.eosdis.nasa.gov/)\n",
    "  - [LP DAAC - Land Processes](https://lpdaac.usgs.gov/)\n",
    "  - [PO DAAC - Physical Oceanography](https://podaac.jpl.nasa.gov/)\n",
    "  - [ASF - Alaska Satellite Facility](https://asf.alaska.edu/)\n",
    "  - [Earth Observation Data](https://earthdata.nasa.gov/earth-observation-data)\n",
    "  - [National Snow and Ice Data Center](https://nsidc.org/daac)\n",
    "  - [Worldview](https://worldview.earthdata.nasa.gov/)\n",
    "- [NOAA Land based station](https://earth-env-data-science.github.io/lectures/basic_scipy/more_matplotlib.html)\n",
    "- [International Best Track Archive for Climate Stewardship (IBTrACS)](https://www.ncdc.noaa.gov/ibtracs/index.php?name=ibtracs-data)\n",
    "- [Argo Floats](https://argo.ucsd.edu/)\n",
    "- [National Centers for Environmental Prediction](https://www.weather.gov/ncep/)\n",
    "- [NCEP/NCAR Reanalysis Project](https://psl.noaa.gov/data/reanalysis/reanalysis.shtml)\n",
    "  - [NCAR/UCAR Ressearch Data Archive](https://rda.ucar.edu/)\n",
    "- [University corporation for Atmospheric Research](https://www.ucar.edu/)\n",
    "- [NOAA Physical Sciences Laboratory](https://psl.noaa.gov/)\n",
    "  - [Gridded Climate Datasets: All](https://psl.noaa.gov/data/gridded/)\n",
    "- [USGS Science Data Catalog](https://data.usgs.gov/datacatalog/)\n",
    "  - [Earthquake Catalog](https://earthquake.usgs.gov/ea)\n",
    "  - [GloVis](https://glovis.usgs.gov/)\n",
    "- [IEEE Geoscience and Remote Sensing Society](https://www.grss-ieee.org/)\n",
    "- [IEEE Ocean Engineering Society](https://ieeeoes.org/)\n",
    "\n",
    "### Useful resources from NASA's \"Learn How to Access and Acquire Level 1 Data from LAADS DAAC\" webinar\n",
    "\n",
    "#### [Slides](https://cdn.earthdata.nasa.gov/conduit/upload/17958/LAADS_Webinar_09222021__1_.pdf)\n",
    "\n",
    "1. LAADS DAAC Website: https://ladsweb.modaps.eosdis.nasa.gov/\n",
    "2. Atmosphere Discipline Team page: https://atmosphere-imager.gsfc.nasa.gov/\n",
    "3. LAADS Search & Order: https://ladsweb.modaps.eosdis.nasa.gov/search/\n",
    "4. LAADS data access via science domain-based selections: https://ladsweb.modaps.eosdis.nasa.gov/archive/Science%20Domain/\n",
    "5. LAADS Data Access Tutorials: https://ladsweb.modaps.eosdis.nasa.gov/learn/tutorials/\n",
    "6. LAADS FAQs: https://ladsweb.modaps.eosdis.nasa.gov/learn/faq/\n",
    "7. LDOPE: http://landweb.nascom.nasa.gov/cgi-bin/QA_WWW/newPage.cgi\n",
    "8. MODIS Calibration: http://mcst.gsfc.nasa.gov/\n",
    "9. VIIRS Calibration: http://ncc.nesdis.noaa.gov/VIIRS/\n",
    "10. NASA Earthdata Portal: https://earthdata.nasa.gov/\n",
    "11. NASA Worldview: https://worldview.earthdata.nasa.gov/\n",
    "12. NASA Earthdata Forum: https://forum.earthdata.nasa.gov/"
   ]
  },
  {
   "cell_type": "markdown",
   "metadata": {},
   "source": [
    "# Companies\n",
    "\n",
    "- [Astrea Earth AI](https://astraea.earth/our-team/)\n",
    "- [NOAA](https://www.noaa.gov/)\n",
    "- [NASA](https://www.nasa.gov/)\n",
    "- [Woods Hole Oceanographic Institute](https://www.whoi.edu/)\n",
    "- [Oak Ridge National Laboratory](https://www.ornl.gov/)\n",
    "- [Scripps Institute of Oceanography](https://scripps.ucsd.edu/)\n",
    "- [National Geographic Society](https://www.nationalgeographic.org/careers/)\n",
    "- [Smithsonian Environmental Reserach Center](https://serc.si.edu/)\n",
    "- [World Wildlife Fund](https://careers-wwfus.icims.com/jobs/intro)\n",
    "- [The Nature Conservancy](https://www.nature.org/en-us/about-us/careers/)\n",
    "- [Audubon](https://www.audubon.org/)\n",
    "- [Sierra Club](https://www.sierraclub.org/)\n",
    "- [Conservation International](https://www.conservation.org/)\n",
    "- [Wildlife Conservation Society](https://www.wcs.org/)\n",
    "- [Oceana](https://oceana.org/)\n",
    "- [Greenpeace](https://www.greenpeace.org/international/)\n",
    "- [Ocean Conservancy](https://oceanconservancy.org/)\n",
    "- [National Wildlife Federation](https://www.nwf.org/)"
   ]
  },
  {
   "cell_type": "markdown",
   "metadata": {},
   "source": [
    "## Other\n",
    "- [Enric Sala](https://www.enricsala.com/)\n",
    "- [National Geographic Pristine Seas](https://www.nationalgeographic.org/projects/pristine-seas/)\n",
    "- [Darwin Online](http://darwin-online.org.uk/)\n",
    "- [Biodiversity Hertiage Library](https://archive.org/details/biodiversity)\n",
    "- [Great Courses: Earth at the Crossroads](https://www.thegreatcourses.com/courses/earth-at-the-crossroads-understanding-the-ecology-of-a-changing-planet)\n",
    "- [Coursera - Ecology: Ecosystem Dynamics and Conservation](https://www.coursera.org/learn/ecology-conservation)\n",
    "- [University of Auckland - Our World and Universe](https://www.auckland.ac.nz/en/science/our-research/research-themes/our-world-and-universe.html)\n",
    "- [Rochelle Constantine](https://profiles.auckland.ac.nz/r-constantine)\n",
    "- [Machine learning based image collection, annotation and classification](https://fishsizeproject.github.io/Course-MLforImageProcessing/)\n",
    "- [FishSizeProject](https://fishsizeproject.org/)\n",
    "- [FishSizeProject repo](https://github.com/fishsizeproject)\n",
    "- [Sustainable Inland Fisheries](https://en.sif.lt/scientists/)\n",
    "- [Models for sustainable inland fisheries](https://fishsizeproject.github.io/models/)"
   ]
  },
  {
   "cell_type": "code",
   "execution_count": null,
   "metadata": {},
   "outputs": [],
   "source": []
  }
 ],
 "metadata": {
  "kernelspec": {
   "display_name": "Python 3 (ipykernel)",
   "language": "python",
   "name": "python3"
  },
  "language_info": {
   "codemirror_mode": {
    "name": "ipython",
    "version": 3
   },
   "file_extension": ".py",
   "mimetype": "text/x-python",
   "name": "python",
   "nbconvert_exporter": "python",
   "pygments_lexer": "ipython3",
   "version": "3.11.5"
  }
 },
 "nbformat": 4,
 "nbformat_minor": 4
}
