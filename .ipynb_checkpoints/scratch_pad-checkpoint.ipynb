{
 "cells": [
  {
   "cell_type": "code",
   "execution_count": 178,
   "id": "a0500180-3fab-47cb-aea9-f1fb267a2b2f",
   "metadata": {},
   "outputs": [],
   "source": [
    "import math\n",
    "import time\n",
    "import random"
   ]
  },
  {
   "cell_type": "code",
   "execution_count": 169,
   "id": "1f6bd2b1-f561-48aa-981d-29ba9cd52ef8",
   "metadata": {},
   "outputs": [
    {
     "name": "stdout",
     "output_type": "stream",
     "text": [
      "The current time is 21.0:20.0:16.0\n",
      "It has been 19047.0 days since January 1, 1970\n",
      "It has been 52.0 years and 54.0 days since January 1, 1970\n"
     ]
    }
   ],
   "source": [
    "def time_to_datetime():\n",
    "    hours = time.time() // (60 * 60) % 24\n",
    "    minutes = time.time() // 60 % 60\n",
    "    seconds = round(time.time() % 60, 0)\n",
    "    days = time.time() // (60 * 60 * 24) % 365.25\n",
    "    days_since = time.time() // (60 * 60 * 24)\n",
    "    years_since = time.time() // (60 * 60 * 24 * 365)\n",
    "    print(f'The current time is {hours}:{minutes}:{seconds}')\n",
    "    print(f'It has been {days_since} days since January 1, 1970')\n",
    "    print (f'It has been {years_since} years and {days} days since January 1, 1970')\n",
    "\n",
    "time_to_datetime()"
   ]
  },
  {
   "cell_type": "code",
   "execution_count": 17,
   "id": "41eaa893-efdd-46c9-b580-17d16a0964f2",
   "metadata": {},
   "outputs": [],
   "source": [
    "time = 42 + (42/60)\n",
    "distance = 10\n",
    "m_dist = 10 * 1.61"
   ]
  },
  {
   "cell_type": "code",
   "execution_count": 34,
   "id": "c743980a-817b-4231-83d0-351c2bd25fac",
   "metadata": {},
   "outputs": [
    {
     "name": "stdout",
     "output_type": "stream",
     "text": [
      "16.1 miles per 42.7 minutes\n",
      "1.0 mile per 2.652173913043478 minutes\n",
      "1.0 mile per 159.1304347826087 seconds\n",
      "22.62295081967213 miles per 1.0 hour\n"
     ]
    }
   ],
   "source": [
    "print(f'{m_dist} miles per {time} minutes')\n",
    "print(f'{m_dist/m_dist} mile per {time/m_dist} minutes')\n",
    "print(f'{m_dist/m_dist} mile per {time/m_dist * 60} seconds')\n",
    "print(f'{m_dist * (1/time * 60)} miles per {time * (1/time)} hour')"
   ]
  },
  {
   "cell_type": "code",
   "execution_count": 189,
   "id": "be76f133-dfc6-47ac-bf5f-f14a19f8f472",
   "metadata": {},
   "outputs": [],
   "source": [
    "def check_fermat(a, b, c, n):\n",
    "    a_n_b = a**n + b**n\n",
    "    c_n = c**n\n",
    "    if n <= 2:\n",
    "        print(\"That's boring, you're supposed to choose a number greater than 2...\")\n",
    "        if a_n_b == c_n:\n",
    "            print(\"But it does in fact work\")\n",
    "        else:\n",
    "            print(\"Also, the numbers you chose don't work\")\n",
    "    else:        \n",
    "        if a_n_b == c_n:\n",
    "            print(\"Holy smokes, Fermat was wrong!\")\n",
    "        elif a_n_b != c_n:\n",
    "            print(\"No, that doesn't work\")"
   ]
  },
  {
   "cell_type": "code",
   "execution_count": 175,
   "id": "efc23b64-ac25-4ec2-a1df-6864b45ae196",
   "metadata": {},
   "outputs": [
    {
     "name": "stdout",
     "output_type": "stream",
     "text": [
      "That's boring, you're supposed to choose a number greater than 2...\n"
     ]
    },
    {
     "data": {
      "text/plain": [
       "'But it does in fact work'"
      ]
     },
     "execution_count": 175,
     "metadata": {},
     "output_type": "execute_result"
    }
   ],
   "source": [
    "check_fermat(3, 4, 5, 2)"
   ]
  },
  {
   "cell_type": "code",
   "execution_count": 177,
   "id": "16b95588-b39a-4bc7-962b-9889d3654c07",
   "metadata": {},
   "outputs": [
    {
     "name": "stdout",
     "output_type": "stream",
     "text": [
      "That's boring, you're supposed to choose a number greater than 2...\n"
     ]
    },
    {
     "data": {
      "text/plain": [
       "'But it does in fact work'"
      ]
     },
     "execution_count": 177,
     "metadata": {},
     "output_type": "execute_result"
    }
   ],
   "source": [
    "check_fermat(5, 12, 13, 2)"
   ]
  },
  {
   "cell_type": "code",
   "execution_count": 190,
   "id": "558c330c-ae54-4c06-88bd-46689d4b4ca7",
   "metadata": {},
   "outputs": [
    {
     "name": "stdout",
     "output_type": "stream",
     "text": [
      "No, that doesn't work\n",
      "No, that doesn't work\n",
      "No, that doesn't work\n",
      "No, that doesn't work\n",
      "No, that doesn't work\n",
      "No, that doesn't work\n",
      "No, that doesn't work\n",
      "No, that doesn't work\n",
      "No, that doesn't work\n",
      "No, that doesn't work\n",
      "No, that doesn't work\n",
      "No, that doesn't work\n",
      "No, that doesn't work\n",
      "No, that doesn't work\n",
      "No, that doesn't work\n",
      "No, that doesn't work\n",
      "No, that doesn't work\n",
      "No, that doesn't work\n",
      "No, that doesn't work\n",
      "No, that doesn't work\n",
      "No, that doesn't work\n",
      "No, that doesn't work\n",
      "No, that doesn't work\n",
      "No, that doesn't work\n",
      "No, that doesn't work\n"
     ]
    }
   ],
   "source": [
    "a_list = random.choices(range(0, 100), k=25)\n",
    "b_list = random.choices(range(0, 100), k=25)\n",
    "c_list = random.choices(range(0, 100), k=25)\n",
    "n_list = random.choices(range(3, 9), k=25)\n",
    "for i in range(25):\n",
    "    check_fermat(a_list[i], b_list[i], c_list[i], n_list[i])"
   ]
  },
  {
   "cell_type": "code",
   "execution_count": 182,
   "id": "c02c3fbb-d86d-40e5-9172-28fce455a150",
   "metadata": {},
   "outputs": [
    {
     "data": {
      "text/plain": [
       "\"No, that doesn't work\""
      ]
     },
     "execution_count": 182,
     "metadata": {},
     "output_type": "execute_result"
    }
   ],
   "source": [
    "check_fermat(a_list[1], b_list[1], c_list[1], n_list[1])"
   ]
  }
 ],
 "metadata": {
  "kernelspec": {
   "display_name": "Python 3",
   "language": "python",
   "name": "python3"
  },
  "language_info": {
   "codemirror_mode": {
    "name": "ipython",
    "version": 3
   },
   "file_extension": ".py",
   "mimetype": "text/x-python",
   "name": "python",
   "nbconvert_exporter": "python",
   "pygments_lexer": "ipython3",
   "version": "3.8.8"
  }
 },
 "nbformat": 4,
 "nbformat_minor": 5
}
