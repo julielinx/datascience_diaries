{
 "cells": [
  {
   "cell_type": "markdown",
   "metadata": {},
   "source": [
    "[Applied Predictive Modeling](https://www.amazon.com/Applied-Predictive-Modeling-Max-Kuhn-ebook/dp/B00K15TZU0) states on page 61 that models can easily overemphasize patterns that are not reproducible.\n",
    "\n",
    "This can happen for a multitude of reasons:\n",
    "- temporary localized patterns\n",
    "  - example: account from SC, shipping address in TX\n",
    "- spurious correlations (examples from [tylervigen.com](https://www.tylervigen.com/spurious-correlations))\n",
    "\n",
    "![spurious correlations](img/spurious_corelations.png)\n",
    "\n",
    "- flukes in the data (example from the ODSC [Interpretability workshop](https://github.com/rajshah4/inter_workshop/blob/master/InterpretabilityWorkshop.pdf) by Rajiv Shah from DataRobot)\n",
    "\n",
    "![the contributions of random features](img/random_variables.png)"
   ]
  },
  {
   "cell_type": "markdown",
   "metadata": {},
   "source": [
    "In addition, page 295 of *[Introduction to Machine Learning with Python](https://www.amazon.com/Introduction-Machine-Learning-Python-Scientists/dp/1449369413)* points out that not all models provide a realistic representation of uncertainity. If overfit, a decision tree can be 100% certain of its predictions, even if it's almost never right.\n",
    "\n",
    "We need a way to evaluate models to ensure quality, compare those models to determine which one is most appropriate, and at what threshold to set our final choice."
   ]
  },
  {
   "cell_type": "markdown",
   "metadata": {},
   "source": [
    "### The Confusion Matrix\n",
    "\n",
    "Classification problems are generally evaluated using metrics derived from the confusion matrix."
   ]
  },
  {
   "cell_type": "code",
   "execution_count": 46,
   "metadata": {},
   "outputs": [
    {
     "data": {
      "image/png": "[encoded data removed]",
      "text/plain": [
       "<Figure size 432x288 with 1 Axes>"
      ]
     },
     "metadata": {
      "needs_background": "light"
     },
     "output_type": "display_data"
    }
   ],
   "source": [
    "import mglearn\n",
    "base_conf_mat = mglearn.plots.plot_binary_confusion_matrix()\n",
    "plt.savefig('img/base_confusion_matrix.png')\n",
    "base_conf_mat"
   ]
  },
  {
   "cell_type": "markdown",
   "metadata": {},
   "source": [
    "The rows comprise the true values and the columns comprise the predicted values. These actual and predicted values combine to create four categories (counter clockwise): True Negative, False Negative, True Positive, and False Positive.\n",
    "\n",
    "From the diagram you can see that the second word indicates the prediction (positive or negative) and the first word states whether that prediction was correct or incorrect (true or false).\n",
    "\n",
    "A selection of metrics that can be derived from these four categories can be seen in this chart:\n",
    "\n",
    "![Confusion Matrix](https://raw.githubusercontent.com/julielinx/datascience_diaries/master/img/metric_explanatory_chart.PNG)"
   ]
  },
  {
   "cell_type": "markdown",
   "metadata": {},
   "source": [
    "Due to the imbalanced nature of our data, the metrics we're most interested in are recall (aka sensitivity), precision, and false positive rate (aka 1 - specificity). Using these three metrics we can examine recall vs precision and sensitivity vs specificity."
   ]
  },
  {
   "cell_type": "code",
   "execution_count": 47,
   "metadata": {},
   "outputs": [],
   "source": [
    "import numpy as np\n",
    "import pandas as pd\n",
    "import matplotlib.pyplot as plt\n",
    "import seaborn as sns\n",
    "\n",
    "from sklearn.model_selection import train_test_split, StratifiedKFold, cross_validate, cross_val_predict\n",
    "from sklearn.compose import ColumnTransformer, make_column_transformer, make_column_selector\n",
    "from sklearn.pipeline import make_pipeline\n",
    "from sklearn.preprocessing import StandardScaler\n",
    "from sklearn.impute import SimpleImputer\n",
    "from sklearn.linear_model import LogisticRegression\n",
    "\n",
    "from sklearn.metrics import precision_recall_curve, auc, average_precision_score\n",
    "from sklearn.metrics import roc_curve\n",
    "from sklearn.metrics import roc_auc_score\n",
    "\n",
    "from sklearn.datasets import load_digits, fetch_openml"
   ]
  },
  {
   "cell_type": "code",
   "execution_count": 48,
   "metadata": {},
   "outputs": [],
   "source": [
    "def plot_precision_recall_vs_threshold(precisions, recalls, thresholds):\n",
    "    plt.plot(thresholds, precisions[:-1], 'b--', label='precision')\n",
    "    plt.plot(thresholds, recalls[:-1], 'g-', label='recall')\n",
    "    plt.xlabel('Threshold')\n",
    "    plt.legend(loc='center right')\n",
    "    plt.grid()\n",
    "    plt.ylim([0, 1])\n",
    "    \n",
    "def plot_precision_vs_recall(precisions, recalls, thresholds):\n",
    "    close_default = np.argmin(np.abs(thresholds - 0.5))\n",
    "    plt.plot(precisions[close_default], recalls[close_default], 'o', markersize=10,\n",
    "            label='threshold zero', fillstyle=\"none\", c='k', mew=2)\n",
    "    plt.plot(recalls, precisions, \"b-\", linewidth=2, label='precision recall curve')\n",
    "    plt.xlabel(\"Recall\", fontsize=16)\n",
    "    plt.ylabel(\"Precision\", fontsize=16)\n",
    "    plt.axis([0, 1, 0, 1])\n",
    "    plt.legend(loc='best')\n",
    "    plt.grid(True)\n",
    "    \n",
    "def plt_roc_curve(fpr, tpr, thresholds, label='ROC curve'):\n",
    "    close_default = np.argmin(np.abs(thresholds - 0.5))\n",
    "    plt.plot(fpr[close_default], tpr[close_default], 'o', markersize=10,\n",
    "            label='default threshold 0.5', fillstyle=\"none\", c='k', mew=2)\n",
    "    plt.plot(fpr, tpr, linewidth=2, label=label)\n",
    "    plt.plot([0,1], [0,1], 'k--')\n",
    "    plt.xlabel('False Positive Rate')\n",
    "    plt.ylabel('True Positive Rate')"
   ]
  },
  {
   "cell_type": "markdown",
   "metadata": {},
   "source": [
    "## MNIST data"
   ]
  },
  {
   "cell_type": "code",
   "execution_count": null,
   "metadata": {},
   "outputs": [],
   "source": [
    "mnist = fetch_openml('mnist_784', version=1)\n",
    "X = mnist.data\n",
    "y = mnist.target\n",
    "\n",
    "X_train, X_test, y_train, y_test = X[:60000], X[60000:], y[:60000], y[60000:]\n",
    "\n",
    "y_train_5 = (y_train == '5').astype(int)\n",
    "y_test_5 = (y_test == '5').astype(int)\n",
    "\n",
    "pipe = make_pipeline(SimpleImputer(strategy='median'), StandardScaler(), LogisticRegression(max_iter=10000))\n",
    "pipe.fit(X_train, y_train_5)\n",
    "\n",
    "y_scores = cross_val_predict(pipe, X_train, y_train_5, cv=3, method='predict_proba')[:,1]\n",
    "\n",
    "precisions, recalls, pr_thresholds = precision_recall_curve(y_train_5, y_scores)\n",
    "mnist_pr_thresh = plot_precision_recall_vs_threshold(precisions, recalls, pr_thresholds)\n",
    "plt.savefig('img/mnist_pr_thresh.png')\n",
    "mnist_pr_thresh"
   ]
  },
  {
   "cell_type": "code",
   "execution_count": null,
   "metadata": {},
   "outputs": [],
   "source": [
    "mnist_pr_curve = plot_precision_vs_recall(precisions, recalls, pr_thresholds)\n",
    "plt.savefig('img/mnist_pr_curve.png')\n",
    "mnist_pr_curve"
   ]
  },
  {
   "cell_type": "code",
   "execution_count": null,
   "metadata": {},
   "outputs": [],
   "source": [
    "print(\"Area under the PR curve:\", auc(recalls, precisions))\n",
    "print(\"Average percision:\", average_precision_score(y_train_5, y_scores))"
   ]
  },
  {
   "cell_type": "code",
   "execution_count": null,
   "metadata": {},
   "outputs": [],
   "source": [
    "fpr, tpr, roc_thresholds = roc_curve(y_train_5, y_scores)\n",
    "mnist_roc_curve = plt_roc_curve(fpr, tpr, roc_thresholds)\n",
    "plt.savefig('img/mnist_roc_curve.png')\n",
    "mnist_roc_curve"
   ]
  },
  {
   "cell_type": "code",
   "execution_count": null,
   "metadata": {},
   "outputs": [],
   "source": [
    "print(\"Area under the ROC curve:\", roc_auc_score(y_train_5, y_scores))"
   ]
  },
  {
   "cell_type": "markdown",
   "metadata": {},
   "source": [
    "## Horse Colic"
   ]
  },
  {
   "cell_type": "code",
   "execution_count": null,
   "metadata": {},
   "outputs": [],
   "source": [
    "target = 'outcome'\n",
    "names = ['surgery', 'age', 'hosp_num', 'rectal_temp', 'pulse', 'respiratory_rate', 'extremity_temp',\n",
    "                  'peripheral_pulse', 'mucous_membranes', 'cap_refill_time', 'pain', 'peristalsis',\n",
    "                  'ab_distension', 'nasogastric_tube', 'nasogastric_reflux', 'nasogastric_reflux_ph',\n",
    "                  'rectal_exam', 'abdomen', 'packed_cell_vol', 'total_protein', 'abdominocentesis_app',\n",
    "                  'abdomcentesis_total_protein', 'outcome', 'surgical_lesion',\n",
    "                   'lesion_type', 'lesion2', 'lesion3', 'cp_data']\n",
    "# cat_feats = ['surgery', 'age', 'mucous_membranes', 'cap_refill_time', 'pain', 'peristalsis',\n",
    "#              'ab_distension', 'nasogastric_tube', 'nasogastric_reflux', 'rectal_exam',\n",
    "#              'abdomen', 'abdominocentesis_app', 'surgical_lesion', 'lesion_type', 'cp_data']\n",
    "num_feats = ['rectal_temp', 'pulse', 'respiratory_rate', 'extremity_temp', 'peripheral_pulse',\n",
    "             'nasogastric_reflux_ph', 'packed_cell_vol', 'total_protein', 'abdomcentesis_total_protein']\n",
    "\n",
    "raw_df = pd.read_csv(\"http://archive.ics.uci.edu/ml/machine-learning-databases/horse-colic/horse-colic.data\",\n",
    "            names=names, sep='\\s', engine='python', na_values='?')\n",
    "raw_df.drop(['lesion2','lesion3', 'hosp_num'], axis=1, inplace=True)\n",
    "\n",
    "test_data = pd.read_csv(\"http://archive.ics.uci.edu/ml/machine-learning-databases/horse-colic/horse-colic.test\",\n",
    "            names=names, sep='\\s', engine='python', na_values='?')\n",
    "test_data.drop(['lesion2','lesion3', 'hosp_num'], axis=1, inplace=True)\n",
    "\n",
    "raw_df.dropna(subset=['outcome'], inplace=True)\n",
    "y_train = raw_df['outcome']\n",
    "X_train = raw_df[num_feats]\n",
    "y_test = test_data['outcome']\n",
    "X_test = test_data[num_feats]\n",
    "\n",
    "y_train = np.where(y_train>2, 2, y_train)\n",
    "y_test = np.where(y_test>2, 2, y_test)\n",
    "\n",
    "pipe = make_pipeline(SimpleImputer(strategy='median'), StandardScaler(), LogisticRegression())\n",
    "pipe.fit(X_train, y_train)\n",
    "\n",
    "y_scores = cross_val_predict(pipe, X_train, y_train, cv=10, method='predict_proba')[:,1]\n",
    "\n",
    "precisions, recalls, pr_thresholds = precision_recall_curve(y_train, y_scores, pos_label=2)\n",
    "colic_pr_thresh = plot_precision_recall_vs_threshold(precisions, recalls, pr_thresholds)\n",
    "plt.savefig('img/colic_pr_thresh.png')\n",
    "colic_pr_thresh"
   ]
  },
  {
   "cell_type": "code",
   "execution_count": null,
   "metadata": {},
   "outputs": [],
   "source": [
    "colic_pr_curve = plot_precision_vs_recall(precisions, recalls, pr_thresholds)\n",
    "plt.savefig('img/colic_pr_curve.png')\n",
    "colic_pr_curve"
   ]
  },
  {
   "cell_type": "code",
   "execution_count": null,
   "metadata": {},
   "outputs": [],
   "source": [
    "print(\"Area under the PR curve:\", auc(recalls, precisions))\n",
    "print(\"Average percision:\", average_precision_score(y_train, y_scores))"
   ]
  },
  {
   "cell_type": "code",
   "execution_count": null,
   "metadata": {},
   "outputs": [],
   "source": [
    "fpr, tpr, roc_thresholds = roc_curve(y_train, y_scores, pos_label=2)\n",
    "colic_roc_curve = plt_roc_curve(fpr, tpr, roc_thresholds)\n",
    "plt.savefig('img/colic_roc_curve.png')\n",
    "colic_roc_curve"
   ]
  },
  {
   "cell_type": "code",
   "execution_count": null,
   "metadata": {},
   "outputs": [],
   "source": [
    "print(\"Area under the ROC curve:\", roc_auc_score(y_train, y_scores))"
   ]
  },
  {
   "cell_type": "markdown",
   "metadata": {},
   "source": [
    "## Titanic"
   ]
  },
  {
   "cell_type": "code",
   "execution_count": null,
   "metadata": {},
   "outputs": [],
   "source": [
    "titanic = fetch_openml('titanic', version=1, as_frame=True)\n",
    "df_raw = titanic.data\n",
    "target = titanic.target\n",
    "\n",
    "features = ['pclass', 'sex', 'sibsp', 'parch']\n",
    "X = df_raw.loc[:, features]\n",
    "X['sex'] = X['sex'].astype('category').cat.codes\n",
    "y = target.copy().astype('category').cat.codes\n",
    "\n",
    "X_train, X_test, y_train, y_test = train_test_split(X, y, train_size=0.8, random_state=12)\n",
    "pipe = make_pipeline(SimpleImputer(strategy='median'), StandardScaler(), LogisticRegression())\n",
    "pipe.fit(X_train, y_train)\n",
    "\n",
    "y_scores = cross_val_predict(pipe, X_train, y_train, cv=10, method='predict_proba')[:,1]\n",
    "\n",
    "precisions, recalls, pr_thresholds = precision_recall_curve(y_train, y_scores)\n",
    "titanic_pr_thresh = plot_precision_recall_vs_threshold(precisions, recalls, pr_thresholds)\n",
    "plt.savefig('img/titanic_pr_thresh.png')\n",
    "titanic_pr_thresh"
   ]
  },
  {
   "cell_type": "code",
   "execution_count": null,
   "metadata": {},
   "outputs": [],
   "source": [
    "titanic_pr_curve = plot_precision_vs_recall(precisions, recalls, pr_thresholds)\n",
    "plt.savefig('img/titanic_pr_curve.png')\n",
    "titanic_pr_curve"
   ]
  },
  {
   "cell_type": "code",
   "execution_count": null,
   "metadata": {},
   "outputs": [],
   "source": [
    "print(\"Area under the PR curve:\", auc(recalls, precisions))\n",
    "print(\"Average percision:\", average_precision_score(y_train, y_scores))"
   ]
  },
  {
   "cell_type": "code",
   "execution_count": null,
   "metadata": {},
   "outputs": [],
   "source": [
    "fpr, tpr, roc_thresholds = roc_curve(y_train, y_scores)\n",
    "titanic_roc_curve = plt_roc_curve(fpr, tpr, roc_thresholds)\n",
    "plt.savefig('img/titanic_roc_curve.png')\n",
    "titanic_roc_curve"
   ]
  },
  {
   "cell_type": "code",
   "execution_count": null,
   "metadata": {},
   "outputs": [],
   "source": [
    "print(\"Area under the ROC curve:\", roc_auc_score(y_train, y_scores))"
   ]
  },
  {
   "cell_type": "code",
   "execution_count": null,
   "metadata": {},
   "outputs": [],
   "source": [
    "plt.savefig('img/mnist_pr_thresh.png')\n",
    "plt.savefig('img/mnist_pr_curve.png')\n",
    "plt.savefig('img/mnist_roc_curve.png')\n",
    "\n",
    "plt.savefig('img/colic_pr_thresh.png')\n",
    "plt.savefig('img/colic_pr_curve.png')\n",
    "plt.savefig('img/colic_roc_curve.png')\n",
    "\n",
    "plt.savefig('img/titanic_pr_thresh.png')\n",
    "plt.savefig('img/titanic_pr_curve.png')\n",
    "plt.savefig('img/titanic_roc_curve.png')"
   ]
  },
  {
   "cell_type": "code",
   "execution_count": null,
   "metadata": {},
   "outputs": [],
   "source": []
  }
 ],
 "metadata": {
  "kernelspec": {
   "display_name": "Python 3",
   "language": "python",
   "name": "python3"
  },
  "language_info": {
   "codemirror_mode": {
    "name": "ipython",
    "version": 3
   },
   "file_extension": ".py",
   "mimetype": "text/x-python",
   "name": "python",
   "nbconvert_exporter": "python",
   "pygments_lexer": "ipython3",
   "version": "3.7.6"
  }
 },
 "nbformat": 4,
 "nbformat_minor": 4
}
