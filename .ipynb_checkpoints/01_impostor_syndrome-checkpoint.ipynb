{
 "cells": [
  {
   "cell_type": "markdown",
   "metadata": {},
   "source": [
    "# Entry 1 - Impostor Syndrome\n",
    "\n",
    "## The Problem\n",
    "\n",
    "I am qualified. Quantitatively, I know this is true:\n",
    "- I have a Master of Science degree in Data Science \n",
    "- I have a job on a machine learning team at a large company\n",
    "- I've worked my way through multiple courses on Coursera, Udemy, EdX, and Udacity\n",
    "- I've played with [Kaggle data](https://www.kaggle.com/datasets) and worked my way through several of their [tutorials](https://www.kaggle.com/learn/overview)\n",
    "- I've read blogs and books, listened to podcasts, worked my way through a plethora of tutorials, and read more documentation than I'd wish on my worst enemy\n",
    "\n",
    "Still, I feel like I can't convert all that knowledge to know-how - where I can actually implement solutions. I feel like [an impostor](https://towardsdatascience.com/how-to-manage-impostor-syndrome-in-data-science-ad814809f068).\n",
    "\n",
    "So the question is, **how do I improve my skills and increase confidence in my abilities?**"
   ]
  },
  {
   "cell_type": "markdown",
   "metadata": {},
   "source": [
    "## The Options\n",
    "\n",
    "A friend introduced me to [Haikyuu](https://www.crunchyroll.com/haikyu), an anime about a bunch of high school boys playing volleyball. It wasn't until I blew through the anime and was most of the way through the underlying manga that I realized that some, or even most, of the work and strategies athletes use to improve their sports skills can be adapted to improving technical skills.\n",
    "\n",
    "Having grown up playing sports, I'm no stranger to the hard work that goes into improving physical skills and mental resiliance. I'm also no stranger to the amount of money and research that goes into making athletes stronger, faster, and more psychologically prepared. So I made a list of things athletes do:\n",
    "\n",
    "- Regular daily practice, workouts, and drills\n",
    "- Reflection journals\n",
    "- Mentorship\n",
    "- Training camps\n",
    "- Cross training\n",
    "- Regular games, practice games, and tournaments\n",
    "- Opponent and personal game tapes\n",
    "- Aquisition and development of new techniques\n",
    "- Assessment of abilities and improvements\n",
    "- Goal setting - and of course when setting goals they should be [SMART](https://en.wikipedia.org/wiki/SMART_criteria) (Specific, Measurable, Attainable, Relevant, Timebound)\n",
    "\n",
    "Sounds like a lot of work. Especially with advice like [Fall in Love with Boredom](https://jamesclear.com/in-love-with-boredom) or the more reasonably named [Fall in Love with Systems](https://jamesclear.com/goals-systems), both of which offer the same advice: focus on what you're doing, not where you're going. And who isn't familiar with the [10,000 Hour Rule](https://en.wikipedia.org/wiki/Outliers_(book))?"
   ]
  },
  {
   "cell_type": "markdown",
   "metadata": {},
   "source": [
    "## The Failure\n",
    "\n",
    "I have a feeling this section will be in every one of these entries. So I guess it's fitting it starts in Entry 1. That said, there's no faster or more thorough way of learning something than by trying and failing... unless you supplement that failure with more knowledge.\n",
    "\n",
    "Anyway, I broke out the list from above into specific sections:\n",
    "\n",
    "- Drills (rote practice on one specific thing)\n",
    "- Workouts (working through a specific challenge)\n",
    "- Reflection (reflecting on what I'd worked on and what I'd learned from it)\n",
    "- Competition (participating in some kind of data challenge against other practicioners)\n",
    "- New concepts/skills (focusing on something new or something I don't fully understand)\n",
    "- Assessment of improvement/skills (quantifying my progress)\n",
    "- Review of past week (assessing my progress and reviewing my assessments)\n",
    "\n",
    "I got as far as joining the [Titanic competition](https://www.kaggle.com/c/titanic) on Kaggle. I went through the [walk through](https://www.kaggle.com/alexisbcook/titanic-tutorial) to understand how the platform worked and submitted a first model that only used one feature. That all went smoothly. If all those qualifications I listed at the beginning taught me nothing else, they taught me how to follow directions.\n",
    "\n",
    "Then I tried to improve the accuracy of the model by adding more features. Fail. The model got worse.\n",
    "\n",
    "I tried again using some suggestions from the forums. Fail. The model got even worse than the last one.\n",
    "\n",
    "Perhaps it's time to try a different track.\n",
    "\n",
    "Perhaps I know too much, am getting bogged down in the details, and need to [refocus on the fundamentals](https://jamesclear.com/fundamentals).\n",
    "\n",
    "Perhaps I should try walking before I run. Or even crawling before I walk. Or...well...I'll stop the analogy there."
   ]
  },
  {
   "cell_type": "markdown",
   "metadata": {},
   "source": [
    "## The Proposed Solution\n",
    "\n",
    "While searching for information for my job, I happened upon the [Machine Learning Mastery website](https://machinelearningmastery.com/youre-wrong-machine-learning-not-hard/) by Jason Brownlee. After reading about what I came for ([L1 and L2 norms](https://machinelearningmastery.com/vector-norms-machine-learning/)), I started exploring the site. He presents a good case for a top-down approach wherein you solve one single small problem at a time and learn as you go instead of a bottom-up approach wherein you learn all the math and all the programming and all the machine learning and all the algorithmic theory before applying it. This jived well with the other suggestions I've seen about improving skills, specifically [deliberate practice](https://jamesclear.com/deliberate-practice-theory) and [continuous improvement/marginal gains](https://jamesclear.com/continuous-improvement). I decided to combine his approach with what I've been doing.\n",
    "\n",
    "One of Jason's recommendations that resonated with me revolved around creating a write-up after every project. The goal of this diary is to take the smallest problem I can find and solve just one aspect. Once that aspect has been addressed, I can move on to the next.\n",
    "\n",
    "The first problem to solve naturally becomes **how do I pick what to work on first**?"
   ]
  },
  {
   "cell_type": "markdown",
   "metadata": {},
   "source": [
    "## Next Up\n",
    "\n",
    "Defining what to work on."
   ]
  },
  {
   "cell_type": "code",
   "execution_count": null,
   "metadata": {},
   "outputs": [],
   "source": []
  }
 ],
 "metadata": {
  "kernelspec": {
   "display_name": "Python 3",
   "language": "python",
   "name": "python3"
  },
  "language_info": {
   "codemirror_mode": {
    "name": "ipython",
    "version": 3
   },
   "file_extension": ".py",
   "mimetype": "text/x-python",
   "name": "python",
   "nbconvert_exporter": "python",
   "pygments_lexer": "ipython3",
   "version": "3.7.6"
  }
 },
 "nbformat": 4,
 "nbformat_minor": 4
}
