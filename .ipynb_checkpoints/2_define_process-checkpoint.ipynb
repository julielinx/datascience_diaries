{
 "cells": [
  {
   "cell_type": "markdown",
   "metadata": {},
   "source": [
    "# Entry 2 - Define the Process\n",
    "\n",
    "In Entry 1, I decided to take the smallest problem I could find and solve just one aspect. Only after I've solved that single problem am I allowed to move on to the next. Jason Brownlee of [Machine Learning Mastery](https://machinelearningmastery.com/start-here/) recommends small projects that take [no more than 5-15 hours](https://machinelearningmastery.com/self-study-machine-learning-projects/) from inception to presentation of the results. He also points out that with a good process in place, a specific problem can be addressed in [1-2 hours](https://machinelearningmastery.com/practice-machine-learning-with-small-in-memory-datasets-from-the-uci-machine-learning-repository/).\n",
    "\n",
    "After pouring hours at a time into self-study, debugging, research, troubleshooting, and a host of other things, 1-2 hours to solve a specific problem sounds pretty good.\n",
    "\n",
    "The first problem to solve is naturally **how do I pick what to work on first**?"
   ]
  },
  {
   "cell_type": "markdown",
   "metadata": {},
   "source": [
    "## The Problem\n",
    "\n",
    "\n",
    "There are a lot of skills involved in doing data science. To name a few:\n",
    "\n",
    "<table>\n",
    "    <tr>\n",
    "        <td><b>Mathematics</b>\n",
    "            <ul>\n",
    "                <li>Statistics</li>\n",
    "                <li>Probability</li>\n",
    "                <li>Linear Algebra</li>\n",
    "                <li>Calculus</li>\n",
    "            </ul>\n",
    "        </td>\n",
    "        <td><b>Databases</b>\n",
    "            <ul>\n",
    "                <li>Infrastructure</li>\n",
    "                <li>SQL</li>\n",
    "                <li>Entity Relationship Modeling</li>\n",
    "                <li>Normalization</li>\n",
    "            </ul>\n",
    "        </td>\n",
    "        <td><b>Technology</b>\n",
    "            <ul>\n",
    "                <li>Version Control</li>\n",
    "                <li>Virtual Environments/Containers</li>\n",
    "                <li>Command Line Interface</li>\n",
    "                <li>Repositories</li>\n",
    "            </ul>\n",
    "        </td>\n",
    "    </tr>\n",
    "    <tr>\n",
    "        <td><b>Programming</b>\n",
    "            <ul>\n",
    "                <li>Principals and theory</li>\n",
    "                <li>Specific language (Python or R)</li>\n",
    "                <li>Data structures</li>\n",
    "                <li>Algorithms</li>\n",
    "                <li>Regex</li>\n",
    "            </ul>\n",
    "        </td>\n",
    "        <td><b>Data Handling</b>\n",
    "            <ul>\n",
    "                <li>Analysis</li>\n",
    "                <li>Mining</li>\n",
    "                <li>Wrangling/Cleaning</li>\n",
    "                <li>Feature Engineering</li>\n",
    "                <li>Time Series</li>\n",
    "            </ul>\n",
    "        </td>\n",
    "        <td><b>Specialty Areas</b>\n",
    "            <ul>\n",
    "                <li>Graph</li>\n",
    "                <li>Natural Language Processing</li>\n",
    "                <li>Computer Vision</li>\n",
    "                <li>Behavior Analysis</li>\n",
    "                <li>Entity Recognition</li>\n",
    "            </ul>\n",
    "        </td>\n",
    "    </tr>\n",
    "    <tr>\n",
    "        <td><b>Storytelling</b>\n",
    "            <ul>\n",
    "                <li>Communication</li>\n",
    "                <li>Visualization</li>\n",
    "            </ul>\n",
    "        </td>\n",
    "        <td><b>Big Data</b>\n",
    "            <ul>\n",
    "                <li>Cloud Computing</li>\n",
    "                <li>Streaming vs Batch</li>\n",
    "            </ul>\n",
    "            </td>\n",
    "        <td><b>Domain Knowledge</b>\n",
    "            <ul>\n",
    "                <li>Industry Processes</li>\n",
    "                <li>Opportunities & Challenges</li>\n",
    "            </ul>\n",
    "        </td>\n",
    "    </tr>\n",
    "</table>"
   ]
  },
  {
   "cell_type": "markdown",
   "metadata": {},
   "source": [
    "Most of fundamental skills like programming and math are interrelated with higher level skills like visualization and algorithms. **How do I detangle those skills, work my way back to the beginning, and find a logical place to start?**\n",
    "\n",
    "If I start with too high a skill, like building a predictive model, I'll spend more than the recommended 5-15 hours, let alone the target goal of 1-2, working through the requirements to slap together even a basic solution. For example, when creating a model, first you have to get the data (which comes with its own set of pitfalls). Then that data has to be preprocessed:\n",
    "- What to do with missing values?\n",
    "  - Most algorithms choke if there's no value for a specific feature of a particular observation\n",
    "  - Others, like decision trees, could care less\n",
    "- What about categorical variables?\n",
    "  - Most algorithms prefer numeric values\n",
    "  - The fact that you have seven different kinds of mushroom mean nothing to them, but if you just change them into numbers the algorithm makes assumptions like button mushrooms come before shiitake just like 3 comes before 8\n",
    "- How do you figure out which of your nearly 600 features are actually useful?\n",
    "  - Plugging them all in could cause issues with [collinearity](http://www.stat.tamu.edu/~hart/652/collinear.pdf)\n",
    "  - Or your computer could chug away forever trying to make use of all 600\n",
    "- Which algorithm do you pick?\n",
    "  - Scikit-learn lists [17 different kinds of algorithms](https://scikit-learn.org/stable/supervised_learning.html), many of which have multiple implementations\n",
    "  - Algorithms can be resource prohibitive, so running every one of them under the sun is unrealistic\n",
    "- How do you measure success?"
   ]
  },
  {
   "cell_type": "markdown",
   "metadata": {},
   "source": [
    "## The Failure\n",
    "\n",
    "Obviously, I'm getting ahead of myself again. Missing values, variable types, measuring success: these are all important issues to address. They should be considered fundamentals when it comes to building a model - not the generic fundamentals of solving a machine learning problem."
   ]
  },
  {
   "cell_type": "markdown",
   "metadata": {},
   "source": [
    "## The Options\n",
    "\n",
    "Jason makes an eloquent argument for choosing or developing a [systematic process](https://machinelearningmastery.com/process-for-working-through-machine-learning-problems/). Having spent hours upon hours working through data using the copy and paste method, streamlining some of these decisions and processes sounds like a stellar idea.\n",
    "\n",
    "Having a clear process gives direction on what to do, when to do it, and what comes next. It also provides a framework for incorporating [deliberate practice](https://jamesclear.com/deliberate-practice-theory) into the pipeline; concentrating on one single aspect to improve. This will allow me to generate the [quantity](https://jamesclear.com/repetitions) of work that should produce better quality as anecdotally suggested in [Art & Fear](https://www.amazon.com/gp/product/0961454733/ref=as_li_qf_sp_asin_il_tl?ie=UTF8&camp=1789&creative=9325&creativeASIN=0961454733&linkCode=as2&tag=jamesclear-20&linkId=CYEZ57AX7IODGHWX).\n",
    "\n",
    "The suggestion was based on an experiment conducted by a photography professor at the University of Florida who varied the way one of his classes was graded. One half was graded on the quantity of photos they produced: 100 photos = A, 90 photos = B, etc. The other half was graded on quality: only one photo had to be submitted, but it had to be as close to perfect as possible. The quantity group outperformed the quality group hands down because they spent the semester trying things out and learning by doing. The quality group got so focused on what constituted a good photo that they didn't actually take many photographs. Christopher Baus would call these two groups the [doers and the talkers](https://baus.net/doersandtalkers/).\n",
    "\n",
    "I've spent quite enough time in the talker/theory group. Time to become a doer."
   ]
  },
  {
   "cell_type": "markdown",
   "metadata": {},
   "source": [
    "## The Proposed Solution\n",
    "\n",
    "Jason recommends a [5 step process](https://machinelearningmastery.com/process-for-working-through-machine-learning-problems/) on his Machine Learning Mastery website. This doesn't seem quite detailed enough for me.\n",
    "\n",
    "At [ODSC](https://odsc.com/) (Open Data Science Conference) East 2019, Andreas Muller did a [four part series](https://github.com/amueller/ml-workshop-1-of-4) on Machine Learning with Scikit Learn. In his introduction, he recommended checking out<img src=\"img/ds_books_sm.jpg\" width=400 align='right' style=\"margin:6px 6px\"> [Hands on Machine Learning with Scikit-Learn & TensorFlow](https://www.amazon.com/Hands-Machine-Learning-Scikit-Learn-TensorFlow/dp/1491962291) by Aurelien Geron. I own the book (yes the first edition, because that's the one I bought during my graduate studies and I own quite enough data science books already thank you very much) and this remembered recommendation prompted me to see what Aurelien had to say.\n",
    "\n",
    "Chapter Two outlines an 8 step process, which better aligns with my experience of what's needed for a machine learning solution.\n",
    "\n",
    "The 8 steps are:\n",
    "\n",
    "1. Frame the problem and look at the big picture\n",
    "2. Get the data\n",
    "3. Explore the data to gain insights\n",
    "4. Prepare the data to better expose the underlying data patterns to Machine Learning algorithms\n",
    "5. Explore many different models and short-list the best ones\n",
    "6. Fine-tune the models and combine them into a great solution\n",
    "7. Present the solution\n",
    "8. Launch, monitor, and maintain the system"
   ]
  },
  {
   "cell_type": "markdown",
   "metadata": {},
   "source": [
    "### Added bonus\n",
    "\n",
    "The added bonus of using these steps is that each one helps pick the next mini-challenge to tackle."
   ]
  },
  {
   "cell_type": "markdown",
   "metadata": {},
   "source": [
    "## Next up\n",
    "\n",
    "Frame the Problem."
   ]
  }
 ],
 "metadata": {
  "kernelspec": {
   "display_name": "Python 3",
   "language": "python",
   "name": "python3"
  },
  "language_info": {
   "codemirror_mode": {
    "name": "ipython",
    "version": 3
   },
   "file_extension": ".py",
   "mimetype": "text/x-python",
   "name": "python",
   "nbconvert_exporter": "python",
   "pygments_lexer": "ipython3",
   "version": "3.7.1"
  }
 },
 "nbformat": 4,
 "nbformat_minor": 4
}
