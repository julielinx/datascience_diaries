{
 "cells": [
  {
   "cell_type": "markdown",
   "metadata": {},
   "source": [
    "# Entry 43 - NODES2020 Graph Visualization Talk"
   ]
  },
  {
   "cell_type": "markdown",
   "metadata": {},
   "source": [
    "This is completely off topic for the machine learning algorithms series I've been working through, but it took up a lot of my time the last couple of weeks, so we get a post on it.\n",
    "\n",
    "My proposed talk on graph visualization was accepted to the [Neo4j Online Developer Expo and Summit (NODES) 2020 conference](https://neo4j.com/nodes-2020/). [Neo4j](https://neo4j.com/) is one of the main providers for graph databases and this is an exciting opportunity.\n",
    "\n",
    "Perhaps even more exciting than getting accepted (this was my 3rd attempt to be a speaker at a conference), I'm also listed as a feature speaker!\n",
    "\n",
    "![NODES2020 Feature Speakers](https://julielinx.github.io/assets/images/43_featured_speakers.png)\n",
    "\n",
    "If you're interested in how things like Facebook or LinkedIn social networks are connected, the NODES 2020 conference would be a good one to attend. It's a free, one day, online conference on October 20, 2020.\n",
    "\n",
    "The slide deck and a text version of my talk can be found in the [NODES2020](https://github.com/julielinx/conferences/tree/master/NODES2020) conference repo on my GitHub page. The only drawback is that, because the talk is on visualizations, there are so many pictures in the deck that it won't display on GitHub, you'll have to download the repo to view it.\n",
    "\n",
    "If you're reading this after October 20, 2020 and missed the conference, don't worry, Neo4j posts a lot of video content on their [youtube](https://www.youtube.com/c/neo4j/videos) page. Also, once the machine learning series of posts is complete, I'll move into topics on graph/network theory and how to use it with machine learning.\n",
    "\n",
    "## Up Next\n",
    "\n",
    "Decision Trees\n",
    "\n",
    "## Resources\n",
    "\n",
    "- [Neo4j Online Developer Expo and Summit (NODES) 2020 conference](https://neo4j.com/nodes-2020/)\n",
    "- [Neo4j](https://neo4j.com/)\n",
    "- [Neo4j's youtube page](https://www.youtube.com/c/neo4j/videos)\n",
    "- [julielinx's NODES2020 repo](https://github.com/julielinx/conferences/tree/master/NODES2020)"
   ]
  }
 ],
 "metadata": {
  "kernelspec": {
   "display_name": "Python 3",
   "language": "python",
   "name": "python3"
  },
  "language_info": {
   "codemirror_mode": {
    "name": "ipython",
    "version": 3
   },
   "file_extension": ".py",
   "mimetype": "text/x-python",
   "name": "python",
   "nbconvert_exporter": "python",
   "pygments_lexer": "ipython3",
   "version": "3.7.7"
  }
 },
 "nbformat": 4,
 "nbformat_minor": 4
}
